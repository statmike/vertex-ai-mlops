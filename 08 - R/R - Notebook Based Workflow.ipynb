{
 "cells": [
  {
   "cell_type": "markdown",
   "id": "4a66e9d2",
   "metadata": {},
   "source": [
    "![tracker](https://us-central1-vertex-ai-mlops-369716.cloudfunctions.net/pixel-tracking?path=statmike%2Fvertex-ai-mlops%2F08+-+R&file=R+-+Notebook+Based+Workflow.ipynb)\n",
    "<!--- header table --->\n",
    "<table align=\"left\">\n",
    "  <td style=\"text-align: center\">\n",
    "    <a href=\"https://colab.research.google.com/github/statmike/vertex-ai-mlops/blob/main/08%20-%20R/R%20-%20Notebook%20Based%20Workflow.ipynb\">\n",
    "      <img src=\"https://cloud.google.com/ml-engine/images/colab-logo-32px.png\" alt=\"Google Colaboratory logo\">\n",
    "      <br>Run in<br>Colab\n",
    "    </a>\n",
    "  </td>\n",
    "  <td style=\"text-align: center\">\n",
    "    <a href=\"https://console.cloud.google.com/vertex-ai/colab/import/https%3A%2F%2Fraw.githubusercontent.com%2Fstatmike%2Fvertex-ai-mlops%2Fmain%2F08%2520-%2520R%2FR%2520-%2520Notebook%2520Based%2520Workflow.ipynb\">\n",
    "      <img width=\"32px\" src=\"https://lh3.googleusercontent.com/JmcxdQi-qOpctIvWKgPtrzZdJJK-J3sWE1RsfjZNwshCFgE_9fULcNpuXYTilIR2hjwN\" alt=\"Google Cloud Colab Enterprise logo\">\n",
    "      <br>Run in<br>Colab Enterprise\n",
    "    </a>\n",
    "  </td>      \n",
    "  <td style=\"text-align: center\">\n",
    "    <a href=\"https://github.com/statmike/vertex-ai-mlops/blob/main/08%20-%20R/R%20-%20Notebook%20Based%20Workflow.ipynb\">\n",
    "      <img src=\"https://cloud.google.com/ml-engine/images/github-logo-32px.png\" alt=\"GitHub logo\">\n",
    "      <br>View on<br>GitHub\n",
    "    </a>\n",
    "  </td>\n",
    "  <td style=\"text-align: center\">\n",
    "    <a href=\"https://console.cloud.google.com/vertex-ai/workbench/deploy-notebook?download_url=https://raw.githubusercontent.com/statmike/vertex-ai-mlops/main/08%20-%20R/R%20-%20Notebook%20Based%20Workflow.ipynb\">\n",
    "      <img src=\"https://lh3.googleusercontent.com/UiNooY4LUgW_oTvpsNhPpQzsstV5W8F7rYgxgGBD85cWJoLmrOzhVs_ksK_vgx40SHs7jCqkTkCk=e14-rj-sc0xffffff-h130-w32\" alt=\"Vertex AI logo\">\n",
    "      <br>Open in<br>Vertex AI Workbench\n",
    "    </a>\n",
    "  </td>\n",
    "</table>"
   ]
  },
  {
   "cell_type": "markdown",
   "id": "bb4383cb-eda8-4033-9282-fefdda4390e1",
   "metadata": {},
   "source": [
    "# R - Notebook Based Workflow\n",
    "\n",
    "---\n",
    "Part of the series of [**R**](https://github.com/statmike/vertex-ai-mlops/blob/main/08%20-%20R/readme.md) workflows:\n",
    "\n",
    "A series of workflows focused on using **R** in Vertex AI as well as other Google Cloud services to run R code, train models with R, and serve predictionns with R.\n",
    "\n",
    "---\n",
    "\n",
    "**The Data**\n",
    "\n",
    "The source data is first exported to Google Cloud Storage in CSV format below.  The BigQuery source table is `bigquery-public-data.ml_datasets.ulb_fraud_detection`.  This is a table of credit card transactions that are classified as fradulant, `Class = 1`, or normal `Class = 0`.    \n",
    "- The data can be researched further at this [Kaggle link](https://www.kaggle.com/mlg-ulb/creditcardfraud).\n",
    "- Read mode about BigQuery public datasets [here](https://cloud.google.com/bigquery/public-data)\n",
    "\n",
    "**Description of the Data**\n",
    "\n",
    "This is a table of 284,807 credit card transactions classified as fradulant or normal in the column `Class`.  In order protect confidentiality, the original features have been transformed using [principle component analysis (PCA)](https://en.wikipedia.org/wiki/Principal_component_analysis) into 28 features named `V1, V2, ... V28` (float).  Two descriptive features are provided without transformation by PCA:\n",
    "- `Time` (integer) is the seconds elapsed between the transaction and the earliest transaction in the table\n",
    "- `Amount` (float) is the value of the transaction\n",
    ">**Quick Note on PCA**<p>PCA is an unsupervised learning technique: there is not a target variable.  PCA is commonly used as a variable/feature reduction technique.  If you have 100 features then you could reduce it to a number p (say 10) projected features.  The choice of this number is a balance of how well it can explain the variance of the full feature space and reducing the number of features.  Each projected feature is orthogonal to each other feature, meaning there is no correlation between these new projected features.</p>\n",
    "\n",
    "**Preparation of the Data**\n",
    "\n",
    "This notebook adds two columns to the source data and stores it in a new table with suffix `_prepped`.  \n",
    "- `transaction_id` (string) a unique id for the row/transaction\n",
    "- `splits` (string) this divided the tranactions into sets for `TRAIN` (80%), `VALIDATE` (10%), and `TEST` (10%)\n",
    "\n",
    "---\n",
    "\n",
    "**Prerequisites:**\n",
    "\n",
    "- This notebook running in Vertex AI Workbench Instance as described in the series [readme](./readme.md)"
   ]
  },
  {
   "cell_type": "markdown",
   "id": "d21f6834-cd6a-4e76-b268-f537188d9de9",
   "metadata": {},
   "source": [
    "---\n",
    "## Setup"
   ]
  },
  {
   "cell_type": "markdown",
   "id": "890fd77f-6978-43cd-a99e-c2850ecf0950",
   "metadata": {},
   "source": [
    "inputs:"
   ]
  },
  {
   "cell_type": "code",
   "execution_count": 1,
   "id": "597e2777-1206-411b-9722-2a205e625d4d",
   "metadata": {
    "tags": []
   },
   "outputs": [
    {
     "data": {
      "text/html": [
       "'statmike-mlops-349915'"
      ],
      "text/latex": [
       "'statmike-mlops-349915'"
      ],
      "text/markdown": [
       "'statmike-mlops-349915'"
      ],
      "text/plain": [
       "[1] \"statmike-mlops-349915\""
      ]
     },
     "metadata": {},
     "output_type": "display_data"
    }
   ],
   "source": [
    "project_id <- system('gcloud config get-value project', intern = TRUE)\n",
    "project_id"
   ]
  },
  {
   "cell_type": "code",
   "execution_count": 2,
   "id": "d1d33a6c-a6e2-4e30-8b40-adb75c2ec1df",
   "metadata": {
    "tags": []
   },
   "outputs": [],
   "source": [
    "region <- 'us-central1'\n",
    "experiment <- 'bigquery-data'\n",
    "series <- 'r'\n",
    "\n",
    "# BigQuery Parameters\n",
    "bq_project <- project_id\n",
    "bq_dataset <- series\n",
    "bq_table <- experiment\n",
    "bq_region <- substr(region, 1, 2)\n",
    "bq_source <- 'bigquery-public-data.ml_datasets.ulb_fraud_detection'\n",
    "\n",
    "# GCS Parameters: Give bucket name\n",
    "gcs_bucket <- project_id\n",
    "\n",
    "# key columns in the data:\n",
    "var_target <- 'Class'\n",
    "var_omit <- list('transaction_id', 'splits')"
   ]
  },
  {
   "cell_type": "markdown",
   "id": "5ad1e2da-eeff-4e36-a4ec-baae983b401a",
   "metadata": {},
   "source": [
    "packages:"
   ]
  },
  {
   "cell_type": "code",
   "execution_count": 3,
   "id": "a71aa75a-2188-40a6-9663-75f142f4ee83",
   "metadata": {
    "tags": []
   },
   "outputs": [
    {
     "name": "stderr",
     "output_type": "stream",
     "text": [
      "\n",
      "Attaching package: ‘dplyr’\n",
      "\n",
      "\n",
      "The following objects are masked from ‘package:stats’:\n",
      "\n",
      "    filter, lag\n",
      "\n",
      "\n",
      "The following objects are masked from ‘package:base’:\n",
      "\n",
      "    intersect, setdiff, setequal, union\n",
      "\n",
      "\n"
     ]
    }
   ],
   "source": [
    "library(bigrquery)\n",
    "library(dplyr)"
   ]
  },
  {
   "cell_type": "markdown",
   "id": "04a55fe2-0357-433d-a056-abef59ddc275",
   "metadata": {},
   "source": [
    "---\n",
    "## Prepare Data For Models\n",
    "\n",
    "While **R** is an excellent tool for preparing data for machine learning it can make serving the resulting models challenging if the same processing needs to occur on future data.  This section shows how to use **R** to orchestrate some preliminary data preparation steps in BigQuery and then load the results into **R** using one of the method presented in the comprehensive workflow: [R - Working With BigQuery](./R%20-%20Working%20With%20BigQuery.ipynb)."
   ]
  },
  {
   "cell_type": "markdown",
   "id": "5414f11a-d6e0-46ad-b256-864bab021926",
   "metadata": {},
   "source": [
    "### BigQuery Dataset\n",
    "\n",
    "In BigQuery, tables are arranged in groups called datasets that are resources within Google Cloud projects.  This three level organization make it easy to refer to data table (or views).  \n",
    "\n",
    "Create a dataset within the current project to hold a prepared version of the data.  Start by checking to see if it already exists.\n",
    "\n",
    "- Reference: [BigQuery datasets with R/bq-datasets.R](https://bigrquery.r-dbi.org/reference/api-dataset.html)"
   ]
  },
  {
   "cell_type": "markdown",
   "id": "8feb943e-b991-48b2-b205-170915ee9097",
   "metadata": {
    "tags": []
   },
   "source": [
    "Create BigQuery dataset object:"
   ]
  },
  {
   "cell_type": "code",
   "execution_count": 4,
   "id": "9a736bcb-4d44-4caa-95bc-32afe2a985ec",
   "metadata": {
    "tags": []
   },
   "outputs": [],
   "source": [
    "bq_ds <- bq_dataset(bq_project, bq_dataset)"
   ]
  },
  {
   "cell_type": "markdown",
   "id": "7d89763a-8745-4c7b-ad40-543a6a1a6968",
   "metadata": {},
   "source": [
    "Check for existance of the dataset, create if needed:"
   ]
  },
  {
   "cell_type": "code",
   "execution_count": 5,
   "id": "d69e1340-4325-464c-9e4e-4da3632c1085",
   "metadata": {
    "tags": []
   },
   "outputs": [
    {
     "name": "stdout",
     "output_type": "stream",
     "text": [
      "[1] \"Dataset already exists\"\n"
     ]
    }
   ],
   "source": [
    "if (bq_dataset_exists(bq_ds)) {\n",
    "    print('Dataset already exists')\n",
    "} else {\n",
    "    print('Creating dataset')\n",
    "    bq_dataset_create(bq_ds, location = bq_region)\n",
    "}"
   ]
  },
  {
   "cell_type": "markdown",
   "id": "85088f57-87bf-4d7e-86e6-9f49ce6f68d1",
   "metadata": {},
   "source": [
    "### Create Table\n",
    "\n",
    "Create a copy of the source table in the new dataset and add row leve id's (`transacation_id`) and assign splits for Train/Test (`splits`)."
   ]
  },
  {
   "cell_type": "markdown",
   "id": "f960c9fa-1197-47ff-bfa2-9cac81d58855",
   "metadata": {},
   "source": [
    "Define the query that creates the table:"
   ]
  },
  {
   "cell_type": "code",
   "execution_count": 6,
   "id": "4cc4bf55-6ac3-4148-979f-881022df0c02",
   "metadata": {
    "tags": []
   },
   "outputs": [
    {
     "name": "stdout",
     "output_type": "stream",
     "text": [
      "\n",
      "CREATE TABLE IF NOT EXISTS `statmike-mlops-349915.r.bigquery-data` AS\n",
      "WITH add_id AS(SELECT *, GENERATE_UUID() transaction_id FROM `bigquery-public-data.ml_datasets.ulb_fraud_detection`)\n",
      "SELECT *,\n",
      "    CASE \n",
      "        WHEN MOD(ABS(FARM_FINGERPRINT(transaction_id)),10) < 8 THEN \"TRAIN\" \n",
      "        WHEN MOD(ABS(FARM_FINGERPRINT(transaction_id)),10) < 9 THEN \"VALIDATE\"\n",
      "        ELSE \"TEST\"\n",
      "    END AS splits\n",
      "FROM add_id\n"
     ]
    }
   ],
   "source": [
    "query <- sprintf('\n",
    "CREATE TABLE IF NOT EXISTS `%s.%s.%s` AS\n",
    "WITH add_id AS(SELECT *, GENERATE_UUID() transaction_id FROM `%s`)\n",
    "SELECT *,\n",
    "    CASE \n",
    "        WHEN MOD(ABS(FARM_FINGERPRINT(transaction_id)),10) < 8 THEN \"TRAIN\" \n",
    "        WHEN MOD(ABS(FARM_FINGERPRINT(transaction_id)),10) < 9 THEN \"VALIDATE\"\n",
    "        ELSE \"TEST\"\n",
    "    END AS splits\n",
    "FROM add_id\n",
    "', bq_project, bq_dataset, bq_table, bq_source)\n",
    "cat(query)"
   ]
  },
  {
   "cell_type": "markdown",
   "id": "827c2b1d-c6f8-44c1-8363-1da61dbdd795",
   "metadata": {},
   "source": [
    "Run the query using `bigrquery`:"
   ]
  },
  {
   "cell_type": "code",
   "execution_count": 7,
   "id": "f150b3fd-75fa-44fd-a38c-42aadf252085",
   "metadata": {
    "tags": []
   },
   "outputs": [],
   "source": [
    "create <- bq_perform_query(query, billing = bq_project)"
   ]
  },
  {
   "cell_type": "markdown",
   "id": "43d69c4f-bc0b-479b-92ed-01b33494fda8",
   "metadata": {},
   "source": [
    "Wait on the create job to complete:"
   ]
  },
  {
   "cell_type": "code",
   "execution_count": 8,
   "id": "19a26a94-d8fe-41b3-80c2-3154d23735c9",
   "metadata": {
    "tags": []
   },
   "outputs": [],
   "source": [
    "bq_job_wait(create)"
   ]
  },
  {
   "cell_type": "markdown",
   "id": "4bdb6dea-e26f-4c9d-8c5c-c2d9d1f4eff7",
   "metadata": {},
   "source": [
    "### Retrieve Table\n",
    "\n",
    "Using the `bigrquery` method, retrieve the full table to a dataframe.\n",
    "\n",
    "For comprehensive review of this method and others, check out this workflow: [R - Working With BigQuery](./R%20-%20Working%20With%20BigQuery.ipynb)."
   ]
  },
  {
   "cell_type": "markdown",
   "id": "3ebdeee3-5b7f-42a7-87ea-edaed583d825",
   "metadata": {},
   "source": [
    "Define the query that reads the table.  Take advantage of BigQuery columnar data by excluding columns that are not needed while also using a `WHERE` statment to filter to rows allocated for model training.  In the inputs above a list of these was created named `var_omit`."
   ]
  },
  {
   "cell_type": "code",
   "execution_count": 9,
   "id": "5568e2d3-0ba4-401f-b8df-535b936750b4",
   "metadata": {
    "tags": []
   },
   "outputs": [],
   "source": [
    "get_data <- function(s){\n",
    "    \n",
    "    # query for table\n",
    "    query <- sprintf('\n",
    "        SELECT * EXCEPT(%s)\n",
    "        FROM `%s.%s.%s`\n",
    "        WHERE splits = \"%s\"\n",
    "    ', paste(unlist(var_omit), collapse = ','),\n",
    "    bq_project, bq_dataset, bq_table, s)\n",
    "    \n",
    "    # connect to table\n",
    "    table <- bq_project_query(bq_project, query)\n",
    "    \n",
    "    # load table to dataframe\n",
    "    return(bq_table_download(table, n_max = Inf))\n",
    "\n",
    "}"
   ]
  },
  {
   "cell_type": "markdown",
   "id": "ea0c8d2e-faa4-468e-8949-12ae83fb8aba",
   "metadata": {},
   "source": [
    "Retrieve Training and Test dataframes:"
   ]
  },
  {
   "cell_type": "code",
   "execution_count": 10,
   "id": "95af565a-caf3-45a6-82d9-1b1e6fff42f4",
   "metadata": {
    "tags": []
   },
   "outputs": [],
   "source": [
    "train <- get_data(\"TRAIN\")\n",
    "test <- get_data(\"TEST\")"
   ]
  },
  {
   "cell_type": "markdown",
   "id": "e2f78988-ed52-42f7-aae4-f60dc29ccc3d",
   "metadata": {},
   "source": [
    "Review the size and preview the records:"
   ]
  },
  {
   "cell_type": "code",
   "execution_count": 11,
   "id": "7567d99b-a7a8-4b72-88dd-481a7986e1c6",
   "metadata": {
    "tags": []
   },
   "outputs": [
    {
     "data": {
      "text/html": [
       "<style>\n",
       ".list-inline {list-style: none; margin:0; padding: 0}\n",
       ".list-inline>li {display: inline-block}\n",
       ".list-inline>li:not(:last-child)::after {content: \"\\00b7\"; padding: 0 .5ex}\n",
       "</style>\n",
       "<ol class=list-inline><li>227879</li><li>31</li></ol>\n"
      ],
      "text/latex": [
       "\\begin{enumerate*}\n",
       "\\item 227879\n",
       "\\item 31\n",
       "\\end{enumerate*}\n"
      ],
      "text/markdown": [
       "1. 227879\n",
       "2. 31\n",
       "\n",
       "\n"
      ],
      "text/plain": [
       "[1] 227879     31"
      ]
     },
     "metadata": {},
     "output_type": "display_data"
    }
   ],
   "source": [
    "dim(train)"
   ]
  },
  {
   "cell_type": "code",
   "execution_count": 12,
   "id": "0999c3ed-ae2c-48a7-b41e-3b3f8fd8ac9b",
   "metadata": {
    "tags": []
   },
   "outputs": [
    {
     "data": {
      "text/html": [
       "<table class=\"dataframe\">\n",
       "<caption>A tibble: 2 × 31</caption>\n",
       "<thead>\n",
       "\t<tr><th scope=col>Time</th><th scope=col>V1</th><th scope=col>V2</th><th scope=col>V3</th><th scope=col>V4</th><th scope=col>V5</th><th scope=col>V6</th><th scope=col>V7</th><th scope=col>V8</th><th scope=col>V9</th><th scope=col>⋯</th><th scope=col>V21</th><th scope=col>V22</th><th scope=col>V23</th><th scope=col>V24</th><th scope=col>V25</th><th scope=col>V26</th><th scope=col>V27</th><th scope=col>V28</th><th scope=col>Amount</th><th scope=col>Class</th></tr>\n",
       "\t<tr><th scope=col>&lt;dbl&gt;</th><th scope=col>&lt;dbl&gt;</th><th scope=col>&lt;dbl&gt;</th><th scope=col>&lt;dbl&gt;</th><th scope=col>&lt;dbl&gt;</th><th scope=col>&lt;dbl&gt;</th><th scope=col>&lt;dbl&gt;</th><th scope=col>&lt;dbl&gt;</th><th scope=col>&lt;dbl&gt;</th><th scope=col>&lt;dbl&gt;</th><th scope=col>⋯</th><th scope=col>&lt;dbl&gt;</th><th scope=col>&lt;dbl&gt;</th><th scope=col>&lt;dbl&gt;</th><th scope=col>&lt;dbl&gt;</th><th scope=col>&lt;dbl&gt;</th><th scope=col>&lt;dbl&gt;</th><th scope=col>&lt;dbl&gt;</th><th scope=col>&lt;dbl&gt;</th><th scope=col>&lt;dbl&gt;</th><th scope=col>&lt;int&gt;</th></tr>\n",
       "</thead>\n",
       "<tbody>\n",
       "\t<tr><td> 5043</td><td>-0.6103529</td><td> 0.8762678</td><td>3.134572</td><td> 2.26016851</td><td> 0.001184993</td><td>0.2684391</td><td> 0.1270940</td><td>-0.008680134</td><td>0.9528023</td><td>⋯</td><td>-0.2022804</td><td>-0.1228932</td><td>-0.1831320</td><td> 0.2959793</td><td>-0.15998880</td><td>-0.1301962</td><td>-0.076139183</td><td>-0.109075941</td><td>0</td><td>0</td></tr>\n",
       "\t<tr><td>43968</td><td> 1.1032424</td><td>-0.4789847</td><td>1.136295</td><td>-0.05461861</td><td>-0.823168828</td><td>0.7920736</td><td>-0.9883738</td><td> 0.492957197</td><td>0.8836801</td><td>⋯</td><td>-0.0200895</td><td> 0.1700578</td><td> 0.1209046</td><td>-0.2092878</td><td>-0.07528029</td><td> 1.0339329</td><td>-0.005642291</td><td>-0.002844234</td><td>0</td><td>0</td></tr>\n",
       "</tbody>\n",
       "</table>\n"
      ],
      "text/latex": [
       "A tibble: 2 × 31\n",
       "\\begin{tabular}{lllllllllllllllllllll}\n",
       " Time & V1 & V2 & V3 & V4 & V5 & V6 & V7 & V8 & V9 & ⋯ & V21 & V22 & V23 & V24 & V25 & V26 & V27 & V28 & Amount & Class\\\\\n",
       " <dbl> & <dbl> & <dbl> & <dbl> & <dbl> & <dbl> & <dbl> & <dbl> & <dbl> & <dbl> & ⋯ & <dbl> & <dbl> & <dbl> & <dbl> & <dbl> & <dbl> & <dbl> & <dbl> & <dbl> & <int>\\\\\n",
       "\\hline\n",
       "\t  5043 & -0.6103529 &  0.8762678 & 3.134572 &  2.26016851 &  0.001184993 & 0.2684391 &  0.1270940 & -0.008680134 & 0.9528023 & ⋯ & -0.2022804 & -0.1228932 & -0.1831320 &  0.2959793 & -0.15998880 & -0.1301962 & -0.076139183 & -0.109075941 & 0 & 0\\\\\n",
       "\t 43968 &  1.1032424 & -0.4789847 & 1.136295 & -0.05461861 & -0.823168828 & 0.7920736 & -0.9883738 &  0.492957197 & 0.8836801 & ⋯ & -0.0200895 &  0.1700578 &  0.1209046 & -0.2092878 & -0.07528029 &  1.0339329 & -0.005642291 & -0.002844234 & 0 & 0\\\\\n",
       "\\end{tabular}\n"
      ],
      "text/markdown": [
       "\n",
       "A tibble: 2 × 31\n",
       "\n",
       "| Time &lt;dbl&gt; | V1 &lt;dbl&gt; | V2 &lt;dbl&gt; | V3 &lt;dbl&gt; | V4 &lt;dbl&gt; | V5 &lt;dbl&gt; | V6 &lt;dbl&gt; | V7 &lt;dbl&gt; | V8 &lt;dbl&gt; | V9 &lt;dbl&gt; | ⋯ ⋯ | V21 &lt;dbl&gt; | V22 &lt;dbl&gt; | V23 &lt;dbl&gt; | V24 &lt;dbl&gt; | V25 &lt;dbl&gt; | V26 &lt;dbl&gt; | V27 &lt;dbl&gt; | V28 &lt;dbl&gt; | Amount &lt;dbl&gt; | Class &lt;int&gt; |\n",
       "|---|---|---|---|---|---|---|---|---|---|---|---|---|---|---|---|---|---|---|---|---|\n",
       "|  5043 | -0.6103529 |  0.8762678 | 3.134572 |  2.26016851 |  0.001184993 | 0.2684391 |  0.1270940 | -0.008680134 | 0.9528023 | ⋯ | -0.2022804 | -0.1228932 | -0.1831320 |  0.2959793 | -0.15998880 | -0.1301962 | -0.076139183 | -0.109075941 | 0 | 0 |\n",
       "| 43968 |  1.1032424 | -0.4789847 | 1.136295 | -0.05461861 | -0.823168828 | 0.7920736 | -0.9883738 |  0.492957197 | 0.8836801 | ⋯ | -0.0200895 |  0.1700578 |  0.1209046 | -0.2092878 | -0.07528029 |  1.0339329 | -0.005642291 | -0.002844234 | 0 | 0 |\n",
       "\n"
      ],
      "text/plain": [
       "  Time  V1         V2         V3       V4          V5           V6       \n",
       "1  5043 -0.6103529  0.8762678 3.134572  2.26016851  0.001184993 0.2684391\n",
       "2 43968  1.1032424 -0.4789847 1.136295 -0.05461861 -0.823168828 0.7920736\n",
       "  V7         V8           V9        ⋯ V21        V22        V23       \n",
       "1  0.1270940 -0.008680134 0.9528023 ⋯ -0.2022804 -0.1228932 -0.1831320\n",
       "2 -0.9883738  0.492957197 0.8836801 ⋯ -0.0200895  0.1700578  0.1209046\n",
       "  V24        V25         V26        V27          V28          Amount Class\n",
       "1  0.2959793 -0.15998880 -0.1301962 -0.076139183 -0.109075941 0      0    \n",
       "2 -0.2092878 -0.07528029  1.0339329 -0.005642291 -0.002844234 0      0    "
      ]
     },
     "metadata": {},
     "output_type": "display_data"
    }
   ],
   "source": [
    "head(train, 2)"
   ]
  },
  {
   "cell_type": "markdown",
   "id": "26a197f1-0351-4c1b-beb1-f5aff7b57301",
   "metadata": {},
   "source": [
    "---\n",
    "## Train Model\n",
    "\n",
    "Using `glm` to fit logistic regression:"
   ]
  },
  {
   "cell_type": "code",
   "execution_count": 13,
   "id": "8240355b-5897-48a9-9c76-d9ceb7b11b7d",
   "metadata": {
    "tags": []
   },
   "outputs": [],
   "source": [
    "model_exp = paste0(var_target, \"~ .\")\n",
    "\n",
    "model <- glm(\n",
    "    as.formula(model_exp),\n",
    "    data = train,\n",
    "    family = binomial)"
   ]
  },
  {
   "cell_type": "code",
   "execution_count": 14,
   "id": "1d55fa45-3150-4832-b558-50fc423e1a28",
   "metadata": {
    "tags": []
   },
   "outputs": [
    {
     "data": {
      "text/plain": [
       "\n",
       "Call:\n",
       "glm(formula = as.formula(model_exp), family = binomial, data = train)\n",
       "\n",
       "Coefficients:\n",
       "              Estimate Std. Error z value Pr(>|z|)    \n",
       "(Intercept) -8.543e+00  2.933e-01 -29.132  < 2e-16 ***\n",
       "Time        -2.796e-06  2.614e-06  -1.070  0.28478    \n",
       "V1           1.000e-01  5.001e-02   1.999  0.04557 *  \n",
       "V2          -2.005e-02  7.018e-02  -0.286  0.77514    \n",
       "V3           5.399e-03  6.235e-02   0.087  0.93100    \n",
       "V4           7.051e-01  8.678e-02   8.126 4.45e-16 ***\n",
       "V5           1.041e-01  7.837e-02   1.328  0.18421    \n",
       "V6          -6.528e-02  8.379e-02  -0.779  0.43595    \n",
       "V7          -1.045e-01  8.266e-02  -1.265  0.20601    \n",
       "V8          -1.593e-01  3.577e-02  -4.452 8.50e-06 ***\n",
       "V9          -2.970e-01  1.302e-01  -2.281  0.02256 *  \n",
       "V10         -7.969e-01  1.153e-01  -6.913 4.75e-12 ***\n",
       "V11         -2.946e-02  9.560e-02  -0.308  0.75795    \n",
       "V12          1.385e-01  1.059e-01   1.308  0.19077    \n",
       "V13         -4.065e-01  9.692e-02  -4.194 2.74e-05 ***\n",
       "V14         -6.051e-01  7.535e-02  -8.030 9.76e-16 ***\n",
       "V15         -5.085e-02  1.012e-01  -0.502  0.61534    \n",
       "V16         -2.653e-01  1.382e-01  -1.920  0.05491 .  \n",
       "V17         -6.854e-02  8.369e-02  -0.819  0.41279    \n",
       "V18          6.803e-02  1.453e-01   0.468  0.63961    \n",
       "V19          7.129e-02  1.112e-01   0.641  0.52136    \n",
       "V20         -4.185e-01  1.021e-01  -4.100 4.14e-05 ***\n",
       "V21          3.591e-01  6.915e-02   5.193 2.07e-07 ***\n",
       "V22          5.113e-01  1.541e-01   3.317  0.00091 ***\n",
       "V23         -3.796e-02  7.067e-02  -0.537  0.59114    \n",
       "V24          1.967e-01  1.730e-01   1.137  0.25554    \n",
       "V25         -1.275e-01  1.551e-01  -0.822  0.41108    \n",
       "V26          1.089e-01  2.197e-01   0.496  0.62010    \n",
       "V27         -7.261e-01  1.581e-01  -4.592 4.40e-06 ***\n",
       "V28         -2.626e-01  1.012e-01  -2.594  0.00949 ** \n",
       "Amount       7.293e-04  4.905e-04   1.487  0.13701    \n",
       "---\n",
       "Signif. codes:  0 ‘***’ 0.001 ‘**’ 0.01 ‘*’ 0.05 ‘.’ 0.1 ‘ ’ 1\n",
       "\n",
       "(Dispersion parameter for binomial family taken to be 1)\n",
       "\n",
       "    Null deviance: 5811.9  on 227878  degrees of freedom\n",
       "Residual deviance: 1659.9  on 227848  degrees of freedom\n",
       "AIC: 1721.9\n",
       "\n",
       "Number of Fisher Scoring iterations: 12\n"
      ]
     },
     "metadata": {},
     "output_type": "display_data"
    }
   ],
   "source": [
    "summary(model)"
   ]
  },
  {
   "cell_type": "markdown",
   "id": "f920568e-ac9a-4d01-89f2-956af2d3303e",
   "metadata": {},
   "source": [
    "---\n",
    "## Evaluate Model\n",
    "\n",
    "Use the test data to evaluate the model:"
   ]
  },
  {
   "cell_type": "code",
   "execution_count": 15,
   "id": "a9465caa-7bfe-415c-bdc4-c02c7d5bfc6f",
   "metadata": {
    "tags": []
   },
   "outputs": [
    {
     "data": {
      "text/html": [
       "<style>\n",
       ".list-inline {list-style: none; margin:0; padding: 0}\n",
       ".list-inline>li {display: inline-block}\n",
       ".list-inline>li:not(:last-child)::after {content: \"\\00b7\"; padding: 0 .5ex}\n",
       "</style>\n",
       "<ol class=list-inline><li>28493</li><li>31</li></ol>\n"
      ],
      "text/latex": [
       "\\begin{enumerate*}\n",
       "\\item 28493\n",
       "\\item 31\n",
       "\\end{enumerate*}\n"
      ],
      "text/markdown": [
       "1. 28493\n",
       "2. 31\n",
       "\n",
       "\n"
      ],
      "text/plain": [
       "[1] 28493    31"
      ]
     },
     "metadata": {},
     "output_type": "display_data"
    }
   ],
   "source": [
    "dim(test)"
   ]
  },
  {
   "cell_type": "markdown",
   "id": "46140672-e2fb-4e94-8a28-4f50d578ac75",
   "metadata": {},
   "source": [
    "### Get predictions"
   ]
  },
  {
   "cell_type": "code",
   "execution_count": 16,
   "id": "8be3c9d1-7915-48e5-83a6-1042b84486bd",
   "metadata": {
    "tags": []
   },
   "outputs": [],
   "source": [
    "preds <- predict(model, test, type = \"response\")"
   ]
  },
  {
   "cell_type": "code",
   "execution_count": 17,
   "id": "19862f18-3d59-436d-a055-0f575eeaba41",
   "metadata": {
    "tags": []
   },
   "outputs": [
    {
     "data": {
      "text/html": [
       "<strong>28493:</strong> 0.000122884640673211"
      ],
      "text/latex": [
       "\\textbf{28493:} 0.000122884640673211"
      ],
      "text/markdown": [
       "**28493:** 0.000122884640673211"
      ],
      "text/plain": [
       "       28493 \n",
       "0.0001228846 "
      ]
     },
     "metadata": {},
     "output_type": "display_data"
    }
   ],
   "source": [
    "preds[dim(test)[1]]"
   ]
  },
  {
   "cell_type": "code",
   "execution_count": 18,
   "id": "acd847a1-dc1f-4069-aaf9-62da30be5bb4",
   "metadata": {
    "tags": []
   },
   "outputs": [
    {
     "data": {
      "text/html": [
       "<table class=\"dataframe\">\n",
       "<caption>A tibble: 1 × 1</caption>\n",
       "<thead>\n",
       "\t<tr><th scope=col>Class</th></tr>\n",
       "\t<tr><th scope=col>&lt;int&gt;</th></tr>\n",
       "</thead>\n",
       "<tbody>\n",
       "\t<tr><td>0</td></tr>\n",
       "</tbody>\n",
       "</table>\n"
      ],
      "text/latex": [
       "A tibble: 1 × 1\n",
       "\\begin{tabular}{l}\n",
       " Class\\\\\n",
       " <int>\\\\\n",
       "\\hline\n",
       "\t 0\\\\\n",
       "\\end{tabular}\n"
      ],
      "text/markdown": [
       "\n",
       "A tibble: 1 × 1\n",
       "\n",
       "| Class &lt;int&gt; |\n",
       "|---|\n",
       "| 0 |\n",
       "\n"
      ],
      "text/plain": [
       "  Class\n",
       "1 0    "
      ]
     },
     "metadata": {},
     "output_type": "display_data"
    }
   ],
   "source": [
    "test[dim(test)[1], var_target]"
   ]
  },
  {
   "cell_type": "markdown",
   "id": "a40e2014-e61c-42b2-a970-2ff38cae7ed9",
   "metadata": {
    "tags": []
   },
   "source": [
    "### Compare Predictions to Actual (Confusion Matrix):"
   ]
  },
  {
   "cell_type": "code",
   "execution_count": 19,
   "id": "944f3b28-bfe6-4929-a79b-80edb7dd62a7",
   "metadata": {
    "tags": []
   },
   "outputs": [],
   "source": [
    "actual <- test[, var_target]\n",
    "names(actual) <- 'actual'"
   ]
  },
  {
   "cell_type": "code",
   "execution_count": 20,
   "id": "f37382ea-3d87-4832-a607-1221b2820411",
   "metadata": {
    "tags": []
   },
   "outputs": [
    {
     "data": {
      "text/html": [
       "<table class=\"dataframe\">\n",
       "<caption>A tibble: 5 × 1</caption>\n",
       "<thead>\n",
       "\t<tr><th scope=col>actual</th></tr>\n",
       "\t<tr><th scope=col>&lt;int&gt;</th></tr>\n",
       "</thead>\n",
       "<tbody>\n",
       "\t<tr><td>0</td></tr>\n",
       "\t<tr><td>0</td></tr>\n",
       "\t<tr><td>0</td></tr>\n",
       "\t<tr><td>0</td></tr>\n",
       "\t<tr><td>0</td></tr>\n",
       "</tbody>\n",
       "</table>\n"
      ],
      "text/latex": [
       "A tibble: 5 × 1\n",
       "\\begin{tabular}{l}\n",
       " actual\\\\\n",
       " <int>\\\\\n",
       "\\hline\n",
       "\t 0\\\\\n",
       "\t 0\\\\\n",
       "\t 0\\\\\n",
       "\t 0\\\\\n",
       "\t 0\\\\\n",
       "\\end{tabular}\n"
      ],
      "text/markdown": [
       "\n",
       "A tibble: 5 × 1\n",
       "\n",
       "| actual &lt;int&gt; |\n",
       "|---|\n",
       "| 0 |\n",
       "| 0 |\n",
       "| 0 |\n",
       "| 0 |\n",
       "| 0 |\n",
       "\n"
      ],
      "text/plain": [
       "  actual\n",
       "1 0     \n",
       "2 0     \n",
       "3 0     \n",
       "4 0     \n",
       "5 0     "
      ]
     },
     "metadata": {},
     "output_type": "display_data"
    }
   ],
   "source": [
    "actual[1:5,]"
   ]
  },
  {
   "cell_type": "code",
   "execution_count": 21,
   "id": "78907087-72fb-402c-8ac4-29e2a242cd1a",
   "metadata": {
    "tags": []
   },
   "outputs": [],
   "source": [
    "results <- cbind(actual, tibble(round(preds)))"
   ]
  },
  {
   "cell_type": "code",
   "execution_count": 22,
   "id": "abaffdea-9c17-4d41-a779-d799a35e7a98",
   "metadata": {
    "tags": []
   },
   "outputs": [
    {
     "data": {
      "text/html": [
       "<table class=\"dataframe\">\n",
       "<caption>A data.frame: 5 × 2</caption>\n",
       "<thead>\n",
       "\t<tr><th></th><th scope=col>actual</th><th scope=col>round(preds)</th></tr>\n",
       "\t<tr><th></th><th scope=col>&lt;int&gt;</th><th scope=col>&lt;dbl&gt;</th></tr>\n",
       "</thead>\n",
       "<tbody>\n",
       "\t<tr><th scope=row>1</th><td>0</td><td>0</td></tr>\n",
       "\t<tr><th scope=row>2</th><td>0</td><td>0</td></tr>\n",
       "\t<tr><th scope=row>3</th><td>0</td><td>0</td></tr>\n",
       "\t<tr><th scope=row>4</th><td>0</td><td>0</td></tr>\n",
       "\t<tr><th scope=row>5</th><td>0</td><td>0</td></tr>\n",
       "</tbody>\n",
       "</table>\n"
      ],
      "text/latex": [
       "A data.frame: 5 × 2\n",
       "\\begin{tabular}{r|ll}\n",
       "  & actual & round(preds)\\\\\n",
       "  & <int> & <dbl>\\\\\n",
       "\\hline\n",
       "\t1 & 0 & 0\\\\\n",
       "\t2 & 0 & 0\\\\\n",
       "\t3 & 0 & 0\\\\\n",
       "\t4 & 0 & 0\\\\\n",
       "\t5 & 0 & 0\\\\\n",
       "\\end{tabular}\n"
      ],
      "text/markdown": [
       "\n",
       "A data.frame: 5 × 2\n",
       "\n",
       "| <!--/--> | actual &lt;int&gt; | round(preds) &lt;dbl&gt; |\n",
       "|---|---|---|\n",
       "| 1 | 0 | 0 |\n",
       "| 2 | 0 | 0 |\n",
       "| 3 | 0 | 0 |\n",
       "| 4 | 0 | 0 |\n",
       "| 5 | 0 | 0 |\n",
       "\n"
      ],
      "text/plain": [
       "  actual round(preds)\n",
       "1 0      0           \n",
       "2 0      0           \n",
       "3 0      0           \n",
       "4 0      0           \n",
       "5 0      0           "
      ]
     },
     "metadata": {},
     "output_type": "display_data"
    }
   ],
   "source": [
    "results[1:5,]"
   ]
  },
  {
   "cell_type": "code",
   "execution_count": 23,
   "id": "3f34170b-2364-4b39-9cec-f84d0fa10696",
   "metadata": {
    "tags": []
   },
   "outputs": [
    {
     "data": {
      "text/plain": [
       "      round(preds)\n",
       "actual     0     1\n",
       "     0 28436     5\n",
       "     1    19    33"
      ]
     },
     "metadata": {},
     "output_type": "display_data"
    }
   ],
   "source": [
    "table(results)"
   ]
  },
  {
   "cell_type": "code",
   "execution_count": null,
   "id": "377db94c-aa6e-4247-bb86-21f26aa83a0f",
   "metadata": {},
   "outputs": [],
   "source": []
  }
 ],
 "metadata": {
  "environment": {
   "kernel": "conda-env-r-r",
   "name": "workbench-notebooks.m128",
   "type": "gcloud",
   "uri": "us-docker.pkg.dev/deeplearning-platform-release/gcr.io/workbench-notebooks:m128"
  },
  "kernelspec": {
   "display_name": "R (Local)",
   "language": "R",
   "name": "conda-env-r-r"
  },
  "language_info": {
   "codemirror_mode": "r",
   "file_extension": ".r",
   "mimetype": "text/x-r-source",
   "name": "R",
   "pygments_lexer": "r",
   "version": "4.3.3"
  }
 },
 "nbformat": 4,
 "nbformat_minor": 5
}
