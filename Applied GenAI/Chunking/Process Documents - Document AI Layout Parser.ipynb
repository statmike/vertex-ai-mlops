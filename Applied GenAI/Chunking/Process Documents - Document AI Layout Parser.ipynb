{
 "cells": [
  {
   "cell_type": "markdown",
   "id": "a3f4d1df",
   "metadata": {},
   "source": [
    "![tracker](https://us-central1-vertex-ai-mlops-369716.cloudfunctions.net/pixel-tracking?path=statmike%2Fvertex-ai-mlops%2FApplied+GenAI%2FChunking&file=Process+Documents+-+Document+AI+Layout+Parser.ipynb)\n",
    "<!--- header table --->\n",
    "<table align=\"left\">\n",
    "  <td style=\"text-align: center\">\n",
    "    <a href=\"https://colab.research.google.com/github/statmike/vertex-ai-mlops/blob/main/Applied%20GenAI/Chunking/Process%20Documents%20-%20Document%20AI%20Layout%20Parser.ipynb\">\n",
    "      <img src=\"https://cloud.google.com/ml-engine/images/colab-logo-32px.png\" alt=\"Google Colaboratory logo\">\n",
    "      <br>Run in<br>Colab\n",
    "    </a>\n",
    "  </td>\n",
    "  <td style=\"text-align: center\">\n",
    "    <a href=\"https://console.cloud.google.com/vertex-ai/colab/import/https%3A%2F%2Fraw.githubusercontent.com%2Fstatmike%2Fvertex-ai-mlops%2Fmain%2FApplied%2520GenAI%2FChunking%2FProcess%2520Documents%2520-%2520Document%2520AI%2520Layout%2520Parser.ipynb\">\n",
    "      <img width=\"32px\" src=\"https://lh3.googleusercontent.com/JmcxdQi-qOpctIvWKgPtrzZdJJK-J3sWE1RsfjZNwshCFgE_9fULcNpuXYTilIR2hjwN\" alt=\"Google Cloud Colab Enterprise logo\">\n",
    "      <br>Run in<br>Colab Enterprise\n",
    "    </a>\n",
    "  </td>      \n",
    "  <td style=\"text-align: center\">\n",
    "    <a href=\"https://github.com/statmike/vertex-ai-mlops/blob/main/Applied%20GenAI/Chunking/Process%20Documents%20-%20Document%20AI%20Layout%20Parser.ipynb\">\n",
    "      <img src=\"https://cloud.google.com/ml-engine/images/github-logo-32px.png\" alt=\"GitHub logo\">\n",
    "      <br>View on<br>GitHub\n",
    "    </a>\n",
    "  </td>\n",
    "  <td style=\"text-align: center\">\n",
    "    <a href=\"https://console.cloud.google.com/vertex-ai/workbench/deploy-notebook?download_url=https://raw.githubusercontent.com/statmike/vertex-ai-mlops/main/Applied%20GenAI/Chunking/Process%20Documents%20-%20Document%20AI%20Layout%20Parser.ipynb\">\n",
    "      <img src=\"https://lh3.googleusercontent.com/UiNooY4LUgW_oTvpsNhPpQzsstV5W8F7rYgxgGBD85cWJoLmrOzhVs_ksK_vgx40SHs7jCqkTkCk=e14-rj-sc0xffffff-h130-w32\" alt=\"Vertex AI logo\">\n",
    "      <br>Open in<br>Vertex AI Workbench\n",
    "    </a>\n",
    "  </td>\n",
    "</table>"
   ]
  },
  {
   "cell_type": "markdown",
   "id": "f84ce1b4-dbaf-4fd6-9636-f8d142239a3f",
   "metadata": {},
   "source": [
    "# Process Documents With The Document AI Layout Parser\n",
    "\n",
    "This workflow creates chunks from documents to be used in embeddings workflow examples in [this series](./Embeddings/readme.md) as well as throughout the [Applied GenAI](../readme.md) series. This workflow will give examples for:\n",
    "- This document:[Official Rules of Baseball](https://img.mlbstatic.com/mlb-images/image/upload/mlb/wqn5ah4c3qtivwx3jatm.pdf)\n",
    "- Processed and chunked using the [Layout Parser from Document AI](https://cloud.google.com/document-ai/docs/layout-parse-chunk)\n",
    "- And results are stored in a local folder(`./layout-parser/document-chunks.jsonl`) in this repository\n",
    "\n",
    "**Document AI** Workflow\n",
    "<p align=\"center\" width=\"100%\"><center>\n",
    "    <img src=\"../../architectures/architectures/images/working with/documentai/readme/high_level.png\">\n",
    "</center></p>\n",
    "\n",
    "This workflow shows how to use the processor named **Layout Parser** to:\n",
    "- Process Documents\n",
    "    - Online request\n",
    "    - Batch request\n",
    "- Parse Responses\n",
    "    - chunks\n",
    "    - blocks\n",
    "        - paragraphs\n",
    "        - tables\n",
    "        - titles\n",
    "        - headings\n",
    "        - page header\n",
    "        - page footer\n",
    "\n",
    "Learn more about Document AI and the wide variety of parsers as well as methods for working with the responses in this series: [Working With Document AI](../../Working%20With/Document%20AI/readme.md)"
   ]
  },
  {
   "cell_type": "markdown",
   "id": "c6ea69ed-712b-4b29-8a39-92300221d220",
   "metadata": {
    "id": "od_UkDpvRmgD"
   },
   "source": [
    "---\n",
    "## Colab Setup\n",
    "\n",
    "When running this notebook in [Colab](https://colab.google/) or [Colab Enterprise](https://cloud.google.com/colab/docs/introduction), this section will authenticate to GCP (follow prompts in the popup) and set the current project for the session."
   ]
  },
  {
   "cell_type": "code",
   "execution_count": 1,
   "id": "6e182e45-e933-419f-929b-da79a5009f5a",
   "metadata": {
    "executionInfo": {
     "elapsed": 195,
     "status": "ok",
     "timestamp": 1683726184843,
     "user": {
      "displayName": "Mike Henderson",
      "userId": "07691629187611687318"
     },
     "user_tz": 240
    },
    "id": "8UO9FnqyKBlF",
    "tags": []
   },
   "outputs": [],
   "source": [
    "PROJECT_ID = 'statmike-mlops-349915' # replace with project ID"
   ]
  },
  {
   "cell_type": "code",
   "execution_count": 2,
   "id": "7f813a45-f4b5-4c48-beca-1314eff857a1",
   "metadata": {
    "colab": {
     "base_uri": "https://localhost:8080/"
    },
    "executionInfo": {
     "elapsed": 68869,
     "status": "ok",
     "timestamp": 1683726253709,
     "user": {
      "displayName": "Mike Henderson",
      "userId": "07691629187611687318"
     },
     "user_tz": 240
    },
    "id": "N98-KK7LRkjm",
    "outputId": "09ec5008-0def-4e1a-c349-c598ee752f78",
    "tags": []
   },
   "outputs": [],
   "source": [
    "try:\n",
    "    from google.colab import auth\n",
    "    auth.authenticate_user()\n",
    "    !gcloud config set project {PROJECT_ID}\n",
    "except Exception:\n",
    "    pass"
   ]
  },
  {
   "cell_type": "markdown",
   "id": "d3f03b53-3efb-4f0f-830d-5d31d0dd32f1",
   "metadata": {},
   "source": [
    "---\n",
    "## Installs and API Enablement\n",
    "\n",
    "The clients packages may need installing in this environment. "
   ]
  },
  {
   "cell_type": "markdown",
   "id": "22df5948-9d1a-47a9-bd8c-a78ee98057b6",
   "metadata": {},
   "source": [
    "### Installs (If Needed)"
   ]
  },
  {
   "cell_type": "code",
   "execution_count": 22,
   "id": "9e07a7d8-2ef8-43e0-8563-ab11e9af294b",
   "metadata": {
    "tags": []
   },
   "outputs": [],
   "source": [
    "# tuples of (import name, install name, min_version)\n",
    "packages = [\n",
    "    ('google.cloud.documentai', 'google-cloud-documentai', '2.31.0'),\n",
    "    ('google.cloud.storage', 'google-cloud-storage'),\n",
    "    ('fitz', 'pymupdf'),\n",
    "    ('PIL', 'Pillow')\n",
    "]\n",
    "\n",
    "import importlib\n",
    "install = False\n",
    "for package in packages:\n",
    "    if not importlib.util.find_spec(package[0]):\n",
    "        print(f'installing package {package[1]}')\n",
    "        install = True\n",
    "        !pip install {package[1]} -U -q --user\n",
    "    elif len(package) == 3:\n",
    "        if importlib.metadata.version(package[0]) < package[2]:\n",
    "            print(f'updating package {package[1]}')\n",
    "            install = True\n",
    "            !pip install {package[1]} -U -q --user"
   ]
  },
  {
   "cell_type": "markdown",
   "id": "c1399a49-bac5-4559-a0dc-187bfd7103b4",
   "metadata": {},
   "source": [
    "### API Enablement"
   ]
  },
  {
   "cell_type": "code",
   "execution_count": 5,
   "id": "da977c97-b960-4a11-8d95-3fe3b4c69467",
   "metadata": {
    "tags": []
   },
   "outputs": [],
   "source": [
    "!gcloud services enable documentai.googleapis.com"
   ]
  },
  {
   "cell_type": "markdown",
   "id": "eadb3b8b-5380-4531-8ef4-c597bfab6291",
   "metadata": {},
   "source": [
    "### Restart Kernel (If Installs Occured)\n",
    "\n",
    "After a kernel restart the code submission can start with the next cell after this one."
   ]
  },
  {
   "cell_type": "code",
   "execution_count": 6,
   "id": "0e90e525-3b66-4972-aa59-1677c5dabdab",
   "metadata": {
    "tags": []
   },
   "outputs": [],
   "source": [
    "if install:\n",
    "    import IPython\n",
    "    app = IPython.Application.instance()\n",
    "    app.kernel.do_shutdown(True)\n",
    "    IPython.display.display(IPython.display.Markdown(\"\"\"<div class=\\\"alert alert-block alert-warning\\\">\n",
    "        <b>⚠️ The kernel is going to restart. Please wait until it is finished before continuing to the next step. The previous cells do not need to be run again⚠️</b>\n",
    "        </div>\"\"\"))"
   ]
  },
  {
   "cell_type": "markdown",
   "id": "adb022c9-da14-401c-97ec-acf141eb60e0",
   "metadata": {
    "id": "appt8-yVRtJ1"
   },
   "source": [
    "---\n",
    "## Setup"
   ]
  },
  {
   "cell_type": "markdown",
   "id": "6191fe06-9cc6-4e0d-ba26-11a19cbf7e8e",
   "metadata": {
    "id": "63mx2EozRxFP"
   },
   "source": [
    "Inputs"
   ]
  },
  {
   "cell_type": "code",
   "execution_count": 7,
   "id": "6f58c91f-4581-4360-8242-68455ed3a2d7",
   "metadata": {
    "colab": {
     "base_uri": "https://localhost:8080/",
     "height": 35
    },
    "executionInfo": {
     "elapsed": 2124,
     "status": "ok",
     "timestamp": 1683726390544,
     "user": {
      "displayName": "Mike Henderson",
      "userId": "07691629187611687318"
     },
     "user_tz": 240
    },
    "id": "xzcoXjM5Rky5",
    "outputId": "b3bdcbc1-70d5-472e-aea2-42c74a42efde",
    "tags": []
   },
   "outputs": [
    {
     "data": {
      "text/plain": [
       "'statmike-mlops-349915'"
      ]
     },
     "execution_count": 7,
     "metadata": {},
     "output_type": "execute_result"
    }
   ],
   "source": [
    "project = !gcloud config get-value project\n",
    "PROJECT_ID = project[0]\n",
    "PROJECT_ID"
   ]
  },
  {
   "cell_type": "code",
   "execution_count": 53,
   "id": "6c7b2438-1305-4db0-ae83-eee15261cf5c",
   "metadata": {
    "executionInfo": {
     "elapsed": 2,
     "status": "ok",
     "timestamp": 1683726390712,
     "user": {
      "displayName": "Mike Henderson",
      "userId": "07691629187611687318"
     },
     "user_tz": 240
    },
    "id": "IxWrFtqYMfku",
    "tags": []
   },
   "outputs": [],
   "source": [
    "REGION = 'us-central1'\n",
    "SERIES = 'applied-genai'\n",
    "EXPERIMENT = 'layout-parser'\n",
    "\n",
    "# make this the gcs bucket for storing files\n",
    "GCS_BUCKET = PROJECT_ID "
   ]
  },
  {
   "cell_type": "markdown",
   "id": "a4f30a11-22a1-45fb-912e-90f684872362",
   "metadata": {
    "id": "LuajVwCiO6Yg"
   },
   "source": [
    "Packages"
   ]
  },
  {
   "cell_type": "code",
   "execution_count": 54,
   "id": "7628cdf8-d3f9-4e07-8a88-d1ef09df7149",
   "metadata": {
    "executionInfo": {
     "elapsed": 17761,
     "status": "ok",
     "timestamp": 1683726409304,
     "user": {
      "displayName": "Mike Henderson",
      "userId": "07691629187611687318"
     },
     "user_tz": 240
    },
    "id": "LVC7zzSLRk2C",
    "tags": []
   },
   "outputs": [],
   "source": [
    "import os\n",
    "import re\n",
    "import IPython.display\n",
    "import io\n",
    "import json\n",
    "import base64\n",
    "import requests\n",
    "import concurrent.futures\n",
    "import asyncio\n",
    "import fitz #pymupdf\n",
    "import PIL.Image\n",
    "\n",
    "from google.cloud import documentai\n",
    "from google.cloud import storage"
   ]
  },
  {
   "cell_type": "markdown",
   "id": "e828f97f-03b0-491e-a406-c78057bceb0a",
   "metadata": {
    "id": "EyAVFG9TO9H-"
   },
   "source": [
    "Clients"
   ]
  },
  {
   "cell_type": "code",
   "execution_count": 224,
   "id": "31938c2e-9a7c-4940-abec-9e4144710abd",
   "metadata": {
    "executionInfo": {
     "elapsed": 19,
     "status": "ok",
     "timestamp": 1683726409306,
     "user": {
      "displayName": "Mike Henderson",
      "userId": "07691629187611687318"
     },
     "user_tz": 240
    },
    "id": "L0RPE13LOZce",
    "tags": []
   },
   "outputs": [],
   "source": [
    "# document AI client\n",
    "LOCATION = REGION.split('-')[0]\n",
    "docai_client = documentai.DocumentProcessorServiceClient(\n",
    "    client_options = dict(api_endpoint = f\"{LOCATION}-documentai.googleapis.com\")\n",
    ")\n",
    "docai_async_client = documentai.DocumentProcessorServiceAsyncClient(\n",
    "    client_options = dict(api_endpoint = f\"{LOCATION}-documentai.googleapis.com\")\n",
    ")\n",
    "\n",
    "# gcs client: assumes bucket already exists\n",
    "gcs = storage.Client(project = PROJECT_ID)\n",
    "bucket = gcs.bucket(GCS_BUCKET)"
   ]
  },
  {
   "cell_type": "markdown",
   "id": "1e132da4-2464-42d6-97c5-4cbd00f05341",
   "metadata": {},
   "source": [
    "Parameters:"
   ]
  },
  {
   "cell_type": "code",
   "execution_count": 378,
   "id": "9c35c67f-638f-4266-a3d5-a43e587e4dd2",
   "metadata": {
    "tags": []
   },
   "outputs": [],
   "source": [
    "DIR = f\"files/{EXPERIMENT}\""
   ]
  },
  {
   "cell_type": "markdown",
   "id": "1605b956-b49c-4ceb-97ff-c9b41e59ba2b",
   "metadata": {},
   "source": [
    "Environment:"
   ]
  },
  {
   "cell_type": "code",
   "execution_count": 379,
   "id": "b9d336fa-ab10-4def-8f00-b5322ada09ad",
   "metadata": {
    "tags": []
   },
   "outputs": [],
   "source": [
    "if not os.path.exists(DIR):\n",
    "    os.makedirs(DIR)"
   ]
  },
  {
   "cell_type": "markdown",
   "id": "3f09ee5e-b531-4bf1-82a1-654484711c7f",
   "metadata": {},
   "source": [
    "---\n",
    "## Document\n",
    "\n",
    "The [official rules of baseball](https://img.mlbstatic.com/mlb-images/image/upload/mlb/wqn5ah4c3qtivwx3jatm.pdf), a pdf that is updated annually with the latest changes to the game and published by MLB.\n"
   ]
  },
  {
   "cell_type": "markdown",
   "id": "7dbd8ef5-6df8-4058-bfa6-b9e051829c92",
   "metadata": {},
   "source": [
    "### Load The Document"
   ]
  },
  {
   "cell_type": "code",
   "execution_count": 202,
   "id": "8a3f610e-9537-415f-a9df-0cccb2f11236",
   "metadata": {
    "tags": []
   },
   "outputs": [],
   "source": [
    "url = 'https://img.mlbstatic.com/mlb-images/image/upload/mlb/wqn5ah4c3qtivwx3jatm.pdf'"
   ]
  },
  {
   "cell_type": "code",
   "execution_count": 203,
   "id": "0d317ce9-3c62-44ac-8466-460379f06c47",
   "metadata": {
    "tags": []
   },
   "outputs": [],
   "source": [
    "response = requests.get(url).content\n",
    "document = fitz.open(stream = response, filetype = \"pdf\")"
   ]
  },
  {
   "cell_type": "code",
   "execution_count": 204,
   "id": "97298d82-adea-45d3-9a81-67bfef87463a",
   "metadata": {
    "tags": []
   },
   "outputs": [
    {
     "data": {
      "text/plain": [
       "192"
      ]
     },
     "execution_count": 204,
     "metadata": {},
     "output_type": "execute_result"
    }
   ],
   "source": [
    "document.page_count"
   ]
  },
  {
   "cell_type": "markdown",
   "id": "74b5c039-5f82-4f73-b8dd-484d0298d24c",
   "metadata": {},
   "source": [
    "### Get Text From Pages"
   ]
  },
  {
   "cell_type": "code",
   "execution_count": 264,
   "id": "c69bfe85-ba6b-4d62-8787-7022579f9693",
   "metadata": {
    "tags": []
   },
   "outputs": [
    {
     "data": {
      "text/plain": [
       "'OFFICIAL BASEBALL RULES\\n2023 Edition\\n'"
      ]
     },
     "execution_count": 264,
     "metadata": {},
     "output_type": "execute_result"
    }
   ],
   "source": [
    "pages = [page.get_text() for page in document]\n",
    "pages[0]"
   ]
  },
  {
   "cell_type": "markdown",
   "id": "27525041-7e39-42fd-b965-2876295d53ae",
   "metadata": {},
   "source": [
    "### View Pages"
   ]
  },
  {
   "cell_type": "code",
   "execution_count": 362,
   "id": "5624fc18-a9d6-4f79-8400-4326ccb676bc",
   "metadata": {
    "tags": []
   },
   "outputs": [
    {
     "data": {
      "image/jpeg": "[encoded data removed]",
      "image/png": "[encoded data removed]",
      "text/plain": [
       "<PIL.Image.Image image mode=RGB size=396x612>"
      ]
     },
     "execution_count": 362,
     "metadata": {},
     "output_type": "execute_result"
    }
   ],
   "source": [
    "def get_image(page):\n",
    "    pix = page.get_pixmap()\n",
    "    image = PIL.Image.frombytes(\"RGB\", [pix.width, pix.height], pix.samples)\n",
    "    return image\n",
    "page_images = [get_image(page) for page in document]\n",
    "    \n",
    "page_images[0]"
   ]
  },
  {
   "cell_type": "markdown",
   "id": "34da1df7-675c-489f-b9c8-fe3f199d5349",
   "metadata": {},
   "source": [
    "### Create New PDF with First 5 pages"
   ]
  },
  {
   "cell_type": "code",
   "execution_count": 380,
   "id": "ef4c32e8-f360-4ef2-886d-170309c73156",
   "metadata": {
    "tags": []
   },
   "outputs": [],
   "source": [
    "small_document = fitz.open()\n",
    "small_document.insert_pdf(document, from_page=0, to_page=4)"
   ]
  },
  {
   "cell_type": "code",
   "execution_count": 381,
   "id": "c0c803d0-18e8-42c1-823f-707558c44316",
   "metadata": {
    "tags": []
   },
   "outputs": [
    {
     "data": {
      "text/plain": [
       "5"
      ]
     },
     "execution_count": 381,
     "metadata": {},
     "output_type": "execute_result"
    }
   ],
   "source": [
    "small_document.page_count"
   ]
  },
  {
   "cell_type": "markdown",
   "id": "4c7620cf-bb69-4cd1-b66d-901ba6939fd5",
   "metadata": {},
   "source": [
    "### Documents As Byte Strings"
   ]
  },
  {
   "cell_type": "code",
   "execution_count": 382,
   "id": "e4f50f5f-3ac9-44fd-a505-27a1f4debd0d",
   "metadata": {
    "tags": []
   },
   "outputs": [],
   "source": [
    "buffer = io.BytesIO()\n",
    "document.save(buffer)\n",
    "document_bytes = base64.b64encode(buffer.getvalue()).decode('utf-8')\n",
    "\n",
    "buffer = io.BytesIO()\n",
    "small_document.save(buffer)\n",
    "small_document_bytes = base64.b64encode(buffer.getvalue()).decode('utf-8')"
   ]
  },
  {
   "cell_type": "markdown",
   "id": "556251e3-6504-4893-808d-9a91135ae599",
   "metadata": {},
   "source": [
    "### Documents As Local Files"
   ]
  },
  {
   "cell_type": "code",
   "execution_count": 383,
   "id": "6dceb5ee-726a-42a3-a637-32615a7639c7",
   "metadata": {
    "tags": []
   },
   "outputs": [],
   "source": [
    "document.save(f\"{DIR}/document.pdf\")\n",
    "small_document.save(f\"{DIR}/small_document.pdf\")"
   ]
  },
  {
   "cell_type": "code",
   "execution_count": 384,
   "id": "eaa6610b-8023-4ab5-9323-fe9bf34630a5",
   "metadata": {
    "tags": []
   },
   "outputs": [
    {
     "data": {
      "text/plain": [
       "['small_document.pdf', 'document.pdf']"
      ]
     },
     "execution_count": 384,
     "metadata": {},
     "output_type": "execute_result"
    }
   ],
   "source": [
    "os.listdir(DIR)"
   ]
  },
  {
   "cell_type": "markdown",
   "id": "1cd122b5-497a-42df-9f07-2ad47d21f12a",
   "metadata": {},
   "source": [
    "### Documents As GCS Files"
   ]
  },
  {
   "cell_type": "code",
   "execution_count": 212,
   "id": "f10de699-1ee7-4892-81c8-0a347ca2bc6b",
   "metadata": {
    "tags": []
   },
   "outputs": [],
   "source": [
    "blob = bucket.blob(f'{SERIES}/{EXPERIMENT}/files/document.pdf')\n",
    "blob.upload_from_string(base64.b64decode(document_bytes), content_type = 'application/pdf')"
   ]
  },
  {
   "cell_type": "code",
   "execution_count": 213,
   "id": "4647ec32-800b-4f2d-81ec-a40c44ed4b41",
   "metadata": {
    "tags": []
   },
   "outputs": [],
   "source": [
    "blob = bucket.blob(f'{SERIES}/{EXPERIMENT}/files/small_document.pdf')\n",
    "blob.upload_from_string(base64.b64decode(small_document_bytes), content_type = 'application/pdf')"
   ]
  },
  {
   "cell_type": "code",
   "execution_count": 214,
   "id": "d0a068fa-b263-4184-98df-eac8847bae65",
   "metadata": {
    "tags": []
   },
   "outputs": [
    {
     "data": {
      "text/plain": [
       "[<Blob: statmike-mlops-349915, applied-genai/layout-parser/files/document.pdf, 1726672977725587>,\n",
       " <Blob: statmike-mlops-349915, applied-genai/layout-parser/files/small_document.pdf, 1726672977953232>]"
      ]
     },
     "execution_count": 214,
     "metadata": {},
     "output_type": "execute_result"
    }
   ],
   "source": [
    "list(bucket.list_blobs(prefix = f'{SERIES}/{EXPERIMENT}/files'))"
   ]
  },
  {
   "cell_type": "markdown",
   "id": "b4067160-cefb-4c6e-9394-51f8be5f2272",
   "metadata": {},
   "source": [
    "---\n",
    "## Layout Parser\n",
    "\n",
    "Document AI is comprised of multiple processors.  In this case the [Layout Parser](https://cloud.google.com/document-ai/docs/layout-parse-chunk) is used for its ability to detect and extract paragraphs, tables, titles, heading, page headers, and page footers.  \n",
    "\n",
    "For a more thorough review of Document AI processors, including customized parsers, see the [Working With/Document AI](../../Working%20With/Document%20AI/readme.md) section of this repository.  This repository includes examples of processing documents at larger scales and storing the data for processing and retrieval."
   ]
  },
  {
   "cell_type": "markdown",
   "id": "a71af1e3-1e56-4e6a-9bff-23fa9f9e9c39",
   "metadata": {
    "id": "Ydo-up2TMwo1"
   },
   "source": [
    "### Get/Create Processor: Layout Parser"
   ]
  },
  {
   "cell_type": "code",
   "execution_count": 48,
   "id": "eefbf384-001a-4b03-91c9-b5fc6070373f",
   "metadata": {
    "tags": []
   },
   "outputs": [
    {
     "name": "stdout",
     "output_type": "stream",
     "text": [
      "Retrieved existing parser:  projects/1026793852137/locations/us/processors/3779bd3a8f535977\n"
     ]
    }
   ],
   "source": [
    "PARSER_DISPLAY_NAME = 'my_layout_processor'\n",
    "PARSER_TYPE = 'LAYOUT_PARSER_PROCESSOR'\n",
    "PARSER_VERSION = 'pretrained-layout-parser-v1.0-2024-06-03'\n",
    "\n",
    "for p in docai_client.list_processors(parent = f'projects/{PROJECT_ID}/locations/{LOCATION}'):\n",
    "    if p.display_name == PARSER_DISPLAY_NAME:\n",
    "        parser = p\n",
    "try:\n",
    "    print('Retrieved existing parser: ', parser.name)\n",
    "except Exception:\n",
    "    parser = docai_client.create_processor(\n",
    "        parent = f'projects/{PROJECT_ID}/locations/{LOCATION}',\n",
    "        processor = dict(display_name = PARSER_DISPLAY_NAME, type_ = PARSER_TYPE, default_processor_version = PARSER_VERSION)\n",
    "    )\n",
    "    print('Created New Parser: ', parser.name)"
   ]
  },
  {
   "cell_type": "markdown",
   "id": "56f6c244-1b15-460d-9a13-7bdce70b4e64",
   "metadata": {},
   "source": [
    "---\n",
    "## Process Document - Multiple Ways\n",
    "\n",
    "The [Layout Parser](https://cloud.google.com/document-ai/docs/layout-parse-chunk) can process different files types:\n",
    "- HTML\n",
    "- PDF\n",
    "- DOCX\n",
    "- PPTX\n",
    "- XLSX/XLSM\n",
    "\n",
    "There are limitations for processing based on the online versus the batch clients:\n",
    "- Online: 20MB per file and up to 15 pages\n",
    "- Batch: 40MB per file and up to 500 pages, but multiple files (up to 5,000 per request)\n",
    "\n",
    "The parsed content from this parser will contain:\n",
    "- paragraphs\n",
    "- tables\n",
    "- titles\n",
    "- headings\n",
    "- page header\n",
    "- page footer\n",
    "- chunks\n",
    "\n",
    "The clients have default [quotas](https://cloud.google.com/document-ai/quotas) and [limits](https://cloud.google.com/document-ai/limits):\n",
    "- 1800 request per user per minute per project\n",
    "    - online:\n",
    "        - 600 per project\n",
    "        - 120 per processor type\n",
    "    - batch (concurrent):\n",
    "        - 10 per project\n",
    "        - 5 per processor\n",
    "- see the links for more details\n",
    "\n",
    "\n",
    "The code below shows multiple ways to process documents both online and batch:\n",
    "- Online:\n",
    "    - document inline (bytes)\n",
    "    - Raw document (local folder)\n",
    "    - GCS document (GCS)\n",
    "- Online Async with multiple request of the same document, for different page ranges\n",
    "- Batch: documents in GCS\n",
    "    - Multiple document"
   ]
  },
  {
   "cell_type": "markdown",
   "id": "36ed7434-5722-4f98-8686-798ac259305c",
   "metadata": {},
   "source": [
    "### Online Processing: Inline Document\n",
    "\n",
    "Reference:\n",
    "- [documentai.ProcessRequest()](https://cloud.google.com/python/docs/reference/documentai/latest/google.cloud.documentai_v1.types.ProcessRequest)\n",
    "    - `inline_document` = [documentai.Document()](https://cloud.google.com/python/docs/reference/documentai/latest/google.cloud.documentai_v1.types.Document)\n",
    "    - `process_options` = [documentai.ProcessOptions()](https://cloud.google.com/python/docs/reference/documentai/latest/google.cloud.documentai_v1.types.ProcessOptions)\n",
    "        - `layout_config` = [documentai.ProcessOptions.LayoutConfig()](https://cloud.google.com/python/docs/reference/documentai/latest/google.cloud.documentai_v1.types.ProcessOptions.LayoutConfig)"
   ]
  },
  {
   "cell_type": "code",
   "execution_count": 171,
   "id": "e8338074-ddee-43c9-bac0-cbc0fd914ac8",
   "metadata": {
    "tags": []
   },
   "outputs": [],
   "source": [
    "online_inline_response = docai_client.process_document(\n",
    "    request = documentai.ProcessRequest(\n",
    "        name = parser.name,\n",
    "        inline_document = documentai.Document(\n",
    "            content = small_document_bytes,\n",
    "            mime_type = 'application/pdf'\n",
    "        ),\n",
    "        process_options = documentai.ProcessOptions(\n",
    "            from_start = 5,\n",
    "            layout_config = documentai.ProcessOptions.LayoutConfig(\n",
    "                chunking_config = documentai.ProcessOptions.LayoutConfig.ChunkingConfig(\n",
    "                    chunk_size = 100,\n",
    "                    include_ancestor_headings = True,\n",
    "                )\n",
    "            )\n",
    "        ),\n",
    "    )\n",
    ")"
   ]
  },
  {
   "cell_type": "markdown",
   "id": "a77d1721-ab1c-487a-aef0-5cbf6efbe726",
   "metadata": {},
   "source": [
    "#### Review response for `document_layout.blocks`:\n",
    "\n",
    "- The document is parsed into a block structure based on headings\n",
    "\n",
    "The full contents of the response will be covered in the [Process Responses](#process-responses) section below."
   ]
  },
  {
   "cell_type": "code",
   "execution_count": 172,
   "id": "4ea9e3d6-1702-4604-8000-31c2c0a10c2a",
   "metadata": {
    "tags": []
   },
   "outputs": [
    {
     "data": {
      "text/plain": [
       "'OFFICIAL BASEBALL RULES'"
      ]
     },
     "execution_count": 172,
     "metadata": {},
     "output_type": "execute_result"
    }
   ],
   "source": [
    "online_inline_response.document.document_layout.blocks[0].text_block.text"
   ]
  },
  {
   "cell_type": "markdown",
   "id": "e8dbe9d8-9226-4568-8725-1bb984bbfb1c",
   "metadata": {},
   "source": [
    "#### Review response for `chunked_document.chunks`:\n",
    "\n",
    "- number of chunks and the first chunk\n",
    "\n",
    "The full contents of the response will be covered in the [Process Responses](#process-responses) section below."
   ]
  },
  {
   "cell_type": "code",
   "execution_count": 173,
   "id": "b6207d81-a33b-41cd-9403-55a0ba7cd476",
   "metadata": {
    "tags": []
   },
   "outputs": [
    {
     "data": {
      "text/plain": [
       "11"
      ]
     },
     "execution_count": 173,
     "metadata": {},
     "output_type": "execute_result"
    }
   ],
   "source": [
    "len(online_inline_response.document.chunked_document.chunks)"
   ]
  },
  {
   "cell_type": "code",
   "execution_count": 174,
   "id": "7c041716-7d27-4883-8edb-e16f91b82daf",
   "metadata": {
    "tags": []
   },
   "outputs": [
    {
     "data": {
      "text/plain": [
       "chunk_id: \"c1\"\n",
       "content: \"# OFFICIAL BASEBALL RULES\\n\\n2023 Edition TM TM\"\n",
       "page_span {\n",
       "  page_start: 1\n",
       "  page_end: 2\n",
       "}"
      ]
     },
     "execution_count": 174,
     "metadata": {},
     "output_type": "execute_result"
    }
   ],
   "source": [
    "online_inline_response.document.chunked_document.chunks[0]"
   ]
  },
  {
   "cell_type": "markdown",
   "id": "86ec9eef-ed07-4843-bef4-13148a6130c7",
   "metadata": {},
   "source": [
    "### Online Processing: Raw Document\n",
    "\n",
    "Reference:\n",
    "- [documentai.ProcessRequest()](https://cloud.google.com/python/docs/reference/documentai/latest/google.cloud.documentai_v1.types.ProcessRequest)\n",
    "    - `raw_document` = [documentai.RawDocument()](https://cloud.google.com/python/docs/reference/documentai/latest/google.cloud.documentai_v1.types.RawDocument)\n",
    "    - `process_options` = [documentai.ProcessOptions()](https://cloud.google.com/python/docs/reference/documentai/latest/google.cloud.documentai_v1.types.ProcessOptions)\n",
    "        - `layout_config` = [documentai.ProcessOptions.LayoutConfig()](https://cloud.google.com/python/docs/reference/documentai/latest/google.cloud.documentai_v1.types.ProcessOptions.LayoutConfig)"
   ]
  },
  {
   "cell_type": "code",
   "execution_count": 175,
   "id": "54a89e6f-861f-4d57-957d-84098785407a",
   "metadata": {
    "tags": []
   },
   "outputs": [],
   "source": [
    "online_raw_response = docai_client.process_document(\n",
    "    request = documentai.ProcessRequest(\n",
    "        name = parser.name,\n",
    "        raw_document = documentai.RawDocument(\n",
    "            content = small_document_bytes,\n",
    "            mime_type = 'application/pdf'\n",
    "        ),\n",
    "        process_options = documentai.ProcessOptions(\n",
    "            from_start = 5,\n",
    "            layout_config = documentai.ProcessOptions.LayoutConfig(\n",
    "                chunking_config = documentai.ProcessOptions.LayoutConfig.ChunkingConfig(\n",
    "                    chunk_size = 100,\n",
    "                    include_ancestor_headings = True,\n",
    "                )\n",
    "            )\n",
    "        )\n",
    "    )\n",
    ")"
   ]
  },
  {
   "cell_type": "markdown",
   "id": "10f80dcd-7732-4796-a665-447a605e5d0c",
   "metadata": {},
   "source": [
    "#### Review response for `document_layout.blocks`:\n",
    "\n",
    "- The document is parsed into a block structure based on headings\n",
    "\n",
    "The full contents of the response will be covered in the [Process Responses](#process-responses) section below."
   ]
  },
  {
   "cell_type": "code",
   "execution_count": 176,
   "id": "f498e1ed-8485-4070-a8d1-1b2fd99fb249",
   "metadata": {
    "tags": []
   },
   "outputs": [
    {
     "data": {
      "text/plain": [
       "'OFFICIAL BASEBALL RULES'"
      ]
     },
     "execution_count": 176,
     "metadata": {},
     "output_type": "execute_result"
    }
   ],
   "source": [
    "online_raw_response.document.document_layout.blocks[0].text_block.text"
   ]
  },
  {
   "cell_type": "markdown",
   "id": "0b49a2c0-90c3-4610-9cb1-b28e5dc9bc7b",
   "metadata": {},
   "source": [
    "#### Review response for `chunked_document.chunks`:\n",
    "\n",
    "- number of chunks and the first chunk\n",
    "\n",
    "The full contents of the response will be covered in the [Process Responses](#process-responses) section below."
   ]
  },
  {
   "cell_type": "code",
   "execution_count": 177,
   "id": "b89d1ace-83a1-47f7-992a-d53d8c392980",
   "metadata": {
    "tags": []
   },
   "outputs": [
    {
     "data": {
      "text/plain": [
       "11"
      ]
     },
     "execution_count": 177,
     "metadata": {},
     "output_type": "execute_result"
    }
   ],
   "source": [
    "len(online_raw_response.document.chunked_document.chunks)"
   ]
  },
  {
   "cell_type": "code",
   "execution_count": 178,
   "id": "c7cde362-8e98-428a-9f25-4c7130f11104",
   "metadata": {
    "tags": []
   },
   "outputs": [
    {
     "data": {
      "text/plain": [
       "chunk_id: \"c1\"\n",
       "content: \"# OFFICIAL BASEBALL RULES\\n\\n2023 Edition TM TM\"\n",
       "page_span {\n",
       "  page_start: 1\n",
       "  page_end: 2\n",
       "}"
      ]
     },
     "execution_count": 178,
     "metadata": {},
     "output_type": "execute_result"
    }
   ],
   "source": [
    "online_raw_response.document.chunked_document.chunks[0]"
   ]
  },
  {
   "cell_type": "markdown",
   "id": "288c1306-4a9e-4169-bdca-0b7cf78e3729",
   "metadata": {},
   "source": [
    "### Online Processing: GCS Document\n",
    "\n",
    "Reference:\n",
    "- [documentai.ProcessRequest()](https://cloud.google.com/python/docs/reference/documentai/latest/google.cloud.documentai_v1.types.ProcessRequest)\n",
    "    - `gcs_document` = [documentai.GcsDocument()](https://cloud.google.com/python/docs/reference/documentai/latest/google.cloud.documentai_v1.types.GcsDocument)\n",
    "    - `process_options` = [documentai.ProcessOptions()](https://cloud.google.com/python/docs/reference/documentai/latest/google.cloud.documentai_v1.types.ProcessOptions)\n",
    "        - `layout_config` = [documentai.ProcessOptions.LayoutConfig()](https://cloud.google.com/python/docs/reference/documentai/latest/google.cloud.documentai_v1.types.ProcessOptions.LayoutConfig)"
   ]
  },
  {
   "cell_type": "code",
   "execution_count": 179,
   "id": "6def68ee-78b8-4c62-8166-fa57461aaf5d",
   "metadata": {
    "tags": []
   },
   "outputs": [],
   "source": [
    "online_gcs_response = docai_client.process_document(\n",
    "    request = documentai.ProcessRequest(\n",
    "        name = parser.name,\n",
    "        gcs_document = documentai.GcsDocument(\n",
    "            gcs_uri = f'gs://{bucket.name}/{SERIES}/{EXPERIMENT}/files/small_document.pdf',\n",
    "            mime_type = 'application/pdf'\n",
    "        ),\n",
    "        process_options = documentai.ProcessOptions(\n",
    "            from_start = 5,\n",
    "            layout_config = documentai.ProcessOptions.LayoutConfig(\n",
    "                chunking_config = documentai.ProcessOptions.LayoutConfig.ChunkingConfig(\n",
    "                    chunk_size = 100,\n",
    "                    include_ancestor_headings = True,\n",
    "                )\n",
    "            )\n",
    "        )\n",
    "    )\n",
    ")"
   ]
  },
  {
   "cell_type": "markdown",
   "id": "041086b4-b2d4-4558-8aaa-a72dd32e0f41",
   "metadata": {},
   "source": [
    "#### Review response for `document_layout.blocks`:\n",
    "\n",
    "- The document is parsed into a block structure based on headings\n",
    "\n",
    "The full contents of the response will be covered in the [Process Responses](#process-responses) section below."
   ]
  },
  {
   "cell_type": "code",
   "execution_count": 180,
   "id": "d4f6fc5b-db86-4d76-b9c6-bff84e4ab3ac",
   "metadata": {
    "tags": []
   },
   "outputs": [
    {
     "data": {
      "text/plain": [
       "'OFFICIAL BASEBALL RULES'"
      ]
     },
     "execution_count": 180,
     "metadata": {},
     "output_type": "execute_result"
    }
   ],
   "source": [
    "online_gcs_response.document.document_layout.blocks[0].text_block.text"
   ]
  },
  {
   "cell_type": "markdown",
   "id": "8e4058c7-a984-4f19-8055-c89a6fb9e48b",
   "metadata": {},
   "source": [
    "#### Review response for `chunked_document.chunks`:\n",
    "\n",
    "- number of chunks and the first chunk\n",
    "\n",
    "The full contents of the response will be covered in the [Process Responses](#process-responses) section below."
   ]
  },
  {
   "cell_type": "code",
   "execution_count": 181,
   "id": "e6ded615-ecf4-4b2d-8991-6a09d3cd82e6",
   "metadata": {
    "tags": []
   },
   "outputs": [
    {
     "data": {
      "text/plain": [
       "11"
      ]
     },
     "execution_count": 181,
     "metadata": {},
     "output_type": "execute_result"
    }
   ],
   "source": [
    "len(online_gcs_response.document.chunked_document.chunks)"
   ]
  },
  {
   "cell_type": "code",
   "execution_count": 182,
   "id": "da6de5c6-a3f5-4fe4-afab-09d3da7e73d0",
   "metadata": {
    "tags": []
   },
   "outputs": [
    {
     "data": {
      "text/plain": [
       "chunk_id: \"c1\"\n",
       "content: \"# OFFICIAL BASEBALL RULES\\n\\n2023 Edition TM TM\"\n",
       "page_span {\n",
       "  page_start: 1\n",
       "  page_end: 2\n",
       "}"
      ]
     },
     "execution_count": 182,
     "metadata": {},
     "output_type": "execute_result"
    }
   ],
   "source": [
    "online_gcs_response.document.chunked_document.chunks[0]"
   ]
  },
  {
   "cell_type": "markdown",
   "id": "45de47f4-49ce-4010-bccd-65d1abd21bde",
   "metadata": {},
   "source": [
    "### Batch Processing: Multiple Documents and/or Larger Documents\n",
    "\n",
    "With batch processing there are two ways to specify documents.  A list of documents with uris or a prefix for the uri to match.  Either of these would work for the `input_documents` parameter of batch processing here:\n",
    "\n",
    "**List Each Document**\n",
    "```\n",
    "        input_documents = documentai.BatchDocumentsInputConfig(\n",
    "            gcs_documents = documentai.GcsDocuments(\n",
    "                documents = [\n",
    "                    \n",
    "                    documentai.GcsDocument(\n",
    "                        gcs_uri = f'gs://{bucket.name}/{SERIES}/{EXPERIMENT}/files/document.pdf',\n",
    "                        mime_type = 'application/pdf'\n",
    "                    ),\n",
    "                    documentai.GcsDocument(\n",
    "                        gcs_uri = f'gs://{bucket.name}/{SERIES}/{EXPERIMENT}/files/small_document.pdf',\n",
    "                        mime_type = 'application/pdf'\n",
    "                    )\n",
    "                ]\n",
    "            )\n",
    "        )\n",
    "```\n",
    "**Common Prefix For Documents**\n",
    "```\n",
    "        input_documents = documentai.BatchDocumentsInputConfig(\n",
    "            gcs_prefix = documentai.GcsPrefix(\n",
    "                gcs_uri_prefix = f'gs://{bucket.name}/{SERIES}/{EXPERIMENT}/files'\n",
    "            )\n",
    "        )\n",
    "```\n",
    "\n",
    "Reference:\n",
    "- [google.cloud.documentai.DocumentProcessorServiceClient.batch_process_documents()](https://cloud.google.com/python/docs/reference/documentai/latest/google.cloud.documentai_v1.services.document_processor_service.DocumentProcessorServiceClient#google_cloud_documentai_v1_services_document_processor_service_DocumentProcessorServiceClient_batch_process_documents)"
   ]
  },
  {
   "cell_type": "code",
   "execution_count": 215,
   "id": "03266d09-18cb-4b5b-81a2-1d9ec5cb8d49",
   "metadata": {
    "tags": []
   },
   "outputs": [
    {
     "name": "stdout",
     "output_type": "stream",
     "text": [
      "Waiting on batch job to complete: projects/1026793852137/locations/us/operations/4246794143789906350\n",
      "State.SUCCEEDED\n"
     ]
    }
   ],
   "source": [
    "batch_job = docai_client.batch_process_documents(\n",
    "    request = documentai.BatchProcessRequest(\n",
    "        name = parser.name,\n",
    "        input_documents = documentai.BatchDocumentsInputConfig(\n",
    "            gcs_prefix = documentai.GcsPrefix(\n",
    "                gcs_uri_prefix = f'gs://{bucket.name}/{SERIES}/{EXPERIMENT}/files/'\n",
    "            )\n",
    "        ),\n",
    "        document_output_config = documentai.DocumentOutputConfig(\n",
    "            gcs_output_config = documentai.DocumentOutputConfig.GcsOutputConfig(\n",
    "                gcs_uri = f'gs://{GCS_BUCKET}/{SERIES}/{EXPERIMENT}/parsing'\n",
    "            )\n",
    "        ),\n",
    "        process_options = documentai.ProcessOptions(\n",
    "            layout_config = documentai.ProcessOptions.LayoutConfig(\n",
    "                chunking_config = documentai.ProcessOptions.LayoutConfig.ChunkingConfig(\n",
    "                    chunk_size = 100,\n",
    "                    include_ancestor_headings = True,\n",
    "                )\n",
    "            )\n",
    "        )\n",
    "    )\n",
    ")\n",
    "\n",
    "print(f'Waiting on batch job to complete: {batch_job.operation.name}')\n",
    "batch_job.result()\n",
    "\n",
    "print(documentai.BatchProcessMetadata(batch_job.metadata).state)"
   ]
  },
  {
   "cell_type": "markdown",
   "id": "fd9591e6-8953-422b-ab44-bbd132f5e718",
   "metadata": {},
   "source": [
    "#### Retrieve Document Parsing Results"
   ]
  },
  {
   "cell_type": "code",
   "execution_count": 216,
   "id": "9934d5d5-60e3-4b2d-bcd1-254a3e0ea404",
   "metadata": {
    "tags": []
   },
   "outputs": [],
   "source": [
    "batch_responses = []\n",
    "for process in documentai.BatchProcessMetadata(batch_job.metadata).individual_process_statuses:\n",
    "    matches = re.match(r\"gs://(.*?)/(.*)\", process.output_gcs_destination)\n",
    "    output_bucket, output_prefix = matches.groups()\n",
    "    output_blobs = bucket.list_blobs(prefix = output_prefix)\n",
    "    for blob in output_blobs:\n",
    "        response = documentai.Document.from_json(blob.download_as_bytes(), ignore_unknown_fields = True)\n",
    "        batch_responses.append((blob.name.split('/')[-1], response))"
   ]
  },
  {
   "cell_type": "code",
   "execution_count": 217,
   "id": "46e28878-57d7-46c6-8183-0b7ad1571cbe",
   "metadata": {
    "tags": []
   },
   "outputs": [
    {
     "data": {
      "text/plain": [
       "2"
      ]
     },
     "execution_count": 217,
     "metadata": {},
     "output_type": "execute_result"
    }
   ],
   "source": [
    "len(batch_responses)"
   ]
  },
  {
   "cell_type": "markdown",
   "id": "ea0beb5a-990b-4727-8a37-7fb9893bde93",
   "metadata": {},
   "source": [
    "#### Review response for a document:\n",
    "\n",
    "The full contents of the response will be covered in the [Process Responses](#process-responses) section below."
   ]
  },
  {
   "cell_type": "code",
   "execution_count": 218,
   "id": "c1c5e785-cf5a-48e5-a26f-8aa03c8ea90d",
   "metadata": {
    "tags": []
   },
   "outputs": [
    {
     "data": {
      "text/plain": [
       "('document-0.json', 'small_document-0.json')"
      ]
     },
     "execution_count": 218,
     "metadata": {},
     "output_type": "execute_result"
    }
   ],
   "source": [
    "batch_responses[0][0], batch_responses[1][0]"
   ]
  },
  {
   "cell_type": "code",
   "execution_count": 219,
   "id": "d597defe-4a2e-49cd-8a02-3e8b3a88adb1",
   "metadata": {
    "tags": []
   },
   "outputs": [
    {
     "data": {
      "text/plain": [
       "chunk_id: \"c1\"\n",
       "content: \"# OFFICIAL BASEBALL RULES\\n\\n2023 Edition TM TM\"\n",
       "page_span {\n",
       "  page_start: 1\n",
       "  page_end: 7\n",
       "}\n",
       "page_footers {\n",
       "  text: \"V1\"\n",
       "  page_span {\n",
       "    page_start: 6\n",
       "    page_end: 6\n",
       "  }\n",
       "}\n",
       "page_footers {\n",
       "  text: \"vii\"\n",
       "  page_span {\n",
       "    page_start: 7\n",
       "    page_end: 7\n",
       "  }\n",
       "}"
      ]
     },
     "execution_count": 219,
     "metadata": {},
     "output_type": "execute_result"
    }
   ],
   "source": [
    "batch_responses[0][1].chunked_document.chunks[0]"
   ]
  },
  {
   "cell_type": "code",
   "execution_count": 220,
   "id": "68a5fdc4-04a1-4c26-8e85-f85e1ee444aa",
   "metadata": {
    "tags": []
   },
   "outputs": [
    {
     "data": {
      "text/plain": [
       "chunk_id: \"c1\"\n",
       "content: \"# OFFICIAL BASEBALL RULES\\n\\n2023 Edition TM TM\"\n",
       "page_span {\n",
       "  page_start: 1\n",
       "  page_end: 2\n",
       "}"
      ]
     },
     "execution_count": 220,
     "metadata": {},
     "output_type": "execute_result"
    }
   ],
   "source": [
    "batch_responses[1][1].chunked_document.chunks[0]"
   ]
  },
  {
   "cell_type": "markdown",
   "id": "f140cd2a-8ce2-4bcf-904d-f1d6d0799b7c",
   "metadata": {},
   "source": [
    "### Online Async Processing: Multiple Parallel Requests For Different Pages\n",
    "\n",
    "The online request are limited in file size and number of pages.  In this case, the layout parser, the limit is 15 pages for online and 500 for batch. \n",
    "\n",
    "There are ways to work with document segments with the online client and this enables processing of larger content.  Additionally, the async client for Document AI makes it possible to handle multiple simoultaneous request from a single client session.\n",
    "\n",
    "The example below shows using these techniques to process the entire 192 page document with online processing.\n",
    "\n",
    "Reference:\n",
    "- [documentai.ProcessRequest()](https://cloud.google.com/python/docs/reference/documentai/latest/google.cloud.documentai_v1.types.ProcessRequest)\n",
    "    - `inline_document` = [documentai.Document()](https://cloud.google.com/python/docs/reference/documentai/latest/google.cloud.documentai_v1.types.Document)\n",
    "    - `process_options` = [documentai.ProcessOptions()](https://cloud.google.com/python/docs/reference/documentai/latest/google.cloud.documentai_v1.types.ProcessOptions)\n",
    "        - `individual_page_selector` = [documenai.ProcessOptions.IndividualPageSelector](https://cloud.google.com/python/docs/reference/documentai/latest/google.cloud.documentai_v1.types.ProcessOptions.IndividualPageSelector)\n",
    "        - `layout_config` = [documentai.ProcessOptions.LayoutConfig()](https://cloud.google.com/python/docs/reference/documentai/latest/google.cloud.documentai_v1.types.ProcessOptions.LayoutConfig)"
   ]
  },
  {
   "cell_type": "markdown",
   "id": "99aa9be9-c376-4c12-a199-86829d56dade",
   "metadata": {},
   "source": [
    "#### Determine The Number of Document Segments\n",
    "\n",
    "A single request for online processing can handle 15 pages.  Determine the number of 15 page segments with a little math:\n",
    "- how many full 15 page segments: `document.page_count // 15`\n",
    "- is there a partial segment at the end?: `1 * min(1, document.page_count % 15)`\n",
    "- add these together"
   ]
  },
  {
   "cell_type": "code",
   "execution_count": 222,
   "id": "fd152cc8-48af-4c68-8f0f-7c7dea84f649",
   "metadata": {
    "tags": []
   },
   "outputs": [
    {
     "data": {
      "text/plain": [
       "192"
      ]
     },
     "execution_count": 222,
     "metadata": {},
     "output_type": "execute_result"
    }
   ],
   "source": [
    "document.page_count"
   ]
  },
  {
   "cell_type": "code",
   "execution_count": 223,
   "id": "b8a755a9-43dc-4e3d-8ecd-843441a935a5",
   "metadata": {
    "tags": []
   },
   "outputs": [
    {
     "data": {
      "text/plain": [
       "13"
      ]
     },
     "execution_count": 223,
     "metadata": {},
     "output_type": "execute_result"
    }
   ],
   "source": [
    "num_segments = document.page_count // 15 + 1 * min(1, document.page_count % 15)\n",
    "num_segments"
   ]
  },
  {
   "cell_type": "code",
   "execution_count": 226,
   "id": "bad8344c-9bf5-4dbc-bc74-d25820cab83f",
   "metadata": {
    "tags": []
   },
   "outputs": [],
   "source": [
    "page_segments = []\n",
    "for segment in range(num_segments):\n",
    "    page_segments.append(\n",
    "        [i+1 for i in range(15*segment, min(document.page_count, 15*(segment + 1)))]\n",
    "    )"
   ]
  },
  {
   "cell_type": "code",
   "execution_count": 233,
   "id": "3fab0383-9178-42f3-8216-b93e273c517a",
   "metadata": {
    "tags": []
   },
   "outputs": [
    {
     "name": "stdout",
     "output_type": "stream",
     "text": [
      "Number of segments:  13 \n",
      "Pages in first segment:  [1, 2, 3, 4, 5, 6, 7, 8, 9, 10, 11, 12, 13, 14, 15] \n",
      "Pages in last segment:  [181, 182, 183, 184, 185, 186, 187, 188, 189, 190, 191, 192]\n"
     ]
    }
   ],
   "source": [
    "print(\n",
    "    'Number of segments: ', len(page_segments),\n",
    "    '\\nPages in first segment: ', page_segments[0],\n",
    "    '\\nPages in last segment: ', page_segments[-1]\n",
    ")"
   ]
  },
  {
   "cell_type": "markdown",
   "id": "4d8c8568-c50c-4415-b2eb-29b9cfa3e18e",
   "metadata": {},
   "source": [
    "#### Async Requests For Each Segment:"
   ]
  },
  {
   "cell_type": "code",
   "execution_count": 229,
   "id": "5383f61c-a0eb-480d-a9ee-0b3927f384b0",
   "metadata": {
    "tags": []
   },
   "outputs": [],
   "source": [
    "online_async_responses = await asyncio.gather(\n",
    "    *[\n",
    "        docai_async_client.process_document(\n",
    "            request = documentai.ProcessRequest(\n",
    "                name = parser.name,\n",
    "                inline_document = documentai.Document(\n",
    "                    content = document_bytes,\n",
    "                    mime_type = 'application/pdf'\n",
    "                ),\n",
    "                process_options = documentai.ProcessOptions(\n",
    "                    individual_page_selector = documentai.ProcessOptions.IndividualPageSelector(\n",
    "                        pages = segment\n",
    "                    ),\n",
    "                    layout_config = documentai.ProcessOptions.LayoutConfig(\n",
    "                        chunking_config = documentai.ProcessOptions.LayoutConfig.ChunkingConfig(\n",
    "                            chunk_size = 100,\n",
    "                            include_ancestor_headings = True,\n",
    "                        )\n",
    "                    )\n",
    "                ),\n",
    "            )\n",
    "        ) for segment in page_segments\n",
    "    ]\n",
    ")"
   ]
  },
  {
   "cell_type": "markdown",
   "id": "fdb99b8d-b5f5-42e0-9310-0a32ae8b74ca",
   "metadata": {},
   "source": [
    "#### Review response for each segment:\n",
    "\n",
    "How many chunks were created for each segment?"
   ]
  },
  {
   "cell_type": "code",
   "execution_count": 235,
   "id": "584363c9-a3a8-4ee1-8db0-64c43c26a0d5",
   "metadata": {
    "tags": []
   },
   "outputs": [
    {
     "name": "stdout",
     "output_type": "stream",
     "text": [
      "867\n",
      "867\n",
      "867\n",
      "867\n",
      "867\n",
      "867\n",
      "867\n",
      "867\n",
      "867\n",
      "867\n",
      "867\n",
      "867\n",
      "867\n"
     ]
    }
   ],
   "source": [
    "for response in online_async_responses:\n",
    "    print(len(response.document.chunked_document.chunks))"
   ]
  },
  {
   "cell_type": "markdown",
   "id": "f547aac4-1ef5-4060-af4d-ce632c221985",
   "metadata": {},
   "source": [
    "**Note to check:** It appears the full document is being processe rather than the page range even though it exceed the 15 page max"
   ]
  },
  {
   "cell_type": "markdown",
   "id": "e4326a07-92c0-44a3-add5-91d311673ea9",
   "metadata": {},
   "source": [
    "---\n",
    "## Process Responses\n",
    "\n",
    "Each of the methods covered above process the document into parts.  This section will show how to extract information from, parse, the result."
   ]
  },
  {
   "cell_type": "markdown",
   "id": "f6737f42-0aab-4e15-b168-ecad6fae7561",
   "metadata": {},
   "source": [
    "### Review The Response Parts\n",
    "\n",
    "Use the batch processing method above and get the response for the full document:\n"
   ]
  },
  {
   "cell_type": "code",
   "execution_count": 249,
   "id": "6d22184f-4cc8-48e4-b4f9-99504aff9716",
   "metadata": {
    "tags": []
   },
   "outputs": [
    {
     "data": {
      "text/plain": [
       "'document-0.json'"
      ]
     },
     "execution_count": 249,
     "metadata": {},
     "output_type": "execute_result"
    }
   ],
   "source": [
    "batch_responses[0][0]"
   ]
  },
  {
   "cell_type": "markdown",
   "id": "b696924d-b31f-4219-8ad4-0f462a3f2b97",
   "metadata": {},
   "source": [
    "The response is in the form of a [documentai.Document()](https://cloud.google.com/python/docs/reference/documentai/latest/google.cloud.documentai_v1.types.Document)"
   ]
  },
  {
   "cell_type": "code",
   "execution_count": 250,
   "id": "fc8fb320-b310-416a-9797-c262f9fb1e11",
   "metadata": {
    "tags": []
   },
   "outputs": [
    {
     "data": {
      "text/plain": [
       "google.cloud.documentai_v1.types.document.Document"
      ]
     },
     "execution_count": 250,
     "metadata": {},
     "output_type": "execute_result"
    }
   ],
   "source": [
    "response = batch_responses[0][1]\n",
    "type(response)"
   ]
  },
  {
   "cell_type": "markdown",
   "id": "a5a14b3e-b182-4694-9776-012d4ae77451",
   "metadata": {},
   "source": [
    "For this parser, the layout parser, there are two key object in the `documentai.Document()`:\n",
    "- [documentai.Document.DocumentLayout()](https://cloud.google.com/python/docs/reference/documentai/latest/google.cloud.documentai_v1.types.Document.DocumentLayout)\n",
    "- [documentai.Document.ChunkedDocument()](https://cloud.google.com/python/docs/reference/documentai/latest/google.cloud.documentai_v1.types.Document.ChunkedDocument)"
   ]
  },
  {
   "cell_type": "code",
   "execution_count": 251,
   "id": "56c7bb41-f88f-4914-b514-84d85ad0de7d",
   "metadata": {
    "tags": []
   },
   "outputs": [
    {
     "data": {
      "text/plain": [
       "google.cloud.documentai_v1.types.document.Document.DocumentLayout"
      ]
     },
     "execution_count": 251,
     "metadata": {},
     "output_type": "execute_result"
    }
   ],
   "source": [
    "type(response.document_layout)"
   ]
  },
  {
   "cell_type": "code",
   "execution_count": 252,
   "id": "326f733c-2eb2-45a2-9c6d-68074de8cb37",
   "metadata": {
    "tags": []
   },
   "outputs": [
    {
     "data": {
      "text/plain": [
       "google.cloud.documentai_v1.types.document.Document.ChunkedDocument"
      ]
     },
     "execution_count": 252,
     "metadata": {},
     "output_type": "execute_result"
    }
   ],
   "source": [
    "type(response.chunked_document)"
   ]
  },
  {
   "cell_type": "markdown",
   "id": "de3a470c-e596-4b25-a95c-2a38f6e8cadc",
   "metadata": {},
   "source": [
    "### Review The `Document.ChunkedDocument` Parts\n",
    "\n",
    "The `document.chunked_document` contains a list of `chunks`.  These are made up of:\n",
    "- `chunk_id` is an id for the individual chunk\n",
    "- `content` is the text of the content in the chunk\n",
    "- `page_span` the page span the chunk is from\n",
    "    - `page_start` is the page where the chunk starts\n",
    "    - `page_end` is the page where the chunk ends\n",
    "- `page_footers` is a footer assoicated with the chunk\n",
    "    - `text` is the footers text\n",
    "    - `page_span` the page span the footer is from\n",
    "        - `page_start` is the page where the footer starts\n",
    "        - `page_end` is the page where the footer ends\n",
    "- `page_headers` is a header associated with the chunk\n",
    "    - `text` is the headers text\n",
    "    - `page_span` the page span the header is from\n",
    "        - `page_start` is the page where the header starts\n",
    "        - `page_end` is the page where the header ends\n",
    "\n",
    "Reference:\n",
    "- [documentai.Document.ChunkedDocument()](https://cloud.google.com/python/docs/reference/documentai/latest/google.cloud.documentai_v1.types.Document.ChunkedDocument)"
   ]
  },
  {
   "cell_type": "code",
   "execution_count": 279,
   "id": "0c594009-b5e4-4542-9233-9470875b219c",
   "metadata": {
    "tags": []
   },
   "outputs": [
    {
     "data": {
      "text/plain": [
       "google.cloud.documentai_v1.types.document.Document.ChunkedDocument"
      ]
     },
     "execution_count": 279,
     "metadata": {},
     "output_type": "execute_result"
    }
   ],
   "source": [
    "type(response.chunked_document)"
   ]
  },
  {
   "cell_type": "code",
   "execution_count": 256,
   "id": "bc05c0c8-9f14-4925-ab96-de349e3ef5e8",
   "metadata": {
    "tags": []
   },
   "outputs": [
    {
     "data": {
      "text/plain": [
       "google.cloud.documentai_v1.types.document.Document.ChunkedDocument.Chunk"
      ]
     },
     "execution_count": 256,
     "metadata": {},
     "output_type": "execute_result"
    }
   ],
   "source": [
    "type(response.chunked_document.chunks[0])"
   ]
  },
  {
   "cell_type": "markdown",
   "id": "6c7d55f7-b139-4d0e-a911-b7c28818bf95",
   "metadata": {},
   "source": [
    "How many chunks were created from the document:"
   ]
  },
  {
   "cell_type": "code",
   "execution_count": 274,
   "id": "733ea2c5-4446-42b6-8de6-a6eb985039da",
   "metadata": {
    "tags": []
   },
   "outputs": [
    {
     "data": {
      "text/plain": [
       "867"
      ]
     },
     "execution_count": 274,
     "metadata": {},
     "output_type": "execute_result"
    }
   ],
   "source": [
    "len(response.chunked_document.chunks)"
   ]
  },
  {
   "cell_type": "markdown",
   "id": "f9eadc40-a11f-4cd2-8555-e3b3ac5c6837",
   "metadata": {},
   "source": [
    "View the first chunk:"
   ]
  },
  {
   "cell_type": "code",
   "execution_count": 257,
   "id": "9929c11f-90a2-44fb-9c1d-19af6a9a3bf7",
   "metadata": {
    "tags": []
   },
   "outputs": [
    {
     "data": {
      "text/plain": [
       "chunk_id: \"c1\"\n",
       "content: \"# OFFICIAL BASEBALL RULES\\n\\n2023 Edition TM TM\"\n",
       "page_span {\n",
       "  page_start: 1\n",
       "  page_end: 7\n",
       "}\n",
       "page_footers {\n",
       "  text: \"V1\"\n",
       "  page_span {\n",
       "    page_start: 6\n",
       "    page_end: 6\n",
       "  }\n",
       "}\n",
       "page_footers {\n",
       "  text: \"vii\"\n",
       "  page_span {\n",
       "    page_start: 7\n",
       "    page_end: 7\n",
       "  }\n",
       "}"
      ]
     },
     "execution_count": 257,
     "metadata": {},
     "output_type": "execute_result"
    }
   ],
   "source": [
    "response.chunked_document.chunks[0]"
   ]
  },
  {
   "cell_type": "markdown",
   "id": "54cd175d-38f9-4d52-896b-a3e03613bddb",
   "metadata": {},
   "source": [
    "### Examine A Chunk\n",
    "\n",
    "- See the content of a chunk\n",
    "- Extract each part of a chunk\n",
    "- View the pages and compare to the chunk"
   ]
  },
  {
   "cell_type": "code",
   "execution_count": 275,
   "id": "f45e5379-3dda-4bdd-8a98-5b2f4b05461d",
   "metadata": {
    "tags": []
   },
   "outputs": [
    {
     "data": {
      "text/plain": [
       "chunk_id: \"c2\"\n",
       "content: \"# OFFICIAL BASEBALL RULES\\n\\n## Official Baseball Rules 2023 Edition\\n\\n### JOINT COMPETITION COMMITTEE\\n\\n|-|-|-|\\n| Bill DeWitt | Whit Merrifield | Austin Slater |\\n| Jack Flaherty | Bill Miller | John Stanton, Chair |\\n| Tyler Glasnow | Dick Monfort | Tom Werner |\\n| Greg Johnson | Mark Shapiro |  |\\n\\nCommittee Secretary Paul V. Mifsud, Jr. Copyright © 2023 by the Office of the Commissioner of Baseball\"\n",
       "page_span {\n",
       "  page_start: 2\n",
       "  page_end: 3\n",
       "}"
      ]
     },
     "execution_count": 275,
     "metadata": {},
     "output_type": "execute_result"
    }
   ],
   "source": [
    "response.chunked_document.chunks[1]"
   ]
  },
  {
   "cell_type": "code",
   "execution_count": 276,
   "id": "55d4c60d-794e-4e3d-b30d-31e22bce3bb5",
   "metadata": {
    "tags": []
   },
   "outputs": [
    {
     "data": {
      "text/plain": [
       "'c2'"
      ]
     },
     "execution_count": 276,
     "metadata": {},
     "output_type": "execute_result"
    }
   ],
   "source": [
    "response.chunked_document.chunks[1].chunk_id"
   ]
  },
  {
   "cell_type": "code",
   "execution_count": 277,
   "id": "f0d03f79-998f-40fe-bca2-994656ef45d1",
   "metadata": {
    "tags": []
   },
   "outputs": [
    {
     "data": {
      "text/plain": [
       "'# OFFICIAL BASEBALL RULES\\n\\n## Official Baseball Rules 2023 Edition\\n\\n### JOINT COMPETITION COMMITTEE\\n\\n|-|-|-|\\n| Bill DeWitt | Whit Merrifield | Austin Slater |\\n| Jack Flaherty | Bill Miller | John Stanton, Chair |\\n| Tyler Glasnow | Dick Monfort | Tom Werner |\\n| Greg Johnson | Mark Shapiro |  |\\n\\nCommittee Secretary Paul V. Mifsud, Jr. Copyright © 2023 by the Office of the Commissioner of Baseball'"
      ]
     },
     "execution_count": 277,
     "metadata": {},
     "output_type": "execute_result"
    }
   ],
   "source": [
    "response.chunked_document.chunks[1].content"
   ]
  },
  {
   "cell_type": "code",
   "execution_count": 278,
   "id": "d296a4a7-cf48-4610-b9fa-7f241207a6e1",
   "metadata": {
    "tags": []
   },
   "outputs": [
    {
     "name": "stdout",
     "output_type": "stream",
     "text": [
      "# OFFICIAL BASEBALL RULES\n",
      "\n",
      "## Official Baseball Rules 2023 Edition\n",
      "\n",
      "### JOINT COMPETITION COMMITTEE\n",
      "\n",
      "|-|-|-|\n",
      "| Bill DeWitt | Whit Merrifield | Austin Slater |\n",
      "| Jack Flaherty | Bill Miller | John Stanton, Chair |\n",
      "| Tyler Glasnow | Dick Monfort | Tom Werner |\n",
      "| Greg Johnson | Mark Shapiro |  |\n",
      "\n",
      "Committee Secretary Paul V. Mifsud, Jr. Copyright © 2023 by the Office of the Commissioner of Baseball\n"
     ]
    }
   ],
   "source": [
    "print(response.chunked_document.chunks[1].content)"
   ]
  },
  {
   "cell_type": "code",
   "execution_count": 273,
   "id": "bdfa5066-74a4-4b48-bcc0-9d47a25f617c",
   "metadata": {
    "tags": []
   },
   "outputs": [
    {
     "data": {
      "image/jpeg": "[encoded data removed]",
      "image/png": "[encoded data removed]",
      "text/plain": [
       "<PIL.Image.Image image mode=RGB size=792x612>"
      ]
     },
     "execution_count": 273,
     "metadata": {},
     "output_type": "execute_result"
    }
   ],
   "source": [
    "show = PIL.Image.new('RGB', (page_images[0].size[0]+page_images[1].size[0], page_images[0].size[1]))\n",
    "show.paste(page_images[0], (0,0))\n",
    "show.paste(page_images[1], (page_images[0].size[0], 0))\n",
    "show"
   ]
  },
  {
   "cell_type": "markdown",
   "id": "fdf8f59f-d297-412b-be14-b87b968cf919",
   "metadata": {},
   "source": [
    "**Description**\n",
    "\n",
    "Notice that the chunk include the heading hierarchy that the chunk falls under.  In this case that is three levels down: title > heading 1 > heading 2.  Reviewing the page images it is clear that page 1 has the title, page 2 is a subsection, and the \"JOINT COMPETITION COMMITEE\" is detetect as a third level.\n",
    "\n",
    "Note that the committe members are presented side-by-side in three colums.  This is presented in the `content` of the chunk with markdown so that it retains the tabular information."
   ]
  },
  {
   "cell_type": "markdown",
   "id": "e9156c75-2ffe-48fd-9712-57083dd62996",
   "metadata": {},
   "source": [
    "### Process and Store Chunks\n",
    "\n",
    "This section shows how to:\n",
    "- convert chunks to a Python dictionary\n",
    "- store the chunks in a JSONL file in this repository\n",
    "\n",
    "> Note: The `documentai.document.Document` object is a protobuf.  It has built-in methods for conversion of messages like `.to_dict()` and `.to_json()`.  These follow the `google.protobuf.json_format` - [reference](https://googleapis.dev/python/protobuf/latest/google/protobuf/json_format.html).  That means the parameters of `.to_dict()` are the same as `google.protobuf.json_format.MessageToDict()` which includes `use_integer_for_enums` which should be set `= False` to get the text representation of enum values."
   ]
  },
  {
   "cell_type": "markdown",
   "id": "180de1a5-83a2-4e0e-9771-204b731f82ff",
   "metadata": {},
   "source": [
    "Convert document object to Python dictionary and get a list of dictionaries for each chunk:"
   ]
  },
  {
   "cell_type": "code",
   "execution_count": 291,
   "id": "dd1c9721-3b4b-4319-a0e7-9e47a98cbc46",
   "metadata": {
    "tags": []
   },
   "outputs": [],
   "source": [
    "chunks = documentai.Document.to_dict(response, use_integers_for_enums = False)['chunked_document']['chunks']"
   ]
  },
  {
   "cell_type": "code",
   "execution_count": 292,
   "id": "610d5a8e-ebd5-4844-86ca-1becdfe07697",
   "metadata": {
    "tags": []
   },
   "outputs": [
    {
     "data": {
      "text/plain": [
       "dict"
      ]
     },
     "execution_count": 292,
     "metadata": {},
     "output_type": "execute_result"
    }
   ],
   "source": [
    "type(chunks[0])"
   ]
  },
  {
   "cell_type": "code",
   "execution_count": 293,
   "id": "ac641311-c97d-401f-8fcd-604557a4da9c",
   "metadata": {
    "tags": []
   },
   "outputs": [
    {
     "data": {
      "text/plain": [
       "{'chunk_id': 'c1',\n",
       " 'content': '# OFFICIAL BASEBALL RULES\\n\\n2023 Edition TM TM',\n",
       " 'page_span': {'page_start': 1, 'page_end': 7},\n",
       " 'page_footers': [{'text': 'V1',\n",
       "   'page_span': {'page_start': 6, 'page_end': 6}},\n",
       "  {'text': 'vii', 'page_span': {'page_start': 7, 'page_end': 7}}],\n",
       " 'source_block_ids': [],\n",
       " 'page_headers': []}"
      ]
     },
     "execution_count": 293,
     "metadata": {},
     "output_type": "execute_result"
    }
   ],
   "source": [
    "chunks[0]"
   ]
  },
  {
   "cell_type": "code",
   "execution_count": 385,
   "id": "3f01a6f4-aea2-4ff1-8992-06a1379c413e",
   "metadata": {
    "tags": []
   },
   "outputs": [
    {
     "data": {
      "text/plain": [
       "867"
      ]
     },
     "execution_count": 385,
     "metadata": {},
     "output_type": "execute_result"
    }
   ],
   "source": [
    "len(chunks)"
   ]
  },
  {
   "cell_type": "markdown",
   "id": "c9e6d61f-7f06-4fd3-883a-c147009a1f90",
   "metadata": {},
   "source": [
    "Create A local file of JSONL from the list of chunk dictionaries:"
   ]
  },
  {
   "cell_type": "code",
   "execution_count": 386,
   "id": "da8435ed-42a9-4a40-921d-3db3ac07f888",
   "metadata": {
    "tags": []
   },
   "outputs": [],
   "source": [
    "with open(f'{DIR}/document-chunks.jsonl', 'w') as f:\n",
    "    for chunk in chunks:\n",
    "        f.write(json.dumps(chunk)+ '\\n')"
   ]
  },
  {
   "cell_type": "code",
   "execution_count": 387,
   "id": "a5bb0957-296f-451e-99c1-eb0992a22285",
   "metadata": {
    "tags": []
   },
   "outputs": [
    {
     "data": {
      "text/plain": [
       "['document-chunks.jsonl', 'small_document.pdf', 'document.pdf']"
      ]
     },
     "execution_count": 387,
     "metadata": {},
     "output_type": "execute_result"
    }
   ],
   "source": [
    "os.listdir(DIR)"
   ]
  },
  {
   "cell_type": "markdown",
   "id": "97871e28-5991-4e65-9643-1700684889db",
   "metadata": {},
   "source": [
    "### Review The `Document.DocumentLayout` Parts\n",
    "\n",
    "The `document.document_layout` contains a list of `blocks`.  These are made up of:\n",
    "- `block_id` is the id for the individual block\n",
    "- one of:\n",
    "    - `text_block` is a block of text content\n",
    "        - `text` the text from the block\n",
    "        - `type_` is the type of text: paragraph, subtitle, heading-1, heading-2, heading-3, heading-4, heading-5, header, footer\n",
    "        - `blocks` is a list of nested blocks\n",
    "    - `table_block` is a block of tabular content\n",
    "        - `header_rows` is a list of header rows for the table\n",
    "            - `cells` is a list of cells for the row\n",
    "                - `blocks` is a list of content blocks for the cell\n",
    "                - `row_span` is how many rows this cell spans\n",
    "                - `col_span` is how many columns this cell spans\n",
    "        - `body_rows` is a list of content rows for the table\n",
    "            - `cells` is a list of cells for the row\n",
    "                - `blocks` is a list of content blocks for the cell\n",
    "                - `row_span` is how many rows this cell spans\n",
    "                - `col_span` is how many columns this cell spans\n",
    "        - `caption` is the text of a caption or title\n",
    "    - `list_block` is a block with a list\n",
    "        - `list_entries` is a list of entry blocks\n",
    "            - `blocks` is a list of content blocks for the list entry\n",
    "        - `type_` is the type of list: ordered, unordered\n",
    "- `page_span` the page span the block is from\n",
    "    - `page_start` is the page where the block starts\n",
    "    - `page_end` is the page where the block ends\n",
    "\n",
    "Reference:\n",
    "- [documentai.Document.DocumentLayout()](https://cloud.google.com/python/docs/reference/documentai/latest/google.cloud.documentai_v1.types.Document.DocumentLayout)"
   ]
  },
  {
   "cell_type": "code",
   "execution_count": 299,
   "id": "0fa3987f-d906-422e-b8ad-8f8b1979a76d",
   "metadata": {
    "tags": []
   },
   "outputs": [
    {
     "data": {
      "text/plain": [
       "google.cloud.documentai_v1.types.document.Document.DocumentLayout"
      ]
     },
     "execution_count": 299,
     "metadata": {},
     "output_type": "execute_result"
    }
   ],
   "source": [
    "type(response.document_layout)"
   ]
  },
  {
   "cell_type": "code",
   "execution_count": 300,
   "id": "517a4b7f-1d0b-4ae3-aaa7-eed2f669ecdd",
   "metadata": {
    "tags": []
   },
   "outputs": [
    {
     "data": {
      "text/plain": [
       "google.cloud.documentai_v1.types.document.Document.DocumentLayout.DocumentLayoutBlock"
      ]
     },
     "execution_count": 300,
     "metadata": {},
     "output_type": "execute_result"
    }
   ],
   "source": [
    "type(response.document_layout.blocks[0])"
   ]
  },
  {
   "cell_type": "markdown",
   "id": "3a345bec-175f-48be-bc80-90f223f8ad2d",
   "metadata": {},
   "source": [
    "How many chunks were created from the document:"
   ]
  },
  {
   "cell_type": "code",
   "execution_count": 301,
   "id": "207ab9e6-6b6e-4136-b490-f8bff5eb2386",
   "metadata": {
    "tags": []
   },
   "outputs": [
    {
     "data": {
      "text/plain": [
       "133"
      ]
     },
     "execution_count": 301,
     "metadata": {},
     "output_type": "execute_result"
    }
   ],
   "source": [
    "len(response.document_layout.blocks)"
   ]
  },
  {
   "cell_type": "markdown",
   "id": "bbb18889-2449-418d-b59a-fb82fe7a86e8",
   "metadata": {},
   "source": [
    "View the first block:"
   ]
  },
  {
   "cell_type": "code",
   "execution_count": 303,
   "id": "5b9bf8e4-d918-424a-9e85-8dd9e9065e1e",
   "metadata": {
    "tags": []
   },
   "outputs": [],
   "source": [
    "#response.document_layout.blocks[0]"
   ]
  },
  {
   "cell_type": "code",
   "execution_count": 305,
   "id": "ba6e00bf-6aed-4b02-a652-8cb426f9c412",
   "metadata": {
    "tags": []
   },
   "outputs": [
    {
     "data": {
      "text/plain": [
       "'1'"
      ]
     },
     "execution_count": 305,
     "metadata": {},
     "output_type": "execute_result"
    }
   ],
   "source": [
    "response.document_layout.blocks[0].block_id"
   ]
  },
  {
   "cell_type": "code",
   "execution_count": 306,
   "id": "8e9fd38d-a1c9-4928-8bae-850cb63c5ee9",
   "metadata": {
    "tags": []
   },
   "outputs": [
    {
     "data": {
      "text/plain": [
       "page_start: 1\n",
       "page_end: 7"
      ]
     },
     "execution_count": 306,
     "metadata": {},
     "output_type": "execute_result"
    }
   ],
   "source": [
    "response.document_layout.blocks[0].page_span"
   ]
  },
  {
   "cell_type": "code",
   "execution_count": 308,
   "id": "7926e281-81aa-4c37-bf3b-ccae29f109ac",
   "metadata": {
    "tags": []
   },
   "outputs": [
    {
     "data": {
      "text/plain": [
       "'OFFICIAL BASEBALL RULES'"
      ]
     },
     "execution_count": 308,
     "metadata": {},
     "output_type": "execute_result"
    }
   ],
   "source": [
    "response.document_layout.blocks[0].text_block.text"
   ]
  },
  {
   "cell_type": "code",
   "execution_count": 310,
   "id": "9780917c-811a-46f3-843f-dbce54ca3004",
   "metadata": {
    "tags": []
   },
   "outputs": [
    {
     "data": {
      "text/plain": [
       "'heading-1'"
      ]
     },
     "execution_count": 310,
     "metadata": {},
     "output_type": "execute_result"
    }
   ],
   "source": [
    "response.document_layout.blocks[0].text_block.type_"
   ]
  },
  {
   "cell_type": "code",
   "execution_count": 311,
   "id": "35e539bb-7018-428c-8e95-b620a8376efb",
   "metadata": {
    "tags": []
   },
   "outputs": [
    {
     "data": {
      "text/plain": [
       "7"
      ]
     },
     "execution_count": 311,
     "metadata": {},
     "output_type": "execute_result"
    }
   ],
   "source": [
    "len(response.document_layout.blocks[0].text_block.blocks)"
   ]
  },
  {
   "cell_type": "markdown",
   "id": "33c8076a-2023-4c92-89be-537978f41091",
   "metadata": {},
   "source": [
    "### Examine Blocks\n",
    "\n",
    "A block can be very large because it can span multiple pages and be multiple levels deep as it represents headings.  The following routine will count the levels of each elment type for each block and present a summary:"
   ]
  },
  {
   "cell_type": "markdown",
   "id": "e8e65e43-f063-4a80-b30a-6d02a4bdd40d",
   "metadata": {},
   "source": [
    "Convert document object to Python dictionary and get a list of dictionaries for each chunk:"
   ]
  },
  {
   "cell_type": "code",
   "execution_count": 312,
   "id": "98390efe-86eb-45d2-80b6-890883fe3f16",
   "metadata": {
    "tags": []
   },
   "outputs": [],
   "source": [
    "blocks = documentai.Document.to_dict(response, use_integers_for_enums = False)['document_layout']['blocks']"
   ]
  },
  {
   "cell_type": "code",
   "execution_count": 313,
   "id": "891c4fd5-3db4-47b8-bb84-8c3343e505d7",
   "metadata": {
    "tags": []
   },
   "outputs": [
    {
     "data": {
      "text/plain": [
       "dict"
      ]
     },
     "execution_count": 313,
     "metadata": {},
     "output_type": "execute_result"
    }
   ],
   "source": [
    "type(blocks[0])"
   ]
  },
  {
   "cell_type": "code",
   "execution_count": 315,
   "id": "ded4cfdd-e939-43d0-b70a-0b88fb2f7e9d",
   "metadata": {
    "tags": []
   },
   "outputs": [
    {
     "data": {
      "text/plain": [
       "133"
      ]
     },
     "execution_count": 315,
     "metadata": {},
     "output_type": "execute_result"
    }
   ],
   "source": [
    "len(blocks)"
   ]
  },
  {
   "cell_type": "markdown",
   "id": "2c5b3c4f-66d9-4ffc-82b2-4b04a459e4ec",
   "metadata": {},
   "source": [
    "Blocks are structured representations of sections of the document that the parser detected based on heading levels and titles.  "
   ]
  },
  {
   "cell_type": "code",
   "execution_count": 356,
   "id": "ece45ffc-de0a-4850-95fd-bd9142d1a612",
   "metadata": {
    "tags": []
   },
   "outputs": [
    {
     "data": {
      "text/plain": [
       "{'page_start': 1, 'page_end': 7}"
      ]
     },
     "execution_count": 356,
     "metadata": {},
     "output_type": "execute_result"
    }
   ],
   "source": [
    "blocks[0]['page_span']"
   ]
  },
  {
   "cell_type": "code",
   "execution_count": 357,
   "id": "1f21521f-07ce-4069-98dc-410624387c75",
   "metadata": {
    "tags": []
   },
   "outputs": [
    {
     "data": {
      "text/plain": [
       "{'page_start': 7, 'page_end': 13}"
      ]
     },
     "execution_count": 357,
     "metadata": {},
     "output_type": "execute_result"
    }
   ],
   "source": [
    "blocks[1]['page_span']"
   ]
  },
  {
   "cell_type": "code",
   "execution_count": 358,
   "id": "6c7ecdf7-8d74-46ad-aaac-bed6fdc610e6",
   "metadata": {
    "tags": []
   },
   "outputs": [
    {
     "data": {
      "text/plain": [
       "{'page_start': 13, 'page_end': 13}"
      ]
     },
     "execution_count": 358,
     "metadata": {},
     "output_type": "execute_result"
    }
   ],
   "source": [
    "blocks[2]['page_span']"
   ]
  },
  {
   "cell_type": "code",
   "execution_count": 359,
   "id": "29f046dd-d2d6-43ce-b659-7747826c59c8",
   "metadata": {
    "tags": []
   },
   "outputs": [
    {
     "data": {
      "text/plain": [
       "{'page_start': 13, 'page_end': 14}"
      ]
     },
     "execution_count": 359,
     "metadata": {},
     "output_type": "execute_result"
    }
   ],
   "source": [
    "blocks[3]['page_span']"
   ]
  },
  {
   "cell_type": "code",
   "execution_count": 361,
   "id": "96dc90f3-aa2b-466a-955a-e629694a3c2f",
   "metadata": {
    "tags": []
   },
   "outputs": [
    {
     "data": {
      "text/plain": [
       "{'page_start': 187, 'page_end': 187}"
      ]
     },
     "execution_count": 361,
     "metadata": {},
     "output_type": "execute_result"
    }
   ],
   "source": [
    "blocks[-2]['page_span']"
   ]
  },
  {
   "cell_type": "code",
   "execution_count": 360,
   "id": "45bb6e7c-0c96-437f-8c9a-83e02c2a2457",
   "metadata": {
    "tags": []
   },
   "outputs": [
    {
     "data": {
      "text/plain": [
       "{'page_start': 187, 'page_end': 187}"
      ]
     },
     "execution_count": 360,
     "metadata": {},
     "output_type": "execute_result"
    }
   ],
   "source": [
    "blocks[-1]['page_span']"
   ]
  },
  {
   "cell_type": "markdown",
   "id": "a26cd2f5-d39d-4dd9-8657-46e3d35eb8ee",
   "metadata": {},
   "source": [
    "The last page appears to have multiple blocks.  Here is a view of that page:"
   ]
  },
  {
   "cell_type": "code",
   "execution_count": 364,
   "id": "f96159c1-21b5-4bf9-8e15-bbf0fd7c5e8d",
   "metadata": {
    "tags": []
   },
   "outputs": [
    {
     "data": {
      "image/jpeg": "[encoded data removed]",
      "image/png": "[encoded data removed]",
      "text/plain": [
       "<PIL.Image.Image image mode=RGB size=396x612>"
      ]
     },
     "execution_count": 364,
     "metadata": {},
     "output_type": "execute_result"
    }
   ],
   "source": [
    "page_images[-1]"
   ]
  },
  {
   "cell_type": "markdown",
   "id": "abc0ee24-6727-4d6a-9587-ed96f2456e72",
   "metadata": {},
   "source": [
    "Sumarize a block:\n",
    "This function will summarize a block and print out the details:"
   ]
  },
  {
   "cell_type": "code",
   "execution_count": 365,
   "id": "c3d43385-f8f6-42a2-bb28-4319a8e395f4",
   "metadata": {
    "tags": []
   },
   "outputs": [
    {
     "name": "stdout",
     "output_type": "stream",
     "text": [
      "- Text block (heading-1): OFFICIAL BASEBALL RULES...\n",
      "  Nested blocks:\n",
      "- Text block (paragraph): 2023 Edition...\n",
      "- Text block (paragraph): TM...\n",
      "- Text block (paragraph): TM...\n",
      "- Text block (heading-2): Official Baseball Rules 2023 Edition...\n",
      "  Nested blocks:\n",
      "- Text block (heading-3): JOINT COMPETITION COMMITTEE...\n",
      "  Nested blocks:\n",
      "- Table block\n",
      "  Body rows: 4\n",
      "- Text block (paragraph): Committee Secretary...\n",
      "- Text block (paragraph): Paul V. Mifsud, Jr....\n",
      "- Text block (paragraph): Copyright © 2023...\n",
      "- Text block (paragraph): by the Office of the Commissioner of Baseball...\n",
      "- Text block (heading-3): All rights reserved....\n",
      "  Nested blocks:\n",
      "- Text block (paragraph): No part of the Official Baseball Rules may be repr...\n",
      "- Text block (paragraph): The Major League Baseball silhouetted batter logo ...\n",
      "- Text block (paragraph): Cover photo by MLB Photos....\n",
      "- Text block (paragraph): ISBN 978-1-63727-284-8...\n",
      "- Text block (paragraph): Printed in the United States of America...\n",
      "- Text block (heading-2): FOREWORD...\n",
      "  Nested blocks:\n",
      "- Text block (paragraph): This code of rules governs the playing of baseball...\n",
      "- Text block (paragraph): We recognize that many amateur and non-professiona...\n",
      "- Text block (paragraph): Money fines, long-term suspensions and similar pen...\n",
      "- Text block (paragraph): 111...\n",
      "- Text block (heading-2): IMPORTANT NOTES...\n",
      "  Nested blocks:\n",
      "- Text block (paragraph): (1) The Playing Rules Committee, at its December 2...\n",
      "- Text block (paragraph): (2) The Playing Rules Committee, at its December 1...\n",
      "- Text block (paragraph): This arrangement is designed to give quicker acces...\n",
      "- Text block (paragraph): Case Book material in this edition are in shaded b...\n",
      "- Text block (paragraph): 1V...\n",
      "- Text block (heading-2): Summary of Rule Changes for 2023...\n",
      "  Nested blocks:\n",
      "- Text block (paragraph): • Amended field dimensions in Rule 2.01 to ensure ...\n",
      "- Text block (paragraph): •...\n",
      "- Text block (paragraph): •...\n",
      "- Text block (paragraph): Amended Rule 2.03 to reflect the new measurements ...\n",
      "- Text block (paragraph): Amended Rule 4.03(c)(4) to specify that a position...\n",
      "- Text block (paragraph): • Amended Rule 5.02(c) to reflect the new paramete...\n",
      "- Text block (paragraph): •...\n",
      "- Text block (paragraph): Amended Rule 5.10(k) to reflect the updated polici...\n",
      "- Text block (paragraph): • Amended Rule 7.01(b) to incorporate the paramete...\n",
      "- Text block (paragraph): • Amended Rule 8.04 to reflect the Office of the C...\n",
      "- Text block (paragraph): •...\n",
      "- Text block (paragraph): Amended Appendix 2 to reflect the new measurements...\n",
      "- Text block (paragraph): V...\n",
      "- Text block (footer): V1...\n",
      "\n"
     ]
    }
   ],
   "source": [
    "def summarize_blocks(blocks):\n",
    "    \"\"\"Provides a descriptive summary of a list of dictionaries with nested block structures.\n",
    "\n",
    "    Args:\n",
    "        blocks: A list of dictionaries representing content blocks.\n",
    "\n",
    "    Returns:\n",
    "        A string with a summary of the block structure.\n",
    "    \"\"\"\n",
    "    summary = \"\"\n",
    "    for block in blocks:\n",
    "        for key, value in block.items():\n",
    "            if key == \"text_block\":\n",
    "                text_type = value.get('type_', 'unknown type')\n",
    "                summary += f\"- Text block ({text_type}): {value.get('text', '')[:50]}...\\n\"\n",
    "                if value.get(\"blocks\"):\n",
    "                    summary += \"  Nested blocks:\\n\"\n",
    "                    summary += summarize_blocks(value[\"blocks\"])  # Recursive call\n",
    "            elif key == \"table_block\":\n",
    "                summary += \"- Table block\\n\"\n",
    "                if value.get(\"header_rows\"):\n",
    "                    summary += f\"  Header rows: {len(value['header_rows'])}\\n\"\n",
    "                if value.get(\"body_rows\"):\n",
    "                    summary += f\"  Body rows: {len(value['body_rows'])}\\n\"\n",
    "                if value.get(\"caption\"):\n",
    "                    summary += f\"  Caption: {value['caption']}\\n\"\n",
    "            elif key == \"list_block\":\n",
    "                summary += \"- List block\\n\"\n",
    "                if value.get(\"list_entries\"):\n",
    "                    summary += f\"  List entries: {len(value['list_entries'])}\\n\"\n",
    "\n",
    "    return summary\n",
    "\n",
    "# Example usage with your provided data\n",
    "summary = summarize_blocks(blocks[0:1])\n",
    "print(summary)"
   ]
  },
  {
   "cell_type": "markdown",
   "id": "cbce76d0-ac8a-4651-a057-a9156af06942",
   "metadata": {},
   "source": [
    "### Process and Store Blocks\n",
    "\n",
    "This section shows how to:\n",
    "- store the blocks in a JSONL file in this repository"
   ]
  },
  {
   "cell_type": "code",
   "execution_count": 374,
   "id": "5b3d774b-52ce-4334-89d8-0bda83cd0924",
   "metadata": {
    "tags": []
   },
   "outputs": [
    {
     "data": {
      "text/plain": [
       "dict"
      ]
     },
     "execution_count": 374,
     "metadata": {},
     "output_type": "execute_result"
    }
   ],
   "source": [
    "type(blocks[0])"
   ]
  },
  {
   "cell_type": "code",
   "execution_count": 375,
   "id": "c510f7dd-4cdb-4cfb-9caf-11dd6172e99a",
   "metadata": {
    "tags": []
   },
   "outputs": [
    {
     "data": {
      "text/plain": [
       "133"
      ]
     },
     "execution_count": 375,
     "metadata": {},
     "output_type": "execute_result"
    }
   ],
   "source": [
    "len(blocks)"
   ]
  },
  {
   "cell_type": "markdown",
   "id": "7dd41b5d-0ee7-46eb-ad0e-85712a98d8d1",
   "metadata": {},
   "source": [
    "Create A local file of JSONL from the list of chunk dictionaries:"
   ]
  },
  {
   "cell_type": "code",
   "execution_count": 388,
   "id": "eb9e0e78-0ba8-469b-bd7f-713ef6774984",
   "metadata": {
    "tags": []
   },
   "outputs": [],
   "source": [
    "with open(f'{DIR}/document-blocks.jsonl', 'w') as f:\n",
    "    for block in blocks:\n",
    "        f.write(json.dumps(block)+ '\\n')"
   ]
  },
  {
   "cell_type": "code",
   "execution_count": 389,
   "id": "c1330834-4164-412d-bcb9-7bdc0fe881f5",
   "metadata": {
    "tags": []
   },
   "outputs": [
    {
     "data": {
      "text/plain": [
       "['document-chunks.jsonl',\n",
       " 'small_document.pdf',\n",
       " 'document.pdf',\n",
       " 'document-blocks.jsonl']"
      ]
     },
     "execution_count": 389,
     "metadata": {},
     "output_type": "execute_result"
    }
   ],
   "source": [
    "os.listdir(DIR)"
   ]
  },
  {
   "cell_type": "code",
   "execution_count": null,
   "id": "27d121d7-429c-4951-a07a-7ae28a1ac739",
   "metadata": {},
   "outputs": [],
   "source": []
  }
 ],
 "metadata": {
  "environment": {
   "kernel": "conda-base-py",
   "name": "workbench-notebooks.m125",
   "type": "gcloud",
   "uri": "us-docker.pkg.dev/deeplearning-platform-release/gcr.io/workbench-notebooks:m125"
  },
  "kernelspec": {
   "display_name": "Python 3 (ipykernel) (Local)",
   "language": "python",
   "name": "conda-base-py"
  },
  "language_info": {
   "codemirror_mode": {
    "name": "ipython",
    "version": 3
   },
   "file_extension": ".py",
   "mimetype": "text/x-python",
   "name": "python",
   "nbconvert_exporter": "python",
   "pygments_lexer": "ipython3",
   "version": "3.10.15"
  }
 },
 "nbformat": 4,
 "nbformat_minor": 5
}
