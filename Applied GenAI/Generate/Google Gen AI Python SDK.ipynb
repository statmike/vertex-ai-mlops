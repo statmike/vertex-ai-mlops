{
 "cells": [
  {
   "cell_type": "markdown",
   "id": "c7f14ff6",
   "metadata": {},
   "source": [
    "![tracker](https://us-central1-vertex-ai-mlops-369716.cloudfunctions.net/pixel-tracking?path=statmike%2Fvertex-ai-mlops%2FApplied+GenAI%2FGenerate&file=Google+Gen+AI+Python+SDK.ipynb)\n",
    "<!--- header table --->\n",
    "<table align=\"left\">\n",
    "  <td style=\"text-align: center\">\n",
    "    <a href=\"https://colab.research.google.com/github/statmike/vertex-ai-mlops/blob/main/Applied%20GenAI/Generate/Google%20Gen%20AI%20Python%20SDK.ipynb\">\n",
    "      <img src=\"https://cloud.google.com/ml-engine/images/colab-logo-32px.png\" alt=\"Google Colaboratory logo\">\n",
    "      <br>Run in<br>Colab\n",
    "    </a>\n",
    "  </td>\n",
    "  <td style=\"text-align: center\">\n",
    "    <a href=\"https://console.cloud.google.com/vertex-ai/colab/import/https%3A%2F%2Fraw.githubusercontent.com%2Fstatmike%2Fvertex-ai-mlops%2Fmain%2FApplied%2520GenAI%2FGenerate%2FGoogle%2520Gen%2520AI%2520Python%2520SDK.ipynb\">\n",
    "      <img width=\"32px\" src=\"https://lh3.googleusercontent.com/JmcxdQi-qOpctIvWKgPtrzZdJJK-J3sWE1RsfjZNwshCFgE_9fULcNpuXYTilIR2hjwN\" alt=\"Google Cloud Colab Enterprise logo\">\n",
    "      <br>Run in<br>Colab Enterprise\n",
    "    </a>\n",
    "  </td>      \n",
    "  <td style=\"text-align: center\">\n",
    "    <a href=\"https://github.com/statmike/vertex-ai-mlops/blob/main/Applied%20GenAI/Generate/Google%20Gen%20AI%20Python%20SDK.ipynb\">\n",
    "      <img src=\"https://cloud.google.com/ml-engine/images/github-logo-32px.png\" alt=\"GitHub logo\">\n",
    "      <br>View on<br>GitHub\n",
    "    </a>\n",
    "  </td>\n",
    "  <td style=\"text-align: center\">\n",
    "    <a href=\"https://console.cloud.google.com/vertex-ai/workbench/deploy-notebook?download_url=https://raw.githubusercontent.com/statmike/vertex-ai-mlops/main/Applied%20GenAI/Generate/Google%20Gen%20AI%20Python%20SDK.ipynb\">\n",
    "      <img src=\"https://lh3.googleusercontent.com/UiNooY4LUgW_oTvpsNhPpQzsstV5W8F7rYgxgGBD85cWJoLmrOzhVs_ksK_vgx40SHs7jCqkTkCk=e14-rj-sc0xffffff-h130-w32\" alt=\"Vertex AI logo\">\n",
    "      <br>Open in<br>Vertex AI Workbench\n",
    "    </a>\n",
    "  </td>\n",
    "</table>"
   ]
  },
  {
   "cell_type": "markdown",
   "id": "9314255a-3356-4209-9cb5-ef54023e0cea",
   "metadata": {},
   "source": [
    "# Google Gen AI Python SDK\n",
    "\n",
    "The introduction of [Gemini 2.0](https://cloud.google.com/vertex-ai/generative-ai/docs/gemini-v2) brought a [new SDK](https://cloud.google.com/vertex-ai/generative-ai/docs/gemini-v2#google-gen) that unifies the Gemini Developer API and the Gemini API on Vertex AI. It also supports the previous Gemini 1.5 models. More Background:\n",
    "- the [Google Gen AI SDK](https://cloud.google.com/vertex-ai/generative-ai/docs/sdks/overview)  \n",
    "- The package `google-genai` for Python on GitHub [here](https://github.com/googleapis/python-genai)\n",
    "- Companion workflow for Gemini using the Vertex AI SDK: [Vertex AI Gemini API](./Vertex%20AI%20Gemini%20API.ipynb)\n",
    "\n",
    "\n",
    "This notebook briefly sets up the Vertex AI SDK and new Gen AI API and compares there usage for text and multimodal prompts."
   ]
  },
  {
   "cell_type": "markdown",
   "id": "e937a519-71ee-452e-937c-9b5f509fd216",
   "metadata": {
    "id": "od_UkDpvRmgD",
    "tags": []
   },
   "source": [
    "---\n",
    "## Colab Setup\n",
    "\n",
    "To run this notebook in Colab run the cells in this section.  Otherwise, skip this section.\n",
    "\n",
    "This cell will authenticate to GCP (follow prompts in the popup)."
   ]
  },
  {
   "cell_type": "code",
   "execution_count": 2,
   "id": "de9d8cc4-7e34-47a4-a8d1-839f959fb7e1",
   "metadata": {
    "executionInfo": {
     "elapsed": 195,
     "status": "ok",
     "timestamp": 1683726184843,
     "user": {
      "displayName": "Mike Henderson",
      "userId": "07691629187611687318"
     },
     "user_tz": 240
    },
    "id": "8UO9FnqyKBlF",
    "tags": []
   },
   "outputs": [],
   "source": [
    "PROJECT_ID = 'statmike-mlops-349915' # replace with project ID"
   ]
  },
  {
   "cell_type": "code",
   "execution_count": 3,
   "id": "da9bf7b7-6e8d-46a9-b3f6-80810508e6f6",
   "metadata": {
    "colab": {
     "base_uri": "https://localhost:8080/"
    },
    "executionInfo": {
     "elapsed": 68869,
     "status": "ok",
     "timestamp": 1683726253709,
     "user": {
      "displayName": "Mike Henderson",
      "userId": "07691629187611687318"
     },
     "user_tz": 240
    },
    "id": "N98-KK7LRkjm",
    "outputId": "09ec5008-0def-4e1a-c349-c598ee752f78",
    "tags": []
   },
   "outputs": [
    {
     "name": "stdout",
     "output_type": "stream",
     "text": [
      "Not a Colab Environment\n"
     ]
    }
   ],
   "source": [
    "try:\n",
    "    from google.colab import auth\n",
    "    auth.authenticate_user()\n",
    "    !gcloud config set project {PROJECT_ID}\n",
    "    print('Colab authorized to GCP')\n",
    "except Exception:\n",
    "    print('Not a Colab Environment')\n",
    "    pass"
   ]
  },
  {
   "cell_type": "markdown",
   "id": "5999cdf4-a430-413c-ab42-c35cce5c670b",
   "metadata": {},
   "source": [
    "---\n",
    "## Installs\n",
    "\n",
    "The list `packages` contains tuples of package import names and install names.  If the import name is not found then the install name is used to install quitely for the current user."
   ]
  },
  {
   "cell_type": "code",
   "execution_count": 4,
   "id": "9460d0c9-6fc8-4e13-a6ad-c5b2bbfbc572",
   "metadata": {
    "tags": []
   },
   "outputs": [],
   "source": [
    "# tuples of (import name, install name, min_version)\n",
    "packages = [\n",
    "    ('google.cloud.aiplatform', 'google-cloud-aiplatform', '1.71.0'),\n",
    "    ('google.genai', 'google-genai'),\n",
    "    ('pydantic', 'pydantic'),\n",
    "]\n",
    "\n",
    "import importlib\n",
    "install = False\n",
    "for package in packages:\n",
    "    if not importlib.util.find_spec(package[0]):\n",
    "        print(f'installing package {package[1]}')\n",
    "        install = True\n",
    "        !pip install {package[1]} -U -q --user\n",
    "    elif len(package) == 3:\n",
    "        if importlib.metadata.version(package[0]) < package[2]:\n",
    "            print(f'updating package {package[1]}')\n",
    "            install = True\n",
    "            !pip install {package[1]} -U -q --user"
   ]
  },
  {
   "cell_type": "markdown",
   "id": "4cfdd72a-f092-4202-b44f-01c4f2dcaba8",
   "metadata": {},
   "source": [
    "### API Enablement"
   ]
  },
  {
   "cell_type": "code",
   "execution_count": 5,
   "id": "c7c9f4f0-0e4b-43e6-b2af-9604957a6244",
   "metadata": {
    "tags": []
   },
   "outputs": [],
   "source": [
    "!gcloud services enable aiplatform.googleapis.com"
   ]
  },
  {
   "cell_type": "markdown",
   "id": "379971c6-4215-4d8d-bc60-dd060b820567",
   "metadata": {},
   "source": [
    "### Restart Kernel (If Installs Occured)\n",
    "\n",
    "After a kernel restart the code submission can start with the next cell after this one."
   ]
  },
  {
   "cell_type": "code",
   "execution_count": 6,
   "id": "82646662-f84c-4132-a329-a9e62a4dc167",
   "metadata": {
    "tags": []
   },
   "outputs": [],
   "source": [
    "if install:\n",
    "    import IPython\n",
    "    app = IPython.Application.instance()\n",
    "    app.kernel.do_shutdown(True)\n",
    "    IPython.display.display(IPython.display.Markdown(\"\"\"<div class=\\\"alert alert-block alert-warning\\\">\n",
    "        <b>⚠️ The kernel is going to restart. Please wait until it is finished before continuing to the next step. The previous cells do not need to be run again⚠️</b>\n",
    "        </div>\"\"\"))"
   ]
  },
  {
   "cell_type": "markdown",
   "id": "185a1a0f-2f8a-4170-a0ee-a003dd344fa6",
   "metadata": {},
   "source": [
    "---\n",
    "## Setup"
   ]
  },
  {
   "cell_type": "markdown",
   "id": "be5b35d9-b1e9-4d46-ac33-4fdb449c1ff1",
   "metadata": {},
   "source": [
    "inputs:"
   ]
  },
  {
   "cell_type": "code",
   "execution_count": 7,
   "id": "46d772f7-516b-434e-b5c0-ecca8d57ef1c",
   "metadata": {
    "tags": []
   },
   "outputs": [
    {
     "data": {
      "text/plain": [
       "'statmike-mlops-349915'"
      ]
     },
     "execution_count": 7,
     "metadata": {},
     "output_type": "execute_result"
    }
   ],
   "source": [
    "project = !gcloud config get-value project\n",
    "PROJECT_ID = project[0]\n",
    "PROJECT_ID"
   ]
  },
  {
   "cell_type": "code",
   "execution_count": 8,
   "id": "92949aab-d300-4f3e-9491-59b78be53d29",
   "metadata": {
    "tags": []
   },
   "outputs": [],
   "source": [
    "REGION = 'us-central1'\n",
    "SERIES = 'applied-genai'\n",
    "EXPERIMENT = 'gen-ai-sdk'"
   ]
  },
  {
   "cell_type": "markdown",
   "id": "717c8b83-b75d-4dad-94ed-c059660b4e85",
   "metadata": {},
   "source": [
    "packages:"
   ]
  },
  {
   "cell_type": "code",
   "execution_count": 62,
   "id": "24796a53-9147-4d58-b98f-07d0b39b5246",
   "metadata": {
    "tags": []
   },
   "outputs": [],
   "source": [
    "# standard packages\n",
    "import os, shutil, enum, json, math\n",
    "\n",
    "import IPython\n",
    "import pydantic\n",
    "\n",
    "# vertex ai imports\n",
    "from google.cloud import aiplatform\n",
    "import vertexai\n",
    "import vertexai.generative_models # for Gemini Models\n",
    "\n",
    "# google gen ai sdk\n",
    "from google import genai"
   ]
  },
  {
   "cell_type": "code",
   "execution_count": 11,
   "id": "306a2b59-e78e-468b-a8fa-2053661bebc4",
   "metadata": {
    "tags": []
   },
   "outputs": [
    {
     "data": {
      "text/plain": [
       "'1.78.0'"
      ]
     },
     "execution_count": 11,
     "metadata": {},
     "output_type": "execute_result"
    }
   ],
   "source": [
    "aiplatform.__version__"
   ]
  },
  {
   "cell_type": "code",
   "execution_count": 12,
   "id": "c3603ea3-4f7a-4f75-9f9b-b80ba4d11eaf",
   "metadata": {
    "tags": []
   },
   "outputs": [
    {
     "data": {
      "text/plain": [
       "'1.2.0'"
      ]
     },
     "execution_count": 12,
     "metadata": {},
     "output_type": "execute_result"
    }
   ],
   "source": [
    "genai.__version__"
   ]
  },
  {
   "cell_type": "markdown",
   "id": "6291e9ff-e296-48c5-b201-bb05aeaf0403",
   "metadata": {},
   "source": [
    "clients:"
   ]
  },
  {
   "cell_type": "code",
   "execution_count": 13,
   "id": "33180a25-3b27-47ec-8d82-98b9b1d908f2",
   "metadata": {
    "tags": []
   },
   "outputs": [],
   "source": [
    "vertexai.init(project = PROJECT_ID, location = REGION)\n",
    "genai_client = genai.Client(vertexai = True, project = PROJECT_ID, location = REGION)"
   ]
  },
  {
   "cell_type": "markdown",
   "id": "f733e845-a82d-45e9-a632-62d1a82548fa",
   "metadata": {},
   "source": [
    "---\n",
    "## Multimodal Inputs\n",
    "\n",
    "Prompts can extend beyond text to include audio, video, images, and documents as context.  This means you can [design multimodal prompts](https://cloud.google.com/vertex-ai/generative-ai/docs/multimodal/design-multimodal-prompts) that include combinations of these file types as grounding for Gemini."
   ]
  },
  {
   "cell_type": "markdown",
   "id": "ee354246-4eb8-4c33-a510-687d9b77ad01",
   "metadata": {},
   "source": [
    "### Get The Documents\n",
    "\n",
    "A set of example file inputs for multimodal prompts were created in this companion workflow: [Create Files For Multimodal Prompt Examples](./Create%20Files%20For%20Multimodal%20Prompt%20Examples.ipynb) and the outputs are already included in the repository.\n",
    "\n",
    "If you are working from a clone of this notebooks [repository](https://github.com/statmike/vertex-ai-mlops) then the documents are already present. The following cell checks for the documents folder and if it is missing gets it (`git clone`):"
   ]
  },
  {
   "cell_type": "code",
   "execution_count": 14,
   "id": "4bc1634a-901a-4c6b-8e0d-eca4f4f47d6d",
   "metadata": {
    "tags": []
   },
   "outputs": [],
   "source": [
    "local_dir = './files/multimodal-inputs'"
   ]
  },
  {
   "cell_type": "code",
   "execution_count": 15,
   "id": "6003adf6-ef1b-40c5-a833-006bee01b453",
   "metadata": {
    "tags": []
   },
   "outputs": [
    {
     "name": "stdout",
     "output_type": "stream",
     "text": [
      "Documents Found in folder `./files/multimodal-inputs`\n"
     ]
    }
   ],
   "source": [
    "if not os.path.exists(local_dir):\n",
    "    print('Retrieving documents...')\n",
    "    parent_dir = os.path.dirname(local_dir)\n",
    "    temp_dir = os.path.join(parent_dir, 'temp')\n",
    "    if not os.path.exists(temp_dir):\n",
    "        os.makedirs(temp_dir)\n",
    "    !git clone https://www.github.com/statmike/vertex-ai-mlops {temp_dir}/vertex-ai-mlops\n",
    "    shutil.copytree(f'{temp_dir}/vertex-ai-mlops/Applied GenAI/Generate/files/multimodal-inputs', local_dir)\n",
    "    shutil.rmtree(temp_dir)\n",
    "    print(f'Documents are now in folder `{local_dir}`')\n",
    "else:\n",
    "    print(f'Documents Found in folder `{local_dir}`')             "
   ]
  },
  {
   "cell_type": "markdown",
   "id": "2a86b5da-e373-4992-a572-bd7eb29e25c7",
   "metadata": {},
   "source": [
    "---\n",
    "## Vertex AI Gemini API"
   ]
  },
  {
   "cell_type": "code",
   "execution_count": 16,
   "id": "caf3c565-9cfd-47e6-a771-a86756383ec2",
   "metadata": {
    "tags": []
   },
   "outputs": [],
   "source": [
    "system_instructions = 'Provide brief but descritive answer.'"
   ]
  },
  {
   "cell_type": "code",
   "execution_count": 17,
   "id": "eb6c48b0-17ce-4919-8d5a-7649586c31b9",
   "metadata": {
    "tags": []
   },
   "outputs": [],
   "source": [
    "vertex_gemini_pro = vertexai.generative_models.GenerativeModel(\n",
    "    model_name = \"gemini-1.5-pro-002\",\n",
    "    system_instruction = system_instructions\n",
    ")\n",
    "vertex_gemini_flash = vertexai.generative_models.GenerativeModel(\n",
    "    model_name = \"gemini-1.5-flash-002\",\n",
    "    system_instruction = system_instructions\n",
    ")"
   ]
  },
  {
   "cell_type": "markdown",
   "id": "012df795-5304-4d8b-b422-e0803ec890ca",
   "metadata": {},
   "source": [
    "### Text Prompts"
   ]
  },
  {
   "cell_type": "code",
   "execution_count": 18,
   "id": "a0f56abe-4bc7-4fe4-b3d0-3d4d860cb2da",
   "metadata": {
    "tags": []
   },
   "outputs": [],
   "source": [
    "prompt_text = 'What is the curve?'"
   ]
  },
  {
   "cell_type": "code",
   "execution_count": 19,
   "id": "84c09409-aed7-4576-8788-e37bb23937f4",
   "metadata": {
    "tags": []
   },
   "outputs": [
    {
     "data": {
      "text/plain": [
       "\"A curve is a continuous and smooth line, often bending and changing direction, that isn't straight. It can be described mathematically by an equation.\\n\""
      ]
     },
     "execution_count": 19,
     "metadata": {},
     "output_type": "execute_result"
    }
   ],
   "source": [
    "vertex_gemini_pro.generate_content(\n",
    "    contents = prompt_text,\n",
    "    generation_config = vertexai.generative_models.GenerationConfig(\n",
    "        temperature = 0.5\n",
    "    )\n",
    ").text"
   ]
  },
  {
   "cell_type": "code",
   "execution_count": 20,
   "id": "836c3657-06dd-47bc-b30c-bc99bde96017",
   "metadata": {
    "tags": []
   },
   "outputs": [
    {
     "data": {
      "text/plain": [
       "'Please provide the equation or a description of the curve.  I need more information to tell you what it is.\\n'"
      ]
     },
     "execution_count": 20,
     "metadata": {},
     "output_type": "execute_result"
    }
   ],
   "source": [
    "vertex_gemini_flash.generate_content(\n",
    "    contents = prompt_text,\n",
    "    generation_config = vertexai.generative_models.GenerationConfig(\n",
    "        temperature = 0.5\n",
    "    )\n",
    ").text"
   ]
  },
  {
   "cell_type": "markdown",
   "id": "58ca53fc-4be0-46ff-a91a-283804e1bebc",
   "metadata": {},
   "source": [
    "### Multimodal Prompts"
   ]
  },
  {
   "cell_type": "markdown",
   "id": "5f1aed3d-482c-4980-b27c-227402ead60d",
   "metadata": {},
   "source": [
    "#### Review The Image"
   ]
  },
  {
   "cell_type": "code",
   "execution_count": 21,
   "id": "60ca1369-7d64-4b3c-b784-009a9d1a91a1",
   "metadata": {
    "tags": []
   },
   "outputs": [
    {
     "data": {
      "image/png": "[encoded data removed]",
      "text/plain": [
       "<IPython.core.display.Image object>"
      ]
     },
     "execution_count": 21,
     "metadata": {},
     "output_type": "execute_result"
    }
   ],
   "source": [
    "IPython.display.Image(f\"{local_dir}/plot.png\")"
   ]
  },
  {
   "cell_type": "markdown",
   "id": "c4e2fb5e-06ab-4781-be8b-a48925af4903",
   "metadata": {},
   "source": [
    "#### Read The Image Data"
   ]
  },
  {
   "cell_type": "code",
   "execution_count": 22,
   "id": "ed0489cc-8aa0-457a-bf9f-b5f112b0169a",
   "metadata": {
    "tags": []
   },
   "outputs": [],
   "source": [
    "with open(f\"{local_dir}/plot.png\", 'rb') as f:\n",
    "    image_read = f.read()"
   ]
  },
  {
   "cell_type": "markdown",
   "id": "fdfd3857-b2ba-4afb-b1da-68b12b132bcb",
   "metadata": {
    "tags": []
   },
   "source": [
    "#### Inline Image From Bytes"
   ]
  },
  {
   "cell_type": "code",
   "execution_count": 23,
   "id": "6df752b8-b909-408a-adda-19713ca59155",
   "metadata": {
    "tags": []
   },
   "outputs": [],
   "source": [
    "image_bytes = vertexai.generative_models.Image.from_bytes(\n",
    "    data = image_read\n",
    ")"
   ]
  },
  {
   "cell_type": "code",
   "execution_count": 24,
   "id": "10752a62-879a-4563-9758-83c97b37f8e1",
   "metadata": {
    "tags": []
   },
   "outputs": [
    {
     "data": {
      "text/plain": [
       "'image/png'"
      ]
     },
     "execution_count": 24,
     "metadata": {},
     "output_type": "execute_result"
    }
   ],
   "source": [
    "image_bytes._mime_type"
   ]
  },
  {
   "cell_type": "code",
   "execution_count": 25,
   "id": "87d0b7db-c494-4f14-911b-9815f54d8728",
   "metadata": {
    "tags": []
   },
   "outputs": [
    {
     "data": {
      "text/plain": [
       "vertexai.generative_models._generative_models.Image"
      ]
     },
     "execution_count": 25,
     "metadata": {},
     "output_type": "execute_result"
    }
   ],
   "source": [
    "type(image_bytes)"
   ]
  },
  {
   "cell_type": "markdown",
   "id": "16f3543e-42a4-4d89-b077-73503ed801e2",
   "metadata": {},
   "source": [
    "#### Generate"
   ]
  },
  {
   "cell_type": "code",
   "execution_count": 26,
   "id": "7c2f2be0-eab9-43ac-9250-0ff128243770",
   "metadata": {
    "tags": []
   },
   "outputs": [
    {
     "data": {
      "text/plain": [
       "'It appears to be a sine or cosine wave.  More specifically, it resembles a graph of sin(x).\\n'"
      ]
     },
     "execution_count": 26,
     "metadata": {},
     "output_type": "execute_result"
    }
   ],
   "source": [
    "vertex_gemini_pro.generate_content(\n",
    "    contents = [image_bytes, prompt_text],\n",
    "    generation_config = vertexai.generative_models.GenerationConfig(\n",
    "        temperature = 0.5\n",
    "    )\n",
    ").text"
   ]
  },
  {
   "cell_type": "code",
   "execution_count": 27,
   "id": "a3b9dc3b-bcfd-4e80-85f6-0bab94e7213e",
   "metadata": {
    "tags": []
   },
   "outputs": [
    {
     "data": {
      "text/plain": [
       "'The curve is a cosine function.  More specifically, it appears to be a cosine wave with a period of approximately 6 and an amplitude of 1.\\n'"
      ]
     },
     "execution_count": 27,
     "metadata": {},
     "output_type": "execute_result"
    }
   ],
   "source": [
    "vertex_gemini_flash.generate_content(\n",
    "    contents = [image_bytes, prompt_text],\n",
    "    generation_config = vertexai.generative_models.GenerationConfig(\n",
    "        temperature = 0.5\n",
    "    )\n",
    ").text"
   ]
  },
  {
   "cell_type": "markdown",
   "id": "0be8fc7c-eb86-4cbc-b076-5b664618f95e",
   "metadata": {},
   "source": [
    "---\n",
    "## Google Gen AI SDK"
   ]
  },
  {
   "cell_type": "code",
   "execution_count": 28,
   "id": "43880fe9-ee89-4243-9f75-89d5e039d0ca",
   "metadata": {
    "tags": []
   },
   "outputs": [],
   "source": [
    "models = {\n",
    "    \"gemini\": {\n",
    "        \"pro\": {\n",
    "            \"1.5\": \"gemini-1.5-pro-002\",\n",
    "            \"2.0\": \"gemini-2.0-pro-exp-02-05\"\n",
    "        },\n",
    "        \"flash\": {\n",
    "            \"1.5\": \"gemini-1.5-flash-002\",\n",
    "            \"2.0\": \"gemini-2.0-flash-001\"\n",
    "        }\n",
    "    }\n",
    "}"
   ]
  },
  {
   "cell_type": "markdown",
   "id": "726e3ab0-20e0-4a33-acc6-ce66603bc3c3",
   "metadata": {},
   "source": [
    "### Text Prompts"
   ]
  },
  {
   "cell_type": "code",
   "execution_count": 29,
   "id": "80b02728-067c-4f64-8442-6775692752f1",
   "metadata": {
    "tags": []
   },
   "outputs": [
    {
     "data": {
      "text/plain": [
       "'A curve is a continuous and smooth line, often bending and changing direction.  It can be described mathematically as a set of points whose coordinates satisfy a specific equation or function.\\n'"
      ]
     },
     "execution_count": 29,
     "metadata": {},
     "output_type": "execute_result"
    }
   ],
   "source": [
    "genai_client.models.generate_content(\n",
    "    model = models['gemini']['pro']['1.5'],\n",
    "    contents = prompt_text,\n",
    "    config = genai.types.GenerateContentConfig(\n",
    "        system_instruction = system_instructions,\n",
    "        temperature = 0.3\n",
    "    )\n",
    ").text"
   ]
  },
  {
   "cell_type": "code",
   "execution_count": 30,
   "id": "8ad1a356-b54a-4a3c-9ef4-2ded0223b617",
   "metadata": {
    "tags": []
   },
   "outputs": [
    {
     "data": {
      "text/plain": [
       "'A curve is a continuous and smooth line that deviates from straightness without sharp edges or corners. It can be in two dimensions (like a circle) or three dimensions (like a helix).\\n'"
      ]
     },
     "execution_count": 30,
     "metadata": {},
     "output_type": "execute_result"
    }
   ],
   "source": [
    "genai_client.models.generate_content(\n",
    "    model = models['gemini']['pro']['2.0'],\n",
    "    contents = prompt_text,\n",
    "    config = genai.types.GenerateContentConfig(\n",
    "        system_instruction = system_instructions,\n",
    "        temperature = 0.3\n",
    "    )\n",
    ").text"
   ]
  },
  {
   "cell_type": "code",
   "execution_count": 31,
   "id": "cebedd1b-b680-4413-bb2b-8e4a27f098a0",
   "metadata": {
    "tags": []
   },
   "outputs": [
    {
     "data": {
      "text/plain": [
       "'In general, a curve is a one-dimensional, continuous object. More specifically, it can refer to:\\n\\n*   **A line that is not straight:** This is the most common understanding.\\n*   **A graphical representation of a function:** Showing the relationship between two or more variables.\\n*   **A mathematical object defined by an equation:** Such as a parabola or a circle.\\n'"
      ]
     },
     "execution_count": 31,
     "metadata": {},
     "output_type": "execute_result"
    }
   ],
   "source": [
    "genai_client.models.generate_content(\n",
    "    model = models['gemini']['flash']['2.0'],\n",
    "    contents = prompt_text,\n",
    "    config = genai.types.GenerateContentConfig(\n",
    "        system_instruction = system_instructions,\n",
    "        temperature = 0.3\n",
    "    )\n",
    ").text"
   ]
  },
  {
   "cell_type": "code",
   "execution_count": 32,
   "id": "815f94fc-a10b-4723-ac3b-ef2a32ba7fb7",
   "metadata": {
    "tags": []
   },
   "outputs": [
    {
     "data": {
      "text/plain": [
       "'Please provide me with the equation, a graph, or a description of the curve.  I need more information to tell you what it is.\\n'"
      ]
     },
     "execution_count": 32,
     "metadata": {},
     "output_type": "execute_result"
    }
   ],
   "source": [
    "genai_client.models.generate_content(\n",
    "    model = models['gemini']['flash']['1.5'],\n",
    "    contents = prompt_text,\n",
    "    config = genai.types.GenerateContentConfig(\n",
    "        system_instruction = system_instructions,\n",
    "        temperature = 0.3\n",
    "    )\n",
    ").text"
   ]
  },
  {
   "cell_type": "markdown",
   "id": "01084c42-a939-430e-8b7e-a5d1b51a6923",
   "metadata": {},
   "source": [
    "### Multimodal Prompts"
   ]
  },
  {
   "cell_type": "markdown",
   "id": "22efe8f4-c007-461c-b27a-57c4ec7b2fa0",
   "metadata": {},
   "source": [
    "#### Review The Image"
   ]
  },
  {
   "cell_type": "code",
   "execution_count": 33,
   "id": "b9e97daf-0bbb-4c2e-a8ae-df53d52c96ac",
   "metadata": {
    "tags": []
   },
   "outputs": [
    {
     "data": {
      "image/png": "[encoded data removed]",
      "text/plain": [
       "<IPython.core.display.Image object>"
      ]
     },
     "execution_count": 33,
     "metadata": {},
     "output_type": "execute_result"
    }
   ],
   "source": [
    "IPython.display.Image(f\"{local_dir}/plot.png\")"
   ]
  },
  {
   "cell_type": "markdown",
   "id": "39894ba1-b966-4c5d-9cfc-72a81608e06e",
   "metadata": {},
   "source": [
    "#### Read The Image Data"
   ]
  },
  {
   "cell_type": "code",
   "execution_count": 34,
   "id": "d8f7f18c-162e-4705-8b58-45881b6193c2",
   "metadata": {
    "tags": []
   },
   "outputs": [],
   "source": [
    "with open(f\"{local_dir}/plot.png\", 'rb') as f:\n",
    "    image_read = f.read()"
   ]
  },
  {
   "cell_type": "markdown",
   "id": "43dcd0e8-a410-4dd4-be50-5b382a2e2c77",
   "metadata": {
    "tags": []
   },
   "source": [
    "#### Inline Image From Bytes"
   ]
  },
  {
   "cell_type": "code",
   "execution_count": 35,
   "id": "67f2fb22-ecf2-4741-98c5-35a93820ab34",
   "metadata": {
    "tags": []
   },
   "outputs": [],
   "source": [
    "image_bytes = genai.types.Part.from_bytes(\n",
    "    data = image_read,\n",
    "    mime_type = 'image/png'\n",
    ")"
   ]
  },
  {
   "cell_type": "code",
   "execution_count": 36,
   "id": "43493c3f-02b0-46f2-990e-b2e3f0ebcd44",
   "metadata": {
    "tags": []
   },
   "outputs": [
    {
     "data": {
      "text/plain": [
       "google.genai.types.Part"
      ]
     },
     "execution_count": 36,
     "metadata": {},
     "output_type": "execute_result"
    }
   ],
   "source": [
    "type(image_bytes)"
   ]
  },
  {
   "cell_type": "markdown",
   "id": "5dfd1ae4-1c3c-4db0-85c9-d7902ea7dc6d",
   "metadata": {},
   "source": [
    "#### Generate"
   ]
  },
  {
   "cell_type": "code",
   "execution_count": 37,
   "id": "9b29ed2a-4d52-47b1-bbea-7d363f788bb9",
   "metadata": {
    "tags": []
   },
   "outputs": [
    {
     "data": {
      "text/plain": [
       "'It appears to be a sine or cosine wave.  More specifically, it resembles a sine wave shifted horizontally or a cosine wave.\\n'"
      ]
     },
     "execution_count": 37,
     "metadata": {},
     "output_type": "execute_result"
    }
   ],
   "source": [
    "genai_client.models.generate_content(\n",
    "    model = models['gemini']['pro']['1.5'],\n",
    "    contents = [image_bytes, prompt_text],\n",
    "    config = genai.types.GenerateContentConfig(\n",
    "        system_instruction = system_instructions,\n",
    "        temperature = 0.3\n",
    "    )\n",
    ").text"
   ]
  },
  {
   "cell_type": "code",
   "execution_count": 38,
   "id": "8375cf16-ead8-41ad-abc1-c0917a1001f0",
   "metadata": {
    "tags": []
   },
   "outputs": [
    {
     "data": {
      "text/plain": [
       "'Sine wave.\\n'"
      ]
     },
     "execution_count": 38,
     "metadata": {},
     "output_type": "execute_result"
    }
   ],
   "source": [
    "genai_client.models.generate_content(\n",
    "    model = models['gemini']['pro']['2.0'],\n",
    "    contents = [image_bytes, prompt_text],\n",
    "    config = genai.types.GenerateContentConfig(\n",
    "        system_instruction = system_instructions,\n",
    "        temperature = 0.3\n",
    "    )\n",
    ").text"
   ]
  },
  {
   "cell_type": "code",
   "execution_count": 39,
   "id": "adc708af-94b4-4d41-a172-4745b6f6c76d",
   "metadata": {
    "tags": []
   },
   "outputs": [
    {
     "data": {
      "text/plain": [
       "'The curve is a sine wave.\\n'"
      ]
     },
     "execution_count": 39,
     "metadata": {},
     "output_type": "execute_result"
    }
   ],
   "source": [
    "genai_client.models.generate_content(\n",
    "    model = models['gemini']['flash']['2.0'],\n",
    "    contents = [image_bytes, prompt_text],\n",
    "    config = genai.types.GenerateContentConfig(\n",
    "        system_instruction = system_instructions,\n",
    "        temperature = 0.3\n",
    "    )\n",
    ").text"
   ]
  },
  {
   "cell_type": "code",
   "execution_count": 40,
   "id": "f289c65e-545d-4a1d-b179-bab8f4725bac",
   "metadata": {
    "tags": []
   },
   "outputs": [
    {
     "data": {
      "text/plain": [
       "\"That's a plot of a cosine function, specifically it appears to be a cosine wave with a period of approximately 6.28 (which is close to 2π).\\n\""
      ]
     },
     "execution_count": 40,
     "metadata": {},
     "output_type": "execute_result"
    }
   ],
   "source": [
    "genai_client.models.generate_content(\n",
    "    model = models['gemini']['flash']['1.5'],\n",
    "    contents = [image_bytes, prompt_text],\n",
    "    config = genai.types.GenerateContentConfig(\n",
    "        system_instruction = system_instructions,\n",
    "        temperature = 0.3\n",
    "    )\n",
    ").text"
   ]
  },
  {
   "cell_type": "markdown",
   "id": "9c30de21-ae21-45b3-aaf3-9bf6ac3c9355",
   "metadata": {},
   "source": [
    "### Controlled Prompts"
   ]
  },
  {
   "cell_type": "markdown",
   "id": "6f30aa93-8ed9-4655-bc25-69c2043ec911",
   "metadata": {},
   "source": [
    "#### With Enum For Classification"
   ]
  },
  {
   "cell_type": "code",
   "execution_count": 44,
   "id": "fa78eade-956b-47fe-ad9c-3e7d497991ca",
   "metadata": {
    "tags": []
   },
   "outputs": [],
   "source": [
    "class Curves(str, enum.Enum):\n",
    "    SINE = 'Sine'\n",
    "    COSINE = 'Cosine'\n",
    "    LINE = 'Line'\n",
    "    TANGENT = 'Tangent'\n",
    "    COTANGENT = 'Cotangent'\n",
    "    SECANT = 'Secant'\n",
    "    EXPONENTIAL = 'Exponential'\n",
    "    LOGARITHMIC = 'Logarithmic'"
   ]
  },
  {
   "cell_type": "code",
   "execution_count": 45,
   "id": "2c6d8ba1-7276-44e4-b6fa-21bed3a67d1d",
   "metadata": {
    "tags": []
   },
   "outputs": [
    {
     "data": {
      "text/plain": [
       "'Sine'"
      ]
     },
     "execution_count": 45,
     "metadata": {},
     "output_type": "execute_result"
    }
   ],
   "source": [
    "genai_client.models.generate_content(\n",
    "    model = models['gemini']['flash']['2.0'],\n",
    "    contents = [image_bytes, prompt_text],\n",
    "    config = genai.types.GenerateContentConfig(\n",
    "        system_instruction = system_instructions,\n",
    "        temperature = 0,\n",
    "        response_mime_type = 'text/x.enum',\n",
    "        response_schema = Curves\n",
    "    )\n",
    ").text"
   ]
  },
  {
   "cell_type": "markdown",
   "id": "3fdd63b1-6801-411b-8eb7-0263a6f29c82",
   "metadata": {},
   "source": [
    "#### With JSON Including List of ENUM - Using Pydantic"
   ]
  },
  {
   "cell_type": "code",
   "execution_count": 47,
   "id": "90fd033d-ceea-421b-84d0-b99bdd6a4959",
   "metadata": {
    "tags": []
   },
   "outputs": [],
   "source": [
    "class MultiCurve(pydantic.BaseModel):\n",
    "    curves: typing.List[Curves]"
   ]
  },
  {
   "cell_type": "code",
   "execution_count": 50,
   "id": "49272e1b-11cd-42b1-af87-1898fbbf6900",
   "metadata": {
    "tags": []
   },
   "outputs": [
    {
     "data": {
      "text/plain": [
       "'{\\n  \"curves\": [\\n    \"Sine\"\\n  ]\\n}'"
      ]
     },
     "execution_count": 50,
     "metadata": {},
     "output_type": "execute_result"
    }
   ],
   "source": [
    "response = genai_client.models.generate_content(\n",
    "    model = models['gemini']['flash']['2.0'],\n",
    "    contents = [image_bytes, prompt_text],\n",
    "    config = genai.types.GenerateContentConfig(\n",
    "        system_instruction = system_instructions,\n",
    "        temperature = 0,\n",
    "        response_mime_type = 'application/json',\n",
    "        response_schema = MultiCurve\n",
    "    )\n",
    ")\n",
    "response.text"
   ]
  },
  {
   "cell_type": "code",
   "execution_count": 52,
   "id": "52439763-daa3-4ab0-a8be-4df2536528c1",
   "metadata": {
    "tags": []
   },
   "outputs": [
    {
     "data": {
      "text/plain": [
       "{'curves': ['Sine']}"
      ]
     },
     "execution_count": 52,
     "metadata": {},
     "output_type": "execute_result"
    }
   ],
   "source": [
    "json.loads(response.text)"
   ]
  },
  {
   "cell_type": "markdown",
   "id": "2dd496c0-d074-4034-8c40-49b9d1a4083a",
   "metadata": {},
   "source": [
    "#### Review and Validate JSON - With Pydantic"
   ]
  },
  {
   "cell_type": "code",
   "execution_count": 53,
   "id": "62d2b691-6a16-4be8-a655-801de9dcca06",
   "metadata": {
    "tags": []
   },
   "outputs": [
    {
     "data": {
      "text/plain": [
       "MultiCurve(curves=[<Curves.SINE: 'Sine'>])"
      ]
     },
     "execution_count": 53,
     "metadata": {},
     "output_type": "execute_result"
    }
   ],
   "source": [
    "MultiCurve.model_validate_json(response.text)"
   ]
  },
  {
   "cell_type": "code",
   "execution_count": 54,
   "id": "665674f3-8f28-4b8f-9916-11d75067f052",
   "metadata": {
    "tags": []
   },
   "outputs": [
    {
     "data": {
      "text/plain": [
       "MultiCurve(curves=[<Curves.SINE: 'Sine'>])"
      ]
     },
     "execution_count": 54,
     "metadata": {},
     "output_type": "execute_result"
    }
   ],
   "source": [
    "MultiCurve.model_validate(json.loads(response.text))"
   ]
  },
  {
   "cell_type": "code",
   "execution_count": 55,
   "id": "ad13b551-f268-4ad5-8b81-1f4ce7607127",
   "metadata": {
    "tags": []
   },
   "outputs": [
    {
     "name": "stdout",
     "output_type": "stream",
     "text": [
      "curves=[<Curves.SINE: 'Sine'>]\n"
     ]
    }
   ],
   "source": [
    "try:\n",
    "    print(MultiCurve.model_validate(json.loads(response.text)))\n",
    "except pydantic.ValidationError as e:\n",
    "    print(e.errors)"
   ]
  },
  {
   "cell_type": "markdown",
   "id": "f3837d43-82bc-41d9-b366-eec819d24d7a",
   "metadata": {},
   "source": [
    "### Understanding Responses With Token Probabilities\n",
    "\n",
    "We know 'Sine' is correct but what was the second best guess?  Or if it was wrong we might want to know how close was the second best guess and what was it?\n",
    "\n",
    "This is where reviewing the responses first token and its alternatives can help out.\n",
    "- `response_logprobs = True` enable the token level details in the output along with the log probability of each token\n",
    "- `logprobs = 5` enables the inclusion of the top token candidates (chosen plus alternatives) at each generate step\n",
    "\n",
    "Here we enable the token level details and request the top 5 (max) tokens at each step.  By reviewing the first step we can understand how the choice of the enum played out"
   ]
  },
  {
   "cell_type": "code",
   "execution_count": 57,
   "id": "613b19cf-fe0c-4284-b659-af1cbc585a6f",
   "metadata": {
    "tags": []
   },
   "outputs": [
    {
     "data": {
      "text/plain": [
       "'Sine'"
      ]
     },
     "execution_count": 57,
     "metadata": {},
     "output_type": "execute_result"
    }
   ],
   "source": [
    "response = genai_client.models.generate_content(\n",
    "    model = models['gemini']['flash']['2.0'],\n",
    "    contents = [image_bytes, prompt_text],\n",
    "    config = genai.types.GenerateContentConfig(\n",
    "        system_instruction = system_instructions,\n",
    "        temperature = 0,\n",
    "        response_mime_type = 'text/x.enum',\n",
    "        response_schema = Curves,\n",
    "        response_logprobs = True,\n",
    "        logprobs = 5\n",
    "    )\n",
    ")\n",
    "response.text"
   ]
  },
  {
   "cell_type": "code",
   "execution_count": 58,
   "id": "bb16cd2f-38f7-4965-b630-362695ee187b",
   "metadata": {
    "tags": []
   },
   "outputs": [
    {
     "data": {
      "text/plain": [
       "LogprobsResult(chosen_candidates=[LogprobsResultCandidate(log_probability=-0.000106890686, token='Sine', token_id=None)], top_candidates=[LogprobsResultTopCandidates(candidates=[LogprobsResultCandidate(log_probability=-0.000106890686, token='Sine', token_id=None), LogprobsResultCandidate(log_probability=-9.188898, token=' Sine', token_id=None), LogprobsResultCandidate(log_probability=-11.712154, token='Cosine', token_id=None), LogprobsResultCandidate(log_probability=-15.362929, token='Line', token_id=None), LogprobsResultCandidate(log_probability=-15.744335, token='S', token_id=None)])])"
      ]
     },
     "execution_count": 58,
     "metadata": {},
     "output_type": "execute_result"
    }
   ],
   "source": [
    "response.candidates[0].logprobs_result"
   ]
  },
  {
   "cell_type": "code",
   "execution_count": 59,
   "id": "c3b8bdb4-5333-41a9-b988-268296948ea5",
   "metadata": {
    "tags": []
   },
   "outputs": [
    {
     "data": {
      "text/plain": [
       "[LogprobsResultCandidate(log_probability=-0.000106890686, token='Sine', token_id=None)]"
      ]
     },
     "execution_count": 59,
     "metadata": {},
     "output_type": "execute_result"
    }
   ],
   "source": [
    "response.candidates[0].logprobs_result.chosen_candidates"
   ]
  },
  {
   "cell_type": "code",
   "execution_count": 60,
   "id": "e0c4bcf5-e0a2-4e67-b6c7-7a28954b962c",
   "metadata": {
    "tags": []
   },
   "outputs": [
    {
     "data": {
      "text/plain": [
       "[LogprobsResultTopCandidates(candidates=[LogprobsResultCandidate(log_probability=-0.000106890686, token='Sine', token_id=None), LogprobsResultCandidate(log_probability=-9.188898, token=' Sine', token_id=None), LogprobsResultCandidate(log_probability=-11.712154, token='Cosine', token_id=None), LogprobsResultCandidate(log_probability=-15.362929, token='Line', token_id=None), LogprobsResultCandidate(log_probability=-15.744335, token='S', token_id=None)])]"
      ]
     },
     "execution_count": 60,
     "metadata": {},
     "output_type": "execute_result"
    }
   ],
   "source": [
    "response.candidates[0].logprobs_result.top_candidates"
   ]
  },
  {
   "cell_type": "code",
   "execution_count": 65,
   "id": "80420d39-7ffa-4013-b476-119f5a9bcdd4",
   "metadata": {
    "tags": []
   },
   "outputs": [
    {
     "data": {
      "text/markdown": [
       "|Token Order| Top Candidates | Log Probability | Probability |\n",
       "|---|---|---|---|\n",
       "|| Sine | -0.000107 | 0.999893 |\n",
       "||  Sine | -9.188898 | 0.000102 |\n",
       "|| Cosine | -11.712154 | 0.000008 |\n",
       "|| Line | -15.362929 | 0.000000 |\n",
       "|| S | -15.744335 | 0.000000 |\n"
      ],
      "text/plain": [
       "<IPython.core.display.Markdown object>"
      ]
     },
     "metadata": {},
     "output_type": "display_data"
    }
   ],
   "source": [
    "def candidates(response):\n",
    "    markdown_table = \"|Token Order| Top Candidates | Log Probability | Probability |\\n\"\n",
    "    markdown_table += \"|---|---|---|---|\\n\"\n",
    "    logprobs_result = response.candidates[0].logprobs_result\n",
    "    for top_candidates_group in logprobs_result.top_candidates:\n",
    "        for candidate in top_candidates_group.candidates:\n",
    "            token = candidate.token\n",
    "            logprob = f\"{candidate.log_probability:.6f}\"\n",
    "            # Handle potential underflow\n",
    "            prob = f\"{math.exp(candidate.log_probability):.6f}\" if candidate.log_probability > -700 else \"0.000000\"\n",
    "            markdown_table += f\"|| {token} | {logprob} | {prob} |\\n\"\n",
    "\n",
    "    IPython.display.display(IPython.display.Markdown(markdown_table))\n",
    "    \n",
    "candidates(response)"
   ]
  },
  {
   "cell_type": "code",
   "execution_count": null,
   "id": "a5d24c2d-e808-4bcb-936a-8c8cbe06b276",
   "metadata": {},
   "outputs": [],
   "source": []
  }
 ],
 "metadata": {
  "environment": {
   "kernel": "conda-base-py",
   "name": "workbench-notebooks.m125",
   "type": "gcloud",
   "uri": "us-docker.pkg.dev/deeplearning-platform-release/gcr.io/workbench-notebooks:m125"
  },
  "kernelspec": {
   "display_name": "Python 3 (ipykernel) (Local)",
   "language": "python",
   "name": "conda-base-py"
  },
  "language_info": {
   "codemirror_mode": {
    "name": "ipython",
    "version": 3
   },
   "file_extension": ".py",
   "mimetype": "text/x-python",
   "name": "python",
   "nbconvert_exporter": "python",
   "pygments_lexer": "ipython3",
   "version": "3.10.15"
  }
 },
 "nbformat": 4,
 "nbformat_minor": 5
}
