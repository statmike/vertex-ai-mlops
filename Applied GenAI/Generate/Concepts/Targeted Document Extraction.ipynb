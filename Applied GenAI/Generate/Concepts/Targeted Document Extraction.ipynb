{
 "cells": [
  {
   "cell_type": "markdown",
   "id": "42db63fc",
   "metadata": {},
   "source": [
    "![tracker](https://us-central1-vertex-ai-mlops-369716.cloudfunctions.net/pixel-tracking?path=statmike%2Fvertex-ai-mlops%2FApplied+GenAI%2FGenerate%2FConcepts&file=Targeted+Document+Extraction.ipynb)\n",
    "<!--- header table --->\n",
    "<table align=\"left\">\n",
    "  <td style=\"text-align: center\">\n",
    "    <a href=\"https://colab.research.google.com/github/statmike/vertex-ai-mlops/blob/main/Applied%20GenAI/Generate/Concepts/Targeted%20Document%20Extraction.ipynb\">\n",
    "      <img src=\"https://cloud.google.com/ml-engine/images/colab-logo-32px.png\" alt=\"Google Colaboratory logo\">\n",
    "      <br>Run in<br>Colab\n",
    "    </a>\n",
    "  </td>\n",
    "  <td style=\"text-align: center\">\n",
    "    <a href=\"https://console.cloud.google.com/vertex-ai/colab/import/https%3A%2F%2Fraw.githubusercontent.com%2Fstatmike%2Fvertex-ai-mlops%2Fmain%2FApplied%2520GenAI%2FGenerate%2FConcepts%2FTargeted%2520Document%2520Extraction.ipynb\">\n",
    "      <img width=\"32px\" src=\"https://lh3.googleusercontent.com/JmcxdQi-qOpctIvWKgPtrzZdJJK-J3sWE1RsfjZNwshCFgE_9fULcNpuXYTilIR2hjwN\" alt=\"Google Cloud Colab Enterprise logo\">\n",
    "      <br>Run in<br>Colab Enterprise\n",
    "    </a>\n",
    "  </td>      \n",
    "  <td style=\"text-align: center\">\n",
    "    <a href=\"https://github.com/statmike/vertex-ai-mlops/blob/main/Applied%20GenAI/Generate/Concepts/Targeted%20Document%20Extraction.ipynb\">\n",
    "      <img src=\"https://cloud.google.com/ml-engine/images/github-logo-32px.png\" alt=\"GitHub logo\">\n",
    "      <br>View on<br>GitHub\n",
    "    </a>\n",
    "  </td>\n",
    "  <td style=\"text-align: center\">\n",
    "    <a href=\"https://console.cloud.google.com/vertex-ai/workbench/deploy-notebook?download_url=https://raw.githubusercontent.com/statmike/vertex-ai-mlops/main/Applied%20GenAI/Generate/Concepts/Targeted%20Document%20Extraction.ipynb\">\n",
    "      <img src=\"https://lh3.googleusercontent.com/UiNooY4LUgW_oTvpsNhPpQzsstV5W8F7rYgxgGBD85cWJoLmrOzhVs_ksK_vgx40SHs7jCqkTkCk=e14-rj-sc0xffffff-h130-w32\" alt=\"Vertex AI logo\">\n",
    "      <br>Open in<br>Vertex AI Workbench\n",
    "    </a>\n",
    "  </td>\n",
    "</table>"
   ]
  },
  {
   "cell_type": "markdown",
   "id": "e0b8df0c-0633-4367-87d5-955bca885cdc",
   "metadata": {},
   "source": [
    "# Targeted Document Extraction"
   ]
  },
  {
   "cell_type": "markdown",
   "id": "c82bcb26-1ac5-424d-b7a9-714339d18b66",
   "metadata": {
    "id": "od_UkDpvRmgD",
    "tags": []
   },
   "source": [
    "---\n",
    "## Colab Setup\n",
    "\n",
    "To run this notebook in Colab run the cells in this section.  Otherwise, skip this section.\n",
    "\n",
    "This cell will authenticate to GCP (follow prompts in the popup)."
   ]
  },
  {
   "cell_type": "code",
   "execution_count": 1,
   "id": "3bd5d0a6-758a-4387-9b09-4e2adcd0ee0c",
   "metadata": {
    "executionInfo": {
     "elapsed": 195,
     "status": "ok",
     "timestamp": 1683726184843,
     "user": {
      "displayName": "Mike Henderson",
      "userId": "07691629187611687318"
     },
     "user_tz": 240
    },
    "id": "8UO9FnqyKBlF",
    "tags": []
   },
   "outputs": [],
   "source": [
    "PROJECT_ID = 'statmike-mlops-349915' # replace with project ID"
   ]
  },
  {
   "cell_type": "code",
   "execution_count": 2,
   "id": "4bbe22ab-6a95-4748-897d-b595e8da8b2d",
   "metadata": {
    "colab": {
     "base_uri": "https://localhost:8080/"
    },
    "executionInfo": {
     "elapsed": 68869,
     "status": "ok",
     "timestamp": 1683726253709,
     "user": {
      "displayName": "Mike Henderson",
      "userId": "07691629187611687318"
     },
     "user_tz": 240
    },
    "id": "N98-KK7LRkjm",
    "outputId": "09ec5008-0def-4e1a-c349-c598ee752f78",
    "tags": []
   },
   "outputs": [
    {
     "name": "stdout",
     "output_type": "stream",
     "text": [
      "Not a Colab Environment\n"
     ]
    }
   ],
   "source": [
    "try:\n",
    "    from google.colab import auth\n",
    "    auth.authenticate_user()\n",
    "    !gcloud config set project {PROJECT_ID}\n",
    "    print('Colab authorized to GCP')\n",
    "except Exception:\n",
    "    print('Not a Colab Environment')\n",
    "    pass"
   ]
  },
  {
   "cell_type": "markdown",
   "id": "e9182a5c-8644-4307-811f-f59efdeea062",
   "metadata": {
    "tags": []
   },
   "source": [
    "---\n",
    "## Installs\n",
    "\n",
    "The list `packages` contains tuples of package import names and install names.  If the import name is not found then the install name is used to install quitely for the current user."
   ]
  },
  {
   "cell_type": "code",
   "execution_count": 3,
   "id": "b4546249-bc4a-4aae-98e4-56438cd1bafe",
   "metadata": {
    "tags": []
   },
   "outputs": [],
   "source": [
    "# tuples of (import name, install name, min_version)\n",
    "packages = [\n",
    "    ('google.genai', 'google-genai'),\n",
    "    ('pydantic', 'pydantic'),\n",
    "]\n",
    "\n",
    "import importlib\n",
    "install = False\n",
    "for package in packages:\n",
    "    if not importlib.util.find_spec(package[0]):\n",
    "        print(f'installing package {package[1]}')\n",
    "        install = True\n",
    "        !pip install {package[1]} -U -q --user\n",
    "    elif len(package) == 3:\n",
    "        if importlib.metadata.version(package[0]) < package[2]:\n",
    "            print(f'updating package {package[1]}')\n",
    "            install = True\n",
    "            !pip install {package[1]} -U -q --user"
   ]
  },
  {
   "cell_type": "markdown",
   "id": "9b005916-0c97-4266-a60e-58a3daf69679",
   "metadata": {},
   "source": [
    "### API Enablement"
   ]
  },
  {
   "cell_type": "code",
   "execution_count": 6,
   "id": "6c00b210-4fd9-4303-b236-6c04c175f37b",
   "metadata": {
    "tags": []
   },
   "outputs": [],
   "source": [
    "!gcloud services enable aiplatform.googleapis.com"
   ]
  },
  {
   "cell_type": "markdown",
   "id": "934edba0-6b6d-40ea-aa00-d59b398177b3",
   "metadata": {},
   "source": [
    "### Restart Kernel (If Installs Occured)\n",
    "\n",
    "After a kernel restart the code submission can start with the next cell after this one."
   ]
  },
  {
   "cell_type": "code",
   "execution_count": 7,
   "id": "fc0bd7cb-2d4e-4345-8c9e-546d28fbd092",
   "metadata": {
    "tags": []
   },
   "outputs": [],
   "source": [
    "if install:\n",
    "    import IPython\n",
    "    app = IPython.Application.instance()\n",
    "    app.kernel.do_shutdown(True)\n",
    "    IPython.display.display(IPython.display.Markdown(\"\"\"<div class=\\\"alert alert-block alert-warning\\\">\n",
    "        <b>⚠️ The kernel is going to restart. Please wait until it is finished before continuing to the next step. The previous cells do not need to be run again⚠️</b>\n",
    "        </div>\"\"\"))"
   ]
  },
  {
   "cell_type": "markdown",
   "id": "0e40d348-1b3f-4167-a7df-4c5fc997ff9c",
   "metadata": {
    "tags": []
   },
   "source": [
    "---\n",
    "## Setup"
   ]
  },
  {
   "cell_type": "markdown",
   "id": "16459c13-ea60-4292-b190-111074956e3e",
   "metadata": {},
   "source": [
    "inputs:"
   ]
  },
  {
   "cell_type": "code",
   "execution_count": 8,
   "id": "5878bf72-e62b-4d83-8b64-c2935080477c",
   "metadata": {
    "tags": []
   },
   "outputs": [
    {
     "data": {
      "text/plain": [
       "'statmike-mlops-349915'"
      ]
     },
     "execution_count": 8,
     "metadata": {},
     "output_type": "execute_result"
    }
   ],
   "source": [
    "project = !gcloud config get-value project\n",
    "PROJECT_ID = project[0]\n",
    "PROJECT_ID"
   ]
  },
  {
   "cell_type": "code",
   "execution_count": 9,
   "id": "3d333a97-573f-4a22-90f2-4c6c95567653",
   "metadata": {
    "tags": []
   },
   "outputs": [],
   "source": [
    "REGION = 'us-central1'\n",
    "SERIES = 'applied-genai'\n",
    "EXPERIMENT = 'concept-doc-extract'"
   ]
  },
  {
   "cell_type": "markdown",
   "id": "4a332c56-6f7b-43f2-87ea-35f7ecebb792",
   "metadata": {},
   "source": [
    "packages:"
   ]
  },
  {
   "cell_type": "code",
   "execution_count": 31,
   "id": "feb40e66-a030-423f-b051-79ba797e8cd6",
   "metadata": {
    "tags": []
   },
   "outputs": [],
   "source": [
    "# standard packages\n",
    "import os, shutil, enum, json, base64, typing\n",
    "\n",
    "import IPython\n",
    "import pydantic\n",
    "\n",
    "# google gen ai sdk\n",
    "from google import genai"
   ]
  },
  {
   "cell_type": "code",
   "execution_count": 11,
   "id": "3aba176a-b973-467b-b127-0d05e7796ebe",
   "metadata": {
    "tags": []
   },
   "outputs": [
    {
     "data": {
      "text/plain": [
       "'1.2.0'"
      ]
     },
     "execution_count": 11,
     "metadata": {},
     "output_type": "execute_result"
    }
   ],
   "source": [
    "genai.__version__"
   ]
  },
  {
   "cell_type": "markdown",
   "id": "c68e7fed-1efa-44c0-ab7b-901348bbf1a5",
   "metadata": {},
   "source": [
    "clients:"
   ]
  },
  {
   "cell_type": "code",
   "execution_count": 12,
   "id": "ed7da65e-5929-4e15-8b91-a56051356fe4",
   "metadata": {
    "tags": []
   },
   "outputs": [],
   "source": [
    "genai_client = genai.Client(vertexai = True, project = PROJECT_ID, location = REGION)"
   ]
  },
  {
   "cell_type": "markdown",
   "id": "059e77d5-198c-41dc-ac5b-e02fc22d6c9b",
   "metadata": {
    "tags": []
   },
   "source": [
    "---\n",
    "## Multimodal Inputs\n",
    "\n",
    "Prompts can extend beyond text to include audio, video, images, and documents as context.  This means you can [design multimodal prompts](https://cloud.google.com/vertex-ai/generative-ai/docs/multimodal/design-multimodal-prompts) that include combinations of these file types as grounding for Gemini."
   ]
  },
  {
   "cell_type": "markdown",
   "id": "b748b182-a53a-4e42-b422-2bd1cc28bef2",
   "metadata": {},
   "source": [
    "### Get The Documents\n",
    "\n",
    "A set of example file inputs for multimodal prompts were created in this companion workflow: [Create Files For Multimodal Prompt Examples](../Generate/Create%20Files%20For%20Multimodal%20Prompt%20Examples.ipynb) and the outputs are already included in the repository.\n",
    "\n",
    "If you are working from a clone of this notebooks [repository](https://github.com/statmike/vertex-ai-mlops) then the documents are already present. The following cell checks for the documents folder and if it is missing gets it (`git clone`):"
   ]
  },
  {
   "cell_type": "code",
   "execution_count": 13,
   "id": "26e8015f-cce9-4fc1-8e91-cff1874a607f",
   "metadata": {
    "tags": []
   },
   "outputs": [],
   "source": [
    "local_dir = '../files/multimodal-inputs'"
   ]
  },
  {
   "cell_type": "code",
   "execution_count": 14,
   "id": "a3bed16e-a90b-49a5-b930-a841858a8017",
   "metadata": {
    "tags": []
   },
   "outputs": [
    {
     "name": "stdout",
     "output_type": "stream",
     "text": [
      "Documents Found in folder `../files/multimodal-inputs`\n"
     ]
    }
   ],
   "source": [
    "if not os.path.exists(local_dir):\n",
    "    print('Retrieving documents...')\n",
    "    parent_dir = os.path.dirname(local_dir)\n",
    "    temp_dir = os.path.join(parent_dir, 'temp')\n",
    "    if not os.path.exists(temp_dir):\n",
    "        os.makedirs(temp_dir)\n",
    "    !git clone https://www.github.com/statmike/vertex-ai-mlops {temp_dir}/vertex-ai-mlops\n",
    "    shutil.copytree(f'{temp_dir}/vertex-ai-mlops/Applied GenAI/Generate/files/multimodal-inputs', local_dir)\n",
    "    shutil.rmtree(temp_dir)\n",
    "    print(f'Documents are now in folder `{local_dir}`')\n",
    "else:\n",
    "    print(f'Documents Found in folder `{local_dir}`')             "
   ]
  },
  {
   "cell_type": "markdown",
   "id": "09fac4d6-c751-44e8-8a90-ca1f30bae875",
   "metadata": {},
   "source": [
    "---\n",
    "### **Prompt With Documents**\n",
    "\n",
    "[Document Understanding](https://cloud.google.com/vertex-ai/generative-ai/docs/multimodal/document-understanding)"
   ]
  },
  {
   "cell_type": "markdown",
   "id": "0297cba8-0f89-4082-adba-300f470a3131",
   "metadata": {},
   "source": [
    "#### Review The Document"
   ]
  },
  {
   "cell_type": "code",
   "execution_count": 21,
   "id": "4756dc2c-281a-403c-bd5b-d39dd774a1e4",
   "metadata": {
    "tags": []
   },
   "outputs": [
    {
     "data": {
      "text/html": [
       "\n",
       "        <iframe\n",
       "            width=\"800\"\n",
       "            height=\"800\"\n",
       "            src=\"../files/multimodal-inputs/invoice.pdf\"\n",
       "            frameborder=\"0\"\n",
       "            allowfullscreen\n",
       "            \n",
       "        ></iframe>\n",
       "        "
      ],
      "text/plain": [
       "<IPython.lib.display.IFrame at 0x7fa43720e4a0>"
      ]
     },
     "execution_count": 21,
     "metadata": {},
     "output_type": "execute_result"
    }
   ],
   "source": [
    "IPython.display.IFrame(f\"{local_dir}/invoice.pdf\", width=800, height= 800)"
   ]
  },
  {
   "cell_type": "markdown",
   "id": "9afd0802-7faf-4162-bb3e-9c3985c9850b",
   "metadata": {},
   "source": [
    "#### Read The Document Data"
   ]
  },
  {
   "cell_type": "code",
   "execution_count": 22,
   "id": "55db333e-38db-42d6-a65b-66fc2ce0bd72",
   "metadata": {
    "tags": []
   },
   "outputs": [],
   "source": [
    "with open(f\"{local_dir}/invoice.pdf\", 'rb') as f:\n",
    "    document_read = f.read()"
   ]
  },
  {
   "cell_type": "markdown",
   "id": "acfad6a1-5e4c-406c-9bd4-c3aac1e167d1",
   "metadata": {},
   "source": [
    "#### Inline Loading"
   ]
  },
  {
   "cell_type": "code",
   "execution_count": 23,
   "id": "813d482b-1d0b-4283-af94-d03d65b4f9e6",
   "metadata": {
    "tags": []
   },
   "outputs": [],
   "source": [
    "document_inline = genai.types.Part.from_bytes(\n",
    "    data = base64.b64encode(document_read).decode('utf_8'),\n",
    "    mime_type = 'application/pdf'\n",
    ")"
   ]
  },
  {
   "cell_type": "markdown",
   "id": "d137a93a-55ef-4f45-81bc-fdba7cc9b68a",
   "metadata": {},
   "source": [
    "#### Generation Example"
   ]
  },
  {
   "cell_type": "code",
   "execution_count": 25,
   "id": "6095a284-81ab-4ea8-8666-ba90f9416b85",
   "metadata": {},
   "outputs": [
    {
     "data": {
      "text/markdown": [
       "Here's a description of the invoice content:\n",
       "\n",
       "**General Information:**\n",
       "\n",
       "*   **Invoice Number:** 20231027-001\n",
       "*   **Company:** Acme Data Visualization\n",
       "*   **Company Address:** 123 Main Street, Anytown, CA 91234\n",
       "*   **Company Phone:** (555) 123-4567\n",
       "*   **Company Email:** info@acmedatavis.com\n",
       "*   **Invoice Date:** October 27, 2023\n",
       "*   **Due Date:** November 26, 2023\n",
       "\n",
       "**Items/Services:**\n",
       "\n",
       "*   Plot Visualization (.png, .jpeg, .webp): Quantity 1, Rate $150.00, Amount $150.00\n",
       "*   Animated Plot Visualization (.mp4): Quantity 1, Rate $200.00, Amount $200.00\n",
       "*   Process Script & Audio (.mp3): Quantity 1, Rate $100.00, Amount $100.00\n",
       "\n",
       "**Financial Summary:**\n",
       "\n",
       "*   **Subtotal:** $450.00\n",
       "*   **Sales Tax (6%):** $27.00\n",
       "*   **Total:** $477.00\n",
       "\n",
       "**Additional Notes:**\n",
       "\n",
       "*   A note at the bottom requests payment to the address above and expresses gratitude for the business."
      ],
      "text/plain": [
       "<IPython.core.display.Markdown object>"
      ]
     },
     "execution_count": 25,
     "metadata": {},
     "output_type": "execute_result"
    }
   ],
   "source": [
    "response = genai_client.models.generate_content(\n",
    "    model = 'gemini-2.0-flash-001',\n",
    "    contents = [document_inline, 'Describe the content of this invoice.'],\n",
    "    config = genai.types.GenerateContentConfig(\n",
    "        temperature = 0.3\n",
    "    )\n",
    ")\n",
    "\n",
    "IPython.display.Markdown(response.text)"
   ]
  },
  {
   "cell_type": "markdown",
   "id": "3d3b5d69-093b-4dbf-839e-b08d6095de64",
   "metadata": {},
   "source": [
    "---\n",
    "## Controlled Responses With `response_schema`"
   ]
  },
  {
   "cell_type": "markdown",
   "id": "7a65436a-8a2b-4755-808d-78f5529897d1",
   "metadata": {},
   "source": [
    "### Classify Document"
   ]
  },
  {
   "cell_type": "code",
   "execution_count": 35,
   "id": "40350484-9554-45f4-8a7a-e4f512177408",
   "metadata": {
    "tags": []
   },
   "outputs": [],
   "source": [
    "class Invoices(str, enum.Enum):\n",
    "    INVOICE = 'Invoice'\n",
    "    OTHER = 'Not an invoice!'"
   ]
  },
  {
   "cell_type": "code",
   "execution_count": 29,
   "id": "f1dce660-b25d-4478-b837-aa7966e8d6dc",
   "metadata": {
    "tags": []
   },
   "outputs": [
    {
     "data": {
      "text/plain": [
       "'Invoice'"
      ]
     },
     "execution_count": 29,
     "metadata": {},
     "output_type": "execute_result"
    }
   ],
   "source": [
    "genai_client.models.generate_content(\n",
    "    model = 'gemini-2.0-flash-001',\n",
    "    contents = [document_inline, 'Is this an invoice?'],\n",
    "    config = genai.types.GenerateContentConfig(\n",
    "        temperature = 0,\n",
    "        system_instruction = 'Classify documents into categories.',\n",
    "        response_mime_type = 'text/x.enum',\n",
    "        response_schema = Invoices\n",
    "    )\n",
    ").text"
   ]
  },
  {
   "cell_type": "markdown",
   "id": "f62e9703-7045-49ff-a614-22a6c5facf05",
   "metadata": {},
   "source": [
    "### Targeted Extraction With Schema"
   ]
  },
  {
   "cell_type": "code",
   "execution_count": 32,
   "id": "97f773d7-a1ba-4fd4-bac2-6935d4c95405",
   "metadata": {
    "tags": []
   },
   "outputs": [],
   "source": [
    "class InvoiceData(pydantic.BaseModel):\n",
    "    id: str = pydantic.Field(description = 'The unique invoice number or identifier.')\n",
    "    company_name: typing.Optional[str] = pydantic.Field(description = 'The name of the company issuing the invoice.')\n",
    "    line_item_total: typing.List[float] = pydantic.Field(description = 'A list of the total amount for each line item on the invoice.')\n",
    "    total_amount: float = pydantic.Field(description = 'The overall total amount due on the invoice.')"
   ]
  },
  {
   "cell_type": "code",
   "execution_count": 34,
   "id": "8dc52dc0-9d83-4e9a-bb67-cf31b190c07c",
   "metadata": {
    "tags": []
   },
   "outputs": [
    {
     "data": {
      "text/plain": [
       "{'id': '20231027-001',\n",
       " 'company_name': 'Acme Data Visualization',\n",
       " 'line_item_total': [150.0, 200.0, 100.0],\n",
       " 'total_amount': 477.0}"
      ]
     },
     "execution_count": 34,
     "metadata": {},
     "output_type": "execute_result"
    }
   ],
   "source": [
    "response = genai_client.models.generate_content(\n",
    "    model = 'gemini-2.0-flash-001',\n",
    "    contents = [document_inline, 'Extract the requested information from this invoice.'],\n",
    "    config = genai.types.GenerateContentConfig(\n",
    "        temperature = 0,\n",
    "        system_instruction = 'Extract targeted information from invoices with high accuracy.',\n",
    "        response_mime_type = 'application/json',\n",
    "        response_schema = InvoiceData\n",
    "    )\n",
    ")\n",
    "\n",
    "json.loads(response.text)"
   ]
  },
  {
   "cell_type": "code",
   "execution_count": null,
   "id": "a333bac9-1081-40b6-9ac1-4bfb51057365",
   "metadata": {},
   "outputs": [],
   "source": []
  }
 ],
 "metadata": {
  "environment": {
   "kernel": "conda-base-py",
   "name": "workbench-notebooks.m125",
   "type": "gcloud",
   "uri": "us-docker.pkg.dev/deeplearning-platform-release/gcr.io/workbench-notebooks:m125"
  },
  "kernelspec": {
   "display_name": "Python 3 (ipykernel) (Local)",
   "language": "python",
   "name": "conda-base-py"
  },
  "language_info": {
   "codemirror_mode": {
    "name": "ipython",
    "version": 3
   },
   "file_extension": ".py",
   "mimetype": "text/x-python",
   "name": "python",
   "nbconvert_exporter": "python",
   "pygments_lexer": "ipython3",
   "version": "3.10.15"
  }
 },
 "nbformat": 4,
 "nbformat_minor": 5
}
