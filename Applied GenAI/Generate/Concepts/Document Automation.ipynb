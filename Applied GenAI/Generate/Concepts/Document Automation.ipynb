{
 "cells": [
  {
   "cell_type": "markdown",
   "id": "1ecd27eb",
   "metadata": {},
   "source": [
    "![tracker](https://us-central1-vertex-ai-mlops-369716.cloudfunctions.net/pixel-tracking?path=statmike%2Fvertex-ai-mlops%2FApplied+GenAI%2FGenerate%2FConcepts&file=Document+Automation.ipynb)\n",
    "<!--- header table --->\n",
    "<table align=\"left\">\n",
    "  <td style=\"text-align: center\">\n",
    "    <a href=\"https://colab.research.google.com/github/statmike/vertex-ai-mlops/blob/main/Applied%20GenAI/Generate/Concepts/Document%20Automation.ipynb\">\n",
    "      <img src=\"https://cloud.google.com/ml-engine/images/colab-logo-32px.png\" alt=\"Google Colaboratory logo\">\n",
    "      <br>Run in<br>Colab\n",
    "    </a>\n",
    "  </td>\n",
    "  <td style=\"text-align: center\">\n",
    "    <a href=\"https://console.cloud.google.com/vertex-ai/colab/import/https%3A%2F%2Fraw.githubusercontent.com%2Fstatmike%2Fvertex-ai-mlops%2Fmain%2FApplied%2520GenAI%2FGenerate%2FConcepts%2FDocument%2520Automation.ipynb\">\n",
    "      <img width=\"32px\" src=\"https://lh3.googleusercontent.com/JmcxdQi-qOpctIvWKgPtrzZdJJK-J3sWE1RsfjZNwshCFgE_9fULcNpuXYTilIR2hjwN\" alt=\"Google Cloud Colab Enterprise logo\">\n",
    "      <br>Run in<br>Colab Enterprise\n",
    "    </a>\n",
    "  </td>      \n",
    "  <td style=\"text-align: center\">\n",
    "    <a href=\"https://github.com/statmike/vertex-ai-mlops/blob/main/Applied%20GenAI/Generate/Concepts/Document%20Automation.ipynb\">\n",
    "      <img src=\"https://cloud.google.com/ml-engine/images/github-logo-32px.png\" alt=\"GitHub logo\">\n",
    "      <br>View on<br>GitHub\n",
    "    </a>\n",
    "  </td>\n",
    "  <td style=\"text-align: center\">\n",
    "    <a href=\"https://console.cloud.google.com/vertex-ai/workbench/deploy-notebook?download_url=https://raw.githubusercontent.com/statmike/vertex-ai-mlops/main/Applied%20GenAI/Generate/Concepts/Document%20Automation.ipynb\">\n",
    "      <img src=\"https://lh3.googleusercontent.com/UiNooY4LUgW_oTvpsNhPpQzsstV5W8F7rYgxgGBD85cWJoLmrOzhVs_ksK_vgx40SHs7jCqkTkCk=e14-rj-sc0xffffff-h130-w32\" alt=\"Vertex AI logo\">\n",
    "      <br>Open in<br>Vertex AI Workbench\n",
    "    </a>\n",
    "  </td>\n",
    "</table>"
   ]
  },
  {
   "cell_type": "markdown",
   "id": "c6d80bae-1bad-4f7a-a663-baa9f59b3385",
   "metadata": {},
   "source": [
    "# Document Automation"
   ]
  },
  {
   "cell_type": "markdown",
   "id": "3c2a11e9-2b73-43f8-b70e-90292621e151",
   "metadata": {
    "id": "od_UkDpvRmgD",
    "tags": []
   },
   "source": [
    "---\n",
    "## Colab Setup\n",
    "\n",
    "To run this notebook in Colab run the cells in this section.  Otherwise, skip this section.\n",
    "\n",
    "This cell will authenticate to GCP (follow prompts in the popup)."
   ]
  },
  {
   "cell_type": "code",
   "execution_count": 2,
   "id": "b42208c9-ed08-49e0-bdca-ed4f36be25de",
   "metadata": {
    "executionInfo": {
     "elapsed": 195,
     "status": "ok",
     "timestamp": 1683726184843,
     "user": {
      "displayName": "Mike Henderson",
      "userId": "07691629187611687318"
     },
     "user_tz": 240
    },
    "id": "8UO9FnqyKBlF",
    "tags": []
   },
   "outputs": [],
   "source": [
    "PROJECT_ID = 'statmike-mlops-349915' # replace with project ID"
   ]
  },
  {
   "cell_type": "code",
   "execution_count": 3,
   "id": "01c1e2db-908c-40ec-9857-c2643416591c",
   "metadata": {
    "colab": {
     "base_uri": "https://localhost:8080/"
    },
    "executionInfo": {
     "elapsed": 68869,
     "status": "ok",
     "timestamp": 1683726253709,
     "user": {
      "displayName": "Mike Henderson",
      "userId": "07691629187611687318"
     },
     "user_tz": 240
    },
    "id": "N98-KK7LRkjm",
    "outputId": "09ec5008-0def-4e1a-c349-c598ee752f78",
    "tags": []
   },
   "outputs": [
    {
     "name": "stdout",
     "output_type": "stream",
     "text": [
      "Not a Colab Environment\n"
     ]
    }
   ],
   "source": [
    "try:\n",
    "    from google.colab import auth\n",
    "    auth.authenticate_user()\n",
    "    !gcloud config set project {PROJECT_ID}\n",
    "    print('Colab authorized to GCP')\n",
    "except Exception:\n",
    "    print('Not a Colab Environment')\n",
    "    pass"
   ]
  },
  {
   "cell_type": "markdown",
   "id": "2f4c4687-54b1-4bf9-945e-7a33aa31902c",
   "metadata": {
    "tags": []
   },
   "source": [
    "---\n",
    "## Installs\n",
    "\n",
    "The list `packages` contains tuples of package import names and install names.  If the import name is not found then the install name is used to install quitely for the current user."
   ]
  },
  {
   "cell_type": "code",
   "execution_count": 20,
   "id": "a4eeaaa9-b3c9-4c40-9675-0d8d13966a35",
   "metadata": {
    "tags": []
   },
   "outputs": [],
   "source": [
    "# tuples of (import name, install name, min_version)\n",
    "packages = [\n",
    "    ('google.genai', 'google-genai'),\n",
    "    ('pydantic', 'pydantic'),\n",
    "    ('google.cloud.storage', 'google-cloud-storage'),\n",
    "    ('google.cloud.bigquery', 'google-cloud-bigquery'),\n",
    "    ('fitz', 'pymupdf'),\n",
    "]\n",
    "\n",
    "import importlib\n",
    "install = False\n",
    "for package in packages:\n",
    "    if not importlib.util.find_spec(package[0]):\n",
    "        print(f'installing package {package[1]}')\n",
    "        install = True\n",
    "        !pip install {package[1]} -U -q --user\n",
    "    elif len(package) == 3:\n",
    "        if importlib.metadata.version(package[0]) < package[2]:\n",
    "            print(f'updating package {package[1]}')\n",
    "            install = True\n",
    "            !pip install {package[1]} -U -q --user"
   ]
  },
  {
   "cell_type": "markdown",
   "id": "0c9ddb50-2680-40e3-8444-9e6bcf1b4d0d",
   "metadata": {},
   "source": [
    "### API Enablement"
   ]
  },
  {
   "cell_type": "code",
   "execution_count": 5,
   "id": "0fb7b385-f445-4d20-b8ad-5aeabcab6294",
   "metadata": {
    "tags": []
   },
   "outputs": [],
   "source": [
    "!gcloud services enable aiplatform.googleapis.com"
   ]
  },
  {
   "cell_type": "markdown",
   "id": "63bc4129-5995-4ade-be39-c1a36beab968",
   "metadata": {},
   "source": [
    "### Restart Kernel (If Installs Occured)\n",
    "\n",
    "After a kernel restart the code submission can start with the next cell after this one."
   ]
  },
  {
   "cell_type": "code",
   "execution_count": 6,
   "id": "decfb0a8-68a1-4c53-b149-a15b996fb9d9",
   "metadata": {
    "tags": []
   },
   "outputs": [],
   "source": [
    "if install:\n",
    "    import IPython\n",
    "    app = IPython.Application.instance()\n",
    "    app.kernel.do_shutdown(True)\n",
    "    IPython.display.display(IPython.display.Markdown(\"\"\"<div class=\\\"alert alert-block alert-warning\\\">\n",
    "        <b>⚠️ The kernel is going to restart. Please wait until it is finished before continuing to the next step. The previous cells do not need to be run again⚠️</b>\n",
    "        </div>\"\"\"))"
   ]
  },
  {
   "cell_type": "markdown",
   "id": "632a8a39-2694-4cd2-bfae-79e98c5969de",
   "metadata": {
    "tags": []
   },
   "source": [
    "---\n",
    "## Setup"
   ]
  },
  {
   "cell_type": "markdown",
   "id": "6b6ed441-5bdf-42f8-b0f3-a7689ee08d54",
   "metadata": {},
   "source": [
    "inputs:"
   ]
  },
  {
   "cell_type": "code",
   "execution_count": 10,
   "id": "5ac62d2b-b672-48e6-ba0d-9d2867dc3604",
   "metadata": {
    "tags": []
   },
   "outputs": [
    {
     "data": {
      "text/plain": [
       "'statmike-mlops-349915'"
      ]
     },
     "execution_count": 10,
     "metadata": {},
     "output_type": "execute_result"
    }
   ],
   "source": [
    "project = !gcloud config get-value project\n",
    "PROJECT_ID = project[0]\n",
    "PROJECT_ID"
   ]
  },
  {
   "cell_type": "code",
   "execution_count": 11,
   "id": "24dc3553-f6a9-482a-a903-1d42149e5337",
   "metadata": {
    "tags": []
   },
   "outputs": [],
   "source": [
    "REGION = 'us-central1'\n",
    "SERIES = 'applied-genai'\n",
    "EXPERIMENT = 'concept-doc-automation'\n",
    "\n",
    "GCS_BUCKET = PROJECT_ID\n",
    "\n",
    "# make this the BigQuery Project / Dataset / Table prefix to store results\n",
    "BQ_PROJECT = PROJECT_ID\n",
    "BQ_DATASET = SERIES.replace('-', '_')\n",
    "BQ_TABLE = EXPERIMENT\n",
    "BQ_REGION = REGION[0:2]"
   ]
  },
  {
   "cell_type": "markdown",
   "id": "21e8d3f7-03b6-4bdd-aa56-e73329abade4",
   "metadata": {},
   "source": [
    "packages:"
   ]
  },
  {
   "cell_type": "code",
   "execution_count": 162,
   "id": "98bbbe69-3dd5-40b2-a70d-8ca9545d6d53",
   "metadata": {
    "tags": []
   },
   "outputs": [],
   "source": [
    "# standard packages\n",
    "import os, shutil, enum, json, base64, typing, asyncio, time, collections\n",
    "\n",
    "import IPython\n",
    "import pydantic\n",
    "import fitz\n",
    "\n",
    "# google gen ai sdk\n",
    "from google import genai\n",
    "\n",
    "# BigQuery\n",
    "from google.cloud import bigquery\n",
    "\n",
    "# GCS\n",
    "from google.cloud import storage"
   ]
  },
  {
   "cell_type": "code",
   "execution_count": 13,
   "id": "417e523f-8917-4d22-b888-9b5e1af6b7b5",
   "metadata": {
    "tags": []
   },
   "outputs": [
    {
     "data": {
      "text/plain": [
       "'1.2.0'"
      ]
     },
     "execution_count": 13,
     "metadata": {},
     "output_type": "execute_result"
    }
   ],
   "source": [
    "genai.__version__"
   ]
  },
  {
   "cell_type": "markdown",
   "id": "26bf0427-4626-493b-8c47-530038f620ff",
   "metadata": {},
   "source": [
    "clients:"
   ]
  },
  {
   "cell_type": "code",
   "execution_count": 14,
   "id": "b56dfcb2-8b5f-4192-944a-929023bc5696",
   "metadata": {
    "tags": []
   },
   "outputs": [],
   "source": [
    "# genai clien\n",
    "genai_client = genai.Client(vertexai = True, project = PROJECT_ID, location = REGION)\n",
    "\n",
    "# bigquery client\n",
    "bq = bigquery.Client(project = PROJECT_ID)\n",
    "\n",
    "# gcs storage client\n",
    "gcs = storage.Client(project = GCS_BUCKET)\n",
    "bucket = gcs.bucket(GCS_BUCKET)"
   ]
  },
  {
   "cell_type": "markdown",
   "id": "2f872702-be61-475d-b2a5-1b8289cd1859",
   "metadata": {
    "tags": []
   },
   "source": [
    "---\n",
    "## Multimodal Inputs\n",
    "\n",
    "Prompts can extend beyond text to include audio, video, images, and documents as context.  This means you can [design multimodal prompts](https://cloud.google.com/vertex-ai/generative-ai/docs/multimodal/design-multimodal-prompts) that include combinations of these file types as grounding for Gemini."
   ]
  },
  {
   "cell_type": "markdown",
   "id": "89ca5e41-948e-460e-8df8-d401afb6efa7",
   "metadata": {},
   "source": [
    "### Get The Documents\n",
    "\n",
    "A set of example file inputs for multimodal prompts were created in this companion workflow: [Create Files For Multimodal Prompt Examples](../Generate/Create%20Files%20For%20Multimodal%20Prompt%20Examples.ipynb) and the outputs are already included in the repository.\n",
    "\n",
    "If you are working from a clone of this notebooks [repository](https://github.com/statmike/vertex-ai-mlops) then the documents are already present. The following cell checks for the documents folder and if it is missing gets it (`git clone`):"
   ]
  },
  {
   "cell_type": "code",
   "execution_count": 15,
   "id": "90ef944b-d705-45aa-a989-6d47233acc69",
   "metadata": {
    "tags": []
   },
   "outputs": [],
   "source": [
    "local_dir = '../files/multimodal-inputs'"
   ]
  },
  {
   "cell_type": "code",
   "execution_count": 16,
   "id": "3c3f986f-1b55-4629-b17c-d09d91dd21f0",
   "metadata": {
    "tags": []
   },
   "outputs": [
    {
     "name": "stdout",
     "output_type": "stream",
     "text": [
      "Documents Found in folder `../files/multimodal-inputs`\n"
     ]
    }
   ],
   "source": [
    "if not os.path.exists(local_dir):\n",
    "    print('Retrieving documents...')\n",
    "    parent_dir = os.path.dirname(local_dir)\n",
    "    temp_dir = os.path.join(parent_dir, 'temp')\n",
    "    if not os.path.exists(temp_dir):\n",
    "        os.makedirs(temp_dir)\n",
    "    !git clone https://www.github.com/statmike/vertex-ai-mlops {temp_dir}/vertex-ai-mlops\n",
    "    shutil.copytree(f'{temp_dir}/vertex-ai-mlops/Applied GenAI/Generate/files/multimodal-inputs', local_dir)\n",
    "    shutil.rmtree(temp_dir)\n",
    "    print(f'Documents are now in folder `{local_dir}`')\n",
    "else:\n",
    "    print(f'Documents Found in folder `{local_dir}`')             "
   ]
  },
  {
   "cell_type": "markdown",
   "id": "992766e5-777d-46a5-83ab-977bd47424b2",
   "metadata": {},
   "source": [
    "### Review The Document"
   ]
  },
  {
   "cell_type": "code",
   "execution_count": 171,
   "id": "7c586456-9cc4-4c42-8f63-87680084f523",
   "metadata": {
    "tags": []
   },
   "outputs": [
    {
     "data": {
      "text/html": [
       "\n",
       "        <iframe\n",
       "            width=\"800\"\n",
       "            height=\"800\"\n",
       "            src=\"../files/multimodal-inputs/invoices.pdf\"\n",
       "            frameborder=\"0\"\n",
       "            allowfullscreen\n",
       "            \n",
       "        ></iframe>\n",
       "        "
      ],
      "text/plain": [
       "<IPython.lib.display.IFrame at 0x7f6b20c68310>"
      ]
     },
     "execution_count": 171,
     "metadata": {},
     "output_type": "execute_result"
    }
   ],
   "source": [
    "IPython.display.IFrame(f\"{local_dir}/invoices.pdf\", width=800, height= 800)"
   ]
  },
  {
   "cell_type": "markdown",
   "id": "8381de16-d20c-4b64-976d-76e07c2c3d9f",
   "metadata": {},
   "source": [
    "### Read The Document Data"
   ]
  },
  {
   "cell_type": "code",
   "execution_count": 71,
   "id": "4b5dfbc7-73a4-4fa1-b1a6-fb653e99facf",
   "metadata": {
    "tags": []
   },
   "outputs": [],
   "source": [
    "with open(f\"{local_dir}/invoices.pdf\", 'rb') as f:\n",
    "    document_read = f.read()"
   ]
  },
  {
   "cell_type": "markdown",
   "id": "dea296ce-60b7-4e0a-99c2-f95750e6b3c0",
   "metadata": {},
   "source": [
    "### Use PyMuPDF (fitz) To Extract Pages And Save To GCS"
   ]
  },
  {
   "cell_type": "code",
   "execution_count": 72,
   "id": "12e87601-ef46-4abb-9b3e-6287036888a8",
   "metadata": {
    "tags": []
   },
   "outputs": [],
   "source": [
    "document = fitz.open('pdf', document_read)"
   ]
  },
  {
   "cell_type": "code",
   "execution_count": 73,
   "id": "5265dde5-7140-421e-8969-e052f9222d4d",
   "metadata": {
    "tags": []
   },
   "outputs": [
    {
     "data": {
      "text/plain": [
       "400"
      ]
     },
     "execution_count": 73,
     "metadata": {},
     "output_type": "execute_result"
    }
   ],
   "source": [
    "document.page_count"
   ]
  },
  {
   "cell_type": "code",
   "execution_count": 74,
   "id": "67486749-adb8-44e1-9c05-b86c4c944f6e",
   "metadata": {
    "tags": []
   },
   "outputs": [],
   "source": [
    "for pagenum in range(document.page_count):\n",
    "    page = fitz.open()\n",
    "    page.insert_pdf(document, from_page = pagenum, to_page = pagenum)\n",
    "    blob = bucket.blob(f\"{SERIES}/{EXPERIMENT}/documents/invoice_{pagenum+1}.pdf\")\n",
    "    blob.upload_from_string(page.tobytes(), content_type = 'application/pdf')\n",
    "    page.close()"
   ]
  },
  {
   "cell_type": "code",
   "execution_count": 75,
   "id": "82fef58e-e28b-453d-ba11-7023c58b5bf3",
   "metadata": {
    "tags": []
   },
   "outputs": [
    {
     "data": {
      "text/plain": [
       "[<Blob: statmike-mlops-349915, applied-genai/concept-doc-automation/documents/invoice_1.pdf, 1740488777857717>,\n",
       " <Blob: statmike-mlops-349915, applied-genai/concept-doc-automation/documents/invoice_10.pdf, 1740488778398750>,\n",
       " <Blob: statmike-mlops-349915, applied-genai/concept-doc-automation/documents/invoice_100.pdf, 1740488783554242>,\n",
       " <Blob: statmike-mlops-349915, applied-genai/concept-doc-automation/documents/invoice_101.pdf, 1740488783607472>,\n",
       " <Blob: statmike-mlops-349915, applied-genai/concept-doc-automation/documents/invoice_102.pdf, 1740488783666332>,\n",
       " <Blob: statmike-mlops-349915, applied-genai/concept-doc-automation/documents/invoice_103.pdf, 1740488783729136>,\n",
       " <Blob: statmike-mlops-349915, applied-genai/concept-doc-automation/documents/invoice_104.pdf, 1740488783803044>,\n",
       " <Blob: statmike-mlops-349915, applied-genai/concept-doc-automation/documents/invoice_105.pdf, 1740488783861479>,\n",
       " <Blob: statmike-mlops-349915, applied-genai/concept-doc-automation/documents/invoice_106.pdf, 1740488783949052>,\n",
       " <Blob: statmike-mlops-349915, applied-genai/concept-doc-automation/documents/invoice_107.pdf, 1740488784002842>]"
      ]
     },
     "execution_count": 75,
     "metadata": {},
     "output_type": "execute_result"
    }
   ],
   "source": [
    "file_list = list(bucket.list_blobs(prefix = f'{SERIES}/{EXPERIMENT}/documents/invoice'))\n",
    "file_list[0:10]"
   ]
  },
  {
   "cell_type": "markdown",
   "id": "06796fb3-2217-4fcc-8b39-a0c57254b109",
   "metadata": {},
   "source": [
    "---\n",
    "## Prompt With Document\n",
    "\n",
    "[Document Understanding](https://cloud.google.com/vertex-ai/generative-ai/docs/multimodal/document-understanding)"
   ]
  },
  {
   "cell_type": "markdown",
   "id": "80921a3f-6fd6-4229-b527-927369058f41",
   "metadata": {},
   "source": [
    "### GCS Loading For GenAI"
   ]
  },
  {
   "cell_type": "code",
   "execution_count": 109,
   "id": "79976945-120a-46be-a7e4-17ef1d9e2447",
   "metadata": {
    "tags": []
   },
   "outputs": [],
   "source": [
    "document_gcs = genai.types.Part.from_uri(\n",
    "    file_uri = f\"gs://{file_list[0].bucket.name}/{file_list[0].name}\",\n",
    "    mime_type = file_list[0].content_type\n",
    ")"
   ]
  },
  {
   "cell_type": "markdown",
   "id": "36b196ac-e683-4619-9f57-b1b0bea64497",
   "metadata": {},
   "source": [
    "### Generation Example: Classification"
   ]
  },
  {
   "cell_type": "code",
   "execution_count": 110,
   "id": "47060d14-fc3a-452c-aef7-1edb52e38d09",
   "metadata": {
    "tags": []
   },
   "outputs": [],
   "source": [
    "class Invoices(str, enum.Enum):\n",
    "    INVOICE = 'Invoice'\n",
    "    OTHER = 'Not an invoice!'"
   ]
  },
  {
   "cell_type": "code",
   "execution_count": 111,
   "id": "dca17f97-2969-4172-a5c8-3112817d9535",
   "metadata": {
    "tags": []
   },
   "outputs": [
    {
     "data": {
      "text/plain": [
       "'Invoice'"
      ]
     },
     "execution_count": 111,
     "metadata": {},
     "output_type": "execute_result"
    }
   ],
   "source": [
    "response = genai_client.models.generate_content(\n",
    "    model = 'gemini-2.0-flash-001',\n",
    "    contents = [document_gcs, 'Is this an invoice?'],\n",
    "    config = genai.types.GenerateContentConfig(\n",
    "        temperature = 0,\n",
    "        system_instruction = 'Classify documents into categories.',\n",
    "        response_mime_type = 'text/x.enum',\n",
    "        response_schema = Invoices\n",
    "    )\n",
    ")\n",
    "\n",
    "classify_result = response.text\n",
    "classify_result"
   ]
  },
  {
   "cell_type": "markdown",
   "id": "af6d3e21-c2bd-41a6-a480-fb15a7fcb8a7",
   "metadata": {},
   "source": [
    "### Generation Example: Targeted Extraction"
   ]
  },
  {
   "cell_type": "code",
   "execution_count": 79,
   "id": "54d77dce-af9b-419e-ab67-2b2249758be6",
   "metadata": {
    "tags": []
   },
   "outputs": [],
   "source": [
    "class InvoiceData(pydantic.BaseModel):\n",
    "    id: str = pydantic.Field(description = 'The unique invoice number or identifier.')\n",
    "    company_name: typing.Optional[str] = pydantic.Field(description = 'The name of the company issuing the invoice.')\n",
    "    line_item_total: typing.List[float] = pydantic.Field(description = 'A list of the total amount for each line item on the invoice.')\n",
    "    total_amount: float = pydantic.Field(description = 'The overall total amount due on the invoice.')"
   ]
  },
  {
   "cell_type": "code",
   "execution_count": 86,
   "id": "22699a44-2a83-4b4b-b417-52678010e198",
   "metadata": {
    "tags": []
   },
   "outputs": [
    {
     "data": {
      "text/plain": [
       "{'id': '20231105-001',\n",
       " 'company_name': 'Mike Demos',\n",
       " 'line_item_total': [320.0, 120.0, 250.0],\n",
       " 'total_amount': 738.3}"
      ]
     },
     "execution_count": 86,
     "metadata": {},
     "output_type": "execute_result"
    }
   ],
   "source": [
    "response = genai_client.models.generate_content(\n",
    "    model = 'gemini-2.0-flash-001',\n",
    "    contents = [document_gcs, 'Extract the requested information from this invoice.'],\n",
    "    config = genai.types.GenerateContentConfig(\n",
    "        temperature = 0,\n",
    "        system_instruction = 'Extract targeted information from invoices with high accuracy.',\n",
    "        response_mime_type = 'application/json',\n",
    "        response_schema = InvoiceData\n",
    "    )\n",
    ")\n",
    "\n",
    "extract_result = json.loads(response.text)\n",
    "extract_result"
   ]
  },
  {
   "cell_type": "markdown",
   "id": "6ac4fb4d-7464-4db2-aa63-68369e603730",
   "metadata": {},
   "source": [
    "### Save Results: BigQuery"
   ]
  },
  {
   "cell_type": "markdown",
   "id": "161c7e37-87d4-4244-b37a-45c29c9ffb5c",
   "metadata": {},
   "source": [
    "#### Create/Recall Dataset"
   ]
  },
  {
   "cell_type": "code",
   "execution_count": 81,
   "id": "645e2fef-f0ab-41c8-97d6-187ff326f3e9",
   "metadata": {
    "tags": []
   },
   "outputs": [],
   "source": [
    "dataset = bigquery.Dataset(f\"{BQ_PROJECT}.{BQ_DATASET}\")\n",
    "dataset.location = BQ_REGION\n",
    "bq_dataset = bq.create_dataset(dataset, exists_ok = True)"
   ]
  },
  {
   "cell_type": "markdown",
   "id": "a91b687b-c55f-4c52-83de-76629ecbc5e5",
   "metadata": {},
   "source": [
    "#### Load JSON TO BigQuery Table"
   ]
  },
  {
   "cell_type": "code",
   "execution_count": 82,
   "id": "558cde5e-03af-4f07-911c-54c8f7c1749a",
   "metadata": {
    "tags": []
   },
   "outputs": [],
   "source": [
    "bq_table = bq_dataset.table(BQ_TABLE)"
   ]
  },
  {
   "cell_type": "code",
   "execution_count": 83,
   "id": "bc9cdf21-4117-4abc-bbbe-69e3e7badad8",
   "metadata": {
    "tags": []
   },
   "outputs": [],
   "source": [
    "job_config = bigquery.LoadJobConfig(\n",
    "    source_format = bigquery.SourceFormat.NEWLINE_DELIMITED_JSON,\n",
    "    write_disposition = bigquery.WriteDisposition.WRITE_TRUNCATE,\n",
    "    autodetect = True\n",
    ")"
   ]
  },
  {
   "cell_type": "code",
   "execution_count": 84,
   "id": "6e5316fe-48bc-446a-8a5b-43595d916fa9",
   "metadata": {
    "tags": []
   },
   "outputs": [
    {
     "data": {
      "text/plain": [
       "'gs://statmike-mlops-349915/applied-genai/concept-doc-automation/documents/invoice_1.pdf'"
      ]
     },
     "execution_count": 84,
     "metadata": {},
     "output_type": "execute_result"
    }
   ],
   "source": [
    "document_gcs.file_data.file_uri"
   ]
  },
  {
   "cell_type": "code",
   "execution_count": 87,
   "id": "17bce86f-acf8-48e4-a166-582e18847de1",
   "metadata": {
    "tags": []
   },
   "outputs": [
    {
     "data": {
      "text/plain": [
       "{'id': '20231105-001',\n",
       " 'company_name': 'Mike Demos',\n",
       " 'line_item_total': [320.0, 120.0, 250.0],\n",
       " 'total_amount': 738.3,\n",
       " 'file_path': 'gs://statmike-mlops-349915/applied-genai/concept-doc-automation/documents/invoice_1.pdf',\n",
       " 'document_type': 'Invoice'}"
      ]
     },
     "execution_count": 87,
     "metadata": {},
     "output_type": "execute_result"
    }
   ],
   "source": [
    "extract_result['file_path'] = document_gcs.file_data.file_uri\n",
    "extract_result['document_type'] = classify_result\n",
    "extract_result"
   ]
  },
  {
   "cell_type": "code",
   "execution_count": 88,
   "id": "aa9bc7b6-3d29-4ffc-94fb-2aaa72c9f5a7",
   "metadata": {
    "tags": []
   },
   "outputs": [
    {
     "data": {
      "text/plain": [
       "LoadJob<project=statmike-mlops-349915, location=US, id=304d141e-73aa-4378-9d51-2e1775b02207>"
      ]
     },
     "execution_count": 88,
     "metadata": {},
     "output_type": "execute_result"
    }
   ],
   "source": [
    "load_job = bq.load_table_from_json(\n",
    "    json_rows = [extract_result],\n",
    "    destination = bq_table,\n",
    "    job_config = job_config\n",
    ")\n",
    "load_job.result()"
   ]
  },
  {
   "cell_type": "code",
   "execution_count": 89,
   "id": "60bbd8f3-5d19-4461-b891-254d3c135410",
   "metadata": {
    "tags": []
   },
   "outputs": [
    {
     "data": {
      "text/html": [
       "<div>\n",
       "<style scoped>\n",
       "    .dataframe tbody tr th:only-of-type {\n",
       "        vertical-align: middle;\n",
       "    }\n",
       "\n",
       "    .dataframe tbody tr th {\n",
       "        vertical-align: top;\n",
       "    }\n",
       "\n",
       "    .dataframe thead th {\n",
       "        text-align: right;\n",
       "    }\n",
       "</style>\n",
       "<table border=\"1\" class=\"dataframe\">\n",
       "  <thead>\n",
       "    <tr style=\"text-align: right;\">\n",
       "      <th></th>\n",
       "      <th>document_type</th>\n",
       "      <th>file_path</th>\n",
       "      <th>total_amount</th>\n",
       "      <th>company_name</th>\n",
       "      <th>line_item_total</th>\n",
       "      <th>id</th>\n",
       "    </tr>\n",
       "  </thead>\n",
       "  <tbody>\n",
       "    <tr>\n",
       "      <th>0</th>\n",
       "      <td>Invoice</td>\n",
       "      <td>gs://statmike-mlops-349915/applied-genai/conce...</td>\n",
       "      <td>738.3</td>\n",
       "      <td>Mike Demos</td>\n",
       "      <td>[320.0, 120.0, 250.0]</td>\n",
       "      <td>20231105-001</td>\n",
       "    </tr>\n",
       "  </tbody>\n",
       "</table>\n",
       "</div>"
      ],
      "text/plain": [
       "  document_type                                          file_path  \\\n",
       "0       Invoice  gs://statmike-mlops-349915/applied-genai/conce...   \n",
       "\n",
       "   total_amount company_name        line_item_total            id  \n",
       "0         738.3   Mike Demos  [320.0, 120.0, 250.0]  20231105-001  "
      ]
     },
     "execution_count": 89,
     "metadata": {},
     "output_type": "execute_result"
    }
   ],
   "source": [
    "bq.query(f\"SELECT * FROM `{BQ_PROJECT}.{BQ_DATASET}.{BQ_TABLE}` LIMIT 5\").to_dataframe()"
   ]
  },
  {
   "cell_type": "markdown",
   "id": "6d58b1b4-22aa-48a0-bd7b-9d2a9c31ffc9",
   "metadata": {},
   "source": [
    "---\n",
    "## Process Many Documents: Async\n",
    "\n",
    "Tasks:\n",
    "- For Each File\n",
    "    - Classify the document\n",
    "        - If it is an invoice then extract the targeted contents\n",
    "- Append results to BigQuery Table\n",
    "\n",
    "**Note:** The code is asychronous to help handle the nearly 400 invoices.  By default this used on-demand throughput which is [dynamic shared quota](https://cloud.google.com/vertex-ai/generative-ai/docs/dsq) for this model.  This is suseptable to resource exhaution at times and might [return 429 errors](https://cloud.google.com/vertex-ai/generative-ai/docs/error-code-429).  Incorporating retries can be helpful for handling this situation.  To prevent 429 errors and get faster response times it can be beneficial to switch to [provisioned throughput](https://cloud.google.com/vertex-ai/generative-ai/docs/provisioned-throughput) where you purchased dedicated throughput based on characters/tokens per second needed for your application."
   ]
  },
  {
   "cell_type": "code",
   "execution_count": 91,
   "id": "fab02c6a-6cb7-4fd4-9e0f-a87f86b8cdc2",
   "metadata": {
    "tags": []
   },
   "outputs": [],
   "source": [
    "async def async_classify_task(document_gcs):\n",
    "    response = await genai_client.aio.models.generate_content(\n",
    "        model = 'gemini-2.0-flash-001',\n",
    "        contents = [document_gcs, 'Is this an invoice?'],\n",
    "        config = genai.types.GenerateContentConfig(\n",
    "            temperature = 0,\n",
    "            system_instruction = 'Classify documents into categories.',\n",
    "            response_mime_type = 'text/x.enum',\n",
    "            response_schema = Invoices\n",
    "        )\n",
    "    )\n",
    "    return response.text"
   ]
  },
  {
   "cell_type": "code",
   "execution_count": 93,
   "id": "5b54adb4-6d1d-400a-9c30-7d4af136ff99",
   "metadata": {
    "tags": []
   },
   "outputs": [],
   "source": [
    "async def async_extract_task(document_gcs):\n",
    "    \n",
    "    classification = await async_classify_task(document_gcs)\n",
    "    \n",
    "    if classification == 'Invoice':\n",
    "        response = await genai_client.aio.models.generate_content(\n",
    "            model = 'gemini-2.0-flash-001',\n",
    "            contents = [document_gcs, 'Extract the requested information from this invoice.'],\n",
    "            config = genai.types.GenerateContentConfig(\n",
    "                temperature = 0,\n",
    "                system_instruction = 'Extract targeted information from invoices with high accuracy.',\n",
    "                response_mime_type = 'application/json',\n",
    "                response_schema = InvoiceData\n",
    "            )\n",
    "        )\n",
    "        result = json.loads(response.text)\n",
    "    else:\n",
    "        result = dict()\n",
    "        \n",
    "    result['file_path'] = document_gcs.file_data.file_uri\n",
    "    result['document_type'] = classification\n",
    "    \n",
    "    return result"
   ]
  },
  {
   "cell_type": "code",
   "execution_count": 96,
   "id": "42005211-e7eb-418a-a2c8-1f632638ca64",
   "metadata": {
    "tags": []
   },
   "outputs": [],
   "source": [
    "async def process_documents(blobs):\n",
    "    documents = [\n",
    "        genai.types.Part.from_uri(\n",
    "            file_uri = f\"gs://{blob.bucket.name}/{blob.name}\",\n",
    "            mime_type = blob.content_type\n",
    "        )\n",
    "        for blob in blobs\n",
    "    ]\n",
    "    tasks = [async_extract_task(document) for document in documents]\n",
    "    results = await asyncio.gather(*tasks)\n",
    "    return results"
   ]
  },
  {
   "cell_type": "code",
   "execution_count": 97,
   "id": "9343f5ce-eeca-483e-8040-cc3d00ebea73",
   "metadata": {
    "tags": []
   },
   "outputs": [],
   "source": [
    "start_time = time.time()\n",
    "processed_results = await process_documents(file_list[1:])\n",
    "end_time = time.time()"
   ]
  },
  {
   "cell_type": "code",
   "execution_count": 98,
   "id": "83e85338-6639-4a52-b76a-198455f48221",
   "metadata": {
    "tags": []
   },
   "outputs": [
    {
     "data": {
      "text/plain": [
       "911.3831217288971"
      ]
     },
     "execution_count": 98,
     "metadata": {},
     "output_type": "execute_result"
    }
   ],
   "source": [
    "end_time - start_time"
   ]
  },
  {
   "cell_type": "code",
   "execution_count": 99,
   "id": "c17719d5-8d91-4a82-9907-ce7a95ba47cf",
   "metadata": {
    "tags": []
   },
   "outputs": [
    {
     "data": {
      "text/plain": [
       "399"
      ]
     },
     "execution_count": 99,
     "metadata": {},
     "output_type": "execute_result"
    }
   ],
   "source": [
    "len(processed_results)"
   ]
  },
  {
   "cell_type": "code",
   "execution_count": 100,
   "id": "08c0d1a3-7bad-4688-9439-8a1fe84caebe",
   "metadata": {
    "tags": []
   },
   "outputs": [
    {
     "data": {
      "text/plain": [
       "{'id': 'INV-20241115-001',\n",
       " 'company_name': 'Mike Demos',\n",
       " 'line_item_total': [240.0, 300.0, 400.0],\n",
       " 'total_amount': 1015.2,\n",
       " 'file_path': 'gs://statmike-mlops-349915/applied-genai/concept-doc-automation/documents/invoice_10.pdf',\n",
       " 'document_type': 'Invoice'}"
      ]
     },
     "execution_count": 100,
     "metadata": {},
     "output_type": "execute_result"
    }
   ],
   "source": [
    "processed_results[0]"
   ]
  },
  {
   "cell_type": "markdown",
   "id": "4534c8e2-d066-4ffd-ab88-ffddb80e8056",
   "metadata": {},
   "source": [
    "### Load To BigQuery: Append"
   ]
  },
  {
   "cell_type": "code",
   "execution_count": 101,
   "id": "250ad0e5-0358-4e2f-9e6e-06e60b46e2d2",
   "metadata": {
    "tags": []
   },
   "outputs": [],
   "source": [
    "job_config = bigquery.LoadJobConfig(\n",
    "    source_format = bigquery.SourceFormat.NEWLINE_DELIMITED_JSON,\n",
    "    write_disposition = bigquery.WriteDisposition.WRITE_APPEND,\n",
    "    autodetect = True\n",
    ")"
   ]
  },
  {
   "cell_type": "code",
   "execution_count": 103,
   "id": "376a0ef6-fd40-48dc-93a1-0b3af1ec5d25",
   "metadata": {
    "tags": []
   },
   "outputs": [
    {
     "data": {
      "text/plain": [
       "LoadJob<project=statmike-mlops-349915, location=US, id=4132b08c-4c2c-44f4-93ed-71fe4045ac73>"
      ]
     },
     "execution_count": 103,
     "metadata": {},
     "output_type": "execute_result"
    }
   ],
   "source": [
    "load_job = bq.load_table_from_json(\n",
    "    json_rows = processed_results,\n",
    "    destination = bq_table,\n",
    "    job_config = job_config\n",
    ")\n",
    "load_job.result()"
   ]
  },
  {
   "cell_type": "code",
   "execution_count": 104,
   "id": "6fc46ca0-5ace-40c5-9fec-76b6ce38d4fc",
   "metadata": {
    "tags": []
   },
   "outputs": [
    {
     "data": {
      "text/html": [
       "<div>\n",
       "<style scoped>\n",
       "    .dataframe tbody tr th:only-of-type {\n",
       "        vertical-align: middle;\n",
       "    }\n",
       "\n",
       "    .dataframe tbody tr th {\n",
       "        vertical-align: top;\n",
       "    }\n",
       "\n",
       "    .dataframe thead th {\n",
       "        text-align: right;\n",
       "    }\n",
       "</style>\n",
       "<table border=\"1\" class=\"dataframe\">\n",
       "  <thead>\n",
       "    <tr style=\"text-align: right;\">\n",
       "      <th></th>\n",
       "      <th>document_type</th>\n",
       "      <th>file_path</th>\n",
       "      <th>total_amount</th>\n",
       "      <th>company_name</th>\n",
       "      <th>line_item_total</th>\n",
       "      <th>id</th>\n",
       "    </tr>\n",
       "  </thead>\n",
       "  <tbody>\n",
       "    <tr>\n",
       "      <th>0</th>\n",
       "      <td>Invoice</td>\n",
       "      <td>gs://statmike-mlops-349915/applied-genai/conce...</td>\n",
       "      <td>738.3</td>\n",
       "      <td>Mike Demos</td>\n",
       "      <td>[320.0, 120.0, 250.0]</td>\n",
       "      <td>20231105-001</td>\n",
       "    </tr>\n",
       "    <tr>\n",
       "      <th>1</th>\n",
       "      <td>Not an invoice!</td>\n",
       "      <td>gs://statmike-mlops-349915/applied-genai/conce...</td>\n",
       "      <td>NaN</td>\n",
       "      <td>None</td>\n",
       "      <td>[]</td>\n",
       "      <td>None</td>\n",
       "    </tr>\n",
       "    <tr>\n",
       "      <th>2</th>\n",
       "      <td>Invoice</td>\n",
       "      <td>gs://statmike-mlops-349915/applied-genai/conce...</td>\n",
       "      <td>752.6</td>\n",
       "      <td>Acme Corp</td>\n",
       "      <td>[450.0, 110.0, 150.0]</td>\n",
       "      <td>INV-20231115-001</td>\n",
       "    </tr>\n",
       "    <tr>\n",
       "      <th>3</th>\n",
       "      <td>Invoice</td>\n",
       "      <td>gs://statmike-mlops-349915/applied-genai/conce...</td>\n",
       "      <td>1404.0</td>\n",
       "      <td>Acme Corp</td>\n",
       "      <td>[300.0, 500.0, 500.0]</td>\n",
       "      <td>INV-20231115-001</td>\n",
       "    </tr>\n",
       "    <tr>\n",
       "      <th>4</th>\n",
       "      <td>Invoice</td>\n",
       "      <td>gs://statmike-mlops-349915/applied-genai/conce...</td>\n",
       "      <td>1026.0</td>\n",
       "      <td>Acme Corp.</td>\n",
       "      <td>[500.0, 300.0, 100.0, 50.0]</td>\n",
       "      <td>20240128-001</td>\n",
       "    </tr>\n",
       "    <tr>\n",
       "      <th>...</th>\n",
       "      <td>...</td>\n",
       "      <td>...</td>\n",
       "      <td>...</td>\n",
       "      <td>...</td>\n",
       "      <td>...</td>\n",
       "      <td>...</td>\n",
       "    </tr>\n",
       "    <tr>\n",
       "      <th>395</th>\n",
       "      <td>Invoice</td>\n",
       "      <td>gs://statmike-mlops-349915/applied-genai/conce...</td>\n",
       "      <td>1026.0</td>\n",
       "      <td>Mike Demos</td>\n",
       "      <td>[500.0, 250.0, 50.0, 150.0]</td>\n",
       "      <td>INV-20241115-001</td>\n",
       "    </tr>\n",
       "    <tr>\n",
       "      <th>396</th>\n",
       "      <td>Invoice</td>\n",
       "      <td>gs://statmike-mlops-349915/applied-genai/conce...</td>\n",
       "      <td>945.0</td>\n",
       "      <td>Mike Demos</td>\n",
       "      <td>[350.0, 225.0, 300.0]</td>\n",
       "      <td>INV-20241115-001</td>\n",
       "    </tr>\n",
       "    <tr>\n",
       "      <th>397</th>\n",
       "      <td>Invoice</td>\n",
       "      <td>gs://statmike-mlops-349915/applied-genai/conce...</td>\n",
       "      <td>1176.6</td>\n",
       "      <td>Mike Demos</td>\n",
       "      <td>[350.0, 250.0, 360.0, 150.0]</td>\n",
       "      <td>INV-20241116-001</td>\n",
       "    </tr>\n",
       "    <tr>\n",
       "      <th>398</th>\n",
       "      <td>Invoice</td>\n",
       "      <td>gs://statmike-mlops-349915/applied-genai/conce...</td>\n",
       "      <td>1123.5</td>\n",
       "      <td>Mike Demos</td>\n",
       "      <td>[500.0, 150.0, 400.0]</td>\n",
       "      <td>INV-20241120-001</td>\n",
       "    </tr>\n",
       "    <tr>\n",
       "      <th>399</th>\n",
       "      <td>Invoice</td>\n",
       "      <td>gs://statmike-mlops-349915/applied-genai/conce...</td>\n",
       "      <td>498.2</td>\n",
       "      <td>Mike Demos</td>\n",
       "      <td>[350.0, 120.0]</td>\n",
       "      <td>INV20241028-001</td>\n",
       "    </tr>\n",
       "  </tbody>\n",
       "</table>\n",
       "<p>400 rows × 6 columns</p>\n",
       "</div>"
      ],
      "text/plain": [
       "       document_type                                          file_path  \\\n",
       "0            Invoice  gs://statmike-mlops-349915/applied-genai/conce...   \n",
       "1    Not an invoice!  gs://statmike-mlops-349915/applied-genai/conce...   \n",
       "2            Invoice  gs://statmike-mlops-349915/applied-genai/conce...   \n",
       "3            Invoice  gs://statmike-mlops-349915/applied-genai/conce...   \n",
       "4            Invoice  gs://statmike-mlops-349915/applied-genai/conce...   \n",
       "..               ...                                                ...   \n",
       "395          Invoice  gs://statmike-mlops-349915/applied-genai/conce...   \n",
       "396          Invoice  gs://statmike-mlops-349915/applied-genai/conce...   \n",
       "397          Invoice  gs://statmike-mlops-349915/applied-genai/conce...   \n",
       "398          Invoice  gs://statmike-mlops-349915/applied-genai/conce...   \n",
       "399          Invoice  gs://statmike-mlops-349915/applied-genai/conce...   \n",
       "\n",
       "     total_amount company_name               line_item_total                id  \n",
       "0           738.3   Mike Demos         [320.0, 120.0, 250.0]      20231105-001  \n",
       "1             NaN         None                            []              None  \n",
       "2           752.6    Acme Corp         [450.0, 110.0, 150.0]  INV-20231115-001  \n",
       "3          1404.0    Acme Corp         [300.0, 500.0, 500.0]  INV-20231115-001  \n",
       "4          1026.0   Acme Corp.   [500.0, 300.0, 100.0, 50.0]      20240128-001  \n",
       "..            ...          ...                           ...               ...  \n",
       "395        1026.0   Mike Demos   [500.0, 250.0, 50.0, 150.0]  INV-20241115-001  \n",
       "396         945.0   Mike Demos         [350.0, 225.0, 300.0]  INV-20241115-001  \n",
       "397        1176.6   Mike Demos  [350.0, 250.0, 360.0, 150.0]  INV-20241116-001  \n",
       "398        1123.5   Mike Demos         [500.0, 150.0, 400.0]  INV-20241120-001  \n",
       "399         498.2   Mike Demos                [350.0, 120.0]   INV20241028-001  \n",
       "\n",
       "[400 rows x 6 columns]"
      ]
     },
     "execution_count": 104,
     "metadata": {},
     "output_type": "execute_result"
    }
   ],
   "source": [
    "bq.query(f\"SELECT * FROM `{BQ_PROJECT}.{BQ_DATASET}.{BQ_TABLE}`\").to_dataframe()"
   ]
  },
  {
   "cell_type": "markdown",
   "id": "c53cac0b-438b-48ee-9aae-3077dd594b6b",
   "metadata": {},
   "source": [
    "---\n",
    "## Process Many Documents: Batch\n",
    "\n",
    "Use GCS or BigQuery as the source/destination for batch prediction with Gemini.  [Documentation](https://cloud.google.com/vertex-ai/generative-ai/docs/multimodal/batch-prediction-gemini)"
   ]
  },
  {
   "cell_type": "markdown",
   "id": "3d3db0da-b78e-4c85-a7f3-22bf0f55fba2",
   "metadata": {},
   "source": [
    "### Prepare JSONL For Prompts"
   ]
  },
  {
   "cell_type": "code",
   "execution_count": 132,
   "id": "053bb8fe-b058-4dbb-b028-f133107ec014",
   "metadata": {
    "tags": []
   },
   "outputs": [],
   "source": [
    "batch_prompts = [\n",
    "    dict(\n",
    "        request = dict(\n",
    "            contents = [\n",
    "                dict(\n",
    "                    role = 'user',\n",
    "                    parts = [\n",
    "                        dict(\n",
    "                            fileData = dict(\n",
    "                                mimeType = blob.content_type,\n",
    "                                fileUri = f\"gs://{blob.bucket.name}/{blob.name}\"\n",
    "                            )\n",
    "                        ),\n",
    "                        dict(text = 'Is this an invoice?')\n",
    "                    ]\n",
    "                )\n",
    "            ],\n",
    "            systemInstruction = dict(\n",
    "                role = 'user',\n",
    "                parts = [dict(text = 'Classify documents into categories.')]\n",
    "            ),\n",
    "            generationConfig = dict(\n",
    "                temperature = 0,\n",
    "                response_mime_type = 'text/x.enum',\n",
    "                response_schema = dict(\n",
    "                    type = 'STRING',\n",
    "                    enum = [member.value for member in Invoices]\n",
    "                )\n",
    "            )\n",
    "        )\n",
    "    ) for blob in file_list\n",
    "]"
   ]
  },
  {
   "cell_type": "code",
   "execution_count": 133,
   "id": "5f0ea404-b47d-4090-afba-8f6e316b205d",
   "metadata": {
    "tags": []
   },
   "outputs": [
    {
     "data": {
      "text/plain": [
       "{'request': {'contents': [{'role': 'user',\n",
       "    'parts': [{'fileData': {'mimeType': 'application/pdf',\n",
       "       'fileUri': 'gs://statmike-mlops-349915/applied-genai/concept-doc-automation/documents/invoice_1.pdf'}},\n",
       "     {'text': 'Is this an invoice?'}]}],\n",
       "  'systemInstruction': {'role': 'user',\n",
       "   'parts': [{'text': 'Classify documents into categories.'}]},\n",
       "  'generationConfig': {'temperature': 0,\n",
       "   'response_mime_type': 'text/x.enum',\n",
       "   'response_schema': {'type': 'STRING',\n",
       "    'enum': ['Invoice', 'Not an invoice!']}}}}"
      ]
     },
     "execution_count": 133,
     "metadata": {},
     "output_type": "execute_result"
    }
   ],
   "source": [
    "batch_prompts[0]"
   ]
  },
  {
   "cell_type": "code",
   "execution_count": 134,
   "id": "f3b42100-e342-4cc3-b799-2d81b42f77f4",
   "metadata": {
    "tags": []
   },
   "outputs": [
    {
     "data": {
      "text/plain": [
       "[<Blob: statmike-mlops-349915, applied-genai/concept-doc-automation/batch_processing/batch_input.jsonl, 1740509415876373>,\n",
       " <Blob: statmike-mlops-349915, applied-genai/concept-doc-automation/batch_processing/outputs/prediction-model-2025-02-25T16:36:37.516810Z/incremental_predictions/predictions-chunked-2025-02-25T16:37:29.864878Z.jsonl, 1740501451796827>,\n",
       " <Blob: statmike-mlops-349915, applied-genai/concept-doc-automation/batch_processing/outputs/prediction-model-2025-02-25T16:36:37.516810Z/predictions.jsonl, 1740501572470935>]"
      ]
     },
     "execution_count": 134,
     "metadata": {},
     "output_type": "execute_result"
    }
   ],
   "source": [
    "json_lines = '\\n'.join([json.dumps(prompt) for prompt in batch_prompts])\n",
    "blob = bucket.blob(f'{SERIES}/{EXPERIMENT}/batch_processing/batch_input.jsonl')\n",
    "blob.upload_from_string(json_lines, content_type = 'application/jsonl')\n",
    "list(bucket.list_blobs(prefix = f\"{SERIES}/{EXPERIMENT}/batch_processing\"))"
   ]
  },
  {
   "cell_type": "code",
   "execution_count": 135,
   "id": "07b31151-a821-4acf-92f4-a4f58d8d0065",
   "metadata": {
    "tags": []
   },
   "outputs": [],
   "source": [
    "job = genai_client.batches.create(\n",
    "    model = 'gemini-2.0-flash-001',\n",
    "    src = f'gs://{blob.bucket.name}/{blob.name}',\n",
    "    config = genai.types.CreateBatchJobConfig(dest = f'gs://{bucket.name}/{SERIES}/{EXPERIMENT}/batch_processing/outputs')\n",
    ")"
   ]
  },
  {
   "cell_type": "code",
   "execution_count": 136,
   "id": "ac4f80e4-9e45-42bd-907f-09f9804ca155",
   "metadata": {
    "tags": []
   },
   "outputs": [
    {
     "data": {
      "text/plain": [
       "BatchJob(name='projects/1026793852137/locations/us-central1/batchPredictionJobs/7070963641914228736', display_name='genai_batch_job_20250225185031_b5216', state=<JobState.JOB_STATE_PENDING: 'JOB_STATE_PENDING'>, error=None, create_time=datetime.datetime(2025, 2, 25, 18, 50, 31, 948952, tzinfo=TzInfo(UTC)), start_time=None, end_time=None, update_time=datetime.datetime(2025, 2, 25, 18, 50, 31, 948952, tzinfo=TzInfo(UTC)), model='publishers/google/models/gemini-2.0-flash-001', src=BatchJobSource(format='jsonl', gcs_uri=['gs://statmike-mlops-349915/applied-genai/concept-doc-automation/batch_processing/batch_input.jsonl'], bigquery_uri=None), dest=BatchJobDestination(format='jsonl', gcs_uri='gs://statmike-mlops-349915/applied-genai/concept-doc-automation/batch_processing/outputs', bigquery_uri=None))"
      ]
     },
     "execution_count": 136,
     "metadata": {},
     "output_type": "execute_result"
    }
   ],
   "source": [
    "job"
   ]
  },
  {
   "cell_type": "code",
   "execution_count": 137,
   "id": "e82e3755-d5a4-412e-b64c-7ceb04b043f8",
   "metadata": {
    "tags": []
   },
   "outputs": [
    {
     "data": {
      "text/plain": [
       "<JobState.JOB_STATE_PENDING: 'JOB_STATE_PENDING'>"
      ]
     },
     "execution_count": 137,
     "metadata": {},
     "output_type": "execute_result"
    }
   ],
   "source": [
    "job.state"
   ]
  },
  {
   "cell_type": "code",
   "execution_count": 138,
   "id": "362a2da4-71b1-486d-8e90-6cd8802883cc",
   "metadata": {
    "tags": []
   },
   "outputs": [
    {
     "name": "stdout",
     "output_type": "stream",
     "text": [
      "JobState.JOB_STATE_RUNNING\n",
      "JobState.JOB_STATE_RUNNING\n",
      "JobState.JOB_STATE_RUNNING\n",
      "JobState.JOB_STATE_RUNNING\n",
      "JobState.JOB_STATE_RUNNING\n",
      "JobState.JOB_STATE_RUNNING\n",
      "JobState.JOB_STATE_RUNNING\n",
      "JobState.JOB_STATE_RUNNING\n",
      "JobState.JOB_STATE_RUNNING\n",
      "JobState.JOB_STATE_RUNNING\n",
      "JobState.JOB_STATE_RUNNING\n",
      "JobState.JOB_STATE_RUNNING\n",
      "JobState.JOB_STATE_RUNNING\n",
      "JobState.JOB_STATE_RUNNING\n",
      "JobState.JOB_STATE_RUNNING\n",
      "JobState.JOB_STATE_RUNNING\n",
      "JobState.JOB_STATE_RUNNING\n",
      "JobState.JOB_STATE_RUNNING\n",
      "JobState.JOB_STATE_RUNNING\n",
      "JobState.JOB_STATE_RUNNING\n",
      "JobState.JOB_STATE_RUNNING\n",
      "JobState.JOB_STATE_SUCCEEDED\n"
     ]
    },
    {
     "data": {
      "text/plain": [
       "'JOB_STATE_SUCCEEDED'"
      ]
     },
     "execution_count": 138,
     "metadata": {},
     "output_type": "execute_result"
    }
   ],
   "source": [
    "completed_states = set(\n",
    "    [\n",
    "        'JOB_STATE_SUCCEEDED',\n",
    "        'JOB_STATE_FAILED',\n",
    "        'JOB_STATE_CANCELLED',\n",
    "        'JOB_STATE_PAUSED',\n",
    "    ]\n",
    ")\n",
    "\n",
    "while job.state not in completed_states:\n",
    "    job = genai_client.batches.get(name=job.name)\n",
    "    print(job.state)\n",
    "    time.sleep(30)\n",
    "    \n",
    "job.state.value"
   ]
  },
  {
   "cell_type": "code",
   "execution_count": 141,
   "id": "c684e621-15a9-41f9-878c-a3d909e2a945",
   "metadata": {
    "tags": []
   },
   "outputs": [
    {
     "data": {
      "text/plain": [
       "'gs://statmike-mlops-349915/applied-genai/concept-doc-automation/batch_processing/outputs'"
      ]
     },
     "execution_count": 141,
     "metadata": {},
     "output_type": "execute_result"
    }
   ],
   "source": [
    "job.dest.gcs_uri"
   ]
  },
  {
   "cell_type": "code",
   "execution_count": 145,
   "id": "1ad63a01-86ce-46d2-8594-66cdbdc67918",
   "metadata": {
    "tags": []
   },
   "outputs": [
    {
     "data": {
      "text/plain": [
       "[<Blob: statmike-mlops-349915, applied-genai/concept-doc-automation/batch_processing/outputs/prediction-model-2025-02-25T16:36:37.516810Z/incremental_predictions/predictions-chunked-2025-02-25T16:37:29.864878Z.jsonl, 1740501451796827>,\n",
       " <Blob: statmike-mlops-349915, applied-genai/concept-doc-automation/batch_processing/outputs/prediction-model-2025-02-25T16:36:37.516810Z/predictions.jsonl, 1740501572470935>,\n",
       " <Blob: statmike-mlops-349915, applied-genai/concept-doc-automation/batch_processing/outputs/prediction-model-2025-02-25T18:50:31.925822Z/incremental_predictions/predictions-chunked-2025-02-25T18:51:16.493586Z.jsonl, 1740509478320573>,\n",
       " <Blob: statmike-mlops-349915, applied-genai/concept-doc-automation/batch_processing/outputs/prediction-model-2025-02-25T18:50:31.925822Z/predictions.jsonl, 1740510050932042>]"
      ]
     },
     "execution_count": 145,
     "metadata": {},
     "output_type": "execute_result"
    }
   ],
   "source": [
    "results = list(bucket.list_blobs(prefix = f'{SERIES}/{EXPERIMENT}/batch_processing/outputs'))\n",
    "results"
   ]
  },
  {
   "cell_type": "code",
   "execution_count": 146,
   "id": "a3748e8e-bc38-4b8c-b0db-4ee38e204cd8",
   "metadata": {
    "tags": []
   },
   "outputs": [
    {
     "data": {
      "text/plain": [
       "[<Blob: statmike-mlops-349915, applied-genai/concept-doc-automation/batch_processing/outputs/prediction-model-2025-02-25T16:36:37.516810Z/predictions.jsonl, 1740501572470935>,\n",
       " <Blob: statmike-mlops-349915, applied-genai/concept-doc-automation/batch_processing/outputs/prediction-model-2025-02-25T18:50:31.925822Z/predictions.jsonl, 1740510050932042>]"
      ]
     },
     "execution_count": 146,
     "metadata": {},
     "output_type": "execute_result"
    }
   ],
   "source": [
    "results = [result for result in results if '/predictions.jsonl' in result.name]\n",
    "results"
   ]
  },
  {
   "cell_type": "code",
   "execution_count": 149,
   "id": "0677e7b8-ed69-45eb-aa16-1682d8ef14cb",
   "metadata": {
    "tags": []
   },
   "outputs": [],
   "source": [
    "gcs_results = []\n",
    "for line in results[-1].download_as_string().decode('utf-8').splitlines():\n",
    "    gcs_results.append(json.loads(line))"
   ]
  },
  {
   "cell_type": "code",
   "execution_count": 154,
   "id": "56d3f82d-ef11-4b1f-b93a-7eeca7d51bb7",
   "metadata": {
    "tags": []
   },
   "outputs": [
    {
     "data": {
      "text/plain": [
       "'Invoice'"
      ]
     },
     "execution_count": 154,
     "metadata": {},
     "output_type": "execute_result"
    }
   ],
   "source": [
    "gcs_results[0]['response']['candidates'][0]['content']['parts'][0]['text']"
   ]
  },
  {
   "cell_type": "code",
   "execution_count": 159,
   "id": "283475db-7aeb-4a78-80bd-db0a3ee16ad9",
   "metadata": {
    "tags": []
   },
   "outputs": [
    {
     "data": {
      "text/plain": [
       "'gs://statmike-mlops-349915/applied-genai/concept-doc-automation/documents/invoice_176.pdf'"
      ]
     },
     "execution_count": 159,
     "metadata": {},
     "output_type": "execute_result"
    }
   ],
   "source": [
    "gcs_results[0]['request']['contents'][0]['parts'][0]['fileData']['fileUri']"
   ]
  },
  {
   "cell_type": "code",
   "execution_count": 166,
   "id": "96bf6643-5817-49ea-aec3-ce5d377a095a",
   "metadata": {
    "tags": []
   },
   "outputs": [],
   "source": [
    "responses = [result['response']['candidates'][0]['content']['parts'][0]['text'] for result in gcs_results]"
   ]
  },
  {
   "cell_type": "code",
   "execution_count": 167,
   "id": "343b6435-d1aa-403e-8201-bc0026968bc6",
   "metadata": {
    "tags": []
   },
   "outputs": [
    {
     "data": {
      "text/plain": [
       "Counter({'Invoice': 399, 'Not an invoice!': 1})"
      ]
     },
     "execution_count": 167,
     "metadata": {},
     "output_type": "execute_result"
    }
   ],
   "source": [
    "collections.Counter(responses)"
   ]
  },
  {
   "cell_type": "code",
   "execution_count": 169,
   "id": "4731665d-20a4-43ad-9f65-ee477c7f117f",
   "metadata": {
    "tags": []
   },
   "outputs": [
    {
     "data": {
      "text/plain": [
       "263"
      ]
     },
     "execution_count": 169,
     "metadata": {},
     "output_type": "execute_result"
    }
   ],
   "source": [
    "responses.index('Not an invoice!')"
   ]
  },
  {
   "cell_type": "code",
   "execution_count": 170,
   "id": "8e3b16e4-e7da-427d-9dab-36a5dbf4a5cf",
   "metadata": {
    "tags": []
   },
   "outputs": [
    {
     "data": {
      "text/plain": [
       "'gs://statmike-mlops-349915/applied-genai/concept-doc-automation/documents/invoice_400.pdf'"
      ]
     },
     "execution_count": 170,
     "metadata": {},
     "output_type": "execute_result"
    }
   ],
   "source": [
    "gcs_results[responses.index('Not an invoice!')]['request']['contents'][0]['parts'][0]['fileData']['fileUri']"
   ]
  },
  {
   "cell_type": "code",
   "execution_count": null,
   "id": "5e358027-d8b9-4c18-b01c-2d72e121ecd9",
   "metadata": {},
   "outputs": [],
   "source": []
  }
 ],
 "metadata": {
  "environment": {
   "kernel": "conda-base-py",
   "name": "workbench-notebooks.m125",
   "type": "gcloud",
   "uri": "us-docker.pkg.dev/deeplearning-platform-release/gcr.io/workbench-notebooks:m125"
  },
  "kernelspec": {
   "display_name": "Python 3 (ipykernel) (Local)",
   "language": "python",
   "name": "conda-base-py"
  },
  "language_info": {
   "codemirror_mode": {
    "name": "ipython",
    "version": 3
   },
   "file_extension": ".py",
   "mimetype": "text/x-python",
   "name": "python",
   "nbconvert_exporter": "python",
   "pygments_lexer": "ipython3",
   "version": "3.10.15"
  }
 },
 "nbformat": 4,
 "nbformat_minor": 5
}
