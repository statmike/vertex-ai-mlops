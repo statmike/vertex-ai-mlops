{
 "cells": [
  {
   "cell_type": "markdown",
   "id": "4885cb3b",
   "metadata": {},
   "source": [
    "![tracker](https://us-central1-vertex-ai-mlops-369716.cloudfunctions.net/pixel-tracking?path=statmike%2Fvertex-ai-mlops%2FApplied+GenAI%2FGenerate%2FConcepts&file=Compare+Documents.ipynb)\n",
    "<!--- header table --->\n",
    "<table align=\"left\">\n",
    "  <td style=\"text-align: center\">\n",
    "    <a href=\"https://colab.research.google.com/github/statmike/vertex-ai-mlops/blob/main/Applied%20GenAI/Generate/Concepts/Compare%20Documents.ipynb\">\n",
    "      <img src=\"https://cloud.google.com/ml-engine/images/colab-logo-32px.png\" alt=\"Google Colaboratory logo\">\n",
    "      <br>Run in<br>Colab\n",
    "    </a>\n",
    "  </td>\n",
    "  <td style=\"text-align: center\">\n",
    "    <a href=\"https://console.cloud.google.com/vertex-ai/colab/import/https%3A%2F%2Fraw.githubusercontent.com%2Fstatmike%2Fvertex-ai-mlops%2Fmain%2FApplied%2520GenAI%2FGenerate%2FConcepts%2FCompare%2520Documents.ipynb\">\n",
    "      <img width=\"32px\" src=\"https://lh3.googleusercontent.com/JmcxdQi-qOpctIvWKgPtrzZdJJK-J3sWE1RsfjZNwshCFgE_9fULcNpuXYTilIR2hjwN\" alt=\"Google Cloud Colab Enterprise logo\">\n",
    "      <br>Run in<br>Colab Enterprise\n",
    "    </a>\n",
    "  </td>      \n",
    "  <td style=\"text-align: center\">\n",
    "    <a href=\"https://github.com/statmike/vertex-ai-mlops/blob/main/Applied%20GenAI/Generate/Concepts/Compare%20Documents.ipynb\">\n",
    "      <img src=\"https://cloud.google.com/ml-engine/images/github-logo-32px.png\" alt=\"GitHub logo\">\n",
    "      <br>View on<br>GitHub\n",
    "    </a>\n",
    "  </td>\n",
    "  <td style=\"text-align: center\">\n",
    "    <a href=\"https://console.cloud.google.com/vertex-ai/workbench/deploy-notebook?download_url=https://raw.githubusercontent.com/statmike/vertex-ai-mlops/main/Applied%20GenAI/Generate/Concepts/Compare%20Documents.ipynb\">\n",
    "      <img src=\"https://lh3.googleusercontent.com/UiNooY4LUgW_oTvpsNhPpQzsstV5W8F7rYgxgGBD85cWJoLmrOzhVs_ksK_vgx40SHs7jCqkTkCk=e14-rj-sc0xffffff-h130-w32\" alt=\"Vertex AI logo\">\n",
    "      <br>Open in<br>Vertex AI Workbench\n",
    "    </a>\n",
    "  </td>\n",
    "</table>"
   ]
  },
  {
   "cell_type": "markdown",
   "id": "69c47ce7-a6db-4067-9e41-a0c7a2d91156",
   "metadata": {},
   "source": [
    "# Compare Documents"
   ]
  },
  {
   "cell_type": "markdown",
   "id": "dd05de89-8b11-4c9a-b0a6-745c6d0efd14",
   "metadata": {
    "id": "od_UkDpvRmgD",
    "tags": []
   },
   "source": [
    "---\n",
    "## Colab Setup\n",
    "\n",
    "To run this notebook in Colab run the cells in this section.  Otherwise, skip this section.\n",
    "\n",
    "This cell will authenticate to GCP (follow prompts in the popup)."
   ]
  },
  {
   "cell_type": "code",
   "execution_count": 1,
   "id": "5309bd9e-e8b5-462a-8859-4fb39babb59c",
   "metadata": {
    "executionInfo": {
     "elapsed": 195,
     "status": "ok",
     "timestamp": 1683726184843,
     "user": {
      "displayName": "Mike Henderson",
      "userId": "07691629187611687318"
     },
     "user_tz": 240
    },
    "id": "8UO9FnqyKBlF",
    "tags": []
   },
   "outputs": [],
   "source": [
    "PROJECT_ID = 'statmike-mlops-349915' # replace with project ID"
   ]
  },
  {
   "cell_type": "code",
   "execution_count": 2,
   "id": "9c1fd19d-0153-4cae-8ae0-d798a62db27f",
   "metadata": {
    "colab": {
     "base_uri": "https://localhost:8080/"
    },
    "executionInfo": {
     "elapsed": 68869,
     "status": "ok",
     "timestamp": 1683726253709,
     "user": {
      "displayName": "Mike Henderson",
      "userId": "07691629187611687318"
     },
     "user_tz": 240
    },
    "id": "N98-KK7LRkjm",
    "outputId": "09ec5008-0def-4e1a-c349-c598ee752f78",
    "tags": []
   },
   "outputs": [
    {
     "name": "stdout",
     "output_type": "stream",
     "text": [
      "Not a Colab Environment\n"
     ]
    }
   ],
   "source": [
    "try:\n",
    "    from google.colab import auth\n",
    "    auth.authenticate_user()\n",
    "    !gcloud config set project {PROJECT_ID}\n",
    "    print('Colab authorized to GCP')\n",
    "except Exception:\n",
    "    print('Not a Colab Environment')\n",
    "    pass"
   ]
  },
  {
   "cell_type": "markdown",
   "id": "6c57dfdb-9384-4bf8-8343-ba7af3b475c9",
   "metadata": {},
   "source": [
    "---\n",
    "## Installs\n",
    "\n",
    "The list `packages` contains tuples of package import names and install names.  If the import name is not found then the install name is used to install quitely for the current user."
   ]
  },
  {
   "cell_type": "code",
   "execution_count": 15,
   "id": "767f456e-3471-4a08-a675-ca7309802d0b",
   "metadata": {
    "tags": []
   },
   "outputs": [],
   "source": [
    "# tuples of (import name, install name, min_version)\n",
    "packages = [\n",
    "    ('google.genai', 'google-genai'),\n",
    "    ('pydantic', 'pydantic'),\n",
    "    ('fitz', 'pymupdf'),\n",
    "]\n",
    "\n",
    "import importlib\n",
    "install = False\n",
    "for package in packages:\n",
    "    if not importlib.util.find_spec(package[0]):\n",
    "        print(f'installing package {package[1]}')\n",
    "        install = True\n",
    "        !pip install {package[1]} -U -q --user\n",
    "    elif len(package) == 3:\n",
    "        if importlib.metadata.version(package[0]) < package[2]:\n",
    "            print(f'updating package {package[1]}')\n",
    "            install = True\n",
    "            !pip install {package[1]} -U -q --user"
   ]
  },
  {
   "cell_type": "markdown",
   "id": "86352318-1cc0-49d6-a1cd-04a136fa5048",
   "metadata": {},
   "source": [
    "### API Enablement"
   ]
  },
  {
   "cell_type": "code",
   "execution_count": 4,
   "id": "e6a97a70-b32e-41ef-9574-288ce671dbe0",
   "metadata": {
    "tags": []
   },
   "outputs": [],
   "source": [
    "!gcloud services enable aiplatform.googleapis.com"
   ]
  },
  {
   "cell_type": "markdown",
   "id": "b1f3dbf2-dba8-47db-ba3a-02309c3a455b",
   "metadata": {},
   "source": [
    "### Restart Kernel (If Installs Occured)\n",
    "\n",
    "After a kernel restart the code submission can start with the next cell after this one."
   ]
  },
  {
   "cell_type": "code",
   "execution_count": 5,
   "id": "9a5c905f-e5c9-4a5c-8319-e9c2532dfa56",
   "metadata": {
    "tags": []
   },
   "outputs": [],
   "source": [
    "if install:\n",
    "    import IPython\n",
    "    app = IPython.Application.instance()\n",
    "    app.kernel.do_shutdown(True)\n",
    "    IPython.display.display(IPython.display.Markdown(\"\"\"<div class=\\\"alert alert-block alert-warning\\\">\n",
    "        <b>⚠️ The kernel is going to restart. Please wait until it is finished before continuing to the next step. The previous cells do not need to be run again⚠️</b>\n",
    "        </div>\"\"\"))"
   ]
  },
  {
   "cell_type": "markdown",
   "id": "6903abb0-299f-44f9-88e3-323a2f5d245f",
   "metadata": {},
   "source": [
    "---\n",
    "## Setup"
   ]
  },
  {
   "cell_type": "markdown",
   "id": "f624b66a-02c5-45ad-93dc-fd5a3da7cf7f",
   "metadata": {},
   "source": [
    "inputs:"
   ]
  },
  {
   "cell_type": "code",
   "execution_count": 6,
   "id": "22483bbf-8800-4a19-8c46-7932947f4fc4",
   "metadata": {
    "tags": []
   },
   "outputs": [
    {
     "data": {
      "text/plain": [
       "'statmike-mlops-349915'"
      ]
     },
     "execution_count": 6,
     "metadata": {},
     "output_type": "execute_result"
    }
   ],
   "source": [
    "project = !gcloud config get-value project\n",
    "PROJECT_ID = project[0]\n",
    "PROJECT_ID"
   ]
  },
  {
   "cell_type": "code",
   "execution_count": 7,
   "id": "e3cb1698-4a27-468d-ae0c-7b17cca219fa",
   "metadata": {
    "tags": []
   },
   "outputs": [],
   "source": [
    "REGION = 'us-central1'\n",
    "SERIES = 'applied-genai'\n",
    "EXPERIMENT = 'concept-doc-compare'"
   ]
  },
  {
   "cell_type": "markdown",
   "id": "316cb68b-a06f-48bb-bcd0-8df74cbed4ca",
   "metadata": {},
   "source": [
    "packages:"
   ]
  },
  {
   "cell_type": "code",
   "execution_count": 26,
   "id": "0abb59f8-f306-4471-ae89-cee8c9b014c8",
   "metadata": {
    "tags": []
   },
   "outputs": [],
   "source": [
    "# standard packages\n",
    "import os, shutil, enum, json, base64, typing, io\n",
    "\n",
    "import IPython\n",
    "import pydantic\n",
    "import fitz\n",
    "\n",
    "# google gen ai sdk\n",
    "from google import genai"
   ]
  },
  {
   "cell_type": "code",
   "execution_count": 9,
   "id": "045e6a19-ce3c-477d-a6b5-2e5beac6f12c",
   "metadata": {
    "tags": []
   },
   "outputs": [
    {
     "data": {
      "text/plain": [
       "'1.2.0'"
      ]
     },
     "execution_count": 9,
     "metadata": {},
     "output_type": "execute_result"
    }
   ],
   "source": [
    "genai.__version__"
   ]
  },
  {
   "cell_type": "markdown",
   "id": "6123a422-fe5e-4645-962c-e942df4aaf7d",
   "metadata": {},
   "source": [
    "clients:"
   ]
  },
  {
   "cell_type": "code",
   "execution_count": 10,
   "id": "89fd5e6d-e72f-4ff8-9c0d-084d0a80f8fb",
   "metadata": {
    "tags": []
   },
   "outputs": [],
   "source": [
    "genai_client = genai.Client(vertexai = True, project = PROJECT_ID, location = REGION)"
   ]
  },
  {
   "cell_type": "markdown",
   "id": "ed9a29d4-5dd9-433e-bf16-cc5a9bfeefb1",
   "metadata": {},
   "source": [
    "---\n",
    "## Multimodal Inputs\n",
    "\n",
    "Prompts can extend beyond text to include audio, video, images, and documents as context.  This means you can [design multimodal prompts](https://cloud.google.com/vertex-ai/generative-ai/docs/multimodal/design-multimodal-prompts) that include combinations of these file types as grounding for Gemini."
   ]
  },
  {
   "cell_type": "markdown",
   "id": "ed994156-a87d-4802-8b55-40cdb43fdbe6",
   "metadata": {},
   "source": [
    "### Get The Documents\n",
    "\n",
    "A set of example file inputs for multimodal prompts were created in this companion workflow: [Create Files For Multimodal Prompt Examples](../Generate/Create%20Files%20For%20Multimodal%20Prompt%20Examples.ipynb) and the outputs are already included in the repository.\n",
    "\n",
    "If you are working from a clone of this notebooks [repository](https://github.com/statmike/vertex-ai-mlops) then the documents are already present. The following cell checks for the documents folder and if it is missing gets it (`git clone`):"
   ]
  },
  {
   "cell_type": "code",
   "execution_count": 11,
   "id": "83d68a45-8d7d-4a78-8295-ba737ea1c0cf",
   "metadata": {
    "tags": []
   },
   "outputs": [],
   "source": [
    "local_dir = '../files/multimodal-inputs'"
   ]
  },
  {
   "cell_type": "code",
   "execution_count": 12,
   "id": "ad365299-786d-43d3-9abc-50be1fcafbcd",
   "metadata": {
    "tags": []
   },
   "outputs": [
    {
     "name": "stdout",
     "output_type": "stream",
     "text": [
      "Documents Found in folder `../files/multimodal-inputs`\n"
     ]
    }
   ],
   "source": [
    "if not os.path.exists(local_dir):\n",
    "    print('Retrieving documents...')\n",
    "    parent_dir = os.path.dirname(local_dir)\n",
    "    temp_dir = os.path.join(parent_dir, 'temp')\n",
    "    if not os.path.exists(temp_dir):\n",
    "        os.makedirs(temp_dir)\n",
    "    !git clone https://www.github.com/statmike/vertex-ai-mlops {temp_dir}/vertex-ai-mlops\n",
    "    shutil.copytree(f'{temp_dir}/vertex-ai-mlops/Applied GenAI/Generate/files/multimodal-inputs', local_dir)\n",
    "    shutil.rmtree(temp_dir)\n",
    "    print(f'Documents are now in folder `{local_dir}`')\n",
    "else:\n",
    "    print(f'Documents Found in folder `{local_dir}`')             "
   ]
  },
  {
   "cell_type": "markdown",
   "id": "7dc17b5c-d77a-4529-80bf-65b27624b5c4",
   "metadata": {},
   "source": [
    "---\n",
    "### **Prompt With Documents**\n",
    "\n",
    "[Document Understanding](https://cloud.google.com/vertex-ai/generative-ai/docs/multimodal/document-understanding)"
   ]
  },
  {
   "cell_type": "markdown",
   "id": "9ec824f3-56a3-4e3c-a7da-35ffe250cb17",
   "metadata": {},
   "source": [
    "#### Review The Documents"
   ]
  },
  {
   "cell_type": "code",
   "execution_count": 13,
   "id": "473e1eeb-c37d-42a2-9e9a-cc1f14f8613a",
   "metadata": {
    "tags": []
   },
   "outputs": [
    {
     "data": {
      "text/html": [
       "\n",
       "        <iframe\n",
       "            width=\"800\"\n",
       "            height=\"800\"\n",
       "            src=\"../files/multimodal-inputs/invoices.pdf\"\n",
       "            frameborder=\"0\"\n",
       "            allowfullscreen\n",
       "            \n",
       "        ></iframe>\n",
       "        "
      ],
      "text/plain": [
       "<IPython.lib.display.IFrame at 0x7f3317bdb820>"
      ]
     },
     "execution_count": 13,
     "metadata": {},
     "output_type": "execute_result"
    }
   ],
   "source": [
    "IPython.display.IFrame(f\"{local_dir}/invoices.pdf\", width=800, height= 800)"
   ]
  },
  {
   "cell_type": "markdown",
   "id": "d286e608-593b-47f2-aee9-487f38bcbe5f",
   "metadata": {},
   "source": [
    "#### Read The Document Data"
   ]
  },
  {
   "cell_type": "code",
   "execution_count": 14,
   "id": "05b8fe7e-204d-4fa3-850c-5cbb91b9b99c",
   "metadata": {
    "tags": []
   },
   "outputs": [],
   "source": [
    "with open(f\"{local_dir}/invoices.pdf\", 'rb') as f:\n",
    "    document_read = f.read()"
   ]
  },
  {
   "cell_type": "markdown",
   "id": "f980e96f-fee7-410d-aacc-40978c0db8c7",
   "metadata": {},
   "source": [
    "#### Use PyMuPDF (fitz) To Extract Pages"
   ]
  },
  {
   "cell_type": "code",
   "execution_count": 17,
   "id": "ab234062-12a2-4968-8da8-c7def99fd2b3",
   "metadata": {
    "tags": []
   },
   "outputs": [],
   "source": [
    "document = fitz.open('pdf', document_read)"
   ]
  },
  {
   "cell_type": "code",
   "execution_count": 22,
   "id": "e93b63f8-628a-4638-92f8-5cfa998230aa",
   "metadata": {
    "tags": []
   },
   "outputs": [
    {
     "data": {
      "text/plain": [
       "422"
      ]
     },
     "execution_count": 22,
     "metadata": {},
     "output_type": "execute_result"
    }
   ],
   "source": [
    "document.page_count"
   ]
  },
  {
   "cell_type": "code",
   "execution_count": 23,
   "id": "613d053a-b358-47b4-a74d-6ba6f501e68e",
   "metadata": {
    "tags": []
   },
   "outputs": [],
   "source": [
    "page_1 = fitz.open()\n",
    "page_1.insert_pdf(document, from_page = 0, to_page = 0)"
   ]
  },
  {
   "cell_type": "code",
   "execution_count": 24,
   "id": "7f472b3b-9d42-474f-8e0b-337f009b575e",
   "metadata": {
    "tags": []
   },
   "outputs": [],
   "source": [
    "page_2 = fitz.open()\n",
    "page_2.insert_pdf(document, from_page = 1, to_page = 1)"
   ]
  },
  {
   "cell_type": "markdown",
   "id": "e4bd8766-a068-49ba-bbc4-1b189c96ee5d",
   "metadata": {},
   "source": [
    "#### Pages As Byte Strings"
   ]
  },
  {
   "cell_type": "code",
   "execution_count": 27,
   "id": "f47afa9e-4fbb-43b8-a457-78f60852e382",
   "metadata": {
    "tags": []
   },
   "outputs": [],
   "source": [
    "buffer = io.BytesIO()\n",
    "page_1.save(buffer)\n",
    "page_1_bytes = base64.b64encode(buffer.getvalue()).decode('utf-8')"
   ]
  },
  {
   "cell_type": "code",
   "execution_count": 28,
   "id": "e2a5b17e-8345-4312-9e89-cb9a5afadc55",
   "metadata": {
    "tags": []
   },
   "outputs": [],
   "source": [
    "buffer = io.BytesIO()\n",
    "page_2.save(buffer)\n",
    "page_2_bytes = base64.b64encode(buffer.getvalue()).decode('utf-8')"
   ]
  },
  {
   "cell_type": "markdown",
   "id": "9a972163-a804-4ab1-889c-d2f0131d0669",
   "metadata": {},
   "source": [
    "#### Inline Loading"
   ]
  },
  {
   "cell_type": "code",
   "execution_count": 29,
   "id": "3e3e5057-2fab-4063-9ec8-560daf21daf2",
   "metadata": {
    "tags": []
   },
   "outputs": [],
   "source": [
    "page_1_inline = genai.types.Part.from_bytes(\n",
    "    data = page_1_bytes,\n",
    "    mime_type = 'application/pdf'\n",
    ")"
   ]
  },
  {
   "cell_type": "code",
   "execution_count": 30,
   "id": "01719965-0391-4ab4-b681-f132f158a71d",
   "metadata": {
    "tags": []
   },
   "outputs": [],
   "source": [
    "page_2_inline = genai.types.Part.from_bytes(\n",
    "    data = page_2_bytes,\n",
    "    mime_type = 'application/pdf'\n",
    ")"
   ]
  },
  {
   "cell_type": "markdown",
   "id": "8a0f2436-cc40-418e-aead-62ec780519f0",
   "metadata": {},
   "source": [
    "#### Generation Example"
   ]
  },
  {
   "cell_type": "code",
   "execution_count": 31,
   "id": "66de6e24-f15c-4904-a8f1-0aac4ae95aa6",
   "metadata": {},
   "outputs": [
    {
     "data": {
      "text/markdown": [
       "Here's a description of the invoice content:\n",
       "\n",
       "**General Information:**\n",
       "\n",
       "*   **Invoice Number:** 20231115-001\n",
       "*   **Vendor:** Mike Demos\n",
       "*   **Vendor Address:** 123 Tech Street, Silicon Valley, CA 94305\n",
       "*   **Vendor Contact:** Phone: (555) 555-DEMO, Email: info@mikedemos.com\n",
       "*   **Invoice Date:** November 15, 2023\n",
       "*   **Due Date:** December 15, 2023\n",
       "\n",
       "**Items/Services:**\n",
       "\n",
       "The invoice lists the following items/services:\n",
       "\n",
       "1.  **Plot Visualization (.png, .jpeg, .webp):** Quantity 2, Rate $160.00, Amount $320.00\n",
       "2.  **Animated Plot Visualization (.mp4):** Quantity 1, Rate $220.00, Amount $220.00\n",
       "3.  **Process Script & Audio (.mp3):** Quantity 3, Rate $110.00, Amount $330.00\n",
       "\n",
       "**Financial Summary:**\n",
       "\n",
       "*   **Subtotal:** $870.00\n",
       "*   **Sales Tax (6%):** $52.20\n",
       "*   **Total:** $922.20\n",
       "\n",
       "**Payment Instructions:**\n",
       "\n",
       "The invoice includes a note to remit payment to the address provided above. It also expresses gratitude for the business."
      ],
      "text/plain": [
       "<IPython.core.display.Markdown object>"
      ]
     },
     "execution_count": 31,
     "metadata": {},
     "output_type": "execute_result"
    }
   ],
   "source": [
    "response = genai_client.models.generate_content(\n",
    "    model = 'gemini-2.0-flash-001',\n",
    "    contents = [page_1_inline, 'Describe the content of this invoice.'],\n",
    "    config = genai.types.GenerateContentConfig(\n",
    "        temperature = 0.3\n",
    "    )\n",
    ")\n",
    "\n",
    "IPython.display.Markdown(response.text)"
   ]
  },
  {
   "cell_type": "markdown",
   "id": "725a4a22-6913-4323-a788-8d650278590e",
   "metadata": {},
   "source": [
    "---\n",
    "## Direct Compare (General)"
   ]
  },
  {
   "cell_type": "code",
   "execution_count": 32,
   "id": "81862169-d054-4a21-9759-13e18676807d",
   "metadata": {
    "tags": []
   },
   "outputs": [
    {
     "data": {
      "text/markdown": [
       "Okay, let's compare the two invoices you provided and highlight the differences:\n",
       "\n",
       "**Invoice #20231115-001 vs. Invoice #20240115-001**\n",
       "\n",
       "**1. Invoice Number:**\n",
       "\n",
       "*   Invoice #20231115-001\n",
       "*   Invoice #20240115-001\n",
       "\n",
       "**2. Address:**\n",
       "\n",
       "*   Invoice #20231115-001: 123 Tech Street, Silicon Valley, CA 94305\n",
       "*   Invoice #20240115-001: 123 Demo Street, Exampleville, CA 54321\n",
       "\n",
       "**3. Phone Number:**\n",
       "\n",
       "*   Invoice #20231115-001: (555) 555-DEMO\n",
       "*   Invoice #20240115-001: (555) 555-1212\n",
       "\n",
       "**4. Dates:**\n",
       "\n",
       "*   Invoice #20231115-001:\n",
       "    *   Invoice Date: November 15, 2023\n",
       "    *   Due Date: December 15, 2023\n",
       "*   Invoice #20240115-001:\n",
       "    *   Invoice Date: January 15, 2024\n",
       "    *   Due Date: February 14, 2024\n",
       "\n",
       "**5. Line Items (Description, Quantity, Rate, Amount):**\n",
       "\n",
       "*   Invoice #20231115-001:\n",
       "    *   Plot Visualization (.png, .jpeg, .webp): Quantity 2, Rate $160.00, Amount $320.00\n",
       "    *   Animated Plot Visualization (.mp4): Quantity 1, Rate $220.00, Amount $220.00\n",
       "    *   Process Script & Audio (.mp3): Quantity 3, Rate $110.00, Amount $330.00\n",
       "*   Invoice #20240115-001:\n",
       "    *   Plot Visualization (.png, .jpeg, .webp): Quantity 2, Rate $160.00, Amount $320.00\n",
       "    *   Animated Plot Visualization (.mp4): Quantity 1, Rate $220.00, Amount $220.00\n",
       "    *   Interactive Data Dashboard: Quantity 1, Rate $400.00, Amount $400.00\n",
       "\n",
       "**6. Subtotal:**\n",
       "\n",
       "*   Invoice #20231115-001: $870.00\n",
       "*   Invoice #20240115-001: $940.00\n",
       "\n",
       "**7. Sales Tax:**\n",
       "\n",
       "*   Invoice #20231115-001: 6%, $52.20\n",
       "*   Invoice #20240115-001: 7%, $65.80\n",
       "\n",
       "**8. Total:**\n",
       "\n",
       "*   Invoice #20231115-001: $922.20\n",
       "*   Invoice #20240115-001: $1005.80\n",
       "\n",
       "**Summary of Key Differences:**\n",
       "\n",
       "*   **Invoice Number:** Different, as expected.\n",
       "*   **Address & Contact Info:** Different addresses and phone numbers.\n",
       "*   **Dates:** Different invoice and due dates.\n",
       "*   **Line Items:** Different third line item (Process Script & Audio vs. Interactive Data Dashboard), affecting the subtotal.\n",
       "*   **Sales Tax:** Different tax rate (6% vs. 7%) and amount.\n",
       "*   **Total Amount:** Different total due.\n",
       "\n",
       "In essence, these are two distinct invoices for different services, dates, and locations, even though they share the same name.\n"
      ],
      "text/plain": [
       "<IPython.core.display.Markdown object>"
      ]
     },
     "execution_count": 32,
     "metadata": {},
     "output_type": "execute_result"
    }
   ],
   "source": [
    "response = genai_client.models.generate_content(\n",
    "    model = 'gemini-2.0-flash-001',\n",
    "    contents = [page_1_inline, page_2_inline, 'Compare these two invoices highlighting any differences'],\n",
    "    config = genai.types.GenerateContentConfig(\n",
    "        temperature = 0.3\n",
    "    )\n",
    ")\n",
    "\n",
    "IPython.display.Markdown(response.text)"
   ]
  },
  {
   "cell_type": "markdown",
   "id": "eb81893a-c645-4211-a733-d9119168c84f",
   "metadata": {},
   "source": [
    "---\n",
    "## Controlled Responses With `response_schema`"
   ]
  },
  {
   "cell_type": "markdown",
   "id": "c00c13db-aba1-4fd9-8b0a-0c01964047a8",
   "metadata": {},
   "source": [
    "### Targeted Extraction With Schema"
   ]
  },
  {
   "cell_type": "code",
   "execution_count": 33,
   "id": "59e9b0f6-ddfd-454e-ae02-b9f15a89ba27",
   "metadata": {
    "tags": []
   },
   "outputs": [],
   "source": [
    "class InvoiceData(pydantic.BaseModel):\n",
    "    id: str = pydantic.Field(description = 'The unique invoice number or identifier.')\n",
    "    company_name: typing.Optional[str] = pydantic.Field(description = 'The name of the company issuing the invoice.')\n",
    "    line_item_total: typing.List[float] = pydantic.Field(description = 'A list of the total amount for each line item on the invoice.')\n",
    "    total_amount: float = pydantic.Field(description = 'The overall total amount due on the invoice.')"
   ]
  },
  {
   "cell_type": "code",
   "execution_count": 34,
   "id": "b70341c1-3921-4784-a8f4-7294637acec2",
   "metadata": {
    "tags": []
   },
   "outputs": [
    {
     "data": {
      "text/plain": [
       "{'id': '20231115-001',\n",
       " 'company_name': 'Mike Demos',\n",
       " 'line_item_total': [320.0, 220.0, 330.0],\n",
       " 'total_amount': 922.2}"
      ]
     },
     "execution_count": 34,
     "metadata": {},
     "output_type": "execute_result"
    }
   ],
   "source": [
    "response_page_1 = genai_client.models.generate_content(\n",
    "    model = 'gemini-2.0-flash-001',\n",
    "    contents = [page_1_inline, 'Extract the requested information from this invoice.'],\n",
    "    config = genai.types.GenerateContentConfig(\n",
    "        temperature = 0,\n",
    "        system_instruction = 'Extract targeted information from invoices with high accuracy.',\n",
    "        response_mime_type = 'application/json',\n",
    "        response_schema = InvoiceData\n",
    "    )\n",
    ")\n",
    "\n",
    "json.loads(response_page_1.text)"
   ]
  },
  {
   "cell_type": "code",
   "execution_count": 35,
   "id": "609c2650-d77e-43ab-9ec2-4c658f26a42f",
   "metadata": {
    "tags": []
   },
   "outputs": [
    {
     "data": {
      "text/plain": [
       "{'id': '20240115-001',\n",
       " 'company_name': 'Mike Demos',\n",
       " 'line_item_total': [320.0, 220.0, 400.0],\n",
       " 'total_amount': 1005.8}"
      ]
     },
     "execution_count": 35,
     "metadata": {},
     "output_type": "execute_result"
    }
   ],
   "source": [
    "response_page_2 = genai_client.models.generate_content(\n",
    "    model = 'gemini-2.0-flash-001',\n",
    "    contents = [page_2_inline, 'Extract the requested information from this invoice.'],\n",
    "    config = genai.types.GenerateContentConfig(\n",
    "        temperature = 0,\n",
    "        system_instruction = 'Extract targeted information from invoices with high accuracy.',\n",
    "        response_mime_type = 'application/json',\n",
    "        response_schema = InvoiceData\n",
    "    )\n",
    ")\n",
    "\n",
    "json.loads(response_page_2.text)"
   ]
  },
  {
   "cell_type": "markdown",
   "id": "db1210cf-30f6-4e0e-8207-f8573e9959df",
   "metadata": {},
   "source": [
    "### Targeted Comparison With Schema"
   ]
  },
  {
   "cell_type": "code",
   "execution_count": 37,
   "id": "0d026d3c-4da9-4cea-a087-84ce89fbf4e3",
   "metadata": {
    "tags": []
   },
   "outputs": [],
   "source": [
    "class ChangeSummary(pydantic.BaseModel):\n",
    "    change: bool = pydantic.Field(description = 'Indicates whether a change occured between two documents.')\n",
    "    summary: str = pydantic.Field(description = 'A text summary of changes, if any.')\n",
    "    \n",
    "class InvoiceChanges(pydantic.BaseModel):\n",
    "    id: ChangeSummary = pydantic.Field(description = 'Change sumamry for the invoice ID.')\n",
    "    company_name: ChangeSummary = pydantic.Field(description = 'Change sumamry for the company name.')\n",
    "    line_item_total: ChangeSummary = pydantic.Field(description = 'Change sumamry for the list of line item totals.')\n",
    "    total_amount: ChangeSummary = pydantic.Field(description = 'Change sumamry for the total amount.')"
   ]
  },
  {
   "cell_type": "code",
   "execution_count": 38,
   "id": "60ba68a5-fd6d-4333-a43a-0dbed153b4ec",
   "metadata": {
    "tags": []
   },
   "outputs": [
    {
     "data": {
      "text/plain": [
       "{'id': {'change': True,\n",
       "  'summary': 'The invoice ID changed from 20231115-001 to 20240115-001.'},\n",
       " 'company_name': {'change': False,\n",
       "  'summary': 'The company name remained the same: Mike Demos.'},\n",
       " 'line_item_total': {'change': True,\n",
       "  'summary': 'The line item totals changed. The third entry changed from 330.00 to 400.00.'},\n",
       " 'total_amount': {'change': True,\n",
       "  'summary': 'The total amount changed from 922.20 to 1005.80.'}}"
      ]
     },
     "execution_count": 38,
     "metadata": {},
     "output_type": "execute_result"
    }
   ],
   "source": [
    "response_compare = genai_client.models.generate_content(\n",
    "    model = 'gemini-2.0-flash-001',\n",
    "    contents = [response_page_1.text, response_page_2.text, 'Compare these invoices.'],\n",
    "    config = genai.types.GenerateContentConfig(\n",
    "        temperature = 0,\n",
    "        system_instruction = 'Extract targeted information from invoices with high accuracy and make comparisons to detect changes.',\n",
    "        response_mime_type = 'application/json',\n",
    "        response_schema = InvoiceChanges\n",
    "    )\n",
    ")\n",
    "\n",
    "json.loads(response_compare.text)"
   ]
  },
  {
   "cell_type": "code",
   "execution_count": null,
   "id": "d60e1f6c-271b-4e94-83a0-cb80fabf0044",
   "metadata": {},
   "outputs": [],
   "source": []
  }
 ],
 "metadata": {
  "environment": {
   "kernel": "conda-base-py",
   "name": "workbench-notebooks.m125",
   "type": "gcloud",
   "uri": "us-docker.pkg.dev/deeplearning-platform-release/gcr.io/workbench-notebooks:m125"
  },
  "kernelspec": {
   "display_name": "Python 3 (ipykernel) (Local)",
   "language": "python",
   "name": "conda-base-py"
  },
  "language_info": {
   "codemirror_mode": {
    "name": "ipython",
    "version": 3
   },
   "file_extension": ".py",
   "mimetype": "text/x-python",
   "name": "python",
   "nbconvert_exporter": "python",
   "pygments_lexer": "ipython3",
   "version": "3.10.15"
  }
 },
 "nbformat": 4,
 "nbformat_minor": 5
}
