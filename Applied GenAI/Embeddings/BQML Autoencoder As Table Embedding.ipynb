{
 "cells": [
  {
   "cell_type": "markdown",
   "id": "4f412b7f",
   "metadata": {},
   "source": [
    "![tracker](https://us-central1-vertex-ai-mlops-369716.cloudfunctions.net/pixel-tracking?path=statmike%2Fvertex-ai-mlops%2FApplied+GenAI%2FEmbeddings&file=BQML+Autoencoder+As+Table+Embedding.ipynb)\n",
    "<!--- header table --->\n",
    "<table align=\"left\">\n",
    "  <td style=\"text-align: center\">\n",
    "    <a href=\"https://colab.research.google.com/github/statmike/vertex-ai-mlops/blob/main/Applied%20GenAI/Embeddings/BQML%20Autoencoder%20As%20Table%20Embedding.ipynb\">\n",
    "      <img src=\"https://cloud.google.com/ml-engine/images/colab-logo-32px.png\" alt=\"Google Colaboratory logo\">\n",
    "      <br>Run in<br>Colab\n",
    "    </a>\n",
    "  </td>\n",
    "  <td style=\"text-align: center\">\n",
    "    <a href=\"https://console.cloud.google.com/vertex-ai/colab/import/https%3A%2F%2Fraw.githubusercontent.com%2Fstatmike%2Fvertex-ai-mlops%2Fmain%2FApplied%2520GenAI%2FEmbeddings%2FBQML%2520Autoencoder%2520As%2520Table%2520Embedding.ipynb\">\n",
    "      <img width=\"32px\" src=\"https://lh3.googleusercontent.com/JmcxdQi-qOpctIvWKgPtrzZdJJK-J3sWE1RsfjZNwshCFgE_9fULcNpuXYTilIR2hjwN\" alt=\"Google Cloud Colab Enterprise logo\">\n",
    "      <br>Run in<br>Colab Enterprise\n",
    "    </a>\n",
    "  </td>      \n",
    "  <td style=\"text-align: center\">\n",
    "    <a href=\"https://github.com/statmike/vertex-ai-mlops/blob/main/Applied%20GenAI/Embeddings/BQML%20Autoencoder%20As%20Table%20Embedding.ipynb\">\n",
    "      <img src=\"https://cloud.google.com/ml-engine/images/github-logo-32px.png\" alt=\"GitHub logo\">\n",
    "      <br>View on<br>GitHub\n",
    "    </a>\n",
    "  </td>\n",
    "  <td style=\"text-align: center\">\n",
    "    <a href=\"https://console.cloud.google.com/vertex-ai/workbench/deploy-notebook?download_url=https://raw.githubusercontent.com/statmike/vertex-ai-mlops/main/Applied%20GenAI/Embeddings/BQML%20Autoencoder%20As%20Table%20Embedding.ipynb\">\n",
    "      <img src=\"https://lh3.googleusercontent.com/UiNooY4LUgW_oTvpsNhPpQzsstV5W8F7rYgxgGBD85cWJoLmrOzhVs_ksK_vgx40SHs7jCqkTkCk=e14-rj-sc0xffffff-h130-w32\" alt=\"Vertex AI logo\">\n",
    "      <br>Open in<br>Vertex AI Workbench\n",
    "    </a>\n",
    "  </td>\n",
    "</table>"
   ]
  },
  {
   "cell_type": "markdown",
   "id": "895e8e82-c091-460a-8158-abf47ce25f0a",
   "metadata": {},
   "source": [
    "---\n",
    "\n",
    "**File Move Notices**\n",
    "\n",
    "This file moved locations:\n",
    "- On 09/13/2024 (mm/dd/yyyy)\n",
    "\t- From: `Working With/Embeddings/BQML Autoencoder As Table Embedding.ipynb`\n",
    "\t- To: `Applied GenAI/Embeddings/BQML Autoencoder As Table Embedding.ipynb`\n",
    "---\n",
    "<!---end of move notices--->\n",
    "\n",
    "# BigQuery ML Autoencoder As Table Embedding\n",
    "\n",
    "Autoencoders are a type of neural network designed for unsupervised learning. They learn efficient representations (encodings) of input data by compressing it into a smaller representation called the \"latent space.\" This latent space captures the most essential features of the input.\n",
    "\n",
    "> The autoencoder also learns to reconstruct the original input data from this compressed representation using a decoder. The training process involves minimizing the difference (loss) between the original input and the reconstructed output. This comparison between input and reconstructed output serves as a form of supervision, even though the task itself is considered unsupervised.\n",
    "\n",
    "With [BigQuery ML](https://cloud.google.com/bigquery/docs/bqml-introduction) you can train an [autoencoder](https://cloud.google.com/bigquery/docs/reference/standard-sql/bigqueryml-syntax-create-autoencoder) on tabular data.  Prediction with the [`ML.PREDICT`](https://cloud.google.com/bigquery/docs/reference/standard-sql/bigqueryml-syntax-predict#autoencoder_models) function will return the latent space, encoder results, from the trained model.  These representations can be used as embeddings to do tasks like matching similar rows to a query row.\n",
    "\n",
    "For a detailed review of BigQuery ML Autoencoders, check out the end-to-end workflow in this repository: [BQML Autoencoder with Anomaly Detection](../../03%20-%20BigQuery%20ML%20%28BQML%29/03i%20-%20BQML%20Autoencoder%20with%20Anomaly%20Detection.ipynb)"
   ]
  },
  {
   "cell_type": "markdown",
   "id": "e2ed4c4d-f2b6-44d3-af59-b41a17bff62b",
   "metadata": {
    "id": "od_UkDpvRmgD",
    "tags": []
   },
   "source": [
    "---\n",
    "## Colab Setup\n",
    "\n",
    "When running this notebook in [Colab](https://colab.google/) or [Colab Enterprise](https://cloud.google.com/colab/docs/introduction), this section will authenticate to GCP (follow prompts in the popup) and set the current project for the session."
   ]
  },
  {
   "cell_type": "code",
   "execution_count": 1,
   "id": "f92baaef-f972-41e6-8757-d3d3f7e00db6",
   "metadata": {
    "executionInfo": {
     "elapsed": 195,
     "status": "ok",
     "timestamp": 1683726184843,
     "user": {
      "displayName": "Mike Henderson",
      "userId": "07691629187611687318"
     },
     "user_tz": 240
    },
    "id": "8UO9FnqyKBlF",
    "tags": []
   },
   "outputs": [],
   "source": [
    "PROJECT_ID = 'statmike-mlops-349915' # replace with project ID"
   ]
  },
  {
   "cell_type": "code",
   "execution_count": 2,
   "id": "23203dc4-5e0f-45dc-bd7c-5e96d40b3269",
   "metadata": {
    "colab": {
     "base_uri": "https://localhost:8080/"
    },
    "executionInfo": {
     "elapsed": 68869,
     "status": "ok",
     "timestamp": 1683726253709,
     "user": {
      "displayName": "Mike Henderson",
      "userId": "07691629187611687318"
     },
     "user_tz": 240
    },
    "id": "N98-KK7LRkjm",
    "outputId": "09ec5008-0def-4e1a-c349-c598ee752f78",
    "tags": []
   },
   "outputs": [
    {
     "name": "stdout",
     "output_type": "stream",
     "text": [
      "Not a Colab Environment\n"
     ]
    }
   ],
   "source": [
    "try:\n",
    "    from google.colab import auth\n",
    "    auth.authenticate_user(project_id = PROJECT_ID)\n",
    "    print('Colab authorized to GCP')\n",
    "except Exception:\n",
    "    print('Not a Colab Environment')\n",
    "    pass"
   ]
  },
  {
   "cell_type": "markdown",
   "id": "a3bb27f9-055c-492c-aec0-fec8c99a2feb",
   "metadata": {},
   "source": [
    "---\n",
    "## Installs\n",
    "\n",
    "The list `packages` contains tuples of package import names and install names.  If the import name is not found then the install name is used to install quitely for the current user."
   ]
  },
  {
   "cell_type": "code",
   "execution_count": 3,
   "id": "287cf518-363f-4598-b609-f7e182c28e0b",
   "metadata": {
    "tags": []
   },
   "outputs": [],
   "source": [
    "# tuples of (import name, install name)\n",
    "packages = [\n",
    "    ('google.cloud.bigquery', 'google-cloud-bigquery'),\n",
    "]\n",
    "\n",
    "import importlib\n",
    "install = False\n",
    "for package in packages:\n",
    "    if not importlib.util.find_spec(package[0]):\n",
    "        print(f'installing package {package[1]}')\n",
    "        install = True\n",
    "        !pip install {package[1]} -U -q --user"
   ]
  },
  {
   "cell_type": "markdown",
   "id": "4183965b-3a75-4acd-9fcb-55f61fa82ce5",
   "metadata": {},
   "source": [
    "### Restart Kernel (If Installs Occured)\n",
    "\n",
    "After a kernel restart the code submission can start with the next cell after this one."
   ]
  },
  {
   "cell_type": "code",
   "execution_count": 4,
   "id": "923628b2-ddbe-4075-9a26-af41af8cf51b",
   "metadata": {
    "tags": []
   },
   "outputs": [],
   "source": [
    "if install:\n",
    "    import IPython\n",
    "    app = IPython.Application.instance()\n",
    "    app.kernel.do_shutdown(True)\n",
    "    IPython.display.display(IPython.display.Markdown(\"\"\"<div class=\\\"alert alert-block alert-warning\\\">\n",
    "        <b>⚠️ The kernel is going to restart. Please wait until it is finished before continuing to the next step. The previous cells do not need to be run again⚠️</b>\n",
    "        </div>\"\"\"))"
   ]
  },
  {
   "cell_type": "markdown",
   "id": "0c852da5-23df-474e-863d-93dbc69133e9",
   "metadata": {},
   "source": [
    "---\n",
    "## Setup"
   ]
  },
  {
   "cell_type": "markdown",
   "id": "5b1d7e26-1750-48da-83ed-fb34572f713c",
   "metadata": {},
   "source": [
    "inputs:"
   ]
  },
  {
   "cell_type": "code",
   "execution_count": 5,
   "id": "8acaff9e-d8bb-4f5e-b23a-862de29ae12a",
   "metadata": {
    "tags": []
   },
   "outputs": [
    {
     "data": {
      "text/plain": [
       "'statmike-mlops-349915'"
      ]
     },
     "execution_count": 5,
     "metadata": {},
     "output_type": "execute_result"
    }
   ],
   "source": [
    "project = !gcloud config get-value project\n",
    "PROJECT_ID = project[0]\n",
    "PROJECT_ID"
   ]
  },
  {
   "cell_type": "code",
   "execution_count": 36,
   "id": "82f63a08-f3d1-41b5-9115-ca56fd3db64d",
   "metadata": {
    "tags": []
   },
   "outputs": [],
   "source": [
    "REGION = 'us-central1'\n",
    "EXPERIMENT = 'bqml-autoencoder'\n",
    "SERIES = 'applied-genai-embeddings'\n",
    "\n",
    "# Data source for this series of notebooks: Described above\n",
    "BQ_SOURCE = 'bigquery-public-data.ml_datasets.ulb_fraud_detection'\n",
    "\n",
    "# make this the BQ Project / Dataset / Table prefix to store results\n",
    "BQ_PROJECT = PROJECT_ID\n",
    "BQ_DATASET = SERIES.replace('-', '_')\n",
    "BQ_TABLE = EXPERIMENT\n",
    "BQ_REGION = REGION[0:2] # use multi-region (the first two charecters)\n",
    "BQ_MODEL = EXPERIMENT+'-model'"
   ]
  },
  {
   "cell_type": "markdown",
   "id": "957af7fa-4b20-40ff-92a1-e6493b2fce48",
   "metadata": {},
   "source": [
    "packages:"
   ]
  },
  {
   "cell_type": "code",
   "execution_count": 10,
   "id": "5a921965-1066-482a-9e98-0e3b784e672a",
   "metadata": {
    "tags": []
   },
   "outputs": [],
   "source": [
    "import numpy as np\n",
    "from google.cloud import bigquery"
   ]
  },
  {
   "cell_type": "markdown",
   "id": "35478ea5-08c4-493d-8514-374e71ee167d",
   "metadata": {},
   "source": [
    "clients:"
   ]
  },
  {
   "cell_type": "code",
   "execution_count": 11,
   "id": "71cc7268-005f-42c9-9ee3-fc9959b8a543",
   "metadata": {
    "tags": []
   },
   "outputs": [],
   "source": [
    "bq = bigquery.Client(project = PROJECT_ID)"
   ]
  },
  {
   "cell_type": "markdown",
   "id": "5869b86a-4bed-445d-a49f-080d55d7db81",
   "metadata": {},
   "source": [
    "---\n",
    "## Review Source Data\n",
    "\n",
    "This is a BigQuery public table of 284,807 credit card transactions classified as fradulant or normal in the column `Class`.\n",
    "- The data can be researched further at this [Kaggle link](https://www.kaggle.com/mlg-ulb/creditcardfraud).\n",
    "- Read mode about BigQuery public datasets [here](https://cloud.google.com/bigquery/public-data)\n",
    "\n",
    "In order protect confidentiality, the original features have been transformed using [principle component analysis (PCA)](https://en.wikipedia.org/wiki/Principal_component_analysis) into 28 features named `V1, V2, ... V28` (float).  Two descriptive features are provided without transformation by PCA:\n",
    "- `Time` (integer) is the seconds elapsed between the transaction and the earliest transaction in the table\n",
    "- `Amount` (float) is the value of the transaction\n",
    " "
   ]
  },
  {
   "cell_type": "markdown",
   "id": "723ee77b-637e-46e4-b626-0363e3066db0",
   "metadata": {},
   "source": [
    "### Review BigQuery table:"
   ]
  },
  {
   "cell_type": "code",
   "execution_count": 22,
   "id": "0d395d7e-a485-4be7-bec3-f60fb6eaf1e9",
   "metadata": {
    "tags": []
   },
   "outputs": [
    {
     "data": {
      "text/html": [
       "<div>\n",
       "<style scoped>\n",
       "    .dataframe tbody tr th:only-of-type {\n",
       "        vertical-align: middle;\n",
       "    }\n",
       "\n",
       "    .dataframe tbody tr th {\n",
       "        vertical-align: top;\n",
       "    }\n",
       "\n",
       "    .dataframe thead th {\n",
       "        text-align: right;\n",
       "    }\n",
       "</style>\n",
       "<table border=\"1\" class=\"dataframe\">\n",
       "  <thead>\n",
       "    <tr style=\"text-align: right;\">\n",
       "      <th></th>\n",
       "      <th>Time</th>\n",
       "      <th>V1</th>\n",
       "      <th>V2</th>\n",
       "      <th>V3</th>\n",
       "      <th>V4</th>\n",
       "      <th>V5</th>\n",
       "      <th>V6</th>\n",
       "      <th>V7</th>\n",
       "      <th>V8</th>\n",
       "      <th>V9</th>\n",
       "      <th>...</th>\n",
       "      <th>V21</th>\n",
       "      <th>V22</th>\n",
       "      <th>V23</th>\n",
       "      <th>V24</th>\n",
       "      <th>V25</th>\n",
       "      <th>V26</th>\n",
       "      <th>V27</th>\n",
       "      <th>V28</th>\n",
       "      <th>Amount</th>\n",
       "      <th>Class</th>\n",
       "    </tr>\n",
       "  </thead>\n",
       "  <tbody>\n",
       "    <tr>\n",
       "      <th>0</th>\n",
       "      <td>282.0</td>\n",
       "      <td>-0.356466</td>\n",
       "      <td>0.725418</td>\n",
       "      <td>1.971749</td>\n",
       "      <td>0.831343</td>\n",
       "      <td>0.369681</td>\n",
       "      <td>-0.107776</td>\n",
       "      <td>0.751610</td>\n",
       "      <td>-0.120166</td>\n",
       "      <td>-0.420675</td>\n",
       "      <td>...</td>\n",
       "      <td>0.020804</td>\n",
       "      <td>0.424312</td>\n",
       "      <td>-0.015989</td>\n",
       "      <td>0.466754</td>\n",
       "      <td>-0.809962</td>\n",
       "      <td>0.657334</td>\n",
       "      <td>-0.043150</td>\n",
       "      <td>-0.046401</td>\n",
       "      <td>0.0</td>\n",
       "      <td>0</td>\n",
       "    </tr>\n",
       "    <tr>\n",
       "      <th>1</th>\n",
       "      <td>14332.0</td>\n",
       "      <td>1.071950</td>\n",
       "      <td>0.340678</td>\n",
       "      <td>1.784068</td>\n",
       "      <td>2.846396</td>\n",
       "      <td>-0.751538</td>\n",
       "      <td>0.403028</td>\n",
       "      <td>-0.734920</td>\n",
       "      <td>0.205807</td>\n",
       "      <td>1.092726</td>\n",
       "      <td>...</td>\n",
       "      <td>-0.169632</td>\n",
       "      <td>-0.113604</td>\n",
       "      <td>0.067643</td>\n",
       "      <td>0.468669</td>\n",
       "      <td>0.223541</td>\n",
       "      <td>-0.112355</td>\n",
       "      <td>0.014015</td>\n",
       "      <td>0.021504</td>\n",
       "      <td>0.0</td>\n",
       "      <td>0</td>\n",
       "    </tr>\n",
       "    <tr>\n",
       "      <th>2</th>\n",
       "      <td>32799.0</td>\n",
       "      <td>1.153477</td>\n",
       "      <td>-0.047859</td>\n",
       "      <td>1.358363</td>\n",
       "      <td>1.480620</td>\n",
       "      <td>-1.222598</td>\n",
       "      <td>-0.481690</td>\n",
       "      <td>-0.654461</td>\n",
       "      <td>0.128115</td>\n",
       "      <td>0.907095</td>\n",
       "      <td>...</td>\n",
       "      <td>0.125514</td>\n",
       "      <td>0.480049</td>\n",
       "      <td>-0.025964</td>\n",
       "      <td>0.701843</td>\n",
       "      <td>0.417245</td>\n",
       "      <td>-0.257691</td>\n",
       "      <td>0.060115</td>\n",
       "      <td>0.035332</td>\n",
       "      <td>0.0</td>\n",
       "      <td>0</td>\n",
       "    </tr>\n",
       "    <tr>\n",
       "      <th>3</th>\n",
       "      <td>35799.0</td>\n",
       "      <td>-0.769798</td>\n",
       "      <td>0.622325</td>\n",
       "      <td>0.242491</td>\n",
       "      <td>-0.586652</td>\n",
       "      <td>0.527819</td>\n",
       "      <td>-0.104512</td>\n",
       "      <td>0.209909</td>\n",
       "      <td>0.669861</td>\n",
       "      <td>-0.304509</td>\n",
       "      <td>...</td>\n",
       "      <td>0.152738</td>\n",
       "      <td>0.255654</td>\n",
       "      <td>-0.130237</td>\n",
       "      <td>-0.660934</td>\n",
       "      <td>-0.493374</td>\n",
       "      <td>0.331855</td>\n",
       "      <td>-0.011101</td>\n",
       "      <td>0.049089</td>\n",
       "      <td>0.0</td>\n",
       "      <td>0</td>\n",
       "    </tr>\n",
       "    <tr>\n",
       "      <th>4</th>\n",
       "      <td>36419.0</td>\n",
       "      <td>1.047960</td>\n",
       "      <td>0.145048</td>\n",
       "      <td>1.624573</td>\n",
       "      <td>2.932652</td>\n",
       "      <td>-0.726574</td>\n",
       "      <td>0.690451</td>\n",
       "      <td>-0.627288</td>\n",
       "      <td>0.278709</td>\n",
       "      <td>0.318434</td>\n",
       "      <td>...</td>\n",
       "      <td>0.078499</td>\n",
       "      <td>0.658942</td>\n",
       "      <td>-0.067810</td>\n",
       "      <td>0.476882</td>\n",
       "      <td>0.526830</td>\n",
       "      <td>0.219902</td>\n",
       "      <td>0.070627</td>\n",
       "      <td>0.028488</td>\n",
       "      <td>0.0</td>\n",
       "      <td>0</td>\n",
       "    </tr>\n",
       "  </tbody>\n",
       "</table>\n",
       "<p>5 rows × 31 columns</p>\n",
       "</div>"
      ],
      "text/plain": [
       "      Time        V1        V2        V3        V4        V5        V6  \\\n",
       "0    282.0 -0.356466  0.725418  1.971749  0.831343  0.369681 -0.107776   \n",
       "1  14332.0  1.071950  0.340678  1.784068  2.846396 -0.751538  0.403028   \n",
       "2  32799.0  1.153477 -0.047859  1.358363  1.480620 -1.222598 -0.481690   \n",
       "3  35799.0 -0.769798  0.622325  0.242491 -0.586652  0.527819 -0.104512   \n",
       "4  36419.0  1.047960  0.145048  1.624573  2.932652 -0.726574  0.690451   \n",
       "\n",
       "         V7        V8        V9  ...       V21       V22       V23       V24  \\\n",
       "0  0.751610 -0.120166 -0.420675  ...  0.020804  0.424312 -0.015989  0.466754   \n",
       "1 -0.734920  0.205807  1.092726  ... -0.169632 -0.113604  0.067643  0.468669   \n",
       "2 -0.654461  0.128115  0.907095  ...  0.125514  0.480049 -0.025964  0.701843   \n",
       "3  0.209909  0.669861 -0.304509  ...  0.152738  0.255654 -0.130237 -0.660934   \n",
       "4 -0.627288  0.278709  0.318434  ...  0.078499  0.658942 -0.067810  0.476882   \n",
       "\n",
       "        V25       V26       V27       V28  Amount  Class  \n",
       "0 -0.809962  0.657334 -0.043150 -0.046401     0.0      0  \n",
       "1  0.223541 -0.112355  0.014015  0.021504     0.0      0  \n",
       "2  0.417245 -0.257691  0.060115  0.035332     0.0      0  \n",
       "3 -0.493374  0.331855 -0.011101  0.049089     0.0      0  \n",
       "4  0.526830  0.219902  0.070627  0.028488     0.0      0  \n",
       "\n",
       "[5 rows x 31 columns]"
      ]
     },
     "execution_count": 22,
     "metadata": {},
     "output_type": "execute_result"
    }
   ],
   "source": [
    "source_data = bq.query(f'SELECT * FROM `{BQ_SOURCE}` LIMIT 5').to_dataframe()\n",
    "source_data"
   ]
  },
  {
   "cell_type": "code",
   "execution_count": 23,
   "id": "a280c1ee-7742-4b6a-8bf8-a5475b55ddd3",
   "metadata": {
    "tags": []
   },
   "outputs": [
    {
     "data": {
      "text/plain": [
       "Time      float64\n",
       "V1        float64\n",
       "V2        float64\n",
       "V3        float64\n",
       "V4        float64\n",
       "V5        float64\n",
       "V6        float64\n",
       "V7        float64\n",
       "V8        float64\n",
       "V9        float64\n",
       "V10       float64\n",
       "V11       float64\n",
       "V12       float64\n",
       "V13       float64\n",
       "V14       float64\n",
       "V15       float64\n",
       "V16       float64\n",
       "V17       float64\n",
       "V18       float64\n",
       "V19       float64\n",
       "V20       float64\n",
       "V21       float64\n",
       "V22       float64\n",
       "V23       float64\n",
       "V24       float64\n",
       "V25       float64\n",
       "V26       float64\n",
       "V27       float64\n",
       "V28       float64\n",
       "Amount    float64\n",
       "Class       Int64\n",
       "dtype: object"
      ]
     },
     "execution_count": 23,
     "metadata": {},
     "output_type": "execute_result"
    }
   ],
   "source": [
    "source_data.dtypes"
   ]
  },
  {
   "cell_type": "markdown",
   "id": "d7b495aa-d203-49ae-a7e9-2c7deadbf0e1",
   "metadata": {},
   "source": [
    "---\n",
    "## Prepare Data Source\n",
    "\n",
    "The data preparation includes adding splits for machine learning with a column named `splits` with 80% for training (`TRAIN`), 10% for validation (`VALIDATE`) and 10% for testing (`TEST`).  Additionally, a unique identifier was added to each transaction, `transaction_id`. "
   ]
  },
  {
   "cell_type": "markdown",
   "id": "9afcb9eb-ba48-4d33-b62b-e20d77257a00",
   "metadata": {},
   "source": [
    "### Create/Recall Dataset"
   ]
  },
  {
   "cell_type": "code",
   "execution_count": 24,
   "id": "fc67a74e-2b97-45d3-91e8-384a3121eba1",
   "metadata": {
    "tags": []
   },
   "outputs": [],
   "source": [
    "dataset = bigquery.Dataset(f\"{BQ_PROJECT}.{BQ_DATASET}\")\n",
    "dataset.location = BQ_REGION\n",
    "bq_dataset = bq.create_dataset(dataset, exists_ok = True)"
   ]
  },
  {
   "cell_type": "markdown",
   "id": "635e8a83-03bd-4f61-b6d5-12e2c44f346d",
   "metadata": {},
   "source": [
    "### Create/Recall Table With Preparation For ML\n",
    "\n",
    "Copy the data from the source while adding columns:\n",
    "- `transaction_id` as a unique identify for the row\n",
    "    - Use the `GENERATE_UUID()` function\n",
    "- `splits` column to randomly assign rows to 'TRAIN\", \"VALIDATE\" and \"TEST\" groups\n",
    "    - Use a CASE statement with the last last digit of the result of `ABS(FARM_FINGERPRINT(transaction_id))` to assign to \"TRAIN\" when [0, 7], \"VALIDATE\" when 8, and \"TEST\" when 9.  This gives an 80/10/10 split. "
   ]
  },
  {
   "cell_type": "code",
   "execution_count": 31,
   "id": "b9f8de57-5afb-44a0-a4d4-335f754b746f",
   "metadata": {
    "tags": []
   },
   "outputs": [
    {
     "data": {
      "text/plain": [
       "0.341"
      ]
     },
     "execution_count": 31,
     "metadata": {},
     "output_type": "execute_result"
    }
   ],
   "source": [
    "job = bq.query(f\"\"\"\n",
    "CREATE TABLE IF NOT EXISTS `{BQ_PROJECT}.{BQ_DATASET}.{BQ_TABLE}` AS\n",
    "WITH add_id AS (SELECT *, GENERATE_UUID() transaction_id FROM `{BQ_SOURCE}`)\n",
    "SELECT *,\n",
    "    CASE \n",
    "        WHEN MOD(ABS(FARM_FINGERPRINT(transaction_id)),10) < 8 THEN \"TRAIN\" \n",
    "        WHEN MOD(ABS(FARM_FINGERPRINT(transaction_id)),10) < 9 THEN \"VALIDATE\"\n",
    "        ELSE \"TEST\"\n",
    "    END AS splits\n",
    "FROM add_id\n",
    "\"\"\")\n",
    "job.result()\n",
    "(job.ended-job.started).total_seconds()"
   ]
  },
  {
   "cell_type": "code",
   "execution_count": 32,
   "id": "22307b40-0ba9-40b2-8f00-35bc3f314912",
   "metadata": {
    "tags": []
   },
   "outputs": [
    {
     "data": {
      "text/html": [
       "<div>\n",
       "<style scoped>\n",
       "    .dataframe tbody tr th:only-of-type {\n",
       "        vertical-align: middle;\n",
       "    }\n",
       "\n",
       "    .dataframe tbody tr th {\n",
       "        vertical-align: top;\n",
       "    }\n",
       "\n",
       "    .dataframe thead th {\n",
       "        text-align: right;\n",
       "    }\n",
       "</style>\n",
       "<table border=\"1\" class=\"dataframe\">\n",
       "  <thead>\n",
       "    <tr style=\"text-align: right;\">\n",
       "      <th></th>\n",
       "      <th>Time</th>\n",
       "      <th>V1</th>\n",
       "      <th>V2</th>\n",
       "      <th>V3</th>\n",
       "      <th>V4</th>\n",
       "      <th>V5</th>\n",
       "      <th>V6</th>\n",
       "      <th>V7</th>\n",
       "      <th>V8</th>\n",
       "      <th>V9</th>\n",
       "      <th>...</th>\n",
       "      <th>V23</th>\n",
       "      <th>V24</th>\n",
       "      <th>V25</th>\n",
       "      <th>V26</th>\n",
       "      <th>V27</th>\n",
       "      <th>V28</th>\n",
       "      <th>Amount</th>\n",
       "      <th>Class</th>\n",
       "      <th>transaction_id</th>\n",
       "      <th>splits</th>\n",
       "    </tr>\n",
       "  </thead>\n",
       "  <tbody>\n",
       "    <tr>\n",
       "      <th>0</th>\n",
       "      <td>139889.0</td>\n",
       "      <td>2.180042</td>\n",
       "      <td>0.195697</td>\n",
       "      <td>-2.906568</td>\n",
       "      <td>0.047321</td>\n",
       "      <td>1.575817</td>\n",
       "      <td>-0.405608</td>\n",
       "      <td>0.861374</td>\n",
       "      <td>-0.372075</td>\n",
       "      <td>-0.416297</td>\n",
       "      <td>...</td>\n",
       "      <td>-0.281670</td>\n",
       "      <td>-0.245863</td>\n",
       "      <td>0.808016</td>\n",
       "      <td>0.737577</td>\n",
       "      <td>-0.127611</td>\n",
       "      <td>-0.106866</td>\n",
       "      <td>0.0</td>\n",
       "      <td>0</td>\n",
       "      <td>2056d104-31a6-406b-934f-daae83ae775d</td>\n",
       "      <td>TEST</td>\n",
       "    </tr>\n",
       "    <tr>\n",
       "      <th>1</th>\n",
       "      <td>50570.0</td>\n",
       "      <td>-0.922055</td>\n",
       "      <td>1.514612</td>\n",
       "      <td>1.846089</td>\n",
       "      <td>0.701321</td>\n",
       "      <td>0.212083</td>\n",
       "      <td>-0.412444</td>\n",
       "      <td>1.061090</td>\n",
       "      <td>-0.676870</td>\n",
       "      <td>-0.007496</td>\n",
       "      <td>...</td>\n",
       "      <td>-0.101959</td>\n",
       "      <td>0.612442</td>\n",
       "      <td>-0.420179</td>\n",
       "      <td>-0.541617</td>\n",
       "      <td>-0.729131</td>\n",
       "      <td>-0.243720</td>\n",
       "      <td>0.0</td>\n",
       "      <td>0</td>\n",
       "      <td>aa620abf-28a1-451c-9c58-1b8fc3ee4492</td>\n",
       "      <td>TEST</td>\n",
       "    </tr>\n",
       "    <tr>\n",
       "      <th>2</th>\n",
       "      <td>84079.0</td>\n",
       "      <td>-0.959494</td>\n",
       "      <td>0.946990</td>\n",
       "      <td>1.760368</td>\n",
       "      <td>2.714721</td>\n",
       "      <td>0.641016</td>\n",
       "      <td>0.217552</td>\n",
       "      <td>0.379313</td>\n",
       "      <td>0.005477</td>\n",
       "      <td>-1.744816</td>\n",
       "      <td>...</td>\n",
       "      <td>0.235519</td>\n",
       "      <td>0.026976</td>\n",
       "      <td>-0.182005</td>\n",
       "      <td>0.109672</td>\n",
       "      <td>-0.024543</td>\n",
       "      <td>0.062964</td>\n",
       "      <td>0.0</td>\n",
       "      <td>0</td>\n",
       "      <td>db0d156d-1d1e-4c02-8ed1-a745c7a41043</td>\n",
       "      <td>TEST</td>\n",
       "    </tr>\n",
       "    <tr>\n",
       "      <th>3</th>\n",
       "      <td>159888.0</td>\n",
       "      <td>-3.146402</td>\n",
       "      <td>2.543688</td>\n",
       "      <td>-0.328957</td>\n",
       "      <td>2.499684</td>\n",
       "      <td>-0.112949</td>\n",
       "      <td>0.959888</td>\n",
       "      <td>-0.501032</td>\n",
       "      <td>0.632631</td>\n",
       "      <td>0.272793</td>\n",
       "      <td>...</td>\n",
       "      <td>0.085183</td>\n",
       "      <td>0.212830</td>\n",
       "      <td>-0.312526</td>\n",
       "      <td>-0.248380</td>\n",
       "      <td>-2.731440</td>\n",
       "      <td>-0.754864</td>\n",
       "      <td>0.0</td>\n",
       "      <td>0</td>\n",
       "      <td>85ede956-7e8c-4428-b671-884c334429de</td>\n",
       "      <td>TEST</td>\n",
       "    </tr>\n",
       "    <tr>\n",
       "      <th>4</th>\n",
       "      <td>24481.0</td>\n",
       "      <td>-0.257764</td>\n",
       "      <td>1.496135</td>\n",
       "      <td>1.775952</td>\n",
       "      <td>2.024421</td>\n",
       "      <td>0.821847</td>\n",
       "      <td>-0.599382</td>\n",
       "      <td>1.252612</td>\n",
       "      <td>-0.447357</td>\n",
       "      <td>-0.182781</td>\n",
       "      <td>...</td>\n",
       "      <td>-0.047306</td>\n",
       "      <td>0.249045</td>\n",
       "      <td>-0.167503</td>\n",
       "      <td>-0.435957</td>\n",
       "      <td>-0.168028</td>\n",
       "      <td>-0.168385</td>\n",
       "      <td>0.0</td>\n",
       "      <td>0</td>\n",
       "      <td>725437fc-5c21-4196-9f4a-44b150e3528c</td>\n",
       "      <td>TEST</td>\n",
       "    </tr>\n",
       "  </tbody>\n",
       "</table>\n",
       "<p>5 rows × 33 columns</p>\n",
       "</div>"
      ],
      "text/plain": [
       "       Time        V1        V2        V3        V4        V5        V6  \\\n",
       "0  139889.0  2.180042  0.195697 -2.906568  0.047321  1.575817 -0.405608   \n",
       "1   50570.0 -0.922055  1.514612  1.846089  0.701321  0.212083 -0.412444   \n",
       "2   84079.0 -0.959494  0.946990  1.760368  2.714721  0.641016  0.217552   \n",
       "3  159888.0 -3.146402  2.543688 -0.328957  2.499684 -0.112949  0.959888   \n",
       "4   24481.0 -0.257764  1.496135  1.775952  2.024421  0.821847 -0.599382   \n",
       "\n",
       "         V7        V8        V9  ...       V23       V24       V25       V26  \\\n",
       "0  0.861374 -0.372075 -0.416297  ... -0.281670 -0.245863  0.808016  0.737577   \n",
       "1  1.061090 -0.676870 -0.007496  ... -0.101959  0.612442 -0.420179 -0.541617   \n",
       "2  0.379313  0.005477 -1.744816  ...  0.235519  0.026976 -0.182005  0.109672   \n",
       "3 -0.501032  0.632631  0.272793  ...  0.085183  0.212830 -0.312526 -0.248380   \n",
       "4  1.252612 -0.447357 -0.182781  ... -0.047306  0.249045 -0.167503 -0.435957   \n",
       "\n",
       "        V27       V28  Amount  Class                        transaction_id  \\\n",
       "0 -0.127611 -0.106866     0.0      0  2056d104-31a6-406b-934f-daae83ae775d   \n",
       "1 -0.729131 -0.243720     0.0      0  aa620abf-28a1-451c-9c58-1b8fc3ee4492   \n",
       "2 -0.024543  0.062964     0.0      0  db0d156d-1d1e-4c02-8ed1-a745c7a41043   \n",
       "3 -2.731440 -0.754864     0.0      0  85ede956-7e8c-4428-b671-884c334429de   \n",
       "4 -0.168028 -0.168385     0.0      0  725437fc-5c21-4196-9f4a-44b150e3528c   \n",
       "\n",
       "   splits  \n",
       "0    TEST  \n",
       "1    TEST  \n",
       "2    TEST  \n",
       "3    TEST  \n",
       "4    TEST  \n",
       "\n",
       "[5 rows x 33 columns]"
      ]
     },
     "execution_count": 32,
     "metadata": {},
     "output_type": "execute_result"
    }
   ],
   "source": [
    "bq.query(f'SELECT * FROM `{BQ_PROJECT}.{BQ_DATASET}.{BQ_TABLE}` LIMIT 5').to_dataframe()"
   ]
  },
  {
   "cell_type": "markdown",
   "id": "52e6473b-3aa0-42a7-9ef5-5bb0064db3ff",
   "metadata": {},
   "source": [
    "### Review the number of records for each level of `Class` for each of the data splits:"
   ]
  },
  {
   "cell_type": "code",
   "execution_count": 33,
   "id": "e9747bde-8369-4009-b91b-98aa76227b2b",
   "metadata": {
    "tags": []
   },
   "outputs": [
    {
     "data": {
      "text/html": [
       "<div>\n",
       "<style scoped>\n",
       "    .dataframe tbody tr th:only-of-type {\n",
       "        vertical-align: middle;\n",
       "    }\n",
       "\n",
       "    .dataframe tbody tr th {\n",
       "        vertical-align: top;\n",
       "    }\n",
       "\n",
       "    .dataframe thead th {\n",
       "        text-align: right;\n",
       "    }\n",
       "</style>\n",
       "<table border=\"1\" class=\"dataframe\">\n",
       "  <thead>\n",
       "    <tr style=\"text-align: right;\">\n",
       "      <th></th>\n",
       "      <th>splits</th>\n",
       "      <th>class</th>\n",
       "      <th>count</th>\n",
       "    </tr>\n",
       "  </thead>\n",
       "  <tbody>\n",
       "    <tr>\n",
       "      <th>0</th>\n",
       "      <td>TEST</td>\n",
       "      <td>0</td>\n",
       "      <td>28471</td>\n",
       "    </tr>\n",
       "    <tr>\n",
       "      <th>1</th>\n",
       "      <td>TEST</td>\n",
       "      <td>1</td>\n",
       "      <td>47</td>\n",
       "    </tr>\n",
       "    <tr>\n",
       "      <th>2</th>\n",
       "      <td>TRAIN</td>\n",
       "      <td>0</td>\n",
       "      <td>227429</td>\n",
       "    </tr>\n",
       "    <tr>\n",
       "      <th>3</th>\n",
       "      <td>TRAIN</td>\n",
       "      <td>1</td>\n",
       "      <td>405</td>\n",
       "    </tr>\n",
       "    <tr>\n",
       "      <th>4</th>\n",
       "      <td>VALIDATE</td>\n",
       "      <td>0</td>\n",
       "      <td>28415</td>\n",
       "    </tr>\n",
       "    <tr>\n",
       "      <th>5</th>\n",
       "      <td>VALIDATE</td>\n",
       "      <td>1</td>\n",
       "      <td>40</td>\n",
       "    </tr>\n",
       "  </tbody>\n",
       "</table>\n",
       "</div>"
      ],
      "text/plain": [
       "     splits  class   count\n",
       "0      TEST      0   28471\n",
       "1      TEST      1      47\n",
       "2     TRAIN      0  227429\n",
       "3     TRAIN      1     405\n",
       "4  VALIDATE      0   28415\n",
       "5  VALIDATE      1      40"
      ]
     },
     "execution_count": 33,
     "metadata": {},
     "output_type": "execute_result"
    }
   ],
   "source": [
    "bq.query(f'SELECT splits, class, count(*) as count FROM `{BQ_PROJECT}.{BQ_DATASET}.{BQ_TABLE}` GROUP BY splits, class').to_dataframe()"
   ]
  },
  {
   "cell_type": "markdown",
   "id": "cfaaacc8-c995-4622-9816-d4e32d71cb38",
   "metadata": {},
   "source": [
    "---\n",
    "## Train Model\n",
    "\n",
    "Use BigQuery ML to train unsupervised autoencoder model:\n",
    "- [Autoencoder](https://cloud.google.com/bigquery-ml/docs/reference/standard-sql/bigqueryml-syntax-create-autoencoder) with BigQuery ML (BQML)\n",
    "- This uses the `splits` column although not directly used by the `AUTOENCODER` training but used to subset to the `splits = 'TRAIN'` data for training here"
   ]
  },
  {
   "cell_type": "code",
   "execution_count": 37,
   "id": "5d964acc-457e-42c4-97fb-f6f166ba3628",
   "metadata": {
    "tags": []
   },
   "outputs": [
    {
     "name": "stdout",
     "output_type": "stream",
     "text": [
      "\n",
      "CREATE OR REPLACE MODEL `statmike-mlops-349915.applied_genai_embeddings.bqml-autoencoder-model`\n",
      "OPTIONS (\n",
      "        model_type = 'AUTOENCODER',\n",
      "        activation_fn = 'RELU',\n",
      "        batch_size = 30,\n",
      "        dropout = .5,\n",
      "        early_stop = TRUE,\n",
      "        hidden_units = [128, 64, 8, 64, 128],\n",
      "        max_iterations = 30,\n",
      "        min_rel_progress = 0.001,\n",
      "        optimizer = 'ADAM'\n",
      "    ) AS\n",
      "SELECT * EXCEPT(Class, splits, transaction_id),\n",
      "FROM `statmike-mlops-349915.applied_genai_embeddings.bqml-autoencoder`\n",
      "WHERE splits = 'TRAIN'\n",
      "\n"
     ]
    }
   ],
   "source": [
    "query = f\"\"\"\n",
    "CREATE OR REPLACE MODEL `{BQ_PROJECT}.{BQ_DATASET}.{BQ_MODEL}`\n",
    "OPTIONS (\n",
    "        model_type = 'AUTOENCODER',\n",
    "        activation_fn = 'RELU',\n",
    "        batch_size = 30,\n",
    "        dropout = .5,\n",
    "        early_stop = TRUE,\n",
    "        hidden_units = [128, 64, 8, 64, 128],\n",
    "        max_iterations = 30,\n",
    "        min_rel_progress = 0.001,\n",
    "        optimizer = 'ADAM'\n",
    "    ) AS\n",
    "SELECT * EXCEPT(Class, splits, transaction_id),\n",
    "FROM `{BQ_PROJECT}.{BQ_DATASET}.{BQ_TABLE}`\n",
    "WHERE splits = 'TRAIN'\n",
    "\"\"\"\n",
    "print(query)"
   ]
  },
  {
   "cell_type": "code",
   "execution_count": 38,
   "id": "880fbabf-957a-4290-a8e1-f8220edab9d4",
   "metadata": {
    "tags": []
   },
   "outputs": [
    {
     "data": {
      "text/plain": [
       "1952.27"
      ]
     },
     "execution_count": 38,
     "metadata": {},
     "output_type": "execute_result"
    }
   ],
   "source": [
    "job = bq.query(query = query)\n",
    "job.result()\n",
    "(job.ended-job.started).total_seconds()"
   ]
  },
  {
   "cell_type": "code",
   "execution_count": 39,
   "id": "cc70c00a-9578-422d-bf99-736e4fb81aca",
   "metadata": {
    "tags": []
   },
   "outputs": [
    {
     "data": {
      "text/plain": [
       "48227.393777"
      ]
     },
     "execution_count": 39,
     "metadata": {},
     "output_type": "execute_result"
    }
   ],
   "source": [
    "job.total_bytes_processed/1e6 #mb"
   ]
  },
  {
   "cell_type": "markdown",
   "id": "bdb96247-2d42-452b-b653-027a2d5ec9d6",
   "metadata": {},
   "source": [
    "### Evaluate Model\n",
    "\n",
    "Calcuate evaluation statistics with [ML.EVALUATE](https://cloud.google.com/bigquery-ml/docs/reference/standard-sql/bigqueryml-syntax-evaluate):"
   ]
  },
  {
   "cell_type": "code",
   "execution_count": 40,
   "id": "ac49f543-1f96-423d-a2fc-3aa681e512ba",
   "metadata": {
    "tags": []
   },
   "outputs": [
    {
     "data": {
      "text/html": [
       "<div>\n",
       "<style scoped>\n",
       "    .dataframe tbody tr th:only-of-type {\n",
       "        vertical-align: middle;\n",
       "    }\n",
       "\n",
       "    .dataframe tbody tr th {\n",
       "        vertical-align: top;\n",
       "    }\n",
       "\n",
       "    .dataframe thead th {\n",
       "        text-align: right;\n",
       "    }\n",
       "</style>\n",
       "<table border=\"1\" class=\"dataframe\">\n",
       "  <thead>\n",
       "    <tr style=\"text-align: right;\">\n",
       "      <th></th>\n",
       "      <th>mean_absolute_error</th>\n",
       "      <th>mean_squared_error</th>\n",
       "      <th>mean_squared_log_error</th>\n",
       "    </tr>\n",
       "  </thead>\n",
       "  <tbody>\n",
       "    <tr>\n",
       "      <th>0</th>\n",
       "      <td>0.454548</td>\n",
       "      <td>0.646509</td>\n",
       "      <td>0.037982</td>\n",
       "    </tr>\n",
       "  </tbody>\n",
       "</table>\n",
       "</div>"
      ],
      "text/plain": [
       "   mean_absolute_error  mean_squared_error  mean_squared_log_error\n",
       "0             0.454548            0.646509                0.037982"
      ]
     },
     "execution_count": 40,
     "metadata": {},
     "output_type": "execute_result"
    }
   ],
   "source": [
    "bq.query(\n",
    "    query = f\"\"\"\n",
    "        SELECT *\n",
    "        FROM ML.EVALUATE(\n",
    "            MODEL `{BQ_PROJECT}.{BQ_DATASET}.{BQ_MODEL}`,\n",
    "            (SELECT * FROM `{BQ_PROJECT}.{BQ_DATASET}.{BQ_TABLE}` WHERE splits = 'TRAIN')\n",
    "        )\n",
    "        \"\"\"\n",
    ").to_dataframe()"
   ]
  },
  {
   "cell_type": "code",
   "execution_count": 41,
   "id": "aac0a509-3d69-4794-b265-587c46f27deb",
   "metadata": {
    "tags": []
   },
   "outputs": [
    {
     "data": {
      "text/html": [
       "<div>\n",
       "<style scoped>\n",
       "    .dataframe tbody tr th:only-of-type {\n",
       "        vertical-align: middle;\n",
       "    }\n",
       "\n",
       "    .dataframe tbody tr th {\n",
       "        vertical-align: top;\n",
       "    }\n",
       "\n",
       "    .dataframe thead th {\n",
       "        text-align: right;\n",
       "    }\n",
       "</style>\n",
       "<table border=\"1\" class=\"dataframe\">\n",
       "  <thead>\n",
       "    <tr style=\"text-align: right;\">\n",
       "      <th></th>\n",
       "      <th>mean_absolute_error</th>\n",
       "      <th>mean_squared_error</th>\n",
       "      <th>mean_squared_log_error</th>\n",
       "    </tr>\n",
       "  </thead>\n",
       "  <tbody>\n",
       "    <tr>\n",
       "      <th>0</th>\n",
       "      <td>0.455129</td>\n",
       "      <td>0.666135</td>\n",
       "      <td>0.038142</td>\n",
       "    </tr>\n",
       "  </tbody>\n",
       "</table>\n",
       "</div>"
      ],
      "text/plain": [
       "   mean_absolute_error  mean_squared_error  mean_squared_log_error\n",
       "0             0.455129            0.666135                0.038142"
      ]
     },
     "execution_count": 41,
     "metadata": {},
     "output_type": "execute_result"
    }
   ],
   "source": [
    "bq.query(\n",
    "    query = f\"\"\"\n",
    "        SELECT *\n",
    "        FROM ML.EVALUATE(\n",
    "            MODEL `{BQ_PROJECT}.{BQ_DATASET}.{BQ_MODEL}`,\n",
    "            (SELECT * FROM `{BQ_PROJECT}.{BQ_DATASET}.{BQ_TABLE}` WHERE splits = 'VALIDATE')\n",
    "        )\n",
    "        \"\"\"\n",
    ").to_dataframe()"
   ]
  },
  {
   "cell_type": "code",
   "execution_count": 42,
   "id": "a187ce45-fd4f-4c0e-a9b6-b6ec00504fbd",
   "metadata": {
    "tags": []
   },
   "outputs": [
    {
     "data": {
      "text/html": [
       "<div>\n",
       "<style scoped>\n",
       "    .dataframe tbody tr th:only-of-type {\n",
       "        vertical-align: middle;\n",
       "    }\n",
       "\n",
       "    .dataframe tbody tr th {\n",
       "        vertical-align: top;\n",
       "    }\n",
       "\n",
       "    .dataframe thead th {\n",
       "        text-align: right;\n",
       "    }\n",
       "</style>\n",
       "<table border=\"1\" class=\"dataframe\">\n",
       "  <thead>\n",
       "    <tr style=\"text-align: right;\">\n",
       "      <th></th>\n",
       "      <th>mean_absolute_error</th>\n",
       "      <th>mean_squared_error</th>\n",
       "      <th>mean_squared_log_error</th>\n",
       "    </tr>\n",
       "  </thead>\n",
       "  <tbody>\n",
       "    <tr>\n",
       "      <th>0</th>\n",
       "      <td>0.456433</td>\n",
       "      <td>0.658797</td>\n",
       "      <td>0.038213</td>\n",
       "    </tr>\n",
       "  </tbody>\n",
       "</table>\n",
       "</div>"
      ],
      "text/plain": [
       "   mean_absolute_error  mean_squared_error  mean_squared_log_error\n",
       "0             0.456433            0.658797                0.038213"
      ]
     },
     "execution_count": 42,
     "metadata": {},
     "output_type": "execute_result"
    }
   ],
   "source": [
    "bq.query(\n",
    "    query = f\"\"\"\n",
    "        SELECT *\n",
    "        FROM ML.EVALUATE(\n",
    "            MODEL `{BQ_PROJECT}.{BQ_DATASET}.{BQ_MODEL}`,\n",
    "            (SELECT * FROM `{BQ_PROJECT}.{BQ_DATASET}.{BQ_TABLE}` WHERE splits = 'TEST')\n",
    "        )\n",
    "        \"\"\"\n",
    ").to_dataframe()"
   ]
  },
  {
   "cell_type": "markdown",
   "id": "b2cfb2f5-e1e1-4bf8-973f-3380ba7a9711",
   "metadata": {},
   "source": [
    "### Predictions\n",
    "\n",
    "Retrieve the latent space prediction with [ML.PREDICT](https://cloud.google.com/bigquery-ml/docs/reference/standard-sql/bigqueryml-syntax-predict)."
   ]
  },
  {
   "cell_type": "code",
   "execution_count": 43,
   "id": "f6a8ee5c-158a-4a0d-b01a-bbde702f62b4",
   "metadata": {
    "tags": []
   },
   "outputs": [
    {
     "data": {
      "text/html": [
       "<div>\n",
       "<style scoped>\n",
       "    .dataframe tbody tr th:only-of-type {\n",
       "        vertical-align: middle;\n",
       "    }\n",
       "\n",
       "    .dataframe tbody tr th {\n",
       "        vertical-align: top;\n",
       "    }\n",
       "\n",
       "    .dataframe thead th {\n",
       "        text-align: right;\n",
       "    }\n",
       "</style>\n",
       "<table border=\"1\" class=\"dataframe\">\n",
       "  <thead>\n",
       "    <tr style=\"text-align: right;\">\n",
       "      <th></th>\n",
       "      <th>embedding</th>\n",
       "      <th>transaction_id</th>\n",
       "    </tr>\n",
       "  </thead>\n",
       "  <tbody>\n",
       "    <tr>\n",
       "      <th>0</th>\n",
       "      <td>[7.203158378601074, 4.551510810852051, 0.48663...</td>\n",
       "      <td>2056d104-31a6-406b-934f-daae83ae775d</td>\n",
       "    </tr>\n",
       "    <tr>\n",
       "      <th>1</th>\n",
       "      <td>[1.6095829010009766, 3.792853832244873, 2.4992...</td>\n",
       "      <td>aa620abf-28a1-451c-9c58-1b8fc3ee4492</td>\n",
       "    </tr>\n",
       "    <tr>\n",
       "      <th>2</th>\n",
       "      <td>[2.7257955074310303, 5.712514877319336, 3.3487...</td>\n",
       "      <td>db0d156d-1d1e-4c02-8ed1-a745c7a41043</td>\n",
       "    </tr>\n",
       "    <tr>\n",
       "      <th>3</th>\n",
       "      <td>[4.329518795013428, 5.630748748779297, 4.49882...</td>\n",
       "      <td>85ede956-7e8c-4428-b671-884c334429de</td>\n",
       "    </tr>\n",
       "    <tr>\n",
       "      <th>4</th>\n",
       "      <td>[2.881032943725586, 8.394695281982422, 3.82335...</td>\n",
       "      <td>725437fc-5c21-4196-9f4a-44b150e3528c</td>\n",
       "    </tr>\n",
       "  </tbody>\n",
       "</table>\n",
       "</div>"
      ],
      "text/plain": [
       "                                           embedding  \\\n",
       "0  [7.203158378601074, 4.551510810852051, 0.48663...   \n",
       "1  [1.6095829010009766, 3.792853832244873, 2.4992...   \n",
       "2  [2.7257955074310303, 5.712514877319336, 3.3487...   \n",
       "3  [4.329518795013428, 5.630748748779297, 4.49882...   \n",
       "4  [2.881032943725586, 8.394695281982422, 3.82335...   \n",
       "\n",
       "                         transaction_id  \n",
       "0  2056d104-31a6-406b-934f-daae83ae775d  \n",
       "1  aa620abf-28a1-451c-9c58-1b8fc3ee4492  \n",
       "2  db0d156d-1d1e-4c02-8ed1-a745c7a41043  \n",
       "3  85ede956-7e8c-4428-b671-884c334429de  \n",
       "4  725437fc-5c21-4196-9f4a-44b150e3528c  "
      ]
     },
     "execution_count": 43,
     "metadata": {},
     "output_type": "execute_result"
    }
   ],
   "source": [
    "query = f\"\"\"\n",
    "SELECT [latent_col_1, latent_col_2, latent_col_3, latent_col_4, latent_col_5, latent_col_6, latent_col_7, latent_col_8] as embedding, transaction_id\n",
    "FROM ML.PREDICT (\n",
    "    MODEL `{BQ_PROJECT}.{BQ_DATASET}.{BQ_MODEL}`,\n",
    "    (SELECT *\n",
    "    FROM `{BQ_PROJECT}.{BQ_DATASET}.{BQ_TABLE}`\n",
    "    WHERE splits = 'TEST'\n",
    "    LIMIT 5)\n",
    ")\n",
    "\"\"\"\n",
    "pred = bq.query(query = query).to_dataframe()\n",
    "pred"
   ]
  },
  {
   "cell_type": "markdown",
   "id": "6b666390-30b3-4940-be5a-ae7dfae3c6d6",
   "metadata": {
    "tags": []
   },
   "source": [
    "### Embeddings\n",
    "\n",
    "The `ML.PREDICT` result requires knowing the dimension of the latent space, encoder layer, of the model.  A handy function for making this easier is the `ML.GENERATE_EMBEDDING` function that automatically creates an array fromm tehe latent space as an output column named `ml_generate_embedding_result`.\n",
    "\n",
    "- Retrieve the latent space prediction as embeddings with [ML.GENERATE_EMBEDDING](https://cloud.google.com/bigquery/docs/reference/standard-sql/bigqueryml-syntax-generate-embedding)."
   ]
  },
  {
   "cell_type": "code",
   "execution_count": 46,
   "id": "a4208b6c-bb1d-4879-b84e-cf89f4bb8b6b",
   "metadata": {
    "tags": []
   },
   "outputs": [
    {
     "data": {
      "text/html": [
       "<div>\n",
       "<style scoped>\n",
       "    .dataframe tbody tr th:only-of-type {\n",
       "        vertical-align: middle;\n",
       "    }\n",
       "\n",
       "    .dataframe tbody tr th {\n",
       "        vertical-align: top;\n",
       "    }\n",
       "\n",
       "    .dataframe thead th {\n",
       "        text-align: right;\n",
       "    }\n",
       "</style>\n",
       "<table border=\"1\" class=\"dataframe\">\n",
       "  <thead>\n",
       "    <tr style=\"text-align: right;\">\n",
       "      <th></th>\n",
       "      <th>embedding</th>\n",
       "      <th>transaction_id</th>\n",
       "    </tr>\n",
       "  </thead>\n",
       "  <tbody>\n",
       "    <tr>\n",
       "      <th>0</th>\n",
       "      <td>[7.203158378601074, 4.551510810852051, 0.48663...</td>\n",
       "      <td>2056d104-31a6-406b-934f-daae83ae775d</td>\n",
       "    </tr>\n",
       "    <tr>\n",
       "      <th>1</th>\n",
       "      <td>[1.6095829010009766, 3.792853832244873, 2.4992...</td>\n",
       "      <td>aa620abf-28a1-451c-9c58-1b8fc3ee4492</td>\n",
       "    </tr>\n",
       "    <tr>\n",
       "      <th>2</th>\n",
       "      <td>[2.7257955074310303, 5.712514877319336, 3.3487...</td>\n",
       "      <td>db0d156d-1d1e-4c02-8ed1-a745c7a41043</td>\n",
       "    </tr>\n",
       "    <tr>\n",
       "      <th>3</th>\n",
       "      <td>[4.329518795013428, 5.630748748779297, 4.49882...</td>\n",
       "      <td>85ede956-7e8c-4428-b671-884c334429de</td>\n",
       "    </tr>\n",
       "    <tr>\n",
       "      <th>4</th>\n",
       "      <td>[2.881032943725586, 8.394695281982422, 3.82335...</td>\n",
       "      <td>725437fc-5c21-4196-9f4a-44b150e3528c</td>\n",
       "    </tr>\n",
       "  </tbody>\n",
       "</table>\n",
       "</div>"
      ],
      "text/plain": [
       "                                           embedding  \\\n",
       "0  [7.203158378601074, 4.551510810852051, 0.48663...   \n",
       "1  [1.6095829010009766, 3.792853832244873, 2.4992...   \n",
       "2  [2.7257955074310303, 5.712514877319336, 3.3487...   \n",
       "3  [4.329518795013428, 5.630748748779297, 4.49882...   \n",
       "4  [2.881032943725586, 8.394695281982422, 3.82335...   \n",
       "\n",
       "                         transaction_id  \n",
       "0  2056d104-31a6-406b-934f-daae83ae775d  \n",
       "1  aa620abf-28a1-451c-9c58-1b8fc3ee4492  \n",
       "2  db0d156d-1d1e-4c02-8ed1-a745c7a41043  \n",
       "3  85ede956-7e8c-4428-b671-884c334429de  \n",
       "4  725437fc-5c21-4196-9f4a-44b150e3528c  "
      ]
     },
     "execution_count": 46,
     "metadata": {},
     "output_type": "execute_result"
    }
   ],
   "source": [
    "query = f\"\"\"\n",
    "SELECT ml_generate_embedding_result as embedding, transaction_id\n",
    "FROM ML.GENERATE_EMBEDDING (\n",
    "    MODEL `{BQ_PROJECT}.{BQ_DATASET}.{BQ_MODEL}`,\n",
    "    (SELECT *\n",
    "    FROM `{BQ_PROJECT}.{BQ_DATASET}.{BQ_TABLE}`\n",
    "    WHERE splits = 'TEST'\n",
    "    LIMIT 5)\n",
    ")\n",
    "\"\"\"\n",
    "embeddings = bq.query(query = query).to_dataframe()\n",
    "embeddings"
   ]
  },
  {
   "cell_type": "markdown",
   "id": "cb29f68d-651f-440f-8ce0-4a544b38ae0b",
   "metadata": {},
   "source": [
    "### Normalized Embeddings\n",
    "\n",
    "For many applications the embedding are used for finding similar entities: semantic search, recommendation.  Or even the most dissimilar entities: outlier detection.  These methods are aided by normalized version of the embeddings which can directly computed in BigQuery by using the `ML.NORMALIZER` function on the array of values.\n",
    "- Normalize the laten space embeddings with [ML.NORMALIZER](https://cloud.google.com/bigquery/docs/reference/standard-sql/bigqueryml-syntax-normalizer)\n",
    "\n",
    "Read much more on [The Math of Similarity](./The%20Math%20of%20Similarity.ipynb)!"
   ]
  },
  {
   "cell_type": "code",
   "execution_count": 47,
   "id": "90e2fb35-6818-4619-9371-82e65eca5429",
   "metadata": {
    "tags": []
   },
   "outputs": [
    {
     "data": {
      "text/html": [
       "<div>\n",
       "<style scoped>\n",
       "    .dataframe tbody tr th:only-of-type {\n",
       "        vertical-align: middle;\n",
       "    }\n",
       "\n",
       "    .dataframe tbody tr th {\n",
       "        vertical-align: top;\n",
       "    }\n",
       "\n",
       "    .dataframe thead th {\n",
       "        text-align: right;\n",
       "    }\n",
       "</style>\n",
       "<table border=\"1\" class=\"dataframe\">\n",
       "  <thead>\n",
       "    <tr style=\"text-align: right;\">\n",
       "      <th></th>\n",
       "      <th>embedding_normalzied</th>\n",
       "      <th>transaction_id</th>\n",
       "    </tr>\n",
       "  </thead>\n",
       "  <tbody>\n",
       "    <tr>\n",
       "      <th>0</th>\n",
       "      <td>[0.5572484631959302, 0.3521125416458699, 0.037...</td>\n",
       "      <td>2056d104-31a6-406b-934f-daae83ae775d</td>\n",
       "    </tr>\n",
       "    <tr>\n",
       "      <th>1</th>\n",
       "      <td>[0.18012424434948443, 0.4244484270032261, 0.27...</td>\n",
       "      <td>aa620abf-28a1-451c-9c58-1b8fc3ee4492</td>\n",
       "    </tr>\n",
       "    <tr>\n",
       "      <th>2</th>\n",
       "      <td>[0.24128518177106906, 0.5056671297558105, 0.29...</td>\n",
       "      <td>db0d156d-1d1e-4c02-8ed1-a745c7a41043</td>\n",
       "    </tr>\n",
       "    <tr>\n",
       "      <th>3</th>\n",
       "      <td>[0.295824461603445, 0.3847340307080803, 0.3073...</td>\n",
       "      <td>85ede956-7e8c-4428-b671-884c334429de</td>\n",
       "    </tr>\n",
       "    <tr>\n",
       "      <th>4</th>\n",
       "      <td>[0.19260856175990754, 0.5612189156658676, 0.25...</td>\n",
       "      <td>725437fc-5c21-4196-9f4a-44b150e3528c</td>\n",
       "    </tr>\n",
       "  </tbody>\n",
       "</table>\n",
       "</div>"
      ],
      "text/plain": [
       "                                embedding_normalzied  \\\n",
       "0  [0.5572484631959302, 0.3521125416458699, 0.037...   \n",
       "1  [0.18012424434948443, 0.4244484270032261, 0.27...   \n",
       "2  [0.24128518177106906, 0.5056671297558105, 0.29...   \n",
       "3  [0.295824461603445, 0.3847340307080803, 0.3073...   \n",
       "4  [0.19260856175990754, 0.5612189156658676, 0.25...   \n",
       "\n",
       "                         transaction_id  \n",
       "0  2056d104-31a6-406b-934f-daae83ae775d  \n",
       "1  aa620abf-28a1-451c-9c58-1b8fc3ee4492  \n",
       "2  db0d156d-1d1e-4c02-8ed1-a745c7a41043  \n",
       "3  85ede956-7e8c-4428-b671-884c334429de  \n",
       "4  725437fc-5c21-4196-9f4a-44b150e3528c  "
      ]
     },
     "execution_count": 47,
     "metadata": {},
     "output_type": "execute_result"
    }
   ],
   "source": [
    "query = f\"\"\"\n",
    "SELECT ML.NORMALIZER(ml_generate_embedding_result, 2) as embedding_normalzied, transaction_id\n",
    "FROM ML.GENERATE_EMBEDDING (\n",
    "    MODEL `{BQ_PROJECT}.{BQ_DATASET}.{BQ_MODEL}`,\n",
    "    (SELECT *\n",
    "    FROM `{BQ_PROJECT}.{BQ_DATASET}.{BQ_TABLE}`\n",
    "    WHERE splits = 'TEST'\n",
    "    LIMIT 5)\n",
    ")\n",
    "\"\"\"\n",
    "embeddings_normalized = bq.query(query = query).to_dataframe()\n",
    "embeddings_normalized"
   ]
  },
  {
   "cell_type": "markdown",
   "id": "5d24b26a-778d-4031-874b-867fbf2f9c8a",
   "metadata": {},
   "source": [
    "---\n",
    "## Similarity Matching With Embeddings And Vector Search\n",
    "\n",
    "The normalized embeddings above can be used with vector search in BigQuery to identify the distance between observations (rows) which is helpful for many uses cases.\n",
    "\n",
    "With BigQuery vector indexes we can [create vector indexes](https://cloud.google.com/bigquery/docs/vector-index) and search these with the [VECTOR_SEARCH function](https://cloud.google.com/bigquery/docs/reference/standard-sql/search_functions#vector_search).\n",
    "- Read more about [vector search in BigQuery](https://cloud.google.com/bigquery/docs/vector-search)"
   ]
  },
  {
   "cell_type": "markdown",
   "id": "fc033bfa-99a3-461f-8390-0723f49317b0",
   "metadata": {},
   "source": [
    "### Add Normalized Embeddings To Table\n",
    "\n",
    "Add the normalized embeddings to a table/view for use in similarity searches with vector search. See the content above for a description of this process."
   ]
  },
  {
   "cell_type": "code",
   "execution_count": 63,
   "id": "97268f23-c4f6-40fc-8178-7a2d802d55e5",
   "metadata": {
    "tags": []
   },
   "outputs": [
    {
     "data": {
      "text/plain": [
       "<google.cloud.bigquery.table._EmptyRowIterator at 0x7f1045c5a4d0>"
      ]
     },
     "execution_count": 63,
     "metadata": {},
     "output_type": "execute_result"
    }
   ],
   "source": [
    "query = f'''\n",
    "CREATE OR REPLACE TABLE `{BQ_PROJECT}.{BQ_DATASET}.{BQ_TABLE}_embeddings` AS\n",
    "SELECT * EXCEPT(ml_generate_embedding_result),\n",
    "    ml_generate_embedding_result as embedding,\n",
    "    ML.NORMALIZER(ml_generate_embedding_result, 2) as embedding_normalized \n",
    "FROM ML.GENERATE_EMBEDDING (\n",
    "    MODEL `{BQ_PROJECT}.{BQ_DATASET}.{BQ_MODEL}`,\n",
    "    (SELECT * FROM `{BQ_PROJECT}.{BQ_DATASET}.{BQ_TABLE}`)\n",
    ")\n",
    "'''\n",
    "job = bq.query(query)\n",
    "job.result()"
   ]
  },
  {
   "cell_type": "code",
   "execution_count": 64,
   "id": "0c891a8c-d8df-45dc-97dc-6cca7cdf96fb",
   "metadata": {
    "tags": []
   },
   "outputs": [
    {
     "data": {
      "text/html": [
       "<div>\n",
       "<style scoped>\n",
       "    .dataframe tbody tr th:only-of-type {\n",
       "        vertical-align: middle;\n",
       "    }\n",
       "\n",
       "    .dataframe tbody tr th {\n",
       "        vertical-align: top;\n",
       "    }\n",
       "\n",
       "    .dataframe thead th {\n",
       "        text-align: right;\n",
       "    }\n",
       "</style>\n",
       "<table border=\"1\" class=\"dataframe\">\n",
       "  <thead>\n",
       "    <tr style=\"text-align: right;\">\n",
       "      <th></th>\n",
       "      <th>Time</th>\n",
       "      <th>V1</th>\n",
       "      <th>V2</th>\n",
       "      <th>V3</th>\n",
       "      <th>V4</th>\n",
       "      <th>V5</th>\n",
       "      <th>V6</th>\n",
       "      <th>V7</th>\n",
       "      <th>V8</th>\n",
       "      <th>V9</th>\n",
       "      <th>...</th>\n",
       "      <th>V25</th>\n",
       "      <th>V26</th>\n",
       "      <th>V27</th>\n",
       "      <th>V28</th>\n",
       "      <th>Amount</th>\n",
       "      <th>Class</th>\n",
       "      <th>transaction_id</th>\n",
       "      <th>splits</th>\n",
       "      <th>embedding</th>\n",
       "      <th>embedding_normalized</th>\n",
       "    </tr>\n",
       "  </thead>\n",
       "  <tbody>\n",
       "    <tr>\n",
       "      <th>0</th>\n",
       "      <td>61698.0</td>\n",
       "      <td>-0.768682</td>\n",
       "      <td>0.593944</td>\n",
       "      <td>1.906717</td>\n",
       "      <td>0.547216</td>\n",
       "      <td>0.185228</td>\n",
       "      <td>0.738125</td>\n",
       "      <td>-0.060125</td>\n",
       "      <td>0.268806</td>\n",
       "      <td>0.343140</td>\n",
       "      <td>...</td>\n",
       "      <td>0.094026</td>\n",
       "      <td>-0.218763</td>\n",
       "      <td>-0.103316</td>\n",
       "      <td>0.044780</td>\n",
       "      <td>0.0</td>\n",
       "      <td>0</td>\n",
       "      <td>2c9c234d-5d02-442e-bfcd-117f434082c1</td>\n",
       "      <td>TEST</td>\n",
       "      <td>[2.4221367835998535, 3.1980233192443848, 1.964...</td>\n",
       "      <td>[0.29038063860808216, 0.38339868334997335, 0.2...</td>\n",
       "    </tr>\n",
       "    <tr>\n",
       "      <th>1</th>\n",
       "      <td>151415.0</td>\n",
       "      <td>-1.624698</td>\n",
       "      <td>0.611314</td>\n",
       "      <td>2.394833</td>\n",
       "      <td>4.597140</td>\n",
       "      <td>1.245290</td>\n",
       "      <td>0.557947</td>\n",
       "      <td>-0.494394</td>\n",
       "      <td>0.212051</td>\n",
       "      <td>-1.827552</td>\n",
       "      <td>...</td>\n",
       "      <td>-0.257313</td>\n",
       "      <td>0.022158</td>\n",
       "      <td>-0.120621</td>\n",
       "      <td>0.150415</td>\n",
       "      <td>0.0</td>\n",
       "      <td>0</td>\n",
       "      <td>b6356bca-8224-44c2-bdbe-8164376948f0</td>\n",
       "      <td>TEST</td>\n",
       "      <td>[3.86045241355896, 6.940500259399414, 5.306707...</td>\n",
       "      <td>[0.26914002293401107, 0.4838724063603171, 0.36...</td>\n",
       "    </tr>\n",
       "    <tr>\n",
       "      <th>2</th>\n",
       "      <td>136813.0</td>\n",
       "      <td>1.923606</td>\n",
       "      <td>1.593571</td>\n",
       "      <td>-2.816262</td>\n",
       "      <td>4.471087</td>\n",
       "      <td>1.583987</td>\n",
       "      <td>-1.230085</td>\n",
       "      <td>0.836307</td>\n",
       "      <td>-0.269320</td>\n",
       "      <td>-1.238581</td>\n",
       "      <td>...</td>\n",
       "      <td>0.192239</td>\n",
       "      <td>0.027997</td>\n",
       "      <td>-0.006823</td>\n",
       "      <td>0.036704</td>\n",
       "      <td>0.0</td>\n",
       "      <td>0</td>\n",
       "      <td>5c8d987d-ff08-4496-916a-777286e86fd4</td>\n",
       "      <td>TEST</td>\n",
       "      <td>[6.2652668952941895, 8.455583572387695, 8.5624...</td>\n",
       "      <td>[0.22088052507215444, 0.2980996293491149, 0.30...</td>\n",
       "    </tr>\n",
       "    <tr>\n",
       "      <th>3</th>\n",
       "      <td>46801.0</td>\n",
       "      <td>1.069709</td>\n",
       "      <td>0.019603</td>\n",
       "      <td>1.454666</td>\n",
       "      <td>2.871820</td>\n",
       "      <td>-0.711671</td>\n",
       "      <td>0.838489</td>\n",
       "      <td>-0.743570</td>\n",
       "      <td>0.391116</td>\n",
       "      <td>0.584745</td>\n",
       "      <td>...</td>\n",
       "      <td>0.515763</td>\n",
       "      <td>0.245495</td>\n",
       "      <td>0.059666</td>\n",
       "      <td>0.021725</td>\n",
       "      <td>0.0</td>\n",
       "      <td>0</td>\n",
       "      <td>c322691a-8b16-464b-a0f3-b948468b7d58</td>\n",
       "      <td>TEST</td>\n",
       "      <td>[4.502050399780273, 4.690890312194824, 3.86994...</td>\n",
       "      <td>[0.45989533621220974, 0.47918578996066463, 0.3...</td>\n",
       "    </tr>\n",
       "    <tr>\n",
       "      <th>4</th>\n",
       "      <td>2519.0</td>\n",
       "      <td>-0.707495</td>\n",
       "      <td>1.634484</td>\n",
       "      <td>1.909610</td>\n",
       "      <td>2.583810</td>\n",
       "      <td>0.606477</td>\n",
       "      <td>0.411204</td>\n",
       "      <td>0.905654</td>\n",
       "      <td>-0.630049</td>\n",
       "      <td>-1.006667</td>\n",
       "      <td>...</td>\n",
       "      <td>-0.652769</td>\n",
       "      <td>-0.011280</td>\n",
       "      <td>-0.973249</td>\n",
       "      <td>-0.282698</td>\n",
       "      <td>0.0</td>\n",
       "      <td>0</td>\n",
       "      <td>f64d004b-2a23-4c52-9386-a8f6213a9ab0</td>\n",
       "      <td>TEST</td>\n",
       "      <td>[2.4852662086486816, 5.80500602722168, 3.50516...</td>\n",
       "      <td>[0.2122472040373211, 0.49576029095391305, 0.29...</td>\n",
       "    </tr>\n",
       "  </tbody>\n",
       "</table>\n",
       "<p>5 rows × 35 columns</p>\n",
       "</div>"
      ],
      "text/plain": [
       "       Time        V1        V2        V3        V4        V5        V6  \\\n",
       "0   61698.0 -0.768682  0.593944  1.906717  0.547216  0.185228  0.738125   \n",
       "1  151415.0 -1.624698  0.611314  2.394833  4.597140  1.245290  0.557947   \n",
       "2  136813.0  1.923606  1.593571 -2.816262  4.471087  1.583987 -1.230085   \n",
       "3   46801.0  1.069709  0.019603  1.454666  2.871820 -0.711671  0.838489   \n",
       "4    2519.0 -0.707495  1.634484  1.909610  2.583810  0.606477  0.411204   \n",
       "\n",
       "         V7        V8        V9  ...       V25       V26       V27       V28  \\\n",
       "0 -0.060125  0.268806  0.343140  ...  0.094026 -0.218763 -0.103316  0.044780   \n",
       "1 -0.494394  0.212051 -1.827552  ... -0.257313  0.022158 -0.120621  0.150415   \n",
       "2  0.836307 -0.269320 -1.238581  ...  0.192239  0.027997 -0.006823  0.036704   \n",
       "3 -0.743570  0.391116  0.584745  ...  0.515763  0.245495  0.059666  0.021725   \n",
       "4  0.905654 -0.630049 -1.006667  ... -0.652769 -0.011280 -0.973249 -0.282698   \n",
       "\n",
       "   Amount  Class                        transaction_id  splits  \\\n",
       "0     0.0      0  2c9c234d-5d02-442e-bfcd-117f434082c1    TEST   \n",
       "1     0.0      0  b6356bca-8224-44c2-bdbe-8164376948f0    TEST   \n",
       "2     0.0      0  5c8d987d-ff08-4496-916a-777286e86fd4    TEST   \n",
       "3     0.0      0  c322691a-8b16-464b-a0f3-b948468b7d58    TEST   \n",
       "4     0.0      0  f64d004b-2a23-4c52-9386-a8f6213a9ab0    TEST   \n",
       "\n",
       "                                           embedding  \\\n",
       "0  [2.4221367835998535, 3.1980233192443848, 1.964...   \n",
       "1  [3.86045241355896, 6.940500259399414, 5.306707...   \n",
       "2  [6.2652668952941895, 8.455583572387695, 8.5624...   \n",
       "3  [4.502050399780273, 4.690890312194824, 3.86994...   \n",
       "4  [2.4852662086486816, 5.80500602722168, 3.50516...   \n",
       "\n",
       "                                embedding_normalized  \n",
       "0  [0.29038063860808216, 0.38339868334997335, 0.2...  \n",
       "1  [0.26914002293401107, 0.4838724063603171, 0.36...  \n",
       "2  [0.22088052507215444, 0.2980996293491149, 0.30...  \n",
       "3  [0.45989533621220974, 0.47918578996066463, 0.3...  \n",
       "4  [0.2122472040373211, 0.49576029095391305, 0.29...  \n",
       "\n",
       "[5 rows x 35 columns]"
      ]
     },
     "execution_count": 64,
     "metadata": {},
     "output_type": "execute_result"
    }
   ],
   "source": [
    "bq.query(f'SELECT * FROM `{BQ_PROJECT}.{BQ_DATASET}.{BQ_TABLE}_embeddings` LIMIT 5').to_dataframe()"
   ]
  },
  {
   "cell_type": "markdown",
   "id": "c76bbf0a-8da9-4b8e-99c1-eef131974cfb",
   "metadata": {},
   "source": [
    "### Get Matches With Vector Search (brute force) - No Vector Index\n",
    "\n",
    "The [VECTOR_SEARCH function](https://cloud.google.com/bigquery/docs/reference/standard-sql/search_functions#vector_search) function can be directly used to find matches without a [vector index](https://cloud.google.com/bigquery/docs/vector-index).  While vector indexes offer efficient ways of finding matches based on embeddings, the brute force approach of directly using `VECTOR_SEARCH` compares a query embedding to all embeddings in the table.\n",
    "\n",
    "The options for `VECTOR_SEARCH` are:\n",
    "- `base_table` is the table to search\n",
    "- `column_to_search` is the column of embeddings vector to match\n",
    "- `top_k` is the number of matches to return\n",
    "- `distance_type` is the distance measure to use from `EUCLIDEAN`, `DOT_PRODUCT`, and `COSINE`.\n",
    "    - Use `DOT_PRODUCT` here for these normalized embedding and read more about why in [The Math of Similarity](./The%20Math%20of%20Similarity.ipynb)"
   ]
  },
  {
   "cell_type": "code",
   "execution_count": 65,
   "id": "e47685bf-251e-47de-803b-fa668513aebd",
   "metadata": {
    "tags": []
   },
   "outputs": [
    {
     "data": {
      "text/html": [
       "<div>\n",
       "<style scoped>\n",
       "    .dataframe tbody tr th:only-of-type {\n",
       "        vertical-align: middle;\n",
       "    }\n",
       "\n",
       "    .dataframe tbody tr th {\n",
       "        vertical-align: top;\n",
       "    }\n",
       "\n",
       "    .dataframe thead th {\n",
       "        text-align: right;\n",
       "    }\n",
       "</style>\n",
       "<table border=\"1\" class=\"dataframe\">\n",
       "  <thead>\n",
       "    <tr style=\"text-align: right;\">\n",
       "      <th></th>\n",
       "      <th>transaction_id</th>\n",
       "      <th>match_transaction_id</th>\n",
       "      <th>distance</th>\n",
       "    </tr>\n",
       "  </thead>\n",
       "  <tbody>\n",
       "    <tr>\n",
       "      <th>0</th>\n",
       "      <td>2c9c234d-5d02-442e-bfcd-117f434082c1</td>\n",
       "      <td>2c9c234d-5d02-442e-bfcd-117f434082c1</td>\n",
       "      <td>-1.000000</td>\n",
       "    </tr>\n",
       "    <tr>\n",
       "      <th>1</th>\n",
       "      <td>2c9c234d-5d02-442e-bfcd-117f434082c1</td>\n",
       "      <td>9975c120-5108-4a2d-80fb-191522708dac</td>\n",
       "      <td>-0.999311</td>\n",
       "    </tr>\n",
       "    <tr>\n",
       "      <th>2</th>\n",
       "      <td>2c9c234d-5d02-442e-bfcd-117f434082c1</td>\n",
       "      <td>84eec6c7-d913-482d-9720-cf62795f5724</td>\n",
       "      <td>-0.998537</td>\n",
       "    </tr>\n",
       "    <tr>\n",
       "      <th>3</th>\n",
       "      <td>2c9c234d-5d02-442e-bfcd-117f434082c1</td>\n",
       "      <td>2f2cac8b-b202-45de-aa00-0170a1a26da4</td>\n",
       "      <td>-0.998111</td>\n",
       "    </tr>\n",
       "    <tr>\n",
       "      <th>4</th>\n",
       "      <td>2c9c234d-5d02-442e-bfcd-117f434082c1</td>\n",
       "      <td>aef1bc62-0e13-49b1-ad6f-ffabdfbdb9b3</td>\n",
       "      <td>-0.997749</td>\n",
       "    </tr>\n",
       "    <tr>\n",
       "      <th>5</th>\n",
       "      <td>2c9c234d-5d02-442e-bfcd-117f434082c1</td>\n",
       "      <td>46518583-ce2c-47a8-b979-5c1175bbc4d8</td>\n",
       "      <td>-0.997703</td>\n",
       "    </tr>\n",
       "    <tr>\n",
       "      <th>6</th>\n",
       "      <td>2c9c234d-5d02-442e-bfcd-117f434082c1</td>\n",
       "      <td>6e328df7-4eea-42f0-8f54-9b1858673168</td>\n",
       "      <td>-0.997698</td>\n",
       "    </tr>\n",
       "    <tr>\n",
       "      <th>7</th>\n",
       "      <td>2c9c234d-5d02-442e-bfcd-117f434082c1</td>\n",
       "      <td>cfd7229f-0ae1-4e17-b9df-7181e396bf64</td>\n",
       "      <td>-0.997634</td>\n",
       "    </tr>\n",
       "    <tr>\n",
       "      <th>8</th>\n",
       "      <td>2c9c234d-5d02-442e-bfcd-117f434082c1</td>\n",
       "      <td>05f0f5f9-653e-46b9-b865-9a7d9705655a</td>\n",
       "      <td>-0.997591</td>\n",
       "    </tr>\n",
       "    <tr>\n",
       "      <th>9</th>\n",
       "      <td>2c9c234d-5d02-442e-bfcd-117f434082c1</td>\n",
       "      <td>f514590b-93e9-42a4-9742-b081ac0678d4</td>\n",
       "      <td>-0.997564</td>\n",
       "    </tr>\n",
       "  </tbody>\n",
       "</table>\n",
       "</div>"
      ],
      "text/plain": [
       "                         transaction_id                  match_transaction_id  \\\n",
       "0  2c9c234d-5d02-442e-bfcd-117f434082c1  2c9c234d-5d02-442e-bfcd-117f434082c1   \n",
       "1  2c9c234d-5d02-442e-bfcd-117f434082c1  9975c120-5108-4a2d-80fb-191522708dac   \n",
       "2  2c9c234d-5d02-442e-bfcd-117f434082c1  84eec6c7-d913-482d-9720-cf62795f5724   \n",
       "3  2c9c234d-5d02-442e-bfcd-117f434082c1  2f2cac8b-b202-45de-aa00-0170a1a26da4   \n",
       "4  2c9c234d-5d02-442e-bfcd-117f434082c1  aef1bc62-0e13-49b1-ad6f-ffabdfbdb9b3   \n",
       "5  2c9c234d-5d02-442e-bfcd-117f434082c1  46518583-ce2c-47a8-b979-5c1175bbc4d8   \n",
       "6  2c9c234d-5d02-442e-bfcd-117f434082c1  6e328df7-4eea-42f0-8f54-9b1858673168   \n",
       "7  2c9c234d-5d02-442e-bfcd-117f434082c1  cfd7229f-0ae1-4e17-b9df-7181e396bf64   \n",
       "8  2c9c234d-5d02-442e-bfcd-117f434082c1  05f0f5f9-653e-46b9-b865-9a7d9705655a   \n",
       "9  2c9c234d-5d02-442e-bfcd-117f434082c1  f514590b-93e9-42a4-9742-b081ac0678d4   \n",
       "\n",
       "   distance  \n",
       "0 -1.000000  \n",
       "1 -0.999311  \n",
       "2 -0.998537  \n",
       "3 -0.998111  \n",
       "4 -0.997749  \n",
       "5 -0.997703  \n",
       "6 -0.997698  \n",
       "7 -0.997634  \n",
       "8 -0.997591  \n",
       "9 -0.997564  "
      ]
     },
     "execution_count": 65,
     "metadata": {},
     "output_type": "execute_result"
    }
   ],
   "source": [
    "query = f'''\n",
    "SELECT\n",
    "    query.transaction_id AS transaction_id,\n",
    "    base.transaction_id AS match_transaction_id,\n",
    "    distance\n",
    "FROM\n",
    "    VECTOR_SEARCH(\n",
    "        TABLE `{BQ_PROJECT}.{BQ_DATASET}.{BQ_TABLE}_embeddings`,\n",
    "        'embedding_normalized',\n",
    "        (SELECT * FROM `{BQ_PROJECT}.{BQ_DATASET}.{BQ_TABLE}_embeddings` WHERE splits = 'TEST' LIMIT 1),\n",
    "        'embedding_normalized',\n",
    "        top_k => 10,\n",
    "        distance_type => 'DOT_PRODUCT'\n",
    "        #,options => '{{\"use_brute_force\":true}}'\n",
    "    )\n",
    "ORDER BY distance\n",
    "'''\n",
    "bq.query(query).to_dataframe()"
   ]
  },
  {
   "cell_type": "markdown",
   "id": "35d8a95b-9e7c-4cb3-866a-12272e7ee378",
   "metadata": {
    "tags": []
   },
   "source": [
    "### Create A Vector Index\n",
    "\n",
    "To efficiently do a vector search it can be helpful to [create a vector index](https://cloud.google.com/bigquery/docs/vector-index) for the embeddings column.  \n",
    " - This is not required though as a [brute force search](https://cloud.google.com/bigquery/docs/vector-search#use_the_vector_search_function_with_brute_force) is possible as shown in the previous section.  An Index can also be ignored and force brute force search as will be shown later in this workflow.\n",
    "\n",
    "There are two types of vector indexes that can be chosen in BigQuery:\n",
    "- IVF Index: `index_type = \"IVF\"`\n",
    "    - use k-means to cluser the embeddings vectors and then uses the clusters as partions\n",
    "    - k can be specifed with the NUM_LISTS option as any INT64 <= 5000\n",
    "    - updates are handled automatically\n",
    "- TreeAH Index `index_type = \"TREE_AH\"`\n",
    "    - uses the [ScaNN algorithm](https://github.com/google-research/google-research/blob/master/scann/docs/algorithms.md) developed by Google\n",
    "    - the number of partitions/clusters is trained based on the `leaf_node_embedding_count` option\n",
    "        - each leaf node will contain up to the value of the parameter which defaults to 1000 and can be any INT64 >= 500\n",
    "    \n",
    "Options for both index types:\n",
    "- Set the default `DISTANCE_TYPE` as `EUCLIDEAN`, `DOT_PRODUCT` or `COSINE`.\n",
    "    - Use `DOT_PRODUCT` here for these normalized embeddings and read more about why in [The Math of Similarity](./The%20Math%20of%20Similarity.ipynb)\n",
    "    - This option can be preempted with an alternative choice when using the VECTOR_SEARCH function\n",
    "- `NORMALIZATION_TYPE` can be chosen to normalize the vectors for you.\n",
    "    - In this case the embedding are already normalized in the `embedding_normalized` column\n",
    "    - The default is `NONE` but can set to `L2` which is what we used above with the `ML.NORMALIZER` function\n",
    "    \n",
    "Read about the [CREATE VECTOR INDEX](https://cloud.google.com/bigquery/docs/reference/standard-sql/data-definition-language#create_vector_index_statement) DDL statement."
   ]
  },
  {
   "cell_type": "code",
   "execution_count": 67,
   "id": "d1bdf9ef-65fe-471e-9108-4847695945d5",
   "metadata": {
    "tags": []
   },
   "outputs": [
    {
     "data": {
      "text/plain": [
       "<google.cloud.bigquery.table._EmptyRowIterator at 0x7f1045c8a020>"
      ]
     },
     "execution_count": 67,
     "metadata": {},
     "output_type": "execute_result"
    }
   ],
   "source": [
    "query = f'''\n",
    "CREATE VECTOR INDEX row_index ON `{BQ_PROJECT}.{BQ_DATASET}.{BQ_TABLE}_embeddings`(embedding_normalized)\n",
    "OPTIONS(\n",
    "    index_type = 'TREE_AH',\n",
    "    tree_ah_options = '{{\"leaf_node_embedding_count\":500}}',\n",
    "    distance_type = 'DOT_PRODUCT'\n",
    ")\n",
    "'''\n",
    "job = bq.query(query)\n",
    "job.result()"
   ]
  },
  {
   "cell_type": "markdown",
   "id": "83e190da-7076-4164-94c4-b57ac45b36f4",
   "metadata": {},
   "source": [
    "### Check The Vector Index Status\n",
    "\n",
    "\n",
    "[Get information about vector indexes](https://cloud.google.com/bigquery/docs/vector-index#get_information_about_vector_indexes)"
   ]
  },
  {
   "cell_type": "code",
   "execution_count": 68,
   "id": "878407a8-97e5-4b86-a24a-444fd287d38e",
   "metadata": {
    "tags": []
   },
   "outputs": [
    {
     "data": {
      "text/html": [
       "<div>\n",
       "<style scoped>\n",
       "    .dataframe tbody tr th:only-of-type {\n",
       "        vertical-align: middle;\n",
       "    }\n",
       "\n",
       "    .dataframe tbody tr th {\n",
       "        vertical-align: top;\n",
       "    }\n",
       "\n",
       "    .dataframe thead th {\n",
       "        text-align: right;\n",
       "    }\n",
       "</style>\n",
       "<table border=\"1\" class=\"dataframe\">\n",
       "  <thead>\n",
       "    <tr style=\"text-align: right;\">\n",
       "      <th></th>\n",
       "      <th>index_catalog</th>\n",
       "      <th>index_schema</th>\n",
       "      <th>table_name</th>\n",
       "      <th>index_name</th>\n",
       "      <th>index_status</th>\n",
       "      <th>creation_time</th>\n",
       "      <th>last_modification_time</th>\n",
       "      <th>last_refresh_time</th>\n",
       "      <th>disable_time</th>\n",
       "      <th>disable_reason</th>\n",
       "      <th>ddl</th>\n",
       "      <th>coverage_percentage</th>\n",
       "      <th>unindexed_row_count</th>\n",
       "      <th>total_logical_bytes</th>\n",
       "      <th>total_storage_bytes</th>\n",
       "    </tr>\n",
       "  </thead>\n",
       "  <tbody>\n",
       "    <tr>\n",
       "      <th>0</th>\n",
       "      <td>statmike-mlops-349915</td>\n",
       "      <td>applied_genai_embeddings</td>\n",
       "      <td>bqml-autoencoder_embeddings</td>\n",
       "      <td>row_index</td>\n",
       "      <td>ACTIVE</td>\n",
       "      <td>2024-09-16 18:58:21.032000+00:00</td>\n",
       "      <td>2024-09-16 18:58:21.032000+00:00</td>\n",
       "      <td>NaT</td>\n",
       "      <td>NaT</td>\n",
       "      <td>None</td>\n",
       "      <td>CREATE VECTOR INDEX `row_index` ON `statmike-m...</td>\n",
       "      <td>0</td>\n",
       "      <td>284807</td>\n",
       "      <td>0</td>\n",
       "      <td>0</td>\n",
       "    </tr>\n",
       "  </tbody>\n",
       "</table>\n",
       "</div>"
      ],
      "text/plain": [
       "           index_catalog              index_schema  \\\n",
       "0  statmike-mlops-349915  applied_genai_embeddings   \n",
       "\n",
       "                    table_name index_name index_status  \\\n",
       "0  bqml-autoencoder_embeddings  row_index       ACTIVE   \n",
       "\n",
       "                     creation_time           last_modification_time  \\\n",
       "0 2024-09-16 18:58:21.032000+00:00 2024-09-16 18:58:21.032000+00:00   \n",
       "\n",
       "  last_refresh_time disable_time disable_reason  \\\n",
       "0               NaT          NaT           None   \n",
       "\n",
       "                                                 ddl  coverage_percentage  \\\n",
       "0  CREATE VECTOR INDEX `row_index` ON `statmike-m...                    0   \n",
       "\n",
       "   unindexed_row_count  total_logical_bytes  total_storage_bytes  \n",
       "0               284807                    0                    0  "
      ]
     },
     "execution_count": 68,
     "metadata": {},
     "output_type": "execute_result"
    }
   ],
   "source": [
    "query = f'''\n",
    "SELECT *\n",
    "FROM `{BQ_PROJECT}.{BQ_DATASET}.INFORMATION_SCHEMA.VECTOR_INDEXES`\n",
    "WHERE index_status = 'ACTIVE'\n",
    "    AND table_name = '{BQ_TABLE}_embeddings'\n",
    "'''\n",
    "bq.query(query).to_dataframe()"
   ]
  },
  {
   "cell_type": "markdown",
   "id": "944ea8f4-b1ce-498f-9bb1-49d67df27074",
   "metadata": {},
   "source": [
    "### Get Matches With Vector Search Index: Using Index"
   ]
  },
  {
   "cell_type": "code",
   "execution_count": 89,
   "id": "1ec7ee9c-b0c5-4caf-a2fe-c98b4ab6bf2d",
   "metadata": {
    "tags": []
   },
   "outputs": [
    {
     "data": {
      "text/html": [
       "<div>\n",
       "<style scoped>\n",
       "    .dataframe tbody tr th:only-of-type {\n",
       "        vertical-align: middle;\n",
       "    }\n",
       "\n",
       "    .dataframe tbody tr th {\n",
       "        vertical-align: top;\n",
       "    }\n",
       "\n",
       "    .dataframe thead th {\n",
       "        text-align: right;\n",
       "    }\n",
       "</style>\n",
       "<table border=\"1\" class=\"dataframe\">\n",
       "  <thead>\n",
       "    <tr style=\"text-align: right;\">\n",
       "      <th></th>\n",
       "      <th>transaction_id</th>\n",
       "      <th>match_transaction_id</th>\n",
       "      <th>distance</th>\n",
       "    </tr>\n",
       "  </thead>\n",
       "  <tbody>\n",
       "    <tr>\n",
       "      <th>0</th>\n",
       "      <td>2c9c234d-5d02-442e-bfcd-117f434082c1</td>\n",
       "      <td>2c9c234d-5d02-442e-bfcd-117f434082c1</td>\n",
       "      <td>-1.000000</td>\n",
       "    </tr>\n",
       "    <tr>\n",
       "      <th>1</th>\n",
       "      <td>2c9c234d-5d02-442e-bfcd-117f434082c1</td>\n",
       "      <td>9975c120-5108-4a2d-80fb-191522708dac</td>\n",
       "      <td>-0.999311</td>\n",
       "    </tr>\n",
       "    <tr>\n",
       "      <th>2</th>\n",
       "      <td>2c9c234d-5d02-442e-bfcd-117f434082c1</td>\n",
       "      <td>84eec6c7-d913-482d-9720-cf62795f5724</td>\n",
       "      <td>-0.998537</td>\n",
       "    </tr>\n",
       "    <tr>\n",
       "      <th>3</th>\n",
       "      <td>2c9c234d-5d02-442e-bfcd-117f434082c1</td>\n",
       "      <td>2f2cac8b-b202-45de-aa00-0170a1a26da4</td>\n",
       "      <td>-0.998111</td>\n",
       "    </tr>\n",
       "    <tr>\n",
       "      <th>4</th>\n",
       "      <td>2c9c234d-5d02-442e-bfcd-117f434082c1</td>\n",
       "      <td>aef1bc62-0e13-49b1-ad6f-ffabdfbdb9b3</td>\n",
       "      <td>-0.997749</td>\n",
       "    </tr>\n",
       "    <tr>\n",
       "      <th>5</th>\n",
       "      <td>2c9c234d-5d02-442e-bfcd-117f434082c1</td>\n",
       "      <td>46518583-ce2c-47a8-b979-5c1175bbc4d8</td>\n",
       "      <td>-0.997703</td>\n",
       "    </tr>\n",
       "    <tr>\n",
       "      <th>6</th>\n",
       "      <td>2c9c234d-5d02-442e-bfcd-117f434082c1</td>\n",
       "      <td>6e328df7-4eea-42f0-8f54-9b1858673168</td>\n",
       "      <td>-0.997698</td>\n",
       "    </tr>\n",
       "    <tr>\n",
       "      <th>7</th>\n",
       "      <td>2c9c234d-5d02-442e-bfcd-117f434082c1</td>\n",
       "      <td>cfd7229f-0ae1-4e17-b9df-7181e396bf64</td>\n",
       "      <td>-0.997634</td>\n",
       "    </tr>\n",
       "    <tr>\n",
       "      <th>8</th>\n",
       "      <td>2c9c234d-5d02-442e-bfcd-117f434082c1</td>\n",
       "      <td>05f0f5f9-653e-46b9-b865-9a7d9705655a</td>\n",
       "      <td>-0.997591</td>\n",
       "    </tr>\n",
       "    <tr>\n",
       "      <th>9</th>\n",
       "      <td>2c9c234d-5d02-442e-bfcd-117f434082c1</td>\n",
       "      <td>f514590b-93e9-42a4-9742-b081ac0678d4</td>\n",
       "      <td>-0.997564</td>\n",
       "    </tr>\n",
       "  </tbody>\n",
       "</table>\n",
       "</div>"
      ],
      "text/plain": [
       "                         transaction_id                  match_transaction_id  \\\n",
       "0  2c9c234d-5d02-442e-bfcd-117f434082c1  2c9c234d-5d02-442e-bfcd-117f434082c1   \n",
       "1  2c9c234d-5d02-442e-bfcd-117f434082c1  9975c120-5108-4a2d-80fb-191522708dac   \n",
       "2  2c9c234d-5d02-442e-bfcd-117f434082c1  84eec6c7-d913-482d-9720-cf62795f5724   \n",
       "3  2c9c234d-5d02-442e-bfcd-117f434082c1  2f2cac8b-b202-45de-aa00-0170a1a26da4   \n",
       "4  2c9c234d-5d02-442e-bfcd-117f434082c1  aef1bc62-0e13-49b1-ad6f-ffabdfbdb9b3   \n",
       "5  2c9c234d-5d02-442e-bfcd-117f434082c1  46518583-ce2c-47a8-b979-5c1175bbc4d8   \n",
       "6  2c9c234d-5d02-442e-bfcd-117f434082c1  6e328df7-4eea-42f0-8f54-9b1858673168   \n",
       "7  2c9c234d-5d02-442e-bfcd-117f434082c1  cfd7229f-0ae1-4e17-b9df-7181e396bf64   \n",
       "8  2c9c234d-5d02-442e-bfcd-117f434082c1  05f0f5f9-653e-46b9-b865-9a7d9705655a   \n",
       "9  2c9c234d-5d02-442e-bfcd-117f434082c1  f514590b-93e9-42a4-9742-b081ac0678d4   \n",
       "\n",
       "   distance  \n",
       "0 -1.000000  \n",
       "1 -0.999311  \n",
       "2 -0.998537  \n",
       "3 -0.998111  \n",
       "4 -0.997749  \n",
       "5 -0.997703  \n",
       "6 -0.997698  \n",
       "7 -0.997634  \n",
       "8 -0.997591  \n",
       "9 -0.997564  "
      ]
     },
     "execution_count": 89,
     "metadata": {},
     "output_type": "execute_result"
    }
   ],
   "source": [
    "query = f'''\n",
    "SELECT\n",
    "    query.transaction_id AS transaction_id,\n",
    "    base.transaction_id AS match_transaction_id,\n",
    "    distance\n",
    "FROM\n",
    "    VECTOR_SEARCH(\n",
    "        TABLE `{BQ_PROJECT}.{BQ_DATASET}.{BQ_TABLE}_embeddings`,\n",
    "        'embedding_normalized',\n",
    "        (SELECT * FROM `{BQ_PROJECT}.{BQ_DATASET}.{BQ_TABLE}_embeddings` WHERE splits = 'TEST' LIMIT 1),\n",
    "        'embedding_normalized',\n",
    "        top_k => 10\n",
    "        #,options => '{{\"fraction_lists_to_search\": 0.03}}'\n",
    "    )\n",
    "ORDER BY distance\n",
    "'''\n",
    "job = bq.query(query, job_config = bigquery.QueryJobConfig(use_query_cache=False))\n",
    "job.result()\n",
    "job.to_dataframe()"
   ]
  },
  {
   "cell_type": "markdown",
   "id": "6f6bc14a-5b59-461f-817c-0ae721787826",
   "metadata": {},
   "source": [
    "Check to see if the index was used with [vector index usage information](https://cloud.google.com/bigquery/docs/vector-index#vector_index_usage)"
   ]
  },
  {
   "cell_type": "code",
   "execution_count": 90,
   "id": "e9cfc2cb-f82a-4e62-963f-1e03d49c090c",
   "metadata": {
    "tags": []
   },
   "outputs": [
    {
     "data": {
      "text/plain": [
       "{'indexUsageMode': 'PARTIALLY_USED',\n",
       " 'indexUnusedReasons': [{'code': 'ESTIMATED_PERFORMANCE_GAIN_TOO_LOW',\n",
       "   'message': 'The number of queries is too low for the vector index on the base table `statmike-mlops-349915.applied_genai_embeddings.bqml-autoencoder_embeddings` to be effective.',\n",
       "   'baseTable': {'projectId': 'statmike-mlops-349915',\n",
       "    'datasetId': 'applied_genai_embeddings',\n",
       "    'tableId': 'bqml-autoencoder_embeddings'}}]}"
      ]
     },
     "execution_count": 90,
     "metadata": {},
     "output_type": "execute_result"
    }
   ],
   "source": [
    "job._properties['statistics']['query']['vectorSearchStatistics']"
   ]
  },
  {
   "cell_type": "markdown",
   "id": "8f820324-b6f6-49eb-85c8-297176018624",
   "metadata": {},
   "source": [
    "### Get Matches With Vector Search Index: Using Index And Specify Fraction of Lists\n",
    "\n",
    "When setting up the index we specified `leaf_node_embedding_count = 500` which led to a number of list being created.  We can guide the vector search to use a larger/smaller portion of these list by seting the option for `fraction_list_to_search`. See [VECTOR_SEARCH function details](https://cloud.google.com/bigquery/docs/reference/standard-sql/search_functions#vector_search)."
   ]
  },
  {
   "cell_type": "code",
   "execution_count": 95,
   "id": "6f3b8bcf-48cc-4d2a-ae57-20fd5e9e9356",
   "metadata": {
    "tags": []
   },
   "outputs": [
    {
     "data": {
      "text/html": [
       "<div>\n",
       "<style scoped>\n",
       "    .dataframe tbody tr th:only-of-type {\n",
       "        vertical-align: middle;\n",
       "    }\n",
       "\n",
       "    .dataframe tbody tr th {\n",
       "        vertical-align: top;\n",
       "    }\n",
       "\n",
       "    .dataframe thead th {\n",
       "        text-align: right;\n",
       "    }\n",
       "</style>\n",
       "<table border=\"1\" class=\"dataframe\">\n",
       "  <thead>\n",
       "    <tr style=\"text-align: right;\">\n",
       "      <th></th>\n",
       "      <th>transaction_id</th>\n",
       "      <th>match_transaction_id</th>\n",
       "      <th>distance</th>\n",
       "    </tr>\n",
       "  </thead>\n",
       "  <tbody>\n",
       "    <tr>\n",
       "      <th>0</th>\n",
       "      <td>2c9c234d-5d02-442e-bfcd-117f434082c1</td>\n",
       "      <td>2c9c234d-5d02-442e-bfcd-117f434082c1</td>\n",
       "      <td>-1.000000</td>\n",
       "    </tr>\n",
       "    <tr>\n",
       "      <th>1</th>\n",
       "      <td>2c9c234d-5d02-442e-bfcd-117f434082c1</td>\n",
       "      <td>9975c120-5108-4a2d-80fb-191522708dac</td>\n",
       "      <td>-0.999311</td>\n",
       "    </tr>\n",
       "    <tr>\n",
       "      <th>2</th>\n",
       "      <td>2c9c234d-5d02-442e-bfcd-117f434082c1</td>\n",
       "      <td>84eec6c7-d913-482d-9720-cf62795f5724</td>\n",
       "      <td>-0.998537</td>\n",
       "    </tr>\n",
       "    <tr>\n",
       "      <th>3</th>\n",
       "      <td>2c9c234d-5d02-442e-bfcd-117f434082c1</td>\n",
       "      <td>2f2cac8b-b202-45de-aa00-0170a1a26da4</td>\n",
       "      <td>-0.998111</td>\n",
       "    </tr>\n",
       "    <tr>\n",
       "      <th>4</th>\n",
       "      <td>2c9c234d-5d02-442e-bfcd-117f434082c1</td>\n",
       "      <td>aef1bc62-0e13-49b1-ad6f-ffabdfbdb9b3</td>\n",
       "      <td>-0.997749</td>\n",
       "    </tr>\n",
       "    <tr>\n",
       "      <th>5</th>\n",
       "      <td>2c9c234d-5d02-442e-bfcd-117f434082c1</td>\n",
       "      <td>46518583-ce2c-47a8-b979-5c1175bbc4d8</td>\n",
       "      <td>-0.997703</td>\n",
       "    </tr>\n",
       "    <tr>\n",
       "      <th>6</th>\n",
       "      <td>2c9c234d-5d02-442e-bfcd-117f434082c1</td>\n",
       "      <td>6e328df7-4eea-42f0-8f54-9b1858673168</td>\n",
       "      <td>-0.997698</td>\n",
       "    </tr>\n",
       "    <tr>\n",
       "      <th>7</th>\n",
       "      <td>2c9c234d-5d02-442e-bfcd-117f434082c1</td>\n",
       "      <td>cfd7229f-0ae1-4e17-b9df-7181e396bf64</td>\n",
       "      <td>-0.997634</td>\n",
       "    </tr>\n",
       "    <tr>\n",
       "      <th>8</th>\n",
       "      <td>2c9c234d-5d02-442e-bfcd-117f434082c1</td>\n",
       "      <td>05f0f5f9-653e-46b9-b865-9a7d9705655a</td>\n",
       "      <td>-0.997591</td>\n",
       "    </tr>\n",
       "    <tr>\n",
       "      <th>9</th>\n",
       "      <td>2c9c234d-5d02-442e-bfcd-117f434082c1</td>\n",
       "      <td>f514590b-93e9-42a4-9742-b081ac0678d4</td>\n",
       "      <td>-0.997564</td>\n",
       "    </tr>\n",
       "  </tbody>\n",
       "</table>\n",
       "</div>"
      ],
      "text/plain": [
       "                         transaction_id                  match_transaction_id  \\\n",
       "0  2c9c234d-5d02-442e-bfcd-117f434082c1  2c9c234d-5d02-442e-bfcd-117f434082c1   \n",
       "1  2c9c234d-5d02-442e-bfcd-117f434082c1  9975c120-5108-4a2d-80fb-191522708dac   \n",
       "2  2c9c234d-5d02-442e-bfcd-117f434082c1  84eec6c7-d913-482d-9720-cf62795f5724   \n",
       "3  2c9c234d-5d02-442e-bfcd-117f434082c1  2f2cac8b-b202-45de-aa00-0170a1a26da4   \n",
       "4  2c9c234d-5d02-442e-bfcd-117f434082c1  aef1bc62-0e13-49b1-ad6f-ffabdfbdb9b3   \n",
       "5  2c9c234d-5d02-442e-bfcd-117f434082c1  46518583-ce2c-47a8-b979-5c1175bbc4d8   \n",
       "6  2c9c234d-5d02-442e-bfcd-117f434082c1  6e328df7-4eea-42f0-8f54-9b1858673168   \n",
       "7  2c9c234d-5d02-442e-bfcd-117f434082c1  cfd7229f-0ae1-4e17-b9df-7181e396bf64   \n",
       "8  2c9c234d-5d02-442e-bfcd-117f434082c1  05f0f5f9-653e-46b9-b865-9a7d9705655a   \n",
       "9  2c9c234d-5d02-442e-bfcd-117f434082c1  f514590b-93e9-42a4-9742-b081ac0678d4   \n",
       "\n",
       "   distance  \n",
       "0 -1.000000  \n",
       "1 -0.999311  \n",
       "2 -0.998537  \n",
       "3 -0.998111  \n",
       "4 -0.997749  \n",
       "5 -0.997703  \n",
       "6 -0.997698  \n",
       "7 -0.997634  \n",
       "8 -0.997591  \n",
       "9 -0.997564  "
      ]
     },
     "execution_count": 95,
     "metadata": {},
     "output_type": "execute_result"
    }
   ],
   "source": [
    "query = f'''\n",
    "SELECT\n",
    "    query.transaction_id AS transaction_id,\n",
    "    base.transaction_id AS match_transaction_id,\n",
    "    distance\n",
    "FROM\n",
    "    VECTOR_SEARCH(\n",
    "        TABLE `{BQ_PROJECT}.{BQ_DATASET}.{BQ_TABLE}_embeddings`,\n",
    "        'embedding_normalized',\n",
    "        (SELECT * FROM `{BQ_PROJECT}.{BQ_DATASET}.{BQ_TABLE}_embeddings` WHERE splits = 'TEST' LIMIT 1),\n",
    "        'embedding_normalized',\n",
    "        top_k => 10,\n",
    "        options => '{{\"fraction_lists_to_search\": 0.25}}'\n",
    "    )\n",
    "ORDER BY distance\n",
    "'''\n",
    "job = bq.query(query, job_config = bigquery.QueryJobConfig(use_query_cache=False))\n",
    "job.result()\n",
    "job.to_dataframe()"
   ]
  },
  {
   "cell_type": "markdown",
   "id": "5f5592d3-5a8b-47dc-b950-feee02db5a36",
   "metadata": {},
   "source": [
    "Check to see if the index was used with [vector index usage information](https://cloud.google.com/bigquery/docs/vector-index#vector_index_usage)"
   ]
  },
  {
   "cell_type": "code",
   "execution_count": 96,
   "id": "ec48a7ca-7d22-4dfe-8a9b-edfb92840639",
   "metadata": {
    "tags": []
   },
   "outputs": [
    {
     "data": {
      "text/plain": [
       "{'indexUsageMode': 'PARTIALLY_USED',\n",
       " 'indexUnusedReasons': [{'code': 'ESTIMATED_PERFORMANCE_GAIN_TOO_LOW',\n",
       "   'message': 'The number of queries is too low for the vector index on the base table `statmike-mlops-349915.applied_genai_embeddings.bqml-autoencoder_embeddings` to be effective.',\n",
       "   'baseTable': {'projectId': 'statmike-mlops-349915',\n",
       "    'datasetId': 'applied_genai_embeddings',\n",
       "    'tableId': 'bqml-autoencoder_embeddings'}}]}"
      ]
     },
     "execution_count": 96,
     "metadata": {},
     "output_type": "execute_result"
    }
   ],
   "source": [
    "job._properties['statistics']['query']['vectorSearchStatistics']"
   ]
  },
  {
   "cell_type": "markdown",
   "id": "bfe73996-32db-4c9f-bb4d-29c73325cab1",
   "metadata": {},
   "source": [
    "### Get Matches With Vector Search Index: Force Brute Force\n",
    "\n",
    "Rather than using the index, find the exact nearest neighbor by searching all of the embeddings with options value `use_brute_force` set to `true`:"
   ]
  },
  {
   "cell_type": "code",
   "execution_count": 97,
   "id": "5f2a0927-c89b-4038-a009-c9c47dd72755",
   "metadata": {
    "tags": []
   },
   "outputs": [
    {
     "data": {
      "text/html": [
       "<div>\n",
       "<style scoped>\n",
       "    .dataframe tbody tr th:only-of-type {\n",
       "        vertical-align: middle;\n",
       "    }\n",
       "\n",
       "    .dataframe tbody tr th {\n",
       "        vertical-align: top;\n",
       "    }\n",
       "\n",
       "    .dataframe thead th {\n",
       "        text-align: right;\n",
       "    }\n",
       "</style>\n",
       "<table border=\"1\" class=\"dataframe\">\n",
       "  <thead>\n",
       "    <tr style=\"text-align: right;\">\n",
       "      <th></th>\n",
       "      <th>transaction_id</th>\n",
       "      <th>match_transaction_id</th>\n",
       "      <th>distance</th>\n",
       "    </tr>\n",
       "  </thead>\n",
       "  <tbody>\n",
       "    <tr>\n",
       "      <th>0</th>\n",
       "      <td>2c9c234d-5d02-442e-bfcd-117f434082c1</td>\n",
       "      <td>2c9c234d-5d02-442e-bfcd-117f434082c1</td>\n",
       "      <td>-1.000000</td>\n",
       "    </tr>\n",
       "    <tr>\n",
       "      <th>1</th>\n",
       "      <td>2c9c234d-5d02-442e-bfcd-117f434082c1</td>\n",
       "      <td>9975c120-5108-4a2d-80fb-191522708dac</td>\n",
       "      <td>-0.999311</td>\n",
       "    </tr>\n",
       "    <tr>\n",
       "      <th>2</th>\n",
       "      <td>2c9c234d-5d02-442e-bfcd-117f434082c1</td>\n",
       "      <td>84eec6c7-d913-482d-9720-cf62795f5724</td>\n",
       "      <td>-0.998537</td>\n",
       "    </tr>\n",
       "    <tr>\n",
       "      <th>3</th>\n",
       "      <td>2c9c234d-5d02-442e-bfcd-117f434082c1</td>\n",
       "      <td>2f2cac8b-b202-45de-aa00-0170a1a26da4</td>\n",
       "      <td>-0.998111</td>\n",
       "    </tr>\n",
       "    <tr>\n",
       "      <th>4</th>\n",
       "      <td>2c9c234d-5d02-442e-bfcd-117f434082c1</td>\n",
       "      <td>aef1bc62-0e13-49b1-ad6f-ffabdfbdb9b3</td>\n",
       "      <td>-0.997749</td>\n",
       "    </tr>\n",
       "    <tr>\n",
       "      <th>5</th>\n",
       "      <td>2c9c234d-5d02-442e-bfcd-117f434082c1</td>\n",
       "      <td>46518583-ce2c-47a8-b979-5c1175bbc4d8</td>\n",
       "      <td>-0.997703</td>\n",
       "    </tr>\n",
       "    <tr>\n",
       "      <th>6</th>\n",
       "      <td>2c9c234d-5d02-442e-bfcd-117f434082c1</td>\n",
       "      <td>6e328df7-4eea-42f0-8f54-9b1858673168</td>\n",
       "      <td>-0.997698</td>\n",
       "    </tr>\n",
       "    <tr>\n",
       "      <th>7</th>\n",
       "      <td>2c9c234d-5d02-442e-bfcd-117f434082c1</td>\n",
       "      <td>cfd7229f-0ae1-4e17-b9df-7181e396bf64</td>\n",
       "      <td>-0.997634</td>\n",
       "    </tr>\n",
       "    <tr>\n",
       "      <th>8</th>\n",
       "      <td>2c9c234d-5d02-442e-bfcd-117f434082c1</td>\n",
       "      <td>05f0f5f9-653e-46b9-b865-9a7d9705655a</td>\n",
       "      <td>-0.997591</td>\n",
       "    </tr>\n",
       "    <tr>\n",
       "      <th>9</th>\n",
       "      <td>2c9c234d-5d02-442e-bfcd-117f434082c1</td>\n",
       "      <td>f514590b-93e9-42a4-9742-b081ac0678d4</td>\n",
       "      <td>-0.997564</td>\n",
       "    </tr>\n",
       "  </tbody>\n",
       "</table>\n",
       "</div>"
      ],
      "text/plain": [
       "                         transaction_id                  match_transaction_id  \\\n",
       "0  2c9c234d-5d02-442e-bfcd-117f434082c1  2c9c234d-5d02-442e-bfcd-117f434082c1   \n",
       "1  2c9c234d-5d02-442e-bfcd-117f434082c1  9975c120-5108-4a2d-80fb-191522708dac   \n",
       "2  2c9c234d-5d02-442e-bfcd-117f434082c1  84eec6c7-d913-482d-9720-cf62795f5724   \n",
       "3  2c9c234d-5d02-442e-bfcd-117f434082c1  2f2cac8b-b202-45de-aa00-0170a1a26da4   \n",
       "4  2c9c234d-5d02-442e-bfcd-117f434082c1  aef1bc62-0e13-49b1-ad6f-ffabdfbdb9b3   \n",
       "5  2c9c234d-5d02-442e-bfcd-117f434082c1  46518583-ce2c-47a8-b979-5c1175bbc4d8   \n",
       "6  2c9c234d-5d02-442e-bfcd-117f434082c1  6e328df7-4eea-42f0-8f54-9b1858673168   \n",
       "7  2c9c234d-5d02-442e-bfcd-117f434082c1  cfd7229f-0ae1-4e17-b9df-7181e396bf64   \n",
       "8  2c9c234d-5d02-442e-bfcd-117f434082c1  05f0f5f9-653e-46b9-b865-9a7d9705655a   \n",
       "9  2c9c234d-5d02-442e-bfcd-117f434082c1  f514590b-93e9-42a4-9742-b081ac0678d4   \n",
       "\n",
       "   distance  \n",
       "0 -1.000000  \n",
       "1 -0.999311  \n",
       "2 -0.998537  \n",
       "3 -0.998111  \n",
       "4 -0.997749  \n",
       "5 -0.997703  \n",
       "6 -0.997698  \n",
       "7 -0.997634  \n",
       "8 -0.997591  \n",
       "9 -0.997564  "
      ]
     },
     "execution_count": 97,
     "metadata": {},
     "output_type": "execute_result"
    }
   ],
   "source": [
    "query = f'''\n",
    "SELECT\n",
    "    query.transaction_id AS transaction_id,\n",
    "    base.transaction_id AS match_transaction_id,\n",
    "    distance\n",
    "FROM\n",
    "    VECTOR_SEARCH(\n",
    "        TABLE `{BQ_PROJECT}.{BQ_DATASET}.{BQ_TABLE}_embeddings`,\n",
    "        'embedding_normalized',\n",
    "        (SELECT * FROM `{BQ_PROJECT}.{BQ_DATASET}.{BQ_TABLE}_embeddings` WHERE splits = 'TEST' LIMIT 1),\n",
    "        'embedding_normalized',\n",
    "        top_k => 10,\n",
    "        options => '{{\"use_brute_force\":true}}'\n",
    "    )\n",
    "ORDER BY distance\n",
    "'''\n",
    "job = bq.query(query, job_config = bigquery.QueryJobConfig(use_query_cache=False))\n",
    "job.result()\n",
    "job.to_dataframe()"
   ]
  },
  {
   "cell_type": "code",
   "execution_count": 98,
   "id": "c67f2c62-db75-4c8b-8596-1f6b4013d7e4",
   "metadata": {
    "tags": []
   },
   "outputs": [
    {
     "data": {
      "text/plain": [
       "{'indexUsageMode': 'UNUSED',\n",
       " 'indexUnusedReasons': [{'code': 'INDEX_SUPPRESSED_BY_FUNCTION_OPTION',\n",
       "   'message': 'The vector index `row_index` of the base table `statmike-mlops-349915:applied_genai_embeddings.bqml-autoencoder_embeddings` was not used because use_brute_force option has been specified.',\n",
       "   'baseTable': {'projectId': 'statmike-mlops-349915',\n",
       "    'datasetId': 'applied_genai_embeddings',\n",
       "    'tableId': 'bqml-autoencoder_embeddings'},\n",
       "   'indexName': 'row_index'}]}"
      ]
     },
     "execution_count": 98,
     "metadata": {},
     "output_type": "execute_result"
    }
   ],
   "source": [
    "job._properties['statistics']['query']['vectorSearchStatistics']"
   ]
  },
  {
   "cell_type": "markdown",
   "id": "de63e6a9-c14b-42c3-953e-a9fe2b73646f",
   "metadata": {},
   "source": [
    "### Get Batch Matches With Vector Search\n",
    "\n",
    "Get a list of matches for multiple query embeddings"
   ]
  },
  {
   "cell_type": "code",
   "execution_count": 104,
   "id": "038f0675-8b0f-45a3-8aee-955bf0101acb",
   "metadata": {
    "tags": []
   },
   "outputs": [
    {
     "data": {
      "text/html": [
       "<div>\n",
       "<style scoped>\n",
       "    .dataframe tbody tr th:only-of-type {\n",
       "        vertical-align: middle;\n",
       "    }\n",
       "\n",
       "    .dataframe tbody tr th {\n",
       "        vertical-align: top;\n",
       "    }\n",
       "\n",
       "    .dataframe thead th {\n",
       "        text-align: right;\n",
       "    }\n",
       "</style>\n",
       "<table border=\"1\" class=\"dataframe\">\n",
       "  <thead>\n",
       "    <tr style=\"text-align: right;\">\n",
       "      <th></th>\n",
       "      <th>transaction_id</th>\n",
       "      <th>matches</th>\n",
       "    </tr>\n",
       "  </thead>\n",
       "  <tbody>\n",
       "    <tr>\n",
       "      <th>0</th>\n",
       "      <td>d2f77720-1b85-4e55-ada6-1d7700f94b7d</td>\n",
       "      <td>[ef268a30-9041-4b8c-98ab-c268ce8dbf62, 0d46a4c...</td>\n",
       "    </tr>\n",
       "    <tr>\n",
       "      <th>1</th>\n",
       "      <td>fa3e1c8a-0378-4be0-900b-6566bbbc4a07</td>\n",
       "      <td>[cfbf76cd-03e9-4f77-aba6-0b219ae91053, 24bec56...</td>\n",
       "    </tr>\n",
       "    <tr>\n",
       "      <th>2</th>\n",
       "      <td>11d18c98-edbe-40c3-bfc0-f41136bca74a</td>\n",
       "      <td>[5616f04f-2c66-4a94-a8ad-b3d0ded1b0d9, 9120a5b...</td>\n",
       "    </tr>\n",
       "    <tr>\n",
       "      <th>3</th>\n",
       "      <td>02c44ddd-5d07-4b75-aa85-b68397589a49</td>\n",
       "      <td>[0e773bdc-9a97-4c60-a685-b7835e518684, 1cb4a45...</td>\n",
       "    </tr>\n",
       "    <tr>\n",
       "      <th>4</th>\n",
       "      <td>ee6ef95e-dead-4652-b483-475278bf2199</td>\n",
       "      <td>[38291fc4-9d0e-4fa9-92af-060304407678, ed76f28...</td>\n",
       "    </tr>\n",
       "  </tbody>\n",
       "</table>\n",
       "</div>"
      ],
      "text/plain": [
       "                         transaction_id  \\\n",
       "0  d2f77720-1b85-4e55-ada6-1d7700f94b7d   \n",
       "1  fa3e1c8a-0378-4be0-900b-6566bbbc4a07   \n",
       "2  11d18c98-edbe-40c3-bfc0-f41136bca74a   \n",
       "3  02c44ddd-5d07-4b75-aa85-b68397589a49   \n",
       "4  ee6ef95e-dead-4652-b483-475278bf2199   \n",
       "\n",
       "                                             matches  \n",
       "0  [ef268a30-9041-4b8c-98ab-c268ce8dbf62, 0d46a4c...  \n",
       "1  [cfbf76cd-03e9-4f77-aba6-0b219ae91053, 24bec56...  \n",
       "2  [5616f04f-2c66-4a94-a8ad-b3d0ded1b0d9, 9120a5b...  \n",
       "3  [0e773bdc-9a97-4c60-a685-b7835e518684, 1cb4a45...  \n",
       "4  [38291fc4-9d0e-4fa9-92af-060304407678, ed76f28...  "
      ]
     },
     "execution_count": 104,
     "metadata": {},
     "output_type": "execute_result"
    }
   ],
   "source": [
    "query = f'''\n",
    "SELECT\n",
    "    query.transaction_id AS transaction_id,\n",
    "    ARRAY_AGG(base.transaction_id ORDER BY distance) AS matches\n",
    "FROM\n",
    "    VECTOR_SEARCH(\n",
    "        TABLE `{BQ_PROJECT}.{BQ_DATASET}.{BQ_TABLE}_embeddings`,\n",
    "        'embedding_normalized',\n",
    "        (SELECT * FROM `{BQ_PROJECT}.{BQ_DATASET}.{BQ_TABLE}_embeddings` WHERE splits = 'TEST'),\n",
    "        top_k => 5\n",
    "    )\n",
    "GROUP BY transaction_id\n",
    "LIMIT 5\n",
    "'''\n",
    "job = bq.query(query, job_config = bigquery.QueryJobConfig(use_query_cache=False))\n",
    "job.result()\n",
    "job.to_dataframe()"
   ]
  },
  {
   "cell_type": "code",
   "execution_count": 105,
   "id": "b9714860-2b94-4323-a531-ddea9f8b6e4e",
   "metadata": {
    "tags": []
   },
   "outputs": [
    {
     "data": {
      "text/plain": [
       "{'indexUsageMode': 'FULLY_USED'}"
      ]
     },
     "execution_count": 105,
     "metadata": {},
     "output_type": "execute_result"
    }
   ],
   "source": [
    "job._properties['statistics']['query']['vectorSearchStatistics']"
   ]
  }
 ],
 "metadata": {
  "environment": {
   "kernel": "conda-base-py",
   "name": "workbench-notebooks.m125",
   "type": "gcloud",
   "uri": "us-docker.pkg.dev/deeplearning-platform-release/gcr.io/workbench-notebooks:m125"
  },
  "kernelspec": {
   "display_name": "Python 3 (ipykernel) (Local)",
   "language": "python",
   "name": "conda-base-py"
  },
  "language_info": {
   "codemirror_mode": {
    "name": "ipython",
    "version": 3
   },
   "file_extension": ".py",
   "mimetype": "text/x-python",
   "name": "python",
   "nbconvert_exporter": "python",
   "pygments_lexer": "ipython3",
   "version": "3.10.15"
  }
 },
 "nbformat": 4,
 "nbformat_minor": 5
}
