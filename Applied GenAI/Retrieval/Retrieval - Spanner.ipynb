{
 "cells": [
  {
   "cell_type": "markdown",
   "id": "5704a184",
   "metadata": {},
   "source": [
    "![tracker](https://us-central1-vertex-ai-mlops-369716.cloudfunctions.net/pixel-tracking?path=statmike%2Fvertex-ai-mlops%2FApplied+GenAI%2FRetrieval&file=Retrieval+-+Spanner.ipynb)\n",
    "<!--- header table --->\n",
    "<table align=\"left\">\n",
    "  <td style=\"text-align: center\">\n",
    "    <a href=\"https://colab.research.google.com/github/statmike/vertex-ai-mlops/blob/main/Applied%20GenAI/Retrieval/Retrieval%20-%20Spanner.ipynb\">\n",
    "      <img src=\"https://cloud.google.com/ml-engine/images/colab-logo-32px.png\" alt=\"Google Colaboratory logo\">\n",
    "      <br>Run in<br>Colab\n",
    "    </a>\n",
    "  </td>\n",
    "  <td style=\"text-align: center\">\n",
    "    <a href=\"https://console.cloud.google.com/vertex-ai/colab/import/https%3A%2F%2Fraw.githubusercontent.com%2Fstatmike%2Fvertex-ai-mlops%2Fmain%2FApplied%2520GenAI%2FRetrieval%2FRetrieval%2520-%2520Spanner.ipynb\">\n",
    "      <img width=\"32px\" src=\"https://lh3.googleusercontent.com/JmcxdQi-qOpctIvWKgPtrzZdJJK-J3sWE1RsfjZNwshCFgE_9fULcNpuXYTilIR2hjwN\" alt=\"Google Cloud Colab Enterprise logo\">\n",
    "      <br>Run in<br>Colab Enterprise\n",
    "    </a>\n",
    "  </td>      \n",
    "  <td style=\"text-align: center\">\n",
    "    <a href=\"https://github.com/statmike/vertex-ai-mlops/blob/main/Applied%20GenAI/Retrieval/Retrieval%20-%20Spanner.ipynb\">\n",
    "      <img src=\"https://cloud.google.com/ml-engine/images/github-logo-32px.png\" alt=\"GitHub logo\">\n",
    "      <br>View on<br>GitHub\n",
    "    </a>\n",
    "  </td>\n",
    "  <td style=\"text-align: center\">\n",
    "    <a href=\"https://console.cloud.google.com/vertex-ai/workbench/deploy-notebook?download_url=https://raw.githubusercontent.com/statmike/vertex-ai-mlops/main/Applied%20GenAI/Retrieval/Retrieval%20-%20Spanner.ipynb\">\n",
    "      <img src=\"https://lh3.googleusercontent.com/UiNooY4LUgW_oTvpsNhPpQzsstV5W8F7rYgxgGBD85cWJoLmrOzhVs_ksK_vgx40SHs7jCqkTkCk=e14-rj-sc0xffffff-h130-w32\" alt=\"Vertex AI logo\">\n",
    "      <br>Open in<br>Vertex AI Workbench\n",
    "    </a>\n",
    "  </td>\n",
    "</table>"
   ]
  },
  {
   "cell_type": "markdown",
   "id": "96b0e8e6-d761-4540-9d09-8f0c4ce9a020",
   "metadata": {},
   "source": [
    "# Retrieval - Spanner\n",
    "\n",
    "In prior workflows, a series of documents was [processed into chunks](../Chunking/readme.md), and for each chunk, [embeddings](../Embeddings/readme.md) were created:\n",
    "\n",
    "- Process: [Large Document Processing - Document AI Layout Parser](../Chunking/Large%20Document%20Processing%20-%20Document%20AI%20Layout%20Parser.ipynb)\n",
    "- Embed: [Vertex AI Text Embeddings API](../Embeddings/Vertex%20AI%20Text%20Embeddings%20API.ipynb)\n",
    "\n",
    "Retrieving chunks for a query involves calculating the embedding for the query and then using similarity metrics to find relevant chunks. A thorough review of similarity matching can be found in [The Math of Similarity](../Embeddings/The%20Math%20of%20Similarity.ipynb) - use dot product! As development moves from experiment to application, the process of storing and computing similarity is migrated to a [retrieval](./readme.md) system. This workflow is part of a [series of workflows exploring many retrieval systems](./readme.md).  \n",
    "\n",
    "A detailed [comparison of many retrieval systems](./readme.md#comparison-of-vector-database-solutions) can be found in the readme as well.\n",
    "\n",
    "---\n",
    "\n",
    "**Spanner For Storage, Indexing, And Search**\n",
    "\n",
    "**Spanner** ([https://cloud.google.com/spanner](https://cloud.google.com/spanner)) is Google Cloud's globally distributed, scalable database, suitable for a wide range of applications, from gaming databases to financial ledgers.\n",
    "\n",
    "- **Effortless Scalability:** Spanner decouples compute and storage, enabling effortless scalability to accommodate growing data and traffic demands.\n",
    "- **Always-On Availability:**  Spanner provides automatic maintenance with zero downtime and allows for 100% online schema changes, even with synchronous replication, ensuring continuous availability.\n",
    "- **Spanner Graph:**  Leverage [Spanner Graph](https://cloud.google.com/spanner/docs/graph/overview) for knowledge graphs, social networks, GraphRAG, and more, using the ISO Graph Query Language.\n",
    "- **Vertex AI Integration:** Spanner integrates with [Vertex AI](https://cloud.google.com/spanner/docs/ml) for generative AI and custom ML model inference.\n",
    "- **LangChain Integration:**  Build LLM-powered applications with Spanner's integration with [LangChain](https://cloud.google.com/spanner/docs/langchain).\n",
    "- **Vector Similarity Search:** Spanner offers [built-in vector similarity search](https://cloud.google.com/spanner/docs/find-k-nearest-neighbors) with indexing for efficient approximate nearest neighbor search in applications like retrieval augmented generation (RAG).\n",
    "\n",
    "---\n",
    "\n",
    "**Use Case Data**\n",
    "\n",
    "Buying a home usually involves borrowing money from a lending institution, typically through a mortgage secured by the home's value. But how do these institutions manage the risks associated with such large loans, and how are lending standards established?\n",
    "\n",
    "In the United States, two government-sponsored enterprises (GSEs) play a vital role in the housing market:\n",
    "\n",
    "- Federal National Mortgage Association ([Fannie Mae](https://www.fanniemae.com/))\n",
    "- Federal Home Loan Mortgage Corporation ([Freddie Mac](https://www.freddiemac.com/))\n",
    "\n",
    "These GSEs purchase mortgages from lenders, enabling those lenders to offer more loans. This process also allows Fannie Mae and Freddie Mac to set standards for mortgages, ensuring they are responsible and borrowers are more likely to repay them. This system makes homeownership more affordable and stabilizes the housing market by maintaining a steady flow of liquidity for lenders and keeping interest rates controlled.\n",
    "\n",
    "However, navigating the complexities of these GSEs and their extensive servicing guides can be challenging.\n",
    "\n",
    "**Approaches**\n",
    "\n",
    "[This series](../readme.md) covers many generative AI workflows. These documents are used directly as long context for Gemini in the workflow [Long Context Retrieval With The Vertex AI Gemini API](../Generate/Long%20Context%20Retrieval%20With%20The%20Vertex%20AI%20Gemini%20API.ipynb). The workflow below uses a [retrieval](./readme.md) approach with the already generated chunks and embeddings."
   ]
  },
  {
   "cell_type": "markdown",
   "id": "be889472-69b0-416c-9cf1-edc9706fa5c5",
   "metadata": {
    "id": "od_UkDpvRmgD"
   },
   "source": [
    "---\n",
    "## Colab Setup\n",
    "\n",
    "When running this notebook in [Colab](https://colab.google/) or [Colab Enterprise](https://cloud.google.com/colab/docs/introduction), this section will authenticate to GCP (follow prompts in the popup) and set the current project for the session."
   ]
  },
  {
   "cell_type": "code",
   "execution_count": 1,
   "id": "21f75ba8-df50-466e-a5ec-f2a6dd88eb26",
   "metadata": {
    "executionInfo": {
     "elapsed": 195,
     "status": "ok",
     "timestamp": 1683726184843,
     "user": {
      "displayName": "Mike Henderson",
      "userId": "07691629187611687318"
     },
     "user_tz": 240
    },
    "id": "8UO9FnqyKBlF",
    "tags": []
   },
   "outputs": [],
   "source": [
    "PROJECT_ID = 'statmike-mlops-349915' # replace with project ID"
   ]
  },
  {
   "cell_type": "code",
   "execution_count": 2,
   "id": "9c325515-1ea0-45cc-82d3-a1bfb1c52155",
   "metadata": {
    "colab": {
     "base_uri": "https://localhost:8080/"
    },
    "executionInfo": {
     "elapsed": 68869,
     "status": "ok",
     "timestamp": 1683726253709,
     "user": {
      "displayName": "Mike Henderson",
      "userId": "07691629187611687318"
     },
     "user_tz": 240
    },
    "id": "N98-KK7LRkjm",
    "outputId": "09ec5008-0def-4e1a-c349-c598ee752f78",
    "tags": []
   },
   "outputs": [],
   "source": [
    "try:\n",
    "    from google.colab import auth\n",
    "    auth.authenticate_user()\n",
    "    !gcloud config set project {PROJECT_ID}\n",
    "except Exception:\n",
    "    pass"
   ]
  },
  {
   "cell_type": "markdown",
   "id": "055a4bd7-7b47-43ef-ba14-636c955e44e3",
   "metadata": {},
   "source": [
    "---\n",
    "## Installs and API Enablement\n",
    "\n",
    "The clients packages may need installing in this environment. "
   ]
  },
  {
   "cell_type": "markdown",
   "id": "410502ee-6fe3-4624-a69a-960ad7105f10",
   "metadata": {},
   "source": [
    "### Installs (If Needed)"
   ]
  },
  {
   "cell_type": "code",
   "execution_count": 48,
   "id": "f4dbdb83-3170-430c-b60d-3d686222a168",
   "metadata": {
    "tags": []
   },
   "outputs": [],
   "source": [
    "# tuples of (import name, install name, min_version)\n",
    "packages = [\n",
    "    ('google.cloud.aiplatform', 'google-cloud-aiplatform', '1.69.0'),\n",
    "    ('google.cloud.spanner', 'google-cloud-spanner'),\n",
    "    ('google.cloud.sqlalchemy_spanner', 'sqlalchemy-spanner')\n",
    "]\n",
    "\n",
    "import importlib\n",
    "install = False\n",
    "for package in packages:\n",
    "    if not importlib.util.find_spec(package[0]):\n",
    "        print(f'installing package {package[1]}')\n",
    "        install = True\n",
    "        !pip install {package[1]} -U -q --user\n",
    "    elif len(package) == 3:\n",
    "        if importlib.metadata.version(package[0]) < package[2]:\n",
    "            print(f'updating package {package[1]}')\n",
    "            install = True\n",
    "            !pip install {package[1]} -U -q --user"
   ]
  },
  {
   "cell_type": "markdown",
   "id": "25374857-7d37-4c84-8cbb-a3c2fc7bb065",
   "metadata": {},
   "source": [
    "### API Enablement"
   ]
  },
  {
   "cell_type": "code",
   "execution_count": 4,
   "id": "9b7300a8-7e3a-4a08-95c0-91186237753f",
   "metadata": {
    "tags": []
   },
   "outputs": [],
   "source": [
    "!gcloud services enable aiplatform.googleapis.com\n",
    "!gcloud services enable spanner.googleapis.com"
   ]
  },
  {
   "cell_type": "markdown",
   "id": "157d09ba-9774-495f-8ced-3382bf75be8f",
   "metadata": {},
   "source": [
    "### Restart Kernel (If Installs Occured)\n",
    "\n",
    "After a kernel restart the code submission can start with the next cell after this one."
   ]
  },
  {
   "cell_type": "code",
   "execution_count": 5,
   "id": "f9864153-66c8-43e1-ae96-1179632ccf7d",
   "metadata": {
    "tags": []
   },
   "outputs": [],
   "source": [
    "if install:\n",
    "    import IPython\n",
    "    app = IPython.Application.instance()\n",
    "    app.kernel.do_shutdown(True)\n",
    "    IPython.display.display(IPython.display.Markdown(\"\"\"<div class=\\\"alert alert-block alert-warning\\\">\n",
    "        <b>⚠️ The kernel is going to restart. Please wait until it is finished before continuing to the next step. The previous cells do not need to be run again⚠️</b>\n",
    "        </div>\"\"\"))"
   ]
  },
  {
   "cell_type": "markdown",
   "id": "09a1ab41-cb32-4398-86dc-d30effb88a36",
   "metadata": {
    "id": "appt8-yVRtJ1"
   },
   "source": [
    "---\n",
    "## Setup"
   ]
  },
  {
   "cell_type": "markdown",
   "id": "2cebe11b-9ca1-4f3e-aa78-78640ff01ec8",
   "metadata": {
    "id": "63mx2EozRxFP"
   },
   "source": [
    "Inputs"
   ]
  },
  {
   "cell_type": "code",
   "execution_count": 6,
   "id": "ab2239cd-40ab-416d-bac0-0c6953d911b6",
   "metadata": {
    "colab": {
     "base_uri": "https://localhost:8080/",
     "height": 35
    },
    "executionInfo": {
     "elapsed": 2124,
     "status": "ok",
     "timestamp": 1683726390544,
     "user": {
      "displayName": "Mike Henderson",
      "userId": "07691629187611687318"
     },
     "user_tz": 240
    },
    "id": "xzcoXjM5Rky5",
    "outputId": "b3bdcbc1-70d5-472e-aea2-42c74a42efde",
    "tags": []
   },
   "outputs": [
    {
     "data": {
      "text/plain": [
       "'statmike-mlops-349915'"
      ]
     },
     "execution_count": 6,
     "metadata": {},
     "output_type": "execute_result"
    }
   ],
   "source": [
    "project = !gcloud config get-value project\n",
    "PROJECT_ID = project[0]\n",
    "PROJECT_ID"
   ]
  },
  {
   "cell_type": "code",
   "execution_count": 7,
   "id": "8aa97f05-66e9-4276-b2e6-83b5a91ca50c",
   "metadata": {
    "executionInfo": {
     "elapsed": 2,
     "status": "ok",
     "timestamp": 1683726390712,
     "user": {
      "displayName": "Mike Henderson",
      "userId": "07691629187611687318"
     },
     "user_tz": 240
    },
    "id": "IxWrFtqYMfku",
    "tags": []
   },
   "outputs": [],
   "source": [
    "REGION = 'us-central1'\n",
    "SERIES = 'applied-genai'\n",
    "EXPERIMENT = 'retrieval-spanner'\n",
    "\n",
    "# Spanner names\n",
    "SPANNER_INSTANCE_NAME = PROJECT_ID\n",
    "SPANNER_DATABASE_NAME = SERIES\n",
    "SPANNER_TABLE_NAME = EXPERIMENT.replace('-', '_')"
   ]
  },
  {
   "cell_type": "markdown",
   "id": "52bbf65b-5d29-4a72-84ae-d977b9a743a6",
   "metadata": {
    "id": "LuajVwCiO6Yg"
   },
   "source": [
    "Packages"
   ]
  },
  {
   "cell_type": "code",
   "execution_count": 49,
   "id": "559f6e60-a594-4789-893b-295a8381b670",
   "metadata": {
    "executionInfo": {
     "elapsed": 17761,
     "status": "ok",
     "timestamp": 1683726409304,
     "user": {
      "displayName": "Mike Henderson",
      "userId": "07691629187611687318"
     },
     "user_tz": 240
    },
    "id": "LVC7zzSLRk2C",
    "tags": []
   },
   "outputs": [],
   "source": [
    "import os, json, time, glob, datetime, asyncio\n",
    "\n",
    "import numpy as np\n",
    "\n",
    "# Vertex AI\n",
    "from google.cloud import aiplatform\n",
    "import vertexai.language_models # for embeddings API\n",
    "import vertexai.generative_models # for Gemini Models\n",
    "from vertexai.resources.preview import feature_store\n",
    "\n",
    "# spanner\n",
    "from google.cloud import spanner\n",
    "from google.cloud import spanner_admin_instance_v1\n",
    "from google.cloud import spanner_admin_database_v1\n",
    "import sqlalchemy"
   ]
  },
  {
   "cell_type": "code",
   "execution_count": 9,
   "id": "d3fef31f-928f-45f2-a3f4-292ee242232c",
   "metadata": {
    "tags": []
   },
   "outputs": [
    {
     "data": {
      "text/plain": [
       "'1.71.0'"
      ]
     },
     "execution_count": 9,
     "metadata": {},
     "output_type": "execute_result"
    }
   ],
   "source": [
    "aiplatform.__version__"
   ]
  },
  {
   "cell_type": "markdown",
   "id": "5758c07e-f064-40fb-a0ef-de6cbde5cd0a",
   "metadata": {
    "id": "EyAVFG9TO9H-"
   },
   "source": [
    "Clients"
   ]
  },
  {
   "cell_type": "code",
   "execution_count": 10,
   "id": "3b72f3bb-176b-4678-ba6b-df9b2de14997",
   "metadata": {
    "executionInfo": {
     "elapsed": 19,
     "status": "ok",
     "timestamp": 1683726409306,
     "user": {
      "displayName": "Mike Henderson",
      "userId": "07691629187611687318"
     },
     "user_tz": 240
    },
    "id": "L0RPE13LOZce",
    "tags": []
   },
   "outputs": [],
   "source": [
    "# vertex ai clients\n",
    "vertexai.init(project = PROJECT_ID, location = REGION)\n",
    "\n",
    "# spanner client\n",
    "spanner_client = spanner.Client(project = PROJECT_ID)\n",
    "spanner_instance_client = spanner_admin_instance_v1.InstanceAdminClient()\n",
    "spanner_database_client = spanner_admin_database_v1.DatabaseAdminClient()"
   ]
  },
  {
   "cell_type": "markdown",
   "id": "8579282f-2723-4294-b72a-a65cc0831f44",
   "metadata": {},
   "source": [
    "---\n",
    "## Text & Embeddings For Examples\n",
    "\n",
    "This repository contains a [section for document processing (chunking)](../Chunking/readme.md) that includes an example of processing mulitple large pdfs (over 1000 pages) into chunks: [Large Document Processing - Document AI Layout Parser](../Chunking/Large%20Document%20Processing%20-%20Document%20AI%20Layout%20Parser.ipynb).  The chunks of text from that workflow are stored with this repository and loaded by another companion workflow that augments the chunks with text embeddings: [Vertex AI Text Embeddings API](../Embeddings/Vertex%20AI%20Text%20Embeddings%20API.ipynb).\n",
    "\n",
    "The following code will load the version of the chunks that includes text embeddings and prepare it for a local example of retrival augmented generation."
   ]
  },
  {
   "cell_type": "markdown",
   "id": "1e12cbe2-3ca6-4656-9e73-c0db5c63bf50",
   "metadata": {},
   "source": [
    "### Get The Documents\n",
    "\n",
    "If you are working from a clone of this notebooks [repository](https://github.com/statmike/vertex-ai-mlops) then the documents are already present. The following cell checks for the documents folder and if it is missing gets it (`git clone`):"
   ]
  },
  {
   "cell_type": "code",
   "execution_count": 11,
   "id": "6f4e77ed-43f7-42be-9575-6a491c0d6cba",
   "metadata": {
    "tags": []
   },
   "outputs": [],
   "source": [
    "local_dir = '../Embeddings/files/embeddings-api'"
   ]
  },
  {
   "cell_type": "code",
   "execution_count": 12,
   "id": "63ebe7c3-e72c-4394-91c3-d60c05bc0ce2",
   "metadata": {
    "tags": []
   },
   "outputs": [
    {
     "name": "stdout",
     "output_type": "stream",
     "text": [
      "Documents Found in folder `../Embeddings/files/embeddings-api`\n"
     ]
    }
   ],
   "source": [
    "if not os.path.exists(local_dir):\n",
    "    print('Retrieving documents...')\n",
    "    parent_dir = os.path.dirname(local_dir)\n",
    "    temp_dir = os.path.join(parent_dir, 'temp')\n",
    "    if not os.path.exists(temp_dir):\n",
    "        os.makedirs(temp_dir)\n",
    "    !git clone https://www.github.com/statmike/vertex-ai-mlops {temp_dir}/vertex-ai-mlops\n",
    "    shutil.copytree(f'{temp_dir}/vertex-ai-mlops/Applied GenAI/Embeddings/files/embeddings-api', local_dir)\n",
    "    shutil.rmtree(temp_dir)\n",
    "    print(f'Documents are now in folder `{local_dir}`')\n",
    "else:\n",
    "    print(f'Documents Found in folder `{local_dir}`')             "
   ]
  },
  {
   "cell_type": "markdown",
   "id": "33e68a84-9f88-4590-9ff1-e01c8a953ccf",
   "metadata": {},
   "source": [
    "### Load The Chunks"
   ]
  },
  {
   "cell_type": "code",
   "execution_count": 13,
   "id": "58d04382-a74a-44ac-8824-3b46c86aa148",
   "metadata": {
    "tags": []
   },
   "outputs": [
    {
     "data": {
      "text/plain": [
       "['../Embeddings/files/embeddings-api/large-files-chunk-embeddings-0000.jsonl',\n",
       " '../Embeddings/files/embeddings-api/large-files-chunk-embeddings-0001.jsonl',\n",
       " '../Embeddings/files/embeddings-api/large-files-chunk-embeddings-0002.jsonl',\n",
       " '../Embeddings/files/embeddings-api/large-files-chunk-embeddings-0003.jsonl',\n",
       " '../Embeddings/files/embeddings-api/large-files-chunk-embeddings-0004.jsonl',\n",
       " '../Embeddings/files/embeddings-api/large-files-chunk-embeddings-0005.jsonl',\n",
       " '../Embeddings/files/embeddings-api/large-files-chunk-embeddings-0006.jsonl',\n",
       " '../Embeddings/files/embeddings-api/large-files-chunk-embeddings-0007.jsonl',\n",
       " '../Embeddings/files/embeddings-api/large-files-chunk-embeddings-0008.jsonl',\n",
       " '../Embeddings/files/embeddings-api/large-files-chunk-embeddings-0009.jsonl']"
      ]
     },
     "execution_count": 13,
     "metadata": {},
     "output_type": "execute_result"
    }
   ],
   "source": [
    "jsonl_files = glob.glob(f\"{local_dir}/large-files*.jsonl\")\n",
    "jsonl_files.sort()\n",
    "jsonl_files"
   ]
  },
  {
   "cell_type": "code",
   "execution_count": 14,
   "id": "a54c6c96-6c28-49bb-80be-5d46797dfe77",
   "metadata": {
    "tags": []
   },
   "outputs": [
    {
     "data": {
      "text/plain": [
       "9040"
      ]
     },
     "execution_count": 14,
     "metadata": {},
     "output_type": "execute_result"
    }
   ],
   "source": [
    "chunks = []\n",
    "for file in jsonl_files:\n",
    "    with open(file, 'r') as f:\n",
    "        chunks.extend([json.loads(line) for line in f])\n",
    "len(chunks)"
   ]
  },
  {
   "cell_type": "markdown",
   "id": "a70115ec-6d60-41df-b7e6-9e2e5b463b1d",
   "metadata": {},
   "source": [
    "### Review A Chunk"
   ]
  },
  {
   "cell_type": "code",
   "execution_count": 15,
   "id": "fc20423e-e3d6-4e90-9e98-a5248508c82d",
   "metadata": {
    "tags": []
   },
   "outputs": [
    {
     "data": {
      "text/plain": [
       "dict_keys(['instance', 'predictions', 'status'])"
      ]
     },
     "execution_count": 15,
     "metadata": {},
     "output_type": "execute_result"
    }
   ],
   "source": [
    "chunks[0].keys()"
   ]
  },
  {
   "cell_type": "code",
   "execution_count": 16,
   "id": "1955ea39-4ffc-4d30-b653-a5a9911f2dab",
   "metadata": {
    "tags": []
   },
   "outputs": [
    {
     "data": {
      "text/plain": [
       "'fannie_part_0_c17'"
      ]
     },
     "execution_count": 16,
     "metadata": {},
     "output_type": "execute_result"
    }
   ],
   "source": [
    "chunks[0]['instance']['chunk_id']"
   ]
  },
  {
   "cell_type": "code",
   "execution_count": 17,
   "id": "3537982c-4a0e-456c-a652-19ea7507873b",
   "metadata": {
    "tags": []
   },
   "outputs": [
    {
     "name": "stdout",
     "output_type": "stream",
     "text": [
      "# Selling Guide Fannie Mae Single Family\n",
      "\n",
      "## Fannie Mae Copyright Notice\n",
      "\n",
      "### Fannie Mae Copyright Notice\n",
      "\n",
      "|-|\n",
      "| Section B3-4.2, Verification of Depository Assets 402 |\n",
      "| B3-4.2-01, Verification of Deposits and Assets (05/04/2022) 403 |\n",
      "| B3-4.2-02, Depository Accounts (12/14/2022) 405 |\n",
      "| B3-4.2-03, Individual Development Accounts (02/06/2019) 408 |\n",
      "| B3-4.2-04, Pooled Savings (Community Savings Funds) (04/01/2009) 411 |\n",
      "| B3-4.2-05, Foreign Assets (05/04/2022) 411 |\n",
      "| Section B3-4.3, Verification of Non-Depository Assets 412 |\n",
      "| B3-4.3-01, Stocks, Stock Options, Bonds, and Mutual Funds (06/30/2015) 412 |\n",
      "| B3-4.3-02, Trust Accounts (04/01/2009) 413 |\n",
      "| B3-4.3-03, Retirement Accounts (06/30/2015) 414 |\n",
      "| B3-4.3-04, Personal Gifts (09/06/2023) 415 |\n",
      "| B3-4.3-05, Gifts of Equity (10/07/2020) 418 |\n",
      "| B3-4.3-06, Grants and Lender Contributions (12/14/2022) 419 |\n",
      "| B3-4.3-07, Disaster Relief Grants or Loans (04/01/2009) 423 |\n",
      "| B3-4.3-08, Employer Assistance (09/29/2015) 423 |\n",
      "| B3-4.3-09, Earnest Money Deposit (05/04/2022) 425 |\n",
      "| B3-4.3-10, Anticipated Sales Proceeds (02/23/2016) B3-4.3-11, Trade Equity (12/16/2020) 426 428 |\n",
      "| B3-4.3-12, Rent-Related Credits (08/07/2024) 429 |\n",
      "| B3-4.3-13, Sweat Equity (04/15/2014) 430 |\n",
      "| B3-4.3-14, Bridge/Swing Loans (04/01/2009) 431 |\n",
      "| B3-4.3-15, Borrowed Funds Secured by an Asset (10/30/2009) 431 |\n",
      "|  |\n",
      "\n",
      "\n"
     ]
    }
   ],
   "source": [
    "print(chunks[0]['instance']['content'])"
   ]
  },
  {
   "cell_type": "code",
   "execution_count": 18,
   "id": "49f06293-a439-436b-bc93-cd6cd3fb4aff",
   "metadata": {
    "tags": []
   },
   "outputs": [
    {
     "data": {
      "text/plain": [
       "[0.031277116388082504,\n",
       " 0.03056905046105385,\n",
       " 0.010865348391234875,\n",
       " 0.0623614676296711,\n",
       " 0.03228681534528732,\n",
       " 0.05066155269742012,\n",
       " 0.046544693410396576,\n",
       " 0.05509665608406067,\n",
       " -0.014074751175940037,\n",
       " 0.008380400016903877]"
      ]
     },
     "execution_count": 18,
     "metadata": {},
     "output_type": "execute_result"
    }
   ],
   "source": [
    "chunks[0]['predictions'][0]['embeddings']['values'][0:10]"
   ]
  },
  {
   "cell_type": "markdown",
   "id": "f977358d-d9ea-4172-9eca-66079bb6087d",
   "metadata": {},
   "source": [
    "### Prepare Chunk Structure\n",
    "\n",
    "Make a list of dictionaries with information for each chunk:"
   ]
  },
  {
   "cell_type": "code",
   "execution_count": 19,
   "id": "be9fa708-130c-4343-b179-dbde0b09a972",
   "metadata": {
    "tags": []
   },
   "outputs": [],
   "source": [
    "content_chunks = [\n",
    "    dict(\n",
    "        gse = chunk['instance']['gse'],\n",
    "        chunk_id = chunk['instance']['chunk_id'],\n",
    "        content = chunk['instance']['content'],\n",
    "        embedding = chunk['predictions'][0]['embeddings']['values']\n",
    "    ) for chunk in chunks\n",
    "]"
   ]
  },
  {
   "cell_type": "markdown",
   "id": "d6619605-7b10-444e-a131-db06e56a4be8",
   "metadata": {},
   "source": [
    "### Query Embedding\n",
    "\n",
    "Create a query, or prompt, and get the embedding for it:\n",
    "\n",
    "Connect to models for text embeddings. Learn more about the model API:\n",
    "- [Vertex AI Text Embeddings API](../Embeddings/Vertex%20AI%20Text%20Embeddings%20API.ipynb)"
   ]
  },
  {
   "cell_type": "code",
   "execution_count": 20,
   "id": "3da5d30c-3dfb-42ba-a133-83dceb252787",
   "metadata": {
    "tags": []
   },
   "outputs": [],
   "source": [
    "question = \"Does a lender have to perform servicing functions directly?\""
   ]
  },
  {
   "cell_type": "code",
   "execution_count": 21,
   "id": "7992c26f-d058-4920-80a3-a157b88733e4",
   "metadata": {
    "tags": []
   },
   "outputs": [],
   "source": [
    "embedder = vertexai.language_models.TextEmbeddingModel.from_pretrained('text-embedding-004')"
   ]
  },
  {
   "cell_type": "code",
   "execution_count": 24,
   "id": "bbe6fda7-9cea-49a2-9e2f-9222d50677af",
   "metadata": {
    "tags": []
   },
   "outputs": [
    {
     "data": {
      "text/plain": [
       "[-0.0005117303808219731,\n",
       " 0.009651427157223225,\n",
       " 0.01768726110458374,\n",
       " 0.014538003131747246,\n",
       " -0.01829824410378933,\n",
       " 0.027877431362867355,\n",
       " -0.021124685183167458,\n",
       " 0.008830446749925613,\n",
       " -0.02669006586074829,\n",
       " 0.06414774805307388]"
      ]
     },
     "execution_count": 24,
     "metadata": {},
     "output_type": "execute_result"
    }
   ],
   "source": [
    "question_embedding = embedder.get_embeddings([question])[0].values\n",
    "question_embedding[0:10]"
   ]
  },
  {
   "cell_type": "markdown",
   "id": "0b6ec209-b34a-4837-8c54-a991ad831764",
   "metadata": {},
   "source": [
    "---\n",
    "## Setup Spanner\n",
    "\n",
    "Spanner is the Google fully managed, globally distributed, scalable, database service.  This workflow will guide you through creating an instance, creating a database, adding a table to the database, and loading records to the table.  [Spanner pricing](https://cloud.google.com/spanner/pricing#spanner-pricing) is based on compute, storage and data movement (replication, egress).  There are three tiers based the features needed and on the number of regions and replicas that are needed and these are call [Spanner editions](https://cloud.google.com/spanner/docs/editions-overview).  This workflow uses utilizes a minimal configuration of smallest compute with no replication and at the lowest tier that has the vector search capabilities (Enterprise edition).\n",
    "\n",
    "The setup here is done with the [Python Client for Cloud Spanner](https://cloud.google.com/python/docs/reference/spanner/latest).  Alternatively, the [console](https://cloud.google.com/spanner/docs/create-query-database-console) and [Cloud SDK `gcloud spanner`](https://cloud.google.com/spanner/docs/getting-started/gcloud) as well as [client libraries](https://cloud.google.com/spanner/docs/getting-started/set-up) in other languages can be used."
   ]
  },
  {
   "cell_type": "markdown",
   "id": "eb137f9f-f497-4ba8-9f61-c12c43a63ee1",
   "metadata": {},
   "source": [
    "### Create/Retrieve An Instance\n",
    "\n",
    "The starting point for using Spanner is create an instance.  This is where compute size (nnumber of nodes), location(s), and replication is specified.\n",
    "\n",
    "Documentation References:\n",
    "- [Instances overview](https://cloud.google.com/spanner/docs/instances)\n",
    "- [Instance Configurations (regional, dual-region, and multi-region)](https://cloud.google.com/spanner/docs/instance-configurations)\n",
    "- [Python SDK for Cloud Spanner: `InstanceAdminClient`](https://cloud.google.com/python/docs/reference/spanner/latest/google.cloud.spanner_admin_instance_v1.services.instance_admin)\n",
    "    - Setup as `spanner_instance_client` here"
   ]
  },
  {
   "cell_type": "markdown",
   "id": "409f3d39-cc01-410f-9bd4-7232f81afb30",
   "metadata": {},
   "source": [
    "Use the client to list configurations, if needed:"
   ]
  },
  {
   "cell_type": "code",
   "execution_count": 25,
   "id": "ba6e7287-fd62-47f5-a0b0-a53ffe3c4ddd",
   "metadata": {
    "tags": []
   },
   "outputs": [],
   "source": [
    "#spanner_instance_client.list_instance_configs(parent = f\"projects/{PROJECT_ID}\")"
   ]
  },
  {
   "cell_type": "markdown",
   "id": "34f55c61-a729-4f3e-b6f3-ccc7049c6abd",
   "metadata": {},
   "source": [
    "Make a [configuration choice](https://cloud.google.com/spanner/docs/instance-configurations), here a single region. "
   ]
  },
  {
   "cell_type": "code",
   "execution_count": 26,
   "id": "cde06a22-fb1c-46bd-aa4e-892ddba14219",
   "metadata": {
    "tags": []
   },
   "outputs": [],
   "source": [
    "# regional configuration\n",
    "config_id = 'regional-us-central1'"
   ]
  },
  {
   "cell_type": "code",
   "execution_count": 27,
   "id": "6f1ed061-d921-47d6-ac45-860e647b5e6e",
   "metadata": {
    "tags": []
   },
   "outputs": [
    {
     "name": "stdout",
     "output_type": "stream",
     "text": [
      "Found the instance: projects/statmike-mlops-349915/instances/statmike-mlops-349915\n"
     ]
    }
   ],
   "source": [
    "try:\n",
    "    spanner_instance = spanner_instance_client.get_instance(\n",
    "        name = f'projects/{PROJECT_ID}/instances/{SPANNER_INSTANCE_NAME}'\n",
    "    )\n",
    "    print(f\"Found the instance: {spanner_instance.name}\")\n",
    "except Exception:\n",
    "    print('Creating an instance ...')\n",
    "    create_instance = spanner_instance_client.create_instance(\n",
    "        parent = f\"projects/{PROJECT_ID}\",\n",
    "        instance_id = SPANNER_INSTANCE_NAME,\n",
    "        instance = spanner_admin_instance_v1.Instance(\n",
    "            name = f'projects/{PROJECT_ID}/instances/{SPANNER_INSTANCE_NAME}',\n",
    "            config = f'projects/{PROJECT_ID}/instanceConfigs/{config_id}',\n",
    "            display_name = SPANNER_INSTANCE_NAME,\n",
    "            node_count = 1,\n",
    "            edition = 'ENTERPRISE' # minnimum needed for vector indexing features\n",
    "        )\n",
    "    )\n",
    "    spanner_instance = create_instance.result()\n",
    "    spanner_instance = spanner_instance_client.get_instance(\n",
    "        name = f'projects/{PROJECT_ID}/instances/{SPANNER_INSTANCE_NAME}'\n",
    "    )\n",
    "    print(f\"Created the instance: {spanner_instance.name}\")"
   ]
  },
  {
   "cell_type": "code",
   "execution_count": 28,
   "id": "6427eaf6-974f-45c6-a2ba-b5971ca36762",
   "metadata": {},
   "outputs": [
    {
     "data": {
      "text/plain": [
       "name: \"projects/statmike-mlops-349915/instances/statmike-mlops-349915\"\n",
       "config: \"projects/statmike-mlops-349915/instanceConfigs/regional-us-central1\"\n",
       "display_name: \"statmike-mlops-349915\"\n",
       "node_count: 1\n",
       "state: READY\n",
       "processing_units: 1000\n",
       "create_time {\n",
       "  seconds: 1729873343\n",
       "  nanos: 540788000\n",
       "}\n",
       "update_time {\n",
       "  seconds: 1729873343\n",
       "  nanos: 540788000\n",
       "}\n",
       "edition: ENTERPRISE"
      ]
     },
     "execution_count": 28,
     "metadata": {},
     "output_type": "execute_result"
    }
   ],
   "source": [
    "spanner_instance"
   ]
  },
  {
   "cell_type": "markdown",
   "id": "b2205a58-ca91-4c13-b6e3-aa99e2173346",
   "metadata": {},
   "source": [
    "---\n",
    "## Working With Spanner\n",
    "\n",
    "Now that an instance is created it can be used to create a database, add a table, and load the records."
   ]
  },
  {
   "cell_type": "markdown",
   "id": "cdd68b84-03b7-4bfd-9e0b-2832295c5175",
   "metadata": {},
   "source": [
    "### Create/Retrieve A Database\n",
    "\n",
    "[Spanner databases](https://cloud.google.com/spanner/docs/databases) are the container for tables, views, and indexes.  There can be multiple databases on an instance.  Spanner has two available dialect for databases that are choosen at database creation: GoogleSQL or PostgreSQL.  The vector storage and indexing features are specific to the GoogleSQL dialect and it is used in this workflow.  Here a single database with GoogleSQL dialect is created and used for this workflow.\n",
    "\n",
    "Documentation References:\n",
    "- [Database overview](https://cloud.google.com/spanner/docs/databases)\n",
    "- [Choosing the Right Dialect for Your Spanner Database](https://cloud.google.com/spanner/docs/choose-googlesql-or-postgres)\n",
    "- [Create and managed databases](https://cloud.google.com/spanner/docs/create-manage-databases)\n",
    "- [Python SDK for Cloud Spanner `DatabaseAdminClient`](https://cloud.google.com/python/docs/reference/spanner/latest/google.cloud.spanner_admin_database_v1.services.database_admin)\n",
    "    - Setup as `spanner_database_client` here"
   ]
  },
  {
   "cell_type": "code",
   "execution_count": 62,
   "id": "ff1be118-b7ef-478c-92f3-ae172b064574",
   "metadata": {
    "tags": []
   },
   "outputs": [
    {
     "name": "stdout",
     "output_type": "stream",
     "text": [
      "Found the database: projects/statmike-mlops-349915/instances/statmike-mlops-349915/databases/applied-genai\n"
     ]
    }
   ],
   "source": [
    "try:\n",
    "    spanner_database = spanner_database_client.get_database(\n",
    "        name = f\"{spanner_instance.name}/databases/{SPANNER_DATABASE_NAME}\"\n",
    "    )\n",
    "    print(f\"Found the database: {spanner_database.name}\")\n",
    "except Exception:\n",
    "    print('Creating a database ...')\n",
    "    create_database = spanner_database_client.create_database(\n",
    "        request = spanner_admin_database_v1.types.CreateDatabaseRequest(\n",
    "            parent = spanner_instance.name,\n",
    "            create_statement = f'CREATE DATABASE `{SPANNER_DATABASE_NAME}`',\n",
    "            extra_statements = [], # you could go ahead and CREATE TABLE here   \n",
    "        )\n",
    "    )\n",
    "    spanner_database = create_database.result()\n",
    "    spanner_database = spanner_database_client.get_database(\n",
    "        name = f\"{spanner_instance.name}/databases/{SPANNER_DATABASE_NAME}\"\n",
    "    )\n",
    "    print(f\"Created the database: {spanner_database.name}\")"
   ]
  },
  {
   "cell_type": "code",
   "execution_count": 63,
   "id": "612062e6-bd2d-48bd-930e-0e5b51f37ab4",
   "metadata": {
    "tags": []
   },
   "outputs": [
    {
     "data": {
      "text/plain": [
       "name: \"projects/statmike-mlops-349915/instances/statmike-mlops-349915/databases/applied-genai\"\n",
       "state: READY\n",
       "create_time {\n",
       "  seconds: 1729873484\n",
       "  nanos: 192873000\n",
       "}\n",
       "version_retention_period: \"1h\"\n",
       "earliest_version_time {\n",
       "  seconds: 1731511990\n",
       "  nanos: 491087000\n",
       "}\n",
       "encryption_info {\n",
       "  encryption_type: GOOGLE_DEFAULT_ENCRYPTION\n",
       "}\n",
       "database_dialect: GOOGLE_STANDARD_SQL"
      ]
     },
     "execution_count": 63,
     "metadata": {},
     "output_type": "execute_result"
    }
   ],
   "source": [
    "spanner_database"
   ]
  },
  {
   "cell_type": "markdown",
   "id": "2a67c49d-861c-4729-a081-8afce4fab6d9",
   "metadata": {},
   "source": [
    "### Connection To Databases With Client\n",
    "\n",
    "For work inside a database the Cloud Spanner API is invoked here using the [Python Client For Cloud Spanner](https://cloud.google.com/python/docs/reference/spanner/latest/google.cloud.spanner_v1.client) which was setup above as the `spanner_client` object.\n",
    "\n",
    "Documentation References:\n",
    "- [Data type in GoogleSQL](https://cloud.google.com/spanner/docs/reference/standard-sql/data-types)\n",
    "- [Python Client For Cloud Spanner database Module](https://cloud.google.com/python/docs/reference/spanner/latest/google.cloud.spanner_v1.database)\n",
    "- [Python Client For Cloud Spanner table Module](https://cloud.google.com/python/docs/reference/spanner/latest/google.cloud.spanner_v1.table.Table)\n"
   ]
  },
  {
   "cell_type": "markdown",
   "id": "b0a4c7d4-678e-4fb0-86ec-31b13afd152d",
   "metadata": {},
   "source": [
    "Use the client, `spanner_client`, to return the database as a Python object:"
   ]
  },
  {
   "cell_type": "code",
   "execution_count": 145,
   "id": "e044a28f-6cf4-4f4c-a8ad-6c2e02f473f8",
   "metadata": {
    "tags": []
   },
   "outputs": [],
   "source": [
    "instance = spanner_client.instance(SPANNER_INSTANCE_NAME)\n",
    "database = instance.database(SPANNER_DATABASE_NAME)"
   ]
  },
  {
   "cell_type": "code",
   "execution_count": 146,
   "id": "86e9ae67-de21-499e-bb9e-ba24df2f97e6",
   "metadata": {
    "tags": []
   },
   "outputs": [
    {
     "data": {
      "text/plain": [
       "'projects/statmike-mlops-349915/instances/statmike-mlops-349915/databases/applied-genai'"
      ]
     },
     "execution_count": 146,
     "metadata": {},
     "output_type": "execute_result"
    }
   ],
   "source": [
    "database.name"
   ]
  },
  {
   "cell_type": "markdown",
   "id": "cb3ab3e3-1113-4ce6-9670-dd8c3da45f79",
   "metadata": {},
   "source": [
    "Test DML statement (SELECT) with client:"
   ]
  },
  {
   "cell_type": "code",
   "execution_count": 147,
   "id": "2041adf4-2f33-4671-a591-0127f26aa506",
   "metadata": {
    "tags": []
   },
   "outputs": [
    {
     "name": "stdout",
     "output_type": "stream",
     "text": [
      "['Success']\n"
     ]
    }
   ],
   "source": [
    "with database.snapshot() as snapshot:\n",
    "    result = snapshot.execute_sql(\"SELECT 'Success' as did_it_work\")\n",
    "for r in result:\n",
    "    print(r)"
   ]
  },
  {
   "cell_type": "code",
   "execution_count": 148,
   "id": "344e4f75-c82d-4a83-9c94-721ac709f0f8",
   "metadata": {
    "tags": []
   },
   "outputs": [],
   "source": [
    "with database.snapshot() as snapshot:\n",
    "    result = snapshot.execute_sql(\"SELECT 'Success' as did_it_work\")"
   ]
  },
  {
   "cell_type": "markdown",
   "id": "5072ea51-5bc7-4c11-aaac-e1271ebd9e80",
   "metadata": {},
   "source": [
    "### Connection To Databases With Client Using SQLAlchemy\n",
    "\n",
    "The Spanner Client also integrates with various language frameworks.  Of note here, from Python, is [integration wtih SQLAlchemy](https://cloud.google.com/spanner/docs/use-sqlalchemy).  [SQLAlchemy](https://www.sqlalchemy.org/) is a client library that can use connections to orchestrate SQL queries.  \n",
    "\n",
    "The method of using a connection is called an engine.  The [Spanner dialect for SQLAlchemy](https://github.com/googleapis/python-spanner-sqlalchemy/tree/main) is a Python package that adds engine support for Spanner to SQLAlchemy through the installation with `pip install sqlalchemy-spanner`.  This section shows how to use the client created and used in the previous section as an engine with SQLAlchemy."
   ]
  },
  {
   "cell_type": "markdown",
   "id": "af369722-62a0-4a9a-9fdc-0c07225df783",
   "metadata": {},
   "source": [
    "Use the client, `spanner_client`, with SQLAlchemy to create an engine:"
   ]
  },
  {
   "cell_type": "code",
   "execution_count": 149,
   "id": "0c698fca-c2dc-4e55-a24a-7df8b3d083d8",
   "metadata": {
    "tags": []
   },
   "outputs": [],
   "source": [
    "engine = sqlalchemy.create_engine(\n",
    "    f\"spanner+spanner:///{database.name}\",\n",
    "    connect_args = dict(client = spanner_client)\n",
    ")\n",
    "# https://github.com/googleapis/python-spanner-sqlalchemy/tree/main?tab=readme-ov-file#autocommit-mode\n",
    "autocommit_engine = engine.execution_options(isolation_level = \"AUTOCOMMIT\")"
   ]
  },
  {
   "cell_type": "markdown",
   "id": "7a969d9c-00f6-4f8c-99d4-0c6d0892a166",
   "metadata": {},
   "source": [
    "Test DML statement (SELECT) with SQLAlchemy:"
   ]
  },
  {
   "cell_type": "code",
   "execution_count": 150,
   "id": "3d548dd6-e0bc-497b-aff3-4bf505b8dbb1",
   "metadata": {
    "tags": []
   },
   "outputs": [
    {
     "name": "stdout",
     "output_type": "stream",
     "text": [
      "('Success',)\n"
     ]
    }
   ],
   "source": [
    "with autocommit_engine.connect() as connection:\n",
    "    result = connection.execute(sqlalchemy.text(\"SELECT 'Success' as did_it_work\"))\n",
    "for r in result:\n",
    "    print(r)"
   ]
  },
  {
   "cell_type": "markdown",
   "id": "9a73d9ec-dad8-4af2-94c5-6cb524abdbe2",
   "metadata": {},
   "source": [
    "### Query Orchestrator\n",
    "\n",
    "Use the client and SQLAlchemy engine as the basis for a simple function that executes queries and returns results:"
   ]
  },
  {
   "cell_type": "code",
   "execution_count": 155,
   "id": "157da160-b8f7-4aa5-8c4c-f287777235b5",
   "metadata": {
    "tags": []
   },
   "outputs": [],
   "source": [
    "def run_query(query, database = database, engine = autocommit_engine):\n",
    "    with engine.connect() as connection:\n",
    "        result = connection.execute(query)\n",
    "        \n",
    "    # prepare the response\n",
    "    rows = []\n",
    "    try:\n",
    "        for row in result:\n",
    "            rows.append(dict(zip(result.keys(), row)))\n",
    "    except Exception:\n",
    "        pass\n",
    "    \n",
    "    # return the response\n",
    "    return rows[0] if len(rows) == 1 else rows"
   ]
  },
  {
   "cell_type": "markdown",
   "id": "c3e45120-21c6-4f37-9182-09f4aa8744e3",
   "metadata": {},
   "source": [
    "Execute a test query:"
   ]
  },
  {
   "cell_type": "code",
   "execution_count": 157,
   "id": "73653808-0235-4854-ab4b-d5ec8ad5a2c9",
   "metadata": {
    "tags": []
   },
   "outputs": [
    {
     "data": {
      "text/plain": [
       "{'did_it_work': 'Success'}"
      ]
     },
     "execution_count": 157,
     "metadata": {},
     "output_type": "execute_result"
    }
   ],
   "source": [
    "run_query(sqlalchemy.text(\"SELECT 'Success' as did_it_work\"))"
   ]
  },
  {
   "cell_type": "markdown",
   "id": "4b76c8bc-a366-46ef-8833-9e828a0210c3",
   "metadata": {},
   "source": [
    "### Create/Retrieve A Table\n",
    "\n",
    "Create a table. If the table already exists the remove it first to start fresh for this example workflow.\n",
    "\n",
    "Documentation References:\n",
    "- [Data types in GoogleSQL](https://cloud.google.com/spanner/docs/reference/standard-sql/data-types)"
   ]
  },
  {
   "cell_type": "markdown",
   "id": "7da681cf-2eb4-4c62-9c81-dff0a0fc134e",
   "metadata": {},
   "source": [
    "#### Check For Table And Delete It\n",
    "\n",
    "This uses queries against the Spanner [Information Schema tables](https://cloud.google.com/spanner/docs/information-schema) to check for the table and any indexes on it.  If found these are dropped to start fresh for this workflow."
   ]
  },
  {
   "cell_type": "markdown",
   "id": "5489cfc0-292b-44a1-9fbf-92246c972d87",
   "metadata": {},
   "source": [
    "Check for the table:"
   ]
  },
  {
   "cell_type": "code",
   "execution_count": 264,
   "id": "37b9e8c7-0894-4f2b-945f-ec06e5fd1036",
   "metadata": {
    "tags": []
   },
   "outputs": [
    {
     "data": {
      "text/plain": [
       "{'TABLE_CATALOG': '',\n",
       " 'TABLE_SCHEMA': '',\n",
       " 'TABLE_NAME': 'retrieval_spanner',\n",
       " 'PARENT_TABLE_NAME': None,\n",
       " 'ON_DELETE_ACTION': None,\n",
       " 'TABLE_TYPE': 'BASE TABLE',\n",
       " 'SPANNER_STATE': 'COMMITTED',\n",
       " 'INTERLEAVE_TYPE': None,\n",
       " 'ROW_DELETION_POLICY_EXPRESSION': None}"
      ]
     },
     "execution_count": 264,
     "metadata": {},
     "output_type": "execute_result"
    }
   ],
   "source": [
    "table_result = run_query(sqlalchemy.text(f\"SELECT * from information_schema.tables WHERE table_name = '{SPANNER_TABLE_NAME}'\"))\n",
    "table_result"
   ]
  },
  {
   "cell_type": "markdown",
   "id": "08482c97-119f-4ec2-965c-3951803b76ec",
   "metadata": {},
   "source": [
    "If the table was found, check for any indexes on it:"
   ]
  },
  {
   "cell_type": "code",
   "execution_count": 265,
   "id": "e31a78e1-c234-4b94-8fa5-2c151fd7948a",
   "metadata": {
    "tags": []
   },
   "outputs": [],
   "source": [
    "if table_result:\n",
    "    index_result = run_query(sqlalchemy.text(f\"SELECT INDEX_NAME, INDEX_TYPE FROM information_schema.indexes WHERE table_name = '{SPANNER_TABLE_NAME}'\"))\n",
    "else:\n",
    "    index_result = []"
   ]
  },
  {
   "cell_type": "code",
   "execution_count": 266,
   "id": "29f29c9c-2781-4f07-a9bd-f322fcc3922d",
   "metadata": {
    "tags": []
   },
   "outputs": [
    {
     "data": {
      "text/plain": [
       "{'INDEX_NAME': 'PRIMARY_KEY', 'INDEX_TYPE': 'PRIMARY_KEY'}"
      ]
     },
     "execution_count": 266,
     "metadata": {},
     "output_type": "execute_result"
    }
   ],
   "source": [
    "index_result"
   ]
  },
  {
   "cell_type": "markdown",
   "id": "f88c0433-6f70-49cc-9b79-70963915288e",
   "metadata": {},
   "source": [
    "Remove any vector indexes:"
   ]
  },
  {
   "cell_type": "code",
   "execution_count": 267,
   "id": "2db51755-c580-4450-a6a8-d54c1329ec3a",
   "metadata": {
    "tags": []
   },
   "outputs": [],
   "source": [
    "if index_result:\n",
    "    if type(index_result) == dict: index_result = [index_result]\n",
    "    for index in index_result:\n",
    "        if index['INDEX_TYPE'] == 'VECTOR':\n",
    "            run_query(sqlalchemy.text(f\"DROP INDEX {index['INDEX_NAME']}\"))"
   ]
  },
  {
   "cell_type": "markdown",
   "id": "0094fd96-de6c-48c3-b99c-5a39dd6843b4",
   "metadata": {},
   "source": [
    "Remove the table:"
   ]
  },
  {
   "cell_type": "code",
   "execution_count": 268,
   "id": "482786c9-a58b-418c-aa7c-d6e248c91c6f",
   "metadata": {
    "tags": []
   },
   "outputs": [],
   "source": [
    "if table_result:\n",
    "    run_query(sqlalchemy.text(f\"DROP TABLE {SPANNER_TABLE_NAME}\"))"
   ]
  },
  {
   "cell_type": "markdown",
   "id": "58e90eb3-e4c7-40ea-86b1-3de7edd43126",
   "metadata": {},
   "source": [
    "#### Create A Table\n",
    "\n",
    "Create a table with schema is done by specifying the appropriate [Data Types](https://cloud.google.com/spanner/docs/reference/standard-sql/data-types).  It can also be helpful to look ahead to the [Spanner vector search](https://cloud.google.com/spanner/docs/find-k-nearest-neighbors) documentation."
   ]
  },
  {
   "cell_type": "code",
   "execution_count": 269,
   "id": "a72ec620-0ab5-48be-869d-ca89ae2437c7",
   "metadata": {
    "tags": []
   },
   "outputs": [
    {
     "data": {
      "text/plain": [
       "[]"
      ]
     },
     "execution_count": 269,
     "metadata": {},
     "output_type": "execute_result"
    }
   ],
   "source": [
    "run_query(sqlalchemy.text(f\"\"\"\n",
    "    CREATE TABLE {SPANNER_TABLE_NAME} (\n",
    "        chunk_id STRING(100) NOT NULL,\n",
    "        embedding ARRAY<FLOAT32>(vector_length=>{len(question_embedding)}),\n",
    "        gse STRING(25),\n",
    "        content STRING(MAX)\n",
    "    ) PRIMARY KEY (chunk_id)\n",
    "\"\"\"))"
   ]
  },
  {
   "cell_type": "markdown",
   "id": "4cf8e33a-991c-49a7-80e9-c07884569e6f",
   "metadata": {},
   "source": [
    "Checking the information schema for the table was shown above.  The [Python Client For Cloud Spanners `Table` Module](https://cloud.google.com/python/docs/reference/spanner/latest/google.cloud.spanner_v1.table) can also be used:"
   ]
  },
  {
   "cell_type": "code",
   "execution_count": 270,
   "id": "583803a8-fe80-461b-b569-47af5194b4a7",
   "metadata": {
    "tags": []
   },
   "outputs": [
    {
     "data": {
      "text/plain": [
       "True"
      ]
     },
     "execution_count": 270,
     "metadata": {},
     "output_type": "execute_result"
    }
   ],
   "source": [
    "database.table(SPANNER_TABLE_NAME).exists()"
   ]
  },
  {
   "cell_type": "markdown",
   "id": "51bb7ff9-58ec-4679-aa98-ce6472807e03",
   "metadata": {
    "tags": []
   },
   "source": [
    "### Add, Retrieve, And Delete Rows\n",
    "\n",
    "Learn about inserting, retrieving, and deleting records/rows with the following simple examples."
   ]
  },
  {
   "cell_type": "markdown",
   "id": "5764ff30-edc8-47a5-b836-25d3c138cbc9",
   "metadata": {},
   "source": [
    "#### Get A Record\n",
    "\n",
    "Dictionaries for each record/row are stored in `content_chunks` from earlier in this workflow:"
   ]
  },
  {
   "cell_type": "code",
   "execution_count": 271,
   "id": "b575010a-11c5-4b43-b3e5-8ed57492a6e6",
   "metadata": {
    "tags": []
   },
   "outputs": [],
   "source": [
    "first_record = content_chunks[0]"
   ]
  },
  {
   "cell_type": "code",
   "execution_count": 272,
   "id": "e6a36677-d8e5-47fc-b1d4-237282bcb0fc",
   "metadata": {
    "tags": []
   },
   "outputs": [
    {
     "data": {
      "text/plain": [
       "dict_keys(['gse', 'chunk_id', 'content', 'embedding'])"
      ]
     },
     "execution_count": 272,
     "metadata": {},
     "output_type": "execute_result"
    }
   ],
   "source": [
    "first_record.keys()"
   ]
  },
  {
   "cell_type": "code",
   "execution_count": 273,
   "id": "d2463d83-aa30-434c-92fd-76244fef318d",
   "metadata": {
    "tags": []
   },
   "outputs": [
    {
     "data": {
      "text/plain": [
       "'fannie_part_0_c17'"
      ]
     },
     "execution_count": 273,
     "metadata": {},
     "output_type": "execute_result"
    }
   ],
   "source": [
    "first_record['chunk_id']"
   ]
  },
  {
   "cell_type": "markdown",
   "id": "568003fd-5931-468e-ad13-26595e8e5100",
   "metadata": {},
   "source": [
    "#### Insert Row"
   ]
  },
  {
   "cell_type": "code",
   "execution_count": 274,
   "id": "06a3ac34-27cf-4c19-8645-088c1980b2e4",
   "metadata": {
    "tags": []
   },
   "outputs": [],
   "source": [
    "with database.batch() as batch:\n",
    "    batch.insert(\n",
    "        table = SPANNER_TABLE_NAME,\n",
    "        columns = tuple(first_record.keys()),\n",
    "        values = [tuple(first_record.values())]\n",
    "    )"
   ]
  },
  {
   "cell_type": "markdown",
   "id": "21c3e2ca-80cc-4646-ae2c-dc35ea236515",
   "metadata": {},
   "source": [
    "#### Retrieve Row\n",
    "\n",
    "There are multiple helpful ways to retrieve rows.  With SQL, and the Spanner Client as demonstrated here:"
   ]
  },
  {
   "cell_type": "markdown",
   "id": "994ef12b-39c8-4d75-a440-fb609fede003",
   "metadata": {
    "tags": []
   },
   "source": [
    "Using Spanner Client Using SQL:"
   ]
  },
  {
   "cell_type": "code",
   "execution_count": 275,
   "id": "7885e889-e1b2-4ba3-8ba7-794d09b1a643",
   "metadata": {
    "tags": []
   },
   "outputs": [],
   "source": [
    "with database.snapshot() as snapshot:\n",
    "    response = snapshot.execute_sql(f\"SELECT {','.join(first_record.keys())} FROM {SPANNER_TABLE_NAME} WHERE chunk_id = '{first_record['chunk_id']}'\")\n",
    "results = []\n",
    "for row in list(response):\n",
    "    results.append(dict(zip(first_record.keys(), row)))"
   ]
  },
  {
   "cell_type": "code",
   "execution_count": 276,
   "id": "f9ec1506-31c5-4d92-a79b-c073adcb320f",
   "metadata": {
    "tags": []
   },
   "outputs": [
    {
     "data": {
      "text/plain": [
       "'fannie_part_0_c17'"
      ]
     },
     "execution_count": 276,
     "metadata": {},
     "output_type": "execute_result"
    }
   ],
   "source": [
    "results[0]['chunk_id']"
   ]
  },
  {
   "cell_type": "code",
   "execution_count": 277,
   "id": "723fcc52-0f0c-4648-b259-2cab2386316a",
   "metadata": {
    "tags": []
   },
   "outputs": [
    {
     "data": {
      "text/plain": [
       "'fannie'"
      ]
     },
     "execution_count": 277,
     "metadata": {},
     "output_type": "execute_result"
    }
   ],
   "source": [
    "results[0]['gse']"
   ]
  },
  {
   "cell_type": "markdown",
   "id": "7ab4d831-8fa0-47e7-b2eb-693344d17f8c",
   "metadata": {},
   "source": [
    "Using Spanner Clients Read Method:"
   ]
  },
  {
   "cell_type": "code",
   "execution_count": 278,
   "id": "79d8b260-57df-4c4d-acf5-aba4f91a0ef0",
   "metadata": {
    "tags": []
   },
   "outputs": [],
   "source": [
    "with database.snapshot() as snapshot:\n",
    "    response = snapshot.read(\n",
    "        table = SPANNER_TABLE_NAME,\n",
    "        columns = list(first_record.keys()), # or a subset provided as a list [column names]\n",
    "        keyset = spanner.KeySet(keys=[(first_record['chunk_id'],)]) # or all rows with spanner.KeySet(all_ = True)\n",
    "    )\n",
    "    results = []\n",
    "    for row in list(response):\n",
    "        results.append(dict(zip(first_record.keys(), row)))"
   ]
  },
  {
   "cell_type": "code",
   "execution_count": 279,
   "id": "2c901f75-f443-4751-af72-b6ac46f9f90e",
   "metadata": {
    "tags": []
   },
   "outputs": [
    {
     "data": {
      "text/plain": [
       "1"
      ]
     },
     "execution_count": 279,
     "metadata": {},
     "output_type": "execute_result"
    }
   ],
   "source": [
    "len(results)"
   ]
  },
  {
   "cell_type": "code",
   "execution_count": 280,
   "id": "1b9d0861-f108-459f-9716-2772f23df916",
   "metadata": {
    "tags": []
   },
   "outputs": [
    {
     "data": {
      "text/plain": [
       "dict_keys(['gse', 'chunk_id', 'content', 'embedding'])"
      ]
     },
     "execution_count": 280,
     "metadata": {},
     "output_type": "execute_result"
    }
   ],
   "source": [
    "results[0].keys()"
   ]
  },
  {
   "cell_type": "code",
   "execution_count": 281,
   "id": "b6f43fc6-f501-41cf-bcab-c834ce835c95",
   "metadata": {
    "tags": []
   },
   "outputs": [
    {
     "data": {
      "text/plain": [
       "'fannie_part_0_c17'"
      ]
     },
     "execution_count": 281,
     "metadata": {},
     "output_type": "execute_result"
    }
   ],
   "source": [
    "results[0]['chunk_id']"
   ]
  },
  {
   "cell_type": "code",
   "execution_count": 282,
   "id": "0124dd99-0da4-4c82-9ba5-7e6943da2488",
   "metadata": {
    "tags": []
   },
   "outputs": [
    {
     "data": {
      "text/plain": [
       "'fannie'"
      ]
     },
     "execution_count": 282,
     "metadata": {},
     "output_type": "execute_result"
    }
   ],
   "source": [
    "results[0]['gse']"
   ]
  },
  {
   "cell_type": "code",
   "execution_count": 283,
   "id": "76133f23-f20f-4203-b71d-4657515574a8",
   "metadata": {
    "tags": []
   },
   "outputs": [
    {
     "data": {
      "text/plain": [
       "'# Selling Guide Fannie Mae Single Family\\n\\n## Fannie Mae Copyright Notice\\n\\n### Fannie Mae Copyright Notice\\n\\n|-|\\n| Section B3-4.2, Verification of Depository Assets 402 |\\n| B3-4.2-01, Verification of Deposits and Assets (05/04/2022) 403 |\\n| B3-4.2-02, Depository Accounts (12/14/2022) 405 |\\n| B3-4.2-03, Individual Development Accounts (02/06/2019) 408 |\\n| B3-4.2-04, Pooled Savings (Community Savings Funds) (04/01/2009) 411 |\\n| B3-4.2-05, Foreign Assets (05/04/2022) 411 |\\n| Section B3-4.3, Verification of Non-Depository Assets 412 |\\n| B3-4.3-01, Stocks, Stock Options, Bonds, and Mutual Funds (06/30/2015) 412 |\\n| B3-4.3-02, Trust Accounts (04/01/2009) 413 |\\n| B3-4.3-03, Retirement Accounts (06/30/2015) 414 |\\n| B3-4.3-04, Personal Gifts (09/06/2023) 415 |\\n| B3-4.3-05, Gifts of Equity (10/07/2020) 418 |\\n| B3-4.3-06, Grants and Lender Contributions (12/14/2022) 419 |\\n| B3-4.3-07, Disaster Relief Grants or Loans (04/01/2009) 423 |\\n| B3-4.3-08, Employer Assistance (09/29/2015) 423 |\\n| B3-4.3-09, Earnest Money Deposit (05/04/2022) 425 |\\n| B3-4.3-10, Anticipated Sales Proceeds (02/23/2016) B3-4.3-11, Trade Equity (12/16/2020) 426 428 |\\n| B3-4.3-12, Rent-Related Credits (08/07/2024) 429 |\\n| B3-4.3-13, Sweat Equity (04/15/2014) 430 |\\n| B3-4.3-14, Bridge/Swing Loans (04/01/2009) 431 |\\n| B3-4.3-15, Borrowed Funds Secured by an Asset (10/30/2009) 431 |\\n|  |\\n\\n'"
      ]
     },
     "execution_count": 283,
     "metadata": {},
     "output_type": "execute_result"
    }
   ],
   "source": [
    "results[0]['content']"
   ]
  },
  {
   "cell_type": "markdown",
   "id": "f7453cde-3909-4a6f-b0c0-55e1b2124acb",
   "metadata": {},
   "source": [
    "Using SQL With SQLAlchemy:"
   ]
  },
  {
   "cell_type": "code",
   "execution_count": 284,
   "id": "f0de33b5-8a30-4524-be38-ecdcbdfa0bff",
   "metadata": {
    "tags": []
   },
   "outputs": [],
   "source": [
    "query = sqlalchemy.text(f\"SELECT * FROM `{SPANNER_TABLE_NAME}` WHERE chunk_id = '{first_record['chunk_id']}'\")\n",
    "result = run_query(query)"
   ]
  },
  {
   "cell_type": "code",
   "execution_count": 285,
   "id": "6eaac575-205c-4931-a974-deed4e71513c",
   "metadata": {
    "tags": []
   },
   "outputs": [
    {
     "data": {
      "text/plain": [
       "dict_keys(['chunk_id', 'embedding', 'gse', 'content'])"
      ]
     },
     "execution_count": 285,
     "metadata": {},
     "output_type": "execute_result"
    }
   ],
   "source": [
    "result.keys()"
   ]
  },
  {
   "cell_type": "code",
   "execution_count": 286,
   "id": "64cd293b-2249-4e68-8d60-335d9cf7c8d7",
   "metadata": {
    "tags": []
   },
   "outputs": [
    {
     "data": {
      "text/plain": [
       "'fannie_part_0_c17'"
      ]
     },
     "execution_count": 286,
     "metadata": {},
     "output_type": "execute_result"
    }
   ],
   "source": [
    "result['chunk_id']"
   ]
  },
  {
   "cell_type": "code",
   "execution_count": 287,
   "id": "304a0971-bb54-4a04-87ea-99c1c18605d1",
   "metadata": {
    "tags": []
   },
   "outputs": [
    {
     "data": {
      "text/plain": [
       "list"
      ]
     },
     "execution_count": 287,
     "metadata": {},
     "output_type": "execute_result"
    }
   ],
   "source": [
    "type(result['embedding'])"
   ]
  },
  {
   "cell_type": "code",
   "execution_count": 288,
   "id": "33058afa-7b4a-4da3-8bd1-dbfac442399b",
   "metadata": {
    "tags": []
   },
   "outputs": [
    {
     "data": {
      "text/plain": [
       "[0.031277116388082504,\n",
       " 0.03056905046105385,\n",
       " 0.010865348391234875,\n",
       " 0.0623614676296711,\n",
       " 0.03228681534528732,\n",
       " 0.05066155269742012,\n",
       " 0.046544693410396576,\n",
       " 0.05509665608406067,\n",
       " -0.014074751175940037,\n",
       " 0.008380400016903877]"
      ]
     },
     "execution_count": 288,
     "metadata": {},
     "output_type": "execute_result"
    }
   ],
   "source": [
    "result['embedding'][0:10]"
   ]
  },
  {
   "cell_type": "markdown",
   "id": "de9c8972-c297-4b66-a7cb-c6dc70b65130",
   "metadata": {},
   "source": [
    "#### Delete Row\n",
    "\n",
    "Delete the row added here.  Verify the action by counting the rows before and after the deletion."
   ]
  },
  {
   "cell_type": "code",
   "execution_count": 289,
   "id": "500e45e5-ce80-4ccb-9c3a-5e3843b934ce",
   "metadata": {
    "tags": []
   },
   "outputs": [
    {
     "data": {
      "text/plain": [
       "{'count': 1}"
      ]
     },
     "execution_count": 289,
     "metadata": {},
     "output_type": "execute_result"
    }
   ],
   "source": [
    "run_query(sqlalchemy.text(f\"SELECT COUNT(*) as count FROM `{SPANNER_TABLE_NAME}`\"))"
   ]
  },
  {
   "cell_type": "code",
   "execution_count": 290,
   "id": "b5e1cde2-2746-499b-ba38-39e9624562e9",
   "metadata": {
    "tags": []
   },
   "outputs": [
    {
     "data": {
      "text/plain": [
       "[]"
      ]
     },
     "execution_count": 290,
     "metadata": {},
     "output_type": "execute_result"
    }
   ],
   "source": [
    "run_query(sqlalchemy.text(f\"DELETE FROM `{SPANNER_TABLE_NAME}` WHERE chunk_id = '{first_record['chunk_id']}'\"))"
   ]
  },
  {
   "cell_type": "code",
   "execution_count": 291,
   "id": "88ac1f07-c6ee-4dec-ac50-0aa2f5794a20",
   "metadata": {
    "tags": []
   },
   "outputs": [
    {
     "data": {
      "text/plain": [
       "{'count': 0}"
      ]
     },
     "execution_count": 291,
     "metadata": {},
     "output_type": "execute_result"
    }
   ],
   "source": [
    "run_query(sqlalchemy.text(f\"SELECT COUNT(*) as count FROM `{SPANNER_TABLE_NAME}`\"))"
   ]
  },
  {
   "cell_type": "markdown",
   "id": "6e61bc32-f349-4815-b94d-559a6d24e056",
   "metadata": {},
   "source": [
    "### Load Data\n",
    "\n",
    "There are a lot of rows so using the batch method for loading:\n",
    "\n",
    "Documentation References:\n",
    "- [Insert, update, and delete data using mutations](https://cloud.google.com/spanner/docs/modify-mutation-api#python)\n",
    "- [Python Client For Database Batch](https://cloud.google.com/python/docs/reference/spanner/latest/google.cloud.spanner_v1.database.Database#google_cloud_spanner_v1_database_Database_batch)\n",
    "\n",
    "Keep in mind that a single batch can have limits for total size and number of mutations and may need to be broken into multiple batches."
   ]
  },
  {
   "cell_type": "code",
   "execution_count": 292,
   "id": "52187ae0-4636-466d-80a5-b602c65ea51e",
   "metadata": {
    "tags": []
   },
   "outputs": [],
   "source": [
    "async def insert_data(database, input_data):\n",
    "    \"\"\"Inserts data rows into the Spanner table asynchronously.\"\"\"\n",
    "    with database.batch() as batch:\n",
    "        for record in input_data:\n",
    "            batch.insert(\n",
    "                table=SPANNER_TABLE_NAME,\n",
    "                columns=tuple(record.keys()),\n",
    "                values=[tuple(record.values())]\n",
    "            )"
   ]
  },
  {
   "cell_type": "code",
   "execution_count": 293,
   "id": "8615df35-0c7e-440a-913f-8d432e3191a0",
   "metadata": {
    "tags": []
   },
   "outputs": [],
   "source": [
    "await insert_data(database, content_chunks)"
   ]
  },
  {
   "cell_type": "markdown",
   "id": "751666b4-b418-4b1f-9776-6376010aeeb2",
   "metadata": {},
   "source": [
    "Verify the results with a row count:"
   ]
  },
  {
   "cell_type": "code",
   "execution_count": 294,
   "id": "fd2d7abf-03d6-4db6-b880-0f0b76fa6aa6",
   "metadata": {
    "tags": []
   },
   "outputs": [
    {
     "data": {
      "text/plain": [
       "{'count': 9040}"
      ]
     },
     "execution_count": 294,
     "metadata": {},
     "output_type": "execute_result"
    }
   ],
   "source": [
    "run_query(sqlalchemy.text(f\"SELECT COUNT(*) as count FROM `{SPANNER_TABLE_NAME}`\"))"
   ]
  },
  {
   "cell_type": "markdown",
   "id": "4bae9e8f-5fac-4540-bfae-12204e204f87",
   "metadata": {},
   "source": [
    "---\n",
    "## Vector Similarity Search, Matching\n",
    "\n",
    "This section covers the operation of using a vector similarity metric calculation to find nearest neighbors for a query vector while also taking advantage of indexing.  To understand similarity metrics and motivate the intution for choosing one (choose dot product), check out [The Math of Similarity](../Embeddings/The%20Math%20of%20Similarity.ipynb)."
   ]
  },
  {
   "cell_type": "markdown",
   "id": "9c47558b-e427-4415-9bbc-939af3947d67",
   "metadata": {},
   "source": [
    "### Check For Vector Indexes\n",
    "\n",
    "At this point in the workflow no vector indexes have been created.  The following cells show how to check for indexes and will be reused later in the workflow to verify the details of indexes after they are created."
   ]
  },
  {
   "cell_type": "code",
   "execution_count": 295,
   "id": "27327fbc-7728-45c7-abf3-638c3399b358",
   "metadata": {
    "tags": []
   },
   "outputs": [
    {
     "data": {
      "text/plain": [
       "[]"
      ]
     },
     "execution_count": 295,
     "metadata": {},
     "output_type": "execute_result"
    }
   ],
   "source": [
    "run_query(sqlalchemy.text(f\"\"\"\n",
    "    SELECT INDEX_NAME, INDEX_TYPE\n",
    "    FROM information_schema.indexes\n",
    "    WHERE\n",
    "        table_name = '{SPANNER_TABLE_NAME}'\n",
    "        AND index_type = 'VECTOR'\n",
    "\"\"\"))"
   ]
  },
  {
   "cell_type": "markdown",
   "id": "a8966dfd-1f47-41e9-98e4-e8ee37a27035",
   "metadata": {
    "tags": []
   },
   "source": [
    "### Brute Force Search - No Index\n",
    "\n",
    "Without an index you can still use distance measures to find nearest neighbor matches through brute force search that compares a query embedding to all rows.\n",
    "\n",
    "Easily run a brute force (compare to all rows) match with a choice of distance measure function using the [`pgvector` querying notation](https://github.com/pgvector/pgvector?tab=readme-ov-file#querying):\n",
    "- [COSINE_DISTANCE()](https://cloud.google.com/spanner/docs/reference/standard-sql/mathematical_functions#cosine_distance) for Cosine distance\n",
    "- [EUCLIDEAN_DISTANCE()](https://cloud.google.com/spanner/docs/reference/standard-sql/mathematical_functions#euclidean_distance) for L2, Euclidean distance\n",
    "- [DOT_PRODUCT()](https://cloud.google.com/spanner/docs/reference/standard-sql/mathematical_functions#dot_product) for Dot product\n",
    "    \n",
    "Documentation Reference: [Perform vector similarity search in Spanner by finding the K-nearest neighbors](https://cloud.google.com/spanner/docs/find-k-nearest-neighbors)"
   ]
  },
  {
   "cell_type": "markdown",
   "id": "1fbfaaee-53f9-4b53-bafb-8b7d5d7d846b",
   "metadata": {},
   "source": [
    "Dot product with `DOT_PRODUCT()`"
   ]
  },
  {
   "cell_type": "code",
   "execution_count": 296,
   "id": "2b9b45fe-bbe3-41e3-ae26-5b4ab666db41",
   "metadata": {
    "tags": []
   },
   "outputs": [
    {
     "data": {
      "text/plain": [
       "[{'chunk_id': 'fannie_part_0_c352', 'dot_product': 0.7099841833114624},\n",
       " {'chunk_id': 'freddie_part_4_c509', 'dot_product': 0.6805261373519897},\n",
       " {'chunk_id': 'freddie_part_4_c510', 'dot_product': 0.6753296852111816},\n",
       " {'chunk_id': 'fannie_part_0_c353', 'dot_product': 0.6723706722259521},\n",
       " {'chunk_id': 'fannie_part_0_c326', 'dot_product': 0.6683496832847595}]"
      ]
     },
     "execution_count": 296,
     "metadata": {},
     "output_type": "execute_result"
    }
   ],
   "source": [
    "run_query(sqlalchemy.text(f\"\"\"\n",
    "    SELECT\n",
    "        chunk_id,\n",
    "        DOT_PRODUCT(embedding, ARRAY<FLOAT32>{question_embedding}) AS dot_product\n",
    "    FROM {SPANNER_TABLE_NAME}\n",
    "    ORDER BY dot_product DESC\n",
    "    LIMIT 5\n",
    "\"\"\"))"
   ]
  },
  {
   "cell_type": "markdown",
   "id": "85ffa652-bcd7-492a-bdab-d4b74c8dc8fc",
   "metadata": {},
   "source": [
    "Euclidean distance with `EUCLIDEAN_DISTANCE()`"
   ]
  },
  {
   "cell_type": "code",
   "execution_count": 297,
   "id": "d99dd83b-af5f-40b2-b4b9-817c89908947",
   "metadata": {
    "tags": []
   },
   "outputs": [
    {
     "data": {
      "text/plain": [
       "[{'chunk_id': 'fannie_part_0_c352', 'euclidean_distance': 0.7615657946265283},\n",
       " {'chunk_id': 'freddie_part_4_c509', 'euclidean_distance': 0.7992874727506176},\n",
       " {'chunk_id': 'freddie_part_4_c510', 'euclidean_distance': 0.8057848660615564},\n",
       " {'chunk_id': 'fannie_part_0_c353', 'euclidean_distance': 0.8094337265330812},\n",
       " {'chunk_id': 'fannie_part_0_c326', 'euclidean_distance': 0.8144253513348422}]"
      ]
     },
     "execution_count": 297,
     "metadata": {},
     "output_type": "execute_result"
    }
   ],
   "source": [
    "run_query(sqlalchemy.text(f\"\"\"\n",
    "    SELECT\n",
    "        chunk_id,\n",
    "        EUCLIDEAN_DISTANCE(embedding, ARRAY<FLOAT32>{question_embedding}) AS euclidean_distance\n",
    "    FROM {SPANNER_TABLE_NAME}\n",
    "    ORDER BY euclidean_distance\n",
    "    LIMIT 5\n",
    "\"\"\"))"
   ]
  },
  {
   "cell_type": "markdown",
   "id": "e78ef6a5-4496-4bec-a8d3-f8ae1f1e2337",
   "metadata": {},
   "source": [
    "Cosine Similarity with `COSINE_DISTANCE()`"
   ]
  },
  {
   "cell_type": "code",
   "execution_count": 298,
   "id": "87e3c455-6250-4db7-bf1d-7716982c03d3",
   "metadata": {
    "tags": []
   },
   "outputs": [
    {
     "data": {
      "text/plain": [
       "[{'chunk_id': 'fannie_part_0_c352', 'cosine_similarity': 0.28999842323157043},\n",
       " {'chunk_id': 'freddie_part_4_c509', 'cosine_similarity': 0.31944418927007767},\n",
       " {'chunk_id': 'freddie_part_4_c510', 'cosine_similarity': 0.3246529853234844},\n",
       " {'chunk_id': 'fannie_part_0_c353', 'cosine_similarity': 0.32760391792511945},\n",
       " {'chunk_id': 'fannie_part_0_c326', 'cosine_similarity': 0.3316462732543465}]"
      ]
     },
     "execution_count": 298,
     "metadata": {},
     "output_type": "execute_result"
    }
   ],
   "source": [
    "run_query(sqlalchemy.text(f\"\"\"\n",
    "    SELECT\n",
    "        chunk_id,\n",
    "        COSINE_DISTANCE(embedding, ARRAY<FLOAT32>{question_embedding}) AS cosine_similarity\n",
    "    FROM {SPANNER_TABLE_NAME}\n",
    "    ORDER BY cosine_similarity\n",
    "    LIMIT 5\n",
    "\"\"\"))"
   ]
  },
  {
   "cell_type": "markdown",
   "id": "d1f95499-c9dd-4167-b3d9-e5ee18eaa8c1",
   "metadata": {},
   "source": [
    "### Brute Force Search With Pre-Filtering - No Index\n",
    "\n",
    "Extending a brute force match with pre-filtering means including a `WHERE` statement to first filter to rows that meet a desired condition:"
   ]
  },
  {
   "cell_type": "markdown",
   "id": "3551daec-8058-49e2-aa46-ac7c9dd2bcfc",
   "metadata": {},
   "source": [
    "Find the top 5 matches where the GSE is 'fannie':"
   ]
  },
  {
   "cell_type": "code",
   "execution_count": 299,
   "id": "fa5dbad8-3a42-4fdb-ad50-9617111185fc",
   "metadata": {
    "tags": []
   },
   "outputs": [
    {
     "data": {
      "text/plain": [
       "[{'chunk_id': 'fannie_part_0_c352', 'dot_product': 0.7099841833114624},\n",
       " {'chunk_id': 'fannie_part_0_c353', 'dot_product': 0.6723706722259521},\n",
       " {'chunk_id': 'fannie_part_0_c326', 'dot_product': 0.66834956407547},\n",
       " {'chunk_id': 'fannie_part_0_c92', 'dot_product': 0.661433756351471},\n",
       " {'chunk_id': 'fannie_part_0_c240', 'dot_product': 0.6608578562736511}]"
      ]
     },
     "execution_count": 299,
     "metadata": {},
     "output_type": "execute_result"
    }
   ],
   "source": [
    "run_query(sqlalchemy.text(f\"\"\"\n",
    "    SELECT\n",
    "        chunk_id,\n",
    "        DOT_PRODUCT(embedding, ARRAY<FLOAT32>{question_embedding}) AS dot_product\n",
    "    FROM {SPANNER_TABLE_NAME}\n",
    "    WHERE gse = 'fannie'\n",
    "    ORDER BY dot_product DESC\n",
    "    LIMIT 5\n",
    "\"\"\"))"
   ]
  },
  {
   "cell_type": "markdown",
   "id": "c5433719-e2ec-47d8-99fd-5a8912be4983",
   "metadata": {},
   "source": [
    "Find the top 5 matches where the GSE is 'freddie':"
   ]
  },
  {
   "cell_type": "code",
   "execution_count": 300,
   "id": "192e8c0f-0a1d-4c11-a765-032e5dd1376f",
   "metadata": {
    "tags": []
   },
   "outputs": [
    {
     "data": {
      "text/plain": [
       "[{'chunk_id': 'freddie_part_4_c509', 'dot_product': 0.6805261373519897},\n",
       " {'chunk_id': 'freddie_part_4_c510', 'dot_product': 0.6753296852111816},\n",
       " {'chunk_id': 'freddie_part_4_c472', 'dot_product': 0.6619843244552612},\n",
       " {'chunk_id': 'freddie_part_6_c439', 'dot_product': 0.6604535579681396},\n",
       " {'chunk_id': 'freddie_part_4_c558', 'dot_product': 0.6575404405593872}]"
      ]
     },
     "execution_count": 300,
     "metadata": {},
     "output_type": "execute_result"
    }
   ],
   "source": [
    "run_query(sqlalchemy.text(f\"\"\"\n",
    "    SELECT\n",
    "        chunk_id,\n",
    "        DOT_PRODUCT(embedding, ARRAY<FLOAT32>{question_embedding}) AS dot_product\n",
    "    FROM {SPANNER_TABLE_NAME}\n",
    "    WHERE gse = 'freddie'\n",
    "    ORDER BY dot_product DESC\n",
    "    LIMIT 5\n",
    "\"\"\"))"
   ]
  },
  {
   "cell_type": "markdown",
   "id": "df51edd8-dd76-4963-9947-d7695cbec7ba",
   "metadata": {},
   "source": [
    "### Create And Use An Index\n",
    "\n",
    "Indexes make search across many rows more efficient by first matching partions of rows and then only comparing to rows within the partions.  This section covers [creating indexes](https://cloud.google.com/spanner/docs/find-approximate-nearest-neighbors#vector-index) and using them in queries.\n",
    "\n",
    "- ScaNN: [Developed by google](https://github.com/google-research/google-research/blob/master/scann/docs/algorithms.md)\n",
    "    - tree-based quantization index\n",
    "    - [options](https://cloud.google.com/spanner/docs/reference/standard-sql/data-definition-language#vector_index_option_list) for the distance type, tree depth, number leaves and number of branches\n",
    "\n",
    "Documentation References:\n",
    "- [Vector Indexes](https://cloud.google.com/spanner/docs/find-approximate-nearest-neighbors#vector-index)\n",
    "- [VECTOR INDEX statements](https://cloud.google.com/spanner/docs/reference/standard-sql/data-definition-language#vector_index_statements)"
   ]
  },
  {
   "cell_type": "markdown",
   "id": "01e2dc07-2f02-4297-8768-97ee19bf493f",
   "metadata": {},
   "source": [
    "#### Prepare Table For Vector Index Creation\n",
    "\n",
    "The column type for the embedding [needs to include](https://cloud.google.com/spanner/docs/reference/standard-sql/data-definition-language#parameters_34) the `vector_length=>INT` information.  It was set during table creation above and verified here:"
   ]
  },
  {
   "cell_type": "code",
   "execution_count": 301,
   "id": "de22ca52-5db1-4098-b300-f8e2a6666a44",
   "metadata": {
    "tags": []
   },
   "outputs": [
    {
     "data": {
      "text/plain": [
       "[{'COLUMN_NAME': 'chunk_id', 'SPANNER_TYPE': 'STRING(100)'},\n",
       " {'COLUMN_NAME': 'embedding',\n",
       "  'SPANNER_TYPE': 'ARRAY<FLOAT32>(vector_length=>768)'},\n",
       " {'COLUMN_NAME': 'gse', 'SPANNER_TYPE': 'STRING(25)'},\n",
       " {'COLUMN_NAME': 'content', 'SPANNER_TYPE': 'STRING(MAX)'}]"
      ]
     },
     "execution_count": 301,
     "metadata": {},
     "output_type": "execute_result"
    }
   ],
   "source": [
    "run_query(sqlalchemy.text(f\"SELECT COLUMN_NAME, SPANNER_TYPE from information_schema.columns WHERE table_name = '{SPANNER_TABLE_NAME}'\"))"
   ]
  },
  {
   "cell_type": "markdown",
   "id": "99f2f923-1a9a-4dfe-b762-33f08c0df7b4",
   "metadata": {},
   "source": [
    "#### Index: ScaNN\n",
    "\n",
    "Reference: [Vector Indexes](https://cloud.google.com/spanner/docs/find-approximate-nearest-neighbors#vector-index)"
   ]
  },
  {
   "cell_type": "code",
   "execution_count": null,
   "id": "2a3d8dae-69f3-4026-8def-d4fe85120387",
   "metadata": {
    "tags": []
   },
   "outputs": [],
   "source": [
    "run_query(sqlalchemy.text(f\"\"\"\n",
    "    CREATE VECTOR INDEX IF NOT EXISTS embedding_index ON `{SPANNER_TABLE_NAME}`(embedding)\n",
    "    WHERE embedding IS NOT NULL\n",
    "    OPTIONS(\n",
    "        distance_type = 'DOT_PRODUCT',\n",
    "        tree_depth = 2,\n",
    "        num_leaves = 100\n",
    "    )\n",
    "\"\"\"))"
   ]
  },
  {
   "cell_type": "markdown",
   "id": "e41f4679-f918-41c7-860e-46ae79cb3157",
   "metadata": {},
   "source": [
    "Review the index details:\n",
    "\n",
    "The `INDEX_STATE` might be at 'PREPARE' which means it is still backfilling.  Before continuing wait for a value of ''."
   ]
  },
  {
   "cell_type": "code",
   "execution_count": 330,
   "id": "555eac54-5c2c-4412-8037-8d7efb3edfe2",
   "metadata": {
    "tags": []
   },
   "outputs": [
    {
     "data": {
      "text/plain": [
       "{'TABLE_CATALOG': '',\n",
       " 'TABLE_SCHEMA': '',\n",
       " 'TABLE_NAME': 'retrieval_spanner',\n",
       " 'INDEX_NAME': 'embedding_index',\n",
       " 'INDEX_TYPE': 'VECTOR',\n",
       " 'PARENT_TABLE_NAME': '',\n",
       " 'IS_UNIQUE': False,\n",
       " 'IS_NULL_FILTERED': False,\n",
       " 'INDEX_STATE': 'READ_WRITE',\n",
       " 'FILTER': 'embedding IS NOT NULL',\n",
       " 'SPANNER_IS_MANAGED': False,\n",
       " 'SEARCH_PARTITION_BY': None,\n",
       " 'SEARCH_ORDER_BY': None}"
      ]
     },
     "execution_count": 330,
     "metadata": {},
     "output_type": "execute_result"
    }
   ],
   "source": [
    "run_query(sqlalchemy.text(f\"\"\"\n",
    "    SELECT *\n",
    "    FROM information_schema.indexes\n",
    "    WHERE\n",
    "        table_name = '{SPANNER_TABLE_NAME}'\n",
    "        AND index_type = 'VECTOR'\n",
    "\"\"\"))"
   ]
  },
  {
   "cell_type": "markdown",
   "id": "3b1d1a9f-4c17-40ba-b698-cf1f929b4dee",
   "metadata": {},
   "source": [
    "#### Query An Index\n",
    "\n",
    "In Spanner you [query using an index](https://cloud.google.com/spanner/docs/find-approximate-nearest-neighbors#query-vector-embeddings) by using alternative distance measure functions:\n",
    "    \n",
    "- [APPROX_COSINE_DISTANCE()](https://cloud.google.com/spanner/docs/reference/standard-sql/mathematical_functions#approx_cosine_distance) for Cosine distance\n",
    "- [APPROX_EUCLIDEAN_DISTANCE()](https://cloud.google.com/spanner/docs/reference/standard-sql/mathematical_functions#approx_euclidean_distance) for L2, Euclidean distance\n",
    "- [APPROX_DOT_PRODUCT()](https://cloud.google.com/spanner/docs/reference/standard-sql/mathematical_functions#approx_dot_product) for Dot product\n",
    "\n",
    "Important Notes:\n",
    "- The query must use the [FORCE_INDEX directive](https://cloud.google.com/spanner/docs/secondary-indexes#index-directive) to specify the vector index to be used.  Multiple can be present and this set the one to use but is still required even if only one vector index is created.\n",
    "- The distance function specified must be the one used to create the index, for instance, you cannot request APPROX_COSINE_DISTANCE when the vector index was created with `distance_type = 'DOT_PRODUCT'`\n",
    "- The distance function must include the `options` definitions with `num_leaves_to_search`\n",
    "- If the embedding column has not been set to avoid nulls then a WHERE statement must be used to filter out any possible nulls even if they dont exists\n",
    "- An ORDER BY and LIMIT statement must be present"
   ]
  },
  {
   "cell_type": "code",
   "execution_count": 347,
   "id": "b28a0d92-805f-4238-97b6-ec133add9de2",
   "metadata": {
    "tags": []
   },
   "outputs": [
    {
     "data": {
      "text/plain": [
       "[{'chunk_id': 'fannie_part_0_c352', 'dot_product': 0.7101420164108276},\n",
       " {'chunk_id': 'freddie_part_4_c509', 'dot_product': 0.6804349422454834},\n",
       " {'chunk_id': 'freddie_part_4_c510', 'dot_product': 0.6751958131790161},\n",
       " {'chunk_id': 'fannie_part_0_c353', 'dot_product': 0.6723408699035645},\n",
       " {'chunk_id': 'fannie_part_0_c326', 'dot_product': 0.668167233467102}]"
      ]
     },
     "execution_count": 347,
     "metadata": {},
     "output_type": "execute_result"
    }
   ],
   "source": [
    "run_query(sqlalchemy.text(f\"\"\"\n",
    "    SELECT\n",
    "        chunk_id,\n",
    "        APPROX_DOT_PRODUCT(embedding, ARRAY<FLOAT32>{question_embedding}, options => JSON '{{\\\"num_leaves_to_search\\\": 10}}') AS dot_product\n",
    "    FROM {SPANNER_TABLE_NAME}@{{FORCE_INDEX=embedding_index}}\n",
    "    WHERE embedding IS NOT NULL\n",
    "    ORDER BY dot_product DESC\n",
    "    LIMIT 5\n",
    "\"\"\"))"
   ]
  },
  {
   "cell_type": "markdown",
   "id": "0d3bda4b-9fa1-44c1-b906-e0d32b0fa1b6",
   "metadata": {},
   "source": [
    "#### Query An Index With Pre-Filtering"
   ]
  },
  {
   "cell_type": "code",
   "execution_count": 351,
   "id": "57963e83-6642-4bd1-8db2-bc614b559721",
   "metadata": {},
   "outputs": [
    {
     "data": {
      "text/plain": [
       "[{'chunk_id': 'fannie_part_0_c352', 'dot_product': 0.7101420164108276},\n",
       " {'chunk_id': 'fannie_part_0_c353', 'dot_product': 0.6723408699035645},\n",
       " {'chunk_id': 'fannie_part_0_c326', 'dot_product': 0.668167233467102},\n",
       " {'chunk_id': 'fannie_part_0_c92', 'dot_product': 0.6617515087127686},\n",
       " {'chunk_id': 'fannie_part_0_c240', 'dot_product': 0.6610549688339233}]"
      ]
     },
     "execution_count": 351,
     "metadata": {},
     "output_type": "execute_result"
    }
   ],
   "source": [
    "run_query(sqlalchemy.text(f\"\"\"\n",
    "    SELECT\n",
    "        chunk_id,\n",
    "        APPROX_DOT_PRODUCT(embedding, ARRAY<FLOAT32>{question_embedding}, options => JSON '{{\\\"num_leaves_to_search\\\": 10}}') AS dot_product\n",
    "    FROM {SPANNER_TABLE_NAME}@{{FORCE_INDEX=embedding_index}}\n",
    "    WHERE embedding IS NOT NULL\n",
    "        AND gse = 'fannie'\n",
    "    ORDER BY dot_product DESC\n",
    "    LIMIT 5\n",
    "\"\"\"))"
   ]
  },
  {
   "cell_type": "markdown",
   "id": "e413f312-5a06-48ce-a6a7-0d47cab55a52",
   "metadata": {},
   "source": [
    "#### Replace/Rebuild/Add Vector Indexes\n",
    "\n",
    "Multiple indexes are possible for a single embedding column.  The index to use in the query has to be specified with the FORCE_INDEX directive as show above.  There is [not an `ALTER VECTOR INDEX`](https://cloud.google.com/spanner/docs/find-approximate-nearest-neighbors#limitations) statment so building a new index is required to make changes.  As soon as new index is ready it can be added to the FORCE_INDEX directive to replace a prior index.  Outdated indexes can be removed with the [`DROP INDEX index_name` query](https://cloud.google.com/spanner/docs/secondary-indexes#drop-index)."
   ]
  },
  {
   "cell_type": "markdown",
   "id": "5e5182d6-94dc-4870-b610-fe6bbfc4ff5b",
   "metadata": {},
   "source": [
    "#### Override An Index - Force Brute Force Search\n",
    "\n",
    "This is as simple as using the primary distance function rather than the approximate version and not specifying and index in the query:"
   ]
  },
  {
   "cell_type": "code",
   "execution_count": 352,
   "id": "04d340f2-b8ad-4748-9c49-a8437156193c",
   "metadata": {},
   "outputs": [
    {
     "data": {
      "text/plain": [
       "[{'chunk_id': 'fannie_part_0_c352', 'dot_product': 0.7099841833114624},\n",
       " {'chunk_id': 'freddie_part_4_c509', 'dot_product': 0.6805261373519897},\n",
       " {'chunk_id': 'freddie_part_4_c510', 'dot_product': 0.6753296852111816},\n",
       " {'chunk_id': 'fannie_part_0_c353', 'dot_product': 0.6723706722259521},\n",
       " {'chunk_id': 'fannie_part_0_c326', 'dot_product': 0.6683496832847595}]"
      ]
     },
     "execution_count": 352,
     "metadata": {},
     "output_type": "execute_result"
    }
   ],
   "source": [
    "run_query(sqlalchemy.text(f\"\"\"\n",
    "    SELECT\n",
    "        chunk_id,\n",
    "        DOT_PRODUCT(embedding, ARRAY<FLOAT32>{question_embedding}) AS dot_product\n",
    "    FROM {SPANNER_TABLE_NAME}\n",
    "    ORDER BY dot_product DESC\n",
    "    LIMIT 5\n",
    "\"\"\"))"
   ]
  },
  {
   "cell_type": "markdown",
   "id": "162e68b8-7895-48be-8f9e-103cdb668b6a",
   "metadata": {},
   "source": [
    "---\n",
    "## Retrieval Augmented Generation (RAG)\n",
    "\n",
    "Build a simple retrieval augmented generation process that enhances a query by retrieving context.  This is done here by constructing three functions for the stages:\n",
    "- `retrieve` - a function that uses an embedding to search for matching context parts, pieces of texts\n",
    "    - this uses the system built earlier in this workflow!\n",
    "- `augment` - prepare chunks into a prompt\n",
    "- `generate` - make the llm request with the augmented prompt\n",
    "\n",
    "A final function is used to execute the workflow of rag:\n",
    "- `rag` - a function that receives the query an orchestrates the workflow through `retrieve` > `augment` > `generate`"
   ]
  },
  {
   "cell_type": "markdown",
   "id": "828de096-a576-4ab7-9cc2-a11b38e5bb14",
   "metadata": {},
   "source": [
    "### Clients"
   ]
  },
  {
   "cell_type": "code",
   "execution_count": 359,
   "id": "220a7cea-d225-46d6-8484-e562083c624a",
   "metadata": {
    "tags": []
   },
   "outputs": [],
   "source": [
    "embedder = vertexai.language_models.TextEmbeddingModel.from_pretrained('text-embedding-004')\n",
    "llm = vertexai.generative_models.GenerativeModel(\"gemini-1.5-flash-002\")"
   ]
  },
  {
   "cell_type": "markdown",
   "id": "b95cc07f-b1fc-4ecf-89c4-7d70d71ffef3",
   "metadata": {},
   "source": [
    "### Retrieve Function"
   ]
  },
  {
   "cell_type": "code",
   "execution_count": 360,
   "id": "1503e027-b4ac-4a0a-a83d-3fdc0918fa09",
   "metadata": {
    "tags": []
   },
   "outputs": [],
   "source": [
    "def retrieve_spanner(query_embedding, n_matches = 5):\n",
    "\n",
    "    matches = run_query(sqlalchemy.text(f\"\"\"\n",
    "        SELECT chunk_id, content\n",
    "        FROM {SPANNER_TABLE_NAME}@{{FORCE_INDEX=embedding_index}}\n",
    "        WHERE embedding IS NOT NULL\n",
    "        ORDER BY APPROX_DOT_PRODUCT(embedding, ARRAY<FLOAT32>{query_embedding}, options => JSON '{{\\\"num_leaves_to_search\\\": 10}}') DESC\n",
    "        LIMIT {n_matches}\n",
    "    \"\"\"))\n",
    "    \n",
    "    return matches"
   ]
  },
  {
   "cell_type": "markdown",
   "id": "65f79a95-0fc2-4baf-946b-a5ec6d1525ee",
   "metadata": {},
   "source": [
    "### Augment Function"
   ]
  },
  {
   "cell_type": "code",
   "execution_count": 361,
   "id": "5b358751-e058-47a1-a5b4-6c2ac8c8de99",
   "metadata": {
    "tags": []
   },
   "outputs": [],
   "source": [
    "def augment(matches):\n",
    "\n",
    "    prompt = ''\n",
    "    for m, match in enumerate(matches):\n",
    "        prompt += f\"Context {m+1}:\\n{match['content']}\\n\\n\"\n",
    "    prompt += f'Answer the following question using the provided contexts:\\n'\n",
    "\n",
    "    return prompt"
   ]
  },
  {
   "cell_type": "markdown",
   "id": "cc4f9d6f-c26c-4dcd-a0ce-4e56cd4fe381",
   "metadata": {},
   "source": [
    "### Generate Function"
   ]
  },
  {
   "cell_type": "code",
   "execution_count": 362,
   "id": "db657644-6422-4dd5-9650-1d5dc19c49d1",
   "metadata": {
    "tags": []
   },
   "outputs": [],
   "source": [
    "def generate(prompt):\n",
    "\n",
    "    result = llm.generate_content(prompt)\n",
    "\n",
    "    return result"
   ]
  },
  {
   "cell_type": "markdown",
   "id": "6c4e627b-9c93-4e82-a64c-89891752e761",
   "metadata": {},
   "source": [
    "### RAG Function"
   ]
  },
  {
   "cell_type": "code",
   "execution_count": 363,
   "id": "38dd5c9b-6018-42d6-9314-82312ab9c49e",
   "metadata": {
    "tags": []
   },
   "outputs": [],
   "source": [
    "def rag(query):\n",
    "    \n",
    "    query_embedding = embedder.get_embeddings([query])[0].values\n",
    "    matches = retrieve_spanner(query_embedding)\n",
    "    prompt = augment(matches) + query\n",
    "    result = generate(prompt)\n",
    "    \n",
    "    return result.text"
   ]
  },
  {
   "cell_type": "markdown",
   "id": "a0a09d6e-1f6b-4cc2-a869-9ff3fc66b3eb",
   "metadata": {
    "tags": []
   },
   "source": [
    "### Example In Use"
   ]
  },
  {
   "cell_type": "code",
   "execution_count": 366,
   "id": "dcc0238f-eeee-4ecf-b961-e61311a73ddb",
   "metadata": {
    "tags": []
   },
   "outputs": [
    {
     "data": {
      "text/plain": [
       "'Does a lender have to perform servicing functions directly?'"
      ]
     },
     "execution_count": 366,
     "metadata": {},
     "output_type": "execute_result"
    }
   ],
   "source": [
    "question"
   ]
  },
  {
   "cell_type": "code",
   "execution_count": 365,
   "id": "b240dde3-2d19-4310-89f6-39de7a6dceaf",
   "metadata": {
    "tags": []
   },
   "outputs": [
    {
     "name": "stdout",
     "output_type": "stream",
     "text": [
      "No, a lender does not have to perform servicing functions directly.  Context 1 explicitly states that a lender \"may use other organizations to perform some or all of its servicing functions,\" referring to this as \"subservicing.\"  This involves a \"master servicer\" and a \"subservicer,\" where the subservicer performs some or all of the servicing functions on behalf of the master servicer.  The contexts also detail requirements and regulations surrounding these subservicing arrangements.\n",
      "\n"
     ]
    }
   ],
   "source": [
    "print(rag(question))"
   ]
  },
  {
   "cell_type": "markdown",
   "id": "23ba7f5b-38f5-4f18-83e9-f2fa780e8be0",
   "metadata": {},
   "source": [
    "---\n",
    "### Profiling Performance\n",
    "\n",
    "Profile the timing of each step in the RAG function for sequential calls. The environment choosen for this workflow is a minimal testing enviornment so load testing (simoultaneous requests) would not be helpful."
   ]
  },
  {
   "cell_type": "code",
   "execution_count": 367,
   "id": "da583723-acde-44d3-aaa4-f5d3fd3b540e",
   "metadata": {
    "tags": []
   },
   "outputs": [],
   "source": [
    "profile = []"
   ]
  },
  {
   "cell_type": "code",
   "execution_count": 368,
   "id": "e3b370b2-4864-4235-8c0d-98ef07b9651b",
   "metadata": {
    "tags": []
   },
   "outputs": [],
   "source": [
    "def rag(query, profile = profile):\n",
    "    \n",
    "    timings = {}\n",
    "    start_time = time.time()\n",
    "    \n",
    "    \n",
    "    # 1. Get embeddings\n",
    "    embedding_start = time.time()\n",
    "    query_embedding = embedder.get_embeddings([query])[0].values\n",
    "    timings['embedding'] = time.time() - embedding_start\n",
    "\n",
    "    # 2. Retrieve from Bigtable\n",
    "    retrieval_start = time.time()\n",
    "    matches = retrieve_spanner(query_embedding)\n",
    "    timings['retrieve_spanner'] = time.time() - retrieval_start\n",
    "\n",
    "    # 3. Augment the prompt\n",
    "    augment_start = time.time()\n",
    "    prompt = augment(matches) + query\n",
    "    timings['augment'] = time.time() - augment_start\n",
    "\n",
    "    # 4. Generate text\n",
    "    generate_start = time.time()\n",
    "    result = generate(prompt)\n",
    "    timings['generate'] = time.time() - generate_start\n",
    "\n",
    "    total_time = time.time() - start_time\n",
    "    timings['total'] = total_time\n",
    "    \n",
    "    profile.append(timings)\n",
    "    \n",
    "    return result.text"
   ]
  },
  {
   "cell_type": "code",
   "execution_count": 369,
   "id": "e48d8164-947b-474e-bff7-1ed223c1b926",
   "metadata": {
    "tags": []
   },
   "outputs": [
    {
     "name": "stdout",
     "output_type": "stream",
     "text": [
      "No, a lender does not have to perform servicing functions directly.  Context 1 explicitly states that a lender may use other organizations to perform some or all of its servicing functions, referring to this as \"subservicing.\"  The text also outlines circumstances where arrangements are *not* considered subservicing.  Further, Context 4 details requirements for subservicing arrangements, indicating that it is a permissible and regulated practice.\n",
      "\n"
     ]
    }
   ],
   "source": [
    "print(rag(question))"
   ]
  },
  {
   "cell_type": "code",
   "execution_count": 370,
   "id": "053a3467-cf1c-419a-8a5d-21afcd30696b",
   "metadata": {
    "tags": []
   },
   "outputs": [
    {
     "data": {
      "text/plain": [
       "[{'embedding': 0.17748260498046875,\n",
       "  'retrieve_spanner': 0.675225019454956,\n",
       "  'augment': 0.0004048347473144531,\n",
       "  'generate': 0.8636410236358643,\n",
       "  'total': 1.7167634963989258}]"
      ]
     },
     "execution_count": 370,
     "metadata": {},
     "output_type": "execute_result"
    }
   ],
   "source": [
    "profile"
   ]
  },
  {
   "cell_type": "code",
   "execution_count": 371,
   "id": "d10acb4f-3516-4a5e-bcbc-d9decebb7729",
   "metadata": {
    "tags": []
   },
   "outputs": [],
   "source": [
    "for i in range(100):\n",
    "    response = rag(question)"
   ]
  },
  {
   "cell_type": "markdown",
   "id": "a52867a6-c117-492f-9b81-8474d57ce0e2",
   "metadata": {},
   "source": [
    "### Report From Profile"
   ]
  },
  {
   "cell_type": "code",
   "execution_count": 372,
   "id": "9dcc4d6e-b265-44c7-a176-3d3a713f277c",
   "metadata": {
    "tags": []
   },
   "outputs": [],
   "source": [
    "all_timings = {}\n",
    "for timings in profile:\n",
    "    for key, value in timings.items():\n",
    "        if key not in all_timings:\n",
    "            all_timings[key] = []\n",
    "        all_timings[key].append(value)"
   ]
  },
  {
   "cell_type": "code",
   "execution_count": 373,
   "id": "7c3c384e-4ff0-4135-9384-6d592b61b35d",
   "metadata": {
    "tags": []
   },
   "outputs": [
    {
     "name": "stdout",
     "output_type": "stream",
     "text": [
      "Statistics for 'embedding':\n",
      "  Min: 0.0473 seconds\n",
      "  Max: 0.1775 seconds\n",
      "  Mean: 0.0584 seconds\n",
      "  Median: 0.0536 seconds\n",
      "  Std Dev: 0.0184 seconds\n",
      "  P95: 0.0767 seconds\n",
      "  P99: 0.1537 seconds\n",
      "\n",
      "Statistics for 'retrieve_spanner':\n",
      "  Min: 0.0374 seconds\n",
      "  Max: 2.2023 seconds\n",
      "  Mean: 0.0728 seconds\n",
      "  Median: 0.0414 seconds\n",
      "  Std Dev: 0.2226 seconds\n",
      "  P95: 0.1064 seconds\n",
      "  P99: 0.6752 seconds\n",
      "\n",
      "Statistics for 'augment':\n",
      "  Min: 0.0000 seconds\n",
      "  Max: 0.0004 seconds\n",
      "  Mean: 0.0000 seconds\n",
      "  Median: 0.0000 seconds\n",
      "  Std Dev: 0.0000 seconds\n",
      "  P95: 0.0001 seconds\n",
      "  P99: 0.0001 seconds\n",
      "\n",
      "Statistics for 'generate':\n",
      "  Min: 0.5126 seconds\n",
      "  Max: 1.0149 seconds\n",
      "  Mean: 0.7079 seconds\n",
      "  Median: 0.6888 seconds\n",
      "  Std Dev: 0.0831 seconds\n",
      "  P95: 0.8553 seconds\n",
      "  P99: 0.9275 seconds\n",
      "\n",
      "Statistics for 'total':\n",
      "  Min: 0.6125 seconds\n",
      "  Max: 2.9663 seconds\n",
      "  Mean: 0.8392 seconds\n",
      "  Median: 0.7938 seconds\n",
      "  Std Dev: 0.2466 seconds\n",
      "  P95: 0.9833 seconds\n",
      "  P99: 1.7168 seconds\n",
      "\n"
     ]
    }
   ],
   "source": [
    "for key, values in all_timings.items():\n",
    "    arr = np.array(values)\n",
    "    print(f\"Statistics for '{key}':\")\n",
    "    print(f\"  Min: {np.min(arr):.4f} seconds\")\n",
    "    print(f\"  Max: {np.max(arr):.4f} seconds\")\n",
    "    print(f\"  Mean: {np.mean(arr):.4f} seconds\")\n",
    "    print(f\"  Median: {np.median(arr):.4f} seconds\")\n",
    "    print(f\"  Std Dev: {np.std(arr):.4f} seconds\")\n",
    "    print(f\"  P95: {np.percentile(arr, 95):.4f} seconds\")\n",
    "    print(f\"  P99: {np.percentile(arr, 99):.4f} seconds\")\n",
    "    print(\"\")"
   ]
  },
  {
   "cell_type": "markdown",
   "id": "ce1f1884-e620-49f4-b59d-c46030cdcb0e",
   "metadata": {},
   "source": [
    "## Remove Resources"
   ]
  },
  {
   "cell_type": "code",
   "execution_count": 133,
   "id": "0b4d9ec2-0b7b-470b-b898-e655a6da0d25",
   "metadata": {
    "tags": []
   },
   "outputs": [],
   "source": [
    "#spanner_database_client.drop_database(database = spanner_database.name)"
   ]
  },
  {
   "cell_type": "code",
   "execution_count": 134,
   "id": "8c65830d-3e81-4698-a705-8829362708a7",
   "metadata": {
    "tags": []
   },
   "outputs": [],
   "source": [
    "#spanner_instance_client.delete_instance(name = spanner_instance.name)"
   ]
  },
  {
   "cell_type": "code",
   "execution_count": null,
   "id": "beadf88f-4d7f-4fb6-82c1-ea9f74a2571f",
   "metadata": {},
   "outputs": [],
   "source": []
  }
 ],
 "metadata": {
  "environment": {
   "kernel": "conda-base-py",
   "name": "workbench-notebooks.m125",
   "type": "gcloud",
   "uri": "us-docker.pkg.dev/deeplearning-platform-release/gcr.io/workbench-notebooks:m125"
  },
  "kernelspec": {
   "display_name": "Python 3 (ipykernel) (Local)",
   "language": "python",
   "name": "conda-base-py"
  },
  "language_info": {
   "codemirror_mode": {
    "name": "ipython",
    "version": 3
   },
   "file_extension": ".py",
   "mimetype": "text/x-python",
   "name": "python",
   "nbconvert_exporter": "python",
   "pygments_lexer": "ipython3",
   "version": "3.10.15"
  }
 },
 "nbformat": 4,
 "nbformat_minor": 5
}
