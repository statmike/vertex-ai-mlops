{
 "cells": [
  {
   "cell_type": "markdown",
   "id": "4bdff281",
   "metadata": {},
   "source": [
    "![tracker](https://us-central1-vertex-ai-mlops-369716.cloudfunctions.net/pixel-tracking?path=statmike%2Fvertex-ai-mlops%2FApplied+GenAI%2FRetrieval&file=Retrieval+-+BigQuery+Vector+Indexing+And+Search.ipynb)\n",
    "<!--- header table --->\n",
    "<table align=\"left\">\n",
    "  <td style=\"text-align: center\">\n",
    "    <a href=\"https://colab.research.google.com/github/statmike/vertex-ai-mlops/blob/main/Applied%20GenAI/Retrieval/Retrieval%20-%20BigQuery%20Vector%20Indexing%20And%20Search.ipynb\">\n",
    "      <img src=\"https://cloud.google.com/ml-engine/images/colab-logo-32px.png\" alt=\"Google Colaboratory logo\">\n",
    "      <br>Run in<br>Colab\n",
    "    </a>\n",
    "  </td>\n",
    "  <td style=\"text-align: center\">\n",
    "    <a href=\"https://console.cloud.google.com/vertex-ai/colab/import/https%3A%2F%2Fraw.githubusercontent.com%2Fstatmike%2Fvertex-ai-mlops%2Fmain%2FApplied%2520GenAI%2FRetrieval%2FRetrieval%2520-%2520BigQuery%2520Vector%2520Indexing%2520And%2520Search.ipynb\">\n",
    "      <img width=\"32px\" src=\"https://lh3.googleusercontent.com/JmcxdQi-qOpctIvWKgPtrzZdJJK-J3sWE1RsfjZNwshCFgE_9fULcNpuXYTilIR2hjwN\" alt=\"Google Cloud Colab Enterprise logo\">\n",
    "      <br>Run in<br>Colab Enterprise\n",
    "    </a>\n",
    "  </td>      \n",
    "  <td style=\"text-align: center\">\n",
    "    <a href=\"https://github.com/statmike/vertex-ai-mlops/blob/main/Applied%20GenAI/Retrieval/Retrieval%20-%20BigQuery%20Vector%20Indexing%20And%20Search.ipynb\">\n",
    "      <img src=\"https://cloud.google.com/ml-engine/images/github-logo-32px.png\" alt=\"GitHub logo\">\n",
    "      <br>View on<br>GitHub\n",
    "    </a>\n",
    "  </td>\n",
    "  <td style=\"text-align: center\">\n",
    "    <a href=\"https://console.cloud.google.com/vertex-ai/workbench/deploy-notebook?download_url=https://raw.githubusercontent.com/statmike/vertex-ai-mlops/main/Applied%20GenAI/Retrieval/Retrieval%20-%20BigQuery%20Vector%20Indexing%20And%20Search.ipynb\">\n",
    "      <img src=\"https://lh3.googleusercontent.com/UiNooY4LUgW_oTvpsNhPpQzsstV5W8F7rYgxgGBD85cWJoLmrOzhVs_ksK_vgx40SHs7jCqkTkCk=e14-rj-sc0xffffff-h130-w32\" alt=\"Vertex AI logo\">\n",
    "      <br>Open in<br>Vertex AI Workbench\n",
    "    </a>\n",
    "  </td>\n",
    "</table>"
   ]
  },
  {
   "cell_type": "markdown",
   "id": "a6d239aa-972e-4a74-9e1c-7732e739b863",
   "metadata": {},
   "source": [
    "# Retrieval - BigQuery Vector Indexing And Search\n",
    "\n",
    "In prior workflows, a series of documents was [processed into chunks](../Chunking/readme.md), and for each chunk, [embeddings](../Embeddings/readme.md) were created:\n",
    "\n",
    "- Process: [Large Document Processing - Document AI Layout Parser](../Chunking/Large%20Document%20Processing%20-%20Document%20AI%20Layout%20Parser.ipynb)\n",
    "- Embed: [Vertex AI Text Embeddings API](../Embeddings/Vertex%20AI%20Text%20Embeddings%20API.ipynb)\n",
    "\n",
    "Retrieving chunks for a query involves calculating the embedding for the query and then using similarity metrics to find relevant chunks. A thorough review of similarity matching can be found in [The Math of Similarity](../Embeddings/The%20Math%20of%20Similarity.ipynb) - use dot product! As development moves from experiment to application, the process of storing and computing similarity is migrated to a [retrieval](./readme.md) system. This workflow is part of a [series of workflows exploring many retrieval systems](./readme.md).  \n",
    "\n",
    "A detailed [comparison of many retrieval systems](./readme.md#comparison-of-vector-database-solutions) can be found in the readme as well.\n",
    "\n",
    "---\n",
    "\n",
    "**BigQuery For Storage, Indexing, And Search**\n",
    "\n",
    "This workflow builds a retrieval system using Google [BigQuery](https://cloud.google.com/bigquery). BigQuery is a fully managed data warehouse where SQL queries run without the need to plan for storage or compute requirements.  Built into this solution is the  `VECTOR_SEARCH` function that can perform brute-force searches for neighboring embeddings and utilize an index for efficient search. BigQuery offers two built-in methods for [creating vector indexes](https://cloud.google.com/bigquery/docs/vector-index): the [Inverted File (IVF) index](https://cloud.google.com/bigquery/docs/vector-index#ivf-index) and the [TreeAH index](https://cloud.google.com/bigquery/docs/vector-index#tree-ah-index).\n",
    "\n",
    "---\n",
    "\n",
    "**Use Case Data**\n",
    "\n",
    "Buying a home usually involves borrowing money from a lending institution, typically through a mortgage secured by the home's value. But how do these institutions manage the risks associated with such large loans, and how are lending standards established?\n",
    "\n",
    "In the United States, two government-sponsored enterprises (GSEs) play a vital role in the housing market:\n",
    "\n",
    "- Federal National Mortgage Association ([Fannie Mae](https://www.fanniemae.com/))\n",
    "- Federal Home Loan Mortgage Corporation ([Freddie Mac](https://www.freddiemac.com/))\n",
    "\n",
    "These GSEs purchase mortgages from lenders, enabling those lenders to offer more loans. This process also allows Fannie Mae and Freddie Mac to set standards for mortgages, ensuring they are responsible and borrowers are more likely to repay them. This system makes homeownership more affordable and stabilizes the housing market by maintaining a steady flow of liquidity for lenders and keeping interest rates controlled.\n",
    "\n",
    "However, navigating the complexities of these GSEs and their extensive servicing guides can be challenging.\n",
    "\n",
    "**Approaches**\n",
    "\n",
    "[This series](../readme.md) covers many generative AI workflows. These documents are used directly as long context for Gemini in the workflow [Long Context Retrieval With The Vertex AI Gemini API](../Generate/Long%20Context%20Retrieval%20With%20The%20Vertex%20AI%20Gemini%20API.ipynb). The workflow below uses a [retrieval](./readme.md) approach with the already generated chunks and embeddings."
   ]
  },
  {
   "cell_type": "markdown",
   "id": "02dd6b90-cf32-4594-8033-9d0f2c0f93f8",
   "metadata": {
    "id": "od_UkDpvRmgD"
   },
   "source": [
    "---\n",
    "## Colab Setup\n",
    "\n",
    "When running this notebook in [Colab](https://colab.google/) or [Colab Enterprise](https://cloud.google.com/colab/docs/introduction), this section will authenticate to GCP (follow prompts in the popup) and set the current project for the session."
   ]
  },
  {
   "cell_type": "code",
   "execution_count": 1,
   "id": "ce56233c-4aa2-49df-b851-aacb82dc3a9c",
   "metadata": {
    "executionInfo": {
     "elapsed": 195,
     "status": "ok",
     "timestamp": 1683726184843,
     "user": {
      "displayName": "Mike Henderson",
      "userId": "07691629187611687318"
     },
     "user_tz": 240
    },
    "id": "8UO9FnqyKBlF",
    "tags": []
   },
   "outputs": [],
   "source": [
    "PROJECT_ID = 'statmike-mlops-349915' # replace with project ID"
   ]
  },
  {
   "cell_type": "code",
   "execution_count": 2,
   "id": "92a61fd1-c527-4a05-ac8a-244bcaa3dd27",
   "metadata": {
    "colab": {
     "base_uri": "https://localhost:8080/"
    },
    "executionInfo": {
     "elapsed": 68869,
     "status": "ok",
     "timestamp": 1683726253709,
     "user": {
      "displayName": "Mike Henderson",
      "userId": "07691629187611687318"
     },
     "user_tz": 240
    },
    "id": "N98-KK7LRkjm",
    "outputId": "09ec5008-0def-4e1a-c349-c598ee752f78",
    "tags": []
   },
   "outputs": [],
   "source": [
    "try:\n",
    "    from google.colab import auth\n",
    "    auth.authenticate_user()\n",
    "    !gcloud config set project {PROJECT_ID}\n",
    "except Exception:\n",
    "    pass"
   ]
  },
  {
   "cell_type": "markdown",
   "id": "c7fc2da4-5c3a-4420-bb27-475854278432",
   "metadata": {},
   "source": [
    "---\n",
    "## Installs and API Enablement\n",
    "\n",
    "The clients packages may need installing in this environment. "
   ]
  },
  {
   "cell_type": "markdown",
   "id": "0922b7ab-f87c-4d06-8583-815d2f355516",
   "metadata": {},
   "source": [
    "### Installs (If Needed)"
   ]
  },
  {
   "cell_type": "code",
   "execution_count": 3,
   "id": "927faf50-5139-4daa-a1b7-5810ec85b05b",
   "metadata": {
    "tags": []
   },
   "outputs": [],
   "source": [
    "# tuples of (import name, install name, min_version)\n",
    "packages = [\n",
    "    ('google.cloud.aiplatform', 'google-cloud-aiplatform', '1.69.0'),\n",
    "    ('google.cloud.bigquery', 'google-cloud-bigquery')\n",
    "]\n",
    "\n",
    "import importlib\n",
    "install = False\n",
    "for package in packages:\n",
    "    if not importlib.util.find_spec(package[0]):\n",
    "        print(f'installing package {package[1]}')\n",
    "        install = True\n",
    "        !pip install {package[1]} -U -q --user\n",
    "    elif len(package) == 3:\n",
    "        if importlib.metadata.version(package[0]) < package[2]:\n",
    "            print(f'updating package {package[1]}')\n",
    "            install = True\n",
    "            !pip install {package[1]} -U -q --user"
   ]
  },
  {
   "cell_type": "markdown",
   "id": "2b66daf9-2a30-4630-9e3e-8c94b39b51e7",
   "metadata": {},
   "source": [
    "### API Enablement"
   ]
  },
  {
   "cell_type": "code",
   "execution_count": 4,
   "id": "df9297e0-ccfb-431a-b7ce-6f10791b6da3",
   "metadata": {
    "tags": []
   },
   "outputs": [],
   "source": [
    "!gcloud services enable aiplatform.googleapis.com"
   ]
  },
  {
   "cell_type": "markdown",
   "id": "a07ee48f-2c50-4e1f-a2b6-a8c5eb47d030",
   "metadata": {},
   "source": [
    "### Restart Kernel (If Installs Occured)\n",
    "\n",
    "After a kernel restart the code submission can start with the next cell after this one."
   ]
  },
  {
   "cell_type": "code",
   "execution_count": 5,
   "id": "09332d6d-10f8-4c23-99df-63ee702be392",
   "metadata": {
    "tags": []
   },
   "outputs": [],
   "source": [
    "if install:\n",
    "    import IPython\n",
    "    app = IPython.Application.instance()\n",
    "    app.kernel.do_shutdown(True)\n",
    "    IPython.display.display(IPython.display.Markdown(\"\"\"<div class=\\\"alert alert-block alert-warning\\\">\n",
    "        <b>⚠️ The kernel is going to restart. Please wait until it is finished before continuing to the next step. The previous cells do not need to be run again⚠️</b>\n",
    "        </div>\"\"\"))"
   ]
  },
  {
   "cell_type": "markdown",
   "id": "4d19afe4-87da-4d7c-ac59-766a39ad87c4",
   "metadata": {
    "id": "appt8-yVRtJ1"
   },
   "source": [
    "---\n",
    "## Setup"
   ]
  },
  {
   "cell_type": "markdown",
   "id": "f51a4f2c-44fb-4b84-942a-7b4780eeb019",
   "metadata": {
    "id": "63mx2EozRxFP"
   },
   "source": [
    "Inputs"
   ]
  },
  {
   "cell_type": "code",
   "execution_count": 6,
   "id": "8bd9473e-ff68-43c5-a1df-c6a403b12b78",
   "metadata": {
    "colab": {
     "base_uri": "https://localhost:8080/",
     "height": 35
    },
    "executionInfo": {
     "elapsed": 2124,
     "status": "ok",
     "timestamp": 1683726390544,
     "user": {
      "displayName": "Mike Henderson",
      "userId": "07691629187611687318"
     },
     "user_tz": 240
    },
    "id": "xzcoXjM5Rky5",
    "outputId": "b3bdcbc1-70d5-472e-aea2-42c74a42efde",
    "tags": []
   },
   "outputs": [
    {
     "data": {
      "text/plain": [
       "'statmike-mlops-349915'"
      ]
     },
     "execution_count": 6,
     "metadata": {},
     "output_type": "execute_result"
    }
   ],
   "source": [
    "project = !gcloud config get-value project\n",
    "PROJECT_ID = project[0]\n",
    "PROJECT_ID"
   ]
  },
  {
   "cell_type": "code",
   "execution_count": 7,
   "id": "21bb92e0-b6cc-4b35-b270-04f73e6553c6",
   "metadata": {
    "executionInfo": {
     "elapsed": 2,
     "status": "ok",
     "timestamp": 1683726390712,
     "user": {
      "displayName": "Mike Henderson",
      "userId": "07691629187611687318"
     },
     "user_tz": 240
    },
    "id": "IxWrFtqYMfku",
    "tags": []
   },
   "outputs": [],
   "source": [
    "REGION = 'us-central1'\n",
    "SERIES = 'applied-genai'\n",
    "EXPERIMENT = 'retrieval-bigquery'\n",
    "\n",
    "# make this the BigQuery Project / Dataset / Table prefix to store results\n",
    "BQ_PROJECT = PROJECT_ID\n",
    "BQ_DATASET = SERIES.replace('-', '_')\n",
    "BQ_TABLE = EXPERIMENT\n",
    "BQ_REGION = REGION[0:2]"
   ]
  },
  {
   "cell_type": "markdown",
   "id": "3aa2caee-1438-4d80-b0d5-e36538cd65a5",
   "metadata": {
    "id": "LuajVwCiO6Yg"
   },
   "source": [
    "Packages"
   ]
  },
  {
   "cell_type": "code",
   "execution_count": 8,
   "id": "d0b1a9c3-7321-4bcd-a685-3462339391dc",
   "metadata": {
    "executionInfo": {
     "elapsed": 17761,
     "status": "ok",
     "timestamp": 1683726409304,
     "user": {
      "displayName": "Mike Henderson",
      "userId": "07691629187611687318"
     },
     "user_tz": 240
    },
    "id": "LVC7zzSLRk2C",
    "tags": []
   },
   "outputs": [],
   "source": [
    "import os, json, time, glob\n",
    "\n",
    "import numpy as np\n",
    "\n",
    "# Vertex AI\n",
    "from google.cloud import aiplatform\n",
    "import vertexai.language_models # for embeddings API\n",
    "import vertexai.generative_models # for Gemini Models\n",
    "\n",
    "# BigQuery\n",
    "from google.cloud import bigquery"
   ]
  },
  {
   "cell_type": "code",
   "execution_count": 9,
   "id": "0fccdf07-d13e-410a-8b2d-90cab9f63cd2",
   "metadata": {
    "tags": []
   },
   "outputs": [
    {
     "data": {
      "text/plain": [
       "'1.78.0'"
      ]
     },
     "execution_count": 9,
     "metadata": {},
     "output_type": "execute_result"
    }
   ],
   "source": [
    "aiplatform.__version__"
   ]
  },
  {
   "cell_type": "code",
   "execution_count": 10,
   "id": "cea42f1b-45d5-4471-a4eb-a501eefd0e04",
   "metadata": {
    "tags": []
   },
   "outputs": [
    {
     "data": {
      "text/plain": [
       "'3.29.0'"
      ]
     },
     "execution_count": 10,
     "metadata": {},
     "output_type": "execute_result"
    }
   ],
   "source": [
    "bigquery.__version__"
   ]
  },
  {
   "cell_type": "markdown",
   "id": "d37c67a5-67f6-4d68-a7ed-2141dba90887",
   "metadata": {
    "id": "EyAVFG9TO9H-"
   },
   "source": [
    "Clients"
   ]
  },
  {
   "cell_type": "code",
   "execution_count": 11,
   "id": "420872ef-566a-4a86-8333-92cd7b8e6cce",
   "metadata": {
    "executionInfo": {
     "elapsed": 19,
     "status": "ok",
     "timestamp": 1683726409306,
     "user": {
      "displayName": "Mike Henderson",
      "userId": "07691629187611687318"
     },
     "user_tz": 240
    },
    "id": "L0RPE13LOZce",
    "tags": []
   },
   "outputs": [],
   "source": [
    "# vertex ai clients\n",
    "vertexai.init(project = PROJECT_ID, location = REGION)\n",
    "\n",
    "# bigquery client\n",
    "bq = bigquery.Client(project = PROJECT_ID)"
   ]
  },
  {
   "cell_type": "markdown",
   "id": "1e6e53b0-eb86-4d3e-838c-fab20ccdef7b",
   "metadata": {},
   "source": [
    "---\n",
    "## Text & Embeddings For Examples\n",
    "\n",
    "This repository contains a [section for document processing (chunking)](../Chunking/readme.md) that includes an example of processing mulitple large pdfs (over 1000 pages) into chunks: [Large Document Processing - Document AI Layout Parser](../Chunking/Large%20Document%20Processing%20-%20Document%20AI%20Layout%20Parser.ipynb).  The chunks of text from that workflow are stored with this repository and loaded by another companion workflow that augments the chunks with text embeddings: [Vertex AI Text Embeddings API](../Embeddings/Vertex%20AI%20Text%20Embeddings%20API.ipynb).\n",
    "\n",
    "The following code will load the version of the chunks that includes text embeddings and prepare it for a local example of retrival augmented generation."
   ]
  },
  {
   "cell_type": "markdown",
   "id": "2e3ef28e-a54f-4ea2-8e34-970e8822a9ee",
   "metadata": {},
   "source": [
    "### Get The Documents\n",
    "\n",
    "If you are working from a clone of this notebooks [repository](https://github.com/statmike/vertex-ai-mlops) then the documents are already present. The following cell checks for the documents folder and if it is missing gets it (`git clone`):"
   ]
  },
  {
   "cell_type": "code",
   "execution_count": 13,
   "id": "6f4e77ed-43f7-42be-9575-6a491c0d6cba",
   "metadata": {
    "tags": []
   },
   "outputs": [],
   "source": [
    "local_dir = '../Embeddings/files/embeddings-api'"
   ]
  },
  {
   "cell_type": "code",
   "execution_count": 14,
   "id": "63ebe7c3-e72c-4394-91c3-d60c05bc0ce2",
   "metadata": {
    "tags": []
   },
   "outputs": [
    {
     "name": "stdout",
     "output_type": "stream",
     "text": [
      "Documents Found in folder `../Embeddings/files/embeddings-api`\n"
     ]
    }
   ],
   "source": [
    "if not os.path.exists(local_dir):\n",
    "    print('Retrieving documents...')\n",
    "    parent_dir = os.path.dirname(local_dir)\n",
    "    temp_dir = os.path.join(parent_dir, 'temp')\n",
    "    if not os.path.exists(temp_dir):\n",
    "        os.makedirs(temp_dir)\n",
    "    !git clone https://www.github.com/statmike/vertex-ai-mlops {temp_dir}/vertex-ai-mlops\n",
    "    shutil.copytree(f'{temp_dir}/vertex-ai-mlops/Applied GenAI/Embeddings/files/embeddings-api', local_dir)\n",
    "    shutil.rmtree(temp_dir)\n",
    "    print(f'Documents are now in folder `{local_dir}`')\n",
    "else:\n",
    "    print(f'Documents Found in folder `{local_dir}`')             "
   ]
  },
  {
   "cell_type": "markdown",
   "id": "83be7393-eb28-44ea-a63c-28aecb176486",
   "metadata": {},
   "source": [
    "### Load The Chunks"
   ]
  },
  {
   "cell_type": "code",
   "execution_count": 15,
   "id": "58d04382-a74a-44ac-8824-3b46c86aa148",
   "metadata": {
    "tags": []
   },
   "outputs": [
    {
     "data": {
      "text/plain": [
       "['../Embeddings/files/embeddings-api/large-files-chunk-embeddings-0000.jsonl',\n",
       " '../Embeddings/files/embeddings-api/large-files-chunk-embeddings-0001.jsonl',\n",
       " '../Embeddings/files/embeddings-api/large-files-chunk-embeddings-0002.jsonl',\n",
       " '../Embeddings/files/embeddings-api/large-files-chunk-embeddings-0003.jsonl',\n",
       " '../Embeddings/files/embeddings-api/large-files-chunk-embeddings-0004.jsonl',\n",
       " '../Embeddings/files/embeddings-api/large-files-chunk-embeddings-0005.jsonl',\n",
       " '../Embeddings/files/embeddings-api/large-files-chunk-embeddings-0006.jsonl',\n",
       " '../Embeddings/files/embeddings-api/large-files-chunk-embeddings-0007.jsonl',\n",
       " '../Embeddings/files/embeddings-api/large-files-chunk-embeddings-0008.jsonl',\n",
       " '../Embeddings/files/embeddings-api/large-files-chunk-embeddings-0009.jsonl']"
      ]
     },
     "execution_count": 15,
     "metadata": {},
     "output_type": "execute_result"
    }
   ],
   "source": [
    "jsonl_files = glob.glob(f\"{local_dir}/large-files*.jsonl\")\n",
    "jsonl_files.sort()\n",
    "jsonl_files"
   ]
  },
  {
   "cell_type": "code",
   "execution_count": 16,
   "id": "a54c6c96-6c28-49bb-80be-5d46797dfe77",
   "metadata": {
    "tags": []
   },
   "outputs": [
    {
     "data": {
      "text/plain": [
       "9040"
      ]
     },
     "execution_count": 16,
     "metadata": {},
     "output_type": "execute_result"
    }
   ],
   "source": [
    "chunks = []\n",
    "for file in jsonl_files:\n",
    "    with open(file, 'r') as f:\n",
    "        chunks.extend([json.loads(line) for line in f])\n",
    "len(chunks)"
   ]
  },
  {
   "cell_type": "markdown",
   "id": "ce2c4b63-ab32-47ea-8525-2624ddee5089",
   "metadata": {},
   "source": [
    "### Review A Chunk"
   ]
  },
  {
   "cell_type": "code",
   "execution_count": 17,
   "id": "fc20423e-e3d6-4e90-9e98-a5248508c82d",
   "metadata": {
    "tags": []
   },
   "outputs": [
    {
     "data": {
      "text/plain": [
       "dict_keys(['instance', 'predictions', 'status'])"
      ]
     },
     "execution_count": 17,
     "metadata": {},
     "output_type": "execute_result"
    }
   ],
   "source": [
    "chunks[0].keys()"
   ]
  },
  {
   "cell_type": "code",
   "execution_count": 18,
   "id": "1955ea39-4ffc-4d30-b653-a5a9911f2dab",
   "metadata": {
    "tags": []
   },
   "outputs": [
    {
     "data": {
      "text/plain": [
       "'fannie_part_0_c17'"
      ]
     },
     "execution_count": 18,
     "metadata": {},
     "output_type": "execute_result"
    }
   ],
   "source": [
    "chunks[0]['instance']['chunk_id']"
   ]
  },
  {
   "cell_type": "code",
   "execution_count": 19,
   "id": "3537982c-4a0e-456c-a652-19ea7507873b",
   "metadata": {
    "tags": []
   },
   "outputs": [
    {
     "name": "stdout",
     "output_type": "stream",
     "text": [
      "# Selling Guide Fannie Mae Single Family\n",
      "\n",
      "## Fannie Mae Copyright Notice\n",
      "\n",
      "### Fannie Mae Copyright Notice\n",
      "\n",
      "|-|\n",
      "| Section B3-4.2, Verification of Depository Assets 402 |\n",
      "| B3-4.2-01, Verification of Deposits and Assets (05/04/2022) 403 |\n",
      "| B3-4.2-02, Depository Accounts (12/14/2022) 405 |\n",
      "| B3-4.2-03, Individual Development Accounts (02/06/2019) 408 |\n",
      "| B3-4.2-04, Pooled Savings (Community Savings Funds) (04/01/2009) 411 |\n",
      "| B3-4.2-05, Foreign Assets (05/04/2022) 411 |\n",
      "| Section B3-4.3, Verification of Non-Depository Assets 412 |\n",
      "| B3-4.3-01, Stocks, Stock Options, Bonds, and Mutual Funds (06/30/2015) 412 |\n",
      "| B3-4.3-02, Trust Accounts (04/01/2009) 413 |\n",
      "| B3-4.3-03, Retirement Accounts (06/30/2015) 414 |\n",
      "| B3-4.3-04, Personal Gifts (09/06/2023) 415 |\n",
      "| B3-4.3-05, Gifts of Equity (10/07/2020) 418 |\n",
      "| B3-4.3-06, Grants and Lender Contributions (12/14/2022) 419 |\n",
      "| B3-4.3-07, Disaster Relief Grants or Loans (04/01/2009) 423 |\n",
      "| B3-4.3-08, Employer Assistance (09/29/2015) 423 |\n",
      "| B3-4.3-09, Earnest Money Deposit (05/04/2022) 425 |\n",
      "| B3-4.3-10, Anticipated Sales Proceeds (02/23/2016) B3-4.3-11, Trade Equity (12/16/2020) 426 428 |\n",
      "| B3-4.3-12, Rent-Related Credits (08/07/2024) 429 |\n",
      "| B3-4.3-13, Sweat Equity (04/15/2014) 430 |\n",
      "| B3-4.3-14, Bridge/Swing Loans (04/01/2009) 431 |\n",
      "| B3-4.3-15, Borrowed Funds Secured by an Asset (10/30/2009) 431 |\n",
      "|  |\n",
      "\n",
      "\n"
     ]
    }
   ],
   "source": [
    "print(chunks[0]['instance']['content'])"
   ]
  },
  {
   "cell_type": "code",
   "execution_count": 20,
   "id": "49f06293-a439-436b-bc93-cd6cd3fb4aff",
   "metadata": {
    "tags": []
   },
   "outputs": [
    {
     "data": {
      "text/plain": [
       "[0.031277116388082504,\n",
       " 0.03056905046105385,\n",
       " 0.010865348391234875,\n",
       " 0.0623614676296711,\n",
       " 0.03228681534528732,\n",
       " 0.05066155269742012,\n",
       " 0.046544693410396576,\n",
       " 0.05509665608406067,\n",
       " -0.014074751175940037,\n",
       " 0.008380400016903877]"
      ]
     },
     "execution_count": 20,
     "metadata": {},
     "output_type": "execute_result"
    }
   ],
   "source": [
    "chunks[0]['predictions'][0]['embeddings']['values'][0:10]"
   ]
  },
  {
   "cell_type": "markdown",
   "id": "7bc9e21d-e9a6-4a1a-83cf-3bede1483efa",
   "metadata": {},
   "source": [
    "### Prepare Chunk Structure\n",
    "\n",
    "Make a list of dictionaries with information for each chunk:"
   ]
  },
  {
   "cell_type": "code",
   "execution_count": 21,
   "id": "be9fa708-130c-4343-b179-dbde0b09a972",
   "metadata": {
    "tags": []
   },
   "outputs": [],
   "source": [
    "content_chunks = [\n",
    "    dict(\n",
    "        gse = chunk['instance']['gse'],\n",
    "        chunk_id = chunk['instance']['chunk_id'],\n",
    "        content = chunk['instance']['content'],\n",
    "        embedding = chunk['predictions'][0]['embeddings']['values']\n",
    "    ) for chunk in chunks\n",
    "]"
   ]
  },
  {
   "cell_type": "markdown",
   "id": "d88bce64-17d2-4499-8bb5-5fe8b152dafe",
   "metadata": {},
   "source": [
    "### Query Embedding\n",
    "\n",
    "Create a query, or prompt, and get the embedding for it:\n",
    "\n",
    "Connect to models for text embeddings. Learn more about the model API:\n",
    "- [Vertex AI Text Embeddings API](../Embeddings/Vertex%20AI%20Text%20Embeddings%20API.ipynb)"
   ]
  },
  {
   "cell_type": "code",
   "execution_count": 22,
   "id": "3da5d30c-3dfb-42ba-a133-83dceb252787",
   "metadata": {
    "tags": []
   },
   "outputs": [],
   "source": [
    "question = \"Does a lender have to perform servicing functions directly?\""
   ]
  },
  {
   "cell_type": "code",
   "execution_count": 23,
   "id": "7992c26f-d058-4920-80a3-a157b88733e4",
   "metadata": {
    "tags": []
   },
   "outputs": [],
   "source": [
    "embedder = vertexai.language_models.TextEmbeddingModel.from_pretrained('text-embedding-004')"
   ]
  },
  {
   "cell_type": "code",
   "execution_count": 24,
   "id": "bbe6fda7-9cea-49a2-9e2f-9222d50677af",
   "metadata": {
    "tags": []
   },
   "outputs": [
    {
     "data": {
      "text/plain": [
       "[-0.0005117303808219731,\n",
       " 0.009651427157223225,\n",
       " 0.01768726110458374,\n",
       " 0.014538003131747246,\n",
       " -0.01829824410378933,\n",
       " 0.027877431362867355,\n",
       " -0.021124685183167458,\n",
       " 0.008830446749925613,\n",
       " -0.02669006586074829,\n",
       " 0.06414774805307388]"
      ]
     },
     "execution_count": 24,
     "metadata": {},
     "output_type": "execute_result"
    }
   ],
   "source": [
    "question_embedding = embedder.get_embeddings([question])[0].values\n",
    "question_embedding[0:10]"
   ]
  },
  {
   "cell_type": "markdown",
   "id": "3d6c8745-e0e7-487a-adb2-04b2cf78642f",
   "metadata": {},
   "source": [
    "---\n",
    "## Load To BigQuery\n",
    "\n",
    "In this case the information to load to BigQuery is local.  It could be in GCS or other BigQuery sources.  You can also get embeddings for information within BigQuery using the [ML.GENERATE_EMBEDDING function](https://cloud.google.com/bigquery/docs/reference/standard-sql/bigqueryml-syntax-generate-embedding) and even use the exact same model as was used for the data imported above."
   ]
  },
  {
   "cell_type": "markdown",
   "id": "49dc6484-cbcb-4323-b4ff-d210e560a2af",
   "metadata": {},
   "source": [
    "### Create/Recall Dataset"
   ]
  },
  {
   "cell_type": "code",
   "execution_count": 25,
   "id": "e447923e-9586-4635-929f-3f330eec1331",
   "metadata": {
    "tags": []
   },
   "outputs": [],
   "source": [
    "dataset = bigquery.Dataset(f\"{BQ_PROJECT}.{BQ_DATASET}\")\n",
    "dataset.location = BQ_REGION\n",
    "bq_dataset = bq.create_dataset(dataset, exists_ok = True)"
   ]
  },
  {
   "cell_type": "markdown",
   "id": "592acf37-65d8-45d0-9220-198c6264ea91",
   "metadata": {},
   "source": [
    "### Load JSON TO BigQuery Table"
   ]
  },
  {
   "cell_type": "code",
   "execution_count": 26,
   "id": "9e561bb0-5060-49b2-93e9-c6d0d1f6c130",
   "metadata": {
    "tags": []
   },
   "outputs": [],
   "source": [
    "bq_table = bq_dataset.table(BQ_TABLE)"
   ]
  },
  {
   "cell_type": "code",
   "execution_count": 29,
   "id": "92744b85-75ab-4edb-8159-4d66caf45b92",
   "metadata": {
    "tags": []
   },
   "outputs": [],
   "source": [
    "job_config = bigquery.LoadJobConfig(\n",
    "    source_format = bigquery.SourceFormat.NEWLINE_DELIMITED_JSON,\n",
    "    write_disposition = bigquery.WriteDisposition.WRITE_TRUNCATE,\n",
    "    autodetect = True\n",
    ")"
   ]
  },
  {
   "cell_type": "code",
   "execution_count": 30,
   "id": "571b9ccf-542a-4abd-a398-d72222baf8a2",
   "metadata": {
    "tags": []
   },
   "outputs": [
    {
     "data": {
      "text/plain": [
       "LoadJob<project=statmike-mlops-349915, location=US, id=f44d223f-4db7-4580-a88b-72d0e87d7707>"
      ]
     },
     "execution_count": 30,
     "metadata": {},
     "output_type": "execute_result"
    }
   ],
   "source": [
    "load_job = bq.load_table_from_json(\n",
    "    json_rows = content_chunks,\n",
    "    destination = bq_table,\n",
    "    job_config = job_config\n",
    ")\n",
    "load_job.result()"
   ]
  },
  {
   "cell_type": "code",
   "execution_count": 31,
   "id": "0bb75cd8-218e-46f9-876e-a4c6b86293fb",
   "metadata": {
    "tags": []
   },
   "outputs": [
    {
     "data": {
      "text/html": [
       "<div>\n",
       "<style scoped>\n",
       "    .dataframe tbody tr th:only-of-type {\n",
       "        vertical-align: middle;\n",
       "    }\n",
       "\n",
       "    .dataframe tbody tr th {\n",
       "        vertical-align: top;\n",
       "    }\n",
       "\n",
       "    .dataframe thead th {\n",
       "        text-align: right;\n",
       "    }\n",
       "</style>\n",
       "<table border=\"1\" class=\"dataframe\">\n",
       "  <thead>\n",
       "    <tr style=\"text-align: right;\">\n",
       "      <th></th>\n",
       "      <th>chunk_id</th>\n",
       "      <th>embedding</th>\n",
       "      <th>content</th>\n",
       "      <th>gse</th>\n",
       "    </tr>\n",
       "  </thead>\n",
       "  <tbody>\n",
       "    <tr>\n",
       "      <th>0</th>\n",
       "      <td>fannie_part_0_c17</td>\n",
       "      <td>[0.031277116388082504, 0.03056905046105385, 0....</td>\n",
       "      <td># Selling Guide Fannie Mae Single Family\\n\\n##...</td>\n",
       "      <td>fannie</td>\n",
       "    </tr>\n",
       "    <tr>\n",
       "      <th>1</th>\n",
       "      <td>fannie_part_0_c418</td>\n",
       "      <td>[0.0002988415362779051, -0.002309585688635707,...</td>\n",
       "      <td># Additional Financial Requirements\\n\\nLender ...</td>\n",
       "      <td>fannie</td>\n",
       "    </tr>\n",
       "    <tr>\n",
       "      <th>2</th>\n",
       "      <td>fannie_part_0_c725</td>\n",
       "      <td>[-0.0030626351945102215, -0.017544567584991455...</td>\n",
       "      <td># B3-1-01, Comprehensive Risk Assessment (12/1...</td>\n",
       "      <td>fannie</td>\n",
       "    </tr>\n",
       "    <tr>\n",
       "      <th>3</th>\n",
       "      <td>fannie_part_0_c882</td>\n",
       "      <td>[0.012272126041352749, -0.050955940037965775, ...</td>\n",
       "      <td># Calculating Monthly Qualifying Rental Income...</td>\n",
       "      <td>fannie</td>\n",
       "    </tr>\n",
       "    <tr>\n",
       "      <th>4</th>\n",
       "      <td>fannie_part_0_c315</td>\n",
       "      <td>[0.008982143364846706, -0.0069817849434912205,...</td>\n",
       "      <td># Compliance with Fannie Mae Data Breach Incid...</td>\n",
       "      <td>fannie</td>\n",
       "    </tr>\n",
       "  </tbody>\n",
       "</table>\n",
       "</div>"
      ],
      "text/plain": [
       "             chunk_id                                          embedding  \\\n",
       "0   fannie_part_0_c17  [0.031277116388082504, 0.03056905046105385, 0....   \n",
       "1  fannie_part_0_c418  [0.0002988415362779051, -0.002309585688635707,...   \n",
       "2  fannie_part_0_c725  [-0.0030626351945102215, -0.017544567584991455...   \n",
       "3  fannie_part_0_c882  [0.012272126041352749, -0.050955940037965775, ...   \n",
       "4  fannie_part_0_c315  [0.008982143364846706, -0.0069817849434912205,...   \n",
       "\n",
       "                                             content     gse  \n",
       "0  # Selling Guide Fannie Mae Single Family\\n\\n##...  fannie  \n",
       "1  # Additional Financial Requirements\\n\\nLender ...  fannie  \n",
       "2  # B3-1-01, Comprehensive Risk Assessment (12/1...  fannie  \n",
       "3  # Calculating Monthly Qualifying Rental Income...  fannie  \n",
       "4  # Compliance with Fannie Mae Data Breach Incid...  fannie  "
      ]
     },
     "execution_count": 31,
     "metadata": {},
     "output_type": "execute_result"
    }
   ],
   "source": [
    "bq.query(f\"SELECT * FROM `{BQ_PROJECT}.{BQ_DATASET}.{BQ_TABLE}` LIMIT 5\").to_dataframe()"
   ]
  },
  {
   "cell_type": "markdown",
   "id": "360774df-d6b9-46af-bf3c-283c39b1b952",
   "metadata": {},
   "source": [
    "---\n",
    "## Retrieval With BigQuery\n",
    "\n",
    "BigQuery has a built in [VECTOR_SEARCH function](https://cloud.google.com/bigquery/docs/reference/standard-sql/search_functions#vector_search) that by itself will do brute force matching to find the `top_k` neighbors with the selected distance metric using `distance_type` ('EUCLIDEAN', 'COSINE', or 'DOT_PRODUCT').  Remember to use 'DOT_PRODUCT' and read why in this companion workflow: [The Math of Similarity](../Embeddings/The%20Math%20of%20Similarity.ipynb).\n",
    "\n",
    "[BigQuery also has vector indexing](https://cloud.google.com/bigquery/docs/vector-search-intro) options for approximate nearest neighbor search with two options for index type:\n",
    "- [Inverted File (IVF) Index](https://cloud.google.com/bigquery/docs/vector-index#ivf-index)\n",
    "    - Automatically creates an inverted list from assigning embeddings to k clusters using k-means clustering and uses the clusters as partions\n",
    "    - Reduces the search space to only partions (clusters) near the query embedding (configurable)\n",
    "- [TreeAH Index](https://cloud.google.com/bigquery/docs/vector-index#tree-ah-index)\n",
    "    - Uses the Google [ScaNN algorithm](https://github.com/google-research/google-research/blob/master/scann/docs/algorithms.md)\n",
    "    - Train a clustering model and bases the number of clusters on the value of `leaf_node_embedding_count`\n",
    "    - Creates a candidate list at query time using asymmetric hashing - super fast!\n",
    "    \n",
    "The following sections explore vector search in BigQuery with and without the use of vector indexes."
   ]
  },
  {
   "cell_type": "markdown",
   "id": "9e431ca9-a64f-471b-a500-6504e8650398",
   "metadata": {},
   "source": [
    "### Get Matches: Vector Search With No Vector Index - Brute Force\n",
    "\n",
    "The [VECTOR_SEARCH function](https://cloud.google.com/bigquery/docs/reference/standard-sql/search_functions#vector_search) function can be directly used to find matches without a [vector index](https://cloud.google.com/bigquery/docs/vector-index).  While vector indexes offer efficient ways of finding matches based on embeddings, the brute force approach of directly using `VECTOR_SEARCH` compares a query embedding to all embeddings in the table.\n",
    "\n",
    "The options for `VECTOR_SEARCH` are:\n",
    "- `base_table` is the table to search\n",
    "- `column_to_search` is the column of embeddings vector to match\n",
    "- `top_k` is the number of matches to return\n",
    "- `distance_type` is the distance measure to use from `EUCLIDEAN`, `DOT_PRODUCT`, and `COSINE`.\n",
    "    - Use `DOT_PRODUCT` here for these normalized embeddings and read more about why in [The Math of Similarity](../Embeddings/The%20Math%20of%20Similarity.ipynb)"
   ]
  },
  {
   "cell_type": "markdown",
   "id": "d336951b-0cb4-436d-b2fa-001388a8214b",
   "metadata": {},
   "source": [
    "#### Matches For A Given `chunk_id`"
   ]
  },
  {
   "cell_type": "code",
   "execution_count": 32,
   "id": "306664e6-f5c7-4ca1-9a35-873dad7d39ea",
   "metadata": {
    "tags": []
   },
   "outputs": [
    {
     "data": {
      "text/html": [
       "<div>\n",
       "<style scoped>\n",
       "    .dataframe tbody tr th:only-of-type {\n",
       "        vertical-align: middle;\n",
       "    }\n",
       "\n",
       "    .dataframe tbody tr th {\n",
       "        vertical-align: top;\n",
       "    }\n",
       "\n",
       "    .dataframe thead th {\n",
       "        text-align: right;\n",
       "    }\n",
       "</style>\n",
       "<table border=\"1\" class=\"dataframe\">\n",
       "  <thead>\n",
       "    <tr style=\"text-align: right;\">\n",
       "      <th></th>\n",
       "      <th>chunk_id</th>\n",
       "      <th>match</th>\n",
       "      <th>distance</th>\n",
       "    </tr>\n",
       "  </thead>\n",
       "  <tbody>\n",
       "    <tr>\n",
       "      <th>0</th>\n",
       "      <td>fannie_part_0_c17</td>\n",
       "      <td>fannie_part_0_c17</td>\n",
       "      <td>-0.999799</td>\n",
       "    </tr>\n",
       "    <tr>\n",
       "      <th>1</th>\n",
       "      <td>fannie_part_0_c17</td>\n",
       "      <td>fannie_part_0_c15</td>\n",
       "      <td>-0.897096</td>\n",
       "    </tr>\n",
       "    <tr>\n",
       "      <th>2</th>\n",
       "      <td>fannie_part_0_c17</td>\n",
       "      <td>fannie_part_0_c20</td>\n",
       "      <td>-0.889913</td>\n",
       "    </tr>\n",
       "    <tr>\n",
       "      <th>3</th>\n",
       "      <td>fannie_part_0_c17</td>\n",
       "      <td>fannie_part_0_c11</td>\n",
       "      <td>-0.883223</td>\n",
       "    </tr>\n",
       "    <tr>\n",
       "      <th>4</th>\n",
       "      <td>fannie_part_0_c17</td>\n",
       "      <td>fannie_part_0_c22</td>\n",
       "      <td>-0.877935</td>\n",
       "    </tr>\n",
       "  </tbody>\n",
       "</table>\n",
       "</div>"
      ],
      "text/plain": [
       "            chunk_id              match  distance\n",
       "0  fannie_part_0_c17  fannie_part_0_c17 -0.999799\n",
       "1  fannie_part_0_c17  fannie_part_0_c15 -0.897096\n",
       "2  fannie_part_0_c17  fannie_part_0_c20 -0.889913\n",
       "3  fannie_part_0_c17  fannie_part_0_c11 -0.883223\n",
       "4  fannie_part_0_c17  fannie_part_0_c22 -0.877935"
      ]
     },
     "execution_count": 32,
     "metadata": {},
     "output_type": "execute_result"
    }
   ],
   "source": [
    "example_chunk = 'fannie_part_0_c17'\n",
    "query = f'''\n",
    "SELECT\n",
    "    query.chunk_id AS chunk_id,\n",
    "    base.chunk_id AS match,\n",
    "    distance\n",
    "FROM VECTOR_SEARCH(\n",
    "    TABLE `{BQ_PROJECT}.{BQ_DATASET}.{BQ_TABLE}`,\n",
    "    'embedding',\n",
    "    (SELECT * FROM `{BQ_PROJECT}.{BQ_DATASET}.{BQ_TABLE}` WHERE chunk_id = '{example_chunk}'),\n",
    "    'embedding',\n",
    "    top_k => 5,\n",
    "    distance_type => 'DOT_PRODUCT'\n",
    ")\n",
    "ORDER BY distance\n",
    "'''\n",
    "bq.query(query).to_dataframe()"
   ]
  },
  {
   "cell_type": "markdown",
   "id": "04303208-ea39-4b07-9302-950c2fd95da0",
   "metadata": {},
   "source": [
    "#### Matches For An Input Embedding"
   ]
  },
  {
   "cell_type": "code",
   "execution_count": 33,
   "id": "a3edb667-9ca2-4f60-a990-1c336e42e6b1",
   "metadata": {
    "tags": []
   },
   "outputs": [
    {
     "data": {
      "text/html": [
       "<div>\n",
       "<style scoped>\n",
       "    .dataframe tbody tr th:only-of-type {\n",
       "        vertical-align: middle;\n",
       "    }\n",
       "\n",
       "    .dataframe tbody tr th {\n",
       "        vertical-align: top;\n",
       "    }\n",
       "\n",
       "    .dataframe thead th {\n",
       "        text-align: right;\n",
       "    }\n",
       "</style>\n",
       "<table border=\"1\" class=\"dataframe\">\n",
       "  <thead>\n",
       "    <tr style=\"text-align: right;\">\n",
       "      <th></th>\n",
       "      <th>question</th>\n",
       "      <th>match</th>\n",
       "      <th>gse</th>\n",
       "      <th>distance</th>\n",
       "    </tr>\n",
       "  </thead>\n",
       "  <tbody>\n",
       "    <tr>\n",
       "      <th>0</th>\n",
       "      <td>Does a lender have to perform servicing functi...</td>\n",
       "      <td>fannie_part_0_c352</td>\n",
       "      <td>fannie</td>\n",
       "      <td>-0.709984</td>\n",
       "    </tr>\n",
       "    <tr>\n",
       "      <th>1</th>\n",
       "      <td>Does a lender have to perform servicing functi...</td>\n",
       "      <td>freddie_part_4_c509</td>\n",
       "      <td>freddie</td>\n",
       "      <td>-0.680526</td>\n",
       "    </tr>\n",
       "    <tr>\n",
       "      <th>2</th>\n",
       "      <td>Does a lender have to perform servicing functi...</td>\n",
       "      <td>freddie_part_4_c510</td>\n",
       "      <td>freddie</td>\n",
       "      <td>-0.675330</td>\n",
       "    </tr>\n",
       "    <tr>\n",
       "      <th>3</th>\n",
       "      <td>Does a lender have to perform servicing functi...</td>\n",
       "      <td>fannie_part_0_c353</td>\n",
       "      <td>fannie</td>\n",
       "      <td>-0.672371</td>\n",
       "    </tr>\n",
       "    <tr>\n",
       "      <th>4</th>\n",
       "      <td>Does a lender have to perform servicing functi...</td>\n",
       "      <td>fannie_part_0_c326</td>\n",
       "      <td>fannie</td>\n",
       "      <td>-0.668350</td>\n",
       "    </tr>\n",
       "  </tbody>\n",
       "</table>\n",
       "</div>"
      ],
      "text/plain": [
       "                                            question                match  \\\n",
       "0  Does a lender have to perform servicing functi...   fannie_part_0_c352   \n",
       "1  Does a lender have to perform servicing functi...  freddie_part_4_c509   \n",
       "2  Does a lender have to perform servicing functi...  freddie_part_4_c510   \n",
       "3  Does a lender have to perform servicing functi...   fannie_part_0_c353   \n",
       "4  Does a lender have to perform servicing functi...   fannie_part_0_c326   \n",
       "\n",
       "       gse  distance  \n",
       "0   fannie -0.709984  \n",
       "1  freddie -0.680526  \n",
       "2  freddie -0.675330  \n",
       "3   fannie -0.672371  \n",
       "4   fannie -0.668350  "
      ]
     },
     "execution_count": 33,
     "metadata": {},
     "output_type": "execute_result"
    }
   ],
   "source": [
    "query = f'''\n",
    "SELECT\n",
    "    query.question AS question,\n",
    "    base.chunk_id AS match,\n",
    "    base.gse AS gse,\n",
    "    distance\n",
    "FROM VECTOR_SEARCH(\n",
    "    TABLE `{BQ_PROJECT}.{BQ_DATASET}.{BQ_TABLE}`,\n",
    "    'embedding',\n",
    "    (SELECT {question_embedding} AS embedding, '{question}' AS question),\n",
    "    'embedding',\n",
    "    top_k => 5,\n",
    "    distance_type => 'DOT_PRODUCT'\n",
    ")\n",
    "ORDER BY distance\n",
    "'''\n",
    "bq.query(query).to_dataframe()"
   ]
  },
  {
   "cell_type": "markdown",
   "id": "eb2311a6-8fbb-40a2-98d2-d20f188bb86b",
   "metadata": {},
   "source": [
    "#### Pre-Filter Matches For An Input Embedding"
   ]
  },
  {
   "cell_type": "code",
   "execution_count": 34,
   "id": "99bae86a-487b-4234-8245-9bb711dde2ec",
   "metadata": {
    "tags": []
   },
   "outputs": [
    {
     "data": {
      "text/html": [
       "<div>\n",
       "<style scoped>\n",
       "    .dataframe tbody tr th:only-of-type {\n",
       "        vertical-align: middle;\n",
       "    }\n",
       "\n",
       "    .dataframe tbody tr th {\n",
       "        vertical-align: top;\n",
       "    }\n",
       "\n",
       "    .dataframe thead th {\n",
       "        text-align: right;\n",
       "    }\n",
       "</style>\n",
       "<table border=\"1\" class=\"dataframe\">\n",
       "  <thead>\n",
       "    <tr style=\"text-align: right;\">\n",
       "      <th></th>\n",
       "      <th>question</th>\n",
       "      <th>match</th>\n",
       "      <th>gse</th>\n",
       "      <th>distance</th>\n",
       "    </tr>\n",
       "  </thead>\n",
       "  <tbody>\n",
       "    <tr>\n",
       "      <th>0</th>\n",
       "      <td>Does a lender have to perform servicing functi...</td>\n",
       "      <td>fannie_part_0_c352</td>\n",
       "      <td>fannie</td>\n",
       "      <td>-0.709984</td>\n",
       "    </tr>\n",
       "    <tr>\n",
       "      <th>1</th>\n",
       "      <td>Does a lender have to perform servicing functi...</td>\n",
       "      <td>fannie_part_0_c353</td>\n",
       "      <td>fannie</td>\n",
       "      <td>-0.672371</td>\n",
       "    </tr>\n",
       "    <tr>\n",
       "      <th>2</th>\n",
       "      <td>Does a lender have to perform servicing functi...</td>\n",
       "      <td>fannie_part_0_c326</td>\n",
       "      <td>fannie</td>\n",
       "      <td>-0.668350</td>\n",
       "    </tr>\n",
       "    <tr>\n",
       "      <th>3</th>\n",
       "      <td>Does a lender have to perform servicing functi...</td>\n",
       "      <td>fannie_part_0_c92</td>\n",
       "      <td>fannie</td>\n",
       "      <td>-0.661434</td>\n",
       "    </tr>\n",
       "    <tr>\n",
       "      <th>4</th>\n",
       "      <td>Does a lender have to perform servicing functi...</td>\n",
       "      <td>fannie_part_0_c240</td>\n",
       "      <td>fannie</td>\n",
       "      <td>-0.660858</td>\n",
       "    </tr>\n",
       "  </tbody>\n",
       "</table>\n",
       "</div>"
      ],
      "text/plain": [
       "                                            question               match  \\\n",
       "0  Does a lender have to perform servicing functi...  fannie_part_0_c352   \n",
       "1  Does a lender have to perform servicing functi...  fannie_part_0_c353   \n",
       "2  Does a lender have to perform servicing functi...  fannie_part_0_c326   \n",
       "3  Does a lender have to perform servicing functi...   fannie_part_0_c92   \n",
       "4  Does a lender have to perform servicing functi...  fannie_part_0_c240   \n",
       "\n",
       "      gse  distance  \n",
       "0  fannie -0.709984  \n",
       "1  fannie -0.672371  \n",
       "2  fannie -0.668350  \n",
       "3  fannie -0.661434  \n",
       "4  fannie -0.660858  "
      ]
     },
     "execution_count": 34,
     "metadata": {},
     "output_type": "execute_result"
    }
   ],
   "source": [
    "example_gse = 'fannie'\n",
    "query = f'''\n",
    "SELECT\n",
    "    query.question AS question,\n",
    "    base.chunk_id AS match,\n",
    "    base.gse AS gse,\n",
    "    distance\n",
    "FROM VECTOR_SEARCH(\n",
    "    (SELECT * FROM `{BQ_PROJECT}.{BQ_DATASET}.{BQ_TABLE}` WHERE gse = '{example_gse}'),\n",
    "    'embedding',\n",
    "    (SELECT {question_embedding} AS embedding, '{question}' AS question),\n",
    "    'embedding',\n",
    "    top_k => 5,\n",
    "    distance_type => 'DOT_PRODUCT'\n",
    ")\n",
    "ORDER BY distance\n",
    "'''\n",
    "bq.query(query).to_dataframe()"
   ]
  },
  {
   "cell_type": "markdown",
   "id": "76e0af46-5ffc-4841-a02a-13d9821f044f",
   "metadata": {},
   "source": [
    "### Create A Vector Index\n",
    "\n",
    "To efficiently do a vector search it can be helpful to [create a vector index](https://cloud.google.com/bigquery/docs/vector-index) for the embeddings column.  \n",
    " - This is not required though as a [brute force search](https://cloud.google.com/bigquery/docs/vector-search#use_the_vector_search_function_with_brute_force) is possible as shown in the previous section.  An Index can also be ignored and force brute force search as will be shown later in this workflow.\n",
    "\n",
    "There are two types of vector indexes that can be chosen in BigQuery:\n",
    "- IVF Index: `index_type = \"IVF\"`\n",
    "    - use k-means to cluser the embeddings vectors and then uses the clusters as partions\n",
    "    - k can be specifed with the NUM_LISTS option as any INT64 <= 5000\n",
    "        - The choice of value can impact the performance of queries.\n",
    "        - **NOTE:** If omitted then by default BigQuery calculates an appropriate value!\n",
    "    - updates are handled automatically\n",
    "- TreeAH Index `index_type = \"TREE_AH\"`\n",
    "    - uses the [ScaNN algorithm](https://github.com/google-research/google-research/blob/master/scann/docs/algorithms.md) developed by Google\n",
    "    - the number of partitions/clusters is trained based on the `leaf_node_embedding_count` option\n",
    "        - each leaf node will contain up to the value of the parameter which defaults to 1000 and can be any INT64 >= 500\n",
    "    \n",
    "Options for both index types:\n",
    "- Set the default `DISTANCE_TYPE` as `EUCLIDEAN`, `DOT_PRODUCT` or `COSINE`.\n",
    "    - Use `DOT_PRODUCT` here for these normalized embeddings and read more about why in [The Math of Similarity](../Embeddings/The%20Math%20of%20Similarity.ipynb)\n",
    "    - This option can be preempted with an alternative choice when using the VECTOR_SEARCH function\n",
    "- `NORMALIZATION_TYPE` can be chosen to normalize the vectors for you.\n",
    "    - In this case the embedding are already normalized\n",
    "    - The default is `NONE` but can be set to `L2`\n",
    "- `STORING` Clause can be used to set additional columns as part of the index which can be helpful for pre-filtering searchs to a subset.  This is used below to enable subsetting the search to the source of the information based on the columns `gse` which has values 'freddie' and 'fannie'\n",
    "\n",
    "Read about the [CREATE VECTOR INDEX](https://cloud.google.com/bigquery/docs/reference/standard-sql/data-definition-language#create_vector_index_statement) DDL statement.\n",
    "\n",
    "The workflow below uses the `IVF` index type.  See an example of the workflow below using the `TREE_AH` index type in the workflow **[BQML Autoencoder As Table Embedding](../Embeddings/BQML%20Autoencoder%20As%20Table%20Embedding.ipynb)**\n"
   ]
  },
  {
   "cell_type": "code",
   "execution_count": 35,
   "id": "994bf991-41e2-40fd-95b8-f0f38b04c402",
   "metadata": {
    "tags": []
   },
   "outputs": [
    {
     "data": {
      "text/plain": [
       "<google.cloud.bigquery.table._EmptyRowIterator at 0x7fe600809780>"
      ]
     },
     "execution_count": 35,
     "metadata": {},
     "output_type": "execute_result"
    }
   ],
   "source": [
    "query = f'''\n",
    "CREATE VECTOR INDEX IF NOT EXISTS row_index ON `{BQ_PROJECT}.{BQ_DATASET}.{BQ_TABLE}`(embedding)\n",
    "STORING(gse, chunk_id) # add chunk_id here also!\n",
    "OPTIONS(\n",
    "    index_type = 'IVF',\n",
    "    ivf_options = '{{\"num_lists\":100}}',\n",
    "    distance_type = 'DOT_PRODUCT'\n",
    ")\n",
    "'''\n",
    "job = bq.query(query)\n",
    "job.result()"
   ]
  },
  {
   "cell_type": "markdown",
   "id": "d758c70f-de1c-464a-90e0-812ac2731cc6",
   "metadata": {},
   "source": [
    "### Check The Vector Index Status\n",
    "\n",
    "[Get information about vector indexes](https://cloud.google.com/bigquery/docs/vector-index#get_information_about_vector_indexes)"
   ]
  },
  {
   "cell_type": "code",
   "execution_count": 36,
   "id": "386f70ff-2a72-4e97-becc-8e2d700b8821",
   "metadata": {
    "tags": []
   },
   "outputs": [
    {
     "data": {
      "text/html": [
       "<div>\n",
       "<style scoped>\n",
       "    .dataframe tbody tr th:only-of-type {\n",
       "        vertical-align: middle;\n",
       "    }\n",
       "\n",
       "    .dataframe tbody tr th {\n",
       "        vertical-align: top;\n",
       "    }\n",
       "\n",
       "    .dataframe thead th {\n",
       "        text-align: right;\n",
       "    }\n",
       "</style>\n",
       "<table border=\"1\" class=\"dataframe\">\n",
       "  <thead>\n",
       "    <tr style=\"text-align: right;\">\n",
       "      <th></th>\n",
       "      <th>index_catalog</th>\n",
       "      <th>index_schema</th>\n",
       "      <th>table_name</th>\n",
       "      <th>index_name</th>\n",
       "      <th>index_status</th>\n",
       "      <th>creation_time</th>\n",
       "      <th>last_modification_time</th>\n",
       "      <th>last_refresh_time</th>\n",
       "      <th>disable_time</th>\n",
       "      <th>disable_reason</th>\n",
       "      <th>ddl</th>\n",
       "      <th>coverage_percentage</th>\n",
       "      <th>unindexed_row_count</th>\n",
       "      <th>total_logical_bytes</th>\n",
       "      <th>total_storage_bytes</th>\n",
       "    </tr>\n",
       "  </thead>\n",
       "  <tbody>\n",
       "    <tr>\n",
       "      <th>0</th>\n",
       "      <td>statmike-mlops-349915</td>\n",
       "      <td>applied_genai</td>\n",
       "      <td>retrieval-bigquery</td>\n",
       "      <td>row_index</td>\n",
       "      <td>ACTIVE</td>\n",
       "      <td>2025-02-21 16:53:15.687000+00:00</td>\n",
       "      <td>2025-02-21 16:53:15.687000+00:00</td>\n",
       "      <td>NaT</td>\n",
       "      <td>NaT</td>\n",
       "      <td>None</td>\n",
       "      <td>CREATE VECTOR INDEX `row_index` ON `statmike-m...</td>\n",
       "      <td>0</td>\n",
       "      <td>9040</td>\n",
       "      <td>0</td>\n",
       "      <td>0</td>\n",
       "    </tr>\n",
       "  </tbody>\n",
       "</table>\n",
       "</div>"
      ],
      "text/plain": [
       "           index_catalog   index_schema          table_name index_name  \\\n",
       "0  statmike-mlops-349915  applied_genai  retrieval-bigquery  row_index   \n",
       "\n",
       "  index_status                    creation_time  \\\n",
       "0       ACTIVE 2025-02-21 16:53:15.687000+00:00   \n",
       "\n",
       "            last_modification_time last_refresh_time disable_time  \\\n",
       "0 2025-02-21 16:53:15.687000+00:00               NaT          NaT   \n",
       "\n",
       "  disable_reason                                                ddl  \\\n",
       "0           None  CREATE VECTOR INDEX `row_index` ON `statmike-m...   \n",
       "\n",
       "   coverage_percentage  unindexed_row_count  total_logical_bytes  \\\n",
       "0                    0                 9040                    0   \n",
       "\n",
       "   total_storage_bytes  \n",
       "0                    0  "
      ]
     },
     "execution_count": 36,
     "metadata": {},
     "output_type": "execute_result"
    }
   ],
   "source": [
    "query = f'''\n",
    "SELECT *\n",
    "FROM `{BQ_PROJECT}.{BQ_DATASET}.INFORMATION_SCHEMA.VECTOR_INDEXES`\n",
    "WHERE index_status = 'ACTIVE'\n",
    "    AND table_name = '{BQ_TABLE}'\n",
    "'''\n",
    "bq.query(query).to_dataframe()"
   ]
  },
  {
   "cell_type": "markdown",
   "id": "db5646dd-65e8-41f2-96f3-ef604a3632cb",
   "metadata": {},
   "source": [
    "It can take a few minutes for the index to be built.  Notice the output above show the `index_status = ACTIVE` but the `coverage_percentage = 0`.  The next cell will for a wait of 10 minutes then rerun the check for status:"
   ]
  },
  {
   "cell_type": "code",
   "execution_count": 37,
   "id": "fea95d30-32f8-4c0b-915a-a3faa32fc1c1",
   "metadata": {
    "tags": []
   },
   "outputs": [],
   "source": [
    "time.sleep(600) # sleep for 10 minutes"
   ]
  },
  {
   "cell_type": "code",
   "execution_count": 38,
   "id": "6b9fb236-b8f2-4c5d-9ce7-929d0b6fce6c",
   "metadata": {
    "tags": []
   },
   "outputs": [
    {
     "data": {
      "text/html": [
       "<div>\n",
       "<style scoped>\n",
       "    .dataframe tbody tr th:only-of-type {\n",
       "        vertical-align: middle;\n",
       "    }\n",
       "\n",
       "    .dataframe tbody tr th {\n",
       "        vertical-align: top;\n",
       "    }\n",
       "\n",
       "    .dataframe thead th {\n",
       "        text-align: right;\n",
       "    }\n",
       "</style>\n",
       "<table border=\"1\" class=\"dataframe\">\n",
       "  <thead>\n",
       "    <tr style=\"text-align: right;\">\n",
       "      <th></th>\n",
       "      <th>index_catalog</th>\n",
       "      <th>index_schema</th>\n",
       "      <th>table_name</th>\n",
       "      <th>index_name</th>\n",
       "      <th>index_status</th>\n",
       "      <th>creation_time</th>\n",
       "      <th>last_modification_time</th>\n",
       "      <th>last_refresh_time</th>\n",
       "      <th>disable_time</th>\n",
       "      <th>disable_reason</th>\n",
       "      <th>ddl</th>\n",
       "      <th>coverage_percentage</th>\n",
       "      <th>unindexed_row_count</th>\n",
       "      <th>total_logical_bytes</th>\n",
       "      <th>total_storage_bytes</th>\n",
       "    </tr>\n",
       "  </thead>\n",
       "  <tbody>\n",
       "    <tr>\n",
       "      <th>0</th>\n",
       "      <td>statmike-mlops-349915</td>\n",
       "      <td>applied_genai</td>\n",
       "      <td>retrieval-bigquery</td>\n",
       "      <td>row_index</td>\n",
       "      <td>ACTIVE</td>\n",
       "      <td>2025-02-21 16:53:15.687000+00:00</td>\n",
       "      <td>2025-02-21 16:53:15.687000+00:00</td>\n",
       "      <td>2025-02-21 17:00:42.584000+00:00</td>\n",
       "      <td>NaT</td>\n",
       "      <td>None</td>\n",
       "      <td>CREATE VECTOR INDEX `row_index` ON `statmike-m...</td>\n",
       "      <td>100</td>\n",
       "      <td>0</td>\n",
       "      <td>56728466</td>\n",
       "      <td>30824694</td>\n",
       "    </tr>\n",
       "  </tbody>\n",
       "</table>\n",
       "</div>"
      ],
      "text/plain": [
       "           index_catalog   index_schema          table_name index_name  \\\n",
       "0  statmike-mlops-349915  applied_genai  retrieval-bigquery  row_index   \n",
       "\n",
       "  index_status                    creation_time  \\\n",
       "0       ACTIVE 2025-02-21 16:53:15.687000+00:00   \n",
       "\n",
       "            last_modification_time                last_refresh_time  \\\n",
       "0 2025-02-21 16:53:15.687000+00:00 2025-02-21 17:00:42.584000+00:00   \n",
       "\n",
       "  disable_time disable_reason  \\\n",
       "0          NaT           None   \n",
       "\n",
       "                                                 ddl  coverage_percentage  \\\n",
       "0  CREATE VECTOR INDEX `row_index` ON `statmike-m...                  100   \n",
       "\n",
       "   unindexed_row_count  total_logical_bytes  total_storage_bytes  \n",
       "0                    0             56728466             30824694  "
      ]
     },
     "execution_count": 38,
     "metadata": {},
     "output_type": "execute_result"
    }
   ],
   "source": [
    "query = f'''\n",
    "SELECT *\n",
    "FROM `{BQ_PROJECT}.{BQ_DATASET}.INFORMATION_SCHEMA.VECTOR_INDEXES`\n",
    "WHERE index_status = 'ACTIVE'\n",
    "    AND table_name = '{BQ_TABLE}'\n",
    "'''\n",
    "bq.query(query).to_dataframe()"
   ]
  },
  {
   "cell_type": "markdown",
   "id": "f0c3b06a-6b65-4e13-b95a-24ec4fda59be",
   "metadata": {},
   "source": [
    "### Get Matches: Vector Search With Vector Index\n",
    "\n",
    "Directly query the table with the index as the base table:"
   ]
  },
  {
   "cell_type": "markdown",
   "id": "1404efe8-c997-4e8a-9706-fda341a163ee",
   "metadata": {},
   "source": [
    "#### Matches For A Given `chunk_id`"
   ]
  },
  {
   "cell_type": "code",
   "execution_count": 39,
   "id": "03c3e69d-5fe1-4709-bad6-5cb7996936dc",
   "metadata": {
    "tags": []
   },
   "outputs": [
    {
     "data": {
      "text/html": [
       "<div>\n",
       "<style scoped>\n",
       "    .dataframe tbody tr th:only-of-type {\n",
       "        vertical-align: middle;\n",
       "    }\n",
       "\n",
       "    .dataframe tbody tr th {\n",
       "        vertical-align: top;\n",
       "    }\n",
       "\n",
       "    .dataframe thead th {\n",
       "        text-align: right;\n",
       "    }\n",
       "</style>\n",
       "<table border=\"1\" class=\"dataframe\">\n",
       "  <thead>\n",
       "    <tr style=\"text-align: right;\">\n",
       "      <th></th>\n",
       "      <th>chunk_id</th>\n",
       "      <th>match</th>\n",
       "      <th>distance</th>\n",
       "    </tr>\n",
       "  </thead>\n",
       "  <tbody>\n",
       "    <tr>\n",
       "      <th>0</th>\n",
       "      <td>fannie_part_0_c17</td>\n",
       "      <td>fannie_part_0_c17</td>\n",
       "      <td>-0.999799</td>\n",
       "    </tr>\n",
       "    <tr>\n",
       "      <th>1</th>\n",
       "      <td>fannie_part_0_c17</td>\n",
       "      <td>fannie_part_0_c15</td>\n",
       "      <td>-0.897096</td>\n",
       "    </tr>\n",
       "    <tr>\n",
       "      <th>2</th>\n",
       "      <td>fannie_part_0_c17</td>\n",
       "      <td>fannie_part_0_c20</td>\n",
       "      <td>-0.889913</td>\n",
       "    </tr>\n",
       "    <tr>\n",
       "      <th>3</th>\n",
       "      <td>fannie_part_0_c17</td>\n",
       "      <td>fannie_part_0_c11</td>\n",
       "      <td>-0.883223</td>\n",
       "    </tr>\n",
       "    <tr>\n",
       "      <th>4</th>\n",
       "      <td>fannie_part_0_c17</td>\n",
       "      <td>fannie_part_0_c22</td>\n",
       "      <td>-0.877935</td>\n",
       "    </tr>\n",
       "  </tbody>\n",
       "</table>\n",
       "</div>"
      ],
      "text/plain": [
       "            chunk_id              match  distance\n",
       "0  fannie_part_0_c17  fannie_part_0_c17 -0.999799\n",
       "1  fannie_part_0_c17  fannie_part_0_c15 -0.897096\n",
       "2  fannie_part_0_c17  fannie_part_0_c20 -0.889913\n",
       "3  fannie_part_0_c17  fannie_part_0_c11 -0.883223\n",
       "4  fannie_part_0_c17  fannie_part_0_c22 -0.877935"
      ]
     },
     "execution_count": 39,
     "metadata": {},
     "output_type": "execute_result"
    }
   ],
   "source": [
    "example_chunk = 'fannie_part_0_c17'\n",
    "query = f'''\n",
    "SELECT\n",
    "    query.chunk_id AS chunk_id,\n",
    "    base.chunk_id AS match,\n",
    "    distance\n",
    "FROM VECTOR_SEARCH(\n",
    "    TABLE `{BQ_PROJECT}.{BQ_DATASET}.{BQ_TABLE}`,\n",
    "    'embedding',\n",
    "    (SELECT * FROM `{BQ_PROJECT}.{BQ_DATASET}.{BQ_TABLE}` WHERE chunk_id = '{example_chunk}'),\n",
    "    'embedding',\n",
    "    top_k => 5,\n",
    "    distance_type => 'DOT_PRODUCT'\n",
    ")\n",
    "ORDER BY distance\n",
    "'''\n",
    "job = bq.query(query, job_config = bigquery.QueryJobConfig(use_query_cache=False))\n",
    "job.result()\n",
    "job.to_dataframe()"
   ]
  },
  {
   "cell_type": "markdown",
   "id": "be764569-c590-4100-b662-4f5bdce80695",
   "metadata": {},
   "source": [
    "Check to see if the index was used with [vector index usage information](https://cloud.google.com/bigquery/docs/vector-index#vector_index_usage)"
   ]
  },
  {
   "cell_type": "code",
   "execution_count": 40,
   "id": "6d4fd7ea-4bfb-438f-8f5a-69e1c4f5d400",
   "metadata": {
    "tags": []
   },
   "outputs": [
    {
     "data": {
      "text/plain": [
       "{'indexUsageMode': 'FULLY_USED'}"
      ]
     },
     "execution_count": 40,
     "metadata": {},
     "output_type": "execute_result"
    }
   ],
   "source": [
    "job._properties['statistics']['query']['vectorSearchStatistics']"
   ]
  },
  {
   "cell_type": "markdown",
   "id": "36530d5a-ac06-41e3-90d2-510d3ea17de5",
   "metadata": {},
   "source": [
    "#### Matches For An Input Embedding"
   ]
  },
  {
   "cell_type": "code",
   "execution_count": 41,
   "id": "b8c4297d-ed1e-43f7-b3fc-49ab1c216767",
   "metadata": {
    "tags": []
   },
   "outputs": [
    {
     "data": {
      "text/html": [
       "<div>\n",
       "<style scoped>\n",
       "    .dataframe tbody tr th:only-of-type {\n",
       "        vertical-align: middle;\n",
       "    }\n",
       "\n",
       "    .dataframe tbody tr th {\n",
       "        vertical-align: top;\n",
       "    }\n",
       "\n",
       "    .dataframe thead th {\n",
       "        text-align: right;\n",
       "    }\n",
       "</style>\n",
       "<table border=\"1\" class=\"dataframe\">\n",
       "  <thead>\n",
       "    <tr style=\"text-align: right;\">\n",
       "      <th></th>\n",
       "      <th>question</th>\n",
       "      <th>match</th>\n",
       "      <th>gse</th>\n",
       "      <th>distance</th>\n",
       "    </tr>\n",
       "  </thead>\n",
       "  <tbody>\n",
       "    <tr>\n",
       "      <th>0</th>\n",
       "      <td>Does a lender have to perform servicing functi...</td>\n",
       "      <td>fannie_part_0_c352</td>\n",
       "      <td>fannie</td>\n",
       "      <td>-0.709984</td>\n",
       "    </tr>\n",
       "    <tr>\n",
       "      <th>1</th>\n",
       "      <td>Does a lender have to perform servicing functi...</td>\n",
       "      <td>freddie_part_4_c509</td>\n",
       "      <td>freddie</td>\n",
       "      <td>-0.680526</td>\n",
       "    </tr>\n",
       "    <tr>\n",
       "      <th>2</th>\n",
       "      <td>Does a lender have to perform servicing functi...</td>\n",
       "      <td>freddie_part_4_c510</td>\n",
       "      <td>freddie</td>\n",
       "      <td>-0.675330</td>\n",
       "    </tr>\n",
       "    <tr>\n",
       "      <th>3</th>\n",
       "      <td>Does a lender have to perform servicing functi...</td>\n",
       "      <td>freddie_part_4_c472</td>\n",
       "      <td>freddie</td>\n",
       "      <td>-0.661984</td>\n",
       "    </tr>\n",
       "    <tr>\n",
       "      <th>4</th>\n",
       "      <td>Does a lender have to perform servicing functi...</td>\n",
       "      <td>freddie_part_5_c360</td>\n",
       "      <td>freddie</td>\n",
       "      <td>-0.655732</td>\n",
       "    </tr>\n",
       "  </tbody>\n",
       "</table>\n",
       "</div>"
      ],
      "text/plain": [
       "                                            question                match  \\\n",
       "0  Does a lender have to perform servicing functi...   fannie_part_0_c352   \n",
       "1  Does a lender have to perform servicing functi...  freddie_part_4_c509   \n",
       "2  Does a lender have to perform servicing functi...  freddie_part_4_c510   \n",
       "3  Does a lender have to perform servicing functi...  freddie_part_4_c472   \n",
       "4  Does a lender have to perform servicing functi...  freddie_part_5_c360   \n",
       "\n",
       "       gse  distance  \n",
       "0   fannie -0.709984  \n",
       "1  freddie -0.680526  \n",
       "2  freddie -0.675330  \n",
       "3  freddie -0.661984  \n",
       "4  freddie -0.655732  "
      ]
     },
     "execution_count": 41,
     "metadata": {},
     "output_type": "execute_result"
    }
   ],
   "source": [
    "query = f'''\n",
    "SELECT\n",
    "    query.question AS question,\n",
    "    base.chunk_id AS match,\n",
    "    base.gse AS gse,\n",
    "    distance\n",
    "FROM VECTOR_SEARCH(\n",
    "    TABLE `{BQ_PROJECT}.{BQ_DATASET}.{BQ_TABLE}`,\n",
    "    'embedding',\n",
    "    (SELECT {question_embedding} AS embedding, '{question}' AS question),\n",
    "    'embedding',\n",
    "    top_k => 5,\n",
    "    distance_type => 'DOT_PRODUCT'\n",
    ")\n",
    "ORDER BY distance\n",
    "'''\n",
    "job = bq.query(query, job_config = bigquery.QueryJobConfig(use_query_cache=False))\n",
    "job.result()\n",
    "job.to_dataframe()"
   ]
  },
  {
   "cell_type": "markdown",
   "id": "7f1fb57a-a168-490a-bc01-eef9a420179f",
   "metadata": {},
   "source": [
    "Check to see if the index was used with [vector index usage information](https://cloud.google.com/bigquery/docs/vector-index#vector_index_usage)"
   ]
  },
  {
   "cell_type": "code",
   "execution_count": 42,
   "id": "183d81a8-a275-4193-a465-b495dfd59155",
   "metadata": {
    "tags": []
   },
   "outputs": [
    {
     "data": {
      "text/plain": [
       "{'indexUsageMode': 'FULLY_USED'}"
      ]
     },
     "execution_count": 42,
     "metadata": {},
     "output_type": "execute_result"
    }
   ],
   "source": [
    "job._properties['statistics']['query']['vectorSearchStatistics']"
   ]
  },
  {
   "cell_type": "markdown",
   "id": "3ea8d3f1-37b9-4f1d-8d6f-6336d2543b3d",
   "metadata": {},
   "source": [
    "#### Pre-Filter Matches For An Input Embedding"
   ]
  },
  {
   "cell_type": "code",
   "execution_count": 43,
   "id": "435fc781-b8a2-4098-922d-52cbdd4da431",
   "metadata": {
    "tags": []
   },
   "outputs": [
    {
     "data": {
      "text/html": [
       "<div>\n",
       "<style scoped>\n",
       "    .dataframe tbody tr th:only-of-type {\n",
       "        vertical-align: middle;\n",
       "    }\n",
       "\n",
       "    .dataframe tbody tr th {\n",
       "        vertical-align: top;\n",
       "    }\n",
       "\n",
       "    .dataframe thead th {\n",
       "        text-align: right;\n",
       "    }\n",
       "</style>\n",
       "<table border=\"1\" class=\"dataframe\">\n",
       "  <thead>\n",
       "    <tr style=\"text-align: right;\">\n",
       "      <th></th>\n",
       "      <th>question</th>\n",
       "      <th>match</th>\n",
       "      <th>gse</th>\n",
       "      <th>distance</th>\n",
       "    </tr>\n",
       "  </thead>\n",
       "  <tbody>\n",
       "    <tr>\n",
       "      <th>0</th>\n",
       "      <td>Does a lender have to perform servicing functi...</td>\n",
       "      <td>fannie_part_0_c352</td>\n",
       "      <td>fannie</td>\n",
       "      <td>-0.709984</td>\n",
       "    </tr>\n",
       "    <tr>\n",
       "      <th>1</th>\n",
       "      <td>Does a lender have to perform servicing functi...</td>\n",
       "      <td>fannie_part_0_c335</td>\n",
       "      <td>fannie</td>\n",
       "      <td>-0.652192</td>\n",
       "    </tr>\n",
       "    <tr>\n",
       "      <th>2</th>\n",
       "      <td>Does a lender have to perform servicing functi...</td>\n",
       "      <td>fannie_part_0_c337</td>\n",
       "      <td>fannie</td>\n",
       "      <td>-0.637705</td>\n",
       "    </tr>\n",
       "    <tr>\n",
       "      <th>3</th>\n",
       "      <td>Does a lender have to perform servicing functi...</td>\n",
       "      <td>fannie_part_0_c336</td>\n",
       "      <td>fannie</td>\n",
       "      <td>-0.632683</td>\n",
       "    </tr>\n",
       "    <tr>\n",
       "      <th>4</th>\n",
       "      <td>Does a lender have to perform servicing functi...</td>\n",
       "      <td>fannie_part_0_c338</td>\n",
       "      <td>fannie</td>\n",
       "      <td>-0.632171</td>\n",
       "    </tr>\n",
       "  </tbody>\n",
       "</table>\n",
       "</div>"
      ],
      "text/plain": [
       "                                            question               match  \\\n",
       "0  Does a lender have to perform servicing functi...  fannie_part_0_c352   \n",
       "1  Does a lender have to perform servicing functi...  fannie_part_0_c335   \n",
       "2  Does a lender have to perform servicing functi...  fannie_part_0_c337   \n",
       "3  Does a lender have to perform servicing functi...  fannie_part_0_c336   \n",
       "4  Does a lender have to perform servicing functi...  fannie_part_0_c338   \n",
       "\n",
       "      gse  distance  \n",
       "0  fannie -0.709984  \n",
       "1  fannie -0.652192  \n",
       "2  fannie -0.637705  \n",
       "3  fannie -0.632683  \n",
       "4  fannie -0.632171  "
      ]
     },
     "execution_count": 43,
     "metadata": {},
     "output_type": "execute_result"
    }
   ],
   "source": [
    "example_gse = 'fannie'\n",
    "query = f'''\n",
    "SELECT\n",
    "    query.question AS question,\n",
    "    base.chunk_id AS match,\n",
    "    base.gse AS gse,\n",
    "    distance\n",
    "FROM VECTOR_SEARCH(\n",
    "    (SELECT * FROM `{BQ_PROJECT}.{BQ_DATASET}.{BQ_TABLE}` WHERE gse = '{example_gse}'),\n",
    "    'embedding',\n",
    "    (SELECT {question_embedding} AS embedding, '{question}' AS question),\n",
    "    'embedding',\n",
    "    top_k => 5,\n",
    "    distance_type => 'DOT_PRODUCT'\n",
    ")\n",
    "ORDER BY distance\n",
    "'''\n",
    "job = bq.query(query, job_config = bigquery.QueryJobConfig(use_query_cache=False))\n",
    "job.result()\n",
    "job.to_dataframe()"
   ]
  },
  {
   "cell_type": "markdown",
   "id": "0fe6a8d3-c2ad-45a9-8652-957d3e9952e7",
   "metadata": {},
   "source": [
    "Check to see if the index was used with [vector index usage information](https://cloud.google.com/bigquery/docs/vector-index#vector_index_usage)"
   ]
  },
  {
   "cell_type": "code",
   "execution_count": 44,
   "id": "95d115d5-eb12-4faa-b380-6d38279dd839",
   "metadata": {
    "tags": []
   },
   "outputs": [
    {
     "data": {
      "text/plain": [
       "{'indexUsageMode': 'FULLY_USED'}"
      ]
     },
     "execution_count": 44,
     "metadata": {},
     "output_type": "execute_result"
    }
   ],
   "source": [
    "job._properties['statistics']['query']['vectorSearchStatistics']"
   ]
  },
  {
   "cell_type": "markdown",
   "id": "55c58371-9dd8-427a-bdb1-0af23691b017",
   "metadata": {},
   "source": [
    "### Get Matches: Vector Search With Vector Index - Modify Distance Metric\n",
    "\n",
    "When setting up the index we specified `distance_type = 'DOT_PRODUCT'`.  We can modify the vector search to use a different distance measure by setting the option for `distance_type`. See [VECTOR_SEARCH function details](https://cloud.google.com/bigquery/docs/reference/standard-sql/search_functions#vector_search).  Does this modification still use the index?  Yes!"
   ]
  },
  {
   "cell_type": "markdown",
   "id": "fef312a8-5f76-4711-abb1-cf0af8ac2b5b",
   "metadata": {},
   "source": [
    "#### Matches For A Given `chunk_id`"
   ]
  },
  {
   "cell_type": "code",
   "execution_count": 45,
   "id": "fd0f4882-caf7-4dbd-8586-3380c5c1494b",
   "metadata": {
    "tags": []
   },
   "outputs": [
    {
     "data": {
      "text/html": [
       "<div>\n",
       "<style scoped>\n",
       "    .dataframe tbody tr th:only-of-type {\n",
       "        vertical-align: middle;\n",
       "    }\n",
       "\n",
       "    .dataframe tbody tr th {\n",
       "        vertical-align: top;\n",
       "    }\n",
       "\n",
       "    .dataframe thead th {\n",
       "        text-align: right;\n",
       "    }\n",
       "</style>\n",
       "<table border=\"1\" class=\"dataframe\">\n",
       "  <thead>\n",
       "    <tr style=\"text-align: right;\">\n",
       "      <th></th>\n",
       "      <th>chunk_id</th>\n",
       "      <th>match</th>\n",
       "      <th>distance</th>\n",
       "    </tr>\n",
       "  </thead>\n",
       "  <tbody>\n",
       "    <tr>\n",
       "      <th>0</th>\n",
       "      <td>fannie_part_0_c17</td>\n",
       "      <td>fannie_part_0_c17</td>\n",
       "      <td>-2.220446e-16</td>\n",
       "    </tr>\n",
       "    <tr>\n",
       "      <th>1</th>\n",
       "      <td>fannie_part_0_c17</td>\n",
       "      <td>fannie_part_0_c15</td>\n",
       "      <td>1.027482e-01</td>\n",
       "    </tr>\n",
       "    <tr>\n",
       "      <th>2</th>\n",
       "      <td>fannie_part_0_c17</td>\n",
       "      <td>fannie_part_0_c20</td>\n",
       "      <td>1.099197e-01</td>\n",
       "    </tr>\n",
       "    <tr>\n",
       "      <th>3</th>\n",
       "      <td>fannie_part_0_c17</td>\n",
       "      <td>fannie_part_0_c11</td>\n",
       "      <td>1.166230e-01</td>\n",
       "    </tr>\n",
       "    <tr>\n",
       "      <th>4</th>\n",
       "      <td>fannie_part_0_c17</td>\n",
       "      <td>fannie_part_0_c22</td>\n",
       "      <td>1.218969e-01</td>\n",
       "    </tr>\n",
       "  </tbody>\n",
       "</table>\n",
       "</div>"
      ],
      "text/plain": [
       "            chunk_id              match      distance\n",
       "0  fannie_part_0_c17  fannie_part_0_c17 -2.220446e-16\n",
       "1  fannie_part_0_c17  fannie_part_0_c15  1.027482e-01\n",
       "2  fannie_part_0_c17  fannie_part_0_c20  1.099197e-01\n",
       "3  fannie_part_0_c17  fannie_part_0_c11  1.166230e-01\n",
       "4  fannie_part_0_c17  fannie_part_0_c22  1.218969e-01"
      ]
     },
     "execution_count": 45,
     "metadata": {},
     "output_type": "execute_result"
    }
   ],
   "source": [
    "example_chunk = 'fannie_part_0_c17'\n",
    "query = f'''\n",
    "SELECT\n",
    "    query.chunk_id AS chunk_id,\n",
    "    base.chunk_id AS match,\n",
    "    distance\n",
    "FROM VECTOR_SEARCH(\n",
    "    TABLE `{BQ_PROJECT}.{BQ_DATASET}.{BQ_TABLE}`,\n",
    "    'embedding',\n",
    "    (SELECT * FROM `{BQ_PROJECT}.{BQ_DATASET}.{BQ_TABLE}` WHERE chunk_id = '{example_chunk}'),\n",
    "    'embedding',\n",
    "    top_k => 5,\n",
    "    distance_type => 'COSINE'\n",
    ")\n",
    "ORDER BY distance\n",
    "'''\n",
    "job = bq.query(query, job_config = bigquery.QueryJobConfig(use_query_cache=False))\n",
    "job.result()\n",
    "job.to_dataframe()"
   ]
  },
  {
   "cell_type": "markdown",
   "id": "71e76844-16f7-4ce0-b5e1-d01fca0d2935",
   "metadata": {},
   "source": [
    "Check to see if the index was used with [vector index usage information](https://cloud.google.com/bigquery/docs/vector-index#vector_index_usage)"
   ]
  },
  {
   "cell_type": "code",
   "execution_count": 46,
   "id": "988f665e-6d6d-473d-977b-ae45a8c0d4e9",
   "metadata": {
    "tags": []
   },
   "outputs": [
    {
     "data": {
      "text/plain": [
       "{'indexUsageMode': 'FULLY_USED'}"
      ]
     },
     "execution_count": 46,
     "metadata": {},
     "output_type": "execute_result"
    }
   ],
   "source": [
    "job._properties['statistics']['query']['vectorSearchStatistics']"
   ]
  },
  {
   "cell_type": "markdown",
   "id": "8f720e13-ac64-49e7-84d5-3ee79b329d13",
   "metadata": {},
   "source": [
    "#### Matches For An Input Embedding"
   ]
  },
  {
   "cell_type": "code",
   "execution_count": 47,
   "id": "a94e852f-e89f-422d-9cca-1a7f4284e41e",
   "metadata": {
    "tags": []
   },
   "outputs": [
    {
     "data": {
      "text/html": [
       "<div>\n",
       "<style scoped>\n",
       "    .dataframe tbody tr th:only-of-type {\n",
       "        vertical-align: middle;\n",
       "    }\n",
       "\n",
       "    .dataframe tbody tr th {\n",
       "        vertical-align: top;\n",
       "    }\n",
       "\n",
       "    .dataframe thead th {\n",
       "        text-align: right;\n",
       "    }\n",
       "</style>\n",
       "<table border=\"1\" class=\"dataframe\">\n",
       "  <thead>\n",
       "    <tr style=\"text-align: right;\">\n",
       "      <th></th>\n",
       "      <th>question</th>\n",
       "      <th>match</th>\n",
       "      <th>gse</th>\n",
       "      <th>distance</th>\n",
       "    </tr>\n",
       "  </thead>\n",
       "  <tbody>\n",
       "    <tr>\n",
       "      <th>0</th>\n",
       "      <td>Does a lender have to perform servicing functi...</td>\n",
       "      <td>fannie_part_2_c417</td>\n",
       "      <td>fannie</td>\n",
       "      <td>0.344078</td>\n",
       "    </tr>\n",
       "    <tr>\n",
       "      <th>1</th>\n",
       "      <td>Does a lender have to perform servicing functi...</td>\n",
       "      <td>freddie_part_4_c508</td>\n",
       "      <td>freddie</td>\n",
       "      <td>0.348060</td>\n",
       "    </tr>\n",
       "    <tr>\n",
       "      <th>2</th>\n",
       "      <td>Does a lender have to perform servicing functi...</td>\n",
       "      <td>fannie_part_2_c793</td>\n",
       "      <td>fannie</td>\n",
       "      <td>0.354459</td>\n",
       "    </tr>\n",
       "    <tr>\n",
       "      <th>3</th>\n",
       "      <td>Does a lender have to perform servicing functi...</td>\n",
       "      <td>fannie_part_2_c788</td>\n",
       "      <td>fannie</td>\n",
       "      <td>0.355131</td>\n",
       "    </tr>\n",
       "    <tr>\n",
       "      <th>4</th>\n",
       "      <td>Does a lender have to perform servicing functi...</td>\n",
       "      <td>fannie_part_2_c815</td>\n",
       "      <td>fannie</td>\n",
       "      <td>0.359223</td>\n",
       "    </tr>\n",
       "  </tbody>\n",
       "</table>\n",
       "</div>"
      ],
      "text/plain": [
       "                                            question                match  \\\n",
       "0  Does a lender have to perform servicing functi...   fannie_part_2_c417   \n",
       "1  Does a lender have to perform servicing functi...  freddie_part_4_c508   \n",
       "2  Does a lender have to perform servicing functi...   fannie_part_2_c793   \n",
       "3  Does a lender have to perform servicing functi...   fannie_part_2_c788   \n",
       "4  Does a lender have to perform servicing functi...   fannie_part_2_c815   \n",
       "\n",
       "       gse  distance  \n",
       "0   fannie  0.344078  \n",
       "1  freddie  0.348060  \n",
       "2   fannie  0.354459  \n",
       "3   fannie  0.355131  \n",
       "4   fannie  0.359223  "
      ]
     },
     "execution_count": 47,
     "metadata": {},
     "output_type": "execute_result"
    }
   ],
   "source": [
    "query = f'''\n",
    "SELECT\n",
    "    query.question AS question,\n",
    "    base.chunk_id AS match,\n",
    "    base.gse AS gse,\n",
    "    distance\n",
    "FROM VECTOR_SEARCH(\n",
    "    TABLE `{BQ_PROJECT}.{BQ_DATASET}.{BQ_TABLE}`,\n",
    "    'embedding',\n",
    "    (SELECT {question_embedding} AS embedding, '{question}' AS question),\n",
    "    'embedding',\n",
    "    top_k => 5,\n",
    "    distance_type => 'COSINE'\n",
    ")\n",
    "ORDER BY distance\n",
    "'''\n",
    "job = bq.query(query, job_config = bigquery.QueryJobConfig(use_query_cache=False))\n",
    "job.result()\n",
    "job.to_dataframe()"
   ]
  },
  {
   "cell_type": "markdown",
   "id": "01755403-a117-4e31-8731-a12e76b8bffb",
   "metadata": {},
   "source": [
    "Check to see if the index was used with [vector index usage information](https://cloud.google.com/bigquery/docs/vector-index#vector_index_usage)"
   ]
  },
  {
   "cell_type": "code",
   "execution_count": 48,
   "id": "0806579e-88f1-46d1-ae0c-4a8464bf49a8",
   "metadata": {
    "tags": []
   },
   "outputs": [
    {
     "data": {
      "text/plain": [
       "{'indexUsageMode': 'FULLY_USED'}"
      ]
     },
     "execution_count": 48,
     "metadata": {},
     "output_type": "execute_result"
    }
   ],
   "source": [
    "job._properties['statistics']['query']['vectorSearchStatistics']"
   ]
  },
  {
   "cell_type": "markdown",
   "id": "908714b9-3022-4a42-ad0f-ed452a29bc46",
   "metadata": {},
   "source": [
    "#### Pre-Filter Matches For An Input Embedding"
   ]
  },
  {
   "cell_type": "code",
   "execution_count": 49,
   "id": "a3c4a9a6-1a95-4ac6-992c-f0d2435c09d7",
   "metadata": {
    "tags": []
   },
   "outputs": [
    {
     "data": {
      "text/html": [
       "<div>\n",
       "<style scoped>\n",
       "    .dataframe tbody tr th:only-of-type {\n",
       "        vertical-align: middle;\n",
       "    }\n",
       "\n",
       "    .dataframe tbody tr th {\n",
       "        vertical-align: top;\n",
       "    }\n",
       "\n",
       "    .dataframe thead th {\n",
       "        text-align: right;\n",
       "    }\n",
       "</style>\n",
       "<table border=\"1\" class=\"dataframe\">\n",
       "  <thead>\n",
       "    <tr style=\"text-align: right;\">\n",
       "      <th></th>\n",
       "      <th>question</th>\n",
       "      <th>match</th>\n",
       "      <th>gse</th>\n",
       "      <th>distance</th>\n",
       "    </tr>\n",
       "  </thead>\n",
       "  <tbody>\n",
       "    <tr>\n",
       "      <th>0</th>\n",
       "      <td>Does a lender have to perform servicing functi...</td>\n",
       "      <td>fannie_part_2_c417</td>\n",
       "      <td>fannie</td>\n",
       "      <td>0.344078</td>\n",
       "    </tr>\n",
       "    <tr>\n",
       "      <th>1</th>\n",
       "      <td>Does a lender have to perform servicing functi...</td>\n",
       "      <td>fannie_part_2_c793</td>\n",
       "      <td>fannie</td>\n",
       "      <td>0.354459</td>\n",
       "    </tr>\n",
       "    <tr>\n",
       "      <th>2</th>\n",
       "      <td>Does a lender have to perform servicing functi...</td>\n",
       "      <td>fannie_part_2_c788</td>\n",
       "      <td>fannie</td>\n",
       "      <td>0.355131</td>\n",
       "    </tr>\n",
       "    <tr>\n",
       "      <th>3</th>\n",
       "      <td>Does a lender have to perform servicing functi...</td>\n",
       "      <td>fannie_part_2_c815</td>\n",
       "      <td>fannie</td>\n",
       "      <td>0.359223</td>\n",
       "    </tr>\n",
       "    <tr>\n",
       "      <th>4</th>\n",
       "      <td>Does a lender have to perform servicing functi...</td>\n",
       "      <td>fannie_part_2_c814</td>\n",
       "      <td>fannie</td>\n",
       "      <td>0.363247</td>\n",
       "    </tr>\n",
       "  </tbody>\n",
       "</table>\n",
       "</div>"
      ],
      "text/plain": [
       "                                            question               match  \\\n",
       "0  Does a lender have to perform servicing functi...  fannie_part_2_c417   \n",
       "1  Does a lender have to perform servicing functi...  fannie_part_2_c793   \n",
       "2  Does a lender have to perform servicing functi...  fannie_part_2_c788   \n",
       "3  Does a lender have to perform servicing functi...  fannie_part_2_c815   \n",
       "4  Does a lender have to perform servicing functi...  fannie_part_2_c814   \n",
       "\n",
       "      gse  distance  \n",
       "0  fannie  0.344078  \n",
       "1  fannie  0.354459  \n",
       "2  fannie  0.355131  \n",
       "3  fannie  0.359223  \n",
       "4  fannie  0.363247  "
      ]
     },
     "execution_count": 49,
     "metadata": {},
     "output_type": "execute_result"
    }
   ],
   "source": [
    "example_gse = 'fannie'\n",
    "query = f'''\n",
    "SELECT\n",
    "    query.question AS question,\n",
    "    base.chunk_id AS match,\n",
    "    base.gse AS gse,\n",
    "    distance\n",
    "FROM VECTOR_SEARCH(\n",
    "    (SELECT * FROM `{BQ_PROJECT}.{BQ_DATASET}.{BQ_TABLE}` WHERE gse = '{example_gse}'),\n",
    "    'embedding',\n",
    "    (SELECT {question_embedding} AS embedding, '{question}' AS question),\n",
    "    'embedding',\n",
    "    top_k => 5,\n",
    "    distance_type => 'COSINE'\n",
    ")\n",
    "ORDER BY distance\n",
    "'''\n",
    "job = bq.query(query, job_config = bigquery.QueryJobConfig(use_query_cache=False))\n",
    "job.result()\n",
    "job.to_dataframe()"
   ]
  },
  {
   "cell_type": "markdown",
   "id": "6e1f4b38-3dcc-4f22-bc92-dfc4ec3aa5a6",
   "metadata": {},
   "source": [
    "Check to see if the index was used with [vector index usage information](https://cloud.google.com/bigquery/docs/vector-index#vector_index_usage)"
   ]
  },
  {
   "cell_type": "code",
   "execution_count": 50,
   "id": "90576e5c-3ad5-48e2-b568-36238d78e8e4",
   "metadata": {
    "tags": []
   },
   "outputs": [
    {
     "data": {
      "text/plain": [
       "{'indexUsageMode': 'FULLY_USED'}"
      ]
     },
     "execution_count": 50,
     "metadata": {},
     "output_type": "execute_result"
    }
   ],
   "source": [
    "job._properties['statistics']['query']['vectorSearchStatistics']"
   ]
  },
  {
   "cell_type": "markdown",
   "id": "737ca82b-9bcf-4980-b439-fd75341ded4c",
   "metadata": {},
   "source": [
    "### Get Matches: Vector Search With Vector Index - Modify Search Size\n",
    "\n",
    "When setting up the index we specified `num_lists = 1000` which led to a number of list being created.  We can guide the vector search to use a larger/smaller portion of these list by seting the option for `fraction_list_to_search`. See [VECTOR_SEARCH function details](https://cloud.google.com/bigquery/docs/reference/standard-sql/search_functions#vector_search)."
   ]
  },
  {
   "cell_type": "markdown",
   "id": "d03916f7-87b6-438c-bdee-fe126ccd38c7",
   "metadata": {},
   "source": [
    "#### Matches For A Given `chunk_id`"
   ]
  },
  {
   "cell_type": "code",
   "execution_count": 51,
   "id": "dd2bc06c-8487-4c33-84b8-5598ff8af26a",
   "metadata": {
    "tags": []
   },
   "outputs": [
    {
     "data": {
      "text/html": [
       "<div>\n",
       "<style scoped>\n",
       "    .dataframe tbody tr th:only-of-type {\n",
       "        vertical-align: middle;\n",
       "    }\n",
       "\n",
       "    .dataframe tbody tr th {\n",
       "        vertical-align: top;\n",
       "    }\n",
       "\n",
       "    .dataframe thead th {\n",
       "        text-align: right;\n",
       "    }\n",
       "</style>\n",
       "<table border=\"1\" class=\"dataframe\">\n",
       "  <thead>\n",
       "    <tr style=\"text-align: right;\">\n",
       "      <th></th>\n",
       "      <th>chunk_id</th>\n",
       "      <th>match</th>\n",
       "      <th>distance</th>\n",
       "    </tr>\n",
       "  </thead>\n",
       "  <tbody>\n",
       "    <tr>\n",
       "      <th>0</th>\n",
       "      <td>fannie_part_0_c17</td>\n",
       "      <td>fannie_part_0_c17</td>\n",
       "      <td>-0.999799</td>\n",
       "    </tr>\n",
       "    <tr>\n",
       "      <th>1</th>\n",
       "      <td>fannie_part_0_c17</td>\n",
       "      <td>fannie_part_0_c15</td>\n",
       "      <td>-0.897096</td>\n",
       "    </tr>\n",
       "    <tr>\n",
       "      <th>2</th>\n",
       "      <td>fannie_part_0_c17</td>\n",
       "      <td>fannie_part_0_c20</td>\n",
       "      <td>-0.889913</td>\n",
       "    </tr>\n",
       "    <tr>\n",
       "      <th>3</th>\n",
       "      <td>fannie_part_0_c17</td>\n",
       "      <td>fannie_part_0_c11</td>\n",
       "      <td>-0.883223</td>\n",
       "    </tr>\n",
       "    <tr>\n",
       "      <th>4</th>\n",
       "      <td>fannie_part_0_c17</td>\n",
       "      <td>fannie_part_0_c22</td>\n",
       "      <td>-0.877935</td>\n",
       "    </tr>\n",
       "  </tbody>\n",
       "</table>\n",
       "</div>"
      ],
      "text/plain": [
       "            chunk_id              match  distance\n",
       "0  fannie_part_0_c17  fannie_part_0_c17 -0.999799\n",
       "1  fannie_part_0_c17  fannie_part_0_c15 -0.897096\n",
       "2  fannie_part_0_c17  fannie_part_0_c20 -0.889913\n",
       "3  fannie_part_0_c17  fannie_part_0_c11 -0.883223\n",
       "4  fannie_part_0_c17  fannie_part_0_c22 -0.877935"
      ]
     },
     "execution_count": 51,
     "metadata": {},
     "output_type": "execute_result"
    }
   ],
   "source": [
    "example_chunk = 'fannie_part_0_c17'\n",
    "query = f'''\n",
    "SELECT\n",
    "    query.chunk_id AS chunk_id,\n",
    "    base.chunk_id AS match,\n",
    "    distance\n",
    "FROM VECTOR_SEARCH(\n",
    "    TABLE `{BQ_PROJECT}.{BQ_DATASET}.{BQ_TABLE}`,\n",
    "    'embedding',\n",
    "    (SELECT * FROM `{BQ_PROJECT}.{BQ_DATASET}.{BQ_TABLE}` WHERE chunk_id = '{example_chunk}'),\n",
    "    'embedding',\n",
    "    top_k => 5,\n",
    "    distance_type => 'DOT_PRODUCT',\n",
    "    options => '{{\"fraction_lists_to_search\": 0.25}}'\n",
    ")\n",
    "ORDER BY distance\n",
    "'''\n",
    "job = bq.query(query, job_config = bigquery.QueryJobConfig(use_query_cache=False))\n",
    "job.result()\n",
    "job.to_dataframe()"
   ]
  },
  {
   "cell_type": "markdown",
   "id": "3ca18b7a-6a23-442a-9936-a2eb1a65c6c0",
   "metadata": {},
   "source": [
    "Check to see if the index was used with [vector index usage information](https://cloud.google.com/bigquery/docs/vector-index#vector_index_usage)"
   ]
  },
  {
   "cell_type": "code",
   "execution_count": 52,
   "id": "9a2566ee-b40c-40f3-a173-44726a7f96ba",
   "metadata": {
    "tags": []
   },
   "outputs": [
    {
     "data": {
      "text/plain": [
       "{'indexUsageMode': 'FULLY_USED'}"
      ]
     },
     "execution_count": 52,
     "metadata": {},
     "output_type": "execute_result"
    }
   ],
   "source": [
    "job._properties['statistics']['query']['vectorSearchStatistics']"
   ]
  },
  {
   "cell_type": "markdown",
   "id": "94f61c34-59f7-403b-b2dc-dcab53ad6d29",
   "metadata": {},
   "source": [
    "#### Matches For An Input Embedding"
   ]
  },
  {
   "cell_type": "code",
   "execution_count": 53,
   "id": "61420f23-4b8a-46d3-a734-c5fc72de0893",
   "metadata": {
    "tags": []
   },
   "outputs": [
    {
     "data": {
      "text/html": [
       "<div>\n",
       "<style scoped>\n",
       "    .dataframe tbody tr th:only-of-type {\n",
       "        vertical-align: middle;\n",
       "    }\n",
       "\n",
       "    .dataframe tbody tr th {\n",
       "        vertical-align: top;\n",
       "    }\n",
       "\n",
       "    .dataframe thead th {\n",
       "        text-align: right;\n",
       "    }\n",
       "</style>\n",
       "<table border=\"1\" class=\"dataframe\">\n",
       "  <thead>\n",
       "    <tr style=\"text-align: right;\">\n",
       "      <th></th>\n",
       "      <th>question</th>\n",
       "      <th>match</th>\n",
       "      <th>gse</th>\n",
       "      <th>distance</th>\n",
       "    </tr>\n",
       "  </thead>\n",
       "  <tbody>\n",
       "    <tr>\n",
       "      <th>0</th>\n",
       "      <td>Does a lender have to perform servicing functi...</td>\n",
       "      <td>fannie_part_0_c352</td>\n",
       "      <td>fannie</td>\n",
       "      <td>-0.709984</td>\n",
       "    </tr>\n",
       "    <tr>\n",
       "      <th>1</th>\n",
       "      <td>Does a lender have to perform servicing functi...</td>\n",
       "      <td>freddie_part_4_c509</td>\n",
       "      <td>freddie</td>\n",
       "      <td>-0.680526</td>\n",
       "    </tr>\n",
       "    <tr>\n",
       "      <th>2</th>\n",
       "      <td>Does a lender have to perform servicing functi...</td>\n",
       "      <td>freddie_part_4_c510</td>\n",
       "      <td>freddie</td>\n",
       "      <td>-0.675330</td>\n",
       "    </tr>\n",
       "    <tr>\n",
       "      <th>3</th>\n",
       "      <td>Does a lender have to perform servicing functi...</td>\n",
       "      <td>fannie_part_0_c353</td>\n",
       "      <td>fannie</td>\n",
       "      <td>-0.672371</td>\n",
       "    </tr>\n",
       "    <tr>\n",
       "      <th>4</th>\n",
       "      <td>Does a lender have to perform servicing functi...</td>\n",
       "      <td>fannie_part_0_c326</td>\n",
       "      <td>fannie</td>\n",
       "      <td>-0.668350</td>\n",
       "    </tr>\n",
       "  </tbody>\n",
       "</table>\n",
       "</div>"
      ],
      "text/plain": [
       "                                            question                match  \\\n",
       "0  Does a lender have to perform servicing functi...   fannie_part_0_c352   \n",
       "1  Does a lender have to perform servicing functi...  freddie_part_4_c509   \n",
       "2  Does a lender have to perform servicing functi...  freddie_part_4_c510   \n",
       "3  Does a lender have to perform servicing functi...   fannie_part_0_c353   \n",
       "4  Does a lender have to perform servicing functi...   fannie_part_0_c326   \n",
       "\n",
       "       gse  distance  \n",
       "0   fannie -0.709984  \n",
       "1  freddie -0.680526  \n",
       "2  freddie -0.675330  \n",
       "3   fannie -0.672371  \n",
       "4   fannie -0.668350  "
      ]
     },
     "execution_count": 53,
     "metadata": {},
     "output_type": "execute_result"
    }
   ],
   "source": [
    "query = f'''\n",
    "SELECT\n",
    "    query.question AS question,\n",
    "    base.chunk_id AS match,\n",
    "    base.gse AS gse,\n",
    "    distance\n",
    "FROM VECTOR_SEARCH(\n",
    "    TABLE `{BQ_PROJECT}.{BQ_DATASET}.{BQ_TABLE}`,\n",
    "    'embedding',\n",
    "    (SELECT {question_embedding} AS embedding, '{question}' AS question),\n",
    "    'embedding',\n",
    "    top_k => 5,\n",
    "    distance_type => 'DOT_PRODUCT',\n",
    "    options => '{{\"fraction_lists_to_search\": 0.25}}'\n",
    ")\n",
    "ORDER BY distance\n",
    "'''\n",
    "job = bq.query(query, job_config = bigquery.QueryJobConfig(use_query_cache=False))\n",
    "job.result()\n",
    "job.to_dataframe()"
   ]
  },
  {
   "cell_type": "markdown",
   "id": "872d0a92-d3ee-40b3-b4e0-02af8193f95f",
   "metadata": {},
   "source": [
    "Check to see if the index was used with [vector index usage information](https://cloud.google.com/bigquery/docs/vector-index#vector_index_usage)"
   ]
  },
  {
   "cell_type": "code",
   "execution_count": 54,
   "id": "211a623d-07c8-4e7f-a251-29d3cba1130c",
   "metadata": {
    "tags": []
   },
   "outputs": [
    {
     "data": {
      "text/plain": [
       "{'indexUsageMode': 'FULLY_USED'}"
      ]
     },
     "execution_count": 54,
     "metadata": {},
     "output_type": "execute_result"
    }
   ],
   "source": [
    "job._properties['statistics']['query']['vectorSearchStatistics']"
   ]
  },
  {
   "cell_type": "markdown",
   "id": "07518547-a894-4d8d-ab7e-525711815c0b",
   "metadata": {},
   "source": [
    "#### Pre-Filter Matches For An Input Embedding"
   ]
  },
  {
   "cell_type": "code",
   "execution_count": 55,
   "id": "6808b51f-de29-4d83-9dff-0cf1b14d6313",
   "metadata": {
    "tags": []
   },
   "outputs": [
    {
     "data": {
      "text/html": [
       "<div>\n",
       "<style scoped>\n",
       "    .dataframe tbody tr th:only-of-type {\n",
       "        vertical-align: middle;\n",
       "    }\n",
       "\n",
       "    .dataframe tbody tr th {\n",
       "        vertical-align: top;\n",
       "    }\n",
       "\n",
       "    .dataframe thead th {\n",
       "        text-align: right;\n",
       "    }\n",
       "</style>\n",
       "<table border=\"1\" class=\"dataframe\">\n",
       "  <thead>\n",
       "    <tr style=\"text-align: right;\">\n",
       "      <th></th>\n",
       "      <th>question</th>\n",
       "      <th>match</th>\n",
       "      <th>gse</th>\n",
       "      <th>distance</th>\n",
       "    </tr>\n",
       "  </thead>\n",
       "  <tbody>\n",
       "    <tr>\n",
       "      <th>0</th>\n",
       "      <td>Does a lender have to perform servicing functi...</td>\n",
       "      <td>fannie_part_0_c352</td>\n",
       "      <td>fannie</td>\n",
       "      <td>-0.709984</td>\n",
       "    </tr>\n",
       "    <tr>\n",
       "      <th>1</th>\n",
       "      <td>Does a lender have to perform servicing functi...</td>\n",
       "      <td>fannie_part_0_c353</td>\n",
       "      <td>fannie</td>\n",
       "      <td>-0.672371</td>\n",
       "    </tr>\n",
       "    <tr>\n",
       "      <th>2</th>\n",
       "      <td>Does a lender have to perform servicing functi...</td>\n",
       "      <td>fannie_part_0_c326</td>\n",
       "      <td>fannie</td>\n",
       "      <td>-0.668350</td>\n",
       "    </tr>\n",
       "    <tr>\n",
       "      <th>3</th>\n",
       "      <td>Does a lender have to perform servicing functi...</td>\n",
       "      <td>fannie_part_0_c92</td>\n",
       "      <td>fannie</td>\n",
       "      <td>-0.661434</td>\n",
       "    </tr>\n",
       "    <tr>\n",
       "      <th>4</th>\n",
       "      <td>Does a lender have to perform servicing functi...</td>\n",
       "      <td>fannie_part_2_c417</td>\n",
       "      <td>fannie</td>\n",
       "      <td>-0.655913</td>\n",
       "    </tr>\n",
       "  </tbody>\n",
       "</table>\n",
       "</div>"
      ],
      "text/plain": [
       "                                            question               match  \\\n",
       "0  Does a lender have to perform servicing functi...  fannie_part_0_c352   \n",
       "1  Does a lender have to perform servicing functi...  fannie_part_0_c353   \n",
       "2  Does a lender have to perform servicing functi...  fannie_part_0_c326   \n",
       "3  Does a lender have to perform servicing functi...   fannie_part_0_c92   \n",
       "4  Does a lender have to perform servicing functi...  fannie_part_2_c417   \n",
       "\n",
       "      gse  distance  \n",
       "0  fannie -0.709984  \n",
       "1  fannie -0.672371  \n",
       "2  fannie -0.668350  \n",
       "3  fannie -0.661434  \n",
       "4  fannie -0.655913  "
      ]
     },
     "execution_count": 55,
     "metadata": {},
     "output_type": "execute_result"
    }
   ],
   "source": [
    "example_gse = 'fannie'\n",
    "query = f'''\n",
    "SELECT\n",
    "    query.question AS question,\n",
    "    base.chunk_id AS match,\n",
    "    base.gse AS gse,\n",
    "    distance\n",
    "FROM VECTOR_SEARCH(\n",
    "    (SELECT * FROM `{BQ_PROJECT}.{BQ_DATASET}.{BQ_TABLE}` WHERE gse = '{example_gse}'),\n",
    "    'embedding',\n",
    "    (SELECT {question_embedding} AS embedding, '{question}' AS question),\n",
    "    'embedding',\n",
    "    top_k => 5,\n",
    "    distance_type => 'DOT_PRODUCT',\n",
    "    options => '{{\"fraction_lists_to_search\": 0.25}}'\n",
    ")\n",
    "ORDER BY distance\n",
    "'''\n",
    "job = bq.query(query, job_config = bigquery.QueryJobConfig(use_query_cache=False))\n",
    "job.result()\n",
    "job.to_dataframe()"
   ]
  },
  {
   "cell_type": "markdown",
   "id": "480c10af-fb96-4682-abab-57f6bcd580c2",
   "metadata": {},
   "source": [
    "Check to see if the index was used with [vector index usage information](https://cloud.google.com/bigquery/docs/vector-index#vector_index_usage)"
   ]
  },
  {
   "cell_type": "code",
   "execution_count": 56,
   "id": "49bcbf91-0f33-4caf-85b2-e932adb2d8ce",
   "metadata": {
    "tags": []
   },
   "outputs": [
    {
     "data": {
      "text/plain": [
       "{'indexUsageMode': 'FULLY_USED'}"
      ]
     },
     "execution_count": 56,
     "metadata": {},
     "output_type": "execute_result"
    }
   ],
   "source": [
    "job._properties['statistics']['query']['vectorSearchStatistics']"
   ]
  },
  {
   "cell_type": "markdown",
   "id": "91ae0a7d-c4e7-4279-b627-a7f2c6b5ad92",
   "metadata": {},
   "source": [
    "### Get Matches: Vector Search With Vector Index - Brute Force\n",
    "\n",
    "Rather than using the index, find the exact nearest neighbor by searching all of the embeddings with options value `use_brute_force` set to `true`:"
   ]
  },
  {
   "cell_type": "markdown",
   "id": "d6bdfe45-1c41-44ea-9335-4276536093fa",
   "metadata": {},
   "source": [
    "#### Matches For A Given `chunk_id`"
   ]
  },
  {
   "cell_type": "code",
   "execution_count": 57,
   "id": "e8ed5b4d-e6ea-4557-945a-f245ee028644",
   "metadata": {
    "tags": []
   },
   "outputs": [
    {
     "data": {
      "text/html": [
       "<div>\n",
       "<style scoped>\n",
       "    .dataframe tbody tr th:only-of-type {\n",
       "        vertical-align: middle;\n",
       "    }\n",
       "\n",
       "    .dataframe tbody tr th {\n",
       "        vertical-align: top;\n",
       "    }\n",
       "\n",
       "    .dataframe thead th {\n",
       "        text-align: right;\n",
       "    }\n",
       "</style>\n",
       "<table border=\"1\" class=\"dataframe\">\n",
       "  <thead>\n",
       "    <tr style=\"text-align: right;\">\n",
       "      <th></th>\n",
       "      <th>question</th>\n",
       "      <th>match</th>\n",
       "      <th>gse</th>\n",
       "      <th>distance</th>\n",
       "    </tr>\n",
       "  </thead>\n",
       "  <tbody>\n",
       "    <tr>\n",
       "      <th>0</th>\n",
       "      <td>Does a lender have to perform servicing functi...</td>\n",
       "      <td>fannie_part_0_c352</td>\n",
       "      <td>fannie</td>\n",
       "      <td>-0.709984</td>\n",
       "    </tr>\n",
       "    <tr>\n",
       "      <th>1</th>\n",
       "      <td>Does a lender have to perform servicing functi...</td>\n",
       "      <td>fannie_part_0_c353</td>\n",
       "      <td>fannie</td>\n",
       "      <td>-0.672371</td>\n",
       "    </tr>\n",
       "    <tr>\n",
       "      <th>2</th>\n",
       "      <td>Does a lender have to perform servicing functi...</td>\n",
       "      <td>fannie_part_0_c326</td>\n",
       "      <td>fannie</td>\n",
       "      <td>-0.668350</td>\n",
       "    </tr>\n",
       "    <tr>\n",
       "      <th>3</th>\n",
       "      <td>Does a lender have to perform servicing functi...</td>\n",
       "      <td>fannie_part_0_c92</td>\n",
       "      <td>fannie</td>\n",
       "      <td>-0.661434</td>\n",
       "    </tr>\n",
       "    <tr>\n",
       "      <th>4</th>\n",
       "      <td>Does a lender have to perform servicing functi...</td>\n",
       "      <td>fannie_part_2_c417</td>\n",
       "      <td>fannie</td>\n",
       "      <td>-0.655913</td>\n",
       "    </tr>\n",
       "  </tbody>\n",
       "</table>\n",
       "</div>"
      ],
      "text/plain": [
       "                                            question               match  \\\n",
       "0  Does a lender have to perform servicing functi...  fannie_part_0_c352   \n",
       "1  Does a lender have to perform servicing functi...  fannie_part_0_c353   \n",
       "2  Does a lender have to perform servicing functi...  fannie_part_0_c326   \n",
       "3  Does a lender have to perform servicing functi...   fannie_part_0_c92   \n",
       "4  Does a lender have to perform servicing functi...  fannie_part_2_c417   \n",
       "\n",
       "      gse  distance  \n",
       "0  fannie -0.709984  \n",
       "1  fannie -0.672371  \n",
       "2  fannie -0.668350  \n",
       "3  fannie -0.661434  \n",
       "4  fannie -0.655913  "
      ]
     },
     "execution_count": 57,
     "metadata": {},
     "output_type": "execute_result"
    }
   ],
   "source": [
    "example_chunk = 'fannie_part_0_c17'\n",
    "query = f'''\n",
    "SELECT\n",
    "    query.chunk_id AS chunk_id,\n",
    "    base.chunk_id AS match,\n",
    "    distance\n",
    "FROM VECTOR_SEARCH(\n",
    "    TABLE `{BQ_PROJECT}.{BQ_DATASET}.{BQ_TABLE}`,\n",
    "    'embedding',\n",
    "    (SELECT * FROM `{BQ_PROJECT}.{BQ_DATASET}.{BQ_TABLE}` WHERE chunk_id = '{example_chunk}'),\n",
    "    'embedding',\n",
    "    top_k => 5,\n",
    "    distance_type => 'DOT_PRODUCT',\n",
    "    options => '{{\"use_brute_force\":true}}'\n",
    ")\n",
    "ORDER BY distance\n",
    "'''\n",
    "ob = bq.query(query, job_config = bigquery.QueryJobConfig(use_query_cache=False))\n",
    "job.result()\n",
    "job.to_dataframe()"
   ]
  },
  {
   "cell_type": "markdown",
   "id": "0ee9a624-f0b0-48fb-87c2-3e53d4ba7c1e",
   "metadata": {},
   "source": [
    "Check to see if the index was used with [vector index usage information](https://cloud.google.com/bigquery/docs/vector-index#vector_index_usage)"
   ]
  },
  {
   "cell_type": "code",
   "execution_count": 58,
   "id": "aca34662-a1f3-4e51-8b6a-513698ffb4be",
   "metadata": {
    "tags": []
   },
   "outputs": [
    {
     "data": {
      "text/plain": [
       "{'indexUsageMode': 'FULLY_USED'}"
      ]
     },
     "execution_count": 58,
     "metadata": {},
     "output_type": "execute_result"
    }
   ],
   "source": [
    "job._properties['statistics']['query']['vectorSearchStatistics']"
   ]
  },
  {
   "cell_type": "markdown",
   "id": "e84012a9-7384-450a-bbad-85d9c257afd8",
   "metadata": {},
   "source": [
    "#### Matches For An Input Embedding"
   ]
  },
  {
   "cell_type": "code",
   "execution_count": 59,
   "id": "4efff38a-67b3-4b03-a0bd-43e390b4245a",
   "metadata": {
    "tags": []
   },
   "outputs": [
    {
     "data": {
      "text/html": [
       "<div>\n",
       "<style scoped>\n",
       "    .dataframe tbody tr th:only-of-type {\n",
       "        vertical-align: middle;\n",
       "    }\n",
       "\n",
       "    .dataframe tbody tr th {\n",
       "        vertical-align: top;\n",
       "    }\n",
       "\n",
       "    .dataframe thead th {\n",
       "        text-align: right;\n",
       "    }\n",
       "</style>\n",
       "<table border=\"1\" class=\"dataframe\">\n",
       "  <thead>\n",
       "    <tr style=\"text-align: right;\">\n",
       "      <th></th>\n",
       "      <th>question</th>\n",
       "      <th>match</th>\n",
       "      <th>gse</th>\n",
       "      <th>distance</th>\n",
       "    </tr>\n",
       "  </thead>\n",
       "  <tbody>\n",
       "    <tr>\n",
       "      <th>0</th>\n",
       "      <td>Does a lender have to perform servicing functi...</td>\n",
       "      <td>fannie_part_0_c352</td>\n",
       "      <td>fannie</td>\n",
       "      <td>-0.709984</td>\n",
       "    </tr>\n",
       "    <tr>\n",
       "      <th>1</th>\n",
       "      <td>Does a lender have to perform servicing functi...</td>\n",
       "      <td>fannie_part_0_c353</td>\n",
       "      <td>fannie</td>\n",
       "      <td>-0.672371</td>\n",
       "    </tr>\n",
       "    <tr>\n",
       "      <th>2</th>\n",
       "      <td>Does a lender have to perform servicing functi...</td>\n",
       "      <td>fannie_part_0_c326</td>\n",
       "      <td>fannie</td>\n",
       "      <td>-0.668350</td>\n",
       "    </tr>\n",
       "    <tr>\n",
       "      <th>3</th>\n",
       "      <td>Does a lender have to perform servicing functi...</td>\n",
       "      <td>fannie_part_0_c92</td>\n",
       "      <td>fannie</td>\n",
       "      <td>-0.661434</td>\n",
       "    </tr>\n",
       "    <tr>\n",
       "      <th>4</th>\n",
       "      <td>Does a lender have to perform servicing functi...</td>\n",
       "      <td>fannie_part_2_c417</td>\n",
       "      <td>fannie</td>\n",
       "      <td>-0.655913</td>\n",
       "    </tr>\n",
       "  </tbody>\n",
       "</table>\n",
       "</div>"
      ],
      "text/plain": [
       "                                            question               match  \\\n",
       "0  Does a lender have to perform servicing functi...  fannie_part_0_c352   \n",
       "1  Does a lender have to perform servicing functi...  fannie_part_0_c353   \n",
       "2  Does a lender have to perform servicing functi...  fannie_part_0_c326   \n",
       "3  Does a lender have to perform servicing functi...   fannie_part_0_c92   \n",
       "4  Does a lender have to perform servicing functi...  fannie_part_2_c417   \n",
       "\n",
       "      gse  distance  \n",
       "0  fannie -0.709984  \n",
       "1  fannie -0.672371  \n",
       "2  fannie -0.668350  \n",
       "3  fannie -0.661434  \n",
       "4  fannie -0.655913  "
      ]
     },
     "execution_count": 59,
     "metadata": {},
     "output_type": "execute_result"
    }
   ],
   "source": [
    "query = f'''\n",
    "SELECT\n",
    "    query.question AS question,\n",
    "    base.chunk_id AS match,\n",
    "    base.gse AS gse,\n",
    "    distance\n",
    "FROM VECTOR_SEARCH(\n",
    "    TABLE `{BQ_PROJECT}.{BQ_DATASET}.{BQ_TABLE}`,\n",
    "    'embedding',\n",
    "    (SELECT {question_embedding} AS embedding, '{question}' AS question),\n",
    "    'embedding',\n",
    "    top_k => 5,\n",
    "    distance_type => 'DOT_PRODUCT',\n",
    "    options => '{{\"use_brute_force\":true}}'\n",
    ")\n",
    "ORDER BY distance\n",
    "'''\n",
    "ob = bq.query(query, job_config = bigquery.QueryJobConfig(use_query_cache=False))\n",
    "job.result()\n",
    "job.to_dataframe()"
   ]
  },
  {
   "cell_type": "markdown",
   "id": "bffa8177-c656-429f-8a9d-907c54fe93e0",
   "metadata": {},
   "source": [
    "Check to see if the index was used with [vector index usage information](https://cloud.google.com/bigquery/docs/vector-index#vector_index_usage)"
   ]
  },
  {
   "cell_type": "code",
   "execution_count": 60,
   "id": "c5cc10a8-e328-43fe-b88b-0682385c52b0",
   "metadata": {
    "tags": []
   },
   "outputs": [
    {
     "data": {
      "text/plain": [
       "{'indexUsageMode': 'FULLY_USED'}"
      ]
     },
     "execution_count": 60,
     "metadata": {},
     "output_type": "execute_result"
    }
   ],
   "source": [
    "job._properties['statistics']['query']['vectorSearchStatistics']"
   ]
  },
  {
   "cell_type": "markdown",
   "id": "d9b8db50-5541-494b-b89e-e31542b133e5",
   "metadata": {},
   "source": [
    "#### Pre-Filter Matches For An Input Embedding"
   ]
  },
  {
   "cell_type": "code",
   "execution_count": 61,
   "id": "a0faec44-c4c0-4c51-abdc-44c13383826d",
   "metadata": {
    "tags": []
   },
   "outputs": [
    {
     "data": {
      "text/html": [
       "<div>\n",
       "<style scoped>\n",
       "    .dataframe tbody tr th:only-of-type {\n",
       "        vertical-align: middle;\n",
       "    }\n",
       "\n",
       "    .dataframe tbody tr th {\n",
       "        vertical-align: top;\n",
       "    }\n",
       "\n",
       "    .dataframe thead th {\n",
       "        text-align: right;\n",
       "    }\n",
       "</style>\n",
       "<table border=\"1\" class=\"dataframe\">\n",
       "  <thead>\n",
       "    <tr style=\"text-align: right;\">\n",
       "      <th></th>\n",
       "      <th>question</th>\n",
       "      <th>match</th>\n",
       "      <th>gse</th>\n",
       "      <th>distance</th>\n",
       "    </tr>\n",
       "  </thead>\n",
       "  <tbody>\n",
       "    <tr>\n",
       "      <th>0</th>\n",
       "      <td>Does a lender have to perform servicing functi...</td>\n",
       "      <td>fannie_part_0_c352</td>\n",
       "      <td>fannie</td>\n",
       "      <td>-0.709984</td>\n",
       "    </tr>\n",
       "    <tr>\n",
       "      <th>1</th>\n",
       "      <td>Does a lender have to perform servicing functi...</td>\n",
       "      <td>fannie_part_0_c353</td>\n",
       "      <td>fannie</td>\n",
       "      <td>-0.672371</td>\n",
       "    </tr>\n",
       "    <tr>\n",
       "      <th>2</th>\n",
       "      <td>Does a lender have to perform servicing functi...</td>\n",
       "      <td>fannie_part_0_c326</td>\n",
       "      <td>fannie</td>\n",
       "      <td>-0.668350</td>\n",
       "    </tr>\n",
       "    <tr>\n",
       "      <th>3</th>\n",
       "      <td>Does a lender have to perform servicing functi...</td>\n",
       "      <td>fannie_part_0_c92</td>\n",
       "      <td>fannie</td>\n",
       "      <td>-0.661434</td>\n",
       "    </tr>\n",
       "    <tr>\n",
       "      <th>4</th>\n",
       "      <td>Does a lender have to perform servicing functi...</td>\n",
       "      <td>fannie_part_0_c240</td>\n",
       "      <td>fannie</td>\n",
       "      <td>-0.660858</td>\n",
       "    </tr>\n",
       "  </tbody>\n",
       "</table>\n",
       "</div>"
      ],
      "text/plain": [
       "                                            question               match  \\\n",
       "0  Does a lender have to perform servicing functi...  fannie_part_0_c352   \n",
       "1  Does a lender have to perform servicing functi...  fannie_part_0_c353   \n",
       "2  Does a lender have to perform servicing functi...  fannie_part_0_c326   \n",
       "3  Does a lender have to perform servicing functi...   fannie_part_0_c92   \n",
       "4  Does a lender have to perform servicing functi...  fannie_part_0_c240   \n",
       "\n",
       "      gse  distance  \n",
       "0  fannie -0.709984  \n",
       "1  fannie -0.672371  \n",
       "2  fannie -0.668350  \n",
       "3  fannie -0.661434  \n",
       "4  fannie -0.660858  "
      ]
     },
     "execution_count": 61,
     "metadata": {},
     "output_type": "execute_result"
    }
   ],
   "source": [
    "example_gse = 'fannie'\n",
    "query = f'''\n",
    "SELECT\n",
    "    query.question AS question,\n",
    "    base.chunk_id AS match,\n",
    "    base.gse AS gse,\n",
    "    distance\n",
    "FROM VECTOR_SEARCH(\n",
    "    (SELECT * FROM `{BQ_PROJECT}.{BQ_DATASET}.{BQ_TABLE}` WHERE gse = '{example_gse}'),\n",
    "    'embedding',\n",
    "    (SELECT {question_embedding} AS embedding, '{question}' AS question),\n",
    "    'embedding',\n",
    "    top_k => 5,\n",
    "    distance_type => 'DOT_PRODUCT',\n",
    "    options => '{{\"use_brute_force\":true}}'\n",
    ")\n",
    "ORDER BY distance\n",
    "'''\n",
    "job = bq.query(query, job_config = bigquery.QueryJobConfig(use_query_cache=False))\n",
    "job.result()\n",
    "job.to_dataframe()"
   ]
  },
  {
   "cell_type": "markdown",
   "id": "f7ebe653-238e-4706-b44a-b3b337b6ea77",
   "metadata": {},
   "source": [
    "Check to see if the index was used with [vector index usage information](https://cloud.google.com/bigquery/docs/vector-index#vector_index_usage)"
   ]
  },
  {
   "cell_type": "code",
   "execution_count": 62,
   "id": "99a7e19b-55d2-491f-bf8e-145dc26b867c",
   "metadata": {
    "tags": []
   },
   "outputs": [
    {
     "data": {
      "text/plain": [
       "{'indexUsageMode': 'UNUSED',\n",
       " 'indexUnusedReasons': [{'code': 'INDEX_SUPPRESSED_BY_FUNCTION_OPTION',\n",
       "   'message': 'The vector index `row_index` of the base table `statmike-mlops-349915:applied_genai.retrieval-bigquery` was not used because use_brute_force option has been specified.',\n",
       "   'baseTable': {'projectId': 'statmike-mlops-349915',\n",
       "    'datasetId': 'applied_genai',\n",
       "    'tableId': 'retrieval-bigquery'},\n",
       "   'indexName': 'row_index'}]}"
      ]
     },
     "execution_count": 62,
     "metadata": {},
     "output_type": "execute_result"
    }
   ],
   "source": [
    "job._properties['statistics']['query']['vectorSearchStatistics']"
   ]
  },
  {
   "cell_type": "markdown",
   "id": "b1c6ca9a-b92c-424b-b024-0188a8a283bb",
   "metadata": {
    "tags": []
   },
   "source": [
    "### Get Matches: Batch Matching Is A BigQuery Advantage!\n",
    "\n",
    "Getting a match for a single input, or few inputs, is common in online applications.  Many applicationn can benefit from batch matching and BigQuery easily extends to this.  Here is an example of finding the top matching chunks from the `gse = freddie` chunks for each `gse = fannie` chunk.  Thats thousands of simoutaneous matches! "
   ]
  },
  {
   "cell_type": "code",
   "execution_count": 63,
   "id": "53374c7e-7333-489a-97ab-477c8680ae6c",
   "metadata": {
    "tags": []
   },
   "outputs": [
    {
     "data": {
      "text/html": [
       "<div>\n",
       "<style scoped>\n",
       "    .dataframe tbody tr th:only-of-type {\n",
       "        vertical-align: middle;\n",
       "    }\n",
       "\n",
       "    .dataframe tbody tr th {\n",
       "        vertical-align: top;\n",
       "    }\n",
       "\n",
       "    .dataframe thead th {\n",
       "        text-align: right;\n",
       "    }\n",
       "</style>\n",
       "<table border=\"1\" class=\"dataframe\">\n",
       "  <thead>\n",
       "    <tr style=\"text-align: right;\">\n",
       "      <th></th>\n",
       "      <th>fannie_chunk_id</th>\n",
       "      <th>matches</th>\n",
       "    </tr>\n",
       "  </thead>\n",
       "  <tbody>\n",
       "    <tr>\n",
       "      <th>0</th>\n",
       "      <td>fannie_part_0_c10</td>\n",
       "      <td>[freddie_part_0_c7, freddie_part_0_c90]</td>\n",
       "    </tr>\n",
       "    <tr>\n",
       "      <th>1</th>\n",
       "      <td>fannie_part_0_c100</td>\n",
       "      <td>[freddie_part_1_c339, freddie_part_1_c343]</td>\n",
       "    </tr>\n",
       "    <tr>\n",
       "      <th>2</th>\n",
       "      <td>fannie_part_0_c1000</td>\n",
       "      <td>[freddie_part_2_c308, freddie_part_2_c347]</td>\n",
       "    </tr>\n",
       "    <tr>\n",
       "      <th>3</th>\n",
       "      <td>fannie_part_0_c1001</td>\n",
       "      <td>[freddie_part_2_c347, freddie_part_2_c315]</td>\n",
       "    </tr>\n",
       "    <tr>\n",
       "      <th>4</th>\n",
       "      <td>fannie_part_0_c1002</td>\n",
       "      <td>[freddie_part_2_c355, freddie_part_2_c316]</td>\n",
       "    </tr>\n",
       "  </tbody>\n",
       "</table>\n",
       "</div>"
      ],
      "text/plain": [
       "       fannie_chunk_id                                     matches\n",
       "0    fannie_part_0_c10     [freddie_part_0_c7, freddie_part_0_c90]\n",
       "1   fannie_part_0_c100  [freddie_part_1_c339, freddie_part_1_c343]\n",
       "2  fannie_part_0_c1000  [freddie_part_2_c308, freddie_part_2_c347]\n",
       "3  fannie_part_0_c1001  [freddie_part_2_c347, freddie_part_2_c315]\n",
       "4  fannie_part_0_c1002  [freddie_part_2_c355, freddie_part_2_c316]"
      ]
     },
     "execution_count": 63,
     "metadata": {},
     "output_type": "execute_result"
    }
   ],
   "source": [
    "query = f'''\n",
    "SELECT\n",
    "    query.chunk_id AS fannie_chunk_id,\n",
    "    ARRAY_AGG(base.chunk_id ORDER BY distance) as matches\n",
    "FROM VECTOR_SEARCH(\n",
    "    (SELECT * FROM `{BQ_PROJECT}.{BQ_DATASET}.{BQ_TABLE}` WHERE gse = 'freddie'),\n",
    "    'embedding',\n",
    "    (SELECT * FROM `{BQ_PROJECT}.{BQ_DATASET}.{BQ_TABLE}` WHERE gse = 'fannie'),\n",
    "    'embedding',\n",
    "    top_k => 2,\n",
    "    distance_type => 'DOT_PRODUCT'\n",
    ")\n",
    "GROUP BY fannie_chunk_id\n",
    "ORDER BY fannie_chunk_id\n",
    "'''\n",
    "job = bq.query(query, job_config = bigquery.QueryJobConfig(use_query_cache=False))\n",
    "job.result()\n",
    "results = job.to_dataframe()\n",
    "results.head()"
   ]
  },
  {
   "cell_type": "code",
   "execution_count": 64,
   "id": "1ddc5b87-74a0-4f1b-a876-102286f4655d",
   "metadata": {
    "tags": []
   },
   "outputs": [
    {
     "data": {
      "text/plain": [
       "(2603, 2)"
      ]
     },
     "execution_count": 64,
     "metadata": {},
     "output_type": "execute_result"
    }
   ],
   "source": [
    "results.shape"
   ]
  },
  {
   "cell_type": "markdown",
   "id": "2f03930e-c455-402b-8bab-b950c83693af",
   "metadata": {},
   "source": [
    "Check to see if the index was used with [vector index usage information](https://cloud.google.com/bigquery/docs/vector-index#vector_index_usage)"
   ]
  },
  {
   "cell_type": "code",
   "execution_count": 65,
   "id": "8e1713b2-5f4f-4777-9dfc-f2187549bb9f",
   "metadata": {
    "tags": []
   },
   "outputs": [
    {
     "data": {
      "text/plain": [
       "{'indexUsageMode': 'FULLY_USED'}"
      ]
     },
     "execution_count": 65,
     "metadata": {},
     "output_type": "execute_result"
    }
   ],
   "source": [
    "job._properties['statistics']['query']['vectorSearchStatistics']"
   ]
  },
  {
   "cell_type": "markdown",
   "id": "1b14c40d-d19b-489e-9141-21f8d0839ffd",
   "metadata": {},
   "source": [
    "How many megabytes were scanned by the job:"
   ]
  },
  {
   "cell_type": "code",
   "execution_count": 66,
   "id": "b9af3a14-d1bf-4960-928d-9dbb72565630",
   "metadata": {
    "tags": []
   },
   "outputs": [
    {
     "data": {
      "text/plain": [
       "80.48384284973145"
      ]
     },
     "execution_count": 66,
     "metadata": {},
     "output_type": "execute_result"
    }
   ],
   "source": [
    "job.total_bytes_processed / (1024*1024)"
   ]
  },
  {
   "cell_type": "markdown",
   "id": "58aea324-b650-425e-a864-11608855dc5b",
   "metadata": {
    "tags": []
   },
   "source": [
    "What was the compute time (slot time) of the job in BigQuery in seconds:"
   ]
  },
  {
   "cell_type": "code",
   "execution_count": 67,
   "id": "0dc18a19-4c2a-4960-b54a-82cae1ec9940",
   "metadata": {
    "tags": []
   },
   "outputs": [
    {
     "data": {
      "text/plain": [
       "41.543"
      ]
     },
     "execution_count": 67,
     "metadata": {},
     "output_type": "execute_result"
    }
   ],
   "source": [
    "job.slot_millis/1000"
   ]
  },
  {
   "cell_type": "code",
   "execution_count": 68,
   "id": "ab0fc0b4-7792-4d9a-88dc-f56aebf63a93",
   "metadata": {
    "tags": []
   },
   "outputs": [
    {
     "data": {
      "text/plain": [
       "2.476"
      ]
     },
     "execution_count": 68,
     "metadata": {},
     "output_type": "execute_result"
    }
   ],
   "source": [
    "(job.ended - job.started).total_seconds()"
   ]
  },
  {
   "cell_type": "markdown",
   "id": "d0235542-ce67-46f2-a6e7-2642246a23a6",
   "metadata": {},
   "source": [
    "Wow!! This found the top matches for each of the Fannie Mae chunks within the thousands of Freddie Mac chunks in only a few seconds."
   ]
  },
  {
   "cell_type": "markdown",
   "id": "d7df1074-cc36-4a89-81f0-a039b31d72dc",
   "metadata": {
    "tags": []
   },
   "source": [
    "### Understanding The Vector Index\n",
    "\n",
    "The advantage of a vector index is reading fewer rows when looking for matches.  This section attempts to show how this work the index."
   ]
  },
  {
   "cell_type": "code",
   "execution_count": 164,
   "id": "6d2cf117-9cb7-48ed-a5af-26a95ce659f8",
   "metadata": {
    "tags": []
   },
   "outputs": [
    {
     "data": {
      "text/plain": [
       "10"
      ]
     },
     "execution_count": 164,
     "metadata": {},
     "output_type": "execute_result"
    }
   ],
   "source": [
    "query = f'''\n",
    "SELECT\n",
    "    COUNT(*) AS row_count\n",
    "FROM VECTOR_SEARCH(\n",
    "    TABLE `{BQ_PROJECT}.{BQ_DATASET}.{BQ_TABLE}`,\n",
    "    'embedding',\n",
    "    (SELECT {question_embedding} AS embedding, '{question}' AS question),\n",
    "    'embedding',\n",
    "    top_k => 10,\n",
    "    distance_type => 'DOT_PRODUCT',\n",
    "    options => '{{\"fraction_lists_to_search\": 0.01}}'\n",
    ")\n",
    "'''\n",
    "job = bq.query(query, job_config = bigquery.QueryJobConfig(use_query_cache=False))\n",
    "job.result()\n",
    "job.to_dataframe()['row_count'][0]"
   ]
  },
  {
   "cell_type": "markdown",
   "id": "83d556e6-6ad8-44a2-aa5f-24cd53a43453",
   "metadata": {
    "tags": []
   },
   "source": [
    "Using the job object, the query plan can be traversed.  In the code below a summary of each stage is printed.  If a stage has substeps that include a reference to `centroid_id` then the details of the substep are presented:"
   ]
  },
  {
   "cell_type": "code",
   "execution_count": 165,
   "id": "89323630-7e1e-47f2-a343-3e9755afe362",
   "metadata": {
    "tags": []
   },
   "outputs": [
    {
     "name": "stdout",
     "output_type": "stream",
     "text": [
      "\n",
      "Name:  S00: Input \n",
      "Entry ID:  0 \n",
      "Status:  COMPLETE \n",
      "Records : 0\n",
      "\n",
      "Name:  S01: Compute \n",
      "Entry ID:  1 \n",
      "Status:  COMPLETE \n",
      "Records : 1\n",
      "\n",
      "Name:  S02: Input \n",
      "Entry ID:  2 \n",
      "Status:  COMPLETE \n",
      "Records : 100\n",
      "\t {'kind': 'READ', 'substeps': ['$20:centroid_id, $21:embedded_col', 'FROM statmike-mlops-349915.applied_genai.retrieval-bigquery_row_index']}\n",
      "\n",
      "Name:  S03: Coalesce \n",
      "Entry ID:  3 \n",
      "Status:  COMPLETE \n",
      "Records : 1\n",
      "\n",
      "Name:  S04: Join+ \n",
      "Entry ID:  4 \n",
      "Status:  COMPLETE \n",
      "Records : 140\n",
      "\n",
      "Name:  S05: Compute \n",
      "Entry ID:  5 \n",
      "Status:  COMPLETE \n",
      "Records : 1\n",
      "\n",
      "Name:  S06: Input \n",
      "Entry ID:  6 \n",
      "Status:  COMPLETE \n",
      "Records : 0\n",
      "\n",
      "Name:  S07: Aggregate \n",
      "Entry ID:  7 \n",
      "Status:  COMPLETE \n",
      "Records : 36\n",
      "\n",
      "Name:  S09: Coalesce \n",
      "Entry ID:  9 \n",
      "Status:  COMPLETE \n",
      "Records : 0\n",
      "\n",
      "Name:  S0A: Coalesce \n",
      "Entry ID:  10 \n",
      "Status:  COMPLETE \n",
      "Records : 1\n",
      "\n",
      "Name:  S0B: Join+ \n",
      "Entry ID:  11 \n",
      "Status:  COMPLETE \n",
      "Records : 9042\n",
      "\t {'kind': 'READ', 'substeps': ['$1:centroid_id, $2:indexed_original, $3:_s_chunk_id', 'FROM statmike-mlops-349915.applied_genai.retrieval-bigquery_row_index']}\n",
      "\n",
      "Name:  S0C: Aggregate \n",
      "Entry ID:  12 \n",
      "Status:  COMPLETE \n",
      "Records : 1\n",
      "\n",
      "Name:  S0D: Output \n",
      "Entry ID:  13 \n",
      "Status:  COMPLETE \n",
      "Records : 21\n"
     ]
    }
   ],
   "source": [
    "for stage in job.query_plan:\n",
    "    print('\\nName: ', stage.name, '\\nEntry ID: ', stage.entry_id, '\\nStatus: ', stage.status, '\\nRecords :', stage.records_read)\n",
    "    for step in stage.steps:\n",
    "        for sstep in step.substeps:\n",
    "            if 'centroid_id' in sstep:\n",
    "                print('\\t', step.__dict__)"
   ]
  },
  {
   "cell_type": "markdown",
   "id": "da61f7b9-5f7d-4f29-a28d-1d501143e633",
   "metadata": {},
   "source": [
    "**Notice:**\n",
    "\n",
    "The first state with a reference to `centroid_id` is within a stage that referenced 100 records. This matches the number of clusters (`num_lists`) defined when the index was created.  If the number of clusters had not be defined it would have been automatically determined and this method could be used to understand how many clusters were created."
   ]
  },
  {
   "cell_type": "markdown",
   "id": "34e4545d-da93-478c-99fd-f3ea0fd39dd4",
   "metadata": {},
   "source": [
    "---\n",
    "## Retrieval Augmented Generation (RAG)\n",
    "\n",
    "Build a simple retrieval augmented generation process that enhances a query by retrieving context.  This is done here by constructing three functions for the stages:\n",
    "- `retrieve` - a function that uses an embedding to search for matching context parts, pieces of texts\n",
    "    - this uses the system built earlier in this workflow!\n",
    "- `augment` - prepare chunks into a prompt\n",
    "- `generate` - make the llm request with the augmented prompt\n",
    "\n",
    "A final function is used to execute the workflow of rag:\n",
    "- `rag` - a function that receives the query an orchestrates the workflow through `retrieve` > `augment` > `generate`"
   ]
  },
  {
   "cell_type": "markdown",
   "id": "773db16a-2ef2-4304-98a2-76b70c34c8af",
   "metadata": {},
   "source": [
    "### Clients"
   ]
  },
  {
   "cell_type": "code",
   "execution_count": 69,
   "id": "646afa59-9597-43bc-ab65-6636d7b0b869",
   "metadata": {
    "tags": []
   },
   "outputs": [],
   "source": [
    "embedder = vertexai.language_models.TextEmbeddingModel.from_pretrained('text-embedding-004')\n",
    "llm = vertexai.generative_models.GenerativeModel(\"gemini-1.5-flash-002\")"
   ]
  },
  {
   "cell_type": "markdown",
   "id": "890539b5-822e-4367-b239-c41043b890bb",
   "metadata": {},
   "source": [
    "### Retrieve Function"
   ]
  },
  {
   "cell_type": "code",
   "execution_count": 92,
   "id": "7bb7ba24-d7c7-433e-85c7-f936e4db8e12",
   "metadata": {
    "tags": []
   },
   "outputs": [],
   "source": [
    "def retrieve_bigquery(query_embedding, n_matches = 5):\n",
    "\n",
    "    # query notes: brute force\n",
    "    query = f'''\n",
    "    SELECT\n",
    "        base.chunk_id as chunk_id,\n",
    "        base.content AS content,\n",
    "    FROM VECTOR_SEARCH(\n",
    "        TABLE `{BQ_PROJECT}.{BQ_DATASET}.{BQ_TABLE}`,\n",
    "        'embedding',\n",
    "        (SELECT {question_embedding} AS embedding),\n",
    "        'embedding',\n",
    "        top_k => {n_matches},\n",
    "        distance_type => 'DOT_PRODUCT'\n",
    "        ,options => '{{\"use_brute_force\":true}}'\n",
    "    )\n",
    "    ORDER BY distance\n",
    "    '''\n",
    "    timings = {}\n",
    "    start_time = time.time()\n",
    "    \n",
    "    # Method 1: This common approach with the API is not as fast as the alternative that follows!\n",
    "    #job = bq.query(query, job_config = bigquery.QueryJobConfig(use_query_cache=False))\n",
    "    #job.result()\n",
    "    #results = job.to_dataframe()\n",
    "    \n",
    "    # Method 2: Much less latency than the common approach of Method 1\n",
    "    results = bq.query_and_wait(query, job_config = bigquery.QueryJobConfig(use_query_cache=False)).to_dataframe()\n",
    "    matches = results.to_dict('records')\n",
    "    \n",
    "    # Method 2 alt: The result of client.query_and_wait is a row iterator. This approach directly uses the iterator.  It is not as efficient as the dataframe approach of Method 2 though.\n",
    "    #matches = []\n",
    "    #for row in results:\n",
    "    #    matches.append(dict(row))\n",
    "    \n",
    "    return matches"
   ]
  },
  {
   "cell_type": "markdown",
   "id": "2caffddc-4a0f-487e-906d-f52d19dc5c27",
   "metadata": {},
   "source": [
    "### Augment Function"
   ]
  },
  {
   "cell_type": "code",
   "execution_count": 93,
   "id": "73a7ccdd-5f74-4b37-95d7-af4c222fbfda",
   "metadata": {
    "tags": []
   },
   "outputs": [],
   "source": [
    "def augment(matches):\n",
    "\n",
    "    prompt = ''\n",
    "    for m, match in enumerate(matches):\n",
    "        prompt += f\"Context {m+1}:\\n{match['content']}\\n\\n\"\n",
    "    prompt += f'Answer the following question using the provided contexts:\\n'\n",
    "\n",
    "    return prompt"
   ]
  },
  {
   "cell_type": "markdown",
   "id": "486d7955-ae11-4c0e-b68b-919d02970eb4",
   "metadata": {},
   "source": [
    "### Generate Function"
   ]
  },
  {
   "cell_type": "code",
   "execution_count": 94,
   "id": "dfdcf614-7141-40a1-ae8d-696f9323b99b",
   "metadata": {
    "tags": []
   },
   "outputs": [],
   "source": [
    "def generate(prompt):\n",
    "\n",
    "    result = llm.generate_content(prompt)\n",
    "\n",
    "    return result"
   ]
  },
  {
   "cell_type": "markdown",
   "id": "1c3ea9bb-dcf1-47a7-90a3-5b8787f11df1",
   "metadata": {},
   "source": [
    "### RAG Function"
   ]
  },
  {
   "cell_type": "code",
   "execution_count": 95,
   "id": "e275cf89-c380-47dd-b229-98c13036538c",
   "metadata": {
    "tags": []
   },
   "outputs": [],
   "source": [
    "def rag(query):\n",
    "    \n",
    "    query_embedding = embedder.get_embeddings([query])[0].values\n",
    "    matches = retrieve_bigquery(query_embedding)\n",
    "    prompt = augment(matches) + query\n",
    "    result = generate(prompt)\n",
    "    \n",
    "    return result.text"
   ]
  },
  {
   "cell_type": "markdown",
   "id": "046195af-650d-484a-999b-b1e8a26deef9",
   "metadata": {
    "tags": []
   },
   "source": [
    "### Example In Use"
   ]
  },
  {
   "cell_type": "code",
   "execution_count": 96,
   "id": "73e21ae4-6c2d-443e-9ed8-0ab6e1a495a2",
   "metadata": {
    "tags": []
   },
   "outputs": [
    {
     "data": {
      "text/plain": [
       "'Does a lender have to perform servicing functions directly?'"
      ]
     },
     "execution_count": 96,
     "metadata": {},
     "output_type": "execute_result"
    }
   ],
   "source": [
    "question"
   ]
  },
  {
   "cell_type": "code",
   "execution_count": 97,
   "id": "fa096a54-e135-41c8-baa0-772d038889c0",
   "metadata": {
    "tags": []
   },
   "outputs": [
    {
     "name": "stdout",
     "output_type": "stream",
     "text": [
      "No.  A lender may use other organizations to perform some or all of its servicing functions through subservicing arrangements (Context 1).  However, the lender (master servicer) remains contractually responsible, and there are stipulations regarding Fannie Mae approval and maintaining the ability to meet reporting requirements (Context 4).\n",
      "\n"
     ]
    }
   ],
   "source": [
    "print(rag(question))"
   ]
  },
  {
   "cell_type": "markdown",
   "id": "f43ad5fd-9dd9-4b83-834e-f93a89fe0dfe",
   "metadata": {},
   "source": [
    "---\n",
    "### Profiling Performance In Testing Environments\n",
    "\n",
    "Profile the timing of each step in the RAG function for sequential calls. The environment choosen for this workflow is a minimal testing enviornment so load testing (simoultaneous requests) would not be appropriate for some solutions."
   ]
  },
  {
   "cell_type": "code",
   "execution_count": 101,
   "id": "f0307459-6456-41b6-ba6b-ced0528d2594",
   "metadata": {
    "tags": []
   },
   "outputs": [],
   "source": [
    "profile = []"
   ]
  },
  {
   "cell_type": "code",
   "execution_count": 102,
   "id": "7843dbd0-416e-4c54-9bf8-129b6873af5d",
   "metadata": {
    "tags": []
   },
   "outputs": [],
   "source": [
    "def rag(query, profile = profile):\n",
    "    \n",
    "    timings = {}\n",
    "    start_time = time.time()\n",
    "    \n",
    "    # 1. Get embeddings\n",
    "    embedding_start = time.time()\n",
    "    query_embedding = embedder.get_embeddings([query])[0].values\n",
    "    timings['embedding'] = time.time() - embedding_start\n",
    "\n",
    "    # 2. Retrieve from BigQuery\n",
    "    retrieval_start = time.time()\n",
    "    matches = retrieve_bigquery(query_embedding)\n",
    "    timings['retrieve_bigquery'] = time.time() - retrieval_start\n",
    "\n",
    "    # 3. Augment the prompt\n",
    "    augment_start = time.time()\n",
    "    prompt = augment(matches) + query\n",
    "    timings['augment'] = time.time() - augment_start\n",
    "\n",
    "    # 4. Generate text\n",
    "    generate_start = time.time()\n",
    "    result = generate(prompt)\n",
    "    timings['generate'] = time.time() - generate_start\n",
    "\n",
    "    total_time = time.time() - start_time\n",
    "    timings['total'] = total_time\n",
    "    \n",
    "    profile.append(timings)\n",
    "    \n",
    "    return result.text"
   ]
  },
  {
   "cell_type": "code",
   "execution_count": 103,
   "id": "0e8da6a8-1b2f-48cd-a18c-17e7f8bed452",
   "metadata": {
    "tags": []
   },
   "outputs": [
    {
     "name": "stdout",
     "output_type": "stream",
     "text": [
      "No, a lender does not have to perform servicing functions directly.  Context 1 explicitly states that a lender may use other organizations to perform some or all of its servicing functions, referring to this as \"subservicing.\"  This allows for a \"master servicer\" to utilize a \"subservicer\" to handle some of the workload.  However, the master servicer remains contractually responsible.\n",
      "\n"
     ]
    }
   ],
   "source": [
    "print(rag(question))"
   ]
  },
  {
   "cell_type": "code",
   "execution_count": 104,
   "id": "39a698f0-edba-457d-99b6-7555071d07d3",
   "metadata": {
    "tags": []
   },
   "outputs": [
    {
     "data": {
      "text/plain": [
       "[{'embedding': 0.09870719909667969,\n",
       "  'retrieve_bigquery': 0.9294946193695068,\n",
       "  'augment': 3.528594970703125e-05,\n",
       "  'generate': 0.7410991191864014,\n",
       "  'total': 1.7693414688110352}]"
      ]
     },
     "execution_count": 104,
     "metadata": {},
     "output_type": "execute_result"
    }
   ],
   "source": [
    "profile"
   ]
  },
  {
   "cell_type": "markdown",
   "id": "e2efc06e-d504-462e-824b-010be19cbd35",
   "metadata": {},
   "source": [
    "### Report From Profile"
   ]
  },
  {
   "cell_type": "code",
   "execution_count": 105,
   "id": "fdcd1bf2-7770-485d-9ae8-fb848ebf13ce",
   "metadata": {
    "tags": []
   },
   "outputs": [],
   "source": [
    "for i in range(100):\n",
    "    response = rag(question)"
   ]
  },
  {
   "cell_type": "code",
   "execution_count": 106,
   "id": "5fac3a77-235a-4c2e-87f3-213e312d962a",
   "metadata": {
    "tags": []
   },
   "outputs": [],
   "source": [
    "all_timings = {}\n",
    "for timings in profile:\n",
    "    for key, value in timings.items():\n",
    "        if key not in all_timings:\n",
    "            all_timings[key] = []\n",
    "        all_timings[key].append(value)"
   ]
  },
  {
   "cell_type": "code",
   "execution_count": 107,
   "id": "012bed2e-0f18-46a9-a59d-f410e2fdfd80",
   "metadata": {
    "tags": []
   },
   "outputs": [
    {
     "name": "stdout",
     "output_type": "stream",
     "text": [
      "Statistics for 'embedding':\n",
      "  Min: 0.0474 seconds\n",
      "  Max: 10.0669 seconds\n",
      "  Mean: 0.1697 seconds\n",
      "  Median: 0.0555 seconds\n",
      "  Std Dev: 0.9947 seconds\n",
      "  P95: 0.0987 seconds\n",
      "  P99: 1.0568 seconds\n",
      "\n",
      "Statistics for 'retrieve_bigquery':\n",
      "  Min: 0.7869 seconds\n",
      "  Max: 1.3211 seconds\n",
      "  Mean: 0.9671 seconds\n",
      "  Median: 0.9480 seconds\n",
      "  Std Dev: 0.1064 seconds\n",
      "  P95: 1.1408 seconds\n",
      "  P99: 1.2350 seconds\n",
      "\n",
      "Statistics for 'augment':\n",
      "  Min: 0.0000 seconds\n",
      "  Max: 0.0001 seconds\n",
      "  Mean: 0.0000 seconds\n",
      "  Median: 0.0000 seconds\n",
      "  Std Dev: 0.0000 seconds\n",
      "  P95: 0.0001 seconds\n",
      "  P99: 0.0001 seconds\n",
      "\n",
      "Statistics for 'generate':\n",
      "  Min: 0.5702 seconds\n",
      "  Max: 1.1724 seconds\n",
      "  Mean: 0.7434 seconds\n",
      "  Median: 0.7365 seconds\n",
      "  Std Dev: 0.1000 seconds\n",
      "  P95: 0.9134 seconds\n",
      "  P99: 1.0414 seconds\n",
      "\n",
      "Statistics for 'total':\n",
      "  Min: 1.5194 seconds\n",
      "  Max: 11.7873 seconds\n",
      "  Mean: 1.8802 seconds\n",
      "  Median: 1.7625 seconds\n",
      "  Std Dev: 1.0054 seconds\n",
      "  P95: 2.0123 seconds\n",
      "  P99: 2.8446 seconds\n",
      "\n"
     ]
    }
   ],
   "source": [
    "for key, values in all_timings.items():\n",
    "    arr = np.array(values)\n",
    "    print(f\"Statistics for '{key}':\")\n",
    "    print(f\"  Min: {np.min(arr):.4f} seconds\")\n",
    "    print(f\"  Max: {np.max(arr):.4f} seconds\")\n",
    "    print(f\"  Mean: {np.mean(arr):.4f} seconds\")\n",
    "    print(f\"  Median: {np.median(arr):.4f} seconds\")\n",
    "    print(f\"  Std Dev: {np.std(arr):.4f} seconds\")\n",
    "    print(f\"  P95: {np.percentile(arr, 95):.4f} seconds\")\n",
    "    print(f\"  P99: {np.percentile(arr, 99):.4f} seconds\")\n",
    "    print(\"\")"
   ]
  },
  {
   "cell_type": "markdown",
   "id": "8321a538-8dfd-4d32-ab30-827ccdfcff9b",
   "metadata": {},
   "source": [
    "---\n",
    "## Low Latency Vector Search With BigQuery\n",
    "\n",
    "Did you know that Vertex AI Feature Store synchronizes BigQuery sources to an online store with a high speed client?  And that embeddings matching is a built-in feature of the online store?  Continue on to the next workflow in the [Retrieval](./readme.md) section that extends this workflow to Vertex AI Feature Store: [Retrieval - Vertex AI Feature Store](Retrieval%20-%20Vertex%20AI%20Feature%20Store.ipynb)."
   ]
  },
  {
   "cell_type": "markdown",
   "id": "25b16d68-fccf-4e53-9f86-69ab4e6e6096",
   "metadata": {},
   "source": [
    "---\n",
    "## Remove Resources\n",
    "\n",
    "The resources created above in BigQuery will persist unless deleted.  To remove the table created above uncomment and run the following cell:"
   ]
  },
  {
   "cell_type": "code",
   "execution_count": 28,
   "id": "fc1c1de5-157f-4077-8768-2e77188a5b30",
   "metadata": {
    "tags": []
   },
   "outputs": [],
   "source": [
    "#bq.delete_table(bq_table)"
   ]
  }
 ],
 "metadata": {
  "environment": {
   "kernel": "conda-base-py",
   "name": "workbench-notebooks.m125",
   "type": "gcloud",
   "uri": "us-docker.pkg.dev/deeplearning-platform-release/gcr.io/workbench-notebooks:m125"
  },
  "kernelspec": {
   "display_name": "Python 3 (ipykernel) (Local)",
   "language": "python",
   "name": "conda-base-py"
  },
  "language_info": {
   "codemirror_mode": {
    "name": "ipython",
    "version": 3
   },
   "file_extension": ".py",
   "mimetype": "text/x-python",
   "name": "python",
   "nbconvert_exporter": "python",
   "pygments_lexer": "ipython3",
   "version": "3.10.15"
  }
 },
 "nbformat": 4,
 "nbformat_minor": 5
}
