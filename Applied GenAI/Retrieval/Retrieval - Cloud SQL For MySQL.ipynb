{
 "cells": [
  {
   "cell_type": "markdown",
   "id": "3aa892a5",
   "metadata": {},
   "source": [
    "![tracker](https://us-central1-vertex-ai-mlops-369716.cloudfunctions.net/pixel-tracking?path=statmike%2Fvertex-ai-mlops%2FApplied+GenAI%2FRetrieval&file=Retrieval+-+Cloud+SQL+For+MySQL.ipynb)\n",
    "<!--- header table --->\n",
    "<table align=\"left\">\n",
    "  <td style=\"text-align: center\">\n",
    "    <a href=\"https://colab.research.google.com/github/statmike/vertex-ai-mlops/blob/main/Applied%20GenAI/Retrieval/Retrieval%20-%20Cloud%20SQL%20For%20MySQL.ipynb\">\n",
    "      <img src=\"https://cloud.google.com/ml-engine/images/colab-logo-32px.png\" alt=\"Google Colaboratory logo\">\n",
    "      <br>Run in<br>Colab\n",
    "    </a>\n",
    "  </td>\n",
    "  <td style=\"text-align: center\">\n",
    "    <a href=\"https://console.cloud.google.com/vertex-ai/colab/import/https%3A%2F%2Fraw.githubusercontent.com%2Fstatmike%2Fvertex-ai-mlops%2Fmain%2FApplied%2520GenAI%2FRetrieval%2FRetrieval%2520-%2520Cloud%2520SQL%2520For%2520MySQL.ipynb\">\n",
    "      <img width=\"32px\" src=\"https://lh3.googleusercontent.com/JmcxdQi-qOpctIvWKgPtrzZdJJK-J3sWE1RsfjZNwshCFgE_9fULcNpuXYTilIR2hjwN\" alt=\"Google Cloud Colab Enterprise logo\">\n",
    "      <br>Run in<br>Colab Enterprise\n",
    "    </a>\n",
    "  </td>      \n",
    "  <td style=\"text-align: center\">\n",
    "    <a href=\"https://github.com/statmike/vertex-ai-mlops/blob/main/Applied%20GenAI/Retrieval/Retrieval%20-%20Cloud%20SQL%20For%20MySQL.ipynb\">\n",
    "      <img src=\"https://cloud.google.com/ml-engine/images/github-logo-32px.png\" alt=\"GitHub logo\">\n",
    "      <br>View on<br>GitHub\n",
    "    </a>\n",
    "  </td>\n",
    "  <td style=\"text-align: center\">\n",
    "    <a href=\"https://console.cloud.google.com/vertex-ai/workbench/deploy-notebook?download_url=https://raw.githubusercontent.com/statmike/vertex-ai-mlops/main/Applied%20GenAI/Retrieval/Retrieval%20-%20Cloud%20SQL%20For%20MySQL.ipynb\">\n",
    "      <img src=\"https://lh3.googleusercontent.com/UiNooY4LUgW_oTvpsNhPpQzsstV5W8F7rYgxgGBD85cWJoLmrOzhVs_ksK_vgx40SHs7jCqkTkCk=e14-rj-sc0xffffff-h130-w32\" alt=\"Vertex AI logo\">\n",
    "      <br>Open in<br>Vertex AI Workbench\n",
    "    </a>\n",
    "  </td>\n",
    "</table>"
   ]
  },
  {
   "cell_type": "markdown",
   "id": "96b0e8e6-d761-4540-9d09-8f0c4ce9a020",
   "metadata": {},
   "source": [
    "# Retrieval - Cloud SQL For MySQL\n",
    "\n",
    "In prior workflows, a series of documents was [processed into chunks](../Chunking/readme.md), and for each chunk, [embeddings](../Embeddings/readme.md) were created:\n",
    "\n",
    "- Process: [Large Document Processing - Document AI Layout Parser](../Chunking/Large%20Document%20Processing%20-%20Document%20AI%20Layout%20Parser.ipynb)\n",
    "- Embed: [Vertex AI Text Embeddings API](../Embeddings/Vertex%20AI%20Text%20Embeddings%20API.ipynb)\n",
    "\n",
    "Retrieving chunks for a query involves calculating the embedding for the query and then using similarity metrics to find relevant chunks. A thorough review of similarity matching can be found in [The Math of Similarity](../Embeddings/The%20Math%20of%20Similarity.ipynb) - use dot product! As development moves from experiment to application, the process of storing and computing similarity is migrated to a [retrieval](./readme.md) system. This workflow is part of a [series of workflows exploring many retrieval systems](./readme.md).  \n",
    "\n",
    "A detailed [comparison of many retrieval systems](./readme.md#comparison-of-vector-database-solutions) can be found in the readme as well.\n",
    "\n",
    "---\n",
    "\n",
    "**Cloud SQL For MySQL For Storage, Indexing, And Search**\n",
    "\n",
    "[Cloud SQL for MySQL](https://cloud.google.com/sql/docs/mysql) is a fully managed relational database service on Google Cloud that offers compatibility with the popular MySQL open-source database. It provides high availability, scalability, and security for your applications.\n",
    "\n",
    "- **Key Features:**\n",
    "\n",
    "    - **Fully Managed:** Cloud SQL takes care of database management tasks, including patching, backups, and high availability, allowing you to focus on your applications.\n",
    "    - **Scalability:** You can easily scale your Cloud SQL instances to accommodate growing data and traffic demands.\n",
    "    - **Security:** Cloud SQL provides robust security features, including data encryption and network security, to protect your data.\n",
    "    - **MySQL Compatibility:** Cloud SQL is compatible with standard MySQL, making it easy to migrate existing applications or use familiar tools and frameworks.\n",
    "\n",
    "- **Vector Search in MySQL:**\n",
    "\n",
    "    - Cloud SQL for MySQL supports [vector search functionality](https://cloud.google.com/sql/docs/mysql/work-with-vectors), allowing you to store and query vector embeddings directly in your database. This includes [creating indexes](https://cloud.google.com/sql/docs/mysql/work-with-vectors#work-with-vectors) for approximate nearest neighbors efficient searches.\n",
    "\n",
    "---\n",
    "\n",
    "**Use Case Data**\n",
    "\n",
    "Buying a home usually involves borrowing money from a lending institution, typically through a mortgage secured by the home's value. But how do these institutions manage the risks associated with such large loans, and how are lending standards established?\n",
    "\n",
    "In the United States, two government-sponsored enterprises (GSEs) play a vital role in the housing market:\n",
    "\n",
    "- Federal National Mortgage Association ([Fannie Mae](https://www.fanniemae.com/))\n",
    "- Federal Home Loan Mortgage Corporation ([Freddie Mac](https://www.freddiemac.com/))\n",
    "\n",
    "These GSEs purchase mortgages from lenders, enabling those lenders to offer more loans. This process also allows Fannie Mae and Freddie Mac to set standards for mortgages, ensuring they are responsible and borrowers are more likely to repay them. This system makes homeownership more affordable and stabilizes the housing market by maintaining a steady flow of liquidity for lenders and keeping interest rates controlled.\n",
    "\n",
    "However, navigating the complexities of these GSEs and their extensive servicing guides can be challenging.\n",
    "\n",
    "**Approaches**\n",
    "\n",
    "[This series](../readme.md) covers many generative AI workflows. These documents are used directly as long context for Gemini in the workflow [Long Context Retrieval With The Vertex AI Gemini API](../Generate/Long%20Context%20Retrieval%20With%20The%20Vertex%20AI%20Gemini%20API.ipynb). The workflow below uses a [retrieval](./readme.md) approach with the already generated chunks and embeddings."
   ]
  },
  {
   "cell_type": "markdown",
   "id": "be889472-69b0-416c-9cf1-edc9706fa5c5",
   "metadata": {
    "id": "od_UkDpvRmgD"
   },
   "source": [
    "---\n",
    "## Colab Setup\n",
    "\n",
    "When running this notebook in [Colab](https://colab.google/) or [Colab Enterprise](https://cloud.google.com/colab/docs/introduction), this section will authenticate to GCP (follow prompts in the popup) and set the current project for the session."
   ]
  },
  {
   "cell_type": "code",
   "execution_count": 6,
   "id": "21f75ba8-df50-466e-a5ec-f2a6dd88eb26",
   "metadata": {
    "executionInfo": {
     "elapsed": 195,
     "status": "ok",
     "timestamp": 1683726184843,
     "user": {
      "displayName": "Mike Henderson",
      "userId": "07691629187611687318"
     },
     "user_tz": 240
    },
    "id": "8UO9FnqyKBlF",
    "tags": []
   },
   "outputs": [],
   "source": [
    "PROJECT_ID = 'statmike-mlops-349915' # replace with project ID"
   ]
  },
  {
   "cell_type": "code",
   "execution_count": 7,
   "id": "9c325515-1ea0-45cc-82d3-a1bfb1c52155",
   "metadata": {
    "colab": {
     "base_uri": "https://localhost:8080/"
    },
    "executionInfo": {
     "elapsed": 68869,
     "status": "ok",
     "timestamp": 1683726253709,
     "user": {
      "displayName": "Mike Henderson",
      "userId": "07691629187611687318"
     },
     "user_tz": 240
    },
    "id": "N98-KK7LRkjm",
    "outputId": "09ec5008-0def-4e1a-c349-c598ee752f78",
    "tags": []
   },
   "outputs": [],
   "source": [
    "try:\n",
    "    from google.colab import auth\n",
    "    auth.authenticate_user()\n",
    "    !gcloud config set project {PROJECT_ID}\n",
    "except Exception:\n",
    "    pass"
   ]
  },
  {
   "cell_type": "markdown",
   "id": "055a4bd7-7b47-43ef-ba14-636c955e44e3",
   "metadata": {},
   "source": [
    "---\n",
    "## Installs and API Enablement\n",
    "\n",
    "The clients packages may need installing in this environment. "
   ]
  },
  {
   "cell_type": "markdown",
   "id": "410502ee-6fe3-4624-a69a-960ad7105f10",
   "metadata": {},
   "source": [
    "### Installs (If Needed)"
   ]
  },
  {
   "cell_type": "code",
   "execution_count": 8,
   "id": "f4dbdb83-3170-430c-b60d-3d686222a168",
   "metadata": {
    "tags": []
   },
   "outputs": [],
   "source": [
    "# tuples of (import name, install name, min_version)\n",
    "packages = [\n",
    "    ('google.cloud.aiplatform', 'google-cloud-aiplatform', '1.69.0'),\n",
    "    ('google.cloud.sql', 'cloud-sql-python-connector'),\n",
    "    ('sqlalchemy', 'sqlalchemy'),\n",
    "    ('pymysql', 'pymysql')\n",
    "]\n",
    "\n",
    "import importlib\n",
    "install = False\n",
    "for package in packages:\n",
    "    if not importlib.util.find_spec(package[0]):\n",
    "        print(f'installing package {package[1]}')\n",
    "        install = True\n",
    "        !pip install {package[1]} -U -q --user\n",
    "    elif len(package) == 3:\n",
    "        if importlib.metadata.version(package[0]) < package[2]:\n",
    "            print(f'updating package {package[1]}')\n",
    "            install = True\n",
    "            !pip install {package[1]} -U -q --user"
   ]
  },
  {
   "cell_type": "markdown",
   "id": "25374857-7d37-4c84-8cbb-a3c2fc7bb065",
   "metadata": {},
   "source": [
    "### API Enablement"
   ]
  },
  {
   "cell_type": "code",
   "execution_count": 9,
   "id": "9b7300a8-7e3a-4a08-95c0-91186237753f",
   "metadata": {
    "tags": []
   },
   "outputs": [],
   "source": [
    "!gcloud services enable aiplatform.googleapis.com\n",
    "!gcloud services enable sqladmin.googleapis.com"
   ]
  },
  {
   "cell_type": "markdown",
   "id": "157d09ba-9774-495f-8ced-3382bf75be8f",
   "metadata": {},
   "source": [
    "### Restart Kernel (If Installs Occured)\n",
    "\n",
    "After a kernel restart the code submission can start with the next cell after this one."
   ]
  },
  {
   "cell_type": "code",
   "execution_count": 10,
   "id": "f9864153-66c8-43e1-ae96-1179632ccf7d",
   "metadata": {
    "tags": []
   },
   "outputs": [],
   "source": [
    "if install:\n",
    "    import IPython\n",
    "    app = IPython.Application.instance()\n",
    "    app.kernel.do_shutdown(True)\n",
    "    IPython.display.display(IPython.display.Markdown(\"\"\"<div class=\\\"alert alert-block alert-warning\\\">\n",
    "        <b>⚠️ The kernel is going to restart. Please wait until it is finished before continuing to the next step. The previous cells do not need to be run again⚠️</b>\n",
    "        </div>\"\"\"))"
   ]
  },
  {
   "cell_type": "markdown",
   "id": "09a1ab41-cb32-4398-86dc-d30effb88a36",
   "metadata": {
    "id": "appt8-yVRtJ1"
   },
   "source": [
    "---\n",
    "## Setup"
   ]
  },
  {
   "cell_type": "markdown",
   "id": "2cebe11b-9ca1-4f3e-aa78-78640ff01ec8",
   "metadata": {
    "id": "63mx2EozRxFP"
   },
   "source": [
    "Inputs"
   ]
  },
  {
   "cell_type": "code",
   "execution_count": 11,
   "id": "ab2239cd-40ab-416d-bac0-0c6953d911b6",
   "metadata": {
    "colab": {
     "base_uri": "https://localhost:8080/",
     "height": 35
    },
    "executionInfo": {
     "elapsed": 2124,
     "status": "ok",
     "timestamp": 1683726390544,
     "user": {
      "displayName": "Mike Henderson",
      "userId": "07691629187611687318"
     },
     "user_tz": 240
    },
    "id": "xzcoXjM5Rky5",
    "outputId": "b3bdcbc1-70d5-472e-aea2-42c74a42efde",
    "tags": []
   },
   "outputs": [
    {
     "data": {
      "text/plain": [
       "'statmike-mlops-349915'"
      ]
     },
     "execution_count": 11,
     "metadata": {},
     "output_type": "execute_result"
    }
   ],
   "source": [
    "project = !gcloud config get-value project\n",
    "PROJECT_ID = project[0]\n",
    "PROJECT_ID"
   ]
  },
  {
   "cell_type": "code",
   "execution_count": 12,
   "id": "8aa97f05-66e9-4276-b2e6-83b5a91ca50c",
   "metadata": {
    "executionInfo": {
     "elapsed": 2,
     "status": "ok",
     "timestamp": 1683726390712,
     "user": {
      "displayName": "Mike Henderson",
      "userId": "07691629187611687318"
     },
     "user_tz": 240
    },
    "id": "IxWrFtqYMfku",
    "tags": []
   },
   "outputs": [],
   "source": [
    "REGION = 'us-central1'\n",
    "SERIES = 'applied-genai'\n",
    "EXPERIMENT = 'retrieval-cloudsql-mysql'\n",
    "\n",
    "# Cloud SQL Names\n",
    "CLOUDSQL_INSTANCE_NAME = EXPERIMENT\n",
    "CLOUDSQL_DATABASE_NAME = SERIES.replace('-', '_')\n",
    "CLOUDSQL_TABLE_NAME = EXPERIMENT.replace('-', '_')\n",
    "\n",
    "CLOUDSQL_USER = 'test_db'\n",
    "CLOUDSQL_PASS = 'test_db_pass'"
   ]
  },
  {
   "cell_type": "markdown",
   "id": "52bbf65b-5d29-4a72-84ae-d977b9a743a6",
   "metadata": {
    "id": "LuajVwCiO6Yg"
   },
   "source": [
    "Packages"
   ]
  },
  {
   "cell_type": "code",
   "execution_count": 13,
   "id": "559f6e60-a594-4789-893b-295a8381b670",
   "metadata": {
    "executionInfo": {
     "elapsed": 17761,
     "status": "ok",
     "timestamp": 1683726409304,
     "user": {
      "displayName": "Mike Henderson",
      "userId": "07691629187611687318"
     },
     "user_tz": 240
    },
    "id": "LVC7zzSLRk2C",
    "tags": []
   },
   "outputs": [],
   "source": [
    "import os, json, time, glob, datetime, copy\n",
    "import concurrent.futures\n",
    "\n",
    "import numpy as np\n",
    "\n",
    "# Vertex AI\n",
    "from google.cloud import aiplatform\n",
    "import vertexai.language_models # for embeddings API\n",
    "import vertexai.generative_models # for Gemini Models\n",
    "from vertexai.resources.preview import feature_store\n",
    "\n",
    "# Cloud SQL\n",
    "import google.cloud.sql.connector\n",
    "import sqlalchemy\n",
    "import pymysql"
   ]
  },
  {
   "cell_type": "code",
   "execution_count": 14,
   "id": "d3fef31f-928f-45f2-a3f4-292ee242232c",
   "metadata": {
    "tags": []
   },
   "outputs": [
    {
     "data": {
      "text/plain": [
       "'1.71.0'"
      ]
     },
     "execution_count": 14,
     "metadata": {},
     "output_type": "execute_result"
    }
   ],
   "source": [
    "aiplatform.__version__"
   ]
  },
  {
   "cell_type": "markdown",
   "id": "5758c07e-f064-40fb-a0ef-de6cbde5cd0a",
   "metadata": {
    "id": "EyAVFG9TO9H-"
   },
   "source": [
    "Clients"
   ]
  },
  {
   "cell_type": "code",
   "execution_count": 15,
   "id": "3b72f3bb-176b-4678-ba6b-df9b2de14997",
   "metadata": {
    "executionInfo": {
     "elapsed": 19,
     "status": "ok",
     "timestamp": 1683726409306,
     "user": {
      "displayName": "Mike Henderson",
      "userId": "07691629187611687318"
     },
     "user_tz": 240
    },
    "id": "L0RPE13LOZce",
    "tags": []
   },
   "outputs": [],
   "source": [
    "# vertex ai clients\n",
    "vertexai.init(project = PROJECT_ID, location = REGION)"
   ]
  },
  {
   "cell_type": "markdown",
   "id": "8579282f-2723-4294-b72a-a65cc0831f44",
   "metadata": {},
   "source": [
    "---\n",
    "## Text & Embeddings For Examples\n",
    "\n",
    "This repository contains a [section for document processing (chunking)](../Chunking/readme.md) that includes an example of processing mulitple large pdfs (over 1000 pages) into chunks: [Large Document Processing - Document AI Layout Parser](../Chunking/Large%20Document%20Processing%20-%20Document%20AI%20Layout%20Parser.ipynb).  The chunks of text from that workflow are stored with this repository and loaded by another companion workflow that augments the chunks with text embeddings: [Vertex AI Text Embeddings API](../Embeddings/Vertex%20AI%20Text%20Embeddings%20API.ipynb).\n",
    "\n",
    "The following code will load the version of the chunks that includes text embeddings and prepare it for a local example of retrival augmented generation."
   ]
  },
  {
   "cell_type": "markdown",
   "id": "1e12cbe2-3ca6-4656-9e73-c0db5c63bf50",
   "metadata": {},
   "source": [
    "### Get The Documents\n",
    "\n",
    "If you are working from a clone of this notebooks [repository](https://github.com/statmike/vertex-ai-mlops) then the documents are already present. The following cell checks for the documents folder and if it is missing gets it (`git clone`):"
   ]
  },
  {
   "cell_type": "code",
   "execution_count": 11,
   "id": "6f4e77ed-43f7-42be-9575-6a491c0d6cba",
   "metadata": {
    "tags": []
   },
   "outputs": [],
   "source": [
    "local_dir = '../Embeddings/files/embeddings-api'"
   ]
  },
  {
   "cell_type": "code",
   "execution_count": 12,
   "id": "63ebe7c3-e72c-4394-91c3-d60c05bc0ce2",
   "metadata": {
    "tags": []
   },
   "outputs": [
    {
     "name": "stdout",
     "output_type": "stream",
     "text": [
      "Documents Found in folder `../Embeddings/files/embeddings-api`\n"
     ]
    }
   ],
   "source": [
    "if not os.path.exists(local_dir):\n",
    "    print('Retrieving documents...')\n",
    "    parent_dir = os.path.dirname(local_dir)\n",
    "    temp_dir = os.path.join(parent_dir, 'temp')\n",
    "    if not os.path.exists(temp_dir):\n",
    "        os.makedirs(temp_dir)\n",
    "    !git clone https://www.github.com/statmike/vertex-ai-mlops {temp_dir}/vertex-ai-mlops\n",
    "    shutil.copytree(f'{temp_dir}/vertex-ai-mlops/Applied GenAI/Embeddings/files/embeddings-api', local_dir)\n",
    "    shutil.rmtree(temp_dir)\n",
    "    print(f'Documents are now in folder `{local_dir}`')\n",
    "else:\n",
    "    print(f'Documents Found in folder `{local_dir}`')             "
   ]
  },
  {
   "cell_type": "markdown",
   "id": "33e68a84-9f88-4590-9ff1-e01c8a953ccf",
   "metadata": {},
   "source": [
    "### Load The Chunks"
   ]
  },
  {
   "cell_type": "code",
   "execution_count": 13,
   "id": "58d04382-a74a-44ac-8824-3b46c86aa148",
   "metadata": {
    "tags": []
   },
   "outputs": [
    {
     "data": {
      "text/plain": [
       "['../Embeddings/files/embeddings-api/large-files-chunk-embeddings-0000.jsonl',\n",
       " '../Embeddings/files/embeddings-api/large-files-chunk-embeddings-0001.jsonl',\n",
       " '../Embeddings/files/embeddings-api/large-files-chunk-embeddings-0002.jsonl',\n",
       " '../Embeddings/files/embeddings-api/large-files-chunk-embeddings-0003.jsonl',\n",
       " '../Embeddings/files/embeddings-api/large-files-chunk-embeddings-0004.jsonl',\n",
       " '../Embeddings/files/embeddings-api/large-files-chunk-embeddings-0005.jsonl',\n",
       " '../Embeddings/files/embeddings-api/large-files-chunk-embeddings-0006.jsonl',\n",
       " '../Embeddings/files/embeddings-api/large-files-chunk-embeddings-0007.jsonl',\n",
       " '../Embeddings/files/embeddings-api/large-files-chunk-embeddings-0008.jsonl',\n",
       " '../Embeddings/files/embeddings-api/large-files-chunk-embeddings-0009.jsonl']"
      ]
     },
     "execution_count": 13,
     "metadata": {},
     "output_type": "execute_result"
    }
   ],
   "source": [
    "jsonl_files = glob.glob(f\"{local_dir}/large-files*.jsonl\")\n",
    "jsonl_files.sort()\n",
    "jsonl_files"
   ]
  },
  {
   "cell_type": "code",
   "execution_count": 14,
   "id": "a54c6c96-6c28-49bb-80be-5d46797dfe77",
   "metadata": {
    "tags": []
   },
   "outputs": [
    {
     "data": {
      "text/plain": [
       "9040"
      ]
     },
     "execution_count": 14,
     "metadata": {},
     "output_type": "execute_result"
    }
   ],
   "source": [
    "chunks = []\n",
    "for file in jsonl_files:\n",
    "    with open(file, 'r') as f:\n",
    "        chunks.extend([json.loads(line) for line in f])\n",
    "len(chunks)"
   ]
  },
  {
   "cell_type": "markdown",
   "id": "a70115ec-6d60-41df-b7e6-9e2e5b463b1d",
   "metadata": {},
   "source": [
    "### Review A Chunk"
   ]
  },
  {
   "cell_type": "code",
   "execution_count": 15,
   "id": "fc20423e-e3d6-4e90-9e98-a5248508c82d",
   "metadata": {
    "tags": []
   },
   "outputs": [
    {
     "data": {
      "text/plain": [
       "dict_keys(['instance', 'predictions', 'status'])"
      ]
     },
     "execution_count": 15,
     "metadata": {},
     "output_type": "execute_result"
    }
   ],
   "source": [
    "chunks[0].keys()"
   ]
  },
  {
   "cell_type": "code",
   "execution_count": 16,
   "id": "1955ea39-4ffc-4d30-b653-a5a9911f2dab",
   "metadata": {
    "tags": []
   },
   "outputs": [
    {
     "data": {
      "text/plain": [
       "'fannie_part_0_c17'"
      ]
     },
     "execution_count": 16,
     "metadata": {},
     "output_type": "execute_result"
    }
   ],
   "source": [
    "chunks[0]['instance']['chunk_id']"
   ]
  },
  {
   "cell_type": "code",
   "execution_count": 17,
   "id": "3537982c-4a0e-456c-a652-19ea7507873b",
   "metadata": {
    "tags": []
   },
   "outputs": [
    {
     "name": "stdout",
     "output_type": "stream",
     "text": [
      "# Selling Guide Fannie Mae Single Family\n",
      "\n",
      "## Fannie Mae Copyright Notice\n",
      "\n",
      "### Fannie Mae Copyright Notice\n",
      "\n",
      "|-|\n",
      "| Section B3-4.2, Verification of Depository Assets 402 |\n",
      "| B3-4.2-01, Verification of Deposits and Assets (05/04/2022) 403 |\n",
      "| B3-4.2-02, Depository Accounts (12/14/2022) 405 |\n",
      "| B3-4.2-03, Individual Development Accounts (02/06/2019) 408 |\n",
      "| B3-4.2-04, Pooled Savings (Community Savings Funds) (04/01/2009) 411 |\n",
      "| B3-4.2-05, Foreign Assets (05/04/2022) 411 |\n",
      "| Section B3-4.3, Verification of Non-Depository Assets 412 |\n",
      "| B3-4.3-01, Stocks, Stock Options, Bonds, and Mutual Funds (06/30/2015) 412 |\n",
      "| B3-4.3-02, Trust Accounts (04/01/2009) 413 |\n",
      "| B3-4.3-03, Retirement Accounts (06/30/2015) 414 |\n",
      "| B3-4.3-04, Personal Gifts (09/06/2023) 415 |\n",
      "| B3-4.3-05, Gifts of Equity (10/07/2020) 418 |\n",
      "| B3-4.3-06, Grants and Lender Contributions (12/14/2022) 419 |\n",
      "| B3-4.3-07, Disaster Relief Grants or Loans (04/01/2009) 423 |\n",
      "| B3-4.3-08, Employer Assistance (09/29/2015) 423 |\n",
      "| B3-4.3-09, Earnest Money Deposit (05/04/2022) 425 |\n",
      "| B3-4.3-10, Anticipated Sales Proceeds (02/23/2016) B3-4.3-11, Trade Equity (12/16/2020) 426 428 |\n",
      "| B3-4.3-12, Rent-Related Credits (08/07/2024) 429 |\n",
      "| B3-4.3-13, Sweat Equity (04/15/2014) 430 |\n",
      "| B3-4.3-14, Bridge/Swing Loans (04/01/2009) 431 |\n",
      "| B3-4.3-15, Borrowed Funds Secured by an Asset (10/30/2009) 431 |\n",
      "|  |\n",
      "\n",
      "\n"
     ]
    }
   ],
   "source": [
    "print(chunks[0]['instance']['content'])"
   ]
  },
  {
   "cell_type": "code",
   "execution_count": 18,
   "id": "49f06293-a439-436b-bc93-cd6cd3fb4aff",
   "metadata": {
    "tags": []
   },
   "outputs": [
    {
     "data": {
      "text/plain": [
       "[0.031277116388082504,\n",
       " 0.03056905046105385,\n",
       " 0.010865348391234875,\n",
       " 0.0623614676296711,\n",
       " 0.03228681534528732,\n",
       " 0.05066155269742012,\n",
       " 0.046544693410396576,\n",
       " 0.05509665608406067,\n",
       " -0.014074751175940037,\n",
       " 0.008380400016903877]"
      ]
     },
     "execution_count": 18,
     "metadata": {},
     "output_type": "execute_result"
    }
   ],
   "source": [
    "chunks[0]['predictions'][0]['embeddings']['values'][0:10]"
   ]
  },
  {
   "cell_type": "markdown",
   "id": "f977358d-d9ea-4172-9eca-66079bb6087d",
   "metadata": {},
   "source": [
    "### Prepare Chunk Structure\n",
    "\n",
    "Make a list of dictionaries with information for each chunk:"
   ]
  },
  {
   "cell_type": "code",
   "execution_count": 19,
   "id": "be9fa708-130c-4343-b179-dbde0b09a972",
   "metadata": {
    "tags": []
   },
   "outputs": [],
   "source": [
    "content_chunks = [\n",
    "    dict(\n",
    "        gse = chunk['instance']['gse'],\n",
    "        chunk_id = chunk['instance']['chunk_id'],\n",
    "        content = chunk['instance']['content'],\n",
    "        embedding = chunk['predictions'][0]['embeddings']['values']\n",
    "    ) for chunk in chunks\n",
    "]"
   ]
  },
  {
   "cell_type": "markdown",
   "id": "d6619605-7b10-444e-a131-db06e56a4be8",
   "metadata": {},
   "source": [
    "### Query Embedding\n",
    "\n",
    "Create a query, or prompt, and get the embedding for it:\n",
    "\n",
    "Connect to models for text embeddings. Learn more about the model API:\n",
    "- [Vertex AI Text Embeddings API](../Embeddings/Vertex%20AI%20Text%20Embeddings%20API.ipynb)"
   ]
  },
  {
   "cell_type": "code",
   "execution_count": 16,
   "id": "3da5d30c-3dfb-42ba-a133-83dceb252787",
   "metadata": {
    "tags": []
   },
   "outputs": [],
   "source": [
    "question = \"Does a lender have to perform servicing functions directly?\""
   ]
  },
  {
   "cell_type": "code",
   "execution_count": 17,
   "id": "7992c26f-d058-4920-80a3-a157b88733e4",
   "metadata": {
    "tags": []
   },
   "outputs": [],
   "source": [
    "embedder = vertexai.language_models.TextEmbeddingModel.from_pretrained('text-embedding-004')"
   ]
  },
  {
   "cell_type": "code",
   "execution_count": 18,
   "id": "bbe6fda7-9cea-49a2-9e2f-9222d50677af",
   "metadata": {
    "tags": []
   },
   "outputs": [
    {
     "data": {
      "text/plain": [
       "[-0.0005117303808219731,\n",
       " 0.009651427157223225,\n",
       " 0.01768726110458374,\n",
       " 0.014538003131747246,\n",
       " -0.01829824410378933,\n",
       " 0.027877431362867355,\n",
       " -0.021124685183167458,\n",
       " 0.008830446749925613,\n",
       " -0.02669006586074829,\n",
       " 0.06414774805307388]"
      ]
     },
     "execution_count": 18,
     "metadata": {},
     "output_type": "execute_result"
    }
   ],
   "source": [
    "question_embedding = embedder.get_embeddings([question])[0].values\n",
    "question_embedding[0:10]"
   ]
  },
  {
   "cell_type": "markdown",
   "id": "0b6ec209-b34a-4837-8c54-a991ad831764",
   "metadata": {},
   "source": [
    "---\n",
    "## Setup: Cloud SQL For MySQL\n",
    "\n",
    "Cloud SQL For MySQL is a managed instance of [MySQL](https://www.mysql.com/) that is easy to deploy and use.  This workflow will create an instance, configure it, load and use data all in the workflow below. While failover replicas and read-only replicas are possible this example uses a single instance server with minimum possible specifications.  The choices made during creation of instances fall into categories called [editions](https://cloud.google.com/sql/docs/mysql/editions-intro).  The configuration choices are also related to overall cost of running the instance - [see pricing](https://cloud.google.com/sql/pricing#mysql-pg-pricing).  This workflow uses a minimal configuration for testing purposes and keeping the cost of this example very small.  At the end of this notebook is a section that can be used to shutdown and delete the parts related to ongoing costs."
   ]
  },
  {
   "cell_type": "markdown",
   "id": "ea03feb3-9a22-4a7f-8988-91c9c9195175",
   "metadata": {},
   "source": [
    "### Create/Retrieve Instance\n",
    "\n",
    "The starting point for using Cloud SQL for MySQL is creating an instance.  There is not a Python admin client for Cloud SQL so the `gcloud` cli is used from this notebook by prefixing them with `!` to indicate they are to be run as shell commands on the underlying system shell.\n",
    "\n",
    "The documentation can be referenced for:\n",
    "- [Create instances](https://cloud.google.com/sql/docs/mysql/create-instance)\n",
    "- [Instance settings](https://cloud.google.com/sql/docs/mysql/instance-settings)\n",
    "- [Cloud SDK (gcloud) CLI For SQL instances](https://cloud.google.com/sdk/gcloud/reference/sql/instances)\n",
    "\n",
    "When creating an instance the `--database-version` can be set and there is a [minimum version requirement]( https://cloud.google.com/sql/docs/mysql/work-with-vectors#before-you-begin) to use the vector storage, indexing, and retrieval functions. Choose a version that meets the minimum requirement for the vector storage and indexing features."
   ]
  },
  {
   "cell_type": "code",
   "execution_count": 19,
   "id": "e71ba04b-f118-436f-bcc2-e1cac6ac3824",
   "metadata": {
    "tags": []
   },
   "outputs": [
    {
     "name": "stdout",
     "output_type": "stream",
     "text": [
      "Found the instance: retrieval-cloudsql-mysql\n"
     ]
    }
   ],
   "source": [
    "list_instances = !gcloud sql instances list --format=\"json(name)\"\n",
    "list_instances = json.loads(''.join(list_instances))\n",
    "\n",
    "if CLOUDSQL_INSTANCE_NAME in [i['name'] for i in list_instances]:\n",
    "    instance_describe = !gcloud sql instances describe $CLOUDSQL_INSTANCE_NAME --format=json\n",
    "    instance_describe = json.loads(''.join(instance_describe))\n",
    "    print(f\"Found the instance: {instance_describe['name']}\")\n",
    "else:\n",
    "    print('Creating an instance...')\n",
    "    instance_create = !gcloud sql instances create $CLOUDSQL_INSTANCE_NAME \\\n",
    "        --database-version=MYSQL_8_0_36 \\\n",
    "        --tier=db-g1-small \\\n",
    "        --region=us-central1 \\\n",
    "        --quiet\n",
    "    instance_describe = !gcloud sql instances describe $CLOUDSQL_INSTANCE_NAME --format=json\n",
    "    instance_describe = json.loads(''.join(instance_describe))\n",
    "    print(f\"Created the instance: {instance_describe['name']}\")"
   ]
  },
  {
   "cell_type": "code",
   "execution_count": 45,
   "id": "91e44642-6640-40ef-b0a0-f0000b3d695f",
   "metadata": {
    "tags": []
   },
   "outputs": [],
   "source": [
    "#instance_describe"
   ]
  },
  {
   "cell_type": "markdown",
   "id": "dc8dcdef-2393-4b57-b658-d0c01dc8d759",
   "metadata": {},
   "source": [
    "### Create User For This Workflow\n",
    "\n",
    "We need a user account to login and use the MySQL instance.  In production this should be taken very seriously and access should be configured carefully to protect the environment.  This example create an example user with password for demonstration and testing.  Read more about controlling access in [About MySQL users](https://cloud.google.com/sql/docs/mysql/users).\n",
    "\n",
    "**Reference:**\n",
    "- [Cloud SDK (gcloud) CLI for SQL users](https://cloud.google.com/sql/docs/mysql/users)"
   ]
  },
  {
   "cell_type": "code",
   "execution_count": 21,
   "id": "90c809ac-f0c0-4780-af82-99dc8f679dc9",
   "metadata": {
    "tags": []
   },
   "outputs": [
    {
     "name": "stdout",
     "output_type": "stream",
     "text": [
      "Found the user: test_db\n"
     ]
    }
   ],
   "source": [
    "list_users = !gcloud sql users list --format=\"json\" --instance=$CLOUDSQL_INSTANCE_NAME\n",
    "list_users = json.loads(''.join(list_users))\n",
    "\n",
    "if CLOUDSQL_USER in [i['name'] for i in list_users]:\n",
    "    user_describe = !gcloud sql users describe $CLOUDSQL_USER --instance=$CLOUDSQL_INSTANCE_NAME --format=json\n",
    "    user_describe = json.loads(''.join(user_describe))\n",
    "    print(f\"Found the user: {user_describe['name']}\")\n",
    "else:\n",
    "    print('Creating the user...')\n",
    "    user_create = !gcloud sql users create $CLOUDSQL_USER \\\n",
    "        --instance=$CLOUDSQL_INSTANCE_NAME \\\n",
    "        --password=$CLOUDSQL_PASS\n",
    "    user_describe = !gcloud sql users describe $CLOUDSQL_USER --instance=$CLOUDSQL_INSTANCE_NAME --format=json\n",
    "    user_describe = json.loads(''.join(user_describe))\n",
    "    print(f\"Created the user: {user_describe['name']}\")"
   ]
  },
  {
   "cell_type": "code",
   "execution_count": 22,
   "id": "2d58cc5b-ff2f-43de-85d3-4e10b2976552",
   "metadata": {
    "tags": []
   },
   "outputs": [],
   "source": [
    "#user_describe"
   ]
  },
  {
   "cell_type": "markdown",
   "id": "fb54a1d1-c3e6-4f78-bf83-713c92653275",
   "metadata": {},
   "source": [
    "### Connect To Database\n",
    "\n",
    "Cloud SQL For MySQL has default databases, [like mysql](https://cloud.google.com/sql/docs/mysql/create-manage-databases#gcloud).\n",
    "\n",
    "There are many ways to [connect to a database](https://cloud.google.com/sql/docs/mysql/connect-overview) depending on where and how you need to connect.\n",
    "\n",
    "Here we want to use Python and will use the convenient [Cloud SQL Language Connectors](https://cloud.google.com/sql/docs/mysql/language-connectors).\n",
    "\n",
    "That means we will [create a connector](https://cloud.google.com/sql/docs/mysql/connect-connectors#python) and interact with the database through the connector.  A connector has three parts:\n",
    "- a **connection tool**, in this case provided by [Cloud SQL Language Connectors](https://github.com/GoogleCloudPlatform/cloud-sql-python-connector)\n",
    "- a driver to create a **connection pool**, [pymysql](https://github.com/PyMySQL/PyMySQL)\n",
    "- a client library that can use connection pools to **orchestrate SQL queries**, [SQLAlchemy](https://www.sqlalchemy.org/)"
   ]
  },
  {
   "cell_type": "markdown",
   "id": "90c74471-7e71-41ea-99e0-e155dee64686",
   "metadata": {},
   "source": [
    "#### Connection Tool"
   ]
  },
  {
   "cell_type": "code",
   "execution_count": 23,
   "id": "46728598-f440-42cd-ba76-8a3473fba204",
   "metadata": {
    "tags": []
   },
   "outputs": [],
   "source": [
    "sync_connector = google.cloud.sql.connector.Connector()"
   ]
  },
  {
   "cell_type": "markdown",
   "id": "a250d996-035d-49f4-94ef-0f7924480011",
   "metadata": {
    "tags": []
   },
   "source": [
    "#### Connection"
   ]
  },
  {
   "cell_type": "code",
   "execution_count": 24,
   "id": "8883224b-74e6-4314-9a32-6743a05aad72",
   "metadata": {
    "tags": []
   },
   "outputs": [],
   "source": [
    "def get_sync_conn(\n",
    "    connector: google.cloud.sql.connector.Connector,\n",
    "    db: str\n",
    "):\n",
    "    def getconn():\n",
    "        conn = connector.connect(\n",
    "            instance_describe['connectionName'],\n",
    "            \"pymysql\",\n",
    "            user = CLOUDSQL_USER,\n",
    "            password = CLOUDSQL_PASS,\n",
    "            db = db\n",
    "        )\n",
    "        return conn\n",
    "    return getconn"
   ]
  },
  {
   "cell_type": "markdown",
   "id": "4164f4f1-e8f6-4bf5-abcd-6b1f45a89ec3",
   "metadata": {
    "tags": []
   },
   "source": [
    "#### Connection Pool"
   ]
  },
  {
   "cell_type": "code",
   "execution_count": 25,
   "id": "6b00a969-b033-47d7-9a2a-cd3f16f5d425",
   "metadata": {
    "tags": []
   },
   "outputs": [],
   "source": [
    "def get_sync_pool(\n",
    "    connector: google.cloud.sql.connector.Connector,\n",
    "    db: str\n",
    ") -> sqlalchemy.engine.Engine:\n",
    "\n",
    "    pool = sqlalchemy.create_engine(\n",
    "        \"mysql+pymysql://\",\n",
    "        creator = get_sync_conn(connector, db)\n",
    "    )\n",
    "    pool.dialect.description_encoding = None\n",
    "    pool.execution_options(isolation_level=\"AUTOCOMMIT\")\n",
    "    return pool"
   ]
  },
  {
   "cell_type": "code",
   "execution_count": 26,
   "id": "edde2bd8-38c1-47b3-8514-c732b7c6ea73",
   "metadata": {
    "tags": []
   },
   "outputs": [],
   "source": [
    "sync_pool = get_sync_pool(sync_connector, 'mysql')"
   ]
  },
  {
   "cell_type": "markdown",
   "id": "4b545d8c-4f9a-477a-b7d8-12a09608971c",
   "metadata": {
    "tags": []
   },
   "source": [
    "#### Orchestrate SQL Queries\n",
    "\n",
    "Use the a pool as a context manager to orchestrate queries"
   ]
  },
  {
   "cell_type": "code",
   "execution_count": 27,
   "id": "d00ad350-cab5-46eb-a4ec-ebbde6f36e2d",
   "metadata": {
    "tags": []
   },
   "outputs": [],
   "source": [
    "def run_query(query, pool = None, connector = sync_connector):\n",
    "    # get the current connnection pool:\n",
    "    if pool is None:\n",
    "        pool = sync_pool\n",
    "        \n",
    "    # run the query and get the response as 'result'\n",
    "    with pool.connect().execution_options(isolation_level=\"AUTOCOMMIT\") as connection:\n",
    "        result = connection.execute(query)\n",
    "        #connector.close()\n",
    "        \n",
    "    # prepare the response\n",
    "    rows = []\n",
    "    try:\n",
    "        for row in result:\n",
    "            rows.append(dict(zip(result.keys(), row)))\n",
    "    except Exception:\n",
    "        pass\n",
    "    \n",
    "    # return the response\n",
    "    return rows[0] if len(rows) == 1 else rows"
   ]
  },
  {
   "cell_type": "markdown",
   "id": "c30d6e7b-961f-45c0-a25d-86e136208b4b",
   "metadata": {
    "tags": []
   },
   "source": [
    "#### Execute A Test Query"
   ]
  },
  {
   "cell_type": "code",
   "execution_count": 28,
   "id": "5ffc8da0-e2c1-4049-97c0-23e9c51b0908",
   "metadata": {
    "tags": []
   },
   "outputs": [],
   "source": [
    "query = sqlalchemy.text(\"SELECT 'Success' as did_it_work\")"
   ]
  },
  {
   "cell_type": "code",
   "execution_count": 29,
   "id": "6cdcc3cc-b210-4351-b963-9a5e79010b70",
   "metadata": {
    "tags": []
   },
   "outputs": [
    {
     "data": {
      "text/plain": [
       "{'did_it_work': 'Success'}"
      ]
     },
     "execution_count": 29,
     "metadata": {},
     "output_type": "execute_result"
    }
   ],
   "source": [
    "run_query(query)"
   ]
  },
  {
   "cell_type": "markdown",
   "id": "cf575103-c740-4fbf-8a17-1c61c34cf9da",
   "metadata": {},
   "source": [
    "#### Execute Async Queries\n",
    "\n",
    "There is not a supported async driver for working with the connector and MySQL.  A workaround is using multiple threads to manage queries asynchronously.  While this does create multiple processes to manage the queries individually, the expected workload of each is minimal due to just passing the query to the MySQL innstance for exectution. The example below show how to use [`concurrent.futures`](https://docs.python.org/3/library/concurrent.futures.html) to launch 5 parallel tasks:"
   ]
  },
  {
   "cell_type": "code",
   "execution_count": 30,
   "id": "c95815a8-fd7c-42db-896d-dae1c1476ae0",
   "metadata": {
    "tags": []
   },
   "outputs": [
    {
     "name": "stdout",
     "output_type": "stream",
     "text": [
      "{'did_it_work': 'Success'}\n",
      "{'did_it_work': 'Success'}\n",
      "{'did_it_work': 'Success'}\n",
      "{'did_it_work': 'Success'}\n",
      "{'did_it_work': 'Success'}\n"
     ]
    }
   ],
   "source": [
    "with concurrent.futures.ThreadPoolExecutor(max_workers = 5) as executor:\n",
    "    queries = [query]* 5\n",
    "    futures = [executor.submit(run_query, query) for query in queries]\n",
    "    for future in futures:\n",
    "        print(future.result())"
   ]
  },
  {
   "cell_type": "markdown",
   "id": "aa0cacc4-59f7-4fa6-b766-8215e74ee8dc",
   "metadata": {},
   "source": [
    "---\n",
    "## Working With Cloud SQL For MySQL\n",
    "\n",
    "Now that a connection to MySQL is established the environment can be interacted with using, SQL!"
   ]
  },
  {
   "cell_type": "markdown",
   "id": "7c5268fb-f40c-48f7-9d34-35d4bdfd3c01",
   "metadata": {
    "tags": []
   },
   "source": [
    "### Create A Database\n",
    "\n",
    "[Creating and Selecting a Database](https://dev.mysql.com/doc/refman/8.4/en/creating-database.html)"
   ]
  },
  {
   "cell_type": "code",
   "execution_count": 35,
   "id": "03b6242c-6bc1-417d-b6ca-7011f3300216",
   "metadata": {
    "tags": []
   },
   "outputs": [
    {
     "data": {
      "text/plain": [
       "[]"
      ]
     },
     "execution_count": 35,
     "metadata": {},
     "output_type": "execute_result"
    }
   ],
   "source": [
    "query = sqlalchemy.text(f\"SELECT schema_name FROM INFORMATION_SCHEMA.SCHEMATA WHERE schema_name = '{CLOUDSQL_DATABASE_NAME}'\")\n",
    "result = run_query(query)\n",
    "result"
   ]
  },
  {
   "cell_type": "code",
   "execution_count": 36,
   "id": "062c3f67-c31d-4fee-8086-965edfc65205",
   "metadata": {
    "tags": []
   },
   "outputs": [],
   "source": [
    "if not result:\n",
    "    query = sqlalchemy.text(f\"CREATE DATABASE `{CLOUDSQL_DATABASE_NAME}`\")\n",
    "    run_query(query)"
   ]
  },
  {
   "cell_type": "code",
   "execution_count": 37,
   "id": "678cb382-149a-4c31-9ef1-7689542daede",
   "metadata": {
    "tags": []
   },
   "outputs": [
    {
     "data": {
      "text/plain": [
       "{'SCHEMA_NAME': 'applied_genai'}"
      ]
     },
     "execution_count": 37,
     "metadata": {},
     "output_type": "execute_result"
    }
   ],
   "source": [
    "query = sqlalchemy.text(f\"SELECT schema_name FROM INFORMATION_SCHEMA.SCHEMATA WHERE schema_name = '{CLOUDSQL_DATABASE_NAME}'\")\n",
    "result = run_query(query)\n",
    "result"
   ]
  },
  {
   "cell_type": "code",
   "execution_count": 38,
   "id": "d1ea53f2-15f7-4f9f-91e0-c23eede6bc60",
   "metadata": {
    "tags": []
   },
   "outputs": [
    {
     "data": {
      "text/plain": [
       "{'CATALOG_NAME': 'def',\n",
       " 'SCHEMA_NAME': 'applied_genai',\n",
       " 'DEFAULT_CHARACTER_SET_NAME': 'utf8mb4',\n",
       " 'DEFAULT_COLLATION_NAME': 'utf8mb4_0900_ai_ci',\n",
       " 'SQL_PATH': None,\n",
       " 'DEFAULT_ENCRYPTION': 'NO'}"
      ]
     },
     "execution_count": 38,
     "metadata": {},
     "output_type": "execute_result"
    }
   ],
   "source": [
    "query = sqlalchemy.text(f\"SELECT * FROM INFORMATION_SCHEMA.SCHEMATA WHERE schema_name = '{CLOUDSQL_DATABASE_NAME}'\")\n",
    "run_query(query)"
   ]
  },
  {
   "cell_type": "markdown",
   "id": "5da651ad-3c23-4415-8dcc-03f5e7c28098",
   "metadata": {},
   "source": [
    "### Move Connection To New Database\n",
    "\n",
    "Note that the connection pool connects to a specific database.  Now that a new database is created we can switch the connection pool to it by first closing the existing connection pool and creating a new one."
   ]
  },
  {
   "cell_type": "markdown",
   "id": "b4b35648-367d-4443-8aff-6c5213765519",
   "metadata": {},
   "source": [
    "Verify database for current connection:"
   ]
  },
  {
   "cell_type": "code",
   "execution_count": 39,
   "id": "df724bf6-c196-4402-a820-b7bf102eb451",
   "metadata": {
    "tags": []
   },
   "outputs": [
    {
     "data": {
      "text/plain": [
       "{'database()': 'mysql'}"
      ]
     },
     "execution_count": 39,
     "metadata": {},
     "output_type": "execute_result"
    }
   ],
   "source": [
    "run_query(sqlalchemy.text('SELECT database()'))"
   ]
  },
  {
   "cell_type": "markdown",
   "id": "0c5bfb9f-fb04-490a-ade1-636a131d0beb",
   "metadata": {},
   "source": [
    "Close the current connection and create a new one:"
   ]
  },
  {
   "cell_type": "code",
   "execution_count": 31,
   "id": "381e715f-3aa1-41f7-a80f-ecb13fb8179f",
   "metadata": {
    "tags": []
   },
   "outputs": [],
   "source": [
    "sync_pool.dispose()\n",
    "sync_connector.close()\n",
    "\n",
    "sync_connector = google.cloud.sql.connector.Connector()\n",
    "sync_pool = get_sync_pool(sync_connector, CLOUDSQL_DATABASE_NAME)"
   ]
  },
  {
   "cell_type": "markdown",
   "id": "428e0f38-6ac9-42c7-aa68-491c4450d4b5",
   "metadata": {},
   "source": [
    "Verify the database of the new connection:"
   ]
  },
  {
   "cell_type": "code",
   "execution_count": 41,
   "id": "057314e6-c8de-44ce-903e-a8b781f4406a",
   "metadata": {
    "tags": []
   },
   "outputs": [
    {
     "data": {
      "text/plain": [
       "{'database()': 'applied_genai'}"
      ]
     },
     "execution_count": 41,
     "metadata": {},
     "output_type": "execute_result"
    }
   ],
   "source": [
    "run_query(sqlalchemy.text('SELECT database()'))"
   ]
  },
  {
   "cell_type": "markdown",
   "id": "5d5fbeba-0ab4-44c6-8130-089c58d9f2b3",
   "metadata": {},
   "source": [
    "### Create Table\n",
    "\n",
    "**References:**\n",
    "- [CREATE TABLE statement](https://dev.mysql.com/doc/refman/8.4/en/create-table.html)\n",
    "- [Information_Schema Tables](https://dev.mysql.com/doc/mysql-infoschema-excerpt/8.0/en/information-schema-table-reference.html)"
   ]
  },
  {
   "cell_type": "code",
   "execution_count": 42,
   "id": "d9451a9a-3971-4cc8-a538-fbe262d33de7",
   "metadata": {
    "tags": []
   },
   "outputs": [
    {
     "data": {
      "text/plain": [
       "[]"
      ]
     },
     "execution_count": 42,
     "metadata": {},
     "output_type": "execute_result"
    }
   ],
   "source": [
    "result = run_query(sqlalchemy.text(f\"SELECT * from information_schema.tables WHERE table_schema = '{CLOUDSQL_TABLE_NAME}'\"))\n",
    "result"
   ]
  },
  {
   "cell_type": "code",
   "execution_count": 43,
   "id": "f405b3da-3273-4eee-b803-ba24dc9257f2",
   "metadata": {
    "tags": []
   },
   "outputs": [
    {
     "data": {
      "text/plain": [
       "[]"
      ]
     },
     "execution_count": 43,
     "metadata": {},
     "output_type": "execute_result"
    }
   ],
   "source": [
    "run_query(sqlalchemy.text(f\"DROP TABLE IF EXISTS `{CLOUDSQL_TABLE_NAME}`\"))"
   ]
  },
  {
   "cell_type": "code",
   "execution_count": 44,
   "id": "0e09e6de-ea35-4869-b71d-7cbca6c7cddf",
   "metadata": {
    "tags": []
   },
   "outputs": [
    {
     "data": {
      "text/plain": [
       "[]"
      ]
     },
     "execution_count": 44,
     "metadata": {},
     "output_type": "execute_result"
    }
   ],
   "source": [
    "run_query(\n",
    "    sqlalchemy.text(f\"\"\"\n",
    "            CREATE TABLE IF NOT EXISTS `{CLOUDSQL_TABLE_NAME}` (\n",
    "                chunk_id VARCHAR(100) NOT NULL PRIMARY KEY,\n",
    "                gse VARCHAR(50),\n",
    "                content TEXT,\n",
    "                embedding TEXT\n",
    "            );\n",
    "        \"\"\"\n",
    "    )\n",
    ")"
   ]
  },
  {
   "cell_type": "code",
   "execution_count": 45,
   "id": "6c41fe04-56ae-400d-91d9-e8b233dcae86",
   "metadata": {
    "tags": []
   },
   "outputs": [
    {
     "data": {
      "text/plain": [
       "{'TABLE_CATALOG': 'def',\n",
       " 'TABLE_SCHEMA': 'applied_genai',\n",
       " 'TABLE_NAME': 'retrieval_cloudsql_mysql',\n",
       " 'TABLE_TYPE': 'BASE TABLE',\n",
       " 'ENGINE': 'InnoDB',\n",
       " 'VERSION': 10,\n",
       " 'ROW_FORMAT': 'Dynamic',\n",
       " 'TABLE_ROWS': 0,\n",
       " 'AVG_ROW_LENGTH': 0,\n",
       " 'DATA_LENGTH': 16384,\n",
       " 'MAX_DATA_LENGTH': 0,\n",
       " 'INDEX_LENGTH': 0,\n",
       " 'DATA_FREE': 0,\n",
       " 'AUTO_INCREMENT': None,\n",
       " 'CREATE_TIME': datetime.datetime(2024, 11, 6, 22, 47, 28),\n",
       " 'UPDATE_TIME': None,\n",
       " 'CHECK_TIME': None,\n",
       " 'TABLE_COLLATION': 'utf8mb4_0900_ai_ci',\n",
       " 'CHECKSUM': None,\n",
       " 'CREATE_OPTIONS': '',\n",
       " 'TABLE_COMMENT': ''}"
      ]
     },
     "execution_count": 45,
     "metadata": {},
     "output_type": "execute_result"
    }
   ],
   "source": [
    "result = run_query(sqlalchemy.text(f\"SELECT * from information_schema.tables WHERE table_name = '{CLOUDSQL_TABLE_NAME}'\"))\n",
    "result"
   ]
  },
  {
   "cell_type": "code",
   "execution_count": 46,
   "id": "321364c1-94ae-454b-a2a7-213b53f68080",
   "metadata": {
    "tags": []
   },
   "outputs": [
    {
     "data": {
      "text/plain": [
       "[{'COLUMN_NAME': 'chunk_id', 'DATA_TYPE': 'varchar'},\n",
       " {'COLUMN_NAME': 'gse', 'DATA_TYPE': 'varchar'},\n",
       " {'COLUMN_NAME': 'content', 'DATA_TYPE': 'text'},\n",
       " {'COLUMN_NAME': 'embedding', 'DATA_TYPE': 'text'}]"
      ]
     },
     "execution_count": 46,
     "metadata": {},
     "output_type": "execute_result"
    }
   ],
   "source": [
    "run_query(sqlalchemy.text(f\"SELECT column_name, data_type FROM information_schema.columns WHERE table_name = '{CLOUDSQL_TABLE_NAME}'\"))"
   ]
  },
  {
   "cell_type": "markdown",
   "id": "ef02461a-8f1c-4973-965f-909c619f47c8",
   "metadata": {},
   "source": [
    "### Add, Retrieve, And Delete Rows\n",
    "\n",
    "Learn about inserting, retrieving and deleting records/rows with the following simple examples."
   ]
  },
  {
   "cell_type": "markdown",
   "id": "705ca09e-6e39-4cc9-a366-11896a31a1c5",
   "metadata": {},
   "source": [
    "#### Get A Record\n",
    "\n",
    "Dictionaries for each record/row are stored in `content_chunks` from earlier in this workflow:"
   ]
  },
  {
   "cell_type": "code",
   "execution_count": 47,
   "id": "a83315a7-083b-4568-af1b-b8373235f562",
   "metadata": {
    "tags": []
   },
   "outputs": [],
   "source": [
    "first_record = content_chunks[0].copy()"
   ]
  },
  {
   "cell_type": "code",
   "execution_count": 48,
   "id": "dadb9d64-f653-42d7-8b04-3ce9ac6f7921",
   "metadata": {
    "tags": []
   },
   "outputs": [
    {
     "data": {
      "text/plain": [
       "dict_keys(['gse', 'chunk_id', 'content', 'embedding'])"
      ]
     },
     "execution_count": 48,
     "metadata": {},
     "output_type": "execute_result"
    }
   ],
   "source": [
    "first_record.keys()"
   ]
  },
  {
   "cell_type": "code",
   "execution_count": 49,
   "id": "20885dc3-f818-4958-9262-543361990680",
   "metadata": {
    "tags": []
   },
   "outputs": [
    {
     "data": {
      "text/plain": [
       "'fannie_part_0_c17'"
      ]
     },
     "execution_count": 49,
     "metadata": {},
     "output_type": "execute_result"
    }
   ],
   "source": [
    "first_record['chunk_id']"
   ]
  },
  {
   "cell_type": "code",
   "execution_count": 50,
   "id": "fe9e6983-f309-4b40-adfe-ac4d0c503838",
   "metadata": {
    "tags": []
   },
   "outputs": [
    {
     "data": {
      "text/plain": [
       "list"
      ]
     },
     "execution_count": 50,
     "metadata": {},
     "output_type": "execute_result"
    }
   ],
   "source": [
    "type(first_record['embedding'])"
   ]
  },
  {
   "cell_type": "markdown",
   "id": "62a253f6-6490-4bcd-9033-0c36e49cbfec",
   "metadata": {},
   "source": [
    "Convert embedding to string for storage in MySQL. Later in this workflow the vector extension will be added and these values can be converted to a native vector type."
   ]
  },
  {
   "cell_type": "code",
   "execution_count": 51,
   "id": "006a942d-8499-42c4-a752-b9936638df4d",
   "metadata": {
    "tags": []
   },
   "outputs": [],
   "source": [
    "first_record['embedding'] = json.dumps(first_record['embedding'])"
   ]
  },
  {
   "cell_type": "code",
   "execution_count": 52,
   "id": "99c9545b-7a7e-4720-9be1-f817b29a781d",
   "metadata": {
    "tags": []
   },
   "outputs": [
    {
     "data": {
      "text/plain": [
       "str"
      ]
     },
     "execution_count": 52,
     "metadata": {},
     "output_type": "execute_result"
    }
   ],
   "source": [
    "type(first_record['embedding'])"
   ]
  },
  {
   "cell_type": "code",
   "execution_count": 53,
   "id": "9f7d6072-c8e1-4c7d-9f27-f333c188d9b2",
   "metadata": {
    "tags": []
   },
   "outputs": [
    {
     "data": {
      "text/plain": [
       "'[0.031277116388082504, 0.03056905046105385, 0.0108 ... 255325, 0.06677839905023575, -0.03832581639289856]'"
      ]
     },
     "execution_count": 53,
     "metadata": {},
     "output_type": "execute_result"
    }
   ],
   "source": [
    "first_record['embedding'][0:50] + ' ... ' + first_record['embedding'][-50:]"
   ]
  },
  {
   "cell_type": "markdown",
   "id": "a2c5ea14-b8af-490d-a800-7eecf4fdbd8e",
   "metadata": {},
   "source": [
    "#### Insert Row"
   ]
  },
  {
   "cell_type": "code",
   "execution_count": 54,
   "id": "d1698049-7eb0-4d89-a8dc-35e4455cb0e6",
   "metadata": {},
   "outputs": [],
   "source": [
    "table = sqlalchemy.Table(\n",
    "    CLOUDSQL_TABLE_NAME,\n",
    "    sqlalchemy.MetaData(),\n",
    "    autoload_with = sync_pool\n",
    ")"
   ]
  },
  {
   "cell_type": "code",
   "execution_count": 55,
   "id": "d7686c46-7920-4fb2-97b6-0812685048fe",
   "metadata": {},
   "outputs": [
    {
     "name": "stdout",
     "output_type": "stream",
     "text": [
      "retrieval_cloudsql_mysql.chunk_id\n",
      "retrieval_cloudsql_mysql.gse\n",
      "retrieval_cloudsql_mysql.content\n",
      "retrieval_cloudsql_mysql.embedding\n"
     ]
    }
   ],
   "source": [
    "for c in table.columns:\n",
    "    print(c)"
   ]
  },
  {
   "cell_type": "code",
   "execution_count": 56,
   "id": "ca26ce17-6cc9-4d58-907e-933eae62103f",
   "metadata": {
    "tags": []
   },
   "outputs": [],
   "source": [
    "insert_row = sqlalchemy.insert(table).values(first_record)"
   ]
  },
  {
   "cell_type": "code",
   "execution_count": 57,
   "id": "127f84c1-5c8b-4cbb-984b-33fa06d5ca6a",
   "metadata": {
    "tags": []
   },
   "outputs": [
    {
     "data": {
      "text/plain": [
       "[]"
      ]
     },
     "execution_count": 57,
     "metadata": {},
     "output_type": "execute_result"
    }
   ],
   "source": [
    "run_query(insert_row)"
   ]
  },
  {
   "cell_type": "markdown",
   "id": "3231ace1-799b-4a63-ac4a-43e748416535",
   "metadata": {},
   "source": [
    "#### Retrieve Row\n",
    "\n",
    "There are two helpful ways to retrieve rows.  Both with SQL and with the sqlalchemy clients `select` method.  Both are demonstrated here."
   ]
  },
  {
   "cell_type": "markdown",
   "id": "a2755d8f-c127-4159-aed5-059331b820b7",
   "metadata": {},
   "source": [
    "Using SQL:"
   ]
  },
  {
   "cell_type": "code",
   "execution_count": 58,
   "id": "7d5b1d88-508e-4339-a09d-56776baa61d1",
   "metadata": {
    "tags": []
   },
   "outputs": [],
   "source": [
    "query = sqlalchemy.text(f\"SELECT * FROM `{CLOUDSQL_TABLE_NAME}` WHERE chunk_id = '{first_record['chunk_id']}'\")\n",
    "result = run_query(query)"
   ]
  },
  {
   "cell_type": "code",
   "execution_count": 59,
   "id": "a263ccda-910c-4a00-90c4-6862ecc41bd3",
   "metadata": {
    "tags": []
   },
   "outputs": [
    {
     "data": {
      "text/plain": [
       "dict_keys(['chunk_id', 'gse', 'content', 'embedding'])"
      ]
     },
     "execution_count": 59,
     "metadata": {},
     "output_type": "execute_result"
    }
   ],
   "source": [
    "result.keys()"
   ]
  },
  {
   "cell_type": "code",
   "execution_count": 60,
   "id": "52109662-5de4-4106-b50b-abee3648588d",
   "metadata": {
    "tags": []
   },
   "outputs": [
    {
     "data": {
      "text/plain": [
       "'fannie_part_0_c17'"
      ]
     },
     "execution_count": 60,
     "metadata": {},
     "output_type": "execute_result"
    }
   ],
   "source": [
    "result['chunk_id']"
   ]
  },
  {
   "cell_type": "markdown",
   "id": "c126a4c1-e10a-4a28-8c9e-90e2f648e013",
   "metadata": {},
   "source": [
    "Using sqlalchemy clients `select` method:"
   ]
  },
  {
   "cell_type": "code",
   "execution_count": 61,
   "id": "617c2484-7a3a-4266-9ae5-7474091cdf33",
   "metadata": {
    "tags": []
   },
   "outputs": [],
   "source": [
    "query = sqlalchemy.select(table).where(table.columns.chunk_id == first_record['chunk_id'])\n",
    "result = run_query(query)"
   ]
  },
  {
   "cell_type": "code",
   "execution_count": 62,
   "id": "2623c120-1082-4460-a707-0679ca9ca1fa",
   "metadata": {
    "tags": []
   },
   "outputs": [
    {
     "data": {
      "text/plain": [
       "dict_keys(['chunk_id', 'gse', 'content', 'embedding'])"
      ]
     },
     "execution_count": 62,
     "metadata": {},
     "output_type": "execute_result"
    }
   ],
   "source": [
    "result.keys()"
   ]
  },
  {
   "cell_type": "code",
   "execution_count": 63,
   "id": "2563c83b-a9f1-441f-a12c-1daddfb8247d",
   "metadata": {
    "tags": []
   },
   "outputs": [
    {
     "data": {
      "text/plain": [
       "'fannie_part_0_c17'"
      ]
     },
     "execution_count": 63,
     "metadata": {},
     "output_type": "execute_result"
    }
   ],
   "source": [
    "result['chunk_id']"
   ]
  },
  {
   "cell_type": "code",
   "execution_count": 64,
   "id": "63134336-8224-43f6-ac6f-864b45a8c8d3",
   "metadata": {
    "tags": []
   },
   "outputs": [
    {
     "data": {
      "text/plain": [
       "str"
      ]
     },
     "execution_count": 64,
     "metadata": {},
     "output_type": "execute_result"
    }
   ],
   "source": [
    "type(result['embedding'])"
   ]
  },
  {
   "cell_type": "code",
   "execution_count": 65,
   "id": "ba8a0dd0-cc17-4704-a74e-d91f64da0588",
   "metadata": {
    "tags": []
   },
   "outputs": [
    {
     "data": {
      "text/plain": [
       "[0.031277116388082504,\n",
       " 0.03056905046105385,\n",
       " 0.010865348391234875,\n",
       " 0.0623614676296711,\n",
       " 0.03228681534528732,\n",
       " 0.05066155269742012,\n",
       " 0.046544693410396576,\n",
       " 0.05509665608406067,\n",
       " -0.014074751175940037,\n",
       " 0.008380400016903877]"
      ]
     },
     "execution_count": 65,
     "metadata": {},
     "output_type": "execute_result"
    }
   ],
   "source": [
    "json.loads(result['embedding'])[0:10]"
   ]
  },
  {
   "cell_type": "markdown",
   "id": "ba0b641f-8234-4ed3-a1cd-af14c290d5f4",
   "metadata": {},
   "source": [
    "#### Delete Row\n",
    "\n",
    "Delete the row added here.  Verify the action by counting the rows before and after the deletion."
   ]
  },
  {
   "cell_type": "code",
   "execution_count": 66,
   "id": "05b05836-7a7a-4c7f-9ebe-46444e872511",
   "metadata": {
    "tags": []
   },
   "outputs": [
    {
     "data": {
      "text/plain": [
       "{'count': 1}"
      ]
     },
     "execution_count": 66,
     "metadata": {},
     "output_type": "execute_result"
    }
   ],
   "source": [
    "run_query(sqlalchemy.text(f\"SELECT COUNT(*) as count FROM `{CLOUDSQL_TABLE_NAME}`\"))"
   ]
  },
  {
   "cell_type": "code",
   "execution_count": 67,
   "id": "8edb1020-18a3-4600-b2d4-36caf6b41469",
   "metadata": {
    "tags": []
   },
   "outputs": [
    {
     "data": {
      "text/plain": [
       "[]"
      ]
     },
     "execution_count": 67,
     "metadata": {},
     "output_type": "execute_result"
    }
   ],
   "source": [
    "run_query(sqlalchemy.text(f\"DELETE FROM `{CLOUDSQL_TABLE_NAME}` WHERE chunk_id = '{first_record['chunk_id']}'\"))"
   ]
  },
  {
   "cell_type": "code",
   "execution_count": 68,
   "id": "02f9233b-2fc2-4629-ba0a-7b2e03c83981",
   "metadata": {
    "tags": []
   },
   "outputs": [
    {
     "data": {
      "text/plain": [
       "{'count': 0}"
      ]
     },
     "execution_count": 68,
     "metadata": {},
     "output_type": "execute_result"
    }
   ],
   "source": [
    "run_query(sqlalchemy.text(f\"SELECT COUNT(*) as count FROM `{CLOUDSQL_TABLE_NAME}`\"))"
   ]
  },
  {
   "cell_type": "markdown",
   "id": "8051c78f-de52-420f-ac52-a91dcc7a0e55",
   "metadata": {},
   "source": [
    "---\n",
    "## Load Data \n",
    "\n",
    "There are a lot of rows to load and this workflow uses concurrency with `concurrent.futures` since there is not an async driver for the connection (described earlier).  The expected computation for each tasks is minimal so it should be ok to request many more threads than this compute environment has CPUs for.  In this case 1000 threads are used on a 4 vCPU machine and all 9000+ records are written in only a few seconds."
   ]
  },
  {
   "cell_type": "markdown",
   "id": "fd92a2b9-2610-4576-8b72-61100e313960",
   "metadata": {},
   "source": [
    "Convert the embeddings to string values:"
   ]
  },
  {
   "cell_type": "code",
   "execution_count": 69,
   "id": "f19a9966-9f6f-463e-91c7-d6cb451214d0",
   "metadata": {
    "tags": []
   },
   "outputs": [],
   "source": [
    "prep_content_chunks  = copy.deepcopy(content_chunks)\n",
    "for chunk in prep_content_chunks:\n",
    "    chunk['embedding'] = json.dumps(chunk['embedding'])"
   ]
  },
  {
   "cell_type": "markdown",
   "id": "8e165e1a-6b7e-4586-89e6-81048ff3e1e9",
   "metadata": {},
   "source": [
    "Create a list of queries, one for each record to insert:"
   ]
  },
  {
   "cell_type": "code",
   "execution_count": 70,
   "id": "4d0b52ae-0c57-46c0-9e58-9369ab0e8850",
   "metadata": {
    "tags": []
   },
   "outputs": [],
   "source": [
    "queries = [sqlalchemy.insert(table).values(c) for c in prep_content_chunks]"
   ]
  },
  {
   "cell_type": "markdown",
   "id": "c3284c88-b873-4899-b5c5-98ea8fbafec4",
   "metadata": {},
   "source": [
    "Launch all the queries across 1000 threads and managed with the [ThreadPoolExecutor](https://docs.python.org/3/library/concurrent.futures.html#threadpoolexecutor):"
   ]
  },
  {
   "cell_type": "code",
   "execution_count": 71,
   "id": "6b53c440-2d35-48b7-9dfc-f17acc7d2b55",
   "metadata": {
    "tags": []
   },
   "outputs": [],
   "source": [
    "with concurrent.futures.ThreadPoolExecutor(max_workers = 1000) as executor:\n",
    "    futures = [executor.submit(run_query, query) for query in queries]"
   ]
  },
  {
   "cell_type": "markdown",
   "id": "fc5a5f9d-276f-4e87-954c-da3e73ff61e7",
   "metadata": {},
   "source": [
    "Verify the results with a row count:"
   ]
  },
  {
   "cell_type": "code",
   "execution_count": 72,
   "id": "c4a08d53-1706-4a16-8420-dd60e2075074",
   "metadata": {
    "tags": []
   },
   "outputs": [
    {
     "data": {
      "text/plain": [
       "{'count': 9040}"
      ]
     },
     "execution_count": 72,
     "metadata": {},
     "output_type": "execute_result"
    }
   ],
   "source": [
    "run_query(sqlalchemy.text(f\"SELECT COUNT(*) as count FROM `{CLOUDSQL_TABLE_NAME}`\"))"
   ]
  },
  {
   "cell_type": "markdown",
   "id": "eb28a28f-d4af-446b-9b15-c39fca59f748",
   "metadata": {},
   "source": [
    "---\n",
    "## Setup Cloud SQL For MySQL For Vector Similarity Search\n",
    "\n",
    "[Working with vector embeddings](https://cloud.google.com/sql/docs/mysql/work-with-vectors) requires [configuring the instance](https://cloud.google.com/sql/docs/mysql/work-with-vectors#configure-instance) to support vectors.  Vector indexes are held in memory and the allocation for memory used by vector indexes can be [set on the instance](https://cloud.google.com/sql/docs/mysql/work-with-vectors#manage-memory-indexes) and defaults to 1GB with an upper limit of half the buffer pool size.\n",
    "\n",
    "There are two primary [limitations](https://cloud.google.com/sql/docs/mysql/work-with-vectors#limitations) to work with:\n",
    "- Only one vector column per table\n",
    "- Only one vector search indnex per table"
   ]
  },
  {
   "cell_type": "markdown",
   "id": "98b7d98d-b19e-4b3f-95ce-3db588d07450",
   "metadata": {},
   "source": [
    "### Verify Version of MySQL\n",
    "\n",
    "Check the [Required version of MySQL](https://cloud.google.com/sql/docs/mysql/work-with-vectors#before-you-begin).  If necessary update the instance version with [`gcloud sql instances patch`](https://cloud.google.com/sdk/gcloud/reference/sql/instances/patch) for:\n",
    "- [Upgrade the database major version in-place]()https://cloud.google.com/sql/docs/mysql/upgrade-major-db-version-inplace#perform-upgrade\n",
    "- [Upgrade the database minor version in-place](https://cloud.google.com/sql/docs/mysql/upgrade-minor-db-version#minor-ver-upgrade)"
   ]
  },
  {
   "cell_type": "code",
   "execution_count": 257,
   "id": "4895e350-0142-43df-8160-4d4fd8cd9ee1",
   "metadata": {
    "tags": []
   },
   "outputs": [
    {
     "data": {
      "text/plain": [
       "'MYSQL_8_0_36.R20241020.00_00'"
      ]
     },
     "execution_count": 257,
     "metadata": {},
     "output_type": "execute_result"
    }
   ],
   "source": [
    "instance_describe['maintenanceVersion']"
   ]
  },
  {
   "cell_type": "code",
   "execution_count": 258,
   "id": "5144f09a-7783-42c1-b511-8a8f31519db2",
   "metadata": {
    "tags": []
   },
   "outputs": [
    {
     "data": {
      "text/plain": [
       "[{'displayName': 'MySQL 8.0.35',\n",
       "  'majorVersion': 'MYSQL_8_0',\n",
       "  'name': 'MYSQL_8_0_35'},\n",
       " {'displayName': 'MySQL 8.0.37',\n",
       "  'majorVersion': 'MYSQL_8_0',\n",
       "  'name': 'MYSQL_8_0_37'},\n",
       " {'displayName': 'MySQL 8.0.39',\n",
       "  'majorVersion': 'MYSQL_8_0',\n",
       "  'name': 'MYSQL_8_0_39'}]"
      ]
     },
     "execution_count": 258,
     "metadata": {},
     "output_type": "execute_result"
    }
   ],
   "source": [
    "instance_describe['upgradableDatabaseVersions']"
   ]
  },
  {
   "cell_type": "code",
   "execution_count": 259,
   "id": "3875bffe-28a5-4406-8367-cdfa9ab66216",
   "metadata": {
    "tags": []
   },
   "outputs": [],
   "source": [
    "#instance_patch = !gcloud sql instances patch $CLOUDSQL_INSTANCE_NAME --database-version= --quiet"
   ]
  },
  {
   "cell_type": "code",
   "execution_count": 260,
   "id": "0d0e9659-5857-4f39-b197-30b5c932f525",
   "metadata": {
    "tags": []
   },
   "outputs": [],
   "source": [
    "#instance_describe = !gcloud sql instances describe $CLOUDSQL_INSTANCE_NAME --format=json\n",
    "#instance_describe = json.loads(''.join(instance_describe))"
   ]
  },
  {
   "cell_type": "markdown",
   "id": "57f34044-e705-4581-8b3e-3bc0070b66d0",
   "metadata": {},
   "source": [
    "### Enable Vector Features\n",
    "\n",
    "[Enable vector features](https://cloud.google.com/sql/docs/mysql/work-with-vectors#enable-support)"
   ]
  },
  {
   "cell_type": "code",
   "execution_count": 77,
   "id": "31be7e31-7ae0-446b-847c-dab5277b404d",
   "metadata": {
    "tags": []
   },
   "outputs": [],
   "source": [
    "enable_vector = !gcloud sql instances patch $CLOUDSQL_INSTANCE_NAME --database-flags=cloudsql_vector=on --quiet"
   ]
  },
  {
   "cell_type": "code",
   "execution_count": 78,
   "id": "bf81fb07-79f1-402a-b6f9-f08eeab30744",
   "metadata": {
    "tags": []
   },
   "outputs": [
    {
     "data": {
      "text/plain": [
       "['The following message will be used for the patch API method.',\n",
       " '{\"name\": \"retrieval-cloudsql-mysql\", \"project\": \"statmike-mlops-349915\", \"settings\": {\"databaseFlags\": [{\"name\": \"cloudsql_vector\", \"value\": \"on\"}]}}',\n",
       " 'Patching Cloud SQL instance...',\n",
       " '......done.',\n",
       " 'Updated [https://sqladmin.googleapis.com/sql/v1beta4/projects/statmike-mlops-349915/instances/retrieval-cloudsql-mysql].']"
      ]
     },
     "execution_count": 78,
     "metadata": {},
     "output_type": "execute_result"
    }
   ],
   "source": [
    "enable_vector"
   ]
  },
  {
   "cell_type": "markdown",
   "id": "16d27dac-da52-4a99-859a-9e450c65ec9c",
   "metadata": {},
   "source": [
    "Update the connection after the instance is updated/patched:"
   ]
  },
  {
   "cell_type": "code",
   "execution_count": 140,
   "id": "125dab7d-0f7b-4ab7-9868-31f907e2842c",
   "metadata": {
    "tags": []
   },
   "outputs": [],
   "source": [
    "sync_pool.dispose()\n",
    "sync_connector.close()\n",
    "sync_connector = google.cloud.sql.connector.Connector()\n",
    "sync_pool = get_sync_pool(sync_connector, CLOUDSQL_DATABASE_NAME)"
   ]
  },
  {
   "cell_type": "markdown",
   "id": "b0f99310-5ada-46a2-bb07-72f6ebc27caf",
   "metadata": {},
   "source": [
    "### Create `embedding_vector` Column As Vector Data Type\n",
    "\n",
    "The data was loaded/inserted above with the embedding stored in a column named 'embedding' as an string representation of an array of float values.  This column can now be use to create a new column, `embedding_vector`, with the data in the `VARBINARY` data type in `VECTOR` form.\n",
    "\n",
    "To [store vector embedding](https://cloud.google.com/sql/docs/mysql/work-with-vectors#store-vector-embeddings) use:\n",
    "\n",
    "- Create columns as VECTOR(dim) with the VARBINARY extension:\n",
    "    - ```embedding_vector VECTOR(768) USING VARBINARY```\n",
    "- Functions to convert string represention to vectors and back:\n",
    "    - ```string_to_vector('[]')```\n",
    "    - ```vector_to_string()```"
   ]
  },
  {
   "cell_type": "code",
   "execution_count": 82,
   "id": "2a59e159-7e6f-4c3f-b816-7cbae8583f36",
   "metadata": {
    "tags": []
   },
   "outputs": [
    {
     "data": {
      "text/plain": [
       "[]"
      ]
     },
     "execution_count": 82,
     "metadata": {},
     "output_type": "execute_result"
    }
   ],
   "source": [
    "run_query(sqlalchemy.text(f\"ALTER TABLE `{CLOUDSQL_TABLE_NAME}` ADD COLUMN embedding_vector VECTOR({len(question_embedding)}) USING VARBINARY;\"))"
   ]
  },
  {
   "cell_type": "code",
   "execution_count": 83,
   "id": "e62d2e11-9ab5-4f13-a7f8-e2a6b5c81f84",
   "metadata": {
    "tags": []
   },
   "outputs": [
    {
     "data": {
      "text/plain": [
       "[{'COLUMN_NAME': 'chunk_id', 'DATA_TYPE': 'varchar'},\n",
       " {'COLUMN_NAME': 'content', 'DATA_TYPE': 'text'},\n",
       " {'COLUMN_NAME': 'embedding', 'DATA_TYPE': 'text'},\n",
       " {'COLUMN_NAME': 'embedding_vector', 'DATA_TYPE': 'varbinary'},\n",
       " {'COLUMN_NAME': 'gse', 'DATA_TYPE': 'varchar'}]"
      ]
     },
     "execution_count": 83,
     "metadata": {},
     "output_type": "execute_result"
    }
   ],
   "source": [
    "run_query(sqlalchemy.text(f\"SELECT column_name, data_type FROM information_schema.columns WHERE table_name = '{CLOUDSQL_TABLE_NAME}'\"))"
   ]
  },
  {
   "cell_type": "code",
   "execution_count": 84,
   "id": "520f5a04-abe8-41d5-aed8-dc1ce50a9593",
   "metadata": {
    "tags": []
   },
   "outputs": [
    {
     "data": {
      "text/plain": [
       "[]"
      ]
     },
     "execution_count": 84,
     "metadata": {},
     "output_type": "execute_result"
    }
   ],
   "source": [
    "run_query(sqlalchemy.text(f\"UPDATE `{CLOUDSQL_TABLE_NAME}` SET embedding_vector = string_to_vector(embedding)\"))"
   ]
  },
  {
   "cell_type": "code",
   "execution_count": 85,
   "id": "ff74d85f-f375-45ec-a541-27ffa3f409ee",
   "metadata": {
    "tags": []
   },
   "outputs": [
    {
     "data": {
      "text/plain": [
       "dict_keys(['chunk_id', 'gse', 'content', 'embedding', 'embedding_vector'])"
      ]
     },
     "execution_count": 85,
     "metadata": {},
     "output_type": "execute_result"
    }
   ],
   "source": [
    "query = sqlalchemy.text(f\"SELECT *, vector_to_string(embedding_vector) as embedding_vector FROM `{CLOUDSQL_TABLE_NAME}` WHERE chunk_id = '{first_record['chunk_id']}'\")\n",
    "result = run_query(query)\n",
    "result.keys()"
   ]
  },
  {
   "cell_type": "code",
   "execution_count": 86,
   "id": "6220cf1e-c157-4a90-8219-0190aa5d7f6d",
   "metadata": {
    "tags": []
   },
   "outputs": [
    {
     "data": {
      "text/plain": [
       "str"
      ]
     },
     "execution_count": 86,
     "metadata": {},
     "output_type": "execute_result"
    }
   ],
   "source": [
    "type(result['embedding_vector'])"
   ]
  },
  {
   "cell_type": "code",
   "execution_count": 87,
   "id": "b1baa466-b2f5-4a40-942e-63ba28032497",
   "metadata": {
    "tags": []
   },
   "outputs": [
    {
     "data": {
      "text/plain": [
       "'[0.0312771,0.0305691,0.0108653,0.0623615,0.0322868,0.0506616,0.0465447,0.0550967,-0.0140748,0.008380'"
      ]
     },
     "execution_count": 87,
     "metadata": {},
     "output_type": "execute_result"
    }
   ],
   "source": [
    "result['embedding_vector'][0:100]"
   ]
  },
  {
   "cell_type": "markdown",
   "id": "7ce5c66f-19b5-455b-8190-2dce14076516",
   "metadata": {},
   "source": [
    "---\n",
    "## Vector Similarity Search, Matching\n",
    "\n",
    "This section covers the operation of using a vector similarity metric calculation to find nearest neighbors for a query vector while also taking advantage of indexing.  To understand similarity metrics and motivate the intution for choosing one (choose dot product), check out [The Math of Similarity](../Embeddings/The%20Math%20of%20Similarity.ipynb).\n"
   ]
  },
  {
   "cell_type": "markdown",
   "id": "13199b68-232d-4d74-84f2-1fa9e34f6794",
   "metadata": {},
   "source": [
    "### Check For Vector Indexes\n",
    "\n",
    "At this point in the workflow no vector indexes have been created.  The following cells show how to check for indexes and will be reused later in the workflow to verify the details of indexes after they are created."
   ]
  },
  {
   "cell_type": "markdown",
   "id": "f8eab9bd-0ae4-40dc-839b-6c5d6b6aef18",
   "metadata": {},
   "source": [
    "The system table `mysql.vector_indexes` lists indexes available by database and table on the instance:"
   ]
  },
  {
   "cell_type": "code",
   "execution_count": 145,
   "id": "0a6f464d-e171-4726-9559-e941a41b82ab",
   "metadata": {
    "tags": []
   },
   "outputs": [
    {
     "data": {
      "text/plain": [
       "[]"
      ]
     },
     "execution_count": 145,
     "metadata": {},
     "output_type": "execute_result"
    }
   ],
   "source": [
    "run_query(sqlalchemy.text(f\"SELECT * FROM mysql.vector_indexes\"))"
   ]
  },
  {
   "cell_type": "markdown",
   "id": "5d749416-93c0-47af-971a-da6ba0800865",
   "metadata": {},
   "source": [
    "The `information_schema.innodb_vector_indexes` view contains detail information about each index in the instance:"
   ]
  },
  {
   "cell_type": "code",
   "execution_count": 141,
   "id": "bba1277a-3066-4eb7-8d8f-46ca2d0fbff1",
   "metadata": {
    "tags": []
   },
   "outputs": [
    {
     "data": {
      "text/plain": [
       "{'INDEX_NAME': 'applied_genai.embedding_index',\n",
       " 'TABLE_NAME': 'applied_genai.retrieval_cloudsql_mysql',\n",
       " 'INDEX_TYPE': 'BRUTE_FORCE',\n",
       " 'DIMENSION': 768,\n",
       " 'DIST_MEASURE': 'DotProductDistance',\n",
       " 'STATUS': 'Ready',\n",
       " 'STATE': 'INDEX_READY_TO_USE',\n",
       " 'PARTITIONS': 0,\n",
       " 'SEARCH_PARTITIONS': 0,\n",
       " 'INITIAL_SIZE': 9040,\n",
       " 'CURRENT_SIZE': 9040,\n",
       " 'QUERIES': 3,\n",
       " 'MUTATIONS': 0,\n",
       " 'INDEX_MEMORY': 27770880,\n",
       " 'DATASET_MEMORY': 0}"
      ]
     },
     "execution_count": 141,
     "metadata": {},
     "output_type": "execute_result"
    }
   ],
   "source": [
    "run_query(sqlalchemy.text(f\"SELECT * FROM information_schema.innodb_vector_indexes\"))"
   ]
  },
  {
   "cell_type": "markdown",
   "id": "4daea0a2-aa67-4b48-bf79-73d7cef76ec9",
   "metadata": {},
   "source": [
    "### Brute Force Search - No Index\n",
    "\n",
    "Without an index you can still use distance measures to find nearest neighbor matches through brute force search that compare a query embedding to all rows.\n",
    "\n",
    "Easily run a brute force (compare to all rows) match with a choice of distance measure:\n",
    "- `cosine_distance` for Cosine distance\n",
    "- `l2_squared_distance` for L2, Euclidean distance\n",
    "    - Note that this is the square of L2 rather than L2.  This is an easier computation, faster, since it eliminates a square root operation.  Read more about these metrics and their calculation in [The Math of Similarity](../Embeddings/The%20Math%20of%20Similarity.ipynb).\n",
    "- `dot_product` for Dot product"
   ]
  },
  {
   "cell_type": "markdown",
   "id": "1288c468-99ac-4540-a52c-376f6688fa0b",
   "metadata": {},
   "source": [
    "Dot product with `dot_product()`:"
   ]
  },
  {
   "cell_type": "code",
   "execution_count": 150,
   "id": "0f618b6e-b0f3-47f4-8501-f3a6ac2388a3",
   "metadata": {
    "tags": []
   },
   "outputs": [
    {
     "data": {
      "text/plain": [
       "[{'chunk_id': 'fannie_part_0_c352', 'dot_product': -0.7099842034905741},\n",
       " {'chunk_id': 'freddie_part_4_c509', 'dot_product': -0.6805260858670844},\n",
       " {'chunk_id': 'freddie_part_4_c510', 'dot_product': -0.675329698947003},\n",
       " {'chunk_id': 'fannie_part_0_c353', 'dot_product': -0.6723706805978971},\n",
       " {'chunk_id': 'fannie_part_0_c326', 'dot_product': -0.6683496294372162}]"
      ]
     },
     "execution_count": 150,
     "metadata": {},
     "output_type": "execute_result"
    }
   ],
   "source": [
    "run_query(sqlalchemy.text(f\"\"\"\n",
    "    SELECT\n",
    "        chunk_id,\n",
    "        dot_product(embedding_vector, string_to_vector('{str(question_embedding)}')) AS dot_product\n",
    "    FROM `{CLOUDSQL_TABLE_NAME}`\n",
    "    ORDER BY dot_product\n",
    "    LIMIT 5\n",
    "\"\"\"))"
   ]
  },
  {
   "cell_type": "markdown",
   "id": "8b46b621-6e70-49ee-84f4-924a06097a8e",
   "metadata": {},
   "source": [
    "Euclidean distance with `l2_squared_distance()`:"
   ]
  },
  {
   "cell_type": "code",
   "execution_count": 152,
   "id": "47853ddb-09b2-4747-b0ab-926518e7ad43",
   "metadata": {
    "tags": []
   },
   "outputs": [
    {
     "data": {
      "text/plain": [
       "[{'chunk_id': 'fannie_part_0_c352', 'euclidean_distance': 0.5799824894033581},\n",
       " {'chunk_id': 'freddie_part_4_c509', 'euclidean_distance': 0.63886055817837},\n",
       " {'chunk_id': 'freddie_part_4_c510', 'euclidean_distance': 0.6492892334551303},\n",
       " {'chunk_id': 'fannie_part_0_c353', 'euclidean_distance': 0.6551829273195239},\n",
       " {'chunk_id': 'fannie_part_0_c326', 'euclidean_distance': 0.6632886194891773}]"
      ]
     },
     "execution_count": 152,
     "metadata": {},
     "output_type": "execute_result"
    }
   ],
   "source": [
    "run_query(sqlalchemy.text(f\"\"\"\n",
    "    SELECT\n",
    "        chunk_id,\n",
    "        l2_squared_distance(embedding_vector, string_to_vector('{str(question_embedding)}')) AS euclidean_distance\n",
    "    FROM `{CLOUDSQL_TABLE_NAME}`\n",
    "    ORDER BY euclidean_distance\n",
    "    LIMIT 5\n",
    "\"\"\"))"
   ]
  },
  {
   "cell_type": "markdown",
   "id": "91c44bed-801f-4005-8fa3-c4d0472637fc",
   "metadata": {},
   "source": [
    "Cosine similarity with `cosine_distance()`:"
   ]
  },
  {
   "cell_type": "code",
   "execution_count": 153,
   "id": "5e717523-4b21-4a31-8087-03abfaaff9fb",
   "metadata": {
    "tags": []
   },
   "outputs": [
    {
     "data": {
      "text/plain": [
       "[{'chunk_id': 'fannie_part_0_c352', 'cosine_distance': 0.28999836618279184},\n",
       " {'chunk_id': 'freddie_part_4_c509', 'cosine_distance': 0.319444218286727},\n",
       " {'chunk_id': 'freddie_part_4_c510', 'cosine_distance': 0.32465295628697444},\n",
       " {'chunk_id': 'fannie_part_0_c353', 'cosine_distance': 0.32760386778331907},\n",
       " {'chunk_id': 'fannie_part_0_c326', 'cosine_distance': 0.3316463216836467}]"
      ]
     },
     "execution_count": 153,
     "metadata": {},
     "output_type": "execute_result"
    }
   ],
   "source": [
    "run_query(sqlalchemy.text(f\"\"\"\n",
    "    SELECT\n",
    "        chunk_id,\n",
    "        cosine_distance(embedding_vector, string_to_vector('{str(question_embedding)}')) AS cosine_distance\n",
    "    FROM `{CLOUDSQL_TABLE_NAME}`\n",
    "    ORDER BY cosine_distance\n",
    "    LIMIT 5\n",
    "\"\"\"))"
   ]
  },
  {
   "cell_type": "markdown",
   "id": "bb221a64-2b9a-4b6d-ab58-04bf32307b13",
   "metadata": {},
   "source": [
    "### Brute Force Search With Pre-Filtering - No Index\n",
    "\n",
    "Extending a brute force match with pre-filtering means including a `WHERE` statement to first filter to row that meet a desired condition:"
   ]
  },
  {
   "cell_type": "markdown",
   "id": "96297cdf-852c-4c95-9f2f-45a37db2d268",
   "metadata": {},
   "source": [
    "Find the top 5 matches where the GSE is 'fannie':"
   ]
  },
  {
   "cell_type": "code",
   "execution_count": 154,
   "id": "fafa0b41-56cd-4d23-b3a7-b19313aa77d5",
   "metadata": {
    "tags": []
   },
   "outputs": [
    {
     "data": {
      "text/plain": [
       "[{'chunk_id': 'fannie_part_0_c352', 'dot_product': -0.7099842034905741},\n",
       " {'chunk_id': 'fannie_part_0_c353', 'dot_product': -0.6723706805978971},\n",
       " {'chunk_id': 'fannie_part_0_c326', 'dot_product': -0.6683496294372162},\n",
       " {'chunk_id': 'fannie_part_0_c92', 'dot_product': -0.6614337365039091},\n",
       " {'chunk_id': 'fannie_part_0_c240', 'dot_product': -0.6608578612144242}]"
      ]
     },
     "execution_count": 154,
     "metadata": {},
     "output_type": "execute_result"
    }
   ],
   "source": [
    "run_query(sqlalchemy.text(f\"\"\"\n",
    "    SELECT\n",
    "        chunk_id,\n",
    "        dot_product(embedding_vector, string_to_vector('{str(question_embedding)}')) AS dot_product\n",
    "    FROM `{CLOUDSQL_TABLE_NAME}`\n",
    "    WHERE gse = 'fannie'\n",
    "    ORDER BY dot_product\n",
    "    LIMIT 5\n",
    "\"\"\"))"
   ]
  },
  {
   "cell_type": "markdown",
   "id": "b11f2c56-7634-402a-b51b-a8a182462d92",
   "metadata": {},
   "source": [
    "Find the top 5 matches where the GSE is 'freddie':"
   ]
  },
  {
   "cell_type": "code",
   "execution_count": 155,
   "id": "0daef6e2-78be-40ab-b2b2-068ca480af9f",
   "metadata": {
    "tags": []
   },
   "outputs": [
    {
     "data": {
      "text/plain": [
       "[{'chunk_id': 'freddie_part_4_c509', 'dot_product': -0.6805260858670844},\n",
       " {'chunk_id': 'freddie_part_4_c510', 'dot_product': -0.675329698947003},\n",
       " {'chunk_id': 'freddie_part_4_c472', 'dot_product': -0.6619843865670703},\n",
       " {'chunk_id': 'freddie_part_6_c439', 'dot_product': -0.660453491838382},\n",
       " {'chunk_id': 'freddie_part_4_c558', 'dot_product': -0.6575403557118698}]"
      ]
     },
     "execution_count": 155,
     "metadata": {},
     "output_type": "execute_result"
    }
   ],
   "source": [
    "run_query(sqlalchemy.text(f\"\"\"\n",
    "    SELECT\n",
    "        chunk_id,\n",
    "        dot_product(embedding_vector, string_to_vector('{str(question_embedding)}')) AS dot_product\n",
    "    FROM `{CLOUDSQL_TABLE_NAME}`\n",
    "    WHERE gse = 'freddie'\n",
    "    ORDER BY dot_product\n",
    "    LIMIT 5\n",
    "\"\"\"))"
   ]
  },
  {
   "cell_type": "markdown",
   "id": "b61fd59d-c5eb-4e21-afbc-7366fd1694f0",
   "metadata": {},
   "source": [
    "### Create And Use An Index\n",
    "\n",
    "Indexes make search across many rows more efficient by first matching partions of rows and then only comparing to rows within the partions.  This section covers [creating indexes](https://cloud.google.com/sql/docs/mysql/work-with-vectors#create-vector-search-index) and using them in queries.\n",
    "\n",
    "- Brute Force: `BRUTE_FORCE`\n",
    "    - search covers all rows, like using the distance measures above\n",
    "        - it can still be helpful to set a index of this type to pre-set a default number of nearest neighbors and make use of the `NEAREST() ... TO ()` predictate. Also, since indexes are held in memory it can be faster to scan all rows with an index.\n",
    "    - This is the default for tables under 10,000 rows\n",
    "- Tree SQ: `TREE_SQ`\n",
    "    - scalable nearest neighbors with k-means\n",
    "    - approximate search\n",
    "    - high accuracy but can be slower for larger datasets\n",
    "    - this is the default for tables with 10,000 or mmore rows\n",
    "- Tree AH: `TREE_AH`\n",
    "    - asymmetric hashing, traverse trees to find nearest neighbors\n",
    "    - scalable and fast for large datasets\n",
    "    \n",
    "Two primary [limitations](https://cloud.google.com/sql/docs/mysql/work-with-vectors#limitations) to work with:\n",
    "- Only one vector column per table\n",
    "- Only one vector search indnex per table\n",
    "\n",
    "**NOTE:** Indexes are used for approximate neighbor search when the `NEAREST ... TO` predicate is used, otherwise, with the use of a distance function all rows (brute force) are scanned."
   ]
  },
  {
   "cell_type": "markdown",
   "id": "5dfaeb7e-38c5-4822-a14f-9489cdf75197",
   "metadata": {},
   "source": [
    "#### Index: `TREE_SQ`"
   ]
  },
  {
   "cell_type": "markdown",
   "id": "ec349e34-8cec-4956-9ae8-8bcd6e3995c4",
   "metadata": {},
   "source": [
    "Create the index:"
   ]
  },
  {
   "cell_type": "code",
   "execution_count": 222,
   "id": "8d668533-c69b-4978-8914-9e42deec88b4",
   "metadata": {},
   "outputs": [
    {
     "data": {
      "text/plain": [
       "[]"
      ]
     },
     "execution_count": 222,
     "metadata": {},
     "output_type": "execute_result"
    }
   ],
   "source": [
    "run_query(sqlalchemy.text(f\"\"\"\n",
    "    call mysql.create_vector_index(\n",
    "        'embedding_index',\n",
    "        '{CLOUDSQL_DATABASE_NAME}.{CLOUDSQL_TABLE_NAME}',\n",
    "        'embedding_vector',\n",
    "        'index_type = tree_sq, distance_measure = dot_product, num_neighbors = 5, num_partitions = 90'\n",
    "    );\n",
    "\"\"\"))"
   ]
  },
  {
   "cell_type": "markdown",
   "id": "aa14ca75-2491-40ae-a010-38ac040e56ce",
   "metadata": {},
   "source": [
    "Review the index details:"
   ]
  },
  {
   "cell_type": "code",
   "execution_count": 160,
   "id": "b4df5e4d-9475-47e2-b88f-7f5a32744bdd",
   "metadata": {
    "tags": []
   },
   "outputs": [
    {
     "data": {
      "text/plain": [
       "{'INDEX_NAME': 'applied_genai.embedding_index',\n",
       " 'TABLE_NAME': 'applied_genai.retrieval_cloudsql_mysql',\n",
       " 'INDEX_TYPE': 'TREE_SQ',\n",
       " 'DIMENSION': 768,\n",
       " 'DIST_MEASURE': 'DotProductDistance',\n",
       " 'STATUS': 'Ready',\n",
       " 'STATE': 'INDEX_READY_TO_USE',\n",
       " 'PARTITIONS': 90,\n",
       " 'SEARCH_PARTITIONS': 53,\n",
       " 'INITIAL_SIZE': 9040,\n",
       " 'CURRENT_SIZE': 9040,\n",
       " 'QUERIES': 0,\n",
       " 'MUTATIONS': 0,\n",
       " 'INDEX_MEMORY': 6942720,\n",
       " 'DATASET_MEMORY': 0}"
      ]
     },
     "execution_count": 160,
     "metadata": {},
     "output_type": "execute_result"
    }
   ],
   "source": [
    "run_query(sqlalchemy.text(f\"SELECT * FROM information_schema.innodb_vector_indexes\"))"
   ]
  },
  {
   "cell_type": "code",
   "execution_count": 161,
   "id": "ada00b78-e9ce-4130-b5da-c9dcdf9581ec",
   "metadata": {
    "tags": []
   },
   "outputs": [
    {
     "data": {
      "text/plain": [
       "{'index_name': 'applied_genai.embedding_index',\n",
       " 'table_name': 'applied_genai.retrieval_cloudsql_mysql',\n",
       " 'column_name': 'embedding_vector',\n",
       " 'index_options': 'index_type = tree_sq, distance_measure = dot_product, num_neighbors = 5, num_partitions = 90',\n",
       " 'status': 'ACTIVE',\n",
       " 'create_time': datetime.datetime(2024, 11, 8, 12, 46, 58),\n",
       " 'update_time': datetime.datetime(2024, 11, 8, 12, 46, 58)}"
      ]
     },
     "execution_count": 161,
     "metadata": {},
     "output_type": "execute_result"
    }
   ],
   "source": [
    "run_query(sqlalchemy.text(f\"SELECT * FROM mysql.vector_indexes\"))"
   ]
  },
  {
   "cell_type": "markdown",
   "id": "87de7885-cb6f-4842-932d-182e6591e843",
   "metadata": {},
   "source": [
    "Use a distance measure directly, like brute force above:"
   ]
  },
  {
   "cell_type": "code",
   "execution_count": 162,
   "id": "94f95fcb-aaa8-413c-ad80-9e592da57b6c",
   "metadata": {
    "tags": []
   },
   "outputs": [
    {
     "data": {
      "text/plain": [
       "[{'chunk_id': 'fannie_part_0_c352', 'dot_product': -0.7099842034905741},\n",
       " {'chunk_id': 'freddie_part_4_c509', 'dot_product': -0.6805260858670844},\n",
       " {'chunk_id': 'freddie_part_4_c510', 'dot_product': -0.675329698947003},\n",
       " {'chunk_id': 'fannie_part_0_c353', 'dot_product': -0.6723706805978971},\n",
       " {'chunk_id': 'fannie_part_0_c326', 'dot_product': -0.6683496294372162}]"
      ]
     },
     "execution_count": 162,
     "metadata": {},
     "output_type": "execute_result"
    }
   ],
   "source": [
    "run_query(sqlalchemy.text(f\"\"\"\n",
    "    SELECT\n",
    "        chunk_id, \n",
    "        dot_product(embedding_vector, string_to_vector('{str(question_embedding)}')) AS dot_product\n",
    "    FROM `{CLOUDSQL_TABLE_NAME}`\n",
    "    ORDER BY dot_product\n",
    "    LIMIT 5\n",
    "\"\"\"))"
   ]
  },
  {
   "cell_type": "markdown",
   "id": "272bc740-e53d-422e-8894-9a376917183b",
   "metadata": {},
   "source": [
    "Use `EXPLAIN ANALYZE` to understand the query execution.  Note that the index was not used:"
   ]
  },
  {
   "cell_type": "code",
   "execution_count": 163,
   "id": "2df0bf48-67c6-47e1-8705-76b2911fa689",
   "metadata": {
    "tags": []
   },
   "outputs": [
    {
     "data": {
      "text/plain": [
       "{'EXPLAIN': '-> Limit: 5 row(s)  (cost=21938 rows=5) (actual time=1751..1751 rows=5 loops=1)\\n    -> Sort: dot_product, limit input to 5 row(s) per chunk  (cost=21938 rows=5625) (actual time=1751..1751 rows=5 loops=1)\\n        -> Table scan on retrieval_cloudsql_mysql  (cost=21938 rows=5625) (actual time=0.0928..19.3 rows=9040 loops=1)\\n'}"
      ]
     },
     "execution_count": 163,
     "metadata": {},
     "output_type": "execute_result"
    }
   ],
   "source": [
    "run_query(sqlalchemy.text(f\"\"\"\n",
    "EXPLAIN ANALYZE\n",
    "    SELECT\n",
    "        chunk_id, \n",
    "        dot_product(embedding_vector, string_to_vector('{str(question_embedding)}')) AS dot_product\n",
    "    FROM `{CLOUDSQL_TABLE_NAME}`\n",
    "    ORDER BY dot_product\n",
    "    LIMIT 5\n",
    "\"\"\"))"
   ]
  },
  {
   "cell_type": "markdown",
   "id": "f2686aae-6efb-42bd-8a73-54adcfc14b49",
   "metadata": {},
   "source": [
    "Now use the `NEAREST ... TO` predicate to invoke the use of the index:"
   ]
  },
  {
   "cell_type": "code",
   "execution_count": 164,
   "id": "89a35d46-dc93-4cd0-984e-377733cf87fd",
   "metadata": {
    "tags": []
   },
   "outputs": [
    {
     "data": {
      "text/plain": [
       "[{'chunk_id': 'fannie_part_0_c326'},\n",
       " {'chunk_id': 'fannie_part_0_c352'},\n",
       " {'chunk_id': 'fannie_part_0_c353'},\n",
       " {'chunk_id': 'freddie_part_4_c509'},\n",
       " {'chunk_id': 'freddie_part_4_c510'}]"
      ]
     },
     "execution_count": 164,
     "metadata": {},
     "output_type": "execute_result"
    }
   ],
   "source": [
    "run_query(sqlalchemy.text(f\"\"\"\n",
    "    SELECT chunk_id\n",
    "    FROM `{CLOUDSQL_TABLE_NAME}`\n",
    "    WHERE NEAREST(embedding_vector) TO (string_to_vector('{str(question_embedding)}'))\n",
    "\"\"\"))"
   ]
  },
  {
   "cell_type": "markdown",
   "id": "b05feac9-5337-4e2a-a57a-8187d278bb5a",
   "metadata": {},
   "source": [
    "Use `EXPLAIN ANALYZE` to understand the query execution.  Note that the index was used to make the execution much more efficient that above:"
   ]
  },
  {
   "cell_type": "code",
   "execution_count": 166,
   "id": "2b462fb2-b16a-40ca-a070-5a513686bca3",
   "metadata": {
    "tags": []
   },
   "outputs": [
    {
     "data": {
      "text/plain": [
       "{'EXPLAIN': \"-> Filter: ((retrieval_cloudsql_mysql.chunk_id = 'fannie_part_0_c326') or (retrieval_cloudsql_mysql.chunk_id = 'fannie_part_0_c353') or (retrieval_cloudsql_mysql.chunk_id = 'freddie_part_4_c510') or (retrieval_cloudsql_mysql.chunk_id = 'freddie_part_4_c509') or (retrieval_cloudsql_mysql.chunk_id = 'fannie_part_0_c352'))  (cost=5.41 rows=5) (actual time=0.0519..0.0895 rows=5 loops=1)\\n    -> Index range scan on retrieval_cloudsql_mysql using PRIMARY over (chunk_id = 'fannie_part_0_c326') OR (chunk_id = 'fannie_part_0_c352') OR (3 more)  (cost=5.41 rows=5) (actual time=0.0488..0.0809 rows=5 loops=1)\\n\"}"
      ]
     },
     "execution_count": 166,
     "metadata": {},
     "output_type": "execute_result"
    }
   ],
   "source": [
    "run_query(sqlalchemy.text(f\"\"\"\n",
    "EXPLAIN ANALYZE\n",
    "    SELECT chunk_id\n",
    "    FROM `{CLOUDSQL_TABLE_NAME}`\n",
    "    WHERE NEAREST(embedding_vector) TO (string_to_vector('{str(question_embedding)}'))\n",
    "\"\"\"))"
   ]
  },
  {
   "cell_type": "markdown",
   "id": "b4eabb23-07f5-424d-902f-0e28e8bfda5f",
   "metadata": {},
   "source": [
    "Use the `num_neighbor` parameters to override the default value of 5 set during the index creation:"
   ]
  },
  {
   "cell_type": "code",
   "execution_count": 167,
   "id": "fdf4f04f-3fad-466c-ae55-f247735ddaa4",
   "metadata": {
    "tags": []
   },
   "outputs": [
    {
     "data": {
      "text/plain": [
       "[{'chunk_id': 'fannie_part_0_c326'},\n",
       " {'chunk_id': 'fannie_part_0_c352'},\n",
       " {'chunk_id': 'fannie_part_0_c353'},\n",
       " {'chunk_id': 'fannie_part_0_c92'},\n",
       " {'chunk_id': 'freddie_part_4_c472'},\n",
       " {'chunk_id': 'freddie_part_4_c509'},\n",
       " {'chunk_id': 'freddie_part_4_c510'}]"
      ]
     },
     "execution_count": 167,
     "metadata": {},
     "output_type": "execute_result"
    }
   ],
   "source": [
    "run_query(sqlalchemy.text(f\"\"\"\n",
    "    SELECT chunk_id\n",
    "    FROM `{CLOUDSQL_TABLE_NAME}`\n",
    "    WHERE NEAREST(embedding_vector) TO (string_to_vector('{str(question_embedding)}'), 'num_neighbors=7')\n",
    "\"\"\"))"
   ]
  },
  {
   "cell_type": "markdown",
   "id": "0255fbd4-a62c-46b7-8c5a-de882e9a5c6a",
   "metadata": {},
   "source": [
    "Add a filter, `gse = 'fannie'`, to the query and note that fewer than the requested or default neighbors is returned.  This means the filter is being applied as a post filter, 7 neight found, then the filter was applied to those 7:"
   ]
  },
  {
   "cell_type": "code",
   "execution_count": 118,
   "id": "91d7141f-0682-4c39-887c-9a46fd7ec348",
   "metadata": {
    "tags": []
   },
   "outputs": [
    {
     "data": {
      "text/plain": [
       "[{'chunk_id': 'fannie_part_0_c326'},\n",
       " {'chunk_id': 'fannie_part_0_c352'},\n",
       " {'chunk_id': 'fannie_part_0_c353'},\n",
       " {'chunk_id': 'fannie_part_0_c92'}]"
      ]
     },
     "execution_count": 118,
     "metadata": {},
     "output_type": "execute_result"
    }
   ],
   "source": [
    "run_query(sqlalchemy.text(f\"\"\"\n",
    "    SELECT chunk_id\n",
    "    FROM `{CLOUDSQL_TABLE_NAME}`\n",
    "    WHERE NEAREST(embedding_vector) TO (string_to_vector('{str(question_embedding)}'), 'num_neighbors=7')\n",
    "    AND gse = 'fannie'\n",
    "\"\"\"))"
   ]
  },
  {
   "cell_type": "markdown",
   "id": "6d95ff51-0528-4324-b13e-e37400f57deb",
   "metadata": {},
   "source": [
    "Using `EXPLAIN_ANALYZE` shows that even though the filtering was applied post rather than pre it still used the index:"
   ]
  },
  {
   "cell_type": "code",
   "execution_count": 170,
   "id": "f2b8c314-cb40-4abc-b51e-4e4df81dbd2e",
   "metadata": {
    "tags": []
   },
   "outputs": [
    {
     "data": {
      "text/plain": [
       "{'EXPLAIN': \"-> Filter: ((retrieval_cloudsql_mysql.gse = 'fannie') and ((retrieval_cloudsql_mysql.chunk_id = 'fannie_part_0_c92') or (retrieval_cloudsql_mysql.chunk_id = 'freddie_part_4_c472') or (retrieval_cloudsql_mysql.chunk_id = 'fannie_part_0_c326') or (retrieval_cloudsql_mysql.chunk_id = 'fannie_part_0_c353') or (retrieval_cloudsql_mysql.chunk_id = 'freddie_part_4_c510') or (retrieval_cloudsql_mysql.chunk_id = 'freddie_part_4_c509') or (retrieval_cloudsql_mysql.chunk_id = 'fannie_part_0_c352')))  (cost=7.57 rows=0.7) (actual time=0.0428..0.0825 rows=4 loops=1)\\n    -> Index range scan on retrieval_cloudsql_mysql using PRIMARY over (chunk_id = 'fannie_part_0_c326') OR (chunk_id = 'fannie_part_0_c352') OR (5 more)  (cost=7.57 rows=7) (actual time=0.0397..0.0754 rows=7 loops=1)\\n\"}"
      ]
     },
     "execution_count": 170,
     "metadata": {},
     "output_type": "execute_result"
    }
   ],
   "source": [
    "run_query(sqlalchemy.text(f\"\"\"\n",
    "EXPLAIN ANALYZE\n",
    "    SELECT chunk_id\n",
    "    FROM `{CLOUDSQL_TABLE_NAME}`\n",
    "    WHERE NEAREST(embedding_vector) TO (string_to_vector('{str(question_embedding)}'), 'num_neighbors=7')\n",
    "    AND gse = 'fannie'\n",
    "\"\"\"))"
   ]
  },
  {
   "cell_type": "markdown",
   "id": "da8f079e-29a7-4e1d-8395-71a3193dd844",
   "metadata": {},
   "source": [
    "Force the indexing to scan a larger number of partion by setting the `num_partition` parameter.  In this case it is set to the full number of partitions and essentially forcing a brute force query across all rows:"
   ]
  },
  {
   "cell_type": "code",
   "execution_count": 171,
   "id": "4bd99832-9ab5-4c20-a1b6-305c33f103b7",
   "metadata": {
    "tags": []
   },
   "outputs": [
    {
     "data": {
      "text/plain": [
       "[{'chunk_id': 'fannie_part_0_c326'},\n",
       " {'chunk_id': 'fannie_part_0_c352'},\n",
       " {'chunk_id': 'fannie_part_0_c353'},\n",
       " {'chunk_id': 'fannie_part_0_c92'},\n",
       " {'chunk_id': 'freddie_part_4_c472'},\n",
       " {'chunk_id': 'freddie_part_4_c509'},\n",
       " {'chunk_id': 'freddie_part_4_c510'}]"
      ]
     },
     "execution_count": 171,
     "metadata": {},
     "output_type": "execute_result"
    }
   ],
   "source": [
    "run_query(sqlalchemy.text(f\"\"\"\n",
    "    SELECT chunk_id\n",
    "    FROM `{CLOUDSQL_TABLE_NAME}`\n",
    "    WHERE NEAREST(embedding_vector) TO (string_to_vector('{str(question_embedding)}'), 'num_neighbors=7, num_partitions=90')\n",
    "\"\"\"))"
   ]
  },
  {
   "cell_type": "markdown",
   "id": "372ce7f7-37ba-4cec-936c-65173d7bc87e",
   "metadata": {},
   "source": [
    "Using `EXPLAIN ANALYZE` to evaluate the execution of the query set to scan all partions of the index:"
   ]
  },
  {
   "cell_type": "code",
   "execution_count": 173,
   "id": "56a5245b-df5d-4d84-8214-235ca17c4065",
   "metadata": {
    "tags": []
   },
   "outputs": [
    {
     "data": {
      "text/plain": [
       "{'EXPLAIN': \"-> Filter: ((retrieval_cloudsql_mysql.chunk_id = 'fannie_part_0_c92') or (retrieval_cloudsql_mysql.chunk_id = 'freddie_part_4_c472') or (retrieval_cloudsql_mysql.chunk_id = 'fannie_part_0_c326') or (retrieval_cloudsql_mysql.chunk_id = 'fannie_part_0_c353') or (retrieval_cloudsql_mysql.chunk_id = 'freddie_part_4_c510') or (retrieval_cloudsql_mysql.chunk_id = 'freddie_part_4_c509') or (retrieval_cloudsql_mysql.chunk_id = 'fannie_part_0_c352'))  (cost=7.57 rows=7) (actual time=0.0439..0.0901 rows=7 loops=1)\\n    -> Index range scan on retrieval_cloudsql_mysql using PRIMARY over (chunk_id = 'fannie_part_0_c326') OR (chunk_id = 'fannie_part_0_c352') OR (5 more)  (cost=7.57 rows=7) (actual time=0.041..0.0818 rows=7 loops=1)\\n\"}"
      ]
     },
     "execution_count": 173,
     "metadata": {},
     "output_type": "execute_result"
    }
   ],
   "source": [
    "run_query(sqlalchemy.text(f\"\"\"\n",
    "EXPLAIN ANALYZE\n",
    "    SELECT chunk_id\n",
    "    FROM `{CLOUDSQL_TABLE_NAME}`\n",
    "    WHERE NEAREST(embedding_vector) TO (string_to_vector('{str(question_embedding)}'), 'num_neighbors=7, num_partitions=90')\n",
    "\"\"\"))"
   ]
  },
  {
   "cell_type": "markdown",
   "id": "6daa7634-e2f3-43c4-b311-5eb01b6ee3e9",
   "metadata": {},
   "source": [
    "And compare to a brute force query with pre-filtering:"
   ]
  },
  {
   "cell_type": "code",
   "execution_count": 174,
   "id": "a76c5631-ce6b-475e-a6ca-5f1cf44c1685",
   "metadata": {
    "tags": []
   },
   "outputs": [
    {
     "data": {
      "text/plain": [
       "[{'chunk_id': 'fannie_part_0_c352', 'dot_product': -0.7099842034905741},\n",
       " {'chunk_id': 'fannie_part_0_c353', 'dot_product': -0.6723706805978971},\n",
       " {'chunk_id': 'fannie_part_0_c326', 'dot_product': -0.6683496294372162},\n",
       " {'chunk_id': 'fannie_part_0_c92', 'dot_product': -0.6614337365039091},\n",
       " {'chunk_id': 'fannie_part_0_c240', 'dot_product': -0.6608578612144242}]"
      ]
     },
     "execution_count": 174,
     "metadata": {},
     "output_type": "execute_result"
    }
   ],
   "source": [
    "run_query(sqlalchemy.text(f\"\"\"\n",
    "    SELECT\n",
    "        chunk_id, \n",
    "        dot_product(embedding_vector, string_to_vector('{str(question_embedding)}')) AS dot_product\n",
    "    FROM `{CLOUDSQL_TABLE_NAME}`\n",
    "    WHERE gse = 'fannie'\n",
    "    ORDER BY dot_product\n",
    "    LIMIT 5\n",
    "\"\"\"))"
   ]
  },
  {
   "cell_type": "markdown",
   "id": "88a9d976-6dcd-481e-b7ef-f1c05e690e7a",
   "metadata": {},
   "source": [
    "Uncomment the following cell to delete the index.  The next section expects the index to be present and instead rebuilds/replaces it with a different index:"
   ]
  },
  {
   "cell_type": "code",
   "execution_count": 120,
   "id": "f6d22ce3-6475-47e7-98dc-7816e4fc1ea2",
   "metadata": {
    "tags": []
   },
   "outputs": [],
   "source": [
    "#run_query(sqlalchemy.text(f\"call mysql.drop_vector_index('{CLOUDSQL_DATABASE_NAME}.embedding_index');\"))"
   ]
  },
  {
   "cell_type": "markdown",
   "id": "d9ad0564-cb71-45b5-bbb5-310bff8eae76",
   "metadata": {},
   "source": [
    "#### Index: `TREE_AH`"
   ]
  },
  {
   "cell_type": "markdown",
   "id": "331fd26a-48a8-4089-bbec-bc8ceb0d51e7",
   "metadata": {},
   "source": [
    "Create/Change the index with `call mysql.alter_vector_index()` function to overwrite the previous index:"
   ]
  },
  {
   "cell_type": "code",
   "execution_count": 175,
   "id": "793dc83d-8bf4-48e9-98a4-a7ebd0b54c80",
   "metadata": {},
   "outputs": [
    {
     "data": {
      "text/plain": [
       "{'Alter Index Status': 'Success: Done'}"
      ]
     },
     "execution_count": 175,
     "metadata": {},
     "output_type": "execute_result"
    }
   ],
   "source": [
    "run_query(sqlalchemy.text(f\"\"\"\n",
    "    call mysql.alter_vector_index(\n",
    "        '{CLOUDSQL_DATABASE_NAME}.embedding_index',\n",
    "        'index_type = tree_ah, distance_measure = dot_product, num_neighbors = 5, num_partitions = 90'\n",
    "    );\n",
    "\"\"\"))"
   ]
  },
  {
   "cell_type": "markdown",
   "id": "6bfccd5c-a3c2-45f8-b411-d90995484cd6",
   "metadata": {},
   "source": [
    "Review the index details:"
   ]
  },
  {
   "cell_type": "code",
   "execution_count": 176,
   "id": "f54e42e5-c02f-403b-90cd-c1e6c5577d9e",
   "metadata": {
    "tags": []
   },
   "outputs": [
    {
     "data": {
      "text/plain": [
       "{'INDEX_NAME': 'applied_genai.embedding_index',\n",
       " 'TABLE_NAME': 'applied_genai.retrieval_cloudsql_mysql',\n",
       " 'INDEX_TYPE': 'TREE_AH',\n",
       " 'DIMENSION': 768,\n",
       " 'DIST_MEASURE': 'DotProductDistance',\n",
       " 'STATUS': 'Ready',\n",
       " 'STATE': 'INDEX_READY_TO_USE',\n",
       " 'PARTITIONS': 90,\n",
       " 'SEARCH_PARTITIONS': 53,\n",
       " 'INITIAL_SIZE': 9040,\n",
       " 'CURRENT_SIZE': 9040,\n",
       " 'QUERIES': 0,\n",
       " 'MUTATIONS': 0,\n",
       " 'INDEX_MEMORY': 29506560,\n",
       " 'DATASET_MEMORY': 0}"
      ]
     },
     "execution_count": 176,
     "metadata": {},
     "output_type": "execute_result"
    }
   ],
   "source": [
    "run_query(sqlalchemy.text(f\"SELECT * FROM information_schema.innodb_vector_indexes\"))"
   ]
  },
  {
   "cell_type": "code",
   "execution_count": 177,
   "id": "c6b3fd05-dc34-4736-84f2-ee4b0fada30f",
   "metadata": {
    "tags": []
   },
   "outputs": [
    {
     "data": {
      "text/plain": [
       "{'index_name': 'applied_genai.embedding_index',\n",
       " 'table_name': 'applied_genai.retrieval_cloudsql_mysql',\n",
       " 'column_name': 'embedding_vector',\n",
       " 'index_options': 'index_type = tree_ah, distance_measure = dot_product, num_neighbors = 5, num_partitions = 90',\n",
       " 'status': 'ACTIVE',\n",
       " 'create_time': datetime.datetime(2024, 11, 8, 12, 46, 58),\n",
       " 'update_time': datetime.datetime(2024, 11, 8, 12, 59, 52)}"
      ]
     },
     "execution_count": 177,
     "metadata": {},
     "output_type": "execute_result"
    }
   ],
   "source": [
    "run_query(sqlalchemy.text(f\"SELECT * FROM mysql.vector_indexes\"))"
   ]
  },
  {
   "cell_type": "markdown",
   "id": "0be96442-a561-4b61-9577-ad68968cdc9b",
   "metadata": {},
   "source": [
    "Use a distance measure directly, like brute force above:"
   ]
  },
  {
   "cell_type": "code",
   "execution_count": 178,
   "id": "c107c450-2684-4d0a-808c-d9f9af77554a",
   "metadata": {
    "tags": []
   },
   "outputs": [
    {
     "data": {
      "text/plain": [
       "[{'chunk_id': 'fannie_part_0_c352', 'dot_product': -0.7099842034905741},\n",
       " {'chunk_id': 'freddie_part_4_c509', 'dot_product': -0.6805260858670844},\n",
       " {'chunk_id': 'freddie_part_4_c510', 'dot_product': -0.675329698947003},\n",
       " {'chunk_id': 'fannie_part_0_c353', 'dot_product': -0.6723706805978971},\n",
       " {'chunk_id': 'fannie_part_0_c326', 'dot_product': -0.6683496294372162}]"
      ]
     },
     "execution_count": 178,
     "metadata": {},
     "output_type": "execute_result"
    }
   ],
   "source": [
    "run_query(sqlalchemy.text(f\"\"\"\n",
    "    SELECT\n",
    "        chunk_id, \n",
    "        dot_product(embedding_vector, string_to_vector('{str(question_embedding)}')) AS dot_product\n",
    "    FROM `{CLOUDSQL_TABLE_NAME}`\n",
    "    ORDER BY dot_product\n",
    "    LIMIT 5\n",
    "\"\"\"))"
   ]
  },
  {
   "cell_type": "markdown",
   "id": "209eb411-30b5-4dd8-a0c5-fd168432e75b",
   "metadata": {},
   "source": [
    "Use `EXPLAIN ANALYZE` to understand the query execution.  Note that the index was not used:"
   ]
  },
  {
   "cell_type": "code",
   "execution_count": 179,
   "id": "f393b093-cf5c-4aef-834b-be770c6b6002",
   "metadata": {
    "tags": []
   },
   "outputs": [
    {
     "data": {
      "text/plain": [
       "{'EXPLAIN': '-> Limit: 5 row(s)  (cost=21938 rows=5) (actual time=1736..1736 rows=5 loops=1)\\n    -> Sort: dot_product, limit input to 5 row(s) per chunk  (cost=21938 rows=5625) (actual time=1736..1736 rows=5 loops=1)\\n        -> Table scan on retrieval_cloudsql_mysql  (cost=21938 rows=5625) (actual time=0.0737..18.7 rows=9040 loops=1)\\n'}"
      ]
     },
     "execution_count": 179,
     "metadata": {},
     "output_type": "execute_result"
    }
   ],
   "source": [
    "run_query(sqlalchemy.text(f\"\"\"\n",
    "EXPLAIN ANALYZE\n",
    "    SELECT\n",
    "        chunk_id, \n",
    "        dot_product(embedding_vector, string_to_vector('{str(question_embedding)}')) AS dot_product\n",
    "    FROM `{CLOUDSQL_TABLE_NAME}`\n",
    "    ORDER BY dot_product\n",
    "    LIMIT 5\n",
    "\"\"\"))"
   ]
  },
  {
   "cell_type": "markdown",
   "id": "b88790d2-0d8e-4c8d-82a0-1dd89acb8438",
   "metadata": {},
   "source": [
    "Now use the `NEAREST ... TO` predicate to invoke the use of the index:"
   ]
  },
  {
   "cell_type": "code",
   "execution_count": 180,
   "id": "516c3bfc-3869-4695-9a70-f7e864db3042",
   "metadata": {
    "tags": []
   },
   "outputs": [
    {
     "data": {
      "text/plain": [
       "[{'chunk_id': 'fannie_part_0_c326'},\n",
       " {'chunk_id': 'fannie_part_0_c352'},\n",
       " {'chunk_id': 'fannie_part_0_c353'},\n",
       " {'chunk_id': 'freddie_part_4_c509'},\n",
       " {'chunk_id': 'freddie_part_4_c510'}]"
      ]
     },
     "execution_count": 180,
     "metadata": {},
     "output_type": "execute_result"
    }
   ],
   "source": [
    "run_query(sqlalchemy.text(f\"\"\"\n",
    "    SELECT chunk_id\n",
    "    FROM `{CLOUDSQL_TABLE_NAME}`\n",
    "    WHERE NEAREST(embedding_vector) TO (string_to_vector('{str(question_embedding)}'))\n",
    "\"\"\"))"
   ]
  },
  {
   "cell_type": "markdown",
   "id": "3d7b5d37-a2b2-4980-a14f-1e9d16ded509",
   "metadata": {},
   "source": [
    "Use `EXPLAIN ANALYZE` to understand the query execution.  Note that the index was used to make the execution much more efficient that above:"
   ]
  },
  {
   "cell_type": "code",
   "execution_count": 181,
   "id": "3aae48c6-ebf1-4f8c-b046-af0a8f1e2cda",
   "metadata": {
    "tags": []
   },
   "outputs": [
    {
     "data": {
      "text/plain": [
       "{'EXPLAIN': \"-> Filter: ((retrieval_cloudsql_mysql.chunk_id = 'fannie_part_0_c326') or (retrieval_cloudsql_mysql.chunk_id = 'fannie_part_0_c353') or (retrieval_cloudsql_mysql.chunk_id = 'freddie_part_4_c510') or (retrieval_cloudsql_mysql.chunk_id = 'freddie_part_4_c509') or (retrieval_cloudsql_mysql.chunk_id = 'fannie_part_0_c352'))  (cost=5.41 rows=5) (actual time=0.0379..0.0597 rows=5 loops=1)\\n    -> Index range scan on retrieval_cloudsql_mysql using PRIMARY over (chunk_id = 'fannie_part_0_c326') OR (chunk_id = 'fannie_part_0_c352') OR (3 more)  (cost=5.41 rows=5) (actual time=0.0351..0.0536 rows=5 loops=1)\\n\"}"
      ]
     },
     "execution_count": 181,
     "metadata": {},
     "output_type": "execute_result"
    }
   ],
   "source": [
    "run_query(sqlalchemy.text(f\"\"\"\n",
    "EXPLAIN ANALYZE\n",
    "    SELECT chunk_id\n",
    "    FROM `{CLOUDSQL_TABLE_NAME}`\n",
    "    WHERE NEAREST(embedding_vector) TO (string_to_vector('{str(question_embedding)}'))\n",
    "\"\"\"))"
   ]
  },
  {
   "cell_type": "markdown",
   "id": "e9dc8559-b03b-4845-bb59-b38f4cb6d355",
   "metadata": {},
   "source": [
    "Use the `num_neighbor` parameters to override the default value of 5 set during the index creation:"
   ]
  },
  {
   "cell_type": "code",
   "execution_count": 182,
   "id": "02c00ce2-432c-4726-97a4-87b373edc60b",
   "metadata": {
    "tags": []
   },
   "outputs": [
    {
     "data": {
      "text/plain": [
       "[{'chunk_id': 'fannie_part_0_c326'},\n",
       " {'chunk_id': 'fannie_part_0_c352'},\n",
       " {'chunk_id': 'fannie_part_0_c353'},\n",
       " {'chunk_id': 'fannie_part_0_c92'},\n",
       " {'chunk_id': 'freddie_part_4_c472'},\n",
       " {'chunk_id': 'freddie_part_4_c509'},\n",
       " {'chunk_id': 'freddie_part_4_c510'}]"
      ]
     },
     "execution_count": 182,
     "metadata": {},
     "output_type": "execute_result"
    }
   ],
   "source": [
    "run_query(sqlalchemy.text(f\"\"\"\n",
    "    SELECT chunk_id\n",
    "    FROM `{CLOUDSQL_TABLE_NAME}`\n",
    "    WHERE NEAREST(embedding_vector) TO (string_to_vector('{str(question_embedding)}'), 'num_neighbors=7')\n",
    "\"\"\"))"
   ]
  },
  {
   "cell_type": "markdown",
   "id": "a43f2fe5-c7d9-448a-bf2f-585742297be7",
   "metadata": {},
   "source": [
    "Add a filter, `gse = 'fannie'`, to the query and note that fewere than the requested or default neighbors is returned.  This means the filter is being applied as a post filter, 7 neight found, then the filter was applied to those 7:"
   ]
  },
  {
   "cell_type": "code",
   "execution_count": 183,
   "id": "0be39396-15f5-4494-8487-4e18d4a646e8",
   "metadata": {
    "tags": []
   },
   "outputs": [
    {
     "data": {
      "text/plain": [
       "[{'chunk_id': 'fannie_part_0_c326'},\n",
       " {'chunk_id': 'fannie_part_0_c352'},\n",
       " {'chunk_id': 'fannie_part_0_c353'},\n",
       " {'chunk_id': 'fannie_part_0_c92'}]"
      ]
     },
     "execution_count": 183,
     "metadata": {},
     "output_type": "execute_result"
    }
   ],
   "source": [
    "run_query(sqlalchemy.text(f\"\"\"\n",
    "    SELECT chunk_id\n",
    "    FROM `{CLOUDSQL_TABLE_NAME}`\n",
    "    WHERE NEAREST(embedding_vector) TO (string_to_vector('{str(question_embedding)}'), 'num_neighbors=7')\n",
    "    AND gse = 'fannie'\n",
    "\"\"\"))"
   ]
  },
  {
   "cell_type": "markdown",
   "id": "305a036d-f88e-4168-a35d-3df0601968a7",
   "metadata": {},
   "source": [
    "Using `EXPLAIN_ANALYZE` shows that even though the filtering was applied post rather than pre it still used the index:"
   ]
  },
  {
   "cell_type": "code",
   "execution_count": 184,
   "id": "2d2c050b-6de4-4f49-bf65-cad67aca90cf",
   "metadata": {
    "tags": []
   },
   "outputs": [
    {
     "data": {
      "text/plain": [
       "{'EXPLAIN': \"-> Filter: ((retrieval_cloudsql_mysql.gse = 'fannie') and ((retrieval_cloudsql_mysql.chunk_id = 'fannie_part_0_c92') or (retrieval_cloudsql_mysql.chunk_id = 'freddie_part_4_c472') or (retrieval_cloudsql_mysql.chunk_id = 'fannie_part_0_c326') or (retrieval_cloudsql_mysql.chunk_id = 'fannie_part_0_c353') or (retrieval_cloudsql_mysql.chunk_id = 'freddie_part_4_c510') or (retrieval_cloudsql_mysql.chunk_id = 'freddie_part_4_c509') or (retrieval_cloudsql_mysql.chunk_id = 'fannie_part_0_c352')))  (cost=7.57 rows=0.7) (actual time=0.0478..0.0788 rows=4 loops=1)\\n    -> Index range scan on retrieval_cloudsql_mysql using PRIMARY over (chunk_id = 'fannie_part_0_c326') OR (chunk_id = 'fannie_part_0_c352') OR (5 more)  (cost=7.57 rows=7) (actual time=0.0444..0.0714 rows=7 loops=1)\\n\"}"
      ]
     },
     "execution_count": 184,
     "metadata": {},
     "output_type": "execute_result"
    }
   ],
   "source": [
    "run_query(sqlalchemy.text(f\"\"\"\n",
    "EXPLAIN ANALYZE\n",
    "    SELECT chunk_id\n",
    "    FROM `{CLOUDSQL_TABLE_NAME}`\n",
    "    WHERE NEAREST(embedding_vector) TO (string_to_vector('{str(question_embedding)}'), 'num_neighbors=7')\n",
    "    AND gse = 'fannie'\n",
    "\"\"\"))"
   ]
  },
  {
   "cell_type": "markdown",
   "id": "17fbe079-0fbe-4985-b57c-50d7037a1002",
   "metadata": {},
   "source": [
    "Force the indexing to scan a larger number of partion by setting the `num_partition` parameter.  In this case it is set to the full number of partitions and essentially forcing a brute force query across all rows:"
   ]
  },
  {
   "cell_type": "code",
   "execution_count": 185,
   "id": "10a64f4d-ca92-4a7a-ad25-3b8fb77b2051",
   "metadata": {
    "tags": []
   },
   "outputs": [
    {
     "data": {
      "text/plain": [
       "[{'chunk_id': 'fannie_part_0_c326'},\n",
       " {'chunk_id': 'fannie_part_0_c352'},\n",
       " {'chunk_id': 'fannie_part_0_c353'},\n",
       " {'chunk_id': 'fannie_part_0_c92'},\n",
       " {'chunk_id': 'freddie_part_4_c472'},\n",
       " {'chunk_id': 'freddie_part_4_c509'},\n",
       " {'chunk_id': 'freddie_part_4_c510'}]"
      ]
     },
     "execution_count": 185,
     "metadata": {},
     "output_type": "execute_result"
    }
   ],
   "source": [
    "run_query(sqlalchemy.text(f\"\"\"\n",
    "    SELECT chunk_id\n",
    "    FROM `{CLOUDSQL_TABLE_NAME}`\n",
    "    WHERE NEAREST(embedding_vector) TO (string_to_vector('{str(question_embedding)}'), 'num_neighbors=7, num_partitions=90')\n",
    "\"\"\"))"
   ]
  },
  {
   "cell_type": "markdown",
   "id": "6a0e6f0f-5da1-4f25-8ecb-4da0df27bb0b",
   "metadata": {},
   "source": [
    "Using `EXPLAIN ANALYZE` to evaluate the execution of the query set to scan all partions of the index:"
   ]
  },
  {
   "cell_type": "code",
   "execution_count": 186,
   "id": "33f49fed-ab24-4d07-9c3c-827446bae09b",
   "metadata": {
    "tags": []
   },
   "outputs": [
    {
     "data": {
      "text/plain": [
       "{'EXPLAIN': \"-> Filter: ((retrieval_cloudsql_mysql.chunk_id = 'fannie_part_0_c92') or (retrieval_cloudsql_mysql.chunk_id = 'freddie_part_4_c472') or (retrieval_cloudsql_mysql.chunk_id = 'fannie_part_0_c326') or (retrieval_cloudsql_mysql.chunk_id = 'fannie_part_0_c353') or (retrieval_cloudsql_mysql.chunk_id = 'freddie_part_4_c510') or (retrieval_cloudsql_mysql.chunk_id = 'freddie_part_4_c509') or (retrieval_cloudsql_mysql.chunk_id = 'fannie_part_0_c352'))  (cost=7.57 rows=7) (actual time=0.0514..0.0909 rows=7 loops=1)\\n    -> Index range scan on retrieval_cloudsql_mysql using PRIMARY over (chunk_id = 'fannie_part_0_c326') OR (chunk_id = 'fannie_part_0_c352') OR (5 more)  (cost=7.57 rows=7) (actual time=0.0481..0.0821 rows=7 loops=1)\\n\"}"
      ]
     },
     "execution_count": 186,
     "metadata": {},
     "output_type": "execute_result"
    }
   ],
   "source": [
    "run_query(sqlalchemy.text(f\"\"\"\n",
    "EXPLAIN ANALYZE\n",
    "    SELECT chunk_id\n",
    "    FROM `{CLOUDSQL_TABLE_NAME}`\n",
    "    WHERE NEAREST(embedding_vector) TO (string_to_vector('{str(question_embedding)}'), 'num_neighbors=7, num_partitions=90')\n",
    "\"\"\"))"
   ]
  },
  {
   "cell_type": "markdown",
   "id": "bd7e52e7-d46e-440b-beea-1d84fafa7658",
   "metadata": {},
   "source": [
    "And compare to a brute force query with pre-filtering:"
   ]
  },
  {
   "cell_type": "code",
   "execution_count": 187,
   "id": "01e2b340-401b-4967-8045-e68c41fa41e7",
   "metadata": {
    "tags": []
   },
   "outputs": [
    {
     "data": {
      "text/plain": [
       "[{'chunk_id': 'fannie_part_0_c352', 'dot_product': -0.7099842034905741},\n",
       " {'chunk_id': 'fannie_part_0_c353', 'dot_product': -0.6723706805978971},\n",
       " {'chunk_id': 'fannie_part_0_c326', 'dot_product': -0.6683496294372162},\n",
       " {'chunk_id': 'fannie_part_0_c92', 'dot_product': -0.6614337365039091},\n",
       " {'chunk_id': 'fannie_part_0_c240', 'dot_product': -0.6608578612144242}]"
      ]
     },
     "execution_count": 187,
     "metadata": {},
     "output_type": "execute_result"
    }
   ],
   "source": [
    "run_query(sqlalchemy.text(f\"\"\"\n",
    "    SELECT\n",
    "        chunk_id, \n",
    "        dot_product(embedding_vector, string_to_vector('{str(question_embedding)}')) AS dot_product\n",
    "    FROM `{CLOUDSQL_TABLE_NAME}`\n",
    "    WHERE gse = 'fannie'\n",
    "    ORDER BY dot_product\n",
    "    LIMIT 5\n",
    "\"\"\"))"
   ]
  },
  {
   "cell_type": "markdown",
   "id": "7a7c9e67-6b6c-4dc5-855a-829bda73ac89",
   "metadata": {},
   "source": [
    "Uncomment the following cell to delete the index.  The next section expects the index to be present and instead rebuilds/replaces it with a different index:"
   ]
  },
  {
   "cell_type": "code",
   "execution_count": 188,
   "id": "ca18d1e5-2a81-4c71-aa42-940315709b5a",
   "metadata": {
    "tags": []
   },
   "outputs": [],
   "source": [
    "#run_query(sqlalchemy.text(f\"call mysql.drop_vector_index('{CLOUDSQL_DATABASE_NAME}.embedding_index');\"))"
   ]
  },
  {
   "cell_type": "markdown",
   "id": "73cb264c-9036-45bc-996c-580db6d7dd8b",
   "metadata": {},
   "source": [
    "#### Index: `BRUTE_FORCE`\n",
    "\n",
    "Since the distance measure function do brute force scans it might seem weird to create an index with brute force as the type.  It can be beneficial because it allows you to preset the distance measure the default number of nearest neighbors. Then at query time you can simply use the `NEAREST ... TO` predicate.  It is also faster because indexes are loaded to memory and and make even the brute force queries faster to execute."
   ]
  },
  {
   "cell_type": "markdown",
   "id": "9ae3bc11-824a-4ba1-bf6e-c6845a9b9b0b",
   "metadata": {},
   "source": [
    "Create/Change the index with `call mysql.alter_vector_index()` function to overwrite the previous index:"
   ]
  },
  {
   "cell_type": "code",
   "execution_count": 223,
   "id": "2df75162-0a8b-4b39-b495-ed029b98b39a",
   "metadata": {},
   "outputs": [
    {
     "data": {
      "text/plain": [
       "{'Alter Index Status': 'Success: Done'}"
      ]
     },
     "execution_count": 223,
     "metadata": {},
     "output_type": "execute_result"
    }
   ],
   "source": [
    "run_query(sqlalchemy.text(f\"\"\"\n",
    "    call mysql.alter_vector_index(\n",
    "        '{CLOUDSQL_DATABASE_NAME}.embedding_index',\n",
    "        'index_type = brute_force, distance_measure = dot_product, num_neighbors = 5'\n",
    "    );\n",
    "\"\"\"))"
   ]
  },
  {
   "cell_type": "markdown",
   "id": "4031e35b-21c3-4359-8093-0a06b2c758df",
   "metadata": {},
   "source": [
    "Review the index details:"
   ]
  },
  {
   "cell_type": "code",
   "execution_count": 224,
   "id": "b08f36ad-6b11-4de5-a48c-df02774f43f0",
   "metadata": {
    "tags": []
   },
   "outputs": [
    {
     "data": {
      "text/plain": [
       "{'INDEX_NAME': 'applied_genai.embedding_index',\n",
       " 'TABLE_NAME': 'applied_genai.retrieval_cloudsql_mysql',\n",
       " 'INDEX_TYPE': 'BRUTE_FORCE',\n",
       " 'DIMENSION': 768,\n",
       " 'DIST_MEASURE': 'DotProductDistance',\n",
       " 'STATUS': 'Ready',\n",
       " 'STATE': 'INDEX_READY_TO_USE',\n",
       " 'PARTITIONS': 0,\n",
       " 'SEARCH_PARTITIONS': 0,\n",
       " 'INITIAL_SIZE': 9040,\n",
       " 'CURRENT_SIZE': 9040,\n",
       " 'QUERIES': 0,\n",
       " 'MUTATIONS': 0,\n",
       " 'INDEX_MEMORY': 27770880,\n",
       " 'DATASET_MEMORY': 0}"
      ]
     },
     "execution_count": 224,
     "metadata": {},
     "output_type": "execute_result"
    }
   ],
   "source": [
    "run_query(sqlalchemy.text(f\"SELECT * FROM information_schema.innodb_vector_indexes\"))"
   ]
  },
  {
   "cell_type": "code",
   "execution_count": 225,
   "id": "15a06742-0b81-42ae-bad7-2f6e01f57480",
   "metadata": {
    "tags": []
   },
   "outputs": [
    {
     "data": {
      "text/plain": [
       "{'index_name': 'applied_genai.embedding_index',\n",
       " 'table_name': 'applied_genai.retrieval_cloudsql_mysql',\n",
       " 'column_name': 'embedding_vector',\n",
       " 'index_options': 'index_type = brute_force, distance_measure = dot_product, num_neighbors = 5',\n",
       " 'status': 'ACTIVE',\n",
       " 'create_time': datetime.datetime(2024, 11, 8, 17, 21, 25),\n",
       " 'update_time': datetime.datetime(2024, 11, 8, 17, 21, 34)}"
      ]
     },
     "execution_count": 225,
     "metadata": {},
     "output_type": "execute_result"
    }
   ],
   "source": [
    "run_query(sqlalchemy.text(f\"SELECT * FROM mysql.vector_indexes\"))"
   ]
  },
  {
   "cell_type": "markdown",
   "id": "07f51566-34c3-4e8a-8464-6a141cd4a694",
   "metadata": {},
   "source": [
    "Use a distance measure directly, like brute force above:"
   ]
  },
  {
   "cell_type": "code",
   "execution_count": 226,
   "id": "74cc5080-dac4-457a-8b03-de7522d25c8f",
   "metadata": {
    "tags": []
   },
   "outputs": [
    {
     "data": {
      "text/plain": [
       "[{'chunk_id': 'fannie_part_0_c352', 'dot_product': -0.7099842034905741},\n",
       " {'chunk_id': 'freddie_part_4_c509', 'dot_product': -0.6805260858670844},\n",
       " {'chunk_id': 'freddie_part_4_c510', 'dot_product': -0.675329698947003},\n",
       " {'chunk_id': 'fannie_part_0_c353', 'dot_product': -0.6723706805978971},\n",
       " {'chunk_id': 'fannie_part_0_c326', 'dot_product': -0.6683496294372162}]"
      ]
     },
     "execution_count": 226,
     "metadata": {},
     "output_type": "execute_result"
    }
   ],
   "source": [
    "run_query(sqlalchemy.text(f\"\"\"\n",
    "    SELECT\n",
    "        chunk_id, \n",
    "        dot_product(embedding_vector, string_to_vector('{str(question_embedding)}')) AS dot_product\n",
    "    FROM `{CLOUDSQL_TABLE_NAME}`\n",
    "    ORDER BY dot_product\n",
    "    LIMIT 5\n",
    "\"\"\"))"
   ]
  },
  {
   "cell_type": "markdown",
   "id": "614c58dc-7827-4f4c-8f91-ab010cdc9701",
   "metadata": {},
   "source": [
    "Use `EXPLAIN ANALYZE` to understand the query execution.  Note that the index was not used:"
   ]
  },
  {
   "cell_type": "code",
   "execution_count": 227,
   "id": "3d166f9e-8a13-446f-bd4e-b2633bb14c0c",
   "metadata": {
    "tags": []
   },
   "outputs": [
    {
     "data": {
      "text/plain": [
       "{'EXPLAIN': '-> Limit: 5 row(s)  (cost=21938 rows=5) (actual time=1764..1764 rows=5 loops=1)\\n    -> Sort: dot_product, limit input to 5 row(s) per chunk  (cost=21938 rows=5625) (actual time=1764..1764 rows=5 loops=1)\\n        -> Table scan on retrieval_cloudsql_mysql  (cost=21938 rows=5625) (actual time=0.0739..17.7 rows=9040 loops=1)\\n'}"
      ]
     },
     "execution_count": 227,
     "metadata": {},
     "output_type": "execute_result"
    }
   ],
   "source": [
    "run_query(sqlalchemy.text(f\"\"\"\n",
    "EXPLAIN ANALYZE\n",
    "    SELECT\n",
    "        chunk_id, \n",
    "        dot_product(embedding_vector, string_to_vector('{str(question_embedding)}')) AS dot_product\n",
    "    FROM `{CLOUDSQL_TABLE_NAME}`\n",
    "    ORDER BY dot_product\n",
    "    LIMIT 5\n",
    "\"\"\"))"
   ]
  },
  {
   "cell_type": "markdown",
   "id": "f787d48f-4280-46bd-844f-5882130e653b",
   "metadata": {},
   "source": [
    "Now use the `NEAREST ... TO` predicate to invoke the use of the index:"
   ]
  },
  {
   "cell_type": "code",
   "execution_count": 228,
   "id": "4d084d1a-ed4c-41f6-8046-459d5ddab9ae",
   "metadata": {
    "tags": []
   },
   "outputs": [
    {
     "data": {
      "text/plain": [
       "[{'chunk_id': 'fannie_part_0_c326'},\n",
       " {'chunk_id': 'fannie_part_0_c352'},\n",
       " {'chunk_id': 'fannie_part_0_c353'},\n",
       " {'chunk_id': 'freddie_part_4_c509'},\n",
       " {'chunk_id': 'freddie_part_4_c510'}]"
      ]
     },
     "execution_count": 228,
     "metadata": {},
     "output_type": "execute_result"
    }
   ],
   "source": [
    "run_query(sqlalchemy.text(f\"\"\"\n",
    "    SELECT chunk_id\n",
    "    FROM `{CLOUDSQL_TABLE_NAME}`\n",
    "    WHERE NEAREST(embedding_vector) TO (string_to_vector('{str(question_embedding)}'))\n",
    "\"\"\"))"
   ]
  },
  {
   "cell_type": "markdown",
   "id": "bdbccd91-0615-49e6-a94c-a441c0ff1870",
   "metadata": {},
   "source": [
    "Use `EXPLAIN ANALYZE` to understand the query execution.  Note that the index was used to make the execution much more efficient that above:"
   ]
  },
  {
   "cell_type": "code",
   "execution_count": 229,
   "id": "843e4e40-96ab-4358-ba5a-c393b2f6d96f",
   "metadata": {
    "tags": []
   },
   "outputs": [
    {
     "data": {
      "text/plain": [
       "{'EXPLAIN': \"-> Filter: ((retrieval_cloudsql_mysql.chunk_id = 'fannie_part_0_c326') or (retrieval_cloudsql_mysql.chunk_id = 'fannie_part_0_c353') or (retrieval_cloudsql_mysql.chunk_id = 'freddie_part_4_c510') or (retrieval_cloudsql_mysql.chunk_id = 'freddie_part_4_c509') or (retrieval_cloudsql_mysql.chunk_id = 'fannie_part_0_c352'))  (cost=5.41 rows=5) (actual time=0.0356..0.0576 rows=5 loops=1)\\n    -> Index range scan on retrieval_cloudsql_mysql using PRIMARY over (chunk_id = 'fannie_part_0_c326') OR (chunk_id = 'fannie_part_0_c352') OR (3 more)  (cost=5.41 rows=5) (actual time=0.0332..0.0519 rows=5 loops=1)\\n\"}"
      ]
     },
     "execution_count": 229,
     "metadata": {},
     "output_type": "execute_result"
    }
   ],
   "source": [
    "run_query(sqlalchemy.text(f\"\"\"\n",
    "EXPLAIN ANALYZE\n",
    "    SELECT chunk_id\n",
    "    FROM `{CLOUDSQL_TABLE_NAME}`\n",
    "    WHERE NEAREST(embedding_vector) TO (string_to_vector('{str(question_embedding)}'))\n",
    "\"\"\"))"
   ]
  },
  {
   "cell_type": "markdown",
   "id": "5feff0ff-46e7-4875-9a75-32e073fb3f5c",
   "metadata": {},
   "source": [
    "Use the `num_neighbor` parameters to override the default value of 5 set during the index creation:"
   ]
  },
  {
   "cell_type": "code",
   "execution_count": 230,
   "id": "ffb652a4-77e4-42a5-aa2e-68d6e28c1337",
   "metadata": {
    "tags": []
   },
   "outputs": [
    {
     "data": {
      "text/plain": [
       "[{'chunk_id': 'fannie_part_0_c326'},\n",
       " {'chunk_id': 'fannie_part_0_c352'},\n",
       " {'chunk_id': 'fannie_part_0_c353'},\n",
       " {'chunk_id': 'fannie_part_0_c92'},\n",
       " {'chunk_id': 'freddie_part_4_c472'},\n",
       " {'chunk_id': 'freddie_part_4_c509'},\n",
       " {'chunk_id': 'freddie_part_4_c510'}]"
      ]
     },
     "execution_count": 230,
     "metadata": {},
     "output_type": "execute_result"
    }
   ],
   "source": [
    "run_query(sqlalchemy.text(f\"\"\"\n",
    "    SELECT chunk_id\n",
    "    FROM `{CLOUDSQL_TABLE_NAME}`\n",
    "    WHERE NEAREST(embedding_vector) TO (string_to_vector('{str(question_embedding)}'), 'num_neighbors=7')\n",
    "\"\"\"))"
   ]
  },
  {
   "cell_type": "markdown",
   "id": "4c35a593-fdd9-42b2-b72c-b33c9fcda7ba",
   "metadata": {},
   "source": [
    "Add a filter, `gse = 'fannie'`, to the query and note that fewere than the requested or default neighbors is returned.  This means the filter is being applied as a post filter, 7 neight found, then the filter was applied to those 7:"
   ]
  },
  {
   "cell_type": "code",
   "execution_count": 231,
   "id": "5aa9c9c6-f2b6-4a4b-8921-d126c5860716",
   "metadata": {
    "tags": []
   },
   "outputs": [
    {
     "data": {
      "text/plain": [
       "[{'chunk_id': 'fannie_part_0_c326'},\n",
       " {'chunk_id': 'fannie_part_0_c352'},\n",
       " {'chunk_id': 'fannie_part_0_c353'},\n",
       " {'chunk_id': 'fannie_part_0_c92'}]"
      ]
     },
     "execution_count": 231,
     "metadata": {},
     "output_type": "execute_result"
    }
   ],
   "source": [
    "run_query(sqlalchemy.text(f\"\"\"\n",
    "    SELECT chunk_id\n",
    "    FROM `{CLOUDSQL_TABLE_NAME}`\n",
    "    WHERE NEAREST(embedding_vector) TO (string_to_vector('{str(question_embedding)}'), 'num_neighbors=7')\n",
    "    AND gse = 'fannie'\n",
    "\"\"\"))"
   ]
  },
  {
   "cell_type": "markdown",
   "id": "e0e0ed3c-315c-4c36-b2d6-27c713d72883",
   "metadata": {},
   "source": [
    "Using `EXPLAIN_ANALYZE` shows that even though the filtering was applied post rather than pre it still used the index:"
   ]
  },
  {
   "cell_type": "code",
   "execution_count": 232,
   "id": "9f5691d8-e1b2-49b4-bed0-94764305bdc7",
   "metadata": {
    "tags": []
   },
   "outputs": [
    {
     "data": {
      "text/plain": [
       "{'EXPLAIN': \"-> Filter: ((retrieval_cloudsql_mysql.gse = 'fannie') and ((retrieval_cloudsql_mysql.chunk_id = 'fannie_part_0_c92') or (retrieval_cloudsql_mysql.chunk_id = 'freddie_part_4_c472') or (retrieval_cloudsql_mysql.chunk_id = 'fannie_part_0_c326') or (retrieval_cloudsql_mysql.chunk_id = 'fannie_part_0_c353') or (retrieval_cloudsql_mysql.chunk_id = 'freddie_part_4_c510') or (retrieval_cloudsql_mysql.chunk_id = 'freddie_part_4_c509') or (retrieval_cloudsql_mysql.chunk_id = 'fannie_part_0_c352')))  (cost=7.57 rows=0.7) (actual time=0.0366..0.0665 rows=4 loops=1)\\n    -> Index range scan on retrieval_cloudsql_mysql using PRIMARY over (chunk_id = 'fannie_part_0_c326') OR (chunk_id = 'fannie_part_0_c352') OR (5 more)  (cost=7.57 rows=7) (actual time=0.0337..0.0597 rows=7 loops=1)\\n\"}"
      ]
     },
     "execution_count": 232,
     "metadata": {},
     "output_type": "execute_result"
    }
   ],
   "source": [
    "run_query(sqlalchemy.text(f\"\"\"\n",
    "EXPLAIN ANALYZE\n",
    "    SELECT chunk_id\n",
    "    FROM `{CLOUDSQL_TABLE_NAME}`\n",
    "    WHERE NEAREST(embedding_vector) TO (string_to_vector('{str(question_embedding)}'), 'num_neighbors=7')\n",
    "    AND gse = 'fannie'\n",
    "\"\"\"))"
   ]
  },
  {
   "cell_type": "markdown",
   "id": "bb37ce83-faa5-45df-a2a8-f089cf1c6191",
   "metadata": {},
   "source": [
    "And compare to a brute force query with pre-filtering:"
   ]
  },
  {
   "cell_type": "code",
   "execution_count": 233,
   "id": "04222d00-53e3-4bbe-8152-c76577a95940",
   "metadata": {
    "tags": []
   },
   "outputs": [
    {
     "data": {
      "text/plain": [
       "[{'chunk_id': 'fannie_part_0_c352', 'dot_product': -0.7099842034905741},\n",
       " {'chunk_id': 'fannie_part_0_c353', 'dot_product': -0.6723706805978971},\n",
       " {'chunk_id': 'fannie_part_0_c326', 'dot_product': -0.6683496294372162},\n",
       " {'chunk_id': 'fannie_part_0_c92', 'dot_product': -0.6614337365039091},\n",
       " {'chunk_id': 'fannie_part_0_c240', 'dot_product': -0.6608578612144242}]"
      ]
     },
     "execution_count": 233,
     "metadata": {},
     "output_type": "execute_result"
    }
   ],
   "source": [
    "run_query(sqlalchemy.text(f\"\"\"\n",
    "    SELECT\n",
    "        chunk_id, \n",
    "        dot_product(embedding_vector, string_to_vector('{str(question_embedding)}')) AS dot_product\n",
    "    FROM `{CLOUDSQL_TABLE_NAME}`\n",
    "    WHERE gse = 'fannie'\n",
    "    ORDER BY dot_product\n",
    "    LIMIT 5\n",
    "\"\"\"))"
   ]
  },
  {
   "cell_type": "markdown",
   "id": "f6fe62b7-9213-4df2-97bb-04f7f8afb570",
   "metadata": {},
   "source": [
    "Uncomment the following cell to delete the index.  The next section expects the index to be present and instead rebuilds/replaces it with a different index:"
   ]
  },
  {
   "cell_type": "code",
   "execution_count": 234,
   "id": "3ff0d1c7-6bc8-4acf-a019-88c6c467ae30",
   "metadata": {
    "tags": []
   },
   "outputs": [],
   "source": [
    "#run_query(sqlalchemy.text(f\"call mysql.drop_vector_index('{CLOUDSQL_DATABASE_NAME}.embedding_index');\"))"
   ]
  },
  {
   "cell_type": "markdown",
   "id": "d93644a9-049f-4248-9fc9-98b04f889791",
   "metadata": {},
   "source": [
    "---\n",
    "## Retrieval Augmented Generation (RAG)\n",
    "\n",
    "Build a simple retrieval augmented generation process that enhances a query by retrieving context.  This is done here by constructing three functions for the stages:\n",
    "- `retrieve` - a function that uses an embedding to search for matching context parts, pieces of texts\n",
    "    - this uses the system built earlier in this workflow!\n",
    "- `augment` - prepare chunks into a prompt\n",
    "- `generate` - make the llm request with the augmented prompt\n",
    "\n",
    "A final function is used to execute the workflow of rag:\n",
    "- `rag` - a function that receives the query an orchestrates the workflow through `retrieve` > `augment` > `generate`"
   ]
  },
  {
   "cell_type": "markdown",
   "id": "059d067a-cec4-4ad1-8ddb-04fd02683683",
   "metadata": {},
   "source": [
    "### Clients"
   ]
  },
  {
   "cell_type": "code",
   "execution_count": 33,
   "id": "4c817bb0-0e06-4747-a3ea-ff639d2c1034",
   "metadata": {
    "tags": []
   },
   "outputs": [],
   "source": [
    "embedder = vertexai.language_models.TextEmbeddingModel.from_pretrained('text-embedding-004')\n",
    "llm = vertexai.generative_models.GenerativeModel(\"gemini-1.5-flash-002\")"
   ]
  },
  {
   "cell_type": "markdown",
   "id": "1937ea6d-8178-491f-9086-24ef3b4a74da",
   "metadata": {},
   "source": [
    "### Retrieve Function"
   ]
  },
  {
   "cell_type": "code",
   "execution_count": 34,
   "id": "eed84d00-7273-491d-998f-73ae16a37d38",
   "metadata": {
    "tags": []
   },
   "outputs": [],
   "source": [
    "def retrieve_cloudsql_mysql(query_embedding, n_matches = 5):\n",
    "    \n",
    "    matches = run_query(\n",
    "        sqlalchemy.text(\n",
    "            f\"\"\"\n",
    "                SELECT chunk_id, content\n",
    "                FROM `{CLOUDSQL_TABLE_NAME}`\n",
    "                WHERE NEAREST(embedding_vector) TO (string_to_vector('{str(query_embedding)}'), 'num_neighbors={n_matches}')\n",
    "            \"\"\")\n",
    "    )\n",
    "    \n",
    "    return matches"
   ]
  },
  {
   "cell_type": "markdown",
   "id": "f2a45c10-51c4-47f0-9ab6-b057a42c1ddb",
   "metadata": {},
   "source": [
    "### Augment Function"
   ]
  },
  {
   "cell_type": "code",
   "execution_count": 35,
   "id": "73ef9a1b-e0fb-468d-8f50-39ca3ba5bdb3",
   "metadata": {
    "tags": []
   },
   "outputs": [],
   "source": [
    "def augment(matches):\n",
    "\n",
    "    prompt = ''\n",
    "    for m, match in enumerate(matches):\n",
    "        prompt += f\"Context {m+1}:\\n{match['content']}\\n\\n\"\n",
    "    prompt += f'Answer the following question using the provided contexts:\\n'\n",
    "\n",
    "    return prompt"
   ]
  },
  {
   "cell_type": "markdown",
   "id": "399c1687-354f-4f81-abd5-8e55f8cf1015",
   "metadata": {},
   "source": [
    "### Generate Function"
   ]
  },
  {
   "cell_type": "code",
   "execution_count": 36,
   "id": "fbbb96ec-7af7-425e-9bdd-a77847bd7731",
   "metadata": {
    "tags": []
   },
   "outputs": [],
   "source": [
    "def generate(prompt):\n",
    "\n",
    "    result = llm.generate_content(prompt)\n",
    "\n",
    "    return result"
   ]
  },
  {
   "cell_type": "markdown",
   "id": "6846b732-6ddc-44b3-b7f9-d338f26508ce",
   "metadata": {},
   "source": [
    "### RAG Function"
   ]
  },
  {
   "cell_type": "code",
   "execution_count": 249,
   "id": "a66861a4-3831-4796-bc08-067bcffacd99",
   "metadata": {
    "tags": []
   },
   "outputs": [],
   "source": [
    "def rag(query):\n",
    "    \n",
    "    query_embedding = embedder.get_embeddings([query])[0].values\n",
    "    matches = retrieve_cloudsql_mysql(query_embedding)\n",
    "    prompt = augment(matches) + query\n",
    "    result = generate(prompt)\n",
    "    \n",
    "    return result.text"
   ]
  },
  {
   "cell_type": "markdown",
   "id": "7f54ed98-10c6-4204-912c-de4736c42778",
   "metadata": {
    "tags": []
   },
   "source": [
    "### Example In Use"
   ]
  },
  {
   "cell_type": "code",
   "execution_count": 250,
   "id": "e8dc30ab-0d45-44d8-af0c-64b695ca66a7",
   "metadata": {
    "tags": []
   },
   "outputs": [
    {
     "data": {
      "text/plain": [
       "'Does a lender have to perform servicing functions directly?'"
      ]
     },
     "execution_count": 250,
     "metadata": {},
     "output_type": "execute_result"
    }
   ],
   "source": [
    "question"
   ]
  },
  {
   "cell_type": "code",
   "execution_count": 251,
   "id": "c49a1f2f-f1ba-4a27-8cbe-614deefa6ab4",
   "metadata": {
    "tags": []
   },
   "outputs": [
    {
     "name": "stdout",
     "output_type": "stream",
     "text": [
      "No, a lender does not have to perform servicing functions directly.  Context 2 explicitly states that a lender may use other organizations (subservicers) to perform some or all of its servicing functions.  The use of a subservicer is permissible as long as it doesn't interfere with the lender's ability to meet Fannie Mae's requirements (Context 3).  The contexts also discuss master servicers and servicing agents, further illustrating that servicing can be outsourced.\n",
      "\n"
     ]
    }
   ],
   "source": [
    "print(rag(question))"
   ]
  },
  {
   "cell_type": "markdown",
   "id": "aba18629-0a02-4dc9-be25-e067e56f2d6f",
   "metadata": {},
   "source": [
    "---\n",
    "### Profiling Performance\n",
    "\n",
    "Profile the timing of each step in the RAG function for sequential calls. The environment choosen for this workflow is a minimal testing enviornment so load testing (simoultaneous requests) would not be helpful."
   ]
  },
  {
   "cell_type": "code",
   "execution_count": 37,
   "id": "ed038bfe-15cd-441f-b01f-f4507f3bf611",
   "metadata": {
    "tags": []
   },
   "outputs": [],
   "source": [
    "profile = []"
   ]
  },
  {
   "cell_type": "code",
   "execution_count": 38,
   "id": "6b4b9fab-9838-4b90-8ade-4bf77a8ac08f",
   "metadata": {
    "tags": []
   },
   "outputs": [],
   "source": [
    "def rag(query, profile = profile):\n",
    "    \n",
    "    timings = {}\n",
    "    start_time = time.time()\n",
    "    \n",
    "    \n",
    "    # 1. Get embeddings\n",
    "    embedding_start = time.time()\n",
    "    query_embedding = embedder.get_embeddings([query])[0].values\n",
    "    timings['embedding'] = time.time() - embedding_start\n",
    "\n",
    "    # 2. Retrieve from Bigtable\n",
    "    retrieval_start = time.time()\n",
    "    matches = retrieve_cloudsql_mysql(query_embedding)\n",
    "    timings['retrieve_cloudsql_mysql'] = time.time() - retrieval_start\n",
    "\n",
    "    # 3. Augment the prompt\n",
    "    augment_start = time.time()\n",
    "    prompt = augment(matches) + query\n",
    "    timings['augment'] = time.time() - augment_start\n",
    "\n",
    "    # 4. Generate text\n",
    "    generate_start = time.time()\n",
    "    result = generate(prompt)\n",
    "    timings['generate'] = time.time() - generate_start\n",
    "\n",
    "    total_time = time.time() - start_time\n",
    "    timings['total'] = total_time\n",
    "    \n",
    "    profile.append(timings)\n",
    "    \n",
    "    return result.text"
   ]
  },
  {
   "cell_type": "code",
   "execution_count": 39,
   "id": "4341a538-486d-444d-855a-342a04da8437",
   "metadata": {
    "tags": []
   },
   "outputs": [
    {
     "name": "stdout",
     "output_type": "stream",
     "text": [
      "No.  Context 2 explicitly states that a lender may use other organizations (subservicers) to perform some or all of its servicing functions.  This is referred to as a \"subservicing\" arrangement.  However,  the lender remains ultimately responsible, acting as the \"master servicer,\" and must meet Fannie Mae's requirements even when using a subservicer.\n",
      "\n"
     ]
    }
   ],
   "source": [
    "print(rag(question))"
   ]
  },
  {
   "cell_type": "code",
   "execution_count": 40,
   "id": "37a3abfc-7b0a-419a-8abd-145d77e9f350",
   "metadata": {
    "tags": []
   },
   "outputs": [
    {
     "data": {
      "text/plain": [
       "[{'embedding': 0.13007521629333496,\n",
       "  'retrieve_cloudsql_mysql': 0.3063802719116211,\n",
       "  'augment': 2.4557113647460938e-05,\n",
       "  'generate': 0.7158539295196533,\n",
       "  'total': 1.1523406505584717}]"
      ]
     },
     "execution_count": 40,
     "metadata": {},
     "output_type": "execute_result"
    }
   ],
   "source": [
    "profile"
   ]
  },
  {
   "cell_type": "code",
   "execution_count": 41,
   "id": "866c34ea-8b5e-4753-8b9d-2f10d3c5967d",
   "metadata": {
    "tags": []
   },
   "outputs": [],
   "source": [
    "for i in range(100):\n",
    "    response = rag(question)"
   ]
  },
  {
   "cell_type": "markdown",
   "id": "b9109202-19fb-4bdb-8b17-75006a11eb90",
   "metadata": {},
   "source": [
    "### Report From Profile"
   ]
  },
  {
   "cell_type": "code",
   "execution_count": 42,
   "id": "508384a5-dfdf-4711-bf0c-0a5b5a92a924",
   "metadata": {
    "tags": []
   },
   "outputs": [],
   "source": [
    "all_timings = {}\n",
    "for timings in profile:\n",
    "    for key, value in timings.items():\n",
    "        if key not in all_timings:\n",
    "            all_timings[key] = []\n",
    "        all_timings[key].append(value)"
   ]
  },
  {
   "cell_type": "code",
   "execution_count": 43,
   "id": "dce166e7-54ce-4f85-80d5-c95d6a55b5be",
   "metadata": {
    "tags": []
   },
   "outputs": [
    {
     "name": "stdout",
     "output_type": "stream",
     "text": [
      "Statistics for 'embedding':\n",
      "  Min: 0.0469 seconds\n",
      "  Max: 10.0762 seconds\n",
      "  Mean: 0.2577 seconds\n",
      "  Median: 0.0521 seconds\n",
      "  Std Dev: 1.3952 seconds\n",
      "  P95: 0.0907 seconds\n",
      "  P99: 10.0652 seconds\n",
      "\n",
      "Statistics for 'retrieve_cloudsql_mysql':\n",
      "  Min: 0.0142 seconds\n",
      "  Max: 0.3064 seconds\n",
      "  Mean: 0.0194 seconds\n",
      "  Median: 0.0159 seconds\n",
      "  Std Dev: 0.0288 seconds\n",
      "  P95: 0.0212 seconds\n",
      "  P99: 0.0238 seconds\n",
      "\n",
      "Statistics for 'augment':\n",
      "  Min: 0.0000 seconds\n",
      "  Max: 0.0001 seconds\n",
      "  Mean: 0.0000 seconds\n",
      "  Median: 0.0000 seconds\n",
      "  Std Dev: 0.0000 seconds\n",
      "  P95: 0.0000 seconds\n",
      "  P99: 0.0001 seconds\n",
      "\n",
      "Statistics for 'generate':\n",
      "  Min: 0.5215 seconds\n",
      "  Max: 0.9846 seconds\n",
      "  Mean: 0.6994 seconds\n",
      "  Median: 0.6847 seconds\n",
      "  Std Dev: 0.0825 seconds\n",
      "  P95: 0.8642 seconds\n",
      "  P99: 0.9639 seconds\n",
      "\n",
      "Statistics for 'total':\n",
      "  Min: 0.5868 seconds\n",
      "  Max: 10.8077 seconds\n",
      "  Mean: 0.9765 seconds\n",
      "  Median: 0.7594 seconds\n",
      "  Std Dev: 1.3983 seconds\n",
      "  P95: 1.0279 seconds\n",
      "  P99: 10.7732 seconds\n",
      "\n"
     ]
    }
   ],
   "source": [
    "for key, values in all_timings.items():\n",
    "    arr = np.array(values)\n",
    "    print(f\"Statistics for '{key}':\")\n",
    "    print(f\"  Min: {np.min(arr):.4f} seconds\")\n",
    "    print(f\"  Max: {np.max(arr):.4f} seconds\")\n",
    "    print(f\"  Mean: {np.mean(arr):.4f} seconds\")\n",
    "    print(f\"  Median: {np.median(arr):.4f} seconds\")\n",
    "    print(f\"  Std Dev: {np.std(arr):.4f} seconds\")\n",
    "    print(f\"  P95: {np.percentile(arr, 95):.4f} seconds\")\n",
    "    print(f\"  P99: {np.percentile(arr, 99):.4f} seconds\")\n",
    "    print(\"\")"
   ]
  },
  {
   "cell_type": "markdown",
   "id": "847b69b8-13b8-4a2e-abe7-11adc776bb08",
   "metadata": {},
   "source": [
    "## Remove Resources"
   ]
  },
  {
   "cell_type": "code",
   "execution_count": 82,
   "id": "2033b98b-7280-4bec-87aa-1d54eecbe0f0",
   "metadata": {
    "tags": []
   },
   "outputs": [],
   "source": [
    "# can't drop the database of an active connection, switch connection to mysql (default) database\n",
    "\n",
    "#sync_pool.dispose()\n",
    "#sync_connector.close()\n",
    "#sync_connector = google.cloud.sql.connector.Connector()\n",
    "#sync_pool = get_sync_pool(sync_connector, 'mysql')\n",
    "\n",
    "#query = sqlalchemy.text(f\"DROP DATABASE IF EXISTS `{CLOUDSQL_DATABASE_NAME}`\")\n",
    "#run_query(query)"
   ]
  },
  {
   "cell_type": "code",
   "execution_count": 107,
   "id": "778c4aee-ee06-40f5-8daf-9be7198bcb68",
   "metadata": {
    "tags": []
   },
   "outputs": [],
   "source": [
    "#user_delete = !gcloud sql users delete $CLOUDSQL_USER --instance=$CLOUDSQL_INSTANCE_NAME --quiet"
   ]
  },
  {
   "cell_type": "code",
   "execution_count": 255,
   "id": "315a8b7b-575f-4708-84fb-40dfffbfe280",
   "metadata": {
    "tags": []
   },
   "outputs": [],
   "source": [
    "#instance_delete = !gcloud sql instances delete $CLOUDSQL_INSTANCE_NAME --quiet --format=json"
   ]
  },
  {
   "cell_type": "code",
   "execution_count": null,
   "id": "676e7307-739e-43f8-8083-02698181e747",
   "metadata": {},
   "outputs": [],
   "source": []
  }
 ],
 "metadata": {
  "environment": {
   "kernel": "conda-base-py",
   "name": "workbench-notebooks.m125",
   "type": "gcloud",
   "uri": "us-docker.pkg.dev/deeplearning-platform-release/gcr.io/workbench-notebooks:m125"
  },
  "kernelspec": {
   "display_name": "Python 3 (ipykernel) (Local)",
   "language": "python",
   "name": "conda-base-py"
  },
  "language_info": {
   "codemirror_mode": {
    "name": "ipython",
    "version": 3
   },
   "file_extension": ".py",
   "mimetype": "text/x-python",
   "name": "python",
   "nbconvert_exporter": "python",
   "pygments_lexer": "ipython3",
   "version": "3.10.15"
  }
 },
 "nbformat": 4,
 "nbformat_minor": 5
}
