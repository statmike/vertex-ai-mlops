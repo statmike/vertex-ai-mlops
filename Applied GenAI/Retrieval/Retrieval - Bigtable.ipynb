{
 "cells": [
  {
   "cell_type": "markdown",
   "id": "e89180c9",
   "metadata": {},
   "source": [
    "![tracker](https://us-central1-vertex-ai-mlops-369716.cloudfunctions.net/pixel-tracking?path=statmike%2Fvertex-ai-mlops%2FApplied+GenAI%2FRetrieval&file=Retrieval+-+Bigtable.ipynb)\n",
    "<!--- header table --->\n",
    "<table align=\"left\">\n",
    "  <td style=\"text-align: center\">\n",
    "    <a href=\"https://colab.research.google.com/github/statmike/vertex-ai-mlops/blob/main/Applied%20GenAI/Retrieval/Retrieval%20-%20Bigtable.ipynb\">\n",
    "      <img src=\"https://cloud.google.com/ml-engine/images/colab-logo-32px.png\" alt=\"Google Colaboratory logo\">\n",
    "      <br>Run in<br>Colab\n",
    "    </a>\n",
    "  </td>\n",
    "  <td style=\"text-align: center\">\n",
    "    <a href=\"https://console.cloud.google.com/vertex-ai/colab/import/https%3A%2F%2Fraw.githubusercontent.com%2Fstatmike%2Fvertex-ai-mlops%2Fmain%2FApplied%2520GenAI%2FRetrieval%2FRetrieval%2520-%2520Bigtable.ipynb\">\n",
    "      <img width=\"32px\" src=\"https://lh3.googleusercontent.com/JmcxdQi-qOpctIvWKgPtrzZdJJK-J3sWE1RsfjZNwshCFgE_9fULcNpuXYTilIR2hjwN\" alt=\"Google Cloud Colab Enterprise logo\">\n",
    "      <br>Run in<br>Colab Enterprise\n",
    "    </a>\n",
    "  </td>      \n",
    "  <td style=\"text-align: center\">\n",
    "    <a href=\"https://github.com/statmike/vertex-ai-mlops/blob/main/Applied%20GenAI/Retrieval/Retrieval%20-%20Bigtable.ipynb\">\n",
    "      <img src=\"https://cloud.google.com/ml-engine/images/github-logo-32px.png\" alt=\"GitHub logo\">\n",
    "      <br>View on<br>GitHub\n",
    "    </a>\n",
    "  </td>\n",
    "  <td style=\"text-align: center\">\n",
    "    <a href=\"https://console.cloud.google.com/vertex-ai/workbench/deploy-notebook?download_url=https://raw.githubusercontent.com/statmike/vertex-ai-mlops/main/Applied%20GenAI/Retrieval/Retrieval%20-%20Bigtable.ipynb\">\n",
    "      <img src=\"https://lh3.googleusercontent.com/UiNooY4LUgW_oTvpsNhPpQzsstV5W8F7rYgxgGBD85cWJoLmrOzhVs_ksK_vgx40SHs7jCqkTkCk=e14-rj-sc0xffffff-h130-w32\" alt=\"Vertex AI logo\">\n",
    "      <br>Open in<br>Vertex AI Workbench\n",
    "    </a>\n",
    "  </td>\n",
    "</table>"
   ]
  },
  {
   "cell_type": "markdown",
   "id": "96b0e8e6-d761-4540-9d09-8f0c4ce9a020",
   "metadata": {},
   "source": [
    "# Retrieval - Bigtable\n",
    "\n",
    "In prior workflows, a series of documents was [processed into chunks](../Chunking/readme.md), and for each chunk, [embeddings](../Embeddings/readme.md) were created:\n",
    "\n",
    "- Process: [Large Document Processing - Document AI Layout Parser](../Chunking/Large%20Document%20Processing%20-%20Document%20AI%20Layout%20Parser.ipynb)\n",
    "- Embed: [Vertex AI Text Embeddings API](../Embeddings/Vertex%20AI%20Text%20Embeddings%20API.ipynb)\n",
    "\n",
    "Retrieving chunks for a query involves calculating the embedding for the query and then using similarity metrics to find relevant chunks. A thorough review of similarity matching can be found in [The Math of Similarity](../Embeddings/The%20Math%20of%20Similarity.ipynb) - use dot product! As development moves from experiment to application, the process of storing and computing similarity is migrated to a [retrieval](./readme.md) system. This workflow is part of a [series of workflows exploring many retrieval systems](./readme.md).  \n",
    "\n",
    "A detailed [comparison of many retrieval systems](./readme.md#comparison-of-vector-database-solutions) can be found in the readme as well.\n",
    "\n",
    "---\n",
    "\n",
    "**Bigtable For Storage, And Search**\n",
    "\n",
    "[Google Cloud Bigtable](https://cloud.google.com/bigtable) is a fully managed, scalable NoSQL wide-column database service. It's the same technology that powers many core Google services, including Search, Maps, and Gmail! Bigtable is designed for high throughput and low latency, making it suitable for large-scale analytical and operational workloads.\n",
    "\n",
    "- **Key Features:**\n",
    "\n",
    "    - **Scalability:** Bigtable can handle massive amounts of data and traffic, scaling seamlessly to meet your needs.\n",
    "    - **Performance:** It provides low latency and high throughput, making it ideal for applications that require fast data access.\n",
    "    - **Wide-Column Data Model:** Bigtable's flexible data model allows you to store and query data with a large number of columns, making it suitable for sparse and semi-structured data.\n",
    "    - **Integration:** Bigtable integrates with other Google Cloud services, such as BigQuery and Dataflow, for data analytics and processing.\n",
    "\n",
    "- **Built-in Nearest Neighbor Search:**\n",
    "\n",
    "    - Bigtable now offers [built-in support for nearest neighbor search](https://cloud.google.com/bigtable/docs/find-k-nearest-neighbors#perform-knn-search) with vector embeddings.\n",
    "    - You [write embeddings to Bigtable](https://cloud.google.com/bigtable/docs/find-k-nearest-neighbors#write-embeddings) as [byte objects](https://cloud.google.com/bigtable/docs/find-k-nearest-neighbors#define-conversion-functions).\n",
    "    - Using the [new SQL interface in Bigtable](https://cloud.google.com/bigtable/docs/introduction-sql), you can perform efficient nearest neighbor searches using embeddings.\n",
    "\n",
    "---\n",
    "\n",
    "**Use Case Data**\n",
    "\n",
    "Buying a home usually involves borrowing money from a lending institution, typically through a mortgage secured by the home's value. But how do these institutions manage the risks associated with such large loans, and how are lending standards established?\n",
    "\n",
    "In the United States, two government-sponsored enterprises (GSEs) play a vital role in the housing market:\n",
    "\n",
    "- Federal National Mortgage Association ([Fannie Mae](https://www.fanniemae.com/))\n",
    "- Federal Home Loan Mortgage Corporation ([Freddie Mac](https://www.freddiemac.com/))\n",
    "\n",
    "These GSEs purchase mortgages from lenders, enabling those lenders to offer more loans. This process also allows Fannie Mae and Freddie Mac to set standards for mortgages, ensuring they are responsible and borrowers are more likely to repay them. This system makes homeownership more affordable and stabilizes the housing market by maintaining a steady flow of liquidity for lenders and keeping interest rates controlled.\n",
    "\n",
    "However, navigating the complexities of these GSEs and their extensive servicing guides can be challenging.\n",
    "\n",
    "**Approaches**\n",
    "\n",
    "[This series](../readme.md) covers many generative AI workflows. These documents are used directly as long context for Gemini in the workflow [Long Context Retrieval With The Vertex AI Gemini API](../Generate/Long%20Context%20Retrieval%20With%20The%20Vertex%20AI%20Gemini%20API.ipynb). The workflow below uses a [retrieval](./readme.md) approach with the already generated chunks and embeddings."
   ]
  },
  {
   "cell_type": "markdown",
   "id": "be889472-69b0-416c-9cf1-edc9706fa5c5",
   "metadata": {
    "id": "od_UkDpvRmgD"
   },
   "source": [
    "---\n",
    "## Colab Setup\n",
    "\n",
    "When running this notebook in [Colab](https://colab.google/) or [Colab Enterprise](https://cloud.google.com/colab/docs/introduction), this section will authenticate to GCP (follow prompts in the popup) and set the current project for the session."
   ]
  },
  {
   "cell_type": "code",
   "execution_count": 1,
   "id": "21f75ba8-df50-466e-a5ec-f2a6dd88eb26",
   "metadata": {
    "executionInfo": {
     "elapsed": 195,
     "status": "ok",
     "timestamp": 1683726184843,
     "user": {
      "displayName": "Mike Henderson",
      "userId": "07691629187611687318"
     },
     "user_tz": 240
    },
    "id": "8UO9FnqyKBlF",
    "tags": []
   },
   "outputs": [],
   "source": [
    "PROJECT_ID = 'statmike-mlops-349915' # replace with project ID"
   ]
  },
  {
   "cell_type": "code",
   "execution_count": 2,
   "id": "9c325515-1ea0-45cc-82d3-a1bfb1c52155",
   "metadata": {
    "colab": {
     "base_uri": "https://localhost:8080/"
    },
    "executionInfo": {
     "elapsed": 68869,
     "status": "ok",
     "timestamp": 1683726253709,
     "user": {
      "displayName": "Mike Henderson",
      "userId": "07691629187611687318"
     },
     "user_tz": 240
    },
    "id": "N98-KK7LRkjm",
    "outputId": "09ec5008-0def-4e1a-c349-c598ee752f78",
    "tags": []
   },
   "outputs": [],
   "source": [
    "try:\n",
    "    from google.colab import auth\n",
    "    auth.authenticate_user()\n",
    "    !gcloud config set project {PROJECT_ID}\n",
    "except Exception:\n",
    "    pass"
   ]
  },
  {
   "cell_type": "markdown",
   "id": "055a4bd7-7b47-43ef-ba14-636c955e44e3",
   "metadata": {},
   "source": [
    "---\n",
    "## Installs and API Enablement\n",
    "\n",
    "The clients packages may need installing in this environment. "
   ]
  },
  {
   "cell_type": "markdown",
   "id": "410502ee-6fe3-4624-a69a-960ad7105f10",
   "metadata": {},
   "source": [
    "### Installs (If Needed)"
   ]
  },
  {
   "cell_type": "code",
   "execution_count": 3,
   "id": "f4dbdb83-3170-430c-b60d-3d686222a168",
   "metadata": {
    "tags": []
   },
   "outputs": [],
   "source": [
    "# tuples of (import name, install name, min_version)\n",
    "packages = [\n",
    "    ('google.cloud.aiplatform', 'google-cloud-aiplatform', '1.69.0'),\n",
    "    ('google.cloud.bigtable', 'google-cloud-bigtable'),\n",
    "]\n",
    "\n",
    "import importlib\n",
    "install = False\n",
    "for package in packages:\n",
    "    if not importlib.util.find_spec(package[0]):\n",
    "        print(f'installing package {package[1]}')\n",
    "        install = True\n",
    "        !pip install {package[1]} -U -q --user\n",
    "    elif len(package) == 3:\n",
    "        if importlib.metadata.version(package[0]) < package[2]:\n",
    "            print(f'updating package {package[1]}')\n",
    "            install = True\n",
    "            !pip install {package[1]} -U -q --user"
   ]
  },
  {
   "cell_type": "markdown",
   "id": "25374857-7d37-4c84-8cbb-a3c2fc7bb065",
   "metadata": {},
   "source": [
    "### API Enablement"
   ]
  },
  {
   "cell_type": "code",
   "execution_count": 4,
   "id": "9b7300a8-7e3a-4a08-95c0-91186237753f",
   "metadata": {
    "tags": []
   },
   "outputs": [],
   "source": [
    "!gcloud services enable aiplatform.googleapis.com\n",
    "!gcloud services enable bigtable.googleapis.com\n",
    "!gcloud services enable bigtableadmin.googleapis.com"
   ]
  },
  {
   "cell_type": "markdown",
   "id": "157d09ba-9774-495f-8ced-3382bf75be8f",
   "metadata": {},
   "source": [
    "### Restart Kernel (If Installs Occured)\n",
    "\n",
    "After a kernel restart the code submission can start with the next cell after this one."
   ]
  },
  {
   "cell_type": "code",
   "execution_count": 5,
   "id": "f9864153-66c8-43e1-ae96-1179632ccf7d",
   "metadata": {
    "tags": []
   },
   "outputs": [],
   "source": [
    "if install:\n",
    "    import IPython\n",
    "    app = IPython.Application.instance()\n",
    "    app.kernel.do_shutdown(True)\n",
    "    IPython.display.display(IPython.display.Markdown(\"\"\"<div class=\\\"alert alert-block alert-warning\\\">\n",
    "        <b>⚠️ The kernel is going to restart. Please wait until it is finished before continuing to the next step. The previous cells do not need to be run again⚠️</b>\n",
    "        </div>\"\"\"))"
   ]
  },
  {
   "cell_type": "markdown",
   "id": "09a1ab41-cb32-4398-86dc-d30effb88a36",
   "metadata": {
    "id": "appt8-yVRtJ1"
   },
   "source": [
    "---\n",
    "## Setup"
   ]
  },
  {
   "cell_type": "markdown",
   "id": "2cebe11b-9ca1-4f3e-aa78-78640ff01ec8",
   "metadata": {
    "id": "63mx2EozRxFP"
   },
   "source": [
    "Inputs"
   ]
  },
  {
   "cell_type": "code",
   "execution_count": 6,
   "id": "ab2239cd-40ab-416d-bac0-0c6953d911b6",
   "metadata": {
    "colab": {
     "base_uri": "https://localhost:8080/",
     "height": 35
    },
    "executionInfo": {
     "elapsed": 2124,
     "status": "ok",
     "timestamp": 1683726390544,
     "user": {
      "displayName": "Mike Henderson",
      "userId": "07691629187611687318"
     },
     "user_tz": 240
    },
    "id": "xzcoXjM5Rky5",
    "outputId": "b3bdcbc1-70d5-472e-aea2-42c74a42efde",
    "tags": []
   },
   "outputs": [
    {
     "data": {
      "text/plain": [
       "'statmike-mlops-349915'"
      ]
     },
     "execution_count": 6,
     "metadata": {},
     "output_type": "execute_result"
    }
   ],
   "source": [
    "project = !gcloud config get-value project\n",
    "PROJECT_ID = project[0]\n",
    "PROJECT_ID"
   ]
  },
  {
   "cell_type": "code",
   "execution_count": 7,
   "id": "8aa97f05-66e9-4276-b2e6-83b5a91ca50c",
   "metadata": {
    "executionInfo": {
     "elapsed": 2,
     "status": "ok",
     "timestamp": 1683726390712,
     "user": {
      "displayName": "Mike Henderson",
      "userId": "07691629187611687318"
     },
     "user_tz": 240
    },
    "id": "IxWrFtqYMfku",
    "tags": []
   },
   "outputs": [],
   "source": [
    "REGION = 'us-central1'\n",
    "SERIES = 'applied-genai'\n",
    "EXPERIMENT = 'retrieval-bigtable'\n",
    "\n",
    "# BigTable Names\n",
    "BIGTABLE_INSTANCE_NAME = PROJECT_ID\n",
    "BIGTABLE_TABLE_NAME = SERIES\n",
    "BIGTABLE_COLUMN_FAMILY_NAME = EXPERIMENT"
   ]
  },
  {
   "cell_type": "markdown",
   "id": "52bbf65b-5d29-4a72-84ae-d977b9a743a6",
   "metadata": {
    "id": "LuajVwCiO6Yg"
   },
   "source": [
    "Packages"
   ]
  },
  {
   "cell_type": "code",
   "execution_count": 241,
   "id": "559f6e60-a594-4789-893b-295a8381b670",
   "metadata": {
    "executionInfo": {
     "elapsed": 17761,
     "status": "ok",
     "timestamp": 1683726409304,
     "user": {
      "displayName": "Mike Henderson",
      "userId": "07691629187611687318"
     },
     "user_tz": 240
    },
    "id": "LVC7zzSLRk2C",
    "tags": []
   },
   "outputs": [],
   "source": [
    "import os, json, time, glob, datetime, struct, asyncio\n",
    "\n",
    "# Vertex AI\n",
    "from google.cloud import aiplatform\n",
    "import vertexai.language_models # for embeddings API\n",
    "import vertexai.generative_models # for Gemini Models\n",
    "from vertexai.resources.preview import feature_store\n",
    "\n",
    "# bigtable\n",
    "from google.cloud import bigtable\n",
    "import google.cloud.bigtable.data\n",
    "import google.cloud.bigtable.row_filters\n",
    "#from google.cloud.bigtable import row_filters"
   ]
  },
  {
   "cell_type": "code",
   "execution_count": 242,
   "id": "d3fef31f-928f-45f2-a3f4-292ee242232c",
   "metadata": {
    "tags": []
   },
   "outputs": [
    {
     "data": {
      "text/plain": [
       "'1.71.0'"
      ]
     },
     "execution_count": 242,
     "metadata": {},
     "output_type": "execute_result"
    }
   ],
   "source": [
    "aiplatform.__version__"
   ]
  },
  {
   "cell_type": "markdown",
   "id": "5758c07e-f064-40fb-a0ef-de6cbde5cd0a",
   "metadata": {
    "id": "EyAVFG9TO9H-"
   },
   "source": [
    "Clients"
   ]
  },
  {
   "cell_type": "code",
   "execution_count": 10,
   "id": "3b72f3bb-176b-4678-ba6b-df9b2de14997",
   "metadata": {
    "executionInfo": {
     "elapsed": 19,
     "status": "ok",
     "timestamp": 1683726409306,
     "user": {
      "displayName": "Mike Henderson",
      "userId": "07691629187611687318"
     },
     "user_tz": 240
    },
    "id": "L0RPE13LOZce",
    "tags": []
   },
   "outputs": [],
   "source": [
    "# vertex ai clients\n",
    "vertexai.init(project = PROJECT_ID, location = REGION)\n",
    "\n",
    "# bigtable client\n",
    "bigtable_client = bigtable.client.Client(project = PROJECT_ID, admin = True)"
   ]
  },
  {
   "cell_type": "markdown",
   "id": "8579282f-2723-4294-b72a-a65cc0831f44",
   "metadata": {},
   "source": [
    "---\n",
    "## Text & Embeddings For Examples\n",
    "\n",
    "This repository contains a [section for document processing (chunking)](../Chunking/readme.md) that includes an example of processing mulitple large pdfs (over 1000 pages) into chunks: [Large Document Processing - Document AI Layout Parser](../Chunking/Large%20Document%20Processing%20-%20Document%20AI%20Layout%20Parser.ipynb).  The chunks of text from that workflow are stored with this repository and loaded by another companion workflow that augments the chunks with text embeddings: [Vertex AI Text Embeddings API](../Embeddings/Vertex%20AI%20Text%20Embeddings%20API.ipynb).\n",
    "\n",
    "The following code will load the version of the chunks that includes text embeddings and prepare it for a local example of retrival augmented generation."
   ]
  },
  {
   "cell_type": "markdown",
   "id": "1e12cbe2-3ca6-4656-9e73-c0db5c63bf50",
   "metadata": {},
   "source": [
    "### Get The Documents\n",
    "\n",
    "If you are working from a clone of this notebooks [repository](https://github.com/statmike/vertex-ai-mlops) then the documents are already present. The following cell checks for the documents folder and if it is missing gets it (`git clone`):"
   ]
  },
  {
   "cell_type": "code",
   "execution_count": 11,
   "id": "6f4e77ed-43f7-42be-9575-6a491c0d6cba",
   "metadata": {
    "tags": []
   },
   "outputs": [],
   "source": [
    "local_dir = '../Embeddings/files/embeddings-api'"
   ]
  },
  {
   "cell_type": "code",
   "execution_count": 12,
   "id": "63ebe7c3-e72c-4394-91c3-d60c05bc0ce2",
   "metadata": {
    "tags": []
   },
   "outputs": [
    {
     "name": "stdout",
     "output_type": "stream",
     "text": [
      "Documents Found in folder `../Embeddings/files/embeddings-api`\n"
     ]
    }
   ],
   "source": [
    "if not os.path.exists(local_dir):\n",
    "    print('Retrieving documents...')\n",
    "    parent_dir = os.path.dirname(local_dir)\n",
    "    temp_dir = os.path.join(parent_dir, 'temp')\n",
    "    if not os.path.exists(temp_dir):\n",
    "        os.makedirs(temp_dir)\n",
    "    !git clone https://www.github.com/statmike/vertex-ai-mlops {temp_dir}/vertex-ai-mlops\n",
    "    shutil.copytree(f'{temp_dir}/vertex-ai-mlops/Applied GenAI/Embeddings/files/embeddings-api', local_dir)\n",
    "    shutil.rmtree(temp_dir)\n",
    "    print(f'Documents are now in folder `{local_dir}`')\n",
    "else:\n",
    "    print(f'Documents Found in folder `{local_dir}`')             "
   ]
  },
  {
   "cell_type": "markdown",
   "id": "33e68a84-9f88-4590-9ff1-e01c8a953ccf",
   "metadata": {},
   "source": [
    "### Load The Chunks"
   ]
  },
  {
   "cell_type": "code",
   "execution_count": 13,
   "id": "58d04382-a74a-44ac-8824-3b46c86aa148",
   "metadata": {
    "tags": []
   },
   "outputs": [
    {
     "data": {
      "text/plain": [
       "['../Embeddings/files/embeddings-api/large-files-chunk-embeddings-0000.jsonl',\n",
       " '../Embeddings/files/embeddings-api/large-files-chunk-embeddings-0001.jsonl',\n",
       " '../Embeddings/files/embeddings-api/large-files-chunk-embeddings-0002.jsonl',\n",
       " '../Embeddings/files/embeddings-api/large-files-chunk-embeddings-0003.jsonl',\n",
       " '../Embeddings/files/embeddings-api/large-files-chunk-embeddings-0004.jsonl',\n",
       " '../Embeddings/files/embeddings-api/large-files-chunk-embeddings-0005.jsonl',\n",
       " '../Embeddings/files/embeddings-api/large-files-chunk-embeddings-0006.jsonl',\n",
       " '../Embeddings/files/embeddings-api/large-files-chunk-embeddings-0007.jsonl',\n",
       " '../Embeddings/files/embeddings-api/large-files-chunk-embeddings-0008.jsonl',\n",
       " '../Embeddings/files/embeddings-api/large-files-chunk-embeddings-0009.jsonl']"
      ]
     },
     "execution_count": 13,
     "metadata": {},
     "output_type": "execute_result"
    }
   ],
   "source": [
    "jsonl_files = glob.glob(f\"{local_dir}/large-files*.jsonl\")\n",
    "jsonl_files.sort()\n",
    "jsonl_files"
   ]
  },
  {
   "cell_type": "code",
   "execution_count": 14,
   "id": "a54c6c96-6c28-49bb-80be-5d46797dfe77",
   "metadata": {
    "tags": []
   },
   "outputs": [
    {
     "data": {
      "text/plain": [
       "9040"
      ]
     },
     "execution_count": 14,
     "metadata": {},
     "output_type": "execute_result"
    }
   ],
   "source": [
    "chunks = []\n",
    "for file in jsonl_files:\n",
    "    with open(file, 'r') as f:\n",
    "        chunks.extend([json.loads(line) for line in f])\n",
    "len(chunks)"
   ]
  },
  {
   "cell_type": "markdown",
   "id": "a70115ec-6d60-41df-b7e6-9e2e5b463b1d",
   "metadata": {},
   "source": [
    "### Review A Chunk"
   ]
  },
  {
   "cell_type": "code",
   "execution_count": 15,
   "id": "fc20423e-e3d6-4e90-9e98-a5248508c82d",
   "metadata": {
    "tags": []
   },
   "outputs": [
    {
     "data": {
      "text/plain": [
       "dict_keys(['instance', 'predictions', 'status'])"
      ]
     },
     "execution_count": 15,
     "metadata": {},
     "output_type": "execute_result"
    }
   ],
   "source": [
    "chunks[0].keys()"
   ]
  },
  {
   "cell_type": "code",
   "execution_count": 16,
   "id": "1955ea39-4ffc-4d30-b653-a5a9911f2dab",
   "metadata": {
    "tags": []
   },
   "outputs": [
    {
     "data": {
      "text/plain": [
       "'fannie_part_0_c17'"
      ]
     },
     "execution_count": 16,
     "metadata": {},
     "output_type": "execute_result"
    }
   ],
   "source": [
    "chunks[0]['instance']['chunk_id']"
   ]
  },
  {
   "cell_type": "code",
   "execution_count": 17,
   "id": "3537982c-4a0e-456c-a652-19ea7507873b",
   "metadata": {
    "tags": []
   },
   "outputs": [
    {
     "name": "stdout",
     "output_type": "stream",
     "text": [
      "# Selling Guide Fannie Mae Single Family\n",
      "\n",
      "## Fannie Mae Copyright Notice\n",
      "\n",
      "### Fannie Mae Copyright Notice\n",
      "\n",
      "|-|\n",
      "| Section B3-4.2, Verification of Depository Assets 402 |\n",
      "| B3-4.2-01, Verification of Deposits and Assets (05/04/2022) 403 |\n",
      "| B3-4.2-02, Depository Accounts (12/14/2022) 405 |\n",
      "| B3-4.2-03, Individual Development Accounts (02/06/2019) 408 |\n",
      "| B3-4.2-04, Pooled Savings (Community Savings Funds) (04/01/2009) 411 |\n",
      "| B3-4.2-05, Foreign Assets (05/04/2022) 411 |\n",
      "| Section B3-4.3, Verification of Non-Depository Assets 412 |\n",
      "| B3-4.3-01, Stocks, Stock Options, Bonds, and Mutual Funds (06/30/2015) 412 |\n",
      "| B3-4.3-02, Trust Accounts (04/01/2009) 413 |\n",
      "| B3-4.3-03, Retirement Accounts (06/30/2015) 414 |\n",
      "| B3-4.3-04, Personal Gifts (09/06/2023) 415 |\n",
      "| B3-4.3-05, Gifts of Equity (10/07/2020) 418 |\n",
      "| B3-4.3-06, Grants and Lender Contributions (12/14/2022) 419 |\n",
      "| B3-4.3-07, Disaster Relief Grants or Loans (04/01/2009) 423 |\n",
      "| B3-4.3-08, Employer Assistance (09/29/2015) 423 |\n",
      "| B3-4.3-09, Earnest Money Deposit (05/04/2022) 425 |\n",
      "| B3-4.3-10, Anticipated Sales Proceeds (02/23/2016) B3-4.3-11, Trade Equity (12/16/2020) 426 428 |\n",
      "| B3-4.3-12, Rent-Related Credits (08/07/2024) 429 |\n",
      "| B3-4.3-13, Sweat Equity (04/15/2014) 430 |\n",
      "| B3-4.3-14, Bridge/Swing Loans (04/01/2009) 431 |\n",
      "| B3-4.3-15, Borrowed Funds Secured by an Asset (10/30/2009) 431 |\n",
      "|  |\n",
      "\n",
      "\n"
     ]
    }
   ],
   "source": [
    "print(chunks[0]['instance']['content'])"
   ]
  },
  {
   "cell_type": "code",
   "execution_count": 18,
   "id": "49f06293-a439-436b-bc93-cd6cd3fb4aff",
   "metadata": {
    "tags": []
   },
   "outputs": [
    {
     "data": {
      "text/plain": [
       "[0.031277116388082504,\n",
       " 0.03056905046105385,\n",
       " 0.010865348391234875,\n",
       " 0.0623614676296711,\n",
       " 0.03228681534528732,\n",
       " 0.05066155269742012,\n",
       " 0.046544693410396576,\n",
       " 0.05509665608406067,\n",
       " -0.014074751175940037,\n",
       " 0.008380400016903877]"
      ]
     },
     "execution_count": 18,
     "metadata": {},
     "output_type": "execute_result"
    }
   ],
   "source": [
    "chunks[0]['predictions'][0]['embeddings']['values'][0:10]"
   ]
  },
  {
   "cell_type": "markdown",
   "id": "f977358d-d9ea-4172-9eca-66079bb6087d",
   "metadata": {},
   "source": [
    "### Prepare Chunk Structure\n",
    "\n",
    "Make a list of dictionaries with information for each chunk:"
   ]
  },
  {
   "cell_type": "code",
   "execution_count": 19,
   "id": "be9fa708-130c-4343-b179-dbde0b09a972",
   "metadata": {
    "tags": []
   },
   "outputs": [],
   "source": [
    "content_chunks = [\n",
    "    dict(\n",
    "        gse = chunk['instance']['gse'],\n",
    "        chunk_id = chunk['instance']['chunk_id'],\n",
    "        content = chunk['instance']['content'],\n",
    "        embedding = chunk['predictions'][0]['embeddings']['values']\n",
    "    ) for chunk in chunks\n",
    "]"
   ]
  },
  {
   "cell_type": "markdown",
   "id": "d6619605-7b10-444e-a131-db06e56a4be8",
   "metadata": {},
   "source": [
    "### Query Embedding\n",
    "\n",
    "Create a query, or prompt, and get the embedding for it:\n",
    "\n",
    "Connect to models for text embeddings. Learn more about the model API:\n",
    "- [Vertex AI Text Embeddings API](../Embeddings/Vertex%20AI%20Text%20Embeddings%20API.ipynb)"
   ]
  },
  {
   "cell_type": "code",
   "execution_count": 20,
   "id": "3da5d30c-3dfb-42ba-a133-83dceb252787",
   "metadata": {
    "tags": []
   },
   "outputs": [],
   "source": [
    "question = \"Does a lender have to perform servicing functions directly?\""
   ]
  },
  {
   "cell_type": "code",
   "execution_count": 21,
   "id": "7992c26f-d058-4920-80a3-a157b88733e4",
   "metadata": {
    "tags": []
   },
   "outputs": [],
   "source": [
    "embedder = vertexai.language_models.TextEmbeddingModel.from_pretrained('text-embedding-004')"
   ]
  },
  {
   "cell_type": "code",
   "execution_count": 22,
   "id": "bbe6fda7-9cea-49a2-9e2f-9222d50677af",
   "metadata": {
    "tags": []
   },
   "outputs": [
    {
     "data": {
      "text/plain": [
       "[-0.0005117303808219731,\n",
       " 0.009651427157223225,\n",
       " 0.01768726110458374,\n",
       " 0.014538003131747246,\n",
       " -0.01829824410378933,\n",
       " 0.027877431362867355,\n",
       " -0.021124685183167458,\n",
       " 0.008830446749925613,\n",
       " -0.02669006586074829,\n",
       " 0.06414774805307388]"
      ]
     },
     "execution_count": 22,
     "metadata": {},
     "output_type": "execute_result"
    }
   ],
   "source": [
    "question_embedding = embedder.get_embeddings([question])[0].values\n",
    "question_embedding[0:10]"
   ]
  },
  {
   "cell_type": "markdown",
   "id": "802d5551-9d20-411c-ac95-cc0ade578893",
   "metadata": {},
   "source": [
    "---\n",
    "## Setup Bigtable\n",
    "\n",
    "Bigtable is like a tabular canvas that seems infinate - billions of rows and millions of columns.  You can choose many data schemas with the only hard limit being a max of 256MB per row.  This makes it easy to store and retrieve massive data - up to petabytes of data.  Bigtable can still be viewed simply as rows and columns.  Each row has an indexed key - the row key.  Columns are arranged in groupings called a column family. Cells are the combination of a row and column and the unit where data is stored is called a cell.  Bigtable cells offer a lot of flexibility in how they are written, including timestamped values for a history based schema at the cell level - also appends and incrementing are available by data type.\n",
    "\n",
    "**Bigtable Layout**\n",
    "\n",
    "Tables hold data.  Tables are hosted on nodes - the compute resource for Bigtable. Behind the scenes Bigtable manages tables in fractions called tablets which nodes read from disk based on incoming queries.  The location of a node is denoted by a cluster which is a container for nodes in a region.  And since Bigtable can cover multiple regions (up to 8) the combination of clusters across regions is called an instance.  This makes scaling Bigtable incredibly flexible:\n",
    "- [Instance, clusters, and nodes](https://cloud.google.com/bigtable/docs/instances-clusters-nodes)\n",
    "- [Understand performance](https://cloud.google.com/bigtable/docs/performance)\n",
    "\n",
    "**Bigtable Pricing**\n",
    "\n",
    "The [pricing of Bigtable](https://cloud.google.com/bigtable/pricing) is based on the compute (number and location of nodes), storage (type and amount of storage used over time), and network bandwidth (inter-region and inter-continental data transfer).\n",
    "\n",
    "**Bigtable Data Structure**\n",
    "\n",
    "It's a table of rows and columns.  Columns are grouped into a construct called a column family and data is written to a row>column family>column which is represented by a cell. Cells can hold data in many [data types](https://cloud.google.com/bigtable/docs/reference/sql/data-types).  Cells can also be dimensional and hold timestamped version of the data for the cell.  Changing a cell is called a mutation.  Mutation include writing a value, called setting, and deleting.  Cells can also be appended or in the case of numeric values, incremented.\n",
    "\n",
    "**Working With Bigtable**\n",
    "\n",
    "There is a wide array of ways to interact with and administer Bigtable as [listed here](https://cloud.google.com/bigtable/docs/apis).  In this workflow the [Python Client for Google Cloud Bigtable](https://cloud.google.com/python/docs/reference/bigtable/latest) is used for all tasks from creating an instance, a table, added data, and retrieving data including with vector similarity search.\n"
   ]
  },
  {
   "cell_type": "markdown",
   "id": "91fb5b66-6ca6-4fd1-8872-404530378497",
   "metadata": {},
   "source": [
    "### Create/Retrieve An Instance\n",
    "\n",
    "The starting point for Bigtable is an instance.  This is where the cluster of node(s) is specified and launched.  In a single step this workflow creates:\n",
    "- an instance\n",
    "- with a single cluster\n",
    "- in a single region\n",
    "- in a single zone\n",
    "- with a single node\n",
    "\n",
    "Documentation References:\n",
    "- [Python Client For Instance](https://cloud.google.com/python/docs/reference/bigtable/latest/instance)\n",
    "- [Instances, clusters, and nodes](https://cloud.google.com/bigtable/docs/instances-clusters-nodes)\n",
    "- [Create An Instance](https://cloud.google.com/bigtable/docs/creating-instance)\n",
    "- [Bigtable locations](https://cloud.google.com/bigtable/docs/locations)"
   ]
  },
  {
   "cell_type": "code",
   "execution_count": 23,
   "id": "7ddfc77a-b26b-4611-8dc5-97ff850df1e6",
   "metadata": {},
   "outputs": [
    {
     "name": "stdout",
     "output_type": "stream",
     "text": [
      "Found the instance: projects/statmike-mlops-349915/instances/statmike-mlops-349915\n"
     ]
    }
   ],
   "source": [
    "bigtable_instance = bigtable_client.instance(BIGTABLE_INSTANCE_NAME)\n",
    "\n",
    "if bigtable_instance.exists():\n",
    "    print(f\"Found the instance: {bigtable_instance.name}\")\n",
    "else:\n",
    "    bigtable_cluster = bigtable_instance.cluster(\n",
    "        BIGTABLE_INSTANCE_NAME,\n",
    "        location_id = REGION+'-a', # bigtable is a zonal resource \n",
    "        serve_nodes = 1,\n",
    "        default_storage_type = bigtable.enums.StorageType.HDD,  # Choice of HDD or SDD\n",
    "    )\n",
    "    print(f\"Creating the instance ...\")\n",
    "    create_instance = bigtable_instance.create(clusters = [bigtable_cluster])\n",
    "    while not create_instance.done():\n",
    "        print('Waiting for instance creation...')\n",
    "        time.sleep(10)\n",
    "    bigtable_instance.reload()\n",
    "    print(f\"Created Bigtable instance: {bigtable_instance.name}\")"
   ]
  },
  {
   "cell_type": "markdown",
   "id": "af8d6be7-e694-4e59-8b4b-3fa3667b5786",
   "metadata": {
    "tags": []
   },
   "source": [
    "Review the clusters information:"
   ]
  },
  {
   "cell_type": "code",
   "execution_count": 26,
   "id": "21cc3520-9a05-4339-8b4e-3318bc325cb3",
   "metadata": {},
   "outputs": [
    {
     "name": "stdout",
     "output_type": "stream",
     "text": [
      "Name:  projects/statmike-mlops-349915/instances/statmike-mlops-349915/clusters/statmike-mlops-349915\n",
      "Nodes:  1\n",
      "Storage:  StorageType.HDD\n"
     ]
    }
   ],
   "source": [
    "bigtable_clusters = bigtable_instance.list_clusters()\n",
    "for cluster in bigtable_clusters:\n",
    "    if type(cluster) == list and cluster:\n",
    "        print('Name: ', cluster[0].name)\n",
    "        print('Nodes: ', cluster[0].serve_nodes)\n",
    "        print('Storage: ', cluster[0].default_storage_type)"
   ]
  },
  {
   "cell_type": "markdown",
   "id": "da26ec34-82a0-43ee-9e1e-b045ce867311",
   "metadata": {},
   "source": [
    "---\n",
    "## Working With Bigtable\n",
    "\n",
    "Create a table, a column family, and add/retrieve/delete data."
   ]
  },
  {
   "cell_type": "markdown",
   "id": "5a7e7023-a19f-4a8f-9682-8fc5c871ea88",
   "metadata": {},
   "source": [
    "### Create/Retrieve Table\n",
    "\n",
    "Create a table to hold data:\n",
    "\n",
    "Documentation References:\n",
    "\n",
    "- [Create and managed tables](https://cloud.google.com/bigtable/docs/managing-tables)\n",
    "- [Python Client For Tables](https://cloud.google.com/python/docs/reference/bigtable/latest/table)"
   ]
  },
  {
   "cell_type": "code",
   "execution_count": 28,
   "id": "500c8cd5-7c10-47ae-a288-c59c53d92f74",
   "metadata": {
    "tags": []
   },
   "outputs": [
    {
     "name": "stdout",
     "output_type": "stream",
     "text": [
      "Found the table: projects/statmike-mlops-349915/instances/statmike-mlops-349915/tables/applied-genai\n"
     ]
    }
   ],
   "source": [
    "bigtable_table = bigtable_instance.table(BIGTABLE_TABLE_NAME)\n",
    "\n",
    "if bigtable_table.exists():\n",
    "    print(f\"Found the table: {bigtable_table.name}\")\n",
    "else:\n",
    "    print(f\"Creating the table...\")\n",
    "    bigtable_table.create()\n",
    "    print(f\"Created Bigtable table: {bigtable_table.name}\")"
   ]
  },
  {
   "cell_type": "code",
   "execution_count": 32,
   "id": "b489325b-29e2-4b1f-b8ef-45985b584b58",
   "metadata": {
    "tags": []
   },
   "outputs": [
    {
     "data": {
      "text/plain": [
       "'projects/statmike-mlops-349915/instances/statmike-mlops-349915/tables/applied-genai'"
      ]
     },
     "execution_count": 32,
     "metadata": {},
     "output_type": "execute_result"
    }
   ],
   "source": [
    "bigtable_table.name"
   ]
  },
  {
   "cell_type": "markdown",
   "id": "d04eaa8b-d675-4597-8851-24fb4da53fee",
   "metadata": {},
   "source": [
    "### Create/Retrieve Column Family\n",
    "\n",
    "Add a column family to the table to hold the data for this workflow:\n",
    "\n",
    "- [Column Families](https://cloud.google.com/bigtable/docs/managing-tables#add-column-families)"
   ]
  },
  {
   "cell_type": "code",
   "execution_count": 29,
   "id": "83e409c2-4017-4ea7-a429-fac8d8228272",
   "metadata": {
    "tags": []
   },
   "outputs": [
    {
     "name": "stdout",
     "output_type": "stream",
     "text": [
      "Creating the column family...\n",
      "Created column family: projects/statmike-mlops-349915/instances/statmike-mlops-349915/tables/applied-genai/columnFamilies/retrieval-bigtable\n"
     ]
    }
   ],
   "source": [
    "bigtable_column_family = bigtable_table.column_family(BIGTABLE_COLUMN_FAMILY_NAME)\n",
    "\n",
    "if bigtable_column_family.name in [c.name for c in list(bigtable_table.list_column_families().values())]:\n",
    "    print(f\"Found the column family: {bigtable_column_family.name}\")\n",
    "else:\n",
    "    print(f\"Creating the column family...\")\n",
    "    bigtable_column_family.create()\n",
    "    print(f\"Created column family: {bigtable_column_family.name}\")"
   ]
  },
  {
   "cell_type": "code",
   "execution_count": 30,
   "id": "c386deb1-a9e1-4868-bbc1-6ba0db5e6d8e",
   "metadata": {
    "tags": []
   },
   "outputs": [
    {
     "data": {
      "text/plain": [
       "'retrieval-bigtable'"
      ]
     },
     "execution_count": 30,
     "metadata": {},
     "output_type": "execute_result"
    }
   ],
   "source": [
    "bigtable_column_family.column_family_id"
   ]
  },
  {
   "cell_type": "markdown",
   "id": "08edb3cb-479e-4aeb-aa7d-f6fe60604691",
   "metadata": {},
   "source": [
    "### Prepare Data For Bigtable\n",
    "\n",
    "Data is written to a column family with a column name.  There are many [supported data types](https://cloud.google.com/bigtable/docs/reference/sql/data-types).  Embedding vectors require a conversion to bytes prior to be saved to Bigtable - [read more here](https://cloud.google.com/bigtable/docs/find-k-nearest-neighbors#define-conversion-functions)."
   ]
  },
  {
   "cell_type": "markdown",
   "id": "19733722-554f-4628-96cb-6a4f2fc11ec5",
   "metadata": {},
   "source": [
    "#### Get A Record\n",
    "\n",
    "Dictionaries for each record/row are stored in `content_chunks` from earlier in this workflow:"
   ]
  },
  {
   "cell_type": "code",
   "execution_count": 33,
   "id": "d2dc5343-349e-44e1-8582-16f0969bdd13",
   "metadata": {
    "tags": []
   },
   "outputs": [],
   "source": [
    "first_record = content_chunks[0].copy()"
   ]
  },
  {
   "cell_type": "code",
   "execution_count": 34,
   "id": "903b24fb-78a7-46a8-b8af-1d34f8deae23",
   "metadata": {
    "tags": []
   },
   "outputs": [
    {
     "data": {
      "text/plain": [
       "dict_keys(['gse', 'chunk_id', 'content', 'embedding'])"
      ]
     },
     "execution_count": 34,
     "metadata": {},
     "output_type": "execute_result"
    }
   ],
   "source": [
    "first_record.keys()"
   ]
  },
  {
   "cell_type": "code",
   "execution_count": 35,
   "id": "30ff8e06-2706-4f46-87d3-46a622628c0e",
   "metadata": {
    "tags": []
   },
   "outputs": [
    {
     "data": {
      "text/plain": [
       "'fannie_part_0_c17'"
      ]
     },
     "execution_count": 35,
     "metadata": {},
     "output_type": "execute_result"
    }
   ],
   "source": [
    "first_record['chunk_id']"
   ]
  },
  {
   "cell_type": "code",
   "execution_count": 36,
   "id": "5cb15260-f105-4a21-a73a-0b2dcc4347a2",
   "metadata": {
    "tags": []
   },
   "outputs": [
    {
     "data": {
      "text/plain": [
       "list"
      ]
     },
     "execution_count": 36,
     "metadata": {},
     "output_type": "execute_result"
    }
   ],
   "source": [
    "type(first_record['embedding'])"
   ]
  },
  {
   "cell_type": "markdown",
   "id": "7c850d43-8313-451a-892c-1ee56a91279d",
   "metadata": {},
   "source": [
    "#### Prepare The Record\n",
    "\n",
    "Convert the embedding array (list of floats) into the `bytes` data type for Bigtable [per these instructions](https://cloud.google.com/bigtable/docs/find-k-nearest-neighbors#define-conversion-functions):"
   ]
  },
  {
   "cell_type": "code",
   "execution_count": 183,
   "id": "1c72354e-94be-4d8a-9441-ccefa64ce2bd",
   "metadata": {},
   "outputs": [],
   "source": [
    "def vector_as_bytes(embedding):\n",
    "    return struct.pack(f'>{len(embedding)}f', *embedding)\n",
    "\n",
    "def bytes_as_vector(embedding):\n",
    "    return list(struct.unpack(f'>{len(embedding)//4}f', embedding))"
   ]
  },
  {
   "cell_type": "code",
   "execution_count": 41,
   "id": "1e7bca94-7054-4e62-a193-44a7a4c45887",
   "metadata": {},
   "outputs": [
    {
     "data": {
      "text/plain": [
       "list"
      ]
     },
     "execution_count": 41,
     "metadata": {},
     "output_type": "execute_result"
    }
   ],
   "source": [
    "type(first_record['embedding'])"
   ]
  },
  {
   "cell_type": "code",
   "execution_count": 42,
   "id": "c24c5619-63f0-4e90-bd4d-6c79d874beb0",
   "metadata": {},
   "outputs": [],
   "source": [
    "first_record['embedding'] = vector_as_bytes(first_record['embedding'])"
   ]
  },
  {
   "cell_type": "code",
   "execution_count": 184,
   "id": "e5ce1aeb-3734-4e5f-a34e-e7b4dbe2567e",
   "metadata": {
    "tags": []
   },
   "outputs": [
    {
     "data": {
      "text/plain": [
       "bytes"
      ]
     },
     "execution_count": 184,
     "metadata": {},
     "output_type": "execute_result"
    }
   ],
   "source": [
    "type(first_record['embedding'])"
   ]
  },
  {
   "cell_type": "code",
   "execution_count": 185,
   "id": "e6328e40-ad0e-4daf-a17e-fa7c38e6f642",
   "metadata": {
    "tags": []
   },
   "outputs": [],
   "source": [
    "#convert back to list of floats:\n",
    "#bytes_as_vector(first_record['embedding'])"
   ]
  },
  {
   "cell_type": "markdown",
   "id": "77261aa7-e972-4931-902d-dfa986a9f133",
   "metadata": {},
   "source": [
    "### Add, Retrieve, And Delete Data To The Column Family\n",
    "\n",
    "- [Python Bigtable Data API](https://cloud.google.com/python/docs/reference/bigtable/latest/data-api)\n",
    "- [Write rows to a table](https://cloud.google.com/bigtable/docs/samples-python-hello#write_rows_to_a_table)"
   ]
  },
  {
   "cell_type": "markdown",
   "id": "36681b7c-ef06-473f-bc39-9f25895a4600",
   "metadata": {},
   "source": [
    "#### Insert Record\n",
    "\n",
    "Three steps:\n",
    "- create row with key\n",
    "- set the value of cells in the column family\n",
    "- commit the data"
   ]
  },
  {
   "cell_type": "code",
   "execution_count": 186,
   "id": "7a58665c-3ee2-48ae-8d48-e3f249e41fc2",
   "metadata": {
    "tags": []
   },
   "outputs": [],
   "source": [
    "row = bigtable_table.row(first_record['chunk_id'])"
   ]
  },
  {
   "cell_type": "code",
   "execution_count": 187,
   "id": "f030e5fa-c1ad-4ac6-b43b-273e53bae0e1",
   "metadata": {
    "tags": []
   },
   "outputs": [],
   "source": [
    "for key, value in first_record.items():\n",
    "    row.set_cell(bigtable_column_family.column_family_id, key, value)"
   ]
  },
  {
   "cell_type": "code",
   "execution_count": 188,
   "id": "e3c9487f-3fe4-4a62-8e13-6b51cb36654e",
   "metadata": {
    "tags": []
   },
   "outputs": [
    {
     "data": {
      "text/plain": []
     },
     "execution_count": 188,
     "metadata": {},
     "output_type": "execute_result"
    }
   ],
   "source": [
    "row.commit()"
   ]
  },
  {
   "cell_type": "markdown",
   "id": "52c37664-a1e2-432f-87f6-19c457d83109",
   "metadata": {},
   "source": [
    "#### Retrieve Record\n",
    "\n",
    "Prior to reading data create a row filter to limit what Bigtable returns on the request.  Since cells can have a history of values a common row filter to use is the `CellsColumnLimitFilter(1)` which will only return the most recent value for each column.\n",
    "\n",
    "- [Create a filter](https://cloud.google.com/bigtable/docs/samples-python-hello#creating-filter)\n",
    "- [Bigtable Row Filters](https://cloud.google.com/python/docs/reference/bigtable/latest/row-filters)\n",
    "- [Read a row by its row key](https://cloud.google.com/bigtable/docs/samples-python-hello#read_a_row_by_its_row_key)"
   ]
  },
  {
   "cell_type": "markdown",
   "id": "c2e17618-18df-44b3-95db-d66b0871652c",
   "metadata": {},
   "source": [
    "Create a row filter that returns only the most recent value for each column:"
   ]
  },
  {
   "cell_type": "code",
   "execution_count": 52,
   "id": "d1cfb6c6-32b9-4b3e-b641-f58d3f15e2d3",
   "metadata": {
    "tags": []
   },
   "outputs": [],
   "source": [
    "row_filter = bigtable.row_filters.CellsColumnLimitFilter(1) # most only the most recent value for each column"
   ]
  },
  {
   "cell_type": "markdown",
   "id": "fccfa8ff-6a00-40a0-a21a-463f03b9b9a3",
   "metadata": {},
   "source": [
    "Read the row:"
   ]
  },
  {
   "cell_type": "code",
   "execution_count": 64,
   "id": "f23f1dae-4d60-4304-a914-649d6e57c50c",
   "metadata": {
    "tags": []
   },
   "outputs": [],
   "source": [
    "read_row = bigtable_table.read_row(first_record['chunk_id'], row_filter)"
   ]
  },
  {
   "cell_type": "code",
   "execution_count": 65,
   "id": "7ed7e305-987a-4892-a53e-992262ff7e3e",
   "metadata": {
    "tags": []
   },
   "outputs": [
    {
     "data": {
      "text/plain": [
       "google.cloud.bigtable.row.PartialRowData"
      ]
     },
     "execution_count": 65,
     "metadata": {},
     "output_type": "execute_result"
    }
   ],
   "source": [
    "type(read_row)"
   ]
  },
  {
   "cell_type": "markdown",
   "id": "be21eeac-c71c-4a3a-af1e-523c81f943ed",
   "metadata": {},
   "source": [
    "Examine the row response and filter down to the data in the column family:"
   ]
  },
  {
   "cell_type": "code",
   "execution_count": 66,
   "id": "424ed997-1d0d-4cac-99e8-ccbbc17746da",
   "metadata": {
    "tags": []
   },
   "outputs": [
    {
     "data": {
      "text/plain": [
       "collections.OrderedDict"
      ]
     },
     "execution_count": 66,
     "metadata": {},
     "output_type": "execute_result"
    }
   ],
   "source": [
    "type(read_row.cells)"
   ]
  },
  {
   "cell_type": "code",
   "execution_count": 67,
   "id": "ef1f5c4d-d3cc-4c99-b69f-a9bce67c657b",
   "metadata": {
    "tags": []
   },
   "outputs": [
    {
     "data": {
      "text/plain": [
       "collections.OrderedDict"
      ]
     },
     "execution_count": 67,
     "metadata": {},
     "output_type": "execute_result"
    }
   ],
   "source": [
    "type(read_row.cells[bigtable_column_family.column_family_id])"
   ]
  },
  {
   "cell_type": "code",
   "execution_count": 68,
   "id": "7f739fb5-02e7-4001-a8bd-0fb5a4932725",
   "metadata": {
    "tags": []
   },
   "outputs": [],
   "source": [
    "results = read_row.cells[bigtable_column_family.column_family_id]"
   ]
  },
  {
   "cell_type": "code",
   "execution_count": 69,
   "id": "ccebdedb-a1d2-4b32-8409-5fcc1c960879",
   "metadata": {
    "tags": []
   },
   "outputs": [
    {
     "data": {
      "text/plain": [
       "odict_keys([b'chunk_id', b'content', b'embedding', b'gse'])"
      ]
     },
     "execution_count": 69,
     "metadata": {},
     "output_type": "execute_result"
    }
   ],
   "source": [
    "results.keys()"
   ]
  },
  {
   "cell_type": "markdown",
   "id": "389671d3-2b7a-4975-a59c-ce0188d0bd18",
   "metadata": {},
   "source": [
    "Remember that [Bigtable stores all data as raw byte strings](https://cloud.google.com/bigtable/docs/overview#data-types) for most objects so using `.encode` and `.decode` are essential for interpreting results:"
   ]
  },
  {
   "cell_type": "code",
   "execution_count": 70,
   "id": "fff6f8dc-49c3-46cc-a183-cbc3ede754c5",
   "metadata": {
    "tags": []
   },
   "outputs": [
    {
     "data": {
      "text/plain": [
       "[<Cell value=b'fannie' timestamp=2024-11-17 17:38:39.661000+00:00>]"
      ]
     },
     "execution_count": 70,
     "metadata": {},
     "output_type": "execute_result"
    }
   ],
   "source": [
    "results['gse'.encode()]"
   ]
  },
  {
   "cell_type": "code",
   "execution_count": 71,
   "id": "30556366-655a-46f2-83ec-543098210b64",
   "metadata": {
    "tags": []
   },
   "outputs": [
    {
     "data": {
      "text/plain": [
       "'fannie'"
      ]
     },
     "execution_count": 71,
     "metadata": {},
     "output_type": "execute_result"
    }
   ],
   "source": [
    "results['gse'.encode()][0].value.decode()"
   ]
  },
  {
   "cell_type": "markdown",
   "id": "4eca6b13-6206-4fac-848c-7ffa8dad9dc0",
   "metadata": {},
   "source": [
    "If reading the embedding value then recall that a function was created to convert it back to a list of floats above:"
   ]
  },
  {
   "cell_type": "code",
   "execution_count": 74,
   "id": "4f268f31-a538-4841-92f0-61fd1a85b566",
   "metadata": {
    "tags": []
   },
   "outputs": [
    {
     "data": {
      "text/plain": [
       "[0.031277116388082504,\n",
       " 0.03056905046105385,\n",
       " 0.010865348391234875,\n",
       " 0.0623614676296711,\n",
       " 0.03228681534528732]"
      ]
     },
     "execution_count": 74,
     "metadata": {},
     "output_type": "execute_result"
    }
   ],
   "source": [
    "bytes_as_vector(results['embedding'.encode()][0].value)[0:5]"
   ]
  },
  {
   "cell_type": "markdown",
   "id": "eb202314-9c82-4f2d-9741-558f7b667a7a",
   "metadata": {},
   "source": [
    "Create a dictionary from the row:"
   ]
  },
  {
   "cell_type": "code",
   "execution_count": 79,
   "id": "1f79cfa4-f2c0-4312-b760-d0a897cac567",
   "metadata": {
    "tags": []
   },
   "outputs": [],
   "source": [
    "response = {}\n",
    "for key, values in results.items():\n",
    "    if key == 'embedding'.encode():\n",
    "        response[key.decode()] = bytes_as_vector(values[0].value)\n",
    "    else:\n",
    "        response[key.decode()] = values[0].value.decode()"
   ]
  },
  {
   "cell_type": "code",
   "execution_count": 80,
   "id": "72cf0266-c715-4d45-b937-7077a30d4c46",
   "metadata": {
    "tags": []
   },
   "outputs": [
    {
     "data": {
      "text/plain": [
       "dict_keys(['chunk_id', 'content', 'embedding', 'gse'])"
      ]
     },
     "execution_count": 80,
     "metadata": {},
     "output_type": "execute_result"
    }
   ],
   "source": [
    "response.keys()"
   ]
  },
  {
   "cell_type": "markdown",
   "id": "3e4c952f-0ea3-4992-9322-1324ef3a582d",
   "metadata": {},
   "source": [
    "#### Insert Record - Again\n",
    "\n",
    "This creates a newer value for each cell without removing or overwriting the older value - a history."
   ]
  },
  {
   "cell_type": "code",
   "execution_count": 81,
   "id": "652d1f3b-ad6f-4693-b38a-0724a9ce3ec8",
   "metadata": {
    "tags": []
   },
   "outputs": [],
   "source": [
    "row = bigtable_table.row(first_record['chunk_id'])"
   ]
  },
  {
   "cell_type": "code",
   "execution_count": 82,
   "id": "5b021c72-1533-4a3a-9e43-39158752867c",
   "metadata": {
    "tags": []
   },
   "outputs": [],
   "source": [
    "for key, value in first_record.items():\n",
    "    row.set_cell(bigtable_column_family.column_family_id, key, value)"
   ]
  },
  {
   "cell_type": "code",
   "execution_count": 83,
   "id": "b15f127b-6018-4b92-ad2d-f757e5599a60",
   "metadata": {
    "tags": []
   },
   "outputs": [
    {
     "data": {
      "text/plain": []
     },
     "execution_count": 83,
     "metadata": {},
     "output_type": "execute_result"
    }
   ],
   "source": [
    "row.commit()"
   ]
  },
  {
   "cell_type": "markdown",
   "id": "1f7557be-465f-4150-a1d5-b1e12dcc37a7",
   "metadata": {},
   "source": [
    "#### Retrieve Record - With History\n",
    "\n",
    "The time the row filter is set to `CellsColumnLimitFilter(2)` which will return the most recent 2 values for each column."
   ]
  },
  {
   "cell_type": "markdown",
   "id": "04964181-4355-4809-9442-273ec4de60d7",
   "metadata": {},
   "source": [
    "Create a row filter that returns only the most recent value for each column:"
   ]
  },
  {
   "cell_type": "code",
   "execution_count": 84,
   "id": "f2235fed-16ff-4d9b-bff0-9ea3fb4e10ec",
   "metadata": {
    "tags": []
   },
   "outputs": [],
   "source": [
    "row_filter = bigtable.row_filters.CellsColumnLimitFilter(2) # most only the most recent 2 values for each column"
   ]
  },
  {
   "cell_type": "markdown",
   "id": "fcac033c-58bf-4d88-808b-c954b11fdbb3",
   "metadata": {},
   "source": [
    "Read the row:"
   ]
  },
  {
   "cell_type": "code",
   "execution_count": 85,
   "id": "ded9403c-c1df-49dd-ba17-eda0ef30a446",
   "metadata": {
    "tags": []
   },
   "outputs": [],
   "source": [
    "read_row = bigtable_table.read_row(first_record['chunk_id'], row_filter)"
   ]
  },
  {
   "cell_type": "code",
   "execution_count": 86,
   "id": "bae41632-3fee-4af6-a68a-d35e1b9322d8",
   "metadata": {
    "tags": []
   },
   "outputs": [
    {
     "data": {
      "text/plain": [
       "google.cloud.bigtable.row.PartialRowData"
      ]
     },
     "execution_count": 86,
     "metadata": {},
     "output_type": "execute_result"
    }
   ],
   "source": [
    "type(read_row)"
   ]
  },
  {
   "cell_type": "markdown",
   "id": "7e048ccf-1ff5-4149-a03e-b87d9cbdaf2c",
   "metadata": {},
   "source": [
    "Examine the row response and filter down to the data in the column family:"
   ]
  },
  {
   "cell_type": "code",
   "execution_count": 87,
   "id": "4ea82090-9e9b-4fb4-b36c-6d5fb9b6d7ba",
   "metadata": {
    "tags": []
   },
   "outputs": [],
   "source": [
    "results = read_row.cells[bigtable_column_family.column_family_id]"
   ]
  },
  {
   "cell_type": "code",
   "execution_count": 88,
   "id": "5ec2cbc7-c407-43ee-bcf7-cb4bd2ea493d",
   "metadata": {
    "tags": []
   },
   "outputs": [
    {
     "data": {
      "text/plain": [
       "odict_keys([b'chunk_id', b'content', b'embedding', b'gse'])"
      ]
     },
     "execution_count": 88,
     "metadata": {},
     "output_type": "execute_result"
    }
   ],
   "source": [
    "results.keys()"
   ]
  },
  {
   "cell_type": "markdown",
   "id": "5a923ff8-e62d-4b75-89b9-29603e3ea0b1",
   "metadata": {},
   "source": [
    "Now the columns have multiple values:"
   ]
  },
  {
   "cell_type": "code",
   "execution_count": 89,
   "id": "bbe6a960-255b-452c-8f79-27970e255673",
   "metadata": {
    "tags": []
   },
   "outputs": [
    {
     "data": {
      "text/plain": [
       "[<Cell value=b'fannie' timestamp=2024-11-17 18:03:14.152000+00:00>,\n",
       " <Cell value=b'fannie' timestamp=2024-11-17 17:38:39.661000+00:00>]"
      ]
     },
     "execution_count": 89,
     "metadata": {},
     "output_type": "execute_result"
    }
   ],
   "source": [
    "results['gse'.encode()]"
   ]
  },
  {
   "cell_type": "markdown",
   "id": "1ed6b60f-dfb0-4ab2-9945-dea6b4ae15e6",
   "metadata": {},
   "source": [
    "#### Retrieve Record - Only The Most Recent Value From History\n",
    "\n",
    "This time the row filter is set to `CellsColumnLimitFilter(1)` which will return the most recent value for each column even though we know multiple values exists."
   ]
  },
  {
   "cell_type": "markdown",
   "id": "433d7780-4474-4c97-a86e-caf644ce16e2",
   "metadata": {},
   "source": [
    "Create a row filter that returns only the most recent value for each column:"
   ]
  },
  {
   "cell_type": "code",
   "execution_count": 90,
   "id": "2eaa3bcd-9f6f-41a6-a422-dc21eb8cb435",
   "metadata": {
    "tags": []
   },
   "outputs": [],
   "source": [
    "row_filter = bigtable.row_filters.CellsColumnLimitFilter(1) # most only the most recent value for each column"
   ]
  },
  {
   "cell_type": "markdown",
   "id": "c24a6787-092f-4b53-8436-c284d8c25654",
   "metadata": {},
   "source": [
    "Read the row:"
   ]
  },
  {
   "cell_type": "code",
   "execution_count": 91,
   "id": "679ad255-a3d7-40e7-ab41-a64cd7094db7",
   "metadata": {
    "tags": []
   },
   "outputs": [],
   "source": [
    "read_row = bigtable_table.read_row(first_record['chunk_id'], row_filter)"
   ]
  },
  {
   "cell_type": "code",
   "execution_count": 92,
   "id": "f41e5c3f-484e-4dae-ac80-695516d3bec3",
   "metadata": {
    "tags": []
   },
   "outputs": [
    {
     "data": {
      "text/plain": [
       "google.cloud.bigtable.row.PartialRowData"
      ]
     },
     "execution_count": 92,
     "metadata": {},
     "output_type": "execute_result"
    }
   ],
   "source": [
    "type(read_row)"
   ]
  },
  {
   "cell_type": "markdown",
   "id": "60406bc6-a7f7-47d5-a87f-9cd82745310a",
   "metadata": {},
   "source": [
    "Examine the row response and filter down to the data in the column family:"
   ]
  },
  {
   "cell_type": "code",
   "execution_count": 93,
   "id": "cd9e671b-3316-458f-ac31-4eb131a6aaf4",
   "metadata": {
    "tags": []
   },
   "outputs": [],
   "source": [
    "results = read_row.cells[bigtable_column_family.column_family_id]"
   ]
  },
  {
   "cell_type": "code",
   "execution_count": 94,
   "id": "8afa2230-c22b-4d9e-93a6-665a833d3d15",
   "metadata": {
    "tags": []
   },
   "outputs": [
    {
     "data": {
      "text/plain": [
       "odict_keys([b'chunk_id', b'content', b'embedding', b'gse'])"
      ]
     },
     "execution_count": 94,
     "metadata": {},
     "output_type": "execute_result"
    }
   ],
   "source": [
    "results.keys()"
   ]
  },
  {
   "cell_type": "markdown",
   "id": "e725d8f8-ddac-4b01-b2ec-94598b214b55",
   "metadata": {},
   "source": [
    "Now the column has only a single, most recent, value returned:"
   ]
  },
  {
   "cell_type": "code",
   "execution_count": 96,
   "id": "8d45d1b9-d39c-4b3a-96af-db6f7c769051",
   "metadata": {
    "tags": []
   },
   "outputs": [
    {
     "data": {
      "text/plain": [
       "[<Cell value=b'fannie' timestamp=2024-11-17 18:03:14.152000+00:00>]"
      ]
     },
     "execution_count": 96,
     "metadata": {},
     "output_type": "execute_result"
    }
   ],
   "source": [
    "results['gse'.encode()]"
   ]
  },
  {
   "cell_type": "markdown",
   "id": "01e92bb6-7a9c-4353-9ae8-b6582c612c2a",
   "metadata": {},
   "source": [
    "#### Retrieve Record With SQL\n",
    "\n",
    "Bigtable also support SQL queries.\n",
    "\n",
    "Documentation References:\n",
    "- [GoogleSQL for Bigtable overview](https://cloud.google.com/bigtable/docs/googlesql-overview)\n",
    "- [Python Bigtable Data Client Async](https://cloud.google.com/python/docs/reference/bigtable/latest/async_data_client)"
   ]
  },
  {
   "cell_type": "markdown",
   "id": "60887896-afd2-40b4-992d-9817039888e7",
   "metadata": {},
   "source": [
    "Define a function to execute queries:"
   ]
  },
  {
   "cell_type": "code",
   "execution_count": 212,
   "id": "16fc1f81-8126-490d-98e9-1028810c778e",
   "metadata": {
    "tags": []
   },
   "outputs": [],
   "source": [
    "async def execute_query(query):\n",
    "    async with bigtable.data.BigtableDataClientAsync(project = PROJECT_ID) as client:\n",
    "        rows = []\n",
    "        async for row in await client.execute_query(query, BIGTABLE_INSTANCE_NAME):\n",
    "            record = {}\n",
    "            for col in row.fields:\n",
    "                if type(col[1]) == bytes:\n",
    "                     record[col[0]] = col[1].decode()\n",
    "                else:\n",
    "                     record[col[0]] = col[1]\n",
    "            rows.append(record)\n",
    "        return rows"
   ]
  },
  {
   "cell_type": "markdown",
   "id": "3dfd8acc-27ff-4bbd-b06b-d1522c853c90",
   "metadata": {},
   "source": [
    "Execute a SQL query for the record in thsi example:"
   ]
  },
  {
   "cell_type": "code",
   "execution_count": 216,
   "id": "32ed8fef-a77c-45a3-9231-e06815a7d0b9",
   "metadata": {
    "tags": []
   },
   "outputs": [],
   "source": [
    "query = f\"\"\"\n",
    "      SELECT\n",
    "           `{BIGTABLE_COLUMN_FAMILY_NAME}`['chunk_id'] as chunk_id, \n",
    "           `{BIGTABLE_COLUMN_FAMILY_NAME}`['content'] as content\n",
    "      FROM `{BIGTABLE_TABLE_NAME}`(with_history => FALSE)\n",
    "      WHERE _key = '{first_record['chunk_id']}';\n",
    "      \"\"\"\n",
    "\n",
    "results = await execute_query(query)"
   ]
  },
  {
   "cell_type": "code",
   "execution_count": 217,
   "id": "20c14cf8-44a7-4d81-93dd-636fba66a408",
   "metadata": {
    "tags": []
   },
   "outputs": [
    {
     "data": {
      "text/plain": [
       "'fannie_part_0_c17'"
      ]
     },
     "execution_count": 217,
     "metadata": {},
     "output_type": "execute_result"
    }
   ],
   "source": [
    "results[0]['chunk_id']"
   ]
  },
  {
   "cell_type": "code",
   "execution_count": 218,
   "id": "dada572e-ef28-42b6-962a-c3d825813906",
   "metadata": {
    "tags": []
   },
   "outputs": [
    {
     "data": {
      "text/plain": [
       "'# Selling Guide Fannie Mae Single Family\\n\\n## Fannie Mae Copyright Notice\\n\\n### Fannie Mae Copyright Notice\\n\\n|-|\\n| Section B3-4.2, Verification of Depository Assets 402 |\\n| B3-4.2-01, Verification of Deposits and Assets (05/04/2022) 403 |\\n| B3-4.2-02, Depository Accounts (12/14/2022) 405 |\\n| B3-4.2-03, Individual Development Accounts (02/06/2019) 408 |\\n| B3-4.2-04, Pooled Savings (Community Savings Funds) (04/01/2009) 411 |\\n| B3-4.2-05, Foreign Assets (05/04/2022) 411 |\\n| Section B3-4.3, Verification of Non-Depository Assets 412 |\\n| B3-4.3-01, Stocks, Stock Options, Bonds, and Mutual Funds (06/30/2015) 412 |\\n| B3-4.3-02, Trust Accounts (04/01/2009) 413 |\\n| B3-4.3-03, Retirement Accounts (06/30/2015) 414 |\\n| B3-4.3-04, Personal Gifts (09/06/2023) 415 |\\n| B3-4.3-05, Gifts of Equity (10/07/2020) 418 |\\n| B3-4.3-06, Grants and Lender Contributions (12/14/2022) 419 |\\n| B3-4.3-07, Disaster Relief Grants or Loans (04/01/2009) 423 |\\n| B3-4.3-08, Employer Assistance (09/29/2015) 423 |\\n| B3-4.3-09, Earnest Money Deposit (05/04/2022) 425 |\\n| B3-4.3-10, Anticipated Sales Proceeds (02/23/2016) B3-4.3-11, Trade Equity (12/16/2020) 426 428 |\\n| B3-4.3-12, Rent-Related Credits (08/07/2024) 429 |\\n| B3-4.3-13, Sweat Equity (04/15/2014) 430 |\\n| B3-4.3-14, Bridge/Swing Loans (04/01/2009) 431 |\\n| B3-4.3-15, Borrowed Funds Secured by an Asset (10/30/2009) 431 |\\n|  |\\n\\n'"
      ]
     },
     "execution_count": 218,
     "metadata": {},
     "output_type": "execute_result"
    }
   ],
   "source": [
    "results[0]['content']"
   ]
  },
  {
   "cell_type": "markdown",
   "id": "7da88a5d-26e9-4056-822d-1d72e44ba8cc",
   "metadata": {},
   "source": [
    "#### Delete Record"
   ]
  },
  {
   "cell_type": "code",
   "execution_count": 190,
   "id": "6b0c6798-93e5-416d-9ec1-8dd0f2b77605",
   "metadata": {
    "tags": []
   },
   "outputs": [
    {
     "name": "stdout",
     "output_type": "stream",
     "text": [
      "Row found\n"
     ]
    }
   ],
   "source": [
    "if bigtable_table.read_row(first_record['chunk_id']): print('Row found')\n",
    "else: print('Row not found')"
   ]
  },
  {
   "cell_type": "code",
   "execution_count": 191,
   "id": "8bf69c48-0c4e-4dad-b7d8-aa2620daf57b",
   "metadata": {
    "tags": []
   },
   "outputs": [
    {
     "data": {
      "text/plain": []
     },
     "execution_count": 191,
     "metadata": {},
     "output_type": "execute_result"
    }
   ],
   "source": [
    "row = bigtable_table.row(first_record['chunk_id'])\n",
    "row.delete()\n",
    "row.commit()"
   ]
  },
  {
   "cell_type": "code",
   "execution_count": 192,
   "id": "d04fb4c5-06ce-4b16-9483-434e51277bbe",
   "metadata": {
    "tags": []
   },
   "outputs": [
    {
     "name": "stdout",
     "output_type": "stream",
     "text": [
      "Row not found\n"
     ]
    }
   ],
   "source": [
    "if bigtable_table.read_row(first_record['chunk_id']): print('Row found')\n",
    "else: print('Row not found')"
   ]
  },
  {
   "cell_type": "markdown",
   "id": "3d478252-0e82-4c02-8f3b-3c47651a589e",
   "metadata": {},
   "source": [
    "### Load Data\n",
    "\n",
    "There are many great features in the BigTable clients for handling mutations/changes/writes to fit the specifics of a use case.  Here we need to write over 9000 new rows to the table.  Some of the techniques that can be used:\n",
    "\n",
    "- `table.mutate_rows()` **used here**\n",
    "    - atomic updates for many rows as cell operations are grouped into row objects and submitted together\n",
    "    - async with: await table.bulk_mutate_rows()\n",
    "        - asyncronous submission of many row objects containing cell operations"
   ]
  },
  {
   "cell_type": "markdown",
   "id": "62b1d9d6-b965-46fb-b5aa-e350319c7a49",
   "metadata": {},
   "source": [
    "#### Limit Cell History With Garbage Collection Settings\n",
    "\n",
    "Update the column family and set the garbage collection policy to key at most 1 version.\n",
    "\n",
    "Documentation Refrences:\n",
    "- [Garbage Collection Overview](https://cloud.google.com/bigtable/docs/garbage-collection)\n",
    "- [Configure Garbage Collection](https://cloud.google.com/bigtable/docs/configuring-garbage-collection)\n",
    "    - [Garbase collection based on the number of versions](https://cloud.google.com/bigtable/docs/configuring-garbage-collection#versions)"
   ]
  },
  {
   "cell_type": "code",
   "execution_count": 169,
   "id": "fe47f845-4ca4-4292-ac9b-6aab33e3b842",
   "metadata": {
    "tags": []
   },
   "outputs": [],
   "source": [
    "bigtable_column_family.gc_rule = bigtable.column_family.MaxVersionsGCRule(1)"
   ]
  },
  {
   "cell_type": "code",
   "execution_count": 170,
   "id": "900dabb0-371c-4ea9-a6cb-0642cc889d28",
   "metadata": {
    "tags": []
   },
   "outputs": [],
   "source": [
    "bigtable_column_family.update()"
   ]
  },
  {
   "cell_type": "markdown",
   "id": "8b11f925-d5c4-4285-8168-dbeec36903d5",
   "metadata": {},
   "source": [
    "#### Prepare The Embedding Values As Bytes\n",
    "\n",
    "As we did in the single record example above, the embedding for each record now needs to be prepared by converting it to bytes:"
   ]
  },
  {
   "cell_type": "code",
   "execution_count": 178,
   "id": "2d83388e-9a6a-4841-a7ee-33797fd7631b",
   "metadata": {
    "tags": []
   },
   "outputs": [],
   "source": [
    "for chunk in content_chunks:\n",
    "    if type(chunk['embedding']) == list:\n",
    "        chunk['embedding'] = vector_as_bytes(chunk['embedding'])"
   ]
  },
  {
   "cell_type": "code",
   "execution_count": 179,
   "id": "956a917e-fbae-47c1-9a40-e656ab4de9e5",
   "metadata": {
    "tags": []
   },
   "outputs": [
    {
     "data": {
      "text/plain": [
       "bytes"
      ]
     },
     "execution_count": 179,
     "metadata": {},
     "output_type": "execute_result"
    }
   ],
   "source": [
    "type(content_chunks[0]['embedding'])"
   ]
  },
  {
   "cell_type": "markdown",
   "id": "0103f3d7-2d7d-4002-bc09-56d84228c075",
   "metadata": {},
   "source": [
    "#### Write Records To Bigtable\n",
    "\n",
    "[Write rows to a table](https://cloud.google.com/bigtable/docs/samples-python-hello#write_rows_to_a_table)"
   ]
  },
  {
   "cell_type": "code",
   "execution_count": 197,
   "id": "ecaaf7a2-62ca-4fb5-9b0b-affbddd34247",
   "metadata": {
    "tags": []
   },
   "outputs": [],
   "source": [
    "rows = []\n",
    "for chunk in content_chunks:\n",
    "    row = bigtable_table.row(chunk['chunk_id'])\n",
    "    for key, value in chunk.items():\n",
    "        if type(value) != bytes:\n",
    "            value = value.encode()\n",
    "        row.set_cell(bigtable_column_family.column_family_id, key, value)\n",
    "    rows.append(row)"
   ]
  },
  {
   "cell_type": "code",
   "execution_count": 198,
   "id": "730c6a12-e6d0-41c0-8481-9565cc90f182",
   "metadata": {
    "tags": []
   },
   "outputs": [],
   "source": [
    "results = bigtable_table.mutate_rows(rows)"
   ]
  },
  {
   "cell_type": "code",
   "execution_count": 199,
   "id": "5303cb9b-4963-4084-86e5-5d8019d371eb",
   "metadata": {
    "tags": []
   },
   "outputs": [
    {
     "data": {
      "text/plain": [
       "(9040, True)"
      ]
     },
     "execution_count": 199,
     "metadata": {},
     "output_type": "execute_result"
    }
   ],
   "source": [
    "len(results), all(results)"
   ]
  },
  {
   "cell_type": "markdown",
   "id": "6a189d5b-0980-4c23-8891-cdfe1efdc2b8",
   "metadata": {
    "tags": []
   },
   "source": [
    "Get a sample of keys to verify that rows were writen:"
   ]
  },
  {
   "cell_type": "code",
   "execution_count": 200,
   "id": "101d8e62-6f70-4b8c-914a-7bb2e8fe64aa",
   "metadata": {},
   "outputs": [
    {
     "data": {
      "text/plain": [
       "['fannie_part_0_c1',\n",
       " 'fannie_part_0_c10',\n",
       " 'fannie_part_0_c100',\n",
       " 'fannie_part_0_c1000',\n",
       " 'fannie_part_0_c1001',\n",
       " 'fannie_part_0_c1002',\n",
       " 'fannie_part_0_c1003',\n",
       " 'fannie_part_0_c1004',\n",
       " 'fannie_part_0_c1005',\n",
       " 'fannie_part_0_c1006']"
      ]
     },
     "execution_count": 200,
     "metadata": {},
     "output_type": "execute_result"
    }
   ],
   "source": [
    "[r.row_key.decode() for r in bigtable_table.read_rows(limit=10)]"
   ]
  },
  {
   "cell_type": "markdown",
   "id": "183499ca-9823-4910-b6e6-9254b1dadde6",
   "metadata": {},
   "source": [
    "---\n",
    "## Vector Similarity Search, Matching\n",
    "\n",
    "\n",
    "This section covers the operation of using a vector similarity metric calculation to find nearest neighbors for a query vector while also taking advantage of indexing.  To understand similarity metrics and motivate the intution for choosing one (choose dot product), check out [The Math of Similarity](../Embeddings/The%20Math%20of%20Similarity.ipynb).\n",
    "\n",
    "\n",
    "**Notes On [Vector Search](https://cloud.google.com/bigtable/docs/find-k-nearest-neighbors#perform-knn-search) With Bigtable**\n",
    "\n",
    "The workflow below shows using the embedding column cell values in vector search.  Searching does not require an index and no indexing or approximate nearest neighbors functionality is availalbe.  All search uses brute force with the choice of distance function."
   ]
  },
  {
   "cell_type": "markdown",
   "id": "ec2a9bcc-8fa9-4eaf-9547-624e8ed9103e",
   "metadata": {},
   "source": [
    "### Brute Force Search\n",
    "\n",
    "Using the [GoogleSQL for Bigtable](https://cloud.google.com/bigtable/docs/googlesql-overview) functionality gives access to the [GoogleSQL mathematical functions](https://cloud.google.com/spanner/docs/reference/standard-sql/mathematical_functions).  This includes the following function that are useful for vector similarity search:\n",
    "\n",
    "- `COSINE_DISTANCE` \n",
    "- `EUCLIDEAN_DISTANCE`\n",
    "- `DOT_PRODUCT`"
   ]
  },
  {
   "cell_type": "markdown",
   "id": "90071928-573c-4afb-b173-fdf8fc4a9199",
   "metadata": {
    "tags": []
   },
   "source": [
    "Cosine Similarity with `COSINE_DISTANCE`:"
   ]
  },
  {
   "cell_type": "code",
   "execution_count": 276,
   "id": "ee70e7ad-64ec-4673-ae0e-fe4977056e95",
   "metadata": {
    "tags": []
   },
   "outputs": [
    {
     "data": {
      "text/plain": [
       "[('fannie_part_0_c352', 0.28999842323157043),\n",
       " ('freddie_part_4_c509', 0.31944418927007767),\n",
       " ('freddie_part_4_c510', 0.3246529853234844),\n",
       " ('fannie_part_0_c353', 0.32760391792511945),\n",
       " ('fannie_part_0_c326', 0.3316462732543465)]"
      ]
     },
     "execution_count": 276,
     "metadata": {},
     "output_type": "execute_result"
    }
   ],
   "source": [
    "query = f\"\"\"\n",
    "      SELECT\n",
    "          `{BIGTABLE_COLUMN_FAMILY_NAME}`['chunk_id'] as chunk_id,\n",
    "          `{BIGTABLE_COLUMN_FAMILY_NAME}`['content'] as content,\n",
    "          COSINE_DISTANCE(\n",
    "              TO_VECTOR32(`{BIGTABLE_COLUMN_FAMILY_NAME}`['embedding']),\n",
    "              {question_embedding}\n",
    "          ) as cosine_distance\n",
    "      FROM `{BIGTABLE_TABLE_NAME}`\n",
    "      ORDER BY cosine_distance\n",
    "      LIMIT 5;\n",
    "      \"\"\"\n",
    "\n",
    "results = await execute_query(query)\n",
    "[(r['chunk_id'], r['cosine_distance']) for r in results]"
   ]
  },
  {
   "cell_type": "markdown",
   "id": "3f51330a-2823-47dd-a425-dce9f26acd51",
   "metadata": {},
   "source": [
    "Euclidean Distance with `EUCLIDEAN DISTANCE`:"
   ]
  },
  {
   "cell_type": "code",
   "execution_count": 277,
   "id": "19d65f9a-491b-409d-adfe-601ff55c43ef",
   "metadata": {
    "tags": []
   },
   "outputs": [
    {
     "data": {
      "text/plain": [
       "[('fannie_part_0_c352', 0.7615658337594855),\n",
       " ('freddie_part_4_c509', 0.7992875473228386),\n",
       " ('freddie_part_4_c510', 0.8057848660615564),\n",
       " ('fannie_part_0_c353', 0.8094336897143497),\n",
       " ('fannie_part_0_c326', 0.8144253147417732)]"
      ]
     },
     "execution_count": 277,
     "metadata": {},
     "output_type": "execute_result"
    }
   ],
   "source": [
    "query = f\"\"\"\n",
    "      SELECT\n",
    "          `{BIGTABLE_COLUMN_FAMILY_NAME}`['chunk_id'] as chunk_id,\n",
    "          `{BIGTABLE_COLUMN_FAMILY_NAME}`['content'] as content,\n",
    "          EUCLIDEAN_DISTANCE(\n",
    "              TO_VECTOR32(`{BIGTABLE_COLUMN_FAMILY_NAME}`['embedding']),\n",
    "              {question_embedding}\n",
    "          ) as euclidean_distance\n",
    "      FROM `{BIGTABLE_TABLE_NAME}`\n",
    "      ORDER BY euclidean_distance\n",
    "      LIMIT 5;\n",
    "      \"\"\"\n",
    "\n",
    "results = await execute_query(query)\n",
    "[(r['chunk_id'], r['euclidean_distance']) for r in results]"
   ]
  },
  {
   "cell_type": "markdown",
   "id": "7ff2f1a2-0476-4acb-90af-b45331d3a5e6",
   "metadata": {},
   "source": [
    "### Brute Force Search With Pre-Filtering\n",
    "\n",
    "Extending a brute force match with pre-filtering means including a `WHERE` statement to first filter to rows that meet a desired condition:"
   ]
  },
  {
   "cell_type": "markdown",
   "id": "4bdae252-0855-4e8f-887a-96ca8dffdcaf",
   "metadata": {},
   "source": [
    "Find the top 5 matches where the GSE is 'fannie':"
   ]
  },
  {
   "cell_type": "code",
   "execution_count": 278,
   "id": "5b0944d6-4aa6-45c7-bccf-b4b5b64bf36d",
   "metadata": {
    "tags": []
   },
   "outputs": [
    {
     "data": {
      "text/plain": [
       "[('fannie_part_0_c352', 0.28999842323157043),\n",
       " ('fannie_part_0_c353', 0.32760391792511945),\n",
       " ('fannie_part_0_c326', 0.3316462732543465),\n",
       " ('fannie_part_0_c92', 0.3385544159915941),\n",
       " ('fannie_part_0_c240', 0.33913578264492195)]"
      ]
     },
     "execution_count": 278,
     "metadata": {},
     "output_type": "execute_result"
    }
   ],
   "source": [
    "query = f\"\"\"\n",
    "      SELECT\n",
    "          `{BIGTABLE_COLUMN_FAMILY_NAME}`['chunk_id'] as chunk_id,\n",
    "          `{BIGTABLE_COLUMN_FAMILY_NAME}`['content'] as content,\n",
    "          COSINE_DISTANCE(\n",
    "              TO_VECTOR32(`{BIGTABLE_COLUMN_FAMILY_NAME}`['embedding']),\n",
    "              {question_embedding}\n",
    "          ) as cosine_distance\n",
    "      FROM `{BIGTABLE_TABLE_NAME}`\n",
    "      WHERE `{BIGTABLE_COLUMN_FAMILY_NAME}`['gse'] = 'fannie'\n",
    "      ORDER BY cosine_distance\n",
    "      LIMIT 5;\n",
    "      \"\"\"\n",
    "\n",
    "results = await execute_query(query)\n",
    "[(r['chunk_id'], r['cosine_distance']) for r in results]"
   ]
  },
  {
   "cell_type": "markdown",
   "id": "7b7af976-57ef-401a-ab73-0a83b2c2cbb3",
   "metadata": {},
   "source": [
    "Find the top 5 matches where the GSE is 'freddie':"
   ]
  },
  {
   "cell_type": "code",
   "execution_count": 279,
   "id": "6761e1ea-1b88-40f9-9353-681396507084",
   "metadata": {
    "tags": []
   },
   "outputs": [
    {
     "data": {
      "text/plain": [
       "[('freddie_part_4_c509', 0.31944418927007767),\n",
       " ('freddie_part_4_c510', 0.3246529853234844),\n",
       " ('freddie_part_4_c472', 0.33799758363971266),\n",
       " ('freddie_part_6_c439', 0.3395277423685359),\n",
       " ('freddie_part_4_c558', 0.342446390396589)]"
      ]
     },
     "execution_count": 279,
     "metadata": {},
     "output_type": "execute_result"
    }
   ],
   "source": [
    "query = f\"\"\"\n",
    "      SELECT\n",
    "          `{BIGTABLE_COLUMN_FAMILY_NAME}`['chunk_id'] as chunk_id,\n",
    "          `{BIGTABLE_COLUMN_FAMILY_NAME}`['content'] as content,\n",
    "          COSINE_DISTANCE(\n",
    "              TO_VECTOR32(`{BIGTABLE_COLUMN_FAMILY_NAME}`['embedding']),\n",
    "              {question_embedding}\n",
    "          ) as cosine_distance\n",
    "      FROM `{BIGTABLE_TABLE_NAME}`\n",
    "      WHERE `{BIGTABLE_COLUMN_FAMILY_NAME}`['gse'] = 'freddie'\n",
    "      ORDER BY cosine_distance\n",
    "      LIMIT 5;\n",
    "      \"\"\"\n",
    "\n",
    "results = await execute_query(query)\n",
    "[(r['chunk_id'], r['cosine_distance']) for r in results]"
   ]
  },
  {
   "cell_type": "markdown",
   "id": "1641ee34-dd68-4d95-a0c6-b4a246fb55e4",
   "metadata": {},
   "source": [
    "---\n",
    "## Retrieval Augmented Generation (RAG)\n",
    "\n",
    "Build a simple retrieval augmented generation process that enhances a query by retrieving context.  This is done here by constructing three functions for the stages:\n",
    "- `retrieve` - a function that uses an embedding to search for matching context parts, pieces of texts\n",
    "    - this uses the system built earlier in this workflow!\n",
    "- `augment` - prepare chunks into a prompt\n",
    "- `generate` - make the llm request with the augmented prompt\n",
    "\n",
    "A final function is used to execute the workflow of rag:\n",
    "- `rag` - a function that receives the query an orchestrates the workflow through `retrieve` > `augment` > `generate`"
   ]
  },
  {
   "cell_type": "markdown",
   "id": "02643c9c-7109-4e7d-b0bb-dd63e5608fad",
   "metadata": {},
   "source": [
    "### Clients"
   ]
  },
  {
   "cell_type": "code",
   "execution_count": 226,
   "id": "220a7cea-d225-46d6-8484-e562083c624a",
   "metadata": {
    "tags": []
   },
   "outputs": [],
   "source": [
    "embedder = vertexai.language_models.TextEmbeddingModel.from_pretrained('text-embedding-004')\n",
    "llm = vertexai.generative_models.GenerativeModel(\"gemini-1.5-flash-002\")"
   ]
  },
  {
   "cell_type": "markdown",
   "id": "85bf3ecc-0558-4690-85c6-dc81b61cf9d5",
   "metadata": {},
   "source": [
    "### Retrieve Function"
   ]
  },
  {
   "cell_type": "code",
   "execution_count": 268,
   "id": "1503e027-b4ac-4a0a-a83d-3fdc0918fa09",
   "metadata": {
    "tags": []
   },
   "outputs": [],
   "source": [
    "def retrieve_bigtable(query_embedding, n_matches = 5):\n",
    "\n",
    "    query = f\"\"\"\n",
    "          SELECT\n",
    "              `{BIGTABLE_COLUMN_FAMILY_NAME}`['chunk_id'] as chunk_id,\n",
    "              `{BIGTABLE_COLUMN_FAMILY_NAME}`['content'] as content,\n",
    "              COSINE_DISTANCE(\n",
    "                  TO_VECTOR32(`{BIGTABLE_COLUMN_FAMILY_NAME}`['embedding']),\n",
    "                  {query_embedding}\n",
    "              ) as cosine_distance\n",
    "          FROM `{BIGTABLE_TABLE_NAME}`\n",
    "          ORDER BY cosine_distance\n",
    "          LIMIT {n_matches};\n",
    "          \"\"\"\n",
    "    matches = execute_query(query)\n",
    "    \n",
    "    return matches"
   ]
  },
  {
   "cell_type": "markdown",
   "id": "5f2a9696-5516-42df-942d-9ea8a22aea5f",
   "metadata": {},
   "source": [
    "### Augment Function"
   ]
  },
  {
   "cell_type": "code",
   "execution_count": 269,
   "id": "5b358751-e058-47a1-a5b4-6c2ac8c8de99",
   "metadata": {
    "tags": []
   },
   "outputs": [],
   "source": [
    "def augment(matches):\n",
    "\n",
    "    prompt = ''\n",
    "    for m, match in enumerate(matches):\n",
    "        prompt += f\"Context {m+1}:\\n{match['content']}\\n\\n\"\n",
    "    prompt += f'Answer the following question using the provided contexts:\\n'\n",
    "\n",
    "    return prompt"
   ]
  },
  {
   "cell_type": "markdown",
   "id": "4740e71d-d879-411d-87a0-ed4368035d62",
   "metadata": {},
   "source": [
    "### Generate Function"
   ]
  },
  {
   "cell_type": "code",
   "execution_count": 270,
   "id": "db657644-6422-4dd5-9650-1d5dc19c49d1",
   "metadata": {
    "tags": []
   },
   "outputs": [],
   "source": [
    "def generate(prompt):\n",
    "\n",
    "    result = llm.generate_content(prompt)\n",
    "\n",
    "    return result"
   ]
  },
  {
   "cell_type": "markdown",
   "id": "b42ff8ee-d087-4232-af6f-847334871186",
   "metadata": {},
   "source": [
    "### RAG Function"
   ]
  },
  {
   "cell_type": "code",
   "execution_count": 272,
   "id": "38dd5c9b-6018-42d6-9314-82312ab9c49e",
   "metadata": {
    "tags": []
   },
   "outputs": [],
   "source": [
    "async def rag(query):\n",
    "    \n",
    "    query_embedding = embedder.get_embeddings([query])[0].values\n",
    "    matches = await retrieve_bigtable(query_embedding)\n",
    "    prompt = augment(matches) + query\n",
    "    result = generate(prompt)\n",
    "    \n",
    "    return result.text"
   ]
  },
  {
   "cell_type": "markdown",
   "id": "0a8a9e32-540c-4b5e-b1a0-0af6666e777c",
   "metadata": {
    "tags": []
   },
   "source": [
    "### Example In Use"
   ]
  },
  {
   "cell_type": "code",
   "execution_count": 273,
   "id": "dcc0238f-eeee-4ecf-b961-e61311a73ddb",
   "metadata": {
    "tags": []
   },
   "outputs": [
    {
     "data": {
      "text/plain": [
       "'Does a lender have to perform servicing functions directly?'"
      ]
     },
     "execution_count": 273,
     "metadata": {},
     "output_type": "execute_result"
    }
   ],
   "source": [
    "question"
   ]
  },
  {
   "cell_type": "code",
   "execution_count": 274,
   "id": "b240dde3-2d19-4310-89f6-39de7a6dceaf",
   "metadata": {
    "tags": []
   },
   "outputs": [
    {
     "name": "stdout",
     "output_type": "stream",
     "text": [
      "No.  A lender may use other organizations to perform some or all of its servicing functions through subservicing arrangements (Context 1).  However, the lender (master servicer) remains contractually responsible (Context 1).  There are specific requirements and guidelines for these subservicing arrangements, including the need for both the master servicer and subservicer to be Fannie Mae-approved (Context 4).\n",
      "\n"
     ]
    }
   ],
   "source": [
    "print(await rag(question))"
   ]
  },
  {
   "cell_type": "markdown",
   "id": "d1db815c-2336-43cc-b484-c40b46e4ceb6",
   "metadata": {},
   "source": [
    "---\n",
    "### Profiling Performance\n",
    "\n",
    "Profile the timing of each step in the RAG function for sequential calls. The environment choosen for this workflow is a minimal testing enviornment so load testing (simoultaneous requests) would not be helpful."
   ]
  },
  {
   "cell_type": "code",
   "execution_count": 287,
   "id": "1b342818-591a-484c-b07f-946ed01e8750",
   "metadata": {
    "tags": []
   },
   "outputs": [],
   "source": [
    "profile = []"
   ]
  },
  {
   "cell_type": "code",
   "execution_count": 288,
   "id": "9185078b-6ee0-4224-bd63-7656fe29e90d",
   "metadata": {
    "tags": []
   },
   "outputs": [],
   "source": [
    "async def rag(query, profile = profile):\n",
    "    \n",
    "    timings = {}\n",
    "    start_time = time.time()\n",
    "    \n",
    "    \n",
    "    # 1. Get embeddings\n",
    "    embedding_start = time.time()\n",
    "    query_embedding = embedder.get_embeddings([query])[0].values\n",
    "    timings['embedding'] = time.time() - embedding_start\n",
    "\n",
    "    # 2. Retrieve from Bigtable\n",
    "    retrieval_start = time.time()\n",
    "    matches = await retrieve_bigtable(query_embedding)\n",
    "    timings['retrieval_bigtable'] = time.time() - retrieval_start\n",
    "\n",
    "    # 3. Augment the prompt\n",
    "    augment_start = time.time()\n",
    "    prompt = augment(matches) + query\n",
    "    timings['augment'] = time.time() - augment_start\n",
    "\n",
    "    # 4. Generate text\n",
    "    generate_start = time.time()\n",
    "    result = generate(prompt)\n",
    "    timings['generate'] = time.time() - generate_start\n",
    "\n",
    "    total_time = time.time() - start_time\n",
    "    timings['total'] = total_time\n",
    "    \n",
    "    profile.append(timings)\n",
    "    \n",
    "    return result.text"
   ]
  },
  {
   "cell_type": "code",
   "execution_count": 289,
   "id": "7e006d33-a6e3-46fb-bd26-b2d7730f64d7",
   "metadata": {
    "tags": []
   },
   "outputs": [
    {
     "name": "stdout",
     "output_type": "stream",
     "text": [
      "No, a lender does not have to perform servicing functions directly.  Context 1 explicitly states that a lender may use other organizations (\"subservicing arrangements\") to perform some or all of its servicing functions.  However, the lender remains contractually responsible (the \"master servicer\") unless they sell and assign servicing to another lender.  Even then,  the original lender may continue to be contractually responsible.\n",
      "\n"
     ]
    }
   ],
   "source": [
    "print(await rag(question))"
   ]
  },
  {
   "cell_type": "code",
   "execution_count": 290,
   "id": "dfb69928-1c5a-4d16-a02d-b727cd9c27a2",
   "metadata": {
    "tags": []
   },
   "outputs": [
    {
     "data": {
      "text/plain": [
       "[{'embedding': 0.08796429634094238,\n",
       "  'retrieval_bigtable': 0.22971844673156738,\n",
       "  'augment': 2.4080276489257812e-05,\n",
       "  'generate': 0.7621994018554688,\n",
       "  'total': 1.0799107551574707}]"
      ]
     },
     "execution_count": 290,
     "metadata": {},
     "output_type": "execute_result"
    }
   ],
   "source": [
    "profile"
   ]
  },
  {
   "cell_type": "code",
   "execution_count": 291,
   "id": "8b78341f-4e57-4e69-9ccc-1fee3e2d4666",
   "metadata": {
    "tags": []
   },
   "outputs": [],
   "source": [
    "for i in range(100):\n",
    "    response = await rag(question)"
   ]
  },
  {
   "cell_type": "markdown",
   "id": "d371ff1e-7afb-4a4b-949b-c099bb2af2b8",
   "metadata": {},
   "source": [
    "### Report From Profile"
   ]
  },
  {
   "cell_type": "code",
   "execution_count": 292,
   "id": "16707cb3-01d0-4348-866f-d8eb5d8f68b2",
   "metadata": {
    "tags": []
   },
   "outputs": [],
   "source": [
    "all_timings = {}\n",
    "for timings in profile:\n",
    "    for key, value in timings.items():\n",
    "        if key not in all_timings:\n",
    "            all_timings[key] = []\n",
    "        all_timings[key].append(value)"
   ]
  },
  {
   "cell_type": "code",
   "execution_count": 293,
   "id": "a7c069c8-87e2-423a-9438-a0d5709c623a",
   "metadata": {
    "tags": []
   },
   "outputs": [
    {
     "name": "stdout",
     "output_type": "stream",
     "text": [
      "Statistics for 'embedding':\n",
      "  Min: 0.0473 seconds\n",
      "  Max: 0.1127 seconds\n",
      "  Mean: 0.0558 seconds\n",
      "  Median: 0.0530 seconds\n",
      "  Std Dev: 0.0104 seconds\n",
      "  P95: 0.0798 seconds\n",
      "  P99: 0.0880 seconds\n",
      "\n",
      "Statistics for 'retrieval_bigtable':\n",
      "  Min: 0.1362 seconds\n",
      "  Max: 0.2672 seconds\n",
      "  Mean: 0.1697 seconds\n",
      "  Median: 0.1652 seconds\n",
      "  Std Dev: 0.0213 seconds\n",
      "  P95: 0.2101 seconds\n",
      "  P99: 0.2297 seconds\n",
      "\n",
      "Statistics for 'augment':\n",
      "  Min: 0.0000 seconds\n",
      "  Max: 0.0000 seconds\n",
      "  Mean: 0.0000 seconds\n",
      "  Median: 0.0000 seconds\n",
      "  Std Dev: 0.0000 seconds\n",
      "  P95: 0.0000 seconds\n",
      "  P99: 0.0000 seconds\n",
      "\n",
      "Statistics for 'generate':\n",
      "  Min: 0.5664 seconds\n",
      "  Max: 0.9706 seconds\n",
      "  Mean: 0.7367 seconds\n",
      "  Median: 0.7216 seconds\n",
      "  Std Dev: 0.0993 seconds\n",
      "  P95: 0.9135 seconds\n",
      "  P99: 0.9691 seconds\n",
      "\n",
      "Statistics for 'total':\n",
      "  Min: 0.7704 seconds\n",
      "  Max: 1.1772 seconds\n",
      "  Mean: 0.9622 seconds\n",
      "  Median: 0.9405 seconds\n",
      "  Std Dev: 0.1013 seconds\n",
      "  P95: 1.1378 seconds\n",
      "  P99: 1.1650 seconds\n",
      "\n"
     ]
    }
   ],
   "source": [
    "for key, values in all_timings.items():\n",
    "    arr = np.array(values)\n",
    "    print(f\"Statistics for '{key}':\")\n",
    "    print(f\"  Min: {np.min(arr):.4f} seconds\")\n",
    "    print(f\"  Max: {np.max(arr):.4f} seconds\")\n",
    "    print(f\"  Mean: {np.mean(arr):.4f} seconds\")\n",
    "    print(f\"  Median: {np.median(arr):.4f} seconds\")\n",
    "    print(f\"  Std Dev: {np.std(arr):.4f} seconds\")\n",
    "    print(f\"  P95: {np.percentile(arr, 95):.4f} seconds\")\n",
    "    print(f\"  P99: {np.percentile(arr, 99):.4f} seconds\")\n",
    "    print(\"\")"
   ]
  },
  {
   "cell_type": "markdown",
   "id": "14bff763-1270-4c32-b930-67b0f0ef9faf",
   "metadata": {},
   "source": [
    "## Remove Resources"
   ]
  },
  {
   "cell_type": "code",
   "execution_count": null,
   "id": "628211f9-8ff6-4124-b5fe-055b83898813",
   "metadata": {},
   "outputs": [],
   "source": [
    "#bigtable_column_family.delete()"
   ]
  },
  {
   "cell_type": "code",
   "execution_count": 101,
   "id": "b68475d4-e937-4f9d-bf32-1dcffe25258d",
   "metadata": {
    "tags": []
   },
   "outputs": [],
   "source": [
    "#bigtable_table.delete()"
   ]
  },
  {
   "cell_type": "code",
   "execution_count": 64,
   "id": "437fcd09-b32a-4f6a-9359-d4e9c2e5dce4",
   "metadata": {},
   "outputs": [],
   "source": [
    "#bigtable_instance.delete()"
   ]
  },
  {
   "cell_type": "code",
   "execution_count": null,
   "id": "71d71e97-4079-4ffa-8ace-c9ddd19b3900",
   "metadata": {},
   "outputs": [],
   "source": []
  }
 ],
 "metadata": {
  "environment": {
   "kernel": "conda-base-py",
   "name": "workbench-notebooks.m125",
   "type": "gcloud",
   "uri": "us-docker.pkg.dev/deeplearning-platform-release/gcr.io/workbench-notebooks:m125"
  },
  "kernelspec": {
   "display_name": "Python 3 (ipykernel) (Local)",
   "language": "python",
   "name": "conda-base-py"
  },
  "language_info": {
   "codemirror_mode": {
    "name": "ipython",
    "version": 3
   },
   "file_extension": ".py",
   "mimetype": "text/x-python",
   "name": "python",
   "nbconvert_exporter": "python",
   "pygments_lexer": "ipython3",
   "version": "3.10.15"
  }
 },
 "nbformat": 4,
 "nbformat_minor": 5
}
