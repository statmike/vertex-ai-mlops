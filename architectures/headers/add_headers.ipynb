{
 "cells": [
  {
   "cell_type": "markdown",
   "id": "7f05b260",
   "metadata": {},
   "source": [
    "![tracker](https://us-central1-vertex-ai-mlops-369716.cloudfunctions.net/pixel-tracking?path=statmike%2Fvertex-ai-mlops%2Farchitectures%2Fheaders&file=add_headers.ipynb)\n",
    "<!--- header table --->\n",
    "<table align=\"left\">\n",
    "<tr>\n",
    "  <td style=\"text-align: center\">\n",
    "    <a href=\"https://github.com/statmike/vertex-ai-mlops/blob/main/architectures/headers/add_headers.ipynb\">\n",
    "      <img width=\"32px\" src=\"https://www.svgrepo.com/download/217753/github.svg\" alt=\"GitHub logo\">\n",
    "      <br>View on<br>GitHub\n",
    "    </a>\n",
    "  </td>\n",
    "  <td style=\"text-align: center\">\n",
    "    <a href=\"https://colab.research.google.com/github/statmike/vertex-ai-mlops/blob/main/architectures/headers/add_headers.ipynb\">\n",
    "      <img width=\"32px\" src=\"https://www.gstatic.com/pantheon/images/bigquery/welcome_page/colab-logo.svg\" alt=\"Google Colaboratory logo\">\n",
    "      <br>Run in<br>Colab\n",
    "    </a>\n",
    "  </td>\n",
    "  <td style=\"text-align: center\">\n",
    "    <a href=\"https://console.cloud.google.com/vertex-ai/colab/import/https%3A%2F%2Fraw.githubusercontent.com%2Fstatmike%2Fvertex-ai-mlops%2Fmain%2Farchitectures%2Fheaders%2Fadd_headers.ipynb\">\n",
    "      <img width=\"32px\" src=\"https://lh3.googleusercontent.com/JmcxdQi-qOpctIvWKgPtrzZdJJK-J3sWE1RsfjZNwshCFgE_9fULcNpuXYTilIR2hjwN\" alt=\"Google Cloud Colab Enterprise logo\">\n",
    "      <br>Run in<br>Colab Enterprise\n",
    "    </a>\n",
    "  </td>      \n",
    "  <td style=\"text-align: center\">\n",
    "    <a href=\"https://console.cloud.google.com/bigquery/import?url=https://github.com/statmike/vertex-ai-mlops/blob/main/architectures/headers/add_headers.ipynb\">\n",
    "      <img width=\"32px\" src=\"https://www.gstatic.com/images/branding/gcpiconscolors/bigquery/v1/32px.svg\" alt=\"BigQuery logo\">\n",
    "      <br>Open in<br>BigQuery Studio\n",
    "    </a>\n",
    "  </td>\n",
    "  <td style=\"text-align: center\">\n",
    "    <a href=\"https://console.cloud.google.com/vertex-ai/workbench/deploy-notebook?download_url=https://raw.githubusercontent.com/statmike/vertex-ai-mlops/main/architectures/headers/add_headers.ipynb\">\n",
    "      <img width=\"32px\" src=\"https://www.gstatic.com/images/branding/gcpiconscolors/vertexai/v1/32px.svg\" alt=\"Vertex AI logo\">\n",
    "      <br>Open in<br>Vertex AI Workbench\n",
    "    </a>\n",
    "  </td>\n",
    "</tr>\n",
    "<tr>\n",
    "  <td colspan=\"5\" style=\"text-align: right\">\n",
    "    <b>Share This On: </b> \n",
    "    <a href=\"https://www.linkedin.com/sharing/share-offsite/?url=https://github.com/statmike/vertex-ai-mlops/blob/main/architectures/headers/add_headers.ipynb\"><img src=\"https://upload.wikimedia.org/wikipedia/commons/8/81/LinkedIn_icon.svg\" alt=\"Linkedin Logo\" width=\"20px\"></a> \n",
    "    <a href=\"https://reddit.com/submit?url=https://github.com/statmike/vertex-ai-mlops/blob/main/architectures/headers/add_headers.ipynb\"><img src=\"https://redditinc.com/hubfs/Reddit%20Inc/Brand/Reddit_Logo.png\" alt=\"Reddit Logo\" width=\"20px\"></a> \n",
    "    <a href=\"https://bsky.app/intent/compose?text=https://github.com/statmike/vertex-ai-mlops/blob/main/architectures/headers/add_headers.ipynb\"><img src=\"https://upload.wikimedia.org/wikipedia/commons/7/7a/Bluesky_Logo.svg\" alt=\"BlueSky Logo\" width=\"20px\"></a> \n",
    "    <a href=\"https://twitter.com/intent/tweet?url=https://github.com/statmike/vertex-ai-mlops/blob/main/architectures/headers/add_headers.ipynb\"><img src=\"https://upload.wikimedia.org/wikipedia/commons/5/5a/X_icon_2.svg\" alt=\"X (Twitter) Logo\" width=\"20px\"></a> \n",
    "  </td>\n",
    "</tr>\n",
    "<tr>\n",
    "  <td colspan=\"5\" style=\"text-align: right\">\n",
    "    <b>Connect With Author On: </b> \n",
    "    <a href=\"https://www.linkedin.com/in/statmike\"><img src=\"https://upload.wikimedia.org/wikipedia/commons/8/81/LinkedIn_icon.svg\" alt=\"Linkedin Logo\" width=\"20px\"></a>\n",
    "    <a href=\"https://www.github.com/statmike\"><img src=\"https://www.svgrepo.com/download/217753/github.svg\" alt=\"GitHub Logo\" width=\"20px\"></a> \n",
    "    <a href=\"https://www.youtube.com/@statmike-channel\"><img src=\"https://upload.wikimedia.org/wikipedia/commons/f/fd/YouTube_full-color_icon_%282024%29.svg\" alt=\"YouTube Logo\" width=\"20px\"></a>\n",
    "    <a href=\"https://bsky.app/profile/statmike.bsky.social\"><img src=\"https://upload.wikimedia.org/wikipedia/commons/7/7a/Bluesky_Logo.svg\" alt=\"BlueSky Logo\" width=\"20px\"></a> \n",
    "    <a href=\"https://x.com/statmike\"><img src=\"https://upload.wikimedia.org/wikipedia/commons/5/5a/X_icon_2.svg\" alt=\"X (Twitter) Logo\" width=\"20px\"></a>\n",
    "  </td>\n",
    "</tr>\n",
    "</table>"
   ]
  },
  {
   "cell_type": "markdown",
   "id": "507455bd-a45b-4289-9f6b-590977801da0",
   "metadata": {},
   "source": [
    "# Add Headers To All Notebooks and `.md` Files\n",
    "\n",
    "Include tracking links, and links to view/load content in Colab, Colab Enterprise, GitHub, Vertex AI Workbench Instances\n",
    "\n",
    "For more details on working with files to update with `nbformat` package see the companion notebook: [add_helpers_example](./add_helpers_example.ipynb)\n",
    "\n",
    "Reference:\n",
    "- https://github.com/GoogleCloudPlatform/vertex-ai-samples/blob/ed16b60537639c949e7ea436edb37996860e57ab/notebooks/notebook_template.ipynb#L38"
   ]
  },
  {
   "cell_type": "markdown",
   "id": "ea259dee-31fe-4cb3-885a-b0b692b6b089",
   "metadata": {},
   "source": [
    "---\n",
    "## Setup"
   ]
  },
  {
   "cell_type": "markdown",
   "id": "6c0187b6-1f74-4c5c-b6fb-245960bdc881",
   "metadata": {},
   "source": [
    "Imports:"
   ]
  },
  {
   "cell_type": "code",
   "execution_count": 1,
   "id": "05f17c9c-bd1d-46d8-83cf-8453c0cc1a65",
   "metadata": {
    "tags": []
   },
   "outputs": [
    {
     "data": {
      "text/plain": [
       "nbformat.NO_CONVERT"
      ]
     },
     "execution_count": 1,
     "metadata": {},
     "output_type": "execute_result"
    }
   ],
   "source": [
    "import os, json, urllib.parse, IPython\n",
    "from IPython.display import display, HTML, Markdown\n",
    "import nbformat as nbf\n",
    "nbf.NO_CONVERT"
   ]
  },
  {
   "cell_type": "code",
   "execution_count": 2,
   "id": "818ae85a",
   "metadata": {},
   "outputs": [
    {
     "data": {
      "text/plain": [
       "'/usr/local/google/home/statmike/Git/vertex-ai-mlops'"
      ]
     },
     "execution_count": 2,
     "metadata": {},
     "output_type": "execute_result"
    }
   ],
   "source": [
    "#location\n",
    "github_account = 'statmike'\n",
    "repo_name = 'vertex-ai-mlops'\n",
    "repo_root = r'/usr/local/google/home/statmike/Git'\n",
    "# repo_root = r'/home/statmike/repos'\n",
    "# repo_root = r'/home/jupyter'\n",
    "\n",
    "os.path.join(repo_root, repo_name)"
   ]
  },
  {
   "cell_type": "markdown",
   "id": "98d90585-8cec-49ab-838f-525e59274ef3",
   "metadata": {},
   "source": [
    "## Test For Parsing"
   ]
  },
  {
   "cell_type": "code",
   "execution_count": 3,
   "id": "36f20361-8f1b-4dcd-9511-67db4941848b",
   "metadata": {
    "tags": []
   },
   "outputs": [
    {
     "data": {
      "text/plain": [
       "'user%2Frepo%2Fpath%2Fto+the%2Ffile%2Ffile+name.ipynb'"
      ]
     },
     "execution_count": 3,
     "metadata": {},
     "output_type": "execute_result"
    }
   ],
   "source": [
    "urllib.parse.quote_plus('user/repo/path/to the/file/file name.ipynb')"
   ]
  },
  {
   "cell_type": "code",
   "execution_count": 4,
   "id": "2d563ecc-e923-49cc-8b9e-b5857644e90a",
   "metadata": {
    "tags": []
   },
   "outputs": [
    {
     "data": {
      "text/plain": [
       "'user/repo/path/to%20the/file/file%20name.ipynb'"
      ]
     },
     "execution_count": 4,
     "metadata": {},
     "output_type": "execute_result"
    }
   ],
   "source": [
    "urllib.parse.quote('user/repo/path/to the/file/file name.ipynb')"
   ]
  },
  {
   "cell_type": "code",
   "execution_count": 5,
   "id": "45128795",
   "metadata": {},
   "outputs": [
    {
     "data": {
      "text/plain": [
       "'user/repo/path/to%2520the/file/file%2520name.ipynb'"
      ]
     },
     "execution_count": 5,
     "metadata": {},
     "output_type": "execute_result"
    }
   ],
   "source": [
    "urllib.parse.quote(urllib.parse.quote('user/repo/path/to the/file/file name.ipynb'))"
   ]
  },
  {
   "cell_type": "code",
   "execution_count": 6,
   "id": "2a58ec6f-8183-4b54-b6f8-51e423c2e207",
   "metadata": {
    "tags": []
   },
   "outputs": [
    {
     "data": {
      "text/plain": [
       "'https%3A%2F%2Fgithub.com'"
      ]
     },
     "execution_count": 6,
     "metadata": {},
     "output_type": "execute_result"
    }
   ],
   "source": [
    "urllib.parse.quote_plus('https://github.com')"
   ]
  },
  {
   "cell_type": "code",
   "execution_count": 7,
   "id": "210ed2f2-5fc0-4947-9703-8879c3ddab6c",
   "metadata": {
    "tags": []
   },
   "outputs": [
    {
     "data": {
      "text/plain": [
       "'https%3A//github.com'"
      ]
     },
     "execution_count": 7,
     "metadata": {},
     "output_type": "execute_result"
    }
   ],
   "source": [
    "urllib.parse.quote('https://github.com')"
   ]
  },
  {
   "cell_type": "markdown",
   "id": "28f05157-6ee7-4711-a6db-e8b5fda4d5c5",
   "metadata": {},
   "source": [
    "---\n",
    "## Prepare Headers\n",
    "\n",
    "**Notes:** URL Encoding\n",
    "- `urllib.parse.qoute_plus()` replaces spaces with `+` which works for the query part of a URL (after a `?`)\n",
    "- `urllib.parse.qoute()` replaces spaces with `%20` which works for the main URL"
   ]
  },
  {
   "cell_type": "code",
   "execution_count": 8,
   "id": "ad75c283-12f4-4e3a-a0f2-2503eff32f61",
   "metadata": {
    "tags": []
   },
   "outputs": [],
   "source": [
    "def make_urls(root, file, repo_root):\n",
    "    prefixes = dict(\n",
    "        colab = 'https://colab.research.google.com/github/',\n",
    "        bqstudio = 'https://console.cloud.google.com/bigquery/import?url=',\n",
    "        ecolab = 'https://console.cloud.google.com/vertex-ai/colab/import/',\n",
    "        github = 'https://github.com/',\n",
    "        github_raw = 'https://raw.githubusercontent.com/',\n",
    "        wbi = 'https://console.cloud.google.com/vertex-ai/workbench/deploy-notebook?download_url=',\n",
    "        track = 'https://us-central1-vertex-ai-mlops-369716.cloudfunctions.net/pixel-tracking?',\n",
    "        linkedin = 'https://www.linkedin.com/sharing/share-offsite/?url=',\n",
    "        bluesky = 'https://bsky.app/intent/compose?text=',\n",
    "        twitter = 'https://twitter.com/intent/tweet?url=',\n",
    "        reddit = 'https://reddit.com/submit?url=',\n",
    "    )\n",
    "    \n",
    "    path = root.replace(repo_root, github_account).split('/')\n",
    "    # construct the path to the file, which if it is the main folder will be empty so just ''\n",
    "    path_part = urllib.parse.quote('/'.join(path[2:])) + '/' if len(path) > 2 else ''\n",
    "\n",
    "    urls = dict(\n",
    "        # open in links:\n",
    "        track = prefixes['track'] + f\"path={urllib.parse.quote_plus('/'.join(path))}&file={urllib.parse.quote_plus(file)}\",\n",
    "        colab = prefixes['colab'] + '/'.join(path[0:2]) + '/blob/main/' + path_part + urllib.parse.quote(file),\n",
    "        ecolab = prefixes['ecolab'] + urllib.parse.quote_plus(prefixes['github_raw'] + '/'.join(path[0:2]) + '/main/' + path_part + urllib.parse.quote(file)),\n",
    "        github = prefixes['github'] + '/'.join(path[0:2]) + '/blob/main/' + path_part + urllib.parse.quote(file),\n",
    "        wbi = prefixes['wbi'] + prefixes['github_raw'] + '/'.join(path[0:2]) + '/main/' + path_part + urllib.parse.quote(file),\n",
    "        bqstudio = prefixes['bqstudio'] + prefixes['github'] + '/'.join(path[0:2]) + '/blob/main/' + path_part + urllib.parse.quote(file),\n",
    "        # share to links:\n",
    "        linkedin = prefixes['linkedin'] + prefixes['github'] + '/'.join(path[0:2]) + '/blob/main/' + urllib.parse.quote(path_part + urllib.parse.quote(file)),\n",
    "        bluesky = prefixes['bluesky'] + prefixes['github'] + '/'.join(path[0:2]) + '/blob/main/' + urllib.parse.quote(path_part + urllib.parse.quote(file)),\n",
    "        twitter = prefixes['twitter'] + prefixes['github'] + '/'.join(path[0:2]) + '/blob/main/' + urllib.parse.quote(path_part + urllib.parse.quote(file)),\n",
    "        reddit = prefixes['reddit'] + prefixes['github'] + '/'.join(path[0:2]) + '/blob/main/' + urllib.parse.quote(path_part + urllib.parse.quote(file)),\n",
    "        # connect with links:\n",
    "        connect_github = 'https://www.github.com/statmike',\n",
    "        connect_linkedin = 'https://www.linkedin.com/in/statmike',\n",
    "        connect_youtube = 'https://www.youtube.com/@statmike-channel',\n",
    "        connect_bluesky = 'https://bsky.app/profile/statmike.bsky.social',\n",
    "        connect_twitter = 'https://x.com/statmike',\n",
    "    )\n",
    "\n",
    "    return urls"
   ]
  },
  {
   "cell_type": "code",
   "execution_count": 9,
   "id": "d3d5f330",
   "metadata": {},
   "outputs": [],
   "source": [
    "icons = dict(\n",
    "    bigquery = 'https://www.gstatic.com/images/branding/gcpiconscolors/bigquery/v1/32px.svg',\n",
    "    github = 'https://www.svgrepo.com/download/217753/github.svg', # https://cloud.google.com/ml-engine/images/github-logo-32px.png\n",
    "    colab = 'https://www.gstatic.com/pantheon/images/bigquery/welcome_page/colab-logo.svg', #https://cloud.google.com/ml-engine/images/colab-logo-32px.png\n",
    "    ecolab = 'https://lh3.googleusercontent.com/JmcxdQi-qOpctIvWKgPtrzZdJJK-J3sWE1RsfjZNwshCFgE_9fULcNpuXYTilIR2hjwN', #https://lh3.googleusercontent.com/JmcxdQi-qOpctIvWKgPtrzZdJJK-J3sWE1RsfjZNwshCFgE_9fULcNpuXYTilIR2hjwN\n",
    "    vertex = 'https://www.gstatic.com/images/branding/gcpiconscolors/vertexai/v1/32px.svg', #https://lh3.googleusercontent.com/UiNooY4LUgW_oTvpsNhPpQzsstV5W8F7rYgxgGBD85cWJoLmrOzhVs_ksK_vgx40SHs7jCqkTkCk=e14-rj-sc0xffffff-h130-w32\n",
    "    linkedin = 'https://upload.wikimedia.org/wikipedia/commons/8/81/LinkedIn_icon.svg',\n",
    "    bluesky = 'https://upload.wikimedia.org/wikipedia/commons/7/7a/Bluesky_Logo.svg',\n",
    "    twitter = 'https://upload.wikimedia.org/wikipedia/commons/5/5a/X_icon_2.svg',\n",
    "    reddit = 'https://redditinc.com/hubfs/Reddit%20Inc/Brand/Reddit_Logo.png',\n",
    "    youtube = 'https://upload.wikimedia.org/wikipedia/commons/f/fd/YouTube_full-color_icon_%282024%29.svg',\n",
    ")"
   ]
  },
  {
   "cell_type": "code",
   "execution_count": 10,
   "id": "f183a858-3878-4143-b92c-1bb83d13d47b",
   "metadata": {
    "tags": []
   },
   "outputs": [],
   "source": [
    "def make_header(root, file, repo_root):\n",
    "    urls = make_urls(root, file, repo_root)\n",
    "    \n",
    "    if file.endswith('.ipynb'):\n",
    "        header = f'''![tracker]({urls['track']})\n",
    "<!--- header table --->\n",
    "<table align=\"left\">\n",
    "  <td style=\"text-align: center\">\n",
    "    <a href=\"{urls['github']}\">\n",
    "      <img width=\"32px\" src=\"{icons['github']}\" alt=\"GitHub logo\">\n",
    "      <br>View on<br>GitHub\n",
    "    </a>\n",
    "  </td>\n",
    "  <td style=\"text-align: center\">\n",
    "    <a href=\"{urls['colab']}\">\n",
    "      <img width=\"32px\" src=\"{icons['colab']}\" alt=\"Google Colaboratory logo\">\n",
    "      <br>Run in<br>Colab\n",
    "    </a>\n",
    "  </td>\n",
    "  <td style=\"text-align: center\">\n",
    "    <a href=\"{urls['ecolab']}\">\n",
    "      <img width=\"32px\" src=\"{icons['ecolab']}\" alt=\"Google Cloud Colab Enterprise logo\">\n",
    "      <br>Run in<br>Colab Enterprise\n",
    "    </a>\n",
    "  </td>      \n",
    "  <td style=\"text-align: center\">\n",
    "    <a href=\"{urls['bqstudio']}\">\n",
    "      <img width=\"32px\" src=\"{icons['bigquery']}\" alt=\"BigQuery logo\">\n",
    "      <br>Open in<br>BigQuery Studio\n",
    "    </a>\n",
    "  </td>\n",
    "  <td style=\"text-align: center\">\n",
    "    <a href=\"{urls['wbi']}\">\n",
    "      <img width=\"32px\" src=\"{icons['vertex']}\" alt=\"Vertex AI logo\">\n",
    "      <br>Open in<br>Vertex AI Workbench\n",
    "    </a>\n",
    "  </td>\n",
    "</table>'''\n",
    "        return header    \n",
    "\n",
    "    if file.endswith('.md'):\n",
    "        header = f'''![tracker]({urls['track']})\n",
    "<!--- header table --->\n",
    "<table align=\"left\">     \n",
    "  <td style=\"text-align: center\">\n",
    "    <a href=\"{urls['github']}\">\n",
    "      <img width=\"32px\" src=\"{icons['github']}\" alt=\"GitHub logo\">\n",
    "      <br>View on<br>GitHub\n",
    "    </a>\n",
    "  </td>\n",
    "</table><br/><br/><br/><br/>\n",
    "\n",
    "---\n",
    "''' \n",
    "        return header"
   ]
  },
  {
   "cell_type": "code",
   "execution_count": 11,
   "id": "9c3cab46",
   "metadata": {},
   "outputs": [],
   "source": [
    "# new table version here: connection on row 2, qrcode on last column spanning both rows\n",
    "\n",
    "def make_header(root, file, repo_root):\n",
    "    urls = make_urls(root, file, repo_root)\n",
    "    \n",
    "    if file.endswith('.ipynb'):\n",
    "        header = f'''![tracker]({urls['track']})\n",
    "<!--- header table --->\n",
    "<table align=\"left\">\n",
    "<tr>\n",
    "  <td style=\"text-align: center\">\n",
    "    <a href=\"{urls['github']}\">\n",
    "      <img width=\"32px\" src=\"{icons['github']}\" alt=\"GitHub logo\">\n",
    "      <br>View on<br>GitHub\n",
    "    </a>\n",
    "  </td>\n",
    "  <td style=\"text-align: center\">\n",
    "    <a href=\"{urls['colab']}\">\n",
    "      <img width=\"32px\" src=\"{icons['colab']}\" alt=\"Google Colaboratory logo\">\n",
    "      <br>Run in<br>Colab\n",
    "    </a>\n",
    "  </td>\n",
    "  <td style=\"text-align: center\">\n",
    "    <a href=\"{urls['ecolab']}\">\n",
    "      <img width=\"32px\" src=\"{icons['ecolab']}\" alt=\"Google Cloud Colab Enterprise logo\">\n",
    "      <br>Run in<br>Colab Enterprise\n",
    "    </a>\n",
    "  </td>      \n",
    "  <td style=\"text-align: center\">\n",
    "    <a href=\"{urls['bqstudio']}\">\n",
    "      <img width=\"32px\" src=\"{icons['bigquery']}\" alt=\"BigQuery logo\">\n",
    "      <br>Open in<br>BigQuery Studio\n",
    "    </a>\n",
    "  </td>\n",
    "  <td style=\"text-align: center\">\n",
    "    <a href=\"{urls['wbi']}\">\n",
    "      <img width=\"32px\" src=\"{icons['vertex']}\" alt=\"Vertex AI logo\">\n",
    "      <br>Open in<br>Vertex AI Workbench\n",
    "    </a>\n",
    "  </td>\n",
    "</tr>\n",
    "<tr>\n",
    "  <td colspan=\"5\" style=\"text-align: right\">\n",
    "    <b>Share This On: </b> \n",
    "    <a href=\"{urls['linkedin']}\"><img src=\"{icons['linkedin']}\" alt=\"Linkedin Logo\" width=\"20px\"></a> \n",
    "    <a href=\"{urls['reddit']}\"><img src=\"{icons['reddit']}\" alt=\"Reddit Logo\" width=\"20px\"></a> \n",
    "    <a href=\"{urls['bluesky']}\"><img src=\"{icons['bluesky']}\" alt=\"BlueSky Logo\" width=\"20px\"></a> \n",
    "    <a href=\"{urls['twitter']}\"><img src=\"{icons['twitter']}\" alt=\"X (Twitter) Logo\" width=\"20px\"></a> \n",
    "  </td>\n",
    "</tr>\n",
    "<tr>\n",
    "  <td colspan=\"5\" style=\"text-align: right\">\n",
    "    <b>Connect With Author On: </b> \n",
    "    <a href=\"{urls['connect_linkedin']}\"><img src=\"{icons['linkedin']}\" alt=\"Linkedin Logo\" width=\"20px\"></a>\n",
    "    <a href=\"{urls['connect_github']}\"><img src=\"{icons['github']}\" alt=\"GitHub Logo\" width=\"20px\"></a> \n",
    "    <a href=\"{urls['connect_youtube']}\"><img src=\"{icons['youtube']}\" alt=\"YouTube Logo\" width=\"20px\"></a>\n",
    "    <a href=\"{urls['connect_bluesky']}\"><img src=\"{icons['bluesky']}\" alt=\"BlueSky Logo\" width=\"20px\"></a> \n",
    "    <a href=\"{urls['connect_twitter']}\"><img src=\"{icons['twitter']}\" alt=\"X (Twitter) Logo\" width=\"20px\"></a>\n",
    "  </td>\n",
    "</tr>\n",
    "</table>'''\n",
    "        return header    \n",
    "\n",
    "    if file.endswith('.md'):\n",
    "        header = f'''![tracker]({urls['track']})\n",
    "<!--- header table --->\n",
    "<table>\n",
    "<tr>     \n",
    "  <td style=\"text-align: center\">\n",
    "    <a href=\"{urls['github']}\">\n",
    "      <img width=\"32px\" src=\"{icons['github']}\" alt=\"GitHub logo\">\n",
    "      <br>View on<br>GitHub\n",
    "    </a>\n",
    "  </td>\n",
    "</tr>\n",
    "<tr>\n",
    "  <td style=\"text-align: right\">\n",
    "    <b>Share On: </b> \n",
    "    <a href=\"{urls['linkedin']}\"><img src=\"{icons['linkedin']}\" alt=\"Linkedin Logo\" width=\"20px\"></a> \n",
    "    <a href=\"{urls['reddit']}\"><img src=\"{icons['reddit']}\" alt=\"Reddit Logo\" width=\"20px\"></a> \n",
    "    <a href=\"{urls['bluesky']}\"><img src=\"{icons['bluesky']}\" alt=\"BlueSky Logo\" width=\"20px\"></a> \n",
    "    <a href=\"{urls['twitter']}\"><img src=\"{icons['twitter']}\" alt=\"X (Twitter) Logo\" width=\"20px\"></a> \n",
    "  </td>\n",
    "</tr>\n",
    "<tr>\n",
    "  <td style=\"text-align: right\">\n",
    "    <b>Connect With Author On: </b> \n",
    "    <a href=\"{urls['connect_linkedin']}\"><img src=\"{icons['linkedin']}\" alt=\"Linkedin Logo\" width=\"20px\"></a>\n",
    "    <a href=\"{urls['connect_github']}\"><img src=\"{icons['github']}\" alt=\"GitHub Logo\" width=\"20px\"></a> \n",
    "    <a href=\"{urls['connect_youtube']}\"><img src=\"{icons['youtube']}\" alt=\"YouTube Logo\" width=\"20px\"></a>\n",
    "    <a href=\"{urls['connect_bluesky']}\"><img src=\"{icons['bluesky']}\" alt=\"BlueSky Logo\" width=\"20px\"></a> \n",
    "    <a href=\"{urls['connect_twitter']}\"><img src=\"{icons['twitter']}\" alt=\"X (Twitter) Logo\" width=\"20px\"></a>\n",
    "  </td>\n",
    "</tr>\n",
    "</table><br/><br/>\n",
    "\n",
    "---\n",
    "''' \n",
    "        return header"
   ]
  },
  {
   "cell_type": "markdown",
   "id": "c9e13c20",
   "metadata": {},
   "source": [
    "---\n",
    "## Test Header"
   ]
  },
  {
   "cell_type": "code",
   "execution_count": 12,
   "id": "a0c0f31e-8d0e-411b-81d8-71fc62c391fb",
   "metadata": {
    "tags": []
   },
   "outputs": [
    {
     "name": "stdout",
     "output_type": "stream",
     "text": [
      "![tracker](https://us-central1-vertex-ai-mlops-369716.cloudfunctions.net/pixel-tracking?path=statmike%2Frepo%2Fpath%2Fto+the%2Ffile&file=name+of+file.ipynb)\n",
      "<!--- header table --->\n",
      "<table align=\"left\">\n",
      "<tr>\n",
      "  <td style=\"text-align: center\">\n",
      "    <a href=\"https://github.com/statmike/repo/blob/main/path/to%20the/file/name%20of%20file.ipynb\">\n",
      "      <img width=\"32px\" src=\"https://www.svgrepo.com/download/217753/github.svg\" alt=\"GitHub logo\">\n",
      "      <br>View on<br>GitHub\n",
      "    </a>\n",
      "  </td>\n",
      "  <td style=\"text-align: center\">\n",
      "    <a href=\"https://colab.research.google.com/github/statmike/repo/blob/main/path/to%20the/file/name%20of%20file.ipynb\">\n",
      "      <img width=\"32px\" src=\"https://www.gstatic.com/pantheon/images/bigquery/welcome_page/colab-logo.svg\" alt=\"Google Colaboratory logo\">\n",
      "      <br>Run in<br>Colab\n",
      "    </a>\n",
      "  </td>\n",
      "  <td style=\"text-align: center\">\n",
      "    <a href=\"https://console.cloud.google.com/vertex-ai/colab/import/https%3A%2F%2Fraw.githubusercontent.com%2Fstatmike%2Frepo%2Fmain%2Fpath%2Fto%2520the%2Ffile%2Fname%2520of%2520file.ipynb\">\n",
      "      <img width=\"32px\" src=\"https://lh3.googleusercontent.com/JmcxdQi-qOpctIvWKgPtrzZdJJK-J3sWE1RsfjZNwshCFgE_9fULcNpuXYTilIR2hjwN\" alt=\"Google Cloud Colab Enterprise logo\">\n",
      "      <br>Run in<br>Colab Enterprise\n",
      "    </a>\n",
      "  </td>      \n",
      "  <td style=\"text-align: center\">\n",
      "    <a href=\"https://console.cloud.google.com/bigquery/import?url=https://github.com/statmike/repo/blob/main/path/to%20the/file/name%20of%20file.ipynb\">\n",
      "      <img width=\"32px\" src=\"https://www.gstatic.com/images/branding/gcpiconscolors/bigquery/v1/32px.svg\" alt=\"BigQuery logo\">\n",
      "      <br>Open in<br>BigQuery Studio\n",
      "    </a>\n",
      "  </td>\n",
      "  <td style=\"text-align: center\">\n",
      "    <a href=\"https://console.cloud.google.com/vertex-ai/workbench/deploy-notebook?download_url=https://raw.githubusercontent.com/statmike/repo/main/path/to%20the/file/name%20of%20file.ipynb\">\n",
      "      <img width=\"32px\" src=\"https://www.gstatic.com/images/branding/gcpiconscolors/vertexai/v1/32px.svg\" alt=\"Vertex AI logo\">\n",
      "      <br>Open in<br>Vertex AI Workbench\n",
      "    </a>\n",
      "  </td>\n",
      "</tr>\n",
      "<tr>\n",
      "  <td colspan=\"5\" style=\"text-align: right\">\n",
      "    <b>Share This On: </b> \n",
      "    <a href=\"https://www.linkedin.com/sharing/share-offsite/?url=https://github.com/statmike/repo/blob/main/path/to%2520the/file/name%2520of%2520file.ipynb\"><img src=\"https://upload.wikimedia.org/wikipedia/commons/8/81/LinkedIn_icon.svg\" alt=\"Linkedin Logo\" width=\"20px\"></a> \n",
      "    <a href=\"https://reddit.com/submit?url=https://github.com/statmike/repo/blob/main/path/to%2520the/file/name%2520of%2520file.ipynb\"><img src=\"https://redditinc.com/hubfs/Reddit%20Inc/Brand/Reddit_Logo.png\" alt=\"Reddit Logo\" width=\"20px\"></a> \n",
      "    <a href=\"https://bsky.app/intent/compose?text=https://github.com/statmike/repo/blob/main/path/to%2520the/file/name%2520of%2520file.ipynb\"><img src=\"https://upload.wikimedia.org/wikipedia/commons/7/7a/Bluesky_Logo.svg\" alt=\"BlueSky Logo\" width=\"20px\"></a> \n",
      "    <a href=\"https://twitter.com/intent/tweet?url=https://github.com/statmike/repo/blob/main/path/to%2520the/file/name%2520of%2520file.ipynb\"><img src=\"https://upload.wikimedia.org/wikipedia/commons/5/5a/X_icon_2.svg\" alt=\"X (Twitter) Logo\" width=\"20px\"></a> \n",
      "  </td>\n",
      "</tr>\n",
      "<tr>\n",
      "  <td colspan=\"5\" style=\"text-align: right\">\n",
      "    <b>Connect With Author On: </b> \n",
      "    <a href=\"https://www.linkedin.com/in/statmike\"><img src=\"https://upload.wikimedia.org/wikipedia/commons/8/81/LinkedIn_icon.svg\" alt=\"Linkedin Logo\" width=\"20px\"></a>\n",
      "    <a href=\"https://www.github.com/statmike\"><img src=\"https://www.svgrepo.com/download/217753/github.svg\" alt=\"GitHub Logo\" width=\"20px\"></a> \n",
      "    <a href=\"https://www.youtube.com/@statmike-channel\"><img src=\"https://upload.wikimedia.org/wikipedia/commons/f/fd/YouTube_full-color_icon_%282024%29.svg\" alt=\"YouTube Logo\" width=\"20px\"></a>\n",
      "    <a href=\"https://bsky.app/profile/statmike.bsky.social\"><img src=\"https://upload.wikimedia.org/wikipedia/commons/7/7a/Bluesky_Logo.svg\" alt=\"BlueSky Logo\" width=\"20px\"></a> \n",
      "    <a href=\"https://x.com/statmike\"><img src=\"https://upload.wikimedia.org/wikipedia/commons/5/5a/X_icon_2.svg\" alt=\"X (Twitter) Logo\" width=\"20px\"></a>\n",
      "  </td>\n",
      "</tr>\n",
      "</table>\n"
     ]
    }
   ],
   "source": [
    "test_header = make_header('/home/jupyter/repo/path/to the/file', 'name of file.ipynb', '/home/jupyter')\n",
    "print(test_header)"
   ]
  },
  {
   "cell_type": "code",
   "execution_count": 13,
   "id": "05d7c510",
   "metadata": {},
   "outputs": [
    {
     "data": {
      "text/markdown": [
       "![tracker](https://us-central1-vertex-ai-mlops-369716.cloudfunctions.net/pixel-tracking?path=statmike%2Frepo%2Fpath%2Fto+the%2Ffile&file=name+of+file.ipynb)\n",
       "<!--- header table --->\n",
       "<table align=\"left\">\n",
       "<tr>\n",
       "  <td style=\"text-align: center\">\n",
       "    <a href=\"https://github.com/statmike/repo/blob/main/path/to%20the/file/name%20of%20file.ipynb\">\n",
       "      <img width=\"32px\" src=\"https://www.svgrepo.com/download/217753/github.svg\" alt=\"GitHub logo\">\n",
       "      <br>View on<br>GitHub\n",
       "    </a>\n",
       "  </td>\n",
       "  <td style=\"text-align: center\">\n",
       "    <a href=\"https://colab.research.google.com/github/statmike/repo/blob/main/path/to%20the/file/name%20of%20file.ipynb\">\n",
       "      <img width=\"32px\" src=\"https://www.gstatic.com/pantheon/images/bigquery/welcome_page/colab-logo.svg\" alt=\"Google Colaboratory logo\">\n",
       "      <br>Run in<br>Colab\n",
       "    </a>\n",
       "  </td>\n",
       "  <td style=\"text-align: center\">\n",
       "    <a href=\"https://console.cloud.google.com/vertex-ai/colab/import/https%3A%2F%2Fraw.githubusercontent.com%2Fstatmike%2Frepo%2Fmain%2Fpath%2Fto%2520the%2Ffile%2Fname%2520of%2520file.ipynb\">\n",
       "      <img width=\"32px\" src=\"https://lh3.googleusercontent.com/JmcxdQi-qOpctIvWKgPtrzZdJJK-J3sWE1RsfjZNwshCFgE_9fULcNpuXYTilIR2hjwN\" alt=\"Google Cloud Colab Enterprise logo\">\n",
       "      <br>Run in<br>Colab Enterprise\n",
       "    </a>\n",
       "  </td>      \n",
       "  <td style=\"text-align: center\">\n",
       "    <a href=\"https://console.cloud.google.com/bigquery/import?url=https://github.com/statmike/repo/blob/main/path/to%20the/file/name%20of%20file.ipynb\">\n",
       "      <img width=\"32px\" src=\"https://www.gstatic.com/images/branding/gcpiconscolors/bigquery/v1/32px.svg\" alt=\"BigQuery logo\">\n",
       "      <br>Open in<br>BigQuery Studio\n",
       "    </a>\n",
       "  </td>\n",
       "  <td style=\"text-align: center\">\n",
       "    <a href=\"https://console.cloud.google.com/vertex-ai/workbench/deploy-notebook?download_url=https://raw.githubusercontent.com/statmike/repo/main/path/to%20the/file/name%20of%20file.ipynb\">\n",
       "      <img width=\"32px\" src=\"https://www.gstatic.com/images/branding/gcpiconscolors/vertexai/v1/32px.svg\" alt=\"Vertex AI logo\">\n",
       "      <br>Open in<br>Vertex AI Workbench\n",
       "    </a>\n",
       "  </td>\n",
       "</tr>\n",
       "<tr>\n",
       "  <td colspan=\"5\" style=\"text-align: right\">\n",
       "    <b>Share This On: </b> \n",
       "    <a href=\"https://www.linkedin.com/sharing/share-offsite/?url=https://github.com/statmike/repo/blob/main/path/to%2520the/file/name%2520of%2520file.ipynb\"><img src=\"https://upload.wikimedia.org/wikipedia/commons/8/81/LinkedIn_icon.svg\" alt=\"Linkedin Logo\" width=\"20px\"></a> \n",
       "    <a href=\"https://reddit.com/submit?url=https://github.com/statmike/repo/blob/main/path/to%2520the/file/name%2520of%2520file.ipynb\"><img src=\"https://redditinc.com/hubfs/Reddit%20Inc/Brand/Reddit_Logo.png\" alt=\"Reddit Logo\" width=\"20px\"></a> \n",
       "    <a href=\"https://bsky.app/intent/compose?text=https://github.com/statmike/repo/blob/main/path/to%2520the/file/name%2520of%2520file.ipynb\"><img src=\"https://upload.wikimedia.org/wikipedia/commons/7/7a/Bluesky_Logo.svg\" alt=\"BlueSky Logo\" width=\"20px\"></a> \n",
       "    <a href=\"https://twitter.com/intent/tweet?url=https://github.com/statmike/repo/blob/main/path/to%2520the/file/name%2520of%2520file.ipynb\"><img src=\"https://upload.wikimedia.org/wikipedia/commons/5/5a/X_icon_2.svg\" alt=\"X (Twitter) Logo\" width=\"20px\"></a> \n",
       "  </td>\n",
       "</tr>\n",
       "<tr>\n",
       "  <td colspan=\"5\" style=\"text-align: right\">\n",
       "    <b>Connect With Author On: </b> \n",
       "    <a href=\"https://www.linkedin.com/in/statmike\"><img src=\"https://upload.wikimedia.org/wikipedia/commons/8/81/LinkedIn_icon.svg\" alt=\"Linkedin Logo\" width=\"20px\"></a>\n",
       "    <a href=\"https://www.github.com/statmike\"><img src=\"https://www.svgrepo.com/download/217753/github.svg\" alt=\"GitHub Logo\" width=\"20px\"></a> \n",
       "    <a href=\"https://www.youtube.com/@statmike-channel\"><img src=\"https://upload.wikimedia.org/wikipedia/commons/f/fd/YouTube_full-color_icon_%282024%29.svg\" alt=\"YouTube Logo\" width=\"20px\"></a>\n",
       "    <a href=\"https://bsky.app/profile/statmike.bsky.social\"><img src=\"https://upload.wikimedia.org/wikipedia/commons/7/7a/Bluesky_Logo.svg\" alt=\"BlueSky Logo\" width=\"20px\"></a> \n",
       "    <a href=\"https://x.com/statmike\"><img src=\"https://upload.wikimedia.org/wikipedia/commons/5/5a/X_icon_2.svg\" alt=\"X (Twitter) Logo\" width=\"20px\"></a>\n",
       "  </td>\n",
       "</tr>\n",
       "</table>"
      ],
      "text/plain": [
       "<IPython.core.display.Markdown object>"
      ]
     },
     "execution_count": 13,
     "metadata": {},
     "output_type": "execute_result"
    }
   ],
   "source": [
    "Markdown(test_header)"
   ]
  },
  {
   "cell_type": "code",
   "execution_count": 14,
   "id": "e0d22892",
   "metadata": {},
   "outputs": [
    {
     "name": "stdout",
     "output_type": "stream",
     "text": [
      "![tracker](https://us-central1-vertex-ai-mlops-369716.cloudfunctions.net/pixel-tracking?path=statmike%2Frepo%2Fpath%2Fto+the%2Ffile&file=name+of+file.md)\n",
      "<!--- header table --->\n",
      "<table>\n",
      "<tr>     \n",
      "  <td style=\"text-align: center\">\n",
      "    <a href=\"https://github.com/statmike/repo/blob/main/path/to%20the/file/name%20of%20file.md\">\n",
      "      <img width=\"32px\" src=\"https://www.svgrepo.com/download/217753/github.svg\" alt=\"GitHub logo\">\n",
      "      <br>View on<br>GitHub\n",
      "    </a>\n",
      "  </td>\n",
      "</tr>\n",
      "<tr>\n",
      "  <td style=\"text-align: right\">\n",
      "    <b>Share On: </b> \n",
      "    <a href=\"https://www.linkedin.com/sharing/share-offsite/?url=https://github.com/statmike/repo/blob/main/path/to%2520the/file/name%2520of%2520file.md\"><img src=\"https://upload.wikimedia.org/wikipedia/commons/8/81/LinkedIn_icon.svg\" alt=\"Linkedin Logo\" width=\"20px\"></a> \n",
      "    <a href=\"https://reddit.com/submit?url=https://github.com/statmike/repo/blob/main/path/to%2520the/file/name%2520of%2520file.md\"><img src=\"https://redditinc.com/hubfs/Reddit%20Inc/Brand/Reddit_Logo.png\" alt=\"Reddit Logo\" width=\"20px\"></a> \n",
      "    <a href=\"https://bsky.app/intent/compose?text=https://github.com/statmike/repo/blob/main/path/to%2520the/file/name%2520of%2520file.md\"><img src=\"https://upload.wikimedia.org/wikipedia/commons/7/7a/Bluesky_Logo.svg\" alt=\"BlueSky Logo\" width=\"20px\"></a> \n",
      "    <a href=\"https://twitter.com/intent/tweet?url=https://github.com/statmike/repo/blob/main/path/to%2520the/file/name%2520of%2520file.md\"><img src=\"https://upload.wikimedia.org/wikipedia/commons/5/5a/X_icon_2.svg\" alt=\"X (Twitter) Logo\" width=\"20px\"></a> \n",
      "  </td>\n",
      "</tr>\n",
      "<tr>\n",
      "  <td style=\"text-align: right\">\n",
      "    <b>Connect With Author On: </b> \n",
      "    <a href=\"https://www.linkedin.com/in/statmike\"><img src=\"https://upload.wikimedia.org/wikipedia/commons/8/81/LinkedIn_icon.svg\" alt=\"Linkedin Logo\" width=\"20px\"></a>\n",
      "    <a href=\"https://www.github.com/statmike\"><img src=\"https://www.svgrepo.com/download/217753/github.svg\" alt=\"GitHub Logo\" width=\"20px\"></a> \n",
      "    <a href=\"https://www.youtube.com/@statmike-channel\"><img src=\"https://upload.wikimedia.org/wikipedia/commons/f/fd/YouTube_full-color_icon_%282024%29.svg\" alt=\"YouTube Logo\" width=\"20px\"></a>\n",
      "    <a href=\"https://bsky.app/profile/statmike.bsky.social\"><img src=\"https://upload.wikimedia.org/wikipedia/commons/7/7a/Bluesky_Logo.svg\" alt=\"BlueSky Logo\" width=\"20px\"></a> \n",
      "    <a href=\"https://x.com/statmike\"><img src=\"https://upload.wikimedia.org/wikipedia/commons/5/5a/X_icon_2.svg\" alt=\"X (Twitter) Logo\" width=\"20px\"></a>\n",
      "  </td>\n",
      "</tr>\n",
      "</table><br/><br/>\n",
      "\n",
      "---\n",
      "\n"
     ]
    }
   ],
   "source": [
    "test_header = make_header('/home/jupyter/repo/path/to the/file', 'name of file.md', '/home/jupyter')\n",
    "print(test_header)"
   ]
  },
  {
   "cell_type": "code",
   "execution_count": 15,
   "id": "8b70b496",
   "metadata": {},
   "outputs": [
    {
     "data": {
      "text/markdown": [
       "![tracker](https://us-central1-vertex-ai-mlops-369716.cloudfunctions.net/pixel-tracking?path=statmike%2Frepo%2Fpath%2Fto+the%2Ffile&file=name+of+file.md)\n",
       "<!--- header table --->\n",
       "<table>\n",
       "<tr>     \n",
       "  <td style=\"text-align: center\">\n",
       "    <a href=\"https://github.com/statmike/repo/blob/main/path/to%20the/file/name%20of%20file.md\">\n",
       "      <img width=\"32px\" src=\"https://www.svgrepo.com/download/217753/github.svg\" alt=\"GitHub logo\">\n",
       "      <br>View on<br>GitHub\n",
       "    </a>\n",
       "  </td>\n",
       "</tr>\n",
       "<tr>\n",
       "  <td style=\"text-align: right\">\n",
       "    <b>Share On: </b> \n",
       "    <a href=\"https://www.linkedin.com/sharing/share-offsite/?url=https://github.com/statmike/repo/blob/main/path/to%2520the/file/name%2520of%2520file.md\"><img src=\"https://upload.wikimedia.org/wikipedia/commons/8/81/LinkedIn_icon.svg\" alt=\"Linkedin Logo\" width=\"20px\"></a> \n",
       "    <a href=\"https://reddit.com/submit?url=https://github.com/statmike/repo/blob/main/path/to%2520the/file/name%2520of%2520file.md\"><img src=\"https://redditinc.com/hubfs/Reddit%20Inc/Brand/Reddit_Logo.png\" alt=\"Reddit Logo\" width=\"20px\"></a> \n",
       "    <a href=\"https://bsky.app/intent/compose?text=https://github.com/statmike/repo/blob/main/path/to%2520the/file/name%2520of%2520file.md\"><img src=\"https://upload.wikimedia.org/wikipedia/commons/7/7a/Bluesky_Logo.svg\" alt=\"BlueSky Logo\" width=\"20px\"></a> \n",
       "    <a href=\"https://twitter.com/intent/tweet?url=https://github.com/statmike/repo/blob/main/path/to%2520the/file/name%2520of%2520file.md\"><img src=\"https://upload.wikimedia.org/wikipedia/commons/5/5a/X_icon_2.svg\" alt=\"X (Twitter) Logo\" width=\"20px\"></a> \n",
       "  </td>\n",
       "</tr>\n",
       "<tr>\n",
       "  <td style=\"text-align: right\">\n",
       "    <b>Connect With Author On: </b> \n",
       "    <a href=\"https://www.linkedin.com/in/statmike\"><img src=\"https://upload.wikimedia.org/wikipedia/commons/8/81/LinkedIn_icon.svg\" alt=\"Linkedin Logo\" width=\"20px\"></a>\n",
       "    <a href=\"https://www.github.com/statmike\"><img src=\"https://www.svgrepo.com/download/217753/github.svg\" alt=\"GitHub Logo\" width=\"20px\"></a> \n",
       "    <a href=\"https://www.youtube.com/@statmike-channel\"><img src=\"https://upload.wikimedia.org/wikipedia/commons/f/fd/YouTube_full-color_icon_%282024%29.svg\" alt=\"YouTube Logo\" width=\"20px\"></a>\n",
       "    <a href=\"https://bsky.app/profile/statmike.bsky.social\"><img src=\"https://upload.wikimedia.org/wikipedia/commons/7/7a/Bluesky_Logo.svg\" alt=\"BlueSky Logo\" width=\"20px\"></a> \n",
       "    <a href=\"https://x.com/statmike\"><img src=\"https://upload.wikimedia.org/wikipedia/commons/5/5a/X_icon_2.svg\" alt=\"X (Twitter) Logo\" width=\"20px\"></a>\n",
       "  </td>\n",
       "</tr>\n",
       "</table><br/><br/>\n",
       "\n",
       "---\n"
      ],
      "text/plain": [
       "<IPython.core.display.Markdown object>"
      ]
     },
     "execution_count": 15,
     "metadata": {},
     "output_type": "execute_result"
    }
   ],
   "source": [
    "Markdown(test_header)\n",
    "# note that the horizontal line may not render correctly here but it will in the readme.md documents"
   ]
  },
  {
   "cell_type": "markdown",
   "id": "ce286707",
   "metadata": {},
   "source": [
    "---\n",
    "## Update Docs In Repository With Headers\n",
    "\n",
    "Add and Update"
   ]
  },
  {
   "cell_type": "code",
   "execution_count": 16,
   "id": "29e11f5a-2a76-4fb0-8623-267ebf195761",
   "metadata": {
    "tags": []
   },
   "outputs": [
    {
     "name": "stdout",
     "output_type": "stream",
     "text": [
      "Saving File:\n",
      "\t/usr/local/google/home/statmike/Git/vertex-ai-mlops/Applied ML/AI Agents/travel-planner\n",
      "\tREADME.md\n",
      "Saving File:\n",
      "\t/usr/local/google/home/statmike/Git/vertex-ai-mlops/Applied ML/AI Agents/conversational-analytics-api\n",
      "\treadme.md\n",
      "Saving File:\n",
      "\t/usr/local/google/home/statmike/Git/vertex-ai-mlops/Applied ML/AI Agents/conversational-analytics-api\n",
      "\tconversational-analytics-api.ipynb\n"
     ]
    }
   ],
   "source": [
    "for root, dirs, files in os.walk(os.path.join(repo_root, repo_name)): #os.walk('../.'):\n",
    "#for root, dirs, files in os.walk(r'/home/jupyter/vertex-ai-mlops/architectures'):    \n",
    "    #if root.startswith('/home/jupyter/vertex-ai-mlops/architectures/headers') and not root.endswith(('.ipynb_checkpoints')) and '/temp' not in root: # testing\n",
    "    if (\n",
    "        not root.endswith(('.ipynb_checkpoints'))\n",
    "        and '/temp' not in root\n",
    "        and '.venv/' not in root\n",
    "    ):\n",
    "        for file in files:\n",
    "            # process for markdown files (most readme.md files)\n",
    "            if file.endswith(('.md')) and file not in ['LICENSE.md']:\n",
    "                # generate current header\n",
    "                header = make_header(root, file, repo_root)\n",
    "                \n",
    "                # read file\n",
    "                with open(os.path.join(root, file), 'r') as reader:\n",
    "                    content = reader.read()\n",
    "                    \n",
    "                # detect existing header in file\n",
    "                if content.startswith('<!--- header table --->') or content.startswith('![tracker](https://'):\n",
    "                    end_index = content.index('#')\n",
    "                    prior = content[0:end_index]\n",
    "                else:\n",
    "                    end_index = 0\n",
    "                    prior = ''\n",
    "                            \n",
    "                # is header changed?\n",
    "                if header != prior:\n",
    "                    update = True\n",
    "                else:\n",
    "                    update = False\n",
    "                    \n",
    "                # save updated file\n",
    "                if update:\n",
    "                    print(f'Saving File:\\n\\t{root}\\n\\t{file}')\n",
    "                    with open(os.path.join(root, file), 'w') as writer:\n",
    "                        writer.write(header + content[end_index:])\n",
    "             \n",
    "            # process for notebooks\n",
    "            if file.endswith(('.ipynb')):\n",
    "                # generate current header\n",
    "                header = make_header(root, file, repo_root)\n",
    "                \n",
    "                # read file\n",
    "                nb = nbf.read(os.path.join(root, file), nbf.NO_CONVERT)\n",
    "                \n",
    "                # detect existing header in file\n",
    "                if nb['cells'][0]['cell_type'] == 'markdown':\n",
    "                    content = nb['cells'][0]['source']\n",
    "                    if content.startswith('<!--- header table --->') or content.startswith('![tracker](https://'):\n",
    "                        end_index = len(content) # content.index('</table>') + 10\n",
    "                        prior = content # [0:end_index]\n",
    "                    else:\n",
    "                        end_index = 0\n",
    "                        prior = ''\n",
    "                \n",
    "                # is header changed?\n",
    "                if header != prior:\n",
    "                    update = True\n",
    "                else:\n",
    "                    update = False\n",
    "                    \n",
    "                # save updated file\n",
    "                if update:\n",
    "                    print(f'Saving File:\\n\\t{root}\\n\\t{file}')\n",
    "                    header_cell = nbf.v4.new_markdown_cell(source = header)\n",
    "                    if end_index == 0:\n",
    "                        nb['cells'].insert(0, header_cell)\n",
    "                    else:\n",
    "                        nb['cells'][0] = header_cell\n",
    "                    nbf.write(nb, os.path.join(root, file), version = nbf.NO_CONVERT)"
   ]
  },
  {
   "cell_type": "code",
   "execution_count": 17,
   "id": "52f51e4b-06cb-4bf8-a5b1-9a92011494d5",
   "metadata": {},
   "outputs": [
    {
     "data": {
      "text/plain": [
       "('/usr/local/google/home/statmike/Git/vertex-ai-mlops/Applied ML/Forecasting',\n",
       " 'readme.md')"
      ]
     },
     "execution_count": 17,
     "metadata": {},
     "output_type": "execute_result"
    }
   ],
   "source": [
    "# show the last iterations file and root:\n",
    "root, file"
   ]
  },
  {
   "cell_type": "code",
   "execution_count": null,
   "id": "f7767683",
   "metadata": {},
   "outputs": [],
   "source": []
  }
 ],
 "metadata": {
  "environment": {
   "kernel": "conda-base-py",
   "name": "workbench-notebooks.m128",
   "type": "gcloud",
   "uri": "us-docker.pkg.dev/deeplearning-platform-release/gcr.io/workbench-notebooks:m128"
  },
  "kernelspec": {
   "display_name": "headers-py3.13",
   "language": "python",
   "name": "python3"
  },
  "language_info": {
   "codemirror_mode": {
    "name": "ipython",
    "version": 3
   },
   "file_extension": ".py",
   "mimetype": "text/x-python",
   "name": "python",
   "nbconvert_exporter": "python",
   "pygments_lexer": "ipython3",
   "version": "3.13.3"
  }
 },
 "nbformat": 4,
 "nbformat_minor": 5
}
