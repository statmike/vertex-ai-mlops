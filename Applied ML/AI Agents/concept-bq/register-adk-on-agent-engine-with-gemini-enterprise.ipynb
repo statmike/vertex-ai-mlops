{
 "cells": [
  {
   "cell_type": "markdown",
   "id": "b57c714c",
   "metadata": {},
   "source": [
    "# Register ADK Agent On Vertex AI Agent Engine With Gemini Enterprise\n",
    "\n",
    "Previously Gemini Enterprise was called Agentspace."
   ]
  },
  {
   "cell_type": "code",
   "execution_count": 5,
   "id": "8f37ee58",
   "metadata": {},
   "outputs": [],
   "source": [
    "import subprocess\n",
    "import json\n",
    "import requests\n",
    "import dotenv\n",
    "from vertexai import agent_engines"
   ]
  },
  {
   "cell_type": "code",
   "execution_count": 2,
   "id": "0d36ab73",
   "metadata": {},
   "outputs": [
    {
     "name": "stdout",
     "output_type": "stream",
     "text": [
      "\n",
      "==================================================\n",
      "Google Cloud Project Information\n",
      "==================================================\n",
      "PROJECT_ID     = statmike-mlops-349915\n",
      "PROJECT_NUMBER = 1026793852137\n",
      "==================================================\n",
      "\n"
     ]
    }
   ],
   "source": [
    "PROJECT_ID = subprocess.run(['gcloud', 'config', 'get-value', 'project'], capture_output=True, text=True, check=True).stdout.strip()\n",
    "PROJECT_NUMBER = subprocess.run(['gcloud', 'projects', 'describe', PROJECT_ID, '--format=value(projectNumber)'], capture_output=True, text=True, check=True).stdout.strip()\n",
    "\n",
    "print(f\"\\n{'='*50}\\nGoogle Cloud Project Information\\n{'='*50}\\nPROJECT_ID     = {PROJECT_ID}\\nPROJECT_NUMBER = {PROJECT_NUMBER}\\n{'='*50}\\n\")"
   ]
  },
  {
   "cell_type": "markdown",
   "id": "cc8ab73a",
   "metadata": {},
   "source": [
    "## Get ADK Agent on Vertex AI Agent Engine"
   ]
  },
  {
   "cell_type": "code",
   "execution_count": 3,
   "id": "4c30bc3a",
   "metadata": {},
   "outputs": [],
   "source": [
    "agent_folder = './agent_convo_api'\n",
    "agent_deploy_folder = agent_folder + '/deploy'"
   ]
  },
  {
   "cell_type": "code",
   "execution_count": 6,
   "id": "16e40e9b",
   "metadata": {},
   "outputs": [
    {
     "data": {
      "text/plain": [
       "'projects/1026793852137/locations/us-central1/reasoningEngines/6919838002059411456'"
      ]
     },
     "execution_count": 6,
     "metadata": {},
     "output_type": "execute_result"
    }
   ],
   "source": [
    "config = dotenv.dotenv_values(dotenv_path = f'{agent_deploy_folder}/.env')\n",
    "current_deployment = config.get('ADK_DEPLOY_RESOURCE_ID')\n",
    "current_deployment"
   ]
  },
  {
   "cell_type": "code",
   "execution_count": 7,
   "id": "c46aceb7",
   "metadata": {},
   "outputs": [],
   "source": [
    "try:\n",
    "    remote_app = agent_engines.get(resource_name = current_deployment)\n",
    "except Exception as e:\n",
    "    remote_app = None"
   ]
  },
  {
   "cell_type": "code",
   "execution_count": 8,
   "id": "aa5a09e8",
   "metadata": {},
   "outputs": [
    {
     "data": {
      "text/plain": [
       "'projects/1026793852137/locations/us-central1/reasoningEngines/6919838002059411456'"
      ]
     },
     "execution_count": 8,
     "metadata": {},
     "output_type": "execute_result"
    }
   ],
   "source": [
    "remote_app.resource_name"
   ]
  },
  {
   "cell_type": "code",
   "execution_count": 9,
   "id": "15e868b6",
   "metadata": {},
   "outputs": [
    {
     "data": {
      "text/plain": [
       "'agent_convo_api'"
      ]
     },
     "execution_count": 9,
     "metadata": {},
     "output_type": "execute_result"
    }
   ],
   "source": [
    "remote_app.display_name"
   ]
  },
  {
   "cell_type": "code",
   "execution_count": 12,
   "id": "d5fec023",
   "metadata": {},
   "outputs": [
    {
     "data": {
      "text/plain": [
       "'An agent that can answer questions about BigQuery data using the Conversational Analytics API.'"
      ]
     },
     "execution_count": 12,
     "metadata": {},
     "output_type": "execute_result"
    }
   ],
   "source": [
    "remote_app.to_dict()['description']"
   ]
  },
  {
   "cell_type": "code",
   "execution_count": 15,
   "id": "dd7d3ae8",
   "metadata": {},
   "outputs": [],
   "source": [
    "LOCATION = \"global\"  # Or your specific location, e.g., \"us-central1\"\n",
    "AGENT_DISPLAY_NAME = remote_app.display_name\n",
    "AGENT_DESCRIPTION = remote_app.to_dict()['description']\n",
    "APP_ID = \"enterprise-search-17381091_1738109128316\""
   ]
  },
  {
   "cell_type": "code",
   "execution_count": 18,
   "id": "d7149ee5",
   "metadata": {},
   "outputs": [],
   "source": [
    "response = requests.post(\n",
    "    url=f\"https://discoveryengine.googleapis.com/v1alpha/projects/{PROJECT_NUMBER}/locations/{LOCATION}/collections/default_collection/engines/{APP_ID}/assistants/default_assistant/agents\",\n",
    "    headers={\n",
    "        \"Authorization\": f\"Bearer {subprocess.check_output(['gcloud', 'auth', 'print-access-token'], text=True).strip()}\",\n",
    "        \"Content-Type\": \"application/json\",\n",
    "        \"X-Goog-User-Project\": PROJECT_NUMBER\n",
    "    },\n",
    "    json={\n",
    "        \"displayName\": AGENT_DISPLAY_NAME,\n",
    "        \"description\": AGENT_DESCRIPTION,\n",
    "        \"adk_agent_definition\": {\n",
    "            \"tool_settings\": {\n",
    "                \"tool_description\": AGENT_DESCRIPTION\n",
    "            },\n",
    "            \"provisioned_reasoning_engine\": {\n",
    "                \"reasoning_engine\": remote_app.resource_name\n",
    "            }\n",
    "        },\n",
    "    }\n",
    ")"
   ]
  },
  {
   "cell_type": "code",
   "execution_count": 19,
   "id": "1bf04c42",
   "metadata": {},
   "outputs": [
    {
     "name": "stdout",
     "output_type": "stream",
     "text": [
      "Status Code: 200\n",
      "{\n",
      "  \"name\": \"projects/1026793852137/locations/global/collections/default_collection/engines/enterprise-search-17381091_1738109128316/assistants/default_assistant/agents/18337555184602126877\",\n",
      "  \"displayName\": \"agent_convo_api\",\n",
      "  \"description\": \"An agent that can answer questions about BigQuery data using the Conversational Analytics API.\",\n",
      "  \"createTime\": \"2025-10-15T16:55:46.862102849Z\",\n",
      "  \"adkAgentDefinition\": {\n",
      "    \"toolSettings\": {\n",
      "      \"toolDescription\": \"An agent that can answer questions about BigQuery data using the Conversational Analytics API.\"\n",
      "    },\n",
      "    \"provisionedReasoningEngine\": {\n",
      "      \"reasoningEngine\": \"projects/1026793852137/locations/us-central1/reasoningEngines/6919838002059411456\"\n",
      "    }\n",
      "  },\n",
      "  \"state\": \"ENABLED\"\n",
      "}\n",
      "\n"
     ]
    }
   ],
   "source": [
    "print(f\"Status Code: {response.status_code}\")\n",
    "if response.headers.get('Content-Type') == 'application/json':\n",
    "    # The .json() method will raise an error if the response is not valid JSON\n",
    "    print(response.json())\n",
    "else:\n",
    "    print(response.text)"
   ]
  },
  {
   "cell_type": "code",
   "execution_count": null,
   "id": "f29cbb7c",
   "metadata": {},
   "outputs": [],
   "source": []
  },
  {
   "cell_type": "code",
   "execution_count": null,
   "id": "f5b72b27",
   "metadata": {},
   "outputs": [],
   "source": []
  },
  {
   "cell_type": "code",
   "execution_count": null,
   "id": "9278fc17",
   "metadata": {},
   "outputs": [],
   "source": []
  }
 ],
 "metadata": {
  "kernelspec": {
   "display_name": "Python (concept-bq)",
   "language": "python",
   "name": "concept-bq"
  },
  "language_info": {
   "codemirror_mode": {
    "name": "ipython",
    "version": 3
   },
   "file_extension": ".py",
   "mimetype": "text/x-python",
   "name": "python",
   "nbconvert_exporter": "python",
   "pygments_lexer": "ipython3",
   "version": "3.13.3"
  }
 },
 "nbformat": 4,
 "nbformat_minor": 5
}
