{
 "cells": [
  {
   "cell_type": "markdown",
   "id": "2a12cd21",
   "metadata": {},
   "source": [
    "![tracker](https://us-central1-vertex-ai-mlops-369716.cloudfunctions.net/pixel-tracking?path=statmike%2Fvertex-ai-mlops%2FApplied+ML%2FSolution+Prototypes%2Fdocument-processing%2F7-agents%2Fdocument_agent&file=deploy-vertex-ai-agent-engine.ipynb)\n",
    "<!--- header table --->\n",
    "<table align=\"left\">\n",
    "<tr>\n",
    "  <td style=\"text-align: center\">\n",
    "    <a href=\"https://github.com/statmike/vertex-ai-mlops/blob/main/Applied%20ML/Solution%20Prototypes/document-processing/7-agents/document_agent/deploy-vertex-ai-agent-engine.ipynb\">\n",
    "      <img width=\"32px\" src=\"https://www.svgrepo.com/download/217753/github.svg\" alt=\"GitHub logo\">\n",
    "      <br>View on<br>GitHub\n",
    "    </a>\n",
    "  </td>\n",
    "  <td style=\"text-align: center\">\n",
    "    <a href=\"https://colab.research.google.com/github/statmike/vertex-ai-mlops/blob/main/Applied%20ML/Solution%20Prototypes/document-processing/7-agents/document_agent/deploy-vertex-ai-agent-engine.ipynb\">\n",
    "      <img width=\"32px\" src=\"https://www.gstatic.com/pantheon/images/bigquery/welcome_page/colab-logo.svg\" alt=\"Google Colaboratory logo\">\n",
    "      <br>Run in<br>Colab\n",
    "    </a>\n",
    "  </td>\n",
    "  <td style=\"text-align: center\">\n",
    "    <a href=\"https://console.cloud.google.com/vertex-ai/colab/import/https%3A%2F%2Fraw.githubusercontent.com%2Fstatmike%2Fvertex-ai-mlops%2Fmain%2FApplied%2520ML%2FSolution%2520Prototypes%2Fdocument-processing%2F7-agents%2Fdocument_agent%2Fdeploy-vertex-ai-agent-engine.ipynb\">\n",
    "      <img width=\"32px\" src=\"https://lh3.googleusercontent.com/JmcxdQi-qOpctIvWKgPtrzZdJJK-J3sWE1RsfjZNwshCFgE_9fULcNpuXYTilIR2hjwN\" alt=\"Google Cloud Colab Enterprise logo\">\n",
    "      <br>Run in<br>Colab Enterprise\n",
    "    </a>\n",
    "  </td>      \n",
    "  <td style=\"text-align: center\">\n",
    "    <a href=\"https://console.cloud.google.com/bigquery/import?url=https://github.com/statmike/vertex-ai-mlops/blob/main/Applied%20ML/Solution%20Prototypes/document-processing/7-agents/document_agent/deploy-vertex-ai-agent-engine.ipynb\">\n",
    "      <img width=\"32px\" src=\"https://www.gstatic.com/images/branding/gcpiconscolors/bigquery/v1/32px.svg\" alt=\"BigQuery logo\">\n",
    "      <br>Open in<br>BigQuery Studio\n",
    "    </a>\n",
    "  </td>\n",
    "  <td style=\"text-align: center\">\n",
    "    <a href=\"https://console.cloud.google.com/vertex-ai/workbench/deploy-notebook?download_url=https://raw.githubusercontent.com/statmike/vertex-ai-mlops/main/Applied%20ML/Solution%20Prototypes/document-processing/7-agents/document_agent/deploy-vertex-ai-agent-engine.ipynb\">\n",
    "      <img width=\"32px\" src=\"https://www.gstatic.com/images/branding/gcpiconscolors/vertexai/v1/32px.svg\" alt=\"Vertex AI logo\">\n",
    "      <br>Open in<br>Vertex AI Workbench\n",
    "    </a>\n",
    "  </td>\n",
    "</tr>\n",
    "<tr>\n",
    "  <td colspan=\"5\" style=\"text-align: right\">\n",
    "    <b>Share This On: </b> \n",
    "    <a href=\"https://www.linkedin.com/sharing/share-offsite/?url=https://github.com/statmike/vertex-ai-mlops/blob/main/Applied%2520ML/Solution%2520Prototypes/document-processing/7-agents/document_agent/deploy-vertex-ai-agent-engine.ipynb\"><img src=\"https://upload.wikimedia.org/wikipedia/commons/8/81/LinkedIn_icon.svg\" alt=\"Linkedin Logo\" width=\"20px\"></a> \n",
    "    <a href=\"https://reddit.com/submit?url=https://github.com/statmike/vertex-ai-mlops/blob/main/Applied%2520ML/Solution%2520Prototypes/document-processing/7-agents/document_agent/deploy-vertex-ai-agent-engine.ipynb\"><img src=\"https://redditinc.com/hubfs/Reddit%20Inc/Brand/Reddit_Logo.png\" alt=\"Reddit Logo\" width=\"20px\"></a> \n",
    "    <a href=\"https://bsky.app/intent/compose?text=https://github.com/statmike/vertex-ai-mlops/blob/main/Applied%2520ML/Solution%2520Prototypes/document-processing/7-agents/document_agent/deploy-vertex-ai-agent-engine.ipynb\"><img src=\"https://upload.wikimedia.org/wikipedia/commons/7/7a/Bluesky_Logo.svg\" alt=\"BlueSky Logo\" width=\"20px\"></a> \n",
    "    <a href=\"https://twitter.com/intent/tweet?url=https://github.com/statmike/vertex-ai-mlops/blob/main/Applied%2520ML/Solution%2520Prototypes/document-processing/7-agents/document_agent/deploy-vertex-ai-agent-engine.ipynb\"><img src=\"https://upload.wikimedia.org/wikipedia/commons/5/5a/X_icon_2.svg\" alt=\"X (Twitter) Logo\" width=\"20px\"></a> \n",
    "  </td>\n",
    "</tr>\n",
    "<tr>\n",
    "  <td colspan=\"5\" style=\"text-align: right\">\n",
    "    <b>Connect With Author On: </b> \n",
    "    <a href=\"https://www.linkedin.com/in/statmike\"><img src=\"https://upload.wikimedia.org/wikipedia/commons/8/81/LinkedIn_icon.svg\" alt=\"Linkedin Logo\" width=\"20px\"></a>\n",
    "    <a href=\"https://www.github.com/statmike\"><img src=\"https://www.svgrepo.com/download/217753/github.svg\" alt=\"GitHub Logo\" width=\"20px\"></a> \n",
    "    <a href=\"https://www.youtube.com/@statmike-channel\"><img src=\"https://upload.wikimedia.org/wikipedia/commons/f/fd/YouTube_full-color_icon_%282024%29.svg\" alt=\"YouTube Logo\" width=\"20px\"></a>\n",
    "    <a href=\"https://bsky.app/profile/statmike.bsky.social\"><img src=\"https://upload.wikimedia.org/wikipedia/commons/7/7a/Bluesky_Logo.svg\" alt=\"BlueSky Logo\" width=\"20px\"></a> \n",
    "    <a href=\"https://x.com/statmike\"><img src=\"https://upload.wikimedia.org/wikipedia/commons/5/5a/X_icon_2.svg\" alt=\"X (Twitter) Logo\" width=\"20px\"></a>\n",
    "  </td>\n",
    "</tr>\n",
    "</table>"
   ]
  },
  {
   "cell_type": "markdown",
   "id": "d692f4a5",
   "metadata": {},
   "source": [
    "# Deploy Agent To Vertex AI Agent Engine\n",
    "\n",
    "After building and testing an agent built with ADK the next step is deployment for use in production workflows and applications.  The notebook workflow shows the steps for deploying the agent built in the product on [Vertex AI Agent Engine](https://cloud.google.com/vertex-ai/generative-ai/docs/agent-engine/overview).  This service includes:\n",
    "- [Development](https://cloud.google.com/vertex-ai/generative-ai/docs/agent-engine/develop/adk) tooling to test the agent locally first\n",
    "- [Deployment](https://cloud.google.com/vertex-ai/generative-ai/docs/agent-engine/deploy) tooling to create the agent instance on Vertex AI Agent Engine\n",
    "- [Agent Use](https://cloud.google.com/vertex-ai/generative-ai/docs/agent-engine/use/adk) SDK directly within the Vetex AI SDK\n",
    "- [Mangagement](https://cloud.google.com/vertex-ai/generative-ai/docs/agent-engine/manage/overview) services for access control, tracing, logging, and monitoring of deployed agents\n",
    "- and services like [Agent Evaluation](https://cloud.google.com/vertex-ai/generative-ai/docs/agent-engine/evaluate) and more!\n",
    "\n",
    "While Vertex AI Agent Engine is a service for many agent building frameworks (ADK, LangChain, LangGraph, AG2, LlamaIndex, Custom, ...) it is also directly integrated with Google ADK, the framework used in this project.  [ADK Deployment](https://google.github.io/adk-docs/deploy/) options include [Vertex AI Agent Engine](https://google.github.io/adk-docs/deploy/agent-engine/) as well as [Cloud Run](https://google.github.io/adk-docs/deploy/cloud-run/) and [custom infrastructure](https://google.github.io/adk-docs/deploy/gke/) deploymetns.\n",
    "\n",
    "**Notes:**\n",
    "- This notebook expects the current working directory to contain the agents folders. In other words, `agent.py` is at `./folder_name/agent.py`."
   ]
  },
  {
   "cell_type": "markdown",
   "id": "c5d2b094",
   "metadata": {},
   "source": [
    "Package Imports:"
   ]
  },
  {
   "cell_type": "code",
   "execution_count": 1,
   "id": "39893d15",
   "metadata": {},
   "outputs": [],
   "source": [
    "import os, sys, subprocess\n",
    "\n",
    "import dotenv\n",
    "\n",
    "import vertexai\n",
    "from vertexai import agent_engines"
   ]
  },
  {
   "cell_type": "markdown",
   "id": "f3c6d7b6",
   "metadata": {},
   "source": [
    "Verify working directory:"
   ]
  },
  {
   "cell_type": "code",
   "execution_count": 2,
   "id": "1b4aa95c",
   "metadata": {},
   "outputs": [
    {
     "data": {
      "text/plain": [
       "'/usr/local/google/home/statmike/Git/vertex-ai-mlops/Applied ML/AI Agents/concept-bq'"
      ]
     },
     "execution_count": 2,
     "metadata": {},
     "output_type": "execute_result"
    }
   ],
   "source": [
    "os.getcwd()"
   ]
  },
  {
   "cell_type": "markdown",
   "id": "9a83a22a",
   "metadata": {},
   "source": [
    "Review the local files, expecting the `document_agent` folder to be here:"
   ]
  },
  {
   "cell_type": "code",
   "execution_count": 3,
   "id": "bace754b",
   "metadata": {},
   "outputs": [
    {
     "data": {
      "text/plain": [
       "['tools.yaml',\n",
       " 'deploy-vertex-ai-agent-engine.ipynb',\n",
       " 'requirements.txt',\n",
       " 'poetry.lock',\n",
       " 'agent_mcp_toolbox_prewritten',\n",
       " 'pyproject.toml',\n",
       " '.env',\n",
       " 'agent_bq_python_tools',\n",
       " 'readme.md',\n",
       " 'agent_mcp_toolbox_dynamic',\n",
       " 'agent_convo_api',\n",
       " 'requirements-colab.txt',\n",
       " 'requirements-brief.txt',\n",
       " 'agent_bq_builtin',\n",
       " 'examples.sql',\n",
       " 'agent_concept_bq',\n",
       " '.python-version']"
      ]
     },
     "execution_count": 3,
     "metadata": {},
     "output_type": "execute_result"
    }
   ],
   "source": [
    "os.listdir('.')"
   ]
  },
  {
   "cell_type": "markdown",
   "id": "5c5d1b0e",
   "metadata": {},
   "source": [
    "Verify the current Python version and executable location (the `venv` setup by this project):"
   ]
  },
  {
   "cell_type": "code",
   "execution_count": 4,
   "id": "3b9bd944",
   "metadata": {},
   "outputs": [
    {
     "data": {
      "text/plain": [
       "('3.13.3 (main, Aug 26 2025, 15:54:22) [GCC 14.2.0]',\n",
       " '/usr/local/google/home/statmike/.cache/pypoetry/virtualenvs/concept-bq-UQh6K0pz-py3.13/bin/python')"
      ]
     },
     "execution_count": 4,
     "metadata": {},
     "output_type": "execute_result"
    }
   ],
   "source": [
    "sys.version, sys.executable"
   ]
  },
  {
   "cell_type": "markdown",
   "id": "4e584c8e",
   "metadata": {},
   "source": [
    "Setup Clients:"
   ]
  },
  {
   "cell_type": "code",
   "execution_count": 5,
   "id": "f82ceaea",
   "metadata": {},
   "outputs": [],
   "source": [
    "# Load environment variables set with agent (./document_agent/.env)\n",
    "dotenv.load_dotenv(dotenv_path = '.env')\n",
    "\n",
    "# Vertex AI Initializaiton:\n",
    "vertexai.init(\n",
    "    project = os.getenv('GOOGLE_CLOUD_PROJECT'),\n",
    "    location = os.getenv('GOOGLE_CLOUD_LOCATION'),\n",
    "    staging_bucket=os.getenv('GOOGLE_CLOUD_STORAGE_BUCKET')\n",
    ")"
   ]
  },
  {
   "cell_type": "markdown",
   "id": "697a0b00",
   "metadata": {},
   "source": [
    "Supress Warnings In Output:"
   ]
  },
  {
   "cell_type": "code",
   "execution_count": 7,
   "id": "a45578a0",
   "metadata": {},
   "outputs": [],
   "source": [
    "import warnings\n",
    "warnings.filterwarnings('ignore', message='.*EXPERIMENTAL.*')"
   ]
  },
  {
   "cell_type": "markdown",
   "id": "545d9b44",
   "metadata": {},
   "source": [
    "## Pick Agent To Deploy"
   ]
  },
  {
   "cell_type": "code",
   "execution_count": 8,
   "id": "14e2b5f2",
   "metadata": {},
   "outputs": [],
   "source": [
    "from agent_convo_api.agent import root_agent\n",
    "\n",
    "agent_folder = './agent_convo_api'\n",
    "agent_deploy_folder = agent_folder + '/deploy'\n",
    "agent_gcs_path = 'applied-ml/ai-agents/concept-bq/agent_convo_api/staging'"
   ]
  },
  {
   "cell_type": "markdown",
   "id": "9979f001",
   "metadata": {},
   "source": [
    "---\n",
    "## Local Testing: Prepare Agent for Vertex AI Agent Engine\n",
    "\n",
    "Before deploying the ADK agent to Vertex AI Agent Engine it can first be tested locally with the SDK.\n",
    "\n",
    "[SDK Link for `agent_engines.AdkApp`](https://github.com/googleapis/python-aiplatform/blob/main/vertexai/agent_engines/templates/adk.py)"
   ]
  },
  {
   "cell_type": "code",
   "execution_count": 33,
   "id": "6d7905b4",
   "metadata": {},
   "outputs": [],
   "source": [
    "app = agent_engines.AdkApp(\n",
    "    agent=root_agent,\n",
    "    enable_tracing=True,\n",
    ")"
   ]
  },
  {
   "cell_type": "code",
   "execution_count": 34,
   "id": "629981c9",
   "metadata": {},
   "outputs": [
    {
     "name": "stdout",
     "output_type": "stream",
     "text": [
      "{'parts': [{'text': 'I can answer questions about data stored in BigQuery. I can list datasets, get information about datasets and tables, and use a conversational tool to answer your questions about the data in those tables. Just ask!'}], 'role': 'model'}\n"
     ]
    }
   ],
   "source": [
    "async for event in app.async_stream_query(\n",
    "    user_id = 'u_123',\n",
    "    message = \"What can you do?\"\n",
    "):\n",
    "    print(event['content'])"
   ]
  },
  {
   "cell_type": "code",
   "execution_count": 41,
   "id": "d1ac93f0",
   "metadata": {},
   "outputs": [
    {
     "name": "stdout",
     "output_type": "stream",
     "text": [
      "sessions=[Session(id='cb3f65bc-b23d-4b17-8e62-45835921d617', app_name='default-app-name', user_id='u_123', state={}, events=[], last_update_time=1760535807.969846)]\n"
     ]
    }
   ],
   "source": [
    "list_sessions = await app.async_list_sessions(user_id = 'u_123')\n",
    "print(list_sessions)"
   ]
  },
  {
   "cell_type": "code",
   "execution_count": null,
   "id": "3a6d7447",
   "metadata": {},
   "outputs": [
    {
     "name": "stderr",
     "output_type": "stream",
     "text": [
      "Warning: there are non-text parts in the response: ['function_call'], returning concatenated text result from text parts. Check the full candidates.content.parts accessor to get the full model response.\n"
     ]
    },
    {
     "name": "stdout",
     "output_type": "stream",
     "text": [
      "{'content': {'parts': [{'function_call': {'id': 'adk-739efbae-102a-4b56-9afe-e44e738cd65c', 'args': {'project_id': 'bigquery-public-data'}, 'name': 'list_dataset_ids'}}], 'role': 'model'}, 'finish_reason': 'STOP', 'usage_metadata': {'candidates_token_count': 14, 'candidates_tokens_details': [{'modality': 'TEXT', 'token_count': 14}], 'prompt_token_count': 2437, 'prompt_tokens_details': [{'modality': 'TEXT', 'token_count': 2437}], 'total_token_count': 2451, 'traffic_type': 'ON_DEMAND'}, 'avg_logprobs': -0.04079171163695199, 'invocation_id': 'e-ac6985a3-7293-4c42-b9da-34afedad5086', 'author': 'agent_convo_api', 'actions': {'state_delta': {}, 'artifact_delta': {}, 'requested_auth_configs': {}, 'requested_tool_confirmations': {}}, 'long_running_tool_ids': [], 'id': '96ce1ea4-e04b-4541-ab5f-e29400260416', 'timestamp': 1760535794.153292}\n",
      "{'content': {'parts': [{'function_response': {'id': 'adk-739efbae-102a-4b56-9afe-e44e738cd65c', 'name': 'list_dataset_ids', 'response': {'result': ['america_health_rankings', 'austin_311', 'austin_bikeshare', 'austin_crime', 'austin_incidents', 'austin_waste', 'baseball', 'bbc_news', 'bigqueryml_ncaa', 'bitcoin_blockchain', 'blackhole_database', 'blockchain_analytics_ethereum_mainnet_us', 'bls', 'bls_qcew', 'breathe', 'broadstreet_adi', 'catalonian_mobile_coverage', 'catalonian_mobile_coverage_eu', 'census_bureau_acs', 'census_bureau_construction', 'census_bureau_international', 'census_bureau_usa', 'census_opportunity_atlas', 'census_utility', 'cfpb_complaints', 'chicago_crime', 'chicago_taxi_trips', 'clemson_dice', 'cloud_storage_geo_index', 'cms_codes', 'cms_medicare', 'cms_synthetic_patient_data_omop', 'country_codes', 'covid19_aha', 'covid19_covidtracking', 'covid19_ecdc', 'covid19_ecdc_eu', 'covid19_genome_sequence', 'covid19_geotab_mobility_impact', 'covid19_geotab_mobility_impact_eu', 'covid19_google_mobility', 'covid19_google_mobility_eu', 'covid19_govt_response', 'covid19_italy', 'covid19_italy_eu', 'covid19_jhu_csse', 'covid19_jhu_csse_eu', 'covid19_nyt', 'covid19_open_data', 'covid19_open_data_eu', 'covid19_public_forecasts', 'covid19_public_forecasts_asia_ne1', 'covid19_rxrx19', 'covid19_symptom_search', 'covid19_tracking', 'covid19_usafacts', 'covid19_vaccination_access', 'covid19_vaccination_search_insights', 'covid19_weathersource_com', 'crypto_aptos_mainnet_us', 'crypto_aptos_testnet_us', 'crypto_band', 'crypto_bitcoin', 'crypto_bitcoin_cash', 'crypto_dash', 'crypto_dogecoin', 'crypto_ethereum', 'crypto_ethereum_classic', 'crypto_iotex', 'crypto_kusama', 'crypto_litecoin', 'crypto_multiversx_mainnet_eu', 'crypto_near_mainnet_us', 'crypto_polkadot', 'crypto_polygon', 'crypto_solana_mainnet_us', 'crypto_sui_mainnet_us', 'crypto_tezos', 'crypto_theta', 'crypto_zcash', 'crypto_zilliqa', 'cymbal_investments', 'dataflix_covid', 'dataflix_traffic_safety', 'deepmind_alphafold', 'deps_dev_v1', 'dimensions_ai_covid19', 'ebi_chembl', 'ebi_mgnify', 'ebi_surechembl', 'eclipse_megamovie', 'epa_historical_air_quality', 'ethereum_blockchain', 'etsi_technical_standards', 'faa', 'fcc_political_ads', 'fda_drug', 'fda_food', 'fdic_banks', 'fec', 'fhir_synthea', 'ga4_obfuscated_sample_ecommerce', 'gbif', 'gdelt_hathitrustbooks', 'gdelt_internetarchivebooks', 'genomics_cannabis', 'genomics_rice', 'geo_census_blockgroups', 'geo_census_tracts', 'geo_international_ports', 'geo_openstreetmap', 'geo_us_boundaries', 'geo_us_census_places', 'geo_us_roads', 'geo_whos_on_first', 'ghcn_d', 'ghcn_m', 'github_repos', 'gnomAD', 'gnomAD_asiane1', 'gnomAD_eu', 'goog_blockchain_arbitrum_one_us', 'goog_blockchain_avalanche_contract_chain_us', 'goog_blockchain_cronos_mainnet_us', 'goog_blockchain_ethereum_goerli_us', 'goog_blockchain_ethereum_mainnet_us', 'goog_blockchain_fantom_opera_us', 'goog_blockchain_optimism_mainnet_us', 'goog_blockchain_polygon_mainnet_us', 'goog_blockchain_tron_mainnet_us', 'google_ads', 'google_ads_geo_mapping_asia_east1', 'google_ads_geo_mapping_asia_east2', 'google_ads_geo_mapping_asia_northeast1', 'google_ads_geo_mapping_asia_northeast2', 'google_ads_geo_mapping_asia_northeast3', 'google_ads_geo_mapping_asia_south1', 'google_ads_geo_mapping_asia_south2', 'google_ads_geo_mapping_asia_southeast1', 'google_ads_geo_mapping_asia_southeast2', 'google_ads_geo_mapping_australia_southeast1', 'google_ads_geo_mapping_australia_southeast2', 'google_ads_geo_mapping_eu', 'google_ads_geo_mapping_europe_central2', 'google_ads_geo_mapping_europe_north1', 'google_ads_geo_mapping_europe_southwest1', 'google_ads_geo_mapping_europe_west1', 'google_ads_geo_mapping_europe_west12', 'google_ads_geo_mapping_europe_west2', 'google_ads_geo_mapping_europe_west3', 'google_ads_geo_mapping_europe_west4', 'google_ads_geo_mapping_europe_west6', 'google_ads_geo_mapping_europe_west8', 'google_ads_geo_mapping_europe_west9', 'google_ads_geo_mapping_me_central1', 'google_ads_geo_mapping_me_central2', 'google_ads_geo_mapping_me_west1', 'google_ads_geo_mapping_northamerica_northeast1', 'google_ads_geo_mapping_northamerica_northeast2', 'google_ads_geo_mapping_southamerica_east1', 'google_ads_geo_mapping_southamerica_west1', 'google_ads_geo_mapping_us', 'google_ads_geo_mapping_us_central1', 'google_ads_geo_mapping_us_central2', 'google_ads_geo_mapping_us_east1', 'google_ads_geo_mapping_us_east4', 'google_ads_geo_mapping_us_east5', 'google_ads_geo_mapping_us_south1', 'google_ads_geo_mapping_us_west1', 'google_ads_geo_mapping_us_west2', 'google_ads_geo_mapping_us_west3', 'google_ads_geo_mapping_us_west4', 'google_ads_transparency_center', 'google_analytics_sample', 'google_books_ngrams_2020', 'google_cfe', 'google_cloud_release_notes', 'google_dei', 'google_patents_research', 'google_political_ads', 'google_trends', 'gretel_synthetic_text_to_sql', 'hacker_news', 'hud_zipcode_crosswalk', 'human_genome_variants', 'human_variant_annotation', 'idc_current', 'idc_current_clinical', 'idc_v1', 'idc_v10', 'idc_v11', 'idc_v11_clinical', 'idc_v12', 'idc_v12_clinical', 'idc_v13', 'idc_v13_clinical', 'idc_v14', 'idc_v14_clinical', 'idc_v15', 'idc_v15_clinical', 'idc_v16', 'idc_v16_clinical', 'idc_v17', 'idc_v17_clinical', 'idc_v18', 'idc_v18_clinical', 'idc_v19', 'idc_v19_clinical', 'idc_v2', 'idc_v20', 'idc_v20_clinical', 'idc_v21', 'idc_v21_clinical', 'idc_v22', 'idc_v22_clinical', 'idc_v3', 'idc_v4', 'idc_v5', 'idc_v6', 'idc_v7', 'idc_v8', 'idc_v9', 'imdb', 'immune_epitope_db', 'iowa_liquor_sales', 'iowa_liquor_sales_forecasting', 'irs_990', 'labeled_patents', 'libraries_io', 'listenbrainz', 'london_bicycles', 'london_crime', 'london_fire_brigade', 'marec', 'medicare', 'ml_datasets', 'ml_datasets_uscentral1', 'modis_terra_net_primary_production', 'moon_phases', 'multilingual_spoken_words_corpus', 'nasa_wildfire', 'national_water_model', 'ncaa_basketball', 'nces_ipeds', 'new_york', 'new_york_311', 'new_york_citibike', 'new_york_mv_collisions', 'new_york_subway', 'new_york_taxi_trips', 'new_york_trees', 'nhtsa_traffic_fatalities', 'nih_gudid', 'nih_sequence_read', 'nlm_rxnorm', 'noaa_global_forecast_system', 'noaa_goes16', 'noaa_goes17', 'noaa_gsod', 'noaa_historic_severe_storms', 'noaa_hurricanes', 'noaa_icoads', 'noaa_lightning', 'noaa_passive_acoustic_index', 'noaa_passive_bioacoustic', 'noaa_pifsc_metadata', 'noaa_preliminary_severe_storms', 'noaa_significant_earthquakes', 'noaa_tsunami', 'nppes', 'nrel_nsrdb', 'open_buildings', 'open_images', 'open_targets_genetics', 'open_targets_platform', 'openaq', 'overture_maps', 'patents', 'patents_cpc', 'patents_dsep', 'patents_view', 'persistent_udfs', 'properati_properties_ar', 'properati_properties_br', 'properati_properties_cl', 'properati_properties_co', 'properati_properties_mx', 'properati_properties_pe', 'properati_properties_uy', 'pypi', 'rekor', 'samples', 'san_francisco', 'san_francisco_311', 'san_francisco_bikeshare', 'san_francisco_film_locations', 'san_francisco_neighborhoods', 'san_francisco_sffd_service_calls', 'san_francisco_sfpd_incidents', 'san_francisco_transit_muni', 'san_francisco_trees', 'sdoh_bea_cainc30', 'sdoh_cdc_wonder_natality', 'sdoh_cms_dual_eligible_enrollment', 'sdoh_hrsa_shortage_areas', 'sdoh_hud_housing', 'sdoh_hud_pit_homelessness', 'sdoh_snap_enrollment', 'sec_quarterly_financials', 'stackoverflow', 'sunroof_solar', 'the_general_index', 'the_met', 'thelook_ecommerce', 'tpc_ds_10t', 'travel_impact_model', 'ucb_fung_patent_data', 'umiami_lincs', 'un_sdg', 'us_res_real_est_data', 'usa_contagious_disease', 'usa_names', 'usda_nass_agriculture', 'usfs_fia', 'usitc_investigations', 'uspto_oce_assignment', 'uspto_oce_cancer', 'uspto_oce_claims', 'uspto_oce_litigation', 'uspto_oce_office_actions', 'uspto_oce_pair', 'uspto_ptab', 'utility_eu', 'utility_us', 'wikipedia', 'wise_all_sky_data_release', 'world_bank_global_population', 'world_bank_health_population', 'world_bank_intl_debt', 'world_bank_intl_education', 'world_bank_wdi', 'worldbank_wdi', 'worldpop']}}}], 'role': 'user'}, 'invocation_id': 'e-ac6985a3-7293-4c42-b9da-34afedad5086', 'author': 'agent_convo_api', 'actions': {'state_delta': {}, 'artifact_delta': {}, 'requested_auth_configs': {}, 'requested_tool_confirmations': {}}, 'id': '2ec9b864-bb85-4596-8911-4c145a0f4737', 'timestamp': 1760535804.869976}\n"
     ]
    },
    {
     "name": "stderr",
     "output_type": "stream",
     "text": [
      "Warning: there are non-text parts in the response: ['function_call'], returning concatenated text result from text parts. Check the full candidates.content.parts accessor to get the full model response.\n"
     ]
    },
    {
     "name": "stdout",
     "output_type": "stream",
     "text": [
      "{'content': {'parts': [{'text': 'I see a dataset called `baseball` in the `bigquery-public-data` project. Let me see what tables are in that dataset.\\n'}, {'function_call': {'id': 'adk-c883dc1f-d419-44be-b9bb-d0e3605dc597', 'args': {'dataset_id': 'baseball', 'project_id': 'bigquery-public-data'}, 'name': 'list_table_ids'}}], 'role': 'model'}, 'finish_reason': 'STOP', 'usage_metadata': {'candidates_token_count': 49, 'candidates_tokens_details': [{'modality': 'TEXT', 'token_count': 49}], 'prompt_token_count': 4649, 'prompt_tokens_details': [{'modality': 'TEXT', 'token_count': 4649}], 'total_token_count': 4698, 'traffic_type': 'ON_DEMAND'}, 'avg_logprobs': -0.07439131639441665, 'invocation_id': 'e-ac6985a3-7293-4c42-b9da-34afedad5086', 'author': 'agent_convo_api', 'actions': {'state_delta': {}, 'artifact_delta': {}, 'requested_auth_configs': {}, 'requested_tool_confirmations': {}}, 'long_running_tool_ids': [], 'id': 'a0c9824e-7833-4a16-bdce-782f2d24c631', 'timestamp': 1760535804.875151}\n",
      "{'content': {'parts': [{'function_response': {'id': 'adk-c883dc1f-d419-44be-b9bb-d0e3605dc597', 'name': 'list_table_ids', 'response': {'result': ['games_post_wide', 'games_wide', 'schedules', 'schedules_copy']}}}], 'role': 'user'}, 'invocation_id': 'e-ac6985a3-7293-4c42-b9da-34afedad5086', 'author': 'agent_convo_api', 'actions': {'state_delta': {}, 'artifact_delta': {}, 'requested_auth_configs': {}, 'requested_tool_confirmations': {}}, 'id': '14e3804a-45b0-42d4-b29f-d0da96ad5413', 'timestamp': 1760535807.964686}\n",
      "{'content': {'parts': [{'text': 'It looks like there are four tables: `games_post_wide`, `games_wide`, `schedules`, and `schedules_copy`.\\n\\nWould you like to know more about the schema of any of these tables, or do you have a question about the data in them?\\n'}], 'role': 'model'}, 'finish_reason': 'STOP', 'usage_metadata': {'candidates_token_count': 58, 'candidates_tokens_details': [{'modality': 'TEXT', 'token_count': 58}], 'prompt_token_count': 4716, 'prompt_tokens_details': [{'modality': 'TEXT', 'token_count': 4716}], 'total_token_count': 4774, 'traffic_type': 'ON_DEMAND'}, 'avg_logprobs': -0.08751855225398622, 'invocation_id': 'e-ac6985a3-7293-4c42-b9da-34afedad5086', 'author': 'agent_convo_api', 'actions': {'state_delta': {}, 'artifact_delta': {}, 'requested_auth_configs': {}, 'requested_tool_confirmations': {}}, 'id': '82e1eabd-a3b8-4c5d-9cc9-773063e49563', 'timestamp': 1760535807.969846}\n"
     ]
    }
   ],
   "source": [
    "async for event in app.async_stream_query(\n",
    "    user_id = 'u_123',\n",
    "    message = \"What baseball data do you have?\",\n",
    "    session_id = list_sessions.sessions[0].id\n",
    "):\n",
    "    print(event)"
   ]
  },
  {
   "cell_type": "code",
   "execution_count": 40,
   "id": "375eca5a",
   "metadata": {},
   "outputs": [
    {
     "name": "stdout",
     "output_type": "stream",
     "text": [
      "It looks like there are four tables: `games_post_wide`, `games_wide`, `schedules`, and `schedules_copy`.\n",
      "\n",
      "Would you like to know more about the schema of any of these tables, or do you have a question about the data in them?\n",
      "\n"
     ]
    }
   ],
   "source": [
    "print(event['content']['parts'][0]['text'])"
   ]
  },
  {
   "cell_type": "code",
   "execution_count": 44,
   "id": "8e2f44b3",
   "metadata": {},
   "outputs": [
    {
     "data": {
      "text/plain": [
       "'cb3f65bc-b23d-4b17-8e62-45835921d617'"
      ]
     },
     "execution_count": 44,
     "metadata": {},
     "output_type": "execute_result"
    }
   ],
   "source": [
    "session = await app.async_get_session(user_id=\"u_123\", session_id=list_sessions.sessions[0].id)\n",
    "session.id"
   ]
  },
  {
   "cell_type": "code",
   "execution_count": 50,
   "id": "db16b87f",
   "metadata": {},
   "outputs": [
    {
     "name": "stdout",
     "output_type": "stream",
     "text": [
      "user [Part(\n",
      "  text='What can you do?'\n",
      ")]\n",
      "model [Part(\n",
      "  text='I can answer questions about data stored in BigQuery. I can list datasets, get information about datasets and tables, and use a conversational tool to answer your questions about the data in those tables. Just ask!'\n",
      ")]\n",
      "user [Part(\n",
      "  text='What baseball data do you have?'\n",
      ")]\n",
      "model [Part(\n",
      "  function_call=FunctionCall(\n",
      "    args={\n",
      "      'project_id': 'bigquery-public-data'\n",
      "    },\n",
      "    id='adk-739efbae-102a-4b56-9afe-e44e738cd65c',\n",
      "    name='list_dataset_ids'\n",
      "  )\n",
      ")]\n",
      "user [Part(\n",
      "  function_response=FunctionResponse(\n",
      "    id='adk-739efbae-102a-4b56-9afe-e44e738cd65c',\n",
      "    name='list_dataset_ids',\n",
      "    response={\n",
      "      'result': [\n",
      "        'america_health_rankings',\n",
      "        'austin_311',\n",
      "        'austin_bikeshare',\n",
      "        'austin_crime',\n",
      "        'austin_incidents',\n",
      "        <... 338 more items ...>,\n",
      "      ]\n",
      "    }\n",
      "  )\n",
      ")]\n",
      "model [Part(\n",
      "  text=\"\"\"I see a dataset called `baseball` in the `bigquery-public-data` project. Let me see what tables are in that dataset.\n",
      "\"\"\"\n",
      "), Part(\n",
      "  function_call=FunctionCall(\n",
      "    args={\n",
      "      'dataset_id': 'baseball',\n",
      "      'project_id': 'bigquery-public-data'\n",
      "    },\n",
      "    id='adk-c883dc1f-d419-44be-b9bb-d0e3605dc597',\n",
      "    name='list_table_ids'\n",
      "  )\n",
      ")]\n",
      "user [Part(\n",
      "  function_response=FunctionResponse(\n",
      "    id='adk-c883dc1f-d419-44be-b9bb-d0e3605dc597',\n",
      "    name='list_table_ids',\n",
      "    response={\n",
      "      'result': [\n",
      "        'games_post_wide',\n",
      "        'games_wide',\n",
      "        'schedules',\n",
      "        'schedules_copy',\n",
      "      ]\n",
      "    }\n",
      "  )\n",
      ")]\n",
      "model [Part(\n",
      "  text=\"\"\"It looks like there are four tables: `games_post_wide`, `games_wide`, `schedules`, and `schedules_copy`.\n",
      "\n",
      "Would you like to know more about the schema of any of these tables, or do you have a question about the data in them?\n",
      "\"\"\"\n",
      ")]\n"
     ]
    }
   ],
   "source": [
    "for event in session.events:\n",
    "    print(event.content.role, event.content.parts)"
   ]
  },
  {
   "cell_type": "code",
   "execution_count": 51,
   "id": "ad679e87",
   "metadata": {},
   "outputs": [],
   "source": [
    "await app.async_delete_session(user_id = 'u_123', session_id = session.id)"
   ]
  },
  {
   "cell_type": "code",
   "execution_count": 52,
   "id": "ce0f3de2",
   "metadata": {},
   "outputs": [
    {
     "name": "stdout",
     "output_type": "stream",
     "text": [
      "sessions=[]\n"
     ]
    }
   ],
   "source": [
    "list_sessions = await app.async_list_sessions(user_id = 'u_123')\n",
    "print(list_sessions)"
   ]
  },
  {
   "cell_type": "markdown",
   "id": "3fe9c274",
   "metadata": {},
   "source": [
    "---\n",
    "## Deploy To Vertex AI Agent Engine\n",
    "\n",
    "Now that the ADK Agent has been tested locally it can be deployed to Vertex AI Agent Engine.\n",
    "\n",
    "[SDK for `agent_engines.get | create | list | delete | update`](https://github.com/googleapis/python-aiplatform/blob/main/vertexai/agent_engines/__init__.py)"
   ]
  },
  {
   "cell_type": "markdown",
   "id": "5bd40c50",
   "metadata": {},
   "source": [
    "### Detect Current Deployment\n",
    "\n",
    "This code creates deployments and then saves their resource address to enviornment variables.  Start by checking for a previous value of a deployment that might exists already:\n"
   ]
  },
  {
   "cell_type": "code",
   "execution_count": 9,
   "id": "a7d6f1a1",
   "metadata": {},
   "outputs": [
    {
     "data": {
      "text/plain": [
       "''"
      ]
     },
     "execution_count": 9,
     "metadata": {},
     "output_type": "execute_result"
    }
   ],
   "source": [
    "config = dotenv.dotenv_values(dotenv_path = f'{agent_deploy_folder}/.env')\n",
    "current_deployment = config.get('ADK_DEPLOY_RESOURCE_ID')\n",
    "current_deployment"
   ]
  },
  {
   "cell_type": "code",
   "execution_count": 10,
   "id": "976ab5f7",
   "metadata": {},
   "outputs": [],
   "source": [
    "try:\n",
    "    remote_app = agent_engines.get(resource_name = current_deployment)\n",
    "except Exception as e:\n",
    "    remote_app = None"
   ]
  },
  {
   "cell_type": "code",
   "execution_count": 11,
   "id": "33efc466",
   "metadata": {},
   "outputs": [],
   "source": [
    "remote_app"
   ]
  },
  {
   "cell_type": "markdown",
   "id": "c2bd425d",
   "metadata": {},
   "source": [
    "### Create A Deployment\n",
    "\n",
    "If a prior deployment was not found the create a new deployment."
   ]
  },
  {
   "cell_type": "code",
   "execution_count": 12,
   "id": "7b428e18",
   "metadata": {},
   "outputs": [
    {
     "data": {
      "text/plain": [
       "('agent_convo_api',\n",
       " 'An agent that can answer questions about BigQuery data using the Conversational Analytics API.')"
      ]
     },
     "execution_count": 12,
     "metadata": {},
     "output_type": "execute_result"
    }
   ],
   "source": [
    "root_agent.name, root_agent.description"
   ]
  },
  {
   "cell_type": "code",
   "execution_count": 14,
   "id": "68b5bb93",
   "metadata": {},
   "outputs": [
    {
     "name": "stdout",
     "output_type": "stream",
     "text": [
      "Deploying google.adk.agents.Agent as an application.\n",
      "Reading requirements from requirements='./requirements.txt'\n",
      "Read the following lines: ['absolufy-imports==0.3.1 ; python_version >= \"3.13\" and python_full_version < \"3.14.0\"', 'aiohappyeyeballs==2.6.1 ; python_version >= \"3.13\" and python_full_version < \"3.14.0\"', 'aiohttp==3.13.0 ; python_version >= \"3.13\" and python_full_version < \"3.14.0\"', 'aiosignal==1.4.0 ; python_version >= \"3.13\" and python_full_version < \"3.14.0\"', 'alembic==1.17.0 ; python_version >= \"3.13\" and python_full_version < \"3.14.0\"', 'altair==5.5.0 ; python_version >= \"3.13\" and python_full_version < \"3.14.0\"', 'annotated-types==0.7.0 ; python_version >= \"3.13\" and python_full_version < \"3.14.0\"', 'anyio==4.11.0 ; python_version >= \"3.13\" and python_full_version < \"3.14.0\"', 'appnope==0.1.4 ; python_version >= \"3.13\" and python_full_version < \"3.14.0\" and platform_system == \"Darwin\"', 'asttokens==3.0.0 ; python_version >= \"3.13\" and python_full_version < \"3.14.0\"', 'attrs==25.4.0 ; python_version >= \"3.13\" and python_full_version < \"3.14.0\"', 'authlib==1.6.5 ; python_version >= \"3.13\" and python_full_version < \"3.14.0\"', 'cachetools==6.2.1 ; python_version >= \"3.13\" and python_full_version < \"3.14.0\"', 'certifi==2025.10.5 ; python_version >= \"3.13\" and python_full_version < \"3.14.0\"', 'cffi==2.0.0 ; python_version >= \"3.13\" and python_full_version < \"3.14.0\" and (platform_python_implementation != \"PyPy\" or implementation_name == \"pypy\")', 'charset-normalizer==3.4.4 ; python_version >= \"3.13\" and python_full_version < \"3.14.0\"', 'click==8.3.0 ; python_version >= \"3.13\" and python_full_version < \"3.14.0\"', 'cloudpickle==3.1.1 ; python_version >= \"3.13\" and python_full_version < \"3.14.0\"', 'colorama==0.4.6 ; python_version >= \"3.13\" and python_full_version < \"3.14.0\" and (platform_system == \"Windows\" or sys_platform == \"win32\")', 'comm==0.2.3 ; python_version >= \"3.13\" and python_full_version < \"3.14.0\"', 'cryptography==46.0.2 ; python_version >= \"3.13\" and python_full_version < \"3.14.0\"', 'db-dtypes==1.4.3 ; python_version >= \"3.13\" and python_full_version < \"3.14.0\"', 'debugpy==1.8.17 ; python_version >= \"3.13\" and python_full_version < \"3.14.0\"', 'decorator==5.2.1 ; python_version >= \"3.13\" and python_full_version < \"3.14.0\"', 'deprecated==1.2.18 ; python_version >= \"3.13\" and python_full_version < \"3.14.0\"', 'docstring-parser==0.17.0 ; python_version >= \"3.13\" and python_full_version < \"3.14.0\"', 'executing==2.2.1 ; python_version >= \"3.13\" and python_full_version < \"3.14.0\"', 'fastapi==0.119.0 ; python_version >= \"3.13\" and python_full_version < \"3.14.0\"', 'frozenlist==1.8.0 ; python_version >= \"3.13\" and python_full_version < \"3.14.0\"', 'google-adk==1.16.0 ; python_version >= \"3.13\" and python_full_version < \"3.14.0\"', 'google-api-core==2.26.0 ; python_version >= \"3.13\" and python_full_version < \"3.14.0\"', 'google-api-python-client==2.184.0 ; python_version >= \"3.13\" and python_full_version < \"3.14.0\"', 'google-auth-httplib2==0.2.0 ; python_version >= \"3.13\" and python_full_version < \"3.14.0\"', 'google-auth==2.41.1 ; python_version >= \"3.13\" and python_full_version < \"3.14.0\"', 'google-cloud-aiplatform==1.120.0 ; python_version >= \"3.13\" and python_full_version < \"3.14.0\"', 'google-cloud-appengine-logging==1.6.2 ; python_version >= \"3.13\" and python_full_version < \"3.14.0\"', 'google-cloud-audit-log==0.3.3 ; python_version >= \"3.13\" and python_full_version < \"3.14.0\"', 'google-cloud-bigquery==3.38.0 ; python_version >= \"3.13\" and python_full_version < \"3.14.0\"', 'google-cloud-bigtable==2.33.0 ; python_version >= \"3.13\" and python_full_version < \"3.14.0\"', 'google-cloud-core==2.4.3 ; python_version >= \"3.13\" and python_full_version < \"3.14.0\"', 'google-cloud-discoveryengine==0.13.12 ; python_version >= \"3.13\" and python_full_version < \"3.14.0\"', 'google-cloud-geminidataanalytics==0.3.0 ; python_version >= \"3.13\" and python_full_version < \"3.14.0\"', 'google-cloud-logging==3.12.1 ; python_version >= \"3.13\" and python_full_version < \"3.14.0\"', 'google-cloud-monitoring==2.28.0 ; python_version >= \"3.13\" and python_full_version < \"3.14.0\"', 'google-cloud-resource-manager==1.14.2 ; python_version >= \"3.13\" and python_full_version < \"3.14.0\"', 'google-cloud-secret-manager==2.25.0 ; python_version >= \"3.13\" and python_full_version < \"3.14.0\"', 'google-cloud-spanner==3.58.0 ; python_version >= \"3.13\" and python_full_version < \"3.14.0\"', 'google-cloud-speech==2.33.0 ; python_version >= \"3.13\" and python_full_version < \"3.14.0\"', 'google-cloud-storage==2.19.0 ; python_version >= \"3.13\" and python_full_version < \"3.14.0\"', 'google-cloud-trace==1.16.2 ; python_version >= \"3.13\" and python_full_version < \"3.14.0\"', 'google-crc32c==1.7.1 ; python_version >= \"3.13\" and python_full_version < \"3.14.0\"', 'google-genai==1.44.0 ; python_version >= \"3.13\" and python_full_version < \"3.14.0\"', 'google-resumable-media==2.7.2 ; python_version >= \"3.13\" and python_full_version < \"3.14.0\"', 'googleapis-common-protos==1.70.0 ; python_version >= \"3.13\" and python_full_version < \"3.14.0\"', 'graphviz==0.21 ; python_version >= \"3.13\" and python_full_version < \"3.14.0\"', 'greenlet==3.2.4 ; python_version >= \"3.13\" and python_full_version < \"3.14.0\" and (platform_machine == \"aarch64\" or platform_machine == \"ppc64le\" or platform_machine == \"x86_64\" or platform_machine == \"amd64\" or platform_machine == \"AMD64\" or platform_machine == \"win32\" or platform_machine == \"WIN32\")', 'grpc-google-iam-v1==0.14.2 ; python_version >= \"3.13\" and python_full_version < \"3.14.0\"', 'grpc-interceptor==0.15.4 ; python_version == \"3.13\"', 'grpcio-status==1.75.1 ; python_version >= \"3.13\" and python_full_version < \"3.14.0\"', 'grpcio==1.75.1 ; python_version >= \"3.13\" and python_full_version < \"3.14.0\"', 'h11==0.16.0 ; python_version >= \"3.13\" and python_full_version < \"3.14.0\"', 'httpcore==1.0.9 ; python_version >= \"3.13\" and python_full_version < \"3.14.0\"', 'httplib2==0.31.0 ; python_version >= \"3.13\" and python_full_version < \"3.14.0\"', 'httpx-sse==0.4.3 ; python_version >= \"3.13\" and python_full_version < \"3.14.0\"', 'httpx==0.28.1 ; python_version >= \"3.13\" and python_full_version < \"3.14.0\"', 'idna==3.11 ; python_version >= \"3.13\" and python_full_version < \"3.14.0\"', 'importlib-metadata==8.7.0 ; python_version >= \"3.13\" and python_full_version < \"3.14.0\"', 'ipykernel==7.0.1 ; python_version >= \"3.13\" and python_full_version < \"3.14.0\"', 'ipython-pygments-lexers==1.1.1 ; python_version >= \"3.13\" and python_full_version < \"3.14.0\"', 'ipython==9.6.0 ; python_version >= \"3.13\" and python_full_version < \"3.14.0\"', 'jedi==0.19.2 ; python_version >= \"3.13\" and python_full_version < \"3.14.0\"', 'jinja2==3.1.6 ; python_version >= \"3.13\" and python_full_version < \"3.14.0\"', 'jsonschema-specifications==2025.9.1 ; python_version >= \"3.13\" and python_full_version < \"3.14.0\"', 'jsonschema==4.25.1 ; python_version >= \"3.13\" and python_full_version < \"3.14.0\"', 'jupyter-client==8.6.3 ; python_version >= \"3.13\" and python_full_version < \"3.14.0\"', 'jupyter-core==5.8.1 ; python_version >= \"3.13\" and python_full_version < \"3.14.0\"', 'mako==1.3.10 ; python_version >= \"3.13\" and python_full_version < \"3.14.0\"', 'markupsafe==3.0.3 ; python_version >= \"3.13\" and python_full_version < \"3.14.0\"', 'matplotlib-inline==0.1.7 ; python_version >= \"3.13\" and python_full_version < \"3.14.0\"', 'mcp==1.17.0 ; python_version >= \"3.13\" and python_full_version < \"3.14.0\"', 'multidict==6.7.0 ; python_version >= \"3.13\" and python_full_version < \"3.14.0\"', 'narwhals==2.8.0 ; python_version >= \"3.13\" and python_full_version < \"3.14.0\"', 'nest-asyncio==1.6.0 ; python_version >= \"3.13\" and python_full_version < \"3.14.0\"', 'numpy==2.3.3 ; python_version >= \"3.13\" and python_full_version < \"3.14.0\"', 'opentelemetry-api==1.37.0 ; python_version >= \"3.13\" and python_full_version < \"3.14.0\"', 'opentelemetry-exporter-gcp-logging==1.10.0a0 ; python_version >= \"3.13\" and python_full_version < \"3.14.0\"', 'opentelemetry-exporter-gcp-monitoring==1.10.0a0 ; python_version >= \"3.13\" and python_full_version < \"3.14.0\"', 'opentelemetry-exporter-gcp-trace==1.10.0 ; python_version >= \"3.13\" and python_full_version < \"3.14.0\"', 'opentelemetry-exporter-otlp-proto-common==1.37.0 ; python_version >= \"3.13\" and python_full_version < \"3.14.0\"', 'opentelemetry-exporter-otlp-proto-http==1.37.0 ; python_version >= \"3.13\" and python_full_version < \"3.14.0\"', 'opentelemetry-proto==1.37.0 ; python_version >= \"3.13\" and python_full_version < \"3.14.0\"', 'opentelemetry-resourcedetector-gcp==1.10.0a0 ; python_version >= \"3.13\" and python_full_version < \"3.14.0\"', 'opentelemetry-sdk==1.37.0 ; python_version >= \"3.13\" and python_full_version < \"3.14.0\"', 'opentelemetry-semantic-conventions==0.58b0 ; python_version >= \"3.13\" and python_full_version < \"3.14.0\"', 'packaging==25.0 ; python_version >= \"3.13\" and python_full_version < \"3.14.0\"', 'pandas==2.3.3 ; python_version >= \"3.13\" and python_full_version < \"3.14.0\"', 'parso==0.8.5 ; python_version >= \"3.13\" and python_full_version < \"3.14.0\"', 'pexpect==4.9.0 ; python_version >= \"3.13\" and python_full_version < \"3.14.0\" and sys_platform != \"win32\" and sys_platform != \"emscripten\"', 'platformdirs==4.5.0 ; python_version >= \"3.13\" and python_full_version < \"3.14.0\"', 'prompt-toolkit==3.0.52 ; python_version >= \"3.13\" and python_full_version < \"3.14.0\"', 'propcache==0.4.1 ; python_version >= \"3.13\" and python_full_version < \"3.14.0\"', 'proto-plus==1.26.1 ; python_version >= \"3.13\" and python_full_version < \"3.14.0\"', 'protobuf==6.32.1 ; python_version >= \"3.13\" and python_full_version < \"3.14.0\"', 'psutil==6.1.1 ; python_version >= \"3.13\" and python_full_version < \"3.14.0\"', 'ptyprocess==0.7.0 ; python_version >= \"3.13\" and python_full_version < \"3.14.0\" and sys_platform != \"win32\" and sys_platform != \"emscripten\"', 'pure-eval==0.2.3 ; python_version >= \"3.13\" and python_full_version < \"3.14.0\"', 'pyarrow==21.0.0 ; python_version >= \"3.13\" and python_full_version < \"3.14.0\"', 'pyasn1-modules==0.4.2 ; python_version >= \"3.13\" and python_full_version < \"3.14.0\"', 'pyasn1==0.6.1 ; python_version >= \"3.13\" and python_full_version < \"3.14.0\"', 'pycparser==2.23 ; python_version >= \"3.13\" and python_full_version < \"3.14.0\" and (platform_python_implementation != \"PyPy\" or implementation_name == \"pypy\") and implementation_name != \"PyPy\"', 'pydantic-core==2.41.4 ; python_version >= \"3.13\" and python_full_version < \"3.14.0\"', 'pydantic-settings==2.11.0 ; python_version >= \"3.13\" and python_full_version < \"3.14.0\"', 'pydantic==2.12.2 ; python_version >= \"3.13\" and python_full_version < \"3.14.0\"', 'pygments==2.19.2 ; python_version >= \"3.13\" and python_full_version < \"3.14.0\"', 'pyparsing==3.2.5 ; python_version >= \"3.13\" and python_full_version < \"3.14.0\"', 'python-dateutil==2.9.0.post0 ; python_version >= \"3.13\" and python_full_version < \"3.14.0\"', 'python-dotenv==1.1.1 ; python_version >= \"3.13\" and python_full_version < \"3.14.0\"', 'python-multipart==0.0.20 ; python_version >= \"3.13\" and python_full_version < \"3.14.0\"', 'pytz==2025.2 ; python_version >= \"3.13\" and python_full_version < \"3.14.0\"', 'pywin32==311 ; python_version >= \"3.13\" and python_full_version < \"3.14.0\" and sys_platform == \"win32\"', 'pyyaml==6.0.3 ; python_version >= \"3.13\" and python_full_version < \"3.14.0\"', 'pyzmq==27.1.0 ; python_version >= \"3.13\" and python_full_version < \"3.14.0\"', 'referencing==0.37.0 ; python_version >= \"3.13\" and python_full_version < \"3.14.0\"', 'requests==2.32.5 ; python_version >= \"3.13\" and python_full_version < \"3.14.0\"', 'rpds-py==0.27.1 ; python_version >= \"3.13\" and python_full_version < \"3.14.0\"', 'rsa==4.9.1 ; python_version == \"3.13\"', 'shapely==2.1.2 ; python_version >= \"3.13\" and python_full_version < \"3.14.0\"', 'six==1.17.0 ; python_version >= \"3.13\" and python_full_version < \"3.14.0\"', 'sniffio==1.3.1 ; python_version >= \"3.13\" and python_full_version < \"3.14.0\"', 'sqlalchemy-spanner==1.17.0 ; python_version >= \"3.13\" and python_full_version < \"3.14.0\"', 'sqlalchemy==2.0.44 ; python_version >= \"3.13\" and python_full_version < \"3.14.0\"', 'sqlparse==0.5.3 ; python_version >= \"3.13\" and python_full_version < \"3.14.0\"', 'sse-starlette==3.0.2 ; python_version >= \"3.13\" and python_full_version < \"3.14.0\"', 'stack-data==0.6.3 ; python_version >= \"3.13\" and python_full_version < \"3.14.0\"', 'starlette==0.48.0 ; python_version >= \"3.13\" and python_full_version < \"3.14.0\"', 'tabulate==0.9.0 ; python_version >= \"3.13\" and python_full_version < \"3.14.0\"', 'tenacity==8.5.0 ; python_version >= \"3.13\" and python_full_version < \"3.14.0\"', 'toolbox-core==0.5.2 ; python_version >= \"3.13\" and python_full_version < \"3.14.0\"', 'tornado==6.5.2 ; python_version >= \"3.13\" and python_full_version < \"3.14.0\"', 'traitlets==5.14.3 ; python_version >= \"3.13\" and python_full_version < \"3.14.0\"', 'typing-extensions==4.15.0 ; python_version >= \"3.13\" and python_full_version < \"3.14.0\"', 'typing-inspection==0.4.2 ; python_version >= \"3.13\" and python_full_version < \"3.14.0\"', 'tzdata==2025.2 ; python_version >= \"3.13\" and python_full_version < \"3.14.0\"', 'tzlocal==5.3.1 ; python_version >= \"3.13\" and python_full_version < \"3.14.0\"', 'uritemplate==4.2.0 ; python_version >= \"3.13\" and python_full_version < \"3.14.0\"', 'urllib3==2.5.0 ; python_version >= \"3.13\" and python_full_version < \"3.14.0\"', 'uvicorn==0.37.0 ; python_version >= \"3.13\" and python_full_version < \"3.14.0\"', 'vl-convert-python==1.8.0 ; python_version >= \"3.13\" and python_full_version < \"3.14.0\"', 'watchdog==6.0.0 ; python_version >= \"3.13\" and python_full_version < \"3.14.0\"', 'wcwidth==0.2.14 ; python_version >= \"3.13\" and python_full_version < \"3.14.0\"', 'websockets==15.0.1 ; python_version >= \"3.13\" and python_full_version < \"3.14.0\"', 'wrapt==1.17.3 ; python_version >= \"3.13\" and python_full_version < \"3.14.0\"', 'yarl==1.22.0 ; python_version >= \"3.13\" and python_full_version < \"3.14.0\"', 'zipp==3.23.0 ; python_version >= \"3.13\" and python_full_version < \"3.14.0\"']\n",
      "Identified the following requirements: {'cloudpickle': '3.1.1', 'google-cloud-aiplatform': '1.120.0', 'pydantic': '2.12.2'}\n",
      "The final list of requirements: ['absolufy-imports==0.3.1 ; python_version >= \"3.13\" and python_full_version < \"3.14.0\"', 'aiohappyeyeballs==2.6.1 ; python_version >= \"3.13\" and python_full_version < \"3.14.0\"', 'aiohttp==3.13.0 ; python_version >= \"3.13\" and python_full_version < \"3.14.0\"', 'aiosignal==1.4.0 ; python_version >= \"3.13\" and python_full_version < \"3.14.0\"', 'alembic==1.17.0 ; python_version >= \"3.13\" and python_full_version < \"3.14.0\"', 'altair==5.5.0 ; python_version >= \"3.13\" and python_full_version < \"3.14.0\"', 'annotated-types==0.7.0 ; python_version >= \"3.13\" and python_full_version < \"3.14.0\"', 'anyio==4.11.0 ; python_version >= \"3.13\" and python_full_version < \"3.14.0\"', 'appnope==0.1.4 ; python_version >= \"3.13\" and python_full_version < \"3.14.0\" and platform_system == \"Darwin\"', 'asttokens==3.0.0 ; python_version >= \"3.13\" and python_full_version < \"3.14.0\"', 'attrs==25.4.0 ; python_version >= \"3.13\" and python_full_version < \"3.14.0\"', 'authlib==1.6.5 ; python_version >= \"3.13\" and python_full_version < \"3.14.0\"', 'cachetools==6.2.1 ; python_version >= \"3.13\" and python_full_version < \"3.14.0\"', 'certifi==2025.10.5 ; python_version >= \"3.13\" and python_full_version < \"3.14.0\"', 'cffi==2.0.0 ; python_version >= \"3.13\" and python_full_version < \"3.14.0\" and (platform_python_implementation != \"PyPy\" or implementation_name == \"pypy\")', 'charset-normalizer==3.4.4 ; python_version >= \"3.13\" and python_full_version < \"3.14.0\"', 'click==8.3.0 ; python_version >= \"3.13\" and python_full_version < \"3.14.0\"', 'cloudpickle==3.1.1 ; python_version >= \"3.13\" and python_full_version < \"3.14.0\"', 'colorama==0.4.6 ; python_version >= \"3.13\" and python_full_version < \"3.14.0\" and (platform_system == \"Windows\" or sys_platform == \"win32\")', 'comm==0.2.3 ; python_version >= \"3.13\" and python_full_version < \"3.14.0\"', 'cryptography==46.0.2 ; python_version >= \"3.13\" and python_full_version < \"3.14.0\"', 'db-dtypes==1.4.3 ; python_version >= \"3.13\" and python_full_version < \"3.14.0\"', 'debugpy==1.8.17 ; python_version >= \"3.13\" and python_full_version < \"3.14.0\"', 'decorator==5.2.1 ; python_version >= \"3.13\" and python_full_version < \"3.14.0\"', 'deprecated==1.2.18 ; python_version >= \"3.13\" and python_full_version < \"3.14.0\"', 'docstring-parser==0.17.0 ; python_version >= \"3.13\" and python_full_version < \"3.14.0\"', 'executing==2.2.1 ; python_version >= \"3.13\" and python_full_version < \"3.14.0\"', 'fastapi==0.119.0 ; python_version >= \"3.13\" and python_full_version < \"3.14.0\"', 'frozenlist==1.8.0 ; python_version >= \"3.13\" and python_full_version < \"3.14.0\"', 'google-adk==1.16.0 ; python_version >= \"3.13\" and python_full_version < \"3.14.0\"', 'google-api-core==2.26.0 ; python_version >= \"3.13\" and python_full_version < \"3.14.0\"', 'google-api-python-client==2.184.0 ; python_version >= \"3.13\" and python_full_version < \"3.14.0\"', 'google-auth-httplib2==0.2.0 ; python_version >= \"3.13\" and python_full_version < \"3.14.0\"', 'google-auth==2.41.1 ; python_version >= \"3.13\" and python_full_version < \"3.14.0\"', 'google-cloud-aiplatform==1.120.0 ; python_version >= \"3.13\" and python_full_version < \"3.14.0\"', 'google-cloud-appengine-logging==1.6.2 ; python_version >= \"3.13\" and python_full_version < \"3.14.0\"', 'google-cloud-audit-log==0.3.3 ; python_version >= \"3.13\" and python_full_version < \"3.14.0\"', 'google-cloud-bigquery==3.38.0 ; python_version >= \"3.13\" and python_full_version < \"3.14.0\"', 'google-cloud-bigtable==2.33.0 ; python_version >= \"3.13\" and python_full_version < \"3.14.0\"', 'google-cloud-core==2.4.3 ; python_version >= \"3.13\" and python_full_version < \"3.14.0\"', 'google-cloud-discoveryengine==0.13.12 ; python_version >= \"3.13\" and python_full_version < \"3.14.0\"', 'google-cloud-geminidataanalytics==0.3.0 ; python_version >= \"3.13\" and python_full_version < \"3.14.0\"', 'google-cloud-logging==3.12.1 ; python_version >= \"3.13\" and python_full_version < \"3.14.0\"', 'google-cloud-monitoring==2.28.0 ; python_version >= \"3.13\" and python_full_version < \"3.14.0\"', 'google-cloud-resource-manager==1.14.2 ; python_version >= \"3.13\" and python_full_version < \"3.14.0\"', 'google-cloud-secret-manager==2.25.0 ; python_version >= \"3.13\" and python_full_version < \"3.14.0\"', 'google-cloud-spanner==3.58.0 ; python_version >= \"3.13\" and python_full_version < \"3.14.0\"', 'google-cloud-speech==2.33.0 ; python_version >= \"3.13\" and python_full_version < \"3.14.0\"', 'google-cloud-storage==2.19.0 ; python_version >= \"3.13\" and python_full_version < \"3.14.0\"', 'google-cloud-trace==1.16.2 ; python_version >= \"3.13\" and python_full_version < \"3.14.0\"', 'google-crc32c==1.7.1 ; python_version >= \"3.13\" and python_full_version < \"3.14.0\"', 'google-genai==1.44.0 ; python_version >= \"3.13\" and python_full_version < \"3.14.0\"', 'google-resumable-media==2.7.2 ; python_version >= \"3.13\" and python_full_version < \"3.14.0\"', 'googleapis-common-protos==1.70.0 ; python_version >= \"3.13\" and python_full_version < \"3.14.0\"', 'graphviz==0.21 ; python_version >= \"3.13\" and python_full_version < \"3.14.0\"', 'greenlet==3.2.4 ; python_version >= \"3.13\" and python_full_version < \"3.14.0\" and (platform_machine == \"aarch64\" or platform_machine == \"ppc64le\" or platform_machine == \"x86_64\" or platform_machine == \"amd64\" or platform_machine == \"AMD64\" or platform_machine == \"win32\" or platform_machine == \"WIN32\")', 'grpc-google-iam-v1==0.14.2 ; python_version >= \"3.13\" and python_full_version < \"3.14.0\"', 'grpc-interceptor==0.15.4 ; python_version == \"3.13\"', 'grpcio-status==1.75.1 ; python_version >= \"3.13\" and python_full_version < \"3.14.0\"', 'grpcio==1.75.1 ; python_version >= \"3.13\" and python_full_version < \"3.14.0\"', 'h11==0.16.0 ; python_version >= \"3.13\" and python_full_version < \"3.14.0\"', 'httpcore==1.0.9 ; python_version >= \"3.13\" and python_full_version < \"3.14.0\"', 'httplib2==0.31.0 ; python_version >= \"3.13\" and python_full_version < \"3.14.0\"', 'httpx-sse==0.4.3 ; python_version >= \"3.13\" and python_full_version < \"3.14.0\"', 'httpx==0.28.1 ; python_version >= \"3.13\" and python_full_version < \"3.14.0\"', 'idna==3.11 ; python_version >= \"3.13\" and python_full_version < \"3.14.0\"', 'importlib-metadata==8.7.0 ; python_version >= \"3.13\" and python_full_version < \"3.14.0\"', 'ipykernel==7.0.1 ; python_version >= \"3.13\" and python_full_version < \"3.14.0\"', 'ipython-pygments-lexers==1.1.1 ; python_version >= \"3.13\" and python_full_version < \"3.14.0\"', 'ipython==9.6.0 ; python_version >= \"3.13\" and python_full_version < \"3.14.0\"', 'jedi==0.19.2 ; python_version >= \"3.13\" and python_full_version < \"3.14.0\"', 'jinja2==3.1.6 ; python_version >= \"3.13\" and python_full_version < \"3.14.0\"', 'jsonschema-specifications==2025.9.1 ; python_version >= \"3.13\" and python_full_version < \"3.14.0\"', 'jsonschema==4.25.1 ; python_version >= \"3.13\" and python_full_version < \"3.14.0\"', 'jupyter-client==8.6.3 ; python_version >= \"3.13\" and python_full_version < \"3.14.0\"', 'jupyter-core==5.8.1 ; python_version >= \"3.13\" and python_full_version < \"3.14.0\"', 'mako==1.3.10 ; python_version >= \"3.13\" and python_full_version < \"3.14.0\"', 'markupsafe==3.0.3 ; python_version >= \"3.13\" and python_full_version < \"3.14.0\"', 'matplotlib-inline==0.1.7 ; python_version >= \"3.13\" and python_full_version < \"3.14.0\"', 'mcp==1.17.0 ; python_version >= \"3.13\" and python_full_version < \"3.14.0\"', 'multidict==6.7.0 ; python_version >= \"3.13\" and python_full_version < \"3.14.0\"', 'narwhals==2.8.0 ; python_version >= \"3.13\" and python_full_version < \"3.14.0\"', 'nest-asyncio==1.6.0 ; python_version >= \"3.13\" and python_full_version < \"3.14.0\"', 'numpy==2.3.3 ; python_version >= \"3.13\" and python_full_version < \"3.14.0\"', 'opentelemetry-api==1.37.0 ; python_version >= \"3.13\" and python_full_version < \"3.14.0\"', 'opentelemetry-exporter-gcp-logging==1.10.0a0 ; python_version >= \"3.13\" and python_full_version < \"3.14.0\"', 'opentelemetry-exporter-gcp-monitoring==1.10.0a0 ; python_version >= \"3.13\" and python_full_version < \"3.14.0\"', 'opentelemetry-exporter-gcp-trace==1.10.0 ; python_version >= \"3.13\" and python_full_version < \"3.14.0\"', 'opentelemetry-exporter-otlp-proto-common==1.37.0 ; python_version >= \"3.13\" and python_full_version < \"3.14.0\"', 'opentelemetry-exporter-otlp-proto-http==1.37.0 ; python_version >= \"3.13\" and python_full_version < \"3.14.0\"', 'opentelemetry-proto==1.37.0 ; python_version >= \"3.13\" and python_full_version < \"3.14.0\"', 'opentelemetry-resourcedetector-gcp==1.10.0a0 ; python_version >= \"3.13\" and python_full_version < \"3.14.0\"', 'opentelemetry-sdk==1.37.0 ; python_version >= \"3.13\" and python_full_version < \"3.14.0\"', 'opentelemetry-semantic-conventions==0.58b0 ; python_version >= \"3.13\" and python_full_version < \"3.14.0\"', 'packaging==25.0 ; python_version >= \"3.13\" and python_full_version < \"3.14.0\"', 'pandas==2.3.3 ; python_version >= \"3.13\" and python_full_version < \"3.14.0\"', 'parso==0.8.5 ; python_version >= \"3.13\" and python_full_version < \"3.14.0\"', 'pexpect==4.9.0 ; python_version >= \"3.13\" and python_full_version < \"3.14.0\" and sys_platform != \"win32\" and sys_platform != \"emscripten\"', 'platformdirs==4.5.0 ; python_version >= \"3.13\" and python_full_version < \"3.14.0\"', 'prompt-toolkit==3.0.52 ; python_version >= \"3.13\" and python_full_version < \"3.14.0\"', 'propcache==0.4.1 ; python_version >= \"3.13\" and python_full_version < \"3.14.0\"', 'proto-plus==1.26.1 ; python_version >= \"3.13\" and python_full_version < \"3.14.0\"', 'protobuf==6.32.1 ; python_version >= \"3.13\" and python_full_version < \"3.14.0\"', 'psutil==6.1.1 ; python_version >= \"3.13\" and python_full_version < \"3.14.0\"', 'ptyprocess==0.7.0 ; python_version >= \"3.13\" and python_full_version < \"3.14.0\" and sys_platform != \"win32\" and sys_platform != \"emscripten\"', 'pure-eval==0.2.3 ; python_version >= \"3.13\" and python_full_version < \"3.14.0\"', 'pyarrow==21.0.0 ; python_version >= \"3.13\" and python_full_version < \"3.14.0\"', 'pyasn1-modules==0.4.2 ; python_version >= \"3.13\" and python_full_version < \"3.14.0\"', 'pyasn1==0.6.1 ; python_version >= \"3.13\" and python_full_version < \"3.14.0\"', 'pycparser==2.23 ; python_version >= \"3.13\" and python_full_version < \"3.14.0\" and (platform_python_implementation != \"PyPy\" or implementation_name == \"pypy\") and implementation_name != \"PyPy\"', 'pydantic-core==2.41.4 ; python_version >= \"3.13\" and python_full_version < \"3.14.0\"', 'pydantic-settings==2.11.0 ; python_version >= \"3.13\" and python_full_version < \"3.14.0\"', 'pydantic==2.12.2 ; python_version >= \"3.13\" and python_full_version < \"3.14.0\"', 'pygments==2.19.2 ; python_version >= \"3.13\" and python_full_version < \"3.14.0\"', 'pyparsing==3.2.5 ; python_version >= \"3.13\" and python_full_version < \"3.14.0\"', 'python-dateutil==2.9.0.post0 ; python_version >= \"3.13\" and python_full_version < \"3.14.0\"', 'python-dotenv==1.1.1 ; python_version >= \"3.13\" and python_full_version < \"3.14.0\"', 'python-multipart==0.0.20 ; python_version >= \"3.13\" and python_full_version < \"3.14.0\"', 'pytz==2025.2 ; python_version >= \"3.13\" and python_full_version < \"3.14.0\"', 'pywin32==311 ; python_version >= \"3.13\" and python_full_version < \"3.14.0\" and sys_platform == \"win32\"', 'pyyaml==6.0.3 ; python_version >= \"3.13\" and python_full_version < \"3.14.0\"', 'pyzmq==27.1.0 ; python_version >= \"3.13\" and python_full_version < \"3.14.0\"', 'referencing==0.37.0 ; python_version >= \"3.13\" and python_full_version < \"3.14.0\"', 'requests==2.32.5 ; python_version >= \"3.13\" and python_full_version < \"3.14.0\"', 'rpds-py==0.27.1 ; python_version >= \"3.13\" and python_full_version < \"3.14.0\"', 'rsa==4.9.1 ; python_version == \"3.13\"', 'shapely==2.1.2 ; python_version >= \"3.13\" and python_full_version < \"3.14.0\"', 'six==1.17.0 ; python_version >= \"3.13\" and python_full_version < \"3.14.0\"', 'sniffio==1.3.1 ; python_version >= \"3.13\" and python_full_version < \"3.14.0\"', 'sqlalchemy-spanner==1.17.0 ; python_version >= \"3.13\" and python_full_version < \"3.14.0\"', 'sqlalchemy==2.0.44 ; python_version >= \"3.13\" and python_full_version < \"3.14.0\"', 'sqlparse==0.5.3 ; python_version >= \"3.13\" and python_full_version < \"3.14.0\"', 'sse-starlette==3.0.2 ; python_version >= \"3.13\" and python_full_version < \"3.14.0\"', 'stack-data==0.6.3 ; python_version >= \"3.13\" and python_full_version < \"3.14.0\"', 'starlette==0.48.0 ; python_version >= \"3.13\" and python_full_version < \"3.14.0\"', 'tabulate==0.9.0 ; python_version >= \"3.13\" and python_full_version < \"3.14.0\"', 'tenacity==8.5.0 ; python_version >= \"3.13\" and python_full_version < \"3.14.0\"', 'toolbox-core==0.5.2 ; python_version >= \"3.13\" and python_full_version < \"3.14.0\"', 'tornado==6.5.2 ; python_version >= \"3.13\" and python_full_version < \"3.14.0\"', 'traitlets==5.14.3 ; python_version >= \"3.13\" and python_full_version < \"3.14.0\"', 'typing-extensions==4.15.0 ; python_version >= \"3.13\" and python_full_version < \"3.14.0\"', 'typing-inspection==0.4.2 ; python_version >= \"3.13\" and python_full_version < \"3.14.0\"', 'tzdata==2025.2 ; python_version >= \"3.13\" and python_full_version < \"3.14.0\"', 'tzlocal==5.3.1 ; python_version >= \"3.13\" and python_full_version < \"3.14.0\"', 'uritemplate==4.2.0 ; python_version >= \"3.13\" and python_full_version < \"3.14.0\"', 'urllib3==2.5.0 ; python_version >= \"3.13\" and python_full_version < \"3.14.0\"', 'uvicorn==0.37.0 ; python_version >= \"3.13\" and python_full_version < \"3.14.0\"', 'vl-convert-python==1.8.0 ; python_version >= \"3.13\" and python_full_version < \"3.14.0\"', 'watchdog==6.0.0 ; python_version >= \"3.13\" and python_full_version < \"3.14.0\"', 'wcwidth==0.2.14 ; python_version >= \"3.13\" and python_full_version < \"3.14.0\"', 'websockets==15.0.1 ; python_version >= \"3.13\" and python_full_version < \"3.14.0\"', 'wrapt==1.17.3 ; python_version >= \"3.13\" and python_full_version < \"3.14.0\"', 'yarl==1.22.0 ; python_version >= \"3.13\" and python_full_version < \"3.14.0\"', 'zipp==3.23.0 ; python_version >= \"3.13\" and python_full_version < \"3.14.0\"']\n",
      "Using bucket statmike-mlops-349915\n",
      "Wrote to gs://statmike-mlops-349915/applied-ml/ai-agents/concept-bq/agent_convo_api/staging/agent_engine.pkl\n",
      "Writing to gs://statmike-mlops-349915/applied-ml/ai-agents/concept-bq/agent_convo_api/staging/requirements.txt\n",
      "Creating in-memory tarfile of extra_packages\n",
      "Writing to gs://statmike-mlops-349915/applied-ml/ai-agents/concept-bq/agent_convo_api/staging/dependencies.tar.gz\n",
      "Creating AgentEngine\n",
      "Create AgentEngine backing LRO: projects/1026793852137/locations/us-central1/reasoningEngines/6919838002059411456/operations/2763722892750356480\n",
      "View progress and logs at https://console.cloud.google.com/logs/query?project=statmike-mlops-349915\n",
      "AgentEngine created. Resource name: projects/1026793852137/locations/us-central1/reasoningEngines/6919838002059411456\n",
      "To use this AgentEngine in another session:\n",
      "agent_engine = vertexai.agent_engines.get('projects/1026793852137/locations/us-central1/reasoningEngines/6919838002059411456')\n"
     ]
    }
   ],
   "source": [
    "if not remote_app:\n",
    "    remote_app = agent_engines.create(\n",
    "        agent_engine = root_agent,\n",
    "        requirements = \"./requirements.txt\",\n",
    "        extra_packages = [agent_folder],\n",
    "        gcs_dir_name = agent_gcs_path,\n",
    "        display_name = root_agent.name,\n",
    "        description = root_agent.description,\n",
    "        #env_vars = \n",
    "    )\n",
    "else:\n",
    "    print('Retrieved existing deployment, use update instead of create.')"
   ]
  },
  {
   "cell_type": "code",
   "execution_count": 15,
   "id": "41c60493",
   "metadata": {},
   "outputs": [
    {
     "data": {
      "text/plain": [
       "'projects/1026793852137/locations/us-central1/reasoningEngines/6919838002059411456'"
      ]
     },
     "execution_count": 15,
     "metadata": {},
     "output_type": "execute_result"
    }
   ],
   "source": [
    "remote_app.resource_name"
   ]
  },
  {
   "cell_type": "code",
   "execution_count": 16,
   "id": "fb495818",
   "metadata": {},
   "outputs": [],
   "source": [
    "#remote_app = agent_engines.get(resource_name = 'projects/1026793852137/locations/us-central1/reasoningEngines/1988805428414251008')"
   ]
  },
  {
   "cell_type": "markdown",
   "id": "1be297fa",
   "metadata": {},
   "source": [
    "Write the resource name to the local `.env` file:"
   ]
  },
  {
   "cell_type": "code",
   "execution_count": 17,
   "id": "dade4f2c",
   "metadata": {},
   "outputs": [
    {
     "data": {
      "text/plain": [
       "(True,\n",
       " 'ADK_DEPLOY_RESOURCE_ID',\n",
       " 'projects/1026793852137/locations/us-central1/reasoningEngines/6919838002059411456')"
      ]
     },
     "execution_count": 17,
     "metadata": {},
     "output_type": "execute_result"
    }
   ],
   "source": [
    "dotenv.set_key(\n",
    "    f'{agent_deploy_folder}/.env', 'ADK_DEPLOY_RESOURCE_ID', remote_app.resource_name\n",
    ")"
   ]
  },
  {
   "cell_type": "markdown",
   "id": "018d26e9",
   "metadata": {},
   "source": [
    "### Update Deployment\n",
    "\n",
    "Only the updated parts need to be provided and the arguments are the same as creating a new agent.\n"
   ]
  },
  {
   "cell_type": "code",
   "execution_count": 16,
   "id": "7cceaec5",
   "metadata": {},
   "outputs": [
    {
     "data": {
      "text/plain": [
       "('document_agent',\n",
       " 'The primary agent that processes document related requests.')"
      ]
     },
     "execution_count": 16,
     "metadata": {},
     "output_type": "execute_result"
    }
   ],
   "source": [
    "root_agent.name, root_agent.description"
   ]
  },
  {
   "cell_type": "code",
   "execution_count": null,
   "id": "f0bb8d9a",
   "metadata": {},
   "outputs": [
    {
     "name": "stdout",
     "output_type": "stream",
     "text": [
      "Reading requirements from requirements='../requirements.txt'\n",
      "Read the following lines: ['absl-py==2.3.0', 'aiofiles==24.1.0', 'altair==5.5.0', 'annotated-types==0.7.0', 'anyio==4.9.0', 'asttokens==3.0.0', 'attrs==25.3.0', 'audioop-lts==0.2.1', 'Authlib==1.5.2', 'blinker==1.9.0', 'cachetools==5.5.2', 'certifi==2025.4.26', 'cffi==1.17.1', 'charset-normalizer==3.4.1', 'click==8.1.8', 'cloudpickle==3.1.1', 'comm==0.2.2', 'cryptography==44.0.2', 'db-dtypes==1.4.3', 'debugpy==1.8.14', 'decorator==5.2.1', 'deepdiff==6.7.1', 'Deprecated==1.2.18', 'docstring_parser==0.16', 'executing==2.2.0', 'fastapi==0.115.12', 'ffmpy==0.5.0', 'filelock==3.18.0', 'Flask==3.1.1', 'fsspec==2025.5.1', 'gitdb==4.0.12', 'GitPython==3.1.44', 'google-adk==1.2.1', 'google-api-core==2.24.2', 'google-api-python-client==2.169.0', 'google-auth==2.39.0', 'google-auth-httplib2==0.2.0', 'google-cloud-aiplatform==1.96.0', 'google-cloud-appengine-logging==1.6.1', 'google-cloud-audit-log==0.3.2', 'google-cloud-bigquery==3.31.0', 'google-cloud-core==2.4.3', 'google-cloud-dlp==3.30.0', 'google-cloud-documentai==3.5.0', 'google-cloud-logging==3.12.1', 'google-cloud-resource-manager==1.14.2', 'google-cloud-secret-manager==2.23.3', 'google-cloud-speech==2.32.0', 'google-cloud-storage==2.19.0', 'google-cloud-trace==1.16.1', 'google-crc32c==1.7.1', 'google-genai==1.19.0', 'google-resumable-media==2.7.2', 'googleapis-common-protos==1.70.0', 'gradio==5.31.0', 'gradio_client==1.10.1', 'graphviz==0.20.3', 'greenlet==3.2.1', 'groovy==0.1.2', 'grpc-google-iam-v1==0.14.2', 'grpcio==1.72.0rc1', 'grpcio-status==1.72.0rc1', 'h11==0.16.0', 'hf-xet==1.1.2', 'httpcore==1.0.9', 'httplib2==0.22.0', 'httpx==0.28.1', 'httpx-sse==0.4.0', 'huggingface-hub==0.32.2', 'idna==3.10', 'importlib_metadata==8.6.1', 'ipykernel==6.29.5', 'ipython==9.3.0', 'ipython_pygments_lexers==1.1.1', 'itsdangerous==2.2.0', 'jedi==0.19.2', 'Jinja2==3.1.6', 'jsonschema==4.24.0', 'jsonschema-specifications==2025.4.1', 'jupyter_client==8.6.3', 'jupyter_core==5.8.1', 'markdown-it-py==3.0.0', 'MarkupSafe==3.0.2', 'matplotlib-inline==0.1.7', 'mcp==1.9.3', 'mdurl==0.1.2', 'mesop==1.0.1', 'msgpack==1.1.0', 'narwhals==1.41.0', 'nest-asyncio==1.6.0', 'numpy==2.2.5', 'opentelemetry-api==1.32.1', 'opentelemetry-exporter-gcp-trace==1.9.0', 'opentelemetry-resourcedetector-gcp==1.9.0a0', 'opentelemetry-sdk==1.32.1', 'opentelemetry-semantic-conventions==0.53b1', 'ordered-set==4.1.0', 'orjson==3.10.18', 'packaging==24.2', 'pandas==2.2.3', 'parso==0.8.4', 'pexpect==4.9.0', 'pillow==11.2.1', 'platformdirs==4.3.8', 'prompt_toolkit==3.0.51', 'proto-plus==1.26.1', 'protobuf==6.30.2', 'psutil==7.0.0', 'ptyprocess==0.7.0', 'pure_eval==0.2.3', 'pyarrow==20.0.0', 'pyasn1==0.6.1', 'pyasn1_modules==0.4.2', 'pycparser==2.22', 'pydantic==2.11.4', 'pydantic-settings==2.9.1', 'pydantic_core==2.33.2', 'pydeck==0.9.1', 'pydub==0.25.1', 'Pygments==2.19.1', 'PyMuPDF==1.26.0', 'pyparsing==3.2.3', 'python-dateutil==2.9.0.post0', 'python-dotenv==1.1.0', 'python-multipart==0.0.20', 'pytz==2025.2', 'PyYAML==6.0.2', 'pyzmq==26.4.0', 'referencing==0.36.2', 'requests==2.32.3', 'rich==14.0.0', 'rpds-py==0.25.1', 'rsa==4.9.1', 'ruff==0.11.11', 'safehttpx==0.1.6', 'semantic-version==2.10.0', 'shapely==2.1.0', 'shellingham==1.5.4', 'six==1.17.0', 'smmap==5.0.2', 'sniffio==1.3.1', 'SQLAlchemy==2.0.40', 'sse-starlette==2.3.3', 'stack-data==0.6.3', 'starlette==0.46.2', 'streamlit==1.45.1', 'tabulate==0.9.0', 'tenacity==9.1.2', 'toml==0.10.2', 'tomlkit==0.13.2', 'tornado==6.5.1', 'tqdm==4.67.1', 'traitlets==5.14.3', 'typer==0.16.0', 'typing-inspection==0.4.0', 'typing_extensions==4.13.2', 'tzdata==2025.2', 'tzlocal==5.3.1', 'uritemplate==4.1.1', 'urllib3==2.4.0', 'uvicorn==0.34.2', 'watchdog==6.0.0', 'wcwidth==0.2.13', 'websockets==15.0.1', 'Werkzeug==3.1.3', 'wrapt==1.17.2', 'zipp==3.21.0']\n",
      "Identified the following requirements: {'google-cloud-appengine-logging': '1.6.1', 'pydantic_core': '2.33.2', 'grpc-google-iam-v1': '0.14.2', 'google-api-core': '2.24.2', 'google-cloud-trace': '1.16.1', 'google-cloud-speech': '2.32.0', 'googleapis-common-protos': '1.70.0', 'google-cloud-resource-manager': '1.14.2', 'google-cloud-audit-log': '0.3.2', 'google-cloud-dlp': '3.30.0', 'google-cloud-secret-manager': '2.23.3', 'google-cloud-bigquery': '3.31.0', 'google-genai': '1.19.0', 'protobuf': '6.30.2', 'cloudpickle': '3.1.1', 'google-auth': '2.39.0', 'google-cloud-aiplatform': '1.96.0', 'google-cloud-core': '2.4.3', 'google-resumable-media': '2.7.2', 'google-cloud-documentai': '3.5.0', 'google-cloud-logging': '3.12.1', 'pydantic': '2.11.4', 'google-adk': '1.2.1', 'google-cloud-storage': '2.19.0'}\n",
      "The final list of requirements: ['absl-py==2.3.0', 'aiofiles==24.1.0', 'altair==5.5.0', 'annotated-types==0.7.0', 'anyio==4.9.0', 'asttokens==3.0.0', 'attrs==25.3.0', 'audioop-lts==0.2.1', 'Authlib==1.5.2', 'blinker==1.9.0', 'cachetools==5.5.2', 'certifi==2025.4.26', 'cffi==1.17.1', 'charset-normalizer==3.4.1', 'click==8.1.8', 'cloudpickle==3.1.1', 'comm==0.2.2', 'cryptography==44.0.2', 'db-dtypes==1.4.3', 'debugpy==1.8.14', 'decorator==5.2.1', 'deepdiff==6.7.1', 'Deprecated==1.2.18', 'docstring_parser==0.16', 'executing==2.2.0', 'fastapi==0.115.12', 'ffmpy==0.5.0', 'filelock==3.18.0', 'Flask==3.1.1', 'fsspec==2025.5.1', 'gitdb==4.0.12', 'GitPython==3.1.44', 'google-adk==1.2.1', 'google-api-core==2.24.2', 'google-api-python-client==2.169.0', 'google-auth==2.39.0', 'google-auth-httplib2==0.2.0', 'google-cloud-aiplatform==1.96.0', 'google-cloud-appengine-logging==1.6.1', 'google-cloud-audit-log==0.3.2', 'google-cloud-bigquery==3.31.0', 'google-cloud-core==2.4.3', 'google-cloud-dlp==3.30.0', 'google-cloud-documentai==3.5.0', 'google-cloud-logging==3.12.1', 'google-cloud-resource-manager==1.14.2', 'google-cloud-secret-manager==2.23.3', 'google-cloud-speech==2.32.0', 'google-cloud-storage==2.19.0', 'google-cloud-trace==1.16.1', 'google-crc32c==1.7.1', 'google-genai==1.19.0', 'google-resumable-media==2.7.2', 'googleapis-common-protos==1.70.0', 'gradio==5.31.0', 'gradio_client==1.10.1', 'graphviz==0.20.3', 'greenlet==3.2.1', 'groovy==0.1.2', 'grpc-google-iam-v1==0.14.2', 'grpcio==1.72.0rc1', 'grpcio-status==1.72.0rc1', 'h11==0.16.0', 'hf-xet==1.1.2', 'httpcore==1.0.9', 'httplib2==0.22.0', 'httpx==0.28.1', 'httpx-sse==0.4.0', 'huggingface-hub==0.32.2', 'idna==3.10', 'importlib_metadata==8.6.1', 'ipykernel==6.29.5', 'ipython==9.3.0', 'ipython_pygments_lexers==1.1.1', 'itsdangerous==2.2.0', 'jedi==0.19.2', 'Jinja2==3.1.6', 'jsonschema==4.24.0', 'jsonschema-specifications==2025.4.1', 'jupyter_client==8.6.3', 'jupyter_core==5.8.1', 'markdown-it-py==3.0.0', 'MarkupSafe==3.0.2', 'matplotlib-inline==0.1.7', 'mcp==1.9.3', 'mdurl==0.1.2', 'mesop==1.0.1', 'msgpack==1.1.0', 'narwhals==1.41.0', 'nest-asyncio==1.6.0', 'numpy==2.2.5', 'opentelemetry-api==1.32.1', 'opentelemetry-exporter-gcp-trace==1.9.0', 'opentelemetry-resourcedetector-gcp==1.9.0a0', 'opentelemetry-sdk==1.32.1', 'opentelemetry-semantic-conventions==0.53b1', 'ordered-set==4.1.0', 'orjson==3.10.18', 'packaging==24.2', 'pandas==2.2.3', 'parso==0.8.4', 'pexpect==4.9.0', 'pillow==11.2.1', 'platformdirs==4.3.8', 'prompt_toolkit==3.0.51', 'proto-plus==1.26.1', 'protobuf==6.30.2', 'psutil==7.0.0', 'ptyprocess==0.7.0', 'pure_eval==0.2.3', 'pyarrow==20.0.0', 'pyasn1==0.6.1', 'pyasn1_modules==0.4.2', 'pycparser==2.22', 'pydantic==2.11.4', 'pydantic-settings==2.9.1', 'pydantic_core==2.33.2', 'pydeck==0.9.1', 'pydub==0.25.1', 'Pygments==2.19.1', 'PyMuPDF==1.26.0', 'pyparsing==3.2.3', 'python-dateutil==2.9.0.post0', 'python-dotenv==1.1.0', 'python-multipart==0.0.20', 'pytz==2025.2', 'PyYAML==6.0.2', 'pyzmq==26.4.0', 'referencing==0.36.2', 'requests==2.32.3', 'rich==14.0.0', 'rpds-py==0.25.1', 'rsa==4.9.1', 'ruff==0.11.11', 'safehttpx==0.1.6', 'semantic-version==2.10.0', 'shapely==2.1.0', 'shellingham==1.5.4', 'six==1.17.0', 'smmap==5.0.2', 'sniffio==1.3.1', 'SQLAlchemy==2.0.40', 'sse-starlette==2.3.3', 'stack-data==0.6.3', 'starlette==0.46.2', 'streamlit==1.45.1', 'tabulate==0.9.0', 'tenacity==9.1.2', 'toml==0.10.2', 'tomlkit==0.13.2', 'tornado==6.5.1', 'tqdm==4.67.1', 'traitlets==5.14.3', 'typer==0.16.0', 'typing-inspection==0.4.0', 'typing_extensions==4.13.2', 'tzdata==2025.2', 'tzlocal==5.3.1', 'uritemplate==4.1.1', 'urllib3==2.4.0', 'uvicorn==0.34.2', 'watchdog==6.0.0', 'wcwidth==0.2.13', 'websockets==15.0.1', 'Werkzeug==3.1.3', 'wrapt==1.17.2', 'zipp==3.21.0']\n",
      "Deploying google.adk.agents.Agent as an application.\n",
      "Using bucket statmike-mlops-349915\n",
      "Wrote to gs://statmike-mlops-349915/applied-ml-solution-prototypes/document-processing/agent_engine/staging/agent_engine.pkl\n",
      "Writing to gs://statmike-mlops-349915/applied-ml-solution-prototypes/document-processing/agent_engine/staging/requirements.txt\n",
      "Creating in-memory tarfile of extra_packages\n",
      "Writing to gs://statmike-mlops-349915/applied-ml-solution-prototypes/document-processing/agent_engine/staging/dependencies.tar.gz\n",
      "Update Agent Engine backing LRO: projects/1026793852137/locations/us-central1/reasoningEngines/1988805428414251008/operations/1729849377553383424\n",
      "Agent Engine updated. Resource name: projects/1026793852137/locations/us-central1/reasoningEngines/1988805428414251008\n"
     ]
    }
   ],
   "source": [
    "if remote_app:\n",
    "    update_app = agent_engines.update(\n",
    "        resource_name = remote_app.resource_name,\n",
    "         \n",
    "    )"
   ]
  },
  {
   "cell_type": "code",
   "execution_count": 20,
   "id": "99ee89a8",
   "metadata": {},
   "outputs": [
    {
     "data": {
      "text/plain": [
       "<vertexai.agent_engines._agent_engines.AgentEngine object at 0x7fa0136ddfd0> \n",
       "resource name: projects/1026793852137/locations/us-central1/reasoningEngines/1988805428414251008"
      ]
     },
     "execution_count": 20,
     "metadata": {},
     "output_type": "execute_result"
    }
   ],
   "source": [
    "remote_app"
   ]
  },
  {
   "cell_type": "markdown",
   "id": "a2f089d9",
   "metadata": {},
   "source": [
    "### Test Deployment\n",
    "\n",
    "Trying creating a session, interacting with it, and removing/deleting it."
   ]
  },
  {
   "cell_type": "code",
   "execution_count": 19,
   "id": "e6f22a5d",
   "metadata": {},
   "outputs": [
    {
     "data": {
      "text/plain": [
       "[{'name': 'async_get_session',\n",
       "  'parameters': {'required': ['user_id', 'session_id'],\n",
       "   'type': 'object',\n",
       "   'properties': {'session_id': {'type': 'string'},\n",
       "    'user_id': {'type': 'string'}}},\n",
       "  'description': 'Get a session for the given user.\\n\\nArgs:\\n    user_id (str):\\n        Required. The ID of the user.\\n    session_id (str):\\n        Required. The ID of the session.\\n    **kwargs (dict[str, Any]):\\n        Optional. Additional keyword arguments to pass to the\\n        session service.\\n\\nReturns:\\n    Session: The session instance (if any). It returns None if the\\n    session is not found.\\n\\nRaises:\\n    RuntimeError: If the session is not found.\\n',\n",
       "  'api_mode': 'async'},\n",
       " {'name': 'async_list_sessions',\n",
       "  'parameters': {'required': ['user_id'],\n",
       "   'type': 'object',\n",
       "   'properties': {'user_id': {'type': 'string'}}},\n",
       "  'description': 'List sessions for the given user.\\n\\nArgs:\\n    user_id (str):\\n        Required. The ID of the user.\\n    **kwargs (dict[str, Any]):\\n        Optional. Additional keyword arguments to pass to the\\n        session service.\\n\\nReturns:\\n    ListSessionsResponse: The list of sessions.\\n',\n",
       "  'api_mode': 'async'},\n",
       " {'name': 'async_create_session',\n",
       "  'parameters': {'required': ['user_id'],\n",
       "   'type': 'object',\n",
       "   'properties': {'session_id': {'nullable': True, 'type': 'string'},\n",
       "    'user_id': {'type': 'string'},\n",
       "    'state': {'nullable': True, 'type': 'object'}}},\n",
       "  'description': 'Creates a new session.\\n\\nArgs:\\n    user_id (str):\\n        Required. The ID of the user.\\n    session_id (str):\\n        Optional. The ID of the session. If not provided, an ID\\n        will be be generated for the session.\\n    state (dict[str, Any]):\\n        Optional. The initial state of the session.\\n    **kwargs (dict[str, Any]):\\n        Optional. Additional keyword arguments to pass to the\\n        session service.\\n\\nReturns:\\n    Session: The newly created session instance.\\n',\n",
       "  'api_mode': 'async'},\n",
       " {'name': 'async_delete_session',\n",
       "  'parameters': {'required': ['user_id', 'session_id'],\n",
       "   'type': 'object',\n",
       "   'properties': {'session_id': {'type': 'string'},\n",
       "    'user_id': {'type': 'string'}}},\n",
       "  'description': 'Deletes a session for the given user.\\n\\nArgs:\\n    user_id (str):\\n        Required. The ID of the user.\\n    session_id (str):\\n        Required. The ID of the session.\\n    **kwargs (dict[str, Any]):\\n        Optional. Additional keyword arguments to pass to the\\n        session service.\\n',\n",
       "  'api_mode': 'async'},\n",
       " {'name': 'async_add_session_to_memory',\n",
       "  'parameters': {'required': ['session'],\n",
       "   'type': 'object',\n",
       "   'properties': {'session': {'type': 'object',\n",
       "     'additionalProperties': True}}},\n",
       "  'description': 'Generates memories.\\n\\nArgs:\\n    session (Dict[str, Any]):\\n        Required. The session to use for generating memories. It should\\n        be a dictionary representing an ADK Session object, e.g.\\n        session.model_dump(mode=\"json\").\\n',\n",
       "  'api_mode': 'async'},\n",
       " {'name': 'async_search_memory',\n",
       "  'parameters': {'required': ['user_id', 'query'],\n",
       "   'type': 'object',\n",
       "   'properties': {'query': {'type': 'string'}, 'user_id': {'type': 'string'}}},\n",
       "  'description': 'Searches memories for the given user.\\n\\nArgs:\\n    user_id: The id of the user.\\n    query: The query to match the memories on.\\n\\nReturns:\\n    A SearchMemoryResponse containing the matching memories.\\n',\n",
       "  'api_mode': 'async'},\n",
       " {'name': 'async_stream_query',\n",
       "  'parameters': {'required': ['message', 'user_id'],\n",
       "   'type': 'object',\n",
       "   'properties': {'run_config': {'nullable': True, 'type': 'object'},\n",
       "    'session_id': {'nullable': True, 'type': 'string'},\n",
       "    'user_id': {'type': 'string'},\n",
       "    'message': {'anyOf': [{'type': 'string'},\n",
       "      {'type': 'object', 'additionalProperties': True}]}}},\n",
       "  'description': 'Streams responses asynchronously from the ADK application.\\n\\nArgs:\\n    message (str):\\n        Required. The message to stream responses for.\\n    user_id (str):\\n        Required. The ID of the user.\\n    session_id (str):\\n        Optional. The ID of the session. If not provided, a new\\n        session will be created for the user.\\n    run_config (Optional[Dict[str, Any]]):\\n        Optional. The run config to use for the query. If you want to\\n        pass in a `run_config` pydantic object, you can pass in a dict\\n        representing it as `run_config.model_dump(mode=\"json\")`.\\n    **kwargs (dict[str, Any]):\\n        Optional. Additional keyword arguments to pass to the\\n        runner.\\n\\nYields:\\n    Event dictionaries asynchronously.\\n',\n",
       "  'api_mode': 'async_stream'},\n",
       " {'name': 'streaming_agent_run_with_events',\n",
       "  'parameters': {'required': ['request_json'],\n",
       "   'type': 'object',\n",
       "   'properties': {'request_json': {'type': 'string'}}},\n",
       "  'description': 'Streams responses asynchronously from the ADK application.\\n\\nIn general, you should use `async_stream_query` instead, as it has a\\nmore structured API and works with the respective ADK services that\\nyou have defined for the AdkApp. This method is primarily meant for\\ninvocation from AgentSpace.\\n\\nArgs:\\n    request_json (str):\\n        Required. The request to stream responses for.\\n',\n",
       "  'api_mode': 'async_stream'}]"
      ]
     },
     "execution_count": 19,
     "metadata": {},
     "output_type": "execute_result"
    }
   ],
   "source": [
    "remote_app.operation_schemas()"
   ]
  },
  {
   "cell_type": "code",
   "execution_count": 20,
   "id": "e69be568",
   "metadata": {},
   "outputs": [
    {
     "data": {
      "text/plain": [
       "{'events': [],\n",
       " 'appName': '6919838002059411456',\n",
       " 'lastUpdateTime': 1760539270.341698,\n",
       " 'id': '831987529476472832',\n",
       " 'state': {},\n",
       " 'userId': 'u_123'}"
      ]
     },
     "execution_count": 20,
     "metadata": {},
     "output_type": "execute_result"
    }
   ],
   "source": [
    "remote_session = await remote_app.async_create_session(user_id = 'u_123')\n",
    "remote_session"
   ]
  },
  {
   "cell_type": "code",
   "execution_count": 21,
   "id": "3902d333",
   "metadata": {},
   "outputs": [
    {
     "data": {
      "text/plain": [
       "{'sessions': [{'state': {},\n",
       "   'appName': '6919838002059411456',\n",
       "   'lastUpdateTime': 1760539270.341698,\n",
       "   'id': '831987529476472832',\n",
       "   'events': [],\n",
       "   'userId': 'u_123'}]}"
      ]
     },
     "execution_count": 21,
     "metadata": {},
     "output_type": "execute_result"
    }
   ],
   "source": [
    "list_sessions = await remote_app.async_list_sessions(user_id = 'u_123')\n",
    "list_sessions"
   ]
  },
  {
   "cell_type": "code",
   "execution_count": 23,
   "id": "84f506ef",
   "metadata": {},
   "outputs": [
    {
     "data": {
      "text/plain": [
       "{'userId': 'u_123',\n",
       " 'appName': '6919838002059411456',\n",
       " 'lastUpdateTime': 1760539270.341698,\n",
       " 'id': '831987529476472832',\n",
       " 'state': {},\n",
       " 'events': []}"
      ]
     },
     "execution_count": 23,
     "metadata": {},
     "output_type": "execute_result"
    }
   ],
   "source": [
    "remote_session = await remote_app.async_get_session(user_id = \"u_123\", session_id = list_sessions['sessions'][0]['id'])\n",
    "remote_session"
   ]
  },
  {
   "cell_type": "code",
   "execution_count": 24,
   "id": "b9153dc8",
   "metadata": {},
   "outputs": [],
   "source": [
    "await remote_app.async_delete_session(user_id = 'u_123', session_id = remote_session['id'])"
   ]
  },
  {
   "cell_type": "code",
   "execution_count": 25,
   "id": "2885ef99",
   "metadata": {},
   "outputs": [
    {
     "data": {
      "text/plain": [
       "{'sessions': []}"
      ]
     },
     "execution_count": 25,
     "metadata": {},
     "output_type": "execute_result"
    }
   ],
   "source": [
    "await remote_app.async_list_sessions(user_id = 'u_123')"
   ]
  },
  {
   "cell_type": "markdown",
   "id": "208ea45a",
   "metadata": {},
   "source": [
    "---\n",
    "## Manage Deployed App Permissions\n",
    "\n",
    "[Reference](https://cloud.google.com/vertex-ai/generative-ai/docs/agent-engine/manage/access#roles)\n",
    " \n",
    "- [Vertex AI IAM Roles](https://cloud.google.com/vertex-ai/docs/general/access-control)\n",
    "  - already included: `roles/aiplatform.reasoningEngineServiceAgent` \n",
    "    - which already has GCS storage permissions\n",
    "- [Conversation Analtyics API IAM Roles](https://cloud.google.com/gemini/docs/conversational-analytics-api/access-control)\n",
    "  - need to have stateless chat permissions: `roles/geminidataanalytics.dataAgentStatelessUser`\n",
    "  - need to have: `roles/cloudaicompanion.user`\n",
    "- [BigQuery IAM Roles](https://cloud.google.com/bigquery/docs/access-control)\n",
    "  - need to create a query: `roles/bigquery.jobUser`\n",
    "  - and read data for the query: `roles/bigquery.dataView`"
   ]
  },
  {
   "cell_type": "code",
   "execution_count": 26,
   "id": "021bd469",
   "metadata": {},
   "outputs": [
    {
     "data": {
      "text/plain": [
       "'1026793852137'"
      ]
     },
     "execution_count": 26,
     "metadata": {},
     "output_type": "execute_result"
    }
   ],
   "source": [
    "project_number = remote_app.resource_name.split('/')[1]\n",
    "project_number"
   ]
  },
  {
   "cell_type": "code",
   "execution_count": 27,
   "id": "b04b6b14",
   "metadata": {},
   "outputs": [
    {
     "data": {
      "text/plain": [
       "'service-1026793852137@gcp-sa-aiplatform-re.iam.gserviceaccount.com'"
      ]
     },
     "execution_count": 27,
     "metadata": {},
     "output_type": "execute_result"
    }
   ],
   "source": [
    "service_account_id = f\"service-{project_number}@gcp-sa-aiplatform-re.iam.gserviceaccount.com\"\n",
    "service_account_id"
   ]
  },
  {
   "cell_type": "code",
   "execution_count": 29,
   "id": "193155aa",
   "metadata": {},
   "outputs": [
    {
     "name": "stderr",
     "output_type": "stream",
     "text": [
      "I0000 00:00:1760539779.088824 1885971 fork_posix.cc:71] Other threads are currently calling into gRPC, skipping fork() handlers\n"
     ]
    },
    {
     "name": "stdout",
     "output_type": "stream",
     "text": [
      "ROLE\n",
      "roles/aiplatform.reasoningEngineServiceAgent\n",
      "roles/bigquery.dataViewer\n",
      "roles/bigquery.jobUser\n",
      "roles/dlp.user\n",
      "roles/documentai.apiUser\n"
     ]
    }
   ],
   "source": [
    "!gcloud projects get-iam-policy {project_number} --flatten=\"bindings\" --format=\"table(bindings.role)\" --filter=\"bindings.members:'{service_account_id}'\""
   ]
  },
  {
   "cell_type": "code",
   "execution_count": 30,
   "id": "2145a4d6",
   "metadata": {},
   "outputs": [
    {
     "name": "stderr",
     "output_type": "stream",
     "text": [
      "I0000 00:00:1760539802.655052 1885971 fork_posix.cc:71] Other threads are currently calling into gRPC, skipping fork() handlers\n"
     ]
    },
    {
     "name": "stdout",
     "output_type": "stream",
     "text": [
      "Updated IAM policy for project [1026793852137].\n",
      "bindings:\n",
      "- members:\n",
      "  - serviceAccount:service-1026793852137@gcp-sa-vertex-bp.iam.gserviceaccount.com\n",
      "  role: roles/aiplatform.batchPredictionServiceAgent\n",
      "- members:\n",
      "  - serviceAccount:service-1026793852137@gcp-sa-vertex-nb.iam.gserviceaccount.com\n",
      "  role: roles/aiplatform.colabServiceAgent\n",
      "- members:\n",
      "  - serviceAccount:service-1026793852137@gcp-sa-aiplatform-cc.iam.gserviceaccount.com\n",
      "  role: roles/aiplatform.customCodeServiceAgent\n",
      "- members:\n",
      "  - serviceAccount:service-1026793852137@gcp-sa-aiplatform.iam.gserviceaccount.com\n",
      "  role: roles/aiplatform.featurestoreDataViewer\n",
      "- members:\n",
      "  - serviceAccount:service-1026793852137@gcp-sa-vertex-mm.iam.gserviceaccount.com\n",
      "  role: roles/aiplatform.modelMonitoringServiceAgent\n",
      "- members:\n",
      "  - serviceAccount:service-1026793852137@gcp-sa-aiplatform-vm.iam.gserviceaccount.com\n",
      "  role: roles/aiplatform.notebookServiceAgent\n",
      "- members:\n",
      "  - serviceAccount:service-1026793852137@gcp-sa-vertex-op.iam.gserviceaccount.com\n",
      "  role: roles/aiplatform.onlinePredictionServiceAgent\n",
      "- members:\n",
      "  - serviceAccount:service-1026793852137@gcp-sa-vertex-rag.iam.gserviceaccount.com\n",
      "  role: roles/aiplatform.ragServiceAgent\n",
      "- members:\n",
      "  - serviceAccount:service-1026793852137@gcp-sa-vertex-eval.iam.gserviceaccount.com\n",
      "  role: roles/aiplatform.rapidevalServiceAgent\n",
      "- members:\n",
      "  - serviceAccount:service-1026793852137@gcp-sa-aiplatform-re.iam.gserviceaccount.com\n",
      "  role: roles/aiplatform.reasoningEngineServiceAgent\n",
      "- members:\n",
      "  - serviceAccount:service-1026793852137@gcp-sa-aiplatform.iam.gserviceaccount.com\n",
      "  role: roles/aiplatform.serviceAgent\n",
      "- members:\n",
      "  - serviceAccount:1026793852137-compute@developer.gserviceaccount.com\n",
      "  - serviceAccount:bqcx-1026793852137-bmph@gcp-sa-bigquery-condel.iam.gserviceaccount.com\n",
      "  - serviceAccount:bqcx-1026793852137-d2h9@gcp-sa-bigquery-condel.iam.gserviceaccount.com\n",
      "  - serviceAccount:bqcx-1026793852137-dyw1@gcp-sa-bigquery-condel.iam.gserviceaccount.com\n",
      "  - serviceAccount:bqcx-1026793852137-pdxa@gcp-sa-bigquery-condel.iam.gserviceaccount.com\n",
      "  - serviceAccount:bqcx-1026793852137-te86@gcp-sa-bigquery-condel.iam.gserviceaccount.com\n",
      "  - serviceAccount:bqcx-1026793852137-tqpc@gcp-sa-bigquery-condel.iam.gserviceaccount.com\n",
      "  - serviceAccount:bqcx-1026793852137-vk6u@gcp-sa-bigquery-condel.iam.gserviceaccount.com\n",
      "  - serviceAccount:bqcx-1026793852137-zfly@gcp-sa-bigquery-condel.iam.gserviceaccount.com\n",
      "  - user:statmike2@statmike.altostrat.com\n",
      "  - user:wsp@statmike.altostrat.com\n",
      "  role: roles/aiplatform.user\n",
      "- members:\n",
      "  - serviceAccount:service-1026793852137@gcp-sa-alloydb.iam.gserviceaccount.com\n",
      "  role: roles/alloydb.serviceAgent\n",
      "- members:\n",
      "  - serviceAccount:service-1026793852137@gcp-sa-artifactregistry.iam.gserviceaccount.com\n",
      "  role: roles/artifactregistry.serviceAgent\n",
      "- members:\n",
      "  - serviceAccount:1026793852137-compute@developer.gserviceaccount.com\n",
      "  role: roles/bigquery.admin\n",
      "- members:\n",
      "  - serviceAccount:1026793852137@cloudservices.gserviceaccount.com\n",
      "  role: roles/bigquery.dataOwner\n",
      "- members:\n",
      "  - serviceAccount:service-1026793852137@gcp-sa-aiplatform-re.iam.gserviceaccount.com\n",
      "  - user:wsp@statmike.altostrat.com\n",
      "  role: roles/bigquery.dataViewer\n",
      "- members:\n",
      "  - serviceAccount:service-1026793852137@gcp-sa-aiplatform-re.iam.gserviceaccount.com\n",
      "  - user:wsp@statmike.altostrat.com\n",
      "  role: roles/bigquery.jobUser\n",
      "- members:\n",
      "  - serviceAccount:service-1026793852137@gcp-sa-bigquerydatatransfer.iam.gserviceaccount.com\n",
      "  role: roles/bigquerydatatransfer.serviceAgent\n",
      "- members:\n",
      "  - serviceAccount:service-1026793852137@gcp-sa-binaryauthorization.iam.gserviceaccount.com\n",
      "  role: roles/binaryauthorization.serviceAgent\n",
      "- members:\n",
      "  - serviceAccount:service-1026793852137@gcp-sa-cloudaicompanion.iam.gserviceaccount.com\n",
      "  role: roles/cloudaicompanion.serviceAgent\n",
      "- members:\n",
      "  - serviceAccount:1026793852137@cloudbuild.gserviceaccount.com\n",
      "  role: roles/cloudbuild.builds.builder\n",
      "- members:\n",
      "  - serviceAccount:service-1026793852137@gcp-sa-cloudbuild.iam.gserviceaccount.com\n",
      "  role: roles/cloudbuild.serviceAgent\n",
      "- members:\n",
      "  - serviceAccount:service-1026793852137@gcf-admin-robot.iam.gserviceaccount.com\n",
      "  role: roles/cloudfunctions.serviceAgent\n",
      "- members:\n",
      "  - serviceAccount:service-1026793852137@gcp-sa-cloudscheduler.iam.gserviceaccount.com\n",
      "  role: roles/cloudscheduler.serviceAgent\n",
      "- members:\n",
      "  - serviceAccount:bqcx-1026793852137-d2h9@gcp-sa-bigquery-condel.iam.gserviceaccount.com\n",
      "  role: roles/cloudtranslate.user\n",
      "- members:\n",
      "  - serviceAccount:service-1026793852137@compute-system.iam.gserviceaccount.com\n",
      "  role: roles/compute.serviceAgent\n",
      "- members:\n",
      "  - serviceAccount:service-1026793852137@gcp-sa-connectors.iam.gserviceaccount.com\n",
      "  role: roles/connectors.serviceAgent\n",
      "- members:\n",
      "  - serviceAccount:service-1026793852137@container-engine-robot.iam.gserviceaccount.com\n",
      "  role: roles/container.serviceAgent\n",
      "- members:\n",
      "  - serviceAccount:service-1026793852137@container-analysis.iam.gserviceaccount.com\n",
      "  role: roles/containeranalysis.ServiceAgent\n",
      "- members:\n",
      "  - serviceAccount:service-1026793852137@containerregistry.iam.gserviceaccount.com\n",
      "  role: roles/containerregistry.ServiceAgent\n",
      "- members:\n",
      "  - serviceAccount:service-1026793852137@dataflow-service-producer-prod.iam.gserviceaccount.com\n",
      "  role: roles/dataflow.serviceAgent\n",
      "- members:\n",
      "  - serviceAccount:service-1026793852137@gcp-sa-dataform.iam.gserviceaccount.com\n",
      "  role: roles/dataform.serviceAgent\n",
      "- members:\n",
      "  - serviceAccount:service-1026793852137@dataproc-accounts.iam.gserviceaccount.com\n",
      "  role: roles/dataproc.serviceAgent\n",
      "- members:\n",
      "  - serviceAccount:service-1026793852137@gcp-sa-dialogflow.iam.gserviceaccount.com\n",
      "  role: roles/dialogflow.serviceAgent\n",
      "- members:\n",
      "  - serviceAccount:service-1026793852137@gcp-sa-discoveryengine.iam.gserviceaccount.com\n",
      "  role: roles/discoveryengine.serviceAgent\n",
      "- members:\n",
      "  - serviceAccount:service-1026793852137@dlp-api.iam.gserviceaccount.com\n",
      "  role: roles/dlp.serviceAgent\n",
      "- members:\n",
      "  - serviceAccount:service-1026793852137@gcp-sa-aiplatform-re.iam.gserviceaccount.com\n",
      "  role: roles/dlp.user\n",
      "- members:\n",
      "  - serviceAccount:service-532015589141@gcp-sa-prod-dai-core.iam.gserviceaccount.com\n",
      "  role: roles/documentai.admin\n",
      "- members:\n",
      "  - serviceAccount:bqcx-1026793852137-te86@gcp-sa-bigquery-condel.iam.gserviceaccount.com\n",
      "  - serviceAccount:service-1026793852137@gcp-sa-aiplatform-re.iam.gserviceaccount.com\n",
      "  - user:wsp@statmike.altostrat.com\n",
      "  role: roles/documentai.apiUser\n",
      "- members:\n",
      "  - serviceAccount:bqcx-1026793852137-te86@gcp-sa-bigquery-condel.iam.gserviceaccount.com\n",
      "  - serviceAccount:bqcx-1026793852137-vk6u@gcp-sa-bigquery-condel.iam.gserviceaccount.com\n",
      "  role: roles/documentai.viewer\n",
      "- members:\n",
      "  - serviceAccount:service-1026793852137@gcp-sa-prod-dai-core.iam.gserviceaccount.com\n",
      "  role: roles/documentaicore.serviceAgent\n",
      "- members:\n",
      "  - serviceAccount:1026793852137@cloudservices.gserviceaccount.com\n",
      "  role: roles/editor\n",
      "- members:\n",
      "  - serviceAccount:service-1026793852137@gcp-sa-eventarc.iam.gserviceaccount.com\n",
      "  role: roles/eventarc.serviceAgent\n",
      "- members:\n",
      "  - serviceAccount:service-1026793852137@firebase-rules.iam.gserviceaccount.com\n",
      "  role: roles/firebaserules.system\n",
      "- members:\n",
      "  - serviceAccount:service-1026793852137@gcp-sa-firestore.iam.gserviceaccount.com\n",
      "  role: roles/firestore.serviceAgent\n",
      "- members:\n",
      "  - serviceAccount:service-1026793852137@gcp-sa-aiplatform-re.iam.gserviceaccount.com\n",
      "  role: roles/geminidataanalytics.dataAgentStatelessUser\n",
      "- members:\n",
      "  - serviceAccount:service-1026793852137@gcp-sa-integrations.iam.gserviceaccount.com\n",
      "  role: roles/iam.serviceAccountUser\n",
      "- members:\n",
      "  - serviceAccount:1026793852137-compute@developer.gserviceaccount.com\n",
      "  role: roles/integrations.integrationInvoker\n",
      "- members:\n",
      "  - serviceAccount:service-1026793852137@gcp-sa-integrations.iam.gserviceaccount.com\n",
      "  role: roles/integrations.serviceAgent\n",
      "- members:\n",
      "  - serviceAccount:service-1026793852137@gcp-sa-networkmanagement.iam.gserviceaccount.com\n",
      "  role: roles/networkmanagement.serviceAgent\n",
      "- members:\n",
      "  - serviceAccount:service-1026793852137@gcp-sa-notebooks.iam.gserviceaccount.com\n",
      "  role: roles/notebooks.serviceAgent\n",
      "- members:\n",
      "  - serviceAccount:service-1026793852137@gcp-sa-oci.iam.gserviceaccount.com\n",
      "  role: roles/oci.serviceAgent\n",
      "- members:\n",
      "  - serviceAccount:1026793852137-compute@developer.gserviceaccount.com\n",
      "  - serviceAccount:1026793852137@cloudservices.gserviceaccount.com\n",
      "  - user:admin@statmike.altostrat.com\n",
      "  role: roles/owner\n",
      "- members:\n",
      "  - serviceAccount:service-1026793852137@gcp-sa-integrations.iam.gserviceaccount.com\n",
      "  role: roles/pubsub.editor\n",
      "- members:\n",
      "  - serviceAccount:service-1026793852137@gcp-sa-pubsub.iam.gserviceaccount.com\n",
      "  role: roles/pubsub.serviceAgent\n",
      "- members:\n",
      "  - serviceAccount:service-1026793852137@cloud-redis.iam.gserviceaccount.com\n",
      "  role: roles/redis.serviceAgent\n",
      "- members:\n",
      "  - serviceAccount:1026793852137-compute@developer.gserviceaccount.com\n",
      "  role: roles/run.admin\n",
      "- members:\n",
      "  - serviceAccount:service-1026793852137@serverless-robot-prod.iam.gserviceaccount.com\n",
      "  role: roles/run.serviceAgent\n",
      "- members:\n",
      "  - serviceAccount:1026793852137-compute@developer.gserviceaccount.com\n",
      "  role: roles/secretmanager.secretAccessor\n",
      "- members:\n",
      "  - serviceAccount:service-1026793852137@service-networking.iam.gserviceaccount.com\n",
      "  role: roles/servicenetworking.serviceAgent\n",
      "- members:\n",
      "  - serviceAccount:bqcx-1026793852137-d2h9@gcp-sa-bigquery-condel.iam.gserviceaccount.com\n",
      "  role: roles/serviceusage.serviceUsageConsumer\n",
      "- members:\n",
      "  - serviceAccount:service-1026793852137@gcp-sa-speech.iam.gserviceaccount.com\n",
      "  role: roles/speech.serviceAgent\n",
      "- members:\n",
      "  - serviceAccount:1026793852137-compute@developer.gserviceaccount.com\n",
      "  role: roles/storage.objectAdmin\n",
      "- members:\n",
      "  - serviceAccount:bqcx-1026793852137-te86@gcp-sa-bigquery-condel.iam.gserviceaccount.com\n",
      "  - serviceAccount:bqcx-1026793852137-vk6u@gcp-sa-bigquery-condel.iam.gserviceaccount.com\n",
      "  role: roles/storage.objectViewer\n",
      "- members:\n",
      "  - user:showvik@statmike.altostrat.com\n",
      "  role: roles/viewer\n",
      "- members:\n",
      "  - serviceAccount:service-1026793852137@gcp-sa-workstations.iam.gserviceaccount.com\n",
      "  role: roles/workstations.serviceAgent\n",
      "etag: BwZBM52tr1U=\n",
      "version: 1\n"
     ]
    }
   ],
   "source": [
    "!gcloud projects add-iam-policy-binding {project_number} --member=\"serviceAccount:{service_account_id}\" --role=\"roles/geminidataanalytics.dataAgentStatelessUser\""
   ]
  },
  {
   "cell_type": "code",
   "execution_count": 31,
   "id": "0a2338a0",
   "metadata": {},
   "outputs": [
    {
     "name": "stderr",
     "output_type": "stream",
     "text": [
      "I0000 00:00:1760539815.482740 1885971 fork_posix.cc:71] Other threads are currently calling into gRPC, skipping fork() handlers\n"
     ]
    },
    {
     "name": "stdout",
     "output_type": "stream",
     "text": [
      "ROLE\n",
      "roles/aiplatform.reasoningEngineServiceAgent\n",
      "roles/bigquery.dataViewer\n",
      "roles/bigquery.jobUser\n",
      "roles/dlp.user\n",
      "roles/documentai.apiUser\n",
      "roles/geminidataanalytics.dataAgentStatelessUser\n"
     ]
    }
   ],
   "source": [
    "!gcloud projects get-iam-policy {project_number} --flatten=\"bindings\" --format=\"table(bindings.role)\" --filter=\"bindings.members:'{service_account_id}'\""
   ]
  },
  {
   "cell_type": "code",
   "execution_count": 32,
   "id": "d1a92250",
   "metadata": {},
   "outputs": [
    {
     "name": "stderr",
     "output_type": "stream",
     "text": [
      "I0000 00:00:1760539827.133205 1885971 fork_posix.cc:71] Other threads are currently calling into gRPC, skipping fork() handlers\n"
     ]
    },
    {
     "name": "stdout",
     "output_type": "stream",
     "text": [
      "Updated IAM policy for project [1026793852137].\n",
      "bindings:\n",
      "- members:\n",
      "  - serviceAccount:service-1026793852137@gcp-sa-vertex-bp.iam.gserviceaccount.com\n",
      "  role: roles/aiplatform.batchPredictionServiceAgent\n",
      "- members:\n",
      "  - serviceAccount:service-1026793852137@gcp-sa-vertex-nb.iam.gserviceaccount.com\n",
      "  role: roles/aiplatform.colabServiceAgent\n",
      "- members:\n",
      "  - serviceAccount:service-1026793852137@gcp-sa-aiplatform-cc.iam.gserviceaccount.com\n",
      "  role: roles/aiplatform.customCodeServiceAgent\n",
      "- members:\n",
      "  - serviceAccount:service-1026793852137@gcp-sa-aiplatform.iam.gserviceaccount.com\n",
      "  role: roles/aiplatform.featurestoreDataViewer\n",
      "- members:\n",
      "  - serviceAccount:service-1026793852137@gcp-sa-vertex-mm.iam.gserviceaccount.com\n",
      "  role: roles/aiplatform.modelMonitoringServiceAgent\n",
      "- members:\n",
      "  - serviceAccount:service-1026793852137@gcp-sa-aiplatform-vm.iam.gserviceaccount.com\n",
      "  role: roles/aiplatform.notebookServiceAgent\n",
      "- members:\n",
      "  - serviceAccount:service-1026793852137@gcp-sa-vertex-op.iam.gserviceaccount.com\n",
      "  role: roles/aiplatform.onlinePredictionServiceAgent\n",
      "- members:\n",
      "  - serviceAccount:service-1026793852137@gcp-sa-vertex-rag.iam.gserviceaccount.com\n",
      "  role: roles/aiplatform.ragServiceAgent\n",
      "- members:\n",
      "  - serviceAccount:service-1026793852137@gcp-sa-vertex-eval.iam.gserviceaccount.com\n",
      "  role: roles/aiplatform.rapidevalServiceAgent\n",
      "- members:\n",
      "  - serviceAccount:service-1026793852137@gcp-sa-aiplatform-re.iam.gserviceaccount.com\n",
      "  role: roles/aiplatform.reasoningEngineServiceAgent\n",
      "- members:\n",
      "  - serviceAccount:service-1026793852137@gcp-sa-aiplatform.iam.gserviceaccount.com\n",
      "  role: roles/aiplatform.serviceAgent\n",
      "- members:\n",
      "  - serviceAccount:1026793852137-compute@developer.gserviceaccount.com\n",
      "  - serviceAccount:bqcx-1026793852137-bmph@gcp-sa-bigquery-condel.iam.gserviceaccount.com\n",
      "  - serviceAccount:bqcx-1026793852137-d2h9@gcp-sa-bigquery-condel.iam.gserviceaccount.com\n",
      "  - serviceAccount:bqcx-1026793852137-dyw1@gcp-sa-bigquery-condel.iam.gserviceaccount.com\n",
      "  - serviceAccount:bqcx-1026793852137-pdxa@gcp-sa-bigquery-condel.iam.gserviceaccount.com\n",
      "  - serviceAccount:bqcx-1026793852137-te86@gcp-sa-bigquery-condel.iam.gserviceaccount.com\n",
      "  - serviceAccount:bqcx-1026793852137-tqpc@gcp-sa-bigquery-condel.iam.gserviceaccount.com\n",
      "  - serviceAccount:bqcx-1026793852137-vk6u@gcp-sa-bigquery-condel.iam.gserviceaccount.com\n",
      "  - serviceAccount:bqcx-1026793852137-zfly@gcp-sa-bigquery-condel.iam.gserviceaccount.com\n",
      "  - user:statmike2@statmike.altostrat.com\n",
      "  - user:wsp@statmike.altostrat.com\n",
      "  role: roles/aiplatform.user\n",
      "- members:\n",
      "  - serviceAccount:service-1026793852137@gcp-sa-alloydb.iam.gserviceaccount.com\n",
      "  role: roles/alloydb.serviceAgent\n",
      "- members:\n",
      "  - serviceAccount:service-1026793852137@gcp-sa-artifactregistry.iam.gserviceaccount.com\n",
      "  role: roles/artifactregistry.serviceAgent\n",
      "- members:\n",
      "  - serviceAccount:1026793852137-compute@developer.gserviceaccount.com\n",
      "  role: roles/bigquery.admin\n",
      "- members:\n",
      "  - serviceAccount:1026793852137@cloudservices.gserviceaccount.com\n",
      "  role: roles/bigquery.dataOwner\n",
      "- members:\n",
      "  - serviceAccount:service-1026793852137@gcp-sa-aiplatform-re.iam.gserviceaccount.com\n",
      "  - user:wsp@statmike.altostrat.com\n",
      "  role: roles/bigquery.dataViewer\n",
      "- members:\n",
      "  - serviceAccount:service-1026793852137@gcp-sa-aiplatform-re.iam.gserviceaccount.com\n",
      "  - user:wsp@statmike.altostrat.com\n",
      "  role: roles/bigquery.jobUser\n",
      "- members:\n",
      "  - serviceAccount:service-1026793852137@gcp-sa-bigquerydatatransfer.iam.gserviceaccount.com\n",
      "  role: roles/bigquerydatatransfer.serviceAgent\n",
      "- members:\n",
      "  - serviceAccount:service-1026793852137@gcp-sa-binaryauthorization.iam.gserviceaccount.com\n",
      "  role: roles/binaryauthorization.serviceAgent\n",
      "- members:\n",
      "  - serviceAccount:service-1026793852137@gcp-sa-cloudaicompanion.iam.gserviceaccount.com\n",
      "  role: roles/cloudaicompanion.serviceAgent\n",
      "- members:\n",
      "  - serviceAccount:1026793852137@cloudbuild.gserviceaccount.com\n",
      "  role: roles/cloudbuild.builds.builder\n",
      "- members:\n",
      "  - serviceAccount:service-1026793852137@gcp-sa-cloudbuild.iam.gserviceaccount.com\n",
      "  role: roles/cloudbuild.serviceAgent\n",
      "- members:\n",
      "  - serviceAccount:service-1026793852137@gcf-admin-robot.iam.gserviceaccount.com\n",
      "  role: roles/cloudfunctions.serviceAgent\n",
      "- members:\n",
      "  - serviceAccount:service-1026793852137@gcp-sa-cloudscheduler.iam.gserviceaccount.com\n",
      "  role: roles/cloudscheduler.serviceAgent\n",
      "- members:\n",
      "  - serviceAccount:bqcx-1026793852137-d2h9@gcp-sa-bigquery-condel.iam.gserviceaccount.com\n",
      "  role: roles/cloudtranslate.user\n",
      "- members:\n",
      "  - serviceAccount:service-1026793852137@compute-system.iam.gserviceaccount.com\n",
      "  role: roles/compute.serviceAgent\n",
      "- members:\n",
      "  - serviceAccount:service-1026793852137@gcp-sa-connectors.iam.gserviceaccount.com\n",
      "  role: roles/connectors.serviceAgent\n",
      "- members:\n",
      "  - serviceAccount:service-1026793852137@container-engine-robot.iam.gserviceaccount.com\n",
      "  role: roles/container.serviceAgent\n",
      "- members:\n",
      "  - serviceAccount:service-1026793852137@container-analysis.iam.gserviceaccount.com\n",
      "  role: roles/containeranalysis.ServiceAgent\n",
      "- members:\n",
      "  - serviceAccount:service-1026793852137@containerregistry.iam.gserviceaccount.com\n",
      "  role: roles/containerregistry.ServiceAgent\n",
      "- members:\n",
      "  - serviceAccount:service-1026793852137@dataflow-service-producer-prod.iam.gserviceaccount.com\n",
      "  role: roles/dataflow.serviceAgent\n",
      "- members:\n",
      "  - serviceAccount:service-1026793852137@gcp-sa-dataform.iam.gserviceaccount.com\n",
      "  role: roles/dataform.serviceAgent\n",
      "- members:\n",
      "  - serviceAccount:service-1026793852137@dataproc-accounts.iam.gserviceaccount.com\n",
      "  role: roles/dataproc.serviceAgent\n",
      "- members:\n",
      "  - serviceAccount:service-1026793852137@gcp-sa-dialogflow.iam.gserviceaccount.com\n",
      "  role: roles/dialogflow.serviceAgent\n",
      "- members:\n",
      "  - serviceAccount:service-1026793852137@gcp-sa-discoveryengine.iam.gserviceaccount.com\n",
      "  role: roles/discoveryengine.serviceAgent\n",
      "- members:\n",
      "  - serviceAccount:service-1026793852137@dlp-api.iam.gserviceaccount.com\n",
      "  role: roles/dlp.serviceAgent\n",
      "- members:\n",
      "  - serviceAccount:service-1026793852137@gcp-sa-aiplatform-re.iam.gserviceaccount.com\n",
      "  role: roles/dlp.user\n",
      "- members:\n",
      "  - serviceAccount:service-532015589141@gcp-sa-prod-dai-core.iam.gserviceaccount.com\n",
      "  role: roles/documentai.admin\n",
      "- members:\n",
      "  - serviceAccount:bqcx-1026793852137-te86@gcp-sa-bigquery-condel.iam.gserviceaccount.com\n",
      "  - serviceAccount:service-1026793852137@gcp-sa-aiplatform-re.iam.gserviceaccount.com\n",
      "  - user:wsp@statmike.altostrat.com\n",
      "  role: roles/documentai.apiUser\n",
      "- members:\n",
      "  - serviceAccount:bqcx-1026793852137-te86@gcp-sa-bigquery-condel.iam.gserviceaccount.com\n",
      "  - serviceAccount:bqcx-1026793852137-vk6u@gcp-sa-bigquery-condel.iam.gserviceaccount.com\n",
      "  role: roles/documentai.viewer\n",
      "- members:\n",
      "  - serviceAccount:service-1026793852137@gcp-sa-prod-dai-core.iam.gserviceaccount.com\n",
      "  role: roles/documentaicore.serviceAgent\n",
      "- members:\n",
      "  - serviceAccount:1026793852137@cloudservices.gserviceaccount.com\n",
      "  role: roles/editor\n",
      "- members:\n",
      "  - serviceAccount:service-1026793852137@gcp-sa-eventarc.iam.gserviceaccount.com\n",
      "  role: roles/eventarc.serviceAgent\n",
      "- members:\n",
      "  - serviceAccount:service-1026793852137@firebase-rules.iam.gserviceaccount.com\n",
      "  role: roles/firebaserules.system\n",
      "- members:\n",
      "  - serviceAccount:service-1026793852137@gcp-sa-firestore.iam.gserviceaccount.com\n",
      "  role: roles/firestore.serviceAgent\n",
      "- members:\n",
      "  - serviceAccount:service-1026793852137@gcp-sa-aiplatform-re.iam.gserviceaccount.com\n",
      "  role: roles/geminidataanalytics.dataAgentStatelessUser\n",
      "- members:\n",
      "  - serviceAccount:service-1026793852137@gcp-sa-integrations.iam.gserviceaccount.com\n",
      "  role: roles/iam.serviceAccountUser\n",
      "- members:\n",
      "  - serviceAccount:1026793852137-compute@developer.gserviceaccount.com\n",
      "  role: roles/integrations.integrationInvoker\n",
      "- members:\n",
      "  - serviceAccount:service-1026793852137@gcp-sa-integrations.iam.gserviceaccount.com\n",
      "  role: roles/integrations.serviceAgent\n",
      "- members:\n",
      "  - serviceAccount:service-1026793852137@gcp-sa-networkmanagement.iam.gserviceaccount.com\n",
      "  role: roles/networkmanagement.serviceAgent\n",
      "- members:\n",
      "  - serviceAccount:service-1026793852137@gcp-sa-notebooks.iam.gserviceaccount.com\n",
      "  role: roles/notebooks.serviceAgent\n",
      "- members:\n",
      "  - serviceAccount:service-1026793852137@gcp-sa-oci.iam.gserviceaccount.com\n",
      "  role: roles/oci.serviceAgent\n",
      "- members:\n",
      "  - serviceAccount:1026793852137-compute@developer.gserviceaccount.com\n",
      "  - serviceAccount:1026793852137@cloudservices.gserviceaccount.com\n",
      "  - user:admin@statmike.altostrat.com\n",
      "  role: roles/owner\n",
      "- members:\n",
      "  - serviceAccount:service-1026793852137@gcp-sa-integrations.iam.gserviceaccount.com\n",
      "  role: roles/pubsub.editor\n",
      "- members:\n",
      "  - serviceAccount:service-1026793852137@gcp-sa-pubsub.iam.gserviceaccount.com\n",
      "  role: roles/pubsub.serviceAgent\n",
      "- members:\n",
      "  - serviceAccount:service-1026793852137@cloud-redis.iam.gserviceaccount.com\n",
      "  role: roles/redis.serviceAgent\n",
      "- members:\n",
      "  - serviceAccount:1026793852137-compute@developer.gserviceaccount.com\n",
      "  role: roles/run.admin\n",
      "- members:\n",
      "  - serviceAccount:service-1026793852137@serverless-robot-prod.iam.gserviceaccount.com\n",
      "  role: roles/run.serviceAgent\n",
      "- members:\n",
      "  - serviceAccount:1026793852137-compute@developer.gserviceaccount.com\n",
      "  role: roles/secretmanager.secretAccessor\n",
      "- members:\n",
      "  - serviceAccount:service-1026793852137@service-networking.iam.gserviceaccount.com\n",
      "  role: roles/servicenetworking.serviceAgent\n",
      "- members:\n",
      "  - serviceAccount:bqcx-1026793852137-d2h9@gcp-sa-bigquery-condel.iam.gserviceaccount.com\n",
      "  role: roles/serviceusage.serviceUsageConsumer\n",
      "- members:\n",
      "  - serviceAccount:service-1026793852137@gcp-sa-speech.iam.gserviceaccount.com\n",
      "  role: roles/speech.serviceAgent\n",
      "- members:\n",
      "  - serviceAccount:1026793852137-compute@developer.gserviceaccount.com\n",
      "  role: roles/storage.objectAdmin\n",
      "- members:\n",
      "  - serviceAccount:bqcx-1026793852137-te86@gcp-sa-bigquery-condel.iam.gserviceaccount.com\n",
      "  - serviceAccount:bqcx-1026793852137-vk6u@gcp-sa-bigquery-condel.iam.gserviceaccount.com\n",
      "  role: roles/storage.objectViewer\n",
      "- members:\n",
      "  - user:showvik@statmike.altostrat.com\n",
      "  role: roles/viewer\n",
      "- members:\n",
      "  - serviceAccount:service-1026793852137@gcp-sa-workstations.iam.gserviceaccount.com\n",
      "  role: roles/workstations.serviceAgent\n",
      "etag: BwZBM58i4Uo=\n",
      "version: 1\n"
     ]
    }
   ],
   "source": [
    "!gcloud projects add-iam-policy-binding {project_number} --member=\"serviceAccount:{service_account_id}\" --role=\"roles/bigquery.jobUser\""
   ]
  },
  {
   "cell_type": "code",
   "execution_count": 36,
   "id": "f8f0e04c",
   "metadata": {},
   "outputs": [
    {
     "name": "stderr",
     "output_type": "stream",
     "text": [
      "I0000 00:00:1760551886.061500 1885971 fork_posix.cc:71] Other threads are currently calling into gRPC, skipping fork() handlers\n"
     ]
    },
    {
     "name": "stdout",
     "output_type": "stream",
     "text": [
      "Updated IAM policy for project [1026793852137].\n",
      "bindings:\n",
      "- members:\n",
      "  - serviceAccount:service-1026793852137@gcp-sa-vertex-bp.iam.gserviceaccount.com\n",
      "  role: roles/aiplatform.batchPredictionServiceAgent\n",
      "- members:\n",
      "  - serviceAccount:service-1026793852137@gcp-sa-vertex-nb.iam.gserviceaccount.com\n",
      "  role: roles/aiplatform.colabServiceAgent\n",
      "- members:\n",
      "  - serviceAccount:service-1026793852137@gcp-sa-aiplatform-cc.iam.gserviceaccount.com\n",
      "  role: roles/aiplatform.customCodeServiceAgent\n",
      "- members:\n",
      "  - serviceAccount:service-1026793852137@gcp-sa-aiplatform.iam.gserviceaccount.com\n",
      "  role: roles/aiplatform.featurestoreDataViewer\n",
      "- members:\n",
      "  - serviceAccount:service-1026793852137@gcp-sa-vertex-mm.iam.gserviceaccount.com\n",
      "  role: roles/aiplatform.modelMonitoringServiceAgent\n",
      "- members:\n",
      "  - serviceAccount:service-1026793852137@gcp-sa-aiplatform-vm.iam.gserviceaccount.com\n",
      "  role: roles/aiplatform.notebookServiceAgent\n",
      "- members:\n",
      "  - serviceAccount:service-1026793852137@gcp-sa-vertex-op.iam.gserviceaccount.com\n",
      "  role: roles/aiplatform.onlinePredictionServiceAgent\n",
      "- members:\n",
      "  - serviceAccount:service-1026793852137@gcp-sa-vertex-rag.iam.gserviceaccount.com\n",
      "  role: roles/aiplatform.ragServiceAgent\n",
      "- members:\n",
      "  - serviceAccount:service-1026793852137@gcp-sa-vertex-eval.iam.gserviceaccount.com\n",
      "  role: roles/aiplatform.rapidevalServiceAgent\n",
      "- members:\n",
      "  - serviceAccount:service-1026793852137@gcp-sa-aiplatform-re.iam.gserviceaccount.com\n",
      "  role: roles/aiplatform.reasoningEngineServiceAgent\n",
      "- members:\n",
      "  - serviceAccount:service-1026793852137@gcp-sa-aiplatform.iam.gserviceaccount.com\n",
      "  role: roles/aiplatform.serviceAgent\n",
      "- members:\n",
      "  - serviceAccount:1026793852137-compute@developer.gserviceaccount.com\n",
      "  - serviceAccount:bqcx-1026793852137-bmph@gcp-sa-bigquery-condel.iam.gserviceaccount.com\n",
      "  - serviceAccount:bqcx-1026793852137-d2h9@gcp-sa-bigquery-condel.iam.gserviceaccount.com\n",
      "  - serviceAccount:bqcx-1026793852137-dyw1@gcp-sa-bigquery-condel.iam.gserviceaccount.com\n",
      "  - serviceAccount:bqcx-1026793852137-pdxa@gcp-sa-bigquery-condel.iam.gserviceaccount.com\n",
      "  - serviceAccount:bqcx-1026793852137-te86@gcp-sa-bigquery-condel.iam.gserviceaccount.com\n",
      "  - serviceAccount:bqcx-1026793852137-tqpc@gcp-sa-bigquery-condel.iam.gserviceaccount.com\n",
      "  - serviceAccount:bqcx-1026793852137-vk6u@gcp-sa-bigquery-condel.iam.gserviceaccount.com\n",
      "  - serviceAccount:bqcx-1026793852137-zfly@gcp-sa-bigquery-condel.iam.gserviceaccount.com\n",
      "  - user:statmike2@statmike.altostrat.com\n",
      "  - user:wsp@statmike.altostrat.com\n",
      "  role: roles/aiplatform.user\n",
      "- members:\n",
      "  - serviceAccount:service-1026793852137@gcp-sa-alloydb.iam.gserviceaccount.com\n",
      "  role: roles/alloydb.serviceAgent\n",
      "- members:\n",
      "  - serviceAccount:service-1026793852137@gcp-sa-artifactregistry.iam.gserviceaccount.com\n",
      "  role: roles/artifactregistry.serviceAgent\n",
      "- members:\n",
      "  - serviceAccount:1026793852137-compute@developer.gserviceaccount.com\n",
      "  role: roles/bigquery.admin\n",
      "- members:\n",
      "  - serviceAccount:1026793852137@cloudservices.gserviceaccount.com\n",
      "  role: roles/bigquery.dataOwner\n",
      "- members:\n",
      "  - serviceAccount:service-1026793852137@gcp-sa-aiplatform-re.iam.gserviceaccount.com\n",
      "  - user:wsp@statmike.altostrat.com\n",
      "  role: roles/bigquery.dataViewer\n",
      "- members:\n",
      "  - serviceAccount:service-1026793852137@gcp-sa-aiplatform-re.iam.gserviceaccount.com\n",
      "  - user:wsp@statmike.altostrat.com\n",
      "  role: roles/bigquery.jobUser\n",
      "- members:\n",
      "  - serviceAccount:service-1026793852137@gcp-sa-bigquerydatatransfer.iam.gserviceaccount.com\n",
      "  role: roles/bigquerydatatransfer.serviceAgent\n",
      "- members:\n",
      "  - serviceAccount:service-1026793852137@gcp-sa-binaryauthorization.iam.gserviceaccount.com\n",
      "  role: roles/binaryauthorization.serviceAgent\n",
      "- members:\n",
      "  - serviceAccount:service-1026793852137@gcp-sa-cloudaicompanion.iam.gserviceaccount.com\n",
      "  role: roles/cloudaicompanion.serviceAgent\n",
      "- members:\n",
      "  - serviceAccount:service-1026793852137@gcp-sa-aiplatform-re.iam.gserviceaccount.com\n",
      "  role: roles/cloudaicompanion.user\n",
      "- members:\n",
      "  - serviceAccount:1026793852137@cloudbuild.gserviceaccount.com\n",
      "  role: roles/cloudbuild.builds.builder\n",
      "- members:\n",
      "  - serviceAccount:service-1026793852137@gcp-sa-cloudbuild.iam.gserviceaccount.com\n",
      "  role: roles/cloudbuild.serviceAgent\n",
      "- members:\n",
      "  - serviceAccount:service-1026793852137@gcf-admin-robot.iam.gserviceaccount.com\n",
      "  role: roles/cloudfunctions.serviceAgent\n",
      "- members:\n",
      "  - serviceAccount:service-1026793852137@gcp-sa-cloudscheduler.iam.gserviceaccount.com\n",
      "  role: roles/cloudscheduler.serviceAgent\n",
      "- members:\n",
      "  - serviceAccount:bqcx-1026793852137-d2h9@gcp-sa-bigquery-condel.iam.gserviceaccount.com\n",
      "  role: roles/cloudtranslate.user\n",
      "- members:\n",
      "  - serviceAccount:service-1026793852137@compute-system.iam.gserviceaccount.com\n",
      "  role: roles/compute.serviceAgent\n",
      "- members:\n",
      "  - serviceAccount:service-1026793852137@gcp-sa-connectors.iam.gserviceaccount.com\n",
      "  role: roles/connectors.serviceAgent\n",
      "- members:\n",
      "  - serviceAccount:service-1026793852137@container-engine-robot.iam.gserviceaccount.com\n",
      "  role: roles/container.serviceAgent\n",
      "- members:\n",
      "  - serviceAccount:service-1026793852137@container-analysis.iam.gserviceaccount.com\n",
      "  role: roles/containeranalysis.ServiceAgent\n",
      "- members:\n",
      "  - serviceAccount:service-1026793852137@containerregistry.iam.gserviceaccount.com\n",
      "  role: roles/containerregistry.ServiceAgent\n",
      "- members:\n",
      "  - serviceAccount:service-1026793852137@dataflow-service-producer-prod.iam.gserviceaccount.com\n",
      "  role: roles/dataflow.serviceAgent\n",
      "- members:\n",
      "  - serviceAccount:service-1026793852137@gcp-sa-dataform.iam.gserviceaccount.com\n",
      "  role: roles/dataform.serviceAgent\n",
      "- members:\n",
      "  - serviceAccount:service-1026793852137@dataproc-accounts.iam.gserviceaccount.com\n",
      "  role: roles/dataproc.serviceAgent\n",
      "- members:\n",
      "  - serviceAccount:service-1026793852137@gcp-sa-dialogflow.iam.gserviceaccount.com\n",
      "  role: roles/dialogflow.serviceAgent\n",
      "- members:\n",
      "  - serviceAccount:service-1026793852137@gcp-sa-discoveryengine.iam.gserviceaccount.com\n",
      "  role: roles/discoveryengine.serviceAgent\n",
      "- members:\n",
      "  - serviceAccount:service-1026793852137@dlp-api.iam.gserviceaccount.com\n",
      "  role: roles/dlp.serviceAgent\n",
      "- members:\n",
      "  - serviceAccount:service-1026793852137@gcp-sa-aiplatform-re.iam.gserviceaccount.com\n",
      "  role: roles/dlp.user\n",
      "- members:\n",
      "  - serviceAccount:service-532015589141@gcp-sa-prod-dai-core.iam.gserviceaccount.com\n",
      "  role: roles/documentai.admin\n",
      "- members:\n",
      "  - serviceAccount:bqcx-1026793852137-te86@gcp-sa-bigquery-condel.iam.gserviceaccount.com\n",
      "  - serviceAccount:service-1026793852137@gcp-sa-aiplatform-re.iam.gserviceaccount.com\n",
      "  - user:wsp@statmike.altostrat.com\n",
      "  role: roles/documentai.apiUser\n",
      "- members:\n",
      "  - serviceAccount:bqcx-1026793852137-te86@gcp-sa-bigquery-condel.iam.gserviceaccount.com\n",
      "  - serviceAccount:bqcx-1026793852137-vk6u@gcp-sa-bigquery-condel.iam.gserviceaccount.com\n",
      "  role: roles/documentai.viewer\n",
      "- members:\n",
      "  - serviceAccount:service-1026793852137@gcp-sa-prod-dai-core.iam.gserviceaccount.com\n",
      "  role: roles/documentaicore.serviceAgent\n",
      "- members:\n",
      "  - serviceAccount:1026793852137@cloudservices.gserviceaccount.com\n",
      "  role: roles/editor\n",
      "- members:\n",
      "  - serviceAccount:service-1026793852137@gcp-sa-eventarc.iam.gserviceaccount.com\n",
      "  role: roles/eventarc.serviceAgent\n",
      "- members:\n",
      "  - serviceAccount:service-1026793852137@firebase-rules.iam.gserviceaccount.com\n",
      "  role: roles/firebaserules.system\n",
      "- members:\n",
      "  - serviceAccount:service-1026793852137@gcp-sa-firestore.iam.gserviceaccount.com\n",
      "  role: roles/firestore.serviceAgent\n",
      "- members:\n",
      "  - serviceAccount:service-1026793852137@gcp-sa-aiplatform-re.iam.gserviceaccount.com\n",
      "  role: roles/geminidataanalytics.dataAgentStatelessUser\n",
      "- members:\n",
      "  - serviceAccount:service-1026793852137@gcp-sa-integrations.iam.gserviceaccount.com\n",
      "  role: roles/iam.serviceAccountUser\n",
      "- members:\n",
      "  - serviceAccount:1026793852137-compute@developer.gserviceaccount.com\n",
      "  role: roles/integrations.integrationInvoker\n",
      "- members:\n",
      "  - serviceAccount:service-1026793852137@gcp-sa-integrations.iam.gserviceaccount.com\n",
      "  role: roles/integrations.serviceAgent\n",
      "- members:\n",
      "  - serviceAccount:service-1026793852137@gcp-sa-networkmanagement.iam.gserviceaccount.com\n",
      "  role: roles/networkmanagement.serviceAgent\n",
      "- members:\n",
      "  - serviceAccount:service-1026793852137@gcp-sa-notebooks.iam.gserviceaccount.com\n",
      "  role: roles/notebooks.serviceAgent\n",
      "- members:\n",
      "  - serviceAccount:service-1026793852137@gcp-sa-oci.iam.gserviceaccount.com\n",
      "  role: roles/oci.serviceAgent\n",
      "- members:\n",
      "  - serviceAccount:1026793852137-compute@developer.gserviceaccount.com\n",
      "  - serviceAccount:1026793852137@cloudservices.gserviceaccount.com\n",
      "  - user:admin@statmike.altostrat.com\n",
      "  role: roles/owner\n",
      "- members:\n",
      "  - serviceAccount:service-1026793852137@gcp-sa-integrations.iam.gserviceaccount.com\n",
      "  role: roles/pubsub.editor\n",
      "- members:\n",
      "  - serviceAccount:service-1026793852137@gcp-sa-pubsub.iam.gserviceaccount.com\n",
      "  role: roles/pubsub.serviceAgent\n",
      "- members:\n",
      "  - serviceAccount:service-1026793852137@cloud-redis.iam.gserviceaccount.com\n",
      "  role: roles/redis.serviceAgent\n",
      "- members:\n",
      "  - serviceAccount:1026793852137-compute@developer.gserviceaccount.com\n",
      "  role: roles/run.admin\n",
      "- members:\n",
      "  - serviceAccount:service-1026793852137@serverless-robot-prod.iam.gserviceaccount.com\n",
      "  role: roles/run.serviceAgent\n",
      "- members:\n",
      "  - serviceAccount:1026793852137-compute@developer.gserviceaccount.com\n",
      "  role: roles/secretmanager.secretAccessor\n",
      "- members:\n",
      "  - serviceAccount:service-1026793852137@service-networking.iam.gserviceaccount.com\n",
      "  role: roles/servicenetworking.serviceAgent\n",
      "- members:\n",
      "  - serviceAccount:bqcx-1026793852137-d2h9@gcp-sa-bigquery-condel.iam.gserviceaccount.com\n",
      "  role: roles/serviceusage.serviceUsageConsumer\n",
      "- members:\n",
      "  - serviceAccount:service-1026793852137@gcp-sa-speech.iam.gserviceaccount.com\n",
      "  role: roles/speech.serviceAgent\n",
      "- members:\n",
      "  - serviceAccount:1026793852137-compute@developer.gserviceaccount.com\n",
      "  role: roles/storage.objectAdmin\n",
      "- members:\n",
      "  - serviceAccount:bqcx-1026793852137-te86@gcp-sa-bigquery-condel.iam.gserviceaccount.com\n",
      "  - serviceAccount:bqcx-1026793852137-vk6u@gcp-sa-bigquery-condel.iam.gserviceaccount.com\n",
      "  role: roles/storage.objectViewer\n",
      "- members:\n",
      "  - user:showvik@statmike.altostrat.com\n",
      "  role: roles/viewer\n",
      "- members:\n",
      "  - serviceAccount:service-1026793852137@gcp-sa-workstations.iam.gserviceaccount.com\n",
      "  role: roles/workstations.serviceAgent\n",
      "etag: BwZBNm3tSGo=\n",
      "version: 1\n"
     ]
    }
   ],
   "source": [
    "!gcloud projects add-iam-policy-binding {project_number} --member=\"serviceAccount:{service_account_id}\" --role=\"roles/cloudaicompanion.user\""
   ]
  },
  {
   "cell_type": "code",
   "execution_count": 33,
   "id": "a1dd5b23",
   "metadata": {},
   "outputs": [
    {
     "name": "stderr",
     "output_type": "stream",
     "text": [
      "I0000 00:00:1760539831.582533 1885971 fork_posix.cc:71] Other threads are currently calling into gRPC, skipping fork() handlers\n"
     ]
    },
    {
     "name": "stdout",
     "output_type": "stream",
     "text": [
      "Updated IAM policy for project [1026793852137].\n",
      "bindings:\n",
      "- members:\n",
      "  - serviceAccount:service-1026793852137@gcp-sa-vertex-bp.iam.gserviceaccount.com\n",
      "  role: roles/aiplatform.batchPredictionServiceAgent\n",
      "- members:\n",
      "  - serviceAccount:service-1026793852137@gcp-sa-vertex-nb.iam.gserviceaccount.com\n",
      "  role: roles/aiplatform.colabServiceAgent\n",
      "- members:\n",
      "  - serviceAccount:service-1026793852137@gcp-sa-aiplatform-cc.iam.gserviceaccount.com\n",
      "  role: roles/aiplatform.customCodeServiceAgent\n",
      "- members:\n",
      "  - serviceAccount:service-1026793852137@gcp-sa-aiplatform.iam.gserviceaccount.com\n",
      "  role: roles/aiplatform.featurestoreDataViewer\n",
      "- members:\n",
      "  - serviceAccount:service-1026793852137@gcp-sa-vertex-mm.iam.gserviceaccount.com\n",
      "  role: roles/aiplatform.modelMonitoringServiceAgent\n",
      "- members:\n",
      "  - serviceAccount:service-1026793852137@gcp-sa-aiplatform-vm.iam.gserviceaccount.com\n",
      "  role: roles/aiplatform.notebookServiceAgent\n",
      "- members:\n",
      "  - serviceAccount:service-1026793852137@gcp-sa-vertex-op.iam.gserviceaccount.com\n",
      "  role: roles/aiplatform.onlinePredictionServiceAgent\n",
      "- members:\n",
      "  - serviceAccount:service-1026793852137@gcp-sa-vertex-rag.iam.gserviceaccount.com\n",
      "  role: roles/aiplatform.ragServiceAgent\n",
      "- members:\n",
      "  - serviceAccount:service-1026793852137@gcp-sa-vertex-eval.iam.gserviceaccount.com\n",
      "  role: roles/aiplatform.rapidevalServiceAgent\n",
      "- members:\n",
      "  - serviceAccount:service-1026793852137@gcp-sa-aiplatform-re.iam.gserviceaccount.com\n",
      "  role: roles/aiplatform.reasoningEngineServiceAgent\n",
      "- members:\n",
      "  - serviceAccount:service-1026793852137@gcp-sa-aiplatform.iam.gserviceaccount.com\n",
      "  role: roles/aiplatform.serviceAgent\n",
      "- members:\n",
      "  - serviceAccount:1026793852137-compute@developer.gserviceaccount.com\n",
      "  - serviceAccount:bqcx-1026793852137-bmph@gcp-sa-bigquery-condel.iam.gserviceaccount.com\n",
      "  - serviceAccount:bqcx-1026793852137-d2h9@gcp-sa-bigquery-condel.iam.gserviceaccount.com\n",
      "  - serviceAccount:bqcx-1026793852137-dyw1@gcp-sa-bigquery-condel.iam.gserviceaccount.com\n",
      "  - serviceAccount:bqcx-1026793852137-pdxa@gcp-sa-bigquery-condel.iam.gserviceaccount.com\n",
      "  - serviceAccount:bqcx-1026793852137-te86@gcp-sa-bigquery-condel.iam.gserviceaccount.com\n",
      "  - serviceAccount:bqcx-1026793852137-tqpc@gcp-sa-bigquery-condel.iam.gserviceaccount.com\n",
      "  - serviceAccount:bqcx-1026793852137-vk6u@gcp-sa-bigquery-condel.iam.gserviceaccount.com\n",
      "  - serviceAccount:bqcx-1026793852137-zfly@gcp-sa-bigquery-condel.iam.gserviceaccount.com\n",
      "  - user:statmike2@statmike.altostrat.com\n",
      "  - user:wsp@statmike.altostrat.com\n",
      "  role: roles/aiplatform.user\n",
      "- members:\n",
      "  - serviceAccount:service-1026793852137@gcp-sa-alloydb.iam.gserviceaccount.com\n",
      "  role: roles/alloydb.serviceAgent\n",
      "- members:\n",
      "  - serviceAccount:service-1026793852137@gcp-sa-artifactregistry.iam.gserviceaccount.com\n",
      "  role: roles/artifactregistry.serviceAgent\n",
      "- members:\n",
      "  - serviceAccount:1026793852137-compute@developer.gserviceaccount.com\n",
      "  role: roles/bigquery.admin\n",
      "- members:\n",
      "  - serviceAccount:1026793852137@cloudservices.gserviceaccount.com\n",
      "  role: roles/bigquery.dataOwner\n",
      "- members:\n",
      "  - serviceAccount:service-1026793852137@gcp-sa-aiplatform-re.iam.gserviceaccount.com\n",
      "  - user:wsp@statmike.altostrat.com\n",
      "  role: roles/bigquery.dataViewer\n",
      "- members:\n",
      "  - serviceAccount:service-1026793852137@gcp-sa-aiplatform-re.iam.gserviceaccount.com\n",
      "  - user:wsp@statmike.altostrat.com\n",
      "  role: roles/bigquery.jobUser\n",
      "- members:\n",
      "  - serviceAccount:service-1026793852137@gcp-sa-bigquerydatatransfer.iam.gserviceaccount.com\n",
      "  role: roles/bigquerydatatransfer.serviceAgent\n",
      "- members:\n",
      "  - serviceAccount:service-1026793852137@gcp-sa-binaryauthorization.iam.gserviceaccount.com\n",
      "  role: roles/binaryauthorization.serviceAgent\n",
      "- members:\n",
      "  - serviceAccount:service-1026793852137@gcp-sa-cloudaicompanion.iam.gserviceaccount.com\n",
      "  role: roles/cloudaicompanion.serviceAgent\n",
      "- members:\n",
      "  - serviceAccount:1026793852137@cloudbuild.gserviceaccount.com\n",
      "  role: roles/cloudbuild.builds.builder\n",
      "- members:\n",
      "  - serviceAccount:service-1026793852137@gcp-sa-cloudbuild.iam.gserviceaccount.com\n",
      "  role: roles/cloudbuild.serviceAgent\n",
      "- members:\n",
      "  - serviceAccount:service-1026793852137@gcf-admin-robot.iam.gserviceaccount.com\n",
      "  role: roles/cloudfunctions.serviceAgent\n",
      "- members:\n",
      "  - serviceAccount:service-1026793852137@gcp-sa-cloudscheduler.iam.gserviceaccount.com\n",
      "  role: roles/cloudscheduler.serviceAgent\n",
      "- members:\n",
      "  - serviceAccount:bqcx-1026793852137-d2h9@gcp-sa-bigquery-condel.iam.gserviceaccount.com\n",
      "  role: roles/cloudtranslate.user\n",
      "- members:\n",
      "  - serviceAccount:service-1026793852137@compute-system.iam.gserviceaccount.com\n",
      "  role: roles/compute.serviceAgent\n",
      "- members:\n",
      "  - serviceAccount:service-1026793852137@gcp-sa-connectors.iam.gserviceaccount.com\n",
      "  role: roles/connectors.serviceAgent\n",
      "- members:\n",
      "  - serviceAccount:service-1026793852137@container-engine-robot.iam.gserviceaccount.com\n",
      "  role: roles/container.serviceAgent\n",
      "- members:\n",
      "  - serviceAccount:service-1026793852137@container-analysis.iam.gserviceaccount.com\n",
      "  role: roles/containeranalysis.ServiceAgent\n",
      "- members:\n",
      "  - serviceAccount:service-1026793852137@containerregistry.iam.gserviceaccount.com\n",
      "  role: roles/containerregistry.ServiceAgent\n",
      "- members:\n",
      "  - serviceAccount:service-1026793852137@dataflow-service-producer-prod.iam.gserviceaccount.com\n",
      "  role: roles/dataflow.serviceAgent\n",
      "- members:\n",
      "  - serviceAccount:service-1026793852137@gcp-sa-dataform.iam.gserviceaccount.com\n",
      "  role: roles/dataform.serviceAgent\n",
      "- members:\n",
      "  - serviceAccount:service-1026793852137@dataproc-accounts.iam.gserviceaccount.com\n",
      "  role: roles/dataproc.serviceAgent\n",
      "- members:\n",
      "  - serviceAccount:service-1026793852137@gcp-sa-dialogflow.iam.gserviceaccount.com\n",
      "  role: roles/dialogflow.serviceAgent\n",
      "- members:\n",
      "  - serviceAccount:service-1026793852137@gcp-sa-discoveryengine.iam.gserviceaccount.com\n",
      "  role: roles/discoveryengine.serviceAgent\n",
      "- members:\n",
      "  - serviceAccount:service-1026793852137@dlp-api.iam.gserviceaccount.com\n",
      "  role: roles/dlp.serviceAgent\n",
      "- members:\n",
      "  - serviceAccount:service-1026793852137@gcp-sa-aiplatform-re.iam.gserviceaccount.com\n",
      "  role: roles/dlp.user\n",
      "- members:\n",
      "  - serviceAccount:service-532015589141@gcp-sa-prod-dai-core.iam.gserviceaccount.com\n",
      "  role: roles/documentai.admin\n",
      "- members:\n",
      "  - serviceAccount:bqcx-1026793852137-te86@gcp-sa-bigquery-condel.iam.gserviceaccount.com\n",
      "  - serviceAccount:service-1026793852137@gcp-sa-aiplatform-re.iam.gserviceaccount.com\n",
      "  - user:wsp@statmike.altostrat.com\n",
      "  role: roles/documentai.apiUser\n",
      "- members:\n",
      "  - serviceAccount:bqcx-1026793852137-te86@gcp-sa-bigquery-condel.iam.gserviceaccount.com\n",
      "  - serviceAccount:bqcx-1026793852137-vk6u@gcp-sa-bigquery-condel.iam.gserviceaccount.com\n",
      "  role: roles/documentai.viewer\n",
      "- members:\n",
      "  - serviceAccount:service-1026793852137@gcp-sa-prod-dai-core.iam.gserviceaccount.com\n",
      "  role: roles/documentaicore.serviceAgent\n",
      "- members:\n",
      "  - serviceAccount:1026793852137@cloudservices.gserviceaccount.com\n",
      "  role: roles/editor\n",
      "- members:\n",
      "  - serviceAccount:service-1026793852137@gcp-sa-eventarc.iam.gserviceaccount.com\n",
      "  role: roles/eventarc.serviceAgent\n",
      "- members:\n",
      "  - serviceAccount:service-1026793852137@firebase-rules.iam.gserviceaccount.com\n",
      "  role: roles/firebaserules.system\n",
      "- members:\n",
      "  - serviceAccount:service-1026793852137@gcp-sa-firestore.iam.gserviceaccount.com\n",
      "  role: roles/firestore.serviceAgent\n",
      "- members:\n",
      "  - serviceAccount:service-1026793852137@gcp-sa-aiplatform-re.iam.gserviceaccount.com\n",
      "  role: roles/geminidataanalytics.dataAgentStatelessUser\n",
      "- members:\n",
      "  - serviceAccount:service-1026793852137@gcp-sa-integrations.iam.gserviceaccount.com\n",
      "  role: roles/iam.serviceAccountUser\n",
      "- members:\n",
      "  - serviceAccount:1026793852137-compute@developer.gserviceaccount.com\n",
      "  role: roles/integrations.integrationInvoker\n",
      "- members:\n",
      "  - serviceAccount:service-1026793852137@gcp-sa-integrations.iam.gserviceaccount.com\n",
      "  role: roles/integrations.serviceAgent\n",
      "- members:\n",
      "  - serviceAccount:service-1026793852137@gcp-sa-networkmanagement.iam.gserviceaccount.com\n",
      "  role: roles/networkmanagement.serviceAgent\n",
      "- members:\n",
      "  - serviceAccount:service-1026793852137@gcp-sa-notebooks.iam.gserviceaccount.com\n",
      "  role: roles/notebooks.serviceAgent\n",
      "- members:\n",
      "  - serviceAccount:service-1026793852137@gcp-sa-oci.iam.gserviceaccount.com\n",
      "  role: roles/oci.serviceAgent\n",
      "- members:\n",
      "  - serviceAccount:1026793852137-compute@developer.gserviceaccount.com\n",
      "  - serviceAccount:1026793852137@cloudservices.gserviceaccount.com\n",
      "  - user:admin@statmike.altostrat.com\n",
      "  role: roles/owner\n",
      "- members:\n",
      "  - serviceAccount:service-1026793852137@gcp-sa-integrations.iam.gserviceaccount.com\n",
      "  role: roles/pubsub.editor\n",
      "- members:\n",
      "  - serviceAccount:service-1026793852137@gcp-sa-pubsub.iam.gserviceaccount.com\n",
      "  role: roles/pubsub.serviceAgent\n",
      "- members:\n",
      "  - serviceAccount:service-1026793852137@cloud-redis.iam.gserviceaccount.com\n",
      "  role: roles/redis.serviceAgent\n",
      "- members:\n",
      "  - serviceAccount:1026793852137-compute@developer.gserviceaccount.com\n",
      "  role: roles/run.admin\n",
      "- members:\n",
      "  - serviceAccount:service-1026793852137@serverless-robot-prod.iam.gserviceaccount.com\n",
      "  role: roles/run.serviceAgent\n",
      "- members:\n",
      "  - serviceAccount:1026793852137-compute@developer.gserviceaccount.com\n",
      "  role: roles/secretmanager.secretAccessor\n",
      "- members:\n",
      "  - serviceAccount:service-1026793852137@service-networking.iam.gserviceaccount.com\n",
      "  role: roles/servicenetworking.serviceAgent\n",
      "- members:\n",
      "  - serviceAccount:bqcx-1026793852137-d2h9@gcp-sa-bigquery-condel.iam.gserviceaccount.com\n",
      "  role: roles/serviceusage.serviceUsageConsumer\n",
      "- members:\n",
      "  - serviceAccount:service-1026793852137@gcp-sa-speech.iam.gserviceaccount.com\n",
      "  role: roles/speech.serviceAgent\n",
      "- members:\n",
      "  - serviceAccount:1026793852137-compute@developer.gserviceaccount.com\n",
      "  role: roles/storage.objectAdmin\n",
      "- members:\n",
      "  - serviceAccount:bqcx-1026793852137-te86@gcp-sa-bigquery-condel.iam.gserviceaccount.com\n",
      "  - serviceAccount:bqcx-1026793852137-vk6u@gcp-sa-bigquery-condel.iam.gserviceaccount.com\n",
      "  role: roles/storage.objectViewer\n",
      "- members:\n",
      "  - user:showvik@statmike.altostrat.com\n",
      "  role: roles/viewer\n",
      "- members:\n",
      "  - serviceAccount:service-1026793852137@gcp-sa-workstations.iam.gserviceaccount.com\n",
      "  role: roles/workstations.serviceAgent\n",
      "etag: BwZBM59oZ1o=\n",
      "version: 1\n"
     ]
    }
   ],
   "source": [
    "!gcloud projects add-iam-policy-binding {project_number} --member=\"serviceAccount:{service_account_id}\" --role=\"roles/bigquery.dataViewer\""
   ]
  },
  {
   "cell_type": "code",
   "execution_count": 37,
   "id": "84d52505",
   "metadata": {},
   "outputs": [
    {
     "name": "stderr",
     "output_type": "stream",
     "text": [
      "I0000 00:00:1760551895.837654 1885971 fork_posix.cc:71] Other threads are currently calling into gRPC, skipping fork() handlers\n"
     ]
    },
    {
     "name": "stdout",
     "output_type": "stream",
     "text": [
      "ROLE\n",
      "roles/aiplatform.reasoningEngineServiceAgent\n",
      "roles/bigquery.dataViewer\n",
      "roles/bigquery.jobUser\n",
      "roles/cloudaicompanion.user\n",
      "roles/dlp.user\n",
      "roles/documentai.apiUser\n",
      "roles/geminidataanalytics.dataAgentStatelessUser\n"
     ]
    }
   ],
   "source": [
    "!gcloud projects get-iam-policy {project_number} --flatten=\"bindings\" --format=\"table(bindings.role)\" --filter=\"bindings.members:'{service_account_id}'\""
   ]
  },
  {
   "cell_type": "markdown",
   "id": "114ffc7f",
   "metadata": {},
   "source": [
    "---\n",
    "## Delete Deployed Agent"
   ]
  },
  {
   "cell_type": "code",
   "execution_count": 35,
   "id": "342fb378",
   "metadata": {},
   "outputs": [],
   "source": [
    "delete_app = False\n",
    "\n",
    "if delete_app and remote_app:\n",
    "    task = agent_engines.delete(\n",
    "        resource_name = remote_app.resource_name,\n",
    "        force = True\n",
    "    )"
   ]
  },
  {
   "cell_type": "markdown",
   "id": "e18c5b1e",
   "metadata": {},
   "source": [
    "---\n",
    "## Use The Deployed Agent\n",
    "\n",
    "For examples of interacting with the deployed agent using both the Vertex AI SDK and REST go to this companion workflow: [use-vertex-ai-agent-engine](./use-vertex-ai-agent-engine.ipynb)"
   ]
  }
 ],
 "metadata": {
  "kernelspec": {
   "display_name": "Python (concept-bq)",
   "language": "python",
   "name": "concept-bq"
  },
  "language_info": {
   "codemirror_mode": {
    "name": "ipython",
    "version": 3
   },
   "file_extension": ".py",
   "mimetype": "text/x-python",
   "name": "python",
   "nbconvert_exporter": "python",
   "pygments_lexer": "ipython3",
   "version": "3.13.3"
  }
 },
 "nbformat": 4,
 "nbformat_minor": 5
}
