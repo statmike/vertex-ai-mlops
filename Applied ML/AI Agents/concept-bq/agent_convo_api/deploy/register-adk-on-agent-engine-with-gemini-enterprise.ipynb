{
 "cells": [
  {
   "cell_type": "markdown",
   "id": "131e3811",
   "metadata": {},
   "source": [
    "![tracker](https://us-central1-vertex-ai-mlops-369716.cloudfunctions.net/pixel-tracking?path=statmike%2Fvertex-ai-mlops%2FApplied+ML%2FAI+Agents%2Fconcept-bq%2Fagent_convo_api%2Fdeploy&file=register-adk-on-agent-engine-with-gemini-enterprise.ipynb)\n",
    "<!--- header table --->\n",
    "<table align=\"left\">\n",
    "<tr>\n",
    "  <td style=\"text-align: center\">\n",
    "    <a href=\"https://github.com/statmike/vertex-ai-mlops/blob/main/Applied%20ML/AI%20Agents/concept-bq/agent_convo_api/deploy/register-adk-on-agent-engine-with-gemini-enterprise.ipynb\">\n",
    "      <img width=\"32px\" src=\"https://www.svgrepo.com/download/217753/github.svg\" alt=\"GitHub logo\">\n",
    "      <br>View on<br>GitHub\n",
    "    </a>\n",
    "  </td>\n",
    "  <td style=\"text-align: center\">\n",
    "    <a href=\"https://colab.research.google.com/github/statmike/vertex-ai-mlops/blob/main/Applied%20ML/AI%20Agents/concept-bq/agent_convo_api/deploy/register-adk-on-agent-engine-with-gemini-enterprise.ipynb\">\n",
    "      <img width=\"32px\" src=\"https://www.gstatic.com/pantheon/images/bigquery/welcome_page/colab-logo.svg\" alt=\"Google Colaboratory logo\">\n",
    "      <br>Run in<br>Colab\n",
    "    </a>\n",
    "  </td>\n",
    "  <td style=\"text-align: center\">\n",
    "    <a href=\"https://console.cloud.google.com/vertex-ai/colab/import/https%3A%2F%2Fraw.githubusercontent.com%2Fstatmike%2Fvertex-ai-mlops%2Fmain%2FApplied%2520ML%2FAI%2520Agents%2Fconcept-bq%2Fagent_convo_api%2Fdeploy%2Fregister-adk-on-agent-engine-with-gemini-enterprise.ipynb\">\n",
    "      <img width=\"32px\" src=\"https://lh3.googleusercontent.com/JmcxdQi-qOpctIvWKgPtrzZdJJK-J3sWE1RsfjZNwshCFgE_9fULcNpuXYTilIR2hjwN\" alt=\"Google Cloud Colab Enterprise logo\">\n",
    "      <br>Run in<br>Colab Enterprise\n",
    "    </a>\n",
    "  </td>      \n",
    "  <td style=\"text-align: center\">\n",
    "    <a href=\"https://console.cloud.google.com/bigquery/import?url=https://github.com/statmike/vertex-ai-mlops/blob/main/Applied%20ML/AI%20Agents/concept-bq/agent_convo_api/deploy/register-adk-on-agent-engine-with-gemini-enterprise.ipynb\">\n",
    "      <img width=\"32px\" src=\"https://www.gstatic.com/images/branding/gcpiconscolors/bigquery/v1/32px.svg\" alt=\"BigQuery logo\">\n",
    "      <br>Open in<br>BigQuery Studio\n",
    "    </a>\n",
    "  </td>\n",
    "  <td style=\"text-align: center\">\n",
    "    <a href=\"https://console.cloud.google.com/vertex-ai/workbench/deploy-notebook?download_url=https://raw.githubusercontent.com/statmike/vertex-ai-mlops/main/Applied%20ML/AI%20Agents/concept-bq/agent_convo_api/deploy/register-adk-on-agent-engine-with-gemini-enterprise.ipynb\">\n",
    "      <img width=\"32px\" src=\"https://www.gstatic.com/images/branding/gcpiconscolors/vertexai/v1/32px.svg\" alt=\"Vertex AI logo\">\n",
    "      <br>Open in<br>Vertex AI Workbench\n",
    "    </a>\n",
    "  </td>\n",
    "</tr>\n",
    "<tr>\n",
    "  <td colspan=\"5\" style=\"text-align: right\">\n",
    "    <b>Share This On: </b> \n",
    "    <a href=\"https://www.linkedin.com/sharing/share-offsite/?url=https://github.com/statmike/vertex-ai-mlops/blob/main/Applied%2520ML/AI%2520Agents/concept-bq/agent_convo_api/deploy/register-adk-on-agent-engine-with-gemini-enterprise.ipynb\"><img src=\"https://upload.wikimedia.org/wikipedia/commons/8/81/LinkedIn_icon.svg\" alt=\"Linkedin Logo\" width=\"20px\"></a> \n",
    "    <a href=\"https://reddit.com/submit?url=https://github.com/statmike/vertex-ai-mlops/blob/main/Applied%2520ML/AI%2520Agents/concept-bq/agent_convo_api/deploy/register-adk-on-agent-engine-with-gemini-enterprise.ipynb\"><img src=\"https://redditinc.com/hubfs/Reddit%20Inc/Brand/Reddit_Logo.png\" alt=\"Reddit Logo\" width=\"20px\"></a> \n",
    "    <a href=\"https://bsky.app/intent/compose?text=https://github.com/statmike/vertex-ai-mlops/blob/main/Applied%2520ML/AI%2520Agents/concept-bq/agent_convo_api/deploy/register-adk-on-agent-engine-with-gemini-enterprise.ipynb\"><img src=\"https://upload.wikimedia.org/wikipedia/commons/7/7a/Bluesky_Logo.svg\" alt=\"BlueSky Logo\" width=\"20px\"></a> \n",
    "    <a href=\"https://twitter.com/intent/tweet?url=https://github.com/statmike/vertex-ai-mlops/blob/main/Applied%2520ML/AI%2520Agents/concept-bq/agent_convo_api/deploy/register-adk-on-agent-engine-with-gemini-enterprise.ipynb\"><img src=\"https://upload.wikimedia.org/wikipedia/commons/5/5a/X_icon_2.svg\" alt=\"X (Twitter) Logo\" width=\"20px\"></a> \n",
    "  </td>\n",
    "</tr>\n",
    "<tr>\n",
    "  <td colspan=\"5\" style=\"text-align: right\">\n",
    "    <b>Connect With Author On: </b> \n",
    "    <a href=\"https://www.linkedin.com/in/statmike\"><img src=\"https://upload.wikimedia.org/wikipedia/commons/8/81/LinkedIn_icon.svg\" alt=\"Linkedin Logo\" width=\"20px\"></a>\n",
    "    <a href=\"https://www.github.com/statmike\"><img src=\"https://www.svgrepo.com/download/217753/github.svg\" alt=\"GitHub Logo\" width=\"20px\"></a> \n",
    "    <a href=\"https://www.youtube.com/@statmike-channel\"><img src=\"https://upload.wikimedia.org/wikipedia/commons/f/fd/YouTube_full-color_icon_%282024%29.svg\" alt=\"YouTube Logo\" width=\"20px\"></a>\n",
    "    <a href=\"https://bsky.app/profile/statmike.bsky.social\"><img src=\"https://upload.wikimedia.org/wikipedia/commons/7/7a/Bluesky_Logo.svg\" alt=\"BlueSky Logo\" width=\"20px\"></a> \n",
    "    <a href=\"https://x.com/statmike\"><img src=\"https://upload.wikimedia.org/wikipedia/commons/5/5a/X_icon_2.svg\" alt=\"X (Twitter) Logo\" width=\"20px\"></a>\n",
    "  </td>\n",
    "</tr>\n",
    "</table>"
   ]
  },
  {
   "cell_type": "markdown",
   "metadata": {},
   "source": [
    "# Register ADK Agent On Vertex AI Agent Engine With Gemini Enterprise\n",
    "\n",
    "This notebook registers a deployed ADK agent with Gemini Enterprise (formerly known as Agentspace), making it available in the Gemini Enterprise interface.\n",
    "\n",
    "**Prerequisites:**\n",
    "- Agent must be deployed using [deploy-vertex-ai-agent-engine.ipynb](./deploy-vertex-ai-agent-engine.ipynb)\n",
    "- `deployment.json` file exists in this folder with the deployment resource ID\n",
    "- Gemini Enterprise must be enabled in your Google Cloud project"
   ]
  },
  {
   "cell_type": "markdown",
   "metadata": {},
   "source": [
    "## Package Imports"
   ]
  },
  {
   "cell_type": "code",
   "execution_count": 1,
   "metadata": {},
   "outputs": [],
   "source": [
    "import os\n",
    "import subprocess\n",
    "import json\n",
    "from pathlib import Path\n",
    "from datetime import datetime\n",
    "\n",
    "import dotenv\n",
    "import requests\n",
    "from vertexai import agent_engines"
   ]
  },
  {
   "cell_type": "markdown",
   "metadata": {},
   "source": [
    "## Auto-Configure Paths"
   ]
  },
  {
   "cell_type": "code",
   "execution_count": 2,
   "metadata": {},
   "outputs": [
    {
     "name": "stdout",
     "output_type": "stream",
     "text": [
      "Deploy folder: /usr/local/google/home/statmike/Git/vertex-ai-mlops/Applied ML/AI Agents/concept-bq/agent_convo_api/deploy\n",
      "Agent folder: /usr/local/google/home/statmike/Git/vertex-ai-mlops/Applied ML/AI Agents/concept-bq/agent_convo_api\n",
      "Project root: /usr/local/google/home/statmike/Git/vertex-ai-mlops/Applied ML/AI Agents/concept-bq\n",
      "Agent name: agent_convo_api\n"
     ]
    }
   ],
   "source": [
    "# Get current directory (should be agent_name/deploy/)\n",
    "deploy_folder = Path.cwd()\n",
    "agent_folder = deploy_folder.parent\n",
    "project_root = agent_folder.parent\n",
    "\n",
    "# Extract agent name from folder structure\n",
    "agent_name = agent_folder.name\n",
    "\n",
    "print(f\"Deploy folder: {deploy_folder}\")\n",
    "print(f\"Agent folder: {agent_folder}\")\n",
    "print(f\"Project root: {project_root}\")\n",
    "print(f\"Agent name: {agent_name}\")"
   ]
  },
  {
   "cell_type": "markdown",
   "metadata": {},
   "source": [
    "## Get Google Cloud Project Information"
   ]
  },
  {
   "cell_type": "code",
   "execution_count": 3,
   "metadata": {},
   "outputs": [
    {
     "name": "stdout",
     "output_type": "stream",
     "text": [
      "\n",
      "==================================================\n",
      "Google Cloud Project Information\n",
      "==================================================\n",
      "PROJECT_ID     = statmike-mlops-349915\n",
      "PROJECT_NUMBER = 1026793852137\n",
      "==================================================\n",
      "\n"
     ]
    }
   ],
   "source": [
    "# Get project ID and number from gcloud\n",
    "PROJECT_ID = subprocess.run(\n",
    "    ['gcloud', 'config', 'get-value', 'project'],\n",
    "    capture_output=True,\n",
    "    text=True,\n",
    "    check=True\n",
    ").stdout.strip()\n",
    "\n",
    "PROJECT_NUMBER = subprocess.run(\n",
    "    ['gcloud', 'projects', 'describe', PROJECT_ID, '--format=value(projectNumber)'],\n",
    "    capture_output=True,\n",
    "    text=True,\n",
    "    check=True\n",
    ").stdout.strip()\n",
    "\n",
    "print(f\"\\n{'='*50}\")\n",
    "print(\"Google Cloud Project Information\")\n",
    "print(f\"{'='*50}\")\n",
    "print(f\"PROJECT_ID     = {PROJECT_ID}\")\n",
    "print(f\"PROJECT_NUMBER = {PROJECT_NUMBER}\")\n",
    "print(f\"{'='*50}\\n\")"
   ]
  },
  {
   "cell_type": "markdown",
   "metadata": {},
   "source": [
    "## Load Deployment Metadata\n",
    "\n",
    "Get the deployed agent's information from `deployment.json`."
   ]
  },
  {
   "cell_type": "code",
   "execution_count": 4,
   "metadata": {},
   "outputs": [
    {
     "name": "stdout",
     "output_type": "stream",
     "text": [
      "Deployment Resource ID: projects/statmike-mlops-349915/locations/us-central1/reasoningEngines/6919838002059411456\n"
     ]
    }
   ],
   "source": [
    "deployment_file = deploy_folder / 'deployment.json'\n",
    "\n",
    "if not deployment_file.exists():\n",
    "    raise FileNotFoundError(\n",
    "        f\"Deployment metadata not found at {deployment_file}. \"\n",
    "        \"Please deploy the agent first using deploy-vertex-ai-agent-engine.ipynb\"\n",
    "    )\n",
    "\n",
    "with open(deployment_file, 'r') as f:\n",
    "    deployment_metadata = json.load(f)\n",
    "\n",
    "current_deployment = deployment_metadata.get('resource_id')\n",
    "\n",
    "if not current_deployment:\n",
    "    raise ValueError(\"No deployment resource_id found in deployment.json\")\n",
    "\n",
    "print(f\"Deployment Resource ID: {current_deployment}\")"
   ]
  },
  {
   "cell_type": "markdown",
   "metadata": {},
   "source": [
    "## Get ADK Agent on Vertex AI Agent Engine"
   ]
  },
  {
   "cell_type": "code",
   "execution_count": 5,
   "metadata": {},
   "outputs": [
    {
     "name": "stdout",
     "output_type": "stream",
     "text": [
      "✓ Connected to deployed agent: projects/statmike-mlops-349915/locations/us-central1/reasoningEngines/6919838002059411456\n"
     ]
    }
   ],
   "source": [
    "try:\n",
    "    remote_app = agent_engines.get(resource_name=current_deployment)\n",
    "    print(f\"✓ Connected to deployed agent: {remote_app.resource_name}\")\n",
    "except Exception as e:\n",
    "    raise RuntimeError(f\"Failed to connect to deployed agent: {e}\")"
   ]
  },
  {
   "cell_type": "code",
   "execution_count": 6,
   "metadata": {},
   "outputs": [
    {
     "data": {
      "text/plain": [
       "'projects/statmike-mlops-349915/locations/us-central1/reasoningEngines/6919838002059411456'"
      ]
     },
     "execution_count": 6,
     "metadata": {},
     "output_type": "execute_result"
    }
   ],
   "source": [
    "remote_app.resource_name"
   ]
  },
  {
   "cell_type": "code",
   "execution_count": 7,
   "metadata": {},
   "outputs": [
    {
     "data": {
      "text/plain": [
       "'agent_convo_api'"
      ]
     },
     "execution_count": 7,
     "metadata": {},
     "output_type": "execute_result"
    }
   ],
   "source": [
    "remote_app.display_name"
   ]
  },
  {
   "cell_type": "code",
   "execution_count": 8,
   "metadata": {},
   "outputs": [
    {
     "data": {
      "text/plain": [
       "'An agent that can answer questions about BigQuery data using the Conversational Analytics API.'"
      ]
     },
     "execution_count": 8,
     "metadata": {},
     "output_type": "execute_result"
    }
   ],
   "source": [
    "remote_app.to_dict()['description']"
   ]
  },
  {
   "cell_type": "markdown",
   "metadata": {},
   "source": [
    "## Configure Gemini Enterprise Settings\n",
    "\n",
    "**IMPORTANT:** You need to update the `APP_ID` below with your Gemini Enterprise app ID.\n",
    "\n",
    "To find your app ID:\n",
    "1. Go to [Gemini Enterprise Console](https://console.cloud.google.com/gen-app-builder/)\n",
    "2. Select your app\n",
    "3. The app ID is in the URL or app details\n",
    "\n",
    "The location is typically `global` for Gemini Enterprise."
   ]
  },
  {
   "cell_type": "code",
   "execution_count": 9,
   "metadata": {},
   "outputs": [
    {
     "name": "stdout",
     "output_type": "stream",
     "text": [
      "Location: global\n",
      "Agent Display Name: agent_convo_api\n",
      "Agent Description: An agent that can answer questions about BigQuery data using the Conversational Analytics API.\n",
      "App ID: enterprise-search-17381091_1738109128316\n"
     ]
    }
   ],
   "source": [
    "LOCATION = \"global\"  # Or your specific location\n",
    "AGENT_DISPLAY_NAME = remote_app.display_name\n",
    "AGENT_DESCRIPTION = remote_app.to_dict()['description']\n",
    "\n",
    "# UPDATE THIS with your Gemini Enterprise app ID\n",
    "APP_ID = \"enterprise-search-17381091_1738109128316\"  # e.g., \"enterprise-search-17381091_1738109128316\"\n",
    "\n",
    "if APP_ID == \"YOUR_GEMINI_ENTERPRISE_APP_ID\":\n",
    "    raise ValueError(\n",
    "        \"Please update APP_ID with your actual Gemini Enterprise app ID. \"\n",
    "        \"See the markdown cell above for instructions.\"\n",
    "    )\n",
    "\n",
    "print(f\"Location: {LOCATION}\")\n",
    "print(f\"Agent Display Name: {AGENT_DISPLAY_NAME}\")\n",
    "print(f\"Agent Description: {AGENT_DESCRIPTION}\")\n",
    "print(f\"App ID: {APP_ID}\")"
   ]
  },
  {
   "cell_type": "markdown",
   "metadata": {},
   "source": [
    "## Check for Existing Registration\n",
    "\n",
    "List all agents in Gemini Enterprise and check if one with the same display name already exists."
   ]
  },
  {
   "cell_type": "code",
   "execution_count": 10,
   "metadata": {},
   "outputs": [
    {
     "name": "stdout",
     "output_type": "stream",
     "text": [
      "Listing agents at: https://discoveryengine.googleapis.com/v1alpha/projects/1026793852137/locations/global/collections/default_collection/engines/enterprise-search-17381091_1738109128316/assistants/default_assistant/agents\n",
      "Status Code: 200\n",
      "\n",
      "Found 6 agent(s) in Gemini Enterprise\n",
      "\n",
      "✓ Found existing agent: projects/1026793852137/locations/global/collections/default_collection/engines/enterprise-search-17381091_1738109128316/assistants/default_assistant/agents/18337555184602126877\n"
     ]
    }
   ],
   "source": [
    "# Get access token\n",
    "access_token = subprocess.check_output(\n",
    "    ['gcloud', 'auth', 'print-access-token'],\n",
    "    text=True\n",
    ").strip()\n",
    "\n",
    "# List all agents in this Gemini Enterprise app\n",
    "list_url = (\n",
    "    f\"https://discoveryengine.googleapis.com/v1alpha/\"\n",
    "    f\"projects/{PROJECT_NUMBER}/locations/{LOCATION}/\"\n",
    "    f\"collections/default_collection/engines/{APP_ID}/\"\n",
    "    f\"assistants/default_assistant/agents\"\n",
    ")\n",
    "\n",
    "print(f\"Listing agents at: {list_url}\")\n",
    "\n",
    "list_response = requests.get(\n",
    "    url=list_url,\n",
    "    headers={\n",
    "        \"Authorization\": f\"Bearer {access_token}\",\n",
    "        \"Content-Type\": \"application/json\",\n",
    "        \"X-Goog-User-Project\": PROJECT_NUMBER\n",
    "    },\n",
    ")\n",
    "\n",
    "print(f\"Status Code: {list_response.status_code}\")\n",
    "\n",
    "if list_response.status_code != 200:\n",
    "    print(f\"Failed to list agents: {list_response.text}\")\n",
    "    raise RuntimeError(f\"Failed to list agents: {list_response.text}\")\n",
    "\n",
    "# Check if our agent already exists\n",
    "agents = list_response.json().get('agents', [])\n",
    "print(f\"\\nFound {len(agents)} agent(s) in Gemini Enterprise\")\n",
    "\n",
    "existing_agent = None\n",
    "for agent in agents:\n",
    "    if agent.get('displayName') == AGENT_DISPLAY_NAME:\n",
    "        existing_agent = agent\n",
    "        print(f\"\\n✓ Found existing agent: {agent['name']}\")\n",
    "        break\n",
    "\n",
    "if not existing_agent:\n",
    "    print(f\"\\nNo existing agent found with displayName: {AGENT_DISPLAY_NAME}\")"
   ]
  },
  {
   "cell_type": "markdown",
   "metadata": {},
   "source": [
    "## Register Agent with Gemini Enterprise\n",
    "\n",
    "This makes a REST API call to register the deployed ADK agent with Gemini Enterprise (only if not already registered)."
   ]
  },
  {
   "cell_type": "code",
   "execution_count": 11,
   "metadata": {},
   "outputs": [
    {
     "name": "stdout",
     "output_type": "stream",
     "text": [
      "Agent is already registered. Using existing registration.\n",
      "\n",
      "Agent Details:\n",
      "{\n",
      "  \"name\": \"projects/1026793852137/locations/global/collections/default_collection/engines/enterprise-search-17381091_1738109128316/assistants/default_assistant/agents/18337555184602126877\",\n",
      "  \"displayName\": \"agent_convo_api\",\n",
      "  \"description\": \"An agent that can answer questions about BigQuery data using the Conversational Analytics API.\",\n",
      "  \"createTime\": \"2025-10-15T16:55:46.864540Z\",\n",
      "  \"updateTime\": \"2025-10-15T16:55:46.864540Z\",\n",
      "  \"adkAgentDefinition\": {\n",
      "    \"toolSettings\": {\n",
      "      \"toolDescription\": \"An agent that can answer questions about BigQuery data using the Conversational Analytics API.\"\n",
      "    },\n",
      "    \"provisionedReasoningEngine\": {\n",
      "      \"reasoningEngine\": \"projects/1026793852137/locations/us-central1/reasoningEngines/6919838002059411456\"\n",
      "    }\n",
      "  },\n",
      "  \"state\": \"ENABLED\"\n",
      "}\n"
     ]
    }
   ],
   "source": [
    "if existing_agent:\n",
    "    print(\"Agent is already registered. Using existing registration.\")\n",
    "    agent_data = existing_agent\n",
    "else:\n",
    "    print(\"Creating new agent registration...\")\n",
    "    \n",
    "    # Construct API endpoint\n",
    "    create_url = (\n",
    "        f\"https://discoveryengine.googleapis.com/v1alpha/\"\n",
    "        f\"projects/{PROJECT_NUMBER}/locations/{LOCATION}/\"\n",
    "        f\"collections/default_collection/engines/{APP_ID}/\"\n",
    "        f\"assistants/default_assistant/agents\"\n",
    "    )\n",
    "    \n",
    "    # Prepare request\n",
    "    headers = {\n",
    "        \"Authorization\": f\"Bearer {access_token}\",\n",
    "        \"Content-Type\": \"application/json\",\n",
    "        \"X-Goog-User-Project\": PROJECT_NUMBER\n",
    "    }\n",
    "    \n",
    "    payload = {\n",
    "        \"displayName\": AGENT_DISPLAY_NAME,\n",
    "        \"description\": AGENT_DESCRIPTION,\n",
    "        \"adk_agent_definition\": {\n",
    "            \"tool_settings\": {\n",
    "                \"tool_description\": AGENT_DESCRIPTION\n",
    "            },\n",
    "            \"provisioned_reasoning_engine\": {\n",
    "                \"reasoning_engine\": remote_app.resource_name\n",
    "            }\n",
    "        },\n",
    "    }\n",
    "    \n",
    "    # Make request\n",
    "    create_response = requests.post(create_url, headers=headers, json=payload)\n",
    "    \n",
    "    if create_response.status_code != 200:\n",
    "        print(f\"\\n✗ Registration failed: {create_response.status_code}\")\n",
    "        print(create_response.text)\n",
    "        raise RuntimeError(f\"Failed to register agent: {create_response.text}\")\n",
    "    \n",
    "    agent_data = create_response.json()\n",
    "    print(\"\\n✓ Agent successfully registered!\")\n",
    "\n",
    "# Display agent details\n",
    "print(\"\\nAgent Details:\")\n",
    "print(json.dumps(agent_data, indent=2))"
   ]
  },
  {
   "cell_type": "markdown",
   "metadata": {},
   "source": [
    "## Save Gemini Enterprise Registration Info\n",
    "\n",
    "Update `deployment.json` with the Gemini Enterprise agent ID."
   ]
  },
  {
   "cell_type": "code",
   "execution_count": 12,
   "metadata": {},
   "outputs": [
    {
     "name": "stdout",
     "output_type": "stream",
     "text": [
      "\n",
      "✓ Registration info saved to /usr/local/google/home/statmike/Git/vertex-ai-mlops/Applied ML/AI Agents/concept-bq/agent_convo_api/deploy/deployment.json\n",
      "\n",
      "Gemini Enterprise Agent:\n",
      "  Name: projects/1026793852137/locations/global/collections/default_collection/engines/enterprise-search-17381091_1738109128316/assistants/default_assistant/agents/18337555184602126877\n",
      "  Display Name: agent_convo_api\n",
      "  Created: 2025-10-15T16:55:46.864540Z\n",
      "  State: ENABLED\n"
     ]
    }
   ],
   "source": [
    "# Extract agent info from agent data\n",
    "gemini_agent_name = agent_data.get('name', '')\n",
    "create_time = agent_data.get('createTime', '')\n",
    "\n",
    "# Update deployment metadata\n",
    "deployment_metadata['gemini_enterprise_agent_id'] = gemini_agent_name\n",
    "deployment_metadata['registered_at'] = create_time\n",
    "\n",
    "# Save updated metadata\n",
    "with open(deployment_file, 'w') as f:\n",
    "    json.dump(deployment_metadata, f, indent=2)\n",
    "\n",
    "print(f\"\\n✓ Registration info saved to {deployment_file}\")\n",
    "print(f\"\\nGemini Enterprise Agent:\")\n",
    "print(f\"  Name: {gemini_agent_name}\")\n",
    "print(f\"  Display Name: {agent_data.get('displayName')}\")\n",
    "print(f\"  Created: {create_time}\")\n",
    "print(f\"  State: {agent_data.get('state')}\")"
   ]
  },
  {
   "cell_type": "markdown",
   "metadata": {},
   "source": [
    "---\n",
    "## Use Gemini Enterprise API To Interact With Agent\n",
    "\n",
    "**NOTE:** This will create a conversation as the user authenticaed in this notebook.  The same conversation will also show up in the Gemini Enterpise UI for the user."
   ]
  },
  {
   "cell_type": "code",
   "execution_count": 30,
   "metadata": {},
   "outputs": [],
   "source": [
    "queries = [\n",
    "    \"What are the top 5 customers by total sales?\",\n",
    "    \"What state is the top customer from?\"\n",
    "]"
   ]
  },
  {
   "cell_type": "code",
   "execution_count": 31,
   "metadata": {},
   "outputs": [],
   "source": [
    "# Helper function to parse Gemini Enterprise streaming response\n",
    "def parse_gemini_response(response_text):\n",
    "    \"\"\"\n",
    "    Parse the streaming JSON response from Gemini Enterprise API.\n",
    "    \n",
    "    Returns:\n",
    "        tuple: (session_id, final_answer)\n",
    "    \"\"\"\n",
    "    session_id = None\n",
    "    final_answer = None\n",
    "    \n",
    "    try:\n",
    "        # Remove array brackets and split JSON objects\n",
    "        json_text = response_text.strip()\n",
    "        if json_text.startswith('['):\n",
    "            json_text = json_text[1:]\n",
    "        if json_text.endswith(']'):\n",
    "            json_text = json_text[:-1]\n",
    "        \n",
    "        # Split by comma+newline+brace pattern\n",
    "        chunks = json_text.replace(',\\r\\n{', '\\n|||SPLIT|||{').replace(',\\n{', '\\n|||SPLIT|||{').split('|||SPLIT|||')\n",
    "        \n",
    "        # Process each JSON chunk\n",
    "        for chunk in chunks:\n",
    "            try:\n",
    "                chunk = chunk.strip().lstrip(',')\n",
    "                data = json.loads(chunk)\n",
    "                \n",
    "                # Extract session info\n",
    "                if 'sessionInfo' in data:\n",
    "                    session_id = data['sessionInfo']['session']\n",
    "                \n",
    "                # Extract final answer from SUCCEEDED state\n",
    "                if 'answer' in data and data['answer'].get('state') == 'SUCCEEDED':\n",
    "                    if 'diagnosticInfo' in data['answer']:\n",
    "                        planner_steps = data['answer']['diagnosticInfo'].get('plannerSteps', [])\n",
    "                        # Get the last TOOL step (contains final answer)\n",
    "                        for step in reversed(planner_steps):\n",
    "                            if 'planStep' in step and step['planStep'].get('role') == 'TOOL':\n",
    "                                parts = step['planStep'].get('parts', [])\n",
    "                                for part in parts:\n",
    "                                    if 'text' in part:\n",
    "                                        final_answer = part['text']\n",
    "                                        break\n",
    "                                if final_answer:\n",
    "                                    break\n",
    "            except json.JSONDecodeError:\n",
    "                continue\n",
    "    \n",
    "    except Exception as e:\n",
    "        print(f\"Error parsing response: {e}\")\n",
    "    \n",
    "    return session_id, final_answer\n",
    "\n",
    "\n",
    "# Helper function to query Gemini Enterprise\n",
    "def query_gemini_enterprise(query_text, session=None):\n",
    "    \"\"\"\n",
    "    Send a query to Gemini Enterprise and parse the response.\n",
    "    \n",
    "    Args:\n",
    "        query_text: The question to ask\n",
    "        session: Optional session ID for follow-up questions\n",
    "        \n",
    "    Returns:\n",
    "        tuple: (session_id, answer_text)\n",
    "    \"\"\"\n",
    "    # Refresh access token\n",
    "    access_token = subprocess.check_output(\n",
    "        ['gcloud', 'auth', 'print-access-token'],\n",
    "        text=True\n",
    "    ).strip()\n",
    "    \n",
    "    # Determine session (new or existing)\n",
    "    if session:\n",
    "        session_name = session\n",
    "        print(f\"Using existing session: {session}\")\n",
    "    else:\n",
    "        session_name = (\n",
    "            f\"projects/{PROJECT_ID}/locations/{LOCATION}/\"\n",
    "            f\"collections/default_collection/engines/{APP_ID}/\"\n",
    "            f\"sessions/-\"\n",
    "        )\n",
    "        print(\"Creating new session\")\n",
    "    \n",
    "    # Prepare request payload\n",
    "    payload = {\n",
    "        \"name\": assistant_name,\n",
    "        \"query\": {\"text\": query_text},\n",
    "        \"session\": session_name,\n",
    "        \"assistSkippingMode\": \"REQUEST_ASSIST\",\n",
    "        \"answerGenerationMode\": \"AGENT\",\n",
    "        \"agentsConfig\": {\"agent\": gemini_agent_name}\n",
    "    }\n",
    "    \n",
    "    print(f\"Query: {query_text}\\n\")\n",
    "    \n",
    "    # Make the request\n",
    "    response = requests.post(\n",
    "        url=assist_url,\n",
    "        headers={\n",
    "            \"Authorization\": f\"Bearer {access_token}\",\n",
    "            \"Content-Type\": \"application/json\",\n",
    "            \"X-Goog-User-Project\": PROJECT_ID\n",
    "        },\n",
    "        json=payload,\n",
    "        stream=True\n",
    "    )\n",
    "    \n",
    "    if response.status_code != 200:\n",
    "        print(f\"✗ Request failed: {response.status_code}\")\n",
    "        print(f\"Response: {response.text}\")\n",
    "        return None, None\n",
    "    \n",
    "    # Parse the streaming response\n",
    "    session_id, answer = parse_gemini_response(response.text)\n",
    "    \n",
    "    return session_id, answer"
   ]
  },
  {
   "cell_type": "code",
   "execution_count": 32,
   "metadata": {},
   "outputs": [
    {
     "name": "stdout",
     "output_type": "stream",
     "text": [
      "Sending query to Gemini Enterprise API...\n",
      "================================================================================\n",
      "Creating new session\n",
      "Query: What are the top 5 customers by total sales?\n",
      "\n",
      "\n",
      "Agent Response:\n",
      "================================================================================\n",
      "The top 5 customers by total sales are:\n",
      "\n",
      "1.  Michael Smith: $4597.62\n",
      "2.  Matthew Smith: $4052.37\n",
      "3.  Michael Williams: $3917.13\n",
      "4.  James Johnson: $3826.87\n",
      "5.  Jennifer Williams: $3332.36\n",
      "================================================================================\n",
      "\n",
      "Session ID: projects/1026793852137/locations/global/collections/default_collection/engines/enterprise-search-17381091_1738109128316/sessions/16563324222040108338\n"
     ]
    }
   ],
   "source": [
    "# Setup API endpoint (used by helper functions)\n",
    "assist_url = (\n",
    "    f\"https://discoveryengine.googleapis.com/v1alpha/\"\n",
    "    f\"projects/{PROJECT_ID}/locations/{LOCATION}/\"\n",
    "    f\"collections/default_collection/engines/{APP_ID}/\"\n",
    "    f\"assistants/default_assistant:streamAssist\"\n",
    ")\n",
    "\n",
    "assistant_name = (\n",
    "    f\"projects/{PROJECT_ID}/locations/{LOCATION}/\"\n",
    "    f\"collections/default_collection/engines/{APP_ID}/\"\n",
    "    f\"assistants/default_assistant\"\n",
    ")\n",
    "\n",
    "# Send initial query\n",
    "print(\"Sending query to Gemini Enterprise API...\")\n",
    "print(\"=\"*80)\n",
    "\n",
    "session_id, answer = query_gemini_enterprise(queries[0])\n",
    "\n",
    "if answer:\n",
    "    print(\"\\nAgent Response:\")\n",
    "    print(\"=\"*80)\n",
    "    print(answer)\n",
    "    print(\"=\"*80)\n",
    "    print(f\"\\nSession ID: {session_id}\")\n",
    "else:\n",
    "    print(\"No answer received\")"
   ]
  },
  {
   "cell_type": "code",
   "execution_count": 33,
   "metadata": {},
   "outputs": [
    {
     "name": "stdout",
     "output_type": "stream",
     "text": [
      "Sending follow-up query to Gemini Enterprise API...\n",
      "================================================================================\n",
      "Using existing session: projects/1026793852137/locations/global/collections/default_collection/engines/enterprise-search-17381091_1738109128316/sessions/16563324222040108338\n",
      "Query: What state is the top customer from?\n",
      "\n",
      "\n",
      "Agent Response:\n",
      "================================================================================\n",
      "The top customer is from Pennsylvania.\n",
      "\n",
      "================================================================================\n",
      "\n",
      "✓ Follow-up question answered using session context!\n"
     ]
    }
   ],
   "source": [
    "# Follow-up question using the same session for context\n",
    "if not session_id:\n",
    "    print(\"⚠️  No session_id available. Please run the previous cell first.\")\n",
    "else:\n",
    "    print(\"Sending follow-up query to Gemini Enterprise API...\")\n",
    "    print(\"=\"*80)\n",
    "    \n",
    "    # Use the session from the previous question\n",
    "    new_session_id, followup_answer = query_gemini_enterprise(\n",
    "        queries[1],\n",
    "        session=session_id\n",
    "    )\n",
    "    \n",
    "    if followup_answer:\n",
    "        print(\"\\nAgent Response:\")\n",
    "        print(\"=\"*80)\n",
    "        print(followup_answer)\n",
    "        print(\"=\"*80)\n",
    "        print(\"\\n✓ Follow-up question answered using session context!\")\n",
    "    else:\n",
    "        print(\"No answer received\")"
   ]
  },
  {
   "cell_type": "markdown",
   "metadata": {},
   "source": [
    "---\n",
    "## Delete Agent from Gemini Enterprise\n",
    "\n",
    "Use this section to remove the agent registration from Gemini Enterprise.\n",
    "\n",
    "**⚠️ Warning:** This only removes the registration from Gemini Enterprise. It does NOT delete the deployment on Vertex AI Agent Engine."
   ]
  },
  {
   "cell_type": "code",
   "execution_count": null,
   "metadata": {},
   "outputs": [],
   "source": [
    "# Set to True to delete the agent registration from Gemini Enterprise\n",
    "delete_agent = False\n",
    "\n",
    "if delete_agent:\n",
    "    if not gemini_agent_name:\n",
    "        print(\"✗ No agent to delete - gemini_agent_name not found\")\n",
    "    else:\n",
    "        print(f\"Deleting agent: {gemini_agent_name}\")\n",
    "        \n",
    "        # Refresh access token\n",
    "        access_token = subprocess.check_output(\n",
    "            ['gcloud', 'auth', 'print-access-token'],\n",
    "            text=True\n",
    "        ).strip()\n",
    "        \n",
    "        # Delete the agent\n",
    "        delete_response = requests.delete(\n",
    "            url=f\"https://discoveryengine.googleapis.com/v1alpha/{gemini_agent_name}\",\n",
    "            headers={\n",
    "                \"Authorization\": f\"Bearer {access_token}\",\n",
    "                \"Content-Type\": \"application/json\",\n",
    "                \"X-Goog-User-Project\": PROJECT_NUMBER\n",
    "            },\n",
    "            json={\n",
    "                \"name\": gemini_agent_name\n",
    "            }\n",
    "        )\n",
    "        \n",
    "        print(f\"Status Code: {delete_response.status_code}\")\n",
    "        \n",
    "        if delete_response.status_code == 200:\n",
    "            print(\"✓ Agent successfully deleted from Gemini Enterprise\")\n",
    "            \n",
    "            # Clear metadata\n",
    "            deployment_metadata['gemini_enterprise_agent_id'] = ''\n",
    "            deployment_metadata['registered_at'] = ''\n",
    "            \n",
    "            with open(deployment_file, 'w') as f:\n",
    "                json.dump(deployment_metadata, f, indent=2)\n",
    "            \n",
    "            print(f\"✓ Registration metadata cleared from {deployment_file}\")\n",
    "        else:\n",
    "            print(f\"✗ Deletion failed: {delete_response.status_code}\")\n",
    "            if delete_response.text:\n",
    "                print(f\"Response: {delete_response.text}\")\n",
    "            else:\n",
    "                print(\"Response body is empty\")\n",
    "else:\n",
    "    print(\"Deletion skipped (delete_agent = False)\")"
   ]
  }
 ],
 "metadata": {
  "kernelspec": {
   "display_name": "Python (concept-bq)",
   "language": "python",
   "name": "concept-bq"
  },
  "language_info": {
   "codemirror_mode": {
    "name": "ipython",
    "version": 3
   },
   "file_extension": ".py",
   "mimetype": "text/x-python",
   "name": "python",
   "nbconvert_exporter": "python",
   "pygments_lexer": "ipython3",
   "version": "3.13.3"
  }
 },
 "nbformat": 4,
 "nbformat_minor": 4
}
