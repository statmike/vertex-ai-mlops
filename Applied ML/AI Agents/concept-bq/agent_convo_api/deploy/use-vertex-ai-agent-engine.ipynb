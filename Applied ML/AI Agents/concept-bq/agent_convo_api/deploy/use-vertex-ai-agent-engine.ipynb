{
 "cells": [
  {
   "cell_type": "markdown",
   "id": "6a38ebd4",
   "metadata": {},
   "source": [
    "![tracker](https://us-central1-vertex-ai-mlops-369716.cloudfunctions.net/pixel-tracking?path=statmike%2Fvertex-ai-mlops%2FApplied+ML%2FAI+Agents%2Fconcept-bq%2Fagent_convo_api%2Fdeploy&file=use-vertex-ai-agent-engine.ipynb)\n",
    "<!--- header table --->\n",
    "<table align=\"left\">\n",
    "<tr>\n",
    "  <td style=\"text-align: center\">\n",
    "    <a href=\"https://github.com/statmike/vertex-ai-mlops/blob/main/Applied%20ML/AI%20Agents/concept-bq/agent_convo_api/deploy/use-vertex-ai-agent-engine.ipynb\">\n",
    "      <img width=\"32px\" src=\"https://www.svgrepo.com/download/217753/github.svg\" alt=\"GitHub logo\">\n",
    "      <br>View on<br>GitHub\n",
    "    </a>\n",
    "  </td>\n",
    "  <td style=\"text-align: center\">\n",
    "    <a href=\"https://colab.research.google.com/github/statmike/vertex-ai-mlops/blob/main/Applied%20ML/AI%20Agents/concept-bq/agent_convo_api/deploy/use-vertex-ai-agent-engine.ipynb\">\n",
    "      <img width=\"32px\" src=\"https://www.gstatic.com/pantheon/images/bigquery/welcome_page/colab-logo.svg\" alt=\"Google Colaboratory logo\">\n",
    "      <br>Run in<br>Colab\n",
    "    </a>\n",
    "  </td>\n",
    "  <td style=\"text-align: center\">\n",
    "    <a href=\"https://console.cloud.google.com/vertex-ai/colab/import/https%3A%2F%2Fraw.githubusercontent.com%2Fstatmike%2Fvertex-ai-mlops%2Fmain%2FApplied%2520ML%2FAI%2520Agents%2Fconcept-bq%2Fagent_convo_api%2Fdeploy%2Fuse-vertex-ai-agent-engine.ipynb\">\n",
    "      <img width=\"32px\" src=\"https://lh3.googleusercontent.com/JmcxdQi-qOpctIvWKgPtrzZdJJK-J3sWE1RsfjZNwshCFgE_9fULcNpuXYTilIR2hjwN\" alt=\"Google Cloud Colab Enterprise logo\">\n",
    "      <br>Run in<br>Colab Enterprise\n",
    "    </a>\n",
    "  </td>      \n",
    "  <td style=\"text-align: center\">\n",
    "    <a href=\"https://console.cloud.google.com/bigquery/import?url=https://github.com/statmike/vertex-ai-mlops/blob/main/Applied%20ML/AI%20Agents/concept-bq/agent_convo_api/deploy/use-vertex-ai-agent-engine.ipynb\">\n",
    "      <img width=\"32px\" src=\"https://www.gstatic.com/images/branding/gcpiconscolors/bigquery/v1/32px.svg\" alt=\"BigQuery logo\">\n",
    "      <br>Open in<br>BigQuery Studio\n",
    "    </a>\n",
    "  </td>\n",
    "  <td style=\"text-align: center\">\n",
    "    <a href=\"https://console.cloud.google.com/vertex-ai/workbench/deploy-notebook?download_url=https://raw.githubusercontent.com/statmike/vertex-ai-mlops/main/Applied%20ML/AI%20Agents/concept-bq/agent_convo_api/deploy/use-vertex-ai-agent-engine.ipynb\">\n",
    "      <img width=\"32px\" src=\"https://www.gstatic.com/images/branding/gcpiconscolors/vertexai/v1/32px.svg\" alt=\"Vertex AI logo\">\n",
    "      <br>Open in<br>Vertex AI Workbench\n",
    "    </a>\n",
    "  </td>\n",
    "</tr>\n",
    "<tr>\n",
    "  <td colspan=\"5\" style=\"text-align: right\">\n",
    "    <b>Share This On: </b> \n",
    "    <a href=\"https://www.linkedin.com/sharing/share-offsite/?url=https://github.com/statmike/vertex-ai-mlops/blob/main/Applied%2520ML/AI%2520Agents/concept-bq/agent_convo_api/deploy/use-vertex-ai-agent-engine.ipynb\"><img src=\"https://upload.wikimedia.org/wikipedia/commons/8/81/LinkedIn_icon.svg\" alt=\"Linkedin Logo\" width=\"20px\"></a> \n",
    "    <a href=\"https://reddit.com/submit?url=https://github.com/statmike/vertex-ai-mlops/blob/main/Applied%2520ML/AI%2520Agents/concept-bq/agent_convo_api/deploy/use-vertex-ai-agent-engine.ipynb\"><img src=\"https://redditinc.com/hubfs/Reddit%20Inc/Brand/Reddit_Logo.png\" alt=\"Reddit Logo\" width=\"20px\"></a> \n",
    "    <a href=\"https://bsky.app/intent/compose?text=https://github.com/statmike/vertex-ai-mlops/blob/main/Applied%2520ML/AI%2520Agents/concept-bq/agent_convo_api/deploy/use-vertex-ai-agent-engine.ipynb\"><img src=\"https://upload.wikimedia.org/wikipedia/commons/7/7a/Bluesky_Logo.svg\" alt=\"BlueSky Logo\" width=\"20px\"></a> \n",
    "    <a href=\"https://twitter.com/intent/tweet?url=https://github.com/statmike/vertex-ai-mlops/blob/main/Applied%2520ML/AI%2520Agents/concept-bq/agent_convo_api/deploy/use-vertex-ai-agent-engine.ipynb\"><img src=\"https://upload.wikimedia.org/wikipedia/commons/5/5a/X_icon_2.svg\" alt=\"X (Twitter) Logo\" width=\"20px\"></a> \n",
    "  </td>\n",
    "</tr>\n",
    "<tr>\n",
    "  <td colspan=\"5\" style=\"text-align: right\">\n",
    "    <b>Connect With Author On: </b> \n",
    "    <a href=\"https://www.linkedin.com/in/statmike\"><img src=\"https://upload.wikimedia.org/wikipedia/commons/8/81/LinkedIn_icon.svg\" alt=\"Linkedin Logo\" width=\"20px\"></a>\n",
    "    <a href=\"https://www.github.com/statmike\"><img src=\"https://www.svgrepo.com/download/217753/github.svg\" alt=\"GitHub Logo\" width=\"20px\"></a> \n",
    "    <a href=\"https://www.youtube.com/@statmike-channel\"><img src=\"https://upload.wikimedia.org/wikipedia/commons/f/fd/YouTube_full-color_icon_%282024%29.svg\" alt=\"YouTube Logo\" width=\"20px\"></a>\n",
    "    <a href=\"https://bsky.app/profile/statmike.bsky.social\"><img src=\"https://upload.wikimedia.org/wikipedia/commons/7/7a/Bluesky_Logo.svg\" alt=\"BlueSky Logo\" width=\"20px\"></a> \n",
    "    <a href=\"https://x.com/statmike\"><img src=\"https://upload.wikimedia.org/wikipedia/commons/5/5a/X_icon_2.svg\" alt=\"X (Twitter) Logo\" width=\"20px\"></a>\n",
    "  </td>\n",
    "</tr>\n",
    "</table>"
   ]
  },
  {
   "cell_type": "markdown",
   "metadata": {},
   "source": [
    "# Use Agent Deployed To Vertex AI Agent Engine\n",
    "\n",
    "This notebook demonstrates how to interact with an agent deployed to Vertex AI Agent Engine using both the Python SDK and REST API.\n",
    "\n",
    "**Prerequisites:**\n",
    "- Agent must be deployed using [deploy-vertex-ai-agent-engine.ipynb](./deploy-vertex-ai-agent-engine.ipynb)\n",
    "- `deployment.json` file exists in this folder with the deployment resource ID"
   ]
  },
  {
   "cell_type": "markdown",
   "metadata": {},
   "source": [
    "## Package Imports"
   ]
  },
  {
   "cell_type": "code",
   "execution_count": 1,
   "metadata": {},
   "outputs": [],
   "source": [
    "import os\n",
    "import sys\n",
    "import json\n",
    "from pathlib import Path\n",
    "\n",
    "import dotenv\n",
    "import requests\n",
    "\n",
    "import vertexai\n",
    "from vertexai import agent_engines\n",
    "from google import genai\n",
    "import google.auth\n",
    "import google.auth.transport.requests"
   ]
  },
  {
   "cell_type": "markdown",
   "metadata": {},
   "source": [
    "## Auto-Configure Paths"
   ]
  },
  {
   "cell_type": "code",
   "execution_count": 2,
   "metadata": {},
   "outputs": [
    {
     "name": "stdout",
     "output_type": "stream",
     "text": [
      "Deploy folder: /usr/local/google/home/statmike/Git/vertex-ai-mlops/Applied ML/AI Agents/concept-bq/agent_convo_api/deploy\n",
      "Agent folder: /usr/local/google/home/statmike/Git/vertex-ai-mlops/Applied ML/AI Agents/concept-bq/agent_convo_api\n",
      "Project root: /usr/local/google/home/statmike/Git/vertex-ai-mlops/Applied ML/AI Agents/concept-bq\n",
      "Agent name: agent_convo_api\n"
     ]
    }
   ],
   "source": [
    "# Get current directory (should be agent_name/deploy/)\n",
    "deploy_folder = Path.cwd()\n",
    "agent_folder = deploy_folder.parent\n",
    "project_root = agent_folder.parent\n",
    "\n",
    "# Extract agent name from folder structure\n",
    "agent_name = agent_folder.name\n",
    "\n",
    "print(f\"Deploy folder: {deploy_folder}\")\n",
    "print(f\"Agent folder: {agent_folder}\")\n",
    "print(f\"Project root: {project_root}\")\n",
    "print(f\"Agent name: {agent_name}\")"
   ]
  },
  {
   "cell_type": "markdown",
   "metadata": {},
   "source": [
    "## Load Configuration"
   ]
  },
  {
   "cell_type": "code",
   "execution_count": 3,
   "metadata": {},
   "outputs": [
    {
     "name": "stdout",
     "output_type": "stream",
     "text": [
      "Project: statmike-mlops-349915\n",
      "Location: us-central1\n"
     ]
    }
   ],
   "source": [
    "# Load environment variables from project root\n",
    "env_path = project_root / '.env'\n",
    "dotenv.load_dotenv(dotenv_path=env_path)\n",
    "\n",
    "print(f\"Project: {os.getenv('GOOGLE_CLOUD_PROJECT')}\")\n",
    "print(f\"Location: {os.getenv('GOOGLE_CLOUD_LOCATION')}\")"
   ]
  },
  {
   "cell_type": "markdown",
   "metadata": {},
   "source": [
    "## Initialize Vertex AI"
   ]
  },
  {
   "cell_type": "code",
   "execution_count": 4,
   "metadata": {},
   "outputs": [],
   "source": [
    "vertexai.init(\n",
    "    project=os.getenv('GOOGLE_CLOUD_PROJECT'),\n",
    "    location=os.getenv('GOOGLE_CLOUD_LOCATION'),\n",
    "    staging_bucket=os.getenv('GOOGLE_CLOUD_STORAGE_BUCKET')\n",
    ")"
   ]
  },
  {
   "cell_type": "markdown",
   "metadata": {},
   "source": [
    "## Load Deployment Metadata\n",
    "\n",
    "Read the deployed agent's resource ID from `deployment.json`."
   ]
  },
  {
   "cell_type": "code",
   "execution_count": 5,
   "metadata": {},
   "outputs": [
    {
     "name": "stdout",
     "output_type": "stream",
     "text": [
      "Deployment Resource ID: projects/statmike-mlops-349915/locations/us-central1/reasoningEngines/6919838002059411456\n",
      "Agent: agent_convo_api\n",
      "Deployed: 2025-10-19T00:24:24.622473\n"
     ]
    }
   ],
   "source": [
    "deployment_file = deploy_folder / 'deployment.json'\n",
    "\n",
    "if not deployment_file.exists():\n",
    "    raise FileNotFoundError(\n",
    "        f\"Deployment metadata not found at {deployment_file}. \"\n",
    "        \"Please deploy the agent first using deploy-vertex-ai-agent-engine.ipynb\"\n",
    "    )\n",
    "\n",
    "with open(deployment_file, 'r') as f:\n",
    "    deployment_metadata = json.load(f)\n",
    "\n",
    "current_deployment = deployment_metadata.get('resource_id')\n",
    "\n",
    "if not current_deployment:\n",
    "    raise ValueError(\"No deployment resource_id found in deployment.json\")\n",
    "\n",
    "print(f\"Deployment Resource ID: {current_deployment}\")\n",
    "print(f\"Agent: {deployment_metadata.get('display_name')}\")\n",
    "print(f\"Deployed: {deployment_metadata.get('deployed_at')}\")"
   ]
  },
  {
   "cell_type": "markdown",
   "metadata": {},
   "source": [
    "## Get the Deployed Agent"
   ]
  },
  {
   "cell_type": "code",
   "execution_count": 6,
   "metadata": {},
   "outputs": [
    {
     "name": "stdout",
     "output_type": "stream",
     "text": [
      "✓ Connected to deployed agent: projects/statmike-mlops-349915/locations/us-central1/reasoningEngines/6919838002059411456\n"
     ]
    }
   ],
   "source": [
    "try:\n",
    "    remote_app = agent_engines.get(resource_name=current_deployment)\n",
    "    print(f\"✓ Connected to deployed agent: {remote_app.resource_name}\")\n",
    "except Exception as e:\n",
    "    raise RuntimeError(f\"Failed to connect to deployed agent: {e}\")"
   ]
  },
  {
   "cell_type": "code",
   "execution_count": 7,
   "metadata": {},
   "outputs": [
    {
     "data": {
      "text/plain": [
       "<vertexai.agent_engines._agent_engines.AgentEngine object at 0x7fb290c00c20> \n",
       "resource name: projects/statmike-mlops-349915/locations/us-central1/reasoningEngines/6919838002059411456"
      ]
     },
     "execution_count": 7,
     "metadata": {},
     "output_type": "execute_result"
    }
   ],
   "source": [
    "remote_app"
   ]
  },
  {
   "cell_type": "markdown",
   "metadata": {},
   "source": [
    "---\n",
    "## Use The Deployed Agent via SDK"
   ]
  },
  {
   "cell_type": "markdown",
   "metadata": {},
   "source": [
    "### View Available Operations"
   ]
  },
  {
   "cell_type": "code",
   "execution_count": 8,
   "metadata": {},
   "outputs": [
    {
     "data": {
      "text/plain": [
       "[{'parameters': {'type': 'object',\n",
       "   'required': ['user_id', 'session_id'],\n",
       "   'properties': {'user_id': {'type': 'string'},\n",
       "    'session_id': {'type': 'string'}}},\n",
       "  'description': 'Get a session for the given user.\\n\\nArgs:\\n    user_id (str):\\n        Required. The ID of the user.\\n    session_id (str):\\n        Required. The ID of the session.\\n    **kwargs (dict[str, Any]):\\n        Optional. Additional keyword arguments to pass to the\\n        session service.\\n\\nReturns:\\n    Session: The session instance (if any). It returns None if the\\n    session is not found.\\n\\nRaises:\\n    RuntimeError: If the session is not found.\\n',\n",
       "  'api_mode': 'async',\n",
       "  'name': 'async_get_session'},\n",
       " {'parameters': {'type': 'object',\n",
       "   'required': ['user_id'],\n",
       "   'properties': {'user_id': {'type': 'string'}}},\n",
       "  'description': 'List sessions for the given user.\\n\\nArgs:\\n    user_id (str):\\n        Required. The ID of the user.\\n    **kwargs (dict[str, Any]):\\n        Optional. Additional keyword arguments to pass to the\\n        session service.\\n\\nReturns:\\n    ListSessionsResponse: The list of sessions.\\n',\n",
       "  'api_mode': 'async',\n",
       "  'name': 'async_list_sessions'},\n",
       " {'parameters': {'type': 'object',\n",
       "   'required': ['user_id'],\n",
       "   'properties': {'user_id': {'type': 'string'},\n",
       "    'state': {'type': 'object', 'nullable': True},\n",
       "    'session_id': {'type': 'string', 'nullable': True}}},\n",
       "  'description': 'Creates a new session.\\n\\nArgs:\\n    user_id (str):\\n        Required. The ID of the user.\\n    session_id (str):\\n        Optional. The ID of the session. If not provided, an ID\\n        will be be generated for the session.\\n    state (dict[str, Any]):\\n        Optional. The initial state of the session.\\n    **kwargs (dict[str, Any]):\\n        Optional. Additional keyword arguments to pass to the\\n        session service.\\n\\nReturns:\\n    Session: The newly created session instance.\\n',\n",
       "  'api_mode': 'async',\n",
       "  'name': 'async_create_session'},\n",
       " {'parameters': {'type': 'object',\n",
       "   'required': ['user_id', 'session_id'],\n",
       "   'properties': {'user_id': {'type': 'string'},\n",
       "    'session_id': {'type': 'string'}}},\n",
       "  'description': 'Deletes a session for the given user.\\n\\nArgs:\\n    user_id (str):\\n        Required. The ID of the user.\\n    session_id (str):\\n        Required. The ID of the session.\\n    **kwargs (dict[str, Any]):\\n        Optional. Additional keyword arguments to pass to the\\n        session service.\\n',\n",
       "  'api_mode': 'async',\n",
       "  'name': 'async_delete_session'},\n",
       " {'parameters': {'type': 'object',\n",
       "   'required': ['session'],\n",
       "   'properties': {'session': {'type': 'object',\n",
       "     'additionalProperties': True}}},\n",
       "  'description': 'Generates memories.\\n\\nArgs:\\n    session (Dict[str, Any]):\\n        Required. The session to use for generating memories. It should\\n        be a dictionary representing an ADK Session object, e.g.\\n        session.model_dump(mode=\"json\").\\n',\n",
       "  'api_mode': 'async',\n",
       "  'name': 'async_add_session_to_memory'},\n",
       " {'parameters': {'type': 'object',\n",
       "   'required': ['user_id', 'query'],\n",
       "   'properties': {'user_id': {'type': 'string'}, 'query': {'type': 'string'}}},\n",
       "  'description': 'Searches memories for the given user.\\n\\nArgs:\\n    user_id: The id of the user.\\n    query: The query to match the memories on.\\n\\nReturns:\\n    A SearchMemoryResponse containing the matching memories.\\n',\n",
       "  'api_mode': 'async',\n",
       "  'name': 'async_search_memory'},\n",
       " {'parameters': {'type': 'object',\n",
       "   'required': ['message', 'user_id'],\n",
       "   'properties': {'run_config': {'type': 'object', 'nullable': True},\n",
       "    'user_id': {'type': 'string'},\n",
       "    'session_id': {'type': 'string', 'nullable': True},\n",
       "    'message': {'anyOf': [{'type': 'string'},\n",
       "      {'type': 'object', 'additionalProperties': True}]}}},\n",
       "  'description': 'Streams responses asynchronously from the ADK application.\\n\\nArgs:\\n    message (str):\\n        Required. The message to stream responses for.\\n    user_id (str):\\n        Required. The ID of the user.\\n    session_id (str):\\n        Optional. The ID of the session. If not provided, a new\\n        session will be created for the user.\\n    run_config (Optional[Dict[str, Any]]):\\n        Optional. The run config to use for the query. If you want to\\n        pass in a `run_config` pydantic object, you can pass in a dict\\n        representing it as `run_config.model_dump(mode=\"json\")`.\\n    **kwargs (dict[str, Any]):\\n        Optional. Additional keyword arguments to pass to the\\n        runner.\\n\\nYields:\\n    Event dictionaries asynchronously.\\n',\n",
       "  'api_mode': 'async_stream',\n",
       "  'name': 'async_stream_query'},\n",
       " {'parameters': {'type': 'object',\n",
       "   'required': ['request_json'],\n",
       "   'properties': {'request_json': {'type': 'string'}}},\n",
       "  'description': 'Streams responses asynchronously from the ADK application.\\n\\nIn general, you should use `async_stream_query` instead, as it has a\\nmore structured API and works with the respective ADK services that\\nyou have defined for the AdkApp. This method is primarily meant for\\ninvocation from AgentSpace.\\n\\nArgs:\\n    request_json (str):\\n        Required. The request to stream responses for.\\n',\n",
       "  'api_mode': 'async_stream',\n",
       "  'name': 'streaming_agent_run_with_events'}]"
      ]
     },
     "execution_count": 8,
     "metadata": {},
     "output_type": "execute_result"
    }
   ],
   "source": [
    "remote_app.operation_schemas()"
   ]
  },
  {
   "cell_type": "markdown",
   "metadata": {},
   "source": [
    "### Create a Session"
   ]
  },
  {
   "cell_type": "code",
   "execution_count": 9,
   "metadata": {},
   "outputs": [
    {
     "name": "stdout",
     "output_type": "stream",
     "text": [
      "Created session: 1914549085998678016\n"
     ]
    },
    {
     "data": {
      "text/plain": [
       "{'events': [],\n",
       " 'lastUpdateTime': 1760834344.996743,\n",
       " 'userId': 'demo_user',\n",
       " 'state': {},\n",
       " 'appName': '6919838002059411456',\n",
       " 'id': '1914549085998678016'}"
      ]
     },
     "execution_count": 9,
     "metadata": {},
     "output_type": "execute_result"
    }
   ],
   "source": [
    "remote_session = await remote_app.async_create_session(user_id='demo_user')\n",
    "print(f\"Created session: {remote_session['id']}\")\n",
    "remote_session"
   ]
  },
  {
   "cell_type": "markdown",
   "metadata": {},
   "source": [
    "### List Sessions"
   ]
  },
  {
   "cell_type": "code",
   "execution_count": 10,
   "metadata": {},
   "outputs": [
    {
     "name": "stdout",
     "output_type": "stream",
     "text": [
      "Active sessions: 1\n"
     ]
    },
    {
     "data": {
      "text/plain": [
       "{'sessions': [{'events': [],\n",
       "   'lastUpdateTime': 1760834344.996743,\n",
       "   'userId': 'demo_user',\n",
       "   'state': {},\n",
       "   'appName': '6919838002059411456',\n",
       "   'id': '1914549085998678016'}]}"
      ]
     },
     "execution_count": 10,
     "metadata": {},
     "output_type": "execute_result"
    }
   ],
   "source": [
    "list_sessions = await remote_app.async_list_sessions(user_id='demo_user')\n",
    "print(f\"Active sessions: {len(list_sessions['sessions'])}\")\n",
    "list_sessions"
   ]
  },
  {
   "cell_type": "markdown",
   "metadata": {},
   "source": [
    "### Get Session Details"
   ]
  },
  {
   "cell_type": "code",
   "execution_count": 11,
   "metadata": {},
   "outputs": [
    {
     "data": {
      "text/plain": [
       "{'events': [],\n",
       " 'lastUpdateTime': 1760834344.996743,\n",
       " 'userId': 'demo_user',\n",
       " 'state': {},\n",
       " 'id': '1914549085998678016',\n",
       " 'appName': '6919838002059411456'}"
      ]
     },
     "execution_count": 11,
     "metadata": {},
     "output_type": "execute_result"
    }
   ],
   "source": [
    "remote_session = await remote_app.async_get_session(\n",
    "    user_id='demo_user',\n",
    "    session_id=list_sessions['sessions'][0]['id']\n",
    ")\n",
    "remote_session"
   ]
  },
  {
   "cell_type": "markdown",
   "metadata": {},
   "source": [
    "### Send Query to Agent\n",
    "\n",
    "**Customize the message below to test your agent's specific capabilities.**"
   ]
  },
  {
   "cell_type": "code",
   "execution_count": 12,
   "metadata": {},
   "outputs": [
    {
     "name": "stdout",
     "output_type": "stream",
     "text": [
      "{'content': {'parts': [{'text': 'I can answer questions about data stored in BigQuery. I can list datasets, get information about datasets and tables, and use a conversational tool to answer your questions about the data. Just ask!'}], 'role': 'model'}, 'finish_reason': 'STOP', 'usage_metadata': {'candidates_token_count': 39, 'candidates_tokens_details': [{'modality': 'TEXT', 'token_count': 39}], 'prompt_token_count': 2388, 'prompt_tokens_details': [{'modality': 'TEXT', 'token_count': 2388}], 'total_token_count': 2427, 'traffic_type': 'ON_DEMAND'}, 'avg_logprobs': -0.20113266431368315, 'invocation_id': 'e-c59be364-3b5b-4de4-abee-47096976c49e', 'author': 'agent_convo_api', 'actions': {'state_delta': {}, 'artifact_delta': {}, 'requested_auth_configs': {}, 'requested_tool_confirmations': {}}, 'id': '2b8a036f-e200-4c71-9f27-8e2eff85245f', 'timestamp': 1760834353.167719}\n"
     ]
    }
   ],
   "source": [
    "async for event in remote_app.async_stream_query(\n",
    "    user_id='demo_user',\n",
    "    session_id=remote_session['id'],\n",
    "    message=genai.types.Content(\n",
    "        role=\"user\",\n",
    "        parts=[genai.types.Part(text='What can you do?')]\n",
    "    ).model_dump(mode=\"json\")\n",
    "):\n",
    "    print(event)"
   ]
  },
  {
   "cell_type": "markdown",
   "metadata": {},
   "source": [
    "### Extract Response Text"
   ]
  },
  {
   "cell_type": "code",
   "execution_count": 13,
   "metadata": {},
   "outputs": [
    {
     "name": "stdout",
     "output_type": "stream",
     "text": [
      "I can answer questions about data stored in BigQuery. I can list datasets, get information about datasets and tables, and use a conversational tool to answer your questions about the data. Just ask!\n"
     ]
    }
   ],
   "source": [
    "# Print just the text response from the last event\n",
    "if 'content' in event and 'parts' in event['content']:\n",
    "    response_text = event['content']['parts'][-1].get('text', '')\n",
    "    print(response_text)"
   ]
  },
  {
   "cell_type": "markdown",
   "metadata": {},
   "source": [
    "---\n",
    "## Use The Deployed Agent via REST API\n",
    "\n",
    "This section demonstrates how to interact with the deployed agent using direct REST API calls."
   ]
  },
  {
   "cell_type": "markdown",
   "metadata": {},
   "source": [
    "### Construct API Endpoint URL"
   ]
  },
  {
   "cell_type": "code",
   "execution_count": 14,
   "metadata": {},
   "outputs": [
    {
     "name": "stdout",
     "output_type": "stream",
     "text": [
      "API Endpoint: https://us-central1-aiplatform.googleapis.com/v1/projects/statmike-mlops-349915/locations/us-central1/reasoningEngines/6919838002059411456\n"
     ]
    }
   ],
   "source": [
    "location = os.getenv('GOOGLE_CLOUD_LOCATION')\n",
    "url = f\"https://{location}-aiplatform.googleapis.com/v1/{remote_app.resource_name}\"\n",
    "print(f\"API Endpoint: {url}\")"
   ]
  },
  {
   "cell_type": "markdown",
   "metadata": {},
   "source": [
    "### Get Session via REST"
   ]
  },
  {
   "cell_type": "code",
   "execution_count": 15,
   "metadata": {},
   "outputs": [
    {
     "data": {
      "text/plain": [
       "{'output': {'lastUpdateTime': 1760834354.082833,\n",
       "  'appName': '6919838002059411456',\n",
       "  'state': {},\n",
       "  'userId': 'demo_user',\n",
       "  'events': [{'avgLogprobs': None,\n",
       "    'errorMessage': None,\n",
       "    'content': {'role': 'user',\n",
       "     'parts': [{'codeExecutionResult': None,\n",
       "       'executableCode': None,\n",
       "       'inlineData': None,\n",
       "       'videoMetadata': None,\n",
       "       'functionResponse': None,\n",
       "       'fileData': None,\n",
       "       'thought': None,\n",
       "       'functionCall': None,\n",
       "       'thoughtSignature': None,\n",
       "       'text': 'What can you do?'}]},\n",
       "    'customMetadata': None,\n",
       "    'usageMetadata': None,\n",
       "    'errorCode': None,\n",
       "    'invocationId': 'e-c59be364-3b5b-4de4-abee-47096976c49e',\n",
       "    'liveSessionResumptionUpdate': None,\n",
       "    'partial': None,\n",
       "    'turnComplete': None,\n",
       "    'cacheMetadata': None,\n",
       "    'longRunningToolIds': None,\n",
       "    'citationMetadata': None,\n",
       "    'timestamp': 1760834352.988245,\n",
       "    'id': '3590214771053428736',\n",
       "    'interrupted': None,\n",
       "    'finishReason': None,\n",
       "    'outputTranscription': None,\n",
       "    'logprobsResult': None,\n",
       "    'author': 'user',\n",
       "    'inputTranscription': None,\n",
       "    'branch': None,\n",
       "    'groundingMetadata': None,\n",
       "    'actions': {'stateDelta': {},\n",
       "     'transferToAgent': None,\n",
       "     'endOfAgent': None,\n",
       "     'artifactDelta': {},\n",
       "     'agentState': None,\n",
       "     'compaction': None,\n",
       "     'requestedToolConfirmations': {},\n",
       "     'skipSummarization': None,\n",
       "     'requestedAuthConfigs': {},\n",
       "     'escalate': None}},\n",
       "   {'actions': {'compaction': None,\n",
       "     'endOfAgent': None,\n",
       "     'stateDelta': {},\n",
       "     'escalate': None,\n",
       "     'requestedToolConfirmations': {},\n",
       "     'agentState': None,\n",
       "     'transferToAgent': None,\n",
       "     'skipSummarization': None,\n",
       "     'requestedAuthConfigs': {},\n",
       "     'artifactDelta': {}},\n",
       "    'id': '8201900789480816640',\n",
       "    'cacheMetadata': None,\n",
       "    'errorCode': None,\n",
       "    'branch': None,\n",
       "    'invocationId': 'e-c59be364-3b5b-4de4-abee-47096976c49e',\n",
       "    'author': 'agent_convo_api',\n",
       "    'groundingMetadata': None,\n",
       "    'interrupted': None,\n",
       "    'finishReason': None,\n",
       "    'timestamp': 1760834353.167719,\n",
       "    'usageMetadata': None,\n",
       "    'citationMetadata': None,\n",
       "    'content': {'role': 'model',\n",
       "     'parts': [{'functionCall': None,\n",
       "       'functionResponse': None,\n",
       "       'videoMetadata': None,\n",
       "       'executableCode': None,\n",
       "       'fileData': None,\n",
       "       'thought': None,\n",
       "       'codeExecutionResult': None,\n",
       "       'thoughtSignature': None,\n",
       "       'inlineData': None,\n",
       "       'text': 'I can answer questions about data stored in BigQuery. I can list datasets, get information about datasets and tables, and use a conversational tool to answer your questions about the data. Just ask!'}]},\n",
       "    'liveSessionResumptionUpdate': None,\n",
       "    'customMetadata': None,\n",
       "    'errorMessage': None,\n",
       "    'inputTranscription': None,\n",
       "    'longRunningToolIds': None,\n",
       "    'outputTranscription': None,\n",
       "    'avgLogprobs': None,\n",
       "    'turnComplete': None,\n",
       "    'logprobsResult': None,\n",
       "    'partial': None}],\n",
       "  'id': '1914549085998678016'}}"
      ]
     },
     "execution_count": 15,
     "metadata": {},
     "output_type": "execute_result"
    }
   ],
   "source": [
    "# Get credentials\n",
    "credentials, _ = google.auth.default()\n",
    "auth_req = google.auth.transport.requests.Request()\n",
    "credentials.refresh(auth_req)\n",
    "headers = {'Authorization': f'Bearer {credentials.token}'}\n",
    "\n",
    "# Prepare payload\n",
    "payload = {\n",
    "    'class_method': 'async_get_session',\n",
    "    'input': {\n",
    "        'user_id': 'demo_user',\n",
    "        'session_id': remote_session['id']\n",
    "    }\n",
    "}\n",
    "\n",
    "# Make request\n",
    "response = requests.post(url + ':query', headers=headers, json=payload)\n",
    "response.raise_for_status()\n",
    "\n",
    "response.json()"
   ]
  },
  {
   "cell_type": "markdown",
   "metadata": {},
   "source": [
    "### Stream Query via REST\n",
    "\n",
    "**Customize the message below for your agent.**"
   ]
  },
  {
   "cell_type": "code",
   "execution_count": 16,
   "metadata": {},
   "outputs": [
    {
     "name": "stdout",
     "output_type": "stream",
     "text": [
      "I can help you explore and understand data stored in BigQuery. Here's a breakdown:\n",
      "\n",
      "1.  **Finding Data:**\n",
      "    *   I can list all the datasets available in a given Google Cloud project.\n",
      "    *   I can provide information about a specific dataset, such as its description and location.\n",
      "    *   I can list all the tables within a dataset.\n",
      "    *   I can give you details about a specific table, including its schema (column names and data types), size, and creation/modification dates.\n",
      "\n",
      "2.  **Answering Questions:**\n",
      "    *   You can ask me questions about the data in those tables. I'll use a conversational tool to understand your question and query the relevant tables.\n",
      "    *   I can provide answers in different formats, including text, tables, and even charts.\n",
      "\n",
      "For example, you could ask me things like:\n",
      "\n",
      "*   \"What datasets are available in the `bigquery-public-data` project?\"\n",
      "*   \"What are the tables in the `covid19_vaccination_search_analytics` dataset?\"\n",
      "*   \"What are the columns in the `austin_crime` table?\"\n",
      "*   \"How many crimes were reported in Austin in 2023?\"\n",
      "*   \"Show me a chart of the average temperature in California over the last 10 years.\"\n",
      "\n",
      "I'm ready to help you explore the world of BigQuery data! Just let me know what you're interested in.\n",
      "\n",
      "--------------------------------------------------------------------------------\n"
     ]
    }
   ],
   "source": [
    "payload = {\n",
    "    'class_method': 'async_stream_query',\n",
    "    'input': {\n",
    "        'user_id': 'demo_user',\n",
    "        'session_id': remote_session['id'],\n",
    "        'message': 'Tell me more about what you can help me with.'\n",
    "    }\n",
    "}\n",
    "\n",
    "# Refresh credentials\n",
    "credentials.refresh(auth_req)\n",
    "headers = {'Authorization': f'Bearer {credentials.token}'}\n",
    "\n",
    "# Stream response\n",
    "response = requests.post(\n",
    "    url + ':streamQuery?alt=sse',\n",
    "    headers=headers,\n",
    "    json=payload,\n",
    "    stream=True\n",
    ")\n",
    "response.raise_for_status()\n",
    "\n",
    "# Process streaming response\n",
    "for line in response.iter_lines(decode_unicode=True):\n",
    "    if line:\n",
    "        event_data = json.loads(line)\n",
    "        \n",
    "        # Extract and print text if available\n",
    "        if 'content' in event_data and 'parts' in event_data['content']:\n",
    "            for part in event_data['content']['parts']:\n",
    "                if 'text' in part:\n",
    "                    print(part['text'])\n",
    "                    print(\"-\" * 80)"
   ]
  },
  {
   "cell_type": "markdown",
   "metadata": {},
   "source": [
    "---\n",
    "## Session Management"
   ]
  },
  {
   "cell_type": "markdown",
   "metadata": {},
   "source": [
    "### View Session History"
   ]
  },
  {
   "cell_type": "code",
   "execution_count": 17,
   "metadata": {},
   "outputs": [
    {
     "name": "stdout",
     "output_type": "stream",
     "text": [
      "Session: 1914549085998678016\n",
      "Events in session: 4\n",
      "\n",
      "Conversation history:\n",
      "================================================================================\n",
      "\n",
      "[USER]\n",
      "What can you do?\n",
      "--------------------------------------------------------------------------------\n",
      "\n",
      "[MODEL]\n",
      "I can answer questions about data stored in BigQuery. I can list datasets, get information about datasets and tables, and use a conversational tool to answer your questions about the data. Just ask!\n",
      "--------------------------------------------------------------------------------\n",
      "\n",
      "[USER]\n",
      "Tell me more about what you can help me with.\n",
      "--------------------------------------------------------------------------------\n",
      "\n",
      "[MODEL]\n",
      "I can help you explore and understand data stored in BigQuery. Here's a breakdown:\n",
      "\n",
      "1.  **Finding Data:**\n",
      "    *   I can list all the datasets available in a given Google Cloud project.\n",
      "    *   I can provide information about a specific dataset, such as its description and location.\n",
      "    *   I can list all the tables within a dataset.\n",
      "    *   I can give you details about a specific table, including its schema (column names and data types), size, and creation/modification dates.\n",
      "\n",
      "2.  **Answering Questions:**\n",
      "    *   You can ask me questions about the data in those tables. I'll use a conversational tool to understand your question and query the relevant tables.\n",
      "    *   I can provide answers in different formats, including text, tables, and even charts.\n",
      "\n",
      "For example, you could ask me things like:\n",
      "\n",
      "*   \"What datasets are available in the `bigquery-public-data` project?\"\n",
      "*   \"What are the tables in the `covid19_vaccination_search_analytics` dataset?\"\n",
      "*   \"What are the columns in the `austin_crime` table?\"\n",
      "*   \"How many crimes were reported in Austin in 2023?\"\n",
      "*   \"Show me a chart of the average temperature in California over the last 10 years.\"\n",
      "\n",
      "I'm ready to help you explore the world of BigQuery data! Just let me know what you're interested in.\n",
      "\n",
      "--------------------------------------------------------------------------------\n"
     ]
    }
   ],
   "source": [
    "session_details = await remote_app.async_get_session(\n",
    "    user_id='demo_user',\n",
    "    session_id=remote_session['id']\n",
    ")\n",
    "\n",
    "print(f\"Session: {session_details['id']}\")\n",
    "print(f\"Events in session: {len(session_details.get('events', []))}\")\n",
    "print(\"\\nConversation history:\")\n",
    "print(\"=\" * 80)\n",
    "\n",
    "for event in session_details.get('events', []):\n",
    "    role = event.get('content', {}).get('role', 'unknown')\n",
    "    parts = event.get('content', {}).get('parts', [])\n",
    "    \n",
    "    print(f\"\\n[{role.upper()}]\")\n",
    "    for part in parts:\n",
    "        if 'text' in part:\n",
    "            print(part['text'])\n",
    "        elif 'function_call' in part:\n",
    "            print(f\"<Function Call: {part['function_call'].get('name')}>\")\n",
    "    print(\"-\" * 80)"
   ]
  },
  {
   "cell_type": "markdown",
   "metadata": {},
   "source": [
    "### Delete Session"
   ]
  },
  {
   "cell_type": "code",
   "execution_count": 18,
   "metadata": {},
   "outputs": [
    {
     "name": "stdout",
     "output_type": "stream",
     "text": [
      "✓ Session deleted\n"
     ]
    }
   ],
   "source": [
    "await remote_app.async_delete_session(\n",
    "    user_id='demo_user',\n",
    "    session_id=remote_session['id']\n",
    ")\n",
    "print(\"✓ Session deleted\")"
   ]
  },
  {
   "cell_type": "markdown",
   "metadata": {},
   "source": [
    "### Verify Deletion"
   ]
  },
  {
   "cell_type": "code",
   "execution_count": 19,
   "metadata": {},
   "outputs": [
    {
     "name": "stdout",
     "output_type": "stream",
     "text": [
      "Remaining sessions: 0\n"
     ]
    }
   ],
   "source": [
    "remaining_sessions = await remote_app.async_list_sessions(user_id='demo_user')\n",
    "print(f\"Remaining sessions: {len(remaining_sessions['sessions'])}\")"
   ]
  },
  {
   "cell_type": "markdown",
   "metadata": {},
   "source": [
    "---\n",
    "## Cleanup\n",
    "\n",
    "Delete all test sessions for a user."
   ]
  },
  {
   "cell_type": "code",
   "execution_count": 20,
   "metadata": {},
   "outputs": [
    {
     "name": "stdout",
     "output_type": "stream",
     "text": [
      "\n",
      "No sessions found for demo_user\n",
      "\n",
      "No sessions found for test_user\n",
      "\n",
      "✓ Cleanup complete\n"
     ]
    }
   ],
   "source": [
    "# List of test users to clean up\n",
    "test_users = ['demo_user', 'test_user']\n",
    "\n",
    "for user_id in test_users:\n",
    "    sessions = await remote_app.async_list_sessions(user_id=user_id)\n",
    "    \n",
    "    if sessions['sessions']:\n",
    "        print(f\"\\nCleaning up {len(sessions['sessions'])} session(s) for {user_id}\")\n",
    "        for session in sessions['sessions']:\n",
    "            await remote_app.async_delete_session(\n",
    "                user_id=user_id,\n",
    "                session_id=session['id']\n",
    "            )\n",
    "            print(f\"  ✓ Deleted session {session['id']}\")\n",
    "    else:\n",
    "        print(f\"\\nNo sessions found for {user_id}\")\n",
    "\n",
    "print(\"\\n✓ Cleanup complete\")"
   ]
  },
  {
   "cell_type": "markdown",
   "metadata": {},
   "source": [
    "---\n",
    "## Next Steps\n",
    "\n",
    "After testing your deployed agent:\n",
    "- Register with Gemini Enterprise using [register-adk-on-agent-engine-with-gemini-enterprise.ipynb](./register-adk-on-agent-engine-with-gemini-enterprise.ipynb)\n",
    "- Integrate the agent into your applications using the SDK or REST API patterns shown above"
   ]
  },
  {
   "cell_type": "markdown",
   "metadata": {},
   "source": []
  }
 ],
 "metadata": {
  "kernelspec": {
   "display_name": "Python (concept-bq)",
   "language": "python",
   "name": "concept-bq"
  },
  "language_info": {
   "codemirror_mode": {
    "name": "ipython",
    "version": 3
   },
   "file_extension": ".py",
   "mimetype": "text/x-python",
   "name": "python",
   "nbconvert_exporter": "python",
   "pygments_lexer": "ipython3",
   "version": "3.13.3"
  }
 },
 "nbformat": 4,
 "nbformat_minor": 4
}
