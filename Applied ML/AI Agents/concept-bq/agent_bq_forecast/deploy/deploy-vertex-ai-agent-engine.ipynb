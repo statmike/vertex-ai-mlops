{
 "cells": [
  {
   "cell_type": "markdown",
   "id": "6d5b0133",
   "metadata": {},
   "source": [
    "![tracker](https://us-central1-vertex-ai-mlops-369716.cloudfunctions.net/pixel-tracking?path=statmike%2Fvertex-ai-mlops%2FApplied+ML%2FAI+Agents%2Fconcept-bq%2Fagent_bq_forecast%2Fdeploy&file=deploy-vertex-ai-agent-engine.ipynb)\n",
    "<!--- header table --->\n",
    "<table align=\"left\">\n",
    "<tr>\n",
    "  <td style=\"text-align: center\">\n",
    "    <a href=\"https://github.com/statmike/vertex-ai-mlops/blob/main/Applied%20ML/AI%20Agents/concept-bq/agent_bq_forecast/deploy/deploy-vertex-ai-agent-engine.ipynb\">\n",
    "      <img width=\"32px\" src=\"https://www.svgrepo.com/download/217753/github.svg\" alt=\"GitHub logo\">\n",
    "      <br>View on<br>GitHub\n",
    "    </a>\n",
    "  </td>\n",
    "  <td style=\"text-align: center\">\n",
    "    <a href=\"https://colab.research.google.com/github/statmike/vertex-ai-mlops/blob/main/Applied%20ML/AI%20Agents/concept-bq/agent_bq_forecast/deploy/deploy-vertex-ai-agent-engine.ipynb\">\n",
    "      <img width=\"32px\" src=\"https://www.gstatic.com/pantheon/images/bigquery/welcome_page/colab-logo.svg\" alt=\"Google Colaboratory logo\">\n",
    "      <br>Run in<br>Colab\n",
    "    </a>\n",
    "  </td>\n",
    "  <td style=\"text-align: center\">\n",
    "    <a href=\"https://console.cloud.google.com/vertex-ai/colab/import/https%3A%2F%2Fraw.githubusercontent.com%2Fstatmike%2Fvertex-ai-mlops%2Fmain%2FApplied%2520ML%2FAI%2520Agents%2Fconcept-bq%2Fagent_bq_forecast%2Fdeploy%2Fdeploy-vertex-ai-agent-engine.ipynb\">\n",
    "      <img width=\"32px\" src=\"https://lh3.googleusercontent.com/JmcxdQi-qOpctIvWKgPtrzZdJJK-J3sWE1RsfjZNwshCFgE_9fULcNpuXYTilIR2hjwN\" alt=\"Google Cloud Colab Enterprise logo\">\n",
    "      <br>Run in<br>Colab Enterprise\n",
    "    </a>\n",
    "  </td>      \n",
    "  <td style=\"text-align: center\">\n",
    "    <a href=\"https://console.cloud.google.com/bigquery/import?url=https://github.com/statmike/vertex-ai-mlops/blob/main/Applied%20ML/AI%20Agents/concept-bq/agent_bq_forecast/deploy/deploy-vertex-ai-agent-engine.ipynb\">\n",
    "      <img width=\"32px\" src=\"https://www.gstatic.com/images/branding/gcpiconscolors/bigquery/v1/32px.svg\" alt=\"BigQuery logo\">\n",
    "      <br>Open in<br>BigQuery Studio\n",
    "    </a>\n",
    "  </td>\n",
    "  <td style=\"text-align: center\">\n",
    "    <a href=\"https://console.cloud.google.com/vertex-ai/workbench/deploy-notebook?download_url=https://raw.githubusercontent.com/statmike/vertex-ai-mlops/main/Applied%20ML/AI%20Agents/concept-bq/agent_bq_forecast/deploy/deploy-vertex-ai-agent-engine.ipynb\">\n",
    "      <img width=\"32px\" src=\"https://www.gstatic.com/images/branding/gcpiconscolors/vertexai/v1/32px.svg\" alt=\"Vertex AI logo\">\n",
    "      <br>Open in<br>Vertex AI Workbench\n",
    "    </a>\n",
    "  </td>\n",
    "</tr>\n",
    "<tr>\n",
    "  <td colspan=\"5\" style=\"text-align: right\">\n",
    "    <b>Share This On: </b> \n",
    "    <a href=\"https://www.linkedin.com/sharing/share-offsite/?url=https://github.com/statmike/vertex-ai-mlops/blob/main/Applied%2520ML/AI%2520Agents/concept-bq/agent_bq_forecast/deploy/deploy-vertex-ai-agent-engine.ipynb\"><img src=\"https://upload.wikimedia.org/wikipedia/commons/8/81/LinkedIn_icon.svg\" alt=\"Linkedin Logo\" width=\"20px\"></a> \n",
    "    <a href=\"https://reddit.com/submit?url=https://github.com/statmike/vertex-ai-mlops/blob/main/Applied%2520ML/AI%2520Agents/concept-bq/agent_bq_forecast/deploy/deploy-vertex-ai-agent-engine.ipynb\"><img src=\"https://redditinc.com/hubfs/Reddit%20Inc/Brand/Reddit_Logo.png\" alt=\"Reddit Logo\" width=\"20px\"></a> \n",
    "    <a href=\"https://bsky.app/intent/compose?text=https://github.com/statmike/vertex-ai-mlops/blob/main/Applied%2520ML/AI%2520Agents/concept-bq/agent_bq_forecast/deploy/deploy-vertex-ai-agent-engine.ipynb\"><img src=\"https://upload.wikimedia.org/wikipedia/commons/7/7a/Bluesky_Logo.svg\" alt=\"BlueSky Logo\" width=\"20px\"></a> \n",
    "    <a href=\"https://twitter.com/intent/tweet?url=https://github.com/statmike/vertex-ai-mlops/blob/main/Applied%2520ML/AI%2520Agents/concept-bq/agent_bq_forecast/deploy/deploy-vertex-ai-agent-engine.ipynb\"><img src=\"https://upload.wikimedia.org/wikipedia/commons/5/5a/X_icon_2.svg\" alt=\"X (Twitter) Logo\" width=\"20px\"></a> \n",
    "  </td>\n",
    "</tr>\n",
    "<tr>\n",
    "  <td colspan=\"5\" style=\"text-align: right\">\n",
    "    <b>Connect With Author On: </b> \n",
    "    <a href=\"https://www.linkedin.com/in/statmike\"><img src=\"https://upload.wikimedia.org/wikipedia/commons/8/81/LinkedIn_icon.svg\" alt=\"Linkedin Logo\" width=\"20px\"></a>\n",
    "    <a href=\"https://www.github.com/statmike\"><img src=\"https://www.svgrepo.com/download/217753/github.svg\" alt=\"GitHub Logo\" width=\"20px\"></a> \n",
    "    <a href=\"https://www.youtube.com/@statmike-channel\"><img src=\"https://upload.wikimedia.org/wikipedia/commons/f/fd/YouTube_full-color_icon_%282024%29.svg\" alt=\"YouTube Logo\" width=\"20px\"></a>\n",
    "    <a href=\"https://bsky.app/profile/statmike.bsky.social\"><img src=\"https://upload.wikimedia.org/wikipedia/commons/7/7a/Bluesky_Logo.svg\" alt=\"BlueSky Logo\" width=\"20px\"></a> \n",
    "    <a href=\"https://x.com/statmike\"><img src=\"https://upload.wikimedia.org/wikipedia/commons/5/5a/X_icon_2.svg\" alt=\"X (Twitter) Logo\" width=\"20px\"></a>\n",
    "  </td>\n",
    "</tr>\n",
    "</table>"
   ]
  },
  {
   "cell_type": "markdown",
   "metadata": {},
   "source": [
    "# Deploy Agent To Vertex AI Agent Engine\n",
    "\n",
    "After building and testing an agent built with ADK the next step is deployment for use in production workflows and applications. This notebook workflow shows the steps for deploying the agent on [Vertex AI Agent Engine](https://cloud.google.com/vertex-ai/generative-ai/docs/agent-engine/overview). This service includes:\n",
    "- [Development](https://cloud.google.com/vertex-ai/generative-ai/docs/agent-engine/develop/adk) tooling to test the agent locally first\n",
    "- [Deployment](https://cloud.google.com/vertex-ai/generative-ai/docs/agent-engine/deploy) tooling to create the agent instance on Vertex AI Agent Engine\n",
    "- [Agent Use](https://cloud.google.com/vertex-ai/generative-ai/docs/agent-engine/use/adk) SDK directly within the Vetex AI SDK\n",
    "- [Mangagement](https://cloud.google.com/vertex-ai/generative-ai/docs/agent-engine/manage/overview) services for access control, tracing, logging, and monitoring of deployed agents\n",
    "- and services like [Agent Evaluation](https://cloud.google.com/vertex-ai/generative-ai/docs/agent-engine/evaluate) and more!\n",
    "\n",
    "While Vertex AI Agent Engine is a service for many agent building frameworks (ADK, LangChain, LangGraph, AG2, LlamaIndex, Custom, ...) it is also directly integrated with Google ADK, the framework used in this project. [ADK Deployment](https://google.github.io/adk-docs/deploy/) options include [Vertex AI Agent Engine](https://google.github.io/adk-docs/deploy/agent-engine/) as well as [Cloud Run](https://google.github.io/adk-docs/deploy/cloud-run/) and [custom infrastructure](https://google.github.io/adk-docs/deploy/gke/) deployments.\n",
    "\n",
    "**Notes:**\n",
    "- This notebook is designed to be run from the `agent_name/deploy/` folder\n",
    "- It automatically discovers the agent from `../agent.py`\n",
    "- Project configuration is read from `../../.env` (main folder)\n",
    "- Deployment metadata is stored in `./deployment.json` (this folder)"
   ]
  },
  {
   "cell_type": "markdown",
   "metadata": {},
   "source": [
    "## Package Imports"
   ]
  },
  {
   "cell_type": "code",
   "execution_count": 1,
   "metadata": {},
   "outputs": [],
   "source": [
    "import os\n",
    "import sys\n",
    "import json\n",
    "import subprocess\n",
    "from datetime import datetime\n",
    "from pathlib import Path\n",
    "\n",
    "import dotenv\n",
    "\n",
    "import vertexai\n",
    "from vertexai import agent_engines"
   ]
  },
  {
   "cell_type": "code",
   "execution_count": 2,
   "metadata": {},
   "outputs": [
    {
     "name": "stdout",
     "output_type": "stream",
     "text": [
      "\n",
      "==================================================\n",
      "Google Cloud Project Information\n",
      "==================================================\n",
      "PROJECT_ID     = statmike-mlops-349915\n",
      "PROJECT_NUMBER = 1026793852137\n",
      "==================================================\n",
      "\n"
     ]
    }
   ],
   "source": [
    "PROJECT_ID = subprocess.run(['gcloud', 'config', 'get-value', 'project'], capture_output=True, text=True, check=True).stdout.strip()\n",
    "PROJECT_NUMBER = subprocess.run(['gcloud', 'projects', 'describe', PROJECT_ID, '--format=value(projectNumber)'], capture_output=True, text=True, check=True).stdout.strip()\n",
    "\n",
    "print(f\"\\n{'='*50}\\nGoogle Cloud Project Information\\n{'='*50}\\nPROJECT_ID     = {PROJECT_ID}\\nPROJECT_NUMBER = {PROJECT_NUMBER}\\n{'='*50}\\n\")"
   ]
  },
  {
   "cell_type": "markdown",
   "metadata": {},
   "source": [
    "## Auto-Configure Paths\n",
    "\n",
    "This notebook automatically detects its location and configures paths accordingly."
   ]
  },
  {
   "cell_type": "code",
   "execution_count": 3,
   "metadata": {},
   "outputs": [
    {
     "name": "stdout",
     "output_type": "stream",
     "text": [
      "Deploy folder: /usr/local/google/home/statmike/Git/vertex-ai-mlops/Applied ML/AI Agents/concept-bq/agent_bq_forecast/deploy\n",
      "Agent folder: /usr/local/google/home/statmike/Git/vertex-ai-mlops/Applied ML/AI Agents/concept-bq/agent_bq_forecast\n",
      "Project root: /usr/local/google/home/statmike/Git/vertex-ai-mlops/Applied ML/AI Agents/concept-bq\n",
      "Agent name: agent_bq_forecast\n"
     ]
    }
   ],
   "source": [
    "# Get current directory (should be agent_name/deploy/)\n",
    "deploy_folder = Path.cwd()\n",
    "agent_folder = deploy_folder.parent\n",
    "project_root = agent_folder.parent\n",
    "\n",
    "# Extract agent name from folder structure\n",
    "agent_name = agent_folder.name\n",
    "\n",
    "print(f\"Deploy folder: {deploy_folder}\")\n",
    "print(f\"Agent folder: {agent_folder}\")\n",
    "print(f\"Project root: {project_root}\")\n",
    "print(f\"Agent name: {agent_name}\")"
   ]
  },
  {
   "cell_type": "markdown",
   "metadata": {},
   "source": [
    "## Load Configuration\n",
    "\n",
    "Load project-wide configuration from the main `.env` file."
   ]
  },
  {
   "cell_type": "code",
   "execution_count": 4,
   "metadata": {},
   "outputs": [
    {
     "name": "stdout",
     "output_type": "stream",
     "text": [
      "Project: statmike-mlops-349915\n",
      "Location: us-central1\n",
      "Storage Bucket: gs://statmike-mlops-349915\n"
     ]
    }
   ],
   "source": [
    "# Load environment variables from project root\n",
    "env_path = project_root / '.env'\n",
    "dotenv.load_dotenv(dotenv_path=env_path)\n",
    "\n",
    "# Display loaded configuration\n",
    "print(f\"Project: {os.getenv('GOOGLE_CLOUD_PROJECT')}\")\n",
    "print(f\"Location: {os.getenv('GOOGLE_CLOUD_LOCATION')}\")\n",
    "print(f\"Storage Bucket: {os.getenv('GOOGLE_CLOUD_STORAGE_BUCKET')}\")"
   ]
  },
  {
   "cell_type": "markdown",
   "metadata": {},
   "source": [
    "## Initialize Vertex AI"
   ]
  },
  {
   "cell_type": "code",
   "execution_count": 5,
   "metadata": {},
   "outputs": [],
   "source": [
    "vertexai.init(\n",
    "    project=os.getenv('GOOGLE_CLOUD_PROJECT'),\n",
    "    location=os.getenv('GOOGLE_CLOUD_LOCATION'),\n",
    "    staging_bucket=os.getenv('GOOGLE_CLOUD_STORAGE_BUCKET')\n",
    ")"
   ]
  },
  {
   "cell_type": "markdown",
   "metadata": {},
   "source": [
    "## Suppress Warnings"
   ]
  },
  {
   "cell_type": "code",
   "execution_count": 6,
   "metadata": {},
   "outputs": [],
   "source": [
    "import warnings\n",
    "warnings.filterwarnings('ignore', message='.*EXPERIMENTAL.*')"
   ]
  },
  {
   "cell_type": "markdown",
   "metadata": {},
   "source": [
    "## Load Agent\n",
    "\n",
    "Import the `root_agent` from the parent directory."
   ]
  },
  {
   "cell_type": "code",
   "execution_count": 7,
   "metadata": {},
   "outputs": [
    {
     "name": "stdout",
     "output_type": "stream",
     "text": [
      "Agent Name: agent_bq_forecast\n",
      "Agent Description: An agent that can use bigquery with tools to answer questions with time series data including forecasting.\n",
      "Agent Model: gemini-2.5-flash\n"
     ]
    }
   ],
   "source": [
    "# Add parent directory to path to import agent module\n",
    "sys.path.insert(0, str(agent_folder.parent))\n",
    "\n",
    "# Import the agent dynamically\n",
    "agent_module = __import__(f\"{agent_name}.agent\", fromlist=['root_agent'])\n",
    "root_agent = agent_module.root_agent\n",
    "\n",
    "# Display agent info\n",
    "print(f\"Agent Name: {root_agent.name}\")\n",
    "print(f\"Agent Description: {root_agent.description}\")\n",
    "print(f\"Agent Model: {root_agent.model}\")"
   ]
  },
  {
   "cell_type": "markdown",
   "metadata": {},
   "source": [
    "## Configure GCS Path for Staging\n",
    "\n",
    "Define where agent artifacts will be staged in GCS.\n",
    "\n",
    "The path automatically mirrors the repository structure starting from \"Applied ML\", converted to lowercase with spaces replaced by hyphens."
   ]
  },
  {
   "cell_type": "code",
   "execution_count": 8,
   "metadata": {},
   "outputs": [
    {
     "name": "stdout",
     "output_type": "stream",
     "text": [
      "GCS staging path: applied-ml/ai-agents/concept-bq/agent_bq_forecast/staging\n"
     ]
    }
   ],
   "source": [
    "# Build GCS staging path mirroring repository structure from \"Applied ML\" level\n",
    "# Convert to lowercase and replace spaces with hyphens\n",
    "gcs_base = str(project_root).split('Applied ML/')[-1].lower().replace(' ', '-')\n",
    "agent_gcs_path = f\"applied-ml/{gcs_base}/{agent_name}/staging\"\n",
    "\n",
    "print(f\"GCS staging path: {agent_gcs_path}\")"
   ]
  },
  {
   "cell_type": "markdown",
   "metadata": {},
   "source": [
    "---\n",
    "## Local Testing: Prepare Agent for Vertex AI Agent Engine\n",
    "\n",
    "Before deploying the ADK agent to Vertex AI Agent Engine it can first be tested locally with the SDK.\n",
    "\n",
    "[SDK Link for `agent_engines.AdkApp`](https://github.com/googleapis/python-aiplatform/blob/main/vertexai/agent_engines/templates/adk.py)"
   ]
  },
  {
   "cell_type": "code",
   "execution_count": 9,
   "metadata": {},
   "outputs": [],
   "source": [
    "app = agent_engines.AdkApp(\n",
    "    agent=root_agent,\n",
    "    enable_tracing=True,\n",
    ")"
   ]
  },
  {
   "cell_type": "markdown",
   "metadata": {},
   "source": [
    "### Test Query\n",
    "\n",
    "**Customize this query to test your specific agent's capabilities.**"
   ]
  },
  {
   "cell_type": "code",
   "execution_count": 10,
   "metadata": {},
   "outputs": [
    {
     "name": "stdout",
     "output_type": "stream",
     "text": [
      "{'parts': [{'text': 'I am an expert AI assistant that can answer questions about any BigQuery public dataset. My primary goal is to accurately answer user questions by finding tables, reviewing their schema, and writing and executing SQL queries. I can also forecast time series data and visualize the results.\\n\\nHere are some examples of what I can do:\\n* List all tables in a dataset.\\n* Show the schema of a specific table.\\n* Run custom SQL queries on tables.\\n* Forecast future values based on historical time series data.\\n* Visualize forecast results.\\n\\nWhat would you like to know about BigQuery public datasets today?'}], 'role': 'model'}\n"
     ]
    }
   ],
   "source": [
    "async for event in app.async_stream_query(\n",
    "    user_id='test_user',\n",
    "    message=\"What can you do?\"\n",
    "):\n",
    "    print(event.get('content'))"
   ]
  },
  {
   "cell_type": "markdown",
   "metadata": {},
   "source": [
    "### Clean Up Test Session"
   ]
  },
  {
   "cell_type": "code",
   "execution_count": 11,
   "metadata": {},
   "outputs": [
    {
     "name": "stdout",
     "output_type": "stream",
     "text": [
      "Found 1 session(s)\n",
      "Deleted session: 0d60e89f-6cbd-449a-94ab-4603aa6d9083\n"
     ]
    }
   ],
   "source": [
    "# List sessions\n",
    "list_sessions = await app.async_list_sessions(user_id='test_user')\n",
    "print(f\"Found {len(list_sessions.sessions)} session(s)\")\n",
    "\n",
    "# Delete all test sessions\n",
    "for session in list_sessions.sessions:\n",
    "    await app.async_delete_session(user_id='test_user', session_id=session.id)\n",
    "    print(f\"Deleted session: {session.id}\")"
   ]
  },
  {
   "cell_type": "markdown",
   "metadata": {},
   "source": [
    "---\n",
    "## Deploy To Vertex AI Agent Engine\n",
    "\n",
    "Now that the ADK Agent has been tested locally it can be deployed to Vertex AI Agent Engine.\n",
    "\n",
    "[SDK for `agent_engines.get | create | list | delete | update`](https://github.com/googleapis/python-aiplatform/blob/main/vertexai/agent_engines/__init__.py)"
   ]
  },
  {
   "cell_type": "markdown",
   "metadata": {},
   "source": [
    "### Load Deployment Metadata\n",
    "\n",
    "Check if this agent has been deployed previously by reading `deployment.json`."
   ]
  },
  {
   "cell_type": "code",
   "execution_count": 12,
   "metadata": {},
   "outputs": [
    {
     "name": "stdout",
     "output_type": "stream",
     "text": [
      "Current deployment resource ID: None\n"
     ]
    }
   ],
   "source": [
    "deployment_file = deploy_folder / 'deployment.json'\n",
    "\n",
    "# Load existing deployment metadata if it exists\n",
    "if deployment_file.exists():\n",
    "    with open(deployment_file, 'r') as f:\n",
    "        deployment_metadata = json.load(f)\n",
    "    current_deployment = deployment_metadata.get('resource_id', '')\n",
    "else:\n",
    "    deployment_metadata = {}\n",
    "    current_deployment = ''\n",
    "\n",
    "print(f\"Current deployment resource ID: {current_deployment or 'None'}\")"
   ]
  },
  {
   "cell_type": "markdown",
   "metadata": {},
   "source": [
    "### Detect Existing Deployment"
   ]
  },
  {
   "cell_type": "code",
   "execution_count": 13,
   "metadata": {},
   "outputs": [
    {
     "name": "stdout",
     "output_type": "stream",
     "text": [
      "No previous deployment found\n"
     ]
    }
   ],
   "source": [
    "remote_app = None\n",
    "\n",
    "if current_deployment:\n",
    "    try:\n",
    "        remote_app = agent_engines.get(resource_name=current_deployment)\n",
    "        print(f\"Found existing deployment: {remote_app.resource_name}\")\n",
    "    except Exception as e:\n",
    "        print(f\"Could not retrieve deployment: {e}\")\n",
    "        print(\"Will create new deployment\")\n",
    "else:\n",
    "    print(\"No previous deployment found\")"
   ]
  },
  {
   "cell_type": "code",
   "execution_count": 14,
   "metadata": {},
   "outputs": [],
   "source": [
    "remote_app"
   ]
  },
  {
   "cell_type": "markdown",
   "metadata": {},
   "source": [
    "### Create A Deployment\n",
    "\n",
    "If a prior deployment was not found, create a new deployment."
   ]
  },
  {
   "cell_type": "code",
   "execution_count": 16,
   "metadata": {},
   "outputs": [
    {
     "name": "stdout",
     "output_type": "stream",
     "text": [
      "Creating new deployment...\n",
      "Deploying google.adk.agents.Agent as an application.\n",
      "Reading requirements from requirements='requirements.txt'\n",
      "Read the following lines: ['absolufy-imports==0.3.1 ; python_version >= \"3.13\" and python_full_version < \"3.14.0\"', 'aiohappyeyeballs==2.6.1 ; python_version >= \"3.13\" and python_full_version < \"3.14.0\"', 'aiohttp==3.13.0 ; python_version >= \"3.13\" and python_full_version < \"3.14.0\"', 'aiosignal==1.4.0 ; python_version >= \"3.13\" and python_full_version < \"3.14.0\"', 'alembic==1.17.0 ; python_version >= \"3.13\" and python_full_version < \"3.14.0\"', 'altair==5.5.0 ; python_version >= \"3.13\" and python_full_version < \"3.14.0\"', 'annotated-types==0.7.0 ; python_version >= \"3.13\" and python_full_version < \"3.14.0\"', 'anyio==4.11.0 ; python_version >= \"3.13\" and python_full_version < \"3.14.0\"', 'appnope==0.1.4 ; python_version >= \"3.13\" and python_full_version < \"3.14.0\" and platform_system == \"Darwin\"', 'asttokens==3.0.0 ; python_version >= \"3.13\" and python_full_version < \"3.14.0\"', 'attrs==25.4.0 ; python_version >= \"3.13\" and python_full_version < \"3.14.0\"', 'authlib==1.6.5 ; python_version >= \"3.13\" and python_full_version < \"3.14.0\"', 'cachetools==6.2.1 ; python_version >= \"3.13\" and python_full_version < \"3.14.0\"', 'certifi==2025.10.5 ; python_version >= \"3.13\" and python_full_version < \"3.14.0\"', 'cffi==2.0.0 ; python_version >= \"3.13\" and python_full_version < \"3.14.0\" and (platform_python_implementation != \"PyPy\" or implementation_name == \"pypy\")', 'charset-normalizer==3.4.4 ; python_version >= \"3.13\" and python_full_version < \"3.14.0\"', 'click==8.3.0 ; python_version >= \"3.13\" and python_full_version < \"3.14.0\"', 'cloudpickle==3.1.1 ; python_version >= \"3.13\" and python_full_version < \"3.14.0\"', 'colorama==0.4.6 ; python_version >= \"3.13\" and python_full_version < \"3.14.0\" and (platform_system == \"Windows\" or sys_platform == \"win32\")', 'comm==0.2.3 ; python_version >= \"3.13\" and python_full_version < \"3.14.0\"', 'cryptography==46.0.2 ; python_version >= \"3.13\" and python_full_version < \"3.14.0\"', 'db-dtypes==1.4.3 ; python_version >= \"3.13\" and python_full_version < \"3.14.0\"', 'debugpy==1.8.17 ; python_version >= \"3.13\" and python_full_version < \"3.14.0\"', 'decorator==5.2.1 ; python_version >= \"3.13\" and python_full_version < \"3.14.0\"', 'deprecated==1.2.18 ; python_version >= \"3.13\" and python_full_version < \"3.14.0\"', 'docstring-parser==0.17.0 ; python_version >= \"3.13\" and python_full_version < \"3.14.0\"', 'executing==2.2.1 ; python_version >= \"3.13\" and python_full_version < \"3.14.0\"', 'fastapi==0.119.0 ; python_version >= \"3.13\" and python_full_version < \"3.14.0\"', 'frozenlist==1.8.0 ; python_version >= \"3.13\" and python_full_version < \"3.14.0\"', 'google-adk==1.16.0 ; python_version >= \"3.13\" and python_full_version < \"3.14.0\"', 'google-api-core==2.26.0 ; python_version >= \"3.13\" and python_full_version < \"3.14.0\"', 'google-api-python-client==2.184.0 ; python_version >= \"3.13\" and python_full_version < \"3.14.0\"', 'google-auth-httplib2==0.2.0 ; python_version >= \"3.13\" and python_full_version < \"3.14.0\"', 'google-auth==2.41.1 ; python_version >= \"3.13\" and python_full_version < \"3.14.0\"', 'google-cloud-aiplatform==1.120.0 ; python_version >= \"3.13\" and python_full_version < \"3.14.0\"', 'google-cloud-appengine-logging==1.6.2 ; python_version >= \"3.13\" and python_full_version < \"3.14.0\"', 'google-cloud-audit-log==0.3.3 ; python_version >= \"3.13\" and python_full_version < \"3.14.0\"', 'google-cloud-bigquery==3.38.0 ; python_version >= \"3.13\" and python_full_version < \"3.14.0\"', 'google-cloud-bigtable==2.33.0 ; python_version >= \"3.13\" and python_full_version < \"3.14.0\"', 'google-cloud-core==2.4.3 ; python_version >= \"3.13\" and python_full_version < \"3.14.0\"', 'google-cloud-discoveryengine==0.13.12 ; python_version >= \"3.13\" and python_full_version < \"3.14.0\"', 'google-cloud-geminidataanalytics==0.3.0 ; python_version >= \"3.13\" and python_full_version < \"3.14.0\"', 'google-cloud-logging==3.12.1 ; python_version >= \"3.13\" and python_full_version < \"3.14.0\"', 'google-cloud-monitoring==2.28.0 ; python_version >= \"3.13\" and python_full_version < \"3.14.0\"', 'google-cloud-resource-manager==1.14.2 ; python_version >= \"3.13\" and python_full_version < \"3.14.0\"', 'google-cloud-secret-manager==2.25.0 ; python_version >= \"3.13\" and python_full_version < \"3.14.0\"', 'google-cloud-spanner==3.58.0 ; python_version >= \"3.13\" and python_full_version < \"3.14.0\"', 'google-cloud-speech==2.33.0 ; python_version >= \"3.13\" and python_full_version < \"3.14.0\"', 'google-cloud-storage==2.19.0 ; python_version >= \"3.13\" and python_full_version < \"3.14.0\"', 'google-cloud-trace==1.16.2 ; python_version >= \"3.13\" and python_full_version < \"3.14.0\"', 'google-crc32c==1.7.1 ; python_version >= \"3.13\" and python_full_version < \"3.14.0\"', 'google-genai==1.44.0 ; python_version >= \"3.13\" and python_full_version < \"3.14.0\"', 'google-resumable-media==2.7.2 ; python_version >= \"3.13\" and python_full_version < \"3.14.0\"', 'googleapis-common-protos==1.70.0 ; python_version >= \"3.13\" and python_full_version < \"3.14.0\"', 'graphviz==0.21 ; python_version >= \"3.13\" and python_full_version < \"3.14.0\"', 'greenlet==3.2.4 ; python_version >= \"3.13\" and python_full_version < \"3.14.0\" and (platform_machine == \"aarch64\" or platform_machine == \"ppc64le\" or platform_machine == \"x86_64\" or platform_machine == \"amd64\" or platform_machine == \"AMD64\" or platform_machine == \"win32\" or platform_machine == \"WIN32\")', 'grpc-google-iam-v1==0.14.2 ; python_version >= \"3.13\" and python_full_version < \"3.14.0\"', 'grpc-interceptor==0.15.4 ; python_version == \"3.13\"', 'grpcio-status==1.75.1 ; python_version >= \"3.13\" and python_full_version < \"3.14.0\"', 'grpcio==1.75.1 ; python_version >= \"3.13\" and python_full_version < \"3.14.0\"', 'h11==0.16.0 ; python_version >= \"3.13\" and python_full_version < \"3.14.0\"', 'httpcore==1.0.9 ; python_version >= \"3.13\" and python_full_version < \"3.14.0\"', 'httplib2==0.31.0 ; python_version >= \"3.13\" and python_full_version < \"3.14.0\"', 'httpx-sse==0.4.3 ; python_version >= \"3.13\" and python_full_version < \"3.14.0\"', 'httpx==0.28.1 ; python_version >= \"3.13\" and python_full_version < \"3.14.0\"', 'idna==3.11 ; python_version >= \"3.13\" and python_full_version < \"3.14.0\"', 'importlib-metadata==8.7.0 ; python_version >= \"3.13\" and python_full_version < \"3.14.0\"', 'ipykernel==7.0.1 ; python_version >= \"3.13\" and python_full_version < \"3.14.0\"', 'ipython-pygments-lexers==1.1.1 ; python_version >= \"3.13\" and python_full_version < \"3.14.0\"', 'ipython==9.6.0 ; python_version >= \"3.13\" and python_full_version < \"3.14.0\"', 'jedi==0.19.2 ; python_version >= \"3.13\" and python_full_version < \"3.14.0\"', 'jinja2==3.1.6 ; python_version >= \"3.13\" and python_full_version < \"3.14.0\"', 'jsonschema-specifications==2025.9.1 ; python_version >= \"3.13\" and python_full_version < \"3.14.0\"', 'jsonschema==4.25.1 ; python_version >= \"3.13\" and python_full_version < \"3.14.0\"', 'jupyter-client==8.6.3 ; python_version >= \"3.13\" and python_full_version < \"3.14.0\"', 'jupyter-core==5.8.1 ; python_version >= \"3.13\" and python_full_version < \"3.14.0\"', 'mako==1.3.10 ; python_version >= \"3.13\" and python_full_version < \"3.14.0\"', 'markupsafe==3.0.3 ; python_version >= \"3.13\" and python_full_version < \"3.14.0\"', 'matplotlib-inline==0.1.7 ; python_version >= \"3.13\" and python_full_version < \"3.14.0\"', 'mcp==1.17.0 ; python_version >= \"3.13\" and python_full_version < \"3.14.0\"', 'multidict==6.7.0 ; python_version >= \"3.13\" and python_full_version < \"3.14.0\"', 'narwhals==2.8.0 ; python_version >= \"3.13\" and python_full_version < \"3.14.0\"', 'nest-asyncio==1.6.0 ; python_version >= \"3.13\" and python_full_version < \"3.14.0\"', 'numpy==2.3.4 ; python_version >= \"3.13\" and python_full_version < \"3.14.0\"', 'opentelemetry-api==1.37.0 ; python_version >= \"3.13\" and python_full_version < \"3.14.0\"', 'opentelemetry-exporter-gcp-logging==1.10.0a0 ; python_version >= \"3.13\" and python_full_version < \"3.14.0\"', 'opentelemetry-exporter-gcp-monitoring==1.10.0a0 ; python_version >= \"3.13\" and python_full_version < \"3.14.0\"', 'opentelemetry-exporter-gcp-trace==1.10.0 ; python_version >= \"3.13\" and python_full_version < \"3.14.0\"', 'opentelemetry-exporter-otlp-proto-common==1.37.0 ; python_version >= \"3.13\" and python_full_version < \"3.14.0\"', 'opentelemetry-exporter-otlp-proto-http==1.37.0 ; python_version >= \"3.13\" and python_full_version < \"3.14.0\"', 'opentelemetry-proto==1.37.0 ; python_version >= \"3.13\" and python_full_version < \"3.14.0\"', 'opentelemetry-resourcedetector-gcp==1.10.0a0 ; python_version >= \"3.13\" and python_full_version < \"3.14.0\"', 'opentelemetry-sdk==1.37.0 ; python_version >= \"3.13\" and python_full_version < \"3.14.0\"', 'opentelemetry-semantic-conventions==0.58b0 ; python_version >= \"3.13\" and python_full_version < \"3.14.0\"', 'packaging==25.0 ; python_version >= \"3.13\" and python_full_version < \"3.14.0\"', 'pandas==2.3.3 ; python_version >= \"3.13\" and python_full_version < \"3.14.0\"', 'parso==0.8.5 ; python_version >= \"3.13\" and python_full_version < \"3.14.0\"', 'pexpect==4.9.0 ; python_version >= \"3.13\" and python_full_version < \"3.14.0\" and sys_platform != \"win32\" and sys_platform != \"emscripten\"', 'platformdirs==4.5.0 ; python_version >= \"3.13\" and python_full_version < \"3.14.0\"', 'plotly==6.3.1 ; python_version >= \"3.13\" and python_full_version < \"3.14.0\"', 'prompt-toolkit==3.0.52 ; python_version >= \"3.13\" and python_full_version < \"3.14.0\"', 'propcache==0.4.1 ; python_version >= \"3.13\" and python_full_version < \"3.14.0\"', 'proto-plus==1.26.1 ; python_version >= \"3.13\" and python_full_version < \"3.14.0\"', 'protobuf==6.32.1 ; python_version >= \"3.13\" and python_full_version < \"3.14.0\"', 'psutil==6.1.1 ; python_version >= \"3.13\" and python_full_version < \"3.14.0\"', 'ptyprocess==0.7.0 ; python_version >= \"3.13\" and python_full_version < \"3.14.0\" and sys_platform != \"win32\" and sys_platform != \"emscripten\"', 'pure-eval==0.2.3 ; python_version >= \"3.13\" and python_full_version < \"3.14.0\"', 'pyarrow==21.0.0 ; python_version >= \"3.13\" and python_full_version < \"3.14.0\"', 'pyasn1-modules==0.4.2 ; python_version >= \"3.13\" and python_full_version < \"3.14.0\"', 'pyasn1==0.6.1 ; python_version >= \"3.13\" and python_full_version < \"3.14.0\"', 'pycparser==2.23 ; python_version >= \"3.13\" and python_full_version < \"3.14.0\" and (platform_python_implementation != \"PyPy\" or implementation_name == \"pypy\") and implementation_name != \"PyPy\"', 'pydantic-core==2.41.4 ; python_version >= \"3.13\" and python_full_version < \"3.14.0\"', 'pydantic-settings==2.11.0 ; python_version >= \"3.13\" and python_full_version < \"3.14.0\"', 'pydantic==2.12.2 ; python_version >= \"3.13\" and python_full_version < \"3.14.0\"', 'pygments==2.19.2 ; python_version >= \"3.13\" and python_full_version < \"3.14.0\"', 'pyparsing==3.2.5 ; python_version >= \"3.13\" and python_full_version < \"3.14.0\"', 'python-dateutil==2.9.0.post0 ; python_version >= \"3.13\" and python_full_version < \"3.14.0\"', 'python-dotenv==1.1.1 ; python_version >= \"3.13\" and python_full_version < \"3.14.0\"', 'python-multipart==0.0.20 ; python_version >= \"3.13\" and python_full_version < \"3.14.0\"', 'pytz==2025.2 ; python_version >= \"3.13\" and python_full_version < \"3.14.0\"', 'pywin32==311 ; python_version >= \"3.13\" and python_full_version < \"3.14.0\" and sys_platform == \"win32\"', 'pyyaml==6.0.3 ; python_version >= \"3.13\" and python_full_version < \"3.14.0\"', 'pyzmq==27.1.0 ; python_version >= \"3.13\" and python_full_version < \"3.14.0\"', 'referencing==0.37.0 ; python_version >= \"3.13\" and python_full_version < \"3.14.0\"', 'requests==2.32.5 ; python_version >= \"3.13\" and python_full_version < \"3.14.0\"', 'rpds-py==0.27.1 ; python_version >= \"3.13\" and python_full_version < \"3.14.0\"', 'rsa==4.9.1 ; python_version == \"3.13\"', 'shapely==2.1.2 ; python_version >= \"3.13\" and python_full_version < \"3.14.0\"', 'six==1.17.0 ; python_version >= \"3.13\" and python_full_version < \"3.14.0\"', 'sniffio==1.3.1 ; python_version >= \"3.13\" and python_full_version < \"3.14.0\"', 'sqlalchemy-spanner==1.17.0 ; python_version >= \"3.13\" and python_full_version < \"3.14.0\"', 'sqlalchemy==2.0.44 ; python_version >= \"3.13\" and python_full_version < \"3.14.0\"', 'sqlparse==0.5.3 ; python_version >= \"3.13\" and python_full_version < \"3.14.0\"', 'sse-starlette==3.0.2 ; python_version >= \"3.13\" and python_full_version < \"3.14.0\"', 'stack-data==0.6.3 ; python_version >= \"3.13\" and python_full_version < \"3.14.0\"', 'starlette==0.48.0 ; python_version >= \"3.13\" and python_full_version < \"3.14.0\"', 'tabulate==0.9.0 ; python_version >= \"3.13\" and python_full_version < \"3.14.0\"', 'tenacity==8.5.0 ; python_version >= \"3.13\" and python_full_version < \"3.14.0\"', 'toolbox-core==0.5.2 ; python_version >= \"3.13\" and python_full_version < \"3.14.0\"', 'tornado==6.5.2 ; python_version >= \"3.13\" and python_full_version < \"3.14.0\"', 'traitlets==5.14.3 ; python_version >= \"3.13\" and python_full_version < \"3.14.0\"', 'typing-extensions==4.15.0 ; python_version >= \"3.13\" and python_full_version < \"3.14.0\"', 'typing-inspection==0.4.2 ; python_version >= \"3.13\" and python_full_version < \"3.14.0\"', 'tzdata==2025.2 ; python_version >= \"3.13\" and python_full_version < \"3.14.0\"', 'tzlocal==5.3.1 ; python_version >= \"3.13\" and python_full_version < \"3.14.0\"', 'uritemplate==4.2.0 ; python_version >= \"3.13\" and python_full_version < \"3.14.0\"', 'urllib3==2.5.0 ; python_version >= \"3.13\" and python_full_version < \"3.14.0\"', 'uvicorn==0.37.0 ; python_version >= \"3.13\" and python_full_version < \"3.14.0\"', 'vl-convert-python==1.8.0 ; python_version >= \"3.13\" and python_full_version < \"3.14.0\"', 'watchdog==6.0.0 ; python_version >= \"3.13\" and python_full_version < \"3.14.0\"', 'wcwidth==0.2.14 ; python_version >= \"3.13\" and python_full_version < \"3.14.0\"', 'websockets==15.0.1 ; python_version >= \"3.13\" and python_full_version < \"3.14.0\"', 'wrapt==1.17.3 ; python_version >= \"3.13\" and python_full_version < \"3.14.0\"', 'yarl==1.22.0 ; python_version >= \"3.13\" and python_full_version < \"3.14.0\"', 'zipp==3.23.0 ; python_version >= \"3.13\" and python_full_version < \"3.14.0\"']\n",
      "Identified the following requirements: {'pydantic': '2.12.2', 'cloudpickle': '3.1.1', 'google-cloud-aiplatform': '1.120.0'}\n",
      "The final list of requirements: ['absolufy-imports==0.3.1 ; python_version >= \"3.13\" and python_full_version < \"3.14.0\"', 'aiohappyeyeballs==2.6.1 ; python_version >= \"3.13\" and python_full_version < \"3.14.0\"', 'aiohttp==3.13.0 ; python_version >= \"3.13\" and python_full_version < \"3.14.0\"', 'aiosignal==1.4.0 ; python_version >= \"3.13\" and python_full_version < \"3.14.0\"', 'alembic==1.17.0 ; python_version >= \"3.13\" and python_full_version < \"3.14.0\"', 'altair==5.5.0 ; python_version >= \"3.13\" and python_full_version < \"3.14.0\"', 'annotated-types==0.7.0 ; python_version >= \"3.13\" and python_full_version < \"3.14.0\"', 'anyio==4.11.0 ; python_version >= \"3.13\" and python_full_version < \"3.14.0\"', 'appnope==0.1.4 ; python_version >= \"3.13\" and python_full_version < \"3.14.0\" and platform_system == \"Darwin\"', 'asttokens==3.0.0 ; python_version >= \"3.13\" and python_full_version < \"3.14.0\"', 'attrs==25.4.0 ; python_version >= \"3.13\" and python_full_version < \"3.14.0\"', 'authlib==1.6.5 ; python_version >= \"3.13\" and python_full_version < \"3.14.0\"', 'cachetools==6.2.1 ; python_version >= \"3.13\" and python_full_version < \"3.14.0\"', 'certifi==2025.10.5 ; python_version >= \"3.13\" and python_full_version < \"3.14.0\"', 'cffi==2.0.0 ; python_version >= \"3.13\" and python_full_version < \"3.14.0\" and (platform_python_implementation != \"PyPy\" or implementation_name == \"pypy\")', 'charset-normalizer==3.4.4 ; python_version >= \"3.13\" and python_full_version < \"3.14.0\"', 'click==8.3.0 ; python_version >= \"3.13\" and python_full_version < \"3.14.0\"', 'cloudpickle==3.1.1 ; python_version >= \"3.13\" and python_full_version < \"3.14.0\"', 'colorama==0.4.6 ; python_version >= \"3.13\" and python_full_version < \"3.14.0\" and (platform_system == \"Windows\" or sys_platform == \"win32\")', 'comm==0.2.3 ; python_version >= \"3.13\" and python_full_version < \"3.14.0\"', 'cryptography==46.0.2 ; python_version >= \"3.13\" and python_full_version < \"3.14.0\"', 'db-dtypes==1.4.3 ; python_version >= \"3.13\" and python_full_version < \"3.14.0\"', 'debugpy==1.8.17 ; python_version >= \"3.13\" and python_full_version < \"3.14.0\"', 'decorator==5.2.1 ; python_version >= \"3.13\" and python_full_version < \"3.14.0\"', 'deprecated==1.2.18 ; python_version >= \"3.13\" and python_full_version < \"3.14.0\"', 'docstring-parser==0.17.0 ; python_version >= \"3.13\" and python_full_version < \"3.14.0\"', 'executing==2.2.1 ; python_version >= \"3.13\" and python_full_version < \"3.14.0\"', 'fastapi==0.119.0 ; python_version >= \"3.13\" and python_full_version < \"3.14.0\"', 'frozenlist==1.8.0 ; python_version >= \"3.13\" and python_full_version < \"3.14.0\"', 'google-adk==1.16.0 ; python_version >= \"3.13\" and python_full_version < \"3.14.0\"', 'google-api-core==2.26.0 ; python_version >= \"3.13\" and python_full_version < \"3.14.0\"', 'google-api-python-client==2.184.0 ; python_version >= \"3.13\" and python_full_version < \"3.14.0\"', 'google-auth-httplib2==0.2.0 ; python_version >= \"3.13\" and python_full_version < \"3.14.0\"', 'google-auth==2.41.1 ; python_version >= \"3.13\" and python_full_version < \"3.14.0\"', 'google-cloud-aiplatform==1.120.0 ; python_version >= \"3.13\" and python_full_version < \"3.14.0\"', 'google-cloud-appengine-logging==1.6.2 ; python_version >= \"3.13\" and python_full_version < \"3.14.0\"', 'google-cloud-audit-log==0.3.3 ; python_version >= \"3.13\" and python_full_version < \"3.14.0\"', 'google-cloud-bigquery==3.38.0 ; python_version >= \"3.13\" and python_full_version < \"3.14.0\"', 'google-cloud-bigtable==2.33.0 ; python_version >= \"3.13\" and python_full_version < \"3.14.0\"', 'google-cloud-core==2.4.3 ; python_version >= \"3.13\" and python_full_version < \"3.14.0\"', 'google-cloud-discoveryengine==0.13.12 ; python_version >= \"3.13\" and python_full_version < \"3.14.0\"', 'google-cloud-geminidataanalytics==0.3.0 ; python_version >= \"3.13\" and python_full_version < \"3.14.0\"', 'google-cloud-logging==3.12.1 ; python_version >= \"3.13\" and python_full_version < \"3.14.0\"', 'google-cloud-monitoring==2.28.0 ; python_version >= \"3.13\" and python_full_version < \"3.14.0\"', 'google-cloud-resource-manager==1.14.2 ; python_version >= \"3.13\" and python_full_version < \"3.14.0\"', 'google-cloud-secret-manager==2.25.0 ; python_version >= \"3.13\" and python_full_version < \"3.14.0\"', 'google-cloud-spanner==3.58.0 ; python_version >= \"3.13\" and python_full_version < \"3.14.0\"', 'google-cloud-speech==2.33.0 ; python_version >= \"3.13\" and python_full_version < \"3.14.0\"', 'google-cloud-storage==2.19.0 ; python_version >= \"3.13\" and python_full_version < \"3.14.0\"', 'google-cloud-trace==1.16.2 ; python_version >= \"3.13\" and python_full_version < \"3.14.0\"', 'google-crc32c==1.7.1 ; python_version >= \"3.13\" and python_full_version < \"3.14.0\"', 'google-genai==1.44.0 ; python_version >= \"3.13\" and python_full_version < \"3.14.0\"', 'google-resumable-media==2.7.2 ; python_version >= \"3.13\" and python_full_version < \"3.14.0\"', 'googleapis-common-protos==1.70.0 ; python_version >= \"3.13\" and python_full_version < \"3.14.0\"', 'graphviz==0.21 ; python_version >= \"3.13\" and python_full_version < \"3.14.0\"', 'greenlet==3.2.4 ; python_version >= \"3.13\" and python_full_version < \"3.14.0\" and (platform_machine == \"aarch64\" or platform_machine == \"ppc64le\" or platform_machine == \"x86_64\" or platform_machine == \"amd64\" or platform_machine == \"AMD64\" or platform_machine == \"win32\" or platform_machine == \"WIN32\")', 'grpc-google-iam-v1==0.14.2 ; python_version >= \"3.13\" and python_full_version < \"3.14.0\"', 'grpc-interceptor==0.15.4 ; python_version == \"3.13\"', 'grpcio-status==1.75.1 ; python_version >= \"3.13\" and python_full_version < \"3.14.0\"', 'grpcio==1.75.1 ; python_version >= \"3.13\" and python_full_version < \"3.14.0\"', 'h11==0.16.0 ; python_version >= \"3.13\" and python_full_version < \"3.14.0\"', 'httpcore==1.0.9 ; python_version >= \"3.13\" and python_full_version < \"3.14.0\"', 'httplib2==0.31.0 ; python_version >= \"3.13\" and python_full_version < \"3.14.0\"', 'httpx-sse==0.4.3 ; python_version >= \"3.13\" and python_full_version < \"3.14.0\"', 'httpx==0.28.1 ; python_version >= \"3.13\" and python_full_version < \"3.14.0\"', 'idna==3.11 ; python_version >= \"3.13\" and python_full_version < \"3.14.0\"', 'importlib-metadata==8.7.0 ; python_version >= \"3.13\" and python_full_version < \"3.14.0\"', 'ipykernel==7.0.1 ; python_version >= \"3.13\" and python_full_version < \"3.14.0\"', 'ipython-pygments-lexers==1.1.1 ; python_version >= \"3.13\" and python_full_version < \"3.14.0\"', 'ipython==9.6.0 ; python_version >= \"3.13\" and python_full_version < \"3.14.0\"', 'jedi==0.19.2 ; python_version >= \"3.13\" and python_full_version < \"3.14.0\"', 'jinja2==3.1.6 ; python_version >= \"3.13\" and python_full_version < \"3.14.0\"', 'jsonschema-specifications==2025.9.1 ; python_version >= \"3.13\" and python_full_version < \"3.14.0\"', 'jsonschema==4.25.1 ; python_version >= \"3.13\" and python_full_version < \"3.14.0\"', 'jupyter-client==8.6.3 ; python_version >= \"3.13\" and python_full_version < \"3.14.0\"', 'jupyter-core==5.8.1 ; python_version >= \"3.13\" and python_full_version < \"3.14.0\"', 'mako==1.3.10 ; python_version >= \"3.13\" and python_full_version < \"3.14.0\"', 'markupsafe==3.0.3 ; python_version >= \"3.13\" and python_full_version < \"3.14.0\"', 'matplotlib-inline==0.1.7 ; python_version >= \"3.13\" and python_full_version < \"3.14.0\"', 'mcp==1.17.0 ; python_version >= \"3.13\" and python_full_version < \"3.14.0\"', 'multidict==6.7.0 ; python_version >= \"3.13\" and python_full_version < \"3.14.0\"', 'narwhals==2.8.0 ; python_version >= \"3.13\" and python_full_version < \"3.14.0\"', 'nest-asyncio==1.6.0 ; python_version >= \"3.13\" and python_full_version < \"3.14.0\"', 'numpy==2.3.4 ; python_version >= \"3.13\" and python_full_version < \"3.14.0\"', 'opentelemetry-api==1.37.0 ; python_version >= \"3.13\" and python_full_version < \"3.14.0\"', 'opentelemetry-exporter-gcp-logging==1.10.0a0 ; python_version >= \"3.13\" and python_full_version < \"3.14.0\"', 'opentelemetry-exporter-gcp-monitoring==1.10.0a0 ; python_version >= \"3.13\" and python_full_version < \"3.14.0\"', 'opentelemetry-exporter-gcp-trace==1.10.0 ; python_version >= \"3.13\" and python_full_version < \"3.14.0\"', 'opentelemetry-exporter-otlp-proto-common==1.37.0 ; python_version >= \"3.13\" and python_full_version < \"3.14.0\"', 'opentelemetry-exporter-otlp-proto-http==1.37.0 ; python_version >= \"3.13\" and python_full_version < \"3.14.0\"', 'opentelemetry-proto==1.37.0 ; python_version >= \"3.13\" and python_full_version < \"3.14.0\"', 'opentelemetry-resourcedetector-gcp==1.10.0a0 ; python_version >= \"3.13\" and python_full_version < \"3.14.0\"', 'opentelemetry-sdk==1.37.0 ; python_version >= \"3.13\" and python_full_version < \"3.14.0\"', 'opentelemetry-semantic-conventions==0.58b0 ; python_version >= \"3.13\" and python_full_version < \"3.14.0\"', 'packaging==25.0 ; python_version >= \"3.13\" and python_full_version < \"3.14.0\"', 'pandas==2.3.3 ; python_version >= \"3.13\" and python_full_version < \"3.14.0\"', 'parso==0.8.5 ; python_version >= \"3.13\" and python_full_version < \"3.14.0\"', 'pexpect==4.9.0 ; python_version >= \"3.13\" and python_full_version < \"3.14.0\" and sys_platform != \"win32\" and sys_platform != \"emscripten\"', 'platformdirs==4.5.0 ; python_version >= \"3.13\" and python_full_version < \"3.14.0\"', 'plotly==6.3.1 ; python_version >= \"3.13\" and python_full_version < \"3.14.0\"', 'prompt-toolkit==3.0.52 ; python_version >= \"3.13\" and python_full_version < \"3.14.0\"', 'propcache==0.4.1 ; python_version >= \"3.13\" and python_full_version < \"3.14.0\"', 'proto-plus==1.26.1 ; python_version >= \"3.13\" and python_full_version < \"3.14.0\"', 'protobuf==6.32.1 ; python_version >= \"3.13\" and python_full_version < \"3.14.0\"', 'psutil==6.1.1 ; python_version >= \"3.13\" and python_full_version < \"3.14.0\"', 'ptyprocess==0.7.0 ; python_version >= \"3.13\" and python_full_version < \"3.14.0\" and sys_platform != \"win32\" and sys_platform != \"emscripten\"', 'pure-eval==0.2.3 ; python_version >= \"3.13\" and python_full_version < \"3.14.0\"', 'pyarrow==21.0.0 ; python_version >= \"3.13\" and python_full_version < \"3.14.0\"', 'pyasn1-modules==0.4.2 ; python_version >= \"3.13\" and python_full_version < \"3.14.0\"', 'pyasn1==0.6.1 ; python_version >= \"3.13\" and python_full_version < \"3.14.0\"', 'pycparser==2.23 ; python_version >= \"3.13\" and python_full_version < \"3.14.0\" and (platform_python_implementation != \"PyPy\" or implementation_name == \"pypy\") and implementation_name != \"PyPy\"', 'pydantic-core==2.41.4 ; python_version >= \"3.13\" and python_full_version < \"3.14.0\"', 'pydantic-settings==2.11.0 ; python_version >= \"3.13\" and python_full_version < \"3.14.0\"', 'pydantic==2.12.2 ; python_version >= \"3.13\" and python_full_version < \"3.14.0\"', 'pygments==2.19.2 ; python_version >= \"3.13\" and python_full_version < \"3.14.0\"', 'pyparsing==3.2.5 ; python_version >= \"3.13\" and python_full_version < \"3.14.0\"', 'python-dateutil==2.9.0.post0 ; python_version >= \"3.13\" and python_full_version < \"3.14.0\"', 'python-dotenv==1.1.1 ; python_version >= \"3.13\" and python_full_version < \"3.14.0\"', 'python-multipart==0.0.20 ; python_version >= \"3.13\" and python_full_version < \"3.14.0\"', 'pytz==2025.2 ; python_version >= \"3.13\" and python_full_version < \"3.14.0\"', 'pywin32==311 ; python_version >= \"3.13\" and python_full_version < \"3.14.0\" and sys_platform == \"win32\"', 'pyyaml==6.0.3 ; python_version >= \"3.13\" and python_full_version < \"3.14.0\"', 'pyzmq==27.1.0 ; python_version >= \"3.13\" and python_full_version < \"3.14.0\"', 'referencing==0.37.0 ; python_version >= \"3.13\" and python_full_version < \"3.14.0\"', 'requests==2.32.5 ; python_version >= \"3.13\" and python_full_version < \"3.14.0\"', 'rpds-py==0.27.1 ; python_version >= \"3.13\" and python_full_version < \"3.14.0\"', 'rsa==4.9.1 ; python_version == \"3.13\"', 'shapely==2.1.2 ; python_version >= \"3.13\" and python_full_version < \"3.14.0\"', 'six==1.17.0 ; python_version >= \"3.13\" and python_full_version < \"3.14.0\"', 'sniffio==1.3.1 ; python_version >= \"3.13\" and python_full_version < \"3.14.0\"', 'sqlalchemy-spanner==1.17.0 ; python_version >= \"3.13\" and python_full_version < \"3.14.0\"', 'sqlalchemy==2.0.44 ; python_version >= \"3.13\" and python_full_version < \"3.14.0\"', 'sqlparse==0.5.3 ; python_version >= \"3.13\" and python_full_version < \"3.14.0\"', 'sse-starlette==3.0.2 ; python_version >= \"3.13\" and python_full_version < \"3.14.0\"', 'stack-data==0.6.3 ; python_version >= \"3.13\" and python_full_version < \"3.14.0\"', 'starlette==0.48.0 ; python_version >= \"3.13\" and python_full_version < \"3.14.0\"', 'tabulate==0.9.0 ; python_version >= \"3.13\" and python_full_version < \"3.14.0\"', 'tenacity==8.5.0 ; python_version >= \"3.13\" and python_full_version < \"3.14.0\"', 'toolbox-core==0.5.2 ; python_version >= \"3.13\" and python_full_version < \"3.14.0\"', 'tornado==6.5.2 ; python_version >= \"3.13\" and python_full_version < \"3.14.0\"', 'traitlets==5.14.3 ; python_version >= \"3.13\" and python_full_version < \"3.14.0\"', 'typing-extensions==4.15.0 ; python_version >= \"3.13\" and python_full_version < \"3.14.0\"', 'typing-inspection==0.4.2 ; python_version >= \"3.13\" and python_full_version < \"3.14.0\"', 'tzdata==2025.2 ; python_version >= \"3.13\" and python_full_version < \"3.14.0\"', 'tzlocal==5.3.1 ; python_version >= \"3.13\" and python_full_version < \"3.14.0\"', 'uritemplate==4.2.0 ; python_version >= \"3.13\" and python_full_version < \"3.14.0\"', 'urllib3==2.5.0 ; python_version >= \"3.13\" and python_full_version < \"3.14.0\"', 'uvicorn==0.37.0 ; python_version >= \"3.13\" and python_full_version < \"3.14.0\"', 'vl-convert-python==1.8.0 ; python_version >= \"3.13\" and python_full_version < \"3.14.0\"', 'watchdog==6.0.0 ; python_version >= \"3.13\" and python_full_version < \"3.14.0\"', 'wcwidth==0.2.14 ; python_version >= \"3.13\" and python_full_version < \"3.14.0\"', 'websockets==15.0.1 ; python_version >= \"3.13\" and python_full_version < \"3.14.0\"', 'wrapt==1.17.3 ; python_version >= \"3.13\" and python_full_version < \"3.14.0\"', 'yarl==1.22.0 ; python_version >= \"3.13\" and python_full_version < \"3.14.0\"', 'zipp==3.23.0 ; python_version >= \"3.13\" and python_full_version < \"3.14.0\"']\n",
      "Using bucket statmike-mlops-349915\n",
      "Wrote to gs://statmike-mlops-349915/applied-ml/ai-agents/concept-bq/agent_bq_forecast/staging/agent_engine.pkl\n",
      "Writing to gs://statmike-mlops-349915/applied-ml/ai-agents/concept-bq/agent_bq_forecast/staging/requirements.txt\n",
      "Creating in-memory tarfile of extra_packages\n",
      "Writing to gs://statmike-mlops-349915/applied-ml/ai-agents/concept-bq/agent_bq_forecast/staging/dependencies.tar.gz\n",
      "Creating AgentEngine\n",
      "Create AgentEngine backing LRO: projects/1026793852137/locations/us-central1/reasoningEngines/2255516162987130880/operations/1594843626133782528\n",
      "View progress and logs at https://console.cloud.google.com/logs/query?project=statmike-mlops-349915\n",
      "AgentEngine created. Resource name: projects/1026793852137/locations/us-central1/reasoningEngines/2255516162987130880\n",
      "To use this AgentEngine in another session:\n",
      "agent_engine = vertexai.agent_engines.get('projects/1026793852137/locations/us-central1/reasoningEngines/2255516162987130880')\n",
      "✓ Deployment created: projects/1026793852137/locations/us-central1/reasoningEngines/2255516162987130880\n"
     ]
    }
   ],
   "source": [
    "if not remote_app:\n",
    "    print(\"Creating new deployment...\")\n",
    "    \n",
    "    # Change to project_root directory for deployment so relative paths work\n",
    "    import os as _os\n",
    "    original_cwd = _os.getcwd()\n",
    "    _os.chdir(str(project_root))\n",
    "    \n",
    "    try:\n",
    "        remote_app = agent_engines.create(\n",
    "            agent_engine=root_agent,\n",
    "            requirements=\"requirements.txt\",  # Now relative to project_root\n",
    "            extra_packages=[agent_name],  # Relative path - just the folder name!\n",
    "            gcs_dir_name=agent_gcs_path,\n",
    "            display_name=root_agent.name,\n",
    "            description=root_agent.description,\n",
    "        )\n",
    "        print(f\"✓ Deployment created: {remote_app.resource_name}\")\n",
    "    finally:\n",
    "        # Always restore original directory\n",
    "        _os.chdir(original_cwd)\n",
    "else:\n",
    "    print(\"Retrieved existing deployment, use update instead of create.\")"
   ]
  },
  {
   "cell_type": "code",
   "execution_count": 17,
   "metadata": {},
   "outputs": [
    {
     "data": {
      "text/plain": [
       "'projects/1026793852137/locations/us-central1/reasoningEngines/2255516162987130880'"
      ]
     },
     "execution_count": 17,
     "metadata": {},
     "output_type": "execute_result"
    }
   ],
   "source": [
    "remote_app.resource_name"
   ]
  },
  {
   "cell_type": "markdown",
   "metadata": {},
   "source": [
    "### Save Deployment Metadata\n",
    "\n",
    "Write the deployment information to `deployment.json`."
   ]
  },
  {
   "cell_type": "code",
   "execution_count": 18,
   "metadata": {},
   "outputs": [
    {
     "name": "stdout",
     "output_type": "stream",
     "text": [
      "✓ Deployment metadata saved to /usr/local/google/home/statmike/Git/vertex-ai-mlops/Applied ML/AI Agents/concept-bq/agent_bq_forecast/deploy/deployment.json\n",
      "{\n",
      "  \"resource_id\": \"projects/1026793852137/locations/us-central1/reasoningEngines/2255516162987130880\",\n",
      "  \"deployed_at\": \"2025-10-19T20:01:41.999333\",\n",
      "  \"display_name\": \"agent_bq_forecast\",\n",
      "  \"description\": \"An agent that can use bigquery with tools to answer questions with time series data including forecasting.\",\n",
      "  \"gemini_enterprise_agent_id\": \"\",\n",
      "  \"registered_at\": \"\"\n",
      "}\n"
     ]
    }
   ],
   "source": [
    "# Update deployment metadata\n",
    "deployment_metadata.update({\n",
    "    \"resource_id\": remote_app.resource_name,\n",
    "    \"deployed_at\": datetime.now().isoformat(),\n",
    "    \"display_name\": root_agent.name,\n",
    "    \"description\": root_agent.description\n",
    "})\n",
    "\n",
    "# Write to file\n",
    "with open(deployment_file, 'w') as f:\n",
    "    json.dump(deployment_metadata, f, indent=2)\n",
    "\n",
    "print(f\"✓ Deployment metadata saved to {deployment_file}\")\n",
    "print(json.dumps(deployment_metadata, indent=2))"
   ]
  },
  {
   "cell_type": "markdown",
   "metadata": {},
   "source": [
    "### Update Existing Deployment\n",
    "\n",
    "To update an existing deployment with code changes, use this cell."
   ]
  },
  {
   "cell_type": "code",
   "execution_count": 19,
   "metadata": {},
   "outputs": [],
   "source": [
    "# Uncomment and run to update the deployment\n",
    "# if remote_app:\n",
    "#     print(\"Updating deployment...\")\n",
    "#     \n",
    "#     # Change to project_root directory for deployment so relative paths work\n",
    "#     import os as _os\n",
    "#     original_cwd = _os.getcwd()\n",
    "#     _os.chdir(str(project_root))\n",
    "#     \n",
    "#     try:\n",
    "#         update_app = agent_engines.update(\n",
    "#             resource_name=remote_app.resource_name,\n",
    "#             agent_engine=root_agent,\n",
    "#             requirements=\"requirements.txt\",  # Now relative to project_root\n",
    "#             extra_packages=[agent_name],  # Relative path - just the folder name!\n",
    "#         )\n",
    "#         print(f\"✓ Deployment updated: {update_app.resource_name}\")\n",
    "#         \n",
    "#         # Update metadata\n",
    "#         deployment_metadata[\"last_updated_at\"] = datetime.now().isoformat()\n",
    "#         with open(deployment_file, 'w') as f:\n",
    "#             json.dump(deployment_metadata, f, indent=2)\n",
    "#         print(\"✓ Metadata updated\")\n",
    "#     finally:\n",
    "#         # Always restore original directory\n",
    "#         _os.chdir(original_cwd)"
   ]
  },
  {
   "cell_type": "markdown",
   "metadata": {},
   "source": [
    "### Test Remote Deployment\n",
    "\n",
    "Create a session and test the deployed agent."
   ]
  },
  {
   "cell_type": "code",
   "execution_count": 20,
   "metadata": {},
   "outputs": [
    {
     "data": {
      "text/plain": [
       "[{'api_mode': 'async',\n",
       "  'parameters': {'properties': {'session_id': {'type': 'string'},\n",
       "    'user_id': {'type': 'string'}},\n",
       "   'required': ['user_id', 'session_id'],\n",
       "   'type': 'object'},\n",
       "  'description': 'Get a session for the given user.\\n\\nArgs:\\n    user_id (str):\\n        Required. The ID of the user.\\n    session_id (str):\\n        Required. The ID of the session.\\n    **kwargs (dict[str, Any]):\\n        Optional. Additional keyword arguments to pass to the\\n        session service.\\n\\nReturns:\\n    Session: The session instance (if any). It returns None if the\\n    session is not found.\\n\\nRaises:\\n    RuntimeError: If the session is not found.\\n',\n",
       "  'name': 'async_get_session'},\n",
       " {'api_mode': 'async',\n",
       "  'parameters': {'properties': {'user_id': {'type': 'string'}},\n",
       "   'required': ['user_id'],\n",
       "   'type': 'object'},\n",
       "  'description': 'List sessions for the given user.\\n\\nArgs:\\n    user_id (str):\\n        Required. The ID of the user.\\n    **kwargs (dict[str, Any]):\\n        Optional. Additional keyword arguments to pass to the\\n        session service.\\n\\nReturns:\\n    ListSessionsResponse: The list of sessions.\\n',\n",
       "  'name': 'async_list_sessions'},\n",
       " {'api_mode': 'async',\n",
       "  'parameters': {'properties': {'session_id': {'nullable': True,\n",
       "     'type': 'string'},\n",
       "    'user_id': {'type': 'string'},\n",
       "    'state': {'nullable': True, 'type': 'object'}},\n",
       "   'required': ['user_id'],\n",
       "   'type': 'object'},\n",
       "  'description': 'Creates a new session.\\n\\nArgs:\\n    user_id (str):\\n        Required. The ID of the user.\\n    session_id (str):\\n        Optional. The ID of the session. If not provided, an ID\\n        will be be generated for the session.\\n    state (dict[str, Any]):\\n        Optional. The initial state of the session.\\n    **kwargs (dict[str, Any]):\\n        Optional. Additional keyword arguments to pass to the\\n        session service.\\n\\nReturns:\\n    Session: The newly created session instance.\\n',\n",
       "  'name': 'async_create_session'},\n",
       " {'api_mode': 'async',\n",
       "  'parameters': {'properties': {'session_id': {'type': 'string'},\n",
       "    'user_id': {'type': 'string'}},\n",
       "   'required': ['user_id', 'session_id'],\n",
       "   'type': 'object'},\n",
       "  'description': 'Deletes a session for the given user.\\n\\nArgs:\\n    user_id (str):\\n        Required. The ID of the user.\\n    session_id (str):\\n        Required. The ID of the session.\\n    **kwargs (dict[str, Any]):\\n        Optional. Additional keyword arguments to pass to the\\n        session service.\\n',\n",
       "  'name': 'async_delete_session'},\n",
       " {'api_mode': 'async',\n",
       "  'parameters': {'properties': {'session': {'additionalProperties': True,\n",
       "     'type': 'object'}},\n",
       "   'required': ['session'],\n",
       "   'type': 'object'},\n",
       "  'description': 'Generates memories.\\n\\nArgs:\\n    session (Dict[str, Any]):\\n        Required. The session to use for generating memories. It should\\n        be a dictionary representing an ADK Session object, e.g.\\n        session.model_dump(mode=\"json\").\\n',\n",
       "  'name': 'async_add_session_to_memory'},\n",
       " {'api_mode': 'async',\n",
       "  'parameters': {'properties': {'query': {'type': 'string'},\n",
       "    'user_id': {'type': 'string'}},\n",
       "   'required': ['user_id', 'query'],\n",
       "   'type': 'object'},\n",
       "  'description': 'Searches memories for the given user.\\n\\nArgs:\\n    user_id: The id of the user.\\n    query: The query to match the memories on.\\n\\nReturns:\\n    A SearchMemoryResponse containing the matching memories.\\n',\n",
       "  'name': 'async_search_memory'},\n",
       " {'api_mode': 'async_stream',\n",
       "  'parameters': {'properties': {'message': {'anyOf': [{'type': 'string'},\n",
       "      {'additionalProperties': True, 'type': 'object'}]},\n",
       "    'session_id': {'nullable': True, 'type': 'string'},\n",
       "    'user_id': {'type': 'string'},\n",
       "    'run_config': {'nullable': True, 'type': 'object'}},\n",
       "   'required': ['message', 'user_id'],\n",
       "   'type': 'object'},\n",
       "  'description': 'Streams responses asynchronously from the ADK application.\\n\\nArgs:\\n    message (str):\\n        Required. The message to stream responses for.\\n    user_id (str):\\n        Required. The ID of the user.\\n    session_id (str):\\n        Optional. The ID of the session. If not provided, a new\\n        session will be created for the user.\\n    run_config (Optional[Dict[str, Any]]):\\n        Optional. The run config to use for the query. If you want to\\n        pass in a `run_config` pydantic object, you can pass in a dict\\n        representing it as `run_config.model_dump(mode=\"json\")`.\\n    **kwargs (dict[str, Any]):\\n        Optional. Additional keyword arguments to pass to the\\n        runner.\\n\\nYields:\\n    Event dictionaries asynchronously.\\n',\n",
       "  'name': 'async_stream_query'},\n",
       " {'api_mode': 'async_stream',\n",
       "  'parameters': {'properties': {'request_json': {'type': 'string'}},\n",
       "   'required': ['request_json'],\n",
       "   'type': 'object'},\n",
       "  'description': 'Streams responses asynchronously from the ADK application.\\n\\nIn general, you should use `async_stream_query` instead, as it has a\\nmore structured API and works with the respective ADK services that\\nyou have defined for the AdkApp. This method is primarily meant for\\ninvocation from AgentSpace.\\n\\nArgs:\\n    request_json (str):\\n        Required. The request to stream responses for.\\n',\n",
       "  'name': 'streaming_agent_run_with_events'}]"
      ]
     },
     "execution_count": 20,
     "metadata": {},
     "output_type": "execute_result"
    }
   ],
   "source": [
    "remote_app.operation_schemas()"
   ]
  },
  {
   "cell_type": "code",
   "execution_count": 21,
   "metadata": {},
   "outputs": [
    {
     "name": "stdout",
     "output_type": "stream",
     "text": [
      "Created session: 8889815668237533184\n"
     ]
    }
   ],
   "source": [
    "remote_session = await remote_app.async_create_session(user_id='test_user')\n",
    "print(f\"Created session: {remote_session['id']}\")"
   ]
  },
  {
   "cell_type": "code",
   "execution_count": 22,
   "metadata": {},
   "outputs": [
    {
     "name": "stdout",
     "output_type": "stream",
     "text": [
      "Active sessions: 1\n"
     ]
    }
   ],
   "source": [
    "list_sessions = await remote_app.async_list_sessions(user_id='test_user')\n",
    "print(f\"Active sessions: {len(list_sessions['sessions'])}\")"
   ]
  },
  {
   "cell_type": "code",
   "execution_count": 23,
   "metadata": {},
   "outputs": [
    {
     "name": "stdout",
     "output_type": "stream",
     "text": [
      "✓ Test session deleted\n"
     ]
    }
   ],
   "source": [
    "# Clean up test session\n",
    "await remote_app.async_delete_session(user_id='test_user', session_id=remote_session['id'])\n",
    "print(\"✓ Test session deleted\")"
   ]
  },
  {
   "cell_type": "markdown",
   "metadata": {},
   "source": [
    "---\n",
    "## Manage Deployed App Permissions\n",
    "\n",
    "The deployed agent runs with a service account that may need additional IAM permissions.\n",
    "\n",
    "**Common permissions needed:**\n",
    "- BigQuery: `roles/bigquery.jobUser`, `roles/bigquery.dataViewer`\n",
    "- Conversational Analytics API: `roles/geminidataanalytics.dataAgentStatelessUser`, `roles/cloudaicompanion.user`\n",
    "- Storage: Already included via `roles/aiplatform.reasoningEngineServiceAgent`\n",
    "\n",
    "**Note:** Customize the permissions based on your agent's specific requirements."
   ]
  },
  {
   "cell_type": "code",
   "execution_count": 24,
   "metadata": {},
   "outputs": [
    {
     "name": "stdout",
     "output_type": "stream",
     "text": [
      "Project Number: 1026793852137\n",
      "Service Account: service-1026793852137@gcp-sa-aiplatform-re.iam.gserviceaccount.com\n"
     ]
    }
   ],
   "source": [
    "service_account_id = f\"service-{PROJECT_NUMBER}@gcp-sa-aiplatform-re.iam.gserviceaccount.com\"\n",
    "\n",
    "print(f\"Project Number: {PROJECT_NUMBER}\")\n",
    "print(f\"Service Account: {service_account_id}\")"
   ]
  },
  {
   "cell_type": "code",
   "execution_count": 26,
   "metadata": {},
   "outputs": [
    {
     "name": "stderr",
     "output_type": "stream",
     "text": [
      "I0000 00:00:1760904370.174959 2963218 fork_posix.cc:71] Other threads are currently calling into gRPC, skipping fork() handlers\n"
     ]
    },
    {
     "name": "stdout",
     "output_type": "stream",
     "text": [
      "ROLE\n",
      "roles/aiplatform.reasoningEngineServiceAgent\n",
      "roles/bigquery.dataViewer\n",
      "roles/bigquery.jobUser\n",
      "roles/cloudaicompanion.user\n",
      "roles/dlp.user\n",
      "roles/documentai.apiUser\n",
      "roles/geminidataanalytics.dataAgentStatelessUser\n"
     ]
    }
   ],
   "source": [
    "# View current permissions\n",
    "!gcloud projects get-iam-policy {PROJECT_NUMBER} --flatten=\"bindings\" --format=\"table(bindings.role)\" --filter=\"bindings.members:'{service_account_id}'\""
   ]
  },
  {
   "cell_type": "markdown",
   "metadata": {},
   "source": [
    "### Add Required Permissions\n",
    "\n",
    "Uncomment and run the cells below to grant permissions as needed."
   ]
  },
  {
   "cell_type": "code",
   "execution_count": 31,
   "metadata": {},
   "outputs": [],
   "source": [
    "# Example: Grant BigQuery permissions\n",
    "# !gcloud projects add-iam-policy-binding {project_number} --member=\"serviceAccount:{service_account_id}\" --role=\"roles/bigquery.jobUser\"\n",
    "# !gcloud projects add-iam-policy-binding {project_number} --member=\"serviceAccount:{service_account_id}\" --role=\"roles/bigquery.dataViewer\""
   ]
  },
  {
   "cell_type": "code",
   "execution_count": null,
   "metadata": {},
   "outputs": [],
   "source": [
    "# Example: Grant Conversational Analytics API permissions\n",
    "# !gcloud projects add-iam-policy-binding {project_number} --member=\"serviceAccount:{service_account_id}\" --role=\"roles/geminidataanalytics.dataAgentStatelessUser\"\n",
    "# !gcloud projects add-iam-policy-binding {project_number} --member=\"serviceAccount:{service_account_id}\" --role=\"roles/cloudaicompanion.user\""
   ]
  },
  {
   "cell_type": "markdown",
   "metadata": {},
   "source": [
    "---\n",
    "## Delete Deployed Agent\n",
    "\n",
    "Use this to remove the deployment from Vertex AI Agent Engine."
   ]
  },
  {
   "cell_type": "code",
   "execution_count": null,
   "metadata": {},
   "outputs": [],
   "source": [
    "delete_app = False\n",
    "\n",
    "if delete_app and remote_app:\n",
    "    print(\"Deleting deployment...\")\n",
    "    task = agent_engines.delete(\n",
    "        resource_name=remote_app.resource_name,\n",
    "        force=True\n",
    "    )\n",
    "    print(\"✓ Deployment deleted\")\n",
    "    \n",
    "    # Clear deployment metadata\n",
    "    deployment_metadata = {\n",
    "        \"resource_id\": \"\",\n",
    "        \"deployed_at\": \"\",\n",
    "        \"display_name\": \"\",\n",
    "        \"description\": \"\"\n",
    "    }\n",
    "    with open(deployment_file, 'w') as f:\n",
    "        json.dump(deployment_metadata, f, indent=2)\n",
    "    print(\"✓ Deployment metadata cleared\")"
   ]
  },
  {
   "cell_type": "markdown",
   "metadata": {},
   "source": [
    "---\n",
    "## Next Steps\n",
    "\n",
    "After deploying your agent:\n",
    "1. Use the deployed agent with [use-vertex-ai-agent-engine.ipynb](./use-vertex-ai-agent-engine.ipynb)\n",
    "2. Register with Gemini Enterprise using [register-adk-on-agent-engine-with-gemini-enterprise.ipynb](./register-adk-on-agent-engine-with-gemini-enterprise.ipynb)"
   ]
  }
 ],
 "metadata": {
  "kernelspec": {
   "display_name": "Python (concept-bq)",
   "language": "python",
   "name": "concept-bq"
  },
  "language_info": {
   "codemirror_mode": {
    "name": "ipython",
    "version": 3
   },
   "file_extension": ".py",
   "mimetype": "text/x-python",
   "name": "python",
   "nbconvert_exporter": "python",
   "pygments_lexer": "ipython3",
   "version": "3.13.3"
  }
 },
 "nbformat": 4,
 "nbformat_minor": 4
}
