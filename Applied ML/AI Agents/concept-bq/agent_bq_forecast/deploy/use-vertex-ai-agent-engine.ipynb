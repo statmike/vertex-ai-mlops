{
 "cells": [
  {
   "cell_type": "markdown",
   "id": "1c02826d",
   "metadata": {},
   "source": [
    "![tracker](https://us-central1-vertex-ai-mlops-369716.cloudfunctions.net/pixel-tracking?path=statmike%2Fvertex-ai-mlops%2FApplied+ML%2FAI+Agents%2Fconcept-bq%2Fagent_bq_forecast%2Fdeploy&file=use-vertex-ai-agent-engine.ipynb)\n",
    "<!--- header table --->\n",
    "<table align=\"left\">\n",
    "<tr>\n",
    "  <td style=\"text-align: center\">\n",
    "    <a href=\"https://github.com/statmike/vertex-ai-mlops/blob/main/Applied%20ML/AI%20Agents/concept-bq/agent_bq_forecast/deploy/use-vertex-ai-agent-engine.ipynb\">\n",
    "      <img width=\"32px\" src=\"https://www.svgrepo.com/download/217753/github.svg\" alt=\"GitHub logo\">\n",
    "      <br>View on<br>GitHub\n",
    "    </a>\n",
    "  </td>\n",
    "  <td style=\"text-align: center\">\n",
    "    <a href=\"https://colab.research.google.com/github/statmike/vertex-ai-mlops/blob/main/Applied%20ML/AI%20Agents/concept-bq/agent_bq_forecast/deploy/use-vertex-ai-agent-engine.ipynb\">\n",
    "      <img width=\"32px\" src=\"https://www.gstatic.com/pantheon/images/bigquery/welcome_page/colab-logo.svg\" alt=\"Google Colaboratory logo\">\n",
    "      <br>Run in<br>Colab\n",
    "    </a>\n",
    "  </td>\n",
    "  <td style=\"text-align: center\">\n",
    "    <a href=\"https://console.cloud.google.com/vertex-ai/colab/import/https%3A%2F%2Fraw.githubusercontent.com%2Fstatmike%2Fvertex-ai-mlops%2Fmain%2FApplied%2520ML%2FAI%2520Agents%2Fconcept-bq%2Fagent_bq_forecast%2Fdeploy%2Fuse-vertex-ai-agent-engine.ipynb\">\n",
    "      <img width=\"32px\" src=\"https://lh3.googleusercontent.com/JmcxdQi-qOpctIvWKgPtrzZdJJK-J3sWE1RsfjZNwshCFgE_9fULcNpuXYTilIR2hjwN\" alt=\"Google Cloud Colab Enterprise logo\">\n",
    "      <br>Run in<br>Colab Enterprise\n",
    "    </a>\n",
    "  </td>      \n",
    "  <td style=\"text-align: center\">\n",
    "    <a href=\"https://console.cloud.google.com/bigquery/import?url=https://github.com/statmike/vertex-ai-mlops/blob/main/Applied%20ML/AI%20Agents/concept-bq/agent_bq_forecast/deploy/use-vertex-ai-agent-engine.ipynb\">\n",
    "      <img width=\"32px\" src=\"https://www.gstatic.com/images/branding/gcpiconscolors/bigquery/v1/32px.svg\" alt=\"BigQuery logo\">\n",
    "      <br>Open in<br>BigQuery Studio\n",
    "    </a>\n",
    "  </td>\n",
    "  <td style=\"text-align: center\">\n",
    "    <a href=\"https://console.cloud.google.com/vertex-ai/workbench/deploy-notebook?download_url=https://raw.githubusercontent.com/statmike/vertex-ai-mlops/main/Applied%20ML/AI%20Agents/concept-bq/agent_bq_forecast/deploy/use-vertex-ai-agent-engine.ipynb\">\n",
    "      <img width=\"32px\" src=\"https://www.gstatic.com/images/branding/gcpiconscolors/vertexai/v1/32px.svg\" alt=\"Vertex AI logo\">\n",
    "      <br>Open in<br>Vertex AI Workbench\n",
    "    </a>\n",
    "  </td>\n",
    "</tr>\n",
    "<tr>\n",
    "  <td colspan=\"5\" style=\"text-align: right\">\n",
    "    <b>Share This On: </b> \n",
    "    <a href=\"https://www.linkedin.com/sharing/share-offsite/?url=https://github.com/statmike/vertex-ai-mlops/blob/main/Applied%2520ML/AI%2520Agents/concept-bq/agent_bq_forecast/deploy/use-vertex-ai-agent-engine.ipynb\"><img src=\"https://upload.wikimedia.org/wikipedia/commons/8/81/LinkedIn_icon.svg\" alt=\"Linkedin Logo\" width=\"20px\"></a> \n",
    "    <a href=\"https://reddit.com/submit?url=https://github.com/statmike/vertex-ai-mlops/blob/main/Applied%2520ML/AI%2520Agents/concept-bq/agent_bq_forecast/deploy/use-vertex-ai-agent-engine.ipynb\"><img src=\"https://redditinc.com/hubfs/Reddit%20Inc/Brand/Reddit_Logo.png\" alt=\"Reddit Logo\" width=\"20px\"></a> \n",
    "    <a href=\"https://bsky.app/intent/compose?text=https://github.com/statmike/vertex-ai-mlops/blob/main/Applied%2520ML/AI%2520Agents/concept-bq/agent_bq_forecast/deploy/use-vertex-ai-agent-engine.ipynb\"><img src=\"https://upload.wikimedia.org/wikipedia/commons/7/7a/Bluesky_Logo.svg\" alt=\"BlueSky Logo\" width=\"20px\"></a> \n",
    "    <a href=\"https://twitter.com/intent/tweet?url=https://github.com/statmike/vertex-ai-mlops/blob/main/Applied%2520ML/AI%2520Agents/concept-bq/agent_bq_forecast/deploy/use-vertex-ai-agent-engine.ipynb\"><img src=\"https://upload.wikimedia.org/wikipedia/commons/5/5a/X_icon_2.svg\" alt=\"X (Twitter) Logo\" width=\"20px\"></a> \n",
    "  </td>\n",
    "</tr>\n",
    "<tr>\n",
    "  <td colspan=\"5\" style=\"text-align: right\">\n",
    "    <b>Connect With Author On: </b> \n",
    "    <a href=\"https://www.linkedin.com/in/statmike\"><img src=\"https://upload.wikimedia.org/wikipedia/commons/8/81/LinkedIn_icon.svg\" alt=\"Linkedin Logo\" width=\"20px\"></a>\n",
    "    <a href=\"https://www.github.com/statmike\"><img src=\"https://www.svgrepo.com/download/217753/github.svg\" alt=\"GitHub Logo\" width=\"20px\"></a> \n",
    "    <a href=\"https://www.youtube.com/@statmike-channel\"><img src=\"https://upload.wikimedia.org/wikipedia/commons/f/fd/YouTube_full-color_icon_%282024%29.svg\" alt=\"YouTube Logo\" width=\"20px\"></a>\n",
    "    <a href=\"https://bsky.app/profile/statmike.bsky.social\"><img src=\"https://upload.wikimedia.org/wikipedia/commons/7/7a/Bluesky_Logo.svg\" alt=\"BlueSky Logo\" width=\"20px\"></a> \n",
    "    <a href=\"https://x.com/statmike\"><img src=\"https://upload.wikimedia.org/wikipedia/commons/5/5a/X_icon_2.svg\" alt=\"X (Twitter) Logo\" width=\"20px\"></a>\n",
    "  </td>\n",
    "</tr>\n",
    "</table>"
   ]
  },
  {
   "cell_type": "markdown",
   "metadata": {},
   "source": [
    "# Use Agent Deployed To Vertex AI Agent Engine\n",
    "\n",
    "This notebook demonstrates how to interact with an agent deployed to Vertex AI Agent Engine using both the Python SDK and REST API.\n",
    "\n",
    "**Prerequisites:**\n",
    "- Agent must be deployed using [deploy-vertex-ai-agent-engine.ipynb](./deploy-vertex-ai-agent-engine.ipynb)\n",
    "- `deployment.json` file exists in this folder with the deployment resource ID"
   ]
  },
  {
   "cell_type": "markdown",
   "metadata": {},
   "source": [
    "## Package Imports"
   ]
  },
  {
   "cell_type": "code",
   "execution_count": 1,
   "metadata": {},
   "outputs": [],
   "source": [
    "import os\n",
    "import sys\n",
    "import json\n",
    "from pathlib import Path\n",
    "\n",
    "import dotenv\n",
    "import requests\n",
    "\n",
    "import vertexai\n",
    "from vertexai import agent_engines\n",
    "from google import genai\n",
    "import google.auth\n",
    "import google.auth.transport.requests"
   ]
  },
  {
   "cell_type": "markdown",
   "metadata": {},
   "source": [
    "## Auto-Configure Paths"
   ]
  },
  {
   "cell_type": "code",
   "execution_count": 2,
   "metadata": {},
   "outputs": [
    {
     "name": "stdout",
     "output_type": "stream",
     "text": [
      "Deploy folder: /usr/local/google/home/statmike/Git/vertex-ai-mlops/Applied ML/AI Agents/concept-bq/agent_bq_forecast/deploy\n",
      "Agent folder: /usr/local/google/home/statmike/Git/vertex-ai-mlops/Applied ML/AI Agents/concept-bq/agent_bq_forecast\n",
      "Project root: /usr/local/google/home/statmike/Git/vertex-ai-mlops/Applied ML/AI Agents/concept-bq\n",
      "Agent name: agent_bq_forecast\n"
     ]
    }
   ],
   "source": [
    "# Get current directory (should be agent_name/deploy/)\n",
    "deploy_folder = Path.cwd()\n",
    "agent_folder = deploy_folder.parent\n",
    "project_root = agent_folder.parent\n",
    "\n",
    "# Extract agent name from folder structure\n",
    "agent_name = agent_folder.name\n",
    "\n",
    "print(f\"Deploy folder: {deploy_folder}\")\n",
    "print(f\"Agent folder: {agent_folder}\")\n",
    "print(f\"Project root: {project_root}\")\n",
    "print(f\"Agent name: {agent_name}\")"
   ]
  },
  {
   "cell_type": "markdown",
   "metadata": {},
   "source": [
    "## Load Configuration"
   ]
  },
  {
   "cell_type": "code",
   "execution_count": 3,
   "metadata": {},
   "outputs": [
    {
     "name": "stdout",
     "output_type": "stream",
     "text": [
      "Project: statmike-mlops-349915\n",
      "Location: us-central1\n"
     ]
    }
   ],
   "source": [
    "# Load environment variables from project root\n",
    "env_path = project_root / '.env'\n",
    "dotenv.load_dotenv(dotenv_path=env_path)\n",
    "\n",
    "print(f\"Project: {os.getenv('GOOGLE_CLOUD_PROJECT')}\")\n",
    "print(f\"Location: {os.getenv('GOOGLE_CLOUD_LOCATION')}\")"
   ]
  },
  {
   "cell_type": "markdown",
   "metadata": {},
   "source": [
    "## Initialize Vertex AI"
   ]
  },
  {
   "cell_type": "code",
   "execution_count": 4,
   "metadata": {},
   "outputs": [],
   "source": [
    "vertexai.init(\n",
    "    project=os.getenv('GOOGLE_CLOUD_PROJECT'),\n",
    "    location=os.getenv('GOOGLE_CLOUD_LOCATION'),\n",
    "    staging_bucket=os.getenv('GOOGLE_CLOUD_STORAGE_BUCKET')\n",
    ")"
   ]
  },
  {
   "cell_type": "markdown",
   "metadata": {},
   "source": [
    "## Load Deployment Metadata\n",
    "\n",
    "Read the deployed agent's resource ID from `deployment.json`."
   ]
  },
  {
   "cell_type": "code",
   "execution_count": 5,
   "metadata": {},
   "outputs": [
    {
     "name": "stdout",
     "output_type": "stream",
     "text": [
      "Deployment Resource ID: projects/1026793852137/locations/us-central1/reasoningEngines/2255516162987130880\n",
      "Agent: agent_bq_forecast\n",
      "Deployed: 2025-10-19T20:01:41.999333\n"
     ]
    }
   ],
   "source": [
    "deployment_file = deploy_folder / 'deployment.json'\n",
    "\n",
    "if not deployment_file.exists():\n",
    "    raise FileNotFoundError(\n",
    "        f\"Deployment metadata not found at {deployment_file}. \"\n",
    "        \"Please deploy the agent first using deploy-vertex-ai-agent-engine.ipynb\"\n",
    "    )\n",
    "\n",
    "with open(deployment_file, 'r') as f:\n",
    "    deployment_metadata = json.load(f)\n",
    "\n",
    "current_deployment = deployment_metadata.get('resource_id')\n",
    "\n",
    "if not current_deployment:\n",
    "    raise ValueError(\"No deployment resource_id found in deployment.json\")\n",
    "\n",
    "print(f\"Deployment Resource ID: {current_deployment}\")\n",
    "print(f\"Agent: {deployment_metadata.get('display_name')}\")\n",
    "print(f\"Deployed: {deployment_metadata.get('deployed_at')}\")"
   ]
  },
  {
   "cell_type": "markdown",
   "metadata": {},
   "source": [
    "## Get the Deployed Agent"
   ]
  },
  {
   "cell_type": "code",
   "execution_count": 6,
   "metadata": {},
   "outputs": [
    {
     "name": "stdout",
     "output_type": "stream",
     "text": [
      "✓ Connected to deployed agent: projects/1026793852137/locations/us-central1/reasoningEngines/2255516162987130880\n"
     ]
    }
   ],
   "source": [
    "try:\n",
    "    remote_app = agent_engines.get(resource_name=current_deployment)\n",
    "    print(f\"✓ Connected to deployed agent: {remote_app.resource_name}\")\n",
    "except Exception as e:\n",
    "    raise RuntimeError(f\"Failed to connect to deployed agent: {e}\")"
   ]
  },
  {
   "cell_type": "code",
   "execution_count": 7,
   "metadata": {},
   "outputs": [
    {
     "data": {
      "text/plain": [
       "<vertexai.agent_engines._agent_engines.AgentEngine object at 0x7f3320f04c20> \n",
       "resource name: projects/1026793852137/locations/us-central1/reasoningEngines/2255516162987130880"
      ]
     },
     "execution_count": 7,
     "metadata": {},
     "output_type": "execute_result"
    }
   ],
   "source": [
    "remote_app"
   ]
  },
  {
   "cell_type": "markdown",
   "metadata": {},
   "source": [
    "---\n",
    "## Use The Deployed Agent via SDK"
   ]
  },
  {
   "cell_type": "markdown",
   "metadata": {},
   "source": [
    "### View Available Operations"
   ]
  },
  {
   "cell_type": "code",
   "execution_count": 8,
   "metadata": {},
   "outputs": [
    {
     "data": {
      "text/plain": [
       "[{'api_mode': 'async',\n",
       "  'description': 'Get a session for the given user.\\n\\nArgs:\\n    user_id (str):\\n        Required. The ID of the user.\\n    session_id (str):\\n        Required. The ID of the session.\\n    **kwargs (dict[str, Any]):\\n        Optional. Additional keyword arguments to pass to the\\n        session service.\\n\\nReturns:\\n    Session: The session instance (if any). It returns None if the\\n    session is not found.\\n\\nRaises:\\n    RuntimeError: If the session is not found.\\n',\n",
       "  'name': 'async_get_session',\n",
       "  'parameters': {'required': ['user_id', 'session_id'],\n",
       "   'properties': {'user_id': {'type': 'string'},\n",
       "    'session_id': {'type': 'string'}},\n",
       "   'type': 'object'}},\n",
       " {'api_mode': 'async',\n",
       "  'description': 'List sessions for the given user.\\n\\nArgs:\\n    user_id (str):\\n        Required. The ID of the user.\\n    **kwargs (dict[str, Any]):\\n        Optional. Additional keyword arguments to pass to the\\n        session service.\\n\\nReturns:\\n    ListSessionsResponse: The list of sessions.\\n',\n",
       "  'name': 'async_list_sessions',\n",
       "  'parameters': {'required': ['user_id'],\n",
       "   'properties': {'user_id': {'type': 'string'}},\n",
       "   'type': 'object'}},\n",
       " {'api_mode': 'async',\n",
       "  'description': 'Creates a new session.\\n\\nArgs:\\n    user_id (str):\\n        Required. The ID of the user.\\n    session_id (str):\\n        Optional. The ID of the session. If not provided, an ID\\n        will be be generated for the session.\\n    state (dict[str, Any]):\\n        Optional. The initial state of the session.\\n    **kwargs (dict[str, Any]):\\n        Optional. Additional keyword arguments to pass to the\\n        session service.\\n\\nReturns:\\n    Session: The newly created session instance.\\n',\n",
       "  'name': 'async_create_session',\n",
       "  'parameters': {'required': ['user_id'],\n",
       "   'properties': {'state': {'nullable': True, 'type': 'object'},\n",
       "    'user_id': {'type': 'string'},\n",
       "    'session_id': {'nullable': True, 'type': 'string'}},\n",
       "   'type': 'object'}},\n",
       " {'api_mode': 'async',\n",
       "  'description': 'Deletes a session for the given user.\\n\\nArgs:\\n    user_id (str):\\n        Required. The ID of the user.\\n    session_id (str):\\n        Required. The ID of the session.\\n    **kwargs (dict[str, Any]):\\n        Optional. Additional keyword arguments to pass to the\\n        session service.\\n',\n",
       "  'name': 'async_delete_session',\n",
       "  'parameters': {'required': ['user_id', 'session_id'],\n",
       "   'properties': {'user_id': {'type': 'string'},\n",
       "    'session_id': {'type': 'string'}},\n",
       "   'type': 'object'}},\n",
       " {'api_mode': 'async',\n",
       "  'description': 'Generates memories.\\n\\nArgs:\\n    session (Dict[str, Any]):\\n        Required. The session to use for generating memories. It should\\n        be a dictionary representing an ADK Session object, e.g.\\n        session.model_dump(mode=\"json\").\\n',\n",
       "  'name': 'async_add_session_to_memory',\n",
       "  'parameters': {'required': ['session'],\n",
       "   'properties': {'session': {'additionalProperties': True, 'type': 'object'}},\n",
       "   'type': 'object'}},\n",
       " {'api_mode': 'async',\n",
       "  'description': 'Searches memories for the given user.\\n\\nArgs:\\n    user_id: The id of the user.\\n    query: The query to match the memories on.\\n\\nReturns:\\n    A SearchMemoryResponse containing the matching memories.\\n',\n",
       "  'name': 'async_search_memory',\n",
       "  'parameters': {'required': ['user_id', 'query'],\n",
       "   'properties': {'user_id': {'type': 'string'}, 'query': {'type': 'string'}},\n",
       "   'type': 'object'}},\n",
       " {'api_mode': 'async_stream',\n",
       "  'description': 'Streams responses asynchronously from the ADK application.\\n\\nArgs:\\n    message (str):\\n        Required. The message to stream responses for.\\n    user_id (str):\\n        Required. The ID of the user.\\n    session_id (str):\\n        Optional. The ID of the session. If not provided, a new\\n        session will be created for the user.\\n    run_config (Optional[Dict[str, Any]]):\\n        Optional. The run config to use for the query. If you want to\\n        pass in a `run_config` pydantic object, you can pass in a dict\\n        representing it as `run_config.model_dump(mode=\"json\")`.\\n    **kwargs (dict[str, Any]):\\n        Optional. Additional keyword arguments to pass to the\\n        runner.\\n\\nYields:\\n    Event dictionaries asynchronously.\\n',\n",
       "  'name': 'async_stream_query',\n",
       "  'parameters': {'required': ['message', 'user_id'],\n",
       "   'properties': {'user_id': {'type': 'string'},\n",
       "    'message': {'anyOf': [{'type': 'string'},\n",
       "      {'additionalProperties': True, 'type': 'object'}]},\n",
       "    'run_config': {'nullable': True, 'type': 'object'},\n",
       "    'session_id': {'nullable': True, 'type': 'string'}},\n",
       "   'type': 'object'}},\n",
       " {'api_mode': 'async_stream',\n",
       "  'description': 'Streams responses asynchronously from the ADK application.\\n\\nIn general, you should use `async_stream_query` instead, as it has a\\nmore structured API and works with the respective ADK services that\\nyou have defined for the AdkApp. This method is primarily meant for\\ninvocation from AgentSpace.\\n\\nArgs:\\n    request_json (str):\\n        Required. The request to stream responses for.\\n',\n",
       "  'name': 'streaming_agent_run_with_events',\n",
       "  'parameters': {'required': ['request_json'],\n",
       "   'properties': {'request_json': {'type': 'string'}},\n",
       "   'type': 'object'}}]"
      ]
     },
     "execution_count": 8,
     "metadata": {},
     "output_type": "execute_result"
    }
   ],
   "source": [
    "remote_app.operation_schemas()"
   ]
  },
  {
   "cell_type": "markdown",
   "metadata": {},
   "source": [
    "### Create a Session"
   ]
  },
  {
   "cell_type": "code",
   "execution_count": 9,
   "metadata": {},
   "outputs": [
    {
     "name": "stdout",
     "output_type": "stream",
     "text": [
      "Created session: 6287579508547518464\n"
     ]
    },
    {
     "data": {
      "text/plain": [
       "{'state': {},\n",
       " 'appName': '2255516162987130880',\n",
       " 'events': [],\n",
       " 'id': '6287579508547518464',\n",
       " 'lastUpdateTime': 1760904440.710003,\n",
       " 'userId': 'demo_user'}"
      ]
     },
     "execution_count": 9,
     "metadata": {},
     "output_type": "execute_result"
    }
   ],
   "source": [
    "remote_session = await remote_app.async_create_session(user_id='demo_user')\n",
    "print(f\"Created session: {remote_session['id']}\")\n",
    "remote_session"
   ]
  },
  {
   "cell_type": "markdown",
   "metadata": {},
   "source": [
    "### List Sessions"
   ]
  },
  {
   "cell_type": "code",
   "execution_count": 10,
   "metadata": {},
   "outputs": [
    {
     "name": "stdout",
     "output_type": "stream",
     "text": [
      "Active sessions: 1\n"
     ]
    },
    {
     "data": {
      "text/plain": [
       "{'sessions': [{'state': {},\n",
       "   'appName': '2255516162987130880',\n",
       "   'events': [],\n",
       "   'id': '6287579508547518464',\n",
       "   'lastUpdateTime': 1760904440.710003,\n",
       "   'userId': 'demo_user'}]}"
      ]
     },
     "execution_count": 10,
     "metadata": {},
     "output_type": "execute_result"
    }
   ],
   "source": [
    "list_sessions = await remote_app.async_list_sessions(user_id='demo_user')\n",
    "print(f\"Active sessions: {len(list_sessions['sessions'])}\")\n",
    "list_sessions"
   ]
  },
  {
   "cell_type": "markdown",
   "metadata": {},
   "source": [
    "### Get Session Details"
   ]
  },
  {
   "cell_type": "code",
   "execution_count": 11,
   "metadata": {},
   "outputs": [
    {
     "data": {
      "text/plain": [
       "{'state': {},\n",
       " 'appName': '2255516162987130880',\n",
       " 'events': [],\n",
       " 'lastUpdateTime': 1760904440.710003,\n",
       " 'id': '6287579508547518464',\n",
       " 'userId': 'demo_user'}"
      ]
     },
     "execution_count": 11,
     "metadata": {},
     "output_type": "execute_result"
    }
   ],
   "source": [
    "remote_session = await remote_app.async_get_session(\n",
    "    user_id='demo_user',\n",
    "    session_id=list_sessions['sessions'][0]['id']\n",
    ")\n",
    "remote_session"
   ]
  },
  {
   "cell_type": "markdown",
   "metadata": {},
   "source": [
    "### Send Query to Agent\n",
    "\n",
    "**Customize the message below to test your agent's specific capabilities.**"
   ]
  },
  {
   "cell_type": "code",
   "execution_count": 12,
   "metadata": {},
   "outputs": [
    {
     "name": "stdout",
     "output_type": "stream",
     "text": [
      "{'content': {'parts': [{'text': 'I can answer questions about the `bigquery-public-data.new_york.citibike_trips` table. I can find tables, review their schema, and write and execute SQL queries. I can also forecast time series data.\\n\\nWhat would you like to know about citibike trips?'}], 'role': 'model'}, 'finish_reason': 'STOP', 'usage_metadata': {'candidates_token_count': 61, 'candidates_tokens_details': [{'modality': 'TEXT', 'token_count': 61}], 'prompt_token_count': 4058, 'prompt_tokens_details': [{'modality': 'TEXT', 'token_count': 4058}], 'total_token_count': 4119, 'traffic_type': 'ON_DEMAND'}, 'avg_logprobs': -0.08039614411651111, 'invocation_id': 'e-09414049-f369-4221-ab3c-5602b5a0c426', 'author': 'agent_bq_forecast', 'actions': {'state_delta': {}, 'artifact_delta': {}, 'requested_auth_configs': {}, 'requested_tool_confirmations': {}}, 'id': 'fb0c9452-d88c-4471-96bc-4d5f5e3bce73', 'timestamp': 1760904448.903118}\n"
     ]
    }
   ],
   "source": [
    "async for event in remote_app.async_stream_query(\n",
    "    user_id='demo_user',\n",
    "    session_id=remote_session['id'],\n",
    "    message=genai.types.Content(\n",
    "        role=\"user\",\n",
    "        parts=[genai.types.Part(text='What can you do?')]\n",
    "    ).model_dump(mode=\"json\")\n",
    "):\n",
    "    print(event)"
   ]
  },
  {
   "cell_type": "markdown",
   "metadata": {},
   "source": [
    "### Extract Response Text"
   ]
  },
  {
   "cell_type": "code",
   "execution_count": 13,
   "metadata": {},
   "outputs": [
    {
     "name": "stdout",
     "output_type": "stream",
     "text": [
      "I can answer questions about the `bigquery-public-data.new_york.citibike_trips` table. I can find tables, review their schema, and write and execute SQL queries. I can also forecast time series data.\n",
      "\n",
      "What would you like to know about citibike trips?\n"
     ]
    }
   ],
   "source": [
    "# Print just the text response from the last event\n",
    "if 'content' in event and 'parts' in event['content']:\n",
    "    response_text = event['content']['parts'][-1].get('text', '')\n",
    "    print(response_text)"
   ]
  },
  {
   "cell_type": "markdown",
   "metadata": {},
   "source": [
    "---\n",
    "## Use The Deployed Agent via REST API\n",
    "\n",
    "This section demonstrates how to interact with the deployed agent using direct REST API calls."
   ]
  },
  {
   "cell_type": "markdown",
   "metadata": {},
   "source": [
    "### Construct API Endpoint URL"
   ]
  },
  {
   "cell_type": "code",
   "execution_count": 14,
   "metadata": {},
   "outputs": [
    {
     "name": "stdout",
     "output_type": "stream",
     "text": [
      "API Endpoint: https://us-central1-aiplatform.googleapis.com/v1/projects/1026793852137/locations/us-central1/reasoningEngines/2255516162987130880\n"
     ]
    }
   ],
   "source": [
    "location = os.getenv('GOOGLE_CLOUD_LOCATION')\n",
    "url = f\"https://{location}-aiplatform.googleapis.com/v1/{remote_app.resource_name}\"\n",
    "print(f\"API Endpoint: {url}\")"
   ]
  },
  {
   "cell_type": "markdown",
   "metadata": {},
   "source": [
    "### Get Session via REST"
   ]
  },
  {
   "cell_type": "code",
   "execution_count": 15,
   "metadata": {},
   "outputs": [
    {
     "data": {
      "text/plain": [
       "{'output': {'id': '6287579508547518464',\n",
       "  'userId': 'demo_user',\n",
       "  'state': {},\n",
       "  'events': [{'outputTranscription': None,\n",
       "    'errorCode': None,\n",
       "    'id': '6761997953931411456',\n",
       "    'interrupted': None,\n",
       "    'branch': None,\n",
       "    'longRunningToolIds': None,\n",
       "    'partial': None,\n",
       "    'invocationId': 'e-09414049-f369-4221-ab3c-5602b5a0c426',\n",
       "    'turnComplete': None,\n",
       "    'actions': {'requestedToolConfirmations': {},\n",
       "     'artifactDelta': {},\n",
       "     'transferToAgent': None,\n",
       "     'stateDelta': {},\n",
       "     'endOfAgent': None,\n",
       "     'requestedAuthConfigs': {},\n",
       "     'escalate': None,\n",
       "     'agentState': None,\n",
       "     'skipSummarization': None,\n",
       "     'compaction': None},\n",
       "    'logprobsResult': None,\n",
       "    'liveSessionResumptionUpdate': None,\n",
       "    'customMetadata': None,\n",
       "    'inputTranscription': None,\n",
       "    'timestamp': 1760904448.776072,\n",
       "    'finishReason': None,\n",
       "    'citationMetadata': None,\n",
       "    'usageMetadata': None,\n",
       "    'cacheMetadata': None,\n",
       "    'author': 'user',\n",
       "    'groundingMetadata': None,\n",
       "    'avgLogprobs': None,\n",
       "    'content': {'role': 'user',\n",
       "     'parts': [{'codeExecutionResult': None,\n",
       "       'functionResponse': None,\n",
       "       'videoMetadata': None,\n",
       "       'executableCode': None,\n",
       "       'functionCall': None,\n",
       "       'fileData': None,\n",
       "       'text': 'What can you do?',\n",
       "       'thought': None,\n",
       "       'inlineData': None,\n",
       "       'thoughtSignature': None}]},\n",
       "    'errorMessage': None},\n",
       "   {'content': {'role': 'model',\n",
       "     'parts': [{'executableCode': None,\n",
       "       'text': 'I can answer questions about the `bigquery-public-data.new_york.citibike_trips` table. I can find tables, review their schema, and write and execute SQL queries. I can also forecast time series data.\\n\\nWhat would you like to know about citibike trips?',\n",
       "       'thoughtSignature': None,\n",
       "       'codeExecutionResult': None,\n",
       "       'inlineData': None,\n",
       "       'videoMetadata': None,\n",
       "       'fileData': None,\n",
       "       'functionResponse': None,\n",
       "       'functionCall': None,\n",
       "       'thought': None}]},\n",
       "    'invocationId': 'e-09414049-f369-4221-ab3c-5602b5a0c426',\n",
       "    'finishReason': None,\n",
       "    'errorMessage': None,\n",
       "    'id': '1638027477890629632',\n",
       "    'cacheMetadata': None,\n",
       "    'partial': None,\n",
       "    'liveSessionResumptionUpdate': None,\n",
       "    'interrupted': None,\n",
       "    'longRunningToolIds': None,\n",
       "    'citationMetadata': None,\n",
       "    'errorCode': None,\n",
       "    'inputTranscription': None,\n",
       "    'customMetadata': None,\n",
       "    'branch': None,\n",
       "    'actions': {'compaction': None,\n",
       "     'skipSummarization': None,\n",
       "     'requestedAuthConfigs': {},\n",
       "     'escalate': None,\n",
       "     'artifactDelta': {},\n",
       "     'agentState': None,\n",
       "     'transferToAgent': None,\n",
       "     'stateDelta': {},\n",
       "     'endOfAgent': None,\n",
       "     'requestedToolConfirmations': {}},\n",
       "    'timestamp': 1760904448.903118,\n",
       "    'author': 'agent_bq_forecast',\n",
       "    'outputTranscription': None,\n",
       "    'groundingMetadata': None,\n",
       "    'turnComplete': None,\n",
       "    'logprobsResult': None,\n",
       "    'avgLogprobs': None,\n",
       "    'usageMetadata': None}],\n",
       "  'lastUpdateTime': 1760904449.839777,\n",
       "  'appName': '2255516162987130880'}}"
      ]
     },
     "execution_count": 15,
     "metadata": {},
     "output_type": "execute_result"
    }
   ],
   "source": [
    "# Get credentials\n",
    "credentials, _ = google.auth.default()\n",
    "auth_req = google.auth.transport.requests.Request()\n",
    "credentials.refresh(auth_req)\n",
    "headers = {'Authorization': f'Bearer {credentials.token}'}\n",
    "\n",
    "# Prepare payload\n",
    "payload = {\n",
    "    'class_method': 'async_get_session',\n",
    "    'input': {\n",
    "        'user_id': 'demo_user',\n",
    "        'session_id': remote_session['id']\n",
    "    }\n",
    "}\n",
    "\n",
    "# Make request\n",
    "response = requests.post(url + ':query', headers=headers, json=payload)\n",
    "response.raise_for_status()\n",
    "\n",
    "response.json()"
   ]
  },
  {
   "cell_type": "markdown",
   "metadata": {},
   "source": [
    "### Stream Query via REST\n",
    "\n",
    "**Customize the message below for your agent.**"
   ]
  },
  {
   "cell_type": "code",
   "execution_count": 16,
   "metadata": {},
   "outputs": [
    {
     "name": "stdout",
     "output_type": "stream",
     "text": [
      "I can help you explore and analyze the `bigquery-public-data.new_york.citibike_trips` table. This includes:\n",
      "\n",
      "*   **Finding tables and understanding their structure:** I can list available tables and describe their columns and data types.\n",
      "*   **Executing SQL queries:** I can write and run SQL queries to extract specific information, aggregate data, and perform various analyses on the `citibike_trips` data.\n",
      "*   **Forecasting time series data:** If there's a time-based metric you're interested in, I can use the forecasting tool to predict future trends.\n",
      "\n",
      "For example, I can answer questions like:\n",
      "*   \"What are the most popular starting stations?\"\n",
      "*   \"How many trips were taken each day last month?\"\n",
      "*   \"Can you forecast the number of trips for the next week?\"\n",
      "\n",
      "What kind of information are you looking for today?\n",
      "--------------------------------------------------------------------------------\n"
     ]
    }
   ],
   "source": [
    "payload = {\n",
    "    'class_method': 'async_stream_query',\n",
    "    'input': {\n",
    "        'user_id': 'demo_user',\n",
    "        'session_id': remote_session['id'],\n",
    "        'message': 'Tell me more about what you can help me with.'\n",
    "    }\n",
    "}\n",
    "\n",
    "# Refresh credentials\n",
    "credentials.refresh(auth_req)\n",
    "headers = {'Authorization': f'Bearer {credentials.token}'}\n",
    "\n",
    "# Stream response\n",
    "response = requests.post(\n",
    "    url + ':streamQuery?alt=sse',\n",
    "    headers=headers,\n",
    "    json=payload,\n",
    "    stream=True\n",
    ")\n",
    "response.raise_for_status()\n",
    "\n",
    "# Process streaming response\n",
    "for line in response.iter_lines(decode_unicode=True):\n",
    "    if line:\n",
    "        event_data = json.loads(line)\n",
    "        \n",
    "        # Extract and print text if available\n",
    "        if 'content' in event_data and 'parts' in event_data['content']:\n",
    "            for part in event_data['content']['parts']:\n",
    "                if 'text' in part:\n",
    "                    print(part['text'])\n",
    "                    print(\"-\" * 80)"
   ]
  },
  {
   "cell_type": "markdown",
   "metadata": {},
   "source": [
    "---\n",
    "## Session Management"
   ]
  },
  {
   "cell_type": "markdown",
   "metadata": {},
   "source": [
    "### View Session History"
   ]
  },
  {
   "cell_type": "code",
   "execution_count": 17,
   "metadata": {},
   "outputs": [
    {
     "name": "stdout",
     "output_type": "stream",
     "text": [
      "Session: 6287579508547518464\n",
      "Events in session: 4\n",
      "\n",
      "Conversation history:\n",
      "================================================================================\n",
      "\n",
      "[USER]\n",
      "What can you do?\n",
      "--------------------------------------------------------------------------------\n",
      "\n",
      "[MODEL]\n",
      "I can answer questions about the `bigquery-public-data.new_york.citibike_trips` table. I can find tables, review their schema, and write and execute SQL queries. I can also forecast time series data.\n",
      "\n",
      "What would you like to know about citibike trips?\n",
      "--------------------------------------------------------------------------------\n",
      "\n",
      "[USER]\n",
      "Tell me more about what you can help me with.\n",
      "--------------------------------------------------------------------------------\n",
      "\n",
      "[MODEL]\n",
      "I can help you explore and analyze the `bigquery-public-data.new_york.citibike_trips` table. This includes:\n",
      "\n",
      "*   **Finding tables and understanding their structure:** I can list available tables and describe their columns and data types.\n",
      "*   **Executing SQL queries:** I can write and run SQL queries to extract specific information, aggregate data, and perform various analyses on the `citibike_trips` data.\n",
      "*   **Forecasting time series data:** If there's a time-based metric you're interested in, I can use the forecasting tool to predict future trends.\n",
      "\n",
      "For example, I can answer questions like:\n",
      "*   \"What are the most popular starting stations?\"\n",
      "*   \"How many trips were taken each day last month?\"\n",
      "*   \"Can you forecast the number of trips for the next week?\"\n",
      "\n",
      "What kind of information are you looking for today?\n",
      "--------------------------------------------------------------------------------\n"
     ]
    }
   ],
   "source": [
    "session_details = await remote_app.async_get_session(\n",
    "    user_id='demo_user',\n",
    "    session_id=remote_session['id']\n",
    ")\n",
    "\n",
    "print(f\"Session: {session_details['id']}\")\n",
    "print(f\"Events in session: {len(session_details.get('events', []))}\")\n",
    "print(\"\\nConversation history:\")\n",
    "print(\"=\" * 80)\n",
    "\n",
    "for event in session_details.get('events', []):\n",
    "    role = event.get('content', {}).get('role', 'unknown')\n",
    "    parts = event.get('content', {}).get('parts', [])\n",
    "    \n",
    "    print(f\"\\n[{role.upper()}]\")\n",
    "    for part in parts:\n",
    "        if 'text' in part:\n",
    "            print(part['text'])\n",
    "        elif 'function_call' in part:\n",
    "            print(f\"<Function Call: {part['function_call'].get('name')}>\")\n",
    "    print(\"-\" * 80)"
   ]
  },
  {
   "cell_type": "markdown",
   "metadata": {},
   "source": [
    "### Delete Session"
   ]
  },
  {
   "cell_type": "code",
   "execution_count": 18,
   "metadata": {},
   "outputs": [
    {
     "name": "stdout",
     "output_type": "stream",
     "text": [
      "✓ Session deleted\n"
     ]
    }
   ],
   "source": [
    "await remote_app.async_delete_session(\n",
    "    user_id='demo_user',\n",
    "    session_id=remote_session['id']\n",
    ")\n",
    "print(\"✓ Session deleted\")"
   ]
  },
  {
   "cell_type": "markdown",
   "metadata": {},
   "source": [
    "### Verify Deletion"
   ]
  },
  {
   "cell_type": "code",
   "execution_count": 19,
   "metadata": {},
   "outputs": [
    {
     "name": "stdout",
     "output_type": "stream",
     "text": [
      "Remaining sessions: 0\n"
     ]
    }
   ],
   "source": [
    "remaining_sessions = await remote_app.async_list_sessions(user_id='demo_user')\n",
    "print(f\"Remaining sessions: {len(remaining_sessions['sessions'])}\")"
   ]
  },
  {
   "cell_type": "markdown",
   "metadata": {},
   "source": [
    "---\n",
    "## Cleanup\n",
    "\n",
    "Delete all test sessions for a user."
   ]
  },
  {
   "cell_type": "code",
   "execution_count": 20,
   "metadata": {},
   "outputs": [
    {
     "name": "stdout",
     "output_type": "stream",
     "text": [
      "\n",
      "No sessions found for demo_user\n",
      "\n",
      "No sessions found for test_user\n",
      "\n",
      "✓ Cleanup complete\n"
     ]
    }
   ],
   "source": [
    "# List of test users to clean up\n",
    "test_users = ['demo_user', 'test_user']\n",
    "\n",
    "for user_id in test_users:\n",
    "    sessions = await remote_app.async_list_sessions(user_id=user_id)\n",
    "    \n",
    "    if sessions['sessions']:\n",
    "        print(f\"\\nCleaning up {len(sessions['sessions'])} session(s) for {user_id}\")\n",
    "        for session in sessions['sessions']:\n",
    "            await remote_app.async_delete_session(\n",
    "                user_id=user_id,\n",
    "                session_id=session['id']\n",
    "            )\n",
    "            print(f\"  ✓ Deleted session {session['id']}\")\n",
    "    else:\n",
    "        print(f\"\\nNo sessions found for {user_id}\")\n",
    "\n",
    "print(\"\\n✓ Cleanup complete\")"
   ]
  },
  {
   "cell_type": "markdown",
   "metadata": {},
   "source": [
    "---\n",
    "## Next Steps\n",
    "\n",
    "After testing your deployed agent:\n",
    "- Register with Gemini Enterprise using [register-adk-on-agent-engine-with-gemini-enterprise.ipynb](./register-adk-on-agent-engine-with-gemini-enterprise.ipynb)\n",
    "- Integrate the agent into your applications using the SDK or REST API patterns shown above"
   ]
  },
  {
   "cell_type": "markdown",
   "metadata": {},
   "source": []
  },
  {
   "cell_type": "markdown",
   "metadata": {},
   "source": []
  }
 ],
 "metadata": {
  "kernelspec": {
   "display_name": "Python (concept-bq)",
   "language": "python",
   "name": "concept-bq"
  },
  "language_info": {
   "codemirror_mode": {
    "name": "ipython",
    "version": 3
   },
   "file_extension": ".py",
   "mimetype": "text/x-python",
   "name": "python",
   "nbconvert_exporter": "python",
   "pygments_lexer": "ipython3",
   "version": "3.13.3"
  }
 },
 "nbformat": 4,
 "nbformat_minor": 4
}
