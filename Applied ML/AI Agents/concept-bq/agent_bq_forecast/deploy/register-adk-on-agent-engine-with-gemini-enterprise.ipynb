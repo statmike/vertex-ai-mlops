{
 "cells": [
  {
   "cell_type": "markdown",
   "metadata": {},
   "source": [
    "# Register ADK Agent On Vertex AI Agent Engine With Gemini Enterprise\n",
    "\n",
    "This notebook registers a deployed ADK agent with Gemini Enterprise (formerly known as Agentspace), making it available in the Gemini Enterprise interface.\n",
    "\n",
    "**Prerequisites:**\n",
    "- Agent must be deployed using [deploy-vertex-ai-agent-engine.ipynb](./deploy-vertex-ai-agent-engine.ipynb)\n",
    "- `deployment.json` file exists in this folder with the deployment resource ID\n",
    "- Gemini Enterprise must be enabled in your Google Cloud project"
   ]
  },
  {
   "cell_type": "markdown",
   "metadata": {},
   "source": [
    "## Package Imports"
   ]
  },
  {
   "cell_type": "code",
   "execution_count": 1,
   "metadata": {},
   "outputs": [],
   "source": [
    "import os\n",
    "import subprocess\n",
    "import json\n",
    "from pathlib import Path\n",
    "from datetime import datetime\n",
    "\n",
    "import dotenv\n",
    "import requests\n",
    "from vertexai import agent_engines"
   ]
  },
  {
   "cell_type": "markdown",
   "metadata": {},
   "source": [
    "## Auto-Configure Paths"
   ]
  },
  {
   "cell_type": "code",
   "execution_count": 2,
   "metadata": {},
   "outputs": [
    {
     "name": "stdout",
     "output_type": "stream",
     "text": [
      "Deploy folder: /usr/local/google/home/statmike/Git/vertex-ai-mlops/Applied ML/AI Agents/concept-bq/agent_bq_forecast/deploy\n",
      "Agent folder: /usr/local/google/home/statmike/Git/vertex-ai-mlops/Applied ML/AI Agents/concept-bq/agent_bq_forecast\n",
      "Project root: /usr/local/google/home/statmike/Git/vertex-ai-mlops/Applied ML/AI Agents/concept-bq\n",
      "Agent name: agent_bq_forecast\n"
     ]
    }
   ],
   "source": [
    "# Get current directory (should be agent_name/deploy/)\n",
    "deploy_folder = Path.cwd()\n",
    "agent_folder = deploy_folder.parent\n",
    "project_root = agent_folder.parent\n",
    "\n",
    "# Extract agent name from folder structure\n",
    "agent_name = agent_folder.name\n",
    "\n",
    "print(f\"Deploy folder: {deploy_folder}\")\n",
    "print(f\"Agent folder: {agent_folder}\")\n",
    "print(f\"Project root: {project_root}\")\n",
    "print(f\"Agent name: {agent_name}\")"
   ]
  },
  {
   "cell_type": "markdown",
   "metadata": {},
   "source": [
    "## Get Google Cloud Project Information"
   ]
  },
  {
   "cell_type": "code",
   "execution_count": 3,
   "metadata": {},
   "outputs": [
    {
     "name": "stdout",
     "output_type": "stream",
     "text": [
      "\n",
      "==================================================\n",
      "Google Cloud Project Information\n",
      "==================================================\n",
      "PROJECT_ID     = statmike-mlops-349915\n",
      "PROJECT_NUMBER = 1026793852137\n",
      "==================================================\n",
      "\n"
     ]
    }
   ],
   "source": [
    "# Get project ID and number from gcloud\n",
    "PROJECT_ID = subprocess.run(\n",
    "    ['gcloud', 'config', 'get-value', 'project'],\n",
    "    capture_output=True,\n",
    "    text=True,\n",
    "    check=True\n",
    ").stdout.strip()\n",
    "\n",
    "PROJECT_NUMBER = subprocess.run(\n",
    "    ['gcloud', 'projects', 'describe', PROJECT_ID, '--format=value(projectNumber)'],\n",
    "    capture_output=True,\n",
    "    text=True,\n",
    "    check=True\n",
    ").stdout.strip()\n",
    "\n",
    "print(f\"\\n{'='*50}\")\n",
    "print(\"Google Cloud Project Information\")\n",
    "print(f\"{'='*50}\")\n",
    "print(f\"PROJECT_ID     = {PROJECT_ID}\")\n",
    "print(f\"PROJECT_NUMBER = {PROJECT_NUMBER}\")\n",
    "print(f\"{'='*50}\\n\")"
   ]
  },
  {
   "cell_type": "markdown",
   "metadata": {},
   "source": [
    "## Load Deployment Metadata\n",
    "\n",
    "Get the deployed agent's information from `deployment.json`."
   ]
  },
  {
   "cell_type": "code",
   "execution_count": 4,
   "metadata": {},
   "outputs": [
    {
     "name": "stdout",
     "output_type": "stream",
     "text": [
      "Deployment Resource ID: projects/1026793852137/locations/us-central1/reasoningEngines/2255516162987130880\n"
     ]
    }
   ],
   "source": [
    "deployment_file = deploy_folder / 'deployment.json'\n",
    "\n",
    "if not deployment_file.exists():\n",
    "    raise FileNotFoundError(\n",
    "        f\"Deployment metadata not found at {deployment_file}. \"\n",
    "        \"Please deploy the agent first using deploy-vertex-ai-agent-engine.ipynb\"\n",
    "    )\n",
    "\n",
    "with open(deployment_file, 'r') as f:\n",
    "    deployment_metadata = json.load(f)\n",
    "\n",
    "current_deployment = deployment_metadata.get('resource_id')\n",
    "\n",
    "if not current_deployment:\n",
    "    raise ValueError(\"No deployment resource_id found in deployment.json\")\n",
    "\n",
    "print(f\"Deployment Resource ID: {current_deployment}\")"
   ]
  },
  {
   "cell_type": "markdown",
   "metadata": {},
   "source": [
    "## Get ADK Agent on Vertex AI Agent Engine"
   ]
  },
  {
   "cell_type": "code",
   "execution_count": 5,
   "metadata": {},
   "outputs": [
    {
     "name": "stdout",
     "output_type": "stream",
     "text": [
      "✓ Connected to deployed agent: projects/1026793852137/locations/us-central1/reasoningEngines/2255516162987130880\n"
     ]
    }
   ],
   "source": [
    "try:\n",
    "    remote_app = agent_engines.get(resource_name=current_deployment)\n",
    "    print(f\"✓ Connected to deployed agent: {remote_app.resource_name}\")\n",
    "except Exception as e:\n",
    "    raise RuntimeError(f\"Failed to connect to deployed agent: {e}\")"
   ]
  },
  {
   "cell_type": "code",
   "execution_count": 6,
   "metadata": {},
   "outputs": [
    {
     "data": {
      "text/plain": [
       "'projects/1026793852137/locations/us-central1/reasoningEngines/2255516162987130880'"
      ]
     },
     "execution_count": 6,
     "metadata": {},
     "output_type": "execute_result"
    }
   ],
   "source": [
    "remote_app.resource_name"
   ]
  },
  {
   "cell_type": "code",
   "execution_count": 7,
   "metadata": {},
   "outputs": [
    {
     "data": {
      "text/plain": [
       "'agent_bq_forecast'"
      ]
     },
     "execution_count": 7,
     "metadata": {},
     "output_type": "execute_result"
    }
   ],
   "source": [
    "remote_app.display_name"
   ]
  },
  {
   "cell_type": "code",
   "execution_count": 8,
   "metadata": {},
   "outputs": [
    {
     "data": {
      "text/plain": [
       "'An agent that can use bigquery with tools to answer questions with time series data including forecasting.'"
      ]
     },
     "execution_count": 8,
     "metadata": {},
     "output_type": "execute_result"
    }
   ],
   "source": [
    "remote_app.to_dict()['description']"
   ]
  },
  {
   "cell_type": "markdown",
   "metadata": {},
   "source": [
    "## Configure Gemini Enterprise Settings\n",
    "\n",
    "**IMPORTANT:** You need to update the `APP_ID` below with your Gemini Enterprise app ID.\n",
    "\n",
    "To find your app ID:\n",
    "1. Go to [Gemini Enterprise Console](https://console.cloud.google.com/gen-app-builder/)\n",
    "2. Select your app\n",
    "3. The app ID is in the URL or app details\n",
    "\n",
    "The location is typically `global` for Gemini Enterprise."
   ]
  },
  {
   "cell_type": "code",
   "execution_count": 9,
   "metadata": {},
   "outputs": [
    {
     "name": "stdout",
     "output_type": "stream",
     "text": [
      "Location: global\n",
      "Agent Display Name: agent_bq_forecast\n",
      "Agent Description: An agent that can use bigquery with tools to answer questions with time series data including forecasting.\n",
      "App ID: enterprise-search-17381091_1738109128316\n"
     ]
    }
   ],
   "source": [
    "LOCATION = \"global\"  # Or your specific location\n",
    "AGENT_DISPLAY_NAME = remote_app.display_name\n",
    "AGENT_DESCRIPTION = remote_app.to_dict()['description']\n",
    "\n",
    "# UPDATE THIS with your Gemini Enterprise app ID\n",
    "APP_ID = \"enterprise-search-17381091_1738109128316\"  # e.g., \"enterprise-search-17381091_1738109128316\"\n",
    "\n",
    "if APP_ID == \"YOUR_GEMINI_ENTERPRISE_APP_ID\":\n",
    "    raise ValueError(\n",
    "        \"Please update APP_ID with your actual Gemini Enterprise app ID. \"\n",
    "        \"See the markdown cell above for instructions.\"\n",
    "    )\n",
    "\n",
    "print(f\"Location: {LOCATION}\")\n",
    "print(f\"Agent Display Name: {AGENT_DISPLAY_NAME}\")\n",
    "print(f\"Agent Description: {AGENT_DESCRIPTION}\")\n",
    "print(f\"App ID: {APP_ID}\")"
   ]
  },
  {
   "cell_type": "markdown",
   "metadata": {},
   "source": [
    "## Check for Existing Registration\n",
    "\n",
    "List all agents in Gemini Enterprise and check if one with the same display name already exists."
   ]
  },
  {
   "cell_type": "code",
   "execution_count": 10,
   "metadata": {},
   "outputs": [
    {
     "name": "stdout",
     "output_type": "stream",
     "text": [
      "Listing agents at: https://discoveryengine.googleapis.com/v1alpha/projects/1026793852137/locations/global/collections/default_collection/engines/enterprise-search-17381091_1738109128316/assistants/default_assistant/agents\n",
      "Status Code: 200\n",
      "\n",
      "Found 5 agent(s) in Gemini Enterprise\n",
      "\n",
      "No existing agent found with displayName: agent_bq_forecast\n"
     ]
    }
   ],
   "source": [
    "# Get access token\n",
    "access_token = subprocess.check_output(\n",
    "    ['gcloud', 'auth', 'print-access-token'],\n",
    "    text=True\n",
    ").strip()\n",
    "\n",
    "# List all agents in this Gemini Enterprise app\n",
    "list_url = (\n",
    "    f\"https://discoveryengine.googleapis.com/v1alpha/\"\n",
    "    f\"projects/{PROJECT_NUMBER}/locations/{LOCATION}/\"\n",
    "    f\"collections/default_collection/engines/{APP_ID}/\"\n",
    "    f\"assistants/default_assistant/agents\"\n",
    ")\n",
    "\n",
    "print(f\"Listing agents at: {list_url}\")\n",
    "\n",
    "list_response = requests.get(\n",
    "    url=list_url,\n",
    "    headers={\n",
    "        \"Authorization\": f\"Bearer {access_token}\",\n",
    "        \"Content-Type\": \"application/json\",\n",
    "        \"X-Goog-User-Project\": PROJECT_NUMBER\n",
    "    },\n",
    ")\n",
    "\n",
    "print(f\"Status Code: {list_response.status_code}\")\n",
    "\n",
    "if list_response.status_code != 200:\n",
    "    print(f\"Failed to list agents: {list_response.text}\")\n",
    "    raise RuntimeError(f\"Failed to list agents: {list_response.text}\")\n",
    "\n",
    "# Check if our agent already exists\n",
    "agents = list_response.json().get('agents', [])\n",
    "print(f\"\\nFound {len(agents)} agent(s) in Gemini Enterprise\")\n",
    "\n",
    "existing_agent = None\n",
    "for agent in agents:\n",
    "    if agent.get('displayName') == AGENT_DISPLAY_NAME:\n",
    "        existing_agent = agent\n",
    "        print(f\"\\n✓ Found existing agent: {agent['name']}\")\n",
    "        break\n",
    "\n",
    "if not existing_agent:\n",
    "    print(f\"\\nNo existing agent found with displayName: {AGENT_DISPLAY_NAME}\")"
   ]
  },
  {
   "cell_type": "markdown",
   "metadata": {},
   "source": [
    "## Register Agent with Gemini Enterprise\n",
    "\n",
    "This makes a REST API call to register the deployed ADK agent with Gemini Enterprise (only if not already registered)."
   ]
  },
  {
   "cell_type": "code",
   "execution_count": 11,
   "metadata": {},
   "outputs": [
    {
     "name": "stdout",
     "output_type": "stream",
     "text": [
      "Creating new agent registration...\n",
      "\n",
      "✓ Agent successfully registered!\n",
      "\n",
      "Agent Details:\n",
      "{\n",
      "  \"name\": \"projects/1026793852137/locations/global/collections/default_collection/engines/enterprise-search-17381091_1738109128316/assistants/default_assistant/agents/9862578113183617741\",\n",
      "  \"displayName\": \"agent_bq_forecast\",\n",
      "  \"description\": \"An agent that can use bigquery with tools to answer questions with time series data including forecasting.\",\n",
      "  \"createTime\": \"2025-10-19T20:09:17.486065859Z\",\n",
      "  \"adkAgentDefinition\": {\n",
      "    \"toolSettings\": {\n",
      "      \"toolDescription\": \"An agent that can use bigquery with tools to answer questions with time series data including forecasting.\"\n",
      "    },\n",
      "    \"provisionedReasoningEngine\": {\n",
      "      \"reasoningEngine\": \"projects/1026793852137/locations/us-central1/reasoningEngines/2255516162987130880\"\n",
      "    }\n",
      "  },\n",
      "  \"state\": \"ENABLED\"\n",
      "}\n"
     ]
    }
   ],
   "source": [
    "if existing_agent:\n",
    "    print(\"Agent is already registered. Using existing registration.\")\n",
    "    agent_data = existing_agent\n",
    "else:\n",
    "    print(\"Creating new agent registration...\")\n",
    "    \n",
    "    # Construct API endpoint\n",
    "    create_url = (\n",
    "        f\"https://discoveryengine.googleapis.com/v1alpha/\"\n",
    "        f\"projects/{PROJECT_NUMBER}/locations/{LOCATION}/\"\n",
    "        f\"collections/default_collection/engines/{APP_ID}/\"\n",
    "        f\"assistants/default_assistant/agents\"\n",
    "    )\n",
    "    \n",
    "    # Prepare request\n",
    "    headers = {\n",
    "        \"Authorization\": f\"Bearer {access_token}\",\n",
    "        \"Content-Type\": \"application/json\",\n",
    "        \"X-Goog-User-Project\": PROJECT_NUMBER\n",
    "    }\n",
    "    \n",
    "    payload = {\n",
    "        \"displayName\": AGENT_DISPLAY_NAME,\n",
    "        \"description\": AGENT_DESCRIPTION,\n",
    "        \"adk_agent_definition\": {\n",
    "            \"tool_settings\": {\n",
    "                \"tool_description\": AGENT_DESCRIPTION\n",
    "            },\n",
    "            \"provisioned_reasoning_engine\": {\n",
    "                \"reasoning_engine\": remote_app.resource_name\n",
    "            }\n",
    "        },\n",
    "    }\n",
    "    \n",
    "    # Make request\n",
    "    create_response = requests.post(create_url, headers=headers, json=payload)\n",
    "    \n",
    "    if create_response.status_code != 200:\n",
    "        print(f\"\\n✗ Registration failed: {create_response.status_code}\")\n",
    "        print(create_response.text)\n",
    "        raise RuntimeError(f\"Failed to register agent: {create_response.text}\")\n",
    "    \n",
    "    agent_data = create_response.json()\n",
    "    print(\"\\n✓ Agent successfully registered!\")\n",
    "\n",
    "# Display agent details\n",
    "print(\"\\nAgent Details:\")\n",
    "print(json.dumps(agent_data, indent=2))"
   ]
  },
  {
   "cell_type": "markdown",
   "metadata": {},
   "source": [
    "## Save Gemini Enterprise Registration Info\n",
    "\n",
    "Update `deployment.json` with the Gemini Enterprise agent ID."
   ]
  },
  {
   "cell_type": "code",
   "execution_count": 12,
   "metadata": {},
   "outputs": [
    {
     "name": "stdout",
     "output_type": "stream",
     "text": [
      "\n",
      "✓ Registration info saved to /usr/local/google/home/statmike/Git/vertex-ai-mlops/Applied ML/AI Agents/concept-bq/agent_bq_forecast/deploy/deployment.json\n",
      "\n",
      "Gemini Enterprise Agent:\n",
      "  Name: projects/1026793852137/locations/global/collections/default_collection/engines/enterprise-search-17381091_1738109128316/assistants/default_assistant/agents/9862578113183617741\n",
      "  Display Name: agent_bq_forecast\n",
      "  Created: 2025-10-19T20:09:17.486065859Z\n",
      "  State: ENABLED\n"
     ]
    }
   ],
   "source": [
    "# Extract agent info from agent data\n",
    "gemini_agent_name = agent_data.get('name', '')\n",
    "create_time = agent_data.get('createTime', '')\n",
    "\n",
    "# Update deployment metadata\n",
    "deployment_metadata['gemini_enterprise_agent_id'] = gemini_agent_name\n",
    "deployment_metadata['registered_at'] = create_time\n",
    "\n",
    "# Save updated metadata\n",
    "with open(deployment_file, 'w') as f:\n",
    "    json.dump(deployment_metadata, f, indent=2)\n",
    "\n",
    "print(f\"\\n✓ Registration info saved to {deployment_file}\")\n",
    "print(f\"\\nGemini Enterprise Agent:\")\n",
    "print(f\"  Name: {gemini_agent_name}\")\n",
    "print(f\"  Display Name: {agent_data.get('displayName')}\")\n",
    "print(f\"  Created: {create_time}\")\n",
    "print(f\"  State: {agent_data.get('state')}\")"
   ]
  },
  {
   "cell_type": "markdown",
   "metadata": {},
   "source": [
    "---\n",
    "## Delete Agent from Gemini Enterprise\n",
    "\n",
    "Use this section to remove the agent registration from Gemini Enterprise.\n",
    "\n",
    "**⚠️ Warning:** This only removes the registration from Gemini Enterprise. It does NOT delete the deployment on Vertex AI Agent Engine."
   ]
  },
  {
   "cell_type": "code",
   "execution_count": 13,
   "metadata": {},
   "outputs": [
    {
     "name": "stdout",
     "output_type": "stream",
     "text": [
      "Deletion skipped (delete_agent = False)\n"
     ]
    }
   ],
   "source": [
    "# Set to True to delete the agent registration from Gemini Enterprise\n",
    "delete_agent = False\n",
    "\n",
    "if delete_agent:\n",
    "    if not gemini_agent_name:\n",
    "        print(\"✗ No agent to delete - gemini_agent_name not found\")\n",
    "    else:\n",
    "        print(f\"Deleting agent: {gemini_agent_name}\")\n",
    "        \n",
    "        # Refresh access token\n",
    "        access_token = subprocess.check_output(\n",
    "            ['gcloud', 'auth', 'print-access-token'],\n",
    "            text=True\n",
    "        ).strip()\n",
    "        \n",
    "        # Delete the agent\n",
    "        delete_response = requests.delete(\n",
    "            url=f\"https://discoveryengine.googleapis.com/v1alpha/{gemini_agent_name}\",\n",
    "            headers={\n",
    "                \"Authorization\": f\"Bearer {access_token}\",\n",
    "                \"Content-Type\": \"application/json\",\n",
    "                \"X-Goog-User-Project\": PROJECT_NUMBER\n",
    "            },\n",
    "            json={\n",
    "                \"name\": gemini_agent_name\n",
    "            }\n",
    "        )\n",
    "        \n",
    "        print(f\"Status Code: {delete_response.status_code}\")\n",
    "        \n",
    "        if delete_response.status_code == 200:\n",
    "            print(\"✓ Agent successfully deleted from Gemini Enterprise\")\n",
    "            \n",
    "            # Clear metadata\n",
    "            deployment_metadata['gemini_enterprise_agent_id'] = ''\n",
    "            deployment_metadata['registered_at'] = ''\n",
    "            \n",
    "            with open(deployment_file, 'w') as f:\n",
    "                json.dump(deployment_metadata, f, indent=2)\n",
    "            \n",
    "            print(f\"✓ Registration metadata cleared from {deployment_file}\")\n",
    "        else:\n",
    "            print(f\"✗ Deletion failed: {delete_response.status_code}\")\n",
    "            if delete_response.text:\n",
    "                print(f\"Response: {delete_response.text}\")\n",
    "            else:\n",
    "                print(\"Response body is empty\")\n",
    "else:\n",
    "    print(\"Deletion skipped (delete_agent = False)\")"
   ]
  },
  {
   "cell_type": "code",
   "execution_count": null,
   "metadata": {},
   "outputs": [],
   "source": []
  }
 ],
 "metadata": {
  "kernelspec": {
   "display_name": "Python (concept-bq)",
   "language": "python",
   "name": "concept-bq"
  },
  "language_info": {
   "codemirror_mode": {
    "name": "ipython",
    "version": 3
   },
   "file_extension": ".py",
   "mimetype": "text/x-python",
   "name": "python",
   "nbconvert_exporter": "python",
   "pygments_lexer": "ipython3",
   "version": "3.13.3"
  }
 },
 "nbformat": 4,
 "nbformat_minor": 4
}
