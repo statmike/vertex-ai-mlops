{
 "cells": [
  {
   "cell_type": "markdown",
   "id": "3bbf7a49",
   "metadata": {},
   "source": [
    "![tracker](https://us-central1-vertex-ai-mlops-369716.cloudfunctions.net/pixel-tracking?path=statmike%2Fvertex-ai-mlops%2FApplied+ML%2FAI+Agents%2Fconversational-analytics-api&file=conversational-analytics-api.ipynb)\n",
    "<!--- header table --->\n",
    "<table align=\"left\">\n",
    "<tr>\n",
    "  <td style=\"text-align: center\">\n",
    "    <a href=\"https://github.com/statmike/vertex-ai-mlops/blob/main/Applied%20ML/AI%20Agents/conversational-analytics-api/conversational-analytics-api.ipynb\">\n",
    "      <img width=\"32px\" src=\"https://www.svgrepo.com/download/217753/github.svg\" alt=\"GitHub logo\">\n",
    "      <br>View on<br>GitHub\n",
    "    </a>\n",
    "  </td>\n",
    "  <td style=\"text-align: center\">\n",
    "    <a href=\"https://colab.research.google.com/github/statmike/vertex-ai-mlops/blob/main/Applied%20ML/AI%20Agents/conversational-analytics-api/conversational-analytics-api.ipynb\">\n",
    "      <img width=\"32px\" src=\"https://www.gstatic.com/pantheon/images/bigquery/welcome_page/colab-logo.svg\" alt=\"Google Colaboratory logo\">\n",
    "      <br>Run in<br>Colab\n",
    "    </a>\n",
    "  </td>\n",
    "  <td style=\"text-align: center\">\n",
    "    <a href=\"https://console.cloud.google.com/vertex-ai/colab/import/https%3A%2F%2Fraw.githubusercontent.com%2Fstatmike%2Fvertex-ai-mlops%2Fmain%2FApplied%2520ML%2FAI%2520Agents%2Fconversational-analytics-api%2Fconversational-analytics-api.ipynb\">\n",
    "      <img width=\"32px\" src=\"https://lh3.googleusercontent.com/JmcxdQi-qOpctIvWKgPtrzZdJJK-J3sWE1RsfjZNwshCFgE_9fULcNpuXYTilIR2hjwN\" alt=\"Google Cloud Colab Enterprise logo\">\n",
    "      <br>Run in<br>Colab Enterprise\n",
    "    </a>\n",
    "  </td>      \n",
    "  <td style=\"text-align: center\">\n",
    "    <a href=\"https://console.cloud.google.com/bigquery/import?url=https://github.com/statmike/vertex-ai-mlops/blob/main/Applied%20ML/AI%20Agents/conversational-analytics-api/conversational-analytics-api.ipynb\">\n",
    "      <img width=\"32px\" src=\"https://www.gstatic.com/images/branding/gcpiconscolors/bigquery/v1/32px.svg\" alt=\"BigQuery logo\">\n",
    "      <br>Open in<br>BigQuery Studio\n",
    "    </a>\n",
    "  </td>\n",
    "  <td style=\"text-align: center\">\n",
    "    <a href=\"https://console.cloud.google.com/vertex-ai/workbench/deploy-notebook?download_url=https://raw.githubusercontent.com/statmike/vertex-ai-mlops/main/Applied%20ML/AI%20Agents/conversational-analytics-api/conversational-analytics-api.ipynb\">\n",
    "      <img width=\"32px\" src=\"https://www.gstatic.com/images/branding/gcpiconscolors/vertexai/v1/32px.svg\" alt=\"Vertex AI logo\">\n",
    "      <br>Open in<br>Vertex AI Workbench\n",
    "    </a>\n",
    "  </td>\n",
    "</tr>\n",
    "<tr>\n",
    "  <td colspan=\"5\" style=\"text-align: right\">\n",
    "    <b>Share This On: </b> \n",
    "    <a href=\"https://www.linkedin.com/sharing/share-offsite/?url=https://github.com/statmike/vertex-ai-mlops/blob/main/Applied%2520ML/AI%2520Agents/conversational-analytics-api/conversational-analytics-api.ipynb\"><img src=\"https://upload.wikimedia.org/wikipedia/commons/8/81/LinkedIn_icon.svg\" alt=\"Linkedin Logo\" width=\"20px\"></a> \n",
    "    <a href=\"https://reddit.com/submit?url=https://github.com/statmike/vertex-ai-mlops/blob/main/Applied%2520ML/AI%2520Agents/conversational-analytics-api/conversational-analytics-api.ipynb\"><img src=\"https://redditinc.com/hubfs/Reddit%20Inc/Brand/Reddit_Logo.png\" alt=\"Reddit Logo\" width=\"20px\"></a> \n",
    "    <a href=\"https://bsky.app/intent/compose?text=https://github.com/statmike/vertex-ai-mlops/blob/main/Applied%2520ML/AI%2520Agents/conversational-analytics-api/conversational-analytics-api.ipynb\"><img src=\"https://upload.wikimedia.org/wikipedia/commons/7/7a/Bluesky_Logo.svg\" alt=\"BlueSky Logo\" width=\"20px\"></a> \n",
    "    <a href=\"https://twitter.com/intent/tweet?url=https://github.com/statmike/vertex-ai-mlops/blob/main/Applied%2520ML/AI%2520Agents/conversational-analytics-api/conversational-analytics-api.ipynb\"><img src=\"https://upload.wikimedia.org/wikipedia/commons/5/5a/X_icon_2.svg\" alt=\"X (Twitter) Logo\" width=\"20px\"></a> \n",
    "  </td>\n",
    "</tr>\n",
    "<tr>\n",
    "  <td colspan=\"5\" style=\"text-align: right\">\n",
    "    <b>Connect With Author On: </b> \n",
    "    <a href=\"https://www.linkedin.com/in/statmike\"><img src=\"https://upload.wikimedia.org/wikipedia/commons/8/81/LinkedIn_icon.svg\" alt=\"Linkedin Logo\" width=\"20px\"></a>\n",
    "    <a href=\"https://www.github.com/statmike\"><img src=\"https://www.svgrepo.com/download/217753/github.svg\" alt=\"GitHub Logo\" width=\"20px\"></a> \n",
    "    <a href=\"https://www.youtube.com/@statmike-channel\"><img src=\"https://upload.wikimedia.org/wikipedia/commons/f/fd/YouTube_full-color_icon_%282024%29.svg\" alt=\"YouTube Logo\" width=\"20px\"></a>\n",
    "    <a href=\"https://bsky.app/profile/statmike.bsky.social\"><img src=\"https://upload.wikimedia.org/wikipedia/commons/7/7a/Bluesky_Logo.svg\" alt=\"BlueSky Logo\" width=\"20px\"></a> \n",
    "    <a href=\"https://x.com/statmike\"><img src=\"https://upload.wikimedia.org/wikipedia/commons/5/5a/X_icon_2.svg\" alt=\"X (Twitter) Logo\" width=\"20px\"></a>\n",
    "  </td>\n",
    "</tr>\n",
    "</table>"
   ]
  },
  {
   "cell_type": "markdown",
   "id": "72c1f0d1",
   "metadata": {},
   "source": [
    "# Conversational Analytics API\n",
    "\n",
    "This API allows you to build conversational experiences on top of your data. It uses a clear hierarchy of components and offers multiple chat modes — **both stateful and stateless** — to cover a wide range of applications.\n",
    "\n",
    "**How it Works: The Hierarchy**\n",
    "1. **Data Source:** The foundation. This is your raw data, such as a BigQuery table(s), Looker, or Looker Studio reports.\n",
    "2. **Context:** A layer that sits on top of a **Data Source**. It defines how the data should be interpreted, including table schemas, descriptions, and rules for querying.\n",
    "3. **Agent:** A conversational entity that uses a **Context**. The Agent is the \"bot\" that understands the data (via its Context) and can answer questions about it.\n",
    "4. **Conversation:** A specific session with an **Agent**. It tracks the history of a single, ongoing dialogue.\n",
    "5. **Chat:** An individual message sent by a user within a **Conversation**.\n",
    "\n",
    "This structure means a **Chat** happens in a **Conversation**, which is handled by an **Agent**, who understands the data through its **Context**, which is linked to a **Data Source**.\n",
    "\n",
    "**Usage Modes**\n",
    "\n",
    "Chats can be either **stateful** or **stateless*, depending on how you manage the conversation history.\n",
    "- **Stateful (Session-based)**: For a continuous conversation, you reference a **Conversation** in each chat call. The service automatically remembers and manages the entire chat history for that session. This is best for ongoing, multi-turn interactions.\n",
    "- **Stateless**: For individual queries, you must provide the full conversation history with every chat call. This is useful when you want to manage the state yourself. You can do this in two ways:\n",
    "  - **With an Agent:** Send the history to a pre-configured **Agent**, which already knows its data source and context.\n",
    "  - **Inline (On-demand):** Send the history and the **data source** Context together in the same call. This is ideal for quick, one-off questions where a pre-configured Agent isn't available or necessary.\n",
    "\n",
    "**Resources:**\n",
    "- Blog: https://cloud.google.com/blog/products/data-analytics/understanding-lookers-conversational-analytics-api\n",
    "- Documentation: https://cloud.google.com/gemini/docs/conversational-analytics-api/overview\n",
    "  - Key walkthrough: https://cloud.google.com/gemini/docs/conversational-analytics-api/build-agent-sdk\n",
    "- Python API: https://cloud.google.com/python/docs/reference/google-cloud-geminidataanalytics/latest"
   ]
  },
  {
   "cell_type": "markdown",
   "id": "b929f5aa",
   "metadata": {},
   "source": [
    "---\n",
    "## Environment Setup\n",
    "\n",
    "⚠️ Action Required: Make sure the PROJECT_ID variable in the next cell is set to your Google Cloud project ID before running the cell.\n",
    "\n",
    "You can control the package installation method by setting the `REQ_TYPE` variable in the code below:\n",
    "- `PRIMARY`: Installs only the main packages. This is faster, but pip will resolve sub-dependencies, which may result in different versions than the ones used during development.\n",
    "- `ALL` (Default): Installs the exact versions of all packages and their dependencies. This is best for perfectly reproducing the original development environment.\n",
    "- `COLAB`: Installs a specific list from `requirements-colab.txt` that excludes core packages (like `ipython` and `ipykernel`) pre-installed in Google Colab.\n",
    "> **Automatic Colab Detection:** The code will automatically detect if it is running in a Google Colab environment. If it is, the script will **automatically set** `REQ_TYPE = 'COLAB'` to prevent package conflicts that can break the runtime, overriding any other manual setting."
   ]
  },
  {
   "cell_type": "markdown",
   "id": "0a23e78c",
   "metadata": {},
   "source": [
    "### User Configurable Inputs - CHANGE THESE"
   ]
  },
  {
   "cell_type": "code",
   "execution_count": 28,
   "id": "9d55c61f",
   "metadata": {},
   "outputs": [],
   "source": [
    "PROJECT_ID = 'statmike-mlops-349915' # replace with GCP project ID\n",
    "REQ_TYPE = 'ALL' # Specify PRIMARY or ALL or COLAB"
   ]
  },
  {
   "cell_type": "markdown",
   "id": "8a47830e",
   "metadata": {},
   "source": [
    "### Hardcoded Inputs - DO NOT CHANGE THESE"
   ]
  },
  {
   "cell_type": "code",
   "execution_count": 29,
   "id": "3af5b3d2",
   "metadata": {},
   "outputs": [],
   "source": [
    "# DO NOT CHANGE THESE\n",
    "REQUIREMENTS_URLS = dict(\n",
    "    PRIMARY = 'https://raw.githubusercontent.com/statmike/vertex-ai-mlops/refs/heads/main/Applied%20ML/AI%20Agents/conversational-analytics-api/requirements-brief.txt',\n",
    "    ALL = 'https://raw.githubusercontent.com/statmike/vertex-ai-mlops/refs/heads/main/Applied%20ML/AI%20Agents/conversational-analytics-api/requirements.txt',\n",
    "    COLAB = 'https://raw.githubusercontent.com/statmike/vertex-ai-mlops/refs/heads/main/Applied%20ML/AI%20Agents/conversational-analytics-api/requirements-colab.txt'\n",
    ")\n",
    "\n",
    "REQUIRED_APIS = [\n",
    "    \"bigquery.googleapis.com\",\n",
    "    \"cloudaicompanion.googleapis.com\",\n",
    "    \"geminidataanalytics.googleapis.com\"\n",
    "]\n"
   ]
  },
  {
   "cell_type": "markdown",
   "id": "4bbf98d9",
   "metadata": {},
   "source": [
    "### Google Cloud Authentication\n",
    "\n",
    "This cell handles the authentication and project configuration needed to connect this notebook to Google Cloud.\n",
    "\n",
    "It automatically detects the environment. If you're in Google Colab, it will trigger an interactive **pop-up to authenticate** your account. In any other environment (like a local Jupyter lab), it will use the credentials you've already configured with the gcloud command-line tool.\n",
    "\n",
    "After authentication, the cell **verifies the active Google Cloud project**. If no project is set, it will be configured for you. If a different project is already active, a warning will be displayed to alert you of the mismatch."
   ]
  },
  {
   "cell_type": "code",
   "execution_count": null,
   "id": "fc3b925a",
   "metadata": {},
   "outputs": [
    {
     "name": "stdout",
     "output_type": "stream",
     "text": [
      "Checking for existing ADC...\n",
      "✅ Existing ADC found.\n",
      "✅ Project is correctly set to 'statmike-mlops-349915'.\n"
     ]
    }
   ],
   "source": [
    "# DO NOT MODIFY THIS CODE\n",
    "import subprocess\n",
    "authenticated = False\n",
    "try:\n",
    "    from google.colab import auth\n",
    "    print(\"Running in Google Colab. Authenticating user...\")\n",
    "    # This triggers the pop-up and sets ADC\n",
    "    auth.authenticate_user()\n",
    "    print(\"✅ Colab user authenticated.\")\n",
    "    authenticated = True\n",
    "    REQ_TYPE = 'COLAB'\n",
    "    project_id = subprocess.run(['gcloud', 'config', 'get-value', 'project'], capture_output=True, text=True, check=True).stdout.strip()\n",
    "except ImportError:\n",
    "    print(\"Checking for existing ADC...\")\n",
    "    import google.auth\n",
    "    import google.auth.exceptions\n",
    "    try:\n",
    "        credentials, project_id = google.auth.default()\n",
    "        print(\"✅ Existing ADC found.\")\n",
    "        authenticated = True\n",
    "    except google.auth.exceptions.DefaultCredentialsError:\n",
    "        print(\"❌ ERROR: ADC are not set in this environment.\")\n",
    "        print(\"   Please run from your local terminal: gcloud auth application-default login\")\n",
    "\n",
    "if authenticated:\n",
    "    if project_id == PROJECT_ID:\n",
    "        print(f\"✅ Project is correctly set to '{PROJECT_ID}'.\")\n",
    "    elif not project_id:\n",
    "        print(f\"⚠️ No default project found. Setting project to '{PROJECT_ID}'...\")\n",
    "        try:\n",
    "            subprocess.run(['gcloud', 'config', 'set', 'project', PROJECT_ID], capture_output=True, text=True, check=True).stdout.strip()\n",
    "            print(f\"✅ Project successfully set to '{PROJECT_ID}'.\")\n",
    "        except (FileNotFoundError, subprocess.CalledProcessError) as e:\n",
    "            print(f\"❌ ERROR: Failed to set project using gcloud. Please configure it manually.\")\n",
    "    else:\n",
    "        print(f\"⚠️ WARNING: Mismatch detected!\")\n",
    "        print(f\"   - Desired Project: '{PROJECT_ID}'\")\n",
    "        print(f\"   - Current Project:   '{project_id}'\")\n",
    "        try:\n",
    "            subprocess.run(['gcloud', 'config', 'set', 'project', PROJECT_ID], capture_output=True, text=True, check=True)\n",
    "            print(f\"✅ Project successfully switched to '{PROJECT_ID}'.\")\n",
    "        except (FileNotFoundError, subprocess.CalledProcessError) as e:\n",
    "            print(f\"❌ ERROR: Failed to switch project.\")\n",
    "            print(f\"   The active user may not have permissions for the desired project '{PROJECT_ID}'.\")\n",
    "            print(f\"   Details: {e.stderr}\")\n"
   ]
  },
  {
   "cell_type": "markdown",
   "id": "439e3550",
   "metadata": {},
   "source": [
    "### API Enablement\n",
    "\n",
    "This cell ensures that all the necessary Google Cloud APIs are enabled for your project - a one time process. It efficiently checks the status of each required API and will only enable the ones that are currently disabled. This step helps prevent permissions errors in subsequent parts of the notebook.\n",
    "\n",
    "The process may take a minute if APIs are being enabled for the first time.\n",
    "\n",
    "🔑 Note: The authenticated user must have the necessary permissions to enable APIs. This typically requires the Service Usage Admin role (roles/serviceusage.serviceUsageAdmin). You may need to request these APIs be enable by an admin at your orgnization."
   ]
  },
  {
   "cell_type": "code",
   "execution_count": 33,
   "id": "8a1f5194",
   "metadata": {},
   "outputs": [
    {
     "name": "stdout",
     "output_type": "stream",
     "text": [
      "✅ bigquery.googleapis.com is already enabled.\n",
      "✅ cloudaicompanion.googleapis.com is already enabled.\n",
      "✅ geminidataanalytics.googleapis.com is already enabled.\n"
     ]
    }
   ],
   "source": [
    "# DO NOT MODIFY THIS CODE\n",
    "try:\n",
    "    enabled_services = subprocess.run(\n",
    "        ['gcloud', 'services', 'list', '--enabled', f'--project={PROJECT_ID}', '--format=value(config.name)'],\n",
    "        capture_output=True, text=True, check=True\n",
    "    ).stdout.strip().splitlines()\n",
    "    for api in REQUIRED_APIS:\n",
    "        if api in enabled_services:\n",
    "            print(f\"✅ {api} is already enabled.\")\n",
    "        else:\n",
    "            print(f\"⚠️ {api} is not enabled. Attempting to enable now...\")\n",
    "            subprocess.run(\n",
    "                ['gcloud', 'services', 'enable', api, f'--project={PROJECT_ID}'],\n",
    "                capture_output=True, check=True # Hides output unless there's an error.\n",
    "            )\n",
    "            print(f\"✅ Successfully enabled {api}.\")\n",
    "except subprocess.CalledProcessError as e:\n",
    "    print(f\"❌ ERROR: A gcloud command failed. Your account may not have the required permissions.\")\n",
    "    print(f\"   Details: {e.stderr}\")"
   ]
  },
  {
   "cell_type": "markdown",
   "id": "c465a29b",
   "metadata": {},
   "source": [
    "### Package Installation and Kernel Restart\n",
    "This cell prepares the notebook's environment by installing the necessary Python packages. This uses the `REQ_TYPE` set above.\n",
    "\n",
    "The script performs three key actions:\n",
    "- Installs all required packages from the requirements file.\n",
    "- Verifies that all installed packages have compatible dependencies.\n",
    "- Automatically restarts the kernel if any packages were installed or upgraded.\n",
    "\n",
    "⚠️ Action Required: After running this cell, please wait for the kernel to finish restarting before proceeding to the next step. You do not need to re-run any of the previous cells."
   ]
  },
  {
   "cell_type": "code",
   "execution_count": null,
   "id": "4455d732",
   "metadata": {},
   "outputs": [],
   "source": [
    "\n",
    "# DO NOT MODIFY THIS CODE\n",
    "import sys\n",
    "url = REQUIREMENTS_URLS[REQ_TYPE]\n",
    "print(f\"Checking and installing dependencies from: {url}\")\n",
    "install_log = !{sys.executable} -m pip install -r {url} --upgrade\n",
    "install_log = [line for line in install_log if line.strip() and \"WARNING: You are using pip version\" not in line]\n",
    "install = True\n",
    "if not install_log or all('Requirement already satisfied' in line for line in install_log):\n",
    "    print(\"✅ All packages are already installed and up to date.\")\n",
    "    install = False\n",
    "else:\n",
    "    print(\"\\n✅ Installation complete.\")\n",
    "    print(\"🚨 IMPORTANT: Please restart the kernel for the changes to take effect.\")\n",
    "\n",
    "if install:\n",
    "    import IPython\n",
    "    app = IPython.Application.instance()\n",
    "    app.kernel.do_shutdown(True)\n",
    "    IPython.display.display(IPython.display.Markdown(\"\"\"<div class=\\\"alert alert-block alert-warning\\\">\n",
    "        <b>⚠️ The kernel is going to restart. Please wait until it is finished before continuing to the next step. The previous cells do not need to be run again⚠️</b>\n",
    "        </div>\"\"\"))\n"
   ]
  },
  {
   "cell_type": "markdown",
   "id": "81e286b5",
   "metadata": {},
   "source": [
    "---\n",
    "## Python Setup"
   ]
  },
  {
   "cell_type": "markdown",
   "id": "84372848",
   "metadata": {},
   "source": [
    "### Imports"
   ]
  },
  {
   "cell_type": "code",
   "execution_count": 4,
   "id": "e35510fa",
   "metadata": {},
   "outputs": [],
   "source": [
    "import subprocess\n",
    "#from google.cloud import geminidataanalytics\n",
    "from google.cloud import geminidataanalytics_v1alpha as geminidataanalytics"
   ]
  },
  {
   "cell_type": "markdown",
   "id": "5185d166",
   "metadata": {},
   "source": [
    "### Variables - Auto Set"
   ]
  },
  {
   "cell_type": "code",
   "execution_count": null,
   "id": "953728dd",
   "metadata": {},
   "outputs": [],
   "source": [
    "PROJECT_ID = subprocess.run(['gcloud', 'config', 'get-value', 'project'], capture_output=True, text=True, check=True).stdout.strip()"
   ]
  },
  {
   "cell_type": "markdown",
   "id": "045c26f6",
   "metadata": {},
   "source": [
    "---\n",
    "## Helper Functions\n",
    "\n",
    "**Don't worry!!!!**\n",
    "\n",
    "These are copied directly from the documentation [here](https://cloud.google.com/gemini/docs/conversational-analytics-api/build-agent-sdk#define_helper_functions).  The functions are used to parse and display the responses from the API."
   ]
  },
  {
   "cell_type": "code",
   "execution_count": 4,
   "id": "d7a1133f",
   "metadata": {},
   "outputs": [],
   "source": [
    "import pandas as pd\n",
    "import json as json_lib\n",
    "import altair as alt\n",
    "from IPython.display import display, HTML\n",
    "\n",
    "import proto\n",
    "from google.protobuf.json_format import MessageToDict, MessageToJson\n",
    "\n",
    "def handle_text_response(resp):\n",
    "  parts = getattr(resp, 'parts')\n",
    "  print(''.join(parts))\n",
    "\n",
    "def display_schema(data):\n",
    "  fields = getattr(data, 'fields')\n",
    "  df = pd.DataFrame({\n",
    "    \"Column\": map(lambda field: getattr(field, 'name'), fields),\n",
    "    \"Type\": map(lambda field: getattr(field, 'type'), fields),\n",
    "    \"Description\": map(lambda field: getattr(field, 'description', '-'), fields),\n",
    "    \"Mode\": map(lambda field: getattr(field, 'mode'), fields)\n",
    "  })\n",
    "  display(df)\n",
    "\n",
    "def display_section_title(text):\n",
    "  display(HTML('<h2>{}</h2>'.format(text)))\n",
    "\n",
    "def format_looker_table_ref(table_ref):\n",
    " return 'lookmlModel: {}, explore: {}, lookerInstanceUri: {}'.format(table_ref.lookml_model, table_ref.explore, table_ref.looker_instance_uri)\n",
    "\n",
    "def format_bq_table_ref(table_ref):\n",
    "  return '{}.{}.{}'.format(table_ref.project_id, table_ref.dataset_id, table_ref.table_id)\n",
    "\n",
    "def display_datasource(datasource):\n",
    "  source_name = ''\n",
    "  if 'studio_datasource_id' in datasource:\n",
    "   source_name = getattr(datasource, 'studio_datasource_id')\n",
    "  elif 'looker_explore_reference' in datasource:\n",
    "   source_name = format_looker_table_ref(getattr(datasource, 'looker_explore_reference'))\n",
    "  else:\n",
    "    source_name = format_bq_table_ref(getattr(datasource, 'bigquery_table_reference'))\n",
    "\n",
    "  print(source_name)\n",
    "  display_schema(datasource.schema)\n",
    "\n",
    "def handle_schema_response(resp):\n",
    "  if 'query' in resp:\n",
    "    print(resp.query.question)\n",
    "  elif 'result' in resp:\n",
    "    display_section_title('Schema resolved')\n",
    "    print('Data sources:')\n",
    "    for datasource in resp.result.datasources:\n",
    "      display_datasource(datasource)\n",
    "\n",
    "def handle_data_response(resp):\n",
    "  if 'query' in resp:\n",
    "    query = resp.query\n",
    "    display_section_title('Retrieval query')\n",
    "    print('Query name: {}'.format(query.name))\n",
    "    print('Question: {}'.format(query.question))\n",
    "    print('Data sources:')\n",
    "    for datasource in query.datasources:\n",
    "      display_datasource(datasource)\n",
    "  elif 'generated_sql' in resp:\n",
    "    display_section_title('SQL generated')\n",
    "    print(resp.generated_sql)\n",
    "  elif 'result' in resp:\n",
    "    display_section_title('Data retrieved')\n",
    "\n",
    "    fields = [field.name for field in resp.result.schema.fields]\n",
    "    d = {}\n",
    "    for el in resp.result.data:\n",
    "      for field in fields:\n",
    "        if field in d:\n",
    "          d[field].append(el[field])\n",
    "        else:\n",
    "          d[field] = [el[field]]\n",
    "\n",
    "    display(pd.DataFrame(d))\n",
    "\n",
    "def handle_chart_response(resp):\n",
    "  def _value_to_dict(v):\n",
    "    if isinstance(v, proto.marshal.collections.maps.MapComposite):\n",
    "      return _map_to_dict(v)\n",
    "    elif isinstance(v, proto.marshal.collections.RepeatedComposite):\n",
    "      return [_value_to_dict(el) for el in v]\n",
    "    elif isinstance(v, (int, float, str, bool)):\n",
    "      return v\n",
    "    else:\n",
    "      return MessageToDict(v)\n",
    "\n",
    "  def _map_to_dict(d):\n",
    "    out = {}\n",
    "    for k in d:\n",
    "      if isinstance(d[k], proto.marshal.collections.maps.MapComposite):\n",
    "        out[k] = _map_to_dict(d[k])\n",
    "      else:\n",
    "        out[k] = _value_to_dict(d[k])\n",
    "    return out\n",
    "\n",
    "  if 'query' in resp:\n",
    "    print(resp.query.instructions)\n",
    "  elif 'result' in resp:\n",
    "    vegaConfig = resp.result.vega_config\n",
    "    vegaConfig_dict = _map_to_dict(vegaConfig)\n",
    "    alt.Chart.from_json(json_lib.dumps(vegaConfig_dict)).display();\n",
    "\n",
    "def show_message(msg):\n",
    "  m = msg.system_message\n",
    "  if 'text' in m:\n",
    "    handle_text_response(getattr(m, 'text'))\n",
    "  elif 'schema' in m:\n",
    "    handle_schema_response(getattr(m, 'schema'))\n",
    "  elif 'data' in m:\n",
    "    handle_data_response(getattr(m, 'data'))\n",
    "  elif 'chart' in m:\n",
    "    handle_chart_response(getattr(m, 'chart'))\n",
    "  print('\\n')"
   ]
  },
  {
   "cell_type": "markdown",
   "id": "5a12bcb1",
   "metadata": {},
   "source": [
    "---\n",
    "## Data Source Definition\n",
    "\n",
    "Define a data source to use with context.  This can be BigQuery sources, Looker, or even Looker Stuidio."
   ]
  },
  {
   "cell_type": "code",
   "execution_count": 7,
   "id": "75c89ebd",
   "metadata": {},
   "outputs": [],
   "source": [
    "datasource = geminidataanalytics.DatasourceReferences(\n",
    "    bq = dict(\n",
    "        table_references = [\n",
    "            geminidataanalytics.BigQueryTableReference(\n",
    "                project_id='bigquery-public-data', \n",
    "                dataset_id='noaa_tsunami', \n",
    "                table_id='historical_runups'\n",
    "            ),\n",
    "            geminidataanalytics.BigQueryTableReference(\n",
    "                project_id='bigquery-public-data', \n",
    "                dataset_id='noaa_tsunami', \n",
    "                table_id='historical_source_event'\n",
    "            ),\n",
    "            geminidataanalytics.BigQueryTableReference(\n",
    "                project_id='bigquery-public-data', \n",
    "                dataset_id='noaa_significant_earthquakes', \n",
    "                table_id='earthquakes'\n",
    "            )   \n",
    "        ]\n",
    "    )\n",
    ")"
   ]
  },
  {
   "cell_type": "markdown",
   "id": "0675c9bd",
   "metadata": {},
   "source": [
    "---\n",
    "## Context\n",
    "\n",
    "This defines the data source and usage context.  It can be used as context for an agent or directly inline as part of a chat.  See Chat methods below."
   ]
  },
  {
   "cell_type": "code",
   "execution_count": 8,
   "id": "b4bcea7b",
   "metadata": {},
   "outputs": [],
   "source": [
    "context = geminidataanalytics.Context(\n",
    "    system_instruction = 'Help users explore, analyze, and give details reports for earthquakes and tsunamis.',\n",
    "    datasource_references = datasource,\n",
    "    options = dict(\n",
    "        #chart = dict(image = dict(svg = )),\n",
    "        analysis = dict(python = dict(enabled = True))\n",
    "    ),\n",
    "    #example_queries = [dict(natural_language_question = '', sql_query = '')]\n",
    ")"
   ]
  },
  {
   "cell_type": "markdown",
   "id": "36fb2462",
   "metadata": {},
   "source": [
    "---\n",
    "## Agent\n",
    "\n",
    "Create an agent that has the context and can be used in the stateful chat approach or in a stateless chat as direct context."
   ]
  },
  {
   "cell_type": "code",
   "execution_count": 9,
   "id": "b5223a81",
   "metadata": {},
   "outputs": [
    {
     "name": "stdout",
     "output_type": "stream",
     "text": [
      "projects/statmike-mlops-349915/locations/global/dataAgents/c6478c4c-981a-4b20-9934-6cca84263917\n"
     ]
    }
   ],
   "source": [
    "agent_client = geminidataanalytics.DataAgentServiceClient()\n",
    "\n",
    "agent_operation = agent_client.create_data_agent(\n",
    "    parent = f\"projects/{PROJECT_ID}/locations/global\",\n",
    "    #data_agent_id = '', # option to provide agent name\n",
    "    data_agent = dict(\n",
    "        data_analytics_agent = dict(published_context = context)\n",
    "    )\n",
    ")\n",
    "agent_response = agent_operation.result()\n",
    "print(agent_response.name)"
   ]
  },
  {
   "cell_type": "markdown",
   "id": "05caca00",
   "metadata": {},
   "source": [
    "---\n",
    "## Conversation\n",
    "\n",
    "Create a persisted, stateful, conversation that will remember the chat sequence as context for subsequent requests."
   ]
  },
  {
   "cell_type": "code",
   "execution_count": 67,
   "id": "ea846a34",
   "metadata": {},
   "outputs": [
    {
     "name": "stdout",
     "output_type": "stream",
     "text": [
      "projects/statmike-mlops-349915/locations/global/conversations/0686dc9d-cf99-435e-becb-5330917e95dc\n"
     ]
    }
   ],
   "source": [
    "conversation_client = geminidataanalytics.DataChatServiceClient()\n",
    "\n",
    "conversation_response = conversation_client.create_conversation(\n",
    "    parent = f\"projects/{PROJECT_ID}/locations/global\",\n",
    "    conversation = dict(\n",
    "        agents = [agent_response.name],\n",
    "    ),\n",
    ")\n",
    "print(conversation_response.name)"
   ]
  },
  {
   "cell_type": "markdown",
   "id": "4d087ade",
   "metadata": {},
   "source": [
    "---\n",
    "## Chat - Multiple Ways!\n",
    "\n",
    "You have multiple options for chatting with data = conversational analytis.\n",
    "- Stateful Conversation: Use the Conversation create to ask questions with a persisted conversation.  The service manages the conversation persistance.\n",
    "- Stateless with Agent Context: Directly use an agent as context for a question. \n",
    "- Stateless with Inline Context: Define the datasources inline."
   ]
  },
  {
   "cell_type": "code",
   "execution_count": 29,
   "id": "21e91a07",
   "metadata": {},
   "outputs": [],
   "source": [
    "questions = [\n",
    "    dict(question = 'How many earthquakes happen per year on average?'),\n",
    "    dict(question = 'How many tsunamis happen per year on average?'),\n",
    "    dict(question = 'Are there more earthquakes or tsunamis per year on average?'),\n",
    "    dict(question = 'Plot the timeseries for earthquake counts by year.')\n",
    "]"
   ]
  },
  {
   "cell_type": "code",
   "execution_count": 68,
   "id": "276fab3c",
   "metadata": {},
   "outputs": [],
   "source": [
    "def chat(question, context_mode, history=None, showall=False):\n",
    "    \"\"\"Sends a message to the chat API and returns the conversation history.\n",
    "\n",
    "    Args:\n",
    "        question (str): The user's message.\n",
    "        context_mode (str): The chat mode. Must be one of 'conversation', \n",
    "            'agent', or 'inline'.\n",
    "        history (list, optional): A list of previous messages, used in \n",
    "            'agent' and 'inline' modes.\n",
    "        showall (bool, optional): If True, prints all stream responses.\n",
    "\n",
    "    Returns:\n",
    "        list: The updated list of messages, including the new turn.\n",
    "    \"\"\"\n",
    "    user_message = geminidataanalytics.Message(user_message=dict(text=question))\n",
    "\n",
    "    # Base request payload\n",
    "    request_payload = {\n",
    "        \"parent\": f\"projects/{PROJECT_ID}/locations/global\",\n",
    "    }\n",
    "    \n",
    "    # Configure messages and context based on the selected mode\n",
    "    if context_mode == 'conversation':\n",
    "        request_payload['messages'] = [user_message]\n",
    "        request_payload['conversation_reference'] = dict(\n",
    "            conversation=conversation_response.name,\n",
    "            data_agent_context=dict(data_agent=agent_response.name)\n",
    "        )\n",
    "    elif context_mode == 'agent':\n",
    "        request_payload['messages'] = (history or []) + [user_message]\n",
    "        request_payload['data_agent_context'] = dict(data_agent=agent_response.name)\n",
    "    elif context_mode == 'inline':\n",
    "        request_payload['messages'] = (history or []) + [user_message]\n",
    "        request_payload['inline_context'] = context\n",
    "    else:\n",
    "        raise ValueError(\"context_mode must be 'conversation', 'agent', or 'inline'\")\n",
    "\n",
    "    # Call the API and collect the streaming response\n",
    "    stream = conversation_client.chat(request=request_payload)\n",
    "    responses = list(stream)\n",
    "\n",
    "    # Display the response\n",
    "    if not responses:\n",
    "        print('No responses received from the API.')\n",
    "    elif showall:\n",
    "        for response in responses:\n",
    "            show_message(response)\n",
    "    else:\n",
    "        show_message(responses[-1])\n",
    "\n",
    "    return request_payload['messages'] + responses"
   ]
  },
  {
   "cell_type": "markdown",
   "id": "8601f6e8",
   "metadata": {},
   "source": [
    "---\n",
    "### Stateful Conversation\n",
    "\n",
    "Use the conversation created earlier to manage and persist the conversation within the service."
   ]
  },
  {
   "cell_type": "markdown",
   "id": "91a0fa9d",
   "metadata": {},
   "source": [
    "#### Question 1"
   ]
  },
  {
   "cell_type": "code",
   "execution_count": 69,
   "id": "bfcc58f9",
   "metadata": {},
   "outputs": [
    {
     "name": "stdout",
     "output_type": "stream",
     "text": [
      "The average number of earthquakes per year is 6.58.\n",
      "\n",
      "\n"
     ]
    }
   ],
   "source": [
    "questions[0]['stateful_answer'] = chat(\n",
    "    questions[0]['question'],\n",
    "    context_mode ='conversation'\n",
    ")"
   ]
  },
  {
   "cell_type": "code",
   "execution_count": 70,
   "id": "c01e5687",
   "metadata": {},
   "outputs": [
    {
     "data": {
      "text/plain": [
       "17"
      ]
     },
     "execution_count": 70,
     "metadata": {},
     "output_type": "execute_result"
    }
   ],
   "source": [
    "len(questions[0]['stateful_answer'])"
   ]
  },
  {
   "cell_type": "code",
   "execution_count": 71,
   "id": "fab446b3",
   "metadata": {},
   "outputs": [
    {
     "data": {
      "text/plain": [
       "user_message {\n",
       "  text: \"How many earthquakes happen per year on average?\"\n",
       "}"
      ]
     },
     "execution_count": 71,
     "metadata": {},
     "output_type": "execute_result"
    }
   ],
   "source": [
    "questions[0]['stateful_answer'][0]"
   ]
  },
  {
   "cell_type": "code",
   "execution_count": 72,
   "id": "15833e1c",
   "metadata": {},
   "outputs": [
    {
     "data": {
      "text/plain": [
       "timestamp {\n",
       "  seconds: 1757261432\n",
       "  nanos: 144000000\n",
       "}\n",
       "system_message {\n",
       "  text {\n",
       "    parts: \"The average number of earthquakes per year is 6.58.\"\n",
       "  }\n",
       "}"
      ]
     },
     "execution_count": 72,
     "metadata": {},
     "output_type": "execute_result"
    }
   ],
   "source": [
    "questions[0]['stateful_answer'][-1]"
   ]
  },
  {
   "cell_type": "markdown",
   "id": "2f1099ff",
   "metadata": {},
   "source": [
    "#### Question 2"
   ]
  },
  {
   "cell_type": "code",
   "execution_count": 73,
   "id": "25066c9d",
   "metadata": {},
   "outputs": [
    {
     "name": "stdout",
     "output_type": "stream",
     "text": [
      "The average number of tsunamis per year is 4.95.\n",
      "\n",
      "\n"
     ]
    }
   ],
   "source": [
    "questions[1]['stateful_answer'] = chat(\n",
    "    questions[1]['question'],\n",
    "    context_mode ='conversation'\n",
    ")"
   ]
  },
  {
   "cell_type": "code",
   "execution_count": 74,
   "id": "a9b3fb14",
   "metadata": {},
   "outputs": [
    {
     "data": {
      "text/plain": [
       "20"
      ]
     },
     "execution_count": 74,
     "metadata": {},
     "output_type": "execute_result"
    }
   ],
   "source": [
    "len(questions[1]['stateful_answer'])"
   ]
  },
  {
   "cell_type": "markdown",
   "id": "c5a68240",
   "metadata": {},
   "source": [
    "#### Question 3"
   ]
  },
  {
   "cell_type": "code",
   "execution_count": 75,
   "id": "c2fe5ba3",
   "metadata": {},
   "outputs": [
    {
     "name": "stdout",
     "output_type": "stream",
     "text": [
      "On average, there are more earthquakes per year (6.58) than tsunamis per year (4.95).\n",
      "\n",
      "\n"
     ]
    }
   ],
   "source": [
    "questions[2]['stateful_answer'] = chat(\n",
    "    questions[2]['question'],\n",
    "    context_mode ='conversation'\n",
    ")"
   ]
  },
  {
   "cell_type": "code",
   "execution_count": 76,
   "id": "c6fcc5b4",
   "metadata": {},
   "outputs": [
    {
     "data": {
      "text/plain": [
       "2"
      ]
     },
     "execution_count": 76,
     "metadata": {},
     "output_type": "execute_result"
    }
   ],
   "source": [
    "len(questions[2]['stateful_answer'])"
   ]
  },
  {
   "cell_type": "markdown",
   "id": "ddbfc7a9",
   "metadata": {},
   "source": [
    "#### Question 4"
   ]
  },
  {
   "cell_type": "code",
   "execution_count": 77,
   "id": "498d6655",
   "metadata": {},
   "outputs": [
    {
     "name": "stdout",
     "output_type": "stream",
     "text": [
      "Here is a line chart showing the count of earthquakes per year:\n",
      "\n",
      "```json\n",
      "{\"data\": {\"values\": [{\"count_of_earthquakes\": 1, \"year\": -2150}, {\"count_of_earthquakes\": 2, \"year\": -2000}, {\"count_of_earthquakes\": 1, \"year\": -1610}, {\"count_of_earthquakes\": 1, \"year\": -1566}, {\"count_of_earthquakes\": 1, \"year\": -1450}, {\"count_of_earthquakes\": 1, \"year\": -1365}, {\"count_of_earthquakes\": 1, \"year\": -1250}, {\"count_of_earthquakes\": 1, \"year\": -1050}, {\"count_of_earthquakes\": 1, \"year\": -759}, {\"count_of_earthquakes\": 1, \"year\": -590}, {\"count_of_earthquakes\": 1, \"year\": -550}, {\"count_of_earthquakes\": 1, \"year\": -525}, {\"count_of_earthquakes\": 1, \"year\": -480}, {\"count_of_earthquakes\": 1, \"year\": -479}, {\"count_of_earthquakes\": 1, \"year\": -432}, {\"count_of_earthquakes\": 1, \"year\": -426}, {\"count_of_earthquakes\": 1, \"year\": -400}, {\"count_of_earthquakes\": 1, \"year\": -373}, {\"count_of_earthquakes\": 1, \"year\": -364}, {\"count_of_earthquakes\": 1, \"year\": -330}, {\"count_of_earthquakes\": 1, \"year\": -326}, {\"count_of_earthquakes\": 2, \"year\": -282}, {\"count_of_earthquakes\": 1, \"year\": -250}, {\"count_of_earthquakes\": 1, \"year\": -241}, {\"count_of_earthquakes\": 1, \"year\": -227}, {\"count_of_earthquakes\": 1, \"year\": -223}, {\"count_of_earthquakes\": 1, \"year\": -221}, {\"count_of_earthquakes\": 1, \"year\": -217}, {\"count_of_earthquakes\": 1, \"year\": -216}, {\"count_of_earthquakes\": 1, \"year\": -210}, {\"count_of_earthquakes\": 1, \"year\": -198}, {\"count_of_earthquakes\": 1, \"year\": -193}, {\"count_of_earthquakes\": 1, \"year\": -186}, {\"count_of_earthquakes\": 1, \"year\": -177}, {\"count_of_earthquakes\": 1, \"year\": -70}, {\"count_of_earthquakes\": 1, \"year\": -63}, {\"count_of_earthquakes\": 1, \"year\": -60}, {\"count_of_earthquakes\": 1, \"year\": -58}, {\"count_of_earthquakes\": 2, \"year\": -50}, {\"count_of_earthquakes\": 1, \"year\": -47}, {\"count_of_earthquakes\": 1, \"year\": -33}, {\"count_of_earthquakes\": 1, \"year\": -31}, {\"count_of_earthquakes\": 1, \"year\": -27}, {\"count_of_earthquakes\": 2, \"year\": -26}, {\"count_of_earthquakes\": 1, \"year\": -15}, {\"count_of_earthquakes\": 1, \"year\": 10}, {\"count_of_earthquakes\": 1, \"year\": 11}, {\"count_of_earthquakes\": 1, \"year\": 17}, {\"count_of_earthquakes\": 1, \"year\": 23}, {\"count_of_earthquakes\": 1, \"year\": 25}, {\"count_of_earthquakes\": 1, \"year\": 27}, {\"count_of_earthquakes\": 1, \"year\": 29}, {\"count_of_earthquakes\": 1, \"year\": 33}, {\"count_of_earthquakes\": 1, \"year\": 37}, {\"count_of_earthquakes\": 1, \"year\": 46}, {\"count_of_earthquakes\": 1, \"year\": 50}, {\"count_of_earthquakes\": 2, \"year\": 52}, {\"count_of_earthquakes\": 1, \"year\": 55}, {\"count_of_earthquakes\": 1, \"year\": 57}, {\"count_of_earthquakes\": 1, \"year\": 60}, {\"count_of_earthquakes\": 1, \"year\": 62}, {\"count_of_earthquakes\": 1, \"year\": 63}, {\"count_of_earthquakes\": 1, \"year\": 68}, {\"count_of_earthquakes\": 1, \"year\": 76}, {\"count_of_earthquakes\": 1, \"year\": 79}, {\"count_of_earthquakes\": 1, \"year\": 89}, {\"count_of_earthquakes\": 1, \"year\": 93}, {\"count_of_earthquakes\": 1, \"year\": 100}, {\"count_of_earthquakes\": 1, \"year\": 103}, {\"count_of_earthquakes\": 1, \"year\": 105}, {\"count_of_earthquakes\": 1, \"year\": 109}, {\"count_of_earthquakes\": 1, \"year\": 115}, {\"count_of_earthquakes\": 1, \"year\": 120}, {\"count_of_earthquakes\": 1, \"year\": 123}, {\"count_of_earthquakes\": 1, \"year\": 128}, {\"count_of_earthquakes\": 1, \"year\": 138}, {\"count_of_earthquakes\": 1, \"year\": 142}, {\"count_of_earthquakes\": 1, \"year\": 143}, {\"count_of_earthquakes\": 1, \"year\": 155}, {\"count_of_earthquakes\": 1, \"year\": 170}, {\"count_of_earthquakes\": 1, \"year\": 173}, {\"count_of_earthquakes\": 2, \"year\": 177}, {\"count_of_earthquakes\": 1, \"year\": 180}, {\"count_of_earthquakes\": 1, \"year\": 243}, {\"count_of_earthquakes\": 1, \"year\": 251}, {\"count_of_earthquakes\": 1, \"year\": 253}, {\"count_of_earthquakes\": 1, \"year\": 258}, {\"count_of_earthquakes\": 1, \"year\": 262}, {\"count_of_earthquakes\": 2, \"year\": 294}, {\"count_of_earthquakes\": 1, \"year\": 304}, {\"count_of_earthquakes\": 1, \"year\": 306}, {\"count_of_earthquakes\": 1, \"year\": 315}, {\"count_of_earthquakes\": 1, \"year\": 319}, {\"count_of_earthquakes\": 1, \"year\": 324}, {\"count_of_earthquakes\": 1, \"year\": 334}, {\"count_of_earthquakes\": 1, \"year\": 340}, {\"count_of_earthquakes\": 1, \"year\": 341}, {\"count_of_earthquakes\": 2, \"year\": 342}, {\"count_of_earthquakes\": 3, \"year\": 344}, {\"count_of_earthquakes\": 1, \"year\": 346}, {\"count_of_earthquakes\": 1, \"year\": 348}, {\"count_of_earthquakes\": 1, \"year\": 350}, {\"count_of_earthquakes\": 1, \"year\": 355}, {\"count_of_earthquakes\": 1, \"year\": 358}, {\"count_of_earthquakes\": 1, \"year\": 361}, {\"count_of_earthquakes\": 2, \"year\": 362}, {\"count_of_earthquakes\": 1, \"year\": 365}, {\"count_of_earthquakes\": 1, \"year\": 367}, {\"count_of_earthquakes\": 2, \"year\": 368}, {\"count_of_earthquakes\": 1, \"year\": 369}, {\"count_of_earthquakes\": 1, \"year\": 382}, {\"count_of_earthquakes\": 1, \"year\": 394}, {\"count_of_earthquakes\": 1, \"year\": 396}, {\"count_of_earthquakes\": 1, \"year\": 407}, {\"count_of_earthquakes\": 1, \"year\": 412}, {\"count_of_earthquakes\": 1, \"year\": 419}, {\"count_of_earthquakes\": 1, \"year\": 425}, {\"count_of_earthquakes\": 1, \"year\": 427}, {\"count_of_earthquakes\": 1, \"year\": 438}, {\"count_of_earthquakes\": 1, \"year\": 440}, {\"count_of_earthquakes\": 1, \"year\": 447}, {\"count_of_earthquakes\": 1, \"year\": 448}, {\"count_of_earthquakes\": 1, \"year\": 450}, {\"count_of_earthquakes\": 1, \"year\": 457}, {\"count_of_earthquakes\": 1, \"year\": 458}, {\"count_of_earthquakes\": 1, \"year\": 460}, {\"count_of_earthquakes\": 1, \"year\": 470}, {\"count_of_earthquakes\": 1, \"year\": 477}, {\"count_of_earthquakes\": 1, \"year\": 478}, {\"count_of_earthquakes\": 1, \"year\": 494}, {\"count_of_earthquakes\": 1, \"year\": 499}, {\"count_of_earthquakes\": 1, \"year\": 500}, {\"count_of_earthquakes\": 1, \"year\": 501}, {\"count_of_earthquakes\": 1, \"year\": 510}, {\"count_of_earthquakes\": 1, \"year\": 512}, {\"count_of_earthquakes\": 1, \"year\": 518}, {\"count_of_earthquakes\": 1, \"year\": 521}, {\"count_of_earthquakes\": 2, \"year\": 522}, {\"count_of_earthquakes\": 1, \"year\": 525}, {\"count_of_earthquakes\": 1, \"year\": 527}, {\"count_of_earthquakes\": 1, \"year\": 528}, {\"count_of_earthquakes\": 1, \"year\": 533}, {\"count_of_earthquakes\": 1, \"year\": 543}, {\"count_of_earthquakes\": 3, \"year\": 551}, {\"count_of_earthquakes\": 1, \"year\": 552}, {\"count_of_earthquakes\": 1, \"year\": 553}, {\"count_of_earthquakes\": 1, \"year\": 554}, {\"count_of_earthquakes\": 1, \"year\": 555}, {\"count_of_earthquakes\": 3, \"year\": 557}, {\"count_of_earthquakes\": 2, \"year\": 558}, {\"count_of_earthquakes\": 1, \"year\": 565}, {\"count_of_earthquakes\": 1, \"year\": 567}, {\"count_of_earthquakes\": 1, \"year\": 579}, {\"count_of_earthquakes\": 1, \"year\": 581}, {\"count_of_earthquakes\": 1, \"year\": 587}, {\"count_of_earthquakes\": 1, \"year\": 600}, {\"count_of_earthquakes\": 1, \"year\": 614}, {\"count_of_earthquakes\": 1, \"year\": 634}, {\"count_of_earthquakes\": 1, \"year\": 649}, {\"count_of_earthquakes\": 1, \"year\": 662}, {\"count_of_earthquakes\": 1, \"year\": 664}, {\"count_of_earthquakes\": 1, \"year\": 678}, {\"count_of_earthquakes\": 1, \"year\": 684}, {\"count_of_earthquakes\": 1, \"year\": 688}, {\"count_of_earthquakes\": 1, \"year\": 701}, {\"count_of_earthquakes\": 1, \"year\": 704}, {\"count_of_earthquakes\": 1, \"year\": 713}, {\"count_of_earthquakes\": 1, \"year\": 715}, {\"count_of_earthquakes\": 1, \"year\": 716}, {\"count_of_earthquakes\": 1, \"year\": 734}, {\"count_of_earthquakes\": 1, \"year\": 735}, {\"count_of_earthquakes\": 1, \"year\": 740}, {\"count_of_earthquakes\": 1, \"year\": 742}, {\"count_of_earthquakes\": 2, \"year\": 743}, {\"count_of_earthquakes\": 1, \"year\": 744}, {\"count_of_earthquakes\": 2, \"year\": 745}, {\"count_of_earthquakes\": 1, \"year\": 746}, {\"count_of_earthquakes\": 1, \"year\": 748}, {\"count_of_earthquakes\": 1, \"year\": 749}, {\"count_of_earthquakes\": 1, \"year\": 758}, {\"count_of_earthquakes\": 1, \"year\": 763}, {\"count_of_earthquakes\": 1, \"year\": 766}, {\"count_of_earthquakes\": 1, \"year\": 777}, {\"count_of_earthquakes\": 2, \"year\": 778}, {\"count_of_earthquakes\": 1, \"year\": 780}, {\"count_of_earthquakes\": 1, \"year\": 788}, {\"count_of_earthquakes\": 1, \"year\": 793}, {\"count_of_earthquakes\": 1, \"year\": 796}, {\"count_of_earthquakes\": 1, \"year\": 801}, {\"count_of_earthquakes\": 1, \"year\": 802}, {\"count_of_earthquakes\": 1, \"year\": 803}, {\"count_of_earthquakes\": 1, \"year\": 811}, {\"count_of_earthquakes\": 1, \"year\": 814}, {\"count_of_earthquakes\": 2, \"year\": 818}, {\"count_of_earthquakes\": 1, \"year\": 820}, {\"count_of_earthquakes\": 1, \"year\": 835}, {\"count_of_earthquakes\": 1, \"year\": 838}, {\"count_of_earthquakes\": 1, \"year\": 842}, {\"count_of_earthquakes\": 1, \"year\": 844}, {\"count_of_earthquakes\": 1, \"year\": 845}, {\"count_of_earthquakes\": 1, \"year\": 846}, {\"count_of_earthquakes\": 3, \"year\": 847}, {\"count_of_earthquakes\": 2, \"year\": 850}, {\"count_of_earthquakes\": 1, \"year\": 851}, {\"count_of_earthquakes\": 1, \"year\": 853}, {\"count_of_earthquakes\": 3, \"year\": 854}, {\"count_of_earthquakes\": 1, \"year\": 855}, {\"count_of_earthquakes\": 4, \"year\": 856}, {\"count_of_earthquakes\": 1, \"year\": 857}, {\"count_of_earthquakes\": 2, \"year\": 858}, {\"count_of_earthquakes\": 1, \"year\": 859}, {\"count_of_earthquakes\": 1, \"year\": 860}, {\"count_of_earthquakes\": 4, \"year\": 863}, {\"count_of_earthquakes\": 1, \"year\": 864}, {\"count_of_earthquakes\": 1, \"year\": 867}, {\"count_of_earthquakes\": 1, \"year\": 869}, {\"count_of_earthquakes\": 1, \"year\": 871}, {\"count_of_earthquakes\": 1, \"year\": 876}, {\"count_of_earthquakes\": 1, \"year\": 881}, {\"count_of_earthquakes\": 1, \"year\": 885}, {\"count_of_earthquakes\": 2, \"year\": 887}, {\"count_of_earthquakes\": 1, \"year\": 891}, {\"count_of_earthquakes\": 1, \"year\": 893}, {\"count_of_earthquakes\": 1, \"year\": 894}, {\"count_of_earthquakes\": 2, \"year\": 896}, {\"count_of_earthquakes\": 1, \"year\": 898}, {\"count_of_earthquakes\": 1, \"year\": 910}, {\"count_of_earthquakes\": 1, \"year\": 912}, {\"count_of_earthquakes\": 1, \"year\": 922}, {\"count_of_earthquakes\": 2, \"year\": 942}, {\"count_of_earthquakes\": 1, \"year\": 943}, {\"count_of_earthquakes\": 1, \"year\": 951}, {\"count_of_earthquakes\": 1, \"year\": 953}, {\"count_of_earthquakes\": 1, \"year\": 956}, {\"count_of_earthquakes\": 2, \"year\": 957}, {\"count_of_earthquakes\": 2, \"year\": 958}, {\"count_of_earthquakes\": 1, \"year\": 963}, {\"count_of_earthquakes\": 1, \"year\": 972}, {\"count_of_earthquakes\": 1, \"year\": 977}, {\"count_of_earthquakes\": 1, \"year\": 978}, {\"count_of_earthquakes\": 1, \"year\": 985}, {\"count_of_earthquakes\": 1, \"year\": 986}, {\"count_of_earthquakes\": 1, \"year\": 990}, {\"count_of_earthquakes\": 1, \"year\": 991}, {\"count_of_earthquakes\": 2, \"year\": 999}, {\"count_of_earthquakes\": 2, \"year\": 1000}, {\"count_of_earthquakes\": 2, \"year\": 1001}, {\"count_of_earthquakes\": 2, \"year\": 1003}, {\"count_of_earthquakes\": 1, \"year\": 1007}, {\"count_of_earthquakes\": 1, \"year\": 1008}, {\"count_of_earthquakes\": 1, \"year\": 1010}, {\"count_of_earthquakes\": 1, \"year\": 1013}, {\"count_of_earthquakes\": 1, \"year\": 1021}, {\"count_of_earthquakes\": 1, \"year\": 1022}, {\"count_of_earthquakes\": 1, \"year\": 1026}, {\"count_of_earthquakes\": 1, \"year\": 1033}, {\"count_of_earthquakes\": 1, \"year\": 1036}, {\"count_of_earthquakes\": 1, \"year\": 1037}, {\"count_of_earthquakes\": 1, \"year\": 1038}, {\"count_of_earthquakes\": 1, \"year\": 1039}, {\"count_of_earthquakes\": 1, \"year\": 1040}, {\"count_of_earthquakes\": 2, \"year\": 1042}, {\"count_of_earthquakes\": 1, \"year\": 1045}, {\"count_of_earthquakes\": 1, \"year\": 1046}, {\"count_of_earthquakes\": 1, \"year\": 1048}, {\"count_of_earthquakes\": 2, \"year\": 1052}, {\"count_of_earthquakes\": 1, \"year\": 1057}, {\"count_of_earthquakes\": 1, \"year\": 1058}, {\"count_of_earthquakes\": 2, \"year\": 1063}, {\"count_of_earthquakes\": 1, \"year\": 1064}, {\"count_of_earthquakes\": 2, \"year\": 1065}, {\"count_of_earthquakes\": 1, \"year\": 1066}, {\"count_of_earthquakes\": 1, \"year\": 1067}, {\"count_of_earthquakes\": 2, \"year\": 1068}, {\"count_of_earthquakes\": 1, \"year\": 1070}, {\"count_of_earthquakes\": 1, \"year\": 1072}, {\"count_of_earthquakes\": 1, \"year\": 1076}, {\"count_of_earthquakes\": 1, \"year\": 1082}, {\"count_of_earthquakes\": 2, \"year\": 1085}, {\"count_of_earthquakes\": 2, \"year\": 1086}, {\"count_of_earthquakes\": 2, \"year\": 1088}, {\"count_of_earthquakes\": 1, \"year\": 1089}, {\"count_of_earthquakes\": 1, \"year\": 1091}, {\"count_of_earthquakes\": 1, \"year\": 1096}, {\"count_of_earthquakes\": 1, \"year\": 1099}, {\"count_of_earthquakes\": 1, \"year\": 1101}, {\"count_of_earthquakes\": 2, \"year\": 1102}, {\"count_of_earthquakes\": 1, \"year\": 1106}, {\"count_of_earthquakes\": 1, \"year\": 1109}, {\"count_of_earthquakes\": 1, \"year\": 1111}, {\"count_of_earthquakes\": 3, \"year\": 1114}, {\"count_of_earthquakes\": 3, \"year\": 1115}, {\"count_of_earthquakes\": 2, \"year\": 1117}, {\"count_of_earthquakes\": 1, \"year\": 1118}, {\"count_of_earthquakes\": 1, \"year\": 1119}, {\"count_of_earthquakes\": 2, \"year\": 1125}, {\"count_of_earthquakes\": 2, \"year\": 1130}, {\"count_of_earthquakes\": 2, \"year\": 1137}, {\"count_of_earthquakes\": 1, \"year\": 1139}, {\"count_of_earthquakes\": 1, \"year\": 1143}, {\"count_of_earthquakes\": 1, \"year\": 1149}, {\"count_of_earthquakes\": 2, \"year\": 1151}, {\"count_of_earthquakes\": 1, \"year\": 1153}, {\"count_of_earthquakes\": 2, \"year\": 1155}, {\"count_of_earthquakes\": 1, \"year\": 1156}, {\"count_of_earthquakes\": 1, \"year\": 1157}, {\"count_of_earthquakes\": 1, \"year\": 1158}, {\"count_of_earthquakes\": 1, \"year\": 1160}, {\"count_of_earthquakes\": 1, \"year\": 1164}, {\"count_of_earthquakes\": 2, \"year\": 1169}, {\"count_of_earthquakes\": 1, \"year\": 1171}, {\"count_of_earthquakes\": 1, \"year\": 1172}, {\"count_of_earthquakes\": 2, \"year\": 1175}, {\"count_of_earthquakes\": 1, \"year\": 1176}, {\"count_of_earthquakes\": 1, \"year\": 1179}, {\"count_of_earthquakes\": 1, \"year\": 1180}, {\"count_of_earthquakes\": 2, \"year\": 1182}, {\"count_of_earthquakes\": 1, \"year\": 1183}, {\"count_of_earthquakes\": 1, \"year\": 1184}, {\"count_of_earthquakes\": 1, \"year\": 1201}, {\"count_of_earthquakes\": 2, \"year\": 1202}, {\"count_of_earthquakes\": 2, \"year\": 1208}, {\"count_of_earthquakes\": 2, \"year\": 1209}, {\"count_of_earthquakes\": 1, \"year\": 1211}, {\"count_of_earthquakes\": 1, \"year\": 1219}, {\"count_of_earthquakes\": 2, \"year\": 1222}, {\"count_of_earthquakes\": 1, \"year\": 1223}, {\"count_of_earthquakes\": 2, \"year\": 1227}, {\"count_of_earthquakes\": 2, \"year\": 1231}, {\"count_of_earthquakes\": 1, \"year\": 1233}, {\"count_of_earthquakes\": 3, \"year\": 1237}, {\"count_of_earthquakes\": 1, \"year\": 1241}, {\"count_of_earthquakes\": 1, \"year\": 1248}, {\"count_of_earthquakes\": 1, \"year\": 1255}, {\"count_of_earthquakes\": 2, \"year\": 1257}, {\"count_of_earthquakes\": 1, \"year\": 1259}, {\"count_of_earthquakes\": 1, \"year\": 1267}, {\"count_of_earthquakes\": 1, \"year\": 1268}, {\"count_of_earthquakes\": 1, \"year\": 1269}, {\"count_of_earthquakes\": 1, \"year\": 1272}, {\"count_of_earthquakes\": 2, \"year\": 1273}, {\"count_of_earthquakes\": 1, \"year\": 1275}, {\"count_of_earthquakes\": 1, \"year\": 1276}, {\"count_of_earthquakes\": 1, \"year\": 1277}, {\"count_of_earthquakes\": 1, \"year\": 1279}, {\"count_of_earthquakes\": 3, \"year\": 1280}, {\"count_of_earthquakes\": 1, \"year\": 1281}, {\"count_of_earthquakes\": 1, \"year\": 1283}, {\"count_of_earthquakes\": 1, \"year\": 1284}, {\"count_of_earthquakes\": 1, \"year\": 1286}, {\"count_of_earthquakes\": 2, \"year\": 1289}, {\"count_of_earthquakes\": 1, \"year\": 1290}, {\"count_of_earthquakes\": 2, \"year\": 1291}, {\"count_of_earthquakes\": 2, \"year\": 1293}, {\"count_of_earthquakes\": 2, \"year\": 1295}, {\"count_of_earthquakes\": 1, \"year\": 1298}, {\"count_of_earthquakes\": 3, \"year\": 1300}, {\"count_of_earthquakes\": 1, \"year\": 1301}, {\"count_of_earthquakes\": 2, \"year\": 1303}, {\"count_of_earthquakes\": 1, \"year\": 1304}, {\"count_of_earthquakes\": 1, \"year\": 1305}, {\"count_of_earthquakes\": 3, \"year\": 1306}, {\"count_of_earthquakes\": 2, \"year\": 1310}, {\"count_of_earthquakes\": 1, \"year\": 1314}, {\"count_of_earthquakes\": 2, \"year\": 1319}, {\"count_of_earthquakes\": 1, \"year\": 1320}, {\"count_of_earthquakes\": 1, \"year\": 1323}, {\"count_of_earthquakes\": 1, \"year\": 1327}, {\"count_of_earthquakes\": 1, \"year\": 1328}, {\"count_of_earthquakes\": 1, \"year\": 1329}, {\"count_of_earthquakes\": 1, \"year\": 1331}, {\"count_of_earthquakes\": 1, \"year\": 1332}, {\"count_of_earthquakes\": 2, \"year\": 1336}, {\"count_of_earthquakes\": 1, \"year\": 1337}, {\"count_of_earthquakes\": 1, \"year\": 1339}, {\"count_of_earthquakes\": 1, \"year\": 1340}, {\"count_of_earthquakes\": 2, \"year\": 1341}, {\"count_of_earthquakes\": 3, \"year\": 1343}, {\"count_of_earthquakes\": 3, \"year\": 1344}, {\"count_of_earthquakes\": 1, \"year\": 1345}, {\"count_of_earthquakes\": 1, \"year\": 1346}, {\"count_of_earthquakes\": 1, \"year\": 1347}, {\"count_of_earthquakes\": 1, \"year\": 1348}, {\"count_of_earthquakes\": 1, \"year\": 1349}, {\"count_of_earthquakes\": 1, \"year\": 1350}, {\"count_of_earthquakes\": 1, \"year\": 1351}, {\"count_of_earthquakes\": 2, \"year\": 1352}, {\"count_of_earthquakes\": 1, \"year\": 1353}, {\"count_of_earthquakes\": 1, \"year\": 1354}, {\"count_of_earthquakes\": 2, \"year\": 1356}, {\"count_of_earthquakes\": 1, \"year\": 1358}, {\"count_of_earthquakes\": 1, \"year\": 1359}, {\"count_of_earthquakes\": 2, \"year\": 1360}, {\"count_of_earthquakes\": 3, \"year\": 1361}, {\"count_of_earthquakes\": 1, \"year\": 1365}, {\"count_of_earthquakes\": 1, \"year\": 1367}, {\"count_of_earthquakes\": 1, \"year\": 1368}, {\"count_of_earthquakes\": 1, \"year\": 1372}, {\"count_of_earthquakes\": 1, \"year\": 1374}, {\"count_of_earthquakes\": 1, \"year\": 1375}, {\"count_of_earthquakes\": 1, \"year\": 1377}, {\"count_of_earthquakes\": 1, \"year\": 1380}, {\"count_of_earthquakes\": 1, \"year\": 1382}, {\"count_of_earthquakes\": 1, \"year\": 1383}, {\"count_of_earthquakes\": 1, \"year\": 1384}, {\"count_of_earthquakes\": 1, \"year\": 1385}, {\"count_of_earthquakes\": 1, \"year\": 1386}, {\"count_of_earthquakes\": 2, \"year\": 1387}, {\"count_of_earthquakes\": 4, \"year\": 1389}, {\"count_of_earthquakes\": 2, \"year\": 1390}, {\"count_of_earthquakes\": 1, \"year\": 1391}, {\"count_of_earthquakes\": 1, \"year\": 1399}, {\"count_of_earthquakes\": 2, \"year\": 1400}, {\"count_of_earthquakes\": 1, \"year\": 1402}, {\"count_of_earthquakes\": 2, \"year\": 1403}, {\"count_of_earthquakes\": 1, \"year\": 1404}, {\"count_of_earthquakes\": 1, \"year\": 1405}, {\"count_of_earthquakes\": 1, \"year\": 1406}, {\"count_of_earthquakes\": 1, \"year\": 1407}, {\"count_of_earthquakes\": 2, \"year\": 1408}, {\"count_of_earthquakes\": 1, \"year\": 1414}, {\"count_of_earthquakes\": 1, \"year\": 1417}, {\"count_of_earthquakes\": 1, \"year\": 1418}, {\"count_of_earthquakes\": 1, \"year\": 1419}, {\"count_of_earthquakes\": 1, \"year\": 1426}, {\"count_of_earthquakes\": 1, \"year\": 1427}, {\"count_of_earthquakes\": 1, \"year\": 1428}, {\"count_of_earthquakes\": 1, \"year\": 1431}, {\"count_of_earthquakes\": 1, \"year\": 1433}, {\"count_of_earthquakes\": 2, \"year\": 1440}, {\"count_of_earthquakes\": 2, \"year\": 1441}, {\"count_of_earthquakes\": 1, \"year\": 1443}, {\"count_of_earthquakes\": 2, \"year\": 1444}, {\"count_of_earthquakes\": 1, \"year\": 1445}, {\"count_of_earthquakes\": 1, \"year\": 1447}, {\"count_of_earthquakes\": 1, \"year\": 1448}, {\"count_of_earthquakes\": 1, \"year\": 1451}, {\"count_of_earthquakes\": 2, \"year\": 1454}, {\"count_of_earthquakes\": 1, \"year\": 1455}, {\"count_of_earthquakes\": 3, \"year\": 1456}, {\"count_of_earthquakes\": 1, \"year\": 1457}, {\"count_of_earthquakes\": 2, \"year\": 1458}, {\"count_of_earthquakes\": 1, \"year\": 1459}, {\"count_of_earthquakes\": 2, \"year\": 1461}, {\"count_of_earthquakes\": 1, \"year\": 1463}, {\"count_of_earthquakes\": 1, \"year\": 1464}, {\"count_of_earthquakes\": 1, \"year\": 1469}, {\"count_of_earthquakes\": 2, \"year\": 1471}, {\"count_of_earthquakes\": 1, \"year\": 1475}, {\"count_of_earthquakes\": 1, \"year\": 1478}, {\"count_of_earthquakes\": 1, \"year\": 1479}, {\"count_of_earthquakes\": 5, \"year\": 1481}, {\"count_of_earthquakes\": 3, \"year\": 1482}, {\"count_of_earthquakes\": 2, \"year\": 1483}, {\"count_of_earthquakes\": 2, \"year\": 1484}, {\"count_of_earthquakes\": 1, \"year\": 1485}, {\"count_of_earthquakes\": 1, \"year\": 1487}, {\"count_of_earthquakes\": 1, \"year\": 1488}, {\"count_of_earthquakes\": 1, \"year\": 1489}, {\"count_of_earthquakes\": 3, \"year\": 1490}, {\"count_of_earthquakes\": 1, \"year\": 1491}, {\"count_of_earthquakes\": 2, \"year\": 1493}, {\"count_of_earthquakes\": 4, \"year\": 1494}, {\"count_of_earthquakes\": 2, \"year\": 1495}, {\"count_of_earthquakes\": 1, \"year\": 1496}, {\"count_of_earthquakes\": 4, \"year\": 1498}, {\"count_of_earthquakes\": 1, \"year\": 1499}, {\"count_of_earthquakes\": 2, \"year\": 1500}, {\"count_of_earthquakes\": 3, \"year\": 1501}, {\"count_of_earthquakes\": 3, \"year\": 1502}, {\"count_of_earthquakes\": 3, \"year\": 1504}, {\"count_of_earthquakes\": 4, \"year\": 1505}, {\"count_of_earthquakes\": 1, \"year\": 1507}, {\"count_of_earthquakes\": 1, \"year\": 1508}, {\"count_of_earthquakes\": 5, \"year\": 1509}, {\"count_of_earthquakes\": 4, \"year\": 1510}, {\"count_of_earthquakes\": 3, \"year\": 1511}, {\"count_of_earthquakes\": 2, \"year\": 1512}, {\"count_of_earthquakes\": 1, \"year\": 1513}, {\"count_of_earthquakes\": 2, \"year\": 1514}, {\"count_of_earthquakes\": 2, \"year\": 1515}, {\"count_of_earthquakes\": 3, \"year\": 1516}, {\"count_of_earthquakes\": 1, \"year\": 1517}, {\"count_of_earthquakes\": 2, \"year\": 1518}, {\"count_of_earthquakes\": 3, \"year\": 1520}, {\"count_of_earthquakes\": 3, \"year\": 1522}, {\"count_of_earthquakes\": 1, \"year\": 1523}, {\"count_of_earthquakes\": 1, \"year\": 1524}, {\"count_of_earthquakes\": 1, \"year\": 1527}, {\"count_of_earthquakes\": 2, \"year\": 1530}, {\"count_of_earthquakes\": 2, \"year\": 1531}, {\"count_of_earthquakes\": 1, \"year\": 1535}, {\"count_of_earthquakes\": 1, \"year\": 1536}, {\"count_of_earthquakes\": 1, \"year\": 1537}, {\"count_of_earthquakes\": 2, \"year\": 1538}, {\"count_of_earthquakes\": 2, \"year\": 1539}, {\"count_of_earthquakes\": 1, \"year\": 1541}, {\"count_of_earthquakes\": 3, \"year\": 1542}, {\"count_of_earthquakes\": 2, \"year\": 1543}, {\"count_of_earthquakes\": 2, \"year\": 1545}, {\"count_of_earthquakes\": 1, \"year\": 1546}, {\"count_of_earthquakes\": 1, \"year\": 1547}, {\"count_of_earthquakes\": 1, \"year\": 1549}, {\"count_of_earthquakes\": 2, \"year\": 1550}, {\"count_of_earthquakes\": 2, \"year\": 1551}, {\"count_of_earthquakes\": 1, \"year\": 1552}, {\"count_of_earthquakes\": 1, \"year\": 1553}, {\"count_of_earthquakes\": 3, \"year\": 1555}, {\"count_of_earthquakes\": 5, \"year\": 1556}, {\"count_of_earthquakes\": 2, \"year\": 1560}, {\"count_of_earthquakes\": 4, \"year\": 1561}, {\"count_of_earthquakes\": 1, \"year\": 1562}, {\"count_of_earthquakes\": 1, \"year\": 1563}, {\"count_of_earthquakes\": 2, \"year\": 1564}, {\"count_of_earthquakes\": 1, \"year\": 1565}, {\"count_of_earthquakes\": 3, \"year\": 1566}, {\"count_of_earthquakes\": 3, \"year\": 1568}, {\"count_of_earthquakes\": 2, \"year\": 1570}, {\"count_of_earthquakes\": 1, \"year\": 1571}, {\"count_of_earthquakes\": 2, \"year\": 1573}, {\"count_of_earthquakes\": 3, \"year\": 1574}, {\"count_of_earthquakes\": 2, \"year\": 1575}, {\"count_of_earthquakes\": 1, \"year\": 1576}, {\"count_of_earthquakes\": 1, \"year\": 1577}, {\"count_of_earthquakes\": 1, \"year\": 1578}, {\"count_of_earthquakes\": 3, \"year\": 1579}, {\"count_of_earthquakes\": 1, \"year\": 1580}, {\"count_of_earthquakes\": 1, \"year\": 1581}, {\"count_of_earthquakes\": 3, \"year\": 1582}, {\"count_of_earthquakes\": 4, \"year\": 1584}, {\"count_of_earthquakes\": 1, \"year\": 1585}, {\"count_of_earthquakes\": 4, \"year\": 1586}, {\"count_of_earthquakes\": 3, \"year\": 1587}, {\"count_of_earthquakes\": 2, \"year\": 1588}, {\"count_of_earthquakes\": 2, \"year\": 1589}, {\"count_of_earthquakes\": 6, \"year\": 1590}, {\"count_of_earthquakes\": 1, \"year\": 1591}, {\"count_of_earthquakes\": 1, \"year\": 1593}, {\"count_of_earthquakes\": 1, \"year\": 1594}, {\"count_of_earthquakes\": 1, \"year\": 1596}, {\"count_of_earthquakes\": 2, \"year\": 1597}, {\"count_of_earthquakes\": 1, \"year\": 1598}, {\"count_of_earthquakes\": 1, \"year\": 1599}, {\"count_of_earthquakes\": 4, \"year\": 1600}, {\"count_of_earthquakes\": 2, \"year\": 1601}, {\"count_of_earthquakes\": 1, \"year\": 1602}, {\"count_of_earthquakes\": 1, \"year\": 1603}, {\"count_of_earthquakes\": 5, \"year\": 1604}, {\"count_of_earthquakes\": 3, \"year\": 1605}, {\"count_of_earthquakes\": 1, \"year\": 1606}, {\"count_of_earthquakes\": 5, \"year\": 1608}, {\"count_of_earthquakes\": 3, \"year\": 1609}, {\"count_of_earthquakes\": 3, \"year\": 1610}, {\"count_of_earthquakes\": 6, \"year\": 1611}, {\"count_of_earthquakes\": 2, \"year\": 1612}, {\"count_of_earthquakes\": 3, \"year\": 1613}, {\"count_of_earthquakes\": 4, \"year\": 1614}, {\"count_of_earthquakes\": 4, \"year\": 1615}, {\"count_of_earthquakes\": 4, \"year\": 1616}, {\"count_of_earthquakes\": 5, \"year\": 1618}, {\"count_of_earthquakes\": 5, \"year\": 1619}, {\"count_of_earthquakes\": 2, \"year\": 1620}, {\"count_of_earthquakes\": 2, \"year\": 1621}, {\"count_of_earthquakes\": 5, \"year\": 1622}, {\"count_of_earthquakes\": 2, \"year\": 1624}, {\"count_of_earthquakes\": 1, \"year\": 1625}, {\"count_of_earthquakes\": 3, \"year\": 1626}, {\"count_of_earthquakes\": 4, \"year\": 1627}, {\"count_of_earthquakes\": 3, \"year\": 1628}, {\"count_of_earthquakes\": 3, \"year\": 1629}, {\"count_of_earthquakes\": 4, \"year\": 1630}, {\"count_of_earthquakes\": 5, \"year\": 1631}, {\"count_of_earthquakes\": 1, \"year\": 1632}, {\"count_of_earthquakes\": 4, \"year\": 1633}, {\"count_of_earthquakes\": 3, \"year\": 1634}, {\"count_of_earthquakes\": 4, \"year\": 1636}, {\"count_of_earthquakes\": 2, \"year\": 1638}, {\"count_of_earthquakes\": 4, \"year\": 1639}, {\"count_of_earthquakes\": 7, \"year\": 1640}, {\"count_of_earthquakes\": 6, \"year\": 1641}, {\"count_of_earthquakes\": 2, \"year\": 1642}, {\"count_of_earthquakes\": 1, \"year\": 1643}, {\"count_of_earthquakes\": 4, \"year\": 1644}, {\"count_of_earthquakes\": 3, \"year\": 1645}, {\"count_of_earthquakes\": 6, \"year\": 1646}, {\"count_of_earthquakes\": 3, \"year\": 1647}, {\"count_of_earthquakes\": 4, \"year\": 1648}, {\"count_of_earthquakes\": 3, \"year\": 1649}, {\"count_of_earthquakes\": 4, \"year\": 1650}, {\"count_of_earthquakes\": 1, \"year\": 1651}, {\"count_of_earthquakes\": 2, \"year\": 1652}, {\"count_of_earthquakes\": 2, \"year\": 1653}, {\"count_of_earthquakes\": 4, \"year\": 1654}, {\"count_of_earthquakes\": 2, \"year\": 1655}, {\"count_of_earthquakes\": 2, \"year\": 1656}, {\"count_of_earthquakes\": 6, \"year\": 1657}, {\"count_of_earthquakes\": 4, \"year\": 1658}, {\"count_of_earthquakes\": 4, \"year\": 1659}, {\"count_of_earthquakes\": 5, \"year\": 1660}, {\"count_of_earthquakes\": 2, \"year\": 1661}, {\"count_of_earthquakes\": 5, \"year\": 1662}, {\"count_of_earthquakes\": 2, \"year\": 1663}, {\"count_of_earthquakes\": 4, \"year\": 1664}, {\"count_of_earthquakes\": 3, \"year\": 1665}, {\"count_of_earthquakes\": 3, \"year\": 1666}, {\"count_of_earthquakes\": 8, \"year\": 1667}, {\"count_of_earthquakes\": 6, \"year\": 1668}, {\"count_of_earthquakes\": 3, \"year\": 1669}, {\"count_of_earthquakes\": 5, \"year\": 1670}, {\"count_of_earthquakes\": 2, \"year\": 1671}, {\"count_of_earthquakes\": 3, \"year\": 1672}, {\"count_of_earthquakes\": 5, \"year\": 1673}, {\"count_of_earthquakes\": 4, \"year\": 1674}, {\"count_of_earthquakes\": 1, \"year\": 1675}, {\"count_of_earthquakes\": 1, \"year\": 1676}, {\"count_of_earthquakes\": 5, \"year\": 1677}, {\"count_of_earthquakes\": 6, \"year\": 1678}, {\"count_of_earthquakes\": 4, \"year\": 1679}, {\"count_of_earthquakes\": 3, \"year\": 1680}, {\"count_of_earthquakes\": 3, \"year\": 1681}, {\"count_of_earthquakes\": 3, \"year\": 1682}, {\"count_of_earthquakes\": 3, \"year\": 1683}, {\"count_of_earthquakes\": 1, \"year\": 1684}, {\"count_of_earthquakes\": 5, \"year\": 1687}, {\"count_of_earthquakes\": 10, \"year\": 1688}, {\"count_of_earthquakes\": 2, \"year\": 1689}, {\"count_of_earthquakes\": 2, \"year\": 1690}, {\"count_of_earthquakes\": 1, \"year\": 1691}, {\"count_of_earthquakes\": 3, \"year\": 1692}, {\"count_of_earthquakes\": 2, \"year\": 1693}, {\"count_of_earthquakes\": 3, \"year\": 1694}, {\"count_of_earthquakes\": 3, \"year\": 1695}, {\"count_of_earthquakes\": 2, \"year\": 1696}, {\"count_of_earthquakes\": 1, \"year\": 1697}, {\"count_of_earthquakes\": 3, \"year\": 1698}, {\"count_of_earthquakes\": 3, \"year\": 1699}, {\"count_of_earthquakes\": 3, \"year\": 1700}, {\"count_of_earthquakes\": 2, \"year\": 1701}, {\"count_of_earthquakes\": 2, \"year\": 1702}, {\"count_of_earthquakes\": 6, \"year\": 1703}, {\"count_of_earthquakes\": 4, \"year\": 1704}, {\"count_of_earthquakes\": 1, \"year\": 1705}, {\"count_of_earthquakes\": 2, \"year\": 1706}, {\"count_of_earthquakes\": 5, \"year\": 1707}, {\"count_of_earthquakes\": 3, \"year\": 1708}, {\"count_of_earthquakes\": 1, \"year\": 1709}, {\"count_of_earthquakes\": 2, \"year\": 1710}, {\"count_of_earthquakes\": 5, \"year\": 1711}, {\"count_of_earthquakes\": 3, \"year\": 1713}, {\"count_of_earthquakes\": 5, \"year\": 1714}, {\"count_of_earthquakes\": 4, \"year\": 1715}, {\"count_of_earthquakes\": 7, \"year\": 1716}, {\"count_of_earthquakes\": 3, \"year\": 1717}, {\"count_of_earthquakes\": 1, \"year\": 1718}, {\"count_of_earthquakes\": 3, \"year\": 1719}, {\"count_of_earthquakes\": 6, \"year\": 1720}, {\"count_of_earthquakes\": 5, \"year\": 1721}, {\"count_of_earthquakes\": 3, \"year\": 1722}, {\"count_of_earthquakes\": 1, \"year\": 1723}, {\"count_of_earthquakes\": 6, \"year\": 1725}, {\"count_of_earthquakes\": 2, \"year\": 1726}, {\"count_of_earthquakes\": 5, \"year\": 1727}, {\"count_of_earthquakes\": 1, \"year\": 1728}, {\"count_of_earthquakes\": 1, \"year\": 1729}, {\"count_of_earthquakes\": 8, \"year\": 1730}, {\"count_of_earthquakes\": 4, \"year\": 1731}, {\"count_of_earthquakes\": 4, \"year\": 1732}, {\"count_of_earthquakes\": 2, \"year\": 1733}, {\"count_of_earthquakes\": 2, \"year\": 1734}, {\"count_of_earthquakes\": 2, \"year\": 1735}, {\"count_of_earthquakes\": 2, \"year\": 1736}, {\"count_of_earthquakes\": 5, \"year\": 1737}, {\"count_of_earthquakes\": 4, \"year\": 1738}, {\"count_of_earthquakes\": 6, \"year\": 1739}, {\"count_of_earthquakes\": 2, \"year\": 1740}, {\"count_of_earthquakes\": 2, \"year\": 1741}, {\"count_of_earthquakes\": 5, \"year\": 1742}, {\"count_of_earthquakes\": 4, \"year\": 1743}, {\"count_of_earthquakes\": 1, \"year\": 1744}, {\"count_of_earthquakes\": 2, \"year\": 1746}, {\"count_of_earthquakes\": 2, \"year\": 1747}, {\"count_of_earthquakes\": 6, \"year\": 1748}, {\"count_of_earthquakes\": 2, \"year\": 1749}, {\"count_of_earthquakes\": 8, \"year\": 1750}, {\"count_of_earthquakes\": 11, \"year\": 1751}, {\"count_of_earthquakes\": 4, \"year\": 1752}, {\"count_of_earthquakes\": 5, \"year\": 1754}, {\"count_of_earthquakes\": 11, \"year\": 1755}, {\"count_of_earthquakes\": 1, \"year\": 1756}, {\"count_of_earthquakes\": 8, \"year\": 1757}, {\"count_of_earthquakes\": 2, \"year\": 1758}, {\"count_of_earthquakes\": 6, \"year\": 1759}, {\"count_of_earthquakes\": 1, \"year\": 1760}, {\"count_of_earthquakes\": 4, \"year\": 1761}, {\"count_of_earthquakes\": 2, \"year\": 1762}, {\"count_of_earthquakes\": 6, \"year\": 1763}, {\"count_of_earthquakes\": 2, \"year\": 1764}, {\"count_of_earthquakes\": 3, \"year\": 1765}, {\"count_of_earthquakes\": 9, \"year\": 1766}, {\"count_of_earthquakes\": 5, \"year\": 1767}, {\"count_of_earthquakes\": 4, \"year\": 1768}, {\"count_of_earthquakes\": 6, \"year\": 1769}, {\"count_of_earthquakes\": 6, \"year\": 1770}, {\"count_of_earthquakes\": 3, \"year\": 1771}, {\"count_of_earthquakes\": 3, \"year\": 1772}, {\"count_of_earthquakes\": 3, \"year\": 1773}, {\"count_of_earthquakes\": 4, \"year\": 1774}, {\"count_of_earthquakes\": 6, \"year\": 1775}, {\"count_of_earthquakes\": 3, \"year\": 1776}, {\"count_of_earthquakes\": 2, \"year\": 1777}, {\"count_of_earthquakes\": 3, \"year\": 1778}, {\"count_of_earthquakes\": 1, \"year\": 1779}, {\"count_of_earthquakes\": 5, \"year\": 1780}, {\"count_of_earthquakes\": 3, \"year\": 1781}, {\"count_of_earthquakes\": 2, \"year\": 1782}, {\"count_of_earthquakes\": 10, \"year\": 1783}, {\"count_of_earthquakes\": 10, \"year\": 1784}, {\"count_of_earthquakes\": 3, \"year\": 1785}, {\"count_of_earthquakes\": 5, \"year\": 1786}, {\"count_of_earthquakes\": 7, \"year\": 1787}, {\"count_of_earthquakes\": 4, \"year\": 1788}, {\"count_of_earthquakes\": 3, \"year\": 1789}, {\"count_of_earthquakes\": 2, \"year\": 1790}, {\"count_of_earthquakes\": 9, \"year\": 1791}, {\"count_of_earthquakes\": 6, \"year\": 1792}, {\"count_of_earthquakes\": 5, \"year\": 1793}, {\"count_of_earthquakes\": 2, \"year\": 1794}, {\"count_of_earthquakes\": 3, \"year\": 1795}, {\"count_of_earthquakes\": 5, \"year\": 1796}, {\"count_of_earthquakes\": 3, \"year\": 1797}, {\"count_of_earthquakes\": 5, \"year\": 1798}, {\"count_of_earthquakes\": 8, \"year\": 1799}, {\"count_of_earthquakes\": 3, \"year\": 1800}, {\"count_of_earthquakes\": 2, \"year\": 1801}, {\"count_of_earthquakes\": 7, \"year\": 1802}, {\"count_of_earthquakes\": 2, \"year\": 1803}, {\"count_of_earthquakes\": 5, \"year\": 1804}, {\"count_of_earthquakes\": 4, \"year\": 1805}, {\"count_of_earthquakes\": 5, \"year\": 1806}, {\"count_of_earthquakes\": 6, \"year\": 1808}, {\"count_of_earthquakes\": 3, \"year\": 1809}, {\"count_of_earthquakes\": 5, \"year\": 1810}, {\"count_of_earthquakes\": 7, \"year\": 1811}, {\"count_of_earthquakes\": 11, \"year\": 1812}, {\"count_of_earthquakes\": 2, \"year\": 1813}, {\"count_of_earthquakes\": 5, \"year\": 1814}, {\"count_of_earthquakes\": 7, \"year\": 1815}, {\"count_of_earthquakes\": 4, \"year\": 1816}, {\"count_of_earthquakes\": 4, \"year\": 1817}, {\"count_of_earthquakes\": 8, \"year\": 1818}, {\"count_of_earthquakes\": 8, \"year\": 1819}, {\"count_of_earthquakes\": 10, \"year\": 1820}, {\"count_of_earthquakes\": 5, \"year\": 1821}, {\"count_of_earthquakes\": 7, \"year\": 1822}, {\"count_of_earthquakes\": 9, \"year\": 1823}, {\"count_of_earthquakes\": 7, \"year\": 1824}, {\"count_of_earthquakes\": 7, \"year\": 1825}, {\"count_of_earthquakes\": 4, \"year\": 1826}, {\"count_of_earthquakes\": 6, \"year\": 1827}, {\"count_of_earthquakes\": 8, \"year\": 1828}, {\"count_of_earthquakes\": 8, \"year\": 1829}, {\"count_of_earthquakes\": 9, \"year\": 1830}, {\"count_of_earthquakes\": 8, \"year\": 1831}, {\"count_of_earthquakes\": 3, \"year\": 1832}, {\"count_of_earthquakes\": 9, \"year\": 1833}, {\"count_of_earthquakes\": 14, \"year\": 1834}, {\"count_of_earthquakes\": 6, \"year\": 1835}, {\"count_of_earthquakes\": 6, \"year\": 1836}, {\"count_of_earthquakes\": 11, \"year\": 1837}, {\"count_of_earthquakes\": 5, \"year\": 1838}, {\"count_of_earthquakes\": 10, \"year\": 1839}, {\"count_of_earthquakes\": 8, \"year\": 1840}, {\"count_of_earthquakes\": 5, \"year\": 1841}, {\"count_of_earthquakes\": 8, \"year\": 1842}, {\"count_of_earthquakes\": 10, \"year\": 1843}, {\"count_of_earthquakes\": 9, \"year\": 1844}, {\"count_of_earthquakes\": 11, \"year\": 1845}, {\"count_of_earthquakes\": 8, \"year\": 1846}, {\"count_of_earthquakes\": 11, \"year\": 1847}, {\"count_of_earthquakes\": 8, \"year\": 1848}, {\"count_of_earthquakes\": 6, \"year\": 1849}, {\"count_of_earthquakes\": 3, \"year\": 1850}, {\"count_of_earthquakes\": 14, \"year\": 1851}, {\"count_of_earthquakes\": 19, \"year\": 1852}, {\"count_of_earthquakes\": 11, \"year\": 1853}, {\"count_of_earthquakes\": 21, \"year\": 1854}, {\"count_of_earthquakes\": 23, \"year\": 1855}, {\"count_of_earthquakes\": 13, \"year\": 1856}, {\"count_of_earthquakes\": 14, \"year\": 1857}, {\"count_of_earthquakes\": 16, \"year\": 1858}, {\"count_of_earthquakes\": 17, \"year\": 1859}, {\"count_of_earthquakes\": 5, \"year\": 1860}, {\"count_of_earthquakes\": 14, \"year\": 1861}, {\"count_of_earthquakes\": 11, \"year\": 1862}, {\"count_of_earthquakes\": 15, \"year\": 1863}, {\"count_of_earthquakes\": 7, \"year\": 1864}, {\"count_of_earthquakes\": 13, \"year\": 1865}, {\"count_of_earthquakes\": 10, \"year\": 1866}, {\"count_of_earthquakes\": 12, \"year\": 1867}, {\"count_of_earthquakes\": 25, \"year\": 1868}, {\"count_of_earthquakes\": 21, \"year\": 1869}, {\"count_of_earthquakes\": 16, \"year\": 1870}, {\"count_of_earthquakes\": 17, \"year\": 1871}, {\"count_of_earthquakes\": 18, \"year\": 1872}, {\"count_of_earthquakes\": 12, \"year\": 1873}, {\"count_of_earthquakes\": 10, \"year\": 1874}, {\"count_of_earthquakes\": 17, \"year\": 1875}, {\"count_of_earthquakes\": 4, \"year\": 1876}, {\"count_of_earthquakes\": 8, \"year\": 1877}, {\"count_of_earthquakes\": 22, \"year\": 1878}, {\"count_of_earthquakes\": 10, \"year\": 1879}, {\"count_of_earthquakes\": 18, \"year\": 1880}, {\"count_of_earthquakes\": 21, \"year\": 1881}, {\"count_of_earthquakes\": 10, \"year\": 1882}, {\"count_of_earthquakes\": 6, \"year\": 1883}, {\"count_of_earthquakes\": 10, \"year\": 1884}, {\"count_of_earthquakes\": 21, \"year\": 1885}, {\"count_of_earthquakes\": 4, \"year\": 1886}, {\"count_of_earthquakes\": 14, \"year\": 1887}, {\"count_of_earthquakes\": 12, \"year\": 1888}, {\"count_of_earthquakes\": 10, \"year\": 1889}, {\"count_of_earthquakes\": 5, \"year\": 1890}, {\"count_of_earthquakes\": 9, \"year\": 1891}, {\"count_of_earthquakes\": 13, \"year\": 1892}, {\"count_of_earthquakes\": 17, \"year\": 1893}, {\"count_of_earthquakes\": 15, \"year\": 1894}, {\"count_of_earthquakes\": 20, \"year\": 1895}, {\"count_of_earthquakes\": 18, \"year\": 1896}, {\"count_of_earthquakes\": 25, \"year\": 1897}, {\"count_of_earthquakes\": 14, \"year\": 1898}, {\"count_of_earthquakes\": 18, \"year\": 1899}, {\"count_of_earthquakes\": 17, \"year\": 1900}, {\"count_of_earthquakes\": 18, \"year\": 1901}, {\"count_of_earthquakes\": 23, \"year\": 1902}, {\"count_of_earthquakes\": 22, \"year\": 1903}, {\"count_of_earthquakes\": 18, \"year\": 1904}, {\"count_of_earthquakes\": 32, \"year\": 1905}, {\"count_of_earthquakes\": 32, \"year\": 1906}, {\"count_of_earthquakes\": 23, \"year\": 1907}, {\"count_of_earthquakes\": 13, \"year\": 1908}, {\"count_of_earthquakes\": 34, \"year\": 1909}, {\"count_of_earthquakes\": 22, \"year\": 1910}, {\"count_of_earthquakes\": 20, \"year\": 1911}, {\"count_of_earthquakes\": 16, \"year\": 1912}, {\"count_of_earthquakes\": 20, \"year\": 1913}, {\"count_of_earthquakes\": 21, \"year\": 1914}, {\"count_of_earthquakes\": 17, \"year\": 1915}, {\"count_of_earthquakes\": 24, \"year\": 1916}, {\"count_of_earthquakes\": 25, \"year\": 1917}, {\"count_of_earthquakes\": 19, \"year\": 1918}, {\"count_of_earthquakes\": 17, \"year\": 1919}, {\"count_of_earthquakes\": 12, \"year\": 1920}, {\"count_of_earthquakes\": 16, \"year\": 1921}, {\"count_of_earthquakes\": 23, \"year\": 1922}, {\"count_of_earthquakes\": 28, \"year\": 1923}, {\"count_of_earthquakes\": 18, \"year\": 1924}, {\"count_of_earthquakes\": 24, \"year\": 1925}, {\"count_of_earthquakes\": 23, \"year\": 1926}, {\"count_of_earthquakes\": 28, \"year\": 1927}, {\"count_of_earthquakes\": 33, \"year\": 1928}, {\"count_of_earthquakes\": 21, \"year\": 1929}, {\"count_of_earthquakes\": 34, \"year\": 1930}, {\"count_of_earthquakes\": 30, \"year\": 1931}, {\"count_of_earthquakes\": 25, \"year\": 1932}, {\"count_of_earthquakes\": 18, \"year\": 1933}, {\"count_of_earthquakes\": 19, \"year\": 1934}, {\"count_of_earthquakes\": 27, \"year\": 1935}, {\"count_of_earthquakes\": 20, \"year\": 1936}, {\"count_of_earthquakes\": 19, \"year\": 1937}, {\"count_of_earthquakes\": 27, \"year\": 1938}, {\"count_of_earthquakes\": 20, \"year\": 1939}, {\"count_of_earthquakes\": 16, \"year\": 1940}, {\"count_of_earthquakes\": 19, \"year\": 1941}, {\"count_of_earthquakes\": 18, \"year\": 1942}, {\"count_of_earthquakes\": 25, \"year\": 1943}, {\"count_of_earthquakes\": 14, \"year\": 1944}, {\"count_of_earthquakes\": 12, \"year\": 1945}, {\"count_of_earthquakes\": 20, \"year\": 1946}, {\"count_of_earthquakes\": 17, \"year\": 1947}, {\"count_of_earthquakes\": 20, \"year\": 1948}, {\"count_of_earthquakes\": 23, \"year\": 1949}, {\"count_of_earthquakes\": 27, \"year\": 1950}, {\"count_of_earthquakes\": 17, \"year\": 1951}, {\"count_of_earthquakes\": 19, \"year\": 1952}, {\"count_of_earthquakes\": 21, \"year\": 1953}, {\"count_of_earthquakes\": 23, \"year\": 1954}, {\"count_of_earthquakes\": 24, \"year\": 1955}, {\"count_of_earthquakes\": 26, \"year\": 1956}, {\"count_of_earthquakes\": 27, \"year\": 1957}, {\"count_of_earthquakes\": 22, \"year\": 1958}, {\"count_of_earthquakes\": 27, \"year\": 1959}, {\"count_of_earthquakes\": 22, \"year\": 1960}, {\"count_of_earthquakes\": 35, \"year\": 1961}, {\"count_of_earthquakes\": 34, \"year\": 1962}, {\"count_of_earthquakes\": 28, \"year\": 1963}, {\"count_of_earthquakes\": 20, \"year\": 1964}, {\"count_of_earthquakes\": 26, \"year\": 1965}, {\"count_of_earthquakes\": 33, \"year\": 1966}, {\"count_of_earthquakes\": 27, \"year\": 1967}, {\"count_of_earthquakes\": 40, \"year\": 1968}, {\"count_of_earthquakes\": 31, \"year\": 1969}, {\"count_of_earthquakes\": 31, \"year\": 1970}, {\"count_of_earthquakes\": 33, \"year\": 1971}, {\"count_of_earthquakes\": 26, \"year\": 1972}, {\"count_of_earthquakes\": 26, \"year\": 1973}, {\"count_of_earthquakes\": 21, \"year\": 1974}, {\"count_of_earthquakes\": 30, \"year\": 1975}, {\"count_of_earthquakes\": 35, \"year\": 1976}, {\"count_of_earthquakes\": 25, \"year\": 1977}, {\"count_of_earthquakes\": 34, \"year\": 1978}, {\"count_of_earthquakes\": 34, \"year\": 1979}, {\"count_of_earthquakes\": 33, \"year\": 1980}, {\"count_of_earthquakes\": 22, \"year\": 1981}, {\"count_of_earthquakes\": 25, \"year\": 1982}, {\"count_of_earthquakes\": 46, \"year\": 1983}, {\"count_of_earthquakes\": 28, \"year\": 1984}, {\"count_of_earthquakes\": 30, \"year\": 1985}, {\"count_of_earthquakes\": 33, \"year\": 1986}, {\"count_of_earthquakes\": 33, \"year\": 1987}, {\"count_of_earthquakes\": 30, \"year\": 1988}, {\"count_of_earthquakes\": 35, \"year\": 1989}, {\"count_of_earthquakes\": 51, \"year\": 1990}, {\"count_of_earthquakes\": 42, \"year\": 1991}, {\"count_of_earthquakes\": 27, \"year\": 1992}, {\"count_of_earthquakes\": 26, \"year\": 1993}, {\"count_of_earthquakes\": 33, \"year\": 1994}, {\"count_of_earthquakes\": 31, \"year\": 1995}, {\"count_of_earthquakes\": 19, \"year\": 1996}, {\"count_of_earthquakes\": 34, \"year\": 1997}, {\"count_of_earthquakes\": 31, \"year\": 1998}, {\"count_of_earthquakes\": 35, \"year\": 1999}, {\"count_of_earthquakes\": 37, \"year\": 2000}, {\"count_of_earthquakes\": 26, \"year\": 2001}, {\"count_of_earthquakes\": 60, \"year\": 2002}, {\"count_of_earthquakes\": 72, \"year\": 2003}, {\"count_of_earthquakes\": 78, \"year\": 2004}, {\"count_of_earthquakes\": 60, \"year\": 2005}, {\"count_of_earthquakes\": 63, \"year\": 2006}, {\"count_of_earthquakes\": 67, \"year\": 2007}, {\"count_of_earthquakes\": 77, \"year\": 2008}, {\"count_of_earthquakes\": 61, \"year\": 2009}, {\"count_of_earthquakes\": 62, \"year\": 2010}, {\"count_of_earthquakes\": 60, \"year\": 2011}, {\"count_of_earthquakes\": 50, \"year\": 2012}, {\"count_of_earthquakes\": 54, \"year\": 2013}, {\"count_of_earthquakes\": 55, \"year\": 2014}, {\"count_of_earthquakes\": 48, \"year\": 2015}, {\"count_of_earthquakes\": 52, \"year\": 2016}, {\"count_of_earthquakes\": 64, \"year\": 2017}, {\"count_of_earthquakes\": 66, \"year\": 2018}, {\"count_of_earthquakes\": 62, \"year\": 2019}, {\"count_of_earthquakes\": 29, \"year\": 2020}, {\"count_of_earthquakes\": 30, \"year\": 2021}]}, \"encoding\": {\"x\": {\"axis\": {\"labelOverlap\": true}, \"field\": \"year\", \"sort\": \"ascending\", \"title\": \"Year\"}, \"y\": {\"axis\": {\"labelOverlap\": true}, \"field\": \"count_of_earthquakes\", \"sort\": {}, \"title\": \"Count of Earthquakes\", \"type\": \"quantitative\"}}, \"mark\": {\"interpolate\": \"monotone\", \"point\": true, \"tooltip\": true, \"type\": \"line\"}, \"title\": \"Count of Earthquakes Per Year\"}\n",
      "```\n",
      "\n",
      "This chart displays the number of earthquakes recorded each year, with the year on the x-axis and the count of earthquakes on the y-axis.\n",
      "\n",
      "\n"
     ]
    }
   ],
   "source": [
    "questions[3]['stateful_answer'] = chat(\n",
    "    questions[3]['question'],\n",
    "    context_mode ='conversation'\n",
    ")"
   ]
  },
  {
   "cell_type": "code",
   "execution_count": 78,
   "id": "f5c3fe7e",
   "metadata": {},
   "outputs": [
    {
     "data": {
      "text/plain": [
       "4"
      ]
     },
     "execution_count": 78,
     "metadata": {},
     "output_type": "execute_result"
    }
   ],
   "source": [
    "len(questions[3]['stateful_answer'])"
   ]
  },
  {
   "cell_type": "code",
   "execution_count": 79,
   "id": "b466b913",
   "metadata": {},
   "outputs": [
    {
     "data": {
      "text/html": [
       "\n",
       "<style>\n",
       "  #altair-viz-9e3e324350e242ec81e6c2792ba1ef93.vega-embed {\n",
       "    width: 100%;\n",
       "    display: flex;\n",
       "  }\n",
       "\n",
       "  #altair-viz-9e3e324350e242ec81e6c2792ba1ef93.vega-embed details,\n",
       "  #altair-viz-9e3e324350e242ec81e6c2792ba1ef93.vega-embed details summary {\n",
       "    position: relative;\n",
       "  }\n",
       "</style>\n",
       "<div id=\"altair-viz-9e3e324350e242ec81e6c2792ba1ef93\"></div>\n",
       "<script type=\"text/javascript\">\n",
       "  var VEGA_DEBUG = (typeof VEGA_DEBUG == \"undefined\") ? {} : VEGA_DEBUG;\n",
       "  (function(spec, embedOpt){\n",
       "    let outputDiv = document.currentScript.previousElementSibling;\n",
       "    if (outputDiv.id !== \"altair-viz-9e3e324350e242ec81e6c2792ba1ef93\") {\n",
       "      outputDiv = document.getElementById(\"altair-viz-9e3e324350e242ec81e6c2792ba1ef93\");\n",
       "    }\n",
       "\n",
       "    const paths = {\n",
       "      \"vega\": \"https://cdn.jsdelivr.net/npm/vega@5?noext\",\n",
       "      \"vega-lib\": \"https://cdn.jsdelivr.net/npm/vega-lib?noext\",\n",
       "      \"vega-lite\": \"https://cdn.jsdelivr.net/npm/vega-lite@5.20.1?noext\",\n",
       "      \"vega-embed\": \"https://cdn.jsdelivr.net/npm/vega-embed@6?noext\",\n",
       "    };\n",
       "\n",
       "    function maybeLoadScript(lib, version) {\n",
       "      var key = `${lib.replace(\"-\", \"\")}_version`;\n",
       "      return (VEGA_DEBUG[key] == version) ?\n",
       "        Promise.resolve(paths[lib]) :\n",
       "        new Promise(function(resolve, reject) {\n",
       "          var s = document.createElement('script');\n",
       "          document.getElementsByTagName(\"head\")[0].appendChild(s);\n",
       "          s.async = true;\n",
       "          s.onload = () => {\n",
       "            VEGA_DEBUG[key] = version;\n",
       "            return resolve(paths[lib]);\n",
       "          };\n",
       "          s.onerror = () => reject(`Error loading script: ${paths[lib]}`);\n",
       "          s.src = paths[lib];\n",
       "        });\n",
       "    }\n",
       "\n",
       "    function showError(err) {\n",
       "      outputDiv.innerHTML = `<div class=\"error\" style=\"color:red;\">${err}</div>`;\n",
       "      throw err;\n",
       "    }\n",
       "\n",
       "    function displayChart(vegaEmbed) {\n",
       "      vegaEmbed(outputDiv, spec, embedOpt)\n",
       "        .catch(err => showError(`Javascript Error: ${err.message}<br>This usually means there's a typo in your chart specification. See the javascript console for the full traceback.`));\n",
       "    }\n",
       "\n",
       "    if(typeof define === \"function\" && define.amd) {\n",
       "      requirejs.config({paths});\n",
       "      let deps = [\"vega-embed\"];\n",
       "      require(deps, displayChart, err => showError(`Error loading script: ${err.message}`));\n",
       "    } else {\n",
       "      maybeLoadScript(\"vega\", \"5\")\n",
       "        .then(() => maybeLoadScript(\"vega-lite\", \"5.20.1\"))\n",
       "        .then(() => maybeLoadScript(\"vega-embed\", \"6\"))\n",
       "        .catch(showError)\n",
       "        .then(() => displayChart(vegaEmbed));\n",
       "    }\n",
       "  })({\"config\": {\"view\": {\"continuousWidth\": 300, \"continuousHeight\": 300}}, \"data\": {\"name\": \"data-af52f21ef3faeca12cd0ad73d8e463cb\"}, \"mark\": {\"type\": \"line\", \"interpolate\": \"monotone\", \"point\": true, \"tooltip\": true}, \"encoding\": {\"x\": {\"axis\": {\"labelOverlap\": true}, \"field\": \"year\", \"sort\": \"ascending\", \"title\": \"Year\"}, \"y\": {\"axis\": {\"labelOverlap\": true}, \"field\": \"count_of_earthquakes\", \"sort\": {}, \"title\": \"Count of Earthquakes\", \"type\": \"quantitative\"}}, \"title\": \"Count of Earthquakes Per Year\", \"$schema\": \"https://vega.github.io/schema/vega-lite/v5.20.1.json\", \"datasets\": {\"data-af52f21ef3faeca12cd0ad73d8e463cb\": [{\"year\": -2150.0, \"count_of_earthquakes\": 1.0}, {\"year\": -2000.0, \"count_of_earthquakes\": 2.0}, {\"year\": -1610.0, \"count_of_earthquakes\": 1.0}, {\"year\": -1566.0, \"count_of_earthquakes\": 1.0}, {\"year\": -1450.0, \"count_of_earthquakes\": 1.0}, {\"year\": -1365.0, \"count_of_earthquakes\": 1.0}, {\"year\": -1250.0, \"count_of_earthquakes\": 1.0}, {\"year\": -1050.0, \"count_of_earthquakes\": 1.0}, {\"year\": -759.0, \"count_of_earthquakes\": 1.0}, {\"year\": -590.0, \"count_of_earthquakes\": 1.0}, {\"year\": -550.0, \"count_of_earthquakes\": 1.0}, {\"year\": -525.0, \"count_of_earthquakes\": 1.0}, {\"year\": -480.0, \"count_of_earthquakes\": 1.0}, {\"year\": -479.0, \"count_of_earthquakes\": 1.0}, {\"year\": -432.0, \"count_of_earthquakes\": 1.0}, {\"year\": -426.0, \"count_of_earthquakes\": 1.0}, {\"year\": -400.0, \"count_of_earthquakes\": 1.0}, {\"year\": -373.0, \"count_of_earthquakes\": 1.0}, {\"year\": -364.0, \"count_of_earthquakes\": 1.0}, {\"year\": -330.0, \"count_of_earthquakes\": 1.0}, {\"year\": -326.0, \"count_of_earthquakes\": 1.0}, {\"year\": -282.0, \"count_of_earthquakes\": 2.0}, {\"year\": -250.0, \"count_of_earthquakes\": 1.0}, {\"year\": -241.0, \"count_of_earthquakes\": 1.0}, {\"year\": -227.0, \"count_of_earthquakes\": 1.0}, {\"year\": -223.0, \"count_of_earthquakes\": 1.0}, {\"year\": -221.0, \"count_of_earthquakes\": 1.0}, {\"year\": -217.0, \"count_of_earthquakes\": 1.0}, {\"year\": -216.0, \"count_of_earthquakes\": 1.0}, {\"year\": -210.0, \"count_of_earthquakes\": 1.0}, {\"year\": -198.0, \"count_of_earthquakes\": 1.0}, {\"year\": -193.0, \"count_of_earthquakes\": 1.0}, {\"year\": -186.0, \"count_of_earthquakes\": 1.0}, {\"year\": -177.0, \"count_of_earthquakes\": 1.0}, {\"year\": -70.0, \"count_of_earthquakes\": 1.0}, {\"year\": -63.0, \"count_of_earthquakes\": 1.0}, {\"year\": -60.0, \"count_of_earthquakes\": 1.0}, {\"year\": -58.0, \"count_of_earthquakes\": 1.0}, {\"year\": -50.0, \"count_of_earthquakes\": 2.0}, {\"year\": -47.0, \"count_of_earthquakes\": 1.0}, {\"year\": -33.0, \"count_of_earthquakes\": 1.0}, {\"year\": -31.0, \"count_of_earthquakes\": 1.0}, {\"year\": -27.0, \"count_of_earthquakes\": 1.0}, {\"year\": -26.0, \"count_of_earthquakes\": 2.0}, {\"year\": -15.0, \"count_of_earthquakes\": 1.0}, {\"year\": 10.0, \"count_of_earthquakes\": 1.0}, {\"year\": 11.0, \"count_of_earthquakes\": 1.0}, {\"year\": 17.0, \"count_of_earthquakes\": 1.0}, {\"year\": 23.0, \"count_of_earthquakes\": 1.0}, {\"year\": 25.0, \"count_of_earthquakes\": 1.0}, {\"year\": 27.0, \"count_of_earthquakes\": 1.0}, {\"year\": 29.0, \"count_of_earthquakes\": 1.0}, {\"year\": 33.0, \"count_of_earthquakes\": 1.0}, {\"year\": 37.0, \"count_of_earthquakes\": 1.0}, {\"year\": 46.0, \"count_of_earthquakes\": 1.0}, {\"year\": 50.0, \"count_of_earthquakes\": 1.0}, {\"year\": 52.0, \"count_of_earthquakes\": 2.0}, {\"year\": 55.0, \"count_of_earthquakes\": 1.0}, {\"year\": 57.0, \"count_of_earthquakes\": 1.0}, {\"year\": 60.0, \"count_of_earthquakes\": 1.0}, {\"year\": 62.0, \"count_of_earthquakes\": 1.0}, {\"year\": 63.0, \"count_of_earthquakes\": 1.0}, {\"year\": 68.0, \"count_of_earthquakes\": 1.0}, {\"year\": 76.0, \"count_of_earthquakes\": 1.0}, {\"year\": 79.0, \"count_of_earthquakes\": 1.0}, {\"year\": 89.0, \"count_of_earthquakes\": 1.0}, {\"year\": 93.0, \"count_of_earthquakes\": 1.0}, {\"year\": 100.0, \"count_of_earthquakes\": 1.0}, {\"year\": 103.0, \"count_of_earthquakes\": 1.0}, {\"year\": 105.0, \"count_of_earthquakes\": 1.0}, {\"year\": 109.0, \"count_of_earthquakes\": 1.0}, {\"year\": 115.0, \"count_of_earthquakes\": 1.0}, {\"year\": 120.0, \"count_of_earthquakes\": 1.0}, {\"year\": 123.0, \"count_of_earthquakes\": 1.0}, {\"year\": 128.0, \"count_of_earthquakes\": 1.0}, {\"year\": 138.0, \"count_of_earthquakes\": 1.0}, {\"year\": 142.0, \"count_of_earthquakes\": 1.0}, {\"year\": 143.0, \"count_of_earthquakes\": 1.0}, {\"year\": 155.0, \"count_of_earthquakes\": 1.0}, {\"year\": 170.0, \"count_of_earthquakes\": 1.0}, {\"year\": 173.0, \"count_of_earthquakes\": 1.0}, {\"year\": 177.0, \"count_of_earthquakes\": 2.0}, {\"year\": 180.0, \"count_of_earthquakes\": 1.0}, {\"year\": 243.0, \"count_of_earthquakes\": 1.0}, {\"year\": 251.0, \"count_of_earthquakes\": 1.0}, {\"year\": 253.0, \"count_of_earthquakes\": 1.0}, {\"year\": 258.0, \"count_of_earthquakes\": 1.0}, {\"year\": 262.0, \"count_of_earthquakes\": 1.0}, {\"year\": 294.0, \"count_of_earthquakes\": 2.0}, {\"year\": 304.0, \"count_of_earthquakes\": 1.0}, {\"year\": 306.0, \"count_of_earthquakes\": 1.0}, {\"year\": 315.0, \"count_of_earthquakes\": 1.0}, {\"year\": 319.0, \"count_of_earthquakes\": 1.0}, {\"year\": 324.0, \"count_of_earthquakes\": 1.0}, {\"year\": 334.0, \"count_of_earthquakes\": 1.0}, {\"year\": 340.0, \"count_of_earthquakes\": 1.0}, {\"year\": 341.0, \"count_of_earthquakes\": 1.0}, {\"year\": 342.0, \"count_of_earthquakes\": 2.0}, {\"year\": 344.0, \"count_of_earthquakes\": 3.0}, {\"year\": 346.0, \"count_of_earthquakes\": 1.0}, {\"year\": 348.0, \"count_of_earthquakes\": 1.0}, {\"year\": 350.0, \"count_of_earthquakes\": 1.0}, {\"year\": 355.0, \"count_of_earthquakes\": 1.0}, {\"year\": 358.0, \"count_of_earthquakes\": 1.0}, {\"year\": 361.0, \"count_of_earthquakes\": 1.0}, {\"year\": 362.0, \"count_of_earthquakes\": 2.0}, {\"year\": 365.0, \"count_of_earthquakes\": 1.0}, {\"year\": 367.0, \"count_of_earthquakes\": 1.0}, {\"year\": 368.0, \"count_of_earthquakes\": 2.0}, {\"year\": 369.0, \"count_of_earthquakes\": 1.0}, {\"year\": 382.0, \"count_of_earthquakes\": 1.0}, {\"year\": 394.0, \"count_of_earthquakes\": 1.0}, {\"year\": 396.0, \"count_of_earthquakes\": 1.0}, {\"year\": 407.0, \"count_of_earthquakes\": 1.0}, {\"year\": 412.0, \"count_of_earthquakes\": 1.0}, {\"year\": 419.0, \"count_of_earthquakes\": 1.0}, {\"year\": 425.0, \"count_of_earthquakes\": 1.0}, {\"year\": 427.0, \"count_of_earthquakes\": 1.0}, {\"year\": 438.0, \"count_of_earthquakes\": 1.0}, {\"year\": 440.0, \"count_of_earthquakes\": 1.0}, {\"year\": 447.0, \"count_of_earthquakes\": 1.0}, {\"year\": 448.0, \"count_of_earthquakes\": 1.0}, {\"year\": 450.0, \"count_of_earthquakes\": 1.0}, {\"year\": 457.0, \"count_of_earthquakes\": 1.0}, {\"year\": 458.0, \"count_of_earthquakes\": 1.0}, {\"year\": 460.0, \"count_of_earthquakes\": 1.0}, {\"year\": 470.0, \"count_of_earthquakes\": 1.0}, {\"year\": 477.0, \"count_of_earthquakes\": 1.0}, {\"year\": 478.0, \"count_of_earthquakes\": 1.0}, {\"year\": 494.0, \"count_of_earthquakes\": 1.0}, {\"year\": 499.0, \"count_of_earthquakes\": 1.0}, {\"year\": 500.0, \"count_of_earthquakes\": 1.0}, {\"year\": 501.0, \"count_of_earthquakes\": 1.0}, {\"year\": 510.0, \"count_of_earthquakes\": 1.0}, {\"year\": 512.0, \"count_of_earthquakes\": 1.0}, {\"year\": 518.0, \"count_of_earthquakes\": 1.0}, {\"year\": 521.0, \"count_of_earthquakes\": 1.0}, {\"year\": 522.0, \"count_of_earthquakes\": 2.0}, {\"year\": 525.0, \"count_of_earthquakes\": 1.0}, {\"year\": 527.0, \"count_of_earthquakes\": 1.0}, {\"year\": 528.0, \"count_of_earthquakes\": 1.0}, {\"year\": 533.0, \"count_of_earthquakes\": 1.0}, {\"year\": 543.0, \"count_of_earthquakes\": 1.0}, {\"year\": 551.0, \"count_of_earthquakes\": 3.0}, {\"year\": 552.0, \"count_of_earthquakes\": 1.0}, {\"year\": 553.0, \"count_of_earthquakes\": 1.0}, {\"year\": 554.0, \"count_of_earthquakes\": 1.0}, {\"year\": 555.0, \"count_of_earthquakes\": 1.0}, {\"year\": 557.0, \"count_of_earthquakes\": 3.0}, {\"year\": 558.0, \"count_of_earthquakes\": 2.0}, {\"year\": 565.0, \"count_of_earthquakes\": 1.0}, {\"year\": 567.0, \"count_of_earthquakes\": 1.0}, {\"year\": 579.0, \"count_of_earthquakes\": 1.0}, {\"year\": 581.0, \"count_of_earthquakes\": 1.0}, {\"year\": 587.0, \"count_of_earthquakes\": 1.0}, {\"year\": 600.0, \"count_of_earthquakes\": 1.0}, {\"year\": 614.0, \"count_of_earthquakes\": 1.0}, {\"year\": 634.0, \"count_of_earthquakes\": 1.0}, {\"year\": 649.0, \"count_of_earthquakes\": 1.0}, {\"year\": 662.0, \"count_of_earthquakes\": 1.0}, {\"year\": 664.0, \"count_of_earthquakes\": 1.0}, {\"year\": 678.0, \"count_of_earthquakes\": 1.0}, {\"year\": 684.0, \"count_of_earthquakes\": 1.0}, {\"year\": 688.0, \"count_of_earthquakes\": 1.0}, {\"year\": 701.0, \"count_of_earthquakes\": 1.0}, {\"year\": 704.0, \"count_of_earthquakes\": 1.0}, {\"year\": 713.0, \"count_of_earthquakes\": 1.0}, {\"year\": 715.0, \"count_of_earthquakes\": 1.0}, {\"year\": 716.0, \"count_of_earthquakes\": 1.0}, {\"year\": 734.0, \"count_of_earthquakes\": 1.0}, {\"year\": 735.0, \"count_of_earthquakes\": 1.0}, {\"year\": 740.0, \"count_of_earthquakes\": 1.0}, {\"year\": 742.0, \"count_of_earthquakes\": 1.0}, {\"year\": 743.0, \"count_of_earthquakes\": 2.0}, {\"year\": 744.0, \"count_of_earthquakes\": 1.0}, {\"year\": 745.0, \"count_of_earthquakes\": 2.0}, {\"year\": 746.0, \"count_of_earthquakes\": 1.0}, {\"year\": 748.0, \"count_of_earthquakes\": 1.0}, {\"year\": 749.0, \"count_of_earthquakes\": 1.0}, {\"year\": 758.0, \"count_of_earthquakes\": 1.0}, {\"year\": 763.0, \"count_of_earthquakes\": 1.0}, {\"year\": 766.0, \"count_of_earthquakes\": 1.0}, {\"year\": 777.0, \"count_of_earthquakes\": 1.0}, {\"year\": 778.0, \"count_of_earthquakes\": 2.0}, {\"year\": 780.0, \"count_of_earthquakes\": 1.0}, {\"year\": 788.0, \"count_of_earthquakes\": 1.0}, {\"year\": 793.0, \"count_of_earthquakes\": 1.0}, {\"year\": 796.0, \"count_of_earthquakes\": 1.0}, {\"year\": 801.0, \"count_of_earthquakes\": 1.0}, {\"year\": 802.0, \"count_of_earthquakes\": 1.0}, {\"year\": 803.0, \"count_of_earthquakes\": 1.0}, {\"year\": 811.0, \"count_of_earthquakes\": 1.0}, {\"year\": 814.0, \"count_of_earthquakes\": 1.0}, {\"year\": 818.0, \"count_of_earthquakes\": 2.0}, {\"year\": 820.0, \"count_of_earthquakes\": 1.0}, {\"year\": 835.0, \"count_of_earthquakes\": 1.0}, {\"year\": 838.0, \"count_of_earthquakes\": 1.0}, {\"year\": 842.0, \"count_of_earthquakes\": 1.0}, {\"year\": 844.0, \"count_of_earthquakes\": 1.0}, {\"year\": 845.0, \"count_of_earthquakes\": 1.0}, {\"year\": 846.0, \"count_of_earthquakes\": 1.0}, {\"year\": 847.0, \"count_of_earthquakes\": 3.0}, {\"year\": 850.0, \"count_of_earthquakes\": 2.0}, {\"year\": 851.0, \"count_of_earthquakes\": 1.0}, {\"year\": 853.0, \"count_of_earthquakes\": 1.0}, {\"year\": 854.0, \"count_of_earthquakes\": 3.0}, {\"year\": 855.0, \"count_of_earthquakes\": 1.0}, {\"year\": 856.0, \"count_of_earthquakes\": 4.0}, {\"year\": 857.0, \"count_of_earthquakes\": 1.0}, {\"year\": 858.0, \"count_of_earthquakes\": 2.0}, {\"year\": 859.0, \"count_of_earthquakes\": 1.0}, {\"year\": 860.0, \"count_of_earthquakes\": 1.0}, {\"year\": 863.0, \"count_of_earthquakes\": 4.0}, {\"year\": 864.0, \"count_of_earthquakes\": 1.0}, {\"year\": 867.0, \"count_of_earthquakes\": 1.0}, {\"year\": 869.0, \"count_of_earthquakes\": 1.0}, {\"year\": 871.0, \"count_of_earthquakes\": 1.0}, {\"year\": 876.0, \"count_of_earthquakes\": 1.0}, {\"year\": 881.0, \"count_of_earthquakes\": 1.0}, {\"year\": 885.0, \"count_of_earthquakes\": 1.0}, {\"year\": 887.0, \"count_of_earthquakes\": 2.0}, {\"year\": 891.0, \"count_of_earthquakes\": 1.0}, {\"year\": 893.0, \"count_of_earthquakes\": 1.0}, {\"year\": 894.0, \"count_of_earthquakes\": 1.0}, {\"year\": 896.0, \"count_of_earthquakes\": 2.0}, {\"year\": 898.0, \"count_of_earthquakes\": 1.0}, {\"year\": 910.0, \"count_of_earthquakes\": 1.0}, {\"year\": 912.0, \"count_of_earthquakes\": 1.0}, {\"year\": 922.0, \"count_of_earthquakes\": 1.0}, {\"year\": 942.0, \"count_of_earthquakes\": 2.0}, {\"year\": 943.0, \"count_of_earthquakes\": 1.0}, {\"year\": 951.0, \"count_of_earthquakes\": 1.0}, {\"year\": 953.0, \"count_of_earthquakes\": 1.0}, {\"year\": 956.0, \"count_of_earthquakes\": 1.0}, {\"year\": 957.0, \"count_of_earthquakes\": 2.0}, {\"year\": 958.0, \"count_of_earthquakes\": 2.0}, {\"year\": 963.0, \"count_of_earthquakes\": 1.0}, {\"year\": 972.0, \"count_of_earthquakes\": 1.0}, {\"year\": 977.0, \"count_of_earthquakes\": 1.0}, {\"year\": 978.0, \"count_of_earthquakes\": 1.0}, {\"year\": 985.0, \"count_of_earthquakes\": 1.0}, {\"year\": 986.0, \"count_of_earthquakes\": 1.0}, {\"year\": 990.0, \"count_of_earthquakes\": 1.0}, {\"year\": 991.0, \"count_of_earthquakes\": 1.0}, {\"year\": 999.0, \"count_of_earthquakes\": 2.0}, {\"year\": 1000.0, \"count_of_earthquakes\": 2.0}, {\"year\": 1001.0, \"count_of_earthquakes\": 2.0}, {\"year\": 1003.0, \"count_of_earthquakes\": 2.0}, {\"year\": 1007.0, \"count_of_earthquakes\": 1.0}, {\"year\": 1008.0, \"count_of_earthquakes\": 1.0}, {\"year\": 1010.0, \"count_of_earthquakes\": 1.0}, {\"year\": 1013.0, \"count_of_earthquakes\": 1.0}, {\"year\": 1021.0, \"count_of_earthquakes\": 1.0}, {\"year\": 1022.0, \"count_of_earthquakes\": 1.0}, {\"year\": 1026.0, \"count_of_earthquakes\": 1.0}, {\"year\": 1033.0, \"count_of_earthquakes\": 1.0}, {\"year\": 1036.0, \"count_of_earthquakes\": 1.0}, {\"year\": 1037.0, \"count_of_earthquakes\": 1.0}, {\"year\": 1038.0, \"count_of_earthquakes\": 1.0}, {\"year\": 1039.0, \"count_of_earthquakes\": 1.0}, {\"year\": 1040.0, \"count_of_earthquakes\": 1.0}, {\"year\": 1042.0, \"count_of_earthquakes\": 2.0}, {\"year\": 1045.0, \"count_of_earthquakes\": 1.0}, {\"year\": 1046.0, \"count_of_earthquakes\": 1.0}, {\"year\": 1048.0, \"count_of_earthquakes\": 1.0}, {\"year\": 1052.0, \"count_of_earthquakes\": 2.0}, {\"year\": 1057.0, \"count_of_earthquakes\": 1.0}, {\"year\": 1058.0, \"count_of_earthquakes\": 1.0}, {\"year\": 1063.0, \"count_of_earthquakes\": 2.0}, {\"year\": 1064.0, \"count_of_earthquakes\": 1.0}, {\"year\": 1065.0, \"count_of_earthquakes\": 2.0}, {\"year\": 1066.0, \"count_of_earthquakes\": 1.0}, {\"year\": 1067.0, \"count_of_earthquakes\": 1.0}, {\"year\": 1068.0, \"count_of_earthquakes\": 2.0}, {\"year\": 1070.0, \"count_of_earthquakes\": 1.0}, {\"year\": 1072.0, \"count_of_earthquakes\": 1.0}, {\"year\": 1076.0, \"count_of_earthquakes\": 1.0}, {\"year\": 1082.0, \"count_of_earthquakes\": 1.0}, {\"year\": 1085.0, \"count_of_earthquakes\": 2.0}, {\"year\": 1086.0, \"count_of_earthquakes\": 2.0}, {\"year\": 1088.0, \"count_of_earthquakes\": 2.0}, {\"year\": 1089.0, \"count_of_earthquakes\": 1.0}, {\"year\": 1091.0, \"count_of_earthquakes\": 1.0}, {\"year\": 1096.0, \"count_of_earthquakes\": 1.0}, {\"year\": 1099.0, \"count_of_earthquakes\": 1.0}, {\"year\": 1101.0, \"count_of_earthquakes\": 1.0}, {\"year\": 1102.0, \"count_of_earthquakes\": 2.0}, {\"year\": 1106.0, \"count_of_earthquakes\": 1.0}, {\"year\": 1109.0, \"count_of_earthquakes\": 1.0}, {\"year\": 1111.0, \"count_of_earthquakes\": 1.0}, {\"year\": 1114.0, \"count_of_earthquakes\": 3.0}, {\"year\": 1115.0, \"count_of_earthquakes\": 3.0}, {\"year\": 1117.0, \"count_of_earthquakes\": 2.0}, {\"year\": 1118.0, \"count_of_earthquakes\": 1.0}, {\"year\": 1119.0, \"count_of_earthquakes\": 1.0}, {\"year\": 1125.0, \"count_of_earthquakes\": 2.0}, {\"year\": 1130.0, \"count_of_earthquakes\": 2.0}, {\"year\": 1137.0, \"count_of_earthquakes\": 2.0}, {\"year\": 1139.0, \"count_of_earthquakes\": 1.0}, {\"year\": 1143.0, \"count_of_earthquakes\": 1.0}, {\"year\": 1149.0, \"count_of_earthquakes\": 1.0}, {\"year\": 1151.0, \"count_of_earthquakes\": 2.0}, {\"year\": 1153.0, \"count_of_earthquakes\": 1.0}, {\"year\": 1155.0, \"count_of_earthquakes\": 2.0}, {\"year\": 1156.0, \"count_of_earthquakes\": 1.0}, {\"year\": 1157.0, \"count_of_earthquakes\": 1.0}, {\"year\": 1158.0, \"count_of_earthquakes\": 1.0}, {\"year\": 1160.0, \"count_of_earthquakes\": 1.0}, {\"year\": 1164.0, \"count_of_earthquakes\": 1.0}, {\"year\": 1169.0, \"count_of_earthquakes\": 2.0}, {\"year\": 1171.0, \"count_of_earthquakes\": 1.0}, {\"year\": 1172.0, \"count_of_earthquakes\": 1.0}, {\"year\": 1175.0, \"count_of_earthquakes\": 2.0}, {\"year\": 1176.0, \"count_of_earthquakes\": 1.0}, {\"year\": 1179.0, \"count_of_earthquakes\": 1.0}, {\"year\": 1180.0, \"count_of_earthquakes\": 1.0}, {\"year\": 1182.0, \"count_of_earthquakes\": 2.0}, {\"year\": 1183.0, \"count_of_earthquakes\": 1.0}, {\"year\": 1184.0, \"count_of_earthquakes\": 1.0}, {\"year\": 1201.0, \"count_of_earthquakes\": 1.0}, {\"year\": 1202.0, \"count_of_earthquakes\": 2.0}, {\"year\": 1208.0, \"count_of_earthquakes\": 2.0}, {\"year\": 1209.0, \"count_of_earthquakes\": 2.0}, {\"year\": 1211.0, \"count_of_earthquakes\": 1.0}, {\"year\": 1219.0, \"count_of_earthquakes\": 1.0}, {\"year\": 1222.0, \"count_of_earthquakes\": 2.0}, {\"year\": 1223.0, \"count_of_earthquakes\": 1.0}, {\"year\": 1227.0, \"count_of_earthquakes\": 2.0}, {\"year\": 1231.0, \"count_of_earthquakes\": 2.0}, {\"year\": 1233.0, \"count_of_earthquakes\": 1.0}, {\"year\": 1237.0, \"count_of_earthquakes\": 3.0}, {\"year\": 1241.0, \"count_of_earthquakes\": 1.0}, {\"year\": 1248.0, \"count_of_earthquakes\": 1.0}, {\"year\": 1255.0, \"count_of_earthquakes\": 1.0}, {\"year\": 1257.0, \"count_of_earthquakes\": 2.0}, {\"year\": 1259.0, \"count_of_earthquakes\": 1.0}, {\"year\": 1267.0, \"count_of_earthquakes\": 1.0}, {\"year\": 1268.0, \"count_of_earthquakes\": 1.0}, {\"year\": 1269.0, \"count_of_earthquakes\": 1.0}, {\"year\": 1272.0, \"count_of_earthquakes\": 1.0}, {\"year\": 1273.0, \"count_of_earthquakes\": 2.0}, {\"year\": 1275.0, \"count_of_earthquakes\": 1.0}, {\"year\": 1276.0, \"count_of_earthquakes\": 1.0}, {\"year\": 1277.0, \"count_of_earthquakes\": 1.0}, {\"year\": 1279.0, \"count_of_earthquakes\": 1.0}, {\"year\": 1280.0, \"count_of_earthquakes\": 3.0}, {\"year\": 1281.0, \"count_of_earthquakes\": 1.0}, {\"year\": 1283.0, \"count_of_earthquakes\": 1.0}, {\"year\": 1284.0, \"count_of_earthquakes\": 1.0}, {\"year\": 1286.0, \"count_of_earthquakes\": 1.0}, {\"year\": 1289.0, \"count_of_earthquakes\": 2.0}, {\"year\": 1290.0, \"count_of_earthquakes\": 1.0}, {\"year\": 1291.0, \"count_of_earthquakes\": 2.0}, {\"year\": 1293.0, \"count_of_earthquakes\": 2.0}, {\"year\": 1295.0, \"count_of_earthquakes\": 2.0}, {\"year\": 1298.0, \"count_of_earthquakes\": 1.0}, {\"year\": 1300.0, \"count_of_earthquakes\": 3.0}, {\"year\": 1301.0, \"count_of_earthquakes\": 1.0}, {\"year\": 1303.0, \"count_of_earthquakes\": 2.0}, {\"year\": 1304.0, \"count_of_earthquakes\": 1.0}, {\"year\": 1305.0, \"count_of_earthquakes\": 1.0}, {\"year\": 1306.0, \"count_of_earthquakes\": 3.0}, {\"year\": 1310.0, \"count_of_earthquakes\": 2.0}, {\"year\": 1314.0, \"count_of_earthquakes\": 1.0}, {\"year\": 1319.0, \"count_of_earthquakes\": 2.0}, {\"year\": 1320.0, \"count_of_earthquakes\": 1.0}, {\"year\": 1323.0, \"count_of_earthquakes\": 1.0}, {\"year\": 1327.0, \"count_of_earthquakes\": 1.0}, {\"year\": 1328.0, \"count_of_earthquakes\": 1.0}, {\"year\": 1329.0, \"count_of_earthquakes\": 1.0}, {\"year\": 1331.0, \"count_of_earthquakes\": 1.0}, {\"year\": 1332.0, \"count_of_earthquakes\": 1.0}, {\"year\": 1336.0, \"count_of_earthquakes\": 2.0}, {\"year\": 1337.0, \"count_of_earthquakes\": 1.0}, {\"year\": 1339.0, \"count_of_earthquakes\": 1.0}, {\"year\": 1340.0, \"count_of_earthquakes\": 1.0}, {\"year\": 1341.0, \"count_of_earthquakes\": 2.0}, {\"year\": 1343.0, \"count_of_earthquakes\": 3.0}, {\"year\": 1344.0, \"count_of_earthquakes\": 3.0}, {\"year\": 1345.0, \"count_of_earthquakes\": 1.0}, {\"year\": 1346.0, \"count_of_earthquakes\": 1.0}, {\"year\": 1347.0, \"count_of_earthquakes\": 1.0}, {\"year\": 1348.0, \"count_of_earthquakes\": 1.0}, {\"year\": 1349.0, \"count_of_earthquakes\": 1.0}, {\"year\": 1350.0, \"count_of_earthquakes\": 1.0}, {\"year\": 1351.0, \"count_of_earthquakes\": 1.0}, {\"year\": 1352.0, \"count_of_earthquakes\": 2.0}, {\"year\": 1353.0, \"count_of_earthquakes\": 1.0}, {\"year\": 1354.0, \"count_of_earthquakes\": 1.0}, {\"year\": 1356.0, \"count_of_earthquakes\": 2.0}, {\"year\": 1358.0, \"count_of_earthquakes\": 1.0}, {\"year\": 1359.0, \"count_of_earthquakes\": 1.0}, {\"year\": 1360.0, \"count_of_earthquakes\": 2.0}, {\"year\": 1361.0, \"count_of_earthquakes\": 3.0}, {\"year\": 1365.0, \"count_of_earthquakes\": 1.0}, {\"year\": 1367.0, \"count_of_earthquakes\": 1.0}, {\"year\": 1368.0, \"count_of_earthquakes\": 1.0}, {\"year\": 1372.0, \"count_of_earthquakes\": 1.0}, {\"year\": 1374.0, \"count_of_earthquakes\": 1.0}, {\"year\": 1375.0, \"count_of_earthquakes\": 1.0}, {\"year\": 1377.0, \"count_of_earthquakes\": 1.0}, {\"year\": 1380.0, \"count_of_earthquakes\": 1.0}, {\"year\": 1382.0, \"count_of_earthquakes\": 1.0}, {\"year\": 1383.0, \"count_of_earthquakes\": 1.0}, {\"year\": 1384.0, \"count_of_earthquakes\": 1.0}, {\"year\": 1385.0, \"count_of_earthquakes\": 1.0}, {\"year\": 1386.0, \"count_of_earthquakes\": 1.0}, {\"year\": 1387.0, \"count_of_earthquakes\": 2.0}, {\"year\": 1389.0, \"count_of_earthquakes\": 4.0}, {\"year\": 1390.0, \"count_of_earthquakes\": 2.0}, {\"year\": 1391.0, \"count_of_earthquakes\": 1.0}, {\"year\": 1399.0, \"count_of_earthquakes\": 1.0}, {\"year\": 1400.0, \"count_of_earthquakes\": 2.0}, {\"year\": 1402.0, \"count_of_earthquakes\": 1.0}, {\"year\": 1403.0, \"count_of_earthquakes\": 2.0}, {\"year\": 1404.0, \"count_of_earthquakes\": 1.0}, {\"year\": 1405.0, \"count_of_earthquakes\": 1.0}, {\"year\": 1406.0, \"count_of_earthquakes\": 1.0}, {\"year\": 1407.0, \"count_of_earthquakes\": 1.0}, {\"year\": 1408.0, \"count_of_earthquakes\": 2.0}, {\"year\": 1414.0, \"count_of_earthquakes\": 1.0}, {\"year\": 1417.0, \"count_of_earthquakes\": 1.0}, {\"year\": 1418.0, \"count_of_earthquakes\": 1.0}, {\"year\": 1419.0, \"count_of_earthquakes\": 1.0}, {\"year\": 1426.0, \"count_of_earthquakes\": 1.0}, {\"year\": 1427.0, \"count_of_earthquakes\": 1.0}, {\"year\": 1428.0, \"count_of_earthquakes\": 1.0}, {\"year\": 1431.0, \"count_of_earthquakes\": 1.0}, {\"year\": 1433.0, \"count_of_earthquakes\": 1.0}, {\"year\": 1440.0, \"count_of_earthquakes\": 2.0}, {\"year\": 1441.0, \"count_of_earthquakes\": 2.0}, {\"year\": 1443.0, \"count_of_earthquakes\": 1.0}, {\"year\": 1444.0, \"count_of_earthquakes\": 2.0}, {\"year\": 1445.0, \"count_of_earthquakes\": 1.0}, {\"year\": 1447.0, \"count_of_earthquakes\": 1.0}, {\"year\": 1448.0, \"count_of_earthquakes\": 1.0}, {\"year\": 1451.0, \"count_of_earthquakes\": 1.0}, {\"year\": 1454.0, \"count_of_earthquakes\": 2.0}, {\"year\": 1455.0, \"count_of_earthquakes\": 1.0}, {\"year\": 1456.0, \"count_of_earthquakes\": 3.0}, {\"year\": 1457.0, \"count_of_earthquakes\": 1.0}, {\"year\": 1458.0, \"count_of_earthquakes\": 2.0}, {\"year\": 1459.0, \"count_of_earthquakes\": 1.0}, {\"year\": 1461.0, \"count_of_earthquakes\": 2.0}, {\"year\": 1463.0, \"count_of_earthquakes\": 1.0}, {\"year\": 1464.0, \"count_of_earthquakes\": 1.0}, {\"year\": 1469.0, \"count_of_earthquakes\": 1.0}, {\"year\": 1471.0, \"count_of_earthquakes\": 2.0}, {\"year\": 1475.0, \"count_of_earthquakes\": 1.0}, {\"year\": 1478.0, \"count_of_earthquakes\": 1.0}, {\"year\": 1479.0, \"count_of_earthquakes\": 1.0}, {\"year\": 1481.0, \"count_of_earthquakes\": 5.0}, {\"year\": 1482.0, \"count_of_earthquakes\": 3.0}, {\"year\": 1483.0, \"count_of_earthquakes\": 2.0}, {\"year\": 1484.0, \"count_of_earthquakes\": 2.0}, {\"year\": 1485.0, \"count_of_earthquakes\": 1.0}, {\"year\": 1487.0, \"count_of_earthquakes\": 1.0}, {\"year\": 1488.0, \"count_of_earthquakes\": 1.0}, {\"year\": 1489.0, \"count_of_earthquakes\": 1.0}, {\"year\": 1490.0, \"count_of_earthquakes\": 3.0}, {\"year\": 1491.0, \"count_of_earthquakes\": 1.0}, {\"year\": 1493.0, \"count_of_earthquakes\": 2.0}, {\"year\": 1494.0, \"count_of_earthquakes\": 4.0}, {\"year\": 1495.0, \"count_of_earthquakes\": 2.0}, {\"year\": 1496.0, \"count_of_earthquakes\": 1.0}, {\"year\": 1498.0, \"count_of_earthquakes\": 4.0}, {\"year\": 1499.0, \"count_of_earthquakes\": 1.0}, {\"year\": 1500.0, \"count_of_earthquakes\": 2.0}, {\"year\": 1501.0, \"count_of_earthquakes\": 3.0}, {\"year\": 1502.0, \"count_of_earthquakes\": 3.0}, {\"year\": 1504.0, \"count_of_earthquakes\": 3.0}, {\"year\": 1505.0, \"count_of_earthquakes\": 4.0}, {\"year\": 1507.0, \"count_of_earthquakes\": 1.0}, {\"year\": 1508.0, \"count_of_earthquakes\": 1.0}, {\"year\": 1509.0, \"count_of_earthquakes\": 5.0}, {\"year\": 1510.0, \"count_of_earthquakes\": 4.0}, {\"year\": 1511.0, \"count_of_earthquakes\": 3.0}, {\"year\": 1512.0, \"count_of_earthquakes\": 2.0}, {\"year\": 1513.0, \"count_of_earthquakes\": 1.0}, {\"year\": 1514.0, \"count_of_earthquakes\": 2.0}, {\"year\": 1515.0, \"count_of_earthquakes\": 2.0}, {\"year\": 1516.0, \"count_of_earthquakes\": 3.0}, {\"year\": 1517.0, \"count_of_earthquakes\": 1.0}, {\"year\": 1518.0, \"count_of_earthquakes\": 2.0}, {\"year\": 1520.0, \"count_of_earthquakes\": 3.0}, {\"year\": 1522.0, \"count_of_earthquakes\": 3.0}, {\"year\": 1523.0, \"count_of_earthquakes\": 1.0}, {\"year\": 1524.0, \"count_of_earthquakes\": 1.0}, {\"year\": 1527.0, \"count_of_earthquakes\": 1.0}, {\"year\": 1530.0, \"count_of_earthquakes\": 2.0}, {\"year\": 1531.0, \"count_of_earthquakes\": 2.0}, {\"year\": 1535.0, \"count_of_earthquakes\": 1.0}, {\"year\": 1536.0, \"count_of_earthquakes\": 1.0}, {\"year\": 1537.0, \"count_of_earthquakes\": 1.0}, {\"year\": 1538.0, \"count_of_earthquakes\": 2.0}, {\"year\": 1539.0, \"count_of_earthquakes\": 2.0}, {\"year\": 1541.0, \"count_of_earthquakes\": 1.0}, {\"year\": 1542.0, \"count_of_earthquakes\": 3.0}, {\"year\": 1543.0, \"count_of_earthquakes\": 2.0}, {\"year\": 1545.0, \"count_of_earthquakes\": 2.0}, {\"year\": 1546.0, \"count_of_earthquakes\": 1.0}, {\"year\": 1547.0, \"count_of_earthquakes\": 1.0}, {\"year\": 1549.0, \"count_of_earthquakes\": 1.0}, {\"year\": 1550.0, \"count_of_earthquakes\": 2.0}, {\"year\": 1551.0, \"count_of_earthquakes\": 2.0}, {\"year\": 1552.0, \"count_of_earthquakes\": 1.0}, {\"year\": 1553.0, \"count_of_earthquakes\": 1.0}, {\"year\": 1555.0, \"count_of_earthquakes\": 3.0}, {\"year\": 1556.0, \"count_of_earthquakes\": 5.0}, {\"year\": 1560.0, \"count_of_earthquakes\": 2.0}, {\"year\": 1561.0, \"count_of_earthquakes\": 4.0}, {\"year\": 1562.0, \"count_of_earthquakes\": 1.0}, {\"year\": 1563.0, \"count_of_earthquakes\": 1.0}, {\"year\": 1564.0, \"count_of_earthquakes\": 2.0}, {\"year\": 1565.0, \"count_of_earthquakes\": 1.0}, {\"year\": 1566.0, \"count_of_earthquakes\": 3.0}, {\"year\": 1568.0, \"count_of_earthquakes\": 3.0}, {\"year\": 1570.0, \"count_of_earthquakes\": 2.0}, {\"year\": 1571.0, \"count_of_earthquakes\": 1.0}, {\"year\": 1573.0, \"count_of_earthquakes\": 2.0}, {\"year\": 1574.0, \"count_of_earthquakes\": 3.0}, {\"year\": 1575.0, \"count_of_earthquakes\": 2.0}, {\"year\": 1576.0, \"count_of_earthquakes\": 1.0}, {\"year\": 1577.0, \"count_of_earthquakes\": 1.0}, {\"year\": 1578.0, \"count_of_earthquakes\": 1.0}, {\"year\": 1579.0, \"count_of_earthquakes\": 3.0}, {\"year\": 1580.0, \"count_of_earthquakes\": 1.0}, {\"year\": 1581.0, \"count_of_earthquakes\": 1.0}, {\"year\": 1582.0, \"count_of_earthquakes\": 3.0}, {\"year\": 1584.0, \"count_of_earthquakes\": 4.0}, {\"year\": 1585.0, \"count_of_earthquakes\": 1.0}, {\"year\": 1586.0, \"count_of_earthquakes\": 4.0}, {\"year\": 1587.0, \"count_of_earthquakes\": 3.0}, {\"year\": 1588.0, \"count_of_earthquakes\": 2.0}, {\"year\": 1589.0, \"count_of_earthquakes\": 2.0}, {\"year\": 1590.0, \"count_of_earthquakes\": 6.0}, {\"year\": 1591.0, \"count_of_earthquakes\": 1.0}, {\"year\": 1593.0, \"count_of_earthquakes\": 1.0}, {\"year\": 1594.0, \"count_of_earthquakes\": 1.0}, {\"year\": 1596.0, \"count_of_earthquakes\": 1.0}, {\"year\": 1597.0, \"count_of_earthquakes\": 2.0}, {\"year\": 1598.0, \"count_of_earthquakes\": 1.0}, {\"year\": 1599.0, \"count_of_earthquakes\": 1.0}, {\"year\": 1600.0, \"count_of_earthquakes\": 4.0}, {\"year\": 1601.0, \"count_of_earthquakes\": 2.0}, {\"year\": 1602.0, \"count_of_earthquakes\": 1.0}, {\"year\": 1603.0, \"count_of_earthquakes\": 1.0}, {\"year\": 1604.0, \"count_of_earthquakes\": 5.0}, {\"year\": 1605.0, \"count_of_earthquakes\": 3.0}, {\"year\": 1606.0, \"count_of_earthquakes\": 1.0}, {\"year\": 1608.0, \"count_of_earthquakes\": 5.0}, {\"year\": 1609.0, \"count_of_earthquakes\": 3.0}, {\"year\": 1610.0, \"count_of_earthquakes\": 3.0}, {\"year\": 1611.0, \"count_of_earthquakes\": 6.0}, {\"year\": 1612.0, \"count_of_earthquakes\": 2.0}, {\"year\": 1613.0, \"count_of_earthquakes\": 3.0}, {\"year\": 1614.0, \"count_of_earthquakes\": 4.0}, {\"year\": 1615.0, \"count_of_earthquakes\": 4.0}, {\"year\": 1616.0, \"count_of_earthquakes\": 4.0}, {\"year\": 1618.0, \"count_of_earthquakes\": 5.0}, {\"year\": 1619.0, \"count_of_earthquakes\": 5.0}, {\"year\": 1620.0, \"count_of_earthquakes\": 2.0}, {\"year\": 1621.0, \"count_of_earthquakes\": 2.0}, {\"year\": 1622.0, \"count_of_earthquakes\": 5.0}, {\"year\": 1624.0, \"count_of_earthquakes\": 2.0}, {\"year\": 1625.0, \"count_of_earthquakes\": 1.0}, {\"year\": 1626.0, \"count_of_earthquakes\": 3.0}, {\"year\": 1627.0, \"count_of_earthquakes\": 4.0}, {\"year\": 1628.0, \"count_of_earthquakes\": 3.0}, {\"year\": 1629.0, \"count_of_earthquakes\": 3.0}, {\"year\": 1630.0, \"count_of_earthquakes\": 4.0}, {\"year\": 1631.0, \"count_of_earthquakes\": 5.0}, {\"year\": 1632.0, \"count_of_earthquakes\": 1.0}, {\"year\": 1633.0, \"count_of_earthquakes\": 4.0}, {\"year\": 1634.0, \"count_of_earthquakes\": 3.0}, {\"year\": 1636.0, \"count_of_earthquakes\": 4.0}, {\"year\": 1638.0, \"count_of_earthquakes\": 2.0}, {\"year\": 1639.0, \"count_of_earthquakes\": 4.0}, {\"year\": 1640.0, \"count_of_earthquakes\": 7.0}, {\"year\": 1641.0, \"count_of_earthquakes\": 6.0}, {\"year\": 1642.0, \"count_of_earthquakes\": 2.0}, {\"year\": 1643.0, \"count_of_earthquakes\": 1.0}, {\"year\": 1644.0, \"count_of_earthquakes\": 4.0}, {\"year\": 1645.0, \"count_of_earthquakes\": 3.0}, {\"year\": 1646.0, \"count_of_earthquakes\": 6.0}, {\"year\": 1647.0, \"count_of_earthquakes\": 3.0}, {\"year\": 1648.0, \"count_of_earthquakes\": 4.0}, {\"year\": 1649.0, \"count_of_earthquakes\": 3.0}, {\"year\": 1650.0, \"count_of_earthquakes\": 4.0}, {\"year\": 1651.0, \"count_of_earthquakes\": 1.0}, {\"year\": 1652.0, \"count_of_earthquakes\": 2.0}, {\"year\": 1653.0, \"count_of_earthquakes\": 2.0}, {\"year\": 1654.0, \"count_of_earthquakes\": 4.0}, {\"year\": 1655.0, \"count_of_earthquakes\": 2.0}, {\"year\": 1656.0, \"count_of_earthquakes\": 2.0}, {\"year\": 1657.0, \"count_of_earthquakes\": 6.0}, {\"year\": 1658.0, \"count_of_earthquakes\": 4.0}, {\"year\": 1659.0, \"count_of_earthquakes\": 4.0}, {\"year\": 1660.0, \"count_of_earthquakes\": 5.0}, {\"year\": 1661.0, \"count_of_earthquakes\": 2.0}, {\"year\": 1662.0, \"count_of_earthquakes\": 5.0}, {\"year\": 1663.0, \"count_of_earthquakes\": 2.0}, {\"year\": 1664.0, \"count_of_earthquakes\": 4.0}, {\"year\": 1665.0, \"count_of_earthquakes\": 3.0}, {\"year\": 1666.0, \"count_of_earthquakes\": 3.0}, {\"year\": 1667.0, \"count_of_earthquakes\": 8.0}, {\"year\": 1668.0, \"count_of_earthquakes\": 6.0}, {\"year\": 1669.0, \"count_of_earthquakes\": 3.0}, {\"year\": 1670.0, \"count_of_earthquakes\": 5.0}, {\"year\": 1671.0, \"count_of_earthquakes\": 2.0}, {\"year\": 1672.0, \"count_of_earthquakes\": 3.0}, {\"year\": 1673.0, \"count_of_earthquakes\": 5.0}, {\"year\": 1674.0, \"count_of_earthquakes\": 4.0}, {\"year\": 1675.0, \"count_of_earthquakes\": 1.0}, {\"year\": 1676.0, \"count_of_earthquakes\": 1.0}, {\"year\": 1677.0, \"count_of_earthquakes\": 5.0}, {\"year\": 1678.0, \"count_of_earthquakes\": 6.0}, {\"year\": 1679.0, \"count_of_earthquakes\": 4.0}, {\"year\": 1680.0, \"count_of_earthquakes\": 3.0}, {\"year\": 1681.0, \"count_of_earthquakes\": 3.0}, {\"year\": 1682.0, \"count_of_earthquakes\": 3.0}, {\"year\": 1683.0, \"count_of_earthquakes\": 3.0}, {\"year\": 1684.0, \"count_of_earthquakes\": 1.0}, {\"year\": 1687.0, \"count_of_earthquakes\": 5.0}, {\"year\": 1688.0, \"count_of_earthquakes\": 10.0}, {\"year\": 1689.0, \"count_of_earthquakes\": 2.0}, {\"year\": 1690.0, \"count_of_earthquakes\": 2.0}, {\"year\": 1691.0, \"count_of_earthquakes\": 1.0}, {\"year\": 1692.0, \"count_of_earthquakes\": 3.0}, {\"year\": 1693.0, \"count_of_earthquakes\": 2.0}, {\"year\": 1694.0, \"count_of_earthquakes\": 3.0}, {\"year\": 1695.0, \"count_of_earthquakes\": 3.0}, {\"year\": 1696.0, \"count_of_earthquakes\": 2.0}, {\"year\": 1697.0, \"count_of_earthquakes\": 1.0}, {\"year\": 1698.0, \"count_of_earthquakes\": 3.0}, {\"year\": 1699.0, \"count_of_earthquakes\": 3.0}, {\"year\": 1700.0, \"count_of_earthquakes\": 3.0}, {\"year\": 1701.0, \"count_of_earthquakes\": 2.0}, {\"year\": 1702.0, \"count_of_earthquakes\": 2.0}, {\"year\": 1703.0, \"count_of_earthquakes\": 6.0}, {\"year\": 1704.0, \"count_of_earthquakes\": 4.0}, {\"year\": 1705.0, \"count_of_earthquakes\": 1.0}, {\"year\": 1706.0, \"count_of_earthquakes\": 2.0}, {\"year\": 1707.0, \"count_of_earthquakes\": 5.0}, {\"year\": 1708.0, \"count_of_earthquakes\": 3.0}, {\"year\": 1709.0, \"count_of_earthquakes\": 1.0}, {\"year\": 1710.0, \"count_of_earthquakes\": 2.0}, {\"year\": 1711.0, \"count_of_earthquakes\": 5.0}, {\"year\": 1713.0, \"count_of_earthquakes\": 3.0}, {\"year\": 1714.0, \"count_of_earthquakes\": 5.0}, {\"year\": 1715.0, \"count_of_earthquakes\": 4.0}, {\"year\": 1716.0, \"count_of_earthquakes\": 7.0}, {\"year\": 1717.0, \"count_of_earthquakes\": 3.0}, {\"year\": 1718.0, \"count_of_earthquakes\": 1.0}, {\"year\": 1719.0, \"count_of_earthquakes\": 3.0}, {\"year\": 1720.0, \"count_of_earthquakes\": 6.0}, {\"year\": 1721.0, \"count_of_earthquakes\": 5.0}, {\"year\": 1722.0, \"count_of_earthquakes\": 3.0}, {\"year\": 1723.0, \"count_of_earthquakes\": 1.0}, {\"year\": 1725.0, \"count_of_earthquakes\": 6.0}, {\"year\": 1726.0, \"count_of_earthquakes\": 2.0}, {\"year\": 1727.0, \"count_of_earthquakes\": 5.0}, {\"year\": 1728.0, \"count_of_earthquakes\": 1.0}, {\"year\": 1729.0, \"count_of_earthquakes\": 1.0}, {\"year\": 1730.0, \"count_of_earthquakes\": 8.0}, {\"year\": 1731.0, \"count_of_earthquakes\": 4.0}, {\"year\": 1732.0, \"count_of_earthquakes\": 4.0}, {\"year\": 1733.0, \"count_of_earthquakes\": 2.0}, {\"year\": 1734.0, \"count_of_earthquakes\": 2.0}, {\"year\": 1735.0, \"count_of_earthquakes\": 2.0}, {\"year\": 1736.0, \"count_of_earthquakes\": 2.0}, {\"year\": 1737.0, \"count_of_earthquakes\": 5.0}, {\"year\": 1738.0, \"count_of_earthquakes\": 4.0}, {\"year\": 1739.0, \"count_of_earthquakes\": 6.0}, {\"year\": 1740.0, \"count_of_earthquakes\": 2.0}, {\"year\": 1741.0, \"count_of_earthquakes\": 2.0}, {\"year\": 1742.0, \"count_of_earthquakes\": 5.0}, {\"year\": 1743.0, \"count_of_earthquakes\": 4.0}, {\"year\": 1744.0, \"count_of_earthquakes\": 1.0}, {\"year\": 1746.0, \"count_of_earthquakes\": 2.0}, {\"year\": 1747.0, \"count_of_earthquakes\": 2.0}, {\"year\": 1748.0, \"count_of_earthquakes\": 6.0}, {\"year\": 1749.0, \"count_of_earthquakes\": 2.0}, {\"year\": 1750.0, \"count_of_earthquakes\": 8.0}, {\"year\": 1751.0, \"count_of_earthquakes\": 11.0}, {\"year\": 1752.0, \"count_of_earthquakes\": 4.0}, {\"year\": 1754.0, \"count_of_earthquakes\": 5.0}, {\"year\": 1755.0, \"count_of_earthquakes\": 11.0}, {\"year\": 1756.0, \"count_of_earthquakes\": 1.0}, {\"year\": 1757.0, \"count_of_earthquakes\": 8.0}, {\"year\": 1758.0, \"count_of_earthquakes\": 2.0}, {\"year\": 1759.0, \"count_of_earthquakes\": 6.0}, {\"year\": 1760.0, \"count_of_earthquakes\": 1.0}, {\"year\": 1761.0, \"count_of_earthquakes\": 4.0}, {\"year\": 1762.0, \"count_of_earthquakes\": 2.0}, {\"year\": 1763.0, \"count_of_earthquakes\": 6.0}, {\"year\": 1764.0, \"count_of_earthquakes\": 2.0}, {\"year\": 1765.0, \"count_of_earthquakes\": 3.0}, {\"year\": 1766.0, \"count_of_earthquakes\": 9.0}, {\"year\": 1767.0, \"count_of_earthquakes\": 5.0}, {\"year\": 1768.0, \"count_of_earthquakes\": 4.0}, {\"year\": 1769.0, \"count_of_earthquakes\": 6.0}, {\"year\": 1770.0, \"count_of_earthquakes\": 6.0}, {\"year\": 1771.0, \"count_of_earthquakes\": 3.0}, {\"year\": 1772.0, \"count_of_earthquakes\": 3.0}, {\"year\": 1773.0, \"count_of_earthquakes\": 3.0}, {\"year\": 1774.0, \"count_of_earthquakes\": 4.0}, {\"year\": 1775.0, \"count_of_earthquakes\": 6.0}, {\"year\": 1776.0, \"count_of_earthquakes\": 3.0}, {\"year\": 1777.0, \"count_of_earthquakes\": 2.0}, {\"year\": 1778.0, \"count_of_earthquakes\": 3.0}, {\"year\": 1779.0, \"count_of_earthquakes\": 1.0}, {\"year\": 1780.0, \"count_of_earthquakes\": 5.0}, {\"year\": 1781.0, \"count_of_earthquakes\": 3.0}, {\"year\": 1782.0, \"count_of_earthquakes\": 2.0}, {\"year\": 1783.0, \"count_of_earthquakes\": 10.0}, {\"year\": 1784.0, \"count_of_earthquakes\": 10.0}, {\"year\": 1785.0, \"count_of_earthquakes\": 3.0}, {\"year\": 1786.0, \"count_of_earthquakes\": 5.0}, {\"year\": 1787.0, \"count_of_earthquakes\": 7.0}, {\"year\": 1788.0, \"count_of_earthquakes\": 4.0}, {\"year\": 1789.0, \"count_of_earthquakes\": 3.0}, {\"year\": 1790.0, \"count_of_earthquakes\": 2.0}, {\"year\": 1791.0, \"count_of_earthquakes\": 9.0}, {\"year\": 1792.0, \"count_of_earthquakes\": 6.0}, {\"year\": 1793.0, \"count_of_earthquakes\": 5.0}, {\"year\": 1794.0, \"count_of_earthquakes\": 2.0}, {\"year\": 1795.0, \"count_of_earthquakes\": 3.0}, {\"year\": 1796.0, \"count_of_earthquakes\": 5.0}, {\"year\": 1797.0, \"count_of_earthquakes\": 3.0}, {\"year\": 1798.0, \"count_of_earthquakes\": 5.0}, {\"year\": 1799.0, \"count_of_earthquakes\": 8.0}, {\"year\": 1800.0, \"count_of_earthquakes\": 3.0}, {\"year\": 1801.0, \"count_of_earthquakes\": 2.0}, {\"year\": 1802.0, \"count_of_earthquakes\": 7.0}, {\"year\": 1803.0, \"count_of_earthquakes\": 2.0}, {\"year\": 1804.0, \"count_of_earthquakes\": 5.0}, {\"year\": 1805.0, \"count_of_earthquakes\": 4.0}, {\"year\": 1806.0, \"count_of_earthquakes\": 5.0}, {\"year\": 1808.0, \"count_of_earthquakes\": 6.0}, {\"year\": 1809.0, \"count_of_earthquakes\": 3.0}, {\"year\": 1810.0, \"count_of_earthquakes\": 5.0}, {\"year\": 1811.0, \"count_of_earthquakes\": 7.0}, {\"year\": 1812.0, \"count_of_earthquakes\": 11.0}, {\"year\": 1813.0, \"count_of_earthquakes\": 2.0}, {\"year\": 1814.0, \"count_of_earthquakes\": 5.0}, {\"year\": 1815.0, \"count_of_earthquakes\": 7.0}, {\"year\": 1816.0, \"count_of_earthquakes\": 4.0}, {\"year\": 1817.0, \"count_of_earthquakes\": 4.0}, {\"year\": 1818.0, \"count_of_earthquakes\": 8.0}, {\"year\": 1819.0, \"count_of_earthquakes\": 8.0}, {\"year\": 1820.0, \"count_of_earthquakes\": 10.0}, {\"year\": 1821.0, \"count_of_earthquakes\": 5.0}, {\"year\": 1822.0, \"count_of_earthquakes\": 7.0}, {\"year\": 1823.0, \"count_of_earthquakes\": 9.0}, {\"year\": 1824.0, \"count_of_earthquakes\": 7.0}, {\"year\": 1825.0, \"count_of_earthquakes\": 7.0}, {\"year\": 1826.0, \"count_of_earthquakes\": 4.0}, {\"year\": 1827.0, \"count_of_earthquakes\": 6.0}, {\"year\": 1828.0, \"count_of_earthquakes\": 8.0}, {\"year\": 1829.0, \"count_of_earthquakes\": 8.0}, {\"year\": 1830.0, \"count_of_earthquakes\": 9.0}, {\"year\": 1831.0, \"count_of_earthquakes\": 8.0}, {\"year\": 1832.0, \"count_of_earthquakes\": 3.0}, {\"year\": 1833.0, \"count_of_earthquakes\": 9.0}, {\"year\": 1834.0, \"count_of_earthquakes\": 14.0}, {\"year\": 1835.0, \"count_of_earthquakes\": 6.0}, {\"year\": 1836.0, \"count_of_earthquakes\": 6.0}, {\"year\": 1837.0, \"count_of_earthquakes\": 11.0}, {\"year\": 1838.0, \"count_of_earthquakes\": 5.0}, {\"year\": 1839.0, \"count_of_earthquakes\": 10.0}, {\"year\": 1840.0, \"count_of_earthquakes\": 8.0}, {\"year\": 1841.0, \"count_of_earthquakes\": 5.0}, {\"year\": 1842.0, \"count_of_earthquakes\": 8.0}, {\"year\": 1843.0, \"count_of_earthquakes\": 10.0}, {\"year\": 1844.0, \"count_of_earthquakes\": 9.0}, {\"year\": 1845.0, \"count_of_earthquakes\": 11.0}, {\"year\": 1846.0, \"count_of_earthquakes\": 8.0}, {\"year\": 1847.0, \"count_of_earthquakes\": 11.0}, {\"year\": 1848.0, \"count_of_earthquakes\": 8.0}, {\"year\": 1849.0, \"count_of_earthquakes\": 6.0}, {\"year\": 1850.0, \"count_of_earthquakes\": 3.0}, {\"year\": 1851.0, \"count_of_earthquakes\": 14.0}, {\"year\": 1852.0, \"count_of_earthquakes\": 19.0}, {\"year\": 1853.0, \"count_of_earthquakes\": 11.0}, {\"year\": 1854.0, \"count_of_earthquakes\": 21.0}, {\"year\": 1855.0, \"count_of_earthquakes\": 23.0}, {\"year\": 1856.0, \"count_of_earthquakes\": 13.0}, {\"year\": 1857.0, \"count_of_earthquakes\": 14.0}, {\"year\": 1858.0, \"count_of_earthquakes\": 16.0}, {\"year\": 1859.0, \"count_of_earthquakes\": 17.0}, {\"year\": 1860.0, \"count_of_earthquakes\": 5.0}, {\"year\": 1861.0, \"count_of_earthquakes\": 14.0}, {\"year\": 1862.0, \"count_of_earthquakes\": 11.0}, {\"year\": 1863.0, \"count_of_earthquakes\": 15.0}, {\"year\": 1864.0, \"count_of_earthquakes\": 7.0}, {\"year\": 1865.0, \"count_of_earthquakes\": 13.0}, {\"year\": 1866.0, \"count_of_earthquakes\": 10.0}, {\"year\": 1867.0, \"count_of_earthquakes\": 12.0}, {\"year\": 1868.0, \"count_of_earthquakes\": 25.0}, {\"year\": 1869.0, \"count_of_earthquakes\": 21.0}, {\"year\": 1870.0, \"count_of_earthquakes\": 16.0}, {\"year\": 1871.0, \"count_of_earthquakes\": 17.0}, {\"year\": 1872.0, \"count_of_earthquakes\": 18.0}, {\"year\": 1873.0, \"count_of_earthquakes\": 12.0}, {\"year\": 1874.0, \"count_of_earthquakes\": 10.0}, {\"year\": 1875.0, \"count_of_earthquakes\": 17.0}, {\"year\": 1876.0, \"count_of_earthquakes\": 4.0}, {\"year\": 1877.0, \"count_of_earthquakes\": 8.0}, {\"year\": 1878.0, \"count_of_earthquakes\": 22.0}, {\"year\": 1879.0, \"count_of_earthquakes\": 10.0}, {\"year\": 1880.0, \"count_of_earthquakes\": 18.0}, {\"year\": 1881.0, \"count_of_earthquakes\": 21.0}, {\"year\": 1882.0, \"count_of_earthquakes\": 10.0}, {\"year\": 1883.0, \"count_of_earthquakes\": 6.0}, {\"year\": 1884.0, \"count_of_earthquakes\": 10.0}, {\"year\": 1885.0, \"count_of_earthquakes\": 21.0}, {\"year\": 1886.0, \"count_of_earthquakes\": 4.0}, {\"year\": 1887.0, \"count_of_earthquakes\": 14.0}, {\"year\": 1888.0, \"count_of_earthquakes\": 12.0}, {\"year\": 1889.0, \"count_of_earthquakes\": 10.0}, {\"year\": 1890.0, \"count_of_earthquakes\": 5.0}, {\"year\": 1891.0, \"count_of_earthquakes\": 9.0}, {\"year\": 1892.0, \"count_of_earthquakes\": 13.0}, {\"year\": 1893.0, \"count_of_earthquakes\": 17.0}, {\"year\": 1894.0, \"count_of_earthquakes\": 15.0}, {\"year\": 1895.0, \"count_of_earthquakes\": 20.0}, {\"year\": 1896.0, \"count_of_earthquakes\": 18.0}, {\"year\": 1897.0, \"count_of_earthquakes\": 25.0}, {\"year\": 1898.0, \"count_of_earthquakes\": 14.0}, {\"year\": 1899.0, \"count_of_earthquakes\": 18.0}, {\"year\": 1900.0, \"count_of_earthquakes\": 17.0}, {\"year\": 1901.0, \"count_of_earthquakes\": 18.0}, {\"year\": 1902.0, \"count_of_earthquakes\": 23.0}, {\"year\": 1903.0, \"count_of_earthquakes\": 22.0}, {\"year\": 1904.0, \"count_of_earthquakes\": 18.0}, {\"year\": 1905.0, \"count_of_earthquakes\": 32.0}, {\"year\": 1906.0, \"count_of_earthquakes\": 32.0}, {\"year\": 1907.0, \"count_of_earthquakes\": 23.0}, {\"year\": 1908.0, \"count_of_earthquakes\": 13.0}, {\"year\": 1909.0, \"count_of_earthquakes\": 34.0}, {\"year\": 1910.0, \"count_of_earthquakes\": 22.0}, {\"year\": 1911.0, \"count_of_earthquakes\": 20.0}, {\"year\": 1912.0, \"count_of_earthquakes\": 16.0}, {\"year\": 1913.0, \"count_of_earthquakes\": 20.0}, {\"year\": 1914.0, \"count_of_earthquakes\": 21.0}, {\"year\": 1915.0, \"count_of_earthquakes\": 17.0}, {\"year\": 1916.0, \"count_of_earthquakes\": 24.0}, {\"year\": 1917.0, \"count_of_earthquakes\": 25.0}, {\"year\": 1918.0, \"count_of_earthquakes\": 19.0}, {\"year\": 1919.0, \"count_of_earthquakes\": 17.0}, {\"year\": 1920.0, \"count_of_earthquakes\": 12.0}, {\"year\": 1921.0, \"count_of_earthquakes\": 16.0}, {\"year\": 1922.0, \"count_of_earthquakes\": 23.0}, {\"year\": 1923.0, \"count_of_earthquakes\": 28.0}, {\"year\": 1924.0, \"count_of_earthquakes\": 18.0}, {\"year\": 1925.0, \"count_of_earthquakes\": 24.0}, {\"year\": 1926.0, \"count_of_earthquakes\": 23.0}, {\"year\": 1927.0, \"count_of_earthquakes\": 28.0}, {\"year\": 1928.0, \"count_of_earthquakes\": 33.0}, {\"year\": 1929.0, \"count_of_earthquakes\": 21.0}, {\"year\": 1930.0, \"count_of_earthquakes\": 34.0}, {\"year\": 1931.0, \"count_of_earthquakes\": 30.0}, {\"year\": 1932.0, \"count_of_earthquakes\": 25.0}, {\"year\": 1933.0, \"count_of_earthquakes\": 18.0}, {\"year\": 1934.0, \"count_of_earthquakes\": 19.0}, {\"year\": 1935.0, \"count_of_earthquakes\": 27.0}, {\"year\": 1936.0, \"count_of_earthquakes\": 20.0}, {\"year\": 1937.0, \"count_of_earthquakes\": 19.0}, {\"year\": 1938.0, \"count_of_earthquakes\": 27.0}, {\"year\": 1939.0, \"count_of_earthquakes\": 20.0}, {\"year\": 1940.0, \"count_of_earthquakes\": 16.0}, {\"year\": 1941.0, \"count_of_earthquakes\": 19.0}, {\"year\": 1942.0, \"count_of_earthquakes\": 18.0}, {\"year\": 1943.0, \"count_of_earthquakes\": 25.0}, {\"year\": 1944.0, \"count_of_earthquakes\": 14.0}, {\"year\": 1945.0, \"count_of_earthquakes\": 12.0}, {\"year\": 1946.0, \"count_of_earthquakes\": 20.0}, {\"year\": 1947.0, \"count_of_earthquakes\": 17.0}, {\"year\": 1948.0, \"count_of_earthquakes\": 20.0}, {\"year\": 1949.0, \"count_of_earthquakes\": 23.0}, {\"year\": 1950.0, \"count_of_earthquakes\": 27.0}, {\"year\": 1951.0, \"count_of_earthquakes\": 17.0}, {\"year\": 1952.0, \"count_of_earthquakes\": 19.0}, {\"year\": 1953.0, \"count_of_earthquakes\": 21.0}, {\"year\": 1954.0, \"count_of_earthquakes\": 23.0}, {\"year\": 1955.0, \"count_of_earthquakes\": 24.0}, {\"year\": 1956.0, \"count_of_earthquakes\": 26.0}, {\"year\": 1957.0, \"count_of_earthquakes\": 27.0}, {\"year\": 1958.0, \"count_of_earthquakes\": 22.0}, {\"year\": 1959.0, \"count_of_earthquakes\": 27.0}, {\"year\": 1960.0, \"count_of_earthquakes\": 22.0}, {\"year\": 1961.0, \"count_of_earthquakes\": 35.0}, {\"year\": 1962.0, \"count_of_earthquakes\": 34.0}, {\"year\": 1963.0, \"count_of_earthquakes\": 28.0}, {\"year\": 1964.0, \"count_of_earthquakes\": 20.0}, {\"year\": 1965.0, \"count_of_earthquakes\": 26.0}, {\"year\": 1966.0, \"count_of_earthquakes\": 33.0}, {\"year\": 1967.0, \"count_of_earthquakes\": 27.0}, {\"year\": 1968.0, \"count_of_earthquakes\": 40.0}, {\"year\": 1969.0, \"count_of_earthquakes\": 31.0}, {\"year\": 1970.0, \"count_of_earthquakes\": 31.0}, {\"year\": 1971.0, \"count_of_earthquakes\": 33.0}, {\"year\": 1972.0, \"count_of_earthquakes\": 26.0}, {\"year\": 1973.0, \"count_of_earthquakes\": 26.0}, {\"year\": 1974.0, \"count_of_earthquakes\": 21.0}, {\"year\": 1975.0, \"count_of_earthquakes\": 30.0}, {\"year\": 1976.0, \"count_of_earthquakes\": 35.0}, {\"year\": 1977.0, \"count_of_earthquakes\": 25.0}, {\"year\": 1978.0, \"count_of_earthquakes\": 34.0}, {\"year\": 1979.0, \"count_of_earthquakes\": 34.0}, {\"year\": 1980.0, \"count_of_earthquakes\": 33.0}, {\"year\": 1981.0, \"count_of_earthquakes\": 22.0}, {\"year\": 1982.0, \"count_of_earthquakes\": 25.0}, {\"year\": 1983.0, \"count_of_earthquakes\": 46.0}, {\"year\": 1984.0, \"count_of_earthquakes\": 28.0}, {\"year\": 1985.0, \"count_of_earthquakes\": 30.0}, {\"year\": 1986.0, \"count_of_earthquakes\": 33.0}, {\"year\": 1987.0, \"count_of_earthquakes\": 33.0}, {\"year\": 1988.0, \"count_of_earthquakes\": 30.0}, {\"year\": 1989.0, \"count_of_earthquakes\": 35.0}, {\"year\": 1990.0, \"count_of_earthquakes\": 51.0}, {\"year\": 1991.0, \"count_of_earthquakes\": 42.0}, {\"year\": 1992.0, \"count_of_earthquakes\": 27.0}, {\"year\": 1993.0, \"count_of_earthquakes\": 26.0}, {\"year\": 1994.0, \"count_of_earthquakes\": 33.0}, {\"year\": 1995.0, \"count_of_earthquakes\": 31.0}, {\"year\": 1996.0, \"count_of_earthquakes\": 19.0}, {\"year\": 1997.0, \"count_of_earthquakes\": 34.0}, {\"year\": 1998.0, \"count_of_earthquakes\": 31.0}, {\"year\": 1999.0, \"count_of_earthquakes\": 35.0}, {\"year\": 2000.0, \"count_of_earthquakes\": 37.0}, {\"year\": 2001.0, \"count_of_earthquakes\": 26.0}, {\"year\": 2002.0, \"count_of_earthquakes\": 60.0}, {\"year\": 2003.0, \"count_of_earthquakes\": 72.0}, {\"year\": 2004.0, \"count_of_earthquakes\": 78.0}, {\"year\": 2005.0, \"count_of_earthquakes\": 60.0}, {\"year\": 2006.0, \"count_of_earthquakes\": 63.0}, {\"year\": 2007.0, \"count_of_earthquakes\": 67.0}, {\"year\": 2008.0, \"count_of_earthquakes\": 77.0}, {\"year\": 2009.0, \"count_of_earthquakes\": 61.0}, {\"year\": 2010.0, \"count_of_earthquakes\": 62.0}, {\"year\": 2011.0, \"count_of_earthquakes\": 60.0}, {\"year\": 2012.0, \"count_of_earthquakes\": 50.0}, {\"year\": 2013.0, \"count_of_earthquakes\": 54.0}, {\"year\": 2014.0, \"count_of_earthquakes\": 55.0}, {\"year\": 2015.0, \"count_of_earthquakes\": 48.0}, {\"year\": 2016.0, \"count_of_earthquakes\": 52.0}, {\"year\": 2017.0, \"count_of_earthquakes\": 64.0}, {\"year\": 2018.0, \"count_of_earthquakes\": 66.0}, {\"year\": 2019.0, \"count_of_earthquakes\": 62.0}, {\"year\": 2020.0, \"count_of_earthquakes\": 29.0}, {\"year\": 2021.0, \"count_of_earthquakes\": 30.0}]}}, {\"mode\": \"vega-lite\"});\n",
       "</script>"
      ],
      "text/plain": [
       "alt.Chart(...)"
      ]
     },
     "metadata": {},
     "output_type": "display_data"
    },
    {
     "name": "stdout",
     "output_type": "stream",
     "text": [
      "\n",
      "\n"
     ]
    }
   ],
   "source": [
    "show_message(questions[3]['stateful_answer'][-2])"
   ]
  },
  {
   "cell_type": "markdown",
   "id": "94a77701",
   "metadata": {},
   "source": [
    "#### Conversation History\n",
    "\n",
    "This conversation is stateful, persisted by the service.  The history can be retrieved as shown here.  The history is retrieved in reverse chronological order: element 0 is the most recent, element -1 was the first.  The history include both `user_message` and `system_message` elements in order."
   ]
  },
  {
   "cell_type": "code",
   "execution_count": 80,
   "id": "450cee37",
   "metadata": {},
   "outputs": [],
   "source": [
    "history = conversation_client.list_messages(parent = conversation_response.name)"
   ]
  },
  {
   "cell_type": "code",
   "execution_count": 81,
   "id": "7fe15b9a",
   "metadata": {},
   "outputs": [],
   "source": [
    "history = list(history)"
   ]
  },
  {
   "cell_type": "code",
   "execution_count": 82,
   "id": "da225ab2",
   "metadata": {},
   "outputs": [
    {
     "data": {
      "text/plain": [
       "43"
      ]
     },
     "execution_count": 82,
     "metadata": {},
     "output_type": "execute_result"
    }
   ],
   "source": [
    "len(history)"
   ]
  },
  {
   "cell_type": "code",
   "execution_count": 83,
   "id": "115e7bba",
   "metadata": {},
   "outputs": [
    {
     "data": {
      "text/plain": [
       "message_id: \"db4698af-f092-404f-a8dd-3b1f4cb1a25a\"\n",
       "message {\n",
       "  timestamp {\n",
       "    seconds: 1757261416\n",
       "    nanos: 777000000\n",
       "  }\n",
       "  user_message {\n",
       "    text: \"How many earthquakes happen per year on average?\"\n",
       "  }\n",
       "}"
      ]
     },
     "execution_count": 83,
     "metadata": {},
     "output_type": "execute_result"
    }
   ],
   "source": [
    "history[-1]"
   ]
  },
  {
   "cell_type": "code",
   "execution_count": 84,
   "id": "a843b04a",
   "metadata": {},
   "outputs": [
    {
     "data": {
      "text/plain": [
       "message_id: \"7b63bf21-5874-4767-8718-f7c1b64ce4c7\"\n",
       "message {\n",
       "  timestamp {\n",
       "    seconds: 1757261538\n",
       "    nanos: 390000000\n",
       "  }\n",
       "  system_message {\n",
       "    text {\n",
       "      parts: \"Here is a line chart showing the count of earthquakes per year:\\n\\n```json\\n{\\\"data\\\": {\\\"values\\\": [{\\\"count_of_earthquakes\\\": 1, \\\"year\\\": -2150}, {\\\"count_of_earthquakes\\\": 2, \\\"year\\\": -2000}, {\\\"count_of_earthquakes\\\": 1, \\\"year\\\": -1610}, {\\\"count_of_earthquakes\\\": 1, \\\"year\\\": -1566}, {\\\"count_of_earthquakes\\\": 1, \\\"year\\\": -1450}, {\\\"count_of_earthquakes\\\": 1, \\\"year\\\": -1365}, {\\\"count_of_earthquakes\\\": 1, \\\"year\\\": -1250}, {\\\"count_of_earthquakes\\\": 1, \\\"year\\\": -1050}, {\\\"count_of_earthquakes\\\": 1, \\\"year\\\": -759}, {\\\"count_of_earthquakes\\\": 1, \\\"year\\\": -590}, {\\\"count_of_earthquakes\\\": 1, \\\"year\\\": -550}, {\\\"count_of_earthquakes\\\": 1, \\\"year\\\": -525}, {\\\"count_of_earthquakes\\\": 1, \\\"year\\\": -480}, {\\\"count_of_earthquakes\\\": 1, \\\"year\\\": -479}, {\\\"count_of_earthquakes\\\": 1, \\\"year\\\": -432}, {\\\"count_of_earthquakes\\\": 1, \\\"year\\\": -426}, {\\\"count_of_earthquakes\\\": 1, \\\"year\\\": -400}, {\\\"count_of_earthquakes\\\": 1, \\\"year\\\": -373}, {\\\"count_of_earthquakes\\\": 1, \\\"year\\\": -364}, {\\\"count_of_earthquakes\\\": 1, \\\"year\\\": -330}, {\\\"count_of_earthquakes\\\": 1, \\\"year\\\": -326}, {\\\"count_of_earthquakes\\\": 2, \\\"year\\\": -282}, {\\\"count_of_earthquakes\\\": 1, \\\"year\\\": -250}, {\\\"count_of_earthquakes\\\": 1, \\\"year\\\": -241}, {\\\"count_of_earthquakes\\\": 1, \\\"year\\\": -227}, {\\\"count_of_earthquakes\\\": 1, \\\"year\\\": -223}, {\\\"count_of_earthquakes\\\": 1, \\\"year\\\": -221}, {\\\"count_of_earthquakes\\\": 1, \\\"year\\\": -217}, {\\\"count_of_earthquakes\\\": 1, \\\"year\\\": -216}, {\\\"count_of_earthquakes\\\": 1, \\\"year\\\": -210}, {\\\"count_of_earthquakes\\\": 1, \\\"year\\\": -198}, {\\\"count_of_earthquakes\\\": 1, \\\"year\\\": -193}, {\\\"count_of_earthquakes\\\": 1, \\\"year\\\": -186}, {\\\"count_of_earthquakes\\\": 1, \\\"year\\\": -177}, {\\\"count_of_earthquakes\\\": 1, \\\"year\\\": -70}, {\\\"count_of_earthquakes\\\": 1, \\\"year\\\": -63}, {\\\"count_of_earthquakes\\\": 1, \\\"year\\\": -60}, {\\\"count_of_earthquakes\\\": 1, \\\"year\\\": -58}, {\\\"count_of_earthquakes\\\": 2, \\\"year\\\": -50}, {\\\"count_of_earthquakes\\\": 1, \\\"year\\\": -47}, {\\\"count_of_earthquakes\\\": 1, \\\"year\\\": -33}, {\\\"count_of_earthquakes\\\": 1, \\\"year\\\": -31}, {\\\"count_of_earthquakes\\\": 1, \\\"year\\\": -27}, {\\\"count_of_earthquakes\\\": 2, \\\"year\\\": -26}, {\\\"count_of_earthquakes\\\": 1, \\\"year\\\": -15}, {\\\"count_of_earthquakes\\\": 1, \\\"year\\\": 10}, {\\\"count_of_earthquakes\\\": 1, \\\"year\\\": 11}, {\\\"count_of_earthquakes\\\": 1, \\\"year\\\": 17}, {\\\"count_of_earthquakes\\\": 1, \\\"year\\\": 23}, {\\\"count_of_earthquakes\\\": 1, \\\"year\\\": 25}, {\\\"count_of_earthquakes\\\": 1, \\\"year\\\": 27}, {\\\"count_of_earthquakes\\\": 1, \\\"year\\\": 29}, {\\\"count_of_earthquakes\\\": 1, \\\"year\\\": 33}, {\\\"count_of_earthquakes\\\": 1, \\\"year\\\": 37}, {\\\"count_of_earthquakes\\\": 1, \\\"year\\\": 46}, {\\\"count_of_earthquakes\\\": 1, \\\"year\\\": 50}, {\\\"count_of_earthquakes\\\": 2, \\\"year\\\": 52}, {\\\"count_of_earthquakes\\\": 1, \\\"year\\\": 55}, {\\\"count_of_earthquakes\\\": 1, \\\"year\\\": 57}, {\\\"count_of_earthquakes\\\": 1, \\\"year\\\": 60}, {\\\"count_of_earthquakes\\\": 1, \\\"year\\\": 62}, {\\\"count_of_earthquakes\\\": 1, \\\"year\\\": 63}, {\\\"count_of_earthquakes\\\": 1, \\\"year\\\": 68}, {\\\"count_of_earthquakes\\\": 1, \\\"year\\\": 76}, {\\\"count_of_earthquakes\\\": 1, \\\"year\\\": 79}, {\\\"count_of_earthquakes\\\": 1, \\\"year\\\": 89}, {\\\"count_of_earthquakes\\\": 1, \\\"year\\\": 93}, {\\\"count_of_earthquakes\\\": 1, \\\"year\\\": 100}, {\\\"count_of_earthquakes\\\": 1, \\\"year\\\": 103}, {\\\"count_of_earthquakes\\\": 1, \\\"year\\\": 105}, {\\\"count_of_earthquakes\\\": 1, \\\"year\\\": 109}, {\\\"count_of_earthquakes\\\": 1, \\\"year\\\": 115}, {\\\"count_of_earthquakes\\\": 1, \\\"year\\\": 120}, {\\\"count_of_earthquakes\\\": 1, \\\"year\\\": 123}, {\\\"count_of_earthquakes\\\": 1, \\\"year\\\": 128}, {\\\"count_of_earthquakes\\\": 1, \\\"year\\\": 138}, {\\\"count_of_earthquakes\\\": 1, \\\"year\\\": 142}, {\\\"count_of_earthquakes\\\": 1, \\\"year\\\": 143}, {\\\"count_of_earthquakes\\\": 1, \\\"year\\\": 155}, {\\\"count_of_earthquakes\\\": 1, \\\"year\\\": 170}, {\\\"count_of_earthquakes\\\": 1, \\\"year\\\": 173}, {\\\"count_of_earthquakes\\\": 2, \\\"year\\\": 177}, {\\\"count_of_earthquakes\\\": 1, \\\"year\\\": 180}, {\\\"count_of_earthquakes\\\": 1, \\\"year\\\": 243}, {\\\"count_of_earthquakes\\\": 1, \\\"year\\\": 251}, {\\\"count_of_earthquakes\\\": 1, \\\"year\\\": 253}, {\\\"count_of_earthquakes\\\": 1, \\\"year\\\": 258}, {\\\"count_of_earthquakes\\\": 1, \\\"year\\\": 262}, {\\\"count_of_earthquakes\\\": 2, \\\"year\\\": 294}, {\\\"count_of_earthquakes\\\": 1, \\\"year\\\": 304}, {\\\"count_of_earthquakes\\\": 1, \\\"year\\\": 306}, {\\\"count_of_earthquakes\\\": 1, \\\"year\\\": 315}, {\\\"count_of_earthquakes\\\": 1, \\\"year\\\": 319}, {\\\"count_of_earthquakes\\\": 1, \\\"year\\\": 324}, {\\\"count_of_earthquakes\\\": 1, \\\"year\\\": 334}, {\\\"count_of_earthquakes\\\": 1, \\\"year\\\": 340}, {\\\"count_of_earthquakes\\\": 1, \\\"year\\\": 341}, {\\\"count_of_earthquakes\\\": 2, \\\"year\\\": 342}, {\\\"count_of_earthquakes\\\": 3, \\\"year\\\": 344}, {\\\"count_of_earthquakes\\\": 1, \\\"year\\\": 346}, {\\\"count_of_earthquakes\\\": 1, \\\"year\\\": 348}, {\\\"count_of_earthquakes\\\": 1, \\\"year\\\": 350}, {\\\"count_of_earthquakes\\\": 1, \\\"year\\\": 355}, {\\\"count_of_earthquakes\\\": 1, \\\"year\\\": 358}, {\\\"count_of_earthquakes\\\": 1, \\\"year\\\": 361}, {\\\"count_of_earthquakes\\\": 2, \\\"year\\\": 362}, {\\\"count_of_earthquakes\\\": 1, \\\"year\\\": 365}, {\\\"count_of_earthquakes\\\": 1, \\\"year\\\": 367}, {\\\"count_of_earthquakes\\\": 2, \\\"year\\\": 368}, {\\\"count_of_earthquakes\\\": 1, \\\"year\\\": 369}, {\\\"count_of_earthquakes\\\": 1, \\\"year\\\": 382}, {\\\"count_of_earthquakes\\\": 1, \\\"year\\\": 394}, {\\\"count_of_earthquakes\\\": 1, \\\"year\\\": 396}, {\\\"count_of_earthquakes\\\": 1, \\\"year\\\": 407}, {\\\"count_of_earthquakes\\\": 1, \\\"year\\\": 412}, {\\\"count_of_earthquakes\\\": 1, \\\"year\\\": 419}, {\\\"count_of_earthquakes\\\": 1, \\\"year\\\": 425}, {\\\"count_of_earthquakes\\\": 1, \\\"year\\\": 427}, {\\\"count_of_earthquakes\\\": 1, \\\"year\\\": 438}, {\\\"count_of_earthquakes\\\": 1, \\\"year\\\": 440}, {\\\"count_of_earthquakes\\\": 1, \\\"year\\\": 447}, {\\\"count_of_earthquakes\\\": 1, \\\"year\\\": 448}, {\\\"count_of_earthquakes\\\": 1, \\\"year\\\": 450}, {\\\"count_of_earthquakes\\\": 1, \\\"year\\\": 457}, {\\\"count_of_earthquakes\\\": 1, \\\"year\\\": 458}, {\\\"count_of_earthquakes\\\": 1, \\\"year\\\": 460}, {\\\"count_of_earthquakes\\\": 1, \\\"year\\\": 470}, {\\\"count_of_earthquakes\\\": 1, \\\"year\\\": 477}, {\\\"count_of_earthquakes\\\": 1, \\\"year\\\": 478}, {\\\"count_of_earthquakes\\\": 1, \\\"year\\\": 494}, {\\\"count_of_earthquakes\\\": 1, \\\"year\\\": 499}, {\\\"count_of_earthquakes\\\": 1, \\\"year\\\": 500}, {\\\"count_of_earthquakes\\\": 1, \\\"year\\\": 501}, {\\\"count_of_earthquakes\\\": 1, \\\"year\\\": 510}, {\\\"count_of_earthquakes\\\": 1, \\\"year\\\": 512}, {\\\"count_of_earthquakes\\\": 1, \\\"year\\\": 518}, {\\\"count_of_earthquakes\\\": 1, \\\"year\\\": 521}, {\\\"count_of_earthquakes\\\": 2, \\\"year\\\": 522}, {\\\"count_of_earthquakes\\\": 1, \\\"year\\\": 525}, {\\\"count_of_earthquakes\\\": 1, \\\"year\\\": 527}, {\\\"count_of_earthquakes\\\": 1, \\\"year\\\": 528}, {\\\"count_of_earthquakes\\\": 1, \\\"year\\\": 533}, {\\\"count_of_earthquakes\\\": 1, \\\"year\\\": 543}, {\\\"count_of_earthquakes\\\": 3, \\\"year\\\": 551}, {\\\"count_of_earthquakes\\\": 1, \\\"year\\\": 552}, {\\\"count_of_earthquakes\\\": 1, \\\"year\\\": 553}, {\\\"count_of_earthquakes\\\": 1, \\\"year\\\": 554}, {\\\"count_of_earthquakes\\\": 1, \\\"year\\\": 555}, {\\\"count_of_earthquakes\\\": 3, \\\"year\\\": 557}, {\\\"count_of_earthquakes\\\": 2, \\\"year\\\": 558}, {\\\"count_of_earthquakes\\\": 1, \\\"year\\\": 565}, {\\\"count_of_earthquakes\\\": 1, \\\"year\\\": 567}, {\\\"count_of_earthquakes\\\": 1, \\\"year\\\": 579}, {\\\"count_of_earthquakes\\\": 1, \\\"year\\\": 581}, {\\\"count_of_earthquakes\\\": 1, \\\"year\\\": 587}, {\\\"count_of_earthquakes\\\": 1, \\\"year\\\": 600}, {\\\"count_of_earthquakes\\\": 1, \\\"year\\\": 614}, {\\\"count_of_earthquakes\\\": 1, \\\"year\\\": 634}, {\\\"count_of_earthquakes\\\": 1, \\\"year\\\": 649}, {\\\"count_of_earthquakes\\\": 1, \\\"year\\\": 662}, {\\\"count_of_earthquakes\\\": 1, \\\"year\\\": 664}, {\\\"count_of_earthquakes\\\": 1, \\\"year\\\": 678}, {\\\"count_of_earthquakes\\\": 1, \\\"year\\\": 684}, {\\\"count_of_earthquakes\\\": 1, \\\"year\\\": 688}, {\\\"count_of_earthquakes\\\": 1, \\\"year\\\": 701}, {\\\"count_of_earthquakes\\\": 1, \\\"year\\\": 704}, {\\\"count_of_earthquakes\\\": 1, \\\"year\\\": 713}, {\\\"count_of_earthquakes\\\": 1, \\\"year\\\": 715}, {\\\"count_of_earthquakes\\\": 1, \\\"year\\\": 716}, {\\\"count_of_earthquakes\\\": 1, \\\"year\\\": 734}, {\\\"count_of_earthquakes\\\": 1, \\\"year\\\": 735}, {\\\"count_of_earthquakes\\\": 1, \\\"year\\\": 740}, {\\\"count_of_earthquakes\\\": 1, \\\"year\\\": 742}, {\\\"count_of_earthquakes\\\": 2, \\\"year\\\": 743}, {\\\"count_of_earthquakes\\\": 1, \\\"year\\\": 744}, {\\\"count_of_earthquakes\\\": 2, \\\"year\\\": 745}, {\\\"count_of_earthquakes\\\": 1, \\\"year\\\": 746}, {\\\"count_of_earthquakes\\\": 1, \\\"year\\\": 748}, {\\\"count_of_earthquakes\\\": 1, \\\"year\\\": 749}, {\\\"count_of_earthquakes\\\": 1, \\\"year\\\": 758}, {\\\"count_of_earthquakes\\\": 1, \\\"year\\\": 763}, {\\\"count_of_earthquakes\\\": 1, \\\"year\\\": 766}, {\\\"count_of_earthquakes\\\": 1, \\\"year\\\": 777}, {\\\"count_of_earthquakes\\\": 2, \\\"year\\\": 778}, {\\\"count_of_earthquakes\\\": 1, \\\"year\\\": 780}, {\\\"count_of_earthquakes\\\": 1, \\\"year\\\": 788}, {\\\"count_of_earthquakes\\\": 1, \\\"year\\\": 793}, {\\\"count_of_earthquakes\\\": 1, \\\"year\\\": 796}, {\\\"count_of_earthquakes\\\": 1, \\\"year\\\": 801}, {\\\"count_of_earthquakes\\\": 1, \\\"year\\\": 802}, {\\\"count_of_earthquakes\\\": 1, \\\"year\\\": 803}, {\\\"count_of_earthquakes\\\": 1, \\\"year\\\": 811}, {\\\"count_of_earthquakes\\\": 1, \\\"year\\\": 814}, {\\\"count_of_earthquakes\\\": 2, \\\"year\\\": 818}, {\\\"count_of_earthquakes\\\": 1, \\\"year\\\": 820}, {\\\"count_of_earthquakes\\\": 1, \\\"year\\\": 835}, {\\\"count_of_earthquakes\\\": 1, \\\"year\\\": 838}, {\\\"count_of_earthquakes\\\": 1, \\\"year\\\": 842}, {\\\"count_of_earthquakes\\\": 1, \\\"year\\\": 844}, {\\\"count_of_earthquakes\\\": 1, \\\"year\\\": 845}, {\\\"count_of_earthquakes\\\": 1, \\\"year\\\": 846}, {\\\"count_of_earthquakes\\\": 3, \\\"year\\\": 847}, {\\\"count_of_earthquakes\\\": 2, \\\"year\\\": 850}, {\\\"count_of_earthquakes\\\": 1, \\\"year\\\": 851}, {\\\"count_of_earthquakes\\\": 1, \\\"year\\\": 853}, {\\\"count_of_earthquakes\\\": 3, \\\"year\\\": 854}, {\\\"count_of_earthquakes\\\": 1, \\\"year\\\": 855}, {\\\"count_of_earthquakes\\\": 4, \\\"year\\\": 856}, {\\\"count_of_earthquakes\\\": 1, \\\"year\\\": 857}, {\\\"count_of_earthquakes\\\": 2, \\\"year\\\": 858}, {\\\"count_of_earthquakes\\\": 1, \\\"year\\\": 859}, {\\\"count_of_earthquakes\\\": 1, \\\"year\\\": 860}, {\\\"count_of_earthquakes\\\": 4, \\\"year\\\": 863}, {\\\"count_of_earthquakes\\\": 1, \\\"year\\\": 864}, {\\\"count_of_earthquakes\\\": 1, \\\"year\\\": 867}, {\\\"count_of_earthquakes\\\": 1, \\\"year\\\": 869}, {\\\"count_of_earthquakes\\\": 1, \\\"year\\\": 871}, {\\\"count_of_earthquakes\\\": 1, \\\"year\\\": 876}, {\\\"count_of_earthquakes\\\": 1, \\\"year\\\": 881}, {\\\"count_of_earthquakes\\\": 1, \\\"year\\\": 885}, {\\\"count_of_earthquakes\\\": 2, \\\"year\\\": 887}, {\\\"count_of_earthquakes\\\": 1, \\\"year\\\": 891}, {\\\"count_of_earthquakes\\\": 1, \\\"year\\\": 893}, {\\\"count_of_earthquakes\\\": 1, \\\"year\\\": 894}, {\\\"count_of_earthquakes\\\": 2, \\\"year\\\": 896}, {\\\"count_of_earthquakes\\\": 1, \\\"year\\\": 898}, {\\\"count_of_earthquakes\\\": 1, \\\"year\\\": 910}, {\\\"count_of_earthquakes\\\": 1, \\\"year\\\": 912}, {\\\"count_of_earthquakes\\\": 1, \\\"year\\\": 922}, {\\\"count_of_earthquakes\\\": 2, \\\"year\\\": 942}, {\\\"count_of_earthquakes\\\": 1, \\\"year\\\": 943}, {\\\"count_of_earthquakes\\\": 1, \\\"year\\\": 951}, {\\\"count_of_earthquakes\\\": 1, \\\"year\\\": 953}, {\\\"count_of_earthquakes\\\": 1, \\\"year\\\": 956}, {\\\"count_of_earthquakes\\\": 2, \\\"year\\\": 957}, {\\\"count_of_earthquakes\\\": 2, \\\"year\\\": 958}, {\\\"count_of_earthquakes\\\": 1, \\\"year\\\": 963}, {\\\"count_of_earthquakes\\\": 1, \\\"year\\\": 972}, {\\\"count_of_earthquakes\\\": 1, \\\"year\\\": 977}, {\\\"count_of_earthquakes\\\": 1, \\\"year\\\": 978}, {\\\"count_of_earthquakes\\\": 1, \\\"year\\\": 985}, {\\\"count_of_earthquakes\\\": 1, \\\"year\\\": 986}, {\\\"count_of_earthquakes\\\": 1, \\\"year\\\": 990}, {\\\"count_of_earthquakes\\\": 1, \\\"year\\\": 991}, {\\\"count_of_earthquakes\\\": 2, \\\"year\\\": 999}, {\\\"count_of_earthquakes\\\": 2, \\\"year\\\": 1000}, {\\\"count_of_earthquakes\\\": 2, \\\"year\\\": 1001}, {\\\"count_of_earthquakes\\\": 2, \\\"year\\\": 1003}, {\\\"count_of_earthquakes\\\": 1, \\\"year\\\": 1007}, {\\\"count_of_earthquakes\\\": 1, \\\"year\\\": 1008}, {\\\"count_of_earthquakes\\\": 1, \\\"year\\\": 1010}, {\\\"count_of_earthquakes\\\": 1, \\\"year\\\": 1013}, {\\\"count_of_earthquakes\\\": 1, \\\"year\\\": 1021}, {\\\"count_of_earthquakes\\\": 1, \\\"year\\\": 1022}, {\\\"count_of_earthquakes\\\": 1, \\\"year\\\": 1026}, {\\\"count_of_earthquakes\\\": 1, \\\"year\\\": 1033}, {\\\"count_of_earthquakes\\\": 1, \\\"year\\\": 1036}, {\\\"count_of_earthquakes\\\": 1, \\\"year\\\": 1037}, {\\\"count_of_earthquakes\\\": 1, \\\"year\\\": 1038}, {\\\"count_of_earthquakes\\\": 1, \\\"year\\\": 1039}, {\\\"count_of_earthquakes\\\": 1, \\\"year\\\": 1040}, {\\\"count_of_earthquakes\\\": 2, \\\"year\\\": 1042}, {\\\"count_of_earthquakes\\\": 1, \\\"year\\\": 1045}, {\\\"count_of_earthquakes\\\": 1, \\\"year\\\": 1046}, {\\\"count_of_earthquakes\\\": 1, \\\"year\\\": 1048}, {\\\"count_of_earthquakes\\\": 2, \\\"year\\\": 1052}, {\\\"count_of_earthquakes\\\": 1, \\\"year\\\": 1057}, {\\\"count_of_earthquakes\\\": 1, \\\"year\\\": 1058}, {\\\"count_of_earthquakes\\\": 2, \\\"year\\\": 1063}, {\\\"count_of_earthquakes\\\": 1, \\\"year\\\": 1064}, {\\\"count_of_earthquakes\\\": 2, \\\"year\\\": 1065}, {\\\"count_of_earthquakes\\\": 1, \\\"year\\\": 1066}, {\\\"count_of_earthquakes\\\": 1, \\\"year\\\": 1067}, {\\\"count_of_earthquakes\\\": 2, \\\"year\\\": 1068}, {\\\"count_of_earthquakes\\\": 1, \\\"year\\\": 1070}, {\\\"count_of_earthquakes\\\": 1, \\\"year\\\": 1072}, {\\\"count_of_earthquakes\\\": 1, \\\"year\\\": 1076}, {\\\"count_of_earthquakes\\\": 1, \\\"year\\\": 1082}, {\\\"count_of_earthquakes\\\": 2, \\\"year\\\": 1085}, {\\\"count_of_earthquakes\\\": 2, \\\"year\\\": 1086}, {\\\"count_of_earthquakes\\\": 2, \\\"year\\\": 1088}, {\\\"count_of_earthquakes\\\": 1, \\\"year\\\": 1089}, {\\\"count_of_earthquakes\\\": 1, \\\"year\\\": 1091}, {\\\"count_of_earthquakes\\\": 1, \\\"year\\\": 1096}, {\\\"count_of_earthquakes\\\": 1, \\\"year\\\": 1099}, {\\\"count_of_earthquakes\\\": 1, \\\"year\\\": 1101}, {\\\"count_of_earthquakes\\\": 2, \\\"year\\\": 1102}, {\\\"count_of_earthquakes\\\": 1, \\\"year\\\": 1106}, {\\\"count_of_earthquakes\\\": 1, \\\"year\\\": 1109}, {\\\"count_of_earthquakes\\\": 1, \\\"year\\\": 1111}, {\\\"count_of_earthquakes\\\": 3, \\\"year\\\": 1114}, {\\\"count_of_earthquakes\\\": 3, \\\"year\\\": 1115}, {\\\"count_of_earthquakes\\\": 2, \\\"year\\\": 1117}, {\\\"count_of_earthquakes\\\": 1, \\\"year\\\": 1118}, {\\\"count_of_earthquakes\\\": 1, \\\"year\\\": 1119}, {\\\"count_of_earthquakes\\\": 2, \\\"year\\\": 1125}, {\\\"count_of_earthquakes\\\": 2, \\\"year\\\": 1130}, {\\\"count_of_earthquakes\\\": 2, \\\"year\\\": 1137}, {\\\"count_of_earthquakes\\\": 1, \\\"year\\\": 1139}, {\\\"count_of_earthquakes\\\": 1, \\\"year\\\": 1143}, {\\\"count_of_earthquakes\\\": 1, \\\"year\\\": 1149}, {\\\"count_of_earthquakes\\\": 2, \\\"year\\\": 1151}, {\\\"count_of_earthquakes\\\": 1, \\\"year\\\": 1153}, {\\\"count_of_earthquakes\\\": 2, \\\"year\\\": 1155}, {\\\"count_of_earthquakes\\\": 1, \\\"year\\\": 1156}, {\\\"count_of_earthquakes\\\": 1, \\\"year\\\": 1157}, {\\\"count_of_earthquakes\\\": 1, \\\"year\\\": 1158}, {\\\"count_of_earthquakes\\\": 1, \\\"year\\\": 1160}, {\\\"count_of_earthquakes\\\": 1, \\\"year\\\": 1164}, {\\\"count_of_earthquakes\\\": 2, \\\"year\\\": 1169}, {\\\"count_of_earthquakes\\\": 1, \\\"year\\\": 1171}, {\\\"count_of_earthquakes\\\": 1, \\\"year\\\": 1172}, {\\\"count_of_earthquakes\\\": 2, \\\"year\\\": 1175}, {\\\"count_of_earthquakes\\\": 1, \\\"year\\\": 1176}, {\\\"count_of_earthquakes\\\": 1, \\\"year\\\": 1179}, {\\\"count_of_earthquakes\\\": 1, \\\"year\\\": 1180}, {\\\"count_of_earthquakes\\\": 2, \\\"year\\\": 1182}, {\\\"count_of_earthquakes\\\": 1, \\\"year\\\": 1183}, {\\\"count_of_earthquakes\\\": 1, \\\"year\\\": 1184}, {\\\"count_of_earthquakes\\\": 1, \\\"year\\\": 1201}, {\\\"count_of_earthquakes\\\": 2, \\\"year\\\": 1202}, {\\\"count_of_earthquakes\\\": 2, \\\"year\\\": 1208}, {\\\"count_of_earthquakes\\\": 2, \\\"year\\\": 1209}, {\\\"count_of_earthquakes\\\": 1, \\\"year\\\": 1211}, {\\\"count_of_earthquakes\\\": 1, \\\"year\\\": 1219}, {\\\"count_of_earthquakes\\\": 2, \\\"year\\\": 1222}, {\\\"count_of_earthquakes\\\": 1, \\\"year\\\": 1223}, {\\\"count_of_earthquakes\\\": 2, \\\"year\\\": 1227}, {\\\"count_of_earthquakes\\\": 2, \\\"year\\\": 1231}, {\\\"count_of_earthquakes\\\": 1, \\\"year\\\": 1233}, {\\\"count_of_earthquakes\\\": 3, \\\"year\\\": 1237}, {\\\"count_of_earthquakes\\\": 1, \\\"year\\\": 1241}, {\\\"count_of_earthquakes\\\": 1, \\\"year\\\": 1248}, {\\\"count_of_earthquakes\\\": 1, \\\"year\\\": 1255}, {\\\"count_of_earthquakes\\\": 2, \\\"year\\\": 1257}, {\\\"count_of_earthquakes\\\": 1, \\\"year\\\": 1259}, {\\\"count_of_earthquakes\\\": 1, \\\"year\\\": 1267}, {\\\"count_of_earthquakes\\\": 1, \\\"year\\\": 1268}, {\\\"count_of_earthquakes\\\": 1, \\\"year\\\": 1269}, {\\\"count_of_earthquakes\\\": 1, \\\"year\\\": 1272}, {\\\"count_of_earthquakes\\\": 2, \\\"year\\\": 1273}, {\\\"count_of_earthquakes\\\": 1, \\\"year\\\": 1275}, {\\\"count_of_earthquakes\\\": 1, \\\"year\\\": 1276}, {\\\"count_of_earthquakes\\\": 1, \\\"year\\\": 1277}, {\\\"count_of_earthquakes\\\": 1, \\\"year\\\": 1279}, {\\\"count_of_earthquakes\\\": 3, \\\"year\\\": 1280}, {\\\"count_of_earthquakes\\\": 1, \\\"year\\\": 1281}, {\\\"count_of_earthquakes\\\": 1, \\\"year\\\": 1283}, {\\\"count_of_earthquakes\\\": 1, \\\"year\\\": 1284}, {\\\"count_of_earthquakes\\\": 1, \\\"year\\\": 1286}, {\\\"count_of_earthquakes\\\": 2, \\\"year\\\": 1289}, {\\\"count_of_earthquakes\\\": 1, \\\"year\\\": 1290}, {\\\"count_of_earthquakes\\\": 2, \\\"year\\\": 1291}, {\\\"count_of_earthquakes\\\": 2, \\\"year\\\": 1293}, {\\\"count_of_earthquakes\\\": 2, \\\"year\\\": 1295}, {\\\"count_of_earthquakes\\\": 1, \\\"year\\\": 1298}, {\\\"count_of_earthquakes\\\": 3, \\\"year\\\": 1300}, {\\\"count_of_earthquakes\\\": 1, \\\"year\\\": 1301}, {\\\"count_of_earthquakes\\\": 2, \\\"year\\\": 1303}, {\\\"count_of_earthquakes\\\": 1, \\\"year\\\": 1304}, {\\\"count_of_earthquakes\\\": 1, \\\"year\\\": 1305}, {\\\"count_of_earthquakes\\\": 3, \\\"year\\\": 1306}, {\\\"count_of_earthquakes\\\": 2, \\\"year\\\": 1310}, {\\\"count_of_earthquakes\\\": 1, \\\"year\\\": 1314}, {\\\"count_of_earthquakes\\\": 2, \\\"year\\\": 1319}, {\\\"count_of_earthquakes\\\": 1, \\\"year\\\": 1320}, {\\\"count_of_earthquakes\\\": 1, \\\"year\\\": 1323}, {\\\"count_of_earthquakes\\\": 1, \\\"year\\\": 1327}, {\\\"count_of_earthquakes\\\": 1, \\\"year\\\": 1328}, {\\\"count_of_earthquakes\\\": 1, \\\"year\\\": 1329}, {\\\"count_of_earthquakes\\\": 1, \\\"year\\\": 1331}, {\\\"count_of_earthquakes\\\": 1, \\\"year\\\": 1332}, {\\\"count_of_earthquakes\\\": 2, \\\"year\\\": 1336}, {\\\"count_of_earthquakes\\\": 1, \\\"year\\\": 1337}, {\\\"count_of_earthquakes\\\": 1, \\\"year\\\": 1339}, {\\\"count_of_earthquakes\\\": 1, \\\"year\\\": 1340}, {\\\"count_of_earthquakes\\\": 2, \\\"year\\\": 1341}, {\\\"count_of_earthquakes\\\": 3, \\\"year\\\": 1343}, {\\\"count_of_earthquakes\\\": 3, \\\"year\\\": 1344}, {\\\"count_of_earthquakes\\\": 1, \\\"year\\\": 1345}, {\\\"count_of_earthquakes\\\": 1, \\\"year\\\": 1346}, {\\\"count_of_earthquakes\\\": 1, \\\"year\\\": 1347}, {\\\"count_of_earthquakes\\\": 1, \\\"year\\\": 1348}, {\\\"count_of_earthquakes\\\": 1, \\\"year\\\": 1349}, {\\\"count_of_earthquakes\\\": 1, \\\"year\\\": 1350}, {\\\"count_of_earthquakes\\\": 1, \\\"year\\\": 1351}, {\\\"count_of_earthquakes\\\": 2, \\\"year\\\": 1352}, {\\\"count_of_earthquakes\\\": 1, \\\"year\\\": 1353}, {\\\"count_of_earthquakes\\\": 1, \\\"year\\\": 1354}, {\\\"count_of_earthquakes\\\": 2, \\\"year\\\": 1356}, {\\\"count_of_earthquakes\\\": 1, \\\"year\\\": 1358}, {\\\"count_of_earthquakes\\\": 1, \\\"year\\\": 1359}, {\\\"count_of_earthquakes\\\": 2, \\\"year\\\": 1360}, {\\\"count_of_earthquakes\\\": 3, \\\"year\\\": 1361}, {\\\"count_of_earthquakes\\\": 1, \\\"year\\\": 1365}, {\\\"count_of_earthquakes\\\": 1, \\\"year\\\": 1367}, {\\\"count_of_earthquakes\\\": 1, \\\"year\\\": 1368}, {\\\"count_of_earthquakes\\\": 1, \\\"year\\\": 1372}, {\\\"count_of_earthquakes\\\": 1, \\\"year\\\": 1374}, {\\\"count_of_earthquakes\\\": 1, \\\"year\\\": 1375}, {\\\"count_of_earthquakes\\\": 1, \\\"year\\\": 1377}, {\\\"count_of_earthquakes\\\": 1, \\\"year\\\": 1380}, {\\\"count_of_earthquakes\\\": 1, \\\"year\\\": 1382}, {\\\"count_of_earthquakes\\\": 1, \\\"year\\\": 1383}, {\\\"count_of_earthquakes\\\": 1, \\\"year\\\": 1384}, {\\\"count_of_earthquakes\\\": 1, \\\"year\\\": 1385}, {\\\"count_of_earthquakes\\\": 1, \\\"year\\\": 1386}, {\\\"count_of_earthquakes\\\": 2, \\\"year\\\": 1387}, {\\\"count_of_earthquakes\\\": 4, \\\"year\\\": 1389}, {\\\"count_of_earthquakes\\\": 2, \\\"year\\\": 1390}, {\\\"count_of_earthquakes\\\": 1, \\\"year\\\": 1391}, {\\\"count_of_earthquakes\\\": 1, \\\"year\\\": 1399}, {\\\"count_of_earthquakes\\\": 2, \\\"year\\\": 1400}, {\\\"count_of_earthquakes\\\": 1, \\\"year\\\": 1402}, {\\\"count_of_earthquakes\\\": 2, \\\"year\\\": 1403}, {\\\"count_of_earthquakes\\\": 1, \\\"year\\\": 1404}, {\\\"count_of_earthquakes\\\": 1, \\\"year\\\": 1405}, {\\\"count_of_earthquakes\\\": 1, \\\"year\\\": 1406}, {\\\"count_of_earthquakes\\\": 1, \\\"year\\\": 1407}, {\\\"count_of_earthquakes\\\": 2, \\\"year\\\": 1408}, {\\\"count_of_earthquakes\\\": 1, \\\"year\\\": 1414}, {\\\"count_of_earthquakes\\\": 1, \\\"year\\\": 1417}, {\\\"count_of_earthquakes\\\": 1, \\\"year\\\": 1418}, {\\\"count_of_earthquakes\\\": 1, \\\"year\\\": 1419}, {\\\"count_of_earthquakes\\\": 1, \\\"year\\\": 1426}, {\\\"count_of_earthquakes\\\": 1, \\\"year\\\": 1427}, {\\\"count_of_earthquakes\\\": 1, \\\"year\\\": 1428}, {\\\"count_of_earthquakes\\\": 1, \\\"year\\\": 1431}, {\\\"count_of_earthquakes\\\": 1, \\\"year\\\": 1433}, {\\\"count_of_earthquakes\\\": 2, \\\"year\\\": 1440}, {\\\"count_of_earthquakes\\\": 2, \\\"year\\\": 1441}, {\\\"count_of_earthquakes\\\": 1, \\\"year\\\": 1443}, {\\\"count_of_earthquakes\\\": 2, \\\"year\\\": 1444}, {\\\"count_of_earthquakes\\\": 1, \\\"year\\\": 1445}, {\\\"count_of_earthquakes\\\": 1, \\\"year\\\": 1447}, {\\\"count_of_earthquakes\\\": 1, \\\"year\\\": 1448}, {\\\"count_of_earthquakes\\\": 1, \\\"year\\\": 1451}, {\\\"count_of_earthquakes\\\": 2, \\\"year\\\": 1454}, {\\\"count_of_earthquakes\\\": 1, \\\"year\\\": 1455}, {\\\"count_of_earthquakes\\\": 3, \\\"year\\\": 1456}, {\\\"count_of_earthquakes\\\": 1, \\\"year\\\": 1457}, {\\\"count_of_earthquakes\\\": 2, \\\"year\\\": 1458}, {\\\"count_of_earthquakes\\\": 1, \\\"year\\\": 1459}, {\\\"count_of_earthquakes\\\": 2, \\\"year\\\": 1461}, {\\\"count_of_earthquakes\\\": 1, \\\"year\\\": 1463}, {\\\"count_of_earthquakes\\\": 1, \\\"year\\\": 1464}, {\\\"count_of_earthquakes\\\": 1, \\\"year\\\": 1469}, {\\\"count_of_earthquakes\\\": 2, \\\"year\\\": 1471}, {\\\"count_of_earthquakes\\\": 1, \\\"year\\\": 1475}, {\\\"count_of_earthquakes\\\": 1, \\\"year\\\": 1478}, {\\\"count_of_earthquakes\\\": 1, \\\"year\\\": 1479}, {\\\"count_of_earthquakes\\\": 5, \\\"year\\\": 1481}, {\\\"count_of_earthquakes\\\": 3, \\\"year\\\": 1482}, {\\\"count_of_earthquakes\\\": 2, \\\"year\\\": 1483}, {\\\"count_of_earthquakes\\\": 2, \\\"year\\\": 1484}, {\\\"count_of_earthquakes\\\": 1, \\\"year\\\": 1485}, {\\\"count_of_earthquakes\\\": 1, \\\"year\\\": 1487}, {\\\"count_of_earthquakes\\\": 1, \\\"year\\\": 1488}, {\\\"count_of_earthquakes\\\": 1, \\\"year\\\": 1489}, {\\\"count_of_earthquakes\\\": 3, \\\"year\\\": 1490}, {\\\"count_of_earthquakes\\\": 1, \\\"year\\\": 1491}, {\\\"count_of_earthquakes\\\": 2, \\\"year\\\": 1493}, {\\\"count_of_earthquakes\\\": 4, \\\"year\\\": 1494}, {\\\"count_of_earthquakes\\\": 2, \\\"year\\\": 1495}, {\\\"count_of_earthquakes\\\": 1, \\\"year\\\": 1496}, {\\\"count_of_earthquakes\\\": 4, \\\"year\\\": 1498}, {\\\"count_of_earthquakes\\\": 1, \\\"year\\\": 1499}, {\\\"count_of_earthquakes\\\": 2, \\\"year\\\": 1500}, {\\\"count_of_earthquakes\\\": 3, \\\"year\\\": 1501}, {\\\"count_of_earthquakes\\\": 3, \\\"year\\\": 1502}, {\\\"count_of_earthquakes\\\": 3, \\\"year\\\": 1504}, {\\\"count_of_earthquakes\\\": 4, \\\"year\\\": 1505}, {\\\"count_of_earthquakes\\\": 1, \\\"year\\\": 1507}, {\\\"count_of_earthquakes\\\": 1, \\\"year\\\": 1508}, {\\\"count_of_earthquakes\\\": 5, \\\"year\\\": 1509}, {\\\"count_of_earthquakes\\\": 4, \\\"year\\\": 1510}, {\\\"count_of_earthquakes\\\": 3, \\\"year\\\": 1511}, {\\\"count_of_earthquakes\\\": 2, \\\"year\\\": 1512}, {\\\"count_of_earthquakes\\\": 1, \\\"year\\\": 1513}, {\\\"count_of_earthquakes\\\": 2, \\\"year\\\": 1514}, {\\\"count_of_earthquakes\\\": 2, \\\"year\\\": 1515}, {\\\"count_of_earthquakes\\\": 3, \\\"year\\\": 1516}, {\\\"count_of_earthquakes\\\": 1, \\\"year\\\": 1517}, {\\\"count_of_earthquakes\\\": 2, \\\"year\\\": 1518}, {\\\"count_of_earthquakes\\\": 3, \\\"year\\\": 1520}, {\\\"count_of_earthquakes\\\": 3, \\\"year\\\": 1522}, {\\\"count_of_earthquakes\\\": 1, \\\"year\\\": 1523}, {\\\"count_of_earthquakes\\\": 1, \\\"year\\\": 1524}, {\\\"count_of_earthquakes\\\": 1, \\\"year\\\": 1527}, {\\\"count_of_earthquakes\\\": 2, \\\"year\\\": 1530}, {\\\"count_of_earthquakes\\\": 2, \\\"year\\\": 1531}, {\\\"count_of_earthquakes\\\": 1, \\\"year\\\": 1535}, {\\\"count_of_earthquakes\\\": 1, \\\"year\\\": 1536}, {\\\"count_of_earthquakes\\\": 1, \\\"year\\\": 1537}, {\\\"count_of_earthquakes\\\": 2, \\\"year\\\": 1538}, {\\\"count_of_earthquakes\\\": 2, \\\"year\\\": 1539}, {\\\"count_of_earthquakes\\\": 1, \\\"year\\\": 1541}, {\\\"count_of_earthquakes\\\": 3, \\\"year\\\": 1542}, {\\\"count_of_earthquakes\\\": 2, \\\"year\\\": 1543}, {\\\"count_of_earthquakes\\\": 2, \\\"year\\\": 1545}, {\\\"count_of_earthquakes\\\": 1, \\\"year\\\": 1546}, {\\\"count_of_earthquakes\\\": 1, \\\"year\\\": 1547}, {\\\"count_of_earthquakes\\\": 1, \\\"year\\\": 1549}, {\\\"count_of_earthquakes\\\": 2, \\\"year\\\": 1550}, {\\\"count_of_earthquakes\\\": 2, \\\"year\\\": 1551}, {\\\"count_of_earthquakes\\\": 1, \\\"year\\\": 1552}, {\\\"count_of_earthquakes\\\": 1, \\\"year\\\": 1553}, {\\\"count_of_earthquakes\\\": 3, \\\"year\\\": 1555}, {\\\"count_of_earthquakes\\\": 5, \\\"year\\\": 1556}, {\\\"count_of_earthquakes\\\": 2, \\\"year\\\": 1560}, {\\\"count_of_earthquakes\\\": 4, \\\"year\\\": 1561}, {\\\"count_of_earthquakes\\\": 1, \\\"year\\\": 1562}, {\\\"count_of_earthquakes\\\": 1, \\\"year\\\": 1563}, {\\\"count_of_earthquakes\\\": 2, \\\"year\\\": 1564}, {\\\"count_of_earthquakes\\\": 1, \\\"year\\\": 1565}, {\\\"count_of_earthquakes\\\": 3, \\\"year\\\": 1566}, {\\\"count_of_earthquakes\\\": 3, \\\"year\\\": 1568}, {\\\"count_of_earthquakes\\\": 2, \\\"year\\\": 1570}, {\\\"count_of_earthquakes\\\": 1, \\\"year\\\": 1571}, {\\\"count_of_earthquakes\\\": 2, \\\"year\\\": 1573}, {\\\"count_of_earthquakes\\\": 3, \\\"year\\\": 1574}, {\\\"count_of_earthquakes\\\": 2, \\\"year\\\": 1575}, {\\\"count_of_earthquakes\\\": 1, \\\"year\\\": 1576}, {\\\"count_of_earthquakes\\\": 1, \\\"year\\\": 1577}, {\\\"count_of_earthquakes\\\": 1, \\\"year\\\": 1578}, {\\\"count_of_earthquakes\\\": 3, \\\"year\\\": 1579}, {\\\"count_of_earthquakes\\\": 1, \\\"year\\\": 1580}, {\\\"count_of_earthquakes\\\": 1, \\\"year\\\": 1581}, {\\\"count_of_earthquakes\\\": 3, \\\"year\\\": 1582}, {\\\"count_of_earthquakes\\\": 4, \\\"year\\\": 1584}, {\\\"count_of_earthquakes\\\": 1, \\\"year\\\": 1585}, {\\\"count_of_earthquakes\\\": 4, \\\"year\\\": 1586}, {\\\"count_of_earthquakes\\\": 3, \\\"year\\\": 1587}, {\\\"count_of_earthquakes\\\": 2, \\\"year\\\": 1588}, {\\\"count_of_earthquakes\\\": 2, \\\"year\\\": 1589}, {\\\"count_of_earthquakes\\\": 6, \\\"year\\\": 1590}, {\\\"count_of_earthquakes\\\": 1, \\\"year\\\": 1591}, {\\\"count_of_earthquakes\\\": 1, \\\"year\\\": 1593}, {\\\"count_of_earthquakes\\\": 1, \\\"year\\\": 1594}, {\\\"count_of_earthquakes\\\": 1, \\\"year\\\": 1596}, {\\\"count_of_earthquakes\\\": 2, \\\"year\\\": 1597}, {\\\"count_of_earthquakes\\\": 1, \\\"year\\\": 1598}, {\\\"count_of_earthquakes\\\": 1, \\\"year\\\": 1599}, {\\\"count_of_earthquakes\\\": 4, \\\"year\\\": 1600}, {\\\"count_of_earthquakes\\\": 2, \\\"year\\\": 1601}, {\\\"count_of_earthquakes\\\": 1, \\\"year\\\": 1602}, {\\\"count_of_earthquakes\\\": 1, \\\"year\\\": 1603}, {\\\"count_of_earthquakes\\\": 5, \\\"year\\\": 1604}, {\\\"count_of_earthquakes\\\": 3, \\\"year\\\": 1605}, {\\\"count_of_earthquakes\\\": 1, \\\"year\\\": 1606}, {\\\"count_of_earthquakes\\\": 5, \\\"year\\\": 1608}, {\\\"count_of_earthquakes\\\": 3, \\\"year\\\": 1609}, {\\\"count_of_earthquakes\\\": 3, \\\"year\\\": 1610}, {\\\"count_of_earthquakes\\\": 6, \\\"year\\\": 1611}, {\\\"count_of_earthquakes\\\": 2, \\\"year\\\": 1612}, {\\\"count_of_earthquakes\\\": 3, \\\"year\\\": 1613}, {\\\"count_of_earthquakes\\\": 4, \\\"year\\\": 1614}, {\\\"count_of_earthquakes\\\": 4, \\\"year\\\": 1615}, {\\\"count_of_earthquakes\\\": 4, \\\"year\\\": 1616}, {\\\"count_of_earthquakes\\\": 5, \\\"year\\\": 1618}, {\\\"count_of_earthquakes\\\": 5, \\\"year\\\": 1619}, {\\\"count_of_earthquakes\\\": 2, \\\"year\\\": 1620}, {\\\"count_of_earthquakes\\\": 2, \\\"year\\\": 1621}, {\\\"count_of_earthquakes\\\": 5, \\\"year\\\": 1622}, {\\\"count_of_earthquakes\\\": 2, \\\"year\\\": 1624}, {\\\"count_of_earthquakes\\\": 1, \\\"year\\\": 1625}, {\\\"count_of_earthquakes\\\": 3, \\\"year\\\": 1626}, {\\\"count_of_earthquakes\\\": 4, \\\"year\\\": 1627}, {\\\"count_of_earthquakes\\\": 3, \\\"year\\\": 1628}, {\\\"count_of_earthquakes\\\": 3, \\\"year\\\": 1629}, {\\\"count_of_earthquakes\\\": 4, \\\"year\\\": 1630}, {\\\"count_of_earthquakes\\\": 5, \\\"year\\\": 1631}, {\\\"count_of_earthquakes\\\": 1, \\\"year\\\": 1632}, {\\\"count_of_earthquakes\\\": 4, \\\"year\\\": 1633}, {\\\"count_of_earthquakes\\\": 3, \\\"year\\\": 1634}, {\\\"count_of_earthquakes\\\": 4, \\\"year\\\": 1636}, {\\\"count_of_earthquakes\\\": 2, \\\"year\\\": 1638}, {\\\"count_of_earthquakes\\\": 4, \\\"year\\\": 1639}, {\\\"count_of_earthquakes\\\": 7, \\\"year\\\": 1640}, {\\\"count_of_earthquakes\\\": 6, \\\"year\\\": 1641}, {\\\"count_of_earthquakes\\\": 2, \\\"year\\\": 1642}, {\\\"count_of_earthquakes\\\": 1, \\\"year\\\": 1643}, {\\\"count_of_earthquakes\\\": 4, \\\"year\\\": 1644}, {\\\"count_of_earthquakes\\\": 3, \\\"year\\\": 1645}, {\\\"count_of_earthquakes\\\": 6, \\\"year\\\": 1646}, {\\\"count_of_earthquakes\\\": 3, \\\"year\\\": 1647}, {\\\"count_of_earthquakes\\\": 4, \\\"year\\\": 1648}, {\\\"count_of_earthquakes\\\": 3, \\\"year\\\": 1649}, {\\\"count_of_earthquakes\\\": 4, \\\"year\\\": 1650}, {\\\"count_of_earthquakes\\\": 1, \\\"year\\\": 1651}, {\\\"count_of_earthquakes\\\": 2, \\\"year\\\": 1652}, {\\\"count_of_earthquakes\\\": 2, \\\"year\\\": 1653}, {\\\"count_of_earthquakes\\\": 4, \\\"year\\\": 1654}, {\\\"count_of_earthquakes\\\": 2, \\\"year\\\": 1655}, {\\\"count_of_earthquakes\\\": 2, \\\"year\\\": 1656}, {\\\"count_of_earthquakes\\\": 6, \\\"year\\\": 1657}, {\\\"count_of_earthquakes\\\": 4, \\\"year\\\": 1658}, {\\\"count_of_earthquakes\\\": 4, \\\"year\\\": 1659}, {\\\"count_of_earthquakes\\\": 5, \\\"year\\\": 1660}, {\\\"count_of_earthquakes\\\": 2, \\\"year\\\": 1661}, {\\\"count_of_earthquakes\\\": 5, \\\"year\\\": 1662}, {\\\"count_of_earthquakes\\\": 2, \\\"year\\\": 1663}, {\\\"count_of_earthquakes\\\": 4, \\\"year\\\": 1664}, {\\\"count_of_earthquakes\\\": 3, \\\"year\\\": 1665}, {\\\"count_of_earthquakes\\\": 3, \\\"year\\\": 1666}, {\\\"count_of_earthquakes\\\": 8, \\\"year\\\": 1667}, {\\\"count_of_earthquakes\\\": 6, \\\"year\\\": 1668}, {\\\"count_of_earthquakes\\\": 3, \\\"year\\\": 1669}, {\\\"count_of_earthquakes\\\": 5, \\\"year\\\": 1670}, {\\\"count_of_earthquakes\\\": 2, \\\"year\\\": 1671}, {\\\"count_of_earthquakes\\\": 3, \\\"year\\\": 1672}, {\\\"count_of_earthquakes\\\": 5, \\\"year\\\": 1673}, {\\\"count_of_earthquakes\\\": 4, \\\"year\\\": 1674}, {\\\"count_of_earthquakes\\\": 1, \\\"year\\\": 1675}, {\\\"count_of_earthquakes\\\": 1, \\\"year\\\": 1676}, {\\\"count_of_earthquakes\\\": 5, \\\"year\\\": 1677}, {\\\"count_of_earthquakes\\\": 6, \\\"year\\\": 1678}, {\\\"count_of_earthquakes\\\": 4, \\\"year\\\": 1679}, {\\\"count_of_earthquakes\\\": 3, \\\"year\\\": 1680}, {\\\"count_of_earthquakes\\\": 3, \\\"year\\\": 1681}, {\\\"count_of_earthquakes\\\": 3, \\\"year\\\": 1682}, {\\\"count_of_earthquakes\\\": 3, \\\"year\\\": 1683}, {\\\"count_of_earthquakes\\\": 1, \\\"year\\\": 1684}, {\\\"count_of_earthquakes\\\": 5, \\\"year\\\": 1687}, {\\\"count_of_earthquakes\\\": 10, \\\"year\\\": 1688}, {\\\"count_of_earthquakes\\\": 2, \\\"year\\\": 1689}, {\\\"count_of_earthquakes\\\": 2, \\\"year\\\": 1690}, {\\\"count_of_earthquakes\\\": 1, \\\"year\\\": 1691}, {\\\"count_of_earthquakes\\\": 3, \\\"year\\\": 1692}, {\\\"count_of_earthquakes\\\": 2, \\\"year\\\": 1693}, {\\\"count_of_earthquakes\\\": 3, \\\"year\\\": 1694}, {\\\"count_of_earthquakes\\\": 3, \\\"year\\\": 1695}, {\\\"count_of_earthquakes\\\": 2, \\\"year\\\": 1696}, {\\\"count_of_earthquakes\\\": 1, \\\"year\\\": 1697}, {\\\"count_of_earthquakes\\\": 3, \\\"year\\\": 1698}, {\\\"count_of_earthquakes\\\": 3, \\\"year\\\": 1699}, {\\\"count_of_earthquakes\\\": 3, \\\"year\\\": 1700}, {\\\"count_of_earthquakes\\\": 2, \\\"year\\\": 1701}, {\\\"count_of_earthquakes\\\": 2, \\\"year\\\": 1702}, {\\\"count_of_earthquakes\\\": 6, \\\"year\\\": 1703}, {\\\"count_of_earthquakes\\\": 4, \\\"year\\\": 1704}, {\\\"count_of_earthquakes\\\": 1, \\\"year\\\": 1705}, {\\\"count_of_earthquakes\\\": 2, \\\"year\\\": 1706}, {\\\"count_of_earthquakes\\\": 5, \\\"year\\\": 1707}, {\\\"count_of_earthquakes\\\": 3, \\\"year\\\": 1708}, {\\\"count_of_earthquakes\\\": 1, \\\"year\\\": 1709}, {\\\"count_of_earthquakes\\\": 2, \\\"year\\\": 1710}, {\\\"count_of_earthquakes\\\": 5, \\\"year\\\": 1711}, {\\\"count_of_earthquakes\\\": 3, \\\"year\\\": 1713}, {\\\"count_of_earthquakes\\\": 5, \\\"year\\\": 1714}, {\\\"count_of_earthquakes\\\": 4, \\\"year\\\": 1715}, {\\\"count_of_earthquakes\\\": 7, \\\"year\\\": 1716}, {\\\"count_of_earthquakes\\\": 3, \\\"year\\\": 1717}, {\\\"count_of_earthquakes\\\": 1, \\\"year\\\": 1718}, {\\\"count_of_earthquakes\\\": 3, \\\"year\\\": 1719}, {\\\"count_of_earthquakes\\\": 6, \\\"year\\\": 1720}, {\\\"count_of_earthquakes\\\": 5, \\\"year\\\": 1721}, {\\\"count_of_earthquakes\\\": 3, \\\"year\\\": 1722}, {\\\"count_of_earthquakes\\\": 1, \\\"year\\\": 1723}, {\\\"count_of_earthquakes\\\": 6, \\\"year\\\": 1725}, {\\\"count_of_earthquakes\\\": 2, \\\"year\\\": 1726}, {\\\"count_of_earthquakes\\\": 5, \\\"year\\\": 1727}, {\\\"count_of_earthquakes\\\": 1, \\\"year\\\": 1728}, {\\\"count_of_earthquakes\\\": 1, \\\"year\\\": 1729}, {\\\"count_of_earthquakes\\\": 8, \\\"year\\\": 1730}, {\\\"count_of_earthquakes\\\": 4, \\\"year\\\": 1731}, {\\\"count_of_earthquakes\\\": 4, \\\"year\\\": 1732}, {\\\"count_of_earthquakes\\\": 2, \\\"year\\\": 1733}, {\\\"count_of_earthquakes\\\": 2, \\\"year\\\": 1734}, {\\\"count_of_earthquakes\\\": 2, \\\"year\\\": 1735}, {\\\"count_of_earthquakes\\\": 2, \\\"year\\\": 1736}, {\\\"count_of_earthquakes\\\": 5, \\\"year\\\": 1737}, {\\\"count_of_earthquakes\\\": 4, \\\"year\\\": 1738}, {\\\"count_of_earthquakes\\\": 6, \\\"year\\\": 1739}, {\\\"count_of_earthquakes\\\": 2, \\\"year\\\": 1740}, {\\\"count_of_earthquakes\\\": 2, \\\"year\\\": 1741}, {\\\"count_of_earthquakes\\\": 5, \\\"year\\\": 1742}, {\\\"count_of_earthquakes\\\": 4, \\\"year\\\": 1743}, {\\\"count_of_earthquakes\\\": 1, \\\"year\\\": 1744}, {\\\"count_of_earthquakes\\\": 2, \\\"year\\\": 1746}, {\\\"count_of_earthquakes\\\": 2, \\\"year\\\": 1747}, {\\\"count_of_earthquakes\\\": 6, \\\"year\\\": 1748}, {\\\"count_of_earthquakes\\\": 2, \\\"year\\\": 1749}, {\\\"count_of_earthquakes\\\": 8, \\\"year\\\": 1750}, {\\\"count_of_earthquakes\\\": 11, \\\"year\\\": 1751}, {\\\"count_of_earthquakes\\\": 4, \\\"year\\\": 1752}, {\\\"count_of_earthquakes\\\": 5, \\\"year\\\": 1754}, {\\\"count_of_earthquakes\\\": 11, \\\"year\\\": 1755}, {\\\"count_of_earthquakes\\\": 1, \\\"year\\\": 1756}, {\\\"count_of_earthquakes\\\": 8, \\\"year\\\": 1757}, {\\\"count_of_earthquakes\\\": 2, \\\"year\\\": 1758}, {\\\"count_of_earthquakes\\\": 6, \\\"year\\\": 1759}, {\\\"count_of_earthquakes\\\": 1, \\\"year\\\": 1760}, {\\\"count_of_earthquakes\\\": 4, \\\"year\\\": 1761}, {\\\"count_of_earthquakes\\\": 2, \\\"year\\\": 1762}, {\\\"count_of_earthquakes\\\": 6, \\\"year\\\": 1763}, {\\\"count_of_earthquakes\\\": 2, \\\"year\\\": 1764}, {\\\"count_of_earthquakes\\\": 3, \\\"year\\\": 1765}, {\\\"count_of_earthquakes\\\": 9, \\\"year\\\": 1766}, {\\\"count_of_earthquakes\\\": 5, \\\"year\\\": 1767}, {\\\"count_of_earthquakes\\\": 4, \\\"year\\\": 1768}, {\\\"count_of_earthquakes\\\": 6, \\\"year\\\": 1769}, {\\\"count_of_earthquakes\\\": 6, \\\"year\\\": 1770}, {\\\"count_of_earthquakes\\\": 3, \\\"year\\\": 1771}, {\\\"count_of_earthquakes\\\": 3, \\\"year\\\": 1772}, {\\\"count_of_earthquakes\\\": 3, \\\"year\\\": 1773}, {\\\"count_of_earthquakes\\\": 4, \\\"year\\\": 1774}, {\\\"count_of_earthquakes\\\": 6, \\\"year\\\": 1775}, {\\\"count_of_earthquakes\\\": 3, \\\"year\\\": 1776}, {\\\"count_of_earthquakes\\\": 2, \\\"year\\\": 1777}, {\\\"count_of_earthquakes\\\": 3, \\\"year\\\": 1778}, {\\\"count_of_earthquakes\\\": 1, \\\"year\\\": 1779}, {\\\"count_of_earthquakes\\\": 5, \\\"year\\\": 1780}, {\\\"count_of_earthquakes\\\": 3, \\\"year\\\": 1781}, {\\\"count_of_earthquakes\\\": 2, \\\"year\\\": 1782}, {\\\"count_of_earthquakes\\\": 10, \\\"year\\\": 1783}, {\\\"count_of_earthquakes\\\": 10, \\\"year\\\": 1784}, {\\\"count_of_earthquakes\\\": 3, \\\"year\\\": 1785}, {\\\"count_of_earthquakes\\\": 5, \\\"year\\\": 1786}, {\\\"count_of_earthquakes\\\": 7, \\\"year\\\": 1787}, {\\\"count_of_earthquakes\\\": 4, \\\"year\\\": 1788}, {\\\"count_of_earthquakes\\\": 3, \\\"year\\\": 1789}, {\\\"count_of_earthquakes\\\": 2, \\\"year\\\": 1790}, {\\\"count_of_earthquakes\\\": 9, \\\"year\\\": 1791}, {\\\"count_of_earthquakes\\\": 6, \\\"year\\\": 1792}, {\\\"count_of_earthquakes\\\": 5, \\\"year\\\": 1793}, {\\\"count_of_earthquakes\\\": 2, \\\"year\\\": 1794}, {\\\"count_of_earthquakes\\\": 3, \\\"year\\\": 1795}, {\\\"count_of_earthquakes\\\": 5, \\\"year\\\": 1796}, {\\\"count_of_earthquakes\\\": 3, \\\"year\\\": 1797}, {\\\"count_of_earthquakes\\\": 5, \\\"year\\\": 1798}, {\\\"count_of_earthquakes\\\": 8, \\\"year\\\": 1799}, {\\\"count_of_earthquakes\\\": 3, \\\"year\\\": 1800}, {\\\"count_of_earthquakes\\\": 2, \\\"year\\\": 1801}, {\\\"count_of_earthquakes\\\": 7, \\\"year\\\": 1802}, {\\\"count_of_earthquakes\\\": 2, \\\"year\\\": 1803}, {\\\"count_of_earthquakes\\\": 5, \\\"year\\\": 1804}, {\\\"count_of_earthquakes\\\": 4, \\\"year\\\": 1805}, {\\\"count_of_earthquakes\\\": 5, \\\"year\\\": 1806}, {\\\"count_of_earthquakes\\\": 6, \\\"year\\\": 1808}, {\\\"count_of_earthquakes\\\": 3, \\\"year\\\": 1809}, {\\\"count_of_earthquakes\\\": 5, \\\"year\\\": 1810}, {\\\"count_of_earthquakes\\\": 7, \\\"year\\\": 1811}, {\\\"count_of_earthquakes\\\": 11, \\\"year\\\": 1812}, {\\\"count_of_earthquakes\\\": 2, \\\"year\\\": 1813}, {\\\"count_of_earthquakes\\\": 5, \\\"year\\\": 1814}, {\\\"count_of_earthquakes\\\": 7, \\\"year\\\": 1815}, {\\\"count_of_earthquakes\\\": 4, \\\"year\\\": 1816}, {\\\"count_of_earthquakes\\\": 4, \\\"year\\\": 1817}, {\\\"count_of_earthquakes\\\": 8, \\\"year\\\": 1818}, {\\\"count_of_earthquakes\\\": 8, \\\"year\\\": 1819}, {\\\"count_of_earthquakes\\\": 10, \\\"year\\\": 1820}, {\\\"count_of_earthquakes\\\": 5, \\\"year\\\": 1821}, {\\\"count_of_earthquakes\\\": 7, \\\"year\\\": 1822}, {\\\"count_of_earthquakes\\\": 9, \\\"year\\\": 1823}, {\\\"count_of_earthquakes\\\": 7, \\\"year\\\": 1824}, {\\\"count_of_earthquakes\\\": 7, \\\"year\\\": 1825}, {\\\"count_of_earthquakes\\\": 4, \\\"year\\\": 1826}, {\\\"count_of_earthquakes\\\": 6, \\\"year\\\": 1827}, {\\\"count_of_earthquakes\\\": 8, \\\"year\\\": 1828}, {\\\"count_of_earthquakes\\\": 8, \\\"year\\\": 1829}, {\\\"count_of_earthquakes\\\": 9, \\\"year\\\": 1830}, {\\\"count_of_earthquakes\\\": 8, \\\"year\\\": 1831}, {\\\"count_of_earthquakes\\\": 3, \\\"year\\\": 1832}, {\\\"count_of_earthquakes\\\": 9, \\\"year\\\": 1833}, {\\\"count_of_earthquakes\\\": 14, \\\"year\\\": 1834}, {\\\"count_of_earthquakes\\\": 6, \\\"year\\\": 1835}, {\\\"count_of_earthquakes\\\": 6, \\\"year\\\": 1836}, {\\\"count_of_earthquakes\\\": 11, \\\"year\\\": 1837}, {\\\"count_of_earthquakes\\\": 5, \\\"year\\\": 1838}, {\\\"count_of_earthquakes\\\": 10, \\\"year\\\": 1839}, {\\\"count_of_earthquakes\\\": 8, \\\"year\\\": 1840}, {\\\"count_of_earthquakes\\\": 5, \\\"year\\\": 1841}, {\\\"count_of_earthquakes\\\": 8, \\\"year\\\": 1842}, {\\\"count_of_earthquakes\\\": 10, \\\"year\\\": 1843}, {\\\"count_of_earthquakes\\\": 9, \\\"year\\\": 1844}, {\\\"count_of_earthquakes\\\": 11, \\\"year\\\": 1845}, {\\\"count_of_earthquakes\\\": 8, \\\"year\\\": 1846}, {\\\"count_of_earthquakes\\\": 11, \\\"year\\\": 1847}, {\\\"count_of_earthquakes\\\": 8, \\\"year\\\": 1848}, {\\\"count_of_earthquakes\\\": 6, \\\"year\\\": 1849}, {\\\"count_of_earthquakes\\\": 3, \\\"year\\\": 1850}, {\\\"count_of_earthquakes\\\": 14, \\\"year\\\": 1851}, {\\\"count_of_earthquakes\\\": 19, \\\"year\\\": 1852}, {\\\"count_of_earthquakes\\\": 11, \\\"year\\\": 1853}, {\\\"count_of_earthquakes\\\": 21, \\\"year\\\": 1854}, {\\\"count_of_earthquakes\\\": 23, \\\"year\\\": 1855}, {\\\"count_of_earthquakes\\\": 13, \\\"year\\\": 1856}, {\\\"count_of_earthquakes\\\": 14, \\\"year\\\": 1857}, {\\\"count_of_earthquakes\\\": 16, \\\"year\\\": 1858}, {\\\"count_of_earthquakes\\\": 17, \\\"year\\\": 1859}, {\\\"count_of_earthquakes\\\": 5, \\\"year\\\": 1860}, {\\\"count_of_earthquakes\\\": 14, \\\"year\\\": 1861}, {\\\"count_of_earthquakes\\\": 11, \\\"year\\\": 1862}, {\\\"count_of_earthquakes\\\": 15, \\\"year\\\": 1863}, {\\\"count_of_earthquakes\\\": 7, \\\"year\\\": 1864}, {\\\"count_of_earthquakes\\\": 13, \\\"year\\\": 1865}, {\\\"count_of_earthquakes\\\": 10, \\\"year\\\": 1866}, {\\\"count_of_earthquakes\\\": 12, \\\"year\\\": 1867}, {\\\"count_of_earthquakes\\\": 25, \\\"year\\\": 1868}, {\\\"count_of_earthquakes\\\": 21, \\\"year\\\": 1869}, {\\\"count_of_earthquakes\\\": 16, \\\"year\\\": 1870}, {\\\"count_of_earthquakes\\\": 17, \\\"year\\\": 1871}, {\\\"count_of_earthquakes\\\": 18, \\\"year\\\": 1872}, {\\\"count_of_earthquakes\\\": 12, \\\"year\\\": 1873}, {\\\"count_of_earthquakes\\\": 10, \\\"year\\\": 1874}, {\\\"count_of_earthquakes\\\": 17, \\\"year\\\": 1875}, {\\\"count_of_earthquakes\\\": 4, \\\"year\\\": 1876}, {\\\"count_of_earthquakes\\\": 8, \\\"year\\\": 1877}, {\\\"count_of_earthquakes\\\": 22, \\\"year\\\": 1878}, {\\\"count_of_earthquakes\\\": 10, \\\"year\\\": 1879}, {\\\"count_of_earthquakes\\\": 18, \\\"year\\\": 1880}, {\\\"count_of_earthquakes\\\": 21, \\\"year\\\": 1881}, {\\\"count_of_earthquakes\\\": 10, \\\"year\\\": 1882}, {\\\"count_of_earthquakes\\\": 6, \\\"year\\\": 1883}, {\\\"count_of_earthquakes\\\": 10, \\\"year\\\": 1884}, {\\\"count_of_earthquakes\\\": 21, \\\"year\\\": 1885}, {\\\"count_of_earthquakes\\\": 4, \\\"year\\\": 1886}, {\\\"count_of_earthquakes\\\": 14, \\\"year\\\": 1887}, {\\\"count_of_earthquakes\\\": 12, \\\"year\\\": 1888}, {\\\"count_of_earthquakes\\\": 10, \\\"year\\\": 1889}, {\\\"count_of_earthquakes\\\": 5, \\\"year\\\": 1890}, {\\\"count_of_earthquakes\\\": 9, \\\"year\\\": 1891}, {\\\"count_of_earthquakes\\\": 13, \\\"year\\\": 1892}, {\\\"count_of_earthquakes\\\": 17, \\\"year\\\": 1893}, {\\\"count_of_earthquakes\\\": 15, \\\"year\\\": 1894}, {\\\"count_of_earthquakes\\\": 20, \\\"year\\\": 1895}, {\\\"count_of_earthquakes\\\": 18, \\\"year\\\": 1896}, {\\\"count_of_earthquakes\\\": 25, \\\"year\\\": 1897}, {\\\"count_of_earthquakes\\\": 14, \\\"year\\\": 1898}, {\\\"count_of_earthquakes\\\": 18, \\\"year\\\": 1899}, {\\\"count_of_earthquakes\\\": 17, \\\"year\\\": 1900}, {\\\"count_of_earthquakes\\\": 18, \\\"year\\\": 1901}, {\\\"count_of_earthquakes\\\": 23, \\\"year\\\": 1902}, {\\\"count_of_earthquakes\\\": 22, \\\"year\\\": 1903}, {\\\"count_of_earthquakes\\\": 18, \\\"year\\\": 1904}, {\\\"count_of_earthquakes\\\": 32, \\\"year\\\": 1905}, {\\\"count_of_earthquakes\\\": 32, \\\"year\\\": 1906}, {\\\"count_of_earthquakes\\\": 23, \\\"year\\\": 1907}, {\\\"count_of_earthquakes\\\": 13, \\\"year\\\": 1908}, {\\\"count_of_earthquakes\\\": 34, \\\"year\\\": 1909}, {\\\"count_of_earthquakes\\\": 22, \\\"year\\\": 1910}, {\\\"count_of_earthquakes\\\": 20, \\\"year\\\": 1911}, {\\\"count_of_earthquakes\\\": 16, \\\"year\\\": 1912}, {\\\"count_of_earthquakes\\\": 20, \\\"year\\\": 1913}, {\\\"count_of_earthquakes\\\": 21, \\\"year\\\": 1914}, {\\\"count_of_earthquakes\\\": 17, \\\"year\\\": 1915}, {\\\"count_of_earthquakes\\\": 24, \\\"year\\\": 1916}, {\\\"count_of_earthquakes\\\": 25, \\\"year\\\": 1917}, {\\\"count_of_earthquakes\\\": 19, \\\"year\\\": 1918}, {\\\"count_of_earthquakes\\\": 17, \\\"year\\\": 1919}, {\\\"count_of_earthquakes\\\": 12, \\\"year\\\": 1920}, {\\\"count_of_earthquakes\\\": 16, \\\"year\\\": 1921}, {\\\"count_of_earthquakes\\\": 23, \\\"year\\\": 1922}, {\\\"count_of_earthquakes\\\": 28, \\\"year\\\": 1923}, {\\\"count_of_earthquakes\\\": 18, \\\"year\\\": 1924}, {\\\"count_of_earthquakes\\\": 24, \\\"year\\\": 1925}, {\\\"count_of_earthquakes\\\": 23, \\\"year\\\": 1926}, {\\\"count_of_earthquakes\\\": 28, \\\"year\\\": 1927}, {\\\"count_of_earthquakes\\\": 33, \\\"year\\\": 1928}, {\\\"count_of_earthquakes\\\": 21, \\\"year\\\": 1929}, {\\\"count_of_earthquakes\\\": 34, \\\"year\\\": 1930}, {\\\"count_of_earthquakes\\\": 30, \\\"year\\\": 1931}, {\\\"count_of_earthquakes\\\": 25, \\\"year\\\": 1932}, {\\\"count_of_earthquakes\\\": 18, \\\"year\\\": 1933}, {\\\"count_of_earthquakes\\\": 19, \\\"year\\\": 1934}, {\\\"count_of_earthquakes\\\": 27, \\\"year\\\": 1935}, {\\\"count_of_earthquakes\\\": 20, \\\"year\\\": 1936}, {\\\"count_of_earthquakes\\\": 19, \\\"year\\\": 1937}, {\\\"count_of_earthquakes\\\": 27, \\\"year\\\": 1938}, {\\\"count_of_earthquakes\\\": 20, \\\"year\\\": 1939}, {\\\"count_of_earthquakes\\\": 16, \\\"year\\\": 1940}, {\\\"count_of_earthquakes\\\": 19, \\\"year\\\": 1941}, {\\\"count_of_earthquakes\\\": 18, \\\"year\\\": 1942}, {\\\"count_of_earthquakes\\\": 25, \\\"year\\\": 1943}, {\\\"count_of_earthquakes\\\": 14, \\\"year\\\": 1944}, {\\\"count_of_earthquakes\\\": 12, \\\"year\\\": 1945}, {\\\"count_of_earthquakes\\\": 20, \\\"year\\\": 1946}, {\\\"count_of_earthquakes\\\": 17, \\\"year\\\": 1947}, {\\\"count_of_earthquakes\\\": 20, \\\"year\\\": 1948}, {\\\"count_of_earthquakes\\\": 23, \\\"year\\\": 1949}, {\\\"count_of_earthquakes\\\": 27, \\\"year\\\": 1950}, {\\\"count_of_earthquakes\\\": 17, \\\"year\\\": 1951}, {\\\"count_of_earthquakes\\\": 19, \\\"year\\\": 1952}, {\\\"count_of_earthquakes\\\": 21, \\\"year\\\": 1953}, {\\\"count_of_earthquakes\\\": 23, \\\"year\\\": 1954}, {\\\"count_of_earthquakes\\\": 24, \\\"year\\\": 1955}, {\\\"count_of_earthquakes\\\": 26, \\\"year\\\": 1956}, {\\\"count_of_earthquakes\\\": 27, \\\"year\\\": 1957}, {\\\"count_of_earthquakes\\\": 22, \\\"year\\\": 1958}, {\\\"count_of_earthquakes\\\": 27, \\\"year\\\": 1959}, {\\\"count_of_earthquakes\\\": 22, \\\"year\\\": 1960}, {\\\"count_of_earthquakes\\\": 35, \\\"year\\\": 1961}, {\\\"count_of_earthquakes\\\": 34, \\\"year\\\": 1962}, {\\\"count_of_earthquakes\\\": 28, \\\"year\\\": 1963}, {\\\"count_of_earthquakes\\\": 20, \\\"year\\\": 1964}, {\\\"count_of_earthquakes\\\": 26, \\\"year\\\": 1965}, {\\\"count_of_earthquakes\\\": 33, \\\"year\\\": 1966}, {\\\"count_of_earthquakes\\\": 27, \\\"year\\\": 1967}, {\\\"count_of_earthquakes\\\": 40, \\\"year\\\": 1968}, {\\\"count_of_earthquakes\\\": 31, \\\"year\\\": 1969}, {\\\"count_of_earthquakes\\\": 31, \\\"year\\\": 1970}, {\\\"count_of_earthquakes\\\": 33, \\\"year\\\": 1971}, {\\\"count_of_earthquakes\\\": 26, \\\"year\\\": 1972}, {\\\"count_of_earthquakes\\\": 26, \\\"year\\\": 1973}, {\\\"count_of_earthquakes\\\": 21, \\\"year\\\": 1974}, {\\\"count_of_earthquakes\\\": 30, \\\"year\\\": 1975}, {\\\"count_of_earthquakes\\\": 35, \\\"year\\\": 1976}, {\\\"count_of_earthquakes\\\": 25, \\\"year\\\": 1977}, {\\\"count_of_earthquakes\\\": 34, \\\"year\\\": 1978}, {\\\"count_of_earthquakes\\\": 34, \\\"year\\\": 1979}, {\\\"count_of_earthquakes\\\": 33, \\\"year\\\": 1980}, {\\\"count_of_earthquakes\\\": 22, \\\"year\\\": 1981}, {\\\"count_of_earthquakes\\\": 25, \\\"year\\\": 1982}, {\\\"count_of_earthquakes\\\": 46, \\\"year\\\": 1983}, {\\\"count_of_earthquakes\\\": 28, \\\"year\\\": 1984}, {\\\"count_of_earthquakes\\\": 30, \\\"year\\\": 1985}, {\\\"count_of_earthquakes\\\": 33, \\\"year\\\": 1986}, {\\\"count_of_earthquakes\\\": 33, \\\"year\\\": 1987}, {\\\"count_of_earthquakes\\\": 30, \\\"year\\\": 1988}, {\\\"count_of_earthquakes\\\": 35, \\\"year\\\": 1989}, {\\\"count_of_earthquakes\\\": 51, \\\"year\\\": 1990}, {\\\"count_of_earthquakes\\\": 42, \\\"year\\\": 1991}, {\\\"count_of_earthquakes\\\": 27, \\\"year\\\": 1992}, {\\\"count_of_earthquakes\\\": 26, \\\"year\\\": 1993}, {\\\"count_of_earthquakes\\\": 33, \\\"year\\\": 1994}, {\\\"count_of_earthquakes\\\": 31, \\\"year\\\": 1995}, {\\\"count_of_earthquakes\\\": 19, \\\"year\\\": 1996}, {\\\"count_of_earthquakes\\\": 34, \\\"year\\\": 1997}, {\\\"count_of_earthquakes\\\": 31, \\\"year\\\": 1998}, {\\\"count_of_earthquakes\\\": 35, \\\"year\\\": 1999}, {\\\"count_of_earthquakes\\\": 37, \\\"year\\\": 2000}, {\\\"count_of_earthquakes\\\": 26, \\\"year\\\": 2001}, {\\\"count_of_earthquakes\\\": 60, \\\"year\\\": 2002}, {\\\"count_of_earthquakes\\\": 72, \\\"year\\\": 2003}, {\\\"count_of_earthquakes\\\": 78, \\\"year\\\": 2004}, {\\\"count_of_earthquakes\\\": 60, \\\"year\\\": 2005}, {\\\"count_of_earthquakes\\\": 63, \\\"year\\\": 2006}, {\\\"count_of_earthquakes\\\": 67, \\\"year\\\": 2007}, {\\\"count_of_earthquakes\\\": 77, \\\"year\\\": 2008}, {\\\"count_of_earthquakes\\\": 61, \\\"year\\\": 2009}, {\\\"count_of_earthquakes\\\": 62, \\\"year\\\": 2010}, {\\\"count_of_earthquakes\\\": 60, \\\"year\\\": 2011}, {\\\"count_of_earthquakes\\\": 50, \\\"year\\\": 2012}, {\\\"count_of_earthquakes\\\": 54, \\\"year\\\": 2013}, {\\\"count_of_earthquakes\\\": 55, \\\"year\\\": 2014}, {\\\"count_of_earthquakes\\\": 48, \\\"year\\\": 2015}, {\\\"count_of_earthquakes\\\": 52, \\\"year\\\": 2016}, {\\\"count_of_earthquakes\\\": 64, \\\"year\\\": 2017}, {\\\"count_of_earthquakes\\\": 66, \\\"year\\\": 2018}, {\\\"count_of_earthquakes\\\": 62, \\\"year\\\": 2019}, {\\\"count_of_earthquakes\\\": 29, \\\"year\\\": 2020}, {\\\"count_of_earthquakes\\\": 30, \\\"year\\\": 2021}]}, \\\"encoding\\\": {\\\"x\\\": {\\\"axis\\\": {\\\"labelOverlap\\\": true}, \\\"field\\\": \\\"year\\\", \\\"sort\\\": \\\"ascending\\\", \\\"title\\\": \\\"Year\\\"}, \\\"y\\\": {\\\"axis\\\": {\\\"labelOverlap\\\": true}, \\\"field\\\": \\\"count_of_earthquakes\\\", \\\"sort\\\": {}, \\\"title\\\": \\\"Count of Earthquakes\\\", \\\"type\\\": \\\"quantitative\\\"}}, \\\"mark\\\": {\\\"interpolate\\\": \\\"monotone\\\", \\\"point\\\": true, \\\"tooltip\\\": true, \\\"type\\\": \\\"line\\\"}, \\\"title\\\": \\\"Count of Earthquakes Per Year\\\"}\\n```\\n\\nThis chart displays the number of earthquakes recorded each year, with the year on the x-axis and the count of earthquakes on the y-axis.\"\n",
       "    }\n",
       "  }\n",
       "}"
      ]
     },
     "execution_count": 84,
     "metadata": {},
     "output_type": "execute_result"
    }
   ],
   "source": [
    "history[0]"
   ]
  },
  {
   "cell_type": "markdown",
   "id": "2555dde7",
   "metadata": {},
   "source": [
    "---\n",
    "### Stateless - With Agent As Context\n",
    "\n",
    "Use the agent (data agent) definied earlier to provide the data source as context.  This chat is not persisted by the service so successive request should include the relevant history."
   ]
  },
  {
   "cell_type": "markdown",
   "id": "17d080dd",
   "metadata": {},
   "source": [
    "#### Question 1"
   ]
  },
  {
   "cell_type": "code",
   "execution_count": 45,
   "id": "ac6210bf",
   "metadata": {},
   "outputs": [
    {
     "name": "stdout",
     "output_type": "stream",
     "text": [
      "The average number of earthquakes per year is 6.58.\n",
      "\n",
      "\n"
     ]
    }
   ],
   "source": [
    "questions[0]['stateless_agent_answer'] = chat(\n",
    "    questions[0]['question'],\n",
    "    context_mode ='agent',\n",
    "    history = []\n",
    ")"
   ]
  },
  {
   "cell_type": "code",
   "execution_count": 46,
   "id": "dccae860",
   "metadata": {},
   "outputs": [
    {
     "data": {
      "text/plain": [
       "17"
      ]
     },
     "execution_count": 46,
     "metadata": {},
     "output_type": "execute_result"
    }
   ],
   "source": [
    "len(questions[0]['stateless_agent_answer'])"
   ]
  },
  {
   "cell_type": "code",
   "execution_count": 47,
   "id": "fcf17077",
   "metadata": {},
   "outputs": [
    {
     "data": {
      "text/plain": [
       "user_message {\n",
       "  text: \"How many earthquakes happen per year on average?\"\n",
       "}"
      ]
     },
     "execution_count": 47,
     "metadata": {},
     "output_type": "execute_result"
    }
   ],
   "source": [
    "questions[0]['stateless_agent_answer'][0]"
   ]
  },
  {
   "cell_type": "code",
   "execution_count": 48,
   "id": "22bccaee",
   "metadata": {},
   "outputs": [
    {
     "data": {
      "text/plain": [
       "timestamp {\n",
       "  seconds: 1757261023\n",
       "  nanos: 852000000\n",
       "}\n",
       "system_message {\n",
       "  text {\n",
       "    parts: \"The average number of earthquakes per year is 6.58.\"\n",
       "  }\n",
       "}"
      ]
     },
     "execution_count": 48,
     "metadata": {},
     "output_type": "execute_result"
    }
   ],
   "source": [
    "questions[0]['stateless_agent_answer'][-1]"
   ]
  },
  {
   "cell_type": "markdown",
   "id": "8903c34a",
   "metadata": {},
   "source": [
    "#### Question 2"
   ]
  },
  {
   "cell_type": "code",
   "execution_count": 49,
   "id": "4d308712",
   "metadata": {},
   "outputs": [
    {
     "name": "stdout",
     "output_type": "stream",
     "text": [
      "The average number of tsunamis per year is 4.95.\n",
      "\n",
      "\n"
     ]
    }
   ],
   "source": [
    "questions[1]['stateless_agent_answer'] = chat(\n",
    "    questions[1]['question'],\n",
    "    context_mode ='agent',\n",
    "    history = questions[0]['stateless_agent_answer']\n",
    ")"
   ]
  },
  {
   "cell_type": "code",
   "execution_count": 50,
   "id": "20f20516",
   "metadata": {},
   "outputs": [
    {
     "data": {
      "text/plain": [
       "30"
      ]
     },
     "execution_count": 50,
     "metadata": {},
     "output_type": "execute_result"
    }
   ],
   "source": [
    "len(questions[1]['stateless_agent_answer'])"
   ]
  },
  {
   "cell_type": "markdown",
   "id": "2448355a",
   "metadata": {},
   "source": [
    "#### Question 3"
   ]
  },
  {
   "cell_type": "code",
   "execution_count": 51,
   "id": "7aabedfe",
   "metadata": {},
   "outputs": [
    {
     "name": "stdout",
     "output_type": "stream",
     "text": [
      "On average, there are more earthquakes (6.58 per year) than tsunamis (4.95 per year).\n",
      "\n",
      "\n"
     ]
    }
   ],
   "source": [
    "questions[2]['stateless_agent_answer'] = chat(\n",
    "    questions[2]['question'],\n",
    "    context_mode ='agent',\n",
    "    history = questions[1]['stateless_agent_answer']\n",
    ")"
   ]
  },
  {
   "cell_type": "code",
   "execution_count": 52,
   "id": "35c5f1a4",
   "metadata": {},
   "outputs": [
    {
     "data": {
      "text/plain": [
       "32"
      ]
     },
     "execution_count": 52,
     "metadata": {},
     "output_type": "execute_result"
    }
   ],
   "source": [
    "len(questions[2]['stateless_agent_answer'])"
   ]
  },
  {
   "cell_type": "markdown",
   "id": "cda19a1a",
   "metadata": {},
   "source": [
    "#### Question 4"
   ]
  },
  {
   "cell_type": "code",
   "execution_count": 53,
   "id": "9a7a9571",
   "metadata": {},
   "outputs": [
    {
     "name": "stdout",
     "output_type": "stream",
     "text": [
      "The chart shows the count of earthquakes per year. The x-axis represents the year and the y-axis represents the count of earthquakes. The data ranges from -2150 to 2021.\n",
      "\n",
      "\n"
     ]
    }
   ],
   "source": [
    "questions[3]['stateless_agent_answer'] = chat(\n",
    "    questions[3]['question'],\n",
    "    context_mode ='agent',\n",
    "    history = questions[2]['stateless_agent_answer']\n",
    ")"
   ]
  },
  {
   "cell_type": "code",
   "execution_count": 54,
   "id": "345a9e22",
   "metadata": {},
   "outputs": [
    {
     "data": {
      "text/plain": [
       "36"
      ]
     },
     "execution_count": 54,
     "metadata": {},
     "output_type": "execute_result"
    }
   ],
   "source": [
    "len(questions[3]['stateless_agent_answer'])"
   ]
  },
  {
   "cell_type": "code",
   "execution_count": 55,
   "id": "2ee9333e",
   "metadata": {},
   "outputs": [
    {
     "data": {
      "text/html": [
       "\n",
       "<style>\n",
       "  #altair-viz-7458ac77081042cca87c781e81d3bb09.vega-embed {\n",
       "    width: 100%;\n",
       "    display: flex;\n",
       "  }\n",
       "\n",
       "  #altair-viz-7458ac77081042cca87c781e81d3bb09.vega-embed details,\n",
       "  #altair-viz-7458ac77081042cca87c781e81d3bb09.vega-embed details summary {\n",
       "    position: relative;\n",
       "  }\n",
       "</style>\n",
       "<div id=\"altair-viz-7458ac77081042cca87c781e81d3bb09\"></div>\n",
       "<script type=\"text/javascript\">\n",
       "  var VEGA_DEBUG = (typeof VEGA_DEBUG == \"undefined\") ? {} : VEGA_DEBUG;\n",
       "  (function(spec, embedOpt){\n",
       "    let outputDiv = document.currentScript.previousElementSibling;\n",
       "    if (outputDiv.id !== \"altair-viz-7458ac77081042cca87c781e81d3bb09\") {\n",
       "      outputDiv = document.getElementById(\"altair-viz-7458ac77081042cca87c781e81d3bb09\");\n",
       "    }\n",
       "\n",
       "    const paths = {\n",
       "      \"vega\": \"https://cdn.jsdelivr.net/npm/vega@5?noext\",\n",
       "      \"vega-lib\": \"https://cdn.jsdelivr.net/npm/vega-lib?noext\",\n",
       "      \"vega-lite\": \"https://cdn.jsdelivr.net/npm/vega-lite@5.20.1?noext\",\n",
       "      \"vega-embed\": \"https://cdn.jsdelivr.net/npm/vega-embed@6?noext\",\n",
       "    };\n",
       "\n",
       "    function maybeLoadScript(lib, version) {\n",
       "      var key = `${lib.replace(\"-\", \"\")}_version`;\n",
       "      return (VEGA_DEBUG[key] == version) ?\n",
       "        Promise.resolve(paths[lib]) :\n",
       "        new Promise(function(resolve, reject) {\n",
       "          var s = document.createElement('script');\n",
       "          document.getElementsByTagName(\"head\")[0].appendChild(s);\n",
       "          s.async = true;\n",
       "          s.onload = () => {\n",
       "            VEGA_DEBUG[key] = version;\n",
       "            return resolve(paths[lib]);\n",
       "          };\n",
       "          s.onerror = () => reject(`Error loading script: ${paths[lib]}`);\n",
       "          s.src = paths[lib];\n",
       "        });\n",
       "    }\n",
       "\n",
       "    function showError(err) {\n",
       "      outputDiv.innerHTML = `<div class=\"error\" style=\"color:red;\">${err}</div>`;\n",
       "      throw err;\n",
       "    }\n",
       "\n",
       "    function displayChart(vegaEmbed) {\n",
       "      vegaEmbed(outputDiv, spec, embedOpt)\n",
       "        .catch(err => showError(`Javascript Error: ${err.message}<br>This usually means there's a typo in your chart specification. See the javascript console for the full traceback.`));\n",
       "    }\n",
       "\n",
       "    if(typeof define === \"function\" && define.amd) {\n",
       "      requirejs.config({paths});\n",
       "      let deps = [\"vega-embed\"];\n",
       "      require(deps, displayChart, err => showError(`Error loading script: ${err.message}`));\n",
       "    } else {\n",
       "      maybeLoadScript(\"vega\", \"5\")\n",
       "        .then(() => maybeLoadScript(\"vega-lite\", \"5.20.1\"))\n",
       "        .then(() => maybeLoadScript(\"vega-embed\", \"6\"))\n",
       "        .catch(showError)\n",
       "        .then(() => displayChart(vegaEmbed));\n",
       "    }\n",
       "  })({\"config\": {\"view\": {\"continuousWidth\": 300, \"continuousHeight\": 300}}, \"data\": {\"name\": \"data-af52f21ef3faeca12cd0ad73d8e463cb\"}, \"mark\": {\"type\": \"line\", \"interpolate\": \"monotone\", \"point\": true, \"tooltip\": true}, \"encoding\": {\"x\": {\"axis\": {\"labelOverlap\": true}, \"field\": \"year\", \"sort\": \"ascending\", \"title\": \"Year\"}, \"y\": {\"axis\": {\"labelOverlap\": true}, \"field\": \"count_of_earthquakes\", \"sort\": {}, \"title\": \"Count of Earthquakes\", \"type\": \"quantitative\"}}, \"title\": \"Count of Earthquakes Per Year\", \"$schema\": \"https://vega.github.io/schema/vega-lite/v5.20.1.json\", \"datasets\": {\"data-af52f21ef3faeca12cd0ad73d8e463cb\": [{\"year\": -2150.0, \"count_of_earthquakes\": 1.0}, {\"year\": -2000.0, \"count_of_earthquakes\": 2.0}, {\"year\": -1610.0, \"count_of_earthquakes\": 1.0}, {\"year\": -1566.0, \"count_of_earthquakes\": 1.0}, {\"year\": -1450.0, \"count_of_earthquakes\": 1.0}, {\"year\": -1365.0, \"count_of_earthquakes\": 1.0}, {\"year\": -1250.0, \"count_of_earthquakes\": 1.0}, {\"year\": -1050.0, \"count_of_earthquakes\": 1.0}, {\"year\": -759.0, \"count_of_earthquakes\": 1.0}, {\"year\": -590.0, \"count_of_earthquakes\": 1.0}, {\"year\": -550.0, \"count_of_earthquakes\": 1.0}, {\"year\": -525.0, \"count_of_earthquakes\": 1.0}, {\"year\": -480.0, \"count_of_earthquakes\": 1.0}, {\"year\": -479.0, \"count_of_earthquakes\": 1.0}, {\"year\": -432.0, \"count_of_earthquakes\": 1.0}, {\"year\": -426.0, \"count_of_earthquakes\": 1.0}, {\"year\": -400.0, \"count_of_earthquakes\": 1.0}, {\"year\": -373.0, \"count_of_earthquakes\": 1.0}, {\"year\": -364.0, \"count_of_earthquakes\": 1.0}, {\"year\": -330.0, \"count_of_earthquakes\": 1.0}, {\"year\": -326.0, \"count_of_earthquakes\": 1.0}, {\"year\": -282.0, \"count_of_earthquakes\": 2.0}, {\"year\": -250.0, \"count_of_earthquakes\": 1.0}, {\"year\": -241.0, \"count_of_earthquakes\": 1.0}, {\"year\": -227.0, \"count_of_earthquakes\": 1.0}, {\"year\": -223.0, \"count_of_earthquakes\": 1.0}, {\"year\": -221.0, \"count_of_earthquakes\": 1.0}, {\"year\": -217.0, \"count_of_earthquakes\": 1.0}, {\"year\": -216.0, \"count_of_earthquakes\": 1.0}, {\"year\": -210.0, \"count_of_earthquakes\": 1.0}, {\"year\": -198.0, \"count_of_earthquakes\": 1.0}, {\"year\": -193.0, \"count_of_earthquakes\": 1.0}, {\"year\": -186.0, \"count_of_earthquakes\": 1.0}, {\"year\": -177.0, \"count_of_earthquakes\": 1.0}, {\"year\": -70.0, \"count_of_earthquakes\": 1.0}, {\"year\": -63.0, \"count_of_earthquakes\": 1.0}, {\"year\": -60.0, \"count_of_earthquakes\": 1.0}, {\"year\": -58.0, \"count_of_earthquakes\": 1.0}, {\"year\": -50.0, \"count_of_earthquakes\": 2.0}, {\"year\": -47.0, \"count_of_earthquakes\": 1.0}, {\"year\": -33.0, \"count_of_earthquakes\": 1.0}, {\"year\": -31.0, \"count_of_earthquakes\": 1.0}, {\"year\": -27.0, \"count_of_earthquakes\": 1.0}, {\"year\": -26.0, \"count_of_earthquakes\": 2.0}, {\"year\": -15.0, \"count_of_earthquakes\": 1.0}, {\"year\": 10.0, \"count_of_earthquakes\": 1.0}, {\"year\": 11.0, \"count_of_earthquakes\": 1.0}, {\"year\": 17.0, \"count_of_earthquakes\": 1.0}, {\"year\": 23.0, \"count_of_earthquakes\": 1.0}, {\"year\": 25.0, \"count_of_earthquakes\": 1.0}, {\"year\": 27.0, \"count_of_earthquakes\": 1.0}, {\"year\": 29.0, \"count_of_earthquakes\": 1.0}, {\"year\": 33.0, \"count_of_earthquakes\": 1.0}, {\"year\": 37.0, \"count_of_earthquakes\": 1.0}, {\"year\": 46.0, \"count_of_earthquakes\": 1.0}, {\"year\": 50.0, \"count_of_earthquakes\": 1.0}, {\"year\": 52.0, \"count_of_earthquakes\": 2.0}, {\"year\": 55.0, \"count_of_earthquakes\": 1.0}, {\"year\": 57.0, \"count_of_earthquakes\": 1.0}, {\"year\": 60.0, \"count_of_earthquakes\": 1.0}, {\"year\": 62.0, \"count_of_earthquakes\": 1.0}, {\"year\": 63.0, \"count_of_earthquakes\": 1.0}, {\"year\": 68.0, \"count_of_earthquakes\": 1.0}, {\"year\": 76.0, \"count_of_earthquakes\": 1.0}, {\"year\": 79.0, \"count_of_earthquakes\": 1.0}, {\"year\": 89.0, \"count_of_earthquakes\": 1.0}, {\"year\": 93.0, \"count_of_earthquakes\": 1.0}, {\"year\": 100.0, \"count_of_earthquakes\": 1.0}, {\"year\": 103.0, \"count_of_earthquakes\": 1.0}, {\"year\": 105.0, \"count_of_earthquakes\": 1.0}, {\"year\": 109.0, \"count_of_earthquakes\": 1.0}, {\"year\": 115.0, \"count_of_earthquakes\": 1.0}, {\"year\": 120.0, \"count_of_earthquakes\": 1.0}, {\"year\": 123.0, \"count_of_earthquakes\": 1.0}, {\"year\": 128.0, \"count_of_earthquakes\": 1.0}, {\"year\": 138.0, \"count_of_earthquakes\": 1.0}, {\"year\": 142.0, \"count_of_earthquakes\": 1.0}, {\"year\": 143.0, \"count_of_earthquakes\": 1.0}, {\"year\": 155.0, \"count_of_earthquakes\": 1.0}, {\"year\": 170.0, \"count_of_earthquakes\": 1.0}, {\"year\": 173.0, \"count_of_earthquakes\": 1.0}, {\"year\": 177.0, \"count_of_earthquakes\": 2.0}, {\"year\": 180.0, \"count_of_earthquakes\": 1.0}, {\"year\": 243.0, \"count_of_earthquakes\": 1.0}, {\"year\": 251.0, \"count_of_earthquakes\": 1.0}, {\"year\": 253.0, \"count_of_earthquakes\": 1.0}, {\"year\": 258.0, \"count_of_earthquakes\": 1.0}, {\"year\": 262.0, \"count_of_earthquakes\": 1.0}, {\"year\": 294.0, \"count_of_earthquakes\": 2.0}, {\"year\": 304.0, \"count_of_earthquakes\": 1.0}, {\"year\": 306.0, \"count_of_earthquakes\": 1.0}, {\"year\": 315.0, \"count_of_earthquakes\": 1.0}, {\"year\": 319.0, \"count_of_earthquakes\": 1.0}, {\"year\": 324.0, \"count_of_earthquakes\": 1.0}, {\"year\": 334.0, \"count_of_earthquakes\": 1.0}, {\"year\": 340.0, \"count_of_earthquakes\": 1.0}, {\"year\": 341.0, \"count_of_earthquakes\": 1.0}, {\"year\": 342.0, \"count_of_earthquakes\": 2.0}, {\"year\": 344.0, \"count_of_earthquakes\": 3.0}, {\"year\": 346.0, \"count_of_earthquakes\": 1.0}, {\"year\": 348.0, \"count_of_earthquakes\": 1.0}, {\"year\": 350.0, \"count_of_earthquakes\": 1.0}, {\"year\": 355.0, \"count_of_earthquakes\": 1.0}, {\"year\": 358.0, \"count_of_earthquakes\": 1.0}, {\"year\": 361.0, \"count_of_earthquakes\": 1.0}, {\"year\": 362.0, \"count_of_earthquakes\": 2.0}, {\"year\": 365.0, \"count_of_earthquakes\": 1.0}, {\"year\": 367.0, \"count_of_earthquakes\": 1.0}, {\"year\": 368.0, \"count_of_earthquakes\": 2.0}, {\"year\": 369.0, \"count_of_earthquakes\": 1.0}, {\"year\": 382.0, \"count_of_earthquakes\": 1.0}, {\"year\": 394.0, \"count_of_earthquakes\": 1.0}, {\"year\": 396.0, \"count_of_earthquakes\": 1.0}, {\"year\": 407.0, \"count_of_earthquakes\": 1.0}, {\"year\": 412.0, \"count_of_earthquakes\": 1.0}, {\"year\": 419.0, \"count_of_earthquakes\": 1.0}, {\"year\": 425.0, \"count_of_earthquakes\": 1.0}, {\"year\": 427.0, \"count_of_earthquakes\": 1.0}, {\"year\": 438.0, \"count_of_earthquakes\": 1.0}, {\"year\": 440.0, \"count_of_earthquakes\": 1.0}, {\"year\": 447.0, \"count_of_earthquakes\": 1.0}, {\"year\": 448.0, \"count_of_earthquakes\": 1.0}, {\"year\": 450.0, \"count_of_earthquakes\": 1.0}, {\"year\": 457.0, \"count_of_earthquakes\": 1.0}, {\"year\": 458.0, \"count_of_earthquakes\": 1.0}, {\"year\": 460.0, \"count_of_earthquakes\": 1.0}, {\"year\": 470.0, \"count_of_earthquakes\": 1.0}, {\"year\": 477.0, \"count_of_earthquakes\": 1.0}, {\"year\": 478.0, \"count_of_earthquakes\": 1.0}, {\"year\": 494.0, \"count_of_earthquakes\": 1.0}, {\"year\": 499.0, \"count_of_earthquakes\": 1.0}, {\"year\": 500.0, \"count_of_earthquakes\": 1.0}, {\"year\": 501.0, \"count_of_earthquakes\": 1.0}, {\"year\": 510.0, \"count_of_earthquakes\": 1.0}, {\"year\": 512.0, \"count_of_earthquakes\": 1.0}, {\"year\": 518.0, \"count_of_earthquakes\": 1.0}, {\"year\": 521.0, \"count_of_earthquakes\": 1.0}, {\"year\": 522.0, \"count_of_earthquakes\": 2.0}, {\"year\": 525.0, \"count_of_earthquakes\": 1.0}, {\"year\": 527.0, \"count_of_earthquakes\": 1.0}, {\"year\": 528.0, \"count_of_earthquakes\": 1.0}, {\"year\": 533.0, \"count_of_earthquakes\": 1.0}, {\"year\": 543.0, \"count_of_earthquakes\": 1.0}, {\"year\": 551.0, \"count_of_earthquakes\": 3.0}, {\"year\": 552.0, \"count_of_earthquakes\": 1.0}, {\"year\": 553.0, \"count_of_earthquakes\": 1.0}, {\"year\": 554.0, \"count_of_earthquakes\": 1.0}, {\"year\": 555.0, \"count_of_earthquakes\": 1.0}, {\"year\": 557.0, \"count_of_earthquakes\": 3.0}, {\"year\": 558.0, \"count_of_earthquakes\": 2.0}, {\"year\": 565.0, \"count_of_earthquakes\": 1.0}, {\"year\": 567.0, \"count_of_earthquakes\": 1.0}, {\"year\": 579.0, \"count_of_earthquakes\": 1.0}, {\"year\": 581.0, \"count_of_earthquakes\": 1.0}, {\"year\": 587.0, \"count_of_earthquakes\": 1.0}, {\"year\": 600.0, \"count_of_earthquakes\": 1.0}, {\"year\": 614.0, \"count_of_earthquakes\": 1.0}, {\"year\": 634.0, \"count_of_earthquakes\": 1.0}, {\"year\": 649.0, \"count_of_earthquakes\": 1.0}, {\"year\": 662.0, \"count_of_earthquakes\": 1.0}, {\"year\": 664.0, \"count_of_earthquakes\": 1.0}, {\"year\": 678.0, \"count_of_earthquakes\": 1.0}, {\"year\": 684.0, \"count_of_earthquakes\": 1.0}, {\"year\": 688.0, \"count_of_earthquakes\": 1.0}, {\"year\": 701.0, \"count_of_earthquakes\": 1.0}, {\"year\": 704.0, \"count_of_earthquakes\": 1.0}, {\"year\": 713.0, \"count_of_earthquakes\": 1.0}, {\"year\": 715.0, \"count_of_earthquakes\": 1.0}, {\"year\": 716.0, \"count_of_earthquakes\": 1.0}, {\"year\": 734.0, \"count_of_earthquakes\": 1.0}, {\"year\": 735.0, \"count_of_earthquakes\": 1.0}, {\"year\": 740.0, \"count_of_earthquakes\": 1.0}, {\"year\": 742.0, \"count_of_earthquakes\": 1.0}, {\"year\": 743.0, \"count_of_earthquakes\": 2.0}, {\"year\": 744.0, \"count_of_earthquakes\": 1.0}, {\"year\": 745.0, \"count_of_earthquakes\": 2.0}, {\"year\": 746.0, \"count_of_earthquakes\": 1.0}, {\"year\": 748.0, \"count_of_earthquakes\": 1.0}, {\"year\": 749.0, \"count_of_earthquakes\": 1.0}, {\"year\": 758.0, \"count_of_earthquakes\": 1.0}, {\"year\": 763.0, \"count_of_earthquakes\": 1.0}, {\"year\": 766.0, \"count_of_earthquakes\": 1.0}, {\"year\": 777.0, \"count_of_earthquakes\": 1.0}, {\"year\": 778.0, \"count_of_earthquakes\": 2.0}, {\"year\": 780.0, \"count_of_earthquakes\": 1.0}, {\"year\": 788.0, \"count_of_earthquakes\": 1.0}, {\"year\": 793.0, \"count_of_earthquakes\": 1.0}, {\"year\": 796.0, \"count_of_earthquakes\": 1.0}, {\"year\": 801.0, \"count_of_earthquakes\": 1.0}, {\"year\": 802.0, \"count_of_earthquakes\": 1.0}, {\"year\": 803.0, \"count_of_earthquakes\": 1.0}, {\"year\": 811.0, \"count_of_earthquakes\": 1.0}, {\"year\": 814.0, \"count_of_earthquakes\": 1.0}, {\"year\": 818.0, \"count_of_earthquakes\": 2.0}, {\"year\": 820.0, \"count_of_earthquakes\": 1.0}, {\"year\": 835.0, \"count_of_earthquakes\": 1.0}, {\"year\": 838.0, \"count_of_earthquakes\": 1.0}, {\"year\": 842.0, \"count_of_earthquakes\": 1.0}, {\"year\": 844.0, \"count_of_earthquakes\": 1.0}, {\"year\": 845.0, \"count_of_earthquakes\": 1.0}, {\"year\": 846.0, \"count_of_earthquakes\": 1.0}, {\"year\": 847.0, \"count_of_earthquakes\": 3.0}, {\"year\": 850.0, \"count_of_earthquakes\": 2.0}, {\"year\": 851.0, \"count_of_earthquakes\": 1.0}, {\"year\": 853.0, \"count_of_earthquakes\": 1.0}, {\"year\": 854.0, \"count_of_earthquakes\": 3.0}, {\"year\": 855.0, \"count_of_earthquakes\": 1.0}, {\"year\": 856.0, \"count_of_earthquakes\": 4.0}, {\"year\": 857.0, \"count_of_earthquakes\": 1.0}, {\"year\": 858.0, \"count_of_earthquakes\": 2.0}, {\"year\": 859.0, \"count_of_earthquakes\": 1.0}, {\"year\": 860.0, \"count_of_earthquakes\": 1.0}, {\"year\": 863.0, \"count_of_earthquakes\": 4.0}, {\"year\": 864.0, \"count_of_earthquakes\": 1.0}, {\"year\": 867.0, \"count_of_earthquakes\": 1.0}, {\"year\": 869.0, \"count_of_earthquakes\": 1.0}, {\"year\": 871.0, \"count_of_earthquakes\": 1.0}, {\"year\": 876.0, \"count_of_earthquakes\": 1.0}, {\"year\": 881.0, \"count_of_earthquakes\": 1.0}, {\"year\": 885.0, \"count_of_earthquakes\": 1.0}, {\"year\": 887.0, \"count_of_earthquakes\": 2.0}, {\"year\": 891.0, \"count_of_earthquakes\": 1.0}, {\"year\": 893.0, \"count_of_earthquakes\": 1.0}, {\"year\": 894.0, \"count_of_earthquakes\": 1.0}, {\"year\": 896.0, \"count_of_earthquakes\": 2.0}, {\"year\": 898.0, \"count_of_earthquakes\": 1.0}, {\"year\": 910.0, \"count_of_earthquakes\": 1.0}, {\"year\": 912.0, \"count_of_earthquakes\": 1.0}, {\"year\": 922.0, \"count_of_earthquakes\": 1.0}, {\"year\": 942.0, \"count_of_earthquakes\": 2.0}, {\"year\": 943.0, \"count_of_earthquakes\": 1.0}, {\"year\": 951.0, \"count_of_earthquakes\": 1.0}, {\"year\": 953.0, \"count_of_earthquakes\": 1.0}, {\"year\": 956.0, \"count_of_earthquakes\": 1.0}, {\"year\": 957.0, \"count_of_earthquakes\": 2.0}, {\"year\": 958.0, \"count_of_earthquakes\": 2.0}, {\"year\": 963.0, \"count_of_earthquakes\": 1.0}, {\"year\": 972.0, \"count_of_earthquakes\": 1.0}, {\"year\": 977.0, \"count_of_earthquakes\": 1.0}, {\"year\": 978.0, \"count_of_earthquakes\": 1.0}, {\"year\": 985.0, \"count_of_earthquakes\": 1.0}, {\"year\": 986.0, \"count_of_earthquakes\": 1.0}, {\"year\": 990.0, \"count_of_earthquakes\": 1.0}, {\"year\": 991.0, \"count_of_earthquakes\": 1.0}, {\"year\": 999.0, \"count_of_earthquakes\": 2.0}, {\"year\": 1000.0, \"count_of_earthquakes\": 2.0}, {\"year\": 1001.0, \"count_of_earthquakes\": 2.0}, {\"year\": 1003.0, \"count_of_earthquakes\": 2.0}, {\"year\": 1007.0, \"count_of_earthquakes\": 1.0}, {\"year\": 1008.0, \"count_of_earthquakes\": 1.0}, {\"year\": 1010.0, \"count_of_earthquakes\": 1.0}, {\"year\": 1013.0, \"count_of_earthquakes\": 1.0}, {\"year\": 1021.0, \"count_of_earthquakes\": 1.0}, {\"year\": 1022.0, \"count_of_earthquakes\": 1.0}, {\"year\": 1026.0, \"count_of_earthquakes\": 1.0}, {\"year\": 1033.0, \"count_of_earthquakes\": 1.0}, {\"year\": 1036.0, \"count_of_earthquakes\": 1.0}, {\"year\": 1037.0, \"count_of_earthquakes\": 1.0}, {\"year\": 1038.0, \"count_of_earthquakes\": 1.0}, {\"year\": 1039.0, \"count_of_earthquakes\": 1.0}, {\"year\": 1040.0, \"count_of_earthquakes\": 1.0}, {\"year\": 1042.0, \"count_of_earthquakes\": 2.0}, {\"year\": 1045.0, \"count_of_earthquakes\": 1.0}, {\"year\": 1046.0, \"count_of_earthquakes\": 1.0}, {\"year\": 1048.0, \"count_of_earthquakes\": 1.0}, {\"year\": 1052.0, \"count_of_earthquakes\": 2.0}, {\"year\": 1057.0, \"count_of_earthquakes\": 1.0}, {\"year\": 1058.0, \"count_of_earthquakes\": 1.0}, {\"year\": 1063.0, \"count_of_earthquakes\": 2.0}, {\"year\": 1064.0, \"count_of_earthquakes\": 1.0}, {\"year\": 1065.0, \"count_of_earthquakes\": 2.0}, {\"year\": 1066.0, \"count_of_earthquakes\": 1.0}, {\"year\": 1067.0, \"count_of_earthquakes\": 1.0}, {\"year\": 1068.0, \"count_of_earthquakes\": 2.0}, {\"year\": 1070.0, \"count_of_earthquakes\": 1.0}, {\"year\": 1072.0, \"count_of_earthquakes\": 1.0}, {\"year\": 1076.0, \"count_of_earthquakes\": 1.0}, {\"year\": 1082.0, \"count_of_earthquakes\": 1.0}, {\"year\": 1085.0, \"count_of_earthquakes\": 2.0}, {\"year\": 1086.0, \"count_of_earthquakes\": 2.0}, {\"year\": 1088.0, \"count_of_earthquakes\": 2.0}, {\"year\": 1089.0, \"count_of_earthquakes\": 1.0}, {\"year\": 1091.0, \"count_of_earthquakes\": 1.0}, {\"year\": 1096.0, \"count_of_earthquakes\": 1.0}, {\"year\": 1099.0, \"count_of_earthquakes\": 1.0}, {\"year\": 1101.0, \"count_of_earthquakes\": 1.0}, {\"year\": 1102.0, \"count_of_earthquakes\": 2.0}, {\"year\": 1106.0, \"count_of_earthquakes\": 1.0}, {\"year\": 1109.0, \"count_of_earthquakes\": 1.0}, {\"year\": 1111.0, \"count_of_earthquakes\": 1.0}, {\"year\": 1114.0, \"count_of_earthquakes\": 3.0}, {\"year\": 1115.0, \"count_of_earthquakes\": 3.0}, {\"year\": 1117.0, \"count_of_earthquakes\": 2.0}, {\"year\": 1118.0, \"count_of_earthquakes\": 1.0}, {\"year\": 1119.0, \"count_of_earthquakes\": 1.0}, {\"year\": 1125.0, \"count_of_earthquakes\": 2.0}, {\"year\": 1130.0, \"count_of_earthquakes\": 2.0}, {\"year\": 1137.0, \"count_of_earthquakes\": 2.0}, {\"year\": 1139.0, \"count_of_earthquakes\": 1.0}, {\"year\": 1143.0, \"count_of_earthquakes\": 1.0}, {\"year\": 1149.0, \"count_of_earthquakes\": 1.0}, {\"year\": 1151.0, \"count_of_earthquakes\": 2.0}, {\"year\": 1153.0, \"count_of_earthquakes\": 1.0}, {\"year\": 1155.0, \"count_of_earthquakes\": 2.0}, {\"year\": 1156.0, \"count_of_earthquakes\": 1.0}, {\"year\": 1157.0, \"count_of_earthquakes\": 1.0}, {\"year\": 1158.0, \"count_of_earthquakes\": 1.0}, {\"year\": 1160.0, \"count_of_earthquakes\": 1.0}, {\"year\": 1164.0, \"count_of_earthquakes\": 1.0}, {\"year\": 1169.0, \"count_of_earthquakes\": 2.0}, {\"year\": 1171.0, \"count_of_earthquakes\": 1.0}, {\"year\": 1172.0, \"count_of_earthquakes\": 1.0}, {\"year\": 1175.0, \"count_of_earthquakes\": 2.0}, {\"year\": 1176.0, \"count_of_earthquakes\": 1.0}, {\"year\": 1179.0, \"count_of_earthquakes\": 1.0}, {\"year\": 1180.0, \"count_of_earthquakes\": 1.0}, {\"year\": 1182.0, \"count_of_earthquakes\": 2.0}, {\"year\": 1183.0, \"count_of_earthquakes\": 1.0}, {\"year\": 1184.0, \"count_of_earthquakes\": 1.0}, {\"year\": 1201.0, \"count_of_earthquakes\": 1.0}, {\"year\": 1202.0, \"count_of_earthquakes\": 2.0}, {\"year\": 1208.0, \"count_of_earthquakes\": 2.0}, {\"year\": 1209.0, \"count_of_earthquakes\": 2.0}, {\"year\": 1211.0, \"count_of_earthquakes\": 1.0}, {\"year\": 1219.0, \"count_of_earthquakes\": 1.0}, {\"year\": 1222.0, \"count_of_earthquakes\": 2.0}, {\"year\": 1223.0, \"count_of_earthquakes\": 1.0}, {\"year\": 1227.0, \"count_of_earthquakes\": 2.0}, {\"year\": 1231.0, \"count_of_earthquakes\": 2.0}, {\"year\": 1233.0, \"count_of_earthquakes\": 1.0}, {\"year\": 1237.0, \"count_of_earthquakes\": 3.0}, {\"year\": 1241.0, \"count_of_earthquakes\": 1.0}, {\"year\": 1248.0, \"count_of_earthquakes\": 1.0}, {\"year\": 1255.0, \"count_of_earthquakes\": 1.0}, {\"year\": 1257.0, \"count_of_earthquakes\": 2.0}, {\"year\": 1259.0, \"count_of_earthquakes\": 1.0}, {\"year\": 1267.0, \"count_of_earthquakes\": 1.0}, {\"year\": 1268.0, \"count_of_earthquakes\": 1.0}, {\"year\": 1269.0, \"count_of_earthquakes\": 1.0}, {\"year\": 1272.0, \"count_of_earthquakes\": 1.0}, {\"year\": 1273.0, \"count_of_earthquakes\": 2.0}, {\"year\": 1275.0, \"count_of_earthquakes\": 1.0}, {\"year\": 1276.0, \"count_of_earthquakes\": 1.0}, {\"year\": 1277.0, \"count_of_earthquakes\": 1.0}, {\"year\": 1279.0, \"count_of_earthquakes\": 1.0}, {\"year\": 1280.0, \"count_of_earthquakes\": 3.0}, {\"year\": 1281.0, \"count_of_earthquakes\": 1.0}, {\"year\": 1283.0, \"count_of_earthquakes\": 1.0}, {\"year\": 1284.0, \"count_of_earthquakes\": 1.0}, {\"year\": 1286.0, \"count_of_earthquakes\": 1.0}, {\"year\": 1289.0, \"count_of_earthquakes\": 2.0}, {\"year\": 1290.0, \"count_of_earthquakes\": 1.0}, {\"year\": 1291.0, \"count_of_earthquakes\": 2.0}, {\"year\": 1293.0, \"count_of_earthquakes\": 2.0}, {\"year\": 1295.0, \"count_of_earthquakes\": 2.0}, {\"year\": 1298.0, \"count_of_earthquakes\": 1.0}, {\"year\": 1300.0, \"count_of_earthquakes\": 3.0}, {\"year\": 1301.0, \"count_of_earthquakes\": 1.0}, {\"year\": 1303.0, \"count_of_earthquakes\": 2.0}, {\"year\": 1304.0, \"count_of_earthquakes\": 1.0}, {\"year\": 1305.0, \"count_of_earthquakes\": 1.0}, {\"year\": 1306.0, \"count_of_earthquakes\": 3.0}, {\"year\": 1310.0, \"count_of_earthquakes\": 2.0}, {\"year\": 1314.0, \"count_of_earthquakes\": 1.0}, {\"year\": 1319.0, \"count_of_earthquakes\": 2.0}, {\"year\": 1320.0, \"count_of_earthquakes\": 1.0}, {\"year\": 1323.0, \"count_of_earthquakes\": 1.0}, {\"year\": 1327.0, \"count_of_earthquakes\": 1.0}, {\"year\": 1328.0, \"count_of_earthquakes\": 1.0}, {\"year\": 1329.0, \"count_of_earthquakes\": 1.0}, {\"year\": 1331.0, \"count_of_earthquakes\": 1.0}, {\"year\": 1332.0, \"count_of_earthquakes\": 1.0}, {\"year\": 1336.0, \"count_of_earthquakes\": 2.0}, {\"year\": 1337.0, \"count_of_earthquakes\": 1.0}, {\"year\": 1339.0, \"count_of_earthquakes\": 1.0}, {\"year\": 1340.0, \"count_of_earthquakes\": 1.0}, {\"year\": 1341.0, \"count_of_earthquakes\": 2.0}, {\"year\": 1343.0, \"count_of_earthquakes\": 3.0}, {\"year\": 1344.0, \"count_of_earthquakes\": 3.0}, {\"year\": 1345.0, \"count_of_earthquakes\": 1.0}, {\"year\": 1346.0, \"count_of_earthquakes\": 1.0}, {\"year\": 1347.0, \"count_of_earthquakes\": 1.0}, {\"year\": 1348.0, \"count_of_earthquakes\": 1.0}, {\"year\": 1349.0, \"count_of_earthquakes\": 1.0}, {\"year\": 1350.0, \"count_of_earthquakes\": 1.0}, {\"year\": 1351.0, \"count_of_earthquakes\": 1.0}, {\"year\": 1352.0, \"count_of_earthquakes\": 2.0}, {\"year\": 1353.0, \"count_of_earthquakes\": 1.0}, {\"year\": 1354.0, \"count_of_earthquakes\": 1.0}, {\"year\": 1356.0, \"count_of_earthquakes\": 2.0}, {\"year\": 1358.0, \"count_of_earthquakes\": 1.0}, {\"year\": 1359.0, \"count_of_earthquakes\": 1.0}, {\"year\": 1360.0, \"count_of_earthquakes\": 2.0}, {\"year\": 1361.0, \"count_of_earthquakes\": 3.0}, {\"year\": 1365.0, \"count_of_earthquakes\": 1.0}, {\"year\": 1367.0, \"count_of_earthquakes\": 1.0}, {\"year\": 1368.0, \"count_of_earthquakes\": 1.0}, {\"year\": 1372.0, \"count_of_earthquakes\": 1.0}, {\"year\": 1374.0, \"count_of_earthquakes\": 1.0}, {\"year\": 1375.0, \"count_of_earthquakes\": 1.0}, {\"year\": 1377.0, \"count_of_earthquakes\": 1.0}, {\"year\": 1380.0, \"count_of_earthquakes\": 1.0}, {\"year\": 1382.0, \"count_of_earthquakes\": 1.0}, {\"year\": 1383.0, \"count_of_earthquakes\": 1.0}, {\"year\": 1384.0, \"count_of_earthquakes\": 1.0}, {\"year\": 1385.0, \"count_of_earthquakes\": 1.0}, {\"year\": 1386.0, \"count_of_earthquakes\": 1.0}, {\"year\": 1387.0, \"count_of_earthquakes\": 2.0}, {\"year\": 1389.0, \"count_of_earthquakes\": 4.0}, {\"year\": 1390.0, \"count_of_earthquakes\": 2.0}, {\"year\": 1391.0, \"count_of_earthquakes\": 1.0}, {\"year\": 1399.0, \"count_of_earthquakes\": 1.0}, {\"year\": 1400.0, \"count_of_earthquakes\": 2.0}, {\"year\": 1402.0, \"count_of_earthquakes\": 1.0}, {\"year\": 1403.0, \"count_of_earthquakes\": 2.0}, {\"year\": 1404.0, \"count_of_earthquakes\": 1.0}, {\"year\": 1405.0, \"count_of_earthquakes\": 1.0}, {\"year\": 1406.0, \"count_of_earthquakes\": 1.0}, {\"year\": 1407.0, \"count_of_earthquakes\": 1.0}, {\"year\": 1408.0, \"count_of_earthquakes\": 2.0}, {\"year\": 1414.0, \"count_of_earthquakes\": 1.0}, {\"year\": 1417.0, \"count_of_earthquakes\": 1.0}, {\"year\": 1418.0, \"count_of_earthquakes\": 1.0}, {\"year\": 1419.0, \"count_of_earthquakes\": 1.0}, {\"year\": 1426.0, \"count_of_earthquakes\": 1.0}, {\"year\": 1427.0, \"count_of_earthquakes\": 1.0}, {\"year\": 1428.0, \"count_of_earthquakes\": 1.0}, {\"year\": 1431.0, \"count_of_earthquakes\": 1.0}, {\"year\": 1433.0, \"count_of_earthquakes\": 1.0}, {\"year\": 1440.0, \"count_of_earthquakes\": 2.0}, {\"year\": 1441.0, \"count_of_earthquakes\": 2.0}, {\"year\": 1443.0, \"count_of_earthquakes\": 1.0}, {\"year\": 1444.0, \"count_of_earthquakes\": 2.0}, {\"year\": 1445.0, \"count_of_earthquakes\": 1.0}, {\"year\": 1447.0, \"count_of_earthquakes\": 1.0}, {\"year\": 1448.0, \"count_of_earthquakes\": 1.0}, {\"year\": 1451.0, \"count_of_earthquakes\": 1.0}, {\"year\": 1454.0, \"count_of_earthquakes\": 2.0}, {\"year\": 1455.0, \"count_of_earthquakes\": 1.0}, {\"year\": 1456.0, \"count_of_earthquakes\": 3.0}, {\"year\": 1457.0, \"count_of_earthquakes\": 1.0}, {\"year\": 1458.0, \"count_of_earthquakes\": 2.0}, {\"year\": 1459.0, \"count_of_earthquakes\": 1.0}, {\"year\": 1461.0, \"count_of_earthquakes\": 2.0}, {\"year\": 1463.0, \"count_of_earthquakes\": 1.0}, {\"year\": 1464.0, \"count_of_earthquakes\": 1.0}, {\"year\": 1469.0, \"count_of_earthquakes\": 1.0}, {\"year\": 1471.0, \"count_of_earthquakes\": 2.0}, {\"year\": 1475.0, \"count_of_earthquakes\": 1.0}, {\"year\": 1478.0, \"count_of_earthquakes\": 1.0}, {\"year\": 1479.0, \"count_of_earthquakes\": 1.0}, {\"year\": 1481.0, \"count_of_earthquakes\": 5.0}, {\"year\": 1482.0, \"count_of_earthquakes\": 3.0}, {\"year\": 1483.0, \"count_of_earthquakes\": 2.0}, {\"year\": 1484.0, \"count_of_earthquakes\": 2.0}, {\"year\": 1485.0, \"count_of_earthquakes\": 1.0}, {\"year\": 1487.0, \"count_of_earthquakes\": 1.0}, {\"year\": 1488.0, \"count_of_earthquakes\": 1.0}, {\"year\": 1489.0, \"count_of_earthquakes\": 1.0}, {\"year\": 1490.0, \"count_of_earthquakes\": 3.0}, {\"year\": 1491.0, \"count_of_earthquakes\": 1.0}, {\"year\": 1493.0, \"count_of_earthquakes\": 2.0}, {\"year\": 1494.0, \"count_of_earthquakes\": 4.0}, {\"year\": 1495.0, \"count_of_earthquakes\": 2.0}, {\"year\": 1496.0, \"count_of_earthquakes\": 1.0}, {\"year\": 1498.0, \"count_of_earthquakes\": 4.0}, {\"year\": 1499.0, \"count_of_earthquakes\": 1.0}, {\"year\": 1500.0, \"count_of_earthquakes\": 2.0}, {\"year\": 1501.0, \"count_of_earthquakes\": 3.0}, {\"year\": 1502.0, \"count_of_earthquakes\": 3.0}, {\"year\": 1504.0, \"count_of_earthquakes\": 3.0}, {\"year\": 1505.0, \"count_of_earthquakes\": 4.0}, {\"year\": 1507.0, \"count_of_earthquakes\": 1.0}, {\"year\": 1508.0, \"count_of_earthquakes\": 1.0}, {\"year\": 1509.0, \"count_of_earthquakes\": 5.0}, {\"year\": 1510.0, \"count_of_earthquakes\": 4.0}, {\"year\": 1511.0, \"count_of_earthquakes\": 3.0}, {\"year\": 1512.0, \"count_of_earthquakes\": 2.0}, {\"year\": 1513.0, \"count_of_earthquakes\": 1.0}, {\"year\": 1514.0, \"count_of_earthquakes\": 2.0}, {\"year\": 1515.0, \"count_of_earthquakes\": 2.0}, {\"year\": 1516.0, \"count_of_earthquakes\": 3.0}, {\"year\": 1517.0, \"count_of_earthquakes\": 1.0}, {\"year\": 1518.0, \"count_of_earthquakes\": 2.0}, {\"year\": 1520.0, \"count_of_earthquakes\": 3.0}, {\"year\": 1522.0, \"count_of_earthquakes\": 3.0}, {\"year\": 1523.0, \"count_of_earthquakes\": 1.0}, {\"year\": 1524.0, \"count_of_earthquakes\": 1.0}, {\"year\": 1527.0, \"count_of_earthquakes\": 1.0}, {\"year\": 1530.0, \"count_of_earthquakes\": 2.0}, {\"year\": 1531.0, \"count_of_earthquakes\": 2.0}, {\"year\": 1535.0, \"count_of_earthquakes\": 1.0}, {\"year\": 1536.0, \"count_of_earthquakes\": 1.0}, {\"year\": 1537.0, \"count_of_earthquakes\": 1.0}, {\"year\": 1538.0, \"count_of_earthquakes\": 2.0}, {\"year\": 1539.0, \"count_of_earthquakes\": 2.0}, {\"year\": 1541.0, \"count_of_earthquakes\": 1.0}, {\"year\": 1542.0, \"count_of_earthquakes\": 3.0}, {\"year\": 1543.0, \"count_of_earthquakes\": 2.0}, {\"year\": 1545.0, \"count_of_earthquakes\": 2.0}, {\"year\": 1546.0, \"count_of_earthquakes\": 1.0}, {\"year\": 1547.0, \"count_of_earthquakes\": 1.0}, {\"year\": 1549.0, \"count_of_earthquakes\": 1.0}, {\"year\": 1550.0, \"count_of_earthquakes\": 2.0}, {\"year\": 1551.0, \"count_of_earthquakes\": 2.0}, {\"year\": 1552.0, \"count_of_earthquakes\": 1.0}, {\"year\": 1553.0, \"count_of_earthquakes\": 1.0}, {\"year\": 1555.0, \"count_of_earthquakes\": 3.0}, {\"year\": 1556.0, \"count_of_earthquakes\": 5.0}, {\"year\": 1560.0, \"count_of_earthquakes\": 2.0}, {\"year\": 1561.0, \"count_of_earthquakes\": 4.0}, {\"year\": 1562.0, \"count_of_earthquakes\": 1.0}, {\"year\": 1563.0, \"count_of_earthquakes\": 1.0}, {\"year\": 1564.0, \"count_of_earthquakes\": 2.0}, {\"year\": 1565.0, \"count_of_earthquakes\": 1.0}, {\"year\": 1566.0, \"count_of_earthquakes\": 3.0}, {\"year\": 1568.0, \"count_of_earthquakes\": 3.0}, {\"year\": 1570.0, \"count_of_earthquakes\": 2.0}, {\"year\": 1571.0, \"count_of_earthquakes\": 1.0}, {\"year\": 1573.0, \"count_of_earthquakes\": 2.0}, {\"year\": 1574.0, \"count_of_earthquakes\": 3.0}, {\"year\": 1575.0, \"count_of_earthquakes\": 2.0}, {\"year\": 1576.0, \"count_of_earthquakes\": 1.0}, {\"year\": 1577.0, \"count_of_earthquakes\": 1.0}, {\"year\": 1578.0, \"count_of_earthquakes\": 1.0}, {\"year\": 1579.0, \"count_of_earthquakes\": 3.0}, {\"year\": 1580.0, \"count_of_earthquakes\": 1.0}, {\"year\": 1581.0, \"count_of_earthquakes\": 1.0}, {\"year\": 1582.0, \"count_of_earthquakes\": 3.0}, {\"year\": 1584.0, \"count_of_earthquakes\": 4.0}, {\"year\": 1585.0, \"count_of_earthquakes\": 1.0}, {\"year\": 1586.0, \"count_of_earthquakes\": 4.0}, {\"year\": 1587.0, \"count_of_earthquakes\": 3.0}, {\"year\": 1588.0, \"count_of_earthquakes\": 2.0}, {\"year\": 1589.0, \"count_of_earthquakes\": 2.0}, {\"year\": 1590.0, \"count_of_earthquakes\": 6.0}, {\"year\": 1591.0, \"count_of_earthquakes\": 1.0}, {\"year\": 1593.0, \"count_of_earthquakes\": 1.0}, {\"year\": 1594.0, \"count_of_earthquakes\": 1.0}, {\"year\": 1596.0, \"count_of_earthquakes\": 1.0}, {\"year\": 1597.0, \"count_of_earthquakes\": 2.0}, {\"year\": 1598.0, \"count_of_earthquakes\": 1.0}, {\"year\": 1599.0, \"count_of_earthquakes\": 1.0}, {\"year\": 1600.0, \"count_of_earthquakes\": 4.0}, {\"year\": 1601.0, \"count_of_earthquakes\": 2.0}, {\"year\": 1602.0, \"count_of_earthquakes\": 1.0}, {\"year\": 1603.0, \"count_of_earthquakes\": 1.0}, {\"year\": 1604.0, \"count_of_earthquakes\": 5.0}, {\"year\": 1605.0, \"count_of_earthquakes\": 3.0}, {\"year\": 1606.0, \"count_of_earthquakes\": 1.0}, {\"year\": 1608.0, \"count_of_earthquakes\": 5.0}, {\"year\": 1609.0, \"count_of_earthquakes\": 3.0}, {\"year\": 1610.0, \"count_of_earthquakes\": 3.0}, {\"year\": 1611.0, \"count_of_earthquakes\": 6.0}, {\"year\": 1612.0, \"count_of_earthquakes\": 2.0}, {\"year\": 1613.0, \"count_of_earthquakes\": 3.0}, {\"year\": 1614.0, \"count_of_earthquakes\": 4.0}, {\"year\": 1615.0, \"count_of_earthquakes\": 4.0}, {\"year\": 1616.0, \"count_of_earthquakes\": 4.0}, {\"year\": 1618.0, \"count_of_earthquakes\": 5.0}, {\"year\": 1619.0, \"count_of_earthquakes\": 5.0}, {\"year\": 1620.0, \"count_of_earthquakes\": 2.0}, {\"year\": 1621.0, \"count_of_earthquakes\": 2.0}, {\"year\": 1622.0, \"count_of_earthquakes\": 5.0}, {\"year\": 1624.0, \"count_of_earthquakes\": 2.0}, {\"year\": 1625.0, \"count_of_earthquakes\": 1.0}, {\"year\": 1626.0, \"count_of_earthquakes\": 3.0}, {\"year\": 1627.0, \"count_of_earthquakes\": 4.0}, {\"year\": 1628.0, \"count_of_earthquakes\": 3.0}, {\"year\": 1629.0, \"count_of_earthquakes\": 3.0}, {\"year\": 1630.0, \"count_of_earthquakes\": 4.0}, {\"year\": 1631.0, \"count_of_earthquakes\": 5.0}, {\"year\": 1632.0, \"count_of_earthquakes\": 1.0}, {\"year\": 1633.0, \"count_of_earthquakes\": 4.0}, {\"year\": 1634.0, \"count_of_earthquakes\": 3.0}, {\"year\": 1636.0, \"count_of_earthquakes\": 4.0}, {\"year\": 1638.0, \"count_of_earthquakes\": 2.0}, {\"year\": 1639.0, \"count_of_earthquakes\": 4.0}, {\"year\": 1640.0, \"count_of_earthquakes\": 7.0}, {\"year\": 1641.0, \"count_of_earthquakes\": 6.0}, {\"year\": 1642.0, \"count_of_earthquakes\": 2.0}, {\"year\": 1643.0, \"count_of_earthquakes\": 1.0}, {\"year\": 1644.0, \"count_of_earthquakes\": 4.0}, {\"year\": 1645.0, \"count_of_earthquakes\": 3.0}, {\"year\": 1646.0, \"count_of_earthquakes\": 6.0}, {\"year\": 1647.0, \"count_of_earthquakes\": 3.0}, {\"year\": 1648.0, \"count_of_earthquakes\": 4.0}, {\"year\": 1649.0, \"count_of_earthquakes\": 3.0}, {\"year\": 1650.0, \"count_of_earthquakes\": 4.0}, {\"year\": 1651.0, \"count_of_earthquakes\": 1.0}, {\"year\": 1652.0, \"count_of_earthquakes\": 2.0}, {\"year\": 1653.0, \"count_of_earthquakes\": 2.0}, {\"year\": 1654.0, \"count_of_earthquakes\": 4.0}, {\"year\": 1655.0, \"count_of_earthquakes\": 2.0}, {\"year\": 1656.0, \"count_of_earthquakes\": 2.0}, {\"year\": 1657.0, \"count_of_earthquakes\": 6.0}, {\"year\": 1658.0, \"count_of_earthquakes\": 4.0}, {\"year\": 1659.0, \"count_of_earthquakes\": 4.0}, {\"year\": 1660.0, \"count_of_earthquakes\": 5.0}, {\"year\": 1661.0, \"count_of_earthquakes\": 2.0}, {\"year\": 1662.0, \"count_of_earthquakes\": 5.0}, {\"year\": 1663.0, \"count_of_earthquakes\": 2.0}, {\"year\": 1664.0, \"count_of_earthquakes\": 4.0}, {\"year\": 1665.0, \"count_of_earthquakes\": 3.0}, {\"year\": 1666.0, \"count_of_earthquakes\": 3.0}, {\"year\": 1667.0, \"count_of_earthquakes\": 8.0}, {\"year\": 1668.0, \"count_of_earthquakes\": 6.0}, {\"year\": 1669.0, \"count_of_earthquakes\": 3.0}, {\"year\": 1670.0, \"count_of_earthquakes\": 5.0}, {\"year\": 1671.0, \"count_of_earthquakes\": 2.0}, {\"year\": 1672.0, \"count_of_earthquakes\": 3.0}, {\"year\": 1673.0, \"count_of_earthquakes\": 5.0}, {\"year\": 1674.0, \"count_of_earthquakes\": 4.0}, {\"year\": 1675.0, \"count_of_earthquakes\": 1.0}, {\"year\": 1676.0, \"count_of_earthquakes\": 1.0}, {\"year\": 1677.0, \"count_of_earthquakes\": 5.0}, {\"year\": 1678.0, \"count_of_earthquakes\": 6.0}, {\"year\": 1679.0, \"count_of_earthquakes\": 4.0}, {\"year\": 1680.0, \"count_of_earthquakes\": 3.0}, {\"year\": 1681.0, \"count_of_earthquakes\": 3.0}, {\"year\": 1682.0, \"count_of_earthquakes\": 3.0}, {\"year\": 1683.0, \"count_of_earthquakes\": 3.0}, {\"year\": 1684.0, \"count_of_earthquakes\": 1.0}, {\"year\": 1687.0, \"count_of_earthquakes\": 5.0}, {\"year\": 1688.0, \"count_of_earthquakes\": 10.0}, {\"year\": 1689.0, \"count_of_earthquakes\": 2.0}, {\"year\": 1690.0, \"count_of_earthquakes\": 2.0}, {\"year\": 1691.0, \"count_of_earthquakes\": 1.0}, {\"year\": 1692.0, \"count_of_earthquakes\": 3.0}, {\"year\": 1693.0, \"count_of_earthquakes\": 2.0}, {\"year\": 1694.0, \"count_of_earthquakes\": 3.0}, {\"year\": 1695.0, \"count_of_earthquakes\": 3.0}, {\"year\": 1696.0, \"count_of_earthquakes\": 2.0}, {\"year\": 1697.0, \"count_of_earthquakes\": 1.0}, {\"year\": 1698.0, \"count_of_earthquakes\": 3.0}, {\"year\": 1699.0, \"count_of_earthquakes\": 3.0}, {\"year\": 1700.0, \"count_of_earthquakes\": 3.0}, {\"year\": 1701.0, \"count_of_earthquakes\": 2.0}, {\"year\": 1702.0, \"count_of_earthquakes\": 2.0}, {\"year\": 1703.0, \"count_of_earthquakes\": 6.0}, {\"year\": 1704.0, \"count_of_earthquakes\": 4.0}, {\"year\": 1705.0, \"count_of_earthquakes\": 1.0}, {\"year\": 1706.0, \"count_of_earthquakes\": 2.0}, {\"year\": 1707.0, \"count_of_earthquakes\": 5.0}, {\"year\": 1708.0, \"count_of_earthquakes\": 3.0}, {\"year\": 1709.0, \"count_of_earthquakes\": 1.0}, {\"year\": 1710.0, \"count_of_earthquakes\": 2.0}, {\"year\": 1711.0, \"count_of_earthquakes\": 5.0}, {\"year\": 1713.0, \"count_of_earthquakes\": 3.0}, {\"year\": 1714.0, \"count_of_earthquakes\": 5.0}, {\"year\": 1715.0, \"count_of_earthquakes\": 4.0}, {\"year\": 1716.0, \"count_of_earthquakes\": 7.0}, {\"year\": 1717.0, \"count_of_earthquakes\": 3.0}, {\"year\": 1718.0, \"count_of_earthquakes\": 1.0}, {\"year\": 1719.0, \"count_of_earthquakes\": 3.0}, {\"year\": 1720.0, \"count_of_earthquakes\": 6.0}, {\"year\": 1721.0, \"count_of_earthquakes\": 5.0}, {\"year\": 1722.0, \"count_of_earthquakes\": 3.0}, {\"year\": 1723.0, \"count_of_earthquakes\": 1.0}, {\"year\": 1725.0, \"count_of_earthquakes\": 6.0}, {\"year\": 1726.0, \"count_of_earthquakes\": 2.0}, {\"year\": 1727.0, \"count_of_earthquakes\": 5.0}, {\"year\": 1728.0, \"count_of_earthquakes\": 1.0}, {\"year\": 1729.0, \"count_of_earthquakes\": 1.0}, {\"year\": 1730.0, \"count_of_earthquakes\": 8.0}, {\"year\": 1731.0, \"count_of_earthquakes\": 4.0}, {\"year\": 1732.0, \"count_of_earthquakes\": 4.0}, {\"year\": 1733.0, \"count_of_earthquakes\": 2.0}, {\"year\": 1734.0, \"count_of_earthquakes\": 2.0}, {\"year\": 1735.0, \"count_of_earthquakes\": 2.0}, {\"year\": 1736.0, \"count_of_earthquakes\": 2.0}, {\"year\": 1737.0, \"count_of_earthquakes\": 5.0}, {\"year\": 1738.0, \"count_of_earthquakes\": 4.0}, {\"year\": 1739.0, \"count_of_earthquakes\": 6.0}, {\"year\": 1740.0, \"count_of_earthquakes\": 2.0}, {\"year\": 1741.0, \"count_of_earthquakes\": 2.0}, {\"year\": 1742.0, \"count_of_earthquakes\": 5.0}, {\"year\": 1743.0, \"count_of_earthquakes\": 4.0}, {\"year\": 1744.0, \"count_of_earthquakes\": 1.0}, {\"year\": 1746.0, \"count_of_earthquakes\": 2.0}, {\"year\": 1747.0, \"count_of_earthquakes\": 2.0}, {\"year\": 1748.0, \"count_of_earthquakes\": 6.0}, {\"year\": 1749.0, \"count_of_earthquakes\": 2.0}, {\"year\": 1750.0, \"count_of_earthquakes\": 8.0}, {\"year\": 1751.0, \"count_of_earthquakes\": 11.0}, {\"year\": 1752.0, \"count_of_earthquakes\": 4.0}, {\"year\": 1754.0, \"count_of_earthquakes\": 5.0}, {\"year\": 1755.0, \"count_of_earthquakes\": 11.0}, {\"year\": 1756.0, \"count_of_earthquakes\": 1.0}, {\"year\": 1757.0, \"count_of_earthquakes\": 8.0}, {\"year\": 1758.0, \"count_of_earthquakes\": 2.0}, {\"year\": 1759.0, \"count_of_earthquakes\": 6.0}, {\"year\": 1760.0, \"count_of_earthquakes\": 1.0}, {\"year\": 1761.0, \"count_of_earthquakes\": 4.0}, {\"year\": 1762.0, \"count_of_earthquakes\": 2.0}, {\"year\": 1763.0, \"count_of_earthquakes\": 6.0}, {\"year\": 1764.0, \"count_of_earthquakes\": 2.0}, {\"year\": 1765.0, \"count_of_earthquakes\": 3.0}, {\"year\": 1766.0, \"count_of_earthquakes\": 9.0}, {\"year\": 1767.0, \"count_of_earthquakes\": 5.0}, {\"year\": 1768.0, \"count_of_earthquakes\": 4.0}, {\"year\": 1769.0, \"count_of_earthquakes\": 6.0}, {\"year\": 1770.0, \"count_of_earthquakes\": 6.0}, {\"year\": 1771.0, \"count_of_earthquakes\": 3.0}, {\"year\": 1772.0, \"count_of_earthquakes\": 3.0}, {\"year\": 1773.0, \"count_of_earthquakes\": 3.0}, {\"year\": 1774.0, \"count_of_earthquakes\": 4.0}, {\"year\": 1775.0, \"count_of_earthquakes\": 6.0}, {\"year\": 1776.0, \"count_of_earthquakes\": 3.0}, {\"year\": 1777.0, \"count_of_earthquakes\": 2.0}, {\"year\": 1778.0, \"count_of_earthquakes\": 3.0}, {\"year\": 1779.0, \"count_of_earthquakes\": 1.0}, {\"year\": 1780.0, \"count_of_earthquakes\": 5.0}, {\"year\": 1781.0, \"count_of_earthquakes\": 3.0}, {\"year\": 1782.0, \"count_of_earthquakes\": 2.0}, {\"year\": 1783.0, \"count_of_earthquakes\": 10.0}, {\"year\": 1784.0, \"count_of_earthquakes\": 10.0}, {\"year\": 1785.0, \"count_of_earthquakes\": 3.0}, {\"year\": 1786.0, \"count_of_earthquakes\": 5.0}, {\"year\": 1787.0, \"count_of_earthquakes\": 7.0}, {\"year\": 1788.0, \"count_of_earthquakes\": 4.0}, {\"year\": 1789.0, \"count_of_earthquakes\": 3.0}, {\"year\": 1790.0, \"count_of_earthquakes\": 2.0}, {\"year\": 1791.0, \"count_of_earthquakes\": 9.0}, {\"year\": 1792.0, \"count_of_earthquakes\": 6.0}, {\"year\": 1793.0, \"count_of_earthquakes\": 5.0}, {\"year\": 1794.0, \"count_of_earthquakes\": 2.0}, {\"year\": 1795.0, \"count_of_earthquakes\": 3.0}, {\"year\": 1796.0, \"count_of_earthquakes\": 5.0}, {\"year\": 1797.0, \"count_of_earthquakes\": 3.0}, {\"year\": 1798.0, \"count_of_earthquakes\": 5.0}, {\"year\": 1799.0, \"count_of_earthquakes\": 8.0}, {\"year\": 1800.0, \"count_of_earthquakes\": 3.0}, {\"year\": 1801.0, \"count_of_earthquakes\": 2.0}, {\"year\": 1802.0, \"count_of_earthquakes\": 7.0}, {\"year\": 1803.0, \"count_of_earthquakes\": 2.0}, {\"year\": 1804.0, \"count_of_earthquakes\": 5.0}, {\"year\": 1805.0, \"count_of_earthquakes\": 4.0}, {\"year\": 1806.0, \"count_of_earthquakes\": 5.0}, {\"year\": 1808.0, \"count_of_earthquakes\": 6.0}, {\"year\": 1809.0, \"count_of_earthquakes\": 3.0}, {\"year\": 1810.0, \"count_of_earthquakes\": 5.0}, {\"year\": 1811.0, \"count_of_earthquakes\": 7.0}, {\"year\": 1812.0, \"count_of_earthquakes\": 11.0}, {\"year\": 1813.0, \"count_of_earthquakes\": 2.0}, {\"year\": 1814.0, \"count_of_earthquakes\": 5.0}, {\"year\": 1815.0, \"count_of_earthquakes\": 7.0}, {\"year\": 1816.0, \"count_of_earthquakes\": 4.0}, {\"year\": 1817.0, \"count_of_earthquakes\": 4.0}, {\"year\": 1818.0, \"count_of_earthquakes\": 8.0}, {\"year\": 1819.0, \"count_of_earthquakes\": 8.0}, {\"year\": 1820.0, \"count_of_earthquakes\": 10.0}, {\"year\": 1821.0, \"count_of_earthquakes\": 5.0}, {\"year\": 1822.0, \"count_of_earthquakes\": 7.0}, {\"year\": 1823.0, \"count_of_earthquakes\": 9.0}, {\"year\": 1824.0, \"count_of_earthquakes\": 7.0}, {\"year\": 1825.0, \"count_of_earthquakes\": 7.0}, {\"year\": 1826.0, \"count_of_earthquakes\": 4.0}, {\"year\": 1827.0, \"count_of_earthquakes\": 6.0}, {\"year\": 1828.0, \"count_of_earthquakes\": 8.0}, {\"year\": 1829.0, \"count_of_earthquakes\": 8.0}, {\"year\": 1830.0, \"count_of_earthquakes\": 9.0}, {\"year\": 1831.0, \"count_of_earthquakes\": 8.0}, {\"year\": 1832.0, \"count_of_earthquakes\": 3.0}, {\"year\": 1833.0, \"count_of_earthquakes\": 9.0}, {\"year\": 1834.0, \"count_of_earthquakes\": 14.0}, {\"year\": 1835.0, \"count_of_earthquakes\": 6.0}, {\"year\": 1836.0, \"count_of_earthquakes\": 6.0}, {\"year\": 1837.0, \"count_of_earthquakes\": 11.0}, {\"year\": 1838.0, \"count_of_earthquakes\": 5.0}, {\"year\": 1839.0, \"count_of_earthquakes\": 10.0}, {\"year\": 1840.0, \"count_of_earthquakes\": 8.0}, {\"year\": 1841.0, \"count_of_earthquakes\": 5.0}, {\"year\": 1842.0, \"count_of_earthquakes\": 8.0}, {\"year\": 1843.0, \"count_of_earthquakes\": 10.0}, {\"year\": 1844.0, \"count_of_earthquakes\": 9.0}, {\"year\": 1845.0, \"count_of_earthquakes\": 11.0}, {\"year\": 1846.0, \"count_of_earthquakes\": 8.0}, {\"year\": 1847.0, \"count_of_earthquakes\": 11.0}, {\"year\": 1848.0, \"count_of_earthquakes\": 8.0}, {\"year\": 1849.0, \"count_of_earthquakes\": 6.0}, {\"year\": 1850.0, \"count_of_earthquakes\": 3.0}, {\"year\": 1851.0, \"count_of_earthquakes\": 14.0}, {\"year\": 1852.0, \"count_of_earthquakes\": 19.0}, {\"year\": 1853.0, \"count_of_earthquakes\": 11.0}, {\"year\": 1854.0, \"count_of_earthquakes\": 21.0}, {\"year\": 1855.0, \"count_of_earthquakes\": 23.0}, {\"year\": 1856.0, \"count_of_earthquakes\": 13.0}, {\"year\": 1857.0, \"count_of_earthquakes\": 14.0}, {\"year\": 1858.0, \"count_of_earthquakes\": 16.0}, {\"year\": 1859.0, \"count_of_earthquakes\": 17.0}, {\"year\": 1860.0, \"count_of_earthquakes\": 5.0}, {\"year\": 1861.0, \"count_of_earthquakes\": 14.0}, {\"year\": 1862.0, \"count_of_earthquakes\": 11.0}, {\"year\": 1863.0, \"count_of_earthquakes\": 15.0}, {\"year\": 1864.0, \"count_of_earthquakes\": 7.0}, {\"year\": 1865.0, \"count_of_earthquakes\": 13.0}, {\"year\": 1866.0, \"count_of_earthquakes\": 10.0}, {\"year\": 1867.0, \"count_of_earthquakes\": 12.0}, {\"year\": 1868.0, \"count_of_earthquakes\": 25.0}, {\"year\": 1869.0, \"count_of_earthquakes\": 21.0}, {\"year\": 1870.0, \"count_of_earthquakes\": 16.0}, {\"year\": 1871.0, \"count_of_earthquakes\": 17.0}, {\"year\": 1872.0, \"count_of_earthquakes\": 18.0}, {\"year\": 1873.0, \"count_of_earthquakes\": 12.0}, {\"year\": 1874.0, \"count_of_earthquakes\": 10.0}, {\"year\": 1875.0, \"count_of_earthquakes\": 17.0}, {\"year\": 1876.0, \"count_of_earthquakes\": 4.0}, {\"year\": 1877.0, \"count_of_earthquakes\": 8.0}, {\"year\": 1878.0, \"count_of_earthquakes\": 22.0}, {\"year\": 1879.0, \"count_of_earthquakes\": 10.0}, {\"year\": 1880.0, \"count_of_earthquakes\": 18.0}, {\"year\": 1881.0, \"count_of_earthquakes\": 21.0}, {\"year\": 1882.0, \"count_of_earthquakes\": 10.0}, {\"year\": 1883.0, \"count_of_earthquakes\": 6.0}, {\"year\": 1884.0, \"count_of_earthquakes\": 10.0}, {\"year\": 1885.0, \"count_of_earthquakes\": 21.0}, {\"year\": 1886.0, \"count_of_earthquakes\": 4.0}, {\"year\": 1887.0, \"count_of_earthquakes\": 14.0}, {\"year\": 1888.0, \"count_of_earthquakes\": 12.0}, {\"year\": 1889.0, \"count_of_earthquakes\": 10.0}, {\"year\": 1890.0, \"count_of_earthquakes\": 5.0}, {\"year\": 1891.0, \"count_of_earthquakes\": 9.0}, {\"year\": 1892.0, \"count_of_earthquakes\": 13.0}, {\"year\": 1893.0, \"count_of_earthquakes\": 17.0}, {\"year\": 1894.0, \"count_of_earthquakes\": 15.0}, {\"year\": 1895.0, \"count_of_earthquakes\": 20.0}, {\"year\": 1896.0, \"count_of_earthquakes\": 18.0}, {\"year\": 1897.0, \"count_of_earthquakes\": 25.0}, {\"year\": 1898.0, \"count_of_earthquakes\": 14.0}, {\"year\": 1899.0, \"count_of_earthquakes\": 18.0}, {\"year\": 1900.0, \"count_of_earthquakes\": 17.0}, {\"year\": 1901.0, \"count_of_earthquakes\": 18.0}, {\"year\": 1902.0, \"count_of_earthquakes\": 23.0}, {\"year\": 1903.0, \"count_of_earthquakes\": 22.0}, {\"year\": 1904.0, \"count_of_earthquakes\": 18.0}, {\"year\": 1905.0, \"count_of_earthquakes\": 32.0}, {\"year\": 1906.0, \"count_of_earthquakes\": 32.0}, {\"year\": 1907.0, \"count_of_earthquakes\": 23.0}, {\"year\": 1908.0, \"count_of_earthquakes\": 13.0}, {\"year\": 1909.0, \"count_of_earthquakes\": 34.0}, {\"year\": 1910.0, \"count_of_earthquakes\": 22.0}, {\"year\": 1911.0, \"count_of_earthquakes\": 20.0}, {\"year\": 1912.0, \"count_of_earthquakes\": 16.0}, {\"year\": 1913.0, \"count_of_earthquakes\": 20.0}, {\"year\": 1914.0, \"count_of_earthquakes\": 21.0}, {\"year\": 1915.0, \"count_of_earthquakes\": 17.0}, {\"year\": 1916.0, \"count_of_earthquakes\": 24.0}, {\"year\": 1917.0, \"count_of_earthquakes\": 25.0}, {\"year\": 1918.0, \"count_of_earthquakes\": 19.0}, {\"year\": 1919.0, \"count_of_earthquakes\": 17.0}, {\"year\": 1920.0, \"count_of_earthquakes\": 12.0}, {\"year\": 1921.0, \"count_of_earthquakes\": 16.0}, {\"year\": 1922.0, \"count_of_earthquakes\": 23.0}, {\"year\": 1923.0, \"count_of_earthquakes\": 28.0}, {\"year\": 1924.0, \"count_of_earthquakes\": 18.0}, {\"year\": 1925.0, \"count_of_earthquakes\": 24.0}, {\"year\": 1926.0, \"count_of_earthquakes\": 23.0}, {\"year\": 1927.0, \"count_of_earthquakes\": 28.0}, {\"year\": 1928.0, \"count_of_earthquakes\": 33.0}, {\"year\": 1929.0, \"count_of_earthquakes\": 21.0}, {\"year\": 1930.0, \"count_of_earthquakes\": 34.0}, {\"year\": 1931.0, \"count_of_earthquakes\": 30.0}, {\"year\": 1932.0, \"count_of_earthquakes\": 25.0}, {\"year\": 1933.0, \"count_of_earthquakes\": 18.0}, {\"year\": 1934.0, \"count_of_earthquakes\": 19.0}, {\"year\": 1935.0, \"count_of_earthquakes\": 27.0}, {\"year\": 1936.0, \"count_of_earthquakes\": 20.0}, {\"year\": 1937.0, \"count_of_earthquakes\": 19.0}, {\"year\": 1938.0, \"count_of_earthquakes\": 27.0}, {\"year\": 1939.0, \"count_of_earthquakes\": 20.0}, {\"year\": 1940.0, \"count_of_earthquakes\": 16.0}, {\"year\": 1941.0, \"count_of_earthquakes\": 19.0}, {\"year\": 1942.0, \"count_of_earthquakes\": 18.0}, {\"year\": 1943.0, \"count_of_earthquakes\": 25.0}, {\"year\": 1944.0, \"count_of_earthquakes\": 14.0}, {\"year\": 1945.0, \"count_of_earthquakes\": 12.0}, {\"year\": 1946.0, \"count_of_earthquakes\": 20.0}, {\"year\": 1947.0, \"count_of_earthquakes\": 17.0}, {\"year\": 1948.0, \"count_of_earthquakes\": 20.0}, {\"year\": 1949.0, \"count_of_earthquakes\": 23.0}, {\"year\": 1950.0, \"count_of_earthquakes\": 27.0}, {\"year\": 1951.0, \"count_of_earthquakes\": 17.0}, {\"year\": 1952.0, \"count_of_earthquakes\": 19.0}, {\"year\": 1953.0, \"count_of_earthquakes\": 21.0}, {\"year\": 1954.0, \"count_of_earthquakes\": 23.0}, {\"year\": 1955.0, \"count_of_earthquakes\": 24.0}, {\"year\": 1956.0, \"count_of_earthquakes\": 26.0}, {\"year\": 1957.0, \"count_of_earthquakes\": 27.0}, {\"year\": 1958.0, \"count_of_earthquakes\": 22.0}, {\"year\": 1959.0, \"count_of_earthquakes\": 27.0}, {\"year\": 1960.0, \"count_of_earthquakes\": 22.0}, {\"year\": 1961.0, \"count_of_earthquakes\": 35.0}, {\"year\": 1962.0, \"count_of_earthquakes\": 34.0}, {\"year\": 1963.0, \"count_of_earthquakes\": 28.0}, {\"year\": 1964.0, \"count_of_earthquakes\": 20.0}, {\"year\": 1965.0, \"count_of_earthquakes\": 26.0}, {\"year\": 1966.0, \"count_of_earthquakes\": 33.0}, {\"year\": 1967.0, \"count_of_earthquakes\": 27.0}, {\"year\": 1968.0, \"count_of_earthquakes\": 40.0}, {\"year\": 1969.0, \"count_of_earthquakes\": 31.0}, {\"year\": 1970.0, \"count_of_earthquakes\": 31.0}, {\"year\": 1971.0, \"count_of_earthquakes\": 33.0}, {\"year\": 1972.0, \"count_of_earthquakes\": 26.0}, {\"year\": 1973.0, \"count_of_earthquakes\": 26.0}, {\"year\": 1974.0, \"count_of_earthquakes\": 21.0}, {\"year\": 1975.0, \"count_of_earthquakes\": 30.0}, {\"year\": 1976.0, \"count_of_earthquakes\": 35.0}, {\"year\": 1977.0, \"count_of_earthquakes\": 25.0}, {\"year\": 1978.0, \"count_of_earthquakes\": 34.0}, {\"year\": 1979.0, \"count_of_earthquakes\": 34.0}, {\"year\": 1980.0, \"count_of_earthquakes\": 33.0}, {\"year\": 1981.0, \"count_of_earthquakes\": 22.0}, {\"year\": 1982.0, \"count_of_earthquakes\": 25.0}, {\"year\": 1983.0, \"count_of_earthquakes\": 46.0}, {\"year\": 1984.0, \"count_of_earthquakes\": 28.0}, {\"year\": 1985.0, \"count_of_earthquakes\": 30.0}, {\"year\": 1986.0, \"count_of_earthquakes\": 33.0}, {\"year\": 1987.0, \"count_of_earthquakes\": 33.0}, {\"year\": 1988.0, \"count_of_earthquakes\": 30.0}, {\"year\": 1989.0, \"count_of_earthquakes\": 35.0}, {\"year\": 1990.0, \"count_of_earthquakes\": 51.0}, {\"year\": 1991.0, \"count_of_earthquakes\": 42.0}, {\"year\": 1992.0, \"count_of_earthquakes\": 27.0}, {\"year\": 1993.0, \"count_of_earthquakes\": 26.0}, {\"year\": 1994.0, \"count_of_earthquakes\": 33.0}, {\"year\": 1995.0, \"count_of_earthquakes\": 31.0}, {\"year\": 1996.0, \"count_of_earthquakes\": 19.0}, {\"year\": 1997.0, \"count_of_earthquakes\": 34.0}, {\"year\": 1998.0, \"count_of_earthquakes\": 31.0}, {\"year\": 1999.0, \"count_of_earthquakes\": 35.0}, {\"year\": 2000.0, \"count_of_earthquakes\": 37.0}, {\"year\": 2001.0, \"count_of_earthquakes\": 26.0}, {\"year\": 2002.0, \"count_of_earthquakes\": 60.0}, {\"year\": 2003.0, \"count_of_earthquakes\": 72.0}, {\"year\": 2004.0, \"count_of_earthquakes\": 78.0}, {\"year\": 2005.0, \"count_of_earthquakes\": 60.0}, {\"year\": 2006.0, \"count_of_earthquakes\": 63.0}, {\"year\": 2007.0, \"count_of_earthquakes\": 67.0}, {\"year\": 2008.0, \"count_of_earthquakes\": 77.0}, {\"year\": 2009.0, \"count_of_earthquakes\": 61.0}, {\"year\": 2010.0, \"count_of_earthquakes\": 62.0}, {\"year\": 2011.0, \"count_of_earthquakes\": 60.0}, {\"year\": 2012.0, \"count_of_earthquakes\": 50.0}, {\"year\": 2013.0, \"count_of_earthquakes\": 54.0}, {\"year\": 2014.0, \"count_of_earthquakes\": 55.0}, {\"year\": 2015.0, \"count_of_earthquakes\": 48.0}, {\"year\": 2016.0, \"count_of_earthquakes\": 52.0}, {\"year\": 2017.0, \"count_of_earthquakes\": 64.0}, {\"year\": 2018.0, \"count_of_earthquakes\": 66.0}, {\"year\": 2019.0, \"count_of_earthquakes\": 62.0}, {\"year\": 2020.0, \"count_of_earthquakes\": 29.0}, {\"year\": 2021.0, \"count_of_earthquakes\": 30.0}]}}, {\"mode\": \"vega-lite\"});\n",
       "</script>"
      ],
      "text/plain": [
       "alt.Chart(...)"
      ]
     },
     "metadata": {},
     "output_type": "display_data"
    },
    {
     "name": "stdout",
     "output_type": "stream",
     "text": [
      "\n",
      "\n"
     ]
    }
   ],
   "source": [
    "show_message(questions[3]['stateless_agent_answer'][-2])"
   ]
  },
  {
   "cell_type": "markdown",
   "id": "1ebd35ac",
   "metadata": {},
   "source": [
    "---\n",
    "### Stateless - With Inline Context\n",
    "\n",
    "Use the context definied earlier inline to provide the data source as context but without the use of a pre-defined data agent.  This chat is not persisted by the service so successive request should include the relevant history."
   ]
  },
  {
   "cell_type": "markdown",
   "id": "364c5932",
   "metadata": {},
   "source": [
    "#### Question 1"
   ]
  },
  {
   "cell_type": "code",
   "execution_count": 56,
   "id": "9bd496ff",
   "metadata": {},
   "outputs": [
    {
     "name": "stdout",
     "output_type": "stream",
     "text": [
      "The average number of earthquakes per year is 6.58.\n",
      "\n",
      "\n"
     ]
    }
   ],
   "source": [
    "questions[0]['stateless_inline_answer'] = chat(\n",
    "    questions[0]['question'],\n",
    "    context_mode ='inline',\n",
    "    history = []\n",
    ")"
   ]
  },
  {
   "cell_type": "code",
   "execution_count": 57,
   "id": "a059c66b",
   "metadata": {},
   "outputs": [
    {
     "data": {
      "text/plain": [
       "13"
      ]
     },
     "execution_count": 57,
     "metadata": {},
     "output_type": "execute_result"
    }
   ],
   "source": [
    "len(questions[0]['stateless_inline_answer'])"
   ]
  },
  {
   "cell_type": "code",
   "execution_count": 58,
   "id": "2552fe1c",
   "metadata": {},
   "outputs": [
    {
     "data": {
      "text/plain": [
       "user_message {\n",
       "  text: \"How many earthquakes happen per year on average?\"\n",
       "}"
      ]
     },
     "execution_count": 58,
     "metadata": {},
     "output_type": "execute_result"
    }
   ],
   "source": [
    "questions[0]['stateless_inline_answer'][0]"
   ]
  },
  {
   "cell_type": "code",
   "execution_count": 59,
   "id": "4319b815",
   "metadata": {},
   "outputs": [
    {
     "data": {
      "text/plain": [
       "timestamp {\n",
       "  seconds: 1757261249\n",
       "  nanos: 281000000\n",
       "}\n",
       "system_message {\n",
       "  text {\n",
       "    parts: \"The average number of earthquakes per year is 6.58.\"\n",
       "  }\n",
       "}"
      ]
     },
     "execution_count": 59,
     "metadata": {},
     "output_type": "execute_result"
    }
   ],
   "source": [
    "questions[0]['stateless_inline_answer'][-1]"
   ]
  },
  {
   "cell_type": "markdown",
   "id": "c2f1aa80",
   "metadata": {},
   "source": [
    "#### Question 2"
   ]
  },
  {
   "cell_type": "code",
   "execution_count": 60,
   "id": "8a3c6609",
   "metadata": {},
   "outputs": [
    {
     "name": "stdout",
     "output_type": "stream",
     "text": [
      "The average number of tsunamis per year is 4.95.\n",
      "\n",
      "\n"
     ]
    }
   ],
   "source": [
    "questions[1]['stateless_inline_answer'] = chat(\n",
    "    questions[1]['question'],\n",
    "    context_mode ='inline',\n",
    "    history = questions[0]['stateless_inline_answer']\n",
    ")"
   ]
  },
  {
   "cell_type": "code",
   "execution_count": 61,
   "id": "20efa5af",
   "metadata": {},
   "outputs": [
    {
     "data": {
      "text/plain": [
       "26"
      ]
     },
     "execution_count": 61,
     "metadata": {},
     "output_type": "execute_result"
    }
   ],
   "source": [
    "len(questions[1]['stateless_inline_answer'])"
   ]
  },
  {
   "cell_type": "markdown",
   "id": "6e15c0e7",
   "metadata": {},
   "source": [
    "#### Question 3"
   ]
  },
  {
   "cell_type": "code",
   "execution_count": 62,
   "id": "f9568e83",
   "metadata": {},
   "outputs": [
    {
     "name": "stdout",
     "output_type": "stream",
     "text": [
      "On average, there are more earthquakes per year (6.58) than tsunamis per year (4.95).\n",
      "\n",
      "\n"
     ]
    }
   ],
   "source": [
    "questions[2]['stateless_inline_answer'] = chat(\n",
    "    questions[2]['question'],\n",
    "    context_mode ='inline',\n",
    "    history = questions[1]['stateless_inline_answer']\n",
    ")"
   ]
  },
  {
   "cell_type": "code",
   "execution_count": 63,
   "id": "7ea24c7b",
   "metadata": {},
   "outputs": [
    {
     "data": {
      "text/plain": [
       "28"
      ]
     },
     "execution_count": 63,
     "metadata": {},
     "output_type": "execute_result"
    }
   ],
   "source": [
    "len(questions[2]['stateless_inline_answer'])"
   ]
  },
  {
   "cell_type": "markdown",
   "id": "d10649dd",
   "metadata": {},
   "source": [
    "#### Question 4"
   ]
  },
  {
   "cell_type": "code",
   "execution_count": 64,
   "id": "10a62131",
   "metadata": {},
   "outputs": [
    {
     "name": "stdout",
     "output_type": "stream",
     "text": [
      "The chart below shows the time series for earthquake counts by year.\n",
      "\n",
      "\n"
     ]
    }
   ],
   "source": [
    "questions[3]['stateless_inline_answer'] = chat(\n",
    "    questions[3]['question'],\n",
    "    context_mode ='inline',\n",
    "    history = questions[2]['stateless_inline_answer']\n",
    ")"
   ]
  },
  {
   "cell_type": "code",
   "execution_count": 65,
   "id": "28456759",
   "metadata": {},
   "outputs": [
    {
     "data": {
      "text/plain": [
       "32"
      ]
     },
     "execution_count": 65,
     "metadata": {},
     "output_type": "execute_result"
    }
   ],
   "source": [
    "len(questions[3]['stateless_inline_answer'])"
   ]
  },
  {
   "cell_type": "code",
   "execution_count": 66,
   "id": "8473ab07",
   "metadata": {},
   "outputs": [
    {
     "data": {
      "text/html": [
       "\n",
       "<style>\n",
       "  #altair-viz-47c9baeb3d454e6f9791fc49b854502d.vega-embed {\n",
       "    width: 100%;\n",
       "    display: flex;\n",
       "  }\n",
       "\n",
       "  #altair-viz-47c9baeb3d454e6f9791fc49b854502d.vega-embed details,\n",
       "  #altair-viz-47c9baeb3d454e6f9791fc49b854502d.vega-embed details summary {\n",
       "    position: relative;\n",
       "  }\n",
       "</style>\n",
       "<div id=\"altair-viz-47c9baeb3d454e6f9791fc49b854502d\"></div>\n",
       "<script type=\"text/javascript\">\n",
       "  var VEGA_DEBUG = (typeof VEGA_DEBUG == \"undefined\") ? {} : VEGA_DEBUG;\n",
       "  (function(spec, embedOpt){\n",
       "    let outputDiv = document.currentScript.previousElementSibling;\n",
       "    if (outputDiv.id !== \"altair-viz-47c9baeb3d454e6f9791fc49b854502d\") {\n",
       "      outputDiv = document.getElementById(\"altair-viz-47c9baeb3d454e6f9791fc49b854502d\");\n",
       "    }\n",
       "\n",
       "    const paths = {\n",
       "      \"vega\": \"https://cdn.jsdelivr.net/npm/vega@5?noext\",\n",
       "      \"vega-lib\": \"https://cdn.jsdelivr.net/npm/vega-lib?noext\",\n",
       "      \"vega-lite\": \"https://cdn.jsdelivr.net/npm/vega-lite@5.20.1?noext\",\n",
       "      \"vega-embed\": \"https://cdn.jsdelivr.net/npm/vega-embed@6?noext\",\n",
       "    };\n",
       "\n",
       "    function maybeLoadScript(lib, version) {\n",
       "      var key = `${lib.replace(\"-\", \"\")}_version`;\n",
       "      return (VEGA_DEBUG[key] == version) ?\n",
       "        Promise.resolve(paths[lib]) :\n",
       "        new Promise(function(resolve, reject) {\n",
       "          var s = document.createElement('script');\n",
       "          document.getElementsByTagName(\"head\")[0].appendChild(s);\n",
       "          s.async = true;\n",
       "          s.onload = () => {\n",
       "            VEGA_DEBUG[key] = version;\n",
       "            return resolve(paths[lib]);\n",
       "          };\n",
       "          s.onerror = () => reject(`Error loading script: ${paths[lib]}`);\n",
       "          s.src = paths[lib];\n",
       "        });\n",
       "    }\n",
       "\n",
       "    function showError(err) {\n",
       "      outputDiv.innerHTML = `<div class=\"error\" style=\"color:red;\">${err}</div>`;\n",
       "      throw err;\n",
       "    }\n",
       "\n",
       "    function displayChart(vegaEmbed) {\n",
       "      vegaEmbed(outputDiv, spec, embedOpt)\n",
       "        .catch(err => showError(`Javascript Error: ${err.message}<br>This usually means there's a typo in your chart specification. See the javascript console for the full traceback.`));\n",
       "    }\n",
       "\n",
       "    if(typeof define === \"function\" && define.amd) {\n",
       "      requirejs.config({paths});\n",
       "      let deps = [\"vega-embed\"];\n",
       "      require(deps, displayChart, err => showError(`Error loading script: ${err.message}`));\n",
       "    } else {\n",
       "      maybeLoadScript(\"vega\", \"5\")\n",
       "        .then(() => maybeLoadScript(\"vega-lite\", \"5.20.1\"))\n",
       "        .then(() => maybeLoadScript(\"vega-embed\", \"6\"))\n",
       "        .catch(showError)\n",
       "        .then(() => displayChart(vegaEmbed));\n",
       "    }\n",
       "  })({\"config\": {\"view\": {\"continuousWidth\": 300, \"continuousHeight\": 300}}, \"data\": {\"name\": \"data-af52f21ef3faeca12cd0ad73d8e463cb\"}, \"mark\": {\"type\": \"line\", \"interpolate\": \"monotone\", \"point\": true, \"tooltip\": true}, \"encoding\": {\"x\": {\"axis\": {\"labelOverlap\": true}, \"field\": \"year\", \"sort\": \"ascending\", \"title\": \"Year\"}, \"y\": {\"axis\": {\"labelOverlap\": true}, \"field\": \"count_of_earthquakes\", \"sort\": {}, \"title\": \"Count of Earthquakes\", \"type\": \"quantitative\"}}, \"title\": \"Count of Earthquakes Per Year\", \"$schema\": \"https://vega.github.io/schema/vega-lite/v5.20.1.json\", \"datasets\": {\"data-af52f21ef3faeca12cd0ad73d8e463cb\": [{\"year\": -2150.0, \"count_of_earthquakes\": 1.0}, {\"year\": -2000.0, \"count_of_earthquakes\": 2.0}, {\"year\": -1610.0, \"count_of_earthquakes\": 1.0}, {\"year\": -1566.0, \"count_of_earthquakes\": 1.0}, {\"year\": -1450.0, \"count_of_earthquakes\": 1.0}, {\"year\": -1365.0, \"count_of_earthquakes\": 1.0}, {\"year\": -1250.0, \"count_of_earthquakes\": 1.0}, {\"year\": -1050.0, \"count_of_earthquakes\": 1.0}, {\"year\": -759.0, \"count_of_earthquakes\": 1.0}, {\"year\": -590.0, \"count_of_earthquakes\": 1.0}, {\"year\": -550.0, \"count_of_earthquakes\": 1.0}, {\"year\": -525.0, \"count_of_earthquakes\": 1.0}, {\"year\": -480.0, \"count_of_earthquakes\": 1.0}, {\"year\": -479.0, \"count_of_earthquakes\": 1.0}, {\"year\": -432.0, \"count_of_earthquakes\": 1.0}, {\"year\": -426.0, \"count_of_earthquakes\": 1.0}, {\"year\": -400.0, \"count_of_earthquakes\": 1.0}, {\"year\": -373.0, \"count_of_earthquakes\": 1.0}, {\"year\": -364.0, \"count_of_earthquakes\": 1.0}, {\"year\": -330.0, \"count_of_earthquakes\": 1.0}, {\"year\": -326.0, \"count_of_earthquakes\": 1.0}, {\"year\": -282.0, \"count_of_earthquakes\": 2.0}, {\"year\": -250.0, \"count_of_earthquakes\": 1.0}, {\"year\": -241.0, \"count_of_earthquakes\": 1.0}, {\"year\": -227.0, \"count_of_earthquakes\": 1.0}, {\"year\": -223.0, \"count_of_earthquakes\": 1.0}, {\"year\": -221.0, \"count_of_earthquakes\": 1.0}, {\"year\": -217.0, \"count_of_earthquakes\": 1.0}, {\"year\": -216.0, \"count_of_earthquakes\": 1.0}, {\"year\": -210.0, \"count_of_earthquakes\": 1.0}, {\"year\": -198.0, \"count_of_earthquakes\": 1.0}, {\"year\": -193.0, \"count_of_earthquakes\": 1.0}, {\"year\": -186.0, \"count_of_earthquakes\": 1.0}, {\"year\": -177.0, \"count_of_earthquakes\": 1.0}, {\"year\": -70.0, \"count_of_earthquakes\": 1.0}, {\"year\": -63.0, \"count_of_earthquakes\": 1.0}, {\"year\": -60.0, \"count_of_earthquakes\": 1.0}, {\"year\": -58.0, \"count_of_earthquakes\": 1.0}, {\"year\": -50.0, \"count_of_earthquakes\": 2.0}, {\"year\": -47.0, \"count_of_earthquakes\": 1.0}, {\"year\": -33.0, \"count_of_earthquakes\": 1.0}, {\"year\": -31.0, \"count_of_earthquakes\": 1.0}, {\"year\": -27.0, \"count_of_earthquakes\": 1.0}, {\"year\": -26.0, \"count_of_earthquakes\": 2.0}, {\"year\": -15.0, \"count_of_earthquakes\": 1.0}, {\"year\": 10.0, \"count_of_earthquakes\": 1.0}, {\"year\": 11.0, \"count_of_earthquakes\": 1.0}, {\"year\": 17.0, \"count_of_earthquakes\": 1.0}, {\"year\": 23.0, \"count_of_earthquakes\": 1.0}, {\"year\": 25.0, \"count_of_earthquakes\": 1.0}, {\"year\": 27.0, \"count_of_earthquakes\": 1.0}, {\"year\": 29.0, \"count_of_earthquakes\": 1.0}, {\"year\": 33.0, \"count_of_earthquakes\": 1.0}, {\"year\": 37.0, \"count_of_earthquakes\": 1.0}, {\"year\": 46.0, \"count_of_earthquakes\": 1.0}, {\"year\": 50.0, \"count_of_earthquakes\": 1.0}, {\"year\": 52.0, \"count_of_earthquakes\": 2.0}, {\"year\": 55.0, \"count_of_earthquakes\": 1.0}, {\"year\": 57.0, \"count_of_earthquakes\": 1.0}, {\"year\": 60.0, \"count_of_earthquakes\": 1.0}, {\"year\": 62.0, \"count_of_earthquakes\": 1.0}, {\"year\": 63.0, \"count_of_earthquakes\": 1.0}, {\"year\": 68.0, \"count_of_earthquakes\": 1.0}, {\"year\": 76.0, \"count_of_earthquakes\": 1.0}, {\"year\": 79.0, \"count_of_earthquakes\": 1.0}, {\"year\": 89.0, \"count_of_earthquakes\": 1.0}, {\"year\": 93.0, \"count_of_earthquakes\": 1.0}, {\"year\": 100.0, \"count_of_earthquakes\": 1.0}, {\"year\": 103.0, \"count_of_earthquakes\": 1.0}, {\"year\": 105.0, \"count_of_earthquakes\": 1.0}, {\"year\": 109.0, \"count_of_earthquakes\": 1.0}, {\"year\": 115.0, \"count_of_earthquakes\": 1.0}, {\"year\": 120.0, \"count_of_earthquakes\": 1.0}, {\"year\": 123.0, \"count_of_earthquakes\": 1.0}, {\"year\": 128.0, \"count_of_earthquakes\": 1.0}, {\"year\": 138.0, \"count_of_earthquakes\": 1.0}, {\"year\": 142.0, \"count_of_earthquakes\": 1.0}, {\"year\": 143.0, \"count_of_earthquakes\": 1.0}, {\"year\": 155.0, \"count_of_earthquakes\": 1.0}, {\"year\": 170.0, \"count_of_earthquakes\": 1.0}, {\"year\": 173.0, \"count_of_earthquakes\": 1.0}, {\"year\": 177.0, \"count_of_earthquakes\": 2.0}, {\"year\": 180.0, \"count_of_earthquakes\": 1.0}, {\"year\": 243.0, \"count_of_earthquakes\": 1.0}, {\"year\": 251.0, \"count_of_earthquakes\": 1.0}, {\"year\": 253.0, \"count_of_earthquakes\": 1.0}, {\"year\": 258.0, \"count_of_earthquakes\": 1.0}, {\"year\": 262.0, \"count_of_earthquakes\": 1.0}, {\"year\": 294.0, \"count_of_earthquakes\": 2.0}, {\"year\": 304.0, \"count_of_earthquakes\": 1.0}, {\"year\": 306.0, \"count_of_earthquakes\": 1.0}, {\"year\": 315.0, \"count_of_earthquakes\": 1.0}, {\"year\": 319.0, \"count_of_earthquakes\": 1.0}, {\"year\": 324.0, \"count_of_earthquakes\": 1.0}, {\"year\": 334.0, \"count_of_earthquakes\": 1.0}, {\"year\": 340.0, \"count_of_earthquakes\": 1.0}, {\"year\": 341.0, \"count_of_earthquakes\": 1.0}, {\"year\": 342.0, \"count_of_earthquakes\": 2.0}, {\"year\": 344.0, \"count_of_earthquakes\": 3.0}, {\"year\": 346.0, \"count_of_earthquakes\": 1.0}, {\"year\": 348.0, \"count_of_earthquakes\": 1.0}, {\"year\": 350.0, \"count_of_earthquakes\": 1.0}, {\"year\": 355.0, \"count_of_earthquakes\": 1.0}, {\"year\": 358.0, \"count_of_earthquakes\": 1.0}, {\"year\": 361.0, \"count_of_earthquakes\": 1.0}, {\"year\": 362.0, \"count_of_earthquakes\": 2.0}, {\"year\": 365.0, \"count_of_earthquakes\": 1.0}, {\"year\": 367.0, \"count_of_earthquakes\": 1.0}, {\"year\": 368.0, \"count_of_earthquakes\": 2.0}, {\"year\": 369.0, \"count_of_earthquakes\": 1.0}, {\"year\": 382.0, \"count_of_earthquakes\": 1.0}, {\"year\": 394.0, \"count_of_earthquakes\": 1.0}, {\"year\": 396.0, \"count_of_earthquakes\": 1.0}, {\"year\": 407.0, \"count_of_earthquakes\": 1.0}, {\"year\": 412.0, \"count_of_earthquakes\": 1.0}, {\"year\": 419.0, \"count_of_earthquakes\": 1.0}, {\"year\": 425.0, \"count_of_earthquakes\": 1.0}, {\"year\": 427.0, \"count_of_earthquakes\": 1.0}, {\"year\": 438.0, \"count_of_earthquakes\": 1.0}, {\"year\": 440.0, \"count_of_earthquakes\": 1.0}, {\"year\": 447.0, \"count_of_earthquakes\": 1.0}, {\"year\": 448.0, \"count_of_earthquakes\": 1.0}, {\"year\": 450.0, \"count_of_earthquakes\": 1.0}, {\"year\": 457.0, \"count_of_earthquakes\": 1.0}, {\"year\": 458.0, \"count_of_earthquakes\": 1.0}, {\"year\": 460.0, \"count_of_earthquakes\": 1.0}, {\"year\": 470.0, \"count_of_earthquakes\": 1.0}, {\"year\": 477.0, \"count_of_earthquakes\": 1.0}, {\"year\": 478.0, \"count_of_earthquakes\": 1.0}, {\"year\": 494.0, \"count_of_earthquakes\": 1.0}, {\"year\": 499.0, \"count_of_earthquakes\": 1.0}, {\"year\": 500.0, \"count_of_earthquakes\": 1.0}, {\"year\": 501.0, \"count_of_earthquakes\": 1.0}, {\"year\": 510.0, \"count_of_earthquakes\": 1.0}, {\"year\": 512.0, \"count_of_earthquakes\": 1.0}, {\"year\": 518.0, \"count_of_earthquakes\": 1.0}, {\"year\": 521.0, \"count_of_earthquakes\": 1.0}, {\"year\": 522.0, \"count_of_earthquakes\": 2.0}, {\"year\": 525.0, \"count_of_earthquakes\": 1.0}, {\"year\": 527.0, \"count_of_earthquakes\": 1.0}, {\"year\": 528.0, \"count_of_earthquakes\": 1.0}, {\"year\": 533.0, \"count_of_earthquakes\": 1.0}, {\"year\": 543.0, \"count_of_earthquakes\": 1.0}, {\"year\": 551.0, \"count_of_earthquakes\": 3.0}, {\"year\": 552.0, \"count_of_earthquakes\": 1.0}, {\"year\": 553.0, \"count_of_earthquakes\": 1.0}, {\"year\": 554.0, \"count_of_earthquakes\": 1.0}, {\"year\": 555.0, \"count_of_earthquakes\": 1.0}, {\"year\": 557.0, \"count_of_earthquakes\": 3.0}, {\"year\": 558.0, \"count_of_earthquakes\": 2.0}, {\"year\": 565.0, \"count_of_earthquakes\": 1.0}, {\"year\": 567.0, \"count_of_earthquakes\": 1.0}, {\"year\": 579.0, \"count_of_earthquakes\": 1.0}, {\"year\": 581.0, \"count_of_earthquakes\": 1.0}, {\"year\": 587.0, \"count_of_earthquakes\": 1.0}, {\"year\": 600.0, \"count_of_earthquakes\": 1.0}, {\"year\": 614.0, \"count_of_earthquakes\": 1.0}, {\"year\": 634.0, \"count_of_earthquakes\": 1.0}, {\"year\": 649.0, \"count_of_earthquakes\": 1.0}, {\"year\": 662.0, \"count_of_earthquakes\": 1.0}, {\"year\": 664.0, \"count_of_earthquakes\": 1.0}, {\"year\": 678.0, \"count_of_earthquakes\": 1.0}, {\"year\": 684.0, \"count_of_earthquakes\": 1.0}, {\"year\": 688.0, \"count_of_earthquakes\": 1.0}, {\"year\": 701.0, \"count_of_earthquakes\": 1.0}, {\"year\": 704.0, \"count_of_earthquakes\": 1.0}, {\"year\": 713.0, \"count_of_earthquakes\": 1.0}, {\"year\": 715.0, \"count_of_earthquakes\": 1.0}, {\"year\": 716.0, \"count_of_earthquakes\": 1.0}, {\"year\": 734.0, \"count_of_earthquakes\": 1.0}, {\"year\": 735.0, \"count_of_earthquakes\": 1.0}, {\"year\": 740.0, \"count_of_earthquakes\": 1.0}, {\"year\": 742.0, \"count_of_earthquakes\": 1.0}, {\"year\": 743.0, \"count_of_earthquakes\": 2.0}, {\"year\": 744.0, \"count_of_earthquakes\": 1.0}, {\"year\": 745.0, \"count_of_earthquakes\": 2.0}, {\"year\": 746.0, \"count_of_earthquakes\": 1.0}, {\"year\": 748.0, \"count_of_earthquakes\": 1.0}, {\"year\": 749.0, \"count_of_earthquakes\": 1.0}, {\"year\": 758.0, \"count_of_earthquakes\": 1.0}, {\"year\": 763.0, \"count_of_earthquakes\": 1.0}, {\"year\": 766.0, \"count_of_earthquakes\": 1.0}, {\"year\": 777.0, \"count_of_earthquakes\": 1.0}, {\"year\": 778.0, \"count_of_earthquakes\": 2.0}, {\"year\": 780.0, \"count_of_earthquakes\": 1.0}, {\"year\": 788.0, \"count_of_earthquakes\": 1.0}, {\"year\": 793.0, \"count_of_earthquakes\": 1.0}, {\"year\": 796.0, \"count_of_earthquakes\": 1.0}, {\"year\": 801.0, \"count_of_earthquakes\": 1.0}, {\"year\": 802.0, \"count_of_earthquakes\": 1.0}, {\"year\": 803.0, \"count_of_earthquakes\": 1.0}, {\"year\": 811.0, \"count_of_earthquakes\": 1.0}, {\"year\": 814.0, \"count_of_earthquakes\": 1.0}, {\"year\": 818.0, \"count_of_earthquakes\": 2.0}, {\"year\": 820.0, \"count_of_earthquakes\": 1.0}, {\"year\": 835.0, \"count_of_earthquakes\": 1.0}, {\"year\": 838.0, \"count_of_earthquakes\": 1.0}, {\"year\": 842.0, \"count_of_earthquakes\": 1.0}, {\"year\": 844.0, \"count_of_earthquakes\": 1.0}, {\"year\": 845.0, \"count_of_earthquakes\": 1.0}, {\"year\": 846.0, \"count_of_earthquakes\": 1.0}, {\"year\": 847.0, \"count_of_earthquakes\": 3.0}, {\"year\": 850.0, \"count_of_earthquakes\": 2.0}, {\"year\": 851.0, \"count_of_earthquakes\": 1.0}, {\"year\": 853.0, \"count_of_earthquakes\": 1.0}, {\"year\": 854.0, \"count_of_earthquakes\": 3.0}, {\"year\": 855.0, \"count_of_earthquakes\": 1.0}, {\"year\": 856.0, \"count_of_earthquakes\": 4.0}, {\"year\": 857.0, \"count_of_earthquakes\": 1.0}, {\"year\": 858.0, \"count_of_earthquakes\": 2.0}, {\"year\": 859.0, \"count_of_earthquakes\": 1.0}, {\"year\": 860.0, \"count_of_earthquakes\": 1.0}, {\"year\": 863.0, \"count_of_earthquakes\": 4.0}, {\"year\": 864.0, \"count_of_earthquakes\": 1.0}, {\"year\": 867.0, \"count_of_earthquakes\": 1.0}, {\"year\": 869.0, \"count_of_earthquakes\": 1.0}, {\"year\": 871.0, \"count_of_earthquakes\": 1.0}, {\"year\": 876.0, \"count_of_earthquakes\": 1.0}, {\"year\": 881.0, \"count_of_earthquakes\": 1.0}, {\"year\": 885.0, \"count_of_earthquakes\": 1.0}, {\"year\": 887.0, \"count_of_earthquakes\": 2.0}, {\"year\": 891.0, \"count_of_earthquakes\": 1.0}, {\"year\": 893.0, \"count_of_earthquakes\": 1.0}, {\"year\": 894.0, \"count_of_earthquakes\": 1.0}, {\"year\": 896.0, \"count_of_earthquakes\": 2.0}, {\"year\": 898.0, \"count_of_earthquakes\": 1.0}, {\"year\": 910.0, \"count_of_earthquakes\": 1.0}, {\"year\": 912.0, \"count_of_earthquakes\": 1.0}, {\"year\": 922.0, \"count_of_earthquakes\": 1.0}, {\"year\": 942.0, \"count_of_earthquakes\": 2.0}, {\"year\": 943.0, \"count_of_earthquakes\": 1.0}, {\"year\": 951.0, \"count_of_earthquakes\": 1.0}, {\"year\": 953.0, \"count_of_earthquakes\": 1.0}, {\"year\": 956.0, \"count_of_earthquakes\": 1.0}, {\"year\": 957.0, \"count_of_earthquakes\": 2.0}, {\"year\": 958.0, \"count_of_earthquakes\": 2.0}, {\"year\": 963.0, \"count_of_earthquakes\": 1.0}, {\"year\": 972.0, \"count_of_earthquakes\": 1.0}, {\"year\": 977.0, \"count_of_earthquakes\": 1.0}, {\"year\": 978.0, \"count_of_earthquakes\": 1.0}, {\"year\": 985.0, \"count_of_earthquakes\": 1.0}, {\"year\": 986.0, \"count_of_earthquakes\": 1.0}, {\"year\": 990.0, \"count_of_earthquakes\": 1.0}, {\"year\": 991.0, \"count_of_earthquakes\": 1.0}, {\"year\": 999.0, \"count_of_earthquakes\": 2.0}, {\"year\": 1000.0, \"count_of_earthquakes\": 2.0}, {\"year\": 1001.0, \"count_of_earthquakes\": 2.0}, {\"year\": 1003.0, \"count_of_earthquakes\": 2.0}, {\"year\": 1007.0, \"count_of_earthquakes\": 1.0}, {\"year\": 1008.0, \"count_of_earthquakes\": 1.0}, {\"year\": 1010.0, \"count_of_earthquakes\": 1.0}, {\"year\": 1013.0, \"count_of_earthquakes\": 1.0}, {\"year\": 1021.0, \"count_of_earthquakes\": 1.0}, {\"year\": 1022.0, \"count_of_earthquakes\": 1.0}, {\"year\": 1026.0, \"count_of_earthquakes\": 1.0}, {\"year\": 1033.0, \"count_of_earthquakes\": 1.0}, {\"year\": 1036.0, \"count_of_earthquakes\": 1.0}, {\"year\": 1037.0, \"count_of_earthquakes\": 1.0}, {\"year\": 1038.0, \"count_of_earthquakes\": 1.0}, {\"year\": 1039.0, \"count_of_earthquakes\": 1.0}, {\"year\": 1040.0, \"count_of_earthquakes\": 1.0}, {\"year\": 1042.0, \"count_of_earthquakes\": 2.0}, {\"year\": 1045.0, \"count_of_earthquakes\": 1.0}, {\"year\": 1046.0, \"count_of_earthquakes\": 1.0}, {\"year\": 1048.0, \"count_of_earthquakes\": 1.0}, {\"year\": 1052.0, \"count_of_earthquakes\": 2.0}, {\"year\": 1057.0, \"count_of_earthquakes\": 1.0}, {\"year\": 1058.0, \"count_of_earthquakes\": 1.0}, {\"year\": 1063.0, \"count_of_earthquakes\": 2.0}, {\"year\": 1064.0, \"count_of_earthquakes\": 1.0}, {\"year\": 1065.0, \"count_of_earthquakes\": 2.0}, {\"year\": 1066.0, \"count_of_earthquakes\": 1.0}, {\"year\": 1067.0, \"count_of_earthquakes\": 1.0}, {\"year\": 1068.0, \"count_of_earthquakes\": 2.0}, {\"year\": 1070.0, \"count_of_earthquakes\": 1.0}, {\"year\": 1072.0, \"count_of_earthquakes\": 1.0}, {\"year\": 1076.0, \"count_of_earthquakes\": 1.0}, {\"year\": 1082.0, \"count_of_earthquakes\": 1.0}, {\"year\": 1085.0, \"count_of_earthquakes\": 2.0}, {\"year\": 1086.0, \"count_of_earthquakes\": 2.0}, {\"year\": 1088.0, \"count_of_earthquakes\": 2.0}, {\"year\": 1089.0, \"count_of_earthquakes\": 1.0}, {\"year\": 1091.0, \"count_of_earthquakes\": 1.0}, {\"year\": 1096.0, \"count_of_earthquakes\": 1.0}, {\"year\": 1099.0, \"count_of_earthquakes\": 1.0}, {\"year\": 1101.0, \"count_of_earthquakes\": 1.0}, {\"year\": 1102.0, \"count_of_earthquakes\": 2.0}, {\"year\": 1106.0, \"count_of_earthquakes\": 1.0}, {\"year\": 1109.0, \"count_of_earthquakes\": 1.0}, {\"year\": 1111.0, \"count_of_earthquakes\": 1.0}, {\"year\": 1114.0, \"count_of_earthquakes\": 3.0}, {\"year\": 1115.0, \"count_of_earthquakes\": 3.0}, {\"year\": 1117.0, \"count_of_earthquakes\": 2.0}, {\"year\": 1118.0, \"count_of_earthquakes\": 1.0}, {\"year\": 1119.0, \"count_of_earthquakes\": 1.0}, {\"year\": 1125.0, \"count_of_earthquakes\": 2.0}, {\"year\": 1130.0, \"count_of_earthquakes\": 2.0}, {\"year\": 1137.0, \"count_of_earthquakes\": 2.0}, {\"year\": 1139.0, \"count_of_earthquakes\": 1.0}, {\"year\": 1143.0, \"count_of_earthquakes\": 1.0}, {\"year\": 1149.0, \"count_of_earthquakes\": 1.0}, {\"year\": 1151.0, \"count_of_earthquakes\": 2.0}, {\"year\": 1153.0, \"count_of_earthquakes\": 1.0}, {\"year\": 1155.0, \"count_of_earthquakes\": 2.0}, {\"year\": 1156.0, \"count_of_earthquakes\": 1.0}, {\"year\": 1157.0, \"count_of_earthquakes\": 1.0}, {\"year\": 1158.0, \"count_of_earthquakes\": 1.0}, {\"year\": 1160.0, \"count_of_earthquakes\": 1.0}, {\"year\": 1164.0, \"count_of_earthquakes\": 1.0}, {\"year\": 1169.0, \"count_of_earthquakes\": 2.0}, {\"year\": 1171.0, \"count_of_earthquakes\": 1.0}, {\"year\": 1172.0, \"count_of_earthquakes\": 1.0}, {\"year\": 1175.0, \"count_of_earthquakes\": 2.0}, {\"year\": 1176.0, \"count_of_earthquakes\": 1.0}, {\"year\": 1179.0, \"count_of_earthquakes\": 1.0}, {\"year\": 1180.0, \"count_of_earthquakes\": 1.0}, {\"year\": 1182.0, \"count_of_earthquakes\": 2.0}, {\"year\": 1183.0, \"count_of_earthquakes\": 1.0}, {\"year\": 1184.0, \"count_of_earthquakes\": 1.0}, {\"year\": 1201.0, \"count_of_earthquakes\": 1.0}, {\"year\": 1202.0, \"count_of_earthquakes\": 2.0}, {\"year\": 1208.0, \"count_of_earthquakes\": 2.0}, {\"year\": 1209.0, \"count_of_earthquakes\": 2.0}, {\"year\": 1211.0, \"count_of_earthquakes\": 1.0}, {\"year\": 1219.0, \"count_of_earthquakes\": 1.0}, {\"year\": 1222.0, \"count_of_earthquakes\": 2.0}, {\"year\": 1223.0, \"count_of_earthquakes\": 1.0}, {\"year\": 1227.0, \"count_of_earthquakes\": 2.0}, {\"year\": 1231.0, \"count_of_earthquakes\": 2.0}, {\"year\": 1233.0, \"count_of_earthquakes\": 1.0}, {\"year\": 1237.0, \"count_of_earthquakes\": 3.0}, {\"year\": 1241.0, \"count_of_earthquakes\": 1.0}, {\"year\": 1248.0, \"count_of_earthquakes\": 1.0}, {\"year\": 1255.0, \"count_of_earthquakes\": 1.0}, {\"year\": 1257.0, \"count_of_earthquakes\": 2.0}, {\"year\": 1259.0, \"count_of_earthquakes\": 1.0}, {\"year\": 1267.0, \"count_of_earthquakes\": 1.0}, {\"year\": 1268.0, \"count_of_earthquakes\": 1.0}, {\"year\": 1269.0, \"count_of_earthquakes\": 1.0}, {\"year\": 1272.0, \"count_of_earthquakes\": 1.0}, {\"year\": 1273.0, \"count_of_earthquakes\": 2.0}, {\"year\": 1275.0, \"count_of_earthquakes\": 1.0}, {\"year\": 1276.0, \"count_of_earthquakes\": 1.0}, {\"year\": 1277.0, \"count_of_earthquakes\": 1.0}, {\"year\": 1279.0, \"count_of_earthquakes\": 1.0}, {\"year\": 1280.0, \"count_of_earthquakes\": 3.0}, {\"year\": 1281.0, \"count_of_earthquakes\": 1.0}, {\"year\": 1283.0, \"count_of_earthquakes\": 1.0}, {\"year\": 1284.0, \"count_of_earthquakes\": 1.0}, {\"year\": 1286.0, \"count_of_earthquakes\": 1.0}, {\"year\": 1289.0, \"count_of_earthquakes\": 2.0}, {\"year\": 1290.0, \"count_of_earthquakes\": 1.0}, {\"year\": 1291.0, \"count_of_earthquakes\": 2.0}, {\"year\": 1293.0, \"count_of_earthquakes\": 2.0}, {\"year\": 1295.0, \"count_of_earthquakes\": 2.0}, {\"year\": 1298.0, \"count_of_earthquakes\": 1.0}, {\"year\": 1300.0, \"count_of_earthquakes\": 3.0}, {\"year\": 1301.0, \"count_of_earthquakes\": 1.0}, {\"year\": 1303.0, \"count_of_earthquakes\": 2.0}, {\"year\": 1304.0, \"count_of_earthquakes\": 1.0}, {\"year\": 1305.0, \"count_of_earthquakes\": 1.0}, {\"year\": 1306.0, \"count_of_earthquakes\": 3.0}, {\"year\": 1310.0, \"count_of_earthquakes\": 2.0}, {\"year\": 1314.0, \"count_of_earthquakes\": 1.0}, {\"year\": 1319.0, \"count_of_earthquakes\": 2.0}, {\"year\": 1320.0, \"count_of_earthquakes\": 1.0}, {\"year\": 1323.0, \"count_of_earthquakes\": 1.0}, {\"year\": 1327.0, \"count_of_earthquakes\": 1.0}, {\"year\": 1328.0, \"count_of_earthquakes\": 1.0}, {\"year\": 1329.0, \"count_of_earthquakes\": 1.0}, {\"year\": 1331.0, \"count_of_earthquakes\": 1.0}, {\"year\": 1332.0, \"count_of_earthquakes\": 1.0}, {\"year\": 1336.0, \"count_of_earthquakes\": 2.0}, {\"year\": 1337.0, \"count_of_earthquakes\": 1.0}, {\"year\": 1339.0, \"count_of_earthquakes\": 1.0}, {\"year\": 1340.0, \"count_of_earthquakes\": 1.0}, {\"year\": 1341.0, \"count_of_earthquakes\": 2.0}, {\"year\": 1343.0, \"count_of_earthquakes\": 3.0}, {\"year\": 1344.0, \"count_of_earthquakes\": 3.0}, {\"year\": 1345.0, \"count_of_earthquakes\": 1.0}, {\"year\": 1346.0, \"count_of_earthquakes\": 1.0}, {\"year\": 1347.0, \"count_of_earthquakes\": 1.0}, {\"year\": 1348.0, \"count_of_earthquakes\": 1.0}, {\"year\": 1349.0, \"count_of_earthquakes\": 1.0}, {\"year\": 1350.0, \"count_of_earthquakes\": 1.0}, {\"year\": 1351.0, \"count_of_earthquakes\": 1.0}, {\"year\": 1352.0, \"count_of_earthquakes\": 2.0}, {\"year\": 1353.0, \"count_of_earthquakes\": 1.0}, {\"year\": 1354.0, \"count_of_earthquakes\": 1.0}, {\"year\": 1356.0, \"count_of_earthquakes\": 2.0}, {\"year\": 1358.0, \"count_of_earthquakes\": 1.0}, {\"year\": 1359.0, \"count_of_earthquakes\": 1.0}, {\"year\": 1360.0, \"count_of_earthquakes\": 2.0}, {\"year\": 1361.0, \"count_of_earthquakes\": 3.0}, {\"year\": 1365.0, \"count_of_earthquakes\": 1.0}, {\"year\": 1367.0, \"count_of_earthquakes\": 1.0}, {\"year\": 1368.0, \"count_of_earthquakes\": 1.0}, {\"year\": 1372.0, \"count_of_earthquakes\": 1.0}, {\"year\": 1374.0, \"count_of_earthquakes\": 1.0}, {\"year\": 1375.0, \"count_of_earthquakes\": 1.0}, {\"year\": 1377.0, \"count_of_earthquakes\": 1.0}, {\"year\": 1380.0, \"count_of_earthquakes\": 1.0}, {\"year\": 1382.0, \"count_of_earthquakes\": 1.0}, {\"year\": 1383.0, \"count_of_earthquakes\": 1.0}, {\"year\": 1384.0, \"count_of_earthquakes\": 1.0}, {\"year\": 1385.0, \"count_of_earthquakes\": 1.0}, {\"year\": 1386.0, \"count_of_earthquakes\": 1.0}, {\"year\": 1387.0, \"count_of_earthquakes\": 2.0}, {\"year\": 1389.0, \"count_of_earthquakes\": 4.0}, {\"year\": 1390.0, \"count_of_earthquakes\": 2.0}, {\"year\": 1391.0, \"count_of_earthquakes\": 1.0}, {\"year\": 1399.0, \"count_of_earthquakes\": 1.0}, {\"year\": 1400.0, \"count_of_earthquakes\": 2.0}, {\"year\": 1402.0, \"count_of_earthquakes\": 1.0}, {\"year\": 1403.0, \"count_of_earthquakes\": 2.0}, {\"year\": 1404.0, \"count_of_earthquakes\": 1.0}, {\"year\": 1405.0, \"count_of_earthquakes\": 1.0}, {\"year\": 1406.0, \"count_of_earthquakes\": 1.0}, {\"year\": 1407.0, \"count_of_earthquakes\": 1.0}, {\"year\": 1408.0, \"count_of_earthquakes\": 2.0}, {\"year\": 1414.0, \"count_of_earthquakes\": 1.0}, {\"year\": 1417.0, \"count_of_earthquakes\": 1.0}, {\"year\": 1418.0, \"count_of_earthquakes\": 1.0}, {\"year\": 1419.0, \"count_of_earthquakes\": 1.0}, {\"year\": 1426.0, \"count_of_earthquakes\": 1.0}, {\"year\": 1427.0, \"count_of_earthquakes\": 1.0}, {\"year\": 1428.0, \"count_of_earthquakes\": 1.0}, {\"year\": 1431.0, \"count_of_earthquakes\": 1.0}, {\"year\": 1433.0, \"count_of_earthquakes\": 1.0}, {\"year\": 1440.0, \"count_of_earthquakes\": 2.0}, {\"year\": 1441.0, \"count_of_earthquakes\": 2.0}, {\"year\": 1443.0, \"count_of_earthquakes\": 1.0}, {\"year\": 1444.0, \"count_of_earthquakes\": 2.0}, {\"year\": 1445.0, \"count_of_earthquakes\": 1.0}, {\"year\": 1447.0, \"count_of_earthquakes\": 1.0}, {\"year\": 1448.0, \"count_of_earthquakes\": 1.0}, {\"year\": 1451.0, \"count_of_earthquakes\": 1.0}, {\"year\": 1454.0, \"count_of_earthquakes\": 2.0}, {\"year\": 1455.0, \"count_of_earthquakes\": 1.0}, {\"year\": 1456.0, \"count_of_earthquakes\": 3.0}, {\"year\": 1457.0, \"count_of_earthquakes\": 1.0}, {\"year\": 1458.0, \"count_of_earthquakes\": 2.0}, {\"year\": 1459.0, \"count_of_earthquakes\": 1.0}, {\"year\": 1461.0, \"count_of_earthquakes\": 2.0}, {\"year\": 1463.0, \"count_of_earthquakes\": 1.0}, {\"year\": 1464.0, \"count_of_earthquakes\": 1.0}, {\"year\": 1469.0, \"count_of_earthquakes\": 1.0}, {\"year\": 1471.0, \"count_of_earthquakes\": 2.0}, {\"year\": 1475.0, \"count_of_earthquakes\": 1.0}, {\"year\": 1478.0, \"count_of_earthquakes\": 1.0}, {\"year\": 1479.0, \"count_of_earthquakes\": 1.0}, {\"year\": 1481.0, \"count_of_earthquakes\": 5.0}, {\"year\": 1482.0, \"count_of_earthquakes\": 3.0}, {\"year\": 1483.0, \"count_of_earthquakes\": 2.0}, {\"year\": 1484.0, \"count_of_earthquakes\": 2.0}, {\"year\": 1485.0, \"count_of_earthquakes\": 1.0}, {\"year\": 1487.0, \"count_of_earthquakes\": 1.0}, {\"year\": 1488.0, \"count_of_earthquakes\": 1.0}, {\"year\": 1489.0, \"count_of_earthquakes\": 1.0}, {\"year\": 1490.0, \"count_of_earthquakes\": 3.0}, {\"year\": 1491.0, \"count_of_earthquakes\": 1.0}, {\"year\": 1493.0, \"count_of_earthquakes\": 2.0}, {\"year\": 1494.0, \"count_of_earthquakes\": 4.0}, {\"year\": 1495.0, \"count_of_earthquakes\": 2.0}, {\"year\": 1496.0, \"count_of_earthquakes\": 1.0}, {\"year\": 1498.0, \"count_of_earthquakes\": 4.0}, {\"year\": 1499.0, \"count_of_earthquakes\": 1.0}, {\"year\": 1500.0, \"count_of_earthquakes\": 2.0}, {\"year\": 1501.0, \"count_of_earthquakes\": 3.0}, {\"year\": 1502.0, \"count_of_earthquakes\": 3.0}, {\"year\": 1504.0, \"count_of_earthquakes\": 3.0}, {\"year\": 1505.0, \"count_of_earthquakes\": 4.0}, {\"year\": 1507.0, \"count_of_earthquakes\": 1.0}, {\"year\": 1508.0, \"count_of_earthquakes\": 1.0}, {\"year\": 1509.0, \"count_of_earthquakes\": 5.0}, {\"year\": 1510.0, \"count_of_earthquakes\": 4.0}, {\"year\": 1511.0, \"count_of_earthquakes\": 3.0}, {\"year\": 1512.0, \"count_of_earthquakes\": 2.0}, {\"year\": 1513.0, \"count_of_earthquakes\": 1.0}, {\"year\": 1514.0, \"count_of_earthquakes\": 2.0}, {\"year\": 1515.0, \"count_of_earthquakes\": 2.0}, {\"year\": 1516.0, \"count_of_earthquakes\": 3.0}, {\"year\": 1517.0, \"count_of_earthquakes\": 1.0}, {\"year\": 1518.0, \"count_of_earthquakes\": 2.0}, {\"year\": 1520.0, \"count_of_earthquakes\": 3.0}, {\"year\": 1522.0, \"count_of_earthquakes\": 3.0}, {\"year\": 1523.0, \"count_of_earthquakes\": 1.0}, {\"year\": 1524.0, \"count_of_earthquakes\": 1.0}, {\"year\": 1527.0, \"count_of_earthquakes\": 1.0}, {\"year\": 1530.0, \"count_of_earthquakes\": 2.0}, {\"year\": 1531.0, \"count_of_earthquakes\": 2.0}, {\"year\": 1535.0, \"count_of_earthquakes\": 1.0}, {\"year\": 1536.0, \"count_of_earthquakes\": 1.0}, {\"year\": 1537.0, \"count_of_earthquakes\": 1.0}, {\"year\": 1538.0, \"count_of_earthquakes\": 2.0}, {\"year\": 1539.0, \"count_of_earthquakes\": 2.0}, {\"year\": 1541.0, \"count_of_earthquakes\": 1.0}, {\"year\": 1542.0, \"count_of_earthquakes\": 3.0}, {\"year\": 1543.0, \"count_of_earthquakes\": 2.0}, {\"year\": 1545.0, \"count_of_earthquakes\": 2.0}, {\"year\": 1546.0, \"count_of_earthquakes\": 1.0}, {\"year\": 1547.0, \"count_of_earthquakes\": 1.0}, {\"year\": 1549.0, \"count_of_earthquakes\": 1.0}, {\"year\": 1550.0, \"count_of_earthquakes\": 2.0}, {\"year\": 1551.0, \"count_of_earthquakes\": 2.0}, {\"year\": 1552.0, \"count_of_earthquakes\": 1.0}, {\"year\": 1553.0, \"count_of_earthquakes\": 1.0}, {\"year\": 1555.0, \"count_of_earthquakes\": 3.0}, {\"year\": 1556.0, \"count_of_earthquakes\": 5.0}, {\"year\": 1560.0, \"count_of_earthquakes\": 2.0}, {\"year\": 1561.0, \"count_of_earthquakes\": 4.0}, {\"year\": 1562.0, \"count_of_earthquakes\": 1.0}, {\"year\": 1563.0, \"count_of_earthquakes\": 1.0}, {\"year\": 1564.0, \"count_of_earthquakes\": 2.0}, {\"year\": 1565.0, \"count_of_earthquakes\": 1.0}, {\"year\": 1566.0, \"count_of_earthquakes\": 3.0}, {\"year\": 1568.0, \"count_of_earthquakes\": 3.0}, {\"year\": 1570.0, \"count_of_earthquakes\": 2.0}, {\"year\": 1571.0, \"count_of_earthquakes\": 1.0}, {\"year\": 1573.0, \"count_of_earthquakes\": 2.0}, {\"year\": 1574.0, \"count_of_earthquakes\": 3.0}, {\"year\": 1575.0, \"count_of_earthquakes\": 2.0}, {\"year\": 1576.0, \"count_of_earthquakes\": 1.0}, {\"year\": 1577.0, \"count_of_earthquakes\": 1.0}, {\"year\": 1578.0, \"count_of_earthquakes\": 1.0}, {\"year\": 1579.0, \"count_of_earthquakes\": 3.0}, {\"year\": 1580.0, \"count_of_earthquakes\": 1.0}, {\"year\": 1581.0, \"count_of_earthquakes\": 1.0}, {\"year\": 1582.0, \"count_of_earthquakes\": 3.0}, {\"year\": 1584.0, \"count_of_earthquakes\": 4.0}, {\"year\": 1585.0, \"count_of_earthquakes\": 1.0}, {\"year\": 1586.0, \"count_of_earthquakes\": 4.0}, {\"year\": 1587.0, \"count_of_earthquakes\": 3.0}, {\"year\": 1588.0, \"count_of_earthquakes\": 2.0}, {\"year\": 1589.0, \"count_of_earthquakes\": 2.0}, {\"year\": 1590.0, \"count_of_earthquakes\": 6.0}, {\"year\": 1591.0, \"count_of_earthquakes\": 1.0}, {\"year\": 1593.0, \"count_of_earthquakes\": 1.0}, {\"year\": 1594.0, \"count_of_earthquakes\": 1.0}, {\"year\": 1596.0, \"count_of_earthquakes\": 1.0}, {\"year\": 1597.0, \"count_of_earthquakes\": 2.0}, {\"year\": 1598.0, \"count_of_earthquakes\": 1.0}, {\"year\": 1599.0, \"count_of_earthquakes\": 1.0}, {\"year\": 1600.0, \"count_of_earthquakes\": 4.0}, {\"year\": 1601.0, \"count_of_earthquakes\": 2.0}, {\"year\": 1602.0, \"count_of_earthquakes\": 1.0}, {\"year\": 1603.0, \"count_of_earthquakes\": 1.0}, {\"year\": 1604.0, \"count_of_earthquakes\": 5.0}, {\"year\": 1605.0, \"count_of_earthquakes\": 3.0}, {\"year\": 1606.0, \"count_of_earthquakes\": 1.0}, {\"year\": 1608.0, \"count_of_earthquakes\": 5.0}, {\"year\": 1609.0, \"count_of_earthquakes\": 3.0}, {\"year\": 1610.0, \"count_of_earthquakes\": 3.0}, {\"year\": 1611.0, \"count_of_earthquakes\": 6.0}, {\"year\": 1612.0, \"count_of_earthquakes\": 2.0}, {\"year\": 1613.0, \"count_of_earthquakes\": 3.0}, {\"year\": 1614.0, \"count_of_earthquakes\": 4.0}, {\"year\": 1615.0, \"count_of_earthquakes\": 4.0}, {\"year\": 1616.0, \"count_of_earthquakes\": 4.0}, {\"year\": 1618.0, \"count_of_earthquakes\": 5.0}, {\"year\": 1619.0, \"count_of_earthquakes\": 5.0}, {\"year\": 1620.0, \"count_of_earthquakes\": 2.0}, {\"year\": 1621.0, \"count_of_earthquakes\": 2.0}, {\"year\": 1622.0, \"count_of_earthquakes\": 5.0}, {\"year\": 1624.0, \"count_of_earthquakes\": 2.0}, {\"year\": 1625.0, \"count_of_earthquakes\": 1.0}, {\"year\": 1626.0, \"count_of_earthquakes\": 3.0}, {\"year\": 1627.0, \"count_of_earthquakes\": 4.0}, {\"year\": 1628.0, \"count_of_earthquakes\": 3.0}, {\"year\": 1629.0, \"count_of_earthquakes\": 3.0}, {\"year\": 1630.0, \"count_of_earthquakes\": 4.0}, {\"year\": 1631.0, \"count_of_earthquakes\": 5.0}, {\"year\": 1632.0, \"count_of_earthquakes\": 1.0}, {\"year\": 1633.0, \"count_of_earthquakes\": 4.0}, {\"year\": 1634.0, \"count_of_earthquakes\": 3.0}, {\"year\": 1636.0, \"count_of_earthquakes\": 4.0}, {\"year\": 1638.0, \"count_of_earthquakes\": 2.0}, {\"year\": 1639.0, \"count_of_earthquakes\": 4.0}, {\"year\": 1640.0, \"count_of_earthquakes\": 7.0}, {\"year\": 1641.0, \"count_of_earthquakes\": 6.0}, {\"year\": 1642.0, \"count_of_earthquakes\": 2.0}, {\"year\": 1643.0, \"count_of_earthquakes\": 1.0}, {\"year\": 1644.0, \"count_of_earthquakes\": 4.0}, {\"year\": 1645.0, \"count_of_earthquakes\": 3.0}, {\"year\": 1646.0, \"count_of_earthquakes\": 6.0}, {\"year\": 1647.0, \"count_of_earthquakes\": 3.0}, {\"year\": 1648.0, \"count_of_earthquakes\": 4.0}, {\"year\": 1649.0, \"count_of_earthquakes\": 3.0}, {\"year\": 1650.0, \"count_of_earthquakes\": 4.0}, {\"year\": 1651.0, \"count_of_earthquakes\": 1.0}, {\"year\": 1652.0, \"count_of_earthquakes\": 2.0}, {\"year\": 1653.0, \"count_of_earthquakes\": 2.0}, {\"year\": 1654.0, \"count_of_earthquakes\": 4.0}, {\"year\": 1655.0, \"count_of_earthquakes\": 2.0}, {\"year\": 1656.0, \"count_of_earthquakes\": 2.0}, {\"year\": 1657.0, \"count_of_earthquakes\": 6.0}, {\"year\": 1658.0, \"count_of_earthquakes\": 4.0}, {\"year\": 1659.0, \"count_of_earthquakes\": 4.0}, {\"year\": 1660.0, \"count_of_earthquakes\": 5.0}, {\"year\": 1661.0, \"count_of_earthquakes\": 2.0}, {\"year\": 1662.0, \"count_of_earthquakes\": 5.0}, {\"year\": 1663.0, \"count_of_earthquakes\": 2.0}, {\"year\": 1664.0, \"count_of_earthquakes\": 4.0}, {\"year\": 1665.0, \"count_of_earthquakes\": 3.0}, {\"year\": 1666.0, \"count_of_earthquakes\": 3.0}, {\"year\": 1667.0, \"count_of_earthquakes\": 8.0}, {\"year\": 1668.0, \"count_of_earthquakes\": 6.0}, {\"year\": 1669.0, \"count_of_earthquakes\": 3.0}, {\"year\": 1670.0, \"count_of_earthquakes\": 5.0}, {\"year\": 1671.0, \"count_of_earthquakes\": 2.0}, {\"year\": 1672.0, \"count_of_earthquakes\": 3.0}, {\"year\": 1673.0, \"count_of_earthquakes\": 5.0}, {\"year\": 1674.0, \"count_of_earthquakes\": 4.0}, {\"year\": 1675.0, \"count_of_earthquakes\": 1.0}, {\"year\": 1676.0, \"count_of_earthquakes\": 1.0}, {\"year\": 1677.0, \"count_of_earthquakes\": 5.0}, {\"year\": 1678.0, \"count_of_earthquakes\": 6.0}, {\"year\": 1679.0, \"count_of_earthquakes\": 4.0}, {\"year\": 1680.0, \"count_of_earthquakes\": 3.0}, {\"year\": 1681.0, \"count_of_earthquakes\": 3.0}, {\"year\": 1682.0, \"count_of_earthquakes\": 3.0}, {\"year\": 1683.0, \"count_of_earthquakes\": 3.0}, {\"year\": 1684.0, \"count_of_earthquakes\": 1.0}, {\"year\": 1687.0, \"count_of_earthquakes\": 5.0}, {\"year\": 1688.0, \"count_of_earthquakes\": 10.0}, {\"year\": 1689.0, \"count_of_earthquakes\": 2.0}, {\"year\": 1690.0, \"count_of_earthquakes\": 2.0}, {\"year\": 1691.0, \"count_of_earthquakes\": 1.0}, {\"year\": 1692.0, \"count_of_earthquakes\": 3.0}, {\"year\": 1693.0, \"count_of_earthquakes\": 2.0}, {\"year\": 1694.0, \"count_of_earthquakes\": 3.0}, {\"year\": 1695.0, \"count_of_earthquakes\": 3.0}, {\"year\": 1696.0, \"count_of_earthquakes\": 2.0}, {\"year\": 1697.0, \"count_of_earthquakes\": 1.0}, {\"year\": 1698.0, \"count_of_earthquakes\": 3.0}, {\"year\": 1699.0, \"count_of_earthquakes\": 3.0}, {\"year\": 1700.0, \"count_of_earthquakes\": 3.0}, {\"year\": 1701.0, \"count_of_earthquakes\": 2.0}, {\"year\": 1702.0, \"count_of_earthquakes\": 2.0}, {\"year\": 1703.0, \"count_of_earthquakes\": 6.0}, {\"year\": 1704.0, \"count_of_earthquakes\": 4.0}, {\"year\": 1705.0, \"count_of_earthquakes\": 1.0}, {\"year\": 1706.0, \"count_of_earthquakes\": 2.0}, {\"year\": 1707.0, \"count_of_earthquakes\": 5.0}, {\"year\": 1708.0, \"count_of_earthquakes\": 3.0}, {\"year\": 1709.0, \"count_of_earthquakes\": 1.0}, {\"year\": 1710.0, \"count_of_earthquakes\": 2.0}, {\"year\": 1711.0, \"count_of_earthquakes\": 5.0}, {\"year\": 1713.0, \"count_of_earthquakes\": 3.0}, {\"year\": 1714.0, \"count_of_earthquakes\": 5.0}, {\"year\": 1715.0, \"count_of_earthquakes\": 4.0}, {\"year\": 1716.0, \"count_of_earthquakes\": 7.0}, {\"year\": 1717.0, \"count_of_earthquakes\": 3.0}, {\"year\": 1718.0, \"count_of_earthquakes\": 1.0}, {\"year\": 1719.0, \"count_of_earthquakes\": 3.0}, {\"year\": 1720.0, \"count_of_earthquakes\": 6.0}, {\"year\": 1721.0, \"count_of_earthquakes\": 5.0}, {\"year\": 1722.0, \"count_of_earthquakes\": 3.0}, {\"year\": 1723.0, \"count_of_earthquakes\": 1.0}, {\"year\": 1725.0, \"count_of_earthquakes\": 6.0}, {\"year\": 1726.0, \"count_of_earthquakes\": 2.0}, {\"year\": 1727.0, \"count_of_earthquakes\": 5.0}, {\"year\": 1728.0, \"count_of_earthquakes\": 1.0}, {\"year\": 1729.0, \"count_of_earthquakes\": 1.0}, {\"year\": 1730.0, \"count_of_earthquakes\": 8.0}, {\"year\": 1731.0, \"count_of_earthquakes\": 4.0}, {\"year\": 1732.0, \"count_of_earthquakes\": 4.0}, {\"year\": 1733.0, \"count_of_earthquakes\": 2.0}, {\"year\": 1734.0, \"count_of_earthquakes\": 2.0}, {\"year\": 1735.0, \"count_of_earthquakes\": 2.0}, {\"year\": 1736.0, \"count_of_earthquakes\": 2.0}, {\"year\": 1737.0, \"count_of_earthquakes\": 5.0}, {\"year\": 1738.0, \"count_of_earthquakes\": 4.0}, {\"year\": 1739.0, \"count_of_earthquakes\": 6.0}, {\"year\": 1740.0, \"count_of_earthquakes\": 2.0}, {\"year\": 1741.0, \"count_of_earthquakes\": 2.0}, {\"year\": 1742.0, \"count_of_earthquakes\": 5.0}, {\"year\": 1743.0, \"count_of_earthquakes\": 4.0}, {\"year\": 1744.0, \"count_of_earthquakes\": 1.0}, {\"year\": 1746.0, \"count_of_earthquakes\": 2.0}, {\"year\": 1747.0, \"count_of_earthquakes\": 2.0}, {\"year\": 1748.0, \"count_of_earthquakes\": 6.0}, {\"year\": 1749.0, \"count_of_earthquakes\": 2.0}, {\"year\": 1750.0, \"count_of_earthquakes\": 8.0}, {\"year\": 1751.0, \"count_of_earthquakes\": 11.0}, {\"year\": 1752.0, \"count_of_earthquakes\": 4.0}, {\"year\": 1754.0, \"count_of_earthquakes\": 5.0}, {\"year\": 1755.0, \"count_of_earthquakes\": 11.0}, {\"year\": 1756.0, \"count_of_earthquakes\": 1.0}, {\"year\": 1757.0, \"count_of_earthquakes\": 8.0}, {\"year\": 1758.0, \"count_of_earthquakes\": 2.0}, {\"year\": 1759.0, \"count_of_earthquakes\": 6.0}, {\"year\": 1760.0, \"count_of_earthquakes\": 1.0}, {\"year\": 1761.0, \"count_of_earthquakes\": 4.0}, {\"year\": 1762.0, \"count_of_earthquakes\": 2.0}, {\"year\": 1763.0, \"count_of_earthquakes\": 6.0}, {\"year\": 1764.0, \"count_of_earthquakes\": 2.0}, {\"year\": 1765.0, \"count_of_earthquakes\": 3.0}, {\"year\": 1766.0, \"count_of_earthquakes\": 9.0}, {\"year\": 1767.0, \"count_of_earthquakes\": 5.0}, {\"year\": 1768.0, \"count_of_earthquakes\": 4.0}, {\"year\": 1769.0, \"count_of_earthquakes\": 6.0}, {\"year\": 1770.0, \"count_of_earthquakes\": 6.0}, {\"year\": 1771.0, \"count_of_earthquakes\": 3.0}, {\"year\": 1772.0, \"count_of_earthquakes\": 3.0}, {\"year\": 1773.0, \"count_of_earthquakes\": 3.0}, {\"year\": 1774.0, \"count_of_earthquakes\": 4.0}, {\"year\": 1775.0, \"count_of_earthquakes\": 6.0}, {\"year\": 1776.0, \"count_of_earthquakes\": 3.0}, {\"year\": 1777.0, \"count_of_earthquakes\": 2.0}, {\"year\": 1778.0, \"count_of_earthquakes\": 3.0}, {\"year\": 1779.0, \"count_of_earthquakes\": 1.0}, {\"year\": 1780.0, \"count_of_earthquakes\": 5.0}, {\"year\": 1781.0, \"count_of_earthquakes\": 3.0}, {\"year\": 1782.0, \"count_of_earthquakes\": 2.0}, {\"year\": 1783.0, \"count_of_earthquakes\": 10.0}, {\"year\": 1784.0, \"count_of_earthquakes\": 10.0}, {\"year\": 1785.0, \"count_of_earthquakes\": 3.0}, {\"year\": 1786.0, \"count_of_earthquakes\": 5.0}, {\"year\": 1787.0, \"count_of_earthquakes\": 7.0}, {\"year\": 1788.0, \"count_of_earthquakes\": 4.0}, {\"year\": 1789.0, \"count_of_earthquakes\": 3.0}, {\"year\": 1790.0, \"count_of_earthquakes\": 2.0}, {\"year\": 1791.0, \"count_of_earthquakes\": 9.0}, {\"year\": 1792.0, \"count_of_earthquakes\": 6.0}, {\"year\": 1793.0, \"count_of_earthquakes\": 5.0}, {\"year\": 1794.0, \"count_of_earthquakes\": 2.0}, {\"year\": 1795.0, \"count_of_earthquakes\": 3.0}, {\"year\": 1796.0, \"count_of_earthquakes\": 5.0}, {\"year\": 1797.0, \"count_of_earthquakes\": 3.0}, {\"year\": 1798.0, \"count_of_earthquakes\": 5.0}, {\"year\": 1799.0, \"count_of_earthquakes\": 8.0}, {\"year\": 1800.0, \"count_of_earthquakes\": 3.0}, {\"year\": 1801.0, \"count_of_earthquakes\": 2.0}, {\"year\": 1802.0, \"count_of_earthquakes\": 7.0}, {\"year\": 1803.0, \"count_of_earthquakes\": 2.0}, {\"year\": 1804.0, \"count_of_earthquakes\": 5.0}, {\"year\": 1805.0, \"count_of_earthquakes\": 4.0}, {\"year\": 1806.0, \"count_of_earthquakes\": 5.0}, {\"year\": 1808.0, \"count_of_earthquakes\": 6.0}, {\"year\": 1809.0, \"count_of_earthquakes\": 3.0}, {\"year\": 1810.0, \"count_of_earthquakes\": 5.0}, {\"year\": 1811.0, \"count_of_earthquakes\": 7.0}, {\"year\": 1812.0, \"count_of_earthquakes\": 11.0}, {\"year\": 1813.0, \"count_of_earthquakes\": 2.0}, {\"year\": 1814.0, \"count_of_earthquakes\": 5.0}, {\"year\": 1815.0, \"count_of_earthquakes\": 7.0}, {\"year\": 1816.0, \"count_of_earthquakes\": 4.0}, {\"year\": 1817.0, \"count_of_earthquakes\": 4.0}, {\"year\": 1818.0, \"count_of_earthquakes\": 8.0}, {\"year\": 1819.0, \"count_of_earthquakes\": 8.0}, {\"year\": 1820.0, \"count_of_earthquakes\": 10.0}, {\"year\": 1821.0, \"count_of_earthquakes\": 5.0}, {\"year\": 1822.0, \"count_of_earthquakes\": 7.0}, {\"year\": 1823.0, \"count_of_earthquakes\": 9.0}, {\"year\": 1824.0, \"count_of_earthquakes\": 7.0}, {\"year\": 1825.0, \"count_of_earthquakes\": 7.0}, {\"year\": 1826.0, \"count_of_earthquakes\": 4.0}, {\"year\": 1827.0, \"count_of_earthquakes\": 6.0}, {\"year\": 1828.0, \"count_of_earthquakes\": 8.0}, {\"year\": 1829.0, \"count_of_earthquakes\": 8.0}, {\"year\": 1830.0, \"count_of_earthquakes\": 9.0}, {\"year\": 1831.0, \"count_of_earthquakes\": 8.0}, {\"year\": 1832.0, \"count_of_earthquakes\": 3.0}, {\"year\": 1833.0, \"count_of_earthquakes\": 9.0}, {\"year\": 1834.0, \"count_of_earthquakes\": 14.0}, {\"year\": 1835.0, \"count_of_earthquakes\": 6.0}, {\"year\": 1836.0, \"count_of_earthquakes\": 6.0}, {\"year\": 1837.0, \"count_of_earthquakes\": 11.0}, {\"year\": 1838.0, \"count_of_earthquakes\": 5.0}, {\"year\": 1839.0, \"count_of_earthquakes\": 10.0}, {\"year\": 1840.0, \"count_of_earthquakes\": 8.0}, {\"year\": 1841.0, \"count_of_earthquakes\": 5.0}, {\"year\": 1842.0, \"count_of_earthquakes\": 8.0}, {\"year\": 1843.0, \"count_of_earthquakes\": 10.0}, {\"year\": 1844.0, \"count_of_earthquakes\": 9.0}, {\"year\": 1845.0, \"count_of_earthquakes\": 11.0}, {\"year\": 1846.0, \"count_of_earthquakes\": 8.0}, {\"year\": 1847.0, \"count_of_earthquakes\": 11.0}, {\"year\": 1848.0, \"count_of_earthquakes\": 8.0}, {\"year\": 1849.0, \"count_of_earthquakes\": 6.0}, {\"year\": 1850.0, \"count_of_earthquakes\": 3.0}, {\"year\": 1851.0, \"count_of_earthquakes\": 14.0}, {\"year\": 1852.0, \"count_of_earthquakes\": 19.0}, {\"year\": 1853.0, \"count_of_earthquakes\": 11.0}, {\"year\": 1854.0, \"count_of_earthquakes\": 21.0}, {\"year\": 1855.0, \"count_of_earthquakes\": 23.0}, {\"year\": 1856.0, \"count_of_earthquakes\": 13.0}, {\"year\": 1857.0, \"count_of_earthquakes\": 14.0}, {\"year\": 1858.0, \"count_of_earthquakes\": 16.0}, {\"year\": 1859.0, \"count_of_earthquakes\": 17.0}, {\"year\": 1860.0, \"count_of_earthquakes\": 5.0}, {\"year\": 1861.0, \"count_of_earthquakes\": 14.0}, {\"year\": 1862.0, \"count_of_earthquakes\": 11.0}, {\"year\": 1863.0, \"count_of_earthquakes\": 15.0}, {\"year\": 1864.0, \"count_of_earthquakes\": 7.0}, {\"year\": 1865.0, \"count_of_earthquakes\": 13.0}, {\"year\": 1866.0, \"count_of_earthquakes\": 10.0}, {\"year\": 1867.0, \"count_of_earthquakes\": 12.0}, {\"year\": 1868.0, \"count_of_earthquakes\": 25.0}, {\"year\": 1869.0, \"count_of_earthquakes\": 21.0}, {\"year\": 1870.0, \"count_of_earthquakes\": 16.0}, {\"year\": 1871.0, \"count_of_earthquakes\": 17.0}, {\"year\": 1872.0, \"count_of_earthquakes\": 18.0}, {\"year\": 1873.0, \"count_of_earthquakes\": 12.0}, {\"year\": 1874.0, \"count_of_earthquakes\": 10.0}, {\"year\": 1875.0, \"count_of_earthquakes\": 17.0}, {\"year\": 1876.0, \"count_of_earthquakes\": 4.0}, {\"year\": 1877.0, \"count_of_earthquakes\": 8.0}, {\"year\": 1878.0, \"count_of_earthquakes\": 22.0}, {\"year\": 1879.0, \"count_of_earthquakes\": 10.0}, {\"year\": 1880.0, \"count_of_earthquakes\": 18.0}, {\"year\": 1881.0, \"count_of_earthquakes\": 21.0}, {\"year\": 1882.0, \"count_of_earthquakes\": 10.0}, {\"year\": 1883.0, \"count_of_earthquakes\": 6.0}, {\"year\": 1884.0, \"count_of_earthquakes\": 10.0}, {\"year\": 1885.0, \"count_of_earthquakes\": 21.0}, {\"year\": 1886.0, \"count_of_earthquakes\": 4.0}, {\"year\": 1887.0, \"count_of_earthquakes\": 14.0}, {\"year\": 1888.0, \"count_of_earthquakes\": 12.0}, {\"year\": 1889.0, \"count_of_earthquakes\": 10.0}, {\"year\": 1890.0, \"count_of_earthquakes\": 5.0}, {\"year\": 1891.0, \"count_of_earthquakes\": 9.0}, {\"year\": 1892.0, \"count_of_earthquakes\": 13.0}, {\"year\": 1893.0, \"count_of_earthquakes\": 17.0}, {\"year\": 1894.0, \"count_of_earthquakes\": 15.0}, {\"year\": 1895.0, \"count_of_earthquakes\": 20.0}, {\"year\": 1896.0, \"count_of_earthquakes\": 18.0}, {\"year\": 1897.0, \"count_of_earthquakes\": 25.0}, {\"year\": 1898.0, \"count_of_earthquakes\": 14.0}, {\"year\": 1899.0, \"count_of_earthquakes\": 18.0}, {\"year\": 1900.0, \"count_of_earthquakes\": 17.0}, {\"year\": 1901.0, \"count_of_earthquakes\": 18.0}, {\"year\": 1902.0, \"count_of_earthquakes\": 23.0}, {\"year\": 1903.0, \"count_of_earthquakes\": 22.0}, {\"year\": 1904.0, \"count_of_earthquakes\": 18.0}, {\"year\": 1905.0, \"count_of_earthquakes\": 32.0}, {\"year\": 1906.0, \"count_of_earthquakes\": 32.0}, {\"year\": 1907.0, \"count_of_earthquakes\": 23.0}, {\"year\": 1908.0, \"count_of_earthquakes\": 13.0}, {\"year\": 1909.0, \"count_of_earthquakes\": 34.0}, {\"year\": 1910.0, \"count_of_earthquakes\": 22.0}, {\"year\": 1911.0, \"count_of_earthquakes\": 20.0}, {\"year\": 1912.0, \"count_of_earthquakes\": 16.0}, {\"year\": 1913.0, \"count_of_earthquakes\": 20.0}, {\"year\": 1914.0, \"count_of_earthquakes\": 21.0}, {\"year\": 1915.0, \"count_of_earthquakes\": 17.0}, {\"year\": 1916.0, \"count_of_earthquakes\": 24.0}, {\"year\": 1917.0, \"count_of_earthquakes\": 25.0}, {\"year\": 1918.0, \"count_of_earthquakes\": 19.0}, {\"year\": 1919.0, \"count_of_earthquakes\": 17.0}, {\"year\": 1920.0, \"count_of_earthquakes\": 12.0}, {\"year\": 1921.0, \"count_of_earthquakes\": 16.0}, {\"year\": 1922.0, \"count_of_earthquakes\": 23.0}, {\"year\": 1923.0, \"count_of_earthquakes\": 28.0}, {\"year\": 1924.0, \"count_of_earthquakes\": 18.0}, {\"year\": 1925.0, \"count_of_earthquakes\": 24.0}, {\"year\": 1926.0, \"count_of_earthquakes\": 23.0}, {\"year\": 1927.0, \"count_of_earthquakes\": 28.0}, {\"year\": 1928.0, \"count_of_earthquakes\": 33.0}, {\"year\": 1929.0, \"count_of_earthquakes\": 21.0}, {\"year\": 1930.0, \"count_of_earthquakes\": 34.0}, {\"year\": 1931.0, \"count_of_earthquakes\": 30.0}, {\"year\": 1932.0, \"count_of_earthquakes\": 25.0}, {\"year\": 1933.0, \"count_of_earthquakes\": 18.0}, {\"year\": 1934.0, \"count_of_earthquakes\": 19.0}, {\"year\": 1935.0, \"count_of_earthquakes\": 27.0}, {\"year\": 1936.0, \"count_of_earthquakes\": 20.0}, {\"year\": 1937.0, \"count_of_earthquakes\": 19.0}, {\"year\": 1938.0, \"count_of_earthquakes\": 27.0}, {\"year\": 1939.0, \"count_of_earthquakes\": 20.0}, {\"year\": 1940.0, \"count_of_earthquakes\": 16.0}, {\"year\": 1941.0, \"count_of_earthquakes\": 19.0}, {\"year\": 1942.0, \"count_of_earthquakes\": 18.0}, {\"year\": 1943.0, \"count_of_earthquakes\": 25.0}, {\"year\": 1944.0, \"count_of_earthquakes\": 14.0}, {\"year\": 1945.0, \"count_of_earthquakes\": 12.0}, {\"year\": 1946.0, \"count_of_earthquakes\": 20.0}, {\"year\": 1947.0, \"count_of_earthquakes\": 17.0}, {\"year\": 1948.0, \"count_of_earthquakes\": 20.0}, {\"year\": 1949.0, \"count_of_earthquakes\": 23.0}, {\"year\": 1950.0, \"count_of_earthquakes\": 27.0}, {\"year\": 1951.0, \"count_of_earthquakes\": 17.0}, {\"year\": 1952.0, \"count_of_earthquakes\": 19.0}, {\"year\": 1953.0, \"count_of_earthquakes\": 21.0}, {\"year\": 1954.0, \"count_of_earthquakes\": 23.0}, {\"year\": 1955.0, \"count_of_earthquakes\": 24.0}, {\"year\": 1956.0, \"count_of_earthquakes\": 26.0}, {\"year\": 1957.0, \"count_of_earthquakes\": 27.0}, {\"year\": 1958.0, \"count_of_earthquakes\": 22.0}, {\"year\": 1959.0, \"count_of_earthquakes\": 27.0}, {\"year\": 1960.0, \"count_of_earthquakes\": 22.0}, {\"year\": 1961.0, \"count_of_earthquakes\": 35.0}, {\"year\": 1962.0, \"count_of_earthquakes\": 34.0}, {\"year\": 1963.0, \"count_of_earthquakes\": 28.0}, {\"year\": 1964.0, \"count_of_earthquakes\": 20.0}, {\"year\": 1965.0, \"count_of_earthquakes\": 26.0}, {\"year\": 1966.0, \"count_of_earthquakes\": 33.0}, {\"year\": 1967.0, \"count_of_earthquakes\": 27.0}, {\"year\": 1968.0, \"count_of_earthquakes\": 40.0}, {\"year\": 1969.0, \"count_of_earthquakes\": 31.0}, {\"year\": 1970.0, \"count_of_earthquakes\": 31.0}, {\"year\": 1971.0, \"count_of_earthquakes\": 33.0}, {\"year\": 1972.0, \"count_of_earthquakes\": 26.0}, {\"year\": 1973.0, \"count_of_earthquakes\": 26.0}, {\"year\": 1974.0, \"count_of_earthquakes\": 21.0}, {\"year\": 1975.0, \"count_of_earthquakes\": 30.0}, {\"year\": 1976.0, \"count_of_earthquakes\": 35.0}, {\"year\": 1977.0, \"count_of_earthquakes\": 25.0}, {\"year\": 1978.0, \"count_of_earthquakes\": 34.0}, {\"year\": 1979.0, \"count_of_earthquakes\": 34.0}, {\"year\": 1980.0, \"count_of_earthquakes\": 33.0}, {\"year\": 1981.0, \"count_of_earthquakes\": 22.0}, {\"year\": 1982.0, \"count_of_earthquakes\": 25.0}, {\"year\": 1983.0, \"count_of_earthquakes\": 46.0}, {\"year\": 1984.0, \"count_of_earthquakes\": 28.0}, {\"year\": 1985.0, \"count_of_earthquakes\": 30.0}, {\"year\": 1986.0, \"count_of_earthquakes\": 33.0}, {\"year\": 1987.0, \"count_of_earthquakes\": 33.0}, {\"year\": 1988.0, \"count_of_earthquakes\": 30.0}, {\"year\": 1989.0, \"count_of_earthquakes\": 35.0}, {\"year\": 1990.0, \"count_of_earthquakes\": 51.0}, {\"year\": 1991.0, \"count_of_earthquakes\": 42.0}, {\"year\": 1992.0, \"count_of_earthquakes\": 27.0}, {\"year\": 1993.0, \"count_of_earthquakes\": 26.0}, {\"year\": 1994.0, \"count_of_earthquakes\": 33.0}, {\"year\": 1995.0, \"count_of_earthquakes\": 31.0}, {\"year\": 1996.0, \"count_of_earthquakes\": 19.0}, {\"year\": 1997.0, \"count_of_earthquakes\": 34.0}, {\"year\": 1998.0, \"count_of_earthquakes\": 31.0}, {\"year\": 1999.0, \"count_of_earthquakes\": 35.0}, {\"year\": 2000.0, \"count_of_earthquakes\": 37.0}, {\"year\": 2001.0, \"count_of_earthquakes\": 26.0}, {\"year\": 2002.0, \"count_of_earthquakes\": 60.0}, {\"year\": 2003.0, \"count_of_earthquakes\": 72.0}, {\"year\": 2004.0, \"count_of_earthquakes\": 78.0}, {\"year\": 2005.0, \"count_of_earthquakes\": 60.0}, {\"year\": 2006.0, \"count_of_earthquakes\": 63.0}, {\"year\": 2007.0, \"count_of_earthquakes\": 67.0}, {\"year\": 2008.0, \"count_of_earthquakes\": 77.0}, {\"year\": 2009.0, \"count_of_earthquakes\": 61.0}, {\"year\": 2010.0, \"count_of_earthquakes\": 62.0}, {\"year\": 2011.0, \"count_of_earthquakes\": 60.0}, {\"year\": 2012.0, \"count_of_earthquakes\": 50.0}, {\"year\": 2013.0, \"count_of_earthquakes\": 54.0}, {\"year\": 2014.0, \"count_of_earthquakes\": 55.0}, {\"year\": 2015.0, \"count_of_earthquakes\": 48.0}, {\"year\": 2016.0, \"count_of_earthquakes\": 52.0}, {\"year\": 2017.0, \"count_of_earthquakes\": 64.0}, {\"year\": 2018.0, \"count_of_earthquakes\": 66.0}, {\"year\": 2019.0, \"count_of_earthquakes\": 62.0}, {\"year\": 2020.0, \"count_of_earthquakes\": 29.0}, {\"year\": 2021.0, \"count_of_earthquakes\": 30.0}]}}, {\"mode\": \"vega-lite\"});\n",
       "</script>"
      ],
      "text/plain": [
       "alt.Chart(...)"
      ]
     },
     "metadata": {},
     "output_type": "display_data"
    },
    {
     "name": "stdout",
     "output_type": "stream",
     "text": [
      "\n",
      "\n"
     ]
    }
   ],
   "source": [
    "show_message(questions[3]['stateless_inline_answer'][-2])"
   ]
  },
  {
   "cell_type": "markdown",
   "id": "859d79d3",
   "metadata": {},
   "source": [
    "---\n",
    "## Cleanup"
   ]
  },
  {
   "cell_type": "code",
   "execution_count": 85,
   "id": "5108a60a",
   "metadata": {},
   "outputs": [],
   "source": [
    "delete_agent = True\n",
    "delete_convos = False # not yet possible it appears"
   ]
  },
  {
   "cell_type": "code",
   "execution_count": 87,
   "id": "2efc8027",
   "metadata": {},
   "outputs": [
    {
     "name": "stdout",
     "output_type": "stream",
     "text": [
      "The agent is present: projects/statmike-mlops-349915/locations/global/dataAgents/c6478c4c-981a-4b20-9934-6cca84263917\n",
      "The agent has been deleted.\n"
     ]
    }
   ],
   "source": [
    "response = agent_client.get_data_agent(name = agent_response.name)\n",
    "print(f\"The agent is present: {response.name}\")\n",
    "if delete_agent:\n",
    "    agent_client.delete_data_agent(name = agent_response.name)\n",
    "    print(\"The agent has been deleted.\")\n",
    "else:\n",
    "    print(\"NOT deleting the agent.\")"
   ]
  },
  {
   "cell_type": "code",
   "execution_count": null,
   "id": "4fac11dc",
   "metadata": {},
   "outputs": [],
   "source": [
    "# delete all data agents in the project:\n",
    "# for agent in agent_client.list_data_agents(parent = f\"projects/{PROJECT_ID}/locations/global\"):\n",
    "#     print(agent.name)\n",
    "#     agent_client.delete_data_agent(name = agent.name)"
   ]
  }
 ],
 "metadata": {
  "kernelspec": {
   "display_name": "conversational-analytics-api-py3.13",
   "language": "python",
   "name": "python3"
  },
  "language_info": {
   "codemirror_mode": {
    "name": "ipython",
    "version": 3
   },
   "file_extension": ".py",
   "mimetype": "text/x-python",
   "name": "python",
   "nbconvert_exporter": "python",
   "pygments_lexer": "ipython3",
   "version": "3.13.3"
  }
 },
 "nbformat": 4,
 "nbformat_minor": 5
}
