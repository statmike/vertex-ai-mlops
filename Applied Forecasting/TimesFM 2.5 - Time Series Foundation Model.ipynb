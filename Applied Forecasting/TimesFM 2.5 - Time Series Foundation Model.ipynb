{
 "cells": [
  {
   "cell_type": "markdown",
   "id": "9ed675cf",
   "metadata": {},
   "source": [
    "# TimesFM 2.5\n",
    "\n",
    "TimesFM (Time Series Foundation Model) is a pretrained time-series foundation model developed by Google Research for time-series forecasting.\n",
    "\n",
    "What does that mean? The training is completed, this is a model that has learned time series patterns and can do inference on input series to create forecasted horizons. \n",
    "\n",
    "**Details:**\n",
    "- [HuggingFace Model Card](https://huggingface.co/google/timesfm-2.5-200m-pytorch)\n",
    "- [GitHub repo for TimesFM](https://github.com/google-research/timesfm)\n",
    "\n",
    "**Workflow:**\n",
    "- here"
   ]
  },
  {
   "cell_type": "markdown",
   "id": "e0d44063",
   "metadata": {},
   "source": []
  }
 ],
 "metadata": {
  "language_info": {
   "name": "python"
  }
 },
 "nbformat": 4,
 "nbformat_minor": 5
}
