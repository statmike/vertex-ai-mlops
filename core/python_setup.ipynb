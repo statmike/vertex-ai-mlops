{
 "cells": [
  {
   "cell_type": "markdown",
   "id": "c7267b6c",
   "metadata": {},
   "source": [
    "# Python GCP Setup For Notebook Kernels\n"
   ]
  },
  {
   "cell_type": "code",
   "execution_count": null,
   "id": "3637e3fc",
   "metadata": {},
   "outputs": [],
   "source": [
    "PROJECT_ID = 'statmike-mlops-349915' # replace with GCP project ID\n",
    "REQ_TYPE = 'ALL' # Specify PRIMARY or ALL or COLAB"
   ]
  },
  {
   "cell_type": "code",
   "execution_count": null,
   "id": "f5a96f78",
   "metadata": {},
   "outputs": [],
   "source": [
    "REQUIREMENTS_URLS = dict(\n",
    "    PRIMARY = 'https://raw.githubusercontent.com/statmike/vertex-ai-mlops/refs/heads/main/Applied%20Forecasting/requirements-brief.txt',\n",
    "    ALL = 'https://raw.githubusercontent.com/statmike/vertex-ai-mlops/refs/heads/main/Applied%20Forecasting/requirements.txt',\n",
    "    COLAB = 'https://raw.githubusercontent.com/statmike/vertex-ai-mlops/refs/heads/main/Applied%20Forecasting/requirements-colab.txt'\n",
    ")\n",
    "\n",
    "REQUIRED_APIS = [\n",
    "    \"bigquery.googleapis.com\",\n",
    "    \"aiplatform.googleapis.com\",\n",
    "]"
   ]
  },
  {
   "cell_type": "code",
   "execution_count": null,
   "id": "4b7b61c4",
   "metadata": {},
   "outputs": [],
   "source": [
    "import urllib.request\n",
    "\n",
    "python_setup_url = ''\n",
    "filename = 'python_setup.py'\n",
    "urllib.request.urlretrieve(python_setup_url, filename)\n",
    "import python_setup"
   ]
  }
 ],
 "metadata": {
  "kernelspec": {
   "display_name": "3.13.3",
   "language": "python",
   "name": "python3"
  },
  "language_info": {
   "name": "python",
   "version": "3.13.3"
  }
 },
 "nbformat": 4,
 "nbformat_minor": 5
}
