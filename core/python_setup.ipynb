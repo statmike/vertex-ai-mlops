{
 "cells": [
  {
   "cell_type": "markdown",
   "id": "c7267b6c",
   "metadata": {},
   "source": [
    "# Python GCP Setup For Notebook Kernels\n"
   ]
  },
  {
   "cell_type": "code",
   "execution_count": 1,
   "id": "3637e3fc",
   "metadata": {},
   "outputs": [],
   "source": [
    "PROJECT_ID = 'statmike-mlops-349915' # replace with GCP project ID\n",
    "REQ_TYPE = 'ALL' # Specify PRIMARY or ALL or COLAB"
   ]
  },
  {
   "cell_type": "code",
   "execution_count": 2,
   "id": "f5a96f78",
   "metadata": {},
   "outputs": [],
   "source": [
    "REQUIREMENTS_URLS = dict(\n",
    "    PRIMARY = 'https://raw.githubusercontent.com/statmike/vertex-ai-mlops/refs/heads/main/core/requirements-brief.txt',\n",
    "    ALL = 'https://raw.githubusercontent.com/statmike/vertex-ai-mlops/refs/heads/main/core/requirements.txt',\n",
    "    COLAB = 'https://raw.githubusercontent.com/statmike/vertex-ai-mlops/refs/heads/main/core/requirements-colab.txt'\n",
    ")\n",
    "\n",
    "REQUIRED_APIS = [\n",
    "    \"bigquery.googleapis.com\",\n",
    "    \"storage.googleapis.com\",\n",
    "]"
   ]
  },
  {
   "cell_type": "code",
   "execution_count": 3,
   "id": "4b7b61c4",
   "metadata": {},
   "outputs": [],
   "source": [
    "import urllib.request\n",
    "\n",
    "python_setup_url = 'https://raw.githubusercontent.com/statmike/vertex-ai-mlops/refs/heads/main/core/python_setup.py'\n",
    "filename = 'python_setup_local.py'\n",
    "urllib.request.urlretrieve(python_setup_url, filename)\n",
    "import python_setup"
   ]
  },
  {
   "cell_type": "code",
   "execution_count": 4,
   "id": "506594e7",
   "metadata": {},
   "outputs": [
    {
     "name": "stdout",
     "output_type": "stream",
     "text": [
      "Checking and installing dependencies from: https://raw.githubusercontent.com/statmike/vertex-ai-mlops/refs/heads/main/core/requirements.txt\n",
      "✅ All packages are already installed and up to date.\n"
     ]
    }
   ],
   "source": [
    "python_setup.manage_packages(REQUIREMENTS_URLS, REQ_TYPE)"
   ]
  },
  {
   "cell_type": "code",
   "execution_count": null,
   "id": "cf141fe9",
   "metadata": {},
   "outputs": [
    {
     "name": "stdout",
     "output_type": "stream",
     "text": [
      "Checking for existing ADC...\n"
     ]
    },
    {
     "name": "stdout",
     "output_type": "stream",
     "text": [
      "✅ Existing ADC found.\n",
      "✅ Project is correctly set to 'statmike-mlops-349915'.\n"
     ]
    }
   ],
   "source": [
    "authenticated, REQ_TYPE = python_setup.authenticate(PROJECT_ID, REQ_TYPE)"
   ]
  },
  {
   "cell_type": "code",
   "execution_count": 6,
   "id": "b99a6576",
   "metadata": {},
   "outputs": [
    {
     "data": {
      "text/plain": [
       "(True, 'LOCAL')"
      ]
     },
     "execution_count": 6,
     "metadata": {},
     "output_type": "execute_result"
    }
   ],
   "source": [
    "authenticated, REQ_TYPE"
   ]
  },
  {
   "cell_type": "code",
   "execution_count": null,
   "id": "d086ef52",
   "metadata": {},
   "outputs": [],
   "source": []
  }
 ],
 "metadata": {
  "kernelspec": {
   "display_name": "python-setup-py3.13",
   "language": "python",
   "name": "python3"
  },
  "language_info": {
   "codemirror_mode": {
    "name": "ipython",
    "version": 3
   },
   "file_extension": ".py",
   "mimetype": "text/x-python",
   "name": "python",
   "nbconvert_exporter": "python",
   "pygments_lexer": "ipython3",
   "version": "3.13.3"
  }
 },
 "nbformat": 4,
 "nbformat_minor": 5
}
