{
 "cells": [
  {
   "cell_type": "markdown",
   "id": "c7267b6c",
   "metadata": {},
   "source": [
    "# Python GCP Setup For Notebook Kernels - Template\n",
    "\n",
    "## 📋 About This Template\n",
    "\n",
    "This notebook serves as a **template** for creating new workflow notebooks in this repository. It demonstrates the standardized environment setup pattern that all notebooks should use.\n",
    "\n",
    "### What This Template Accomplishes\n",
    "\n",
    "Each notebook needs initial setup that includes:\n",
    "- **Authentication**: Ensuring the local session has access to GCP via Application Default Credentials (ADC)\n",
    "- **API Enablement**: Activating the required Google Cloud APIs for the services you'll use\n",
    "- **Package Management**: Installing the correct set of Python packages with environment-specific handling\n",
    "\n",
    "### Key Benefits of Centralized Setup\n",
    "\n",
    "This template uses **centralized setup code** ([`python_setup.py`](./python_setup.py)) hosted in this repository, which provides:\n",
    "- ✅ **Single point of maintenance**: Updates to setup logic happen in one file, automatically benefiting all notebooks\n",
    "- ✅ **Automatic environment detection**: Intelligently handles Colab vs local environments\n",
    "- ✅ **Flexible package installation**: Choose between quick setup (PRIMARY), exact reproduction (ALL), or Colab-optimized (COLAB)\n",
    "- ✅ **Automatic kernel restart handling**: Manages Colab kernel restarts when packages are installed\n",
    "\n",
    "### How to Use This Template\n",
    "\n",
    "To create a new workflow notebook:\n",
    "1. **Copy this notebook** as your starting point\n",
    "2. **Update this header cell** to describe your specific workflow/use case\n",
    "3. **Modify the \"Hardcoded Inputs\" section** (API list, requirements URLs)\n",
    "4. **Set your PROJECT_ID** in the user configurable section\n",
    "5. **Start building your workflow** after the setup cells\n",
    "\n",
    "The setup code will automatically:\n",
    "- Detect whether you're in Colab or a local environment\n",
    "- Authenticate and configure your GCP project\n",
    "- Enable required APIs\n",
    "- Install necessary packages\n",
    "- Handle kernel restarts if needed (in Colab)"
   ]
  },
  {
   "cell_type": "markdown",
   "id": "e96f2961",
   "metadata": {},
   "source": [
    "---\n",
    "## Environment Setup\n",
    "\n",
    "This section will authenticate your session, enable required Google Cloud APIs, and install necessary Python packages.\n",
    "\n",
    "**Package Installation Options (`REQ_TYPE`):**\n",
    "- `PRIMARY`: Installs only the main packages. Faster, but pip resolves sub-dependencies which may result in different versions than development.\n",
    "- `ALL` (Default): Installs exact versions of all packages and dependencies. Best for perfectly reproducing the development environment.\n",
    "- `COLAB`: Installs a Colab-optimized list that excludes pre-installed packages like `ipython` and `ipykernel`.\n",
    "\n",
    "> **Note:** If running in Google Colab, the script will automatically detect this and set `REQ_TYPE = 'COLAB'` to prevent package conflicts, overriding any manual setting."
   ]
  },
  {
   "cell_type": "markdown",
   "id": "b7ec0639",
   "metadata": {},
   "source": [
    "### Set Your Project ID\n",
    "\n",
    "⚠️ **Action Required:** Replace the `PROJECT_ID` value below with your Google Cloud project ID before running this cell."
   ]
  },
  {
   "cell_type": "code",
   "execution_count": 1,
   "id": "3637e3fc",
   "metadata": {},
   "outputs": [],
   "source": [
    "PROJECT_ID = 'statmike-mlops-349915' # replace with GCP project ID\n",
    "REQ_TYPE = 'ALL' # Specify PRIMARY or ALL or COLAB"
   ]
  },
  {
   "cell_type": "markdown",
   "id": "d7f325f2",
   "metadata": {},
   "source": [
    "### Configuration\n",
    "\n",
    "This cell defines the requirements files and Google Cloud APIs needed for this notebook. Run as-is without modification."
   ]
  },
  {
   "cell_type": "code",
   "execution_count": 2,
   "id": "f5a96f78",
   "metadata": {},
   "outputs": [],
   "source": [
    "REQUIREMENTS_URLS = dict(\n",
    "    PRIMARY = 'https://raw.githubusercontent.com/statmike/vertex-ai-mlops/refs/heads/main/core/requirements-brief.txt',\n",
    "    ALL = 'https://raw.githubusercontent.com/statmike/vertex-ai-mlops/refs/heads/main/core/requirements.txt',\n",
    "    COLAB = 'https://raw.githubusercontent.com/statmike/vertex-ai-mlops/refs/heads/main/core/requirements-colab.txt'\n",
    ")\n",
    "\n",
    "REQUIRED_APIS = [\n",
    "    \"bigquery.googleapis.com\",\n",
    "    \"storage.googleapis.com\",\n",
    "]"
   ]
  },
  {
   "cell_type": "markdown",
   "id": "ae571ce5",
   "metadata": {},
   "source": [
    "### Run Setup\n",
    "\n",
    "This cell downloads the centralized setup code and configures your environment. It will:\n",
    "- Authenticate your session with Google Cloud\n",
    "- Enable required APIs for this notebook\n",
    "- Install necessary Python packages\n",
    "- Display a setup summary with your project information\n",
    "\n",
    "> **Note:** In Colab, if packages are installed, the kernel will automatically restart. After restart, continue from the next cell without re-running earlier cells."
   ]
  },
  {
   "cell_type": "code",
   "execution_count": 7,
   "id": "4b7b61c4",
   "metadata": {},
   "outputs": [
    {
     "name": "stdout",
     "output_type": "stream",
     "text": [
      "\n",
      "==================================================\n",
      "PYTHON GCP ENVIRONMENT SETUP\n",
      "==================================================\n",
      "\n",
      "==================================================\n",
      "AUTHENTICATION\n",
      "==================================================\n",
      "Checking for existing ADC...\n",
      "✅ Existing ADC found.\n",
      "✅ Project is correctly set to 'statmike-mlops-349915'.\n",
      "\n",
      "==================================================\n",
      "API CHECK & ENABLE\n",
      "==================================================\n",
      "✅ bigquery.googleapis.com is already enabled.\n",
      "✅ storage.googleapis.com is already enabled.\n",
      "\n",
      "==================================================\n",
      "PACKAGE MANAGEMENT\n",
      "==================================================\n",
      "Checking and installing dependencies from: https://raw.githubusercontent.com/statmike/vertex-ai-mlops/refs/heads/main/core/requirements.txt\n",
      "✅ All packages are already installed and up to date.\n",
      "\n",
      "==================================================\n",
      "Google Cloud Project Information\n",
      "==================================================\n",
      "PROJECT_ID     = statmike-mlops-349915\n",
      "PROJECT_NUMBER = 1026793852137\n",
      "==================================================\n",
      "\n",
      "\n",
      "==================================================\n",
      "SETUP SUMMARY\n",
      "==================================================\n",
      "✅ Authentication:    Success\n",
      "✅ API Configuration: Success\n",
      "✅ Package Install:   Already up to date\n",
      "✅ Project ID:        statmike-mlops-349915\n",
      "✅ Project Number:    1026793852137\n",
      "==================================================\n",
      "\n"
     ]
    }
   ],
   "source": [
    "import os, urllib.request\n",
    "\n",
    "# Download and import setup code\n",
    "url = 'https://raw.githubusercontent.com/statmike/vertex-ai-mlops/refs/heads/main/core/python_setup.py'\n",
    "urllib.request.urlretrieve(url, 'python_setup_local.py')\n",
    "import python_setup; os.remove('python_setup_local.py')\n",
    "\n",
    "# Run setup\n",
    "setup_info = python_setup.setup_environment(PROJECT_ID, REQ_TYPE, REQUIREMENTS_URLS, REQUIRED_APIS)"
   ]
  },
  {
   "cell_type": "markdown",
   "id": "7bc873f8",
   "metadata": {},
   "source": [
    "---\n",
    "## Python Setup"
   ]
  },
  {
   "cell_type": "markdown",
   "id": "e8addd94",
   "metadata": {},
   "source": [
    "### Imports"
   ]
  },
  {
   "cell_type": "code",
   "execution_count": 5,
   "id": "a10037c0",
   "metadata": {},
   "outputs": [],
   "source": [
    "import subprocess"
   ]
  },
  {
   "cell_type": "markdown",
   "id": "c1d5d03e",
   "metadata": {},
   "source": [
    "### Variables - User Set"
   ]
  },
  {
   "cell_type": "code",
   "execution_count": null,
   "id": "8f5d0897",
   "metadata": {},
   "outputs": [],
   "source": []
  },
  {
   "cell_type": "markdown",
   "id": "9ef80c59",
   "metadata": {},
   "source": [
    "### Variables - Auto Set"
   ]
  },
  {
   "cell_type": "code",
   "execution_count": 6,
   "id": "aea465c6",
   "metadata": {},
   "outputs": [
    {
     "name": "stdout",
     "output_type": "stream",
     "text": [
      "\n",
      "==================================================\n",
      "Google Cloud Project Information\n",
      "==================================================\n",
      "PROJECT_ID     = statmike-mlops-349915\n",
      "PROJECT_NUMBER = 1026793852137\n",
      "==================================================\n",
      "\n"
     ]
    }
   ],
   "source": [
    "PROJECT_ID = subprocess.run(['gcloud', 'config', 'get-value', 'project'], capture_output=True, text=True, check=True).stdout.strip()\n",
    "PROJECT_NUMBER = subprocess.run(['gcloud', 'projects', 'describe', PROJECT_ID, '--format=value(projectNumber)'], capture_output=True, text=True, check=True).stdout.strip()\n",
    "\n",
    "print(f\"\\n{'='*50}\\nGoogle Cloud Project Information\\n{'='*50}\\nPROJECT_ID     = {PROJECT_ID}\\nPROJECT_NUMBER = {PROJECT_NUMBER}\\n{'='*50}\\n\")"
   ]
  },
  {
   "cell_type": "markdown",
   "id": "ea09a322",
   "metadata": {},
   "source": [
    "### Configurations"
   ]
  },
  {
   "cell_type": "code",
   "execution_count": null,
   "id": "b2977d9c",
   "metadata": {},
   "outputs": [],
   "source": []
  },
  {
   "cell_type": "markdown",
   "id": "e7efd45a",
   "metadata": {},
   "source": [
    "### Client Setup"
   ]
  },
  {
   "cell_type": "code",
   "execution_count": null,
   "id": "9d0fe13c",
   "metadata": {},
   "outputs": [],
   "source": []
  },
  {
   "cell_type": "markdown",
   "id": "8565000f",
   "metadata": {},
   "source": [
    "---\n",
    "## Continue ..."
   ]
  }
 ],
 "metadata": {
  "kernelspec": {
   "display_name": "python-setup-py3.13",
   "language": "python",
   "name": "python3"
  },
  "language_info": {
   "codemirror_mode": {
    "name": "ipython",
    "version": 3
   },
   "file_extension": ".py",
   "mimetype": "text/x-python",
   "name": "python",
   "nbconvert_exporter": "python",
   "pygments_lexer": "ipython3",
   "version": "3.13.3"
  }
 },
 "nbformat": 4,
 "nbformat_minor": 5
}
