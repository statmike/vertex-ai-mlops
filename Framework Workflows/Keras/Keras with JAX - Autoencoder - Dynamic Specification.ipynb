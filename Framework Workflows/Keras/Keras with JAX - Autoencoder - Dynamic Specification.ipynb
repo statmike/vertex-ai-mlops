{
 "cells": [
  {
   "cell_type": "markdown",
   "id": "602fe88d",
   "metadata": {},
   "source": [
    "![tracker](https://us-central1-vertex-ai-mlops-369716.cloudfunctions.net/pixel-tracking?path=statmike%2Fvertex-ai-mlops%2FFramework+Workflows%2FKeras&file=Keras+with+JAX+-+Autoencoder+-+Dynamic+Specification.ipynb)\n",
    "<!--- header table --->\n",
    "<table align=\"left\">\n",
    "  <td style=\"text-align: center\">\n",
    "    <a href=\"https://colab.research.google.com/github/statmike/vertex-ai-mlops/blob/main/Framework%20Workflows/Keras/Keras%20with%20JAX%20-%20Autoencoder%20-%20Dynamic%20Specification.ipynb\">\n",
    "      <img src=\"https://cloud.google.com/ml-engine/images/colab-logo-32px.png\" alt=\"Google Colaboratory logo\">\n",
    "      <br>Run in<br>Colab\n",
    "    </a>\n",
    "  </td>\n",
    "  <td style=\"text-align: center\">\n",
    "    <a href=\"https://console.cloud.google.com/vertex-ai/colab/import/https%3A%2F%2Fraw.githubusercontent.com%2Fstatmike%2Fvertex-ai-mlops%2Fmain%2FFramework%2520Workflows%2FKeras%2FKeras%2520with%2520JAX%2520-%2520Autoencoder%2520-%2520Dynamic%2520Specification.ipynb\">\n",
    "      <img width=\"32px\" src=\"https://lh3.googleusercontent.com/JmcxdQi-qOpctIvWKgPtrzZdJJK-J3sWE1RsfjZNwshCFgE_9fULcNpuXYTilIR2hjwN\" alt=\"Google Cloud Colab Enterprise logo\">\n",
    "      <br>Run in<br>Colab Enterprise\n",
    "    </a>\n",
    "  </td>      \n",
    "  <td style=\"text-align: center\">\n",
    "    <a href=\"https://github.com/statmike/vertex-ai-mlops/blob/main/Framework%20Workflows/Keras/Keras%20with%20JAX%20-%20Autoencoder%20-%20Dynamic%20Specification.ipynb\">\n",
    "      <img src=\"https://cloud.google.com/ml-engine/images/github-logo-32px.png\" alt=\"GitHub logo\">\n",
    "      <br>View on<br>GitHub\n",
    "    </a>\n",
    "  </td>\n",
    "  <td style=\"text-align: center\">\n",
    "    <a href=\"https://console.cloud.google.com/vertex-ai/workbench/deploy-notebook?download_url=https://raw.githubusercontent.com/statmike/vertex-ai-mlops/main/Framework%20Workflows/Keras/Keras%20with%20JAX%20-%20Autoencoder%20-%20Dynamic%20Specification.ipynb\">\n",
    "      <img src=\"https://lh3.googleusercontent.com/UiNooY4LUgW_oTvpsNhPpQzsstV5W8F7rYgxgGBD85cWJoLmrOzhVs_ksK_vgx40SHs7jCqkTkCk=e14-rj-sc0xffffff-h130-w32\" alt=\"Vertex AI logo\">\n",
    "      <br>Open in<br>Vertex AI Workbench\n",
    "    </a>\n",
    "  </td>\n",
    "</table>"
   ]
  },
  {
   "cell_type": "markdown",
   "id": "5ddb0967-8e4e-48ed-8ddb-5fb9bfbf9a03",
   "metadata": {},
   "source": [
    "# Keras With JAX - Autoencoder - Dynamic Specification\n",
    "\n",
    "\n",
    "Notes:\n",
    "\n",
    "- supervised (maybe another workflow)\n",
    "- semi-superfixed with pre-train and fine-tune (maybe another workflow)\n",
    "- vae (another workflow)\n",
    "- serving with continual/incrmental learning using mini batch update\n",
    "- pipeline to train - include experiments, artifacts\n",
    "    - set hyperparamters\n",
    "    - train in component\n",
    "    - train as training job\n",
    "    - hyperparameter tuning to find best paramters with vizier.  Prepfer pipeline and direct api usage if possible.\n",
    "- build autoencoder variations\n",
    "    - fine tune as semi-supervised\n",
    "    - fine tune as vae\n",
    "    - fine tune as semi-supervised vae\n",
    "- introduce timeseries autoencoder\n",
    "    - fine tune as transformer using rows/time/series as sequence"
   ]
  },
  {
   "cell_type": "markdown",
   "id": "3f8dc8ac-3abb-47ec-9176-6bc9c968c9c2",
   "metadata": {},
   "source": [
    "---\n",
    "## Dynamically Constructed Autoencoder\n",
    "\n",
    "You can also build the autoencoder architecture dynamically using the size of the input data to specify the architecture.  The parameters used in dynamically specifying the architecture also make great targets for hyperparameter tuning exercises!"
   ]
  },
  {
   "cell_type": "code",
   "execution_count": 101,
   "id": "f6277a1b-b83e-4501-9581-b7a684216b75",
   "metadata": {
    "tags": []
   },
   "outputs": [],
   "source": [
    "def build_dynamic_autoencoder(input_size, min_latent_factor=0.45, dropout_rate=0.4, l2_reg=0.001):\n",
    "    \"\"\"\n",
    "    Builds a dynamic autoencoder with layer sizes that are powers of 2.\n",
    "\n",
    "    Args:\n",
    "        input_size: The number of input features.\n",
    "        min_latent_factor: The minimum ratio of latent size to input size.\n",
    "        dropout_rate: The dropout rate for each layer.\n",
    "        l2_reg: The L2 regularization strength.\n",
    "\n",
    "    Returns:\n",
    "        A tuple: (autoencoder model, encoder model)\n",
    "    \"\"\"\n",
    "\n",
    "    # Calculate the initial layer size (next power of 2 greater than input_size)\n",
    "    initial_layer_size = 2**(math.ceil(math.log2(input_size)) + 1)\n",
    "    min_latent_size = max(1, int(input_size * min_latent_factor))  # Ensure at least size 1\n",
    "\n",
    "    # Determine the layers for the encoder\n",
    "    encoder_layers = []\n",
    "    current_size = initial_layer_size\n",
    "    while current_size >= min_latent_size:\n",
    "        encoder_layers.append(current_size)\n",
    "        current_size //= 2  # Integer division to get the next power of 2\n",
    "\n",
    "    # input\n",
    "    autoencoder_input = keras.Input(shape=(input_size,), name=\"autoencoder_input\")\n",
    "\n",
    "    # Encoder\n",
    "    x = autoencoder_input\n",
    "    for i, size in enumerate(encoder_layers):\n",
    "        x = keras.layers.Dense(size, activation='relu', name=f'enc_dense{i+1}', kernel_regularizer=keras.regularizers.l2(l2_reg))(x)\n",
    "        if dropout_rate > 0:  # Optionally add dropout\n",
    "            x = keras.layers.Dropout(dropout_rate, name=f'enc_dropout{i+1}')(x)\n",
    "\n",
    "    # Latent Space\n",
    "    latent_size = encoder_layers[-1]\n",
    "    latent = keras.layers.Dense(latent_size, activation='relu', name='latent', kernel_regularizer=keras.regularizers.l2(l2_reg))(x)\n",
    "\n",
    "    # Decoder\n",
    "    x = latent\n",
    "    for i, size in reversed(list(enumerate(encoder_layers[:-1]))):\n",
    "         x = keras.layers.Dense(size, activation='relu', name=f'dec_dense{i+1}', kernel_regularizer=keras.regularizers.l2(l2_reg))(x)\n",
    "         if dropout_rate > 0:\n",
    "            x = keras.layers.Dropout(dropout_rate, name=f'dec_dropout{i+1}')(x)\n",
    "\n",
    "    # Add the output layer back in.\n",
    "    reconstructed = keras.layers.Dense(input_size, activation='linear', name='reconstructed')(x)\n",
    "\n",
    "    # Create Models\n",
    "    autoencoder = keras.Model(inputs=autoencoder_input, outputs=reconstructed)\n",
    "    encoder_model = keras.Model(inputs=autoencoder_input, outputs=latent)\n",
    "\n",
    "    return autoencoder, encoder_model"
   ]
  },
  {
   "cell_type": "code",
   "execution_count": 102,
   "id": "7b89a002-8618-4713-aaa5-d117d57fafbb",
   "metadata": {
    "tags": []
   },
   "outputs": [],
   "source": [
    "autoencoder2, latent2 = build_dynamic_autoencoder(input_size = len(var_numeric))"
   ]
  },
  {
   "cell_type": "code",
   "execution_count": 103,
   "id": "a7de6029-9e79-4ed1-a458-708ae9961c2a",
   "metadata": {
    "tags": []
   },
   "outputs": [
    {
     "data": {
      "text/html": [
       "<pre style=\"white-space:pre;overflow-x:auto;line-height:normal;font-family:Menlo,'DejaVu Sans Mono',consolas,'Courier New',monospace\"><span style=\"font-weight: bold\">Model: \"functional_6\"</span>\n",
       "</pre>\n"
      ],
      "text/plain": [
       "\u001b[1mModel: \"functional_6\"\u001b[0m\n"
      ]
     },
     "metadata": {},
     "output_type": "display_data"
    },
    {
     "data": {
      "text/html": [
       "<pre style=\"white-space:pre;overflow-x:auto;line-height:normal;font-family:Menlo,'DejaVu Sans Mono',consolas,'Courier New',monospace\">┏━━━━━━━━━━━━━━━━━━━━━━━━━━━━━━━━━┳━━━━━━━━━━━━━━━━━━━━━━━━┳━━━━━━━━━━━━━━━┓\n",
       "┃<span style=\"font-weight: bold\"> Layer (type)                    </span>┃<span style=\"font-weight: bold\"> Output Shape           </span>┃<span style=\"font-weight: bold\">       Param # </span>┃\n",
       "┡━━━━━━━━━━━━━━━━━━━━━━━━━━━━━━━━━╇━━━━━━━━━━━━━━━━━━━━━━━━╇━━━━━━━━━━━━━━━┩\n",
       "│ autoencoder_input (<span style=\"color: #0087ff; text-decoration-color: #0087ff\">InputLayer</span>)  │ (<span style=\"color: #00d7ff; text-decoration-color: #00d7ff\">None</span>, <span style=\"color: #00af00; text-decoration-color: #00af00\">30</span>)             │             <span style=\"color: #00af00; text-decoration-color: #00af00\">0</span> │\n",
       "├─────────────────────────────────┼────────────────────────┼───────────────┤\n",
       "│ enc_dense1 (<span style=\"color: #0087ff; text-decoration-color: #0087ff\">Dense</span>)              │ (<span style=\"color: #00d7ff; text-decoration-color: #00d7ff\">None</span>, <span style=\"color: #00af00; text-decoration-color: #00af00\">64</span>)             │         <span style=\"color: #00af00; text-decoration-color: #00af00\">1,984</span> │\n",
       "├─────────────────────────────────┼────────────────────────┼───────────────┤\n",
       "│ enc_dropout1 (<span style=\"color: #0087ff; text-decoration-color: #0087ff\">Dropout</span>)          │ (<span style=\"color: #00d7ff; text-decoration-color: #00d7ff\">None</span>, <span style=\"color: #00af00; text-decoration-color: #00af00\">64</span>)             │             <span style=\"color: #00af00; text-decoration-color: #00af00\">0</span> │\n",
       "├─────────────────────────────────┼────────────────────────┼───────────────┤\n",
       "│ enc_dense2 (<span style=\"color: #0087ff; text-decoration-color: #0087ff\">Dense</span>)              │ (<span style=\"color: #00d7ff; text-decoration-color: #00d7ff\">None</span>, <span style=\"color: #00af00; text-decoration-color: #00af00\">32</span>)             │         <span style=\"color: #00af00; text-decoration-color: #00af00\">2,080</span> │\n",
       "├─────────────────────────────────┼────────────────────────┼───────────────┤\n",
       "│ enc_dropout2 (<span style=\"color: #0087ff; text-decoration-color: #0087ff\">Dropout</span>)          │ (<span style=\"color: #00d7ff; text-decoration-color: #00d7ff\">None</span>, <span style=\"color: #00af00; text-decoration-color: #00af00\">32</span>)             │             <span style=\"color: #00af00; text-decoration-color: #00af00\">0</span> │\n",
       "├─────────────────────────────────┼────────────────────────┼───────────────┤\n",
       "│ enc_dense3 (<span style=\"color: #0087ff; text-decoration-color: #0087ff\">Dense</span>)              │ (<span style=\"color: #00d7ff; text-decoration-color: #00d7ff\">None</span>, <span style=\"color: #00af00; text-decoration-color: #00af00\">16</span>)             │           <span style=\"color: #00af00; text-decoration-color: #00af00\">528</span> │\n",
       "├─────────────────────────────────┼────────────────────────┼───────────────┤\n",
       "│ enc_dropout3 (<span style=\"color: #0087ff; text-decoration-color: #0087ff\">Dropout</span>)          │ (<span style=\"color: #00d7ff; text-decoration-color: #00d7ff\">None</span>, <span style=\"color: #00af00; text-decoration-color: #00af00\">16</span>)             │             <span style=\"color: #00af00; text-decoration-color: #00af00\">0</span> │\n",
       "├─────────────────────────────────┼────────────────────────┼───────────────┤\n",
       "│ latent (<span style=\"color: #0087ff; text-decoration-color: #0087ff\">Dense</span>)                  │ (<span style=\"color: #00d7ff; text-decoration-color: #00d7ff\">None</span>, <span style=\"color: #00af00; text-decoration-color: #00af00\">16</span>)             │           <span style=\"color: #00af00; text-decoration-color: #00af00\">272</span> │\n",
       "├─────────────────────────────────┼────────────────────────┼───────────────┤\n",
       "│ dec_dense2 (<span style=\"color: #0087ff; text-decoration-color: #0087ff\">Dense</span>)              │ (<span style=\"color: #00d7ff; text-decoration-color: #00d7ff\">None</span>, <span style=\"color: #00af00; text-decoration-color: #00af00\">32</span>)             │           <span style=\"color: #00af00; text-decoration-color: #00af00\">544</span> │\n",
       "├─────────────────────────────────┼────────────────────────┼───────────────┤\n",
       "│ dec_dropout2 (<span style=\"color: #0087ff; text-decoration-color: #0087ff\">Dropout</span>)          │ (<span style=\"color: #00d7ff; text-decoration-color: #00d7ff\">None</span>, <span style=\"color: #00af00; text-decoration-color: #00af00\">32</span>)             │             <span style=\"color: #00af00; text-decoration-color: #00af00\">0</span> │\n",
       "├─────────────────────────────────┼────────────────────────┼───────────────┤\n",
       "│ dec_dense1 (<span style=\"color: #0087ff; text-decoration-color: #0087ff\">Dense</span>)              │ (<span style=\"color: #00d7ff; text-decoration-color: #00d7ff\">None</span>, <span style=\"color: #00af00; text-decoration-color: #00af00\">64</span>)             │         <span style=\"color: #00af00; text-decoration-color: #00af00\">2,112</span> │\n",
       "├─────────────────────────────────┼────────────────────────┼───────────────┤\n",
       "│ dec_dropout1 (<span style=\"color: #0087ff; text-decoration-color: #0087ff\">Dropout</span>)          │ (<span style=\"color: #00d7ff; text-decoration-color: #00d7ff\">None</span>, <span style=\"color: #00af00; text-decoration-color: #00af00\">64</span>)             │             <span style=\"color: #00af00; text-decoration-color: #00af00\">0</span> │\n",
       "├─────────────────────────────────┼────────────────────────┼───────────────┤\n",
       "│ reconstructed (<span style=\"color: #0087ff; text-decoration-color: #0087ff\">Dense</span>)           │ (<span style=\"color: #00d7ff; text-decoration-color: #00d7ff\">None</span>, <span style=\"color: #00af00; text-decoration-color: #00af00\">30</span>)             │         <span style=\"color: #00af00; text-decoration-color: #00af00\">1,950</span> │\n",
       "└─────────────────────────────────┴────────────────────────┴───────────────┘\n",
       "</pre>\n"
      ],
      "text/plain": [
       "┏━━━━━━━━━━━━━━━━━━━━━━━━━━━━━━━━━┳━━━━━━━━━━━━━━━━━━━━━━━━┳━━━━━━━━━━━━━━━┓\n",
       "┃\u001b[1m \u001b[0m\u001b[1mLayer (type)                   \u001b[0m\u001b[1m \u001b[0m┃\u001b[1m \u001b[0m\u001b[1mOutput Shape          \u001b[0m\u001b[1m \u001b[0m┃\u001b[1m \u001b[0m\u001b[1m      Param #\u001b[0m\u001b[1m \u001b[0m┃\n",
       "┡━━━━━━━━━━━━━━━━━━━━━━━━━━━━━━━━━╇━━━━━━━━━━━━━━━━━━━━━━━━╇━━━━━━━━━━━━━━━┩\n",
       "│ autoencoder_input (\u001b[38;5;33mInputLayer\u001b[0m)  │ (\u001b[38;5;45mNone\u001b[0m, \u001b[38;5;34m30\u001b[0m)             │             \u001b[38;5;34m0\u001b[0m │\n",
       "├─────────────────────────────────┼────────────────────────┼───────────────┤\n",
       "│ enc_dense1 (\u001b[38;5;33mDense\u001b[0m)              │ (\u001b[38;5;45mNone\u001b[0m, \u001b[38;5;34m64\u001b[0m)             │         \u001b[38;5;34m1,984\u001b[0m │\n",
       "├─────────────────────────────────┼────────────────────────┼───────────────┤\n",
       "│ enc_dropout1 (\u001b[38;5;33mDropout\u001b[0m)          │ (\u001b[38;5;45mNone\u001b[0m, \u001b[38;5;34m64\u001b[0m)             │             \u001b[38;5;34m0\u001b[0m │\n",
       "├─────────────────────────────────┼────────────────────────┼───────────────┤\n",
       "│ enc_dense2 (\u001b[38;5;33mDense\u001b[0m)              │ (\u001b[38;5;45mNone\u001b[0m, \u001b[38;5;34m32\u001b[0m)             │         \u001b[38;5;34m2,080\u001b[0m │\n",
       "├─────────────────────────────────┼────────────────────────┼───────────────┤\n",
       "│ enc_dropout2 (\u001b[38;5;33mDropout\u001b[0m)          │ (\u001b[38;5;45mNone\u001b[0m, \u001b[38;5;34m32\u001b[0m)             │             \u001b[38;5;34m0\u001b[0m │\n",
       "├─────────────────────────────────┼────────────────────────┼───────────────┤\n",
       "│ enc_dense3 (\u001b[38;5;33mDense\u001b[0m)              │ (\u001b[38;5;45mNone\u001b[0m, \u001b[38;5;34m16\u001b[0m)             │           \u001b[38;5;34m528\u001b[0m │\n",
       "├─────────────────────────────────┼────────────────────────┼───────────────┤\n",
       "│ enc_dropout3 (\u001b[38;5;33mDropout\u001b[0m)          │ (\u001b[38;5;45mNone\u001b[0m, \u001b[38;5;34m16\u001b[0m)             │             \u001b[38;5;34m0\u001b[0m │\n",
       "├─────────────────────────────────┼────────────────────────┼───────────────┤\n",
       "│ latent (\u001b[38;5;33mDense\u001b[0m)                  │ (\u001b[38;5;45mNone\u001b[0m, \u001b[38;5;34m16\u001b[0m)             │           \u001b[38;5;34m272\u001b[0m │\n",
       "├─────────────────────────────────┼────────────────────────┼───────────────┤\n",
       "│ dec_dense2 (\u001b[38;5;33mDense\u001b[0m)              │ (\u001b[38;5;45mNone\u001b[0m, \u001b[38;5;34m32\u001b[0m)             │           \u001b[38;5;34m544\u001b[0m │\n",
       "├─────────────────────────────────┼────────────────────────┼───────────────┤\n",
       "│ dec_dropout2 (\u001b[38;5;33mDropout\u001b[0m)          │ (\u001b[38;5;45mNone\u001b[0m, \u001b[38;5;34m32\u001b[0m)             │             \u001b[38;5;34m0\u001b[0m │\n",
       "├─────────────────────────────────┼────────────────────────┼───────────────┤\n",
       "│ dec_dense1 (\u001b[38;5;33mDense\u001b[0m)              │ (\u001b[38;5;45mNone\u001b[0m, \u001b[38;5;34m64\u001b[0m)             │         \u001b[38;5;34m2,112\u001b[0m │\n",
       "├─────────────────────────────────┼────────────────────────┼───────────────┤\n",
       "│ dec_dropout1 (\u001b[38;5;33mDropout\u001b[0m)          │ (\u001b[38;5;45mNone\u001b[0m, \u001b[38;5;34m64\u001b[0m)             │             \u001b[38;5;34m0\u001b[0m │\n",
       "├─────────────────────────────────┼────────────────────────┼───────────────┤\n",
       "│ reconstructed (\u001b[38;5;33mDense\u001b[0m)           │ (\u001b[38;5;45mNone\u001b[0m, \u001b[38;5;34m30\u001b[0m)             │         \u001b[38;5;34m1,950\u001b[0m │\n",
       "└─────────────────────────────────┴────────────────────────┴───────────────┘\n"
      ]
     },
     "metadata": {},
     "output_type": "display_data"
    },
    {
     "data": {
      "text/html": [
       "<pre style=\"white-space:pre;overflow-x:auto;line-height:normal;font-family:Menlo,'DejaVu Sans Mono',consolas,'Courier New',monospace\"><span style=\"font-weight: bold\"> Total params: </span><span style=\"color: #00af00; text-decoration-color: #00af00\">9,470</span> (36.99 KB)\n",
       "</pre>\n"
      ],
      "text/plain": [
       "\u001b[1m Total params: \u001b[0m\u001b[38;5;34m9,470\u001b[0m (36.99 KB)\n"
      ]
     },
     "metadata": {},
     "output_type": "display_data"
    },
    {
     "data": {
      "text/html": [
       "<pre style=\"white-space:pre;overflow-x:auto;line-height:normal;font-family:Menlo,'DejaVu Sans Mono',consolas,'Courier New',monospace\"><span style=\"font-weight: bold\"> Trainable params: </span><span style=\"color: #00af00; text-decoration-color: #00af00\">9,470</span> (36.99 KB)\n",
       "</pre>\n"
      ],
      "text/plain": [
       "\u001b[1m Trainable params: \u001b[0m\u001b[38;5;34m9,470\u001b[0m (36.99 KB)\n"
      ]
     },
     "metadata": {},
     "output_type": "display_data"
    },
    {
     "data": {
      "text/html": [
       "<pre style=\"white-space:pre;overflow-x:auto;line-height:normal;font-family:Menlo,'DejaVu Sans Mono',consolas,'Courier New',monospace\"><span style=\"font-weight: bold\"> Non-trainable params: </span><span style=\"color: #00af00; text-decoration-color: #00af00\">0</span> (0.00 B)\n",
       "</pre>\n"
      ],
      "text/plain": [
       "\u001b[1m Non-trainable params: \u001b[0m\u001b[38;5;34m0\u001b[0m (0.00 B)\n"
      ]
     },
     "metadata": {},
     "output_type": "display_data"
    }
   ],
   "source": [
    "autoencoder2.summary()"
   ]
  },
  {
   "cell_type": "code",
   "execution_count": 104,
   "id": "1d0aee3d-5519-49bb-a5b0-b2dee59403df",
   "metadata": {
    "tags": []
   },
   "outputs": [],
   "source": [
    "autoencoder2.compile(\n",
    "    optimizer = keras.optimizers.Adam(learning_rate = 0.0005),\n",
    "    loss = custom_loss, #keras.losses.MeanAbsoluteError(),\n",
    "    metrics = [\n",
    "        keras.metrics.RootMeanSquaredError(name = 'rmse'),\n",
    "        keras.metrics.MeanSquaredError(name = 'mse'),\n",
    "        keras.metrics.MeanAbsoluteError(name = 'mae'),\n",
    "        keras.metrics.MeanSquaredLogarithmicError(name = 'msle')\n",
    "    ]\n",
    ")"
   ]
  },
  {
   "cell_type": "code",
   "execution_count": null,
   "id": "52a419b2-54ad-483f-ac3a-35928870c123",
   "metadata": {
    "tags": []
   },
   "outputs": [
    {
     "name": "stdout",
     "output_type": "stream",
     "text": [
      "Epoch 1/50\n",
      "\u001b[1m2275/2275\u001b[0m \u001b[32m━━━━━━━━━━━━━━━━━━━━\u001b[0m\u001b[37m\u001b[0m \u001b[1m39s\u001b[0m 15ms/step - loss: 0.7265 - mae: 0.6566 - mse: 0.9896 - msle: 0.1404 - rmse: 0.9947 - val_loss: 0.6299 - val_mae: 0.6236 - val_mse: 0.9333 - val_msle: 0.1281 - val_rmse: 0.9661\n",
      "Epoch 2/50\n",
      "\u001b[1m2275/2275\u001b[0m \u001b[32m━━━━━━━━━━━━━━━━━━━━\u001b[0m\u001b[37m\u001b[0m \u001b[1m41s\u001b[0m 15ms/step - loss: 0.6371 - mae: 0.6305 - mse: 0.9624 - msle: 0.1291 - rmse: 0.9810 - val_loss: 0.6265 - val_mae: 0.6193 - val_mse: 0.9276 - val_msle: 0.1268 - val_rmse: 0.9631\n",
      "Epoch 3/50\n",
      "\u001b[1m2275/2275\u001b[0m \u001b[32m━━━━━━━━━━━━━━━━━━━━\u001b[0m\u001b[37m\u001b[0m \u001b[1m44s\u001b[0m 17ms/step - loss: 0.6341 - mae: 0.6266 - mse: 0.9487 - msle: 0.1274 - rmse: 0.9740 - val_loss: 0.6215 - val_mae: 0.6129 - val_mse: 0.9221 - val_msle: 0.1226 - val_rmse: 0.9603\n",
      "Epoch 4/50\n",
      "\u001b[1m2275/2275\u001b[0m \u001b[32m━━━━━━━━━━━━━━━━━━━━\u001b[0m\u001b[37m\u001b[0m \u001b[1m39s\u001b[0m 15ms/step - loss: 0.6307 - mae: 0.6219 - mse: 0.9440 - msle: 0.1243 - rmse: 0.9716 - val_loss: 0.6177 - val_mae: 0.6082 - val_mse: 0.9187 - val_msle: 0.1208 - val_rmse: 0.9585\n",
      "Epoch 5/50\n",
      "\u001b[1m2275/2275\u001b[0m \u001b[32m━━━━━━━━━━━━━━━━━━━━\u001b[0m\u001b[37m\u001b[0m \u001b[1m38s\u001b[0m 15ms/step - loss: 0.6278 - mae: 0.6181 - mse: 0.9390 - msle: 0.1229 - rmse: 0.9690 - val_loss: 0.6167 - val_mae: 0.6068 - val_mse: 0.9173 - val_msle: 0.1200 - val_rmse: 0.9578\n",
      "Epoch 6/50\n",
      "\u001b[1m2275/2275\u001b[0m \u001b[32m━━━━━━━━━━━━━━━━━━━━\u001b[0m\u001b[37m\u001b[0m \u001b[1m44s\u001b[0m 17ms/step - loss: 0.6273 - mae: 0.6174 - mse: 0.9423 - msle: 0.1223 - rmse: 0.9707 - val_loss: 0.6155 - val_mae: 0.6056 - val_mse: 0.9167 - val_msle: 0.1193 - val_rmse: 0.9575\n",
      "Epoch 7/50\n",
      "\u001b[1m2275/2275\u001b[0m \u001b[32m━━━━━━━━━━━━━━━━━━━━\u001b[0m\u001b[37m\u001b[0m \u001b[1m35s\u001b[0m 14ms/step - loss: 0.6269 - mae: 0.6170 - mse: 0.9345 - msle: 0.1220 - rmse: 0.9667 - val_loss: 0.6160 - val_mae: 0.6063 - val_mse: 0.9169 - val_msle: 0.1195 - val_rmse: 0.9575\n",
      "Epoch 8/50\n",
      "\u001b[1m2275/2275\u001b[0m \u001b[32m━━━━━━━━━━━━━━━━━━━━\u001b[0m\u001b[37m\u001b[0m \u001b[1m44s\u001b[0m 18ms/step - loss: 0.6258 - mae: 0.6160 - mse: 0.9368 - msle: 0.1215 - rmse: 0.9679 - val_loss: 0.6152 - val_mae: 0.6054 - val_mse: 0.9160 - val_msle: 0.1188 - val_rmse: 0.9571\n",
      "Epoch 9/50\n",
      "\u001b[1m2275/2275\u001b[0m \u001b[32m━━━━━━━━━━━━━━━━━━━━\u001b[0m\u001b[37m\u001b[0m \u001b[1m47s\u001b[0m 19ms/step - loss: 0.6266 - mae: 0.6169 - mse: 0.9387 - msle: 0.1217 - rmse: 0.9688 - val_loss: 0.6145 - val_mae: 0.6049 - val_mse: 0.9151 - val_msle: 0.1191 - val_rmse: 0.9566\n",
      "Epoch 10/50\n",
      "\u001b[1m2275/2275\u001b[0m \u001b[32m━━━━━━━━━━━━━━━━━━━━\u001b[0m\u001b[37m\u001b[0m \u001b[1m40s\u001b[0m 16ms/step - loss: 0.6257 - mae: 0.6161 - mse: 0.9397 - msle: 0.1215 - rmse: 0.9694 - val_loss: 0.6136 - val_mae: 0.6042 - val_mse: 0.9149 - val_msle: 0.1185 - val_rmse: 0.9565\n",
      "Epoch 11/50\n",
      "\u001b[1m2275/2275\u001b[0m \u001b[32m━━━━━━━━━━━━━━━━━━━━\u001b[0m\u001b[37m\u001b[0m \u001b[1m35s\u001b[0m 13ms/step - loss: 0.6253 - mae: 0.6159 - mse: 0.9379 - msle: 0.1213 - rmse: 0.9684 - val_loss: 0.6140 - val_mae: 0.6046 - val_mse: 0.9153 - val_msle: 0.1190 - val_rmse: 0.9567\n",
      "Epoch 12/50\n",
      "\u001b[1m2275/2275\u001b[0m \u001b[32m━━━━━━━━━━━━━━━━━━━━\u001b[0m\u001b[37m\u001b[0m \u001b[1m41s\u001b[0m 16ms/step - loss: 0.6254 - mae: 0.6161 - mse: 0.9449 - msle: 0.1214 - rmse: 0.9720 - val_loss: 0.6140 - val_mae: 0.6049 - val_mse: 0.9149 - val_msle: 0.1190 - val_rmse: 0.9565\n",
      "Epoch 13/50\n",
      "\u001b[1m2275/2275\u001b[0m \u001b[32m━━━━━━━━━━━━━━━━━━━━\u001b[0m\u001b[37m\u001b[0m \u001b[1m38s\u001b[0m 15ms/step - loss: 0.6247 - mae: 0.6155 - mse: 0.9372 - msle: 0.1213 - rmse: 0.9681 - val_loss: 0.6141 - val_mae: 0.6050 - val_mse: 0.9148 - val_msle: 0.1188 - val_rmse: 0.9565\n",
      "Epoch 14/50\n",
      "\u001b[1m2275/2275\u001b[0m \u001b[32m━━━━━━━━━━━━━━━━━━━━\u001b[0m\u001b[37m\u001b[0m \u001b[1m44s\u001b[0m 17ms/step - loss: 0.6242 - mae: 0.6151 - mse: 0.9340 - msle: 0.1211 - rmse: 0.9664 - val_loss: 0.6133 - val_mae: 0.6043 - val_mse: 0.9144 - val_msle: 0.1185 - val_rmse: 0.9562\n",
      "Epoch 15/50\n",
      "\u001b[1m2275/2275\u001b[0m \u001b[32m━━━━━━━━━━━━━━━━━━━━\u001b[0m\u001b[37m\u001b[0m \u001b[1m41s\u001b[0m 16ms/step - loss: 0.6246 - mae: 0.6156 - mse: 0.9365 - msle: 0.1212 - rmse: 0.9677 - val_loss: 0.6134 - val_mae: 0.6044 - val_mse: 0.9141 - val_msle: 0.1188 - val_rmse: 0.9561\n",
      "Epoch 16/50\n",
      "\u001b[1m2275/2275\u001b[0m \u001b[32m━━━━━━━━━━━━━━━━━━━━\u001b[0m\u001b[37m\u001b[0m \u001b[1m36s\u001b[0m 14ms/step - loss: 0.6252 - mae: 0.6162 - mse: 0.9469 - msle: 0.1213 - rmse: 0.9731 - val_loss: 0.6133 - val_mae: 0.6043 - val_mse: 0.9137 - val_msle: 0.1187 - val_rmse: 0.9559\n",
      "Epoch 17/50\n",
      "\u001b[1m2275/2275\u001b[0m \u001b[32m━━━━━━━━━━━━━━━━━━━━\u001b[0m\u001b[37m\u001b[0m \u001b[1m42s\u001b[0m 16ms/step - loss: 0.6246 - mae: 0.6156 - mse: 0.9455 - msle: 0.1212 - rmse: 0.9723 - val_loss: 0.6133 - val_mae: 0.6043 - val_mse: 0.9133 - val_msle: 0.1188 - val_rmse: 0.9557\n",
      "Epoch 18/50\n",
      "\u001b[1m2275/2275\u001b[0m \u001b[32m━━━━━━━━━━━━━━━━━━━━\u001b[0m\u001b[37m\u001b[0m \u001b[1m40s\u001b[0m 16ms/step - loss: 0.6254 - mae: 0.6163 - mse: 0.9626 - msle: 0.1214 - rmse: 0.9809 - val_loss: 0.6118 - val_mae: 0.6027 - val_mse: 0.9123 - val_msle: 0.1181 - val_rmse: 0.9551\n",
      "Epoch 19/50\n",
      "\u001b[1m2275/2275\u001b[0m \u001b[32m━━━━━━━━━━━━━━━━━━━━\u001b[0m\u001b[37m\u001b[0m \u001b[1m40s\u001b[0m 15ms/step - loss: 0.6238 - mae: 0.6147 - mse: 0.9413 - msle: 0.1208 - rmse: 0.9701 - val_loss: 0.6119 - val_mae: 0.6028 - val_mse: 0.9118 - val_msle: 0.1183 - val_rmse: 0.9549\n",
      "Epoch 20/50\n",
      "\u001b[1m2275/2275\u001b[0m \u001b[32m━━━━━━━━━━━━━━━━━━━━\u001b[0m\u001b[37m\u001b[0m \u001b[1m44s\u001b[0m 17ms/step - loss: 0.6229 - mae: 0.6137 - mse: 0.9292 - msle: 0.1206 - rmse: 0.9639 - val_loss: 0.6115 - val_mae: 0.6023 - val_mse: 0.9113 - val_msle: 0.1184 - val_rmse: 0.9546\n",
      "Epoch 21/50\n",
      "\u001b[1m2275/2275\u001b[0m \u001b[32m━━━━━━━━━━━━━━━━━━━━\u001b[0m\u001b[37m\u001b[0m \u001b[1m86s\u001b[0m 36ms/step - loss: 0.6234 - mae: 0.6142 - mse: 0.9390 - msle: 0.1208 - rmse: 0.9690 - val_loss: 0.6111 - val_mae: 0.6018 - val_mse: 0.9112 - val_msle: 0.1182 - val_rmse: 0.9545\n",
      "Epoch 22/50\n",
      "\u001b[1m2275/2275\u001b[0m \u001b[32m━━━━━━━━━━━━━━━━━━━━\u001b[0m\u001b[37m\u001b[0m \u001b[1m44s\u001b[0m 18ms/step - loss: 0.6231 - mae: 0.6138 - mse: 0.9446 - msle: 0.1208 - rmse: 0.9719 - val_loss: 0.6113 - val_mae: 0.6022 - val_mse: 0.9107 - val_msle: 0.1184 - val_rmse: 0.9543\n",
      "Epoch 23/50\n",
      "\u001b[1m2275/2275\u001b[0m \u001b[32m━━━━━━━━━━━━━━━━━━━━\u001b[0m\u001b[37m\u001b[0m \u001b[1m85s\u001b[0m 35ms/step - loss: 0.6232 - mae: 0.6140 - mse: 0.9270 - msle: 0.1207 - rmse: 0.9628 - val_loss: 0.6110 - val_mae: 0.6018 - val_mse: 0.9103 - val_msle: 0.1178 - val_rmse: 0.9541\n",
      "Epoch 24/50\n",
      "\u001b[1m2275/2275\u001b[0m \u001b[32m━━━━━━━━━━━━━━━━━━━━\u001b[0m\u001b[37m\u001b[0m \u001b[1m46s\u001b[0m 18ms/step - loss: 0.6241 - mae: 0.6148 - mse: 0.9460 - msle: 0.1209 - rmse: 0.9726 - val_loss: 0.6101 - val_mae: 0.6007 - val_mse: 0.9100 - val_msle: 0.1179 - val_rmse: 0.9539\n",
      "Epoch 25/50\n",
      "\u001b[1m2275/2275\u001b[0m \u001b[32m━━━━━━━━━━━━━━━━━━━━\u001b[0m\u001b[37m\u001b[0m \u001b[1m44s\u001b[0m 18ms/step - loss: 0.6242 - mae: 0.6149 - mse: 0.9475 - msle: 0.1210 - rmse: 0.9733 - val_loss: 0.6091 - val_mae: 0.5998 - val_mse: 0.9088 - val_msle: 0.1179 - val_rmse: 0.9533\n",
      "Epoch 26/50\n",
      "\u001b[1m2275/2275\u001b[0m \u001b[32m━━━━━━━━━━━━━━━━━━━━\u001b[0m\u001b[37m\u001b[0m \u001b[1m40s\u001b[0m 16ms/step - loss: 0.6227 - mae: 0.6134 - mse: 0.9422 - msle: 0.1206 - rmse: 0.9706 - val_loss: 0.6103 - val_mae: 0.6010 - val_mse: 0.9097 - val_msle: 0.1177 - val_rmse: 0.9538\n",
      "Epoch 27/50\n",
      "\u001b[1m2275/2275\u001b[0m \u001b[32m━━━━━━━━━━━━━━━━━━━━\u001b[0m\u001b[37m\u001b[0m \u001b[1m32s\u001b[0m 13ms/step - loss: 0.6231 - mae: 0.6138 - mse: 0.9402 - msle: 0.1207 - rmse: 0.9696 - val_loss: 0.6096 - val_mae: 0.6004 - val_mse: 0.9087 - val_msle: 0.1177 - val_rmse: 0.9533\n",
      "Epoch 28/50\n",
      "\u001b[1m2275/2275\u001b[0m \u001b[32m━━━━━━━━━━━━━━━━━━━━\u001b[0m\u001b[37m\u001b[0m \u001b[1m38s\u001b[0m 15ms/step - loss: 0.6226 - mae: 0.6133 - mse: 0.9304 - msle: 0.1204 - rmse: 0.9646 - val_loss: 0.6099 - val_mae: 0.6007 - val_mse: 0.9090 - val_msle: 0.1180 - val_rmse: 0.9534\n",
      "Epoch 29/50\n",
      "\u001b[1m2275/2275\u001b[0m \u001b[32m━━━━━━━━━━━━━━━━━━━━\u001b[0m\u001b[37m\u001b[0m \u001b[1m44s\u001b[0m 17ms/step - loss: 0.6229 - mae: 0.6137 - mse: 0.9450 - msle: 0.1207 - rmse: 0.9721 - val_loss: 0.6097 - val_mae: 0.6003 - val_mse: 0.9084 - val_msle: 0.1180 - val_rmse: 0.9531\n",
      "Epoch 30/50\n",
      "\u001b[1m2275/2275\u001b[0m \u001b[32m━━━━━━━━━━━━━━━━━━━━\u001b[0m\u001b[37m\u001b[0m \u001b[1m44s\u001b[0m 18ms/step - loss: 0.6232 - mae: 0.6140 - mse: 0.9517 - msle: 0.1207 - rmse: 0.9755 - val_loss: 0.6091 - val_mae: 0.5999 - val_mse: 0.9080 - val_msle: 0.1180 - val_rmse: 0.9529\n",
      "Epoch 31/50\n",
      "\u001b[1m2275/2275\u001b[0m \u001b[32m━━━━━━━━━━━━━━━━━━━━\u001b[0m\u001b[37m\u001b[0m \u001b[1m36s\u001b[0m 14ms/step - loss: 0.6226 - mae: 0.6134 - mse: 0.9328 - msle: 0.1206 - rmse: 0.9658 - val_loss: 0.6097 - val_mae: 0.6005 - val_mse: 0.9085 - val_msle: 0.1182 - val_rmse: 0.9531\n",
      "Epoch 32/50\n",
      "\u001b[1m2275/2275\u001b[0m \u001b[32m━━━━━━━━━━━━━━━━━━━━\u001b[0m\u001b[37m\u001b[0m \u001b[1m46s\u001b[0m 19ms/step - loss: 0.6225 - mae: 0.6133 - mse: 0.9478 - msle: 0.1208 - rmse: 0.9735 - val_loss: 0.6089 - val_mae: 0.5998 - val_mse: 0.9084 - val_msle: 0.1179 - val_rmse: 0.9531\n",
      "Epoch 33/50\n",
      "\u001b[1m2275/2275\u001b[0m \u001b[32m━━━━━━━━━━━━━━━━━━━━\u001b[0m\u001b[37m\u001b[0m \u001b[1m39s\u001b[0m 15ms/step - loss: 0.6213 - mae: 0.6122 - mse: 0.9299 - msle: 0.1204 - rmse: 0.9643 - val_loss: 0.6089 - val_mae: 0.5997 - val_mse: 0.9081 - val_msle: 0.1178 - val_rmse: 0.9529\n",
      "Epoch 34/50\n",
      "\u001b[1m2275/2275\u001b[0m \u001b[32m━━━━━━━━━━━━━━━━━━━━\u001b[0m\u001b[37m\u001b[0m \u001b[1m35s\u001b[0m 14ms/step - loss: 0.6211 - mae: 0.6119 - mse: 0.9257 - msle: 0.1201 - rmse: 0.9621 - val_loss: 0.6082 - val_mae: 0.5990 - val_mse: 0.9079 - val_msle: 0.1175 - val_rmse: 0.9528\n",
      "Epoch 35/50\n",
      "\u001b[1m2275/2275\u001b[0m \u001b[32m━━━━━━━━━━━━━━━━━━━━\u001b[0m\u001b[37m\u001b[0m \u001b[1m35s\u001b[0m 14ms/step - loss: 0.6221 - mae: 0.6128 - mse: 0.9314 - msle: 0.1204 - rmse: 0.9651 - val_loss: 0.6089 - val_mae: 0.5997 - val_mse: 0.9082 - val_msle: 0.1178 - val_rmse: 0.9530\n",
      "Epoch 36/50\n",
      "\u001b[1m2275/2275\u001b[0m \u001b[32m━━━━━━━━━━━━━━━━━━━━\u001b[0m\u001b[37m\u001b[0m \u001b[1m34s\u001b[0m 13ms/step - loss: 0.6233 - mae: 0.6141 - mse: 0.9464 - msle: 0.1208 - rmse: 0.9727 - val_loss: 0.6087 - val_mae: 0.5996 - val_mse: 0.9077 - val_msle: 0.1177 - val_rmse: 0.9527\n",
      "Epoch 37/50\n",
      "\u001b[1m2275/2275\u001b[0m \u001b[32m━━━━━━━━━━━━━━━━━━━━\u001b[0m\u001b[37m\u001b[0m \u001b[1m43s\u001b[0m 17ms/step - loss: 0.6217 - mae: 0.6126 - mse: 0.9366 - msle: 0.1205 - rmse: 0.9678 - val_loss: 0.6091 - val_mae: 0.6002 - val_mse: 0.9081 - val_msle: 0.1178 - val_rmse: 0.9530\n",
      "Epoch 38/50\n",
      "\u001b[1m2275/2275\u001b[0m \u001b[32m━━━━━━━━━━━━━━━━━━━━\u001b[0m\u001b[37m\u001b[0m \u001b[1m39s\u001b[0m 15ms/step - loss: 0.6226 - mae: 0.6135 - mse: 0.9366 - msle: 0.1207 - rmse: 0.9677 - val_loss: 0.6084 - val_mae: 0.5993 - val_mse: 0.9073 - val_msle: 0.1178 - val_rmse: 0.9525\n",
      "Epoch 39/50\n",
      "\u001b[1m2275/2275\u001b[0m \u001b[32m━━━━━━━━━━━━━━━━━━━━\u001b[0m\u001b[37m\u001b[0m \u001b[1m0s\u001b[0m 16ms/step - loss: 0.6216 - mae: 0.6124 - mse: 0.9310 - msle: 0.1203 - rmse: 0.9649"
     ]
    }
   ],
   "source": [
    "history2 = autoencoder2.fit(\n",
    "    train_dataset,\n",
    "    epochs = 50,\n",
    "    validation_data = val_dataset,\n",
    "    callbacks = [early_stopping]\n",
    ")"
   ]
  }
 ],
 "metadata": {
  "environment": {
   "kernel": "conda-base-py",
   "name": "workbench-notebooks.m125",
   "type": "gcloud",
   "uri": "us-docker.pkg.dev/deeplearning-platform-release/gcr.io/workbench-notebooks:m125"
  },
  "kernelspec": {
   "display_name": "Python 3 (ipykernel) (Local)",
   "language": "python",
   "name": "conda-base-py"
  },
  "language_info": {
   "codemirror_mode": {
    "name": "ipython",
    "version": 3
   },
   "file_extension": ".py",
   "mimetype": "text/x-python",
   "name": "python",
   "nbconvert_exporter": "python",
   "pygments_lexer": "ipython3",
   "version": "3.10.15"
  }
 },
 "nbformat": 4,
 "nbformat_minor": 5
}
