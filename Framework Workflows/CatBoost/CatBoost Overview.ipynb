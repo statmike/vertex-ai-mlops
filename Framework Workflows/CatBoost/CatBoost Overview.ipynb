{
 "cells": [
  {
   "cell_type": "markdown",
   "id": "d1552364",
   "metadata": {},
   "source": [
    "![tracker](https://us-central1-vertex-ai-mlops-369716.cloudfunctions.net/pixel-tracking?path=statmike%2Fvertex-ai-mlops%2FFramework+Workflows%2FCatBoost&file=CatBoost+Overview.ipynb)\n",
    "<!--- header table --->\n",
    "<table align=\"left\">\n",
    "  <td style=\"text-align: center\">\n",
    "    <a href=\"https://colab.research.google.com/github/statmike/vertex-ai-mlops/blob/main/Framework%20Workflows/CatBoost/CatBoost%20Overview.ipynb\">\n",
    "      <img src=\"https://cloud.google.com/ml-engine/images/colab-logo-32px.png\" alt=\"Google Colaboratory logo\">\n",
    "      <br>Run in<br>Colab\n",
    "    </a>\n",
    "  </td>\n",
    "  <td style=\"text-align: center\">\n",
    "    <a href=\"https://console.cloud.google.com/vertex-ai/colab/import/https%3A%2F%2Fraw.githubusercontent.com%2Fstatmike%2Fvertex-ai-mlops%2Fmain%2FFramework%2520Workflows%2FCatBoost%2FCatBoost%2520Overview.ipynb\">\n",
    "      <img width=\"32px\" src=\"https://lh3.googleusercontent.com/JmcxdQi-qOpctIvWKgPtrzZdJJK-J3sWE1RsfjZNwshCFgE_9fULcNpuXYTilIR2hjwN\" alt=\"Google Cloud Colab Enterprise logo\">\n",
    "      <br>Run in<br>Colab Enterprise\n",
    "    </a>\n",
    "  </td>      \n",
    "  <td style=\"text-align: center\">\n",
    "    <a href=\"https://github.com/statmike/vertex-ai-mlops/blob/main/Framework%20Workflows/CatBoost/CatBoost%20Overview.ipynb\">\n",
    "      <img src=\"https://cloud.google.com/ml-engine/images/github-logo-32px.png\" alt=\"GitHub logo\">\n",
    "      <br>View on<br>GitHub\n",
    "    </a>\n",
    "  </td>\n",
    "  <td style=\"text-align: center\">\n",
    "    <a href=\"https://console.cloud.google.com/vertex-ai/workbench/deploy-notebook?download_url=https://raw.githubusercontent.com/statmike/vertex-ai-mlops/main/Framework%20Workflows/CatBoost/CatBoost%20Overview.ipynb\">\n",
    "      <img src=\"https://lh3.googleusercontent.com/UiNooY4LUgW_oTvpsNhPpQzsstV5W8F7rYgxgGBD85cWJoLmrOzhVs_ksK_vgx40SHs7jCqkTkCk=e14-rj-sc0xffffff-h130-w32\" alt=\"Vertex AI logo\">\n",
    "      <br>Open in<br>Vertex AI Workbench\n",
    "    </a>\n",
    "  </td>\n",
    "</table>"
   ]
  },
  {
   "cell_type": "markdown",
   "id": "c4d2a031-0e0e-4fb7-a86a-a49263373e41",
   "metadata": {},
   "source": [
    "# CatBoost Overview\n",
    "\n",
    "This notebook provides a comprehensive guide to building a CatBoost classifier, with a focus on:\n",
    "\n",
    "- Leveraging CatBoost's efficient gradient boosting algorithm for classification tasks.\n",
    "- Creating a robust and portable model suitable for deployment.\n",
    "- Structuring the workflow for clear data handling, training, and evaluation.\n",
    "- Integrating with Vertex AI Experiments for experiment tracking and analysis.\n",
    "- Handling data preprocessing and feature engineering within the CatBoost workflow.\n",
    "\n",
    "## Core Concepts\n",
    "\n",
    "**CatBoost:** An open-source gradient boosting library developed by Yandex. CatBoost excels at handling categorical features, preventing overfitting, and providing high accuracy.\n",
    "\n",
    "**Gradient Boosting:** A machine learning technique that combines multiple weak learners (typically decision trees) to create a strong predictive model. 1  CatBoost's implementation is particularly efficient and scalable.\n",
    "\n",
    "**Vertex AI Experiments:** A managed service for tracking and analyzing machine learning experiments. It allows you to log metrics, parameters, and artifacts, making it easier to compare and reproduce experiments.\n",
    "\n",
    "**BigQuery:** A serverless, highly scalable, and cost-effective multicloud data warehouse designed for business agility.\n",
    "\n",
    "## Workflow Summary\n",
    "\n",
    "This workflow covers the following key steps:\n",
    "\n",
    "**Data Loading and Preprocessing:**\n",
    "- Loading data from BigQuery using the google-cloud-bigquery library.\n",
    "- Splitting the data into training, validation, and test sets.\n",
    "- Preparing the data for CatBoost using the catboost.Pool object.\n",
    "\n",
    "**CatBoost Model Definition:**\n",
    "- Defining the CatBoost classifier model with custom parameters.\n",
    "- Specifying the loss function and evaluation metrics.\n",
    "\n",
    "**CatBoost Training:**\n",
    "- Training the CatBoost model using the prepared train and validate datasets.\n",
    "- Monitoring the training process and evaluating performance on the validation set.\n",
    "\n",
    "**CatBoost Evaluation:**\n",
    "- Evaluating the trained model on the test dataset using various metrics (accuracy, precision, recall, F1-score, average precision).\n",
    "- Generating and visualizing the ROC curve.\n",
    "\n",
    "**Vertex AI Experiments Integration:**\n",
    "- Initializing a Vertex AI experiment and starting an experiment run.\n",
    "- Logging model parameters, summary metrics, and classification metrics to the experiment run.\n",
    "- Saving the trained model as a Vertex AI Model artifact.\n",
    "\n",
    "**Model Saving and Loading:**\n",
    "- Saving the trained CatBoost model to a local file and to Google Cloud Storage (GCS).\n",
    "- Loading the model from GCS for future use.\n",
    "\n",
    "**Key Advantages of This Workflow:**\n",
    "- **Efficiency:** CatBoost's gradient boosting algorithm is highly efficient and scalable.\n",
    "- **Accuracy:** CatBoost is known for its high accuracy, especially in handling categorical features.\n",
    "- **Portability:** The trained model can be easily saved and loaded for deployment.\n",
    "- **Reproducibility:** Vertex AI Experiments integration ensures reproducibility of experiments.\n",
    "- **Clear Workflow:** The code is well-structured and modular, with clear separation of concerns (data loading, preprocessing, model training, evaluation, and experiment tracking).\n",
    "\n",
    "This workflow provides a solid foundation for building and deploying CatBoost classification models, leveraging the strengths of the CatBoost library and Vertex AI Experiments."
   ]
  },
  {
   "cell_type": "markdown",
   "id": "82b2856f-6498-4ef6-9695-47dff5c99e66",
   "metadata": {
    "id": "od_UkDpvRmgD",
    "tags": []
   },
   "source": [
    "---\n",
    "## Colab Setup\n",
    "\n",
    "To run this notebook in Colab run the cells in this section.  Otherwise, skip this section.\n",
    "\n",
    "This cell will authenticate to GCP (follow prompts in the popup)."
   ]
  },
  {
   "cell_type": "code",
   "execution_count": 1,
   "id": "ba3a5036-ed89-434e-ba5e-1229876ad1d6",
   "metadata": {
    "executionInfo": {
     "elapsed": 195,
     "status": "ok",
     "timestamp": 1683726184843,
     "user": {
      "displayName": "Mike Henderson",
      "userId": "07691629187611687318"
     },
     "user_tz": 240
    },
    "id": "8UO9FnqyKBlF",
    "tags": []
   },
   "outputs": [],
   "source": [
    "PROJECT_ID = 'statmike-mlops-349915' # replace with project ID"
   ]
  },
  {
   "cell_type": "code",
   "execution_count": 2,
   "id": "4a63386e-66c5-4ecd-adab-a07e81fd75c6",
   "metadata": {
    "colab": {
     "base_uri": "https://localhost:8080/"
    },
    "executionInfo": {
     "elapsed": 68869,
     "status": "ok",
     "timestamp": 1683726253709,
     "user": {
      "displayName": "Mike Henderson",
      "userId": "07691629187611687318"
     },
     "user_tz": 240
    },
    "id": "N98-KK7LRkjm",
    "outputId": "09ec5008-0def-4e1a-c349-c598ee752f78",
    "tags": []
   },
   "outputs": [],
   "source": [
    "try:\n",
    "    import google.colab\n",
    "    from google.colab import auth\n",
    "    auth.authenticate_user()\n",
    "    !gcloud config set project {PROJECT_ID}\n",
    "except Exception:\n",
    "    pass"
   ]
  },
  {
   "cell_type": "markdown",
   "id": "d6f94ec2-4ffd-4050-8954-7fba66280011",
   "metadata": {},
   "source": [
    "---\n",
    "## Installs\n",
    "\n",
    "The list `packages` contains tuples of package import names and install names.  If the import name is not found then the install name is used to install quitely for the current user."
   ]
  },
  {
   "cell_type": "code",
   "execution_count": 125,
   "id": "8d05fa62-17af-4337-aa60-e17303c83d7c",
   "metadata": {
    "tags": []
   },
   "outputs": [],
   "source": [
    "# tuples of (import name, install name, min_version)\n",
    "packages = [\n",
    "    ('catboost', 'catboost'),\n",
    "    ('sklearn', 'scikit-learn'),\n",
    "    ('numpy', 'numpy'),\n",
    "    ('google.cloud.aiplatform', 'google-cloud-aiplatform', '1.66.0'), \n",
    "    ('google.cloud.storage', 'google-cloud-storage'),\n",
    "    ('google.cloud.bigquery', 'google-cloud-bigquery'), \n",
    "    ('shap', 'shap'),\n",
    "    ('matplotlib', 'matplotlib')\n",
    "]\n",
    "\n",
    "import importlib\n",
    "install = False\n",
    "for package in packages:\n",
    "    if not importlib.util.find_spec(package[0]):\n",
    "        print(f'installing package {package[1]}')\n",
    "        install = True\n",
    "        !pip install {package[1]} -U -q --user\n",
    "    elif len(package) == 3:\n",
    "        if importlib.metadata.version(package[0]) < package[2]:\n",
    "            print(f'updating package {package[1]}')\n",
    "            install = True\n",
    "            !pip install {package[1]} -U -q --user"
   ]
  },
  {
   "cell_type": "markdown",
   "id": "4de84e34-6656-44dc-8a32-ff4e0491e48d",
   "metadata": {},
   "source": [
    "### API Enablement"
   ]
  },
  {
   "cell_type": "code",
   "execution_count": 4,
   "id": "745237e7-8623-4972-a096-17d626d5e272",
   "metadata": {
    "tags": []
   },
   "outputs": [],
   "source": [
    "!gcloud services enable aiplatform.googleapis.com"
   ]
  },
  {
   "cell_type": "markdown",
   "id": "3e86272c-b95b-468b-8ad0-92b963a466d0",
   "metadata": {},
   "source": [
    "### Restart Kernel (If Installs Occured)\n",
    "\n",
    "After a kernel restart the code submission can start with the next cell after this one."
   ]
  },
  {
   "cell_type": "code",
   "execution_count": 5,
   "id": "0b7dfee2-189a-4a52-a4a6-e94ae27a2536",
   "metadata": {
    "tags": []
   },
   "outputs": [],
   "source": [
    "if install:\n",
    "    import IPython\n",
    "    app = IPython.Application.instance()\n",
    "    app.kernel.do_shutdown(True)\n",
    "    IPython.display.display(IPython.display.Markdown(\"\"\"<div class=\\\"alert alert-block alert-warning\\\">\n",
    "        <b>⚠️ The kernel is going to restart. Please wait until it is finished before continuing to the next step. The previous cells do not need to be run again⚠️</b>\n",
    "        </div>\"\"\"))"
   ]
  },
  {
   "cell_type": "markdown",
   "id": "b3ef694d-cc80-49d9-8a8f-ecf365649cc5",
   "metadata": {},
   "source": [
    "---\n",
    "## Setup"
   ]
  },
  {
   "cell_type": "markdown",
   "id": "7bccc134-eb08-40cf-8d54-e47d4a73cdee",
   "metadata": {},
   "source": [
    "inputs:"
   ]
  },
  {
   "cell_type": "code",
   "execution_count": 6,
   "id": "0d0b29bd-1891-4858-a145-83ba8fb8b6a0",
   "metadata": {
    "tags": []
   },
   "outputs": [
    {
     "data": {
      "text/plain": [
       "'statmike-mlops-349915'"
      ]
     },
     "execution_count": 6,
     "metadata": {},
     "output_type": "execute_result"
    }
   ],
   "source": [
    "project = !gcloud config get-value project\n",
    "PROJECT_ID = project[0]\n",
    "PROJECT_ID"
   ]
  },
  {
   "cell_type": "code",
   "execution_count": 7,
   "id": "c57f6e53-f561-40f3-b991-c8c202fc9e37",
   "metadata": {
    "tags": []
   },
   "outputs": [],
   "source": [
    "REGION = 'us-central1'\n",
    "SERIES = 'frameworks'\n",
    "EXPERIMENT = 'catboost-overview'\n",
    "\n",
    "# Set the name of GCS Bucket to read/write to\n",
    "GCS_BUCKET = PROJECT_ID\n",
    "\n",
    "# Data source for this series of notebooks: Described above\n",
    "BQ_SOURCE = 'bigquery-public-data.ml_datasets.ulb_fraud_detection'\n",
    "\n",
    "# make this the BigQuery Project / Dataset / Table prefix to store results\n",
    "BQ_PROJECT = PROJECT_ID\n",
    "BQ_DATASET = SERIES.replace('-', '_')\n",
    "BQ_TABLE = SERIES\n",
    "BQ_REGION = REGION[0:2] # use a multi region"
   ]
  },
  {
   "cell_type": "markdown",
   "id": "3d8dff2a-8a9d-4ef0-9677-e576fb2f79f9",
   "metadata": {},
   "source": [
    "packages:"
   ]
  },
  {
   "cell_type": "code",
   "execution_count": 8,
   "id": "45413264-d808-4a24-8d70-570fe7c4e02c",
   "metadata": {
    "tags": []
   },
   "outputs": [],
   "source": [
    "import tempfile, json, os, io\n",
    "\n",
    "import catboost \n",
    "import catboost.utils\n",
    "import sklearn.metrics #import accuracy_score\n",
    "import numpy as np\n",
    "import matplotlib.pyplot as plt\n",
    "import shap\n",
    "\n",
    "from google.cloud import aiplatform\n",
    "from google.cloud import storage\n",
    "from google.cloud import bigquery"
   ]
  },
  {
   "cell_type": "markdown",
   "id": "781aac78-5994-4f2b-b250-5592b9b88eff",
   "metadata": {},
   "source": [
    "clients:"
   ]
  },
  {
   "cell_type": "code",
   "execution_count": 9,
   "id": "3fa71885-982d-4e4a-b96e-6d37d3f237bc",
   "metadata": {
    "tags": []
   },
   "outputs": [
    {
     "data": {
      "text/html": [
       "\n",
       "        \n",
       "    <link rel=\"stylesheet\" href=\"https://fonts.googleapis.com/icon?family=Material+Icons\">\n",
       "    <style>\n",
       "      .view-vertex-resource,\n",
       "      .view-vertex-resource:hover,\n",
       "      .view-vertex-resource:visited {\n",
       "        position: relative;\n",
       "        display: inline-flex;\n",
       "        flex-direction: row;\n",
       "        height: 32px;\n",
       "        padding: 0 12px;\n",
       "          margin: 4px 18px;\n",
       "        gap: 4px;\n",
       "        border-radius: 4px;\n",
       "\n",
       "        align-items: center;\n",
       "        justify-content: center;\n",
       "        background-color: rgb(255, 255, 255);\n",
       "        color: rgb(51, 103, 214);\n",
       "\n",
       "        font-family: Roboto,\"Helvetica Neue\",sans-serif;\n",
       "        font-size: 13px;\n",
       "        font-weight: 500;\n",
       "        text-transform: uppercase;\n",
       "        text-decoration: none !important;\n",
       "\n",
       "        transition: box-shadow 280ms cubic-bezier(0.4, 0, 0.2, 1) 0s;\n",
       "        box-shadow: 0px 3px 1px -2px rgba(0,0,0,0.2), 0px 2px 2px 0px rgba(0,0,0,0.14), 0px 1px 5px 0px rgba(0,0,0,0.12);\n",
       "      }\n",
       "      .view-vertex-resource:active {\n",
       "        box-shadow: 0px 5px 5px -3px rgba(0,0,0,0.2),0px 8px 10px 1px rgba(0,0,0,0.14),0px 3px 14px 2px rgba(0,0,0,0.12);\n",
       "      }\n",
       "      .view-vertex-resource:active .view-vertex-ripple::before {\n",
       "        position: absolute;\n",
       "        top: 0;\n",
       "        bottom: 0;\n",
       "        left: 0;\n",
       "        right: 0;\n",
       "        border-radius: 4px;\n",
       "        pointer-events: none;\n",
       "\n",
       "        content: '';\n",
       "        background-color: rgb(51, 103, 214);\n",
       "        opacity: 0.12;\n",
       "      }\n",
       "      .view-vertex-icon {\n",
       "        font-size: 18px;\n",
       "      }\n",
       "    </style>\n",
       "  \n",
       "        <a class=\"view-vertex-resource\" id=\"view-vertex-resource-9eb61a8b-f732-4ebf-889b-57c9bd18058d\" href=\"#view-view-vertex-resource-9eb61a8b-f732-4ebf-889b-57c9bd18058d\">\n",
       "          <span class=\"material-icons view-vertex-icon\">science</span>\n",
       "          <span>View Experiment</span>\n",
       "        </a>\n",
       "        \n",
       "        <script>\n",
       "          (function () {\n",
       "            const link = document.getElementById('view-vertex-resource-9eb61a8b-f732-4ebf-889b-57c9bd18058d');\n",
       "            link.addEventListener('click', (e) => {\n",
       "              if (window.google?.colab?.openUrl) {\n",
       "                window.google.colab.openUrl('https://console.cloud.google.com/vertex-ai/experiments/locations/us-central1/experiments/frameworks/runs?project=statmike-mlops-349915');\n",
       "              } else {\n",
       "                window.open('https://console.cloud.google.com/vertex-ai/experiments/locations/us-central1/experiments/frameworks/runs?project=statmike-mlops-349915', '_blank');\n",
       "              }\n",
       "              e.stopPropagation();\n",
       "              e.preventDefault();\n",
       "            });\n",
       "          })();\n",
       "        </script>\n",
       "    "
      ],
      "text/plain": [
       "<IPython.core.display.HTML object>"
      ]
     },
     "metadata": {},
     "output_type": "display_data"
    }
   ],
   "source": [
    "# vertex ai clients\n",
    "aiplatform.init(project = PROJECT_ID, location = REGION, experiment = SERIES)\n",
    "\n",
    "# bigquery client\n",
    "bq = bigquery.Client(project = PROJECT_ID)\n",
    "\n",
    "# gcs storage client\n",
    "gcs = storage.Client(project = GCS_BUCKET)\n",
    "bucket = gcs.bucket(GCS_BUCKET)"
   ]
  },
  {
   "cell_type": "markdown",
   "id": "c27c03c0-5de9-4100-83c8-e8b743fbd387",
   "metadata": {},
   "source": [
    "Parameters:"
   ]
  },
  {
   "cell_type": "code",
   "execution_count": 10,
   "id": "0c55a053-771f-41a3-b782-b97dcd585b44",
   "metadata": {
    "tags": []
   },
   "outputs": [],
   "source": [
    "DIR = f\"files/{EXPERIMENT}\""
   ]
  },
  {
   "cell_type": "markdown",
   "id": "ad0e532d-2db7-4b53-8b2b-2c05b439ac22",
   "metadata": {},
   "source": [
    "Environment:"
   ]
  },
  {
   "cell_type": "code",
   "execution_count": 11,
   "id": "c6295bcf-bbe0-4c30-aad5-c2cdc97aaac3",
   "metadata": {
    "tags": []
   },
   "outputs": [],
   "source": [
    "if not os.path.exists(DIR):\n",
    "    os.makedirs(DIR)"
   ]
  },
  {
   "cell_type": "markdown",
   "id": "44e124c3-fdca-4fb1-a88a-7865a11ea891",
   "metadata": {},
   "source": [
    "---\n",
    "## Review Source Data\n",
    "\n",
    "This is a BigQuery public table of 284,807 credit card transactions classified as fradulant or normal in the column `Class`.\n",
    "- The data can be researched further at this [Kaggle link](https://www.kaggle.com/mlg-ulb/creditcardfraud).\n",
    "- Read mode about BigQuery public datasets [here](https://cloud.google.com/bigquery/public-data)\n",
    "\n",
    "In order protect confidentiality, the original features have been transformed using [principle component analysis (PCA)](https://en.wikipedia.org/wiki/Principal_component_analysis) into 28 features named `V1, V2, ... V28` (float).  Two descriptive features are provided without transformation by PCA:\n",
    "- `Time` (integer) is the seconds elapsed between the transaction and the earliest transaction in the table\n",
    "- `Amount` (float) is the value of the transaction\n",
    " "
   ]
  },
  {
   "cell_type": "markdown",
   "id": "3c39310d-604a-4379-aa89-35a426e955ce",
   "metadata": {},
   "source": [
    "### Review BigQuery table:"
   ]
  },
  {
   "cell_type": "code",
   "execution_count": 12,
   "id": "155e7112-0ac8-48b1-a79b-49b1f5799ea5",
   "metadata": {
    "tags": []
   },
   "outputs": [
    {
     "data": {
      "text/html": [
       "<div>\n",
       "<style scoped>\n",
       "    .dataframe tbody tr th:only-of-type {\n",
       "        vertical-align: middle;\n",
       "    }\n",
       "\n",
       "    .dataframe tbody tr th {\n",
       "        vertical-align: top;\n",
       "    }\n",
       "\n",
       "    .dataframe thead th {\n",
       "        text-align: right;\n",
       "    }\n",
       "</style>\n",
       "<table border=\"1\" class=\"dataframe\">\n",
       "  <thead>\n",
       "    <tr style=\"text-align: right;\">\n",
       "      <th></th>\n",
       "      <th>Time</th>\n",
       "      <th>V1</th>\n",
       "      <th>V2</th>\n",
       "      <th>V3</th>\n",
       "      <th>V4</th>\n",
       "      <th>V5</th>\n",
       "      <th>V6</th>\n",
       "      <th>V7</th>\n",
       "      <th>V8</th>\n",
       "      <th>V9</th>\n",
       "      <th>...</th>\n",
       "      <th>V21</th>\n",
       "      <th>V22</th>\n",
       "      <th>V23</th>\n",
       "      <th>V24</th>\n",
       "      <th>V25</th>\n",
       "      <th>V26</th>\n",
       "      <th>V27</th>\n",
       "      <th>V28</th>\n",
       "      <th>Amount</th>\n",
       "      <th>Class</th>\n",
       "    </tr>\n",
       "  </thead>\n",
       "  <tbody>\n",
       "    <tr>\n",
       "      <th>0</th>\n",
       "      <td>282.0</td>\n",
       "      <td>-0.356466</td>\n",
       "      <td>0.725418</td>\n",
       "      <td>1.971749</td>\n",
       "      <td>0.831343</td>\n",
       "      <td>0.369681</td>\n",
       "      <td>-0.107776</td>\n",
       "      <td>0.751610</td>\n",
       "      <td>-0.120166</td>\n",
       "      <td>-0.420675</td>\n",
       "      <td>...</td>\n",
       "      <td>0.020804</td>\n",
       "      <td>0.424312</td>\n",
       "      <td>-0.015989</td>\n",
       "      <td>0.466754</td>\n",
       "      <td>-0.809962</td>\n",
       "      <td>0.657334</td>\n",
       "      <td>-0.043150</td>\n",
       "      <td>-0.046401</td>\n",
       "      <td>0.0</td>\n",
       "      <td>0</td>\n",
       "    </tr>\n",
       "    <tr>\n",
       "      <th>1</th>\n",
       "      <td>14332.0</td>\n",
       "      <td>1.071950</td>\n",
       "      <td>0.340678</td>\n",
       "      <td>1.784068</td>\n",
       "      <td>2.846396</td>\n",
       "      <td>-0.751538</td>\n",
       "      <td>0.403028</td>\n",
       "      <td>-0.734920</td>\n",
       "      <td>0.205807</td>\n",
       "      <td>1.092726</td>\n",
       "      <td>...</td>\n",
       "      <td>-0.169632</td>\n",
       "      <td>-0.113604</td>\n",
       "      <td>0.067643</td>\n",
       "      <td>0.468669</td>\n",
       "      <td>0.223541</td>\n",
       "      <td>-0.112355</td>\n",
       "      <td>0.014015</td>\n",
       "      <td>0.021504</td>\n",
       "      <td>0.0</td>\n",
       "      <td>0</td>\n",
       "    </tr>\n",
       "    <tr>\n",
       "      <th>2</th>\n",
       "      <td>32799.0</td>\n",
       "      <td>1.153477</td>\n",
       "      <td>-0.047859</td>\n",
       "      <td>1.358363</td>\n",
       "      <td>1.480620</td>\n",
       "      <td>-1.222598</td>\n",
       "      <td>-0.481690</td>\n",
       "      <td>-0.654461</td>\n",
       "      <td>0.128115</td>\n",
       "      <td>0.907095</td>\n",
       "      <td>...</td>\n",
       "      <td>0.125514</td>\n",
       "      <td>0.480049</td>\n",
       "      <td>-0.025964</td>\n",
       "      <td>0.701843</td>\n",
       "      <td>0.417245</td>\n",
       "      <td>-0.257691</td>\n",
       "      <td>0.060115</td>\n",
       "      <td>0.035332</td>\n",
       "      <td>0.0</td>\n",
       "      <td>0</td>\n",
       "    </tr>\n",
       "    <tr>\n",
       "      <th>3</th>\n",
       "      <td>35799.0</td>\n",
       "      <td>-0.769798</td>\n",
       "      <td>0.622325</td>\n",
       "      <td>0.242491</td>\n",
       "      <td>-0.586652</td>\n",
       "      <td>0.527819</td>\n",
       "      <td>-0.104512</td>\n",
       "      <td>0.209909</td>\n",
       "      <td>0.669861</td>\n",
       "      <td>-0.304509</td>\n",
       "      <td>...</td>\n",
       "      <td>0.152738</td>\n",
       "      <td>0.255654</td>\n",
       "      <td>-0.130237</td>\n",
       "      <td>-0.660934</td>\n",
       "      <td>-0.493374</td>\n",
       "      <td>0.331855</td>\n",
       "      <td>-0.011101</td>\n",
       "      <td>0.049089</td>\n",
       "      <td>0.0</td>\n",
       "      <td>0</td>\n",
       "    </tr>\n",
       "    <tr>\n",
       "      <th>4</th>\n",
       "      <td>36419.0</td>\n",
       "      <td>1.047960</td>\n",
       "      <td>0.145048</td>\n",
       "      <td>1.624573</td>\n",
       "      <td>2.932652</td>\n",
       "      <td>-0.726574</td>\n",
       "      <td>0.690451</td>\n",
       "      <td>-0.627288</td>\n",
       "      <td>0.278709</td>\n",
       "      <td>0.318434</td>\n",
       "      <td>...</td>\n",
       "      <td>0.078499</td>\n",
       "      <td>0.658942</td>\n",
       "      <td>-0.067810</td>\n",
       "      <td>0.476882</td>\n",
       "      <td>0.526830</td>\n",
       "      <td>0.219902</td>\n",
       "      <td>0.070627</td>\n",
       "      <td>0.028488</td>\n",
       "      <td>0.0</td>\n",
       "      <td>0</td>\n",
       "    </tr>\n",
       "  </tbody>\n",
       "</table>\n",
       "<p>5 rows × 31 columns</p>\n",
       "</div>"
      ],
      "text/plain": [
       "      Time        V1        V2        V3        V4        V5        V6  \\\n",
       "0    282.0 -0.356466  0.725418  1.971749  0.831343  0.369681 -0.107776   \n",
       "1  14332.0  1.071950  0.340678  1.784068  2.846396 -0.751538  0.403028   \n",
       "2  32799.0  1.153477 -0.047859  1.358363  1.480620 -1.222598 -0.481690   \n",
       "3  35799.0 -0.769798  0.622325  0.242491 -0.586652  0.527819 -0.104512   \n",
       "4  36419.0  1.047960  0.145048  1.624573  2.932652 -0.726574  0.690451   \n",
       "\n",
       "         V7        V8        V9  ...       V21       V22       V23       V24  \\\n",
       "0  0.751610 -0.120166 -0.420675  ...  0.020804  0.424312 -0.015989  0.466754   \n",
       "1 -0.734920  0.205807  1.092726  ... -0.169632 -0.113604  0.067643  0.468669   \n",
       "2 -0.654461  0.128115  0.907095  ...  0.125514  0.480049 -0.025964  0.701843   \n",
       "3  0.209909  0.669861 -0.304509  ...  0.152738  0.255654 -0.130237 -0.660934   \n",
       "4 -0.627288  0.278709  0.318434  ...  0.078499  0.658942 -0.067810  0.476882   \n",
       "\n",
       "        V25       V26       V27       V28  Amount  Class  \n",
       "0 -0.809962  0.657334 -0.043150 -0.046401     0.0      0  \n",
       "1  0.223541 -0.112355  0.014015  0.021504     0.0      0  \n",
       "2  0.417245 -0.257691  0.060115  0.035332     0.0      0  \n",
       "3 -0.493374  0.331855 -0.011101  0.049089     0.0      0  \n",
       "4  0.526830  0.219902  0.070627  0.028488     0.0      0  \n",
       "\n",
       "[5 rows x 31 columns]"
      ]
     },
     "execution_count": 12,
     "metadata": {},
     "output_type": "execute_result"
    }
   ],
   "source": [
    "source_data = bq.query(f'SELECT * FROM `{BQ_SOURCE}` LIMIT 5').to_dataframe()\n",
    "source_data"
   ]
  },
  {
   "cell_type": "code",
   "execution_count": 13,
   "id": "89b4e0e7-99b2-498c-b486-087037c4246b",
   "metadata": {
    "tags": []
   },
   "outputs": [
    {
     "data": {
      "text/plain": [
       "Time      float64\n",
       "V1        float64\n",
       "V2        float64\n",
       "V3        float64\n",
       "V4        float64\n",
       "V5        float64\n",
       "V6        float64\n",
       "V7        float64\n",
       "V8        float64\n",
       "V9        float64\n",
       "V10       float64\n",
       "V11       float64\n",
       "V12       float64\n",
       "V13       float64\n",
       "V14       float64\n",
       "V15       float64\n",
       "V16       float64\n",
       "V17       float64\n",
       "V18       float64\n",
       "V19       float64\n",
       "V20       float64\n",
       "V21       float64\n",
       "V22       float64\n",
       "V23       float64\n",
       "V24       float64\n",
       "V25       float64\n",
       "V26       float64\n",
       "V27       float64\n",
       "V28       float64\n",
       "Amount    float64\n",
       "Class       Int64\n",
       "dtype: object"
      ]
     },
     "execution_count": 13,
     "metadata": {},
     "output_type": "execute_result"
    }
   ],
   "source": [
    "source_data.dtypes"
   ]
  },
  {
   "cell_type": "markdown",
   "id": "2a065feb-43b7-4002-909c-b0e56587b767",
   "metadata": {},
   "source": [
    "---\n",
    "## Prepare Data Source\n",
    "\n",
    "The data preparation includes adding splits for machine learning with a column named `splits` with 80% for training (`TRAIN`), 10% for validation (`VALIDATE`) and 10% for testing (`TEST`). Additionally, a unique identifier was added to each transaction, `transaction_id`. \n",
    "\n",
    ">These steps could be done locally at training but are instead done in the source system, BigQuery in this case, which provides several advantages:\n",
    ">\n",
    ">-   **Single Source of Truth:** A single data preparation can benefit multiple model training jobs for different architectures or even different team members working on the same model. This ensures consistency and avoids duplication of effort.\n",
    ">-   **Leverage BigQuery's Power:** BigQuery is highly optimized for large-scale data processing. Performing these operations directly in BigQuery leverages its distributed processing capabilities, making the preparation significantly faster and more efficient than local processing, especially for massive datasets.\n",
    ">-   **Reduced Data Movement:** Preparing the data in BigQuery reduces the amount of data that needs to be moved out of BigQuery and into the training environment. This minimizes latency and potential bottlenecks associated with data transfer.\n",
    ">-   **Data Versioning and Reproducibility:** By preparing the splits and unique ID in BigQuery, the specific dataset used for training can be easily tracked and versioned. This enhances the reproducibility of experiments and makes it easier to understand the provenance of the data used in a particular model.\n",
    ">-   **Simplified Training Pipeline:** The training pipeline becomes simpler because it can directly read pre-split data from BigQuery, eliminating the need for complex splitting logic within the training code.\n",
    ">-   **Pre-calculated Joins and Features:** BigQuery can be used to pre-calculate joins and engineer new features that are beneficial for the model. This can improve model performance and further reduce the workload during the training phase.\n",
    ">\n",
    ">**Further Considerations:**\n",
    ">\n",
    ">-   **Data Governance and Security:** BigQuery offers robust data governance and security features. Performing data preparation within BigQuery allows you to maintain control over access and ensure data quality.\n",
    ">-   **Scalability:** This approach is highly scalable. As your dataset grows, BigQuery can handle the increased workload without requiring significant changes to your data preparation pipeline.\n",
    ">-   **Cost Optimization:** While moving large amounts of data out of BigQuery can incur costs, performing the preparation steps within BigQuery and only extracting the necessary data for training can often be more cost-effective.\n",
    ">\n",
    ">By preparing the data in BigQuery, you create a streamlined, efficient, and reproducible workflow (pipeline) that leverages the strengths of the platform and sets your machine learning models up for success.\n"
   ]
  },
  {
   "cell_type": "markdown",
   "id": "dedac88f-1721-497e-a665-2232b36afc6a",
   "metadata": {},
   "source": [
    "### Create/Recall Dataset"
   ]
  },
  {
   "cell_type": "code",
   "execution_count": 14,
   "id": "4addf3ab-d81c-457c-9ca1-c0e0a6d5bd54",
   "metadata": {
    "tags": []
   },
   "outputs": [],
   "source": [
    "dataset = bigquery.Dataset(f\"{BQ_PROJECT}.{BQ_DATASET}\")\n",
    "dataset.location = BQ_REGION\n",
    "bq_dataset = bq.create_dataset(dataset, exists_ok = True)"
   ]
  },
  {
   "cell_type": "markdown",
   "id": "efad3542-fbfe-44ba-ac11-958bf15cb661",
   "metadata": {},
   "source": [
    "### Create/Recall Table With Preparation For ML\n",
    "\n",
    "Copy the data from the source while adding columns:\n",
    "- `transaction_id` as a unique identify for the row\n",
    "    - Use the `GENERATE_UUID()` function\n",
    "- `splits` column to randomly assign rows to 'TRAIN\", \"VALIDATE\" and \"TEST\" groups\n",
    "    - stratified sampling within the levels of `class` by first assigning row numbers within the levels of `class` then using the with a CASE statment to assign the `splits` level."
   ]
  },
  {
   "cell_type": "code",
   "execution_count": 15,
   "id": "1447f44a-0018-4251-a97b-29fbea3eb9f0",
   "metadata": {
    "tags": []
   },
   "outputs": [
    {
     "data": {
      "text/plain": [
       "0.265"
      ]
     },
     "execution_count": 15,
     "metadata": {},
     "output_type": "execute_result"
    }
   ],
   "source": [
    "job = bq.query(f\"\"\"\n",
    "#CREATE OR REPLACE TABLE\n",
    "CREATE TABLE IF NOT EXISTS \n",
    "    `{BQ_PROJECT}.{BQ_DATASET}.{BQ_TABLE}` AS\n",
    "WITH\n",
    "    add_id AS (\n",
    "        SELECT *,\n",
    "            GENERATE_UUID() transaction_id,\n",
    "            ROW_NUMBER() OVER (PARTITION BY class ORDER BY RAND()) as rn\n",
    "            FROM `{BQ_SOURCE}`\n",
    "    )\n",
    "SELECT * EXCEPT(rn),\n",
    "    CASE \n",
    "        WHEN rn <= 0.8 * COUNT(*) OVER (PARTITION BY class) THEN 'TRAIN'\n",
    "        WHEN rn <= 0.9 * COUNT(*) OVER (PARTITION BY class) THEN 'VALIDATE'\n",
    "        ELSE 'TEST'\n",
    "    END AS splits\n",
    "FROM add_id\n",
    "\"\"\")\n",
    "job.result()\n",
    "(job.ended-job.started).total_seconds()"
   ]
  },
  {
   "cell_type": "code",
   "execution_count": 16,
   "id": "1bdb2e3a-4ce3-4414-a873-ca6ae51c517b",
   "metadata": {
    "tags": []
   },
   "outputs": [
    {
     "data": {
      "text/html": [
       "<div>\n",
       "<style scoped>\n",
       "    .dataframe tbody tr th:only-of-type {\n",
       "        vertical-align: middle;\n",
       "    }\n",
       "\n",
       "    .dataframe tbody tr th {\n",
       "        vertical-align: top;\n",
       "    }\n",
       "\n",
       "    .dataframe thead th {\n",
       "        text-align: right;\n",
       "    }\n",
       "</style>\n",
       "<table border=\"1\" class=\"dataframe\">\n",
       "  <thead>\n",
       "    <tr style=\"text-align: right;\">\n",
       "      <th></th>\n",
       "      <th>Time</th>\n",
       "      <th>V1</th>\n",
       "      <th>V2</th>\n",
       "      <th>V3</th>\n",
       "      <th>V4</th>\n",
       "      <th>V5</th>\n",
       "      <th>V6</th>\n",
       "      <th>V7</th>\n",
       "      <th>V8</th>\n",
       "      <th>V9</th>\n",
       "      <th>...</th>\n",
       "      <th>V23</th>\n",
       "      <th>V24</th>\n",
       "      <th>V25</th>\n",
       "      <th>V26</th>\n",
       "      <th>V27</th>\n",
       "      <th>V28</th>\n",
       "      <th>Amount</th>\n",
       "      <th>Class</th>\n",
       "      <th>transaction_id</th>\n",
       "      <th>splits</th>\n",
       "    </tr>\n",
       "  </thead>\n",
       "  <tbody>\n",
       "    <tr>\n",
       "      <th>0</th>\n",
       "      <td>122959.0</td>\n",
       "      <td>-1.327297</td>\n",
       "      <td>0.422904</td>\n",
       "      <td>1.617505</td>\n",
       "      <td>2.291196</td>\n",
       "      <td>2.375055</td>\n",
       "      <td>0.411735</td>\n",
       "      <td>0.213517</td>\n",
       "      <td>0.424743</td>\n",
       "      <td>-1.809624</td>\n",
       "      <td>...</td>\n",
       "      <td>0.192604</td>\n",
       "      <td>0.068281</td>\n",
       "      <td>-0.245725</td>\n",
       "      <td>-0.697654</td>\n",
       "      <td>0.038216</td>\n",
       "      <td>0.150059</td>\n",
       "      <td>0.0</td>\n",
       "      <td>0</td>\n",
       "      <td>c97b6e2f-603a-4dbe-9bca-0add881f2084</td>\n",
       "      <td>TEST</td>\n",
       "    </tr>\n",
       "    <tr>\n",
       "      <th>1</th>\n",
       "      <td>122312.0</td>\n",
       "      <td>-1.988557</td>\n",
       "      <td>-0.720301</td>\n",
       "      <td>0.863204</td>\n",
       "      <td>3.114494</td>\n",
       "      <td>1.847474</td>\n",
       "      <td>0.255881</td>\n",
       "      <td>0.580362</td>\n",
       "      <td>-0.083756</td>\n",
       "      <td>-0.939044</td>\n",
       "      <td>...</td>\n",
       "      <td>1.564951</td>\n",
       "      <td>0.546312</td>\n",
       "      <td>-0.548531</td>\n",
       "      <td>-0.746620</td>\n",
       "      <td>-0.748016</td>\n",
       "      <td>0.410640</td>\n",
       "      <td>0.0</td>\n",
       "      <td>0</td>\n",
       "      <td>791e403e-d59f-491d-b0b7-d8f8710c07fb</td>\n",
       "      <td>TEST</td>\n",
       "    </tr>\n",
       "    <tr>\n",
       "      <th>2</th>\n",
       "      <td>119592.0</td>\n",
       "      <td>2.139741</td>\n",
       "      <td>0.245651</td>\n",
       "      <td>-2.654856</td>\n",
       "      <td>0.178287</td>\n",
       "      <td>1.336991</td>\n",
       "      <td>-0.724664</td>\n",
       "      <td>0.906032</td>\n",
       "      <td>-0.436125</td>\n",
       "      <td>-0.528015</td>\n",
       "      <td>...</td>\n",
       "      <td>-0.216033</td>\n",
       "      <td>0.345316</td>\n",
       "      <td>0.747103</td>\n",
       "      <td>0.700184</td>\n",
       "      <td>-0.123739</td>\n",
       "      <td>-0.099989</td>\n",
       "      <td>0.0</td>\n",
       "      <td>0</td>\n",
       "      <td>d9e720c5-311d-4cf7-95cb-2256823803ba</td>\n",
       "      <td>TEST</td>\n",
       "    </tr>\n",
       "    <tr>\n",
       "      <th>3</th>\n",
       "      <td>114162.0</td>\n",
       "      <td>1.899800</td>\n",
       "      <td>0.368336</td>\n",
       "      <td>0.058981</td>\n",
       "      <td>3.734313</td>\n",
       "      <td>0.106120</td>\n",
       "      <td>0.707141</td>\n",
       "      <td>-0.472405</td>\n",
       "      <td>0.131502</td>\n",
       "      <td>-0.458634</td>\n",
       "      <td>...</td>\n",
       "      <td>0.168515</td>\n",
       "      <td>0.674750</td>\n",
       "      <td>-0.104164</td>\n",
       "      <td>0.041509</td>\n",
       "      <td>0.016028</td>\n",
       "      <td>-0.025852</td>\n",
       "      <td>0.0</td>\n",
       "      <td>0</td>\n",
       "      <td>1e2f3bb7-5c58-4f47-9c3d-d51e6298d6e3</td>\n",
       "      <td>TEST</td>\n",
       "    </tr>\n",
       "    <tr>\n",
       "      <th>4</th>\n",
       "      <td>36601.0</td>\n",
       "      <td>1.092339</td>\n",
       "      <td>-0.063143</td>\n",
       "      <td>1.345504</td>\n",
       "      <td>2.738232</td>\n",
       "      <td>-0.768844</td>\n",
       "      <td>0.857445</td>\n",
       "      <td>-0.842873</td>\n",
       "      <td>0.476848</td>\n",
       "      <td>0.501090</td>\n",
       "      <td>...</td>\n",
       "      <td>-0.159378</td>\n",
       "      <td>0.008694</td>\n",
       "      <td>0.568803</td>\n",
       "      <td>0.222004</td>\n",
       "      <td>0.032466</td>\n",
       "      <td>0.009505</td>\n",
       "      <td>0.0</td>\n",
       "      <td>0</td>\n",
       "      <td>b1ae958a-0801-453d-a838-b11b4306f559</td>\n",
       "      <td>TEST</td>\n",
       "    </tr>\n",
       "  </tbody>\n",
       "</table>\n",
       "<p>5 rows × 33 columns</p>\n",
       "</div>"
      ],
      "text/plain": [
       "       Time        V1        V2        V3        V4        V5        V6  \\\n",
       "0  122959.0 -1.327297  0.422904  1.617505  2.291196  2.375055  0.411735   \n",
       "1  122312.0 -1.988557 -0.720301  0.863204  3.114494  1.847474  0.255881   \n",
       "2  119592.0  2.139741  0.245651 -2.654856  0.178287  1.336991 -0.724664   \n",
       "3  114162.0  1.899800  0.368336  0.058981  3.734313  0.106120  0.707141   \n",
       "4   36601.0  1.092339 -0.063143  1.345504  2.738232 -0.768844  0.857445   \n",
       "\n",
       "         V7        V8        V9  ...       V23       V24       V25       V26  \\\n",
       "0  0.213517  0.424743 -1.809624  ...  0.192604  0.068281 -0.245725 -0.697654   \n",
       "1  0.580362 -0.083756 -0.939044  ...  1.564951  0.546312 -0.548531 -0.746620   \n",
       "2  0.906032 -0.436125 -0.528015  ... -0.216033  0.345316  0.747103  0.700184   \n",
       "3 -0.472405  0.131502 -0.458634  ...  0.168515  0.674750 -0.104164  0.041509   \n",
       "4 -0.842873  0.476848  0.501090  ... -0.159378  0.008694  0.568803  0.222004   \n",
       "\n",
       "        V27       V28  Amount  Class                        transaction_id  \\\n",
       "0  0.038216  0.150059     0.0      0  c97b6e2f-603a-4dbe-9bca-0add881f2084   \n",
       "1 -0.748016  0.410640     0.0      0  791e403e-d59f-491d-b0b7-d8f8710c07fb   \n",
       "2 -0.123739 -0.099989     0.0      0  d9e720c5-311d-4cf7-95cb-2256823803ba   \n",
       "3  0.016028 -0.025852     0.0      0  1e2f3bb7-5c58-4f47-9c3d-d51e6298d6e3   \n",
       "4  0.032466  0.009505     0.0      0  b1ae958a-0801-453d-a838-b11b4306f559   \n",
       "\n",
       "   splits  \n",
       "0    TEST  \n",
       "1    TEST  \n",
       "2    TEST  \n",
       "3    TEST  \n",
       "4    TEST  \n",
       "\n",
       "[5 rows x 33 columns]"
      ]
     },
     "execution_count": 16,
     "metadata": {},
     "output_type": "execute_result"
    }
   ],
   "source": [
    "raw_sample = bq.query(f'SELECT * FROM `{BQ_PROJECT}.{BQ_DATASET}.{BQ_TABLE}` LIMIT 5').to_dataframe()\n",
    "raw_sample"
   ]
  },
  {
   "cell_type": "markdown",
   "id": "a7d45865-4c64-43ae-aca6-fdf841b997ee",
   "metadata": {},
   "source": [
    "### Review the number of records for each level of `Class` for each of the data splits:"
   ]
  },
  {
   "cell_type": "code",
   "execution_count": 17,
   "id": "d672368c-ad85-42d2-a3ce-bb2595b50e9d",
   "metadata": {
    "tags": []
   },
   "outputs": [
    {
     "data": {
      "text/html": [
       "<div>\n",
       "<style scoped>\n",
       "    .dataframe tbody tr th:only-of-type {\n",
       "        vertical-align: middle;\n",
       "    }\n",
       "\n",
       "    .dataframe tbody tr th {\n",
       "        vertical-align: top;\n",
       "    }\n",
       "\n",
       "    .dataframe thead th {\n",
       "        text-align: right;\n",
       "    }\n",
       "</style>\n",
       "<table border=\"1\" class=\"dataframe\">\n",
       "  <thead>\n",
       "    <tr style=\"text-align: right;\">\n",
       "      <th></th>\n",
       "      <th>splits</th>\n",
       "      <th>class</th>\n",
       "      <th>count</th>\n",
       "      <th>percentage</th>\n",
       "    </tr>\n",
       "  </thead>\n",
       "  <tbody>\n",
       "    <tr>\n",
       "      <th>0</th>\n",
       "      <td>TEST</td>\n",
       "      <td>1</td>\n",
       "      <td>50</td>\n",
       "      <td>10.16</td>\n",
       "    </tr>\n",
       "    <tr>\n",
       "      <th>1</th>\n",
       "      <td>TRAIN</td>\n",
       "      <td>1</td>\n",
       "      <td>393</td>\n",
       "      <td>79.88</td>\n",
       "    </tr>\n",
       "    <tr>\n",
       "      <th>2</th>\n",
       "      <td>VALIDATE</td>\n",
       "      <td>1</td>\n",
       "      <td>49</td>\n",
       "      <td>9.96</td>\n",
       "    </tr>\n",
       "    <tr>\n",
       "      <th>3</th>\n",
       "      <td>TEST</td>\n",
       "      <td>0</td>\n",
       "      <td>28432</td>\n",
       "      <td>10.00</td>\n",
       "    </tr>\n",
       "    <tr>\n",
       "      <th>4</th>\n",
       "      <td>TRAIN</td>\n",
       "      <td>0</td>\n",
       "      <td>227452</td>\n",
       "      <td>80.00</td>\n",
       "    </tr>\n",
       "    <tr>\n",
       "      <th>5</th>\n",
       "      <td>VALIDATE</td>\n",
       "      <td>0</td>\n",
       "      <td>28431</td>\n",
       "      <td>10.00</td>\n",
       "    </tr>\n",
       "  </tbody>\n",
       "</table>\n",
       "</div>"
      ],
      "text/plain": [
       "     splits  class   count  percentage\n",
       "0      TEST      1      50       10.16\n",
       "1     TRAIN      1     393       79.88\n",
       "2  VALIDATE      1      49        9.96\n",
       "3      TEST      0   28432       10.00\n",
       "4     TRAIN      0  227452       80.00\n",
       "5  VALIDATE      0   28431       10.00"
      ]
     },
     "execution_count": 17,
     "metadata": {},
     "output_type": "execute_result"
    }
   ],
   "source": [
    "bq.query(f\"\"\"\n",
    "SELECT splits, class,\n",
    "    count(*) as count,\n",
    "    ROUND(count(*) * 100.0 / SUM(count(*)) OVER (PARTITION BY class), 2) AS percentage\n",
    "FROM `{BQ_PROJECT}.{BQ_DATASET}.{BQ_TABLE}`\n",
    "GROUP BY splits, class\n",
    "\"\"\").to_dataframe()"
   ]
  },
  {
   "cell_type": "markdown",
   "id": "4f540cea-a59b-45f4-b73f-97d1c3542c86",
   "metadata": {},
   "source": [
    "---\n",
    "## CatBoost\n",
    "\n",
    "Create a classification model with CatBoost!"
   ]
  },
  {
   "cell_type": "code",
   "execution_count": 18,
   "id": "55fcec0f-b8aa-4267-9cf3-70d1fcb0bc48",
   "metadata": {
    "tags": []
   },
   "outputs": [],
   "source": [
    "fraud_ds = bq.query(f'SELECT * FROM `{BQ_PROJECT}.{BQ_DATASET}.{BQ_TABLE}` ').to_dataframe()"
   ]
  },
  {
   "cell_type": "code",
   "execution_count": 19,
   "id": "620e8f40-20ac-4389-8476-06b464455128",
   "metadata": {
    "tags": []
   },
   "outputs": [
    {
     "data": {
      "text/html": [
       "<div>\n",
       "<style scoped>\n",
       "    .dataframe tbody tr th:only-of-type {\n",
       "        vertical-align: middle;\n",
       "    }\n",
       "\n",
       "    .dataframe tbody tr th {\n",
       "        vertical-align: top;\n",
       "    }\n",
       "\n",
       "    .dataframe thead th {\n",
       "        text-align: right;\n",
       "    }\n",
       "</style>\n",
       "<table border=\"1\" class=\"dataframe\">\n",
       "  <thead>\n",
       "    <tr style=\"text-align: right;\">\n",
       "      <th></th>\n",
       "      <th>Time</th>\n",
       "      <th>V1</th>\n",
       "      <th>V2</th>\n",
       "      <th>V3</th>\n",
       "      <th>V4</th>\n",
       "      <th>V5</th>\n",
       "      <th>V6</th>\n",
       "      <th>V7</th>\n",
       "      <th>V8</th>\n",
       "      <th>V9</th>\n",
       "      <th>...</th>\n",
       "      <th>V23</th>\n",
       "      <th>V24</th>\n",
       "      <th>V25</th>\n",
       "      <th>V26</th>\n",
       "      <th>V27</th>\n",
       "      <th>V28</th>\n",
       "      <th>Amount</th>\n",
       "      <th>Class</th>\n",
       "      <th>transaction_id</th>\n",
       "      <th>splits</th>\n",
       "    </tr>\n",
       "  </thead>\n",
       "  <tbody>\n",
       "    <tr>\n",
       "      <th>0</th>\n",
       "      <td>122959.0</td>\n",
       "      <td>-1.327297</td>\n",
       "      <td>0.422904</td>\n",
       "      <td>1.617505</td>\n",
       "      <td>2.291196</td>\n",
       "      <td>2.375055</td>\n",
       "      <td>0.411735</td>\n",
       "      <td>0.213517</td>\n",
       "      <td>0.424743</td>\n",
       "      <td>-1.809624</td>\n",
       "      <td>...</td>\n",
       "      <td>0.192604</td>\n",
       "      <td>0.068281</td>\n",
       "      <td>-0.245725</td>\n",
       "      <td>-0.697654</td>\n",
       "      <td>0.038216</td>\n",
       "      <td>0.150059</td>\n",
       "      <td>0.0</td>\n",
       "      <td>0</td>\n",
       "      <td>c97b6e2f-603a-4dbe-9bca-0add881f2084</td>\n",
       "      <td>TEST</td>\n",
       "    </tr>\n",
       "    <tr>\n",
       "      <th>1</th>\n",
       "      <td>122312.0</td>\n",
       "      <td>-1.988557</td>\n",
       "      <td>-0.720301</td>\n",
       "      <td>0.863204</td>\n",
       "      <td>3.114494</td>\n",
       "      <td>1.847474</td>\n",
       "      <td>0.255881</td>\n",
       "      <td>0.580362</td>\n",
       "      <td>-0.083756</td>\n",
       "      <td>-0.939044</td>\n",
       "      <td>...</td>\n",
       "      <td>1.564951</td>\n",
       "      <td>0.546312</td>\n",
       "      <td>-0.548531</td>\n",
       "      <td>-0.746620</td>\n",
       "      <td>-0.748016</td>\n",
       "      <td>0.410640</td>\n",
       "      <td>0.0</td>\n",
       "      <td>0</td>\n",
       "      <td>791e403e-d59f-491d-b0b7-d8f8710c07fb</td>\n",
       "      <td>TEST</td>\n",
       "    </tr>\n",
       "    <tr>\n",
       "      <th>2</th>\n",
       "      <td>119592.0</td>\n",
       "      <td>2.139741</td>\n",
       "      <td>0.245651</td>\n",
       "      <td>-2.654856</td>\n",
       "      <td>0.178287</td>\n",
       "      <td>1.336991</td>\n",
       "      <td>-0.724664</td>\n",
       "      <td>0.906032</td>\n",
       "      <td>-0.436125</td>\n",
       "      <td>-0.528015</td>\n",
       "      <td>...</td>\n",
       "      <td>-0.216033</td>\n",
       "      <td>0.345316</td>\n",
       "      <td>0.747103</td>\n",
       "      <td>0.700184</td>\n",
       "      <td>-0.123739</td>\n",
       "      <td>-0.099989</td>\n",
       "      <td>0.0</td>\n",
       "      <td>0</td>\n",
       "      <td>d9e720c5-311d-4cf7-95cb-2256823803ba</td>\n",
       "      <td>TEST</td>\n",
       "    </tr>\n",
       "    <tr>\n",
       "      <th>3</th>\n",
       "      <td>114162.0</td>\n",
       "      <td>1.899800</td>\n",
       "      <td>0.368336</td>\n",
       "      <td>0.058981</td>\n",
       "      <td>3.734313</td>\n",
       "      <td>0.106120</td>\n",
       "      <td>0.707141</td>\n",
       "      <td>-0.472405</td>\n",
       "      <td>0.131502</td>\n",
       "      <td>-0.458634</td>\n",
       "      <td>...</td>\n",
       "      <td>0.168515</td>\n",
       "      <td>0.674750</td>\n",
       "      <td>-0.104164</td>\n",
       "      <td>0.041509</td>\n",
       "      <td>0.016028</td>\n",
       "      <td>-0.025852</td>\n",
       "      <td>0.0</td>\n",
       "      <td>0</td>\n",
       "      <td>1e2f3bb7-5c58-4f47-9c3d-d51e6298d6e3</td>\n",
       "      <td>TEST</td>\n",
       "    </tr>\n",
       "    <tr>\n",
       "      <th>4</th>\n",
       "      <td>36601.0</td>\n",
       "      <td>1.092339</td>\n",
       "      <td>-0.063143</td>\n",
       "      <td>1.345504</td>\n",
       "      <td>2.738232</td>\n",
       "      <td>-0.768844</td>\n",
       "      <td>0.857445</td>\n",
       "      <td>-0.842873</td>\n",
       "      <td>0.476848</td>\n",
       "      <td>0.501090</td>\n",
       "      <td>...</td>\n",
       "      <td>-0.159378</td>\n",
       "      <td>0.008694</td>\n",
       "      <td>0.568803</td>\n",
       "      <td>0.222004</td>\n",
       "      <td>0.032466</td>\n",
       "      <td>0.009505</td>\n",
       "      <td>0.0</td>\n",
       "      <td>0</td>\n",
       "      <td>b1ae958a-0801-453d-a838-b11b4306f559</td>\n",
       "      <td>TEST</td>\n",
       "    </tr>\n",
       "  </tbody>\n",
       "</table>\n",
       "<p>5 rows × 33 columns</p>\n",
       "</div>"
      ],
      "text/plain": [
       "       Time        V1        V2        V3        V4        V5        V6  \\\n",
       "0  122959.0 -1.327297  0.422904  1.617505  2.291196  2.375055  0.411735   \n",
       "1  122312.0 -1.988557 -0.720301  0.863204  3.114494  1.847474  0.255881   \n",
       "2  119592.0  2.139741  0.245651 -2.654856  0.178287  1.336991 -0.724664   \n",
       "3  114162.0  1.899800  0.368336  0.058981  3.734313  0.106120  0.707141   \n",
       "4   36601.0  1.092339 -0.063143  1.345504  2.738232 -0.768844  0.857445   \n",
       "\n",
       "         V7        V8        V9  ...       V23       V24       V25       V26  \\\n",
       "0  0.213517  0.424743 -1.809624  ...  0.192604  0.068281 -0.245725 -0.697654   \n",
       "1  0.580362 -0.083756 -0.939044  ...  1.564951  0.546312 -0.548531 -0.746620   \n",
       "2  0.906032 -0.436125 -0.528015  ... -0.216033  0.345316  0.747103  0.700184   \n",
       "3 -0.472405  0.131502 -0.458634  ...  0.168515  0.674750 -0.104164  0.041509   \n",
       "4 -0.842873  0.476848  0.501090  ... -0.159378  0.008694  0.568803  0.222004   \n",
       "\n",
       "        V27       V28  Amount  Class                        transaction_id  \\\n",
       "0  0.038216  0.150059     0.0      0  c97b6e2f-603a-4dbe-9bca-0add881f2084   \n",
       "1 -0.748016  0.410640     0.0      0  791e403e-d59f-491d-b0b7-d8f8710c07fb   \n",
       "2 -0.123739 -0.099989     0.0      0  d9e720c5-311d-4cf7-95cb-2256823803ba   \n",
       "3  0.016028 -0.025852     0.0      0  1e2f3bb7-5c58-4f47-9c3d-d51e6298d6e3   \n",
       "4  0.032466  0.009505     0.0      0  b1ae958a-0801-453d-a838-b11b4306f559   \n",
       "\n",
       "   splits  \n",
       "0    TEST  \n",
       "1    TEST  \n",
       "2    TEST  \n",
       "3    TEST  \n",
       "4    TEST  \n",
       "\n",
       "[5 rows x 33 columns]"
      ]
     },
     "execution_count": 19,
     "metadata": {},
     "output_type": "execute_result"
    }
   ],
   "source": [
    "fraud_ds.head()"
   ]
  },
  {
   "cell_type": "markdown",
   "id": "5e351674-bf5b-4668-9f91-c2805aa9db02",
   "metadata": {},
   "source": [
    "### Data Preparation"
   ]
  },
  {
   "cell_type": "code",
   "execution_count": 20,
   "id": "3f9509d6-a26c-426c-9c6f-33b0de7bb3e9",
   "metadata": {
    "tags": []
   },
   "outputs": [],
   "source": [
    "X = fraud_ds.drop(['Class', 'splits', 'transaction_id'], axis = 1)\n",
    "y = fraud_ds.Class\n",
    "splits = fraud_ds.splits"
   ]
  },
  {
   "cell_type": "code",
   "execution_count": 21,
   "id": "0f8110f4-16bc-4a5e-ab96-a1226241db72",
   "metadata": {
    "tags": []
   },
   "outputs": [],
   "source": [
    "train = catboost.Pool(\n",
    "    data = X.loc[splits[splits == 'TRAIN'].index],\n",
    "    label = y.loc[splits[splits == 'TRAIN'].index]\n",
    ")\n",
    "validate = catboost.Pool(\n",
    "    data = X.loc[splits[splits == 'VALIDATE'].index],\n",
    "    label = y.loc[splits[splits == 'VALIDATE'].index]\n",
    ")\n",
    "test = catboost.Pool(\n",
    "    data = X.loc[splits[splits == 'TEST'].index],\n",
    "    label = y.loc[splits[splits == 'TEST'].index]\n",
    ")"
   ]
  },
  {
   "cell_type": "code",
   "execution_count": 22,
   "id": "dfe6b6b5-99fe-4b6f-ba29-10444f107c84",
   "metadata": {
    "tags": []
   },
   "outputs": [
    {
     "data": {
      "text/plain": [
       "array([[ 1.2295900e+05, -1.3272969e+00,  4.2290440e-01, ...,\n",
       "         3.8215715e-02,  1.5005928e-01,  0.0000000e+00],\n",
       "       [ 1.2231200e+05, -1.9885573e+00, -7.2030121e-01, ...,\n",
       "        -7.4801606e-01,  4.1064048e-01,  0.0000000e+00],\n",
       "       [ 1.1959200e+05,  2.1397414e+00,  2.4565051e-01, ...,\n",
       "        -1.2373914e-01, -9.9989004e-02,  0.0000000e+00],\n",
       "       ...,\n",
       "       [ 4.1978000e+04, -1.1839743e+01, -1.7711660e+01, ...,\n",
       "        -2.1989217e+00,  5.9216279e-01,  6.6690000e+03],\n",
       "       [ 1.4154600e+05, -1.3396920e+01, -1.9230654e+01, ...,\n",
       "        -2.4025252e+00,  6.2645215e-01,  7.5417002e+03],\n",
       "       [ 1.3397100e+05, -1.0950172e+01, -1.3359133e+01, ...,\n",
       "         3.4149287e+00, -2.4553494e+00,  7.5833198e+03]], dtype=float32)"
      ]
     },
     "execution_count": 22,
     "metadata": {},
     "output_type": "execute_result"
    }
   ],
   "source": [
    "test.get_features()"
   ]
  },
  {
   "cell_type": "code",
   "execution_count": 23,
   "id": "60509c93-f48c-49ab-b53e-142ca05e32f4",
   "metadata": {
    "tags": []
   },
   "outputs": [
    {
     "data": {
      "text/plain": [
       "array([0, 0, 0, ..., 0, 0, 0])"
      ]
     },
     "execution_count": 23,
     "metadata": {},
     "output_type": "execute_result"
    }
   ],
   "source": [
    "test.get_label()"
   ]
  },
  {
   "cell_type": "code",
   "execution_count": 124,
   "id": "801bfcd7-f3d1-46ce-af8b-c25285c56ecf",
   "metadata": {
    "tags": []
   },
   "outputs": [
    {
     "data": {
      "text/plain": [
       "['Time',\n",
       " 'V1',\n",
       " 'V2',\n",
       " 'V3',\n",
       " 'V4',\n",
       " 'V5',\n",
       " 'V6',\n",
       " 'V7',\n",
       " 'V8',\n",
       " 'V9',\n",
       " 'V10',\n",
       " 'V11',\n",
       " 'V12',\n",
       " 'V13',\n",
       " 'V14',\n",
       " 'V15',\n",
       " 'V16',\n",
       " 'V17',\n",
       " 'V18',\n",
       " 'V19',\n",
       " 'V20',\n",
       " 'V21',\n",
       " 'V22',\n",
       " 'V23',\n",
       " 'V24',\n",
       " 'V25',\n",
       " 'V26',\n",
       " 'V27',\n",
       " 'V28',\n",
       " 'Amount']"
      ]
     },
     "execution_count": 124,
     "metadata": {},
     "output_type": "execute_result"
    }
   ],
   "source": [
    "test.get_feature_names()"
   ]
  },
  {
   "cell_type": "markdown",
   "id": "e18fc356-7d04-46bc-ae78-c8af9abb1b9b",
   "metadata": {},
   "source": [
    "### Training"
   ]
  },
  {
   "cell_type": "code",
   "execution_count": 24,
   "id": "0185f2db-48a0-44dc-beca-8a13f2f4501e",
   "metadata": {
    "tags": []
   },
   "outputs": [],
   "source": [
    "model = catboost.CatBoostClassifier(\n",
    "    custom_loss = [catboost.metrics.Accuracy()],\n",
    "    random_seed = 42,\n",
    "    iterations = 200,\n",
    "    verbose = False\n",
    ")"
   ]
  },
  {
   "cell_type": "code",
   "execution_count": 25,
   "id": "799f36c8-8845-49b3-9fb7-6affb2292091",
   "metadata": {
    "tags": []
   },
   "outputs": [
    {
     "data": {
      "text/plain": [
       "<catboost.core.CatBoostClassifier at 0x7f67c6c79f30>"
      ]
     },
     "execution_count": 25,
     "metadata": {},
     "output_type": "execute_result"
    }
   ],
   "source": [
    "model.fit(\n",
    "    train,\n",
    "    eval_set = validate\n",
    ")"
   ]
  },
  {
   "cell_type": "code",
   "execution_count": 26,
   "id": "6b5e5ac1-12d3-4068-8042-d6faffdbf48c",
   "metadata": {
    "tags": []
   },
   "outputs": [
    {
     "data": {
      "text/plain": [
       "{'learn': {'Accuracy': 0.9998990541815708, 'Logloss': 0.0004048203700029978},\n",
       " 'validation': {'Accuracy': 0.9995084269662922,\n",
       "  'Logloss': 0.00273288839898787}}"
      ]
     },
     "execution_count": 26,
     "metadata": {},
     "output_type": "execute_result"
    }
   ],
   "source": [
    "model.get_best_score()"
   ]
  },
  {
   "cell_type": "code",
   "execution_count": 27,
   "id": "3b36d33a-b435-4d30-b2f8-4277183e5279",
   "metadata": {
    "tags": []
   },
   "outputs": [
    {
     "data": {
      "text/plain": [
       "82"
      ]
     },
     "execution_count": 27,
     "metadata": {},
     "output_type": "execute_result"
    }
   ],
   "source": [
    "model.get_best_iteration()"
   ]
  },
  {
   "cell_type": "code",
   "execution_count": 28,
   "id": "2ae2bf94-5277-47ff-b45a-dd148903a759",
   "metadata": {
    "tags": []
   },
   "outputs": [
    {
     "data": {
      "text/plain": [
       "{'iterations': 200,\n",
       " 'random_seed': 42,\n",
       " 'verbose': False,\n",
       " 'custom_loss': ['Accuracy']}"
      ]
     },
     "execution_count": 28,
     "metadata": {},
     "output_type": "execute_result"
    }
   ],
   "source": [
    "model.get_params()"
   ]
  },
  {
   "cell_type": "code",
   "execution_count": 29,
   "id": "af877f7d-feb1-4ed9-b94e-8bd77a95d5ae",
   "metadata": {
    "tags": []
   },
   "outputs": [
    {
     "data": {
      "text/plain": [
       "{'nan_mode': 'Min',\n",
       " 'eval_metric': 'Logloss',\n",
       " 'iterations': 200,\n",
       " 'sampling_frequency': 'PerTree',\n",
       " 'leaf_estimation_method': 'Newton',\n",
       " 'random_score_type': 'NormalWithModelSizeDecrease',\n",
       " 'grow_policy': 'SymmetricTree',\n",
       " 'penalties_coefficient': 1,\n",
       " 'boosting_type': 'Plain',\n",
       " 'model_shrink_mode': 'Constant',\n",
       " 'feature_border_type': 'GreedyLogSum',\n",
       " 'bayesian_matrix_reg': 0.10000000149011612,\n",
       " 'eval_fraction': 0,\n",
       " 'force_unit_auto_pair_weights': False,\n",
       " 'l2_leaf_reg': 3,\n",
       " 'random_strength': 1,\n",
       " 'rsm': 1,\n",
       " 'boost_from_average': False,\n",
       " 'model_size_reg': 0.5,\n",
       " 'pool_metainfo_options': {'tags': {}},\n",
       " 'subsample': 0.800000011920929,\n",
       " 'use_best_model': True,\n",
       " 'class_names': [0, 1],\n",
       " 'random_seed': 42,\n",
       " 'depth': 6,\n",
       " 'posterior_sampling': False,\n",
       " 'border_count': 254,\n",
       " 'classes_count': 0,\n",
       " 'auto_class_weights': 'None',\n",
       " 'sparse_features_conflict_fraction': 0,\n",
       " 'custom_metric': ['Accuracy'],\n",
       " 'leaf_estimation_backtracking': 'AnyImprovement',\n",
       " 'best_model_min_trees': 1,\n",
       " 'model_shrink_rate': 0,\n",
       " 'min_data_in_leaf': 1,\n",
       " 'loss_function': 'Logloss',\n",
       " 'learning_rate': 0.24394799768924713,\n",
       " 'score_function': 'Cosine',\n",
       " 'task_type': 'CPU',\n",
       " 'leaf_estimation_iterations': 10,\n",
       " 'bootstrap_type': 'MVS',\n",
       " 'max_leaves': 64}"
      ]
     },
     "execution_count": 29,
     "metadata": {},
     "output_type": "execute_result"
    }
   ],
   "source": [
    "model.get_all_params()"
   ]
  },
  {
   "cell_type": "code",
   "execution_count": 30,
   "id": "7f92e760-fc21-4f26-be96-7238d5d7088b",
   "metadata": {
    "tags": []
   },
   "outputs": [
    {
     "data": {
      "text/plain": [
       "array([5.9769503 , 8.77533424, 1.27417443, 1.96087674, 6.56868677,\n",
       "       1.83339665, 0.57225891, 3.05519495, 4.47331785, 1.20274528,\n",
       "       3.56519154, 0.73516155, 8.0913563 , 3.23143865, 7.07069407,\n",
       "       1.97354978, 1.09628735, 2.12153536, 4.74912861, 2.99038196,\n",
       "       4.09587334, 0.57192636, 4.75732832, 1.60996094, 5.72042669,\n",
       "       0.8883944 , 5.6854436 , 1.09930879, 1.86488034, 2.3887959 ])"
      ]
     },
     "execution_count": 30,
     "metadata": {},
     "output_type": "execute_result"
    }
   ],
   "source": [
    "model.get_feature_importance()"
   ]
  },
  {
   "cell_type": "code",
   "execution_count": 31,
   "id": "4943520b-9c61-4eee-88ac-1a2746be7573",
   "metadata": {
    "tags": []
   },
   "outputs": [
    {
     "data": {
      "image/svg+xml": [
       "<?xml version=\"1.0\" encoding=\"UTF-8\" standalone=\"no\"?>\n",
       "<!DOCTYPE svg PUBLIC \"-//W3C//DTD SVG 1.1//EN\"\n",
       " \"http://www.w3.org/Graphics/SVG/1.1/DTD/svg11.dtd\">\n",
       "<!-- Generated by graphviz version 2.43.0 (0)\n",
       " -->\n",
       "<!-- Title: %3 Pages: 1 -->\n",
       "<svg width=\"7593pt\" height=\"566pt\"\n",
       " viewBox=\"0.00 0.00 7592.50 566.00\" xmlns=\"http://www.w3.org/2000/svg\" xmlns:xlink=\"http://www.w3.org/1999/xlink\">\n",
       "<g id=\"graph0\" class=\"graph\" transform=\"scale(1 1) rotate(0) translate(4 562)\">\n",
       "<title>%3</title>\n",
       "<polygon fill=\"white\" stroke=\"transparent\" points=\"-4,4 -4,-562 7588.5,-562 7588.5,4 -4,4\"/>\n",
       "<!-- 0 -->\n",
       "<g id=\"node1\" class=\"node\">\n",
       "<title>0</title>\n",
       "<ellipse fill=\"none\" stroke=\"black\" cx=\"3919.5\" cy=\"-540\" rx=\"102.08\" ry=\"18\"/>\n",
       "<text text-anchor=\"middle\" x=\"3919.5\" y=\"-536.3\" font-family=\"Times,serif\" font-size=\"14.00\">20, value&gt;&#45;2.82302</text>\n",
       "</g>\n",
       "<!-- 1 -->\n",
       "<g id=\"node2\" class=\"node\">\n",
       "<title>1</title>\n",
       "<ellipse fill=\"none\" stroke=\"black\" cx=\"2632.5\" cy=\"-453\" rx=\"87.18\" ry=\"18\"/>\n",
       "<text text-anchor=\"middle\" x=\"2632.5\" y=\"-449.3\" font-family=\"Times,serif\" font-size=\"14.00\">29, value&gt;0.885</text>\n",
       "</g>\n",
       "<!-- 0&#45;&gt;1 -->\n",
       "<g id=\"edge1\" class=\"edge\">\n",
       "<title>0&#45;&gt;1</title>\n",
       "<path fill=\"none\" stroke=\"black\" d=\"M3825.91,-532.82C3587.66,-517.08 2960.43,-475.66 2724.23,-460.06\"/>\n",
       "<polygon fill=\"black\" stroke=\"black\" points=\"2724.17,-456.55 2713.96,-459.38 2723.7,-463.53 2724.17,-456.55\"/>\n",
       "<text text-anchor=\"middle\" x=\"3364\" y=\"-492.8\" font-family=\"Times,serif\" font-size=\"14.00\">No</text>\n",
       "</g>\n",
       "<!-- 2 -->\n",
       "<g id=\"node3\" class=\"node\">\n",
       "<title>2</title>\n",
       "<ellipse fill=\"none\" stroke=\"black\" cx=\"4578.5\" cy=\"-453\" rx=\"87.18\" ry=\"18\"/>\n",
       "<text text-anchor=\"middle\" x=\"4578.5\" y=\"-449.3\" font-family=\"Times,serif\" font-size=\"14.00\">29, value&gt;0.885</text>\n",
       "</g>\n",
       "<!-- 0&#45;&gt;2 -->\n",
       "<g id=\"edge2\" class=\"edge\">\n",
       "<title>0&#45;&gt;2</title>\n",
       "<path fill=\"none\" stroke=\"black\" d=\"M3999.32,-528.7C4125.43,-512.44 4369.5,-480.96 4496.79,-464.54\"/>\n",
       "<polygon fill=\"black\" stroke=\"black\" points=\"4497.4,-467.99 4506.87,-463.24 4496.5,-461.05 4497.4,-467.99\"/>\n",
       "<text text-anchor=\"middle\" x=\"4301\" y=\"-492.8\" font-family=\"Times,serif\" font-size=\"14.00\">Yes</text>\n",
       "</g>\n",
       "<!-- 3 -->\n",
       "<g id=\"node4\" class=\"node\">\n",
       "<title>3</title>\n",
       "<ellipse fill=\"none\" stroke=\"black\" cx=\"1469.5\" cy=\"-366\" rx=\"104.78\" ry=\"18\"/>\n",
       "<text text-anchor=\"middle\" x=\"1469.5\" y=\"-362.3\" font-family=\"Times,serif\" font-size=\"14.00\">15, value&gt;0.373657</text>\n",
       "</g>\n",
       "<!-- 1&#45;&gt;3 -->\n",
       "<g id=\"edge3\" class=\"edge\">\n",
       "<title>1&#45;&gt;3</title>\n",
       "<path fill=\"none\" stroke=\"black\" d=\"M2551.64,-446.09C2345.95,-431.06 1802.88,-391.37 1573.79,-374.62\"/>\n",
       "<polygon fill=\"black\" stroke=\"black\" points=\"1574.01,-371.13 1563.78,-373.89 1573.5,-378.11 1574.01,-371.13\"/>\n",
       "<text text-anchor=\"middle\" x=\"2132\" y=\"-405.8\" font-family=\"Times,serif\" font-size=\"14.00\">No</text>\n",
       "</g>\n",
       "<!-- 4 -->\n",
       "<g id=\"node5\" class=\"node\">\n",
       "<title>4</title>\n",
       "<ellipse fill=\"none\" stroke=\"black\" cx=\"2632.5\" cy=\"-366\" rx=\"104.78\" ry=\"18\"/>\n",
       "<text text-anchor=\"middle\" x=\"2632.5\" y=\"-362.3\" font-family=\"Times,serif\" font-size=\"14.00\">15, value&gt;0.373657</text>\n",
       "</g>\n",
       "<!-- 1&#45;&gt;4 -->\n",
       "<g id=\"edge4\" class=\"edge\">\n",
       "<title>1&#45;&gt;4</title>\n",
       "<path fill=\"none\" stroke=\"black\" d=\"M2632.5,-434.8C2632.5,-423.16 2632.5,-407.55 2632.5,-394.24\"/>\n",
       "<polygon fill=\"black\" stroke=\"black\" points=\"2636,-394.18 2632.5,-384.18 2629,-394.18 2636,-394.18\"/>\n",
       "<text text-anchor=\"middle\" x=\"2645\" y=\"-405.8\" font-family=\"Times,serif\" font-size=\"14.00\">Yes</text>\n",
       "</g>\n",
       "<!-- 5 -->\n",
       "<g id=\"node6\" class=\"node\">\n",
       "<title>5</title>\n",
       "<ellipse fill=\"none\" stroke=\"black\" cx=\"4578.5\" cy=\"-366\" rx=\"104.78\" ry=\"18\"/>\n",
       "<text text-anchor=\"middle\" x=\"4578.5\" y=\"-362.3\" font-family=\"Times,serif\" font-size=\"14.00\">15, value&gt;0.373657</text>\n",
       "</g>\n",
       "<!-- 2&#45;&gt;5 -->\n",
       "<g id=\"edge5\" class=\"edge\">\n",
       "<title>2&#45;&gt;5</title>\n",
       "<path fill=\"none\" stroke=\"black\" d=\"M4578.5,-434.8C4578.5,-423.16 4578.5,-407.55 4578.5,-394.24\"/>\n",
       "<polygon fill=\"black\" stroke=\"black\" points=\"4582,-394.18 4578.5,-384.18 4575,-394.18 4582,-394.18\"/>\n",
       "<text text-anchor=\"middle\" x=\"4589\" y=\"-405.8\" font-family=\"Times,serif\" font-size=\"14.00\">No</text>\n",
       "</g>\n",
       "<!-- 6 -->\n",
       "<g id=\"node7\" class=\"node\">\n",
       "<title>6</title>\n",
       "<ellipse fill=\"none\" stroke=\"black\" cx=\"6068.5\" cy=\"-366\" rx=\"104.78\" ry=\"18\"/>\n",
       "<text text-anchor=\"middle\" x=\"6068.5\" y=\"-362.3\" font-family=\"Times,serif\" font-size=\"14.00\">15, value&gt;0.373657</text>\n",
       "</g>\n",
       "<!-- 2&#45;&gt;6 -->\n",
       "<g id=\"edge6\" class=\"edge\">\n",
       "<title>2&#45;&gt;6</title>\n",
       "<path fill=\"none\" stroke=\"black\" d=\"M4661.27,-447.28C4914.19,-432.85 5676.92,-389.34 5960.65,-373.15\"/>\n",
       "<polygon fill=\"black\" stroke=\"black\" points=\"5961.16,-376.63 5970.95,-372.57 5960.76,-369.64 5961.16,-376.63\"/>\n",
       "<text text-anchor=\"middle\" x=\"5426\" y=\"-405.8\" font-family=\"Times,serif\" font-size=\"14.00\">Yes</text>\n",
       "</g>\n",
       "<!-- 7 -->\n",
       "<g id=\"node8\" class=\"node\">\n",
       "<title>7</title>\n",
       "<ellipse fill=\"none\" stroke=\"black\" cx=\"731.5\" cy=\"-279\" rx=\"104.78\" ry=\"18\"/>\n",
       "<text text-anchor=\"middle\" x=\"731.5\" y=\"-275.3\" font-family=\"Times,serif\" font-size=\"14.00\">15, value&gt;0.355546</text>\n",
       "</g>\n",
       "<!-- 3&#45;&gt;7 -->\n",
       "<g id=\"edge7\" class=\"edge\">\n",
       "<title>3&#45;&gt;7</title>\n",
       "<path fill=\"none\" stroke=\"black\" d=\"M1385.2,-355.29C1246.52,-339.32 971.17,-307.6 826.05,-290.89\"/>\n",
       "<polygon fill=\"black\" stroke=\"black\" points=\"826.17,-287.38 815.83,-289.71 825.37,-294.33 826.17,-287.38\"/>\n",
       "<text text-anchor=\"middle\" x=\"1156\" y=\"-318.8\" font-family=\"Times,serif\" font-size=\"14.00\">No</text>\n",
       "</g>\n",
       "<!-- 8 -->\n",
       "<g id=\"node9\" class=\"node\">\n",
       "<title>8</title>\n",
       "<ellipse fill=\"none\" stroke=\"black\" cx=\"1469.5\" cy=\"-279\" rx=\"104.78\" ry=\"18\"/>\n",
       "<text text-anchor=\"middle\" x=\"1469.5\" y=\"-275.3\" font-family=\"Times,serif\" font-size=\"14.00\">15, value&gt;0.355546</text>\n",
       "</g>\n",
       "<!-- 3&#45;&gt;8 -->\n",
       "<g id=\"edge8\" class=\"edge\">\n",
       "<title>3&#45;&gt;8</title>\n",
       "<path fill=\"none\" stroke=\"black\" d=\"M1469.5,-347.8C1469.5,-336.16 1469.5,-320.55 1469.5,-307.24\"/>\n",
       "<polygon fill=\"black\" stroke=\"black\" points=\"1473,-307.18 1469.5,-297.18 1466,-307.18 1473,-307.18\"/>\n",
       "<text text-anchor=\"middle\" x=\"1482\" y=\"-318.8\" font-family=\"Times,serif\" font-size=\"14.00\">Yes</text>\n",
       "</g>\n",
       "<!-- 9 -->\n",
       "<g id=\"node10\" class=\"node\">\n",
       "<title>9</title>\n",
       "<ellipse fill=\"none\" stroke=\"black\" cx=\"2526.5\" cy=\"-279\" rx=\"104.78\" ry=\"18\"/>\n",
       "<text text-anchor=\"middle\" x=\"2526.5\" y=\"-275.3\" font-family=\"Times,serif\" font-size=\"14.00\">15, value&gt;0.355546</text>\n",
       "</g>\n",
       "<!-- 4&#45;&gt;9 -->\n",
       "<g id=\"edge9\" class=\"edge\">\n",
       "<title>4&#45;&gt;9</title>\n",
       "<path fill=\"none\" stroke=\"black\" d=\"M2611.56,-348.21C2595.44,-335.28 2572.99,-317.28 2555.2,-303.02\"/>\n",
       "<polygon fill=\"black\" stroke=\"black\" points=\"2557.39,-300.28 2547.4,-296.76 2553.01,-305.74 2557.39,-300.28\"/>\n",
       "<text text-anchor=\"middle\" x=\"2597\" y=\"-318.8\" font-family=\"Times,serif\" font-size=\"14.00\">No</text>\n",
       "</g>\n",
       "<!-- 10 -->\n",
       "<g id=\"node11\" class=\"node\">\n",
       "<title>10</title>\n",
       "<ellipse fill=\"none\" stroke=\"black\" cx=\"3037.5\" cy=\"-279\" rx=\"104.78\" ry=\"18\"/>\n",
       "<text text-anchor=\"middle\" x=\"3037.5\" y=\"-275.3\" font-family=\"Times,serif\" font-size=\"14.00\">15, value&gt;0.355546</text>\n",
       "</g>\n",
       "<!-- 4&#45;&gt;10 -->\n",
       "<g id=\"edge10\" class=\"edge\">\n",
       "<title>4&#45;&gt;10</title>\n",
       "<path fill=\"none\" stroke=\"black\" d=\"M2696.23,-351.63C2768.82,-336.39 2887.25,-311.53 2963.77,-295.47\"/>\n",
       "<polygon fill=\"black\" stroke=\"black\" points=\"2964.74,-298.85 2973.81,-293.37 2963.31,-292 2964.74,-298.85\"/>\n",
       "<text text-anchor=\"middle\" x=\"2872\" y=\"-318.8\" font-family=\"Times,serif\" font-size=\"14.00\">Yes</text>\n",
       "</g>\n",
       "<!-- 11 -->\n",
       "<g id=\"node12\" class=\"node\">\n",
       "<title>11</title>\n",
       "<ellipse fill=\"none\" stroke=\"black\" cx=\"4449.5\" cy=\"-279\" rx=\"104.78\" ry=\"18\"/>\n",
       "<text text-anchor=\"middle\" x=\"4449.5\" y=\"-275.3\" font-family=\"Times,serif\" font-size=\"14.00\">15, value&gt;0.355546</text>\n",
       "</g>\n",
       "<!-- 5&#45;&gt;11 -->\n",
       "<g id=\"edge11\" class=\"edge\">\n",
       "<title>5&#45;&gt;11</title>\n",
       "<path fill=\"none\" stroke=\"black\" d=\"M4553.32,-348.41C4533.25,-335.19 4504.98,-316.56 4483,-302.07\"/>\n",
       "<polygon fill=\"black\" stroke=\"black\" points=\"4484.89,-299.13 4474.62,-296.55 4481.04,-304.97 4484.89,-299.13\"/>\n",
       "<text text-anchor=\"middle\" x=\"4533\" y=\"-318.8\" font-family=\"Times,serif\" font-size=\"14.00\">No</text>\n",
       "</g>\n",
       "<!-- 12 -->\n",
       "<g id=\"node13\" class=\"node\">\n",
       "<title>12</title>\n",
       "<ellipse fill=\"none\" stroke=\"black\" cx=\"4898.5\" cy=\"-279\" rx=\"104.78\" ry=\"18\"/>\n",
       "<text text-anchor=\"middle\" x=\"4898.5\" y=\"-275.3\" font-family=\"Times,serif\" font-size=\"14.00\">15, value&gt;0.355546</text>\n",
       "</g>\n",
       "<!-- 5&#45;&gt;12 -->\n",
       "<g id=\"edge12\" class=\"edge\">\n",
       "<title>5&#45;&gt;12</title>\n",
       "<path fill=\"none\" stroke=\"black\" d=\"M4632.78,-350.58C4688.49,-335.78 4775.15,-312.76 4834.25,-297.07\"/>\n",
       "<polygon fill=\"black\" stroke=\"black\" points=\"4835.45,-300.37 4844.22,-294.42 4833.65,-293.6 4835.45,-300.37\"/>\n",
       "<text text-anchor=\"middle\" x=\"4771\" y=\"-318.8\" font-family=\"Times,serif\" font-size=\"14.00\">Yes</text>\n",
       "</g>\n",
       "<!-- 13 -->\n",
       "<g id=\"node14\" class=\"node\">\n",
       "<title>13</title>\n",
       "<ellipse fill=\"none\" stroke=\"black\" cx=\"6068.5\" cy=\"-279\" rx=\"104.78\" ry=\"18\"/>\n",
       "<text text-anchor=\"middle\" x=\"6068.5\" y=\"-275.3\" font-family=\"Times,serif\" font-size=\"14.00\">15, value&gt;0.355546</text>\n",
       "</g>\n",
       "<!-- 6&#45;&gt;13 -->\n",
       "<g id=\"edge13\" class=\"edge\">\n",
       "<title>6&#45;&gt;13</title>\n",
       "<path fill=\"none\" stroke=\"black\" d=\"M6068.5,-347.8C6068.5,-336.16 6068.5,-320.55 6068.5,-307.24\"/>\n",
       "<polygon fill=\"black\" stroke=\"black\" points=\"6072,-307.18 6068.5,-297.18 6065,-307.18 6072,-307.18\"/>\n",
       "<text text-anchor=\"middle\" x=\"6079\" y=\"-318.8\" font-family=\"Times,serif\" font-size=\"14.00\">No</text>\n",
       "</g>\n",
       "<!-- 14 -->\n",
       "<g id=\"node15\" class=\"node\">\n",
       "<title>14</title>\n",
       "<ellipse fill=\"none\" stroke=\"black\" cx=\"6770.5\" cy=\"-279\" rx=\"104.78\" ry=\"18\"/>\n",
       "<text text-anchor=\"middle\" x=\"6770.5\" y=\"-275.3\" font-family=\"Times,serif\" font-size=\"14.00\">15, value&gt;0.355546</text>\n",
       "</g>\n",
       "<!-- 6&#45;&gt;14 -->\n",
       "<g id=\"edge14\" class=\"edge\">\n",
       "<title>6&#45;&gt;14</title>\n",
       "<path fill=\"none\" stroke=\"black\" d=\"M6151.44,-354.96C6283.2,-339 6539.5,-307.97 6677.38,-291.28\"/>\n",
       "<polygon fill=\"black\" stroke=\"black\" points=\"6677.99,-294.73 6687.5,-290.05 6677.15,-287.78 6677.99,-294.73\"/>\n",
       "<text text-anchor=\"middle\" x=\"6475\" y=\"-318.8\" font-family=\"Times,serif\" font-size=\"14.00\">Yes</text>\n",
       "</g>\n",
       "<!-- 15 -->\n",
       "<g id=\"node16\" class=\"node\">\n",
       "<title>15</title>\n",
       "<ellipse fill=\"none\" stroke=\"black\" cx=\"393.5\" cy=\"-192\" rx=\"102.08\" ry=\"18\"/>\n",
       "<text text-anchor=\"middle\" x=\"393.5\" y=\"-188.3\" font-family=\"Times,serif\" font-size=\"14.00\">13, value&gt;&#45;1.56529</text>\n",
       "</g>\n",
       "<!-- 7&#45;&gt;15 -->\n",
       "<g id=\"edge15\" class=\"edge\">\n",
       "<title>7&#45;&gt;15</title>\n",
       "<path fill=\"none\" stroke=\"black\" d=\"M674.93,-263.77C615.43,-248.81 521.92,-225.3 459.21,-209.52\"/>\n",
       "<polygon fill=\"black\" stroke=\"black\" points=\"459.97,-206.11 449.41,-207.06 458.26,-212.89 459.97,-206.11\"/>\n",
       "<text text-anchor=\"middle\" x=\"594\" y=\"-231.8\" font-family=\"Times,serif\" font-size=\"14.00\">No</text>\n",
       "</g>\n",
       "<!-- 16 -->\n",
       "<g id=\"node17\" class=\"node\">\n",
       "<title>16</title>\n",
       "<ellipse fill=\"none\" stroke=\"black\" cx=\"731.5\" cy=\"-192\" rx=\"102.08\" ry=\"18\"/>\n",
       "<text text-anchor=\"middle\" x=\"731.5\" y=\"-188.3\" font-family=\"Times,serif\" font-size=\"14.00\">13, value&gt;&#45;1.56529</text>\n",
       "</g>\n",
       "<!-- 7&#45;&gt;16 -->\n",
       "<g id=\"edge16\" class=\"edge\">\n",
       "<title>7&#45;&gt;16</title>\n",
       "<path fill=\"none\" stroke=\"black\" d=\"M731.5,-260.8C731.5,-249.16 731.5,-233.55 731.5,-220.24\"/>\n",
       "<polygon fill=\"black\" stroke=\"black\" points=\"735,-220.18 731.5,-210.18 728,-220.18 735,-220.18\"/>\n",
       "<text text-anchor=\"middle\" x=\"744\" y=\"-231.8\" font-family=\"Times,serif\" font-size=\"14.00\">Yes</text>\n",
       "</g>\n",
       "<!-- 17 -->\n",
       "<g id=\"node18\" class=\"node\">\n",
       "<title>17</title>\n",
       "<ellipse fill=\"none\" stroke=\"black\" cx=\"1329.5\" cy=\"-192\" rx=\"102.08\" ry=\"18\"/>\n",
       "<text text-anchor=\"middle\" x=\"1329.5\" y=\"-188.3\" font-family=\"Times,serif\" font-size=\"14.00\">13, value&gt;&#45;1.56529</text>\n",
       "</g>\n",
       "<!-- 8&#45;&gt;17 -->\n",
       "<g id=\"edge17\" class=\"edge\">\n",
       "<title>8&#45;&gt;17</title>\n",
       "<path fill=\"none\" stroke=\"black\" d=\"M1442.17,-261.41C1420.3,-248.13 1389.44,-229.39 1365.54,-214.88\"/>\n",
       "<polygon fill=\"black\" stroke=\"black\" points=\"1367.12,-211.75 1356.76,-209.55 1363.49,-217.73 1367.12,-211.75\"/>\n",
       "<text text-anchor=\"middle\" x=\"1419\" y=\"-231.8\" font-family=\"Times,serif\" font-size=\"14.00\">No</text>\n",
       "</g>\n",
       "<!-- 18 -->\n",
       "<g id=\"node19\" class=\"node\">\n",
       "<title>18</title>\n",
       "<ellipse fill=\"none\" stroke=\"black\" cx=\"1563.5\" cy=\"-192\" rx=\"102.08\" ry=\"18\"/>\n",
       "<text text-anchor=\"middle\" x=\"1563.5\" y=\"-188.3\" font-family=\"Times,serif\" font-size=\"14.00\">13, value&gt;&#45;1.56529</text>\n",
       "</g>\n",
       "<!-- 8&#45;&gt;18 -->\n",
       "<g id=\"edge18\" class=\"edge\">\n",
       "<title>8&#45;&gt;18</title>\n",
       "<path fill=\"none\" stroke=\"black\" d=\"M1488.07,-261.21C1502.1,-248.52 1521.55,-230.93 1537.19,-216.79\"/>\n",
       "<polygon fill=\"black\" stroke=\"black\" points=\"1539.9,-219.06 1544.97,-209.76 1535.2,-213.87 1539.9,-219.06\"/>\n",
       "<text text-anchor=\"middle\" x=\"1535\" y=\"-231.8\" font-family=\"Times,serif\" font-size=\"14.00\">Yes</text>\n",
       "</g>\n",
       "<!-- 19 -->\n",
       "<g id=\"node20\" class=\"node\">\n",
       "<title>19</title>\n",
       "<ellipse fill=\"none\" stroke=\"black\" cx=\"2265.5\" cy=\"-192\" rx=\"102.08\" ry=\"18\"/>\n",
       "<text text-anchor=\"middle\" x=\"2265.5\" y=\"-188.3\" font-family=\"Times,serif\" font-size=\"14.00\">13, value&gt;&#45;1.56529</text>\n",
       "</g>\n",
       "<!-- 9&#45;&gt;19 -->\n",
       "<g id=\"edge19\" class=\"edge\">\n",
       "<title>9&#45;&gt;19</title>\n",
       "<path fill=\"none\" stroke=\"black\" d=\"M2479.84,-262.8C2435.49,-248.36 2368.73,-226.62 2321.52,-211.24\"/>\n",
       "<polygon fill=\"black\" stroke=\"black\" points=\"2322.35,-207.83 2311.76,-208.06 2320.18,-214.49 2322.35,-207.83\"/>\n",
       "<text text-anchor=\"middle\" x=\"2423\" y=\"-231.8\" font-family=\"Times,serif\" font-size=\"14.00\">No</text>\n",
       "</g>\n",
       "<!-- 20 -->\n",
       "<g id=\"node21\" class=\"node\">\n",
       "<title>20</title>\n",
       "<ellipse fill=\"none\" stroke=\"black\" cx=\"2526.5\" cy=\"-192\" rx=\"102.08\" ry=\"18\"/>\n",
       "<text text-anchor=\"middle\" x=\"2526.5\" y=\"-188.3\" font-family=\"Times,serif\" font-size=\"14.00\">13, value&gt;&#45;1.56529</text>\n",
       "</g>\n",
       "<!-- 9&#45;&gt;20 -->\n",
       "<g id=\"edge20\" class=\"edge\">\n",
       "<title>9&#45;&gt;20</title>\n",
       "<path fill=\"none\" stroke=\"black\" d=\"M2526.5,-260.8C2526.5,-249.16 2526.5,-233.55 2526.5,-220.24\"/>\n",
       "<polygon fill=\"black\" stroke=\"black\" points=\"2530,-220.18 2526.5,-210.18 2523,-220.18 2530,-220.18\"/>\n",
       "<text text-anchor=\"middle\" x=\"2539\" y=\"-231.8\" font-family=\"Times,serif\" font-size=\"14.00\">Yes</text>\n",
       "</g>\n",
       "<!-- 21 -->\n",
       "<g id=\"node22\" class=\"node\">\n",
       "<title>21</title>\n",
       "<ellipse fill=\"none\" stroke=\"black\" cx=\"3037.5\" cy=\"-192\" rx=\"102.08\" ry=\"18\"/>\n",
       "<text text-anchor=\"middle\" x=\"3037.5\" y=\"-188.3\" font-family=\"Times,serif\" font-size=\"14.00\">13, value&gt;&#45;1.56529</text>\n",
       "</g>\n",
       "<!-- 10&#45;&gt;21 -->\n",
       "<g id=\"edge21\" class=\"edge\">\n",
       "<title>10&#45;&gt;21</title>\n",
       "<path fill=\"none\" stroke=\"black\" d=\"M3037.5,-260.8C3037.5,-249.16 3037.5,-233.55 3037.5,-220.24\"/>\n",
       "<polygon fill=\"black\" stroke=\"black\" points=\"3041,-220.18 3037.5,-210.18 3034,-220.18 3041,-220.18\"/>\n",
       "<text text-anchor=\"middle\" x=\"3048\" y=\"-231.8\" font-family=\"Times,serif\" font-size=\"14.00\">No</text>\n",
       "</g>\n",
       "<!-- 22 -->\n",
       "<g id=\"node23\" class=\"node\">\n",
       "<title>22</title>\n",
       "<ellipse fill=\"none\" stroke=\"black\" cx=\"3435.5\" cy=\"-192\" rx=\"102.08\" ry=\"18\"/>\n",
       "<text text-anchor=\"middle\" x=\"3435.5\" y=\"-188.3\" font-family=\"Times,serif\" font-size=\"14.00\">13, value&gt;&#45;1.56529</text>\n",
       "</g>\n",
       "<!-- 10&#45;&gt;22 -->\n",
       "<g id=\"edge22\" class=\"edge\">\n",
       "<title>10&#45;&gt;22</title>\n",
       "<path fill=\"none\" stroke=\"black\" d=\"M3100.56,-264.53C3171.99,-249.28 3288.17,-224.46 3363.21,-208.44\"/>\n",
       "<polygon fill=\"black\" stroke=\"black\" points=\"3364.01,-211.85 3373.06,-206.34 3362.55,-205 3364.01,-211.85\"/>\n",
       "<text text-anchor=\"middle\" x=\"3273\" y=\"-231.8\" font-family=\"Times,serif\" font-size=\"14.00\">Yes</text>\n",
       "</g>\n",
       "<!-- 23 -->\n",
       "<g id=\"node24\" class=\"node\">\n",
       "<title>23</title>\n",
       "<ellipse fill=\"none\" stroke=\"black\" cx=\"4137.5\" cy=\"-192\" rx=\"102.08\" ry=\"18\"/>\n",
       "<text text-anchor=\"middle\" x=\"4137.5\" y=\"-188.3\" font-family=\"Times,serif\" font-size=\"14.00\">13, value&gt;&#45;1.56529</text>\n",
       "</g>\n",
       "<!-- 11&#45;&gt;23 -->\n",
       "<g id=\"edge23\" class=\"edge\">\n",
       "<title>11&#45;&gt;23</title>\n",
       "<path fill=\"none\" stroke=\"black\" d=\"M4396.22,-263.48C4341.93,-248.69 4257.75,-225.76 4200.26,-210.1\"/>\n",
       "<polygon fill=\"black\" stroke=\"black\" points=\"4201.13,-206.71 4190.56,-207.46 4199.29,-213.46 4201.13,-206.71\"/>\n",
       "<text text-anchor=\"middle\" x=\"4323\" y=\"-231.8\" font-family=\"Times,serif\" font-size=\"14.00\">No</text>\n",
       "</g>\n",
       "<!-- 24 -->\n",
       "<g id=\"node25\" class=\"node\">\n",
       "<title>24</title>\n",
       "<ellipse fill=\"none\" stroke=\"black\" cx=\"4449.5\" cy=\"-192\" rx=\"102.08\" ry=\"18\"/>\n",
       "<text text-anchor=\"middle\" x=\"4449.5\" y=\"-188.3\" font-family=\"Times,serif\" font-size=\"14.00\">13, value&gt;&#45;1.56529</text>\n",
       "</g>\n",
       "<!-- 11&#45;&gt;24 -->\n",
       "<g id=\"edge24\" class=\"edge\">\n",
       "<title>11&#45;&gt;24</title>\n",
       "<path fill=\"none\" stroke=\"black\" d=\"M4449.5,-260.8C4449.5,-249.16 4449.5,-233.55 4449.5,-220.24\"/>\n",
       "<polygon fill=\"black\" stroke=\"black\" points=\"4453,-220.18 4449.5,-210.18 4446,-220.18 4453,-220.18\"/>\n",
       "<text text-anchor=\"middle\" x=\"4462\" y=\"-231.8\" font-family=\"Times,serif\" font-size=\"14.00\">Yes</text>\n",
       "</g>\n",
       "<!-- 25 -->\n",
       "<g id=\"node26\" class=\"node\">\n",
       "<title>25</title>\n",
       "<ellipse fill=\"none\" stroke=\"black\" cx=\"4898.5\" cy=\"-192\" rx=\"102.08\" ry=\"18\"/>\n",
       "<text text-anchor=\"middle\" x=\"4898.5\" y=\"-188.3\" font-family=\"Times,serif\" font-size=\"14.00\">13, value&gt;&#45;1.56529</text>\n",
       "</g>\n",
       "<!-- 12&#45;&gt;25 -->\n",
       "<g id=\"edge25\" class=\"edge\">\n",
       "<title>12&#45;&gt;25</title>\n",
       "<path fill=\"none\" stroke=\"black\" d=\"M4898.5,-260.8C4898.5,-249.16 4898.5,-233.55 4898.5,-220.24\"/>\n",
       "<polygon fill=\"black\" stroke=\"black\" points=\"4902,-220.18 4898.5,-210.18 4895,-220.18 4902,-220.18\"/>\n",
       "<text text-anchor=\"middle\" x=\"4909\" y=\"-231.8\" font-family=\"Times,serif\" font-size=\"14.00\">No</text>\n",
       "</g>\n",
       "<!-- 26 -->\n",
       "<g id=\"node27\" class=\"node\">\n",
       "<title>26</title>\n",
       "<ellipse fill=\"none\" stroke=\"black\" cx=\"5307.5\" cy=\"-192\" rx=\"102.08\" ry=\"18\"/>\n",
       "<text text-anchor=\"middle\" x=\"5307.5\" y=\"-188.3\" font-family=\"Times,serif\" font-size=\"14.00\">13, value&gt;&#45;1.56529</text>\n",
       "</g>\n",
       "<!-- 12&#45;&gt;26 -->\n",
       "<g id=\"edge26\" class=\"edge\">\n",
       "<title>12&#45;&gt;26</title>\n",
       "<path fill=\"none\" stroke=\"black\" d=\"M4962.41,-264.72C5035.94,-249.44 5156.49,-224.38 5233.89,-208.3\"/>\n",
       "<polygon fill=\"black\" stroke=\"black\" points=\"5234.96,-211.65 5244.04,-206.19 5233.54,-204.8 5234.96,-211.65\"/>\n",
       "<text text-anchor=\"middle\" x=\"5140\" y=\"-231.8\" font-family=\"Times,serif\" font-size=\"14.00\">Yes</text>\n",
       "</g>\n",
       "<!-- 27 -->\n",
       "<g id=\"node28\" class=\"node\">\n",
       "<title>27</title>\n",
       "<ellipse fill=\"none\" stroke=\"black\" cx=\"6009.5\" cy=\"-192\" rx=\"102.08\" ry=\"18\"/>\n",
       "<text text-anchor=\"middle\" x=\"6009.5\" y=\"-188.3\" font-family=\"Times,serif\" font-size=\"14.00\">13, value&gt;&#45;1.56529</text>\n",
       "</g>\n",
       "<!-- 13&#45;&gt;27 -->\n",
       "<g id=\"edge27\" class=\"edge\">\n",
       "<title>13&#45;&gt;27</title>\n",
       "<path fill=\"none\" stroke=\"black\" d=\"M6056.56,-260.8C6048.11,-248.62 6036.63,-232.09 6027.13,-218.4\"/>\n",
       "<polygon fill=\"black\" stroke=\"black\" points=\"6029.8,-216.1 6021.22,-209.89 6024.05,-220.1 6029.8,-216.1\"/>\n",
       "<text text-anchor=\"middle\" x=\"6054\" y=\"-231.8\" font-family=\"Times,serif\" font-size=\"14.00\">No</text>\n",
       "</g>\n",
       "<!-- 28 -->\n",
       "<g id=\"node29\" class=\"node\">\n",
       "<title>28</title>\n",
       "<ellipse fill=\"none\" stroke=\"black\" cx=\"6243.5\" cy=\"-192\" rx=\"102.08\" ry=\"18\"/>\n",
       "<text text-anchor=\"middle\" x=\"6243.5\" y=\"-188.3\" font-family=\"Times,serif\" font-size=\"14.00\">13, value&gt;&#45;1.56529</text>\n",
       "</g>\n",
       "<!-- 13&#45;&gt;28 -->\n",
       "<g id=\"edge28\" class=\"edge\">\n",
       "<title>13&#45;&gt;28</title>\n",
       "<path fill=\"none\" stroke=\"black\" d=\"M6101.83,-261.81C6130.05,-248.11 6170.66,-228.38 6201.18,-213.56\"/>\n",
       "<polygon fill=\"black\" stroke=\"black\" points=\"6202.83,-216.65 6210.3,-209.13 6199.77,-210.35 6202.83,-216.65\"/>\n",
       "<text text-anchor=\"middle\" x=\"6179\" y=\"-231.8\" font-family=\"Times,serif\" font-size=\"14.00\">Yes</text>\n",
       "</g>\n",
       "<!-- 29 -->\n",
       "<g id=\"node30\" class=\"node\">\n",
       "<title>29</title>\n",
       "<ellipse fill=\"none\" stroke=\"black\" cx=\"6770.5\" cy=\"-192\" rx=\"102.08\" ry=\"18\"/>\n",
       "<text text-anchor=\"middle\" x=\"6770.5\" y=\"-188.3\" font-family=\"Times,serif\" font-size=\"14.00\">13, value&gt;&#45;1.56529</text>\n",
       "</g>\n",
       "<!-- 14&#45;&gt;29 -->\n",
       "<g id=\"edge29\" class=\"edge\">\n",
       "<title>14&#45;&gt;29</title>\n",
       "<path fill=\"none\" stroke=\"black\" d=\"M6770.5,-260.8C6770.5,-249.16 6770.5,-233.55 6770.5,-220.24\"/>\n",
       "<polygon fill=\"black\" stroke=\"black\" points=\"6774,-220.18 6770.5,-210.18 6767,-220.18 6774,-220.18\"/>\n",
       "<text text-anchor=\"middle\" x=\"6781\" y=\"-231.8\" font-family=\"Times,serif\" font-size=\"14.00\">No</text>\n",
       "</g>\n",
       "<!-- 30 -->\n",
       "<g id=\"node31\" class=\"node\">\n",
       "<title>30</title>\n",
       "<ellipse fill=\"none\" stroke=\"black\" cx=\"7179.5\" cy=\"-192\" rx=\"102.08\" ry=\"18\"/>\n",
       "<text text-anchor=\"middle\" x=\"7179.5\" y=\"-188.3\" font-family=\"Times,serif\" font-size=\"14.00\">13, value&gt;&#45;1.56529</text>\n",
       "</g>\n",
       "<!-- 14&#45;&gt;30 -->\n",
       "<g id=\"edge30\" class=\"edge\">\n",
       "<title>14&#45;&gt;30</title>\n",
       "<path fill=\"none\" stroke=\"black\" d=\"M6834.41,-264.72C6907.94,-249.44 7028.49,-224.38 7105.89,-208.3\"/>\n",
       "<polygon fill=\"black\" stroke=\"black\" points=\"7106.96,-211.65 7116.04,-206.19 7105.54,-204.8 7106.96,-211.65\"/>\n",
       "<text text-anchor=\"middle\" x=\"7012\" y=\"-231.8\" font-family=\"Times,serif\" font-size=\"14.00\">Yes</text>\n",
       "</g>\n",
       "<!-- 31 -->\n",
       "<g id=\"node32\" class=\"node\">\n",
       "<title>31</title>\n",
       "<ellipse fill=\"none\" stroke=\"black\" cx=\"159.5\" cy=\"-105\" rx=\"107.78\" ry=\"18\"/>\n",
       "<text text-anchor=\"middle\" x=\"159.5\" y=\"-101.3\" font-family=\"Times,serif\" font-size=\"14.00\">20, value&gt;&#45;0.976181</text>\n",
       "</g>\n",
       "<!-- 15&#45;&gt;31 -->\n",
       "<g id=\"edge31\" class=\"edge\">\n",
       "<title>15&#45;&gt;31</title>\n",
       "<path fill=\"none\" stroke=\"black\" d=\"M351.12,-175.61C312.02,-161.4 253.84,-140.27 211.85,-125.02\"/>\n",
       "<polygon fill=\"black\" stroke=\"black\" points=\"212.95,-121.69 202.35,-121.57 210.56,-128.27 212.95,-121.69\"/>\n",
       "<text text-anchor=\"middle\" x=\"302\" y=\"-144.8\" font-family=\"Times,serif\" font-size=\"14.00\">No</text>\n",
       "</g>\n",
       "<!-- 32 -->\n",
       "<g id=\"node33\" class=\"node\">\n",
       "<title>32</title>\n",
       "<ellipse fill=\"none\" stroke=\"black\" cx=\"393.5\" cy=\"-105\" rx=\"107.78\" ry=\"18\"/>\n",
       "<text text-anchor=\"middle\" x=\"393.5\" y=\"-101.3\" font-family=\"Times,serif\" font-size=\"14.00\">20, value&gt;&#45;0.976181</text>\n",
       "</g>\n",
       "<!-- 15&#45;&gt;32 -->\n",
       "<g id=\"edge32\" class=\"edge\">\n",
       "<title>15&#45;&gt;32</title>\n",
       "<path fill=\"none\" stroke=\"black\" d=\"M393.5,-173.8C393.5,-162.16 393.5,-146.55 393.5,-133.24\"/>\n",
       "<polygon fill=\"black\" stroke=\"black\" points=\"397,-133.18 393.5,-123.18 390,-133.18 397,-133.18\"/>\n",
       "<text text-anchor=\"middle\" x=\"406\" y=\"-144.8\" font-family=\"Times,serif\" font-size=\"14.00\">Yes</text>\n",
       "</g>\n",
       "<!-- 33 -->\n",
       "<g id=\"node34\" class=\"node\">\n",
       "<title>33</title>\n",
       "<ellipse fill=\"none\" stroke=\"black\" cx=\"627.5\" cy=\"-105\" rx=\"107.78\" ry=\"18\"/>\n",
       "<text text-anchor=\"middle\" x=\"627.5\" y=\"-101.3\" font-family=\"Times,serif\" font-size=\"14.00\">20, value&gt;&#45;0.976181</text>\n",
       "</g>\n",
       "<!-- 16&#45;&gt;33 -->\n",
       "<g id=\"edge33\" class=\"edge\">\n",
       "<title>16&#45;&gt;33</title>\n",
       "<path fill=\"none\" stroke=\"black\" d=\"M710.95,-174.21C695.28,-161.4 673.51,-143.61 656.14,-129.4\"/>\n",
       "<polygon fill=\"black\" stroke=\"black\" points=\"657.96,-126.38 648,-122.76 653.53,-131.8 657.96,-126.38\"/>\n",
       "<text text-anchor=\"middle\" x=\"697\" y=\"-144.8\" font-family=\"Times,serif\" font-size=\"14.00\">No</text>\n",
       "</g>\n",
       "<!-- 34 -->\n",
       "<g id=\"node35\" class=\"node\">\n",
       "<title>34</title>\n",
       "<ellipse fill=\"none\" stroke=\"black\" cx=\"861.5\" cy=\"-105\" rx=\"107.78\" ry=\"18\"/>\n",
       "<text text-anchor=\"middle\" x=\"861.5\" y=\"-101.3\" font-family=\"Times,serif\" font-size=\"14.00\">20, value&gt;&#45;0.976181</text>\n",
       "</g>\n",
       "<!-- 16&#45;&gt;34 -->\n",
       "<g id=\"edge34\" class=\"edge\">\n",
       "<title>16&#45;&gt;34</title>\n",
       "<path fill=\"none\" stroke=\"black\" d=\"M756.87,-174.41C777.1,-161.19 805.59,-142.56 827.74,-128.07\"/>\n",
       "<polygon fill=\"black\" stroke=\"black\" points=\"829.74,-130.95 836.19,-122.55 825.9,-125.09 829.74,-130.95\"/>\n",
       "<text text-anchor=\"middle\" x=\"817\" y=\"-144.8\" font-family=\"Times,serif\" font-size=\"14.00\">Yes</text>\n",
       "</g>\n",
       "<!-- 35 -->\n",
       "<g id=\"node36\" class=\"node\">\n",
       "<title>35</title>\n",
       "<ellipse fill=\"none\" stroke=\"black\" cx=\"1095.5\" cy=\"-105\" rx=\"107.78\" ry=\"18\"/>\n",
       "<text text-anchor=\"middle\" x=\"1095.5\" y=\"-101.3\" font-family=\"Times,serif\" font-size=\"14.00\">20, value&gt;&#45;0.976181</text>\n",
       "</g>\n",
       "<!-- 17&#45;&gt;35 -->\n",
       "<g id=\"edge35\" class=\"edge\">\n",
       "<title>17&#45;&gt;35</title>\n",
       "<path fill=\"none\" stroke=\"black\" d=\"M1287.12,-175.61C1248.02,-161.4 1189.84,-140.27 1147.85,-125.02\"/>\n",
       "<polygon fill=\"black\" stroke=\"black\" points=\"1148.95,-121.69 1138.35,-121.57 1146.56,-128.27 1148.95,-121.69\"/>\n",
       "<text text-anchor=\"middle\" x=\"1238\" y=\"-144.8\" font-family=\"Times,serif\" font-size=\"14.00\">No</text>\n",
       "</g>\n",
       "<!-- 36 -->\n",
       "<g id=\"node37\" class=\"node\">\n",
       "<title>36</title>\n",
       "<ellipse fill=\"none\" stroke=\"black\" cx=\"1329.5\" cy=\"-105\" rx=\"107.78\" ry=\"18\"/>\n",
       "<text text-anchor=\"middle\" x=\"1329.5\" y=\"-101.3\" font-family=\"Times,serif\" font-size=\"14.00\">20, value&gt;&#45;0.976181</text>\n",
       "</g>\n",
       "<!-- 17&#45;&gt;36 -->\n",
       "<g id=\"edge36\" class=\"edge\">\n",
       "<title>17&#45;&gt;36</title>\n",
       "<path fill=\"none\" stroke=\"black\" d=\"M1329.5,-173.8C1329.5,-162.16 1329.5,-146.55 1329.5,-133.24\"/>\n",
       "<polygon fill=\"black\" stroke=\"black\" points=\"1333,-133.18 1329.5,-123.18 1326,-133.18 1333,-133.18\"/>\n",
       "<text text-anchor=\"middle\" x=\"1342\" y=\"-144.8\" font-family=\"Times,serif\" font-size=\"14.00\">Yes</text>\n",
       "</g>\n",
       "<!-- 37 -->\n",
       "<g id=\"node38\" class=\"node\">\n",
       "<title>37</title>\n",
       "<ellipse fill=\"none\" stroke=\"black\" cx=\"1563.5\" cy=\"-105\" rx=\"107.78\" ry=\"18\"/>\n",
       "<text text-anchor=\"middle\" x=\"1563.5\" y=\"-101.3\" font-family=\"Times,serif\" font-size=\"14.00\">20, value&gt;&#45;0.976181</text>\n",
       "</g>\n",
       "<!-- 18&#45;&gt;37 -->\n",
       "<g id=\"edge37\" class=\"edge\">\n",
       "<title>18&#45;&gt;37</title>\n",
       "<path fill=\"none\" stroke=\"black\" d=\"M1563.5,-173.8C1563.5,-162.16 1563.5,-146.55 1563.5,-133.24\"/>\n",
       "<polygon fill=\"black\" stroke=\"black\" points=\"1567,-133.18 1563.5,-123.18 1560,-133.18 1567,-133.18\"/>\n",
       "<text text-anchor=\"middle\" x=\"1574\" y=\"-144.8\" font-family=\"Times,serif\" font-size=\"14.00\">No</text>\n",
       "</g>\n",
       "<!-- 38 -->\n",
       "<g id=\"node39\" class=\"node\">\n",
       "<title>38</title>\n",
       "<ellipse fill=\"none\" stroke=\"black\" cx=\"1797.5\" cy=\"-105\" rx=\"107.78\" ry=\"18\"/>\n",
       "<text text-anchor=\"middle\" x=\"1797.5\" y=\"-101.3\" font-family=\"Times,serif\" font-size=\"14.00\">20, value&gt;&#45;0.976181</text>\n",
       "</g>\n",
       "<!-- 18&#45;&gt;38 -->\n",
       "<g id=\"edge38\" class=\"edge\">\n",
       "<title>18&#45;&gt;38</title>\n",
       "<path fill=\"none\" stroke=\"black\" d=\"M1605.88,-175.61C1644.98,-161.4 1703.16,-140.27 1745.15,-125.02\"/>\n",
       "<polygon fill=\"black\" stroke=\"black\" points=\"1746.44,-128.27 1754.65,-121.57 1744.05,-121.69 1746.44,-128.27\"/>\n",
       "<text text-anchor=\"middle\" x=\"1708\" y=\"-144.8\" font-family=\"Times,serif\" font-size=\"14.00\">Yes</text>\n",
       "</g>\n",
       "<!-- 39 -->\n",
       "<g id=\"node40\" class=\"node\">\n",
       "<title>39</title>\n",
       "<ellipse fill=\"none\" stroke=\"black\" cx=\"2031.5\" cy=\"-105\" rx=\"107.78\" ry=\"18\"/>\n",
       "<text text-anchor=\"middle\" x=\"2031.5\" y=\"-101.3\" font-family=\"Times,serif\" font-size=\"14.00\">20, value&gt;&#45;0.976181</text>\n",
       "</g>\n",
       "<!-- 19&#45;&gt;39 -->\n",
       "<g id=\"edge39\" class=\"edge\">\n",
       "<title>19&#45;&gt;39</title>\n",
       "<path fill=\"none\" stroke=\"black\" d=\"M2223.12,-175.61C2184.02,-161.4 2125.84,-140.27 2083.85,-125.02\"/>\n",
       "<polygon fill=\"black\" stroke=\"black\" points=\"2084.95,-121.69 2074.35,-121.57 2082.56,-128.27 2084.95,-121.69\"/>\n",
       "<text text-anchor=\"middle\" x=\"2174\" y=\"-144.8\" font-family=\"Times,serif\" font-size=\"14.00\">No</text>\n",
       "</g>\n",
       "<!-- 40 -->\n",
       "<g id=\"node41\" class=\"node\">\n",
       "<title>40</title>\n",
       "<ellipse fill=\"none\" stroke=\"black\" cx=\"2265.5\" cy=\"-105\" rx=\"107.78\" ry=\"18\"/>\n",
       "<text text-anchor=\"middle\" x=\"2265.5\" y=\"-101.3\" font-family=\"Times,serif\" font-size=\"14.00\">20, value&gt;&#45;0.976181</text>\n",
       "</g>\n",
       "<!-- 19&#45;&gt;40 -->\n",
       "<g id=\"edge40\" class=\"edge\">\n",
       "<title>19&#45;&gt;40</title>\n",
       "<path fill=\"none\" stroke=\"black\" d=\"M2265.5,-173.8C2265.5,-162.16 2265.5,-146.55 2265.5,-133.24\"/>\n",
       "<polygon fill=\"black\" stroke=\"black\" points=\"2269,-133.18 2265.5,-123.18 2262,-133.18 2269,-133.18\"/>\n",
       "<text text-anchor=\"middle\" x=\"2278\" y=\"-144.8\" font-family=\"Times,serif\" font-size=\"14.00\">Yes</text>\n",
       "</g>\n",
       "<!-- 41 -->\n",
       "<g id=\"node42\" class=\"node\">\n",
       "<title>41</title>\n",
       "<ellipse fill=\"none\" stroke=\"black\" cx=\"2499.5\" cy=\"-105\" rx=\"107.78\" ry=\"18\"/>\n",
       "<text text-anchor=\"middle\" x=\"2499.5\" y=\"-101.3\" font-family=\"Times,serif\" font-size=\"14.00\">20, value&gt;&#45;0.976181</text>\n",
       "</g>\n",
       "<!-- 20&#45;&gt;41 -->\n",
       "<g id=\"edge41\" class=\"edge\">\n",
       "<title>20&#45;&gt;41</title>\n",
       "<path fill=\"none\" stroke=\"black\" d=\"M2521.04,-173.8C2517.3,-162.05 2512.28,-146.24 2508.03,-132.84\"/>\n",
       "<polygon fill=\"black\" stroke=\"black\" points=\"2511.32,-131.65 2504.96,-123.18 2504.65,-133.77 2511.32,-131.65\"/>\n",
       "<text text-anchor=\"middle\" x=\"2526\" y=\"-144.8\" font-family=\"Times,serif\" font-size=\"14.00\">No</text>\n",
       "</g>\n",
       "<!-- 42 -->\n",
       "<g id=\"node43\" class=\"node\">\n",
       "<title>42</title>\n",
       "<ellipse fill=\"none\" stroke=\"black\" cx=\"2733.5\" cy=\"-105\" rx=\"107.78\" ry=\"18\"/>\n",
       "<text text-anchor=\"middle\" x=\"2733.5\" y=\"-101.3\" font-family=\"Times,serif\" font-size=\"14.00\">20, value&gt;&#45;0.976181</text>\n",
       "</g>\n",
       "<!-- 20&#45;&gt;42 -->\n",
       "<g id=\"edge42\" class=\"edge\">\n",
       "<title>20&#45;&gt;42</title>\n",
       "<path fill=\"none\" stroke=\"black\" d=\"M2564.95,-175.21C2598.97,-161.24 2648.77,-140.79 2685.42,-125.74\"/>\n",
       "<polygon fill=\"black\" stroke=\"black\" points=\"2686.98,-128.88 2694.91,-121.85 2684.33,-122.41 2686.98,-128.88\"/>\n",
       "<text text-anchor=\"middle\" x=\"2655\" y=\"-144.8\" font-family=\"Times,serif\" font-size=\"14.00\">Yes</text>\n",
       "</g>\n",
       "<!-- 43 -->\n",
       "<g id=\"node44\" class=\"node\">\n",
       "<title>43</title>\n",
       "<ellipse fill=\"none\" stroke=\"black\" cx=\"2967.5\" cy=\"-105\" rx=\"107.78\" ry=\"18\"/>\n",
       "<text text-anchor=\"middle\" x=\"2967.5\" y=\"-101.3\" font-family=\"Times,serif\" font-size=\"14.00\">20, value&gt;&#45;0.976181</text>\n",
       "</g>\n",
       "<!-- 21&#45;&gt;43 -->\n",
       "<g id=\"edge43\" class=\"edge\">\n",
       "<title>21&#45;&gt;43</title>\n",
       "<path fill=\"none\" stroke=\"black\" d=\"M3023.33,-173.8C3013.12,-161.39 2999.17,-144.46 2987.77,-130.62\"/>\n",
       "<polygon fill=\"black\" stroke=\"black\" points=\"2990.46,-128.38 2981.41,-122.89 2985.06,-132.83 2990.46,-128.38\"/>\n",
       "<text text-anchor=\"middle\" x=\"3018\" y=\"-144.8\" font-family=\"Times,serif\" font-size=\"14.00\">No</text>\n",
       "</g>\n",
       "<!-- 44 -->\n",
       "<g id=\"node45\" class=\"node\">\n",
       "<title>44</title>\n",
       "<ellipse fill=\"none\" stroke=\"black\" cx=\"3201.5\" cy=\"-105\" rx=\"107.78\" ry=\"18\"/>\n",
       "<text text-anchor=\"middle\" x=\"3201.5\" y=\"-101.3\" font-family=\"Times,serif\" font-size=\"14.00\">20, value&gt;&#45;0.976181</text>\n",
       "</g>\n",
       "<!-- 21&#45;&gt;44 -->\n",
       "<g id=\"edge44\" class=\"edge\">\n",
       "<title>21&#45;&gt;44</title>\n",
       "<path fill=\"none\" stroke=\"black\" d=\"M3068.73,-174.81C3094.98,-161.21 3132.67,-141.67 3161.19,-126.89\"/>\n",
       "<polygon fill=\"black\" stroke=\"black\" points=\"3162.84,-129.98 3170.1,-122.27 3159.62,-123.77 3162.84,-129.98\"/>\n",
       "<text text-anchor=\"middle\" x=\"3142\" y=\"-144.8\" font-family=\"Times,serif\" font-size=\"14.00\">Yes</text>\n",
       "</g>\n",
       "<!-- 45 -->\n",
       "<g id=\"node46\" class=\"node\">\n",
       "<title>45</title>\n",
       "<ellipse fill=\"none\" stroke=\"black\" cx=\"3435.5\" cy=\"-105\" rx=\"107.78\" ry=\"18\"/>\n",
       "<text text-anchor=\"middle\" x=\"3435.5\" y=\"-101.3\" font-family=\"Times,serif\" font-size=\"14.00\">20, value&gt;&#45;0.976181</text>\n",
       "</g>\n",
       "<!-- 22&#45;&gt;45 -->\n",
       "<g id=\"edge45\" class=\"edge\">\n",
       "<title>22&#45;&gt;45</title>\n",
       "<path fill=\"none\" stroke=\"black\" d=\"M3435.5,-173.8C3435.5,-162.16 3435.5,-146.55 3435.5,-133.24\"/>\n",
       "<polygon fill=\"black\" stroke=\"black\" points=\"3439,-133.18 3435.5,-123.18 3432,-133.18 3439,-133.18\"/>\n",
       "<text text-anchor=\"middle\" x=\"3446\" y=\"-144.8\" font-family=\"Times,serif\" font-size=\"14.00\">No</text>\n",
       "</g>\n",
       "<!-- 46 -->\n",
       "<g id=\"node47\" class=\"node\">\n",
       "<title>46</title>\n",
       "<ellipse fill=\"none\" stroke=\"black\" cx=\"3669.5\" cy=\"-105\" rx=\"107.78\" ry=\"18\"/>\n",
       "<text text-anchor=\"middle\" x=\"3669.5\" y=\"-101.3\" font-family=\"Times,serif\" font-size=\"14.00\">20, value&gt;&#45;0.976181</text>\n",
       "</g>\n",
       "<!-- 22&#45;&gt;46 -->\n",
       "<g id=\"edge46\" class=\"edge\">\n",
       "<title>22&#45;&gt;46</title>\n",
       "<path fill=\"none\" stroke=\"black\" d=\"M3477.88,-175.61C3516.98,-161.4 3575.16,-140.27 3617.15,-125.02\"/>\n",
       "<polygon fill=\"black\" stroke=\"black\" points=\"3618.44,-128.27 3626.65,-121.57 3616.05,-121.69 3618.44,-128.27\"/>\n",
       "<text text-anchor=\"middle\" x=\"3580\" y=\"-144.8\" font-family=\"Times,serif\" font-size=\"14.00\">Yes</text>\n",
       "</g>\n",
       "<!-- 47 -->\n",
       "<g id=\"node48\" class=\"node\">\n",
       "<title>47</title>\n",
       "<ellipse fill=\"none\" stroke=\"black\" cx=\"3903.5\" cy=\"-105\" rx=\"107.78\" ry=\"18\"/>\n",
       "<text text-anchor=\"middle\" x=\"3903.5\" y=\"-101.3\" font-family=\"Times,serif\" font-size=\"14.00\">20, value&gt;&#45;0.976181</text>\n",
       "</g>\n",
       "<!-- 23&#45;&gt;47 -->\n",
       "<g id=\"edge47\" class=\"edge\">\n",
       "<title>23&#45;&gt;47</title>\n",
       "<path fill=\"none\" stroke=\"black\" d=\"M4095.12,-175.61C4056.02,-161.4 3997.84,-140.27 3955.85,-125.02\"/>\n",
       "<polygon fill=\"black\" stroke=\"black\" points=\"3956.95,-121.69 3946.35,-121.57 3954.56,-128.27 3956.95,-121.69\"/>\n",
       "<text text-anchor=\"middle\" x=\"4046\" y=\"-144.8\" font-family=\"Times,serif\" font-size=\"14.00\">No</text>\n",
       "</g>\n",
       "<!-- 48 -->\n",
       "<g id=\"node49\" class=\"node\">\n",
       "<title>48</title>\n",
       "<ellipse fill=\"none\" stroke=\"black\" cx=\"4137.5\" cy=\"-105\" rx=\"107.78\" ry=\"18\"/>\n",
       "<text text-anchor=\"middle\" x=\"4137.5\" y=\"-101.3\" font-family=\"Times,serif\" font-size=\"14.00\">20, value&gt;&#45;0.976181</text>\n",
       "</g>\n",
       "<!-- 23&#45;&gt;48 -->\n",
       "<g id=\"edge48\" class=\"edge\">\n",
       "<title>23&#45;&gt;48</title>\n",
       "<path fill=\"none\" stroke=\"black\" d=\"M4137.5,-173.8C4137.5,-162.16 4137.5,-146.55 4137.5,-133.24\"/>\n",
       "<polygon fill=\"black\" stroke=\"black\" points=\"4141,-133.18 4137.5,-123.18 4134,-133.18 4141,-133.18\"/>\n",
       "<text text-anchor=\"middle\" x=\"4150\" y=\"-144.8\" font-family=\"Times,serif\" font-size=\"14.00\">Yes</text>\n",
       "</g>\n",
       "<!-- 49 -->\n",
       "<g id=\"node50\" class=\"node\">\n",
       "<title>49</title>\n",
       "<ellipse fill=\"none\" stroke=\"black\" cx=\"4371.5\" cy=\"-105\" rx=\"107.78\" ry=\"18\"/>\n",
       "<text text-anchor=\"middle\" x=\"4371.5\" y=\"-101.3\" font-family=\"Times,serif\" font-size=\"14.00\">20, value&gt;&#45;0.976181</text>\n",
       "</g>\n",
       "<!-- 24&#45;&gt;49 -->\n",
       "<g id=\"edge49\" class=\"edge\">\n",
       "<title>24&#45;&gt;49</title>\n",
       "<path fill=\"none\" stroke=\"black\" d=\"M4433.72,-173.8C4422.33,-161.39 4406.79,-144.46 4394.09,-130.62\"/>\n",
       "<polygon fill=\"black\" stroke=\"black\" points=\"4396.33,-127.89 4386.99,-122.89 4391.18,-132.62 4396.33,-127.89\"/>\n",
       "<text text-anchor=\"middle\" x=\"4426\" y=\"-144.8\" font-family=\"Times,serif\" font-size=\"14.00\">No</text>\n",
       "</g>\n",
       "<!-- 50 -->\n",
       "<g id=\"node51\" class=\"node\">\n",
       "<title>50</title>\n",
       "<ellipse fill=\"none\" stroke=\"black\" cx=\"4605.5\" cy=\"-105\" rx=\"107.78\" ry=\"18\"/>\n",
       "<text text-anchor=\"middle\" x=\"4605.5\" y=\"-101.3\" font-family=\"Times,serif\" font-size=\"14.00\">20, value&gt;&#45;0.976181</text>\n",
       "</g>\n",
       "<!-- 24&#45;&gt;50 -->\n",
       "<g id=\"edge50\" class=\"edge\">\n",
       "<title>24&#45;&gt;50</title>\n",
       "<path fill=\"none\" stroke=\"black\" d=\"M4479.58,-174.61C4504.4,-161.09 4539.78,-141.81 4566.73,-127.13\"/>\n",
       "<polygon fill=\"black\" stroke=\"black\" points=\"4568.41,-130.2 4575.51,-122.34 4565.06,-124.05 4568.41,-130.2\"/>\n",
       "<text text-anchor=\"middle\" x=\"4550\" y=\"-144.8\" font-family=\"Times,serif\" font-size=\"14.00\">Yes</text>\n",
       "</g>\n",
       "<!-- 51 -->\n",
       "<g id=\"node52\" class=\"node\">\n",
       "<title>51</title>\n",
       "<ellipse fill=\"none\" stroke=\"black\" cx=\"4839.5\" cy=\"-105\" rx=\"107.78\" ry=\"18\"/>\n",
       "<text text-anchor=\"middle\" x=\"4839.5\" y=\"-101.3\" font-family=\"Times,serif\" font-size=\"14.00\">20, value&gt;&#45;0.976181</text>\n",
       "</g>\n",
       "<!-- 25&#45;&gt;51 -->\n",
       "<g id=\"edge51\" class=\"edge\">\n",
       "<title>25&#45;&gt;51</title>\n",
       "<path fill=\"none\" stroke=\"black\" d=\"M4886.56,-173.8C4878.16,-161.7 4866.78,-145.3 4857.32,-131.67\"/>\n",
       "<polygon fill=\"black\" stroke=\"black\" points=\"4860,-129.39 4851.42,-123.18 4854.25,-133.39 4860,-129.39\"/>\n",
       "<text text-anchor=\"middle\" x=\"4884\" y=\"-144.8\" font-family=\"Times,serif\" font-size=\"14.00\">No</text>\n",
       "</g>\n",
       "<!-- 52 -->\n",
       "<g id=\"node53\" class=\"node\">\n",
       "<title>52</title>\n",
       "<ellipse fill=\"none\" stroke=\"black\" cx=\"5073.5\" cy=\"-105\" rx=\"107.78\" ry=\"18\"/>\n",
       "<text text-anchor=\"middle\" x=\"5073.5\" y=\"-101.3\" font-family=\"Times,serif\" font-size=\"14.00\">20, value&gt;&#45;0.976181</text>\n",
       "</g>\n",
       "<!-- 25&#45;&gt;52 -->\n",
       "<g id=\"edge52\" class=\"edge\">\n",
       "<title>25&#45;&gt;52</title>\n",
       "<path fill=\"none\" stroke=\"black\" d=\"M4931.83,-174.81C4960.05,-161.11 5000.66,-141.38 5031.18,-126.56\"/>\n",
       "<polygon fill=\"black\" stroke=\"black\" points=\"5032.83,-129.65 5040.3,-122.13 5029.77,-123.35 5032.83,-129.65\"/>\n",
       "<text text-anchor=\"middle\" x=\"5009\" y=\"-144.8\" font-family=\"Times,serif\" font-size=\"14.00\">Yes</text>\n",
       "</g>\n",
       "<!-- 53 -->\n",
       "<g id=\"node54\" class=\"node\">\n",
       "<title>53</title>\n",
       "<ellipse fill=\"none\" stroke=\"black\" cx=\"5307.5\" cy=\"-105\" rx=\"107.78\" ry=\"18\"/>\n",
       "<text text-anchor=\"middle\" x=\"5307.5\" y=\"-101.3\" font-family=\"Times,serif\" font-size=\"14.00\">20, value&gt;&#45;0.976181</text>\n",
       "</g>\n",
       "<!-- 26&#45;&gt;53 -->\n",
       "<g id=\"edge53\" class=\"edge\">\n",
       "<title>26&#45;&gt;53</title>\n",
       "<path fill=\"none\" stroke=\"black\" d=\"M5307.5,-173.8C5307.5,-162.16 5307.5,-146.55 5307.5,-133.24\"/>\n",
       "<polygon fill=\"black\" stroke=\"black\" points=\"5311,-133.18 5307.5,-123.18 5304,-133.18 5311,-133.18\"/>\n",
       "<text text-anchor=\"middle\" x=\"5318\" y=\"-144.8\" font-family=\"Times,serif\" font-size=\"14.00\">No</text>\n",
       "</g>\n",
       "<!-- 54 -->\n",
       "<g id=\"node55\" class=\"node\">\n",
       "<title>54</title>\n",
       "<ellipse fill=\"none\" stroke=\"black\" cx=\"5541.5\" cy=\"-105\" rx=\"107.78\" ry=\"18\"/>\n",
       "<text text-anchor=\"middle\" x=\"5541.5\" y=\"-101.3\" font-family=\"Times,serif\" font-size=\"14.00\">20, value&gt;&#45;0.976181</text>\n",
       "</g>\n",
       "<!-- 26&#45;&gt;54 -->\n",
       "<g id=\"edge54\" class=\"edge\">\n",
       "<title>26&#45;&gt;54</title>\n",
       "<path fill=\"none\" stroke=\"black\" d=\"M5349.88,-175.61C5388.98,-161.4 5447.16,-140.27 5489.15,-125.02\"/>\n",
       "<polygon fill=\"black\" stroke=\"black\" points=\"5490.44,-128.27 5498.65,-121.57 5488.05,-121.69 5490.44,-128.27\"/>\n",
       "<text text-anchor=\"middle\" x=\"5452\" y=\"-144.8\" font-family=\"Times,serif\" font-size=\"14.00\">Yes</text>\n",
       "</g>\n",
       "<!-- 55 -->\n",
       "<g id=\"node56\" class=\"node\">\n",
       "<title>55</title>\n",
       "<ellipse fill=\"none\" stroke=\"black\" cx=\"5775.5\" cy=\"-105\" rx=\"107.78\" ry=\"18\"/>\n",
       "<text text-anchor=\"middle\" x=\"5775.5\" y=\"-101.3\" font-family=\"Times,serif\" font-size=\"14.00\">20, value&gt;&#45;0.976181</text>\n",
       "</g>\n",
       "<!-- 27&#45;&gt;55 -->\n",
       "<g id=\"edge55\" class=\"edge\">\n",
       "<title>27&#45;&gt;55</title>\n",
       "<path fill=\"none\" stroke=\"black\" d=\"M5967.12,-175.61C5928.02,-161.4 5869.84,-140.27 5827.85,-125.02\"/>\n",
       "<polygon fill=\"black\" stroke=\"black\" points=\"5828.95,-121.69 5818.35,-121.57 5826.56,-128.27 5828.95,-121.69\"/>\n",
       "<text text-anchor=\"middle\" x=\"5918\" y=\"-144.8\" font-family=\"Times,serif\" font-size=\"14.00\">No</text>\n",
       "</g>\n",
       "<!-- 56 -->\n",
       "<g id=\"node57\" class=\"node\">\n",
       "<title>56</title>\n",
       "<ellipse fill=\"none\" stroke=\"black\" cx=\"6009.5\" cy=\"-105\" rx=\"107.78\" ry=\"18\"/>\n",
       "<text text-anchor=\"middle\" x=\"6009.5\" y=\"-101.3\" font-family=\"Times,serif\" font-size=\"14.00\">20, value&gt;&#45;0.976181</text>\n",
       "</g>\n",
       "<!-- 27&#45;&gt;56 -->\n",
       "<g id=\"edge56\" class=\"edge\">\n",
       "<title>27&#45;&gt;56</title>\n",
       "<path fill=\"none\" stroke=\"black\" d=\"M6009.5,-173.8C6009.5,-162.16 6009.5,-146.55 6009.5,-133.24\"/>\n",
       "<polygon fill=\"black\" stroke=\"black\" points=\"6013,-133.18 6009.5,-123.18 6006,-133.18 6013,-133.18\"/>\n",
       "<text text-anchor=\"middle\" x=\"6022\" y=\"-144.8\" font-family=\"Times,serif\" font-size=\"14.00\">Yes</text>\n",
       "</g>\n",
       "<!-- 57 -->\n",
       "<g id=\"node58\" class=\"node\">\n",
       "<title>57</title>\n",
       "<ellipse fill=\"none\" stroke=\"black\" cx=\"6243.5\" cy=\"-105\" rx=\"107.78\" ry=\"18\"/>\n",
       "<text text-anchor=\"middle\" x=\"6243.5\" y=\"-101.3\" font-family=\"Times,serif\" font-size=\"14.00\">20, value&gt;&#45;0.976181</text>\n",
       "</g>\n",
       "<!-- 28&#45;&gt;57 -->\n",
       "<g id=\"edge57\" class=\"edge\">\n",
       "<title>28&#45;&gt;57</title>\n",
       "<path fill=\"none\" stroke=\"black\" d=\"M6243.5,-173.8C6243.5,-162.16 6243.5,-146.55 6243.5,-133.24\"/>\n",
       "<polygon fill=\"black\" stroke=\"black\" points=\"6247,-133.18 6243.5,-123.18 6240,-133.18 6247,-133.18\"/>\n",
       "<text text-anchor=\"middle\" x=\"6254\" y=\"-144.8\" font-family=\"Times,serif\" font-size=\"14.00\">No</text>\n",
       "</g>\n",
       "<!-- 58 -->\n",
       "<g id=\"node59\" class=\"node\">\n",
       "<title>58</title>\n",
       "<ellipse fill=\"none\" stroke=\"black\" cx=\"6477.5\" cy=\"-105\" rx=\"107.78\" ry=\"18\"/>\n",
       "<text text-anchor=\"middle\" x=\"6477.5\" y=\"-101.3\" font-family=\"Times,serif\" font-size=\"14.00\">20, value&gt;&#45;0.976181</text>\n",
       "</g>\n",
       "<!-- 28&#45;&gt;58 -->\n",
       "<g id=\"edge58\" class=\"edge\">\n",
       "<title>28&#45;&gt;58</title>\n",
       "<path fill=\"none\" stroke=\"black\" d=\"M6285.88,-175.61C6324.98,-161.4 6383.16,-140.27 6425.15,-125.02\"/>\n",
       "<polygon fill=\"black\" stroke=\"black\" points=\"6426.44,-128.27 6434.65,-121.57 6424.05,-121.69 6426.44,-128.27\"/>\n",
       "<text text-anchor=\"middle\" x=\"6388\" y=\"-144.8\" font-family=\"Times,serif\" font-size=\"14.00\">Yes</text>\n",
       "</g>\n",
       "<!-- 59 -->\n",
       "<g id=\"node60\" class=\"node\">\n",
       "<title>59</title>\n",
       "<ellipse fill=\"none\" stroke=\"black\" cx=\"6711.5\" cy=\"-105\" rx=\"107.78\" ry=\"18\"/>\n",
       "<text text-anchor=\"middle\" x=\"6711.5\" y=\"-101.3\" font-family=\"Times,serif\" font-size=\"14.00\">20, value&gt;&#45;0.976181</text>\n",
       "</g>\n",
       "<!-- 29&#45;&gt;59 -->\n",
       "<g id=\"edge59\" class=\"edge\">\n",
       "<title>29&#45;&gt;59</title>\n",
       "<path fill=\"none\" stroke=\"black\" d=\"M6758.56,-173.8C6750.16,-161.7 6738.78,-145.3 6729.32,-131.67\"/>\n",
       "<polygon fill=\"black\" stroke=\"black\" points=\"6732,-129.39 6723.42,-123.18 6726.25,-133.39 6732,-129.39\"/>\n",
       "<text text-anchor=\"middle\" x=\"6756\" y=\"-144.8\" font-family=\"Times,serif\" font-size=\"14.00\">No</text>\n",
       "</g>\n",
       "<!-- 60 -->\n",
       "<g id=\"node61\" class=\"node\">\n",
       "<title>60</title>\n",
       "<ellipse fill=\"none\" stroke=\"black\" cx=\"6945.5\" cy=\"-105\" rx=\"107.78\" ry=\"18\"/>\n",
       "<text text-anchor=\"middle\" x=\"6945.5\" y=\"-101.3\" font-family=\"Times,serif\" font-size=\"14.00\">20, value&gt;&#45;0.976181</text>\n",
       "</g>\n",
       "<!-- 29&#45;&gt;60 -->\n",
       "<g id=\"edge60\" class=\"edge\">\n",
       "<title>29&#45;&gt;60</title>\n",
       "<path fill=\"none\" stroke=\"black\" d=\"M6803.83,-174.81C6832.05,-161.11 6872.66,-141.38 6903.18,-126.56\"/>\n",
       "<polygon fill=\"black\" stroke=\"black\" points=\"6904.83,-129.65 6912.3,-122.13 6901.77,-123.35 6904.83,-129.65\"/>\n",
       "<text text-anchor=\"middle\" x=\"6881\" y=\"-144.8\" font-family=\"Times,serif\" font-size=\"14.00\">Yes</text>\n",
       "</g>\n",
       "<!-- 61 -->\n",
       "<g id=\"node62\" class=\"node\">\n",
       "<title>61</title>\n",
       "<ellipse fill=\"none\" stroke=\"black\" cx=\"7179.5\" cy=\"-105\" rx=\"107.78\" ry=\"18\"/>\n",
       "<text text-anchor=\"middle\" x=\"7179.5\" y=\"-101.3\" font-family=\"Times,serif\" font-size=\"14.00\">20, value&gt;&#45;0.976181</text>\n",
       "</g>\n",
       "<!-- 30&#45;&gt;61 -->\n",
       "<g id=\"edge61\" class=\"edge\">\n",
       "<title>30&#45;&gt;61</title>\n",
       "<path fill=\"none\" stroke=\"black\" d=\"M7179.5,-173.8C7179.5,-162.16 7179.5,-146.55 7179.5,-133.24\"/>\n",
       "<polygon fill=\"black\" stroke=\"black\" points=\"7183,-133.18 7179.5,-123.18 7176,-133.18 7183,-133.18\"/>\n",
       "<text text-anchor=\"middle\" x=\"7190\" y=\"-144.8\" font-family=\"Times,serif\" font-size=\"14.00\">No</text>\n",
       "</g>\n",
       "<!-- 62 -->\n",
       "<g id=\"node63\" class=\"node\">\n",
       "<title>62</title>\n",
       "<ellipse fill=\"none\" stroke=\"black\" cx=\"7413.5\" cy=\"-105\" rx=\"107.78\" ry=\"18\"/>\n",
       "<text text-anchor=\"middle\" x=\"7413.5\" y=\"-101.3\" font-family=\"Times,serif\" font-size=\"14.00\">20, value&gt;&#45;0.976181</text>\n",
       "</g>\n",
       "<!-- 30&#45;&gt;62 -->\n",
       "<g id=\"edge62\" class=\"edge\">\n",
       "<title>30&#45;&gt;62</title>\n",
       "<path fill=\"none\" stroke=\"black\" d=\"M7221.88,-175.61C7260.98,-161.4 7319.16,-140.27 7361.15,-125.02\"/>\n",
       "<polygon fill=\"black\" stroke=\"black\" points=\"7362.44,-128.27 7370.65,-121.57 7360.05,-121.69 7362.44,-128.27\"/>\n",
       "<text text-anchor=\"middle\" x=\"7324\" y=\"-144.8\" font-family=\"Times,serif\" font-size=\"14.00\">Yes</text>\n",
       "</g>\n",
       "<!-- 63 -->\n",
       "<g id=\"node64\" class=\"node\">\n",
       "<title>63</title>\n",
       "<polygon fill=\"none\" stroke=\"red\" points=\"99,-36 0,-36 0,0 99,0 99,-36\"/>\n",
       "<text text-anchor=\"middle\" x=\"49.5\" y=\"-14.3\" font-family=\"Times,serif\" font-size=\"14.00\">val = 0.000</text>\n",
       "</g>\n",
       "<!-- 31&#45;&gt;63 -->\n",
       "<g id=\"edge63\" class=\"edge\">\n",
       "<title>31&#45;&gt;63</title>\n",
       "<path fill=\"none\" stroke=\"black\" d=\"M137.77,-87.21C121.15,-74.37 98.05,-56.52 79.65,-42.3\"/>\n",
       "<polygon fill=\"black\" stroke=\"black\" points=\"81.62,-39.39 71.56,-36.05 77.34,-44.93 81.62,-39.39\"/>\n",
       "<text text-anchor=\"middle\" x=\"122\" y=\"-57.8\" font-family=\"Times,serif\" font-size=\"14.00\">No</text>\n",
       "</g>\n",
       "<!-- 64 -->\n",
       "<g id=\"node65\" class=\"node\">\n",
       "<title>64</title>\n",
       "<polygon fill=\"none\" stroke=\"red\" points=\"216,-36 117,-36 117,0 216,0 216,-36\"/>\n",
       "<text text-anchor=\"middle\" x=\"166.5\" y=\"-14.3\" font-family=\"Times,serif\" font-size=\"14.00\">val = 0.000</text>\n",
       "</g>\n",
       "<!-- 31&#45;&gt;64 -->\n",
       "<g id=\"edge64\" class=\"edge\">\n",
       "<title>31&#45;&gt;64</title>\n",
       "<path fill=\"none\" stroke=\"black\" d=\"M160.92,-86.8C161.87,-75.16 163.16,-59.55 164.26,-46.24\"/>\n",
       "<polygon fill=\"black\" stroke=\"black\" points=\"167.75,-46.43 165.09,-36.18 160.78,-45.85 167.75,-46.43\"/>\n",
       "<text text-anchor=\"middle\" x=\"176\" y=\"-57.8\" font-family=\"Times,serif\" font-size=\"14.00\">Yes</text>\n",
       "</g>\n",
       "<!-- 65 -->\n",
       "<g id=\"node66\" class=\"node\">\n",
       "<title>65</title>\n",
       "<polygon fill=\"none\" stroke=\"red\" points=\"342.5,-36 238.5,-36 238.5,0 342.5,0 342.5,-36\"/>\n",
       "<text text-anchor=\"middle\" x=\"290.5\" y=\"-14.3\" font-family=\"Times,serif\" font-size=\"14.00\">val = &#45;0.006</text>\n",
       "</g>\n",
       "<!-- 32&#45;&gt;65 -->\n",
       "<g id=\"edge65\" class=\"edge\">\n",
       "<title>32&#45;&gt;65</title>\n",
       "<path fill=\"none\" stroke=\"black\" d=\"M373.15,-87.21C357.73,-74.48 336.35,-56.84 319.2,-42.68\"/>\n",
       "<polygon fill=\"black\" stroke=\"black\" points=\"321.1,-39.71 311.16,-36.05 316.64,-45.11 321.1,-39.71\"/>\n",
       "<text text-anchor=\"middle\" x=\"359\" y=\"-57.8\" font-family=\"Times,serif\" font-size=\"14.00\">No</text>\n",
       "</g>\n",
       "<!-- 66 -->\n",
       "<g id=\"node67\" class=\"node\">\n",
       "<title>66</title>\n",
       "<polygon fill=\"none\" stroke=\"red\" points=\"460,-36 361,-36 361,0 460,0 460,-36\"/>\n",
       "<text text-anchor=\"middle\" x=\"410.5\" y=\"-14.3\" font-family=\"Times,serif\" font-size=\"14.00\">val = 0.000</text>\n",
       "</g>\n",
       "<!-- 32&#45;&gt;66 -->\n",
       "<g id=\"edge66\" class=\"edge\">\n",
       "<title>32&#45;&gt;66</title>\n",
       "<path fill=\"none\" stroke=\"black\" d=\"M396.94,-86.8C399.27,-75.16 402.39,-59.55 405.05,-46.24\"/>\n",
       "<polygon fill=\"black\" stroke=\"black\" points=\"408.54,-46.67 407.06,-36.18 401.67,-45.29 408.54,-46.67\"/>\n",
       "<text text-anchor=\"middle\" x=\"416\" y=\"-57.8\" font-family=\"Times,serif\" font-size=\"14.00\">Yes</text>\n",
       "</g>\n",
       "<!-- 67 -->\n",
       "<g id=\"node68\" class=\"node\">\n",
       "<title>67</title>\n",
       "<polygon fill=\"none\" stroke=\"red\" points=\"579,-36 480,-36 480,0 579,0 579,-36\"/>\n",
       "<text text-anchor=\"middle\" x=\"529.5\" y=\"-14.3\" font-family=\"Times,serif\" font-size=\"14.00\">val = 0.000</text>\n",
       "</g>\n",
       "<!-- 33&#45;&gt;67 -->\n",
       "<g id=\"edge67\" class=\"edge\">\n",
       "<title>33&#45;&gt;67</title>\n",
       "<path fill=\"none\" stroke=\"black\" d=\"M608.14,-87.21C593.47,-74.48 573.12,-56.84 556.8,-42.68\"/>\n",
       "<polygon fill=\"black\" stroke=\"black\" points=\"559,-39.96 549.16,-36.05 554.42,-45.25 559,-39.96\"/>\n",
       "<text text-anchor=\"middle\" x=\"595\" y=\"-57.8\" font-family=\"Times,serif\" font-size=\"14.00\">No</text>\n",
       "</g>\n",
       "<!-- 68 -->\n",
       "<g id=\"node69\" class=\"node\">\n",
       "<title>68</title>\n",
       "<polygon fill=\"none\" stroke=\"red\" points=\"696,-36 597,-36 597,0 696,0 696,-36\"/>\n",
       "<text text-anchor=\"middle\" x=\"646.5\" y=\"-14.3\" font-family=\"Times,serif\" font-size=\"14.00\">val = 0.000</text>\n",
       "</g>\n",
       "<!-- 33&#45;&gt;68 -->\n",
       "<g id=\"edge68\" class=\"edge\">\n",
       "<title>33&#45;&gt;68</title>\n",
       "<path fill=\"none\" stroke=\"black\" d=\"M631.34,-86.8C633.95,-75.16 637.44,-59.55 640.41,-46.24\"/>\n",
       "<polygon fill=\"black\" stroke=\"black\" points=\"643.89,-46.7 642.66,-36.18 637.06,-45.17 643.89,-46.7\"/>\n",
       "<text text-anchor=\"middle\" x=\"651\" y=\"-57.8\" font-family=\"Times,serif\" font-size=\"14.00\">Yes</text>\n",
       "</g>\n",
       "<!-- 69 -->\n",
       "<g id=\"node70\" class=\"node\">\n",
       "<title>69</title>\n",
       "<polygon fill=\"none\" stroke=\"red\" points=\"814,-36 715,-36 715,0 814,0 814,-36\"/>\n",
       "<text text-anchor=\"middle\" x=\"764.5\" y=\"-14.3\" font-family=\"Times,serif\" font-size=\"14.00\">val = 0.000</text>\n",
       "</g>\n",
       "<!-- 34&#45;&gt;69 -->\n",
       "<g id=\"edge69\" class=\"edge\">\n",
       "<title>34&#45;&gt;69</title>\n",
       "<path fill=\"none\" stroke=\"black\" d=\"M842.34,-87.21C827.82,-74.48 807.68,-56.84 791.52,-42.68\"/>\n",
       "<polygon fill=\"black\" stroke=\"black\" points=\"793.78,-40.01 783.96,-36.05 789.17,-45.27 793.78,-40.01\"/>\n",
       "<text text-anchor=\"middle\" x=\"830\" y=\"-57.8\" font-family=\"Times,serif\" font-size=\"14.00\">No</text>\n",
       "</g>\n",
       "<!-- 70 -->\n",
       "<g id=\"node71\" class=\"node\">\n",
       "<title>70</title>\n",
       "<polygon fill=\"none\" stroke=\"red\" points=\"931,-36 832,-36 832,0 931,0 931,-36\"/>\n",
       "<text text-anchor=\"middle\" x=\"881.5\" y=\"-14.3\" font-family=\"Times,serif\" font-size=\"14.00\">val = 0.000</text>\n",
       "</g>\n",
       "<!-- 34&#45;&gt;70 -->\n",
       "<g id=\"edge70\" class=\"edge\">\n",
       "<title>34&#45;&gt;70</title>\n",
       "<path fill=\"none\" stroke=\"black\" d=\"M865.55,-86.8C868.29,-75.16 871.96,-59.55 875.09,-46.24\"/>\n",
       "<polygon fill=\"black\" stroke=\"black\" points=\"878.58,-46.71 877.46,-36.18 871.76,-45.11 878.58,-46.71\"/>\n",
       "<text text-anchor=\"middle\" x=\"886\" y=\"-57.8\" font-family=\"Times,serif\" font-size=\"14.00\">Yes</text>\n",
       "</g>\n",
       "<!-- 71 -->\n",
       "<g id=\"node72\" class=\"node\">\n",
       "<title>71</title>\n",
       "<polygon fill=\"none\" stroke=\"red\" points=\"1048,-36 949,-36 949,0 1048,0 1048,-36\"/>\n",
       "<text text-anchor=\"middle\" x=\"998.5\" y=\"-14.3\" font-family=\"Times,serif\" font-size=\"14.00\">val = 0.000</text>\n",
       "</g>\n",
       "<!-- 35&#45;&gt;71 -->\n",
       "<g id=\"edge71\" class=\"edge\">\n",
       "<title>35&#45;&gt;71</title>\n",
       "<path fill=\"none\" stroke=\"black\" d=\"M1076.34,-87.21C1061.82,-74.48 1041.68,-56.84 1025.52,-42.68\"/>\n",
       "<polygon fill=\"black\" stroke=\"black\" points=\"1027.78,-40.01 1017.96,-36.05 1023.17,-45.27 1027.78,-40.01\"/>\n",
       "<text text-anchor=\"middle\" x=\"1064\" y=\"-57.8\" font-family=\"Times,serif\" font-size=\"14.00\">No</text>\n",
       "</g>\n",
       "<!-- 72 -->\n",
       "<g id=\"node73\" class=\"node\">\n",
       "<title>72</title>\n",
       "<polygon fill=\"none\" stroke=\"red\" points=\"1165,-36 1066,-36 1066,0 1165,0 1165,-36\"/>\n",
       "<text text-anchor=\"middle\" x=\"1115.5\" y=\"-14.3\" font-family=\"Times,serif\" font-size=\"14.00\">val = 0.000</text>\n",
       "</g>\n",
       "<!-- 35&#45;&gt;72 -->\n",
       "<g id=\"edge72\" class=\"edge\">\n",
       "<title>35&#45;&gt;72</title>\n",
       "<path fill=\"none\" stroke=\"black\" d=\"M1099.55,-86.8C1102.29,-75.16 1105.96,-59.55 1109.09,-46.24\"/>\n",
       "<polygon fill=\"black\" stroke=\"black\" points=\"1112.58,-46.71 1111.46,-36.18 1105.76,-45.11 1112.58,-46.71\"/>\n",
       "<text text-anchor=\"middle\" x=\"1120\" y=\"-57.8\" font-family=\"Times,serif\" font-size=\"14.00\">Yes</text>\n",
       "</g>\n",
       "<!-- 73 -->\n",
       "<g id=\"node74\" class=\"node\">\n",
       "<title>73</title>\n",
       "<polygon fill=\"none\" stroke=\"red\" points=\"1282,-36 1183,-36 1183,0 1282,0 1282,-36\"/>\n",
       "<text text-anchor=\"middle\" x=\"1232.5\" y=\"-14.3\" font-family=\"Times,serif\" font-size=\"14.00\">val = 0.000</text>\n",
       "</g>\n",
       "<!-- 36&#45;&gt;73 -->\n",
       "<g id=\"edge73\" class=\"edge\">\n",
       "<title>36&#45;&gt;73</title>\n",
       "<path fill=\"none\" stroke=\"black\" d=\"M1310.34,-87.21C1295.82,-74.48 1275.68,-56.84 1259.52,-42.68\"/>\n",
       "<polygon fill=\"black\" stroke=\"black\" points=\"1261.78,-40.01 1251.96,-36.05 1257.17,-45.27 1261.78,-40.01\"/>\n",
       "<text text-anchor=\"middle\" x=\"1298\" y=\"-57.8\" font-family=\"Times,serif\" font-size=\"14.00\">No</text>\n",
       "</g>\n",
       "<!-- 74 -->\n",
       "<g id=\"node75\" class=\"node\">\n",
       "<title>74</title>\n",
       "<polygon fill=\"none\" stroke=\"red\" points=\"1399,-36 1300,-36 1300,0 1399,0 1399,-36\"/>\n",
       "<text text-anchor=\"middle\" x=\"1349.5\" y=\"-14.3\" font-family=\"Times,serif\" font-size=\"14.00\">val = 0.000</text>\n",
       "</g>\n",
       "<!-- 36&#45;&gt;74 -->\n",
       "<g id=\"edge74\" class=\"edge\">\n",
       "<title>36&#45;&gt;74</title>\n",
       "<path fill=\"none\" stroke=\"black\" d=\"M1333.55,-86.8C1336.29,-75.16 1339.96,-59.55 1343.09,-46.24\"/>\n",
       "<polygon fill=\"black\" stroke=\"black\" points=\"1346.58,-46.71 1345.46,-36.18 1339.76,-45.11 1346.58,-46.71\"/>\n",
       "<text text-anchor=\"middle\" x=\"1354\" y=\"-57.8\" font-family=\"Times,serif\" font-size=\"14.00\">Yes</text>\n",
       "</g>\n",
       "<!-- 75 -->\n",
       "<g id=\"node76\" class=\"node\">\n",
       "<title>75</title>\n",
       "<polygon fill=\"none\" stroke=\"red\" points=\"1516,-36 1417,-36 1417,0 1516,0 1516,-36\"/>\n",
       "<text text-anchor=\"middle\" x=\"1466.5\" y=\"-14.3\" font-family=\"Times,serif\" font-size=\"14.00\">val = 0.000</text>\n",
       "</g>\n",
       "<!-- 37&#45;&gt;75 -->\n",
       "<g id=\"edge75\" class=\"edge\">\n",
       "<title>37&#45;&gt;75</title>\n",
       "<path fill=\"none\" stroke=\"black\" d=\"M1544.34,-87.21C1529.82,-74.48 1509.68,-56.84 1493.52,-42.68\"/>\n",
       "<polygon fill=\"black\" stroke=\"black\" points=\"1495.78,-40.01 1485.96,-36.05 1491.17,-45.27 1495.78,-40.01\"/>\n",
       "<text text-anchor=\"middle\" x=\"1532\" y=\"-57.8\" font-family=\"Times,serif\" font-size=\"14.00\">No</text>\n",
       "</g>\n",
       "<!-- 76 -->\n",
       "<g id=\"node77\" class=\"node\">\n",
       "<title>76</title>\n",
       "<polygon fill=\"none\" stroke=\"red\" points=\"1633,-36 1534,-36 1534,0 1633,0 1633,-36\"/>\n",
       "<text text-anchor=\"middle\" x=\"1583.5\" y=\"-14.3\" font-family=\"Times,serif\" font-size=\"14.00\">val = 0.000</text>\n",
       "</g>\n",
       "<!-- 37&#45;&gt;76 -->\n",
       "<g id=\"edge76\" class=\"edge\">\n",
       "<title>37&#45;&gt;76</title>\n",
       "<path fill=\"none\" stroke=\"black\" d=\"M1567.55,-86.8C1570.29,-75.16 1573.96,-59.55 1577.09,-46.24\"/>\n",
       "<polygon fill=\"black\" stroke=\"black\" points=\"1580.58,-46.71 1579.46,-36.18 1573.76,-45.11 1580.58,-46.71\"/>\n",
       "<text text-anchor=\"middle\" x=\"1588\" y=\"-57.8\" font-family=\"Times,serif\" font-size=\"14.00\">Yes</text>\n",
       "</g>\n",
       "<!-- 77 -->\n",
       "<g id=\"node78\" class=\"node\">\n",
       "<title>77</title>\n",
       "<polygon fill=\"none\" stroke=\"red\" points=\"1755.5,-36 1651.5,-36 1651.5,0 1755.5,0 1755.5,-36\"/>\n",
       "<text text-anchor=\"middle\" x=\"1703.5\" y=\"-14.3\" font-family=\"Times,serif\" font-size=\"14.00\">val = &#45;0.013</text>\n",
       "</g>\n",
       "<!-- 38&#45;&gt;77 -->\n",
       "<g id=\"edge77\" class=\"edge\">\n",
       "<title>38&#45;&gt;77</title>\n",
       "<path fill=\"none\" stroke=\"black\" d=\"M1778.93,-87.21C1764.99,-74.6 1745.7,-57.16 1730.12,-43.07\"/>\n",
       "<polygon fill=\"black\" stroke=\"black\" points=\"1732.12,-40.16 1722.35,-36.05 1727.42,-45.35 1732.12,-40.16\"/>\n",
       "<text text-anchor=\"middle\" x=\"1767\" y=\"-57.8\" font-family=\"Times,serif\" font-size=\"14.00\">No</text>\n",
       "</g>\n",
       "<!-- 78 -->\n",
       "<g id=\"node79\" class=\"node\">\n",
       "<title>78</title>\n",
       "<polygon fill=\"none\" stroke=\"red\" points=\"1873,-36 1774,-36 1774,0 1873,0 1873,-36\"/>\n",
       "<text text-anchor=\"middle\" x=\"1823.5\" y=\"-14.3\" font-family=\"Times,serif\" font-size=\"14.00\">val = 0.000</text>\n",
       "</g>\n",
       "<!-- 38&#45;&gt;78 -->\n",
       "<g id=\"edge78\" class=\"edge\">\n",
       "<title>38&#45;&gt;78</title>\n",
       "<path fill=\"none\" stroke=\"black\" d=\"M1802.76,-86.8C1806.36,-75.05 1811.19,-59.24 1815.29,-45.84\"/>\n",
       "<polygon fill=\"black\" stroke=\"black\" points=\"1818.67,-46.76 1818.25,-36.18 1811.97,-44.71 1818.67,-46.76\"/>\n",
       "<text text-anchor=\"middle\" x=\"1825\" y=\"-57.8\" font-family=\"Times,serif\" font-size=\"14.00\">Yes</text>\n",
       "</g>\n",
       "<!-- 79 -->\n",
       "<g id=\"node80\" class=\"node\">\n",
       "<title>79</title>\n",
       "<polygon fill=\"none\" stroke=\"red\" points=\"1990,-36 1891,-36 1891,0 1990,0 1990,-36\"/>\n",
       "<text text-anchor=\"middle\" x=\"1940.5\" y=\"-14.3\" font-family=\"Times,serif\" font-size=\"14.00\">val = 0.020</text>\n",
       "</g>\n",
       "<!-- 39&#45;&gt;79 -->\n",
       "<g id=\"edge79\" class=\"edge\">\n",
       "<title>39&#45;&gt;79</title>\n",
       "<path fill=\"none\" stroke=\"black\" d=\"M2013.52,-87.21C2000.02,-74.6 1981.35,-57.16 1966.27,-43.07\"/>\n",
       "<polygon fill=\"black\" stroke=\"black\" points=\"1968.45,-40.32 1958.75,-36.05 1963.67,-45.43 1968.45,-40.32\"/>\n",
       "<text text-anchor=\"middle\" x=\"2002\" y=\"-57.8\" font-family=\"Times,serif\" font-size=\"14.00\">No</text>\n",
       "</g>\n",
       "<!-- 80 -->\n",
       "<g id=\"node81\" class=\"node\">\n",
       "<title>80</title>\n",
       "<polygon fill=\"none\" stroke=\"red\" points=\"2107,-36 2008,-36 2008,0 2107,0 2107,-36\"/>\n",
       "<text text-anchor=\"middle\" x=\"2057.5\" y=\"-14.3\" font-family=\"Times,serif\" font-size=\"14.00\">val = 0.000</text>\n",
       "</g>\n",
       "<!-- 39&#45;&gt;80 -->\n",
       "<g id=\"edge80\" class=\"edge\">\n",
       "<title>39&#45;&gt;80</title>\n",
       "<path fill=\"none\" stroke=\"black\" d=\"M2036.76,-86.8C2040.36,-75.05 2045.19,-59.24 2049.29,-45.84\"/>\n",
       "<polygon fill=\"black\" stroke=\"black\" points=\"2052.67,-46.76 2052.25,-36.18 2045.97,-44.71 2052.67,-46.76\"/>\n",
       "<text text-anchor=\"middle\" x=\"2059\" y=\"-57.8\" font-family=\"Times,serif\" font-size=\"14.00\">Yes</text>\n",
       "</g>\n",
       "<!-- 81 -->\n",
       "<g id=\"node82\" class=\"node\">\n",
       "<title>81</title>\n",
       "<polygon fill=\"none\" stroke=\"red\" points=\"2229.5,-36 2125.5,-36 2125.5,0 2229.5,0 2229.5,-36\"/>\n",
       "<text text-anchor=\"middle\" x=\"2177.5\" y=\"-14.3\" font-family=\"Times,serif\" font-size=\"14.00\">val = &#45;0.180</text>\n",
       "</g>\n",
       "<!-- 40&#45;&gt;81 -->\n",
       "<g id=\"edge81\" class=\"edge\">\n",
       "<title>40&#45;&gt;81</title>\n",
       "<path fill=\"none\" stroke=\"black\" d=\"M2248.11,-87.21C2235.06,-74.6 2217,-57.16 2202.42,-43.07\"/>\n",
       "<polygon fill=\"black\" stroke=\"black\" points=\"2204.78,-40.48 2195.15,-36.05 2199.91,-45.51 2204.78,-40.48\"/>\n",
       "<text text-anchor=\"middle\" x=\"2238\" y=\"-57.8\" font-family=\"Times,serif\" font-size=\"14.00\">No</text>\n",
       "</g>\n",
       "<!-- 82 -->\n",
       "<g id=\"node83\" class=\"node\">\n",
       "<title>82</title>\n",
       "<polygon fill=\"none\" stroke=\"red\" points=\"2347,-36 2248,-36 2248,0 2347,0 2347,-36\"/>\n",
       "<text text-anchor=\"middle\" x=\"2297.5\" y=\"-14.3\" font-family=\"Times,serif\" font-size=\"14.00\">val = 0.000</text>\n",
       "</g>\n",
       "<!-- 40&#45;&gt;82 -->\n",
       "<g id=\"edge82\" class=\"edge\">\n",
       "<title>40&#45;&gt;82</title>\n",
       "<path fill=\"none\" stroke=\"black\" d=\"M2271.98,-86.8C2276.4,-75.05 2282.35,-59.24 2287.39,-45.84\"/>\n",
       "<polygon fill=\"black\" stroke=\"black\" points=\"2290.79,-46.77 2291.03,-36.18 2284.24,-44.3 2290.79,-46.77\"/>\n",
       "<text text-anchor=\"middle\" x=\"2296\" y=\"-57.8\" font-family=\"Times,serif\" font-size=\"14.00\">Yes</text>\n",
       "</g>\n",
       "<!-- 83 -->\n",
       "<g id=\"node84\" class=\"node\">\n",
       "<title>83</title>\n",
       "<polygon fill=\"none\" stroke=\"red\" points=\"2464,-36 2365,-36 2365,0 2464,0 2464,-36\"/>\n",
       "<text text-anchor=\"middle\" x=\"2414.5\" y=\"-14.3\" font-family=\"Times,serif\" font-size=\"14.00\">val = 0.000</text>\n",
       "</g>\n",
       "<!-- 41&#45;&gt;83 -->\n",
       "<g id=\"edge83\" class=\"edge\">\n",
       "<title>41&#45;&gt;83</title>\n",
       "<path fill=\"none\" stroke=\"black\" d=\"M2482.71,-87.21C2470.22,-74.72 2452.98,-57.48 2438.96,-43.46\"/>\n",
       "<polygon fill=\"black\" stroke=\"black\" points=\"2441.1,-40.65 2431.55,-36.05 2436.15,-45.6 2441.1,-40.65\"/>\n",
       "<text text-anchor=\"middle\" x=\"2473\" y=\"-57.8\" font-family=\"Times,serif\" font-size=\"14.00\">No</text>\n",
       "</g>\n",
       "<!-- 84 -->\n",
       "<g id=\"node85\" class=\"node\">\n",
       "<title>84</title>\n",
       "<polygon fill=\"none\" stroke=\"red\" points=\"2581,-36 2482,-36 2482,0 2581,0 2581,-36\"/>\n",
       "<text text-anchor=\"middle\" x=\"2531.5\" y=\"-14.3\" font-family=\"Times,serif\" font-size=\"14.00\">val = 0.000</text>\n",
       "</g>\n",
       "<!-- 41&#45;&gt;84 -->\n",
       "<g id=\"edge84\" class=\"edge\">\n",
       "<title>41&#45;&gt;84</title>\n",
       "<path fill=\"none\" stroke=\"black\" d=\"M2505.98,-86.8C2510.4,-75.05 2516.35,-59.24 2521.39,-45.84\"/>\n",
       "<polygon fill=\"black\" stroke=\"black\" points=\"2524.79,-46.77 2525.03,-36.18 2518.24,-44.3 2524.79,-46.77\"/>\n",
       "<text text-anchor=\"middle\" x=\"2530\" y=\"-57.8\" font-family=\"Times,serif\" font-size=\"14.00\">Yes</text>\n",
       "</g>\n",
       "<!-- 85 -->\n",
       "<g id=\"node86\" class=\"node\">\n",
       "<title>85</title>\n",
       "<polygon fill=\"none\" stroke=\"red\" points=\"2703.5,-36 2599.5,-36 2599.5,0 2703.5,0 2703.5,-36\"/>\n",
       "<text text-anchor=\"middle\" x=\"2651.5\" y=\"-14.3\" font-family=\"Times,serif\" font-size=\"14.00\">val = &#45;0.000</text>\n",
       "</g>\n",
       "<!-- 42&#45;&gt;85 -->\n",
       "<g id=\"edge85\" class=\"edge\">\n",
       "<title>42&#45;&gt;85</title>\n",
       "<path fill=\"none\" stroke=\"black\" d=\"M2716.91,-86.8C2704.9,-74.36 2688.51,-57.36 2675.14,-43.5\"/>\n",
       "<polygon fill=\"black\" stroke=\"black\" points=\"2677.53,-40.94 2668.07,-36.18 2672.49,-45.8 2677.53,-40.94\"/>\n",
       "<text text-anchor=\"middle\" x=\"2708\" y=\"-57.8\" font-family=\"Times,serif\" font-size=\"14.00\">No</text>\n",
       "</g>\n",
       "<!-- 86 -->\n",
       "<g id=\"node87\" class=\"node\">\n",
       "<title>86</title>\n",
       "<polygon fill=\"none\" stroke=\"red\" points=\"2821,-36 2722,-36 2722,0 2821,0 2821,-36\"/>\n",
       "<text text-anchor=\"middle\" x=\"2771.5\" y=\"-14.3\" font-family=\"Times,serif\" font-size=\"14.00\">val = 0.000</text>\n",
       "</g>\n",
       "<!-- 42&#45;&gt;86 -->\n",
       "<g id=\"edge86\" class=\"edge\">\n",
       "<title>42&#45;&gt;86</title>\n",
       "<path fill=\"none\" stroke=\"black\" d=\"M2741.19,-86.8C2746.5,-74.93 2753.65,-58.93 2759.68,-45.45\"/>\n",
       "<polygon fill=\"black\" stroke=\"black\" points=\"2762.94,-46.73 2763.82,-36.18 2756.54,-43.88 2762.94,-46.73\"/>\n",
       "<text text-anchor=\"middle\" x=\"2768\" y=\"-57.8\" font-family=\"Times,serif\" font-size=\"14.00\">Yes</text>\n",
       "</g>\n",
       "<!-- 87 -->\n",
       "<g id=\"node88\" class=\"node\">\n",
       "<title>87</title>\n",
       "<polygon fill=\"none\" stroke=\"red\" points=\"2938,-36 2839,-36 2839,0 2938,0 2938,-36\"/>\n",
       "<text text-anchor=\"middle\" x=\"2888.5\" y=\"-14.3\" font-family=\"Times,serif\" font-size=\"14.00\">val = 0.000</text>\n",
       "</g>\n",
       "<!-- 43&#45;&gt;87 -->\n",
       "<g id=\"edge87\" class=\"edge\">\n",
       "<title>43&#45;&gt;87</title>\n",
       "<path fill=\"none\" stroke=\"black\" d=\"M2951.51,-86.8C2939.95,-74.36 2924.16,-57.36 2911.27,-43.5\"/>\n",
       "<polygon fill=\"black\" stroke=\"black\" points=\"2913.83,-41.12 2904.46,-36.18 2908.71,-45.88 2913.83,-41.12\"/>\n",
       "<text text-anchor=\"middle\" x=\"2944\" y=\"-57.8\" font-family=\"Times,serif\" font-size=\"14.00\">No</text>\n",
       "</g>\n",
       "<!-- 88 -->\n",
       "<g id=\"node89\" class=\"node\">\n",
       "<title>88</title>\n",
       "<polygon fill=\"none\" stroke=\"red\" points=\"3055,-36 2956,-36 2956,0 3055,0 3055,-36\"/>\n",
       "<text text-anchor=\"middle\" x=\"3005.5\" y=\"-14.3\" font-family=\"Times,serif\" font-size=\"14.00\">val = 0.000</text>\n",
       "</g>\n",
       "<!-- 43&#45;&gt;88 -->\n",
       "<g id=\"edge88\" class=\"edge\">\n",
       "<title>43&#45;&gt;88</title>\n",
       "<path fill=\"none\" stroke=\"black\" d=\"M2975.19,-86.8C2980.5,-74.93 2987.65,-58.93 2993.68,-45.45\"/>\n",
       "<polygon fill=\"black\" stroke=\"black\" points=\"2996.94,-46.73 2997.82,-36.18 2990.54,-43.88 2996.94,-46.73\"/>\n",
       "<text text-anchor=\"middle\" x=\"3002\" y=\"-57.8\" font-family=\"Times,serif\" font-size=\"14.00\">Yes</text>\n",
       "</g>\n",
       "<!-- 89 -->\n",
       "<g id=\"node90\" class=\"node\">\n",
       "<title>89</title>\n",
       "<polygon fill=\"none\" stroke=\"red\" points=\"3172,-36 3073,-36 3073,0 3172,0 3172,-36\"/>\n",
       "<text text-anchor=\"middle\" x=\"3122.5\" y=\"-14.3\" font-family=\"Times,serif\" font-size=\"14.00\">val = 0.000</text>\n",
       "</g>\n",
       "<!-- 44&#45;&gt;89 -->\n",
       "<g id=\"edge89\" class=\"edge\">\n",
       "<title>44&#45;&gt;89</title>\n",
       "<path fill=\"none\" stroke=\"black\" d=\"M3185.51,-86.8C3173.95,-74.36 3158.16,-57.36 3145.27,-43.5\"/>\n",
       "<polygon fill=\"black\" stroke=\"black\" points=\"3147.83,-41.12 3138.46,-36.18 3142.71,-45.88 3147.83,-41.12\"/>\n",
       "<text text-anchor=\"middle\" x=\"3178\" y=\"-57.8\" font-family=\"Times,serif\" font-size=\"14.00\">No</text>\n",
       "</g>\n",
       "<!-- 90 -->\n",
       "<g id=\"node91\" class=\"node\">\n",
       "<title>90</title>\n",
       "<polygon fill=\"none\" stroke=\"red\" points=\"3289,-36 3190,-36 3190,0 3289,0 3289,-36\"/>\n",
       "<text text-anchor=\"middle\" x=\"3239.5\" y=\"-14.3\" font-family=\"Times,serif\" font-size=\"14.00\">val = 0.000</text>\n",
       "</g>\n",
       "<!-- 44&#45;&gt;90 -->\n",
       "<g id=\"edge90\" class=\"edge\">\n",
       "<title>44&#45;&gt;90</title>\n",
       "<path fill=\"none\" stroke=\"black\" d=\"M3209.19,-86.8C3214.5,-74.93 3221.65,-58.93 3227.68,-45.45\"/>\n",
       "<polygon fill=\"black\" stroke=\"black\" points=\"3230.94,-46.73 3231.82,-36.18 3224.54,-43.88 3230.94,-46.73\"/>\n",
       "<text text-anchor=\"middle\" x=\"3236\" y=\"-57.8\" font-family=\"Times,serif\" font-size=\"14.00\">Yes</text>\n",
       "</g>\n",
       "<!-- 91 -->\n",
       "<g id=\"node92\" class=\"node\">\n",
       "<title>91</title>\n",
       "<polygon fill=\"none\" stroke=\"red\" points=\"3406,-36 3307,-36 3307,0 3406,0 3406,-36\"/>\n",
       "<text text-anchor=\"middle\" x=\"3356.5\" y=\"-14.3\" font-family=\"Times,serif\" font-size=\"14.00\">val = 0.241</text>\n",
       "</g>\n",
       "<!-- 45&#45;&gt;91 -->\n",
       "<g id=\"edge91\" class=\"edge\">\n",
       "<title>45&#45;&gt;91</title>\n",
       "<path fill=\"none\" stroke=\"black\" d=\"M3419.51,-86.8C3407.95,-74.36 3392.16,-57.36 3379.27,-43.5\"/>\n",
       "<polygon fill=\"black\" stroke=\"black\" points=\"3381.83,-41.12 3372.46,-36.18 3376.71,-45.88 3381.83,-41.12\"/>\n",
       "<text text-anchor=\"middle\" x=\"3412\" y=\"-57.8\" font-family=\"Times,serif\" font-size=\"14.00\">No</text>\n",
       "</g>\n",
       "<!-- 92 -->\n",
       "<g id=\"node93\" class=\"node\">\n",
       "<title>92</title>\n",
       "<polygon fill=\"none\" stroke=\"red\" points=\"3523,-36 3424,-36 3424,0 3523,0 3523,-36\"/>\n",
       "<text text-anchor=\"middle\" x=\"3473.5\" y=\"-14.3\" font-family=\"Times,serif\" font-size=\"14.00\">val = 0.000</text>\n",
       "</g>\n",
       "<!-- 45&#45;&gt;92 -->\n",
       "<g id=\"edge92\" class=\"edge\">\n",
       "<title>45&#45;&gt;92</title>\n",
       "<path fill=\"none\" stroke=\"black\" d=\"M3443.19,-86.8C3448.5,-74.93 3455.65,-58.93 3461.68,-45.45\"/>\n",
       "<polygon fill=\"black\" stroke=\"black\" points=\"3464.94,-46.73 3465.82,-36.18 3458.54,-43.88 3464.94,-46.73\"/>\n",
       "<text text-anchor=\"middle\" x=\"3470\" y=\"-57.8\" font-family=\"Times,serif\" font-size=\"14.00\">Yes</text>\n",
       "</g>\n",
       "<!-- 93 -->\n",
       "<g id=\"node94\" class=\"node\">\n",
       "<title>93</title>\n",
       "<polygon fill=\"none\" stroke=\"red\" points=\"3645.5,-36 3541.5,-36 3541.5,0 3645.5,0 3645.5,-36\"/>\n",
       "<text text-anchor=\"middle\" x=\"3593.5\" y=\"-14.3\" font-family=\"Times,serif\" font-size=\"14.00\">val = &#45;0.249</text>\n",
       "</g>\n",
       "<!-- 46&#45;&gt;93 -->\n",
       "<g id=\"edge93\" class=\"edge\">\n",
       "<title>46&#45;&gt;93</title>\n",
       "<path fill=\"none\" stroke=\"black\" d=\"M3654.12,-86.8C3643.1,-74.47 3628.08,-57.68 3615.75,-43.89\"/>\n",
       "<polygon fill=\"black\" stroke=\"black\" points=\"3618.13,-41.3 3608.86,-36.18 3612.91,-45.96 3618.13,-41.3\"/>\n",
       "<text text-anchor=\"middle\" x=\"3647\" y=\"-57.8\" font-family=\"Times,serif\" font-size=\"14.00\">No</text>\n",
       "</g>\n",
       "<!-- 94 -->\n",
       "<g id=\"node95\" class=\"node\">\n",
       "<title>94</title>\n",
       "<polygon fill=\"none\" stroke=\"red\" points=\"3763,-36 3664,-36 3664,0 3763,0 3763,-36\"/>\n",
       "<text text-anchor=\"middle\" x=\"3713.5\" y=\"-14.3\" font-family=\"Times,serif\" font-size=\"14.00\">val = 0.000</text>\n",
       "</g>\n",
       "<!-- 46&#45;&gt;94 -->\n",
       "<g id=\"edge94\" class=\"edge\">\n",
       "<title>46&#45;&gt;94</title>\n",
       "<path fill=\"none\" stroke=\"black\" d=\"M3678.4,-86.8C3684.61,-74.82 3692.99,-58.62 3700.01,-45.06\"/>\n",
       "<polygon fill=\"black\" stroke=\"black\" points=\"3703.12,-46.67 3704.61,-36.18 3696.9,-43.45 3703.12,-46.67\"/>\n",
       "<text text-anchor=\"middle\" x=\"3707\" y=\"-57.8\" font-family=\"Times,serif\" font-size=\"14.00\">Yes</text>\n",
       "</g>\n",
       "<!-- 95 -->\n",
       "<g id=\"node96\" class=\"node\">\n",
       "<title>95</title>\n",
       "<polygon fill=\"none\" stroke=\"red\" points=\"3885.5,-36 3781.5,-36 3781.5,0 3885.5,0 3885.5,-36\"/>\n",
       "<text text-anchor=\"middle\" x=\"3833.5\" y=\"-14.3\" font-family=\"Times,serif\" font-size=\"14.00\">val = &#45;0.000</text>\n",
       "</g>\n",
       "<!-- 47&#45;&gt;95 -->\n",
       "<g id=\"edge95\" class=\"edge\">\n",
       "<title>47&#45;&gt;95</title>\n",
       "<path fill=\"none\" stroke=\"black\" d=\"M3889.33,-86.8C3879.28,-74.59 3865.61,-57.99 3854.32,-44.28\"/>\n",
       "<polygon fill=\"black\" stroke=\"black\" points=\"3856.7,-41.67 3847.64,-36.18 3851.3,-46.12 3856.7,-41.67\"/>\n",
       "<text text-anchor=\"middle\" x=\"3884\" y=\"-57.8\" font-family=\"Times,serif\" font-size=\"14.00\">No</text>\n",
       "</g>\n",
       "<!-- 96 -->\n",
       "<g id=\"node97\" class=\"node\">\n",
       "<title>96</title>\n",
       "<polygon fill=\"none\" stroke=\"red\" points=\"4003,-36 3904,-36 3904,0 4003,0 4003,-36\"/>\n",
       "<text text-anchor=\"middle\" x=\"3953.5\" y=\"-14.3\" font-family=\"Times,serif\" font-size=\"14.00\">val = 0.044</text>\n",
       "</g>\n",
       "<!-- 47&#45;&gt;96 -->\n",
       "<g id=\"edge96\" class=\"edge\">\n",
       "<title>47&#45;&gt;96</title>\n",
       "<path fill=\"none\" stroke=\"black\" d=\"M3913.62,-86.8C3920.67,-74.82 3930.2,-58.62 3938.17,-45.06\"/>\n",
       "<polygon fill=\"black\" stroke=\"black\" points=\"3941.34,-46.57 3943.4,-36.18 3935.31,-43.02 3941.34,-46.57\"/>\n",
       "<text text-anchor=\"middle\" x=\"3944\" y=\"-57.8\" font-family=\"Times,serif\" font-size=\"14.00\">Yes</text>\n",
       "</g>\n",
       "<!-- 97 -->\n",
       "<g id=\"node98\" class=\"node\">\n",
       "<title>97</title>\n",
       "<polygon fill=\"none\" stroke=\"red\" points=\"4125.5,-36 4021.5,-36 4021.5,0 4125.5,0 4125.5,-36\"/>\n",
       "<text text-anchor=\"middle\" x=\"4073.5\" y=\"-14.3\" font-family=\"Times,serif\" font-size=\"14.00\">val = &#45;0.017</text>\n",
       "</g>\n",
       "<!-- 48&#45;&gt;97 -->\n",
       "<g id=\"edge97\" class=\"edge\">\n",
       "<title>48&#45;&gt;97</title>\n",
       "<path fill=\"none\" stroke=\"black\" d=\"M4124.55,-86.8C4115.35,-74.59 4102.86,-57.99 4092.53,-44.28\"/>\n",
       "<polygon fill=\"black\" stroke=\"black\" points=\"4095.24,-42.06 4086.43,-36.18 4089.65,-46.27 4095.24,-42.06\"/>\n",
       "<text text-anchor=\"middle\" x=\"4120\" y=\"-57.8\" font-family=\"Times,serif\" font-size=\"14.00\">No</text>\n",
       "</g>\n",
       "<!-- 98 -->\n",
       "<g id=\"node99\" class=\"node\">\n",
       "<title>98</title>\n",
       "<polygon fill=\"none\" stroke=\"red\" points=\"4247.5,-36 4143.5,-36 4143.5,0 4247.5,0 4247.5,-36\"/>\n",
       "<text text-anchor=\"middle\" x=\"4195.5\" y=\"-14.3\" font-family=\"Times,serif\" font-size=\"14.00\">val = &#45;0.115</text>\n",
       "</g>\n",
       "<!-- 48&#45;&gt;98 -->\n",
       "<g id=\"edge98\" class=\"edge\">\n",
       "<title>48&#45;&gt;98</title>\n",
       "<path fill=\"none\" stroke=\"black\" d=\"M4149.24,-86.8C4157.49,-74.7 4168.68,-58.3 4177.99,-44.67\"/>\n",
       "<polygon fill=\"black\" stroke=\"black\" points=\"4181.03,-46.41 4183.78,-36.18 4175.25,-42.46 4181.03,-46.41\"/>\n",
       "<text text-anchor=\"middle\" x=\"4183\" y=\"-57.8\" font-family=\"Times,serif\" font-size=\"14.00\">Yes</text>\n",
       "</g>\n",
       "<!-- 99 -->\n",
       "<g id=\"node100\" class=\"node\">\n",
       "<title>99</title>\n",
       "<polygon fill=\"none\" stroke=\"red\" points=\"4365,-36 4266,-36 4266,0 4365,0 4365,-36\"/>\n",
       "<text text-anchor=\"middle\" x=\"4315.5\" y=\"-14.3\" font-family=\"Times,serif\" font-size=\"14.00\">val = 0.000</text>\n",
       "</g>\n",
       "<!-- 49&#45;&gt;99 -->\n",
       "<g id=\"edge99\" class=\"edge\">\n",
       "<title>49&#45;&gt;99</title>\n",
       "<path fill=\"none\" stroke=\"black\" d=\"M4360.17,-86.8C4352.2,-74.7 4341.39,-58.3 4332.41,-44.67\"/>\n",
       "<polygon fill=\"black\" stroke=\"black\" points=\"4335.24,-42.6 4326.82,-36.18 4329.39,-46.45 4335.24,-42.6\"/>\n",
       "<text text-anchor=\"middle\" x=\"4358\" y=\"-57.8\" font-family=\"Times,serif\" font-size=\"14.00\">No</text>\n",
       "</g>\n",
       "<!-- 100 -->\n",
       "<g id=\"node101\" class=\"node\">\n",
       "<title>100</title>\n",
       "<polygon fill=\"none\" stroke=\"red\" points=\"4487.5,-36 4383.5,-36 4383.5,0 4487.5,0 4487.5,-36\"/>\n",
       "<text text-anchor=\"middle\" x=\"4435.5\" y=\"-14.3\" font-family=\"Times,serif\" font-size=\"14.00\">val = &#45;0.052</text>\n",
       "</g>\n",
       "<!-- 49&#45;&gt;100 -->\n",
       "<g id=\"edge100\" class=\"edge\">\n",
       "<title>49&#45;&gt;100</title>\n",
       "<path fill=\"none\" stroke=\"black\" d=\"M4384.45,-86.8C4393.65,-74.59 4406.14,-57.99 4416.47,-44.28\"/>\n",
       "<polygon fill=\"black\" stroke=\"black\" points=\"4419.35,-46.27 4422.57,-36.18 4413.76,-42.06 4419.35,-46.27\"/>\n",
       "<text text-anchor=\"middle\" x=\"4420\" y=\"-57.8\" font-family=\"Times,serif\" font-size=\"14.00\">Yes</text>\n",
       "</g>\n",
       "<!-- 101 -->\n",
       "<g id=\"node102\" class=\"node\">\n",
       "<title>101</title>\n",
       "<polygon fill=\"none\" stroke=\"red\" points=\"4609.5,-36 4505.5,-36 4505.5,0 4609.5,0 4609.5,-36\"/>\n",
       "<text text-anchor=\"middle\" x=\"4557.5\" y=\"-14.3\" font-family=\"Times,serif\" font-size=\"14.00\">val = &#45;0.001</text>\n",
       "</g>\n",
       "<!-- 50&#45;&gt;101 -->\n",
       "<g id=\"edge101\" class=\"edge\">\n",
       "<title>50&#45;&gt;101</title>\n",
       "<path fill=\"none\" stroke=\"black\" d=\"M4595.79,-86.8C4589.02,-74.82 4579.87,-58.62 4572.21,-45.06\"/>\n",
       "<polygon fill=\"black\" stroke=\"black\" points=\"4575.16,-43.16 4567.2,-36.18 4569.07,-46.6 4575.16,-43.16\"/>\n",
       "<text text-anchor=\"middle\" x=\"4595\" y=\"-57.8\" font-family=\"Times,serif\" font-size=\"14.00\">No</text>\n",
       "</g>\n",
       "<!-- 102 -->\n",
       "<g id=\"node103\" class=\"node\">\n",
       "<title>102</title>\n",
       "<polygon fill=\"none\" stroke=\"red\" points=\"4727,-36 4628,-36 4628,0 4727,0 4727,-36\"/>\n",
       "<text text-anchor=\"middle\" x=\"4677.5\" y=\"-14.3\" font-family=\"Times,serif\" font-size=\"14.00\">val = 0.099</text>\n",
       "</g>\n",
       "<!-- 50&#45;&gt;102 -->\n",
       "<g id=\"edge102\" class=\"edge\">\n",
       "<title>50&#45;&gt;102</title>\n",
       "<path fill=\"none\" stroke=\"black\" d=\"M4620.07,-86.8C4630.51,-74.47 4644.74,-57.68 4656.42,-43.89\"/>\n",
       "<polygon fill=\"black\" stroke=\"black\" points=\"4659.16,-46.07 4662.95,-36.18 4653.82,-41.54 4659.16,-46.07\"/>\n",
       "<text text-anchor=\"middle\" x=\"4659\" y=\"-57.8\" font-family=\"Times,serif\" font-size=\"14.00\">Yes</text>\n",
       "</g>\n",
       "<!-- 103 -->\n",
       "<g id=\"node104\" class=\"node\">\n",
       "<title>103</title>\n",
       "<polygon fill=\"none\" stroke=\"red\" points=\"4844,-36 4745,-36 4745,0 4844,0 4844,-36\"/>\n",
       "<text text-anchor=\"middle\" x=\"4794.5\" y=\"-14.3\" font-family=\"Times,serif\" font-size=\"14.00\">val = 0.000</text>\n",
       "</g>\n",
       "<!-- 51&#45;&gt;103 -->\n",
       "<g id=\"edge103\" class=\"edge\">\n",
       "<title>51&#45;&gt;103</title>\n",
       "<path fill=\"none\" stroke=\"black\" d=\"M4830.39,-86.8C4824.05,-74.82 4815.47,-58.62 4808.29,-45.06\"/>\n",
       "<polygon fill=\"black\" stroke=\"black\" points=\"4811.37,-43.38 4803.59,-36.18 4805.18,-46.65 4811.37,-43.38\"/>\n",
       "<text text-anchor=\"middle\" x=\"4831\" y=\"-57.8\" font-family=\"Times,serif\" font-size=\"14.00\">No</text>\n",
       "</g>\n",
       "<!-- 104 -->\n",
       "<g id=\"node105\" class=\"node\">\n",
       "<title>104</title>\n",
       "<polygon fill=\"none\" stroke=\"red\" points=\"4961,-36 4862,-36 4862,0 4961,0 4961,-36\"/>\n",
       "<text text-anchor=\"middle\" x=\"4911.5\" y=\"-14.3\" font-family=\"Times,serif\" font-size=\"14.00\">val = 0.000</text>\n",
       "</g>\n",
       "<!-- 51&#45;&gt;104 -->\n",
       "<g id=\"edge104\" class=\"edge\">\n",
       "<title>51&#45;&gt;104</title>\n",
       "<path fill=\"none\" stroke=\"black\" d=\"M4854.07,-86.8C4864.51,-74.47 4878.74,-57.68 4890.42,-43.89\"/>\n",
       "<polygon fill=\"black\" stroke=\"black\" points=\"4893.16,-46.07 4896.95,-36.18 4887.82,-41.54 4893.16,-46.07\"/>\n",
       "<text text-anchor=\"middle\" x=\"4893\" y=\"-57.8\" font-family=\"Times,serif\" font-size=\"14.00\">Yes</text>\n",
       "</g>\n",
       "<!-- 105 -->\n",
       "<g id=\"node106\" class=\"node\">\n",
       "<title>105</title>\n",
       "<polygon fill=\"none\" stroke=\"red\" points=\"5078,-36 4979,-36 4979,0 5078,0 5078,-36\"/>\n",
       "<text text-anchor=\"middle\" x=\"5028.5\" y=\"-14.3\" font-family=\"Times,serif\" font-size=\"14.00\">val = 0.000</text>\n",
       "</g>\n",
       "<!-- 52&#45;&gt;105 -->\n",
       "<g id=\"edge105\" class=\"edge\">\n",
       "<title>52&#45;&gt;105</title>\n",
       "<path fill=\"none\" stroke=\"black\" d=\"M5064.39,-86.8C5058.05,-74.82 5049.47,-58.62 5042.29,-45.06\"/>\n",
       "<polygon fill=\"black\" stroke=\"black\" points=\"5045.37,-43.38 5037.59,-36.18 5039.18,-46.65 5045.37,-43.38\"/>\n",
       "<text text-anchor=\"middle\" x=\"5065\" y=\"-57.8\" font-family=\"Times,serif\" font-size=\"14.00\">No</text>\n",
       "</g>\n",
       "<!-- 106 -->\n",
       "<g id=\"node107\" class=\"node\">\n",
       "<title>106</title>\n",
       "<polygon fill=\"none\" stroke=\"red\" points=\"5195,-36 5096,-36 5096,0 5195,0 5195,-36\"/>\n",
       "<text text-anchor=\"middle\" x=\"5145.5\" y=\"-14.3\" font-family=\"Times,serif\" font-size=\"14.00\">val = 0.000</text>\n",
       "</g>\n",
       "<!-- 52&#45;&gt;106 -->\n",
       "<g id=\"edge106\" class=\"edge\">\n",
       "<title>52&#45;&gt;106</title>\n",
       "<path fill=\"none\" stroke=\"black\" d=\"M5088.07,-86.8C5098.51,-74.47 5112.74,-57.68 5124.42,-43.89\"/>\n",
       "<polygon fill=\"black\" stroke=\"black\" points=\"5127.16,-46.07 5130.95,-36.18 5121.82,-41.54 5127.16,-46.07\"/>\n",
       "<text text-anchor=\"middle\" x=\"5127\" y=\"-57.8\" font-family=\"Times,serif\" font-size=\"14.00\">Yes</text>\n",
       "</g>\n",
       "<!-- 107 -->\n",
       "<g id=\"node108\" class=\"node\">\n",
       "<title>107</title>\n",
       "<polygon fill=\"none\" stroke=\"red\" points=\"5312,-36 5213,-36 5213,0 5312,0 5312,-36\"/>\n",
       "<text text-anchor=\"middle\" x=\"5262.5\" y=\"-14.3\" font-family=\"Times,serif\" font-size=\"14.00\">val = 0.264</text>\n",
       "</g>\n",
       "<!-- 53&#45;&gt;107 -->\n",
       "<g id=\"edge107\" class=\"edge\">\n",
       "<title>53&#45;&gt;107</title>\n",
       "<path fill=\"none\" stroke=\"black\" d=\"M5298.39,-86.8C5292.05,-74.82 5283.47,-58.62 5276.29,-45.06\"/>\n",
       "<polygon fill=\"black\" stroke=\"black\" points=\"5279.37,-43.38 5271.59,-36.18 5273.18,-46.65 5279.37,-43.38\"/>\n",
       "<text text-anchor=\"middle\" x=\"5299\" y=\"-57.8\" font-family=\"Times,serif\" font-size=\"14.00\">No</text>\n",
       "</g>\n",
       "<!-- 108 -->\n",
       "<g id=\"node109\" class=\"node\">\n",
       "<title>108</title>\n",
       "<polygon fill=\"none\" stroke=\"red\" points=\"5434.5,-36 5330.5,-36 5330.5,0 5434.5,0 5434.5,-36\"/>\n",
       "<text text-anchor=\"middle\" x=\"5382.5\" y=\"-14.3\" font-family=\"Times,serif\" font-size=\"14.00\">val = &#45;0.000</text>\n",
       "</g>\n",
       "<!-- 53&#45;&gt;108 -->\n",
       "<g id=\"edge108\" class=\"edge\">\n",
       "<title>53&#45;&gt;108</title>\n",
       "<path fill=\"none\" stroke=\"black\" d=\"M5322.68,-86.8C5333.55,-74.47 5348.37,-57.68 5360.54,-43.89\"/>\n",
       "<polygon fill=\"black\" stroke=\"black\" points=\"5363.35,-45.99 5367.35,-36.18 5358.1,-41.36 5363.35,-45.99\"/>\n",
       "<text text-anchor=\"middle\" x=\"5362\" y=\"-57.8\" font-family=\"Times,serif\" font-size=\"14.00\">Yes</text>\n",
       "</g>\n",
       "<!-- 109 -->\n",
       "<g id=\"node110\" class=\"node\">\n",
       "<title>109</title>\n",
       "<polygon fill=\"none\" stroke=\"red\" points=\"5556.5,-36 5452.5,-36 5452.5,0 5556.5,0 5556.5,-36\"/>\n",
       "<text text-anchor=\"middle\" x=\"5504.5\" y=\"-14.3\" font-family=\"Times,serif\" font-size=\"14.00\">val = &#45;0.015</text>\n",
       "</g>\n",
       "<!-- 54&#45;&gt;109 -->\n",
       "<g id=\"edge109\" class=\"edge\">\n",
       "<title>54&#45;&gt;109</title>\n",
       "<path fill=\"none\" stroke=\"black\" d=\"M5534.01,-86.8C5528.85,-74.93 5521.88,-58.93 5516.01,-45.45\"/>\n",
       "<polygon fill=\"black\" stroke=\"black\" points=\"5519.18,-43.95 5511.98,-36.18 5512.76,-46.74 5519.18,-43.95\"/>\n",
       "<text text-anchor=\"middle\" x=\"5536\" y=\"-57.8\" font-family=\"Times,serif\" font-size=\"14.00\">No</text>\n",
       "</g>\n",
       "<!-- 110 -->\n",
       "<g id=\"node111\" class=\"node\">\n",
       "<title>110</title>\n",
       "<polygon fill=\"none\" stroke=\"red\" points=\"5674,-36 5575,-36 5575,0 5674,0 5674,-36\"/>\n",
       "<text text-anchor=\"middle\" x=\"5624.5\" y=\"-14.3\" font-family=\"Times,serif\" font-size=\"14.00\">val = 0.201</text>\n",
       "</g>\n",
       "<!-- 54&#45;&gt;110 -->\n",
       "<g id=\"edge110\" class=\"edge\">\n",
       "<title>54&#45;&gt;110</title>\n",
       "<path fill=\"none\" stroke=\"black\" d=\"M5557.9,-87.21C5570.1,-74.72 5586.93,-57.48 5600.62,-43.46\"/>\n",
       "<polygon fill=\"black\" stroke=\"black\" points=\"5603.37,-45.65 5607.85,-36.05 5598.36,-40.76 5603.37,-45.65\"/>\n",
       "<text text-anchor=\"middle\" x=\"5601\" y=\"-57.8\" font-family=\"Times,serif\" font-size=\"14.00\">Yes</text>\n",
       "</g>\n",
       "<!-- 111 -->\n",
       "<g id=\"node112\" class=\"node\">\n",
       "<title>111</title>\n",
       "<polygon fill=\"none\" stroke=\"red\" points=\"5796.5,-36 5692.5,-36 5692.5,0 5796.5,0 5796.5,-36\"/>\n",
       "<text text-anchor=\"middle\" x=\"5744.5\" y=\"-14.3\" font-family=\"Times,serif\" font-size=\"14.00\">val = &#45;0.071</text>\n",
       "</g>\n",
       "<!-- 55&#45;&gt;111 -->\n",
       "<g id=\"edge111\" class=\"edge\">\n",
       "<title>55&#45;&gt;111</title>\n",
       "<path fill=\"none\" stroke=\"black\" d=\"M5769.23,-86.8C5764.94,-75.05 5759.18,-59.24 5754.29,-45.84\"/>\n",
       "<polygon fill=\"black\" stroke=\"black\" points=\"5757.48,-44.37 5750.76,-36.18 5750.9,-46.77 5757.48,-44.37\"/>\n",
       "<text text-anchor=\"middle\" x=\"5773\" y=\"-57.8\" font-family=\"Times,serif\" font-size=\"14.00\">No</text>\n",
       "</g>\n",
       "<!-- 112 -->\n",
       "<g id=\"node113\" class=\"node\">\n",
       "<title>112</title>\n",
       "<polygon fill=\"none\" stroke=\"red\" points=\"5914,-36 5815,-36 5815,0 5914,0 5914,-36\"/>\n",
       "<text text-anchor=\"middle\" x=\"5864.5\" y=\"-14.3\" font-family=\"Times,serif\" font-size=\"14.00\">val = 0.015</text>\n",
       "</g>\n",
       "<!-- 55&#45;&gt;112 -->\n",
       "<g id=\"edge112\" class=\"edge\">\n",
       "<title>55&#45;&gt;112</title>\n",
       "<path fill=\"none\" stroke=\"black\" d=\"M5793.08,-87.21C5806.28,-74.6 5824.55,-57.16 5839.3,-43.07\"/>\n",
       "<polygon fill=\"black\" stroke=\"black\" points=\"5841.83,-45.49 5846.65,-36.05 5837,-40.42 5841.83,-45.49\"/>\n",
       "<text text-anchor=\"middle\" x=\"5838\" y=\"-57.8\" font-family=\"Times,serif\" font-size=\"14.00\">Yes</text>\n",
       "</g>\n",
       "<!-- 113 -->\n",
       "<g id=\"node114\" class=\"node\">\n",
       "<title>113</title>\n",
       "<polygon fill=\"none\" stroke=\"red\" points=\"6031,-36 5932,-36 5932,0 6031,0 6031,-36\"/>\n",
       "<text text-anchor=\"middle\" x=\"5981.5\" y=\"-14.3\" font-family=\"Times,serif\" font-size=\"14.00\">val = 0.101</text>\n",
       "</g>\n",
       "<!-- 56&#45;&gt;113 -->\n",
       "<g id=\"edge113\" class=\"edge\">\n",
       "<title>56&#45;&gt;113</title>\n",
       "<path fill=\"none\" stroke=\"black\" d=\"M6003.83,-86.8C5999.96,-75.05 5994.75,-59.24 5990.34,-45.84\"/>\n",
       "<polygon fill=\"black\" stroke=\"black\" points=\"5993.61,-44.58 5987.16,-36.18 5986.96,-46.77 5993.61,-44.58\"/>\n",
       "<text text-anchor=\"middle\" x=\"6008\" y=\"-57.8\" font-family=\"Times,serif\" font-size=\"14.00\">No</text>\n",
       "</g>\n",
       "<!-- 114 -->\n",
       "<g id=\"node115\" class=\"node\">\n",
       "<title>114</title>\n",
       "<polygon fill=\"none\" stroke=\"red\" points=\"6148,-36 6049,-36 6049,0 6148,0 6148,-36\"/>\n",
       "<text text-anchor=\"middle\" x=\"6098.5\" y=\"-14.3\" font-family=\"Times,serif\" font-size=\"14.00\">val = 0.003</text>\n",
       "</g>\n",
       "<!-- 56&#45;&gt;114 -->\n",
       "<g id=\"edge114\" class=\"edge\">\n",
       "<title>56&#45;&gt;114</title>\n",
       "<path fill=\"none\" stroke=\"black\" d=\"M6027.08,-87.21C6040.28,-74.6 6058.55,-57.16 6073.3,-43.07\"/>\n",
       "<polygon fill=\"black\" stroke=\"black\" points=\"6075.83,-45.49 6080.65,-36.05 6071,-40.42 6075.83,-45.49\"/>\n",
       "<text text-anchor=\"middle\" x=\"6072\" y=\"-57.8\" font-family=\"Times,serif\" font-size=\"14.00\">Yes</text>\n",
       "</g>\n",
       "<!-- 115 -->\n",
       "<g id=\"node116\" class=\"node\">\n",
       "<title>115</title>\n",
       "<polygon fill=\"none\" stroke=\"red\" points=\"6265,-36 6166,-36 6166,0 6265,0 6265,-36\"/>\n",
       "<text text-anchor=\"middle\" x=\"6215.5\" y=\"-14.3\" font-family=\"Times,serif\" font-size=\"14.00\">val = 0.495</text>\n",
       "</g>\n",
       "<!-- 57&#45;&gt;115 -->\n",
       "<g id=\"edge115\" class=\"edge\">\n",
       "<title>57&#45;&gt;115</title>\n",
       "<path fill=\"none\" stroke=\"black\" d=\"M6237.83,-86.8C6233.96,-75.05 6228.75,-59.24 6224.34,-45.84\"/>\n",
       "<polygon fill=\"black\" stroke=\"black\" points=\"6227.61,-44.58 6221.16,-36.18 6220.96,-46.77 6227.61,-44.58\"/>\n",
       "<text text-anchor=\"middle\" x=\"6242\" y=\"-57.8\" font-family=\"Times,serif\" font-size=\"14.00\">No</text>\n",
       "</g>\n",
       "<!-- 116 -->\n",
       "<g id=\"node117\" class=\"node\">\n",
       "<title>116</title>\n",
       "<polygon fill=\"none\" stroke=\"red\" points=\"6387.5,-36 6283.5,-36 6283.5,0 6387.5,0 6387.5,-36\"/>\n",
       "<text text-anchor=\"middle\" x=\"6335.5\" y=\"-14.3\" font-family=\"Times,serif\" font-size=\"14.00\">val = &#45;0.010</text>\n",
       "</g>\n",
       "<!-- 57&#45;&gt;116 -->\n",
       "<g id=\"edge116\" class=\"edge\">\n",
       "<title>57&#45;&gt;116</title>\n",
       "<path fill=\"none\" stroke=\"black\" d=\"M6261.68,-87.21C6275.32,-74.6 6294.2,-57.16 6309.45,-43.07\"/>\n",
       "<polygon fill=\"black\" stroke=\"black\" points=\"6312.08,-45.41 6317.05,-36.05 6307.33,-40.26 6312.08,-45.41\"/>\n",
       "<text text-anchor=\"middle\" x=\"6308\" y=\"-57.8\" font-family=\"Times,serif\" font-size=\"14.00\">Yes</text>\n",
       "</g>\n",
       "<!-- 117 -->\n",
       "<g id=\"node118\" class=\"node\">\n",
       "<title>117</title>\n",
       "<polygon fill=\"none\" stroke=\"red\" points=\"6509.5,-36 6405.5,-36 6405.5,0 6509.5,0 6509.5,-36\"/>\n",
       "<text text-anchor=\"middle\" x=\"6457.5\" y=\"-14.3\" font-family=\"Times,serif\" font-size=\"14.00\">val = &#45;0.015</text>\n",
       "</g>\n",
       "<!-- 58&#45;&gt;117 -->\n",
       "<g id=\"edge117\" class=\"edge\">\n",
       "<title>58&#45;&gt;117</title>\n",
       "<path fill=\"none\" stroke=\"black\" d=\"M6473.45,-86.8C6470.71,-75.16 6467.04,-59.55 6463.91,-46.24\"/>\n",
       "<polygon fill=\"black\" stroke=\"black\" points=\"6467.24,-45.11 6461.54,-36.18 6460.42,-46.71 6467.24,-45.11\"/>\n",
       "<text text-anchor=\"middle\" x=\"6480\" y=\"-57.8\" font-family=\"Times,serif\" font-size=\"14.00\">No</text>\n",
       "</g>\n",
       "<!-- 118 -->\n",
       "<g id=\"node119\" class=\"node\">\n",
       "<title>118</title>\n",
       "<polygon fill=\"none\" stroke=\"red\" points=\"6631.5,-36 6527.5,-36 6527.5,0 6631.5,0 6631.5,-36\"/>\n",
       "<text text-anchor=\"middle\" x=\"6579.5\" y=\"-14.3\" font-family=\"Times,serif\" font-size=\"14.00\">val = &#45;0.133</text>\n",
       "</g>\n",
       "<!-- 58&#45;&gt;118 -->\n",
       "<g id=\"edge118\" class=\"edge\">\n",
       "<title>58&#45;&gt;118</title>\n",
       "<path fill=\"none\" stroke=\"black\" d=\"M6497.65,-87.21C6512.92,-74.48 6534.1,-56.84 6551.08,-42.68\"/>\n",
       "<polygon fill=\"black\" stroke=\"black\" points=\"6553.6,-45.14 6559.04,-36.05 6549.12,-39.76 6553.6,-45.14\"/>\n",
       "<text text-anchor=\"middle\" x=\"6548\" y=\"-57.8\" font-family=\"Times,serif\" font-size=\"14.00\">Yes</text>\n",
       "</g>\n",
       "<!-- 119 -->\n",
       "<g id=\"node120\" class=\"node\">\n",
       "<title>119</title>\n",
       "<polygon fill=\"none\" stroke=\"red\" points=\"6749,-36 6650,-36 6650,0 6749,0 6749,-36\"/>\n",
       "<text text-anchor=\"middle\" x=\"6699.5\" y=\"-14.3\" font-family=\"Times,serif\" font-size=\"14.00\">val = 0.000</text>\n",
       "</g>\n",
       "<!-- 59&#45;&gt;119 -->\n",
       "<g id=\"edge119\" class=\"edge\">\n",
       "<title>59&#45;&gt;119</title>\n",
       "<path fill=\"none\" stroke=\"black\" d=\"M6709.07,-86.8C6707.43,-75.16 6705.22,-59.55 6703.35,-46.24\"/>\n",
       "<polygon fill=\"black\" stroke=\"black\" points=\"6706.79,-45.59 6701.92,-36.18 6699.86,-46.57 6706.79,-45.59\"/>\n",
       "<text text-anchor=\"middle\" x=\"6717\" y=\"-57.8\" font-family=\"Times,serif\" font-size=\"14.00\">No</text>\n",
       "</g>\n",
       "<!-- 120 -->\n",
       "<g id=\"node121\" class=\"node\">\n",
       "<title>120</title>\n",
       "<polygon fill=\"none\" stroke=\"red\" points=\"6866,-36 6767,-36 6767,0 6866,0 6866,-36\"/>\n",
       "<text text-anchor=\"middle\" x=\"6816.5\" y=\"-14.3\" font-family=\"Times,serif\" font-size=\"14.00\">val = 0.000</text>\n",
       "</g>\n",
       "<!-- 59&#45;&gt;120 -->\n",
       "<g id=\"edge120\" class=\"edge\">\n",
       "<title>59&#45;&gt;120</title>\n",
       "<path fill=\"none\" stroke=\"black\" d=\"M6732.24,-87.21C6747.96,-74.48 6769.76,-56.84 6787.25,-42.68\"/>\n",
       "<polygon fill=\"black\" stroke=\"black\" points=\"6789.87,-45.06 6795.44,-36.05 6785.46,-39.62 6789.87,-45.06\"/>\n",
       "<text text-anchor=\"middle\" x=\"6783\" y=\"-57.8\" font-family=\"Times,serif\" font-size=\"14.00\">Yes</text>\n",
       "</g>\n",
       "<!-- 121 -->\n",
       "<g id=\"node122\" class=\"node\">\n",
       "<title>121</title>\n",
       "<polygon fill=\"none\" stroke=\"red\" points=\"6983,-36 6884,-36 6884,0 6983,0 6983,-36\"/>\n",
       "<text text-anchor=\"middle\" x=\"6933.5\" y=\"-14.3\" font-family=\"Times,serif\" font-size=\"14.00\">val = 0.000</text>\n",
       "</g>\n",
       "<!-- 60&#45;&gt;121 -->\n",
       "<g id=\"edge121\" class=\"edge\">\n",
       "<title>60&#45;&gt;121</title>\n",
       "<path fill=\"none\" stroke=\"black\" d=\"M6943.07,-86.8C6941.43,-75.16 6939.22,-59.55 6937.35,-46.24\"/>\n",
       "<polygon fill=\"black\" stroke=\"black\" points=\"6940.79,-45.59 6935.92,-36.18 6933.86,-46.57 6940.79,-45.59\"/>\n",
       "<text text-anchor=\"middle\" x=\"6951\" y=\"-57.8\" font-family=\"Times,serif\" font-size=\"14.00\">No</text>\n",
       "</g>\n",
       "<!-- 122 -->\n",
       "<g id=\"node123\" class=\"node\">\n",
       "<title>122</title>\n",
       "<polygon fill=\"none\" stroke=\"red\" points=\"7100,-36 7001,-36 7001,0 7100,0 7100,-36\"/>\n",
       "<text text-anchor=\"middle\" x=\"7050.5\" y=\"-14.3\" font-family=\"Times,serif\" font-size=\"14.00\">val = 0.000</text>\n",
       "</g>\n",
       "<!-- 60&#45;&gt;122 -->\n",
       "<g id=\"edge122\" class=\"edge\">\n",
       "<title>60&#45;&gt;122</title>\n",
       "<path fill=\"none\" stroke=\"black\" d=\"M6966.24,-87.21C6981.96,-74.48 7003.76,-56.84 7021.25,-42.68\"/>\n",
       "<polygon fill=\"black\" stroke=\"black\" points=\"7023.87,-45.06 7029.44,-36.05 7019.46,-39.62 7023.87,-45.06\"/>\n",
       "<text text-anchor=\"middle\" x=\"7017\" y=\"-57.8\" font-family=\"Times,serif\" font-size=\"14.00\">Yes</text>\n",
       "</g>\n",
       "<!-- 123 -->\n",
       "<g id=\"node124\" class=\"node\">\n",
       "<title>123</title>\n",
       "<polygon fill=\"none\" stroke=\"red\" points=\"7222.5,-36 7118.5,-36 7118.5,0 7222.5,0 7222.5,-36\"/>\n",
       "<text text-anchor=\"middle\" x=\"7170.5\" y=\"-14.3\" font-family=\"Times,serif\" font-size=\"14.00\">val = &#45;0.032</text>\n",
       "</g>\n",
       "<!-- 61&#45;&gt;123 -->\n",
       "<g id=\"edge123\" class=\"edge\">\n",
       "<title>61&#45;&gt;123</title>\n",
       "<path fill=\"none\" stroke=\"black\" d=\"M7177.68,-86.8C7176.45,-75.16 7174.79,-59.55 7173.38,-46.24\"/>\n",
       "<polygon fill=\"black\" stroke=\"black\" points=\"7176.85,-45.75 7172.32,-36.18 7169.89,-46.49 7176.85,-45.75\"/>\n",
       "<text text-anchor=\"middle\" x=\"7187\" y=\"-57.8\" font-family=\"Times,serif\" font-size=\"14.00\">No</text>\n",
       "</g>\n",
       "<!-- 124 -->\n",
       "<g id=\"node125\" class=\"node\">\n",
       "<title>124</title>\n",
       "<polygon fill=\"none\" stroke=\"red\" points=\"7344.5,-36 7240.5,-36 7240.5,0 7344.5,0 7344.5,-36\"/>\n",
       "<text text-anchor=\"middle\" x=\"7292.5\" y=\"-14.3\" font-family=\"Times,serif\" font-size=\"14.00\">val = &#45;0.072</text>\n",
       "</g>\n",
       "<!-- 61&#45;&gt;124 -->\n",
       "<g id=\"edge124\" class=\"edge\">\n",
       "<title>61&#45;&gt;124</title>\n",
       "<path fill=\"none\" stroke=\"black\" d=\"M7201.83,-87.21C7218.97,-74.31 7242.84,-56.36 7261.78,-42.1\"/>\n",
       "<polygon fill=\"black\" stroke=\"black\" points=\"7263.95,-44.86 7269.83,-36.05 7259.74,-39.26 7263.95,-44.86\"/>\n",
       "<text text-anchor=\"middle\" x=\"7256\" y=\"-57.8\" font-family=\"Times,serif\" font-size=\"14.00\">Yes</text>\n",
       "</g>\n",
       "<!-- 125 -->\n",
       "<g id=\"node126\" class=\"node\">\n",
       "<title>125</title>\n",
       "<polygon fill=\"none\" stroke=\"red\" points=\"7462,-36 7363,-36 7363,0 7462,0 7462,-36\"/>\n",
       "<text text-anchor=\"middle\" x=\"7412.5\" y=\"-14.3\" font-family=\"Times,serif\" font-size=\"14.00\">val = 0.051</text>\n",
       "</g>\n",
       "<!-- 62&#45;&gt;125 -->\n",
       "<g id=\"edge125\" class=\"edge\">\n",
       "<title>62&#45;&gt;125</title>\n",
       "<path fill=\"none\" stroke=\"black\" d=\"M7413.3,-86.8C7413.16,-75.16 7412.98,-59.55 7412.82,-46.24\"/>\n",
       "<polygon fill=\"black\" stroke=\"black\" points=\"7416.32,-46.13 7412.7,-36.18 7409.32,-46.22 7416.32,-46.13\"/>\n",
       "<text text-anchor=\"middle\" x=\"7424\" y=\"-57.8\" font-family=\"Times,serif\" font-size=\"14.00\">No</text>\n",
       "</g>\n",
       "<!-- 126 -->\n",
       "<g id=\"node127\" class=\"node\">\n",
       "<title>126</title>\n",
       "<polygon fill=\"none\" stroke=\"red\" points=\"7584.5,-36 7480.5,-36 7480.5,0 7584.5,0 7584.5,-36\"/>\n",
       "<text text-anchor=\"middle\" x=\"7532.5\" y=\"-14.3\" font-family=\"Times,serif\" font-size=\"14.00\">val = &#45;0.018</text>\n",
       "</g>\n",
       "<!-- 62&#45;&gt;126 -->\n",
       "<g id=\"edge126\" class=\"edge\">\n",
       "<title>62&#45;&gt;126</title>\n",
       "<path fill=\"none\" stroke=\"black\" d=\"M7436.73,-87.41C7454.84,-74.47 7480.2,-56.36 7500.27,-42.02\"/>\n",
       "<polygon fill=\"black\" stroke=\"black\" points=\"7502.41,-44.79 7508.52,-36.13 7498.34,-39.1 7502.41,-44.79\"/>\n",
       "<text text-anchor=\"middle\" x=\"7493\" y=\"-57.8\" font-family=\"Times,serif\" font-size=\"14.00\">Yes</text>\n",
       "</g>\n",
       "</g>\n",
       "</svg>\n"
      ],
      "text/plain": [
       "<graphviz.graphs.Digraph at 0x7f67c6c78ca0>"
      ]
     },
     "execution_count": 31,
     "metadata": {},
     "output_type": "execute_result"
    }
   ],
   "source": [
    "model.plot_tree(tree_idx = model.get_best_iteration())"
   ]
  },
  {
   "cell_type": "markdown",
   "id": "6ba323eb-ba6b-4e24-a55c-8e1190b401c5",
   "metadata": {},
   "source": [
    "### Inference"
   ]
  },
  {
   "cell_type": "code",
   "execution_count": 32,
   "id": "763436ec-0239-4191-9045-8466ffe019e9",
   "metadata": {
    "tags": []
   },
   "outputs": [],
   "source": [
    "predictions = model.predict(test.get_features())\n",
    "predictions_probs = model.predict_proba(test.get_features())"
   ]
  },
  {
   "cell_type": "code",
   "execution_count": 33,
   "id": "83580551-6946-4a5e-a731-b464c17c5936",
   "metadata": {
    "tags": []
   },
   "outputs": [
    {
     "data": {
      "text/plain": [
       "array([0, 0, 0, 0, 0, 0, 0, 0, 0, 0])"
      ]
     },
     "execution_count": 33,
     "metadata": {},
     "output_type": "execute_result"
    }
   ],
   "source": [
    "predictions[0:10]"
   ]
  },
  {
   "cell_type": "code",
   "execution_count": 34,
   "id": "6e416ed6-b72e-416f-ba32-8975978ed25a",
   "metadata": {
    "tags": []
   },
   "outputs": [
    {
     "data": {
      "text/plain": [
       "array([[9.99991695e-01, 8.30504115e-06],\n",
       "       [9.99806822e-01, 1.93177551e-04],\n",
       "       [9.99991894e-01, 8.10611269e-06],\n",
       "       [9.99911412e-01, 8.85876800e-05],\n",
       "       [9.98025893e-01, 1.97410747e-03],\n",
       "       [9.99969925e-01, 3.00748424e-05],\n",
       "       [9.99751088e-01, 2.48911524e-04],\n",
       "       [9.99064114e-01, 9.35886375e-04],\n",
       "       [9.99817211e-01, 1.82788685e-04],\n",
       "       [9.68465361e-01, 3.15346391e-02]])"
      ]
     },
     "execution_count": 34,
     "metadata": {},
     "output_type": "execute_result"
    }
   ],
   "source": [
    "predictions_probs[0:10]"
   ]
  },
  {
   "cell_type": "code",
   "execution_count": 35,
   "id": "fb8fce12-c0b7-46fc-a9e5-c7fe75757cbb",
   "metadata": {
    "tags": []
   },
   "outputs": [
    {
     "data": {
      "text/plain": [
       "0.9997893406361913"
      ]
     },
     "execution_count": 35,
     "metadata": {},
     "output_type": "execute_result"
    }
   ],
   "source": [
    "sklearn.metrics.accuracy_score(\n",
    "    test.get_label(),\n",
    "    model.predict(test.get_features())\n",
    ")"
   ]
  },
  {
   "cell_type": "markdown",
   "id": "f507de08-a554-450a-b28a-dc4a15e9caac",
   "metadata": {},
   "source": [
    "### Evaluation"
   ]
  },
  {
   "cell_type": "code",
   "execution_count": 36,
   "id": "855e8f7a-d4b7-408d-b026-20c49c05b767",
   "metadata": {
    "tags": []
   },
   "outputs": [
    {
     "data": {
      "text/plain": [
       "array([0, 1])"
      ]
     },
     "execution_count": 36,
     "metadata": {},
     "output_type": "execute_result"
    }
   ],
   "source": [
    "# class labels\n",
    "model.classes_"
   ]
  },
  {
   "cell_type": "code",
   "execution_count": 37,
   "id": "4e86fd46-12d3-4caa-8ffe-3f50c1dbbf6e",
   "metadata": {
    "tags": []
   },
   "outputs": [
    {
     "data": {
      "text/plain": [
       "[[28431, 1], [5, 45]]"
      ]
     },
     "execution_count": 37,
     "metadata": {},
     "output_type": "execute_result"
    }
   ],
   "source": [
    "# confusion matrix\n",
    "sklearn.metrics.confusion_matrix(test.get_label(), model.predict(test)).tolist()"
   ]
  },
  {
   "cell_type": "code",
   "execution_count": 38,
   "id": "4e181e65-3113-4b70-bd93-3f8bdd02f3d8",
   "metadata": {
    "tags": []
   },
   "outputs": [
    {
     "data": {
      "text/plain": [
       "0.9890425180573309"
      ]
     },
     "execution_count": 38,
     "metadata": {},
     "output_type": "execute_result"
    }
   ],
   "source": [
    "# precision\n",
    "sklearn.metrics.precision_score(test.get_label(), model.predict(test), average='macro')"
   ]
  },
  {
   "cell_type": "code",
   "execution_count": 39,
   "id": "5b46f8de-c3ad-40f9-85d7-3e84f07b2dce",
   "metadata": {
    "tags": []
   },
   "outputs": [
    {
     "data": {
      "text/plain": [
       "0.9499824141812043"
      ]
     },
     "execution_count": 39,
     "metadata": {},
     "output_type": "execute_result"
    }
   ],
   "source": [
    "# recall\n",
    "sklearn.metrics.recall_score(test.get_label(), model.predict(test), average='macro')"
   ]
  },
  {
   "cell_type": "code",
   "execution_count": 40,
   "id": "9aafa5f7-4589-4891-9b4f-195b1d36e952",
   "metadata": {
    "tags": []
   },
   "outputs": [
    {
     "data": {
      "text/plain": [
       "0.9686972462544841"
      ]
     },
     "execution_count": 40,
     "metadata": {},
     "output_type": "execute_result"
    }
   ],
   "source": [
    "# f1\n",
    "sklearn.metrics.f1_score(test.get_label(), model.predict(test), average='macro')"
   ]
  },
  {
   "cell_type": "code",
   "execution_count": 41,
   "id": "fabf5112-c54d-47a9-9435-aaa098e7faca",
   "metadata": {
    "tags": []
   },
   "outputs": [
    {
     "data": {
      "text/plain": [
       "0.8806103320785362"
      ]
     },
     "execution_count": 41,
     "metadata": {},
     "output_type": "execute_result"
    }
   ],
   "source": [
    "# average precision\n",
    "sklearn.metrics.average_precision_score(test.get_label(), model.predict(test), average='macro')"
   ]
  },
  {
   "cell_type": "code",
   "execution_count": 42,
   "id": "761ed97b-924b-4475-a3fd-bd75f9d1bb63",
   "metadata": {
    "tags": []
   },
   "outputs": [],
   "source": [
    "# fpr, tpr, threshold for ROC curve\n",
    "fpr, tpr, threshold = sklearn.metrics.roc_curve(test.get_label(), model.predict_proba(test)[:, 1])"
   ]
  },
  {
   "cell_type": "code",
   "execution_count": 43,
   "id": "fdb6d63b-2c59-4400-9cfe-fc0707fc3979",
   "metadata": {
    "tags": []
   },
   "outputs": [
    {
     "data": {
      "text/plain": [
       "(array([0.00000000e+00, 0.00000000e+00, 0.00000000e+00, 3.51716376e-05,\n",
       "        3.51716376e-05, 1.40686550e-04, 1.40686550e-04, 5.97917839e-04,\n",
       "        5.97917839e-04, 6.33089477e-04]),\n",
       " array([0.  , 0.02, 0.88, 0.88, 0.9 , 0.9 , 0.92, 0.92, 0.94, 0.94]),\n",
       " array([       inf, 0.99860554, 0.81415366, 0.67835097, 0.641084  ,\n",
       "        0.20736097, 0.18779968, 0.03497907, 0.03153464, 0.03115019]))"
      ]
     },
     "execution_count": 43,
     "metadata": {},
     "output_type": "execute_result"
    }
   ],
   "source": [
    "fpr[0:10], tpr[0:10], threshold[0:10]"
   ]
  },
  {
   "cell_type": "code",
   "execution_count": 44,
   "id": "eea1fb89-9d33-48c4-9d1c-eebe3fe1da6d",
   "metadata": {
    "tags": []
   },
   "outputs": [
    {
     "data": {
      "text/plain": [
       "array([[2.8431e+04, 1.0000e+00],\n",
       "       [5.0000e+00, 4.5000e+01]])"
      ]
     },
     "execution_count": 44,
     "metadata": {},
     "output_type": "execute_result"
    }
   ],
   "source": [
    "# confusion matrix\n",
    "catboost.utils.get_confusion_matrix(model, test)"
   ]
  },
  {
   "cell_type": "code",
   "execution_count": 45,
   "id": "7fb9780d-b5b6-4e46-beb7-a57b2f1f91f2",
   "metadata": {
    "tags": []
   },
   "outputs": [
    {
     "data": {
      "text/plain": [
       "(array([0.        , 0.        , 0.        , ..., 0.99992966, 0.99996483,\n",
       "        1.        ]),\n",
       " array([0.  , 0.02, 0.04, ..., 1.  , 1.  , 1.  ]),\n",
       " array([1.00000000e+00, 9.98538004e-01, 9.98463447e-01, ...,\n",
       "        3.39514354e-07, 2.76701044e-07, 0.00000000e+00]))"
      ]
     },
     "execution_count": 45,
     "metadata": {},
     "output_type": "execute_result"
    }
   ],
   "source": [
    "# fpr, tpr, thresholds for ROC curve\n",
    "catboost.utils.get_roc_curve(model, test)"
   ]
  },
  {
   "cell_type": "markdown",
   "id": "188934bd-af97-4480-8194-346a61ca17d6",
   "metadata": {},
   "source": [
    "### Inference Data Formats"
   ]
  },
  {
   "cell_type": "code",
   "execution_count": 46,
   "id": "c98b5b68-b3df-4833-93d2-919a7b9b2476",
   "metadata": {
    "tags": []
   },
   "outputs": [
    {
     "data": {
      "text/html": [
       "<div>\n",
       "<style scoped>\n",
       "    .dataframe tbody tr th:only-of-type {\n",
       "        vertical-align: middle;\n",
       "    }\n",
       "\n",
       "    .dataframe tbody tr th {\n",
       "        vertical-align: top;\n",
       "    }\n",
       "\n",
       "    .dataframe thead th {\n",
       "        text-align: right;\n",
       "    }\n",
       "</style>\n",
       "<table border=\"1\" class=\"dataframe\">\n",
       "  <thead>\n",
       "    <tr style=\"text-align: right;\">\n",
       "      <th></th>\n",
       "      <th>Time</th>\n",
       "      <th>V1</th>\n",
       "      <th>V2</th>\n",
       "      <th>V3</th>\n",
       "      <th>V4</th>\n",
       "      <th>V5</th>\n",
       "      <th>V6</th>\n",
       "      <th>V7</th>\n",
       "      <th>V8</th>\n",
       "      <th>V9</th>\n",
       "      <th>...</th>\n",
       "      <th>V20</th>\n",
       "      <th>V21</th>\n",
       "      <th>V22</th>\n",
       "      <th>V23</th>\n",
       "      <th>V24</th>\n",
       "      <th>V25</th>\n",
       "      <th>V26</th>\n",
       "      <th>V27</th>\n",
       "      <th>V28</th>\n",
       "      <th>Amount</th>\n",
       "    </tr>\n",
       "  </thead>\n",
       "  <tbody>\n",
       "    <tr>\n",
       "      <th>9</th>\n",
       "      <td>64585.0</td>\n",
       "      <td>1.080433</td>\n",
       "      <td>0.962831</td>\n",
       "      <td>-0.278065</td>\n",
       "      <td>2.743318</td>\n",
       "      <td>0.412364</td>\n",
       "      <td>-0.320778</td>\n",
       "      <td>0.04129</td>\n",
       "      <td>0.17617</td>\n",
       "      <td>-0.966952</td>\n",
       "      <td>...</td>\n",
       "      <td>-0.172659</td>\n",
       "      <td>-0.008996</td>\n",
       "      <td>-0.057036</td>\n",
       "      <td>-0.053692</td>\n",
       "      <td>-0.026373</td>\n",
       "      <td>0.4003</td>\n",
       "      <td>0.072828</td>\n",
       "      <td>0.027043</td>\n",
       "      <td>0.063238</td>\n",
       "      <td>0.0</td>\n",
       "    </tr>\n",
       "  </tbody>\n",
       "</table>\n",
       "<p>1 rows × 30 columns</p>\n",
       "</div>"
      ],
      "text/plain": [
       "      Time        V1        V2        V3        V4        V5        V6  \\\n",
       "9  64585.0  1.080433  0.962831 -0.278065  2.743318  0.412364 -0.320778   \n",
       "\n",
       "        V7       V8        V9  ...       V20       V21       V22       V23  \\\n",
       "9  0.04129  0.17617 -0.966952  ... -0.172659 -0.008996 -0.057036 -0.053692   \n",
       "\n",
       "        V24     V25       V26       V27       V28  Amount  \n",
       "9 -0.026373  0.4003  0.072828  0.027043  0.063238     0.0  \n",
       "\n",
       "[1 rows x 30 columns]"
      ]
     },
     "execution_count": 46,
     "metadata": {},
     "output_type": "execute_result"
    }
   ],
   "source": [
    "example_df = fraud_ds[(fraud_ds['splits']=='TEST') & (fraud_ds['Class']==1)].iloc[0:1].drop(['Class', 'splits', 'transaction_id'], axis = 1)\n",
    "example_df"
   ]
  },
  {
   "cell_type": "code",
   "execution_count": 47,
   "id": "28d1ee8e-3936-4e04-b789-4f3367b8282c",
   "metadata": {
    "tags": []
   },
   "outputs": [
    {
     "data": {
      "text/html": [
       "<div>\n",
       "<style scoped>\n",
       "    .dataframe tbody tr th:only-of-type {\n",
       "        vertical-align: middle;\n",
       "    }\n",
       "\n",
       "    .dataframe tbody tr th {\n",
       "        vertical-align: top;\n",
       "    }\n",
       "\n",
       "    .dataframe thead th {\n",
       "        text-align: right;\n",
       "    }\n",
       "</style>\n",
       "<table border=\"1\" class=\"dataframe\">\n",
       "  <thead>\n",
       "    <tr style=\"text-align: right;\">\n",
       "      <th></th>\n",
       "      <th>V15</th>\n",
       "      <th>V11</th>\n",
       "      <th>V19</th>\n",
       "      <th>V8</th>\n",
       "      <th>V22</th>\n",
       "      <th>V2</th>\n",
       "      <th>V23</th>\n",
       "      <th>V20</th>\n",
       "      <th>V16</th>\n",
       "      <th>V13</th>\n",
       "      <th>...</th>\n",
       "      <th>V3</th>\n",
       "      <th>V7</th>\n",
       "      <th>V4</th>\n",
       "      <th>V12</th>\n",
       "      <th>V9</th>\n",
       "      <th>Amount</th>\n",
       "      <th>V26</th>\n",
       "      <th>V24</th>\n",
       "      <th>V10</th>\n",
       "      <th>V21</th>\n",
       "    </tr>\n",
       "  </thead>\n",
       "  <tbody>\n",
       "    <tr>\n",
       "      <th>9</th>\n",
       "      <td>0.398272</td>\n",
       "      <td>2.140057</td>\n",
       "      <td>-1.57707</td>\n",
       "      <td>0.17617</td>\n",
       "      <td>-0.057036</td>\n",
       "      <td>0.962831</td>\n",
       "      <td>-0.053692</td>\n",
       "      <td>-0.172659</td>\n",
       "      <td>1.367433</td>\n",
       "      <td>-1.191306</td>\n",
       "      <td>...</td>\n",
       "      <td>-0.278065</td>\n",
       "      <td>0.04129</td>\n",
       "      <td>2.743318</td>\n",
       "      <td>-0.276309</td>\n",
       "      <td>-0.966952</td>\n",
       "      <td>0.0</td>\n",
       "      <td>0.072828</td>\n",
       "      <td>-0.026373</td>\n",
       "      <td>-0.19412</td>\n",
       "      <td>-0.008996</td>\n",
       "    </tr>\n",
       "  </tbody>\n",
       "</table>\n",
       "<p>1 rows × 30 columns</p>\n",
       "</div>"
      ],
      "text/plain": [
       "        V15       V11      V19       V8       V22        V2       V23  \\\n",
       "9  0.398272  2.140057 -1.57707  0.17617 -0.057036  0.962831 -0.053692   \n",
       "\n",
       "        V20       V16       V13  ...        V3       V7        V4       V12  \\\n",
       "9 -0.172659  1.367433 -1.191306  ... -0.278065  0.04129  2.743318 -0.276309   \n",
       "\n",
       "         V9  Amount       V26       V24      V10       V21  \n",
       "9 -0.966952     0.0  0.072828 -0.026373 -0.19412 -0.008996  \n",
       "\n",
       "[1 rows x 30 columns]"
      ]
     },
     "execution_count": 47,
     "metadata": {},
     "output_type": "execute_result"
    }
   ],
   "source": [
    "example_df_reordered = example_df.reindex(columns = np.random.permutation(example_df.columns))\n",
    "example_df_reordered"
   ]
  },
  {
   "cell_type": "code",
   "execution_count": 48,
   "id": "77821ce5-0535-478f-8c8f-b96f8a9b5191",
   "metadata": {
    "tags": []
   },
   "outputs": [
    {
     "data": {
      "text/plain": [
       "Time      64585.000000\n",
       "V1            1.080433\n",
       "V2            0.962831\n",
       "V3           -0.278065\n",
       "V4            2.743318\n",
       "V5            0.412364\n",
       "V6           -0.320778\n",
       "V7            0.041290\n",
       "V8            0.176170\n",
       "V9           -0.966952\n",
       "V10          -0.194120\n",
       "V11           2.140057\n",
       "V12          -0.276309\n",
       "V13          -1.191306\n",
       "V14          -1.880275\n",
       "V15           0.398272\n",
       "V16           1.367433\n",
       "V17           1.522662\n",
       "V18           1.026317\n",
       "V19          -1.577070\n",
       "V20          -0.172659\n",
       "V21          -0.008996\n",
       "V22          -0.057036\n",
       "V23          -0.053692\n",
       "V24          -0.026373\n",
       "V25           0.400300\n",
       "V26           0.072828\n",
       "V27           0.027043\n",
       "V28           0.063238\n",
       "Amount        0.000000\n",
       "Name: 9, dtype: float64"
      ]
     },
     "execution_count": 48,
     "metadata": {},
     "output_type": "execute_result"
    }
   ],
   "source": [
    "example_series = example_df.iloc[0]\n",
    "example_series_reordered = example_df_reordered.iloc[0]\n",
    "example_series"
   ]
  },
  {
   "cell_type": "code",
   "execution_count": 49,
   "id": "df755951-26c6-4e4f-aff9-4229717aa3df",
   "metadata": {
    "tags": []
   },
   "outputs": [
    {
     "data": {
      "text/plain": [
       "array([[ 6.45850000e+04,  1.08043337e+00,  9.62830681e-01,\n",
       "        -2.78065478e-01,  2.74331806e+00,  4.12364076e-01,\n",
       "        -3.20778353e-01,  4.12895490e-02,  1.76170300e-01,\n",
       "        -9.66951551e-01, -1.94120467e-01,  2.14005682e+00,\n",
       "        -2.76308753e-01, -1.19130574e+00, -1.88027540e+00,\n",
       "         3.98271956e-01,  1.36743302e+00,  1.52266170e+00,\n",
       "         1.02631748e+00, -1.57707048e+00, -1.72658645e-01,\n",
       "        -8.99617409e-03, -5.70361436e-02, -5.36915092e-02,\n",
       "        -2.63732768e-02,  4.00299731e-01,  7.28277709e-02,\n",
       "         2.70429343e-02,  6.32375727e-02,  0.00000000e+00]])"
      ]
     },
     "execution_count": 49,
     "metadata": {},
     "output_type": "execute_result"
    }
   ],
   "source": [
    "example_np = example_df.to_numpy()\n",
    "example_np_reordered = example_df_reordered.to_numpy()\n",
    "example_np"
   ]
  },
  {
   "cell_type": "code",
   "execution_count": 50,
   "id": "6a96361d-f289-48ef-9667-2d400219dcc2",
   "metadata": {
    "tags": []
   },
   "outputs": [
    {
     "data": {
      "text/plain": [
       "[[64585.0,\n",
       "  1.08043336974687,\n",
       "  0.962830680816555,\n",
       "  -0.27806547765439,\n",
       "  2.74331806279958,\n",
       "  0.4123640756810779,\n",
       "  -0.320778352962878,\n",
       "  0.0412895489552235,\n",
       "  0.176170299597767,\n",
       "  -0.9669515510536291,\n",
       "  -0.19412046650558104,\n",
       "  2.1400568155366297,\n",
       "  -0.276308752749667,\n",
       "  -1.1913057375248899,\n",
       "  -1.88027540328199,\n",
       "  0.3982719563363761,\n",
       "  1.36743302249318,\n",
       "  1.52266169956075,\n",
       "  1.02631748255981,\n",
       "  -1.5770704784018401,\n",
       "  -0.17265864456636498,\n",
       "  -0.00899617409257402,\n",
       "  -0.0570361435998535,\n",
       "  -0.0536915092211487,\n",
       "  -0.0263732767799466,\n",
       "  0.40029973123052,\n",
       "  0.0728277709127376,\n",
       "  0.0270429343018625,\n",
       "  0.0632375727147923,\n",
       "  0.0]]"
      ]
     },
     "execution_count": 50,
     "metadata": {},
     "output_type": "execute_result"
    }
   ],
   "source": [
    "example_list = example_df.values.tolist()\n",
    "example_list_reordered = example_df_reordered.values.tolist()\n",
    "example_list"
   ]
  },
  {
   "cell_type": "code",
   "execution_count": 51,
   "id": "3b7d400a-4535-43b8-81ba-fd7f416e3c22",
   "metadata": {
    "tags": []
   },
   "outputs": [
    {
     "data": {
      "text/plain": [
       "(array([0]), array([0]))"
      ]
     },
     "execution_count": 51,
     "metadata": {},
     "output_type": "execute_result"
    }
   ],
   "source": [
    "model.predict(example_df), model.predict(example_df_reordered)"
   ]
  },
  {
   "cell_type": "code",
   "execution_count": 52,
   "id": "f950f169-c872-43dc-ba41-b3d561130dce",
   "metadata": {
    "tags": []
   },
   "outputs": [
    {
     "data": {
      "text/plain": [
       "(0, 0)"
      ]
     },
     "execution_count": 52,
     "metadata": {},
     "output_type": "execute_result"
    }
   ],
   "source": [
    "model.predict(example_series), model.predict(example_series_reordered)"
   ]
  },
  {
   "cell_type": "code",
   "execution_count": 53,
   "id": "bf8c0ebe-ae4b-4015-8e16-4968846bc57d",
   "metadata": {
    "tags": []
   },
   "outputs": [
    {
     "data": {
      "text/plain": [
       "(array([0]), array([0]))"
      ]
     },
     "execution_count": 53,
     "metadata": {},
     "output_type": "execute_result"
    }
   ],
   "source": [
    "model.predict(example_np), model.predict(example_np_reordered)"
   ]
  },
  {
   "cell_type": "code",
   "execution_count": 54,
   "id": "10ada5e3-54f7-4de2-a765-97f2295c5d24",
   "metadata": {
    "tags": []
   },
   "outputs": [
    {
     "data": {
      "text/plain": [
       "(array([0]), array([0]))"
      ]
     },
     "execution_count": 54,
     "metadata": {},
     "output_type": "execute_result"
    }
   ],
   "source": [
    "model.predict(example_list), model.predict(example_list_reordered)"
   ]
  },
  {
   "cell_type": "code",
   "execution_count": 55,
   "id": "3e79f5f5-010a-4cc2-980e-e42993ece02a",
   "metadata": {
    "tags": []
   },
   "outputs": [],
   "source": [
    "examples_np = fraud_ds[(fraud_ds['splits']=='TEST') & (fraud_ds['Class']==1)].iloc[0:10].drop(['Class', 'splits', 'transaction_id'], axis = 1).to_numpy()"
   ]
  },
  {
   "cell_type": "code",
   "execution_count": 56,
   "id": "8c515a13-1dbc-4f7f-8fdb-52b7fd00ac30",
   "metadata": {
    "tags": []
   },
   "outputs": [
    {
     "data": {
      "text/plain": [
       "0"
      ]
     },
     "execution_count": 56,
     "metadata": {},
     "output_type": "execute_result"
    }
   ],
   "source": [
    "model.predict(examples_np[0])"
   ]
  },
  {
   "cell_type": "code",
   "execution_count": 57,
   "id": "53349a02-10e2-4e1f-b87f-86a0e75646c9",
   "metadata": {
    "tags": []
   },
   "outputs": [
    {
     "data": {
      "text/plain": [
       "array([0, 1, 0, 1, 1, 0, 1, 1, 0, 1])"
      ]
     },
     "execution_count": 57,
     "metadata": {},
     "output_type": "execute_result"
    }
   ],
   "source": [
    "model.predict(examples_np)"
   ]
  },
  {
   "cell_type": "markdown",
   "id": "9d5b90c6-a8ac-4a8a-9c44-4f1de85abf19",
   "metadata": {},
   "source": [
    "### Feature Importance\n",
    "\n",
    "Use the trained model directly with the `shap` library for global and instance level feature attributions."
   ]
  },
  {
   "cell_type": "markdown",
   "id": "70d20228-9467-4cbe-972a-5f36398062fd",
   "metadata": {},
   "source": [
    "#### Calculate Shap Values"
   ]
  },
  {
   "cell_type": "code",
   "execution_count": 127,
   "id": "905620c9-15a9-40d8-8a94-56d3ca40b612",
   "metadata": {
    "tags": []
   },
   "outputs": [],
   "source": [
    "explainer = shap.TreeExplainer(model, feature_names = train.get_feature_names())"
   ]
  },
  {
   "cell_type": "code",
   "execution_count": 171,
   "id": "5554fc2e-8e56-43a3-aa5c-8895ad9e62c8",
   "metadata": {
    "tags": []
   },
   "outputs": [],
   "source": [
    "shap_values = explainer.shap_values(train.get_features())\n",
    "explanation = explainer(train.get_features())"
   ]
  },
  {
   "cell_type": "code",
   "execution_count": 172,
   "id": "60a6c26d-186b-4916-8425-9d4c6ccd71b1",
   "metadata": {
    "tags": []
   },
   "outputs": [
    {
     "data": {
      "text/plain": [
       "array([-0.27256538, -0.21060177,  0.02323738,  0.01024707,  2.55944118,\n",
       "       -0.10610163,  0.02464929, -0.07009105,  0.1488376 , -0.07589356,\n",
       "       -0.1136734 , -0.14318047, -0.32677855,  0.01119812,  0.10436609,\n",
       "        0.22405678, -0.0327511 , -0.08707547, -0.22574374,  0.07420908,\n",
       "        0.05807103, -0.14817558, -0.02570904,  0.13354102,  0.10714024,\n",
       "        0.03536699,  0.0421329 ,  0.10604808, -0.06508239, -0.00474101])"
      ]
     },
     "execution_count": 172,
     "metadata": {},
     "output_type": "execute_result"
    }
   ],
   "source": [
    "shap_values[0]"
   ]
  },
  {
   "cell_type": "code",
   "execution_count": 173,
   "id": "b5c6d664-984c-4f13-a669-0d4cff56a569",
   "metadata": {
    "tags": []
   },
   "outputs": [
    {
     "data": {
      "text/plain": [
       ".values =\n",
       "array([-0.27256538, -0.21060177,  0.02323738,  0.01024707,  2.55944118,\n",
       "       -0.10610163,  0.02464929, -0.07009105,  0.1488376 , -0.07589356,\n",
       "       -0.1136734 , -0.14318047, -0.32677855,  0.01119812,  0.10436609,\n",
       "        0.22405678, -0.0327511 , -0.08707547, -0.22574374,  0.07420908,\n",
       "        0.05807103, -0.14817558, -0.02570904,  0.13354102,  0.10714024,\n",
       "        0.03536699,  0.0421329 ,  0.10604808, -0.06508239, -0.00474101])\n",
       "\n",
       ".base_values =\n",
       "-9.903043005109328\n",
       "\n",
       ".data =\n",
       "array([ 1.21232000e+05,  1.89210176e+00,  4.21051115e-01, -1.14253305e-01,\n",
       "        4.04482222e+00,  7.45462924e-02,  1.99350238e-01, -8.98144841e-02,\n",
       "       -5.60563989e-02, -4.32118595e-01,  1.25813353e+00, -1.48724127e+00,\n",
       "        6.54674292e-01,  1.08224571e+00, -5.69839895e-01, -2.09087372e+00,\n",
       "        3.13417822e-01, -4.53702927e-01, -6.29874110e-01, -1.27625477e+00,\n",
       "       -2.49981776e-01,  9.73456949e-02,  6.36281490e-01,  6.76783770e-02,\n",
       "        8.70881751e-02,  1.44543156e-01,  1.28037170e-01,  5.46884537e-03,\n",
       "       -4.44875211e-02,  0.00000000e+00], dtype=float32)"
      ]
     },
     "execution_count": 173,
     "metadata": {},
     "output_type": "execute_result"
    }
   ],
   "source": [
    "explanation[0]"
   ]
  },
  {
   "cell_type": "markdown",
   "id": "57d98b1c-60f5-4eb2-bdde-cbe6ff055c68",
   "metadata": {},
   "source": [
    "#### Plots For Global Feature Attribution"
   ]
  },
  {
   "cell_type": "code",
   "execution_count": 178,
   "id": "bf58c24d-481f-4887-8206-16d7a43dc699",
   "metadata": {
    "tags": []
   },
   "outputs": [
    {
     "data": {
      "image/png": "[encoded data removed]",
      "text/plain": [
       "<Figure size 800x1150 with 1 Axes>"
      ]
     },
     "metadata": {},
     "output_type": "display_data"
    }
   ],
   "source": [
    "shap.plots.bar(explanation, max_display = 20)"
   ]
  },
  {
   "cell_type": "code",
   "execution_count": 180,
   "id": "e727ba3a-d228-4ff5-ac0b-96a3dfef3249",
   "metadata": {
    "tags": []
   },
   "outputs": [
    {
     "data": {
      "image/png": "[encoded data removed]",
      "text/plain": [
       "<Figure size 800x550 with 2 Axes>"
      ]
     },
     "metadata": {},
     "output_type": "display_data"
    }
   ],
   "source": [
    "shap.plots.beeswarm(explanation)"
   ]
  },
  {
   "cell_type": "markdown",
   "id": "9d9d3f8e-85f4-4d4b-b14e-320337c4490b",
   "metadata": {},
   "source": [
    "#### Plots For Local Feature Attribution"
   ]
  },
  {
   "cell_type": "code",
   "execution_count": 179,
   "id": "56fa54c5-0f0a-42c0-87f2-029d0a64557e",
   "metadata": {
    "tags": []
   },
   "outputs": [
    {
     "data": {
      "image/png": "[encoded data removed]",
      "text/plain": [
       "<Figure size 800x1150 with 1 Axes>"
      ]
     },
     "metadata": {},
     "output_type": "display_data"
    }
   ],
   "source": [
    "shap.plots.bar(explanation[0], max_display = 20)"
   ]
  },
  {
   "cell_type": "code",
   "execution_count": 181,
   "id": "2e4d73ee-166d-4d66-b125-b80afa37ba57",
   "metadata": {
    "tags": []
   },
   "outputs": [
    {
     "data": {
      "image/png": "[encoded data removed]",
      "text/plain": [
       "<Figure size 800x650 with 3 Axes>"
      ]
     },
     "metadata": {},
     "output_type": "display_data"
    }
   ],
   "source": [
    "shap.plots.waterfall(explanation[0])"
   ]
  },
  {
   "cell_type": "markdown",
   "id": "2f3b2bf2-4ba9-4edd-8e78-793d9be6660f",
   "metadata": {
    "tags": []
   },
   "source": [
    "---\n",
    "## Model Files\n",
    "\n",
    "Save and recall model files using GCS."
   ]
  },
  {
   "cell_type": "markdown",
   "id": "894cb448-66ea-4f76-b4b6-3b00382e0061",
   "metadata": {},
   "source": [
    "### Save To GCS"
   ]
  },
  {
   "cell_type": "code",
   "execution_count": 64,
   "id": "d195ec98-7072-43a0-9d6c-4a1ccd91edb0",
   "metadata": {
    "tags": []
   },
   "outputs": [],
   "source": [
    "model_blob = bucket.blob(f'{SERIES}/{EXPERIMENT}/model.cbm')\n",
    "\n",
    "with tempfile.NamedTemporaryFile() as temp_file:\n",
    "    model.save_model(temp_file.name, format = 'cbm')\n",
    "    model_blob.upload_from_filename(temp_file.name)"
   ]
  },
  {
   "cell_type": "code",
   "execution_count": 65,
   "id": "f5ca4c92-a38c-42b6-bf2a-f2b65c125239",
   "metadata": {
    "tags": []
   },
   "outputs": [],
   "source": [
    "examples_blob = bucket.blob(f'{SERIES}/{EXPERIMENT}/examples.json')\n",
    "examples_blob.upload_from_string(\n",
    "    json.dumps(examples_np.tolist()),\n",
    "    content_type = 'appliation/json'\n",
    ")"
   ]
  },
  {
   "cell_type": "code",
   "execution_count": 66,
   "id": "3d6e7cf3-25ea-4a9a-b4a1-5ee00f208cf4",
   "metadata": {
    "tags": []
   },
   "outputs": [
    {
     "data": {
      "text/plain": [
       "[<Blob: statmike-mlops-349915, frameworks/catboost-overview/examples.json, 1741283573725924>,\n",
       " <Blob: statmike-mlops-349915, frameworks/catboost-overview/model.cbm, 1741283573323843>]"
      ]
     },
     "execution_count": 66,
     "metadata": {},
     "output_type": "execute_result"
    }
   ],
   "source": [
    "list(bucket.list_blobs(prefix = f'{SERIES}/{EXPERIMENT}'))"
   ]
  },
  {
   "cell_type": "markdown",
   "id": "e1cd24ac-4365-4792-acf3-9d5302976763",
   "metadata": {},
   "source": [
    "### Load From GCS"
   ]
  },
  {
   "cell_type": "code",
   "execution_count": 67,
   "id": "b2c8ae11-6a04-473d-b08a-588543774167",
   "metadata": {
    "tags": []
   },
   "outputs": [
    {
     "data": {
      "text/plain": [
       "<catboost.core.CatBoostClassifier at 0x7f79400b3bb0>"
      ]
     },
     "execution_count": 67,
     "metadata": {},
     "output_type": "execute_result"
    }
   ],
   "source": [
    "model_bytes = model_blob.download_as_bytes()\n",
    "reload_model = catboost.CatBoostClassifier()\n",
    "reload_model.load_model(blob = model_bytes)"
   ]
  },
  {
   "cell_type": "code",
   "execution_count": 68,
   "id": "9cf7c502-5267-49de-8422-95a4577f3f59",
   "metadata": {
    "tags": []
   },
   "outputs": [],
   "source": [
    "reload_examples_np = np.array(\n",
    "    json.loads(examples_blob.download_as_string())\n",
    ")"
   ]
  },
  {
   "cell_type": "code",
   "execution_count": 69,
   "id": "96996bd8-8147-4b7a-870a-f660c4e8a235",
   "metadata": {
    "tags": []
   },
   "outputs": [
    {
     "data": {
      "text/plain": [
       "array([0, 1, 0, 1, 1, 0, 1, 1, 0, 1])"
      ]
     },
     "execution_count": 69,
     "metadata": {},
     "output_type": "execute_result"
    }
   ],
   "source": [
    "reload_model.predict(examples_np)"
   ]
  },
  {
   "cell_type": "code",
   "execution_count": 70,
   "id": "178655ab-b426-42f1-bedd-30c929824efd",
   "metadata": {
    "tags": []
   },
   "outputs": [
    {
     "data": {
      "text/plain": [
       "array([0, 1, 0, 1, 1, 0, 1, 1, 0, 1])"
      ]
     },
     "execution_count": 70,
     "metadata": {},
     "output_type": "execute_result"
    }
   ],
   "source": [
    "reload_model.predict(reload_examples_np)"
   ]
  },
  {
   "cell_type": "markdown",
   "id": "3ad1f50a-cdfc-4064-bb3b-b24cd9304bfa",
   "metadata": {},
   "source": [
    "---\n",
    "## Vertex AI Experiments\n",
    "\n",
    "[Vertex AI Experiments](https://cloud.google.com/vertex-ai/docs/experiments/intro-vertex-ai-experiments) is covered in detail in this repository under the [MLOps](../../MLOps/readme.md) section for [Experiment Tracking](../../MLOps/Experiment%20Tracking/readme.md).\n",
    "\n",
    "In short:\n",
    "- Experiments is a service for tracking ana analyzing metrics, parameters and other data related to ML processes\n",
    "- An [experiment is created or connected](https://cloud.google.com/vertex-ai/docs/experiments/create-experiment) with the SDK via `aiplatform.init(experiment = 'name for experiment here`)\n",
    "- Information is logged to a [run created under an experiment](https://cloud.google.com/vertex-ai/docs/experiments/create-manage-exp-run) with `aiplatform.start_run(run = 'name for run here')`\n",
    "- Log information with the SDK:\n",
    "    - [Autolog](https://cloud.google.com/vertex-ai/docs/experiments/autolog-data) with `aiplatform.autolog()`\n",
    "        - for supported frameworks\n",
    "    - [Summary metrics](https://cloud.google.com/vertex-ai/docs/experiments/log-data#summary-metrics) with `aiplatform.log_metrics()`\n",
    "    - [Time series metrics](https://cloud.google.com/vertex-ai/docs/experiments/log-data#time-series-metrics) with `aiplatform.log_time_series_metrics()`\n",
    "        - This requires a backing Vertex AI TensorBoard resource\n",
    "    - [Parameters](https://cloud.google.com/vertex-ai/docs/experiments/log-data#parameters) with `aiplatform.log_params()`\n",
    "    - [Classification metrics](https://cloud.google.com/vertex-ai/docs/experiments/log-data#classification-metrics) with `aiplatform.log_classification_metrics()`\n",
    "    - [Model Artifacts](https://cloud.google.com/vertex-ai/docs/experiments/log-models-exp-run) with `aiplatform.save_model()`\n",
    "        - for supported frameworks\n",
    "    - [Metadata Artifacts with Executions](https://cloud.google.com/vertex-ai/docs/experiments/track-executions-artifacts) using `aiplatform.start_execution`\n",
    "- Manages runs with:\n",
    "    - [End a run](https://cloud.google.com/vertex-ai/docs/experiments/create-manage-exp-run#end-run) with `aiplatform.end_run()`\n",
    "    - [Resume a run](https://cloud.google.com/vertex-ai/docs/experiments/create-manage-exp-run#resume-run) to update/add to an existing run by adding the `resume = True` parameter to `aiplatform.stsart_run(run = '', resume = True)`\n",
    "    - [Delete a run](https://cloud.google.com/vertex-ai/docs/experiments/create-manage-exp-run#delete-run) with the SDK's `ExperimentRun` method\n",
    "    - [Change the status](https://cloud.google.com/vertex-ai/docs/experiments/create-manage-exp-run#manage-status) of a run with the SDK's `ExperimentRun` method"
   ]
  },
  {
   "cell_type": "markdown",
   "id": "6cfe90c5-99ae-4aee-9801-03eb2bc2a7ca",
   "metadata": {},
   "source": [
    "### Start An Experiment Run"
   ]
  },
  {
   "cell_type": "code",
   "execution_count": 68,
   "id": "2ca6d942-4f4f-438a-965f-083b6bae3015",
   "metadata": {
    "tags": []
   },
   "outputs": [
    {
     "name": "stdout",
     "output_type": "stream",
     "text": [
      "Associating projects/1026793852137/locations/us-central1/metadataStores/default/contexts/frameworks-catboost-overview to Experiment: frameworks\n"
     ]
    },
    {
     "data": {
      "text/html": [
       "\n",
       "        \n",
       "    <link rel=\"stylesheet\" href=\"https://fonts.googleapis.com/icon?family=Material+Icons\">\n",
       "    <style>\n",
       "      .view-vertex-resource,\n",
       "      .view-vertex-resource:hover,\n",
       "      .view-vertex-resource:visited {\n",
       "        position: relative;\n",
       "        display: inline-flex;\n",
       "        flex-direction: row;\n",
       "        height: 32px;\n",
       "        padding: 0 12px;\n",
       "          margin: 4px 18px;\n",
       "        gap: 4px;\n",
       "        border-radius: 4px;\n",
       "\n",
       "        align-items: center;\n",
       "        justify-content: center;\n",
       "        background-color: rgb(255, 255, 255);\n",
       "        color: rgb(51, 103, 214);\n",
       "\n",
       "        font-family: Roboto,\"Helvetica Neue\",sans-serif;\n",
       "        font-size: 13px;\n",
       "        font-weight: 500;\n",
       "        text-transform: uppercase;\n",
       "        text-decoration: none !important;\n",
       "\n",
       "        transition: box-shadow 280ms cubic-bezier(0.4, 0, 0.2, 1) 0s;\n",
       "        box-shadow: 0px 3px 1px -2px rgba(0,0,0,0.2), 0px 2px 2px 0px rgba(0,0,0,0.14), 0px 1px 5px 0px rgba(0,0,0,0.12);\n",
       "      }\n",
       "      .view-vertex-resource:active {\n",
       "        box-shadow: 0px 5px 5px -3px rgba(0,0,0,0.2),0px 8px 10px 1px rgba(0,0,0,0.14),0px 3px 14px 2px rgba(0,0,0,0.12);\n",
       "      }\n",
       "      .view-vertex-resource:active .view-vertex-ripple::before {\n",
       "        position: absolute;\n",
       "        top: 0;\n",
       "        bottom: 0;\n",
       "        left: 0;\n",
       "        right: 0;\n",
       "        border-radius: 4px;\n",
       "        pointer-events: none;\n",
       "\n",
       "        content: '';\n",
       "        background-color: rgb(51, 103, 214);\n",
       "        opacity: 0.12;\n",
       "      }\n",
       "      .view-vertex-icon {\n",
       "        font-size: 18px;\n",
       "      }\n",
       "    </style>\n",
       "  \n",
       "        <a class=\"view-vertex-resource\" id=\"view-vertex-resource-6bcca19b-ca14-4c1c-a4b6-20d9a6242bf8\" href=\"#view-view-vertex-resource-6bcca19b-ca14-4c1c-a4b6-20d9a6242bf8\">\n",
       "          <span class=\"material-icons view-vertex-icon\">science</span>\n",
       "          <span>View Experiment Run</span>\n",
       "        </a>\n",
       "        \n",
       "        <script>\n",
       "          (function () {\n",
       "            const link = document.getElementById('view-vertex-resource-6bcca19b-ca14-4c1c-a4b6-20d9a6242bf8');\n",
       "            link.addEventListener('click', (e) => {\n",
       "              if (window.google?.colab?.openUrl) {\n",
       "                window.google.colab.openUrl('https://console.cloud.google.com/vertex-ai/experiments/locations/us-central1/experiments/frameworks/runs/frameworks-catboost-overview?project=statmike-mlops-349915');\n",
       "              } else {\n",
       "                window.open('https://console.cloud.google.com/vertex-ai/experiments/locations/us-central1/experiments/frameworks/runs/frameworks-catboost-overview?project=statmike-mlops-349915', '_blank');\n",
       "              }\n",
       "              e.stopPropagation();\n",
       "              e.preventDefault();\n",
       "            });\n",
       "          })();\n",
       "        </script>\n",
       "    "
      ],
      "text/plain": [
       "<IPython.core.display.HTML object>"
      ]
     },
     "metadata": {},
     "output_type": "display_data"
    }
   ],
   "source": [
    "try:\n",
    "    aiplatform.start_run(run = EXPERIMENT)\n",
    "except:\n",
    "    aiplatform.start_run(run = EXPERIMENT, resume = True)"
   ]
  },
  {
   "cell_type": "markdown",
   "id": "728e0b40-72b7-494c-b78c-9b348485d5d6",
   "metadata": {},
   "source": [
    "### Log Model Parameters"
   ]
  },
  {
   "cell_type": "code",
   "execution_count": 69,
   "id": "b58910de-e2d2-42d6-95c8-8fd2d4c9e137",
   "metadata": {
    "tags": []
   },
   "outputs": [],
   "source": [
    "params = model.get_all_params()\n",
    "for key, value in params.items():\n",
    "    if type(value) in [dict, list]:\n",
    "        params[key] = json.dumps(value)\n",
    "        \n",
    "aiplatform.log_params(params)"
   ]
  },
  {
   "cell_type": "markdown",
   "id": "b1b5b1ec-7e91-477c-93ae-58589b410e36",
   "metadata": {},
   "source": [
    "### Log Summary Metrics"
   ]
  },
  {
   "cell_type": "code",
   "execution_count": 70,
   "id": "5094723a-f4ad-48bb-8eb0-555c05d91887",
   "metadata": {
    "tags": []
   },
   "outputs": [],
   "source": [
    "for split in ['train', 'validate', 'test']:\n",
    "    if split == 'train': dataset = train\n",
    "    elif split == 'validate': dataset = validate\n",
    "    elif split == 'test': dataset = test\n",
    "    aiplatform.log_metrics(\n",
    "        {\n",
    "            f'{split}_accuracy' : sklearn.metrics.accuracy_score(dataset.get_label(), model.predict(dataset)),\n",
    "            f'{split}_precision' : sklearn.metrics.precision_score(dataset.get_label(), model.predict(dataset), average='macro'),\n",
    "            f'{split}_recall' : sklearn.metrics.recall_score(dataset.get_label(), model.predict(dataset), average='macro'),\n",
    "            f'{split}_f1' : sklearn.metrics.f1_score(dataset.get_label(), model.predict(dataset), average='macro'),\n",
    "            f'{split}_average_precision' : sklearn.metrics.average_precision_score(dataset.get_label(), model.predict(dataset), average='macro')        \n",
    "        }\n",
    "    )"
   ]
  },
  {
   "cell_type": "markdown",
   "id": "7a5c8e2c-d594-4e68-a3f8-7012f086a5f2",
   "metadata": {},
   "source": [
    "### Log Classification Metrics"
   ]
  },
  {
   "cell_type": "code",
   "execution_count": 71,
   "id": "f6d28439-d219-43a7-86cc-84cfd650c104",
   "metadata": {
    "tags": []
   },
   "outputs": [],
   "source": [
    "for split in ['train', 'validate', 'test']:\n",
    "    if split == 'train': dataset = train\n",
    "    elif split == 'validate': dataset = validate\n",
    "    elif split == 'test': dataset = test\n",
    "    \n",
    "    \n",
    "    fpr, tpr, threshold = sklearn.metrics.roc_curve(dataset.get_label(), model.predict_proba(dataset)[:, 1])\n",
    "    aiplatform.log_classification_metrics(\n",
    "        labels = [str(x) for x in model.classes_],\n",
    "        matrix = sklearn.metrics.confusion_matrix(dataset.get_label(), model.predict(dataset)).tolist(),\n",
    "        #fpr = fpr.tolist()[1:],\n",
    "        #tpr = tpr.tolist()[1:],\n",
    "        #threshold = threshold.tolist()[1:],\n",
    "        display_name = split\n",
    "    )"
   ]
  },
  {
   "cell_type": "markdown",
   "id": "ee0ec2b1-cfa4-4c48-b54b-504fcc2d6282",
   "metadata": {},
   "source": [
    "### Log Model Artifact"
   ]
  },
  {
   "cell_type": "code",
   "execution_count": 72,
   "id": "055483cb-4422-474f-8598-14ec8bd728dd",
   "metadata": {
    "tags": []
   },
   "outputs": [],
   "source": [
    "model_artifact = aiplatform.Artifact.create(\n",
    "    schema_title = 'system.Model',\n",
    "    schema_version = '0.0.1',\n",
    "    display_name = 'Model For Example',\n",
    "    uri = f\"gs://{bucket.name}/{model_blob.name}\",\n",
    ")"
   ]
  },
  {
   "cell_type": "code",
   "execution_count": 73,
   "id": "0e353ed8-07b1-455f-99dc-a90ffbe9f7c0",
   "metadata": {
    "tags": []
   },
   "outputs": [],
   "source": [
    "with aiplatform.start_execution(\n",
    "    schema_title = 'system.ContainerExecution',\n",
    "    display_name = 'Train Model'\n",
    ") as exc:\n",
    "    exc.assign_output_artifacts([model_artifact])"
   ]
  },
  {
   "cell_type": "code",
   "execution_count": 74,
   "id": "922feb42-52ba-4538-9fa3-70d0b79da8ae",
   "metadata": {
    "tags": []
   },
   "outputs": [
    {
     "data": {
      "text/plain": [
       "'gs://statmike-mlops-349915/frameworks/catboost-overview/model.cbm'"
      ]
     },
     "execution_count": 74,
     "metadata": {},
     "output_type": "execute_result"
    }
   ],
   "source": [
    "model_artifact.uri"
   ]
  },
  {
   "cell_type": "code",
   "execution_count": 75,
   "id": "640e8f48-1d5a-4ffe-8628-6276c842bb77",
   "metadata": {
    "tags": []
   },
   "outputs": [],
   "source": [
    "#dir(exc)"
   ]
  },
  {
   "cell_type": "markdown",
   "id": "caaacbd2-732a-48cb-a7a5-2446b043d2ac",
   "metadata": {},
   "source": [
    "---\n",
    "## Save Files For Companion Workflows\n",
    "\n",
    "This section saves the model and some test instances to a local folder for use in companion workflows that use the model."
   ]
  },
  {
   "cell_type": "code",
   "execution_count": 76,
   "id": "cd604524-6b0e-47fa-94da-15ce810d4a41",
   "metadata": {
    "tags": []
   },
   "outputs": [],
   "source": [
    "model.save_model(f'{DIR}/model.cbm', format = 'cbm')"
   ]
  },
  {
   "cell_type": "code",
   "execution_count": 77,
   "id": "d56bf966-b4c4-4cbb-8530-a7bd11395f24",
   "metadata": {
    "tags": []
   },
   "outputs": [],
   "source": [
    "with open(f'{DIR}/examples.json', 'w') as f:\n",
    "    json.dump(examples_np.tolist(), f)"
   ]
  },
  {
   "cell_type": "code",
   "execution_count": 78,
   "id": "13390a09-c7ca-4a58-a514-25f4610bc44e",
   "metadata": {
    "tags": []
   },
   "outputs": [],
   "source": [
    "aiplatform.end_run()"
   ]
  }
 ],
 "metadata": {
  "environment": {
   "kernel": "conda-base-py",
   "name": "workbench-notebooks.m125",
   "type": "gcloud",
   "uri": "us-docker.pkg.dev/deeplearning-platform-release/gcr.io/workbench-notebooks:m125"
  },
  "kernelspec": {
   "display_name": "Python 3 (ipykernel) (Local)",
   "language": "python",
   "name": "conda-base-py"
  },
  "language_info": {
   "codemirror_mode": {
    "name": "ipython",
    "version": 3
   },
   "file_extension": ".py",
   "mimetype": "text/x-python",
   "name": "python",
   "nbconvert_exporter": "python",
   "pygments_lexer": "ipython3",
   "version": "3.10.15"
  }
 },
 "nbformat": 4,
 "nbformat_minor": 5
}
