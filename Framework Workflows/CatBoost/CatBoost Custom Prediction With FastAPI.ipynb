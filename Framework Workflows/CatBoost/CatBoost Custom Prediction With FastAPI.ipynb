{
 "cells": [
  {
   "cell_type": "markdown",
   "id": "a70107aa",
   "metadata": {},
   "source": [
    "![tracker](https://us-central1-vertex-ai-mlops-369716.cloudfunctions.net/pixel-tracking?path=statmike%2Fvertex-ai-mlops%2FFramework+Workflows%2FCatBoost&file=CatBoost+Custom+Prediction+With+FastAPI.ipynb)\n",
    "<!--- header table --->\n",
    "<table align=\"left\">\n",
    "  <td style=\"text-align: center\">\n",
    "    <a href=\"https://colab.research.google.com/github/statmike/vertex-ai-mlops/blob/main/Framework%20Workflows/CatBoost/CatBoost%20Custom%20Prediction%20With%20FastAPI.ipynb\">\n",
    "      <img src=\"https://cloud.google.com/ml-engine/images/colab-logo-32px.png\" alt=\"Google Colaboratory logo\">\n",
    "      <br>Run in<br>Colab\n",
    "    </a>\n",
    "  </td>\n",
    "  <td style=\"text-align: center\">\n",
    "    <a href=\"https://console.cloud.google.com/vertex-ai/colab/import/https%3A%2F%2Fraw.githubusercontent.com%2Fstatmike%2Fvertex-ai-mlops%2Fmain%2FFramework%2520Workflows%2FCatBoost%2FCatBoost%2520Custom%2520Prediction%2520With%2520FastAPI.ipynb\">\n",
    "      <img width=\"32px\" src=\"https://lh3.googleusercontent.com/JmcxdQi-qOpctIvWKgPtrzZdJJK-J3sWE1RsfjZNwshCFgE_9fULcNpuXYTilIR2hjwN\" alt=\"Google Cloud Colab Enterprise logo\">\n",
    "      <br>Run in<br>Colab Enterprise\n",
    "    </a>\n",
    "  </td>      \n",
    "  <td style=\"text-align: center\">\n",
    "    <a href=\"https://github.com/statmike/vertex-ai-mlops/blob/main/Framework%20Workflows/CatBoost/CatBoost%20Custom%20Prediction%20With%20FastAPI.ipynb\">\n",
    "      <img src=\"https://cloud.google.com/ml-engine/images/github-logo-32px.png\" alt=\"GitHub logo\">\n",
    "      <br>View on<br>GitHub\n",
    "    </a>\n",
    "  </td>\n",
    "  <td style=\"text-align: center\">\n",
    "    <a href=\"https://console.cloud.google.com/vertex-ai/workbench/deploy-notebook?download_url=https://raw.githubusercontent.com/statmike/vertex-ai-mlops/main/Framework%20Workflows/CatBoost/CatBoost%20Custom%20Prediction%20With%20FastAPI.ipynb\">\n",
    "      <img src=\"https://lh3.googleusercontent.com/UiNooY4LUgW_oTvpsNhPpQzsstV5W8F7rYgxgGBD85cWJoLmrOzhVs_ksK_vgx40SHs7jCqkTkCk=e14-rj-sc0xffffff-h130-w32\" alt=\"Vertex AI logo\">\n",
    "      <br>Open in<br>Vertex AI Workbench\n",
    "    </a>\n",
    "  </td>\n",
    "</table>"
   ]
  },
  {
   "cell_type": "markdown",
   "id": "b02d4dcf-2605-4b24-a646-84276e214d81",
   "metadata": {},
   "source": [
    "# CatBoost: Custom Prediction With FastAPI\n",
    "\n",
    "Build a [custom container for prediction](https://cloud.google.com/vertex-ai/docs/predictions/custom-container-requirements) with [CatBoost](https://catboost.ai/) using [FastAPI](https://fastapi.tiangolo.com/) and store in [Artifact  Registry](https://cloud.google.com/artifact-registry/docs/overview) for enabling serving predictions from:\n",
    "- Locally for testing (with Docker): on [Vertex AI Workbench Instances](https://cloud.google.com/vertex-ai/docs/workbench/instances/introduction) for example\n",
    "- On [Cloud Run](https://cloud.google.com/run/docs/overview/what-is-cloud-run)\n",
    "- On [Vertex AI Prediction Endpoints](https://cloud.google.com/vertex-ai/docs/general/deployment)\n",
    "\n",
    "**Prerequisites:**\n",
    "- [CatBoost Overview](./CatBoost%20Overview.ipynb)\n",
    "    - Train the model used here and store it in GCS"
   ]
  },
  {
   "cell_type": "markdown",
   "id": "d4ba4451-9728-4972-b4f3-8eff82c3027f",
   "metadata": {
    "id": "od_UkDpvRmgD",
    "tags": []
   },
   "source": [
    "---\n",
    "## Colab Setup\n",
    "\n",
    "To run this notebook in Colab run the cells in this section.  Otherwise, skip this section.\n",
    "\n",
    "This cell will authenticate to GCP (follow prompts in the popup)."
   ]
  },
  {
   "cell_type": "code",
   "execution_count": 1,
   "id": "5ab17e20-b013-4344-ac78-dd72841e008b",
   "metadata": {
    "executionInfo": {
     "elapsed": 195,
     "status": "ok",
     "timestamp": 1683726184843,
     "user": {
      "displayName": "Mike Henderson",
      "userId": "07691629187611687318"
     },
     "user_tz": 240
    },
    "id": "8UO9FnqyKBlF",
    "tags": []
   },
   "outputs": [],
   "source": [
    "PROJECT_ID = 'statmike-mlops-349915' # replace with project ID"
   ]
  },
  {
   "cell_type": "code",
   "execution_count": 2,
   "id": "051323fc-667e-41ce-820f-40c82550340e",
   "metadata": {
    "colab": {
     "base_uri": "https://localhost:8080/"
    },
    "executionInfo": {
     "elapsed": 68869,
     "status": "ok",
     "timestamp": 1683726253709,
     "user": {
      "displayName": "Mike Henderson",
      "userId": "07691629187611687318"
     },
     "user_tz": 240
    },
    "id": "N98-KK7LRkjm",
    "outputId": "09ec5008-0def-4e1a-c349-c598ee752f78",
    "tags": []
   },
   "outputs": [],
   "source": [
    "try:\n",
    "    import google.colab\n",
    "    from google.colab import auth\n",
    "    auth.authenticate_user()\n",
    "    !gcloud config set project {PROJECT_ID}\n",
    "except Exception:\n",
    "    pass"
   ]
  },
  {
   "cell_type": "markdown",
   "id": "ac117962-5bb0-48a4-90fa-bbe84976bc3a",
   "metadata": {},
   "source": [
    "---\n",
    "## Installs\n",
    "\n",
    "The list `packages` contains tuples of package import names and install names.  If the import name is not found then the install name is used to install quitely for the current user."
   ]
  },
  {
   "cell_type": "code",
   "execution_count": 3,
   "id": "4b43f20b-7793-47bc-bca1-1836cbf9c20f",
   "metadata": {
    "tags": []
   },
   "outputs": [],
   "source": [
    "# tuples of (import name, install name, min_version)\n",
    "packages = [\n",
    "    ('numpy', 'numpy'),\n",
    "    ('catboost', 'catboost'),\n",
    "    ('docker', 'docker'),\n",
    "    ('google.cloud.aiplatform', 'google-cloud-aiplatform'),\n",
    "    ('google.cloud.storage', 'google-cloud-storage'),\n",
    "    ('google.cloud.artifactregistry_v1', 'google-cloud-artifact-registry'),\n",
    "    ('google.cloud.devtools', 'google-cloud-build'),\n",
    "    ('google.cloud.run_v2', 'google-cloud-run'),   \n",
    "]\n",
    "\n",
    "import importlib\n",
    "install = False\n",
    "for package in packages:\n",
    "    if not importlib.util.find_spec(package[0]):\n",
    "        print(f'installing package {package[1]}')\n",
    "        install = True\n",
    "        !pip install {package[1]} -U -q --user\n",
    "    elif len(package) == 3:\n",
    "        if importlib.metadata.version(package[0]) < package[2]:\n",
    "            print(f'updating package {package[1]}')\n",
    "            install = True\n",
    "            !pip install {package[1]} -U -q --user"
   ]
  },
  {
   "cell_type": "markdown",
   "id": "dbf31129-ffe3-400e-a131-c122c398f28c",
   "metadata": {},
   "source": [
    "### API Enablement"
   ]
  },
  {
   "cell_type": "code",
   "execution_count": 4,
   "id": "fc489901-78de-484e-b5f5-def7da509b43",
   "metadata": {
    "tags": []
   },
   "outputs": [],
   "source": [
    "!gcloud services enable artifactregistry.googleapis.com\n",
    "!gcloud services enable cloudbuild.googleapis.com\n",
    "!gcloud services enable run.googleapis.com"
   ]
  },
  {
   "cell_type": "markdown",
   "id": "1341d134-1fac-453d-8e92-1f29cdda49f1",
   "metadata": {},
   "source": [
    "### Restart Kernel (If Installs Occured)\n",
    "\n",
    "After a kernel restart the code submission can start with the next cell after this one."
   ]
  },
  {
   "cell_type": "code",
   "execution_count": 5,
   "id": "bbff94c2-d50f-47ce-9e54-576378f988d2",
   "metadata": {
    "tags": []
   },
   "outputs": [],
   "source": [
    "if install:\n",
    "    import IPython\n",
    "    app = IPython.Application.instance()\n",
    "    app.kernel.do_shutdown(True)\n",
    "    IPython.display.display(IPython.display.Markdown(\"\"\"<div class=\\\"alert alert-block alert-warning\\\">\n",
    "        <b>⚠️ The kernel is going to restart. Please wait until it is finished before continuing to the next step. The previous cells do not need to be run again⚠️</b>\n",
    "        </div>\"\"\"))"
   ]
  },
  {
   "cell_type": "markdown",
   "id": "b6d5b3e1-1efe-42bc-bd91-0aa0e0804e74",
   "metadata": {},
   "source": [
    "---\n",
    "## Setup"
   ]
  },
  {
   "cell_type": "markdown",
   "id": "7369e33e-1480-4932-84c6-3e307a09218a",
   "metadata": {},
   "source": [
    "inputs:"
   ]
  },
  {
   "cell_type": "code",
   "execution_count": 6,
   "id": "a5ae50ef-579c-452d-9cf8-d4c5d1583313",
   "metadata": {
    "tags": []
   },
   "outputs": [
    {
     "data": {
      "text/plain": [
       "'statmike-mlops-349915'"
      ]
     },
     "execution_count": 6,
     "metadata": {},
     "output_type": "execute_result"
    }
   ],
   "source": [
    "project = !gcloud config get-value project\n",
    "PROJECT_ID = project[0]\n",
    "PROJECT_ID"
   ]
  },
  {
   "cell_type": "code",
   "execution_count": 7,
   "id": "c760d9dd-6754-4fdd-9457-9af26590cca3",
   "metadata": {
    "tags": []
   },
   "outputs": [],
   "source": [
    "REGION = 'us-central1'\n",
    "SERIES = 'frameworks'\n",
    "EXPERIMENT = 'catboost-custom-container'\n",
    "\n",
    "GCS_BUCKET = PROJECT_ID"
   ]
  },
  {
   "cell_type": "markdown",
   "id": "3bc91df3-523b-40c9-8c5d-5ca4daec1e5c",
   "metadata": {},
   "source": [
    "packages:"
   ]
  },
  {
   "cell_type": "code",
   "execution_count": 8,
   "id": "171e8f41-a3e7-4ebe-b825-555e13ba6574",
   "metadata": {
    "tags": []
   },
   "outputs": [],
   "source": [
    "import json, os\n",
    "import time\n",
    "import requests\n",
    "\n",
    "import catboost \n",
    "import numpy as np\n",
    "import docker\n",
    "\n",
    "import google.auth\n",
    "from google.cloud import storage\n",
    "from google.cloud import artifactregistry_v1\n",
    "from google.cloud.devtools import cloudbuild_v1\n",
    "from google.cloud import run_v2\n",
    "from google.cloud import aiplatform"
   ]
  },
  {
   "cell_type": "markdown",
   "id": "7f0d6b74-3569-47e7-a1c1-6f5282d1c069",
   "metadata": {},
   "source": [
    "clients:"
   ]
  },
  {
   "cell_type": "code",
   "execution_count": 9,
   "id": "e7f85132-7473-4e6c-84cc-60a909d27e68",
   "metadata": {
    "tags": []
   },
   "outputs": [],
   "source": [
    "# gcs storage client\n",
    "gcs = storage.Client(project = GCS_BUCKET)\n",
    "bucket = gcs.bucket(GCS_BUCKET)\n",
    "\n",
    "# cloud build client\n",
    "cb = cloudbuild_v1.CloudBuildClient()\n",
    "\n",
    "# artifact registry client\n",
    "ar = artifactregistry_v1.ArtifactRegistryClient()\n",
    "\n",
    "# cloud run client\n",
    "cr = run_v2.ServicesClient()\n",
    "\n",
    "# vertex ai client\n",
    "aiplatform.init(project = PROJECT_ID, location = REGION)"
   ]
  },
  {
   "cell_type": "markdown",
   "id": "e7c20b3d-4b66-486b-855f-702af7594796",
   "metadata": {},
   "source": [
    "Parameters:"
   ]
  },
  {
   "cell_type": "code",
   "execution_count": 10,
   "id": "4829de6b-a105-47d7-985f-8570632b80e9",
   "metadata": {
    "tags": []
   },
   "outputs": [],
   "source": [
    "DIR = f\"files/{EXPERIMENT}\""
   ]
  },
  {
   "cell_type": "markdown",
   "id": "d86d34ba-d54c-4637-b482-91dda0c35bfe",
   "metadata": {},
   "source": [
    "Environment:"
   ]
  },
  {
   "cell_type": "code",
   "execution_count": 11,
   "id": "e2a335d0-5461-4c25-9676-55f35c9c4a3b",
   "metadata": {
    "tags": []
   },
   "outputs": [],
   "source": [
    "if not os.path.exists(DIR):\n",
    "    os.makedirs(DIR)"
   ]
  },
  {
   "cell_type": "markdown",
   "id": "a76f766d-cff5-402c-b726-3b3bef370f22",
   "metadata": {},
   "source": [
    "---\n",
    "## CatBoost Model\n",
    "\n",
    "Retrieve the model trained in prior workflow along with test records.  Test the model directly in this environment."
   ]
  },
  {
   "cell_type": "markdown",
   "id": "96fdfb87-cf4f-43b1-b0bf-e59f1b09c1ce",
   "metadata": {},
   "source": [
    "### Check For Files"
   ]
  },
  {
   "cell_type": "code",
   "execution_count": 12,
   "id": "109badf0-f386-4dfd-b43f-b05f73828d6e",
   "metadata": {
    "tags": []
   },
   "outputs": [
    {
     "name": "stdout",
     "output_type": "stream",
     "text": [
      "Found the files created by the prerequisite workflow:\n",
      "- gs://statmike-mlops-349915/frameworks/catboost-overview/examples.json\n",
      "- gs://statmike-mlops-349915/frameworks/catboost-overview/model.cbm\n"
     ]
    }
   ],
   "source": [
    "files = list(bucket.list_blobs(prefix = f'{SERIES}/catboost-overview'))\n",
    "if len(files) > 0:\n",
    "    print('Found the files created by the prerequisite workflow:')\n",
    "    for file in files:\n",
    "        print(f'- gs://{bucket.name}/{file.name}')\n",
    "else:\n",
    "    print('Files note found - Please run the prerequisite notebook (listed at top of this workflow)')"
   ]
  },
  {
   "cell_type": "markdown",
   "id": "2dfb9ebd-8be0-460d-8bce-5ede3e442b06",
   "metadata": {},
   "source": [
    "### Load Model"
   ]
  },
  {
   "cell_type": "code",
   "execution_count": 13,
   "id": "fdd51630-bf17-40bb-ab3a-8094ec5afce0",
   "metadata": {
    "tags": []
   },
   "outputs": [],
   "source": [
    "model_blob = bucket.blob(f'{SERIES}/catboost-overview/model.cbm')\n",
    "model_bytes = model_blob.download_as_bytes()\n",
    "model = catboost.CatBoostClassifier().load_model(blob = model_bytes)"
   ]
  },
  {
   "cell_type": "markdown",
   "id": "42cd96c5-6994-41e7-9ac6-34cb274fbb9c",
   "metadata": {},
   "source": [
    "### Load Inference Examples"
   ]
  },
  {
   "cell_type": "code",
   "execution_count": 14,
   "id": "34518a0a-a7ce-412e-bacc-448ca2c49165",
   "metadata": {
    "tags": []
   },
   "outputs": [],
   "source": [
    "examples_blob = bucket.blob(f'{SERIES}/catboost-overview/examples.json')\n",
    "examples_np = np.array(\n",
    "    json.loads(examples_blob.download_as_string())\n",
    ")"
   ]
  },
  {
   "cell_type": "markdown",
   "id": "e9971bc1-0bd8-410c-8a92-cd4deb78b4f0",
   "metadata": {},
   "source": [
    "### Test Model With Examples"
   ]
  },
  {
   "cell_type": "code",
   "execution_count": 15,
   "id": "83df4c27-1ae5-4c08-b993-43678c312620",
   "metadata": {
    "tags": []
   },
   "outputs": [
    {
     "data": {
      "text/plain": [
       "array([0, 1, 0, 1, 1, 0, 1, 1, 0, 1])"
      ]
     },
     "execution_count": 15,
     "metadata": {},
     "output_type": "execute_result"
    }
   ],
   "source": [
    "model.predict(examples_np)"
   ]
  },
  {
   "cell_type": "markdown",
   "id": "9c657ad1-b2ad-4f39-b632-4c37ad85a0f5",
   "metadata": {},
   "source": [
    "---\n",
    "## Build A Custom Prediction Container\n",
    "\n",
    "It is really not all that hard with Python!\n",
    "\n",
    "For this example [FastAPI](https://fastapi.tiangolo.com/) is used.\n",
    "\n",
    "This process uses docker to build a custom container and then runs the container on Cloud Run and Vertex AI Endpoints.\n",
    "\n",
    "This could be done locally with Docker and pushed to Artifact Registry before deployment to Cloud Run.  The process below assumes that docker is not available locally and used Cloud Build to both build and push the resulting container to Artifact Registry."
   ]
  },
  {
   "cell_type": "markdown",
   "id": "3eeddb64-6db7-4871-a31c-2b3d88cba491",
   "metadata": {},
   "source": [
    "---\n",
    "### Setup Artifact Registry\n",
    "\n",
    "[Artifact registry](https://cloud.google.com/artifact-registry/docs) organizes artifacts with repositories.  Each repository contains packages and is designated to hold a partifcular format of package: Docker images, Python Packages and [others](https://cloud.google.com/artifact-registry/docs/supported-formats#package)."
   ]
  },
  {
   "cell_type": "markdown",
   "id": "ee8fd2e7-f6be-47ae-9ac1-c020ba6725d4",
   "metadata": {},
   "source": [
    "#### List Repositories\n",
    "\n",
    "This may be empty if no repositories have been created for this project"
   ]
  },
  {
   "cell_type": "code",
   "execution_count": 16,
   "id": "e7a37481-87c8-4193-95a3-9770798f6cce",
   "metadata": {
    "tags": []
   },
   "outputs": [
    {
     "name": "stdout",
     "output_type": "stream",
     "text": [
      "projects/statmike-mlops-349915/locations/us-central1/repositories/frameworks\n",
      "projects/statmike-mlops-349915/locations/us-central1/repositories/frameworks-catboost\n",
      "projects/statmike-mlops-349915/locations/us-central1/repositories/gcf-artifacts\n",
      "projects/statmike-mlops-349915/locations/us-central1/repositories/mlops\n",
      "projects/statmike-mlops-349915/locations/us-central1/repositories/statmike-mlops-349915\n",
      "projects/statmike-mlops-349915/locations/us-central1/repositories/statmike-mlops-349915-docker\n",
      "projects/statmike-mlops-349915/locations/us-central1/repositories/statmike-mlops-349915-python\n"
     ]
    }
   ],
   "source": [
    "for repo in ar.list_repositories(parent = f'projects/{PROJECT_ID}/locations/{REGION}'):\n",
    "    print(repo.name)"
   ]
  },
  {
   "cell_type": "markdown",
   "id": "3f03c879-7d76-4aa5-a2b4-19158e973d34",
   "metadata": {},
   "source": [
    "#### Create/Retrieve Docker Image Repository\n",
    "\n",
    "Create an Artifact Registry Repository to hold Docker Images created by this notebook.  First, check to see if it is already created by a previous run and retrieve it if it has.  Otherwise, create one named for this project."
   ]
  },
  {
   "cell_type": "code",
   "execution_count": 17,
   "id": "32b9070c-2d95-4286-9ac6-d27569738a81",
   "metadata": {
    "tags": []
   },
   "outputs": [
    {
     "name": "stdout",
     "output_type": "stream",
     "text": [
      "Retrieved existing repo: projects/statmike-mlops-349915/locations/us-central1/repositories/frameworks\n"
     ]
    }
   ],
   "source": [
    "docker_repo = None\n",
    "for repo in ar.list_repositories(parent = f'projects/{PROJECT_ID}/locations/{REGION}'):\n",
    "    if f'{SERIES}' == repo.name.split('/')[-1]:\n",
    "        docker_repo = repo\n",
    "        print(f'Retrieved existing repo: {docker_repo.name}')\n",
    "\n",
    "if not docker_repo:\n",
    "    operation = ar.create_repository(\n",
    "        request = artifactregistry_v1.CreateRepositoryRequest(\n",
    "            parent = f'projects/{PROJECT_ID}/locations/{REGION}',\n",
    "            repository_id = f'{SERIES}',\n",
    "            repository = artifactregistry_v1.Repository(\n",
    "                description = f'A repository for the {SERIES} series that holds docker images.',\n",
    "                name = f'{SERIES}',\n",
    "                format_ = artifactregistry_v1.Repository.Format.DOCKER,\n",
    "                labels = {'series': SERIES}\n",
    "            )\n",
    "        )\n",
    "    )\n",
    "    print('Creating Repository ...')\n",
    "    docker_repo = operation.result()\n",
    "    print(f'Completed creating repo: {docker_repo.name}')"
   ]
  },
  {
   "cell_type": "code",
   "execution_count": 18,
   "id": "2f07c514-9f5d-47b1-bccb-f79f6ef7662f",
   "metadata": {
    "tags": []
   },
   "outputs": [
    {
     "data": {
      "text/plain": [
       "('projects/statmike-mlops-349915/locations/us-central1/repositories/frameworks',\n",
       " 'DOCKER')"
      ]
     },
     "execution_count": 18,
     "metadata": {},
     "output_type": "execute_result"
    }
   ],
   "source": [
    "docker_repo.name, docker_repo.format_.name"
   ]
  },
  {
   "cell_type": "code",
   "execution_count": 19,
   "id": "fc6a3988-abeb-4baf-b80f-84db5112d91d",
   "metadata": {
    "tags": []
   },
   "outputs": [],
   "source": [
    "REPOSITORY = f\"{REGION}-docker.pkg.dev/{PROJECT_ID}/{docker_repo.name.split('/')[-1]}\""
   ]
  },
  {
   "cell_type": "code",
   "execution_count": 20,
   "id": "157319f1-11c2-4772-ba42-6dd76ed4da6a",
   "metadata": {
    "tags": []
   },
   "outputs": [
    {
     "data": {
      "text/plain": [
       "'us-central1-docker.pkg.dev/statmike-mlops-349915/frameworks'"
      ]
     },
     "execution_count": 20,
     "metadata": {},
     "output_type": "execute_result"
    }
   ],
   "source": [
    "REPOSITORY"
   ]
  },
  {
   "cell_type": "markdown",
   "id": "305648bb-a27b-4524-95a0-016f7362212e",
   "metadata": {
    "tags": []
   },
   "source": [
    "---\n",
    "### Create Application Files\n",
    "\n",
    "```\n",
    "|__ Dockerfile\n",
    "|__ requirements.txt\n",
    "|__ app\n",
    "    |__ __init__.py\n",
    "    |__ main.py\n",
    "    |__ prestart.sh\n",
    "```"
   ]
  },
  {
   "cell_type": "code",
   "execution_count": 21,
   "id": "51f7ca1f-484a-4b78-b89c-63c9699904d6",
   "metadata": {
    "tags": []
   },
   "outputs": [],
   "source": [
    "if not os.path.exists(DIR + '/source/app'):\n",
    "    os.makedirs(DIR + '/source/app')"
   ]
  },
  {
   "cell_type": "code",
   "execution_count": 22,
   "id": "99de87ad-554c-4b4c-ada3-9ac96250ee3a",
   "metadata": {
    "tags": []
   },
   "outputs": [
    {
     "name": "stdout",
     "output_type": "stream",
     "text": [
      "Overwriting files/catboost-custom-container/source/Dockerfile\n"
     ]
    }
   ],
   "source": [
    "%%writefile {DIR}/source/Dockerfile\n",
    "FROM tiangolo/uvicorn-gunicorn-fastapi:python3.9\n",
    "\n",
    "COPY ./app /app\n",
    "COPY ./requirements.txt requirements.txt\n",
    "\n",
    "RUN pip install --no-cache-dir --upgrade pip \\\n",
    "  && pip install --no-cache-dir -r requirements.txt"
   ]
  },
  {
   "cell_type": "code",
   "execution_count": 23,
   "id": "080ad811-b3f3-4507-925f-ce5a566b70f2",
   "metadata": {
    "tags": []
   },
   "outputs": [
    {
     "name": "stdout",
     "output_type": "stream",
     "text": [
      "Overwriting files/catboost-custom-container/source/requirements.txt\n"
     ]
    }
   ],
   "source": [
    "%%writefile {DIR}/source/requirements.txt\n",
    "google-cloud-storage\n",
    "catboost\n",
    "numpy"
   ]
  },
  {
   "cell_type": "code",
   "execution_count": 24,
   "id": "0089f27f-4156-40fc-aebe-f070094c1412",
   "metadata": {
    "tags": []
   },
   "outputs": [
    {
     "name": "stdout",
     "output_type": "stream",
     "text": [
      "Overwriting files/catboost-custom-container/source/app/__init__.py\n"
     ]
    }
   ],
   "source": [
    "%%writefile {DIR}/source/app/__init__.py\n",
    "# init file"
   ]
  },
  {
   "cell_type": "code",
   "execution_count": 25,
   "id": "2c5df745-85f8-44e8-9600-f7cd63568b58",
   "metadata": {
    "tags": []
   },
   "outputs": [
    {
     "name": "stdout",
     "output_type": "stream",
     "text": [
      "Overwriting files/catboost-custom-container/source/app/main.py\n"
     ]
    }
   ],
   "source": [
    "%%writefile {DIR}/source/app/main.py\n",
    "# this version:\n",
    "# - inputs to be json like {'instances': [[list],[list], ...]}\n",
    "# - outputs in json like {'predictions': [[list],[list], ...]}\n",
    "# trying to adhere to Vetex Endpoints Requirements:\n",
    "# - https://cloud.google.com/vertex-ai/docs/predictions/get-online-predictions\n",
    "\n",
    "# packages\n",
    "import os\n",
    "from fastapi import FastAPI, Request\n",
    "import catboost\n",
    "import numpy as np\n",
    "from google.cloud import storage\n",
    "\n",
    "# clients\n",
    "app = FastAPI()\n",
    "gcs = storage.Client()\n",
    "\n",
    "# download the model file from GCS\n",
    "paths = os.environ['AIP_STORAGE_URI'].split('/') + ['model.cbm']\n",
    "bucket = gcs.bucket(paths[2])\n",
    "blob = bucket.blob('/'.join(paths[3:]))\n",
    "blob.download_to_filename('model.cbm')\n",
    "\n",
    "# Load the catboost model\n",
    "_model = catboost.CatBoostClassifier().load_model('model.cbm')\n",
    "\n",
    "# get model classification levels\n",
    "classes = [str(c) for c in list(_model.classes_)]\n",
    "\n",
    "# Define function for health route\n",
    "@app.get(os.environ['AIP_HEALTH_ROUTE'], status_code=200)\n",
    "def health():\n",
    "    return {}\n",
    "\n",
    "# Define function for prediction route\n",
    "@app.post(os.environ['AIP_PREDICT_ROUTE'])\n",
    "async def predict(request: Request):\n",
    "    # await the request\n",
    "    body = await request.json()\n",
    "    \n",
    "    # parse the request\n",
    "    instances = body[\"instances\"]\n",
    "    \n",
    "    # get predicted probabilities\n",
    "    predictions = _model.predict_proba(instances).tolist()    \n",
    "\n",
    "    # this returns just the predicted probabilities:\n",
    "    return {\"predictions\": predictions}"
   ]
  },
  {
   "cell_type": "code",
   "execution_count": 26,
   "id": "dbff741a-4a31-4c66-a667-3dcd1dfcbdb7",
   "metadata": {
    "tags": []
   },
   "outputs": [
    {
     "name": "stdout",
     "output_type": "stream",
     "text": [
      "Overwriting files/catboost-custom-container/source/app/main2.py\n"
     ]
    }
   ],
   "source": [
    "%%writefile {DIR}/source/app/main2.py\n",
    "# this version:\n",
    "# - inputs to be json like {'instances': [[list],[list], ...]}\n",
    "# - outputs in json like {'predictions': [{'classes': list, 'scores': list, 'predicted_class': str}, ...]}\n",
    "# trying to adhere to Vetex Endpoints Requirements:\n",
    "# - https://cloud.google.com/vertex-ai/docs/predictions/get-online-predictions\n",
    "\n",
    "# packages\n",
    "import os\n",
    "from fastapi import FastAPI, Request\n",
    "import catboost\n",
    "import numpy as np\n",
    "from google.cloud import storage\n",
    "\n",
    "# clients\n",
    "app = FastAPI()\n",
    "gcs = storage.Client()\n",
    "\n",
    "# download the model file from GCS\n",
    "paths = os.environ['AIP_STORAGE_URI'].split('/') + ['model.cbm']\n",
    "bucket = gcs.bucket(paths[2])\n",
    "blob = bucket.blob('/'.join(paths[3:]))\n",
    "blob.download_to_filename('model.cbm')\n",
    "\n",
    "# Load the catboost model\n",
    "_model = catboost.CatBoostClassifier().load_model('model.cbm')\n",
    "\n",
    "# get model classification levels\n",
    "classes = [str(c) for c in list(_model.classes_)]\n",
    "\n",
    "# Define function for health route\n",
    "@app.get(os.environ['AIP_HEALTH_ROUTE'], status_code=200)\n",
    "def health():\n",
    "    return {}\n",
    "\n",
    "# Define function for prediction route\n",
    "@app.post(os.environ['AIP_PREDICT_ROUTE'])\n",
    "async def predict(request: Request):\n",
    "    # await the request\n",
    "    body = await request.json()\n",
    "    \n",
    "    # parse the request\n",
    "    instances = body[\"instances\"]\n",
    "    \n",
    "    # get predicted probabilities\n",
    "    predictions = _model.predict_proba(instances).tolist()\n",
    "    \n",
    "    # format predictions:\n",
    "    preds = [dict(classes = classes, scores = p, predicted_class = classes[np.argmax(p)]) for p in predictions]\n",
    "    \n",
    "    # following outputs detail prediction info for classification:\n",
    "    return {\"predictions\": preds}"
   ]
  },
  {
   "cell_type": "code",
   "execution_count": 27,
   "id": "39701f39-6458-419c-802d-f4fc372243da",
   "metadata": {
    "tags": []
   },
   "outputs": [
    {
     "name": "stdout",
     "output_type": "stream",
     "text": [
      "Overwriting files/catboost-custom-container/source/app/prestart.sh\n"
     ]
    }
   ],
   "source": [
    "%%writefile {DIR}/source/app/prestart.sh\n",
    "#!/bin/bash\n",
    "export PORT=$AIP_HTTP_PORT"
   ]
  },
  {
   "cell_type": "code",
   "execution_count": 28,
   "id": "7963558c-bb87-42ff-8fc4-0bb51a0c3b7a",
   "metadata": {
    "tags": []
   },
   "outputs": [],
   "source": [
    "bucket.blob(f'{SERIES}/{EXPERIMENT}/source/Dockerfile').upload_from_filename(f'{DIR}/source/Dockerfile')\n",
    "bucket.blob(f'{SERIES}/{EXPERIMENT}/source/requirements.txt').upload_from_filename(f'{DIR}/source/requirements.txt')\n",
    "bucket.blob(f'{SERIES}/{EXPERIMENT}/source/app/__init__.py').upload_from_filename(f'{DIR}/source/app/__init__.py')\n",
    "bucket.blob(f'{SERIES}/{EXPERIMENT}/source/app/main.py').upload_from_filename(f'{DIR}/source/app/main.py')\n",
    "bucket.blob(f'{SERIES}/{EXPERIMENT}/source/app/main2.py').upload_from_filename(f'{DIR}/source/app/main2.py')\n",
    "bucket.blob(f'{SERIES}/{EXPERIMENT}/source/app/prestart.sh').upload_from_filename(f'{DIR}/source/app/prestart.sh')"
   ]
  },
  {
   "cell_type": "code",
   "execution_count": 29,
   "id": "a4c72114-0d6f-4dd9-9816-f6564286c358",
   "metadata": {
    "tags": []
   },
   "outputs": [
    {
     "data": {
      "text/plain": [
       "[<Blob: statmike-mlops-349915, frameworks/catboost-custom-container/source/Dockerfile, 1739194583792229>,\n",
       " <Blob: statmike-mlops-349915, frameworks/catboost-custom-container/source/app/__init__.py, 1739194583946387>,\n",
       " <Blob: statmike-mlops-349915, frameworks/catboost-custom-container/source/app/main.py, 1739194584029001>,\n",
       " <Blob: statmike-mlops-349915, frameworks/catboost-custom-container/source/app/main2.py, 1739194584103663>,\n",
       " <Blob: statmike-mlops-349915, frameworks/catboost-custom-container/source/app/prestart.sh, 1739194584177041>,\n",
       " <Blob: statmike-mlops-349915, frameworks/catboost-custom-container/source/requirements.txt, 1739194583875840>]"
      ]
     },
     "execution_count": 29,
     "metadata": {},
     "output_type": "execute_result"
    }
   ],
   "source": [
    "list(bucket.list_blobs(prefix = f'{SERIES}/{EXPERIMENT}/source'))"
   ]
  },
  {
   "cell_type": "markdown",
   "id": "ad248afd-a415-4198-80bb-f1e3dc90fd56",
   "metadata": {},
   "source": [
    "---\n",
    "### Build Application Container\n",
    "\n",
    "Use the Cloud Build client to construct and run the build instructions. Here the files collected in GCS are copied to the build instance, then the Docker build is run in the folder with the `Dockerfile`. The resulting image is pushed to Artifact Registry (setup above)."
   ]
  },
  {
   "cell_type": "code",
   "execution_count": 30,
   "id": "bde077cc-21e2-44bf-b77a-6d718d6379c6",
   "metadata": {
    "tags": []
   },
   "outputs": [],
   "source": [
    "# setup the build config with empty list of steps - these will be added sequentially\n",
    "build = cloudbuild_v1.Build(\n",
    "    steps = []\n",
    ")\n",
    "# retrieve the source\n",
    "build.steps.append(\n",
    "    {\n",
    "        'name': 'gcr.io/cloud-builders/gsutil',\n",
    "        'args': ['cp', '-r', f'gs://{GCS_BUCKET}/{SERIES}/{EXPERIMENT}/source/*', '/workspace']\n",
    "    }\n",
    ")\n",
    "# docker build\n",
    "build.steps.append(\n",
    "    {\n",
    "        'name': 'gcr.io/cloud-builders/docker',\n",
    "        'args': ['build', '-t', f'{REPOSITORY}/{EXPERIMENT}', '/workspace']\n",
    "    }    \n",
    ")\n",
    "# docker push\n",
    "build.images = [f\"{REPOSITORY}/{EXPERIMENT}\"]"
   ]
  },
  {
   "cell_type": "code",
   "execution_count": 31,
   "id": "520bafb5-b1b4-4626-a2b3-e94aedb09e63",
   "metadata": {
    "tags": []
   },
   "outputs": [],
   "source": [
    "operation = cb.create_build(\n",
    "    project_id = PROJECT_ID,\n",
    "    build = build\n",
    ")"
   ]
  },
  {
   "cell_type": "code",
   "execution_count": 32,
   "id": "7642cb73-9719-4b23-9131-d306ab17a5e5",
   "metadata": {
    "tags": []
   },
   "outputs": [
    {
     "data": {
      "text/plain": [
       "(<Status.SUCCESS: 3>,\n",
       " images: \"us-central1-docker.pkg.dev/statmike-mlops-349915/frameworks/catboost-custom-container\")"
      ]
     },
     "execution_count": 32,
     "metadata": {},
     "output_type": "execute_result"
    }
   ],
   "source": [
    "build_response = operation.result()\n",
    "build_response.status, build_response.artifacts"
   ]
  },
  {
   "cell_type": "code",
   "execution_count": 33,
   "id": "06042798-9f8d-460f-91df-4a66b31ef9c4",
   "metadata": {
    "tags": []
   },
   "outputs": [
    {
     "data": {
      "text/plain": [
       "'us-central1-docker.pkg.dev/statmike-mlops-349915/frameworks/catboost-custom-container'"
      ]
     },
     "execution_count": 33,
     "metadata": {},
     "output_type": "execute_result"
    }
   ],
   "source": [
    "build_response.artifacts.images[0]"
   ]
  },
  {
   "cell_type": "markdown",
   "id": "cc7a96ea-46a4-41f7-a586-92d6a6f891ac",
   "metadata": {
    "tags": []
   },
   "source": [
    "---\n",
    "## Test Locally\n",
    "\n",
    "If Docker is installed and running locally then use it to test the image."
   ]
  },
  {
   "cell_type": "code",
   "execution_count": 34,
   "id": "4f85a096-74ff-4181-bf5b-27e72cfacea8",
   "metadata": {
    "tags": []
   },
   "outputs": [
    {
     "name": "stdout",
     "output_type": "stream",
     "text": [
      "Docker is installed and running. Version: 20.10.17\n"
     ]
    }
   ],
   "source": [
    "try:\n",
    "    local_test = True\n",
    "    docker_client = docker.from_env()\n",
    "    if docker_client.ping():\n",
    "        print(f\"Docker is installed and running. Version: {docker_client.version()['Version']}\")\n",
    "except Exception as e:\n",
    "    local_test = False\n",
    "    print('Docker is either not installed or not running - please fix before proceeding.\\nhttps://docs.docker.com/engine/install/')"
   ]
  },
  {
   "cell_type": "markdown",
   "id": "2812da58-79cf-4d5d-95e6-191207415c08",
   "metadata": {},
   "source": [
    "### Pull and Run Container\n",
    "\n",
    "Run the container image with:\n",
    "- ports: inside 8080 mapped to outside 80\n",
    "- set environment variables for:\n",
    "    - `AIP_HTTP_PORT` is `8080`\n",
    "    - `AIP_HEALTH_ROUTE` is `/health`\n",
    "    - `AIP_PREDICT_ROUTE` is `/predict`\n",
    "    - `AIP_STORAGE_URI` is the `gs://bucket/path/to/folder`\n",
    "    - `MODULE_NAME` is 'main'\n",
    "        - this actually defaults to main so is not required\n",
    "        - an alternative script with different prediction output is created in `main2.py` above\n",
    "        - use this environment variable to start the container using the alternative script in module `main2`\n",
    "        - see the [FastAPI Docker Image Advanced Usage](https://github.com/tiangolo/uvicorn-gunicorn-fastapi-docker?tab=readme-ov-file#advanced-usage) details"
   ]
  },
  {
   "cell_type": "code",
   "execution_count": 46,
   "id": "16613a13-093e-4eb4-9b45-a1875139444b",
   "metadata": {
    "tags": []
   },
   "outputs": [
    {
     "name": "stdout",
     "output_type": "stream",
     "text": [
      "Using existing image ...\n",
      "Starting container ...\n",
      "Container ready.\n",
      "\tUse `container.logs()` to view startup logs.\n"
     ]
    }
   ],
   "source": [
    "if local_test:\n",
    "    # make sure any prior runs are stopped:\n",
    "    try:\n",
    "        container = docker_client.containers.get('local-run')\n",
    "        container.stop()\n",
    "        container.remove()\n",
    "    except docker.errors.NotFound:\n",
    "        pass\n",
    "    \n",
    "    # get image:\n",
    "    image_uri = build_response.artifacts.images[0]\n",
    "    try:\n",
    "        local_image = docker_client.images.get(image_uri)\n",
    "        remote_image = docker_client.images.pull(image_uri)\n",
    "        if local_image.id != remote_image.id:\n",
    "            print('New image found, updating ...')\n",
    "            local_image = remote_image\n",
    "        else:\n",
    "            print('Using existing image ...')\n",
    "    except docker.errors.ImageNotFound:\n",
    "        print('Pulling image ...')\n",
    "        local_image = docker_client.images.pull(image_uri)\n",
    "        \n",
    "    # run container:\n",
    "    print('Starting container ...')\n",
    "    container = docker_client.containers.run(\n",
    "        image = image_uri,\n",
    "        detach = True,\n",
    "        ports = {'8080/tcp':80}, # Map inside:outside (where docker run -p is outside:inside)\n",
    "        name = 'local-run',\n",
    "        environment = {\n",
    "            'AIP_HTTP_PORT': '8080',\n",
    "            'AIP_HEALTH_ROUTE': '/health',\n",
    "            'AIP_PREDICT_ROUTE': '/predict',\n",
    "            'AIP_STORAGE_URI': f'gs://{bucket.name}/{SERIES}/catboost-overview',\n",
    "            'MODULE_NAME': 'main2' # try main2 for alternative output\n",
    "        }\n",
    "    )\n",
    "    print('Container ready.\\n\\tUse `container.logs()` to view startup logs.')"
   ]
  },
  {
   "cell_type": "code",
   "execution_count": 47,
   "id": "f6d0f093-8494-44f0-9d51-f32361b0b68b",
   "metadata": {
    "tags": []
   },
   "outputs": [],
   "source": [
    "#container.logs()"
   ]
  },
  {
   "cell_type": "markdown",
   "id": "da296f3d-ddb7-4de8-8f86-2635de20217b",
   "metadata": {},
   "source": [
    "### Health Check\n",
    "\n",
    "Want to see `200`:"
   ]
  },
  {
   "cell_type": "code",
   "execution_count": 48,
   "id": "3418ac4d-411a-4b7e-9b34-4ea5436dd807",
   "metadata": {
    "tags": []
   },
   "outputs": [
    {
     "name": "stdout",
     "output_type": "stream",
     "text": [
      "200\n"
     ]
    }
   ],
   "source": [
    "if local_test:\n",
    "    response = requests.get(f\"http://localhost:80/health\")\n",
    "    print(response.status_code)"
   ]
  },
  {
   "cell_type": "markdown",
   "id": "913f49a2-9dfe-4bde-b890-1d45bdf8429b",
   "metadata": {},
   "source": [
    "### Inference Test"
   ]
  },
  {
   "cell_type": "code",
   "execution_count": 49,
   "id": "200530a6-a689-4ddd-95a3-446b126bf2af",
   "metadata": {
    "tags": []
   },
   "outputs": [],
   "source": [
    "def predict(instances):\n",
    "    url = f\"http://localhost:80/predict\"\n",
    "    headers = {'Content_Type': 'application/json'}\n",
    "    data = json.dumps({'instances': instances})\n",
    "    response = requests.post(url, headers = headers, data = data)    \n",
    "    return json.loads(response.text)"
   ]
  },
  {
   "cell_type": "code",
   "execution_count": 50,
   "id": "ead03784-e922-437e-acc0-4880c0ea2da5",
   "metadata": {
    "tags": []
   },
   "outputs": [
    {
     "data": {
      "text/plain": [
       "{'predictions': [{'classes': ['0', '1'],\n",
       "   'scores': [0.9684653609075246, 0.031534639092475496],\n",
       "   'predicted_class': '0'}]}"
      ]
     },
     "execution_count": 50,
     "metadata": {},
     "output_type": "execute_result"
    }
   ],
   "source": [
    "predict(examples_np[0:1].tolist())"
   ]
  },
  {
   "cell_type": "code",
   "execution_count": 51,
   "id": "31d7a7e6-ffbc-4587-8621-a78112759f3c",
   "metadata": {
    "tags": []
   },
   "outputs": [
    {
     "data": {
      "text/plain": [
       "{'predictions': [{'classes': ['0', '1'],\n",
       "   'scores': [0.004793214059859108, 0.9952067859401409],\n",
       "   'predicted_class': '1'}]}"
      ]
     },
     "execution_count": 51,
     "metadata": {},
     "output_type": "execute_result"
    }
   ],
   "source": [
    "predict(examples_np[1:2].tolist())"
   ]
  },
  {
   "cell_type": "code",
   "execution_count": 52,
   "id": "38ee1e04-ae45-4d23-b6eb-f4b228a1d106",
   "metadata": {
    "tags": []
   },
   "outputs": [
    {
     "data": {
      "text/plain": [
       "{'predictions': [{'classes': ['0', '1'],\n",
       "   'scores': [0.9684653609075246, 0.031534639092475496],\n",
       "   'predicted_class': '0'},\n",
       "  {'classes': ['0', '1'],\n",
       "   'scores': [0.004793214059859108, 0.9952067859401409],\n",
       "   'predicted_class': '1'}]}"
      ]
     },
     "execution_count": 52,
     "metadata": {},
     "output_type": "execute_result"
    }
   ],
   "source": [
    "predict(examples_np[0:2].tolist())"
   ]
  },
  {
   "cell_type": "code",
   "execution_count": 53,
   "id": "c89e7bf8-7f5c-4b06-b56c-4839f959867b",
   "metadata": {
    "tags": []
   },
   "outputs": [
    {
     "data": {
      "text/plain": [
       "{'predictions': [{'classes': ['0', '1'],\n",
       "   'scores': [0.9684653609075246, 0.031534639092475496],\n",
       "   'predicted_class': '0'},\n",
       "  {'classes': ['0', '1'],\n",
       "   'scores': [0.004793214059859108, 0.9952067859401409],\n",
       "   'predicted_class': '1'},\n",
       "  {'classes': ['0', '1'],\n",
       "   'scores': [0.9961659959204033, 0.0038340040795967153],\n",
       "   'predicted_class': '0'},\n",
       "  {'classes': ['0', '1'],\n",
       "   'scores': [0.009687501567520629, 0.9903124984324794],\n",
       "   'predicted_class': '1'},\n",
       "  {'classes': ['0', '1'],\n",
       "   'scores': [0.05002634033491404, 0.949973659665086],\n",
       "   'predicted_class': '1'},\n",
       "  {'classes': ['0', '1'],\n",
       "   'scores': [0.9988754743912287, 0.0011245256087712965],\n",
       "   'predicted_class': '0'},\n",
       "  {'classes': ['0', '1'],\n",
       "   'scores': [0.0058287633360615265, 0.9941712366639385],\n",
       "   'predicted_class': '1'},\n",
       "  {'classes': ['0', '1'],\n",
       "   'scores': [0.0031326212134841214, 0.9968673787865159],\n",
       "   'predicted_class': '1'},\n",
       "  {'classes': ['0', '1'],\n",
       "   'scores': [0.8122003166930434, 0.18779968330695668],\n",
       "   'predicted_class': '0'},\n",
       "  {'classes': ['0', '1'],\n",
       "   'scores': [0.007672836590005838, 0.9923271634099942],\n",
       "   'predicted_class': '1'}]}"
      ]
     },
     "execution_count": 53,
     "metadata": {},
     "output_type": "execute_result"
    }
   ],
   "source": [
    "predict(examples_np.tolist())"
   ]
  },
  {
   "cell_type": "markdown",
   "id": "727315b4-5203-4c3a-b626-6a8adc2fa74c",
   "metadata": {},
   "source": [
    "### Stop Container"
   ]
  },
  {
   "cell_type": "code",
   "execution_count": 54,
   "id": "3ea8effb-46b2-4e58-864b-86e8a764dbf8",
   "metadata": {
    "tags": []
   },
   "outputs": [
    {
     "data": {
      "text/plain": [
       "'local-run'"
      ]
     },
     "execution_count": 54,
     "metadata": {},
     "output_type": "execute_result"
    }
   ],
   "source": [
    "container.name"
   ]
  },
  {
   "cell_type": "code",
   "execution_count": 55,
   "id": "581cee9e-ea0a-427c-907b-23f5ec972207",
   "metadata": {
    "tags": []
   },
   "outputs": [],
   "source": [
    "container = docker_client.containers.get(container.name)"
   ]
  },
  {
   "cell_type": "code",
   "execution_count": 56,
   "id": "229052da-ee34-46b8-b86f-97f0a53bfa64",
   "metadata": {
    "tags": []
   },
   "outputs": [
    {
     "data": {
      "text/plain": [
       "'running'"
      ]
     },
     "execution_count": 56,
     "metadata": {},
     "output_type": "execute_result"
    }
   ],
   "source": [
    "container.status"
   ]
  },
  {
   "cell_type": "code",
   "execution_count": 57,
   "id": "b29a404e-de05-408d-b3a3-96dfeeb5f6bb",
   "metadata": {
    "tags": []
   },
   "outputs": [],
   "source": [
    "container.stop()\n",
    "container.remove()"
   ]
  },
  {
   "cell_type": "markdown",
   "id": "2b327fef-8859-4bf7-9701-3bb588e4e53d",
   "metadata": {
    "tags": []
   },
   "source": [
    "---\n",
    "## Vertex AI Prediction Endpoint\n",
    "\n",
    "Register the model in the [Vertex AI Model Registry](https://cloud.google.com/vertex-ai/docs/model-registry/introduction) and [Deploy it to an endpoint](https://cloud.google.com/vertex-ai/docs/general/deployment)."
   ]
  },
  {
   "cell_type": "markdown",
   "id": "14d340bc-75f2-488a-ab6c-29440abe7d18",
   "metadata": {
    "tags": []
   },
   "source": [
    "### Model Registry"
   ]
  },
  {
   "cell_type": "markdown",
   "id": "8ae69626-f599-4ddf-869e-163376c1a0e0",
   "metadata": {},
   "source": [
    "Check for existing version of the model:"
   ]
  },
  {
   "cell_type": "code",
   "execution_count": 37,
   "id": "793217c5-de15-4350-8ca7-355d403d0347",
   "metadata": {
    "tags": []
   },
   "outputs": [
    {
     "data": {
      "text/plain": [
       "''"
      ]
     },
     "execution_count": 37,
     "metadata": {},
     "output_type": "execute_result"
    }
   ],
   "source": [
    "parent_model = ''\n",
    "for model in aiplatform.Model.list(filter=f'display_name=\"{SERIES}\"'):\n",
    "    parent_model = model.resource_name\n",
    "    break\n",
    "parent_model"
   ]
  },
  {
   "cell_type": "markdown",
   "id": "85b985f1-d8d2-4de5-8b4b-33fba1053776",
   "metadata": {},
   "source": [
    "Upload the model to the registry with different versions for:\n",
    "- plain responses - using main.py which is default\n",
    "- formated responses - using main2.py which is set with environment variable"
   ]
  },
  {
   "cell_type": "code",
   "execution_count": 38,
   "id": "57a523c1-cfd7-47af-9908-6276d7c49b1b",
   "metadata": {
    "tags": []
   },
   "outputs": [
    {
     "name": "stdout",
     "output_type": "stream",
     "text": [
      "Creating Model\n",
      "Create Model backing LRO: projects/1026793852137/locations/us-central1/models/frameworks/operations/982063891641008128\n",
      "Model created. Resource name: projects/1026793852137/locations/us-central1/models/frameworks@1\n",
      "To use this Model in another session:\n",
      "model = aiplatform.Model('projects/1026793852137/locations/us-central1/models/frameworks@1')\n"
     ]
    }
   ],
   "source": [
    "vertex_model = aiplatform.Model.upload(\n",
    "    display_name = SERIES,\n",
    "    model_id = SERIES,\n",
    "    parent_model = parent_model,\n",
    "    serving_container_image_uri = build_response.artifacts.images[0],\n",
    "    artifact_uri = f'gs://{bucket.name}/{SERIES}/catboost-overview',\n",
    "    is_default_version = True,\n",
    "    version_aliases = [f'{EXPERIMENT}-plain'],\n",
    "    version_description = EXPERIMENT,\n",
    "    labels = {'series': SERIES, 'experiment': EXPERIMENT}\n",
    ")"
   ]
  },
  {
   "cell_type": "code",
   "execution_count": 39,
   "id": "93bd02fb-244b-4c93-9c3c-56d39a676a9a",
   "metadata": {
    "tags": []
   },
   "outputs": [
    {
     "name": "stdout",
     "output_type": "stream",
     "text": [
      "Creating Model\n",
      "Create Model backing LRO: projects/1026793852137/locations/us-central1/models/frameworks/operations/1053699273213870080\n",
      "Model created. Resource name: projects/1026793852137/locations/us-central1/models/frameworks@2\n",
      "To use this Model in another session:\n",
      "model = aiplatform.Model('projects/1026793852137/locations/us-central1/models/frameworks@2')\n"
     ]
    }
   ],
   "source": [
    "vertex_model = aiplatform.Model.upload(\n",
    "    parent_model = vertex_model.resource_name,\n",
    "    serving_container_image_uri = build_response.artifacts.images[0],\n",
    "    serving_container_environment_variables = {'MODULE_NAME': 'main2'},\n",
    "    artifact_uri = f'gs://{bucket.name}/{SERIES}/catboost-overview',\n",
    "    is_default_version = False,\n",
    "    version_aliases = [f'{EXPERIMENT}-formatted'],\n",
    "    version_description = EXPERIMENT,\n",
    "    labels = {'series': SERIES, 'experiment': EXPERIMENT}\n",
    ")"
   ]
  },
  {
   "cell_type": "markdown",
   "id": "4b9d2410-30b4-4626-b748-09783dfc78e3",
   "metadata": {},
   "source": [
    "### Create Endpoint"
   ]
  },
  {
   "cell_type": "markdown",
   "id": "8e14695d-cace-4bbd-8e05-09141bffe1d0",
   "metadata": {},
   "source": [
    "Check for existing endpoint:"
   ]
  },
  {
   "cell_type": "code",
   "execution_count": 40,
   "id": "588c73bb-8afa-4d84-bb18-f8297ab5b29c",
   "metadata": {
    "tags": []
   },
   "outputs": [],
   "source": [
    "vertex_endpoint = None\n",
    "for endpoint in aiplatform.Endpoint.list(filter=f'display_name=\"{SERIES}\"'):\n",
    "    vertex_endpoint = endpoint\n",
    "    break\n",
    "vertex_endpoint"
   ]
  },
  {
   "cell_type": "markdown",
   "id": "1090e064-d898-48a0-925d-a985613a5506",
   "metadata": {},
   "source": [
    "Create endpoint if missing:"
   ]
  },
  {
   "cell_type": "code",
   "execution_count": 41,
   "id": "bfa3284d-df3c-4b70-a18e-73f973c8195e",
   "metadata": {
    "tags": []
   },
   "outputs": [
    {
     "name": "stdout",
     "output_type": "stream",
     "text": [
      "Creating Endpoint\n",
      "Create Endpoint backing LRO: projects/1026793852137/locations/us-central1/endpoints/8702565264614490112/operations/7345650165115518976\n",
      "Endpoint created. Resource name: projects/1026793852137/locations/us-central1/endpoints/8702565264614490112\n",
      "To use this Endpoint in another session:\n",
      "endpoint = aiplatform.Endpoint('projects/1026793852137/locations/us-central1/endpoints/8702565264614490112')\n"
     ]
    },
    {
     "data": {
      "text/plain": [
       "<google.cloud.aiplatform.models.Endpoint object at 0x7f8af0c57df0> \n",
       "resource name: projects/1026793852137/locations/us-central1/endpoints/8702565264614490112"
      ]
     },
     "execution_count": 41,
     "metadata": {},
     "output_type": "execute_result"
    }
   ],
   "source": [
    "if not vertex_endpoint:\n",
    "    vertex_endpoint = aiplatform.Endpoint.create(\n",
    "        display_name = SERIES,\n",
    "        labels = {'series': SERIES}   \n",
    "    )\n",
    "vertex_endpoint"
   ]
  },
  {
   "cell_type": "markdown",
   "id": "388a87ac-0f2f-4653-8f04-1871d768bc40",
   "metadata": {},
   "source": [
    "### Deploy Model: Default version with `main.py` - Plain"
   ]
  },
  {
   "cell_type": "markdown",
   "id": "5449e49b-8692-44e3-9896-8146e54babdd",
   "metadata": {},
   "source": [
    "Get the latest model version with alias `plain`:"
   ]
  },
  {
   "cell_type": "code",
   "execution_count": 42,
   "id": "a6ffc496-729a-4809-968d-ba1789b58ac3",
   "metadata": {
    "tags": []
   },
   "outputs": [
    {
     "data": {
      "text/plain": [
       "'projects/1026793852137/locations/us-central1/models/frameworks@1'"
      ]
     },
     "execution_count": 42,
     "metadata": {},
     "output_type": "execute_result"
    }
   ],
   "source": [
    "vertex_model = aiplatform.Model(model_name = SERIES, version = f'{EXPERIMENT}-plain')\n",
    "vertex_model.versioned_resource_name"
   ]
  },
  {
   "cell_type": "code",
   "execution_count": 43,
   "id": "09fc56aa-9cfc-4675-baaa-a366506d0eda",
   "metadata": {
    "tags": []
   },
   "outputs": [
    {
     "name": "stdout",
     "output_type": "stream",
     "text": [
      "Deploying model to Endpoint : projects/1026793852137/locations/us-central1/endpoints/8702565264614490112\n",
      "Deploy Endpoint model backing LRO: projects/1026793852137/locations/us-central1/endpoints/8702565264614490112/operations/3035283109256888320\n",
      "Endpoint model deployed. Resource name: projects/1026793852137/locations/us-central1/endpoints/8702565264614490112\n"
     ]
    },
    {
     "data": {
      "text/plain": [
       "<google.cloud.aiplatform.models.Endpoint object at 0x7f8af0c57df0> \n",
       "resource name: projects/1026793852137/locations/us-central1/endpoints/8702565264614490112"
      ]
     },
     "execution_count": 43,
     "metadata": {},
     "output_type": "execute_result"
    }
   ],
   "source": [
    "vertex_model.deploy(\n",
    "    endpoint = vertex_endpoint,\n",
    "    traffic_percentage = 100,\n",
    "    machine_type = 'n1-standard-4',\n",
    "    min_replica_count = 1,\n",
    "    max_replica_count = 2,\n",
    ")"
   ]
  },
  {
   "cell_type": "markdown",
   "id": "350f6cc7-a4c0-4b21-991c-d978abf998b8",
   "metadata": {},
   "source": [
    "### Test Predictions: Plain"
   ]
  },
  {
   "cell_type": "code",
   "execution_count": 44,
   "id": "2dc3bde7-e715-4052-8695-9f5d6aac3f5f",
   "metadata": {
    "tags": []
   },
   "outputs": [
    {
     "data": {
      "text/plain": [
       "Prediction(predictions=[[0.9684653609075246, 0.0315346390924755]], deployed_model_id='3804641185104920576', metadata=None, model_version_id='1', model_resource_name='projects/1026793852137/locations/us-central1/models/frameworks', explanations=None)"
      ]
     },
     "execution_count": 44,
     "metadata": {},
     "output_type": "execute_result"
    }
   ],
   "source": [
    "vertex_endpoint.predict(instances = examples_np[0:1].tolist())"
   ]
  },
  {
   "cell_type": "code",
   "execution_count": 45,
   "id": "3a93abfb-0b26-4381-b1d0-bdc27c63ba49",
   "metadata": {
    "tags": []
   },
   "outputs": [
    {
     "data": {
      "text/plain": [
       "[[0.004793214059859108, 0.9952067859401409]]"
      ]
     },
     "execution_count": 45,
     "metadata": {},
     "output_type": "execute_result"
    }
   ],
   "source": [
    "vertex_endpoint.predict(instances = examples_np[1:2].tolist()).predictions"
   ]
  },
  {
   "cell_type": "code",
   "execution_count": 46,
   "id": "b3290ad5-0c9d-43a1-b6db-056258f208ca",
   "metadata": {
    "tags": []
   },
   "outputs": [
    {
     "data": {
      "text/plain": [
       "[[0.9684653609075246, 0.0315346390924755],\n",
       " [0.004793214059859108, 0.9952067859401409]]"
      ]
     },
     "execution_count": 46,
     "metadata": {},
     "output_type": "execute_result"
    }
   ],
   "source": [
    "vertex_endpoint.predict(instances = examples_np[0:2].tolist()).predictions"
   ]
  },
  {
   "cell_type": "code",
   "execution_count": 47,
   "id": "a5d186c1-81fd-410d-a42c-43df6af5f403",
   "metadata": {
    "tags": []
   },
   "outputs": [
    {
     "data": {
      "text/plain": [
       "[[0.9684653609075246, 0.0315346390924755],\n",
       " [0.004793214059859108, 0.9952067859401409],\n",
       " [0.9961659959204033, 0.003834004079596715],\n",
       " [0.009687501567520629, 0.9903124984324794],\n",
       " [0.05002634033491404, 0.949973659665086],\n",
       " [0.9988754743912287, 0.001124525608771297],\n",
       " [0.005828763336061527, 0.9941712366639385],\n",
       " [0.003132621213484121, 0.9968673787865159],\n",
       " [0.8122003166930434, 0.1877996833069567],\n",
       " [0.007672836590005838, 0.9923271634099942]]"
      ]
     },
     "execution_count": 47,
     "metadata": {},
     "output_type": "execute_result"
    }
   ],
   "source": [
    "vertex_endpoint.predict(instances = examples_np.tolist()).predictions"
   ]
  },
  {
   "cell_type": "markdown",
   "id": "a3256cf1-56d4-4c01-813d-190cf386fb9d",
   "metadata": {},
   "source": [
    "### Deploy Model: Version with `main2.py` - Formatted"
   ]
  },
  {
   "cell_type": "code",
   "execution_count": 48,
   "id": "b3ee560e-b992-42e7-a5e0-370300b06471",
   "metadata": {
    "tags": []
   },
   "outputs": [
    {
     "data": {
      "text/plain": [
       "'projects/1026793852137/locations/us-central1/models/frameworks@2'"
      ]
     },
     "execution_count": 48,
     "metadata": {},
     "output_type": "execute_result"
    }
   ],
   "source": [
    "vertex_model = aiplatform.Model(model_name = SERIES, version = f'{EXPERIMENT}-formatted')\n",
    "vertex_model.versioned_resource_name"
   ]
  },
  {
   "cell_type": "code",
   "execution_count": 49,
   "id": "5063a674-d069-41bf-a17b-cff99b0d45be",
   "metadata": {
    "tags": []
   },
   "outputs": [
    {
     "name": "stdout",
     "output_type": "stream",
     "text": [
      "Deploying model to Endpoint : projects/1026793852137/locations/us-central1/endpoints/8702565264614490112\n",
      "Deploy Endpoint model backing LRO: projects/1026793852137/locations/us-central1/endpoints/8702565264614490112/operations/5033755443902545920\n",
      "Endpoint model deployed. Resource name: projects/1026793852137/locations/us-central1/endpoints/8702565264614490112\n"
     ]
    },
    {
     "data": {
      "text/plain": [
       "<google.cloud.aiplatform.models.Endpoint object at 0x7f8af0c57df0> \n",
       "resource name: projects/1026793852137/locations/us-central1/endpoints/8702565264614490112"
      ]
     },
     "execution_count": 49,
     "metadata": {},
     "output_type": "execute_result"
    }
   ],
   "source": [
    "vertex_model.deploy(\n",
    "    endpoint = vertex_endpoint,\n",
    "    traffic_percentage = 0,\n",
    "    machine_type = 'n1-standard-4',\n",
    "    min_replica_count = 1,\n",
    "    max_replica_count = 2,\n",
    ")"
   ]
  },
  {
   "cell_type": "markdown",
   "id": "f6a10534-5cb3-4301-8585-b148a9e80b9b",
   "metadata": {},
   "source": [
    "### Shift Traffic To Model Version: Formatted"
   ]
  },
  {
   "cell_type": "code",
   "execution_count": 50,
   "id": "dc396027-147d-477a-9fe4-bc4df933dbe7",
   "metadata": {
    "tags": []
   },
   "outputs": [
    {
     "data": {
      "text/plain": [
       "{'3804641185104920576': 100, '772029786024312832': 0}"
      ]
     },
     "execution_count": 50,
     "metadata": {},
     "output_type": "execute_result"
    }
   ],
   "source": [
    "vertex_endpoint.traffic_split"
   ]
  },
  {
   "cell_type": "code",
   "execution_count": 51,
   "id": "3262ab9c-8cc9-4918-a078-6b55e3382aee",
   "metadata": {
    "tags": []
   },
   "outputs": [
    {
     "data": {
      "text/plain": [
       "{'772029786024312832': 100, '3804641185104920576': 0}"
      ]
     },
     "execution_count": 51,
     "metadata": {},
     "output_type": "execute_result"
    }
   ],
   "source": [
    "new_traffic_split = {}\n",
    "for deployed_model in vertex_endpoint.list_models():\n",
    "    if deployed_model.model_version_id == vertex_model.version_id:\n",
    "        new_traffic_split[deployed_model.id] = 100\n",
    "    else:\n",
    "        new_traffic_split[deployed_model.id] = 0\n",
    "new_traffic_split"
   ]
  },
  {
   "cell_type": "code",
   "execution_count": 52,
   "id": "62aeed1c-8583-47cb-8c18-4bc50b9d3bf8",
   "metadata": {
    "tags": []
   },
   "outputs": [
    {
     "name": "stdout",
     "output_type": "stream",
     "text": [
      "Updating Endpoint endpoint: projects/1026793852137/locations/us-central1/endpoints/8702565264614490112\n",
      "Endpoint endpoint updated. Resource name: projects/1026793852137/locations/us-central1/endpoints/8702565264614490112\n"
     ]
    },
    {
     "data": {
      "text/plain": [
       "<google.cloud.aiplatform.models.Endpoint object at 0x7f8af0c57df0> \n",
       "resource name: projects/1026793852137/locations/us-central1/endpoints/8702565264614490112"
      ]
     },
     "execution_count": 52,
     "metadata": {},
     "output_type": "execute_result"
    }
   ],
   "source": [
    "vertex_endpoint.update(traffic_split = new_traffic_split)"
   ]
  },
  {
   "cell_type": "code",
   "execution_count": 53,
   "id": "e0ba5fac-7656-4677-a420-650d4cf88347",
   "metadata": {
    "tags": []
   },
   "outputs": [
    {
     "data": {
      "text/plain": [
       "{'3804641185104920576': 0, '772029786024312832': 100}"
      ]
     },
     "execution_count": 53,
     "metadata": {},
     "output_type": "execute_result"
    }
   ],
   "source": [
    "vertex_endpoint.traffic_split"
   ]
  },
  {
   "cell_type": "markdown",
   "id": "09f9278b-df05-462d-b4ab-a0f3ffb8c932",
   "metadata": {},
   "source": [
    "### Test Predictions: Formatted"
   ]
  },
  {
   "cell_type": "code",
   "execution_count": 54,
   "id": "92a71abf-fe50-4707-80b1-a101d254d0c2",
   "metadata": {
    "tags": []
   },
   "outputs": [
    {
     "data": {
      "text/plain": [
       "Prediction(predictions=[{'predicted_class': '0', 'classes': ['0', '1'], 'scores': [0.9684653609075246, 0.0315346390924755]}], deployed_model_id='772029786024312832', metadata=None, model_version_id='2', model_resource_name='projects/1026793852137/locations/us-central1/models/frameworks', explanations=None)"
      ]
     },
     "execution_count": 54,
     "metadata": {},
     "output_type": "execute_result"
    }
   ],
   "source": [
    "vertex_endpoint.predict(instances = examples_np[0:1].tolist())"
   ]
  },
  {
   "cell_type": "code",
   "execution_count": 55,
   "id": "472efd61-baf7-4849-ac45-3036cb2ddbe4",
   "metadata": {
    "tags": []
   },
   "outputs": [
    {
     "data": {
      "text/plain": [
       "[{'predicted_class': '1',\n",
       "  'classes': ['0', '1'],\n",
       "  'scores': [0.004793214059859108, 0.9952067859401409]}]"
      ]
     },
     "execution_count": 55,
     "metadata": {},
     "output_type": "execute_result"
    }
   ],
   "source": [
    "vertex_endpoint.predict(instances = examples_np[1:2].tolist()).predictions"
   ]
  },
  {
   "cell_type": "code",
   "execution_count": 56,
   "id": "e035eb30-0603-4525-b011-2cc7229e37ed",
   "metadata": {
    "tags": []
   },
   "outputs": [
    {
     "data": {
      "text/plain": [
       "[{'predicted_class': '0',\n",
       "  'classes': ['0', '1'],\n",
       "  'scores': [0.9684653609075246, 0.0315346390924755]},\n",
       " {'classes': ['0', '1'],\n",
       "  'predicted_class': '1',\n",
       "  'scores': [0.004793214059859108, 0.9952067859401409]}]"
      ]
     },
     "execution_count": 56,
     "metadata": {},
     "output_type": "execute_result"
    }
   ],
   "source": [
    "vertex_endpoint.predict(instances = examples_np[0:2].tolist()).predictions"
   ]
  },
  {
   "cell_type": "code",
   "execution_count": 57,
   "id": "dcaf1874-4a4f-4898-ba06-f5d6365ba8a2",
   "metadata": {
    "tags": []
   },
   "outputs": [
    {
     "data": {
      "text/plain": [
       "[{'predicted_class': '0',\n",
       "  'classes': ['0', '1'],\n",
       "  'scores': [0.9684653609075246, 0.0315346390924755]},\n",
       " {'predicted_class': '1',\n",
       "  'classes': ['0', '1'],\n",
       "  'scores': [0.004793214059859108, 0.9952067859401409]},\n",
       " {'predicted_class': '0',\n",
       "  'classes': ['0', '1'],\n",
       "  'scores': [0.9961659959204033, 0.003834004079596715]},\n",
       " {'predicted_class': '1',\n",
       "  'classes': ['0', '1'],\n",
       "  'scores': [0.009687501567520629, 0.9903124984324794]},\n",
       " {'classes': ['0', '1'],\n",
       "  'predicted_class': '1',\n",
       "  'scores': [0.05002634033491404, 0.949973659665086]},\n",
       " {'predicted_class': '0',\n",
       "  'classes': ['0', '1'],\n",
       "  'scores': [0.9988754743912287, 0.001124525608771297]},\n",
       " {'classes': ['0', '1'],\n",
       "  'predicted_class': '1',\n",
       "  'scores': [0.005828763336061527, 0.9941712366639385]},\n",
       " {'classes': ['0', '1'],\n",
       "  'predicted_class': '1',\n",
       "  'scores': [0.003132621213484121, 0.9968673787865159]},\n",
       " {'classes': ['0', '1'],\n",
       "  'predicted_class': '0',\n",
       "  'scores': [0.8122003166930434, 0.1877996833069567]},\n",
       " {'classes': ['0', '1'],\n",
       "  'predicted_class': '1',\n",
       "  'scores': [0.007672836590005838, 0.9923271634099942]}]"
      ]
     },
     "execution_count": 57,
     "metadata": {},
     "output_type": "execute_result"
    }
   ],
   "source": [
    "vertex_endpoint.predict(instances = examples_np.tolist()).predictions"
   ]
  },
  {
   "cell_type": "markdown",
   "id": "1d088c1b-def6-4ef3-83aa-4201c679df93",
   "metadata": {},
   "source": [
    "### Shift Traffic To Model: Plain"
   ]
  },
  {
   "cell_type": "code",
   "execution_count": 58,
   "id": "8f2022e1-5556-4724-9258-0daf82ec177d",
   "metadata": {
    "tags": []
   },
   "outputs": [
    {
     "data": {
      "text/plain": [
       "{'3804641185104920576': 0, '772029786024312832': 100}"
      ]
     },
     "execution_count": 58,
     "metadata": {},
     "output_type": "execute_result"
    }
   ],
   "source": [
    "vertex_endpoint.traffic_split"
   ]
  },
  {
   "cell_type": "code",
   "execution_count": 59,
   "id": "5834809d-4b6a-45e1-a05e-cd14f61005fc",
   "metadata": {
    "tags": []
   },
   "outputs": [
    {
     "name": "stdout",
     "output_type": "stream",
     "text": [
      "Updating Endpoint endpoint: projects/1026793852137/locations/us-central1/endpoints/8702565264614490112\n",
      "Endpoint endpoint updated. Resource name: projects/1026793852137/locations/us-central1/endpoints/8702565264614490112\n"
     ]
    },
    {
     "data": {
      "text/plain": [
       "<google.cloud.aiplatform.models.Endpoint object at 0x7f8af0c57df0> \n",
       "resource name: projects/1026793852137/locations/us-central1/endpoints/8702565264614490112"
      ]
     },
     "execution_count": 59,
     "metadata": {},
     "output_type": "execute_result"
    }
   ],
   "source": [
    "new_traffic_split = {}\n",
    "for deployed_model in vertex_endpoint.list_models():\n",
    "    if deployed_model.model_version_id != vertex_model.version_id:\n",
    "        new_traffic_split[deployed_model.id] = 100\n",
    "    else:\n",
    "        new_traffic_split[deployed_model.id] = 0\n",
    "vertex_endpoint.update(traffic_split = new_traffic_split)"
   ]
  },
  {
   "cell_type": "code",
   "execution_count": 60,
   "id": "022ece10-e69f-4e38-b55a-3e1d25a77d10",
   "metadata": {
    "tags": []
   },
   "outputs": [
    {
     "data": {
      "text/plain": [
       "{'3804641185104920576': 100, '772029786024312832': 0}"
      ]
     },
     "execution_count": 60,
     "metadata": {},
     "output_type": "execute_result"
    }
   ],
   "source": [
    "vertex_endpoint.traffic_split"
   ]
  },
  {
   "cell_type": "code",
   "execution_count": 61,
   "id": "8e496ce0-8469-44b5-a664-b50d5cb96f9b",
   "metadata": {
    "tags": []
   },
   "outputs": [
    {
     "data": {
      "text/plain": [
       "[[0.9684653609075246, 0.0315346390924755],\n",
       " [0.004793214059859108, 0.9952067859401409]]"
      ]
     },
     "execution_count": 61,
     "metadata": {},
     "output_type": "execute_result"
    }
   ],
   "source": [
    "vertex_endpoint.predict(instances = examples_np[0:2].tolist()).predictions"
   ]
  },
  {
   "cell_type": "markdown",
   "id": "e04838f4-1682-4cb6-bd70-d22d96d8e7ea",
   "metadata": {},
   "source": [
    "### Undeploy Models Without Traffic"
   ]
  },
  {
   "cell_type": "code",
   "execution_count": 62,
   "id": "161ecc57-e400-4c26-82f9-f6fd8c8cb7cb",
   "metadata": {
    "tags": []
   },
   "outputs": [
    {
     "name": "stdout",
     "output_type": "stream",
     "text": [
      "Undeploying Endpoint model: projects/1026793852137/locations/us-central1/endpoints/8702565264614490112\n",
      "Undeploy Endpoint model backing LRO: projects/1026793852137/locations/us-central1/endpoints/8702565264614490112/operations/2860064936254504960\n",
      "Endpoint model undeployed. Resource name: projects/1026793852137/locations/us-central1/endpoints/8702565264614490112\n"
     ]
    },
    {
     "data": {
      "text/plain": [
       "{'3804641185104920576': 100}"
      ]
     },
     "execution_count": 62,
     "metadata": {},
     "output_type": "execute_result"
    }
   ],
   "source": [
    "for deployed_model in vertex_endpoint.list_models():\n",
    "    if vertex_endpoint.traffic_split[deployed_model.id] == 0:\n",
    "        vertex_endpoint.undeploy(deployed_model_id = deployed_model.id)\n",
    "vertex_endpoint.traffic_split"
   ]
  },
  {
   "cell_type": "markdown",
   "id": "8363c9a0-6d12-4a94-a2c5-6c6496536a20",
   "metadata": {},
   "source": [
    "### Undeploy All Models"
   ]
  },
  {
   "cell_type": "code",
   "execution_count": 63,
   "id": "4fe6631d-7561-4ac4-9aee-019960a4e04e",
   "metadata": {
    "tags": []
   },
   "outputs": [
    {
     "name": "stdout",
     "output_type": "stream",
     "text": [
      "Undeploying Endpoint model: projects/1026793852137/locations/us-central1/endpoints/8702565264614490112\n",
      "Undeploy Endpoint model backing LRO: projects/1026793852137/locations/us-central1/endpoints/8702565264614490112/operations/3224434293606449152\n",
      "Endpoint model undeployed. Resource name: projects/1026793852137/locations/us-central1/endpoints/8702565264614490112\n"
     ]
    },
    {
     "data": {
      "text/plain": [
       "[]"
      ]
     },
     "execution_count": 63,
     "metadata": {},
     "output_type": "execute_result"
    }
   ],
   "source": [
    "for deployed_model in vertex_endpoint.list_models():\n",
    "    vertex_endpoint.undeploy(deployed_model_id = deployed_model.id)\n",
    "vertex_endpoint.list_models()"
   ]
  },
  {
   "cell_type": "markdown",
   "id": "997129dc-5d27-46a3-bd6b-1264a93495b9",
   "metadata": {},
   "source": [
    "### Delete Endpoint"
   ]
  },
  {
   "cell_type": "code",
   "execution_count": 64,
   "id": "2512f335-9257-426c-81c1-9e0295baa222",
   "metadata": {
    "tags": []
   },
   "outputs": [
    {
     "name": "stdout",
     "output_type": "stream",
     "text": [
      "Deleting Endpoint : projects/1026793852137/locations/us-central1/endpoints/8702565264614490112\n",
      "Endpoint deleted. . Resource name: projects/1026793852137/locations/us-central1/endpoints/8702565264614490112\n",
      "Deleting Endpoint resource: projects/1026793852137/locations/us-central1/endpoints/8702565264614490112\n",
      "Delete Endpoint backing LRO: projects/1026793852137/locations/us-central1/operations/6773270799974400000\n",
      "Endpoint resource projects/1026793852137/locations/us-central1/endpoints/8702565264614490112 deleted.\n"
     ]
    }
   ],
   "source": [
    "vertex_endpoint.delete(force = True)"
   ]
  },
  {
   "cell_type": "markdown",
   "id": "68823e37-3040-4080-9c5f-7e22b780e112",
   "metadata": {
    "tags": []
   },
   "source": [
    "---\n",
    "## Cloud Run\n",
    "\n",
    "Deploy the model to [Cloud Run](https://cloud.google.com/run/docs/overview/what-is-cloud-run) using the same container build and tested above from Artifact Registry.\n",
    "\n",
    "Some highlights for Cloud Run:\n",
    "- Rapid scaling to handle requests\n",
    "- Scale to zero (default) or other minimum if set\n",
    "- Can handle larger input (request) and output (response) sizes\n",
    "    - See [requests limits](https://cloud.google.com/run/quotas#request_limits)\n",
    "- Configure [memory limits](https://cloud.google.com/run/docs/configuring/services/memory-limits) and [cpu limits](https://cloud.google.com/run/docs/configuring/services/cpu) and [concurrency](https://cloud.google.com/run/docs/configuring/concurrency) and [autoscaling](https://cloud.google.com/run/docs/about-instance-autoscaling) and [request timeout](https://cloud.google.com/run/docs/configuring/request-timeout)"
   ]
  },
  {
   "cell_type": "markdown",
   "id": "9c568173-8327-44ee-8c47-a0229ddc327d",
   "metadata": {},
   "source": [
    "### Deploy The Endpoint"
   ]
  },
  {
   "cell_type": "code",
   "execution_count": 83,
   "id": "378fbd75-076f-4c39-9328-a037b54501bc",
   "metadata": {
    "tags": []
   },
   "outputs": [],
   "source": [
    "parent = f\"projects/{PROJECT_ID}/locations/{REGION}\"\n",
    "service = run_v2.Service()\n",
    "#service.name = f\"{parent}/services/{SERIES}\"\n",
    "service.template.containers = [\n",
    "    run_v2.Container(\n",
    "        image = build_response.artifacts.images[0],\n",
    "        ports = [run_v2.ContainerPort(container_port = 8080)],\n",
    "        env = [\n",
    "            run_v2.EnvVar(name = 'AIP_HTTP_PORT', value = '8080'),\n",
    "            run_v2.EnvVar(name = 'AIP_HEALTH_ROUTE', value = '/health'),\n",
    "            run_v2.EnvVar(name = 'AIP_PREDICT_ROUTE', value = '/predict'),\n",
    "            run_v2.EnvVar(name = 'AIP_STORAGE_URI', value = f'gs://{bucket.name}/{SERIES}/catboost-overview'),\n",
    "            run_v2.EnvVar(name = 'MODULE_NAME', value = 'main2')\n",
    "        ],\n",
    "        resources = run_v2.ResourceRequirements(\n",
    "            limits = {\"cpu\": '8', \"memory\": '32Gi'}\n",
    "        )\n",
    "    )\n",
    "]\n",
    "service.ingress = run_v2.IngressTraffic.INGRESS_TRAFFIC_INTERNAL_ONLY"
   ]
  },
  {
   "cell_type": "code",
   "execution_count": 84,
   "id": "a3699382-ede3-453b-8a8d-8e3f8fa58174",
   "metadata": {
    "tags": []
   },
   "outputs": [
    {
     "name": "stdout",
     "output_type": "stream",
     "text": [
      "Started Service: projects/statmike-mlops-349915/locations/us-central1/services/frameworks\n"
     ]
    }
   ],
   "source": [
    "try:\n",
    "    # create the service:\n",
    "    run_response = cr.create_service(request = {\"parent\": parent, \"service\": service, \"service_id\": SERIES})\n",
    "    # wait on the operation to complete:\n",
    "    run_response.result()\n",
    "    # print the name of the service\n",
    "    print(f\"Started Service: {run_response.metadata.name}\")\n",
    "except Exception as e:\n",
    "    print(f\"Error creating service: {e}\")"
   ]
  },
  {
   "cell_type": "code",
   "execution_count": 85,
   "id": "5119b979-86cb-44ce-897f-0adae6c62fcc",
   "metadata": {
    "tags": []
   },
   "outputs": [
    {
     "data": {
      "text/plain": [
       "'https://frameworks-urlxi72dpa-uc.a.run.app'"
      ]
     },
     "execution_count": 85,
     "metadata": {},
     "output_type": "execute_result"
    }
   ],
   "source": [
    "run_response.metadata.uri"
   ]
  },
  {
   "cell_type": "markdown",
   "id": "de5c6b8d-1753-4aed-bd95-0667bbb18a36",
   "metadata": {},
   "source": [
    "### Permissions\n",
    "\n",
    "The endpoint requires authentication.  Check ou tthe [Authentication Overview](https://cloud.google.com/run/docs/authenticating/overview) and in the case below the [Authenticating service-to-service](https://cloud.google.com/run/docs/authenticating/service-to-service) method is used by giving the same service account used to run the notebook and create the endpoint the role to invoke the endpoint as well."
   ]
  },
  {
   "cell_type": "code",
   "execution_count": 86,
   "id": "4defd81e-20f9-4ff9-aa72-0987269812ae",
   "metadata": {
    "tags": []
   },
   "outputs": [
    {
     "data": {
      "text/plain": [
       "'1026793852137-compute@developer.gserviceaccount.com'"
      ]
     },
     "execution_count": 86,
     "metadata": {},
     "output_type": "execute_result"
    }
   ],
   "source": [
    "SERVICE_ACCOUNT = !gcloud config list --format='value(core.account)' \n",
    "SERVICE_ACCOUNT = SERVICE_ACCOUNT[0]\n",
    "SERVICE_ACCOUNT"
   ]
  },
  {
   "cell_type": "code",
   "execution_count": 87,
   "id": "8f904a70-4856-4c36-b1ff-fddf05df5074",
   "metadata": {
    "tags": []
   },
   "outputs": [
    {
     "data": {
      "text/plain": [
       "'projects/statmike-mlops-349915/locations/us-central1/services/frameworks'"
      ]
     },
     "execution_count": 87,
     "metadata": {},
     "output_type": "execute_result"
    }
   ],
   "source": [
    "run_response.metadata.name"
   ]
  },
  {
   "cell_type": "code",
   "execution_count": 88,
   "id": "c74ea331-c445-4ed3-b3ab-4d9701646e3b",
   "metadata": {
    "tags": []
   },
   "outputs": [
    {
     "name": "stdout",
     "output_type": "stream",
     "text": [
      "IAM policy updated: [role: \"roles/run.invoker\"\n",
      "members: \"allUsers\"\n",
      "members: \"serviceAccount:1026793852137-compute@developer.gserviceaccount.com\"\n",
      "]\n"
     ]
    }
   ],
   "source": [
    "policy = cr.get_iam_policy(request = {'resource': run_response.metadata.name})\n",
    "policy.bindings.add(\n",
    "    role = 'roles/run.invoker',\n",
    "    members = [f\"serviceAccount:{SERVICE_ACCOUNT}\", 'allUsers'] #'allUsers'\n",
    ")\n",
    "policy_response = cr.set_iam_policy(request = {\"resource\": run_response.metadata.name, \"policy\": policy})\n",
    "print(f\"IAM policy updated: {policy_response.bindings}\")"
   ]
  },
  {
   "cell_type": "code",
   "execution_count": 89,
   "id": "b8bcc7e8-e8ec-487b-8261-b60115589720",
   "metadata": {
    "tags": []
   },
   "outputs": [
    {
     "data": {
      "text/plain": [
       "[role: \"roles/run.invoker\"\n",
       "members: \"serviceAccount:1026793852137-compute@developer.gserviceaccount.com\"\n",
       "members: \"allUsers\"\n",
       "]"
      ]
     },
     "execution_count": 89,
     "metadata": {},
     "output_type": "execute_result"
    }
   ],
   "source": [
    "policy.bindings"
   ]
  },
  {
   "cell_type": "markdown",
   "id": "852e9016-9c35-43af-8b5c-41dadf9e05eb",
   "metadata": {
    "tags": []
   },
   "source": [
    "**WAIT: The update of the IAM Policy might take a few moments to take effect.  Rerun the following health check section until you get a `200` response code.**"
   ]
  },
  {
   "cell_type": "markdown",
   "id": "4efadf09-54c7-48ac-8453-b9b5d9686143",
   "metadata": {},
   "source": [
    "### Health Check\n",
    "\n",
    "Want to see `200`:"
   ]
  },
  {
   "cell_type": "code",
   "execution_count": 90,
   "id": "7dbb225e-3302-43f4-ae82-0c183b55aef0",
   "metadata": {
    "tags": []
   },
   "outputs": [],
   "source": [
    "def health(uri):\n",
    "    url = f\"{uri}/health\"\n",
    "    credentials, _ = google.auth.default()\n",
    "    auth_req = google.auth.transport.requests.Request()\n",
    "    credentials.refresh(auth_req)\n",
    "    headers = {'Authorization': f'Bearer {credentials.token}'}\n",
    "    response = requests.get(url, headers = headers)    \n",
    "    return response.status_code\n",
    "\n",
    "def check_health(uri, timeout_seconds = 200, retry_seconds = 10):\n",
    "    start_time = time.time()\n",
    "    while True:\n",
    "        status_code = health(uri)\n",
    "        if status_code == 200:\n",
    "            break\n",
    "        elapsed_time = time.time() - start_time\n",
    "        if elapsed_time > timeout_seconds:\n",
    "            break\n",
    "        time.sleep(retry_seconds)\n",
    "    return status_code"
   ]
  },
  {
   "cell_type": "code",
   "execution_count": 91,
   "id": "0ce2ffb8-3d85-4c27-b6b9-d2a540ee7716",
   "metadata": {
    "tags": []
   },
   "outputs": [
    {
     "data": {
      "text/plain": [
       "200"
      ]
     },
     "execution_count": 91,
     "metadata": {},
     "output_type": "execute_result"
    }
   ],
   "source": [
    "check_health(run_response.metadata.uri)"
   ]
  },
  {
   "cell_type": "code",
   "execution_count": 92,
   "id": "01a973a3-6bcf-4aba-bd74-e448fb1200f3",
   "metadata": {
    "tags": []
   },
   "outputs": [
    {
     "data": {
      "text/plain": [
       "200"
      ]
     },
     "execution_count": 92,
     "metadata": {},
     "output_type": "execute_result"
    }
   ],
   "source": [
    "health(run_response.metadata.uri)"
   ]
  },
  {
   "cell_type": "markdown",
   "id": "fe334d8b-4727-49bf-84e5-44e55f5c1f05",
   "metadata": {},
   "source": [
    "### Inference Test"
   ]
  },
  {
   "cell_type": "code",
   "execution_count": 93,
   "id": "4aa55947-9456-41c4-a68c-431e47b49ad4",
   "metadata": {
    "tags": []
   },
   "outputs": [],
   "source": [
    "def predict(instances):\n",
    "    credentials, _ = google.auth.default()\n",
    "    auth_req = google.auth.transport.requests.Request()\n",
    "    credentials.refresh(auth_req)\n",
    "    url = f\"{run_response.metadata.uri}/predict\"\n",
    "    headers = {\n",
    "        'Authorization': f'Bearer {credentials.token}',\n",
    "        'Content_Type': 'application/json'\n",
    "    }\n",
    "    data = json.dumps({'instances': instances})\n",
    "    response = requests.post(url, headers = headers, data = data)    \n",
    "    return json.loads(response.text)"
   ]
  },
  {
   "cell_type": "code",
   "execution_count": 94,
   "id": "39bb87fa-ceb6-4684-85c8-959473789c55",
   "metadata": {
    "tags": []
   },
   "outputs": [
    {
     "data": {
      "text/plain": [
       "{'predictions': [{'classes': ['0', '1'],\n",
       "   'scores': [0.9684653609075246, 0.031534639092475496],\n",
       "   'predicted_class': '0'}]}"
      ]
     },
     "execution_count": 94,
     "metadata": {},
     "output_type": "execute_result"
    }
   ],
   "source": [
    "predict(examples_np[0:1].tolist())"
   ]
  },
  {
   "cell_type": "code",
   "execution_count": 95,
   "id": "afeb7b9c-0826-4046-99c6-842ce6d61baf",
   "metadata": {
    "tags": []
   },
   "outputs": [
    {
     "data": {
      "text/plain": [
       "{'predictions': [{'classes': ['0', '1'],\n",
       "   'scores': [0.004793214059859108, 0.9952067859401409],\n",
       "   'predicted_class': '1'}]}"
      ]
     },
     "execution_count": 95,
     "metadata": {},
     "output_type": "execute_result"
    }
   ],
   "source": [
    "predict(examples_np[1:2].tolist())"
   ]
  },
  {
   "cell_type": "code",
   "execution_count": 96,
   "id": "72dbe00c-922b-4c4b-b509-62470fa2cbab",
   "metadata": {
    "tags": []
   },
   "outputs": [
    {
     "data": {
      "text/plain": [
       "{'predictions': [{'classes': ['0', '1'],\n",
       "   'scores': [0.9684653609075246, 0.031534639092475496],\n",
       "   'predicted_class': '0'},\n",
       "  {'classes': ['0', '1'],\n",
       "   'scores': [0.004793214059859108, 0.9952067859401409],\n",
       "   'predicted_class': '1'}]}"
      ]
     },
     "execution_count": 96,
     "metadata": {},
     "output_type": "execute_result"
    }
   ],
   "source": [
    "predict(examples_np[0:2].tolist())"
   ]
  },
  {
   "cell_type": "code",
   "execution_count": 97,
   "id": "c824730d-1d3c-4d62-a914-f8d7039d92f4",
   "metadata": {
    "tags": []
   },
   "outputs": [
    {
     "data": {
      "text/plain": [
       "{'predictions': [{'classes': ['0', '1'],\n",
       "   'scores': [0.9684653609075246, 0.031534639092475496],\n",
       "   'predicted_class': '0'},\n",
       "  {'classes': ['0', '1'],\n",
       "   'scores': [0.004793214059859108, 0.9952067859401409],\n",
       "   'predicted_class': '1'},\n",
       "  {'classes': ['0', '1'],\n",
       "   'scores': [0.9961659959204033, 0.0038340040795967153],\n",
       "   'predicted_class': '0'},\n",
       "  {'classes': ['0', '1'],\n",
       "   'scores': [0.009687501567520629, 0.9903124984324794],\n",
       "   'predicted_class': '1'},\n",
       "  {'classes': ['0', '1'],\n",
       "   'scores': [0.05002634033491404, 0.949973659665086],\n",
       "   'predicted_class': '1'},\n",
       "  {'classes': ['0', '1'],\n",
       "   'scores': [0.9988754743912287, 0.0011245256087712965],\n",
       "   'predicted_class': '0'},\n",
       "  {'classes': ['0', '1'],\n",
       "   'scores': [0.0058287633360615265, 0.9941712366639385],\n",
       "   'predicted_class': '1'},\n",
       "  {'classes': ['0', '1'],\n",
       "   'scores': [0.0031326212134841214, 0.9968673787865159],\n",
       "   'predicted_class': '1'},\n",
       "  {'classes': ['0', '1'],\n",
       "   'scores': [0.8122003166930434, 0.18779968330695668],\n",
       "   'predicted_class': '0'},\n",
       "  {'classes': ['0', '1'],\n",
       "   'scores': [0.007672836590005838, 0.9923271634099942],\n",
       "   'predicted_class': '1'}]}"
      ]
     },
     "execution_count": 97,
     "metadata": {},
     "output_type": "execute_result"
    }
   ],
   "source": [
    "predict(examples_np.tolist())"
   ]
  },
  {
   "cell_type": "markdown",
   "id": "37d2434d-0cac-43f9-b20a-308bbcd1fbb1",
   "metadata": {},
   "source": [
    "### Remove The Service\n",
    "\n",
    "Cloud Run will scale to zero here since a minimum has not been set.  This notebook does proceed with deleting the service in the following code."
   ]
  },
  {
   "cell_type": "code",
   "execution_count": 98,
   "id": "cd273416-6a0d-4500-9d24-19c6327a8a5b",
   "metadata": {
    "tags": []
   },
   "outputs": [],
   "source": [
    "remove_response = cr.delete_service(request = {\"name\": run_response.metadata.name})"
   ]
  },
  {
   "cell_type": "code",
   "execution_count": 99,
   "id": "d8d14e52-3bad-4190-8df4-eddf8d904ad3",
   "metadata": {
    "tags": []
   },
   "outputs": [
    {
     "data": {
      "text/plain": [
       "name: \"projects/statmike-mlops-349915/locations/us-central1/services/frameworks\"\n",
       "uid: \"3a9767e1-5011-46a2-ba47-30abe9af6895\"\n",
       "generation: 2\n",
       "create_time {\n",
       "  seconds: 1739146275\n",
       "  nanos: 167519000\n",
       "}\n",
       "update_time {\n",
       "  seconds: 1739146433\n",
       "  nanos: 950767000\n",
       "}\n",
       "delete_time {\n",
       "  seconds: 1739146432\n",
       "  nanos: 767411000\n",
       "}\n",
       "expire_time {\n",
       "  seconds: 1741738432\n",
       "  nanos: 767411000\n",
       "}\n",
       "creator: \"1026793852137-compute@developer.gserviceaccount.com\"\n",
       "last_modifier: \"1026793852137-compute@developer.gserviceaccount.com\"\n",
       "ingress: INGRESS_TRAFFIC_INTERNAL_ONLY\n",
       "launch_stage: GA\n",
       "template {\n",
       "  scaling {\n",
       "    max_instance_count: 100\n",
       "  }\n",
       "  timeout {\n",
       "    seconds: 300\n",
       "  }\n",
       "  service_account: \"1026793852137-compute@developer.gserviceaccount.com\"\n",
       "  containers {\n",
       "    image: \"us-central1-docker.pkg.dev/statmike-mlops-349915/frameworks/catboost-custom-container\"\n",
       "    env {\n",
       "      name: \"AIP_HTTP_PORT\"\n",
       "      value: \"8080\"\n",
       "    }\n",
       "    env {\n",
       "      name: \"AIP_HEALTH_ROUTE\"\n",
       "      value: \"/health\"\n",
       "    }\n",
       "    env {\n",
       "      name: \"AIP_PREDICT_ROUTE\"\n",
       "      value: \"/predict\"\n",
       "    }\n",
       "    env {\n",
       "      name: \"AIP_STORAGE_URI\"\n",
       "      value: \"gs://statmike-mlops-349915/frameworks/catboost-overview\"\n",
       "    }\n",
       "    env {\n",
       "      name: \"MODULE_NAME\"\n",
       "      value: \"main2\"\n",
       "    }\n",
       "    resources {\n",
       "      limits {\n",
       "        key: \"memory\"\n",
       "        value: \"32Gi\"\n",
       "      }\n",
       "      limits {\n",
       "        key: \"cpu\"\n",
       "        value: \"8\"\n",
       "      }\n",
       "    }\n",
       "    ports {\n",
       "      name: \"http1\"\n",
       "      container_port: 8080\n",
       "    }\n",
       "    startup_probe {\n",
       "      timeout_seconds: 240\n",
       "      period_seconds: 240\n",
       "      failure_threshold: 1\n",
       "      tcp_socket {\n",
       "        port: 8080\n",
       "      }\n",
       "    }\n",
       "  }\n",
       "  max_instance_request_concurrency: 1000\n",
       "}\n",
       "traffic {\n",
       "  type_: TRAFFIC_TARGET_ALLOCATION_TYPE_LATEST\n",
       "  percent: 100\n",
       "}\n",
       "urls: \"https://frameworks-1026793852137.us-central1.run.app\"\n",
       "urls: \"https://frameworks-urlxi72dpa-uc.a.run.app\"\n",
       "observed_generation: 2\n",
       "terminal_condition {\n",
       "  type_: \"Ready\"\n",
       "  state: CONDITION_SUCCEEDED\n",
       "  last_transition_time {\n",
       "    seconds: 1739146433\n",
       "    nanos: 950767000\n",
       "  }\n",
       "}\n",
       "conditions {\n",
       "  type_: \"RoutesReady\"\n",
       "  state: CONDITION_SUCCEEDED\n",
       "  last_transition_time {\n",
       "    seconds: 1739146328\n",
       "    nanos: 250077000\n",
       "  }\n",
       "}\n",
       "conditions {\n",
       "  type_: \"ConfigurationsReady\"\n",
       "  state: CONDITION_SUCCEEDED\n",
       "  last_transition_time {\n",
       "    seconds: 1739146327\n",
       "    nanos: 514727000\n",
       "  }\n",
       "}\n",
       "latest_ready_revision: \"projects/statmike-mlops-349915/locations/us-central1/services/frameworks/revisions/frameworks-00001-q87\"\n",
       "latest_created_revision: \"projects/statmike-mlops-349915/locations/us-central1/services/frameworks/revisions/frameworks-00001-q87\"\n",
       "traffic_statuses {\n",
       "  type_: TRAFFIC_TARGET_ALLOCATION_TYPE_LATEST\n",
       "  percent: 100\n",
       "}\n",
       "uri: \"https://frameworks-urlxi72dpa-uc.a.run.app\"\n",
       "etag: \"\\\"CMGJpb0GEJibrsUD/cHJvamVjdHMvc3RhdG1pa2UtbWxvcHMtMzQ5OTE1L2xvY2F0aW9ucy91cy1jZW50cmFsMS9zZXJ2aWNlcy9mcmFtZXdvcmtz\\\"\""
      ]
     },
     "execution_count": 99,
     "metadata": {},
     "output_type": "execute_result"
    }
   ],
   "source": [
    "remove_response.result()"
   ]
  },
  {
   "cell_type": "code",
   "execution_count": null,
   "id": "f274e740-73a0-4cc4-a4ef-383b675e2fcb",
   "metadata": {},
   "outputs": [],
   "source": []
  }
 ],
 "metadata": {
  "environment": {
   "kernel": "conda-base-py",
   "name": "workbench-notebooks.m125",
   "type": "gcloud",
   "uri": "us-docker.pkg.dev/deeplearning-platform-release/gcr.io/workbench-notebooks:m125"
  },
  "kernelspec": {
   "display_name": "Python 3 (ipykernel) (Local)",
   "language": "python",
   "name": "conda-base-py"
  },
  "language_info": {
   "codemirror_mode": {
    "name": "ipython",
    "version": 3
   },
   "file_extension": ".py",
   "mimetype": "text/x-python",
   "name": "python",
   "nbconvert_exporter": "python",
   "pygments_lexer": "ipython3",
   "version": "3.10.15"
  }
 },
 "nbformat": 4,
 "nbformat_minor": 5
}
