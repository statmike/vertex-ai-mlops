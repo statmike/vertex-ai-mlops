{
 "cells": [
  {
   "cell_type": "markdown",
   "id": "b2ac9210",
   "metadata": {},
   "source": [
    "![tracker](https://us-central1-vertex-ai-mlops-369716.cloudfunctions.net/pixel-tracking?path=statmike%2Fvertex-ai-mlops%2FMLOps%2Fresources%2Fimages%2Fcreated%2Fmonitoring&file=model+monitoring+metrics+visuals.ipynb)\n",
    "<!--- header table --->\n",
    "<table align=\"left\">\n",
    "  <td style=\"text-align: center\">\n",
    "    <a href=\"https://colab.research.google.com/github/statmike/vertex-ai-mlops/blob/main/MLOps/resources/images/created/monitoring/model%20monitoring%20metrics%20visuals.ipynb\">\n",
    "      <img src=\"https://cloud.google.com/ml-engine/images/colab-logo-32px.png\" alt=\"Google Colaboratory logo\">\n",
    "      <br>Run in<br>Colab\n",
    "    </a>\n",
    "  </td>\n",
    "  <td style=\"text-align: center\">\n",
    "    <a href=\"https://console.cloud.google.com/vertex-ai/colab/import/https%3A%2F%2Fraw.githubusercontent.com%2Fstatmike%2Fvertex-ai-mlops%2Fmain%2FMLOps%2Fresources%2Fimages%2Fcreated%2Fmonitoring%2Fmodel%2520monitoring%2520metrics%2520visuals.ipynb\">\n",
    "      <img width=\"32px\" src=\"https://lh3.googleusercontent.com/JmcxdQi-qOpctIvWKgPtrzZdJJK-J3sWE1RsfjZNwshCFgE_9fULcNpuXYTilIR2hjwN\" alt=\"Google Cloud Colab Enterprise logo\">\n",
    "      <br>Run in<br>Colab Enterprise\n",
    "    </a>\n",
    "  </td>      \n",
    "  <td style=\"text-align: center\">\n",
    "    <a href=\"https://github.com/statmike/vertex-ai-mlops/blob/main/MLOps/resources/images/created/monitoring/model%20monitoring%20metrics%20visuals.ipynb\">\n",
    "      <img src=\"https://cloud.google.com/ml-engine/images/github-logo-32px.png\" alt=\"GitHub logo\">\n",
    "      <br>View on<br>GitHub\n",
    "    </a>\n",
    "  </td>\n",
    "  <td style=\"text-align: center\">\n",
    "    <a href=\"https://console.cloud.google.com/vertex-ai/workbench/deploy-notebook?download_url=https://raw.githubusercontent.com/statmike/vertex-ai-mlops/main/MLOps/resources/images/created/monitoring/model%20monitoring%20metrics%20visuals.ipynb\">\n",
    "      <img src=\"https://lh3.googleusercontent.com/UiNooY4LUgW_oTvpsNhPpQzsstV5W8F7rYgxgGBD85cWJoLmrOzhVs_ksK_vgx40SHs7jCqkTkCk=e14-rj-sc0xffffff-h130-w32\" alt=\"Vertex AI logo\">\n",
    "      <br>Open in<br>Vertex AI Workbench\n",
    "    </a>\n",
    "  </td>\n",
    "</table>"
   ]
  },
  {
   "cell_type": "markdown",
   "id": "c7c3be7c-457c-48a8-b248-4e7af4c8a39c",
   "metadata": {},
   "source": [
    "# Model Monitoring Metrics"
   ]
  },
  {
   "cell_type": "code",
   "execution_count": 23,
   "id": "4c609490-3dde-4911-995e-30fbd1e8ade6",
   "metadata": {
    "tags": []
   },
   "outputs": [],
   "source": [
    "import pandas as pd\n",
    "import numpy as np\n",
    "import matplotlib.pyplot as plt"
   ]
  },
  {
   "cell_type": "markdown",
   "id": "6ea32683-bd71-4c2d-8a5c-af5c856c2ab2",
   "metadata": {},
   "source": [
    "## Get Distributions"
   ]
  },
  {
   "cell_type": "code",
   "execution_count": 15,
   "id": "162fbd54-eed9-481a-b402-ebc2491e691c",
   "metadata": {
    "tags": []
   },
   "outputs": [],
   "source": [
    "train_stats = [\n",
    "    {'label': 'A', 'sample_count': 116},\n",
    "    {'high_rank': 1, 'label': 'B', 'low_rank': 1, 'sample_count': 86},\n",
    "    {'high_rank': 2, 'label': 'C', 'low_rank': 2, 'sample_count': 36}\n",
    "]\n",
    "serve_stats = [\n",
    "    {'label': 'A', 'sample_count': 775},\n",
    "    {'high_rank': 1, 'label': 'B', 'low_rank': 1, 'sample_count': 795},\n",
    "    {'high_rank': 2, 'label': 'C', 'low_rank': 2, 'sample_count': 279}\n",
    "]"
   ]
  },
  {
   "cell_type": "markdown",
   "id": "242e71c1-9549-422c-990c-debbd87cd071",
   "metadata": {},
   "source": [
    "## Combine Distributions"
   ]
  },
  {
   "cell_type": "code",
   "execution_count": 50,
   "id": "45698fb7-0725-481d-95fe-77efe21355ed",
   "metadata": {
    "tags": []
   },
   "outputs": [
    {
     "data": {
      "text/html": [
       "<div>\n",
       "<style scoped>\n",
       "    .dataframe tbody tr th:only-of-type {\n",
       "        vertical-align: middle;\n",
       "    }\n",
       "\n",
       "    .dataframe tbody tr th {\n",
       "        vertical-align: top;\n",
       "    }\n",
       "\n",
       "    .dataframe thead th {\n",
       "        text-align: right;\n",
       "    }\n",
       "</style>\n",
       "<table border=\"1\" class=\"dataframe\">\n",
       "  <thead>\n",
       "    <tr style=\"text-align: right;\">\n",
       "      <th></th>\n",
       "      <th>train_n</th>\n",
       "      <th>serve_n</th>\n",
       "      <th>train_pct</th>\n",
       "      <th>serve_pct</th>\n",
       "    </tr>\n",
       "  </thead>\n",
       "  <tbody>\n",
       "    <tr>\n",
       "      <th>A</th>\n",
       "      <td>116</td>\n",
       "      <td>775</td>\n",
       "      <td>0.487395</td>\n",
       "      <td>0.419145</td>\n",
       "    </tr>\n",
       "    <tr>\n",
       "      <th>B</th>\n",
       "      <td>86</td>\n",
       "      <td>795</td>\n",
       "      <td>0.361345</td>\n",
       "      <td>0.429962</td>\n",
       "    </tr>\n",
       "    <tr>\n",
       "      <th>C</th>\n",
       "      <td>36</td>\n",
       "      <td>279</td>\n",
       "      <td>0.151261</td>\n",
       "      <td>0.150892</td>\n",
       "    </tr>\n",
       "  </tbody>\n",
       "</table>\n",
       "</div>"
      ],
      "text/plain": [
       "   train_n  serve_n  train_pct  serve_pct\n",
       "A      116      775   0.487395   0.419145\n",
       "B       86      795   0.361345   0.429962\n",
       "C       36      279   0.151261   0.150892"
      ]
     },
     "execution_count": 50,
     "metadata": {},
     "output_type": "execute_result"
    }
   ],
   "source": [
    "index = [i['label'] for i in train_stats]\n",
    "train = [i['sample_count'] for i in train_stats]\n",
    "serve = [serve_stats[index.index(k)]['sample_count'] for k in [i['label'] for i in serve_stats]]\n",
    "stats = pd.DataFrame(\n",
    "    {\n",
    "        'train_n': train,\n",
    "        'serve_n': serve,\n",
    "        'train_pct': [x/sum(train) for x in train],\n",
    "        'serve_pct': [x/sum(serve) for x in serve]\n",
    "    },\n",
    "    index = index\n",
    ")\n",
    "stats"
   ]
  },
  {
   "cell_type": "code",
   "execution_count": 51,
   "id": "9c2385a2-e25d-410d-8ab4-bd7a5f060250",
   "metadata": {
    "tags": []
   },
   "outputs": [
    {
     "data": {
      "text/plain": [
       "'|    |   train_n |   serve_n |   train_pct |   serve_pct |\\n|:---|----------:|----------:|------------:|------------:|\\n| A  |       116 |       775 |    0.487395 |    0.419145 |\\n| B  |        86 |       795 |    0.361345 |    0.429962 |\\n| C  |        36 |       279 |    0.151261 |    0.150892 |'"
      ]
     },
     "execution_count": 51,
     "metadata": {},
     "output_type": "execute_result"
    }
   ],
   "source": [
    "stats.to_markdown()"
   ]
  },
  {
   "cell_type": "markdown",
   "id": "beeab754-4cef-49a3-a94d-8ab8e9c500cf",
   "metadata": {},
   "source": [
    "## Visualize Distributions"
   ]
  },
  {
   "cell_type": "code",
   "execution_count": 52,
   "id": "d72b9982-37f8-463d-a8f7-319cbda80f1a",
   "metadata": {
    "tags": []
   },
   "outputs": [
    {
     "data": {
      "image/png": "[encoded data removed]",
      "text/plain": [
       "<Figure size 640x480 with 1 Axes>"
      ]
     },
     "metadata": {},
     "output_type": "display_data"
    }
   ],
   "source": [
    "ax = stats[['train_pct', 'serve_pct']].plot.bar(rot=0)\n",
    "for container in ax.containers:\n",
    "    ax.bar_label(container)"
   ]
  },
  {
   "cell_type": "markdown",
   "id": "dc38437e-092c-4d73-9ae3-d2c8d96ac26b",
   "metadata": {},
   "source": [
    "## L-Infinity Distance"
   ]
  },
  {
   "cell_type": "code",
   "execution_count": 53,
   "id": "59625f3e-4f2e-46c3-bee9-aabe56164bec",
   "metadata": {
    "tags": []
   },
   "outputs": [
    {
     "data": {
      "text/html": [
       "<div>\n",
       "<style scoped>\n",
       "    .dataframe tbody tr th:only-of-type {\n",
       "        vertical-align: middle;\n",
       "    }\n",
       "\n",
       "    .dataframe tbody tr th {\n",
       "        vertical-align: top;\n",
       "    }\n",
       "\n",
       "    .dataframe thead th {\n",
       "        text-align: right;\n",
       "    }\n",
       "</style>\n",
       "<table border=\"1\" class=\"dataframe\">\n",
       "  <thead>\n",
       "    <tr style=\"text-align: right;\">\n",
       "      <th></th>\n",
       "      <th>train_n</th>\n",
       "      <th>serve_n</th>\n",
       "      <th>train_pct</th>\n",
       "      <th>serve_pct</th>\n",
       "      <th>abs_change_pct</th>\n",
       "    </tr>\n",
       "  </thead>\n",
       "  <tbody>\n",
       "    <tr>\n",
       "      <th>A</th>\n",
       "      <td>116</td>\n",
       "      <td>775</td>\n",
       "      <td>0.487395</td>\n",
       "      <td>0.419145</td>\n",
       "      <td>0.068249</td>\n",
       "    </tr>\n",
       "    <tr>\n",
       "      <th>B</th>\n",
       "      <td>86</td>\n",
       "      <td>795</td>\n",
       "      <td>0.361345</td>\n",
       "      <td>0.429962</td>\n",
       "      <td>0.068618</td>\n",
       "    </tr>\n",
       "    <tr>\n",
       "      <th>C</th>\n",
       "      <td>36</td>\n",
       "      <td>279</td>\n",
       "      <td>0.151261</td>\n",
       "      <td>0.150892</td>\n",
       "      <td>0.000368</td>\n",
       "    </tr>\n",
       "  </tbody>\n",
       "</table>\n",
       "</div>"
      ],
      "text/plain": [
       "   train_n  serve_n  train_pct  serve_pct  abs_change_pct\n",
       "A      116      775   0.487395   0.419145        0.068249\n",
       "B       86      795   0.361345   0.429962        0.068618\n",
       "C       36      279   0.151261   0.150892        0.000368"
      ]
     },
     "execution_count": 53,
     "metadata": {},
     "output_type": "execute_result"
    }
   ],
   "source": [
    "stats['abs_change_pct'] = abs(stats['train_pct'] - stats['serve_pct'])\n",
    "stats"
   ]
  },
  {
   "cell_type": "code",
   "execution_count": 54,
   "id": "6cfe1c66-473a-45aa-8e60-ac863326c8c5",
   "metadata": {
    "tags": []
   },
   "outputs": [
    {
     "data": {
      "text/plain": [
       "'|    |   train_n |   serve_n |   train_pct |   serve_pct |   abs_change_pct |\\n|:---|----------:|----------:|------------:|------------:|-----------------:|\\n| A  |       116 |       775 |    0.487395 |    0.419145 |       0.0682495  |\\n| B  |        86 |       795 |    0.361345 |    0.429962 |       0.0686176  |\\n| C  |        36 |       279 |    0.151261 |    0.150892 |       0.00036813 |'"
      ]
     },
     "execution_count": 54,
     "metadata": {},
     "output_type": "execute_result"
    }
   ],
   "source": [
    "stats.to_markdown()"
   ]
  },
  {
   "cell_type": "code",
   "execution_count": 55,
   "id": "74c80c61-dc5a-460c-b52e-6cf210113bff",
   "metadata": {
    "tags": []
   },
   "outputs": [
    {
     "data": {
      "text/plain": [
       "[Text(0, 0, '0.0682495'), Text(0, 0, '0.0686176'), Text(0, 0, '0.00036813')]"
      ]
     },
     "execution_count": 55,
     "metadata": {},
     "output_type": "execute_result"
    },
    {
     "data": {
      "image/png": "[encoded data removed]",
      "text/plain": [
       "<Figure size 640x480 with 1 Axes>"
      ]
     },
     "metadata": {},
     "output_type": "display_data"
    }
   ],
   "source": [
    "ax = stats['abs_change_pct'].plot.bar()\n",
    "ax.bar_label(ax.containers[0])"
   ]
  },
  {
   "cell_type": "code",
   "execution_count": 56,
   "id": "175f6edb-e0f2-4083-bdd2-9d91aacbba68",
   "metadata": {
    "tags": []
   },
   "outputs": [
    {
     "name": "stdout",
     "output_type": "stream",
     "text": [
      "The max change in percentage(L-Infinity Distance) is 0.06861760388308918\n"
     ]
    }
   ],
   "source": [
    "print(f\"The max change in percentage(L-Infinity Distance) is {max(stats['abs_change_pct'])}\")"
   ]
  },
  {
   "cell_type": "markdown",
   "id": "78d5d9b1-f6e4-4b3a-929c-6493ae920275",
   "metadata": {},
   "source": [
    "## Plot For Writeup - L-Infinity"
   ]
  },
  {
   "cell_type": "code",
   "execution_count": 57,
   "id": "51378ef2-bece-40af-a311-b02df41367ce",
   "metadata": {
    "tags": []
   },
   "outputs": [
    {
     "data": {
      "image/png": "[encoded data removed]",
      "text/plain": [
       "<Figure size 1200x600 with 1 Axes>"
      ]
     },
     "metadata": {},
     "output_type": "display_data"
    }
   ],
   "source": [
    "import pandas as pd\n",
    "import matplotlib.pyplot as plt\n",
    "\n",
    "# Prepare the data for the grouped bar chart\n",
    "plot_data = pd.DataFrame({\n",
    "    'Category': stats.index,\n",
    "    'train_pct': stats['train_pct'],\n",
    "    'serve_pct': stats['serve_pct'],\n",
    "    'abs_change_pct': stats['abs_change_pct']\n",
    "})\n",
    "\n",
    "# Melt the DataFrame to have 'train_pct' and 'serve_pct' in one column\n",
    "plot_data_melted = plot_data.melt(id_vars='Category', value_vars=['train_pct', 'serve_pct'], var_name='Distribution', value_name='Percentage')\n",
    "\n",
    "# Create the grouped horizontal bar chart\n",
    "fig, ax = plt.subplots(figsize=(12, 6))  # Adjust figure size as needed\n",
    "\n",
    "# Define colors\n",
    "colors = {'train_pct': 'lightblue', 'serve_pct': 'gold'}  # Lighter blue and darker yellow\n",
    "\n",
    "# Create the bars\n",
    "for i, category in enumerate(plot_data['Category']):\n",
    "    train_value = plot_data[plot_data['Category'] == category]['train_pct'].values[0]\n",
    "    serve_value = plot_data[plot_data['Category'] == category]['serve_pct'].values[0]\n",
    "    abs_change = plot_data[plot_data['Category'] == category]['abs_change_pct'].values[0]\n",
    "\n",
    "    # Plot train bar\n",
    "    ax.barh(i - 0.2, train_value, height=0.4, color=colors['train_pct'], label='Training Data' if i == 0 else \"\")\n",
    "    ax.text(train_value / 2, i - 0.2, f'{train_value:.2%}', ha='center', va='center', color='black')\n",
    "\n",
    "    # Plot serve bar\n",
    "    ax.barh(i + 0.2, serve_value, height=0.4, color=colors['serve_pct'], label='Serving Data' if i == 0 else \"\")\n",
    "    ax.text(serve_value / 2, i + 0.2, f'{serve_value:.2%}', ha='center', va='center', color='black')\n",
    "\n",
    "    # Add abs_change_pct on top of the serve_pct bar\n",
    "    ax.text(serve_value + 0.01, i + 0.2, f'{abs_change:.4f}', ha='left', va='center', color='black')\n",
    "\n",
    "# Set chart title and labels\n",
    "ax.set_title('L-Infinity Distance', fontsize=14)\n",
    "ax.set_xlabel('Percentage', fontsize=12)\n",
    "ax.set_ylabel('Feature Distribution By Category', fontsize=12)\n",
    "ax.set_yticks(range(len(plot_data['Category'])))\n",
    "ax.set_yticklabels(plot_data['Category'])\n",
    "ax.legend(loc='upper right')  # Legend in upper right\n",
    "\n",
    "# Get L-Infinity Distance Value\n",
    "l_infinity_value = plot_data['abs_change_pct'].max()\n",
    "l_infinity_category = plot_data[plot_data['abs_change_pct'] == l_infinity_value]['Category'].values[0]\n",
    "\n",
    "# Highlight the L-infinity distance\n",
    "for i, category in enumerate(plot_data['Category']):\n",
    "    if category == l_infinity_category:\n",
    "        # Find the train and serve percentages for the category\n",
    "        train_pct = plot_data[plot_data['Category'] == category]['train_pct'].values[0]\n",
    "        serve_pct = plot_data[plot_data['Category'] == category]['serve_pct'].values[0]\n",
    "\n",
    "        # Determine the left and right x-coordinates of the rectangle\n",
    "        left_x = min(train_pct, serve_pct)\n",
    "        width = abs(train_pct - serve_pct)\n",
    "\n",
    "        # Calculate the rectangle's bottom-left corner and height\n",
    "        rect_x = left_x\n",
    "        rect_y = i - 0.5\n",
    "        rect_height = 1\n",
    "\n",
    "        # Create the rectangle with correct dimensions\n",
    "        rect = plt.Rectangle((rect_x, rect_y), width, rect_height, linewidth=1, edgecolor='red', facecolor='red', alpha=0.1)\n",
    "        ax.add_patch(rect)\n",
    "\n",
    "        # Calculate the y-positions for the labels inside the box\n",
    "        label_y_top = i - 0.3  # Position for \"L-Infinity Distance\" (higher)\n",
    "        label_y_bottom = i - 0.1  # Position for the value (lower)\n",
    "\n",
    "        # Calculate the x-position for the labels inside the box (centered)\n",
    "        label_x = left_x + width / 2\n",
    "\n",
    "        # Add the labels inside the rectangle on separate lines, adjusted vertical positioning\n",
    "        ax.text(label_x, label_y_top, 'L-Infinity Distance', color='red', va='center', ha='center', fontsize=8)\n",
    "        ax.text(label_x, label_y_bottom, f'{l_infinity_value:.4f}', color='red', va='center', ha='center', fontsize=8)\n",
    "\n",
    "        break  # Exit loop after finding and highlighting the L-infinity category\n",
    "\n",
    "plt.tight_layout()  # Adjust layout to prevent labels from overlapping\n",
    "plt.savefig('l-infinity.png')  # Save the plot as a PNG\n",
    "plt.show()"
   ]
  },
  {
   "cell_type": "markdown",
   "id": "17ee335d-6ff5-4880-b9c2-ee0aea905a35",
   "metadata": {},
   "source": [
    "## Jansen-Shannon Divergence"
   ]
  },
  {
   "cell_type": "code",
   "execution_count": 58,
   "id": "5a2af06f-89e1-4547-adb8-198b48279299",
   "metadata": {
    "tags": []
   },
   "outputs": [
    {
     "data": {
      "text/html": [
       "<div>\n",
       "<style scoped>\n",
       "    .dataframe tbody tr th:only-of-type {\n",
       "        vertical-align: middle;\n",
       "    }\n",
       "\n",
       "    .dataframe tbody tr th {\n",
       "        vertical-align: top;\n",
       "    }\n",
       "\n",
       "    .dataframe thead th {\n",
       "        text-align: right;\n",
       "    }\n",
       "</style>\n",
       "<table border=\"1\" class=\"dataframe\">\n",
       "  <thead>\n",
       "    <tr style=\"text-align: right;\">\n",
       "      <th></th>\n",
       "      <th>train_n</th>\n",
       "      <th>serve_n</th>\n",
       "      <th>train_pct</th>\n",
       "      <th>serve_pct</th>\n",
       "      <th>abs_change_pct</th>\n",
       "      <th>mix</th>\n",
       "      <th>train_kl</th>\n",
       "      <th>serve_kl</th>\n",
       "      <th>JSD</th>\n",
       "    </tr>\n",
       "  </thead>\n",
       "  <tbody>\n",
       "    <tr>\n",
       "      <th>A</th>\n",
       "      <td>116</td>\n",
       "      <td>775</td>\n",
       "      <td>0.487395</td>\n",
       "      <td>0.419145</td>\n",
       "      <td>0.068249</td>\n",
       "      <td>0.453270</td>\n",
       "      <td>0.051040</td>\n",
       "      <td>-0.047330</td>\n",
       "      <td>1.854970e-03</td>\n",
       "    </tr>\n",
       "    <tr>\n",
       "      <th>B</th>\n",
       "      <td>86</td>\n",
       "      <td>795</td>\n",
       "      <td>0.361345</td>\n",
       "      <td>0.429962</td>\n",
       "      <td>0.068618</td>\n",
       "      <td>0.395653</td>\n",
       "      <td>-0.047286</td>\n",
       "      <td>0.051584</td>\n",
       "      <td>2.148752e-03</td>\n",
       "    </tr>\n",
       "    <tr>\n",
       "      <th>C</th>\n",
       "      <td>36</td>\n",
       "      <td>279</td>\n",
       "      <td>0.151261</td>\n",
       "      <td>0.150892</td>\n",
       "      <td>0.000368</td>\n",
       "      <td>0.151076</td>\n",
       "      <td>0.000266</td>\n",
       "      <td>-0.000265</td>\n",
       "      <td>1.617671e-07</td>\n",
       "    </tr>\n",
       "  </tbody>\n",
       "</table>\n",
       "</div>"
      ],
      "text/plain": [
       "   train_n  serve_n  train_pct  serve_pct  abs_change_pct       mix  train_kl  \\\n",
       "A      116      775   0.487395   0.419145        0.068249  0.453270  0.051040   \n",
       "B       86      795   0.361345   0.429962        0.068618  0.395653 -0.047286   \n",
       "C       36      279   0.151261   0.150892        0.000368  0.151076  0.000266   \n",
       "\n",
       "   serve_kl           JSD  \n",
       "A -0.047330  1.854970e-03  \n",
       "B  0.051584  2.148752e-03  \n",
       "C -0.000265  1.617671e-07  "
      ]
     },
     "execution_count": 58,
     "metadata": {},
     "output_type": "execute_result"
    }
   ],
   "source": [
    "stats['mix'] = (stats['train_pct'] + stats['serve_pct']) / 2\n",
    "stats['train_kl'] = stats['train_pct'] * np.log2(stats['train_pct'] / stats['mix'])\n",
    "stats['serve_kl'] = stats['serve_pct'] * np.log2(stats['serve_pct'] / stats['mix'])\n",
    "stats['JSD'] = (stats['train_kl'] + stats['serve_kl']) / 2\n",
    "stats"
   ]
  },
  {
   "cell_type": "code",
   "execution_count": 59,
   "id": "810ff375-9fe4-463f-833a-aa3fb5d7644b",
   "metadata": {
    "tags": []
   },
   "outputs": [
    {
     "data": {
      "text/plain": [
       "'|    |   train_n |   serve_n |   train_pct |   serve_pct |   abs_change_pct |      mix |     train_kl |     serve_kl |         JSD |\\n|:---|----------:|----------:|------------:|------------:|-----------------:|---------:|-------------:|-------------:|------------:|\\n| A  |       116 |       775 |    0.487395 |    0.419145 |       0.0682495  | 0.45327  |  0.05104     | -0.04733     | 0.00185497  |\\n| B  |        86 |       795 |    0.361345 |    0.429962 |       0.0686176  | 0.395653 | -0.0472862   |  0.0515837   | 0.00214875  |\\n| C  |        36 |       279 |    0.151261 |    0.150892 |       0.00036813 | 0.151076 |  0.000265711 | -0.000265388 | 1.61767e-07 |'"
      ]
     },
     "execution_count": 59,
     "metadata": {},
     "output_type": "execute_result"
    }
   ],
   "source": [
    "stats.to_markdown()"
   ]
  },
  {
   "cell_type": "code",
   "execution_count": 60,
   "id": "caea0538-7ea8-4e10-b6ad-b7b786e8a816",
   "metadata": {
    "tags": []
   },
   "outputs": [
    {
     "name": "stdout",
     "output_type": "stream",
     "text": [
      "The total for the Jansen-Shannon Divergence is 0.0040038845841986435\n"
     ]
    }
   ],
   "source": [
    "print(f\"The total for the Jansen-Shannon Divergence is {sum(stats['JSD'])}\")"
   ]
  },
  {
   "cell_type": "markdown",
   "id": "f242178c-dc48-4adb-bef8-b8eaa283a000",
   "metadata": {},
   "source": [
    "## Plots For Writeup - Jansen-Shannon Divergence"
   ]
  },
  {
   "cell_type": "code",
   "execution_count": 62,
   "id": "57c9ee12-c180-4685-85da-2c988b2d6976",
   "metadata": {
    "tags": []
   },
   "outputs": [
    {
     "data": {
      "image/png": "[encoded data removed]",
      "text/plain": [
       "<Figure size 800x600 with 1 Axes>"
      ]
     },
     "metadata": {},
     "output_type": "display_data"
    }
   ],
   "source": [
    "import matplotlib.pyplot as plt\n",
    "\n",
    "# Create the bar chart\n",
    "fig, ax = plt.subplots(figsize=(8, 6))  # Adjust figure height for subtitle\n",
    "\n",
    "# Get the JSD values for each category\n",
    "jsd_values = stats['JSD']\n",
    "\n",
    "# Create the bars with lighter purple color\n",
    "ax.bar(jsd_values.index, jsd_values.values, color='mediumpurple')\n",
    "\n",
    "# Set chart title and labels\n",
    "ax.set_title('Jensen-Shannon Divergence Contribution by Category', fontsize=12, pad=20)  # Add padding for main title\n",
    "\n",
    "# Add subtitle with the final JSD value\n",
    "final_jsd = sum(jsd_values)\n",
    "ax.set_title(f'Jensen-Shannon Divergence Contribution by Category\\nFinal JSD: {final_jsd:.6f}',\n",
    "             fontsize=10, loc='center', pad=-10)  # Subtitle settings\n",
    "\n",
    "ax.set_ylabel('JSD Value', fontsize=10)\n",
    "ax.set_xlabel('Feature Categories', fontsize=10)\n",
    "\n",
    "# Sort the bars (optional)\n",
    "jsd_values_sorted = jsd_values.sort_values(ascending=False)\n",
    "ax.set_xticks(range(len(jsd_values_sorted)))\n",
    "ax.set_xticklabels(jsd_values_sorted.index)\n",
    "\n",
    "# Add text annotations for the JSD values at the top of each bar\n",
    "for i, v in enumerate(jsd_values_sorted):\n",
    "    # Calculate y-position slightly above the bar top\n",
    "    label_y = v + (0.01 * jsd_values_sorted.max())  # Adjust the 0.01 factor as needed\n",
    "    ax.text(i, label_y, f'{v:.6f}', ha='center', va='bottom', fontsize=8)\n",
    "\n",
    "plt.tight_layout()\n",
    "\n",
    "plt.savefig('jsd.png')  # Save the plot as a PNG\n",
    "plt.show()"
   ]
  },
  {
   "cell_type": "code",
   "execution_count": null,
   "id": "19644e11-2263-4ec1-9f1d-b3afa3439072",
   "metadata": {},
   "outputs": [],
   "source": []
  }
 ],
 "metadata": {
  "environment": {
   "kernel": "conda-base-py",
   "name": "workbench-notebooks.m125",
   "type": "gcloud",
   "uri": "us-docker.pkg.dev/deeplearning-platform-release/gcr.io/workbench-notebooks:m125"
  },
  "kernelspec": {
   "display_name": "Python 3 (ipykernel) (Local)",
   "language": "python",
   "name": "conda-base-py"
  },
  "language_info": {
   "codemirror_mode": {
    "name": "ipython",
    "version": 3
   },
   "file_extension": ".py",
   "mimetype": "text/x-python",
   "name": "python",
   "nbconvert_exporter": "python",
   "pygments_lexer": "ipython3",
   "version": "3.10.15"
  }
 },
 "nbformat": 4,
 "nbformat_minor": 5
}
