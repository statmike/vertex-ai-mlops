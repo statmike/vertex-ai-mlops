{
 "cells": [
  {
   "cell_type": "markdown",
   "id": "f122f911",
   "metadata": {},
   "source": [
    "![tracker](https://us-central1-vertex-ai-mlops-369716.cloudfunctions.net/pixel-tracking?path=statmike%2Fvertex-ai-mlops%2FMLOps%2FServing&file=Serve+TensorFlow+SavedModel+Format+With+BigQuery.ipynb)\n",
    "<!--- header table --->\n",
    "<table align=\"left\">\n",
    "  <td style=\"text-align: center\">\n",
    "    <a href=\"https://colab.research.google.com/github/statmike/vertex-ai-mlops/blob/main/MLOps/Serving/Serve%20TensorFlow%20SavedModel%20Format%20With%20BigQuery.ipynb\">\n",
    "      <img src=\"https://cloud.google.com/ml-engine/images/colab-logo-32px.png\" alt=\"Google Colaboratory logo\">\n",
    "      <br>Run in<br>Colab\n",
    "    </a>\n",
    "  </td>\n",
    "  <td style=\"text-align: center\">\n",
    "    <a href=\"https://console.cloud.google.com/vertex-ai/colab/import/https%3A%2F%2Fraw.githubusercontent.com%2Fstatmike%2Fvertex-ai-mlops%2Fmain%2FMLOps%2FServing%2FServe%2520TensorFlow%2520SavedModel%2520Format%2520With%2520BigQuery.ipynb\">\n",
    "      <img width=\"32px\" src=\"https://lh3.googleusercontent.com/JmcxdQi-qOpctIvWKgPtrzZdJJK-J3sWE1RsfjZNwshCFgE_9fULcNpuXYTilIR2hjwN\" alt=\"Google Cloud Colab Enterprise logo\">\n",
    "      <br>Run in<br>Colab Enterprise\n",
    "    </a>\n",
    "  </td>      \n",
    "  <td style=\"text-align: center\">\n",
    "    <a href=\"https://github.com/statmike/vertex-ai-mlops/blob/main/MLOps/Serving/Serve%20TensorFlow%20SavedModel%20Format%20With%20BigQuery.ipynb\">\n",
    "      <img src=\"https://cloud.google.com/ml-engine/images/github-logo-32px.png\" alt=\"GitHub logo\">\n",
    "      <br>View on<br>GitHub\n",
    "    </a>\n",
    "  </td>\n",
    "  <td style=\"text-align: center\">\n",
    "    <a href=\"https://console.cloud.google.com/vertex-ai/workbench/deploy-notebook?download_url=https://raw.githubusercontent.com/statmike/vertex-ai-mlops/main/MLOps/Serving/Serve%20TensorFlow%20SavedModel%20Format%20With%20BigQuery.ipynb\">\n",
    "      <img src=\"https://lh3.googleusercontent.com/UiNooY4LUgW_oTvpsNhPpQzsstV5W8F7rYgxgGBD85cWJoLmrOzhVs_ksK_vgx40SHs7jCqkTkCk=e14-rj-sc0xffffff-h130-w32\" alt=\"Vertex AI logo\">\n",
    "      <br>Open in<br>Vertex AI Workbench\n",
    "    </a>\n",
    "  </td>\n",
    "</table>"
   ]
  },
  {
   "cell_type": "markdown",
   "id": "30cba717-4026-4176-b22a-fa3800a73be4",
   "metadata": {},
   "source": [
    "# Serve TensorFlow SavedModel Format With BigQuery\n",
    "\n",
    "Serve model predictions inside BigQuery for [TensorFlow SavedModel](https://www.tensorflow.org/guide/saved_model) format - the serverless advantage of BigQuery applied to inference!\n",
    "\n",
    "BigQuery has a vast set of capabilities related to ML known as BigQuery ML (or BQML for short).\n",
    "- [BigQuery ML](https://cloud.google.com/bigquery/docs/bqml-introduction)\n",
    "- [BigQuery ML user journey for models](https://cloud.google.com/bigquery/docs/e2e-journey)\n",
    "\n",
    "> For many workflow examples with BigQuery ML check out the [Framework Workflows/BQML](../../Framework%20Workflows/BQML/readme.md) folder in this repository!\n",
    "\n",
    "With these capabilities you can train models directly in BigQuery, import model files for serving inside BigQuery, or connect to remote models for use from BigQuery.\n",
    "\n",
    "This workflow focuses on importing a model, specifically a TensorFlow SavedModel format model as covered in [this documentation page](https://cloud.google.com/bigquery/docs/reference/standard-sql/bigqueryml-syntax-create-tensorflow). \n",
    "\n",
    "There are limits to cover prior to getting started:\n",
    "- not all BigQuery ML functions will work with imported models\n",
    "- Models are limited to sizes under 450MB\n",
    "- Model files must be in GCS, int he SavedModel format, use a GraphDef version of atleast 20, only use core TensorFlow operation (no tf.contrib operations), no RaggedTensors\n",
    "- see a [full list here](https://cloud.google.com/bigquery/docs/reference/standard-sql/bigqueryml-syntax-create-tensorflow#limitations)\n",
    "- And add another more recent limitation - XLA compilation, like JAX based models probably have\n",
    "\n",
    "What this workflow does:\n",
    "- Prepare the TensorFlow SavedModel files created in this repository by another workflow: [Keras With TensorFlow Overview](../../Framework%20Workflows/Keras/Keras%20With%20TensorFlow%20Overview.ipynb)\n",
    "- Setup BigQuery Dataset\n",
    "- Create Models with the imported model files\n",
    "- Serve predictions with `ML.PREDICT` function"
   ]
  },
  {
   "cell_type": "markdown",
   "id": "7d5cf661-e0d6-424a-8f91-7c464c99d4c5",
   "metadata": {
    "id": "od_UkDpvRmgD"
   },
   "source": [
    "---\n",
    "## Colab Setup\n",
    "\n",
    "When running this notebook in [Colab](https://colab.google/) or [Colab Enterprise](https://cloud.google.com/colab/docs/introduction), this section will authenticate to GCP (follow prompts in the popup) and set the current project for the session."
   ]
  },
  {
   "cell_type": "code",
   "execution_count": 1,
   "id": "6bc7fec0-3888-48f3-bfa9-49f5b70f3ed5",
   "metadata": {
    "executionInfo": {
     "elapsed": 195,
     "status": "ok",
     "timestamp": 1683726184843,
     "user": {
      "displayName": "Mike Henderson",
      "userId": "07691629187611687318"
     },
     "user_tz": 240
    },
    "id": "8UO9FnqyKBlF",
    "tags": []
   },
   "outputs": [],
   "source": [
    "PROJECT_ID = 'statmike-mlops-349915' # replace with project ID"
   ]
  },
  {
   "cell_type": "code",
   "execution_count": 2,
   "id": "c408e9ef-2536-414a-b17e-72a825f14cd9",
   "metadata": {
    "colab": {
     "base_uri": "https://localhost:8080/"
    },
    "executionInfo": {
     "elapsed": 68869,
     "status": "ok",
     "timestamp": 1683726253709,
     "user": {
      "displayName": "Mike Henderson",
      "userId": "07691629187611687318"
     },
     "user_tz": 240
    },
    "id": "N98-KK7LRkjm",
    "outputId": "09ec5008-0def-4e1a-c349-c598ee752f78",
    "tags": []
   },
   "outputs": [],
   "source": [
    "try:\n",
    "    from google.colab import auth\n",
    "    auth.authenticate_user()\n",
    "    !gcloud config set project {PROJECT_ID}\n",
    "except Exception:\n",
    "    pass"
   ]
  },
  {
   "cell_type": "markdown",
   "id": "9aa0d5dd-9f76-45bf-9810-09786d905264",
   "metadata": {},
   "source": [
    "---\n",
    "## Installs and API Enablement\n",
    "\n",
    "The clients packages may need installing in this environment. "
   ]
  },
  {
   "cell_type": "markdown",
   "id": "a6904753-9788-4c71-8b46-5a3070b9aacb",
   "metadata": {},
   "source": [
    "### Installs (If Needed)"
   ]
  },
  {
   "cell_type": "code",
   "execution_count": 69,
   "id": "7bad5fe5-ec6a-4d1c-943e-a6702177ae6e",
   "metadata": {
    "tags": []
   },
   "outputs": [],
   "source": [
    "# tuples of (import name, install name, min_version)\n",
    "packages = [\n",
    "    ('google.cloud.bigquery', 'google-cloud-bigquery'),\n",
    "    ('google.cloud.storage', 'google-cloud-storage'),\n",
    "    ('numpy', 'numpy'),\n",
    "    ('pandas', 'pandas'),\n",
    "    ('tensorflow', 'tensorflow'),\n",
    "]\n",
    "\n",
    "import importlib\n",
    "install = False\n",
    "for package in packages:\n",
    "    if not importlib.util.find_spec(package[0]):\n",
    "        print(f'installing package {package[1]}')\n",
    "        install = True\n",
    "        !pip install {package[1]} -U -q --user\n",
    "    elif len(package) == 3:\n",
    "        if importlib.metadata.version(package[0]) < package[2]:\n",
    "            print(f'updating package {package[1]}')\n",
    "            install = True\n",
    "            !pip install {package[1]} -U -q --user"
   ]
  },
  {
   "cell_type": "markdown",
   "id": "321d650c-aade-4a33-8564-947e8fcec254",
   "metadata": {},
   "source": [
    "### API Enablement"
   ]
  },
  {
   "cell_type": "code",
   "execution_count": 4,
   "id": "75802b90-082d-4fca-b7df-0016202ed4b6",
   "metadata": {
    "tags": []
   },
   "outputs": [],
   "source": [
    "!gcloud services enable aiplatform.googleapis.com"
   ]
  },
  {
   "cell_type": "markdown",
   "id": "dda7db42-c2ad-4f4a-bc74-c32dabb2b405",
   "metadata": {},
   "source": [
    "### Restart Kernel (If Installs Occured)\n",
    "\n",
    "After a kernel restart the code submission can start with the next cell after this one."
   ]
  },
  {
   "cell_type": "code",
   "execution_count": 5,
   "id": "e76a7882-5d4b-4158-a213-62b0d5ad13f1",
   "metadata": {
    "tags": []
   },
   "outputs": [],
   "source": [
    "if install:\n",
    "    import IPython\n",
    "    app = IPython.Application.instance()\n",
    "    app.kernel.do_shutdown(True)\n",
    "    IPython.display.display(IPython.display.Markdown(\"\"\"<div class=\\\"alert alert-block alert-warning\\\">\n",
    "        <b>⚠️ The kernel is going to restart. Please wait until it is finished before continuing to the next step. The previous cells do not need to be run again⚠️</b>\n",
    "        </div>\"\"\"))"
   ]
  },
  {
   "cell_type": "markdown",
   "id": "b28ddf77-ea97-4703-8db8-60d009a63e50",
   "metadata": {
    "id": "appt8-yVRtJ1"
   },
   "source": [
    "---\n",
    "## Setup"
   ]
  },
  {
   "cell_type": "markdown",
   "id": "92101d5e-20ee-4c3c-9d68-5327b5808ecd",
   "metadata": {
    "id": "63mx2EozRxFP"
   },
   "source": [
    "Inputs"
   ]
  },
  {
   "cell_type": "code",
   "execution_count": 6,
   "id": "fa208e98-2849-4d5a-aaff-9fc8f864b7c0",
   "metadata": {
    "colab": {
     "base_uri": "https://localhost:8080/",
     "height": 35
    },
    "executionInfo": {
     "elapsed": 2124,
     "status": "ok",
     "timestamp": 1683726390544,
     "user": {
      "displayName": "Mike Henderson",
      "userId": "07691629187611687318"
     },
     "user_tz": 240
    },
    "id": "xzcoXjM5Rky5",
    "outputId": "b3bdcbc1-70d5-472e-aea2-42c74a42efde",
    "tags": []
   },
   "outputs": [
    {
     "data": {
      "text/plain": [
       "'statmike-mlops-349915'"
      ]
     },
     "execution_count": 6,
     "metadata": {},
     "output_type": "execute_result"
    }
   ],
   "source": [
    "project = !gcloud config get-value project\n",
    "PROJECT_ID = project[0]\n",
    "PROJECT_ID"
   ]
  },
  {
   "cell_type": "code",
   "execution_count": 7,
   "id": "096f118a-ee93-4da1-85dc-58c55b98a037",
   "metadata": {
    "executionInfo": {
     "elapsed": 2,
     "status": "ok",
     "timestamp": 1683726390712,
     "user": {
      "displayName": "Mike Henderson",
      "userId": "07691629187611687318"
     },
     "user_tz": 240
    },
    "id": "IxWrFtqYMfku",
    "tags": []
   },
   "outputs": [],
   "source": [
    "REGION = 'us-central1'\n",
    "SERIES = 'mlops-serving'\n",
    "EXPERIMENT = 'bigquery-tensorflow'\n",
    "\n",
    "# gcs bucket name\n",
    "GCS_BUCKET = PROJECT_ID\n",
    "\n",
    "# Data source for this series of notebooks: Described above\n",
    "BQ_SOURCE = 'bigquery-public-data.ml_datasets.ulb_fraud_detection'\n",
    "\n",
    "# make this the BigQuery Project / Dataset / Table prefix to store results\n",
    "BQ_PROJECT = PROJECT_ID\n",
    "BQ_DATASET = SERIES.replace('-', '_')\n",
    "BQ_TABLE = SERIES\n",
    "BQ_REGION = REGION[0:2] # use a multi region"
   ]
  },
  {
   "cell_type": "markdown",
   "id": "9e64a864-6d64-4365-9ece-9688166bc945",
   "metadata": {
    "id": "LuajVwCiO6Yg"
   },
   "source": [
    "Packages"
   ]
  },
  {
   "cell_type": "code",
   "execution_count": 68,
   "id": "a69404fc-8fb8-4b61-ab8f-a35e65bad355",
   "metadata": {
    "executionInfo": {
     "elapsed": 17761,
     "status": "ok",
     "timestamp": 1683726409304,
     "user": {
      "displayName": "Mike Henderson",
      "userId": "07691629187611687318"
     },
     "user_tz": 240
    },
    "id": "LVC7zzSLRk2C",
    "tags": []
   },
   "outputs": [],
   "source": [
    "# import python package\n",
    "import os\n",
    "\n",
    "import tensorflow as tf\n",
    "import numpy as np\n",
    "import pandas as pd\n",
    "\n",
    "# BigQuery\n",
    "from google.cloud import bigquery\n",
    "\n",
    "# gcs\n",
    "from google.cloud import storage"
   ]
  },
  {
   "cell_type": "markdown",
   "id": "f1e02c32-d233-43f6-83e1-1370f5d582e9",
   "metadata": {
    "id": "EyAVFG9TO9H-"
   },
   "source": [
    "Clients"
   ]
  },
  {
   "cell_type": "code",
   "execution_count": 9,
   "id": "1a2b384a-f757-49d8-bb29-54e3582b55c0",
   "metadata": {
    "executionInfo": {
     "elapsed": 19,
     "status": "ok",
     "timestamp": 1683726409306,
     "user": {
      "displayName": "Mike Henderson",
      "userId": "07691629187611687318"
     },
     "user_tz": 240
    },
    "id": "L0RPE13LOZce",
    "tags": []
   },
   "outputs": [],
   "source": [
    "# bigquery client\n",
    "bq = bigquery.Client(project = PROJECT_ID)\n",
    "\n",
    "# gcs client\n",
    "gcs = storage.Client(project = PROJECT_ID)\n",
    "bucket = gcs.bucket(GCS_BUCKET)"
   ]
  },
  {
   "cell_type": "markdown",
   "id": "2477b0eb-f046-4609-a840-efaad1b946fd",
   "metadata": {},
   "source": [
    "Parameters:"
   ]
  },
  {
   "cell_type": "code",
   "execution_count": 10,
   "id": "77d9432d-e055-4f84-81e2-32028479adf8",
   "metadata": {
    "tags": []
   },
   "outputs": [],
   "source": [
    "DIR = f\"files/{EXPERIMENT}\""
   ]
  },
  {
   "cell_type": "markdown",
   "id": "7ab50f01-677a-4401-a275-0e7b50a49c99",
   "metadata": {},
   "source": [
    "Environment:"
   ]
  },
  {
   "cell_type": "code",
   "execution_count": 11,
   "id": "ed4d6540-d97a-409d-9950-801b0e1121cd",
   "metadata": {
    "tags": []
   },
   "outputs": [],
   "source": [
    "if not os.path.exists(DIR):\n",
    "    os.makedirs(DIR)"
   ]
  },
  {
   "cell_type": "markdown",
   "id": "dc22de71-d15b-4dc9-aaef-6c64a57b9483",
   "metadata": {},
   "source": [
    "---\n",
    "## Model Files For Examples\n",
    "\n",
    "The TensorFlow SavedModel files used here were created in this repository by another workflow: [Keras With JAX Overview](../../Framework%20Workflows/Keras/Keras%20With%20JAX%20Overview.ipynb).  That workflow does not need to be run because the resulting model files are within this repository.  If this notebook is being used separate from a full clone of the repository then this section will fetch the files from GitHub."
   ]
  },
  {
   "cell_type": "code",
   "execution_count": 21,
   "id": "f1696f59-fae6-454a-be2e-b007a56b0ba6",
   "metadata": {
    "tags": []
   },
   "outputs": [],
   "source": [
    "local_dir = '../../Framework Workflows/Keras/files/keras-tf-overview/tensorflow'"
   ]
  },
  {
   "cell_type": "code",
   "execution_count": 22,
   "id": "e1eb1c34-f717-4557-8a73-e4b82c29d242",
   "metadata": {
    "tags": []
   },
   "outputs": [
    {
     "name": "stdout",
     "output_type": "stream",
     "text": [
      "Files Found in folder `../../Framework Workflows/Keras/files/keras-tf-overview/tensorflow`\n"
     ]
    }
   ],
   "source": [
    "if not os.path.exists(local_dir):\n",
    "    print('Retrieving files...')\n",
    "    local_dir = DIR\n",
    "    parent_dir = os.path.dirname(local_dir)\n",
    "    temp_dir = os.path.join(parent_dir, 'temp')\n",
    "    if not os.path.exists(temp_dir):\n",
    "        os.makedirs(temp_dir)\n",
    "    !git clone https://www.github.com/statmike/vertex-ai-mlops {temp_dir}/vertex-ai-mlops\n",
    "    shutil.copytree(f'{temp_dir}/vertex-ai-mlops/Framework Workflows/Keras/files/keras-tf-overview/tensorflow', local_dir)\n",
    "    shutil.rmtree(temp_dir)\n",
    "    print(f'Files are now in folder `{local_dir}`')\n",
    "else:\n",
    "    print(f'Files Found in folder `{local_dir}`')             "
   ]
  },
  {
   "cell_type": "code",
   "execution_count": 23,
   "id": "ca6c524f-98f3-4910-b430-914b319e1b42",
   "metadata": {
    "tags": []
   },
   "outputs": [
    {
     "name": "stdout",
     "output_type": "stream",
     "text": [
      "../../Framework Workflows/Keras/files/keras-tf-overview/tensorflow/embedding_model/fingerprint.pb\n",
      "../../Framework Workflows/Keras/files/keras-tf-overview/tensorflow/embedding_model/saved_model.pb\n",
      "../../Framework Workflows/Keras/files/keras-tf-overview/tensorflow/embedding_model/variables/variables.index\n",
      "../../Framework Workflows/Keras/files/keras-tf-overview/tensorflow/embedding_model/variables/variables.data-00000-of-00001\n",
      "../../Framework Workflows/Keras/files/keras-tf-overview/tensorflow/stacked_model/fingerprint.pb\n",
      "../../Framework Workflows/Keras/files/keras-tf-overview/tensorflow/stacked_model/saved_model.pb\n",
      "../../Framework Workflows/Keras/files/keras-tf-overview/tensorflow/stacked_model/variables/variables.index\n",
      "../../Framework Workflows/Keras/files/keras-tf-overview/tensorflow/stacked_model/variables/variables.data-00000-of-00001\n",
      "../../Framework Workflows/Keras/files/keras-tf-overview/tensorflow/final_model/fingerprint.pb\n",
      "../../Framework Workflows/Keras/files/keras-tf-overview/tensorflow/final_model/saved_model.pb\n",
      "../../Framework Workflows/Keras/files/keras-tf-overview/tensorflow/final_model/variables/variables.index\n",
      "../../Framework Workflows/Keras/files/keras-tf-overview/tensorflow/final_model/variables/variables.data-00000-of-00001\n"
     ]
    }
   ],
   "source": [
    "for root, _, files in os.walk(local_dir):\n",
    "    for file in files:\n",
    "        print(os.path.join(root, file))"
   ]
  },
  {
   "cell_type": "markdown",
   "id": "2de43e1b-a572-4bab-b8dd-1e60f9b92a92",
   "metadata": {},
   "source": [
    "### Copy Files To GCS"
   ]
  },
  {
   "cell_type": "code",
   "execution_count": 35,
   "id": "170ac1bf-187e-42a0-94f3-07a7cc9b7a08",
   "metadata": {
    "tags": []
   },
   "outputs": [
    {
     "name": "stdout",
     "output_type": "stream",
     "text": [
      "Copying file://../../Framework Workflows/Keras/files/keras-tf-overview/tensorflow/embedding_model/fingerprint.pb to gs://statmike-mlops-349915/mlops-serving/bigquery-tensorflow/models/tensorflow/embedding_model/fingerprint.pb\n",
      "Copying file://../../Framework Workflows/Keras/files/keras-tf-overview/tensorflow/embedding_model/saved_model.pb to gs://statmike-mlops-349915/mlops-serving/bigquery-tensorflow/models/tensorflow/embedding_model/saved_model.pb\n",
      "Copying file://../../Framework Workflows/Keras/files/keras-tf-overview/tensorflow/embedding_model/variables/variables.index to gs://statmike-mlops-349915/mlops-serving/bigquery-tensorflow/models/tensorflow/embedding_model/variables/variables.index\n",
      "Copying file://../../Framework Workflows/Keras/files/keras-tf-overview/tensorflow/embedding_model/variables/variables.data-00000-of-00001 to gs://statmike-mlops-349915/mlops-serving/bigquery-tensorflow/models/tensorflow/embedding_model/variables/variables.data-00000-of-00001\n",
      "Copying file://../../Framework Workflows/Keras/files/keras-tf-overview/tensorflow/stacked_model/fingerprint.pb to gs://statmike-mlops-349915/mlops-serving/bigquery-tensorflow/models/tensorflow/stacked_model/fingerprint.pb\n",
      "Copying file://../../Framework Workflows/Keras/files/keras-tf-overview/tensorflow/stacked_model/saved_model.pb to gs://statmike-mlops-349915/mlops-serving/bigquery-tensorflow/models/tensorflow/stacked_model/saved_model.pb\n",
      "Copying file://../../Framework Workflows/Keras/files/keras-tf-overview/tensorflow/stacked_model/variables/variables.index to gs://statmike-mlops-349915/mlops-serving/bigquery-tensorflow/models/tensorflow/stacked_model/variables/variables.index\n",
      "Copying file://../../Framework Workflows/Keras/files/keras-tf-overview/tensorflow/stacked_model/variables/variables.data-00000-of-00001 to gs://statmike-mlops-349915/mlops-serving/bigquery-tensorflow/models/tensorflow/stacked_model/variables/variables.data-00000-of-00001\n",
      "Copying file://../../Framework Workflows/Keras/files/keras-tf-overview/tensorflow/final_model/fingerprint.pb to gs://statmike-mlops-349915/mlops-serving/bigquery-tensorflow/models/tensorflow/final_model/fingerprint.pb\n",
      "Copying file://../../Framework Workflows/Keras/files/keras-tf-overview/tensorflow/final_model/saved_model.pb to gs://statmike-mlops-349915/mlops-serving/bigquery-tensorflow/models/tensorflow/final_model/saved_model.pb\n",
      "Copying file://../../Framework Workflows/Keras/files/keras-tf-overview/tensorflow/final_model/variables/variables.index to gs://statmike-mlops-349915/mlops-serving/bigquery-tensorflow/models/tensorflow/final_model/variables/variables.index\n",
      "Copying file://../../Framework Workflows/Keras/files/keras-tf-overview/tensorflow/final_model/variables/variables.data-00000-of-00001 to gs://statmike-mlops-349915/mlops-serving/bigquery-tensorflow/models/tensorflow/final_model/variables/variables.data-00000-of-00001\n",
      "  Completed files 12/12 | 320.5kiB/320.5kiB                                    \n",
      "\n",
      "Average throughput: 1.9MiB/s\n"
     ]
    }
   ],
   "source": [
    "!gcloud storage cp -r '{local_dir}' gs://{GCS_BUCKET}/{SERIES}/{EXPERIMENT}/models/"
   ]
  },
  {
   "cell_type": "markdown",
   "id": "dda9c8fc-6ddc-46dc-9f78-304293aad1c8",
   "metadata": {},
   "source": [
    "### Examine Models Signatures\n",
    "\n",
    "To use the models with BigQuery ML we will need to know what the expected input is.  In this case each model has an input named `input_layer` that expects an array of length 30.  This was defined back during the models creation.  That means the input for the BigQuery ML.PREDICT function will need to be a column named `input_layer` that is an array of 30 floating point values.  \n",
    "\n",
    "This code also checks for the presence of XLA compilation, a newer feature for efficiency.  This is a limit of BigQuery ML imported TensorFlow models currently so if the model file has XLA compilation in its graph then it will not work. "
   ]
  },
  {
   "cell_type": "code",
   "execution_count": 71,
   "id": "9ec57a7a-a38a-497d-a71e-f03126c080b9",
   "metadata": {
    "tags": []
   },
   "outputs": [],
   "source": [
    "def get_signature(uri):\n",
    "    \n",
    "    loaded_model = tf.saved_model.load(uri)\n",
    "    signatures = loaded_model.signatures\n",
    "    print(f\"Available Signatures for: {uri}\")\n",
    "    for signature_name, signature_fn in signatures.items():\n",
    "        print(f\"\\nSignature Name: {signature_name}\")\n",
    "        print(\"\\nInputs:\")\n",
    "        if hasattr(signature_fn, 'structured_input_signature') and signature_fn.structured_input_signature:\n",
    "            for input_name, input_spec in signature_fn.structured_input_signature[1].items():\n",
    "                print(f\"  {input_name}:\")\n",
    "                print(f\"    dtype: {input_spec.dtype}\")\n",
    "                print(f\"    shape: {input_spec.shape}\")\n",
    "        else:\n",
    "            print(\"  No structured input signature available.\")\n",
    "        print(\"\\nOutputs:\")\n",
    "        if hasattr(signature_fn, \"structured_outputs\") and signature_fn.structured_outputs:\n",
    "            for output_name, output_spec in signature_fn.structured_outputs.items():\n",
    "                print(f\"  {output_name}:\")\n",
    "                print(f\"    dtype: {output_spec.dtype}\")\n",
    "                print(f\"    shape: {output_spec.shape}\")\n",
    "        else:\n",
    "            print(\"  No structured output signature available.\")\n",
    "            \n",
    "    def check_xla(signatures):\n",
    "        try:\n",
    "            concrete_func = signatures[tf.saved_model.DEFAULT_SERVING_SIGNATURE_DEF_KEY]\n",
    "            graph_def = concrete_func.graph.as_graph_def()\n",
    "            \n",
    "            def _check_node(node):\n",
    "                if \"XlaCallModule\" in node.op:\n",
    "                    return True\n",
    "                for attr in node.attr.values():\n",
    "                    if attr.func:\n",
    "                        func_name = attr.func.name\n",
    "                        for func in graph_def.library.function:\n",
    "                            if func.signature.name == func_name:\n",
    "                                for func_node in func.node_def:\n",
    "                                    if _check_node(func_node):\n",
    "                                        return True\n",
    "                return False\n",
    "            \n",
    "            for node in graph_def.node:\n",
    "                if _check_node(node):\n",
    "                    return True\n",
    "            return False\n",
    "        except Exception as e:\n",
    "            print(f'Error checking XLA: {e}')\n",
    "            return None\n",
    "        \n",
    "    if check_xla(signatures):\n",
    "        print('XLA Detected - Conversion Required for BQML.\\n\\n')\n",
    "        return True\n",
    "    else:\n",
    "        print('XLA Not Detected - Model Should Work With BQML\\n\\n')\n",
    "        return False"
   ]
  },
  {
   "cell_type": "code",
   "execution_count": 72,
   "id": "9bd3df40-eb78-460c-af58-56dbef404638",
   "metadata": {
    "tags": []
   },
   "outputs": [
    {
     "data": {
      "text/plain": [
       "['mlops-serving/bigquery-tensorflow/models/tensorflow/embedding_model/fingerprint.pb',\n",
       " 'mlops-serving/bigquery-tensorflow/models/tensorflow/embedding_model/saved_model.pb',\n",
       " 'mlops-serving/bigquery-tensorflow/models/tensorflow/embedding_model/variables/variables.data-00000-of-00001',\n",
       " 'mlops-serving/bigquery-tensorflow/models/tensorflow/embedding_model/variables/variables.index',\n",
       " 'mlops-serving/bigquery-tensorflow/models/tensorflow/final_model/fingerprint.pb',\n",
       " 'mlops-serving/bigquery-tensorflow/models/tensorflow/final_model/saved_model.pb',\n",
       " 'mlops-serving/bigquery-tensorflow/models/tensorflow/final_model/variables/variables.data-00000-of-00001',\n",
       " 'mlops-serving/bigquery-tensorflow/models/tensorflow/final_model/variables/variables.index',\n",
       " 'mlops-serving/bigquery-tensorflow/models/tensorflow/stacked_model/fingerprint.pb',\n",
       " 'mlops-serving/bigquery-tensorflow/models/tensorflow/stacked_model/saved_model.pb',\n",
       " 'mlops-serving/bigquery-tensorflow/models/tensorflow/stacked_model/variables/variables.data-00000-of-00001',\n",
       " 'mlops-serving/bigquery-tensorflow/models/tensorflow/stacked_model/variables/variables.index']"
      ]
     },
     "execution_count": 72,
     "metadata": {},
     "output_type": "execute_result"
    }
   ],
   "source": [
    "[blob.name for blob in bucket.list_blobs(prefix = f'{SERIES}/{EXPERIMENT}/models')]"
   ]
  },
  {
   "cell_type": "code",
   "execution_count": 73,
   "id": "a6cc16b2-7780-4906-b6a8-f3694a6a5fd2",
   "metadata": {
    "tags": []
   },
   "outputs": [
    {
     "name": "stdout",
     "output_type": "stream",
     "text": [
      "Available Signatures for: gs://statmike-mlops-349915/mlops-serving/bigquery-tensorflow/models/tensorflow/embedding_model\n",
      "\n",
      "Signature Name: serve\n",
      "\n",
      "Inputs:\n",
      "  input_layer:\n",
      "    dtype: <dtype: 'float32'>\n",
      "    shape: (None, 30)\n",
      "\n",
      "Outputs:\n",
      "  output_0:\n",
      "    dtype: <dtype: 'float32'>\n",
      "    shape: (None, 4)\n",
      "\n",
      "Signature Name: serving_default\n",
      "\n",
      "Inputs:\n",
      "  input_layer:\n",
      "    dtype: <dtype: 'float32'>\n",
      "    shape: (None, 30)\n",
      "\n",
      "Outputs:\n",
      "  output_0:\n",
      "    dtype: <dtype: 'float32'>\n",
      "    shape: (None, 4)\n",
      "XLA Not Detected - Model Should Work With BQML\n",
      "\n",
      "\n",
      "Available Signatures for: gs://statmike-mlops-349915/mlops-serving/bigquery-tensorflow/models/tensorflow/final_model\n",
      "\n",
      "Signature Name: serve\n",
      "\n",
      "Inputs:\n",
      "  input_layer:\n",
      "    dtype: <dtype: 'float32'>\n",
      "    shape: (None, 30)\n",
      "\n",
      "Outputs:\n",
      "  normalized_reconstruction:\n",
      "    dtype: <dtype: 'float32'>\n",
      "    shape: (None, 30)\n",
      "  encoded:\n",
      "    dtype: <dtype: 'float32'>\n",
      "    shape: (None, 4)\n",
      "  denormalized_reconstruction:\n",
      "    dtype: <dtype: 'float32'>\n",
      "    shape: (None, 30)\n",
      "  normalized_RMSE:\n",
      "    dtype: <dtype: 'float32'>\n",
      "    shape: (None,)\n",
      "  normalized_MSLE:\n",
      "    dtype: <dtype: 'float32'>\n",
      "    shape: (None,)\n",
      "  denormalized_MAE:\n",
      "    dtype: <dtype: 'float32'>\n",
      "    shape: (None,)\n",
      "  denormalized_MSLE:\n",
      "    dtype: <dtype: 'float32'>\n",
      "    shape: (None,)\n",
      "  normalized_MAE:\n",
      "    dtype: <dtype: 'float32'>\n",
      "    shape: (None,)\n",
      "  normalized_MSE:\n",
      "    dtype: <dtype: 'float32'>\n",
      "    shape: (None,)\n",
      "  denormalized_MSE:\n",
      "    dtype: <dtype: 'float32'>\n",
      "    shape: (None,)\n",
      "  normalized_reconstruction_errors:\n",
      "    dtype: <dtype: 'float32'>\n",
      "    shape: (None, 30)\n",
      "  denormalized_RMSE:\n",
      "    dtype: <dtype: 'float32'>\n",
      "    shape: (None,)\n",
      "  denormalized_reconstruction_errors:\n",
      "    dtype: <dtype: 'float32'>\n",
      "    shape: (None, 30)\n",
      "\n",
      "Signature Name: serving_default\n",
      "\n",
      "Inputs:\n",
      "  input_layer:\n",
      "    dtype: <dtype: 'float32'>\n",
      "    shape: (None, 30)\n",
      "\n",
      "Outputs:\n",
      "  normalized_reconstruction:\n",
      "    dtype: <dtype: 'float32'>\n",
      "    shape: (None, 30)\n",
      "  encoded:\n",
      "    dtype: <dtype: 'float32'>\n",
      "    shape: (None, 4)\n",
      "  denormalized_reconstruction:\n",
      "    dtype: <dtype: 'float32'>\n",
      "    shape: (None, 30)\n",
      "  normalized_RMSE:\n",
      "    dtype: <dtype: 'float32'>\n",
      "    shape: (None,)\n",
      "  normalized_MSLE:\n",
      "    dtype: <dtype: 'float32'>\n",
      "    shape: (None,)\n",
      "  denormalized_MAE:\n",
      "    dtype: <dtype: 'float32'>\n",
      "    shape: (None,)\n",
      "  denormalized_MSLE:\n",
      "    dtype: <dtype: 'float32'>\n",
      "    shape: (None,)\n",
      "  normalized_MAE:\n",
      "    dtype: <dtype: 'float32'>\n",
      "    shape: (None,)\n",
      "  normalized_MSE:\n",
      "    dtype: <dtype: 'float32'>\n",
      "    shape: (None,)\n",
      "  denormalized_MSE:\n",
      "    dtype: <dtype: 'float32'>\n",
      "    shape: (None,)\n",
      "  normalized_reconstruction_errors:\n",
      "    dtype: <dtype: 'float32'>\n",
      "    shape: (None, 30)\n",
      "  denormalized_RMSE:\n",
      "    dtype: <dtype: 'float32'>\n",
      "    shape: (None,)\n",
      "  denormalized_reconstruction_errors:\n",
      "    dtype: <dtype: 'float32'>\n",
      "    shape: (None, 30)\n",
      "XLA Not Detected - Model Should Work With BQML\n",
      "\n",
      "\n",
      "Available Signatures for: gs://statmike-mlops-349915/mlops-serving/bigquery-tensorflow/models/tensorflow/stacked_model\n",
      "\n",
      "Signature Name: serve\n",
      "\n",
      "Inputs:\n",
      "  input_layer:\n",
      "    dtype: <dtype: 'float32'>\n",
      "    shape: (None, 30)\n",
      "\n",
      "Outputs:\n",
      "  output_0:\n",
      "    dtype: <dtype: 'float32'>\n",
      "    shape: (None, 30)\n",
      "\n",
      "Signature Name: serving_default\n",
      "\n",
      "Inputs:\n",
      "  input_layer:\n",
      "    dtype: <dtype: 'float32'>\n",
      "    shape: (None, 30)\n",
      "\n",
      "Outputs:\n",
      "  output_0:\n",
      "    dtype: <dtype: 'float32'>\n",
      "    shape: (None, 30)\n",
      "XLA Not Detected - Model Should Work With BQML\n",
      "\n",
      "\n"
     ]
    }
   ],
   "source": [
    "models = []\n",
    "for blob in bucket.list_blobs(prefix = f'{SERIES}/{EXPERIMENT}/models'):\n",
    "    if blob.name.endswith('saved_model.pb'):\n",
    "        uri = f\"gs://{bucket.name}/{blob.name.split('/saved_model.pb')[0]}\"\n",
    "        has_xla = get_signature(uri)\n",
    "        if has_xla:\n",
    "            print('Model has XLA and will not work with BQML.')\n",
    "        else:\n",
    "            models.append(uri)"
   ]
  },
  {
   "cell_type": "markdown",
   "id": "a7b5472a-98f1-4bec-b80e-5e5eb6515ac1",
   "metadata": {},
   "source": [
    "---\n",
    "## BigQuery Model Import"
   ]
  },
  {
   "cell_type": "markdown",
   "id": "ecf4f675-979d-4c4c-97a2-40fc212e9490",
   "metadata": {},
   "source": [
    "### Create/Recall Dataset"
   ]
  },
  {
   "cell_type": "code",
   "execution_count": 42,
   "id": "a6dcd91f-fa4d-4cfa-94cc-92e2175f32bf",
   "metadata": {
    "tags": []
   },
   "outputs": [],
   "source": [
    "dataset = bigquery.Dataset(f\"{BQ_PROJECT}.{BQ_DATASET}\")\n",
    "dataset.location = BQ_REGION\n",
    "bq_dataset = bq.create_dataset(dataset, exists_ok = True)"
   ]
  },
  {
   "cell_type": "markdown",
   "id": "3c919aa3-6a8e-4738-9519-7f4d7d796fa9",
   "metadata": {},
   "source": [
    "### Create/Recall Table With Preparation For ML\n",
    "\n",
    "Copy the data from the source while adding columns:\n",
    "- `transaction_id` as a unique identify for the row\n",
    "    - Use the `GENERATE_UUID()` function\n",
    "- `splits` column to randomly assign rows to 'TRAIN\", \"VALIDATE\" and \"TEST\" groups\n",
    "    - stratified sampling within the levels of `class` by first assigning row numbers within the levels of `class` then using the with a CASE statment to assign the `splits` level."
   ]
  },
  {
   "cell_type": "code",
   "execution_count": 43,
   "id": "db962852-cb4c-436b-a8de-aea409e7bafa",
   "metadata": {
    "tags": []
   },
   "outputs": [
    {
     "data": {
      "text/plain": [
       "10.3"
      ]
     },
     "execution_count": 43,
     "metadata": {},
     "output_type": "execute_result"
    }
   ],
   "source": [
    "job = bq.query(f\"\"\"\n",
    "CREATE OR REPLACE TABLE\n",
    "#CREATE TABLE IF NOT EXISTS \n",
    "    `{BQ_PROJECT}.{BQ_DATASET}.{BQ_TABLE}` AS\n",
    "WITH\n",
    "    add_id AS (\n",
    "        SELECT *,\n",
    "            GENERATE_UUID() transaction_id,\n",
    "            ROW_NUMBER() OVER (PARTITION BY class ORDER BY RAND()) as rn\n",
    "            FROM `{BQ_SOURCE}`\n",
    "    )\n",
    "SELECT * EXCEPT(rn),\n",
    "    CASE \n",
    "        WHEN rn <= 0.8 * COUNT(*) OVER (PARTITION BY class) THEN 'TRAIN'\n",
    "        WHEN rn <= 0.9 * COUNT(*) OVER (PARTITION BY class) THEN 'VALIDATE'\n",
    "        ELSE 'TEST'\n",
    "    END AS splits\n",
    "FROM add_id\n",
    "\"\"\")\n",
    "job.result()\n",
    "(job.ended-job.started).total_seconds()"
   ]
  },
  {
   "cell_type": "code",
   "execution_count": 44,
   "id": "5e900c1a-a3f5-436e-9455-0e2f08506faa",
   "metadata": {
    "tags": []
   },
   "outputs": [
    {
     "data": {
      "text/html": [
       "<div>\n",
       "<style scoped>\n",
       "    .dataframe tbody tr th:only-of-type {\n",
       "        vertical-align: middle;\n",
       "    }\n",
       "\n",
       "    .dataframe tbody tr th {\n",
       "        vertical-align: top;\n",
       "    }\n",
       "\n",
       "    .dataframe thead th {\n",
       "        text-align: right;\n",
       "    }\n",
       "</style>\n",
       "<table border=\"1\" class=\"dataframe\">\n",
       "  <thead>\n",
       "    <tr style=\"text-align: right;\">\n",
       "      <th></th>\n",
       "      <th>Time</th>\n",
       "      <th>V1</th>\n",
       "      <th>V2</th>\n",
       "      <th>V3</th>\n",
       "      <th>V4</th>\n",
       "      <th>V5</th>\n",
       "      <th>V6</th>\n",
       "      <th>V7</th>\n",
       "      <th>V8</th>\n",
       "      <th>V9</th>\n",
       "      <th>...</th>\n",
       "      <th>V23</th>\n",
       "      <th>V24</th>\n",
       "      <th>V25</th>\n",
       "      <th>V26</th>\n",
       "      <th>V27</th>\n",
       "      <th>V28</th>\n",
       "      <th>Amount</th>\n",
       "      <th>Class</th>\n",
       "      <th>transaction_id</th>\n",
       "      <th>splits</th>\n",
       "    </tr>\n",
       "  </thead>\n",
       "  <tbody>\n",
       "    <tr>\n",
       "      <th>0</th>\n",
       "      <td>118229.0</td>\n",
       "      <td>-0.163817</td>\n",
       "      <td>1.054898</td>\n",
       "      <td>0.863845</td>\n",
       "      <td>4.279682</td>\n",
       "      <td>1.618317</td>\n",
       "      <td>0.416816</td>\n",
       "      <td>0.556619</td>\n",
       "      <td>-0.239917</td>\n",
       "      <td>-2.329588</td>\n",
       "      <td>...</td>\n",
       "      <td>-0.247822</td>\n",
       "      <td>-0.331911</td>\n",
       "      <td>-0.828854</td>\n",
       "      <td>0.428658</td>\n",
       "      <td>-0.031682</td>\n",
       "      <td>0.037370</td>\n",
       "      <td>0.0</td>\n",
       "      <td>0</td>\n",
       "      <td>bba2482f-8c1d-445f-9c0b-5bae570620dc</td>\n",
       "      <td>TEST</td>\n",
       "    </tr>\n",
       "    <tr>\n",
       "      <th>1</th>\n",
       "      <td>129755.0</td>\n",
       "      <td>2.052071</td>\n",
       "      <td>0.103910</td>\n",
       "      <td>-1.230392</td>\n",
       "      <td>0.441973</td>\n",
       "      <td>-0.127297</td>\n",
       "      <td>-1.740949</td>\n",
       "      <td>0.441227</td>\n",
       "      <td>-0.453292</td>\n",
       "      <td>0.447167</td>\n",
       "      <td>...</td>\n",
       "      <td>0.284552</td>\n",
       "      <td>0.426661</td>\n",
       "      <td>-0.067168</td>\n",
       "      <td>-0.518989</td>\n",
       "      <td>-0.029692</td>\n",
       "      <td>-0.051630</td>\n",
       "      <td>0.0</td>\n",
       "      <td>0</td>\n",
       "      <td>fd07dc5d-923a-4d6a-9066-4750b65294ef</td>\n",
       "      <td>TEST</td>\n",
       "    </tr>\n",
       "    <tr>\n",
       "      <th>2</th>\n",
       "      <td>82566.0</td>\n",
       "      <td>1.225778</td>\n",
       "      <td>0.315277</td>\n",
       "      <td>0.968853</td>\n",
       "      <td>2.369175</td>\n",
       "      <td>0.000762</td>\n",
       "      <td>0.983311</td>\n",
       "      <td>-0.500043</td>\n",
       "      <td>0.181432</td>\n",
       "      <td>0.010966</td>\n",
       "      <td>...</td>\n",
       "      <td>-0.142516</td>\n",
       "      <td>-0.979973</td>\n",
       "      <td>0.528372</td>\n",
       "      <td>0.038881</td>\n",
       "      <td>0.049546</td>\n",
       "      <td>0.024313</td>\n",
       "      <td>0.0</td>\n",
       "      <td>0</td>\n",
       "      <td>62252bf3-2ac8-42e8-ab1e-b6eeedbc283b</td>\n",
       "      <td>TEST</td>\n",
       "    </tr>\n",
       "    <tr>\n",
       "      <th>3</th>\n",
       "      <td>145092.0</td>\n",
       "      <td>-19.332047</td>\n",
       "      <td>-24.894678</td>\n",
       "      <td>0.580899</td>\n",
       "      <td>8.895214</td>\n",
       "      <td>17.479929</td>\n",
       "      <td>-12.299495</td>\n",
       "      <td>-12.000347</td>\n",
       "      <td>2.338247</td>\n",
       "      <td>-0.342769</td>\n",
       "      <td>...</td>\n",
       "      <td>-0.334839</td>\n",
       "      <td>0.165841</td>\n",
       "      <td>0.048159</td>\n",
       "      <td>-0.848368</td>\n",
       "      <td>0.310829</td>\n",
       "      <td>-3.928403</td>\n",
       "      <td>0.0</td>\n",
       "      <td>0</td>\n",
       "      <td>da56a7a0-4851-49b3-8a25-31235767d019</td>\n",
       "      <td>TEST</td>\n",
       "    </tr>\n",
       "    <tr>\n",
       "      <th>4</th>\n",
       "      <td>71188.0</td>\n",
       "      <td>1.182039</td>\n",
       "      <td>0.043534</td>\n",
       "      <td>0.187616</td>\n",
       "      <td>0.568309</td>\n",
       "      <td>-0.241478</td>\n",
       "      <td>-0.362329</td>\n",
       "      <td>0.002382</td>\n",
       "      <td>0.055659</td>\n",
       "      <td>0.020921</td>\n",
       "      <td>...</td>\n",
       "      <td>-0.054438</td>\n",
       "      <td>0.262501</td>\n",
       "      <td>0.505217</td>\n",
       "      <td>0.557609</td>\n",
       "      <td>-0.044848</td>\n",
       "      <td>-0.012868</td>\n",
       "      <td>0.0</td>\n",
       "      <td>0</td>\n",
       "      <td>d9c0b8f7-9112-4495-8312-7ea56ab92052</td>\n",
       "      <td>TEST</td>\n",
       "    </tr>\n",
       "  </tbody>\n",
       "</table>\n",
       "<p>5 rows × 33 columns</p>\n",
       "</div>"
      ],
      "text/plain": [
       "       Time         V1         V2        V3        V4         V5         V6  \\\n",
       "0  118229.0  -0.163817   1.054898  0.863845  4.279682   1.618317   0.416816   \n",
       "1  129755.0   2.052071   0.103910 -1.230392  0.441973  -0.127297  -1.740949   \n",
       "2   82566.0   1.225778   0.315277  0.968853  2.369175   0.000762   0.983311   \n",
       "3  145092.0 -19.332047 -24.894678  0.580899  8.895214  17.479929 -12.299495   \n",
       "4   71188.0   1.182039   0.043534  0.187616  0.568309  -0.241478  -0.362329   \n",
       "\n",
       "          V7        V8        V9  ...       V23       V24       V25       V26  \\\n",
       "0   0.556619 -0.239917 -2.329588  ... -0.247822 -0.331911 -0.828854  0.428658   \n",
       "1   0.441227 -0.453292  0.447167  ...  0.284552  0.426661 -0.067168 -0.518989   \n",
       "2  -0.500043  0.181432  0.010966  ... -0.142516 -0.979973  0.528372  0.038881   \n",
       "3 -12.000347  2.338247 -0.342769  ... -0.334839  0.165841  0.048159 -0.848368   \n",
       "4   0.002382  0.055659  0.020921  ... -0.054438  0.262501  0.505217  0.557609   \n",
       "\n",
       "        V27       V28  Amount  Class                        transaction_id  \\\n",
       "0 -0.031682  0.037370     0.0      0  bba2482f-8c1d-445f-9c0b-5bae570620dc   \n",
       "1 -0.029692 -0.051630     0.0      0  fd07dc5d-923a-4d6a-9066-4750b65294ef   \n",
       "2  0.049546  0.024313     0.0      0  62252bf3-2ac8-42e8-ab1e-b6eeedbc283b   \n",
       "3  0.310829 -3.928403     0.0      0  da56a7a0-4851-49b3-8a25-31235767d019   \n",
       "4 -0.044848 -0.012868     0.0      0  d9c0b8f7-9112-4495-8312-7ea56ab92052   \n",
       "\n",
       "   splits  \n",
       "0    TEST  \n",
       "1    TEST  \n",
       "2    TEST  \n",
       "3    TEST  \n",
       "4    TEST  \n",
       "\n",
       "[5 rows x 33 columns]"
      ]
     },
     "execution_count": 44,
     "metadata": {},
     "output_type": "execute_result"
    }
   ],
   "source": [
    "raw_sample = bq.query(f'SELECT * FROM `{BQ_PROJECT}.{BQ_DATASET}.{BQ_TABLE}` LIMIT 5').to_dataframe()\n",
    "raw_sample"
   ]
  },
  {
   "cell_type": "markdown",
   "id": "88374b7b-142f-4afa-950a-fccffcf0192a",
   "metadata": {},
   "source": [
    "### Add A Column For Feature Array\n",
    "\n",
    "Combine all the features into a single column, an array of floats, for easier inference."
   ]
  },
  {
   "cell_type": "code",
   "execution_count": 45,
   "id": "b68ff74e-fbac-44b5-8f0f-075703662d8c",
   "metadata": {
    "tags": []
   },
   "outputs": [
    {
     "data": {
      "text/plain": [
       "['Time',\n",
       " 'V1',\n",
       " 'V2',\n",
       " 'V3',\n",
       " 'V4',\n",
       " 'V5',\n",
       " 'V6',\n",
       " 'V7',\n",
       " 'V8',\n",
       " 'V9',\n",
       " 'V10',\n",
       " 'V11',\n",
       " 'V12',\n",
       " 'V13',\n",
       " 'V14',\n",
       " 'V15',\n",
       " 'V16',\n",
       " 'V17',\n",
       " 'V18',\n",
       " 'V19',\n",
       " 'V20',\n",
       " 'V21',\n",
       " 'V22',\n",
       " 'V23',\n",
       " 'V24',\n",
       " 'V25',\n",
       " 'V26',\n",
       " 'V27',\n",
       " 'V28',\n",
       " 'Amount']"
      ]
     },
     "execution_count": 45,
     "metadata": {},
     "output_type": "execute_result"
    }
   ],
   "source": [
    "feature_columns = [col for col in raw_sample.columns if col not in ['splits', 'transaction_id', 'Class']]\n",
    "feature_columns"
   ]
  },
  {
   "cell_type": "code",
   "execution_count": 46,
   "id": "d937189e-ff96-4270-b59f-41b8b15ab055",
   "metadata": {
    "tags": []
   },
   "outputs": [
    {
     "data": {
      "text/plain": [
       "8.65"
      ]
     },
     "execution_count": 46,
     "metadata": {},
     "output_type": "execute_result"
    }
   ],
   "source": [
    "query = f\"\"\"\n",
    "CREATE OR REPLACE TABLE `{BQ_PROJECT}.{BQ_DATASET}.{BQ_TABLE}` AS\n",
    "SELECT\n",
    "    t.*, # EXCEPT(features_array),\n",
    "    ARRAY[\n",
    "        {', '.join(feature_columns)}\n",
    "    ] AS features_array\n",
    "FROM\n",
    "    `{BQ_PROJECT}.{BQ_DATASET}.{BQ_TABLE}` AS t;\n",
    "\"\"\"\n",
    "\n",
    "job = bq.query(query)\n",
    "job.result()\n",
    "(job.ended - job.started).total_seconds()"
   ]
  },
  {
   "cell_type": "markdown",
   "id": "b2cb14eb-dace-4f6b-8669-c741fe96d3ad",
   "metadata": {},
   "source": [
    "### Review the number of records for each level of `Class` for each of the data splits:"
   ]
  },
  {
   "cell_type": "code",
   "execution_count": 47,
   "id": "c32dcf5b-0ce9-456e-ab2f-9a845d978da2",
   "metadata": {
    "tags": []
   },
   "outputs": [
    {
     "data": {
      "text/html": [
       "<div>\n",
       "<style scoped>\n",
       "    .dataframe tbody tr th:only-of-type {\n",
       "        vertical-align: middle;\n",
       "    }\n",
       "\n",
       "    .dataframe tbody tr th {\n",
       "        vertical-align: top;\n",
       "    }\n",
       "\n",
       "    .dataframe thead th {\n",
       "        text-align: right;\n",
       "    }\n",
       "</style>\n",
       "<table border=\"1\" class=\"dataframe\">\n",
       "  <thead>\n",
       "    <tr style=\"text-align: right;\">\n",
       "      <th></th>\n",
       "      <th>splits</th>\n",
       "      <th>class</th>\n",
       "      <th>count</th>\n",
       "      <th>percentage</th>\n",
       "    </tr>\n",
       "  </thead>\n",
       "  <tbody>\n",
       "    <tr>\n",
       "      <th>0</th>\n",
       "      <td>TRAIN</td>\n",
       "      <td>1</td>\n",
       "      <td>393</td>\n",
       "      <td>79.88</td>\n",
       "    </tr>\n",
       "    <tr>\n",
       "      <th>1</th>\n",
       "      <td>VALIDATE</td>\n",
       "      <td>1</td>\n",
       "      <td>49</td>\n",
       "      <td>9.96</td>\n",
       "    </tr>\n",
       "    <tr>\n",
       "      <th>2</th>\n",
       "      <td>TEST</td>\n",
       "      <td>1</td>\n",
       "      <td>50</td>\n",
       "      <td>10.16</td>\n",
       "    </tr>\n",
       "    <tr>\n",
       "      <th>3</th>\n",
       "      <td>TEST</td>\n",
       "      <td>0</td>\n",
       "      <td>28432</td>\n",
       "      <td>10.00</td>\n",
       "    </tr>\n",
       "    <tr>\n",
       "      <th>4</th>\n",
       "      <td>TRAIN</td>\n",
       "      <td>0</td>\n",
       "      <td>227452</td>\n",
       "      <td>80.00</td>\n",
       "    </tr>\n",
       "    <tr>\n",
       "      <th>5</th>\n",
       "      <td>VALIDATE</td>\n",
       "      <td>0</td>\n",
       "      <td>28431</td>\n",
       "      <td>10.00</td>\n",
       "    </tr>\n",
       "  </tbody>\n",
       "</table>\n",
       "</div>"
      ],
      "text/plain": [
       "     splits  class   count  percentage\n",
       "0     TRAIN      1     393       79.88\n",
       "1  VALIDATE      1      49        9.96\n",
       "2      TEST      1      50       10.16\n",
       "3      TEST      0   28432       10.00\n",
       "4     TRAIN      0  227452       80.00\n",
       "5  VALIDATE      0   28431       10.00"
      ]
     },
     "execution_count": 47,
     "metadata": {},
     "output_type": "execute_result"
    }
   ],
   "source": [
    "bq.query(f\"\"\"\n",
    "SELECT splits, class,\n",
    "    count(*) as count,\n",
    "    ROUND(count(*) * 100.0 / SUM(count(*)) OVER (PARTITION BY class), 2) AS percentage\n",
    "FROM `{BQ_PROJECT}.{BQ_DATASET}.{BQ_TABLE}`\n",
    "GROUP BY splits, class\n",
    "\"\"\").to_dataframe()"
   ]
  },
  {
   "cell_type": "markdown",
   "id": "d723a989-0c74-43c0-9b20-b42ff209a47d",
   "metadata": {},
   "source": [
    "### Create The Models"
   ]
  },
  {
   "cell_type": "code",
   "execution_count": 48,
   "id": "93462abf-d514-4f0d-a0f4-5a3a740c7347",
   "metadata": {
    "tags": []
   },
   "outputs": [
    {
     "data": {
      "text/plain": [
       "['gs://statmike-mlops-349915/mlops-serving/bigquery-tensorflow/models/tensorflow/embedding_model',\n",
       " 'gs://statmike-mlops-349915/mlops-serving/bigquery-tensorflow/models/tensorflow/final_model',\n",
       " 'gs://statmike-mlops-349915/mlops-serving/bigquery-tensorflow/models/tensorflow/stacked_model']"
      ]
     },
     "execution_count": 48,
     "metadata": {},
     "output_type": "execute_result"
    }
   ],
   "source": [
    "models"
   ]
  },
  {
   "cell_type": "code",
   "execution_count": 49,
   "id": "e15001de-9964-40ad-bf84-c6d11fff8733",
   "metadata": {
    "tags": []
   },
   "outputs": [
    {
     "name": "stdout",
     "output_type": "stream",
     "text": [
      "Created BigQuery Model:\n",
      "\tName: statmike-mlops-349915.mlops_serving.mlops-serving-bigquery-tensorflow-embedding_model\n",
      "\tGCS URI: gs://statmike-mlops-349915/mlops-serving/bigquery-tensorflow/models/tensorflow/embedding_model\n",
      "\tTime (seconds): 17.205\n",
      "Created BigQuery Model:\n",
      "\tName: statmike-mlops-349915.mlops_serving.mlops-serving-bigquery-tensorflow-final_model\n",
      "\tGCS URI: gs://statmike-mlops-349915/mlops-serving/bigquery-tensorflow/models/tensorflow/final_model\n",
      "\tTime (seconds): 8.769\n",
      "Created BigQuery Model:\n",
      "\tName: statmike-mlops-349915.mlops_serving.mlops-serving-bigquery-tensorflow-stacked_model\n",
      "\tGCS URI: gs://statmike-mlops-349915/mlops-serving/bigquery-tensorflow/models/tensorflow/stacked_model\n",
      "\tTime (seconds): 13.572\n"
     ]
    }
   ],
   "source": [
    "bq_models = []\n",
    "for model in models:\n",
    "    bq_model = f\"{BQ_PROJECT}.{BQ_DATASET}.{SERIES}-{EXPERIMENT}-{model.split('/')[-1]}\"\n",
    "    job = bq.query(f\"\"\"\n",
    "    CREATE OR REPLACE MODEL `{bq_model}`\n",
    "        OPTIONS(\n",
    "            MODEL_TYPE = 'TENSORFLOW',\n",
    "            MODEL_PATH = '{model}/*'\n",
    "        )\n",
    "    \"\"\")\n",
    "    job.result()\n",
    "    bq_models.append(bq_model)\n",
    "    print(f\"Created BigQuery Model:\\n\\tName: {bq_model}\\n\\tGCS URI: {model}\\n\\tTime (seconds): {(job.ended-job.started).total_seconds()}\")"
   ]
  },
  {
   "cell_type": "code",
   "execution_count": 50,
   "id": "11749f20-418a-4ff3-ac8d-64912fb83de0",
   "metadata": {
    "tags": []
   },
   "outputs": [
    {
     "data": {
      "text/plain": [
       "['statmike-mlops-349915.mlops_serving.mlops-serving-bigquery-tensorflow-embedding_model',\n",
       " 'statmike-mlops-349915.mlops_serving.mlops-serving-bigquery-tensorflow-final_model',\n",
       " 'statmike-mlops-349915.mlops_serving.mlops-serving-bigquery-tensorflow-stacked_model']"
      ]
     },
     "execution_count": 50,
     "metadata": {},
     "output_type": "execute_result"
    }
   ],
   "source": [
    "bq_models"
   ]
  },
  {
   "cell_type": "markdown",
   "id": "88ab1f6e-2aee-411b-8416-8c7679a14530",
   "metadata": {},
   "source": [
    "## BigQuery ML Predictions With ML.PREDICT"
   ]
  },
  {
   "cell_type": "markdown",
   "id": "9cde9f3d-7b9b-4c91-a7d1-2d6ab4ca3a8b",
   "metadata": {},
   "source": [
    "### Embedding Model\n",
    "\n",
    "This model returns an embedding of dimension = 4:"
   ]
  },
  {
   "cell_type": "code",
   "execution_count": 53,
   "id": "28578e07-5083-45c4-ae44-6f262f9bacd8",
   "metadata": {
    "tags": []
   },
   "outputs": [
    {
     "data": {
      "text/plain": [
       "'statmike-mlops-349915.mlops_serving.mlops-serving-bigquery-tensorflow-embedding_model'"
      ]
     },
     "execution_count": 53,
     "metadata": {},
     "output_type": "execute_result"
    }
   ],
   "source": [
    "bq_models[0]"
   ]
  },
  {
   "cell_type": "code",
   "execution_count": 52,
   "id": "1f9b2049-009e-4dec-ab59-85e60f50b62a",
   "metadata": {
    "tags": []
   },
   "outputs": [
    {
     "data": {
      "text/html": [
       "<div>\n",
       "<style scoped>\n",
       "    .dataframe tbody tr th:only-of-type {\n",
       "        vertical-align: middle;\n",
       "    }\n",
       "\n",
       "    .dataframe tbody tr th {\n",
       "        vertical-align: top;\n",
       "    }\n",
       "\n",
       "    .dataframe thead th {\n",
       "        text-align: right;\n",
       "    }\n",
       "</style>\n",
       "<table border=\"1\" class=\"dataframe\">\n",
       "  <thead>\n",
       "    <tr style=\"text-align: right;\">\n",
       "      <th></th>\n",
       "      <th>output_0</th>\n",
       "      <th>input_layer</th>\n",
       "    </tr>\n",
       "  </thead>\n",
       "  <tbody>\n",
       "    <tr>\n",
       "      <th>0</th>\n",
       "      <td>[0.0, 0.0, 0.022259382531046867, 0.00314655387...</td>\n",
       "      <td>[18690.0, -15.3988450085358, 7.472323896501121...</td>\n",
       "    </tr>\n",
       "    <tr>\n",
       "      <th>1</th>\n",
       "      <td>[0.310149222612381, 0.0, 0.016755089163780212,...</td>\n",
       "      <td>[94362.0, -26.4577446501446, 16.497471901867, ...</td>\n",
       "    </tr>\n",
       "    <tr>\n",
       "      <th>2</th>\n",
       "      <td>[0.19951258599758148, 0.0, 0.01866228878498077...</td>\n",
       "      <td>[110087.0, 1.9349464556154798, 0.6506777374982...</td>\n",
       "    </tr>\n",
       "    <tr>\n",
       "      <th>3</th>\n",
       "      <td>[0.0, 0.0, 0.022228442132472992, 0.00309095764...</td>\n",
       "      <td>[41305.0, -12.9809425647533, 6.72050777097643,...</td>\n",
       "    </tr>\n",
       "    <tr>\n",
       "      <th>4</th>\n",
       "      <td>[0.0, 0.0, 0.022287406027317047, 0.00319691235...</td>\n",
       "      <td>[30852.0, -2.83098405592803, 0.885657038258755...</td>\n",
       "    </tr>\n",
       "    <tr>\n",
       "      <th>5</th>\n",
       "      <td>[0.2360287755727768, 0.0, 0.019245415925979614...</td>\n",
       "      <td>[102318.0, -1.0206316658236099, 1.496959122432...</td>\n",
       "    </tr>\n",
       "    <tr>\n",
       "      <th>6</th>\n",
       "      <td>[0.29357069730758667, 0.0, 0.02039346098899841...</td>\n",
       "      <td>[148476.0, -1.12509160979577, 3.68287614423406...</td>\n",
       "    </tr>\n",
       "    <tr>\n",
       "      <th>7</th>\n",
       "      <td>[0.0, 0.0, 0.022289488464593887, 0.00320065440...</td>\n",
       "      <td>[7535.0, 0.0267792264491516, 4.132463897130029...</td>\n",
       "    </tr>\n",
       "    <tr>\n",
       "      <th>8</th>\n",
       "      <td>[0.0, 0.0, 0.022370172664523125, 0.00334563432...</td>\n",
       "      <td>[25095.0, 1.19239598990768, 1.33897371069007, ...</td>\n",
       "    </tr>\n",
       "    <tr>\n",
       "      <th>9</th>\n",
       "      <td>[0.0, 0.0, 0.022382868453860283, 0.00336844893...</td>\n",
       "      <td>[35942.0, -4.19407367570647, 4.382897362444670...</td>\n",
       "    </tr>\n",
       "  </tbody>\n",
       "</table>\n",
       "</div>"
      ],
      "text/plain": [
       "                                            output_0  \\\n",
       "0  [0.0, 0.0, 0.022259382531046867, 0.00314655387...   \n",
       "1  [0.310149222612381, 0.0, 0.016755089163780212,...   \n",
       "2  [0.19951258599758148, 0.0, 0.01866228878498077...   \n",
       "3  [0.0, 0.0, 0.022228442132472992, 0.00309095764...   \n",
       "4  [0.0, 0.0, 0.022287406027317047, 0.00319691235...   \n",
       "5  [0.2360287755727768, 0.0, 0.019245415925979614...   \n",
       "6  [0.29357069730758667, 0.0, 0.02039346098899841...   \n",
       "7  [0.0, 0.0, 0.022289488464593887, 0.00320065440...   \n",
       "8  [0.0, 0.0, 0.022370172664523125, 0.00334563432...   \n",
       "9  [0.0, 0.0, 0.022382868453860283, 0.00336844893...   \n",
       "\n",
       "                                         input_layer  \n",
       "0  [18690.0, -15.3988450085358, 7.472323896501121...  \n",
       "1  [94362.0, -26.4577446501446, 16.497471901867, ...  \n",
       "2  [110087.0, 1.9349464556154798, 0.6506777374982...  \n",
       "3  [41305.0, -12.9809425647533, 6.72050777097643,...  \n",
       "4  [30852.0, -2.83098405592803, 0.885657038258755...  \n",
       "5  [102318.0, -1.0206316658236099, 1.496959122432...  \n",
       "6  [148476.0, -1.12509160979577, 3.68287614423406...  \n",
       "7  [7535.0, 0.0267792264491516, 4.132463897130029...  \n",
       "8  [25095.0, 1.19239598990768, 1.33897371069007, ...  \n",
       "9  [35942.0, -4.19407367570647, 4.382897362444670...  "
      ]
     },
     "execution_count": 52,
     "metadata": {},
     "output_type": "execute_result"
    }
   ],
   "source": [
    "results = bq.query(f\"\"\"\n",
    "SELECT *\n",
    "FROM ML.PREDICT (MODEL `{bq_models[0]}`,(\n",
    "    SELECT features_array as input_layer\n",
    "    FROM `{BQ_PROJECT}.{BQ_DATASET}.{BQ_TABLE}`\n",
    "    WHERE splits = 'TEST' and class = 1\n",
    "    LIMIT 10)\n",
    "  )\n",
    "\"\"\").to_dataframe()\n",
    "\n",
    "results"
   ]
  },
  {
   "cell_type": "code",
   "execution_count": 54,
   "id": "7bbbb7d5-faf5-44b7-acbd-9cf2072e86ac",
   "metadata": {
    "tags": []
   },
   "outputs": [
    {
     "data": {
      "text/plain": [
       "array([0.        , 0.        , 0.02225938, 0.00314655])"
      ]
     },
     "execution_count": 54,
     "metadata": {},
     "output_type": "execute_result"
    }
   ],
   "source": [
    "results['output_0'][0]"
   ]
  },
  {
   "cell_type": "markdown",
   "id": "f78c4ffe-5162-46c8-aa50-c2b2c8db393c",
   "metadata": {},
   "source": [
    "### Final Model - Detailed Outputs\n",
    "\n",
    "This model returns a highly customized set of outputs to help with anomlay detection:"
   ]
  },
  {
   "cell_type": "code",
   "execution_count": 56,
   "id": "6718b6ba-3be8-4baa-ac19-4e070cd539a4",
   "metadata": {
    "tags": []
   },
   "outputs": [
    {
     "data": {
      "text/plain": [
       "'statmike-mlops-349915.mlops_serving.mlops-serving-bigquery-tensorflow-final_model'"
      ]
     },
     "execution_count": 56,
     "metadata": {},
     "output_type": "execute_result"
    }
   ],
   "source": [
    "bq_models[1]"
   ]
  },
  {
   "cell_type": "code",
   "execution_count": 57,
   "id": "06c16056-c9e4-4de1-bdcd-b2df547709e5",
   "metadata": {
    "tags": []
   },
   "outputs": [
    {
     "data": {
      "text/html": [
       "<div>\n",
       "<style scoped>\n",
       "    .dataframe tbody tr th:only-of-type {\n",
       "        vertical-align: middle;\n",
       "    }\n",
       "\n",
       "    .dataframe tbody tr th {\n",
       "        vertical-align: top;\n",
       "    }\n",
       "\n",
       "    .dataframe thead th {\n",
       "        text-align: right;\n",
       "    }\n",
       "</style>\n",
       "<table border=\"1\" class=\"dataframe\">\n",
       "  <thead>\n",
       "    <tr style=\"text-align: right;\">\n",
       "      <th></th>\n",
       "      <th>denormalized_MAE</th>\n",
       "      <th>denormalized_MSE</th>\n",
       "      <th>denormalized_MSLE</th>\n",
       "      <th>denormalized_RMSE</th>\n",
       "      <th>denormalized_reconstruction</th>\n",
       "      <th>denormalized_reconstruction_errors</th>\n",
       "      <th>encoded</th>\n",
       "      <th>normalized_MAE</th>\n",
       "      <th>normalized_MSE</th>\n",
       "      <th>normalized_MSLE</th>\n",
       "      <th>normalized_RMSE</th>\n",
       "      <th>normalized_reconstruction</th>\n",
       "      <th>normalized_reconstruction_errors</th>\n",
       "      <th>input_layer</th>\n",
       "    </tr>\n",
       "  </thead>\n",
       "  <tbody>\n",
       "    <tr>\n",
       "      <th>0</th>\n",
       "      <td>1519.109619</td>\n",
       "      <td>6.862614e+07</td>\n",
       "      <td>0.898874</td>\n",
       "      <td>8284.088867</td>\n",
       "      <td>[64063.796875, -0.3806326389312744, 0.12962773...</td>\n",
       "      <td>[-45373.796875, -15.01821231842041, 7.34269618...</td>\n",
       "      <td>[0.0, 0.0, 0.022259382531046867, 0.00314655387...</td>\n",
       "      <td>5.740370</td>\n",
       "      <td>61.732780</td>\n",
       "      <td>0.663433</td>\n",
       "      <td>7.857021</td>\n",
       "      <td>[-0.6491255164146423, -0.20191915333271027, 0....</td>\n",
       "      <td>[-0.9552432894706726, -7.777879238128662, 4.47...</td>\n",
       "      <td>[18690.0, -15.3988450085358, 7.472323896501121...</td>\n",
       "    </tr>\n",
       "    <tr>\n",
       "      <th>1</th>\n",
       "      <td>1389.779785</td>\n",
       "      <td>5.720126e+07</td>\n",
       "      <td>0.876537</td>\n",
       "      <td>7563.151855</td>\n",
       "      <td>[135787.03125, 0.6292573809623718, 0.007250748...</td>\n",
       "      <td>[-41425.03125, -27.08700180053711, 16.49022293...</td>\n",
       "      <td>[0.310149222612381, 0.0, 0.016755089163780212,...</td>\n",
       "      <td>7.825902</td>\n",
       "      <td>111.474777</td>\n",
       "      <td>0.620579</td>\n",
       "      <td>10.558162</td>\n",
       "      <td>[0.860845685005188, 0.32109934091567993, 0.009...</td>\n",
       "      <td>[-0.8721107244491577, -14.028263092041016, 10....</td>\n",
       "      <td>[94362.0, -26.4577446501446, 16.497471901867, ...</td>\n",
       "    </tr>\n",
       "    <tr>\n",
       "      <th>2</th>\n",
       "      <td>330.959473</td>\n",
       "      <td>3.259470e+06</td>\n",
       "      <td>0.400962</td>\n",
       "      <td>1805.400146</td>\n",
       "      <td>[119975.5625, 0.25684669613838196, 0.058178655...</td>\n",
       "      <td>[-9888.5625, 1.6780997514724731, 0.59249907732...</td>\n",
       "      <td>[0.19951258599758148, 0.0, 0.01866228878498077...</td>\n",
       "      <td>0.673797</td>\n",
       "      <td>1.155872</td>\n",
       "      <td>0.177158</td>\n",
       "      <td>1.075115</td>\n",
       "      <td>[0.5279709696769714, 0.12822915613651276, 0.04...</td>\n",
       "      <td>[-0.2081815004348755, 0.869081974029541, 0.361...</td>\n",
       "      <td>[110087.0, 1.9349464556154798, 0.6506777374982...</td>\n",
       "    </tr>\n",
       "    <tr>\n",
       "      <th>3</th>\n",
       "      <td>765.706482</td>\n",
       "      <td>1.725972e+07</td>\n",
       "      <td>0.764454</td>\n",
       "      <td>4154.481934</td>\n",
       "      <td>[64059.9609375, -0.38065868616104126, 0.129629...</td>\n",
       "      <td>[-22754.9609375, -12.6002836227417, 6.59087800...</td>\n",
       "      <td>[0.0, 0.0, 0.022228442132472992, 0.00309095764...</td>\n",
       "      <td>5.889391</td>\n",
       "      <td>72.089226</td>\n",
       "      <td>0.675512</td>\n",
       "      <td>8.490538</td>\n",
       "      <td>[-0.649206280708313, -0.2019326388835907, 0.08...</td>\n",
       "      <td>[-0.4790545701980591, -6.5256428718566895, 4.0...</td>\n",
       "      <td>[41305.0, -12.9809425647533, 6.72050777097643,...</td>\n",
       "    </tr>\n",
       "    <tr>\n",
       "      <th>4</th>\n",
       "      <td>1110.821899</td>\n",
       "      <td>3.677537e+07</td>\n",
       "      <td>0.313990</td>\n",
       "      <td>6064.270020</td>\n",
       "      <td>[64067.2734375, -0.38060906529426575, 0.129625...</td>\n",
       "      <td>[-33215.2734375, -2.4503750801086426, 0.756031...</td>\n",
       "      <td>[0.0, 0.0, 0.022287406027317047, 0.00319691235...</td>\n",
       "      <td>1.088636</td>\n",
       "      <td>2.609732</td>\n",
       "      <td>0.219071</td>\n",
       "      <td>1.615467</td>\n",
       "      <td>[-0.6490523815155029, -0.2019069343805313, 0.0...</td>\n",
       "      <td>[-0.699272871017456, -1.2690407037734985, 0.46...</td>\n",
       "      <td>[30852.0, -2.83098405592803, 0.885657038258755...</td>\n",
       "    </tr>\n",
       "    <tr>\n",
       "      <th>5</th>\n",
       "      <td>767.165894</td>\n",
       "      <td>1.758280e+07</td>\n",
       "      <td>0.238720</td>\n",
       "      <td>4193.184570</td>\n",
       "      <td>[125285.015625, 0.3764687478542328, 0.04184361...</td>\n",
       "      <td>[-22967.015625, -1.3971004486083984, 1.4551154...</td>\n",
       "      <td>[0.2360287755727768, 0.0, 0.019245415925979614...</td>\n",
       "      <td>1.592211</td>\n",
       "      <td>4.867549</td>\n",
       "      <td>0.249550</td>\n",
       "      <td>2.206252</td>\n",
       "      <td>[0.6397494673728943, 0.19018100202083588, 0.03...</td>\n",
       "      <td>[-0.4835188090801239, -0.7235533595085144, 0.8...</td>\n",
       "      <td>[102318.0, -1.0206316658236099, 1.496959122432...</td>\n",
       "    </tr>\n",
       "    <tr>\n",
       "      <th>6</th>\n",
       "      <td>495.459351</td>\n",
       "      <td>7.278511e+06</td>\n",
       "      <td>0.579933</td>\n",
       "      <td>2697.871582</td>\n",
       "      <td>[133699.171875, 0.5675977468490601, 0.01573685...</td>\n",
       "      <td>[14776.828125, -1.692689299583435, 3.667139291...</td>\n",
       "      <td>[0.29357069730758667, 0.0, 0.02039346098899841...</td>\n",
       "      <td>2.352207</td>\n",
       "      <td>9.864285</td>\n",
       "      <td>0.403305</td>\n",
       "      <td>3.140746</td>\n",
       "      <td>[0.8168907761573792, 0.28916603326797485, 0.01...</td>\n",
       "      <td>[0.3110927939414978, -0.8766378164291382, 2.23...</td>\n",
       "      <td>[148476.0, -1.12509160979577, 3.68287614423406...</td>\n",
       "    </tr>\n",
       "    <tr>\n",
       "      <th>7</th>\n",
       "      <td>1887.618652</td>\n",
       "      <td>1.065309e+08</td>\n",
       "      <td>0.807245</td>\n",
       "      <td>10321.381836</td>\n",
       "      <td>[64067.53125, -0.3806073069572449, 0.129625782...</td>\n",
       "      <td>[-56532.53125, 0.40738654136657715, 4.00283813...</td>\n",
       "      <td>[0.0, 0.0, 0.022289488464593887, 0.00320065440...</td>\n",
       "      <td>2.529540</td>\n",
       "      <td>13.866784</td>\n",
       "      <td>0.458278</td>\n",
       "      <td>3.723813</td>\n",
       "      <td>[-0.6490469574928284, -0.2019060254096985, 0.0...</td>\n",
       "      <td>[-1.1901652812957764, 0.21098405122756958, 2.4...</td>\n",
       "      <td>[7535.0, 0.0267792264491516, 4.132463897130029...</td>\n",
       "    </tr>\n",
       "    <tr>\n",
       "      <th>8</th>\n",
       "      <td>1300.985107</td>\n",
       "      <td>5.065459e+07</td>\n",
       "      <td>0.386287</td>\n",
       "      <td>7117.204102</td>\n",
       "      <td>[64077.52734375, -0.3805393874645233, 0.129620...</td>\n",
       "      <td>[-38982.52734375, 1.5729354619979858, 1.209353...</td>\n",
       "      <td>[0.0, 0.0, 0.022370172664523125, 0.00334563432...</td>\n",
       "      <td>0.917202</td>\n",
       "      <td>1.755776</td>\n",
       "      <td>0.238906</td>\n",
       "      <td>1.325057</td>\n",
       "      <td>[-0.6488364934921265, -0.201870858669281, 0.08...</td>\n",
       "      <td>[-0.8206894397735596, 0.8146177530288696, 0.73...</td>\n",
       "      <td>[25095.0, 1.19239598990768, 1.33897371069007, ...</td>\n",
       "    </tr>\n",
       "    <tr>\n",
       "      <th>9</th>\n",
       "      <td>941.562500</td>\n",
       "      <td>2.639077e+07</td>\n",
       "      <td>0.482280</td>\n",
       "      <td>5137.194824</td>\n",
       "      <td>[64079.5625, -0.3805256187915802, 0.1296194791...</td>\n",
       "      <td>[-28137.5625, -3.8135480880737305, 4.253277778...</td>\n",
       "      <td>[0.0, 0.0, 0.022382868453860283, 0.00336844893...</td>\n",
       "      <td>3.434613</td>\n",
       "      <td>26.307997</td>\n",
       "      <td>0.466861</td>\n",
       "      <td>5.129132</td>\n",
       "      <td>[-0.648793637752533, -0.20186372101306915, 0.0...</td>\n",
       "      <td>[-0.5923730731010437, -1.9750230312347412, 2.5...</td>\n",
       "      <td>[35942.0, -4.19407367570647, 4.382897362444670...</td>\n",
       "    </tr>\n",
       "  </tbody>\n",
       "</table>\n",
       "</div>"
      ],
      "text/plain": [
       "   denormalized_MAE  denormalized_MSE  denormalized_MSLE  denormalized_RMSE  \\\n",
       "0       1519.109619      6.862614e+07           0.898874        8284.088867   \n",
       "1       1389.779785      5.720126e+07           0.876537        7563.151855   \n",
       "2        330.959473      3.259470e+06           0.400962        1805.400146   \n",
       "3        765.706482      1.725972e+07           0.764454        4154.481934   \n",
       "4       1110.821899      3.677537e+07           0.313990        6064.270020   \n",
       "5        767.165894      1.758280e+07           0.238720        4193.184570   \n",
       "6        495.459351      7.278511e+06           0.579933        2697.871582   \n",
       "7       1887.618652      1.065309e+08           0.807245       10321.381836   \n",
       "8       1300.985107      5.065459e+07           0.386287        7117.204102   \n",
       "9        941.562500      2.639077e+07           0.482280        5137.194824   \n",
       "\n",
       "                         denormalized_reconstruction  \\\n",
       "0  [64063.796875, -0.3806326389312744, 0.12962773...   \n",
       "1  [135787.03125, 0.6292573809623718, 0.007250748...   \n",
       "2  [119975.5625, 0.25684669613838196, 0.058178655...   \n",
       "3  [64059.9609375, -0.38065868616104126, 0.129629...   \n",
       "4  [64067.2734375, -0.38060906529426575, 0.129625...   \n",
       "5  [125285.015625, 0.3764687478542328, 0.04184361...   \n",
       "6  [133699.171875, 0.5675977468490601, 0.01573685...   \n",
       "7  [64067.53125, -0.3806073069572449, 0.129625782...   \n",
       "8  [64077.52734375, -0.3805393874645233, 0.129620...   \n",
       "9  [64079.5625, -0.3805256187915802, 0.1296194791...   \n",
       "\n",
       "                  denormalized_reconstruction_errors  \\\n",
       "0  [-45373.796875, -15.01821231842041, 7.34269618...   \n",
       "1  [-41425.03125, -27.08700180053711, 16.49022293...   \n",
       "2  [-9888.5625, 1.6780997514724731, 0.59249907732...   \n",
       "3  [-22754.9609375, -12.6002836227417, 6.59087800...   \n",
       "4  [-33215.2734375, -2.4503750801086426, 0.756031...   \n",
       "5  [-22967.015625, -1.3971004486083984, 1.4551154...   \n",
       "6  [14776.828125, -1.692689299583435, 3.667139291...   \n",
       "7  [-56532.53125, 0.40738654136657715, 4.00283813...   \n",
       "8  [-38982.52734375, 1.5729354619979858, 1.209353...   \n",
       "9  [-28137.5625, -3.8135480880737305, 4.253277778...   \n",
       "\n",
       "                                             encoded  normalized_MAE  \\\n",
       "0  [0.0, 0.0, 0.022259382531046867, 0.00314655387...        5.740370   \n",
       "1  [0.310149222612381, 0.0, 0.016755089163780212,...        7.825902   \n",
       "2  [0.19951258599758148, 0.0, 0.01866228878498077...        0.673797   \n",
       "3  [0.0, 0.0, 0.022228442132472992, 0.00309095764...        5.889391   \n",
       "4  [0.0, 0.0, 0.022287406027317047, 0.00319691235...        1.088636   \n",
       "5  [0.2360287755727768, 0.0, 0.019245415925979614...        1.592211   \n",
       "6  [0.29357069730758667, 0.0, 0.02039346098899841...        2.352207   \n",
       "7  [0.0, 0.0, 0.022289488464593887, 0.00320065440...        2.529540   \n",
       "8  [0.0, 0.0, 0.022370172664523125, 0.00334563432...        0.917202   \n",
       "9  [0.0, 0.0, 0.022382868453860283, 0.00336844893...        3.434613   \n",
       "\n",
       "   normalized_MSE  normalized_MSLE  normalized_RMSE  \\\n",
       "0       61.732780         0.663433         7.857021   \n",
       "1      111.474777         0.620579        10.558162   \n",
       "2        1.155872         0.177158         1.075115   \n",
       "3       72.089226         0.675512         8.490538   \n",
       "4        2.609732         0.219071         1.615467   \n",
       "5        4.867549         0.249550         2.206252   \n",
       "6        9.864285         0.403305         3.140746   \n",
       "7       13.866784         0.458278         3.723813   \n",
       "8        1.755776         0.238906         1.325057   \n",
       "9       26.307997         0.466861         5.129132   \n",
       "\n",
       "                           normalized_reconstruction  \\\n",
       "0  [-0.6491255164146423, -0.20191915333271027, 0....   \n",
       "1  [0.860845685005188, 0.32109934091567993, 0.009...   \n",
       "2  [0.5279709696769714, 0.12822915613651276, 0.04...   \n",
       "3  [-0.649206280708313, -0.2019326388835907, 0.08...   \n",
       "4  [-0.6490523815155029, -0.2019069343805313, 0.0...   \n",
       "5  [0.6397494673728943, 0.19018100202083588, 0.03...   \n",
       "6  [0.8168907761573792, 0.28916603326797485, 0.01...   \n",
       "7  [-0.6490469574928284, -0.2019060254096985, 0.0...   \n",
       "8  [-0.6488364934921265, -0.201870858669281, 0.08...   \n",
       "9  [-0.648793637752533, -0.20186372101306915, 0.0...   \n",
       "\n",
       "                    normalized_reconstruction_errors  \\\n",
       "0  [-0.9552432894706726, -7.777879238128662, 4.47...   \n",
       "1  [-0.8721107244491577, -14.028263092041016, 10....   \n",
       "2  [-0.2081815004348755, 0.869081974029541, 0.361...   \n",
       "3  [-0.4790545701980591, -6.5256428718566895, 4.0...   \n",
       "4  [-0.699272871017456, -1.2690407037734985, 0.46...   \n",
       "5  [-0.4835188090801239, -0.7235533595085144, 0.8...   \n",
       "6  [0.3110927939414978, -0.8766378164291382, 2.23...   \n",
       "7  [-1.1901652812957764, 0.21098405122756958, 2.4...   \n",
       "8  [-0.8206894397735596, 0.8146177530288696, 0.73...   \n",
       "9  [-0.5923730731010437, -1.9750230312347412, 2.5...   \n",
       "\n",
       "                                         input_layer  \n",
       "0  [18690.0, -15.3988450085358, 7.472323896501121...  \n",
       "1  [94362.0, -26.4577446501446, 16.497471901867, ...  \n",
       "2  [110087.0, 1.9349464556154798, 0.6506777374982...  \n",
       "3  [41305.0, -12.9809425647533, 6.72050777097643,...  \n",
       "4  [30852.0, -2.83098405592803, 0.885657038258755...  \n",
       "5  [102318.0, -1.0206316658236099, 1.496959122432...  \n",
       "6  [148476.0, -1.12509160979577, 3.68287614423406...  \n",
       "7  [7535.0, 0.0267792264491516, 4.132463897130029...  \n",
       "8  [25095.0, 1.19239598990768, 1.33897371069007, ...  \n",
       "9  [35942.0, -4.19407367570647, 4.382897362444670...  "
      ]
     },
     "execution_count": 57,
     "metadata": {},
     "output_type": "execute_result"
    }
   ],
   "source": [
    "results = bq.query(f\"\"\"\n",
    "SELECT *\n",
    "FROM ML.PREDICT (MODEL `{bq_models[1]}`,(\n",
    "    SELECT features_array as input_layer\n",
    "    FROM `{BQ_PROJECT}.{BQ_DATASET}.{BQ_TABLE}`\n",
    "    WHERE splits = 'TEST' and class = 1\n",
    "    LIMIT 10)\n",
    "  )\n",
    "\"\"\").to_dataframe()\n",
    "\n",
    "results"
   ]
  },
  {
   "cell_type": "code",
   "execution_count": 58,
   "id": "d4f6aff9-0b07-4ce7-b41c-8a793c41e445",
   "metadata": {
    "tags": []
   },
   "outputs": [
    {
     "data": {
      "text/plain": [
       "{'denormalized_MAE': 1519.109619140625,\n",
       " 'denormalized_MSE': 68626136.0,\n",
       " 'denormalized_MSLE': 0.8988741040229797,\n",
       " 'denormalized_RMSE': 8284.0888671875,\n",
       " 'denormalized_reconstruction': array([ 6.40637969e+04, -3.80632639e-01,  1.29627734e-01,  7.16346085e-01,\n",
       "         6.34700134e-02, -2.42524907e-01, -1.63238764e-01, -3.76504138e-02,\n",
       "         7.85131231e-02, -1.24087527e-01, -1.22334331e-01,  6.89424127e-02,\n",
       "         1.36412308e-01, -4.08663228e-03,  2.87474059e-02,  2.39056751e-01,\n",
       "         7.79918060e-02, -1.43595506e-02, -3.97860035e-02, -1.26899183e-02,\n",
       "        -2.86139119e-02, -6.03521653e-02, -8.56110081e-02, -3.58477235e-02,\n",
       "         5.68169802e-02,  1.14095710e-01, -6.90234676e-02,  1.34296576e-02,\n",
       "         2.22326797e-02,  2.35895081e+01]),\n",
       " 'denormalized_reconstruction_errors': array([-4.53737969e+04, -1.50182123e+01,  7.34269619e+00, -1.97432594e+01,\n",
       "         1.11020555e+01, -6.65133095e+00, -1.95769787e+00, -1.48756800e+01,\n",
       "        -7.99727261e-01, -7.05100918e+00, -1.40444603e+01,  1.02088270e+01,\n",
       "        -1.51218462e+01,  3.49265873e-01, -1.46951361e+01, -5.85409284e-01,\n",
       "        -8.41123390e+00, -1.25882368e+01, -4.83689737e+00,  6.17315888e-01,\n",
       "         1.14011610e+00, -2.38453150e+00,  8.13106298e-01, -3.09230417e-01,\n",
       "        -1.03856552e+00,  8.81175637e-01,  8.85785222e-01,  2.24951267e+00,\n",
       "        -1.20029581e+00, -2.25895081e+01]),\n",
       " 'encoded': array([0.        , 0.        , 0.02225938, 0.00314655]),\n",
       " 'normalized_MAE': 5.740370273590088,\n",
       " 'normalized_MSE': 61.73278045654297,\n",
       " 'normalized_MSLE': 0.663433313369751,\n",
       " 'normalized_RMSE': 7.857020854949951,\n",
       " 'normalized_reconstruction': array([-0.64912552, -0.20191915,  0.08391456,  0.48272568,  0.05108773,\n",
       "        -0.18197998, -0.12499251, -0.03990928,  0.06793603, -0.11859212,\n",
       "        -0.12702411,  0.07585272,  0.1335272 , -0.00422728,  0.01751472,\n",
       "         0.2624242 ,  0.08316074, -0.03441797, -0.05354729, -0.01487262,\n",
       "        -0.03565569, -0.08238623, -0.11906544, -0.05771545,  0.09291505,\n",
       "         0.22033203, -0.14217448,  0.03484838,  0.06620762, -0.2552115 ]),\n",
       " 'normalized_reconstruction_errors': array([ -0.95524329,  -7.77787924,   4.4749999 , -13.51951981,\n",
       "          7.93740463,  -4.8871541 ,  -1.46896029, -12.55814266,\n",
       "         -0.68590379,  -6.47387505, -13.50879288,  10.18348217,\n",
       "        -15.977458  ,   0.35071489, -16.40078545,  -0.63981223,\n",
       "         -9.97175026, -16.88317299,  -5.87403488,   0.76054406,\n",
       "          1.46343386,  -3.32261014,   1.12374604,  -0.49705741,\n",
       "         -1.71718013,   1.69093764,   1.83563626,   5.6059866 ,\n",
       "         -3.5759778 ,  -0.088909  ]),\n",
       " 'input_layer': array([ 1.86900000e+04, -1.53988450e+01,  7.47232390e+00, -1.90269123e+01,\n",
       "         1.11655258e+01, -6.89385628e+00, -2.12093657e+00, -1.49133300e+01,\n",
       "        -7.21214094e-01, -7.17509662e+00, -1.41667947e+01,  1.02777689e+01,\n",
       "        -1.49854337e+01,  3.45179234e-01, -1.46663890e+01, -3.46352542e-01,\n",
       "        -8.33324250e+00, -1.26025965e+01, -4.87668342e+00,  6.04625911e-01,\n",
       "         1.11150221e+00, -2.44488368e+00,  7.27495341e-01, -3.45078151e-01,\n",
       "        -9.81748551e-01,  9.95271346e-01,  8.16761718e-01,  2.26294237e+00,\n",
       "        -1.17806316e+00,  1.00000000e+00])}"
      ]
     },
     "execution_count": 58,
     "metadata": {},
     "output_type": "execute_result"
    }
   ],
   "source": [
    "results.iloc[0].to_dict()"
   ]
  },
  {
   "cell_type": "markdown",
   "id": "af399edc-548b-473e-8ed0-6a446b776b3f",
   "metadata": {},
   "source": [
    "### Stacked Model - Reconstructed Feature Values\n",
    "\n",
    "This model returns the reconstructed feature values for each input feature:"
   ]
  },
  {
   "cell_type": "code",
   "execution_count": 63,
   "id": "182f1e02-997e-449f-9e0c-e35928a7c878",
   "metadata": {
    "tags": []
   },
   "outputs": [
    {
     "data": {
      "text/plain": [
       "'statmike-mlops-349915.mlops_serving.mlops-serving-bigquery-tensorflow-stacked_model'"
      ]
     },
     "execution_count": 63,
     "metadata": {},
     "output_type": "execute_result"
    }
   ],
   "source": [
    "bq_models[2]"
   ]
  },
  {
   "cell_type": "code",
   "execution_count": 64,
   "id": "d17686f4-0cd1-4730-9b7d-369ca3fdeff0",
   "metadata": {
    "tags": []
   },
   "outputs": [
    {
     "data": {
      "text/html": [
       "<div>\n",
       "<style scoped>\n",
       "    .dataframe tbody tr th:only-of-type {\n",
       "        vertical-align: middle;\n",
       "    }\n",
       "\n",
       "    .dataframe tbody tr th {\n",
       "        vertical-align: top;\n",
       "    }\n",
       "\n",
       "    .dataframe thead th {\n",
       "        text-align: right;\n",
       "    }\n",
       "</style>\n",
       "<table border=\"1\" class=\"dataframe\">\n",
       "  <thead>\n",
       "    <tr style=\"text-align: right;\">\n",
       "      <th></th>\n",
       "      <th>output_0</th>\n",
       "      <th>input_layer</th>\n",
       "    </tr>\n",
       "  </thead>\n",
       "  <tbody>\n",
       "    <tr>\n",
       "      <th>0</th>\n",
       "      <td>[64063.796875, -0.3806326389312744, 0.12962773...</td>\n",
       "      <td>[18690.0, -15.3988450085358, 7.472323896501121...</td>\n",
       "    </tr>\n",
       "    <tr>\n",
       "      <th>1</th>\n",
       "      <td>[135787.03125, 0.6292573809623718, 0.007250748...</td>\n",
       "      <td>[94362.0, -26.4577446501446, 16.497471901867, ...</td>\n",
       "    </tr>\n",
       "    <tr>\n",
       "      <th>2</th>\n",
       "      <td>[119975.5625, 0.25684669613838196, 0.058178655...</td>\n",
       "      <td>[110087.0, 1.9349464556154798, 0.6506777374982...</td>\n",
       "    </tr>\n",
       "    <tr>\n",
       "      <th>3</th>\n",
       "      <td>[64059.9609375, -0.38065868616104126, 0.129629...</td>\n",
       "      <td>[41305.0, -12.9809425647533, 6.72050777097643,...</td>\n",
       "    </tr>\n",
       "    <tr>\n",
       "      <th>4</th>\n",
       "      <td>[64067.2734375, -0.38060906529426575, 0.129625...</td>\n",
       "      <td>[30852.0, -2.83098405592803, 0.885657038258755...</td>\n",
       "    </tr>\n",
       "    <tr>\n",
       "      <th>5</th>\n",
       "      <td>[125285.015625, 0.3764687478542328, 0.04184361...</td>\n",
       "      <td>[102318.0, -1.0206316658236099, 1.496959122432...</td>\n",
       "    </tr>\n",
       "    <tr>\n",
       "      <th>6</th>\n",
       "      <td>[133699.171875, 0.5675977468490601, 0.01573685...</td>\n",
       "      <td>[148476.0, -1.12509160979577, 3.68287614423406...</td>\n",
       "    </tr>\n",
       "    <tr>\n",
       "      <th>7</th>\n",
       "      <td>[64067.53125, -0.3806073069572449, 0.129625782...</td>\n",
       "      <td>[7535.0, 0.0267792264491516, 4.132463897130029...</td>\n",
       "    </tr>\n",
       "    <tr>\n",
       "      <th>8</th>\n",
       "      <td>[64077.52734375, -0.3805393874645233, 0.129620...</td>\n",
       "      <td>[25095.0, 1.19239598990768, 1.33897371069007, ...</td>\n",
       "    </tr>\n",
       "    <tr>\n",
       "      <th>9</th>\n",
       "      <td>[64079.5625, -0.3805256187915802, 0.1296194791...</td>\n",
       "      <td>[35942.0, -4.19407367570647, 4.382897362444670...</td>\n",
       "    </tr>\n",
       "  </tbody>\n",
       "</table>\n",
       "</div>"
      ],
      "text/plain": [
       "                                            output_0  \\\n",
       "0  [64063.796875, -0.3806326389312744, 0.12962773...   \n",
       "1  [135787.03125, 0.6292573809623718, 0.007250748...   \n",
       "2  [119975.5625, 0.25684669613838196, 0.058178655...   \n",
       "3  [64059.9609375, -0.38065868616104126, 0.129629...   \n",
       "4  [64067.2734375, -0.38060906529426575, 0.129625...   \n",
       "5  [125285.015625, 0.3764687478542328, 0.04184361...   \n",
       "6  [133699.171875, 0.5675977468490601, 0.01573685...   \n",
       "7  [64067.53125, -0.3806073069572449, 0.129625782...   \n",
       "8  [64077.52734375, -0.3805393874645233, 0.129620...   \n",
       "9  [64079.5625, -0.3805256187915802, 0.1296194791...   \n",
       "\n",
       "                                         input_layer  \n",
       "0  [18690.0, -15.3988450085358, 7.472323896501121...  \n",
       "1  [94362.0, -26.4577446501446, 16.497471901867, ...  \n",
       "2  [110087.0, 1.9349464556154798, 0.6506777374982...  \n",
       "3  [41305.0, -12.9809425647533, 6.72050777097643,...  \n",
       "4  [30852.0, -2.83098405592803, 0.885657038258755...  \n",
       "5  [102318.0, -1.0206316658236099, 1.496959122432...  \n",
       "6  [148476.0, -1.12509160979577, 3.68287614423406...  \n",
       "7  [7535.0, 0.0267792264491516, 4.132463897130029...  \n",
       "8  [25095.0, 1.19239598990768, 1.33897371069007, ...  \n",
       "9  [35942.0, -4.19407367570647, 4.382897362444670...  "
      ]
     },
     "execution_count": 64,
     "metadata": {},
     "output_type": "execute_result"
    }
   ],
   "source": [
    "results = bq.query(f\"\"\"\n",
    "SELECT *\n",
    "FROM ML.PREDICT (MODEL `{bq_models[2]}`,(\n",
    "    SELECT features_array as input_layer\n",
    "    FROM `{BQ_PROJECT}.{BQ_DATASET}.{BQ_TABLE}`\n",
    "    WHERE splits = 'TEST' and class = 1\n",
    "    LIMIT 10)\n",
    "  )\n",
    "\"\"\").to_dataframe()\n",
    "\n",
    "results"
   ]
  },
  {
   "cell_type": "code",
   "execution_count": 65,
   "id": "800fc201-f6ee-4596-b98f-7f4e55e95610",
   "metadata": {
    "tags": []
   },
   "outputs": [
    {
     "data": {
      "text/plain": [
       "array([ 6.40637969e+04, -3.80632639e-01,  1.29627734e-01,  7.16346085e-01,\n",
       "        6.34700134e-02, -2.42524907e-01, -1.63238764e-01, -3.76504138e-02,\n",
       "        7.85131231e-02, -1.24087527e-01, -1.22334331e-01,  6.89424127e-02,\n",
       "        1.36412308e-01, -4.08663228e-03,  2.87474059e-02,  2.39056751e-01,\n",
       "        7.79918060e-02, -1.43595506e-02, -3.97860035e-02, -1.26899183e-02,\n",
       "       -2.86139119e-02, -6.03521653e-02, -8.56110081e-02, -3.58477235e-02,\n",
       "        5.68169802e-02,  1.14095710e-01, -6.90234676e-02,  1.34296576e-02,\n",
       "        2.22326797e-02,  2.35895081e+01])"
      ]
     },
     "execution_count": 65,
     "metadata": {},
     "output_type": "execute_result"
    }
   ],
   "source": [
    "results['output_0'][0]"
   ]
  },
  {
   "cell_type": "code",
   "execution_count": 66,
   "id": "ea826dfa-eef6-4089-9204-589b6a931edf",
   "metadata": {
    "tags": []
   },
   "outputs": [
    {
     "data": {
      "text/plain": [
       "array([ 1.86900000e+04, -1.53988450e+01,  7.47232390e+00, -1.90269123e+01,\n",
       "        1.11655258e+01, -6.89385628e+00, -2.12093657e+00, -1.49133300e+01,\n",
       "       -7.21214094e-01, -7.17509662e+00, -1.41667947e+01,  1.02777689e+01,\n",
       "       -1.49854337e+01,  3.45179234e-01, -1.46663890e+01, -3.46352542e-01,\n",
       "       -8.33324250e+00, -1.26025965e+01, -4.87668342e+00,  6.04625911e-01,\n",
       "        1.11150221e+00, -2.44488368e+00,  7.27495341e-01, -3.45078151e-01,\n",
       "       -9.81748551e-01,  9.95271346e-01,  8.16761718e-01,  2.26294237e+00,\n",
       "       -1.17806316e+00,  1.00000000e+00])"
      ]
     },
     "execution_count": 66,
     "metadata": {},
     "output_type": "execute_result"
    }
   ],
   "source": [
    "results['input_layer'][0]"
   ]
  },
  {
   "cell_type": "code",
   "execution_count": 70,
   "id": "ae2d1c2c-49bd-466c-8d45-bc7c2e65287a",
   "metadata": {
    "tags": []
   },
   "outputs": [
    {
     "data": {
      "text/html": [
       "<div>\n",
       "<style scoped>\n",
       "    .dataframe tbody tr th:only-of-type {\n",
       "        vertical-align: middle;\n",
       "    }\n",
       "\n",
       "    .dataframe tbody tr th {\n",
       "        vertical-align: top;\n",
       "    }\n",
       "\n",
       "    .dataframe thead th {\n",
       "        text-align: right;\n",
       "    }\n",
       "</style>\n",
       "<table border=\"1\" class=\"dataframe\">\n",
       "  <thead>\n",
       "    <tr style=\"text-align: right;\">\n",
       "      <th></th>\n",
       "      <th>input_layer</th>\n",
       "      <th>output</th>\n",
       "      <th>abs_difference</th>\n",
       "    </tr>\n",
       "  </thead>\n",
       "  <tbody>\n",
       "    <tr>\n",
       "      <th>0</th>\n",
       "      <td>18690.000000</td>\n",
       "      <td>64063.796875</td>\n",
       "      <td>45373.796875</td>\n",
       "    </tr>\n",
       "    <tr>\n",
       "      <th>1</th>\n",
       "      <td>-15.398845</td>\n",
       "      <td>-0.380633</td>\n",
       "      <td>15.018212</td>\n",
       "    </tr>\n",
       "    <tr>\n",
       "      <th>2</th>\n",
       "      <td>7.472324</td>\n",
       "      <td>0.129628</td>\n",
       "      <td>7.342696</td>\n",
       "    </tr>\n",
       "    <tr>\n",
       "      <th>3</th>\n",
       "      <td>-19.026912</td>\n",
       "      <td>0.716346</td>\n",
       "      <td>19.743258</td>\n",
       "    </tr>\n",
       "    <tr>\n",
       "      <th>4</th>\n",
       "      <td>11.165526</td>\n",
       "      <td>0.063470</td>\n",
       "      <td>11.102056</td>\n",
       "    </tr>\n",
       "    <tr>\n",
       "      <th>5</th>\n",
       "      <td>-6.893856</td>\n",
       "      <td>-0.242525</td>\n",
       "      <td>6.651331</td>\n",
       "    </tr>\n",
       "    <tr>\n",
       "      <th>6</th>\n",
       "      <td>-2.120937</td>\n",
       "      <td>-0.163239</td>\n",
       "      <td>1.957698</td>\n",
       "    </tr>\n",
       "    <tr>\n",
       "      <th>7</th>\n",
       "      <td>-14.913330</td>\n",
       "      <td>-0.037650</td>\n",
       "      <td>14.875680</td>\n",
       "    </tr>\n",
       "    <tr>\n",
       "      <th>8</th>\n",
       "      <td>-0.721214</td>\n",
       "      <td>0.078513</td>\n",
       "      <td>0.799727</td>\n",
       "    </tr>\n",
       "    <tr>\n",
       "      <th>9</th>\n",
       "      <td>-7.175097</td>\n",
       "      <td>-0.124088</td>\n",
       "      <td>7.051009</td>\n",
       "    </tr>\n",
       "    <tr>\n",
       "      <th>10</th>\n",
       "      <td>-14.166795</td>\n",
       "      <td>-0.122334</td>\n",
       "      <td>14.044460</td>\n",
       "    </tr>\n",
       "    <tr>\n",
       "      <th>11</th>\n",
       "      <td>10.277769</td>\n",
       "      <td>0.068942</td>\n",
       "      <td>10.208826</td>\n",
       "    </tr>\n",
       "    <tr>\n",
       "      <th>12</th>\n",
       "      <td>-14.985434</td>\n",
       "      <td>0.136412</td>\n",
       "      <td>15.121846</td>\n",
       "    </tr>\n",
       "    <tr>\n",
       "      <th>13</th>\n",
       "      <td>0.345179</td>\n",
       "      <td>-0.004087</td>\n",
       "      <td>0.349266</td>\n",
       "    </tr>\n",
       "    <tr>\n",
       "      <th>14</th>\n",
       "      <td>-14.666389</td>\n",
       "      <td>0.028747</td>\n",
       "      <td>14.695136</td>\n",
       "    </tr>\n",
       "    <tr>\n",
       "      <th>15</th>\n",
       "      <td>-0.346353</td>\n",
       "      <td>0.239057</td>\n",
       "      <td>0.585409</td>\n",
       "    </tr>\n",
       "    <tr>\n",
       "      <th>16</th>\n",
       "      <td>-8.333242</td>\n",
       "      <td>0.077992</td>\n",
       "      <td>8.411234</td>\n",
       "    </tr>\n",
       "    <tr>\n",
       "      <th>17</th>\n",
       "      <td>-12.602596</td>\n",
       "      <td>-0.014360</td>\n",
       "      <td>12.588237</td>\n",
       "    </tr>\n",
       "    <tr>\n",
       "      <th>18</th>\n",
       "      <td>-4.876683</td>\n",
       "      <td>-0.039786</td>\n",
       "      <td>4.836897</td>\n",
       "    </tr>\n",
       "    <tr>\n",
       "      <th>19</th>\n",
       "      <td>0.604626</td>\n",
       "      <td>-0.012690</td>\n",
       "      <td>0.617316</td>\n",
       "    </tr>\n",
       "    <tr>\n",
       "      <th>20</th>\n",
       "      <td>1.111502</td>\n",
       "      <td>-0.028614</td>\n",
       "      <td>1.140116</td>\n",
       "    </tr>\n",
       "    <tr>\n",
       "      <th>21</th>\n",
       "      <td>-2.444884</td>\n",
       "      <td>-0.060352</td>\n",
       "      <td>2.384532</td>\n",
       "    </tr>\n",
       "    <tr>\n",
       "      <th>22</th>\n",
       "      <td>0.727495</td>\n",
       "      <td>-0.085611</td>\n",
       "      <td>0.813106</td>\n",
       "    </tr>\n",
       "    <tr>\n",
       "      <th>23</th>\n",
       "      <td>-0.345078</td>\n",
       "      <td>-0.035848</td>\n",
       "      <td>0.309230</td>\n",
       "    </tr>\n",
       "    <tr>\n",
       "      <th>24</th>\n",
       "      <td>-0.981749</td>\n",
       "      <td>0.056817</td>\n",
       "      <td>1.038566</td>\n",
       "    </tr>\n",
       "    <tr>\n",
       "      <th>25</th>\n",
       "      <td>0.995271</td>\n",
       "      <td>0.114096</td>\n",
       "      <td>0.881176</td>\n",
       "    </tr>\n",
       "    <tr>\n",
       "      <th>26</th>\n",
       "      <td>0.816762</td>\n",
       "      <td>-0.069023</td>\n",
       "      <td>0.885785</td>\n",
       "    </tr>\n",
       "    <tr>\n",
       "      <th>27</th>\n",
       "      <td>2.262942</td>\n",
       "      <td>0.013430</td>\n",
       "      <td>2.249513</td>\n",
       "    </tr>\n",
       "    <tr>\n",
       "      <th>28</th>\n",
       "      <td>-1.178063</td>\n",
       "      <td>0.022233</td>\n",
       "      <td>1.200296</td>\n",
       "    </tr>\n",
       "    <tr>\n",
       "      <th>29</th>\n",
       "      <td>1.000000</td>\n",
       "      <td>23.589508</td>\n",
       "      <td>22.589508</td>\n",
       "    </tr>\n",
       "  </tbody>\n",
       "</table>\n",
       "</div>"
      ],
      "text/plain": [
       "     input_layer        output  abs_difference\n",
       "0   18690.000000  64063.796875    45373.796875\n",
       "1     -15.398845     -0.380633       15.018212\n",
       "2       7.472324      0.129628        7.342696\n",
       "3     -19.026912      0.716346       19.743258\n",
       "4      11.165526      0.063470       11.102056\n",
       "5      -6.893856     -0.242525        6.651331\n",
       "6      -2.120937     -0.163239        1.957698\n",
       "7     -14.913330     -0.037650       14.875680\n",
       "8      -0.721214      0.078513        0.799727\n",
       "9      -7.175097     -0.124088        7.051009\n",
       "10    -14.166795     -0.122334       14.044460\n",
       "11     10.277769      0.068942       10.208826\n",
       "12    -14.985434      0.136412       15.121846\n",
       "13      0.345179     -0.004087        0.349266\n",
       "14    -14.666389      0.028747       14.695136\n",
       "15     -0.346353      0.239057        0.585409\n",
       "16     -8.333242      0.077992        8.411234\n",
       "17    -12.602596     -0.014360       12.588237\n",
       "18     -4.876683     -0.039786        4.836897\n",
       "19      0.604626     -0.012690        0.617316\n",
       "20      1.111502     -0.028614        1.140116\n",
       "21     -2.444884     -0.060352        2.384532\n",
       "22      0.727495     -0.085611        0.813106\n",
       "23     -0.345078     -0.035848        0.309230\n",
       "24     -0.981749      0.056817        1.038566\n",
       "25      0.995271      0.114096        0.881176\n",
       "26      0.816762     -0.069023        0.885785\n",
       "27      2.262942      0.013430        2.249513\n",
       "28     -1.178063      0.022233        1.200296\n",
       "29      1.000000     23.589508       22.589508"
      ]
     },
     "execution_count": 70,
     "metadata": {},
     "output_type": "execute_result"
    }
   ],
   "source": [
    "pd.DataFrame(\n",
    "    {\n",
    "        'input_layer': results['input_layer'][0],\n",
    "        'output': results['output_0'][0],\n",
    "        'abs_difference': np.abs(results['input_layer'][0] - results['output_0'][0])\n",
    "    }\n",
    ")"
   ]
  },
  {
   "cell_type": "code",
   "execution_count": null,
   "id": "22306a61-ffd0-4e6c-8028-6967b08f7163",
   "metadata": {},
   "outputs": [],
   "source": []
  }
 ],
 "metadata": {
  "environment": {
   "kernel": "conda-base-py",
   "name": "workbench-notebooks.m125",
   "type": "gcloud",
   "uri": "us-docker.pkg.dev/deeplearning-platform-release/gcr.io/workbench-notebooks:m125"
  },
  "kernelspec": {
   "display_name": "Python 3 (ipykernel) (Local)",
   "language": "python",
   "name": "conda-base-py"
  },
  "language_info": {
   "codemirror_mode": {
    "name": "ipython",
    "version": 3
   },
   "file_extension": ".py",
   "mimetype": "text/x-python",
   "name": "python",
   "nbconvert_exporter": "python",
   "pygments_lexer": "ipython3",
   "version": "3.10.15"
  }
 },
 "nbformat": 4,
 "nbformat_minor": 5
}
