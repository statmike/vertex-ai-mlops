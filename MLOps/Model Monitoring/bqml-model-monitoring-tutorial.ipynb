{
 "cells": [
  {
   "cell_type": "markdown",
   "metadata": {},
   "source": [
    "![tracker](https://us-central1-vertex-ai-mlops-369716.cloudfunctions.net/pixel-tracking?path=statmike%2Fvertex-ai-mlops%2FMLOps%2FModel+Monitoring&file=bqml-model-monitoring-tutorial.ipynb)\n",
    "<!--- header table --->\n",
    "<table align=\"left\">\n",
    "  <td style=\"text-align: center\">\n",
    "    <a href=\"https://colab.research.google.com/github/statmike/vertex-ai-mlops/blob/main/MLOps/Model%20Monitoring/bqml-model-monitoring-tutorial.ipynb\">\n",
    "      <img src=\"https://cloud.google.com/ml-engine/images/colab-logo-32px.png\" alt=\"Google Colaboratory logo\">\n",
    "      <br>Run in<br>Colab\n",
    "    </a>\n",
    "  </td>\n",
    "  <td style=\"text-align: center\">\n",
    "    <a href=\"https://console.cloud.google.com/vertex-ai/colab/import/https%3A%2F%2Fraw.githubusercontent.com%2Fstatmike%2Fvertex-ai-mlops%2Fmain%2FMLOps%2FModel%2520Monitoring%2Fbqml-model-monitoring-tutorial.ipynb\">\n",
    "      <img width=\"32px\" src=\"https://lh3.googleusercontent.com/JmcxdQi-qOpctIvWKgPtrzZdJJK-J3sWE1RsfjZNwshCFgE_9fULcNpuXYTilIR2hjwN\" alt=\"Google Cloud Colab Enterprise logo\">\n",
    "      <br>Run in<br>Colab Enterprise\n",
    "    </a>\n",
    "  </td>      \n",
    "  <td style=\"text-align: center\">\n",
    "    <a href=\"https://github.com/statmike/vertex-ai-mlops/blob/main/MLOps/Model%20Monitoring/bqml-model-monitoring-tutorial.ipynb\">\n",
    "      <img src=\"https://cloud.google.com/ml-engine/images/github-logo-32px.png\" alt=\"GitHub logo\">\n",
    "      <br>View on<br>GitHub\n",
    "    </a>\n",
    "  </td>\n",
    "  <td style=\"text-align: center\">\n",
    "    <a href=\"https://console.cloud.google.com/vertex-ai/workbench/deploy-notebook?download_url=https://raw.githubusercontent.com/statmike/vertex-ai-mlops/main/MLOps/Model%20Monitoring/bqml-model-monitoring-tutorial.ipynb\">\n",
    "      <img src=\"https://lh3.googleusercontent.com/UiNooY4LUgW_oTvpsNhPpQzsstV5W8F7rYgxgGBD85cWJoLmrOzhVs_ksK_vgx40SHs7jCqkTkCk=e14-rj-sc0xffffff-h130-w32\" alt=\"Vertex AI logo\">\n",
    "      <br>Open in<br>Vertex AI Workbench\n",
    "    </a>\n",
    "  </td>\n",
    "</table>"
   ]
  },
  {
   "cell_type": "markdown",
   "metadata": {
    "id": "jwgBsT4ZeFWn"
   },
   "source": [
    "# BigQuery ML (BQML) - Model Monitoring Tutorial \n",
    "---\n",
    "**UPDATES:**\n",
    "- **Now With Vertex AI Model Monitoring Integration For [Monitoring visualization](https://cloud.google.com/bigquery/docs/model-monitoring-overview#monitoring_visualization)** - March 2025\n",
    "---\n",
    "\n",
    "This notebook provides an in-depth look at model monitoring with BigQuery ML that accompanies the [blog announcing these features](https://cloud.google.com/blog/products/data-analytics/monitor-ml-model-skew-and-drift-in-bigquery). It complements the introductory notebook, ['BigQuery ML (BQML) - Model Monitoring Introduction'](./bqml-model-monitoring-introduction.ipynb), and delves deeper into various monitoring techniques and tools.\n",
    "\n",
    "**Key Areas Covered:**\n",
    "\n",
    "* **Data Preparation and Understanding:**\n",
    "    * Employing `ML.DESCRIBE_DATA` to analyze feature distributions and identify potential data quality issues.\n",
    "    * Splitting data into training, evaluation, and test sets while preserving data balance.\n",
    "* **Model Training and Evaluation:**\n",
    "    * Training a random forest model using `CREATE MODEL` with the `TRANSFORM` clause for incorporating feature engineering.\n",
    "    * Evaluating model performance using `ML.EVALUATE` and `ML.CONFUSION_MATRIX` on different data splits.\n",
    "* **Model Serving and Data Drift Simulation:**\n",
    "    * Generating predictions with `ML.PREDICT` and simulating data drift over time to represent real-world scenarios.\n",
    "* **Model Monitoring Techniques:**\n",
    "    * Implementing `ML.VALIDATE_DATA_SKEW` to detect changes between training and serving data distributions.\n",
    "    * Using `ML.VALIDATE_DATA_DRIFT` to identify gradual shifts in the serving data distribution over time.\n",
    "    * Understanding the metrics used for monitoring: L-infinity distance and Jensen-Shannon divergence.\n",
    "* **TensorFlow Data Validation (TFDV) Integration:**\n",
    "    * Leveraging `ML.TFDV_DESCRIBE` and `ML.TFDV_VALIDATE` to generate descriptive statistics and detect anomalies.\n",
    "    * Visualizing feature distributions using `tfdv.visualize_statistics` for comparative analysis.\n",
    "* **Monitoring Feature Attributions and Drift:**\n",
    "    * Employing `ML.EXPLAIN_PREDICT` to obtain feature attributions and understand feature importance for predictions.\n",
    "    * Monitoring drift in feature attributions over time to gain insights into model behavior changes. \n",
    "* **Continuous Monitoring and Automation:**\n",
    "    * Building a BigQuery SQL job using procedural language to automate skew and drift detection.\n",
    "    * Incorporating alerting mechanisms and model retraining when anomalies are detected.\n",
    "    * Discussing options for automating monitoring jobs:\n",
    "        * BigQuery Scheduled Queries\n",
    "        * Dataform\n",
    "        * Workflows\n",
    "        * Cloud Composer\n",
    "        * Vertex AI Pipelines\n",
    "* **Model Monitoring for Online Inference with Vertex AI:**\n",
    "    * Deploying the trained BigQuery ML model to Vertex AI for online predictions. \n",
    "    * Enabling request-response logging to BigQuery for continuous monitoring of online predictions.\n",
    "\n",
    "**Target Audience:**\n",
    "\n",
    "This tutorial is designed for data scientists, machine learning engineers, and individuals with a basic understanding of BigQuery, SQL, and machine learning concepts who want to delve deeper into model monitoring with BigQuery ML. \n"
   ]
  },
  {
   "cell_type": "markdown",
   "metadata": {
    "id": "J_-1oCZ7oQe_"
   },
   "source": [
    "---\n",
    "## Colab Setup\n",
    "\n",
    "When running this notebook in [Colab](https://colab.google/) or [Colab Enterprise](https://cloud.google.com/colab/docs/introduction), this section will authenticate to GCP (follow prompts in the popup) and set the current project for the session."
   ]
  },
  {
   "cell_type": "code",
   "execution_count": 1,
   "metadata": {
    "executionInfo": {
     "elapsed": 178,
     "status": "ok",
     "timestamp": 1710716382256,
     "user": {
      "displayName": "Mike Henderson",
      "userId": "07691629187611687318"
     },
     "user_tz": 240
    },
    "id": "bUeb3Vz9c-cz",
    "tags": []
   },
   "outputs": [],
   "source": [
    "PROJECT_ID = 'statmike-mlops-349915' # replace with project ID"
   ]
  },
  {
   "cell_type": "code",
   "execution_count": 2,
   "metadata": {
    "colab": {
     "base_uri": "https://localhost:8080/"
    },
    "executionInfo": {
     "elapsed": 1769,
     "status": "ok",
     "timestamp": 1710716384851,
     "user": {
      "displayName": "Mike Henderson",
      "userId": "07691629187611687318"
     },
     "user_tz": 240
    },
    "id": "ztC0h14fc-fr",
    "outputId": "16d1144f-1671-4919-edba-31bc197ffc7b",
    "tags": []
   },
   "outputs": [
    {
     "name": "stdout",
     "output_type": "stream",
     "text": [
      "Not a Colab Environment\n"
     ]
    }
   ],
   "source": [
    "try:\n",
    "    from google.colab import auth\n",
    "    auth.authenticate_user(project_id = PROJECT_ID)\n",
    "    print('Colab authorized to GCP')\n",
    "except Exception:\n",
    "    print('Not a Colab Environment')\n",
    "    pass"
   ]
  },
  {
   "cell_type": "markdown",
   "metadata": {},
   "source": [
    "---\n",
    "## Installs\n",
    "\n",
    "The list `packages` contains tuples of package import names and install names.  If the import name is not found then the install name is used to install quitely for the current user."
   ]
  },
  {
   "cell_type": "code",
   "execution_count": 3,
   "metadata": {
    "tags": []
   },
   "outputs": [],
   "source": [
    "# tuples of (import name, install name, min_version)\n",
    "packages = [\n",
    "    ('tensorflow_data_validation', 'tensorflow-data-validation'),\n",
    "    ('tensorflow_metadata', 'tensorflow-metadata'),\n",
    "    ('google.cloud.aiplatform', 'google-cloud-aiplatform'),\n",
    "    ('google.cloud.bigquery', 'google-cloud-bigquery'),\n",
    "    ('google.cloud.bigquery_datatransfer', 'google-cloud-bigquery-datatransfer'),\n",
    "    ('numpy', 'numpy'),\n",
    "    ('pandas', 'pandas')\n",
    "]\n",
    "\n",
    "import importlib\n",
    "install = False\n",
    "for package in packages:\n",
    "    if not importlib.util.find_spec(package[0]):\n",
    "        print(f'installing package {package[1]}')\n",
    "        install = True\n",
    "        !pip install {package[1]} -U -q --user\n",
    "    elif len(package) == 3:\n",
    "        if importlib.metadata.version(package[0]) < package[2]:\n",
    "            print(f'updating package {package[1]}')\n",
    "            install = True\n",
    "            !pip install {package[1]} -U -q --user"
   ]
  },
  {
   "cell_type": "markdown",
   "metadata": {},
   "source": [
    "### API Enablement"
   ]
  },
  {
   "cell_type": "code",
   "execution_count": 4,
   "metadata": {
    "tags": []
   },
   "outputs": [],
   "source": [
    "!gcloud services enable aiplatform.googleapis.com"
   ]
  },
  {
   "cell_type": "markdown",
   "metadata": {},
   "source": [
    "### Restart Kernel (If Installs Occured)\n",
    "After a kernel restart the code submission can start with the next cell after this one."
   ]
  },
  {
   "cell_type": "code",
   "execution_count": 5,
   "metadata": {
    "tags": []
   },
   "outputs": [],
   "source": [
    "if install:\n",
    "    import IPython\n",
    "    app = IPython.Application.instance()\n",
    "    app.kernel.do_shutdown(True)\n",
    "    IPython.display.display(IPython.display.Markdown(\"\"\"<div class=\\\"alert alert-block alert-warning\\\">\n",
    "        <b>⚠️ The kernel is going to restart. Please wait until it is finished before continuing to the next step. The previous cells do not need to be run again⚠️</b>\n",
    "        </div>\"\"\"))"
   ]
  },
  {
   "cell_type": "markdown",
   "metadata": {
    "id": "yt5uZFvRoWLp"
   },
   "source": [
    "---\n",
    "## Setup"
   ]
  },
  {
   "cell_type": "markdown",
   "metadata": {},
   "source": [
    "Packages:"
   ]
  },
  {
   "cell_type": "code",
   "execution_count": 6,
   "metadata": {
    "tags": []
   },
   "outputs": [],
   "source": [
    "import json\n",
    "\n",
    "from IPython.display import Image, display, HTML"
   ]
  },
  {
   "cell_type": "markdown",
   "metadata": {},
   "source": [
    "Clients:"
   ]
  },
  {
   "cell_type": "code",
   "execution_count": 7,
   "metadata": {
    "colab": {
     "base_uri": "https://localhost:8080/"
    },
    "executionInfo": {
     "elapsed": 159,
     "status": "ok",
     "timestamp": 1710716582376,
     "user": {
      "displayName": "Mike Henderson",
      "userId": "07691629187611687318"
     },
     "user_tz": 240
    },
    "id": "14nUE43Oc-ip",
    "outputId": "55b2c2b1-b6ad-42cc-b3cc-d6e3afcaa071",
    "tags": []
   },
   "outputs": [
    {
     "name": "stdout",
     "output_type": "stream",
     "text": [
      "The google.cloud.bigquery extension is already loaded. To reload it, use:\n",
      "  %reload_ext google.cloud.bigquery\n"
     ]
    }
   ],
   "source": [
    "%load_ext google.cloud.bigquery"
   ]
  },
  {
   "cell_type": "markdown",
   "metadata": {},
   "source": [
    "Prepare the code below for your environment.\n",
    "\n",
    "This notebook takes advantage of the [BigQuery IPython magic](https://cloud.google.com/python/docs/reference/bigquery/latest/magics) for legibility and ease of copy/pasting to BigQuery SQL editor.  If this notebook is being used from an environment that can run notebooks it needs further preparation: Colab, Colab Enterprise, Vertex AI Workbench Instances, or BigQuery Studio with a Python Notebook.  The SQL code in these cells uses the fully qualified [BigQuery table](https://cloud.google.com/bigquery/docs/tables-intro) names in the form `projectname.datasetname.tablename`.  Prepare for your environment by:\n",
    "- Edit > Find\n",
    "    - Find: `statmike-mlops-349915`\n",
    "    - Replace: `<your project id>`\n",
    "    - Replace All"
   ]
  },
  {
   "cell_type": "markdown",
   "metadata": {},
   "source": [
    "---\n",
    "## BigQuery Source Data\n",
    "\n",
    "This project will uses the following data source as a tutorial.  It is good for examples like this because it is small, has few columns, but contains categorial and numerical data types.\n",
    "\n",
    "The source table is a BigQuery Public Dataset table.  The following cell uses the [BigQuery IPython magic](https://cloud.google.com/python/docs/reference/bigquery/latest/magics) to retrieve 5 rows of the table for review.  This data is known as [Palmer Penguins](https://allisonhorst.github.io/palmerpenguins/) data: \n",
    "\n",
    "```\n",
    "@Manual{,\n",
    "  title = {palmerpenguins: Palmer Archipelago (Antarctica) penguin data},\n",
    "  author = {Allison Marie Horst and Alison Presmanes Hill and Kristen B Gorman},\n",
    "  year = {2020},\n",
    "  note = {R package version 0.1.0},\n",
    "  doi = {10.5281/zenodo.3960218},\n",
    "  url = {https://allisonhorst.github.io/palmerpenguins/},\n",
    "}\n",
    "```\n",
    "\n",
    "\n",
    "There are 334 observations of 4 numerical features (culman length, culmen depth, flipper length, body mass) and 2  categorical features (island, sex) that represent 3 species of penguins."
   ]
  },
  {
   "cell_type": "code",
   "execution_count": 8,
   "metadata": {
    "tags": []
   },
   "outputs": [
    {
     "data": {
      "application/vnd.jupyter.widget-view+json": {
       "model_id": "79dac204635b44d5a47dc95311bda848",
       "version_major": 2,
       "version_minor": 0
      },
      "text/plain": [
       "Query is running:   0%|          |"
      ]
     },
     "metadata": {},
     "output_type": "display_data"
    },
    {
     "data": {
      "application/vnd.jupyter.widget-view+json": {
       "model_id": "efa00d12d793402fa95d0e9f36049e7b",
       "version_major": 2,
       "version_minor": 0
      },
      "text/plain": [
       "Downloading:   0%|          |"
      ]
     },
     "metadata": {},
     "output_type": "display_data"
    },
    {
     "data": {
      "text/html": [
       "<div>\n",
       "<style scoped>\n",
       "    .dataframe tbody tr th:only-of-type {\n",
       "        vertical-align: middle;\n",
       "    }\n",
       "\n",
       "    .dataframe tbody tr th {\n",
       "        vertical-align: top;\n",
       "    }\n",
       "\n",
       "    .dataframe thead th {\n",
       "        text-align: right;\n",
       "    }\n",
       "</style>\n",
       "<table border=\"1\" class=\"dataframe\">\n",
       "  <thead>\n",
       "    <tr style=\"text-align: right;\">\n",
       "      <th></th>\n",
       "      <th>species</th>\n",
       "      <th>island</th>\n",
       "      <th>culmen_length_mm</th>\n",
       "      <th>culmen_depth_mm</th>\n",
       "      <th>flipper_length_mm</th>\n",
       "      <th>body_mass_g</th>\n",
       "      <th>sex</th>\n",
       "    </tr>\n",
       "  </thead>\n",
       "  <tbody>\n",
       "    <tr>\n",
       "      <th>0</th>\n",
       "      <td>Adelie Penguin (Pygoscelis adeliae)</td>\n",
       "      <td>Dream</td>\n",
       "      <td>36.6</td>\n",
       "      <td>18.4</td>\n",
       "      <td>184.0</td>\n",
       "      <td>3475.0</td>\n",
       "      <td>FEMALE</td>\n",
       "    </tr>\n",
       "    <tr>\n",
       "      <th>1</th>\n",
       "      <td>Adelie Penguin (Pygoscelis adeliae)</td>\n",
       "      <td>Dream</td>\n",
       "      <td>39.8</td>\n",
       "      <td>19.1</td>\n",
       "      <td>184.0</td>\n",
       "      <td>4650.0</td>\n",
       "      <td>MALE</td>\n",
       "    </tr>\n",
       "    <tr>\n",
       "      <th>2</th>\n",
       "      <td>Adelie Penguin (Pygoscelis adeliae)</td>\n",
       "      <td>Dream</td>\n",
       "      <td>40.9</td>\n",
       "      <td>18.9</td>\n",
       "      <td>184.0</td>\n",
       "      <td>3900.0</td>\n",
       "      <td>MALE</td>\n",
       "    </tr>\n",
       "    <tr>\n",
       "      <th>3</th>\n",
       "      <td>Chinstrap penguin (Pygoscelis antarctica)</td>\n",
       "      <td>Dream</td>\n",
       "      <td>46.5</td>\n",
       "      <td>17.9</td>\n",
       "      <td>192.0</td>\n",
       "      <td>3500.0</td>\n",
       "      <td>FEMALE</td>\n",
       "    </tr>\n",
       "    <tr>\n",
       "      <th>4</th>\n",
       "      <td>Adelie Penguin (Pygoscelis adeliae)</td>\n",
       "      <td>Dream</td>\n",
       "      <td>37.3</td>\n",
       "      <td>16.8</td>\n",
       "      <td>192.0</td>\n",
       "      <td>3000.0</td>\n",
       "      <td>FEMALE</td>\n",
       "    </tr>\n",
       "  </tbody>\n",
       "</table>\n",
       "</div>"
      ],
      "text/plain": [
       "                                     species island  culmen_length_mm  \\\n",
       "0        Adelie Penguin (Pygoscelis adeliae)  Dream              36.6   \n",
       "1        Adelie Penguin (Pygoscelis adeliae)  Dream              39.8   \n",
       "2        Adelie Penguin (Pygoscelis adeliae)  Dream              40.9   \n",
       "3  Chinstrap penguin (Pygoscelis antarctica)  Dream              46.5   \n",
       "4        Adelie Penguin (Pygoscelis adeliae)  Dream              37.3   \n",
       "\n",
       "   culmen_depth_mm  flipper_length_mm  body_mass_g     sex  \n",
       "0             18.4              184.0       3475.0  FEMALE  \n",
       "1             19.1              184.0       4650.0    MALE  \n",
       "2             18.9              184.0       3900.0    MALE  \n",
       "3             17.9              192.0       3500.0  FEMALE  \n",
       "4             16.8              192.0       3000.0  FEMALE  "
      ]
     },
     "execution_count": 8,
     "metadata": {},
     "output_type": "execute_result"
    }
   ],
   "source": [
    "%%bigquery\n",
    "SELECT *\n",
    "FROM `bigquery-public-data.ml_datasets.penguins`\n",
    "LIMIT 5"
   ]
  },
  {
   "cell_type": "markdown",
   "metadata": {},
   "source": [
    "---\n",
    "## **Goal: Train, Serve, And Monitor A Model**\n",
    "\n",
    "**Train A Model**\n",
    "\n",
    "In this workflow our goal is to train and operationalize a machine leanring model that can classify unidentified penguins into the correct `species` using only measurements (`culmen_length_mm`, `culmen_depth_mm`, `flipper_length_mm`, `body_mass_g`), location (`island`) and gender (`sex`).  That means serving predictions, monitoring features, and potentially retraining the model.\n",
    "\n",
    "**Operationalize The Model**\n",
    "\n",
    "Taking a trained model to production introduces challenges. The model needs to be regularly evaluated to understand it's performance once put into production. This can be challenging as actual values used to assess the accuracy of predictions may arrive later than the predictions. Continuous monitoring bridges this gap with early signals in two key ways. First, monitoring the distributions of each of the models features for shift (called **skew**) from the training data to the current data. Then, also monitoring for any gradual **drift** in the distribution over time. Setting thresholds and getting alerts for features on each of this distribution changes gives early signals that the model needs to be carefully considered for evaluation and re-training to ensure effectiveness. If the evaluation can be automated then this can even extend to **continuous training**. "
   ]
  },
  {
   "cell_type": "markdown",
   "metadata": {},
   "source": [
    "---\n",
    "## Data Preparation"
   ]
  },
  {
   "cell_type": "markdown",
   "metadata": {
    "tags": []
   },
   "source": [
    "### Understand The Data Source With `ML.DESCRIBE_DATA`\n",
    "\n",
    "Reviewing a few records, like above, gives a good sense of how the data is arranged. Before proceeding with machine learning techniques it is important to understand more about these raw columns.  Are they ready to use a features in a model or is some form of feature engineering needed first?  For this, the distribution of values is an important starting point.  \n",
    "\n",
    "While SQL could be used to look at the distribution, it would be a time consuming process and requires different techniques for different data types like numerical, string, boolean, dates, times, array and struct version of these, and arrays of structs.\n",
    "\n",
    "To make this process fast and simple, the new [`ML.DESCRIBE_DATA`](https://cloud.google.com/bigquery/docs/reference/standard-sql/bigqueryml-syntax-describe-data)\n",
    "\n",
    "function is used to get a single row for each column the describes the data distribution:"
   ]
  },
  {
   "cell_type": "code",
   "execution_count": 9,
   "metadata": {
    "tags": []
   },
   "outputs": [
    {
     "data": {
      "application/vnd.jupyter.widget-view+json": {
       "model_id": "50425c9a0e9747e3ac8b32b600b332b4",
       "version_major": 2,
       "version_minor": 0
      },
      "text/plain": [
       "Query is running:   0%|          |"
      ]
     },
     "metadata": {},
     "output_type": "display_data"
    },
    {
     "data": {
      "application/vnd.jupyter.widget-view+json": {
       "model_id": "f75a400f210d4b0d814b0f2bedf41f38",
       "version_major": 2,
       "version_minor": 0
      },
      "text/plain": [
       "Downloading:   0%|          |"
      ]
     },
     "metadata": {},
     "output_type": "display_data"
    },
    {
     "data": {
      "text/html": [
       "<div>\n",
       "<style scoped>\n",
       "    .dataframe tbody tr th:only-of-type {\n",
       "        vertical-align: middle;\n",
       "    }\n",
       "\n",
       "    .dataframe tbody tr th {\n",
       "        vertical-align: top;\n",
       "    }\n",
       "\n",
       "    .dataframe thead th {\n",
       "        text-align: right;\n",
       "    }\n",
       "</style>\n",
       "<table border=\"1\" class=\"dataframe\">\n",
       "  <thead>\n",
       "    <tr style=\"text-align: right;\">\n",
       "      <th></th>\n",
       "      <th>name</th>\n",
       "      <th>num_rows</th>\n",
       "      <th>num_nulls</th>\n",
       "      <th>num_zeros</th>\n",
       "      <th>min</th>\n",
       "      <th>max</th>\n",
       "      <th>mean</th>\n",
       "      <th>stddev</th>\n",
       "      <th>median</th>\n",
       "      <th>quantiles</th>\n",
       "      <th>unique</th>\n",
       "      <th>avg_string_length</th>\n",
       "      <th>num_values</th>\n",
       "      <th>top_values</th>\n",
       "      <th>min_array_length</th>\n",
       "      <th>max_array_length</th>\n",
       "      <th>avg_array_length</th>\n",
       "      <th>total_array_length</th>\n",
       "      <th>array_length_quantiles</th>\n",
       "      <th>dimension</th>\n",
       "    </tr>\n",
       "  </thead>\n",
       "  <tbody>\n",
       "    <tr>\n",
       "      <th>0</th>\n",
       "      <td>body_mass_g</td>\n",
       "      <td>344</td>\n",
       "      <td>2</td>\n",
       "      <td>0</td>\n",
       "      <td>2700</td>\n",
       "      <td>6300</td>\n",
       "      <td>4201.754386</td>\n",
       "      <td>800.781229</td>\n",
       "      <td>4050.0</td>\n",
       "      <td>[2700.0, 4050.0, 6300.0]</td>\n",
       "      <td>&lt;NA&gt;</td>\n",
       "      <td>NaN</td>\n",
       "      <td>342</td>\n",
       "      <td>[]</td>\n",
       "      <td>&lt;NA&gt;</td>\n",
       "      <td>&lt;NA&gt;</td>\n",
       "      <td>NaN</td>\n",
       "      <td>&lt;NA&gt;</td>\n",
       "      <td>[]</td>\n",
       "      <td>&lt;NA&gt;</td>\n",
       "    </tr>\n",
       "    <tr>\n",
       "      <th>1</th>\n",
       "      <td>culmen_depth_mm</td>\n",
       "      <td>344</td>\n",
       "      <td>2</td>\n",
       "      <td>0</td>\n",
       "      <td>13.1</td>\n",
       "      <td>21.5</td>\n",
       "      <td>17.151170</td>\n",
       "      <td>1.971904</td>\n",
       "      <td>17.3</td>\n",
       "      <td>[13.1, 17.3, 21.5]</td>\n",
       "      <td>&lt;NA&gt;</td>\n",
       "      <td>NaN</td>\n",
       "      <td>342</td>\n",
       "      <td>[]</td>\n",
       "      <td>&lt;NA&gt;</td>\n",
       "      <td>&lt;NA&gt;</td>\n",
       "      <td>NaN</td>\n",
       "      <td>&lt;NA&gt;</td>\n",
       "      <td>[]</td>\n",
       "      <td>&lt;NA&gt;</td>\n",
       "    </tr>\n",
       "    <tr>\n",
       "      <th>2</th>\n",
       "      <td>culmen_length_mm</td>\n",
       "      <td>344</td>\n",
       "      <td>2</td>\n",
       "      <td>0</td>\n",
       "      <td>32.1</td>\n",
       "      <td>59.6</td>\n",
       "      <td>43.921930</td>\n",
       "      <td>5.451596</td>\n",
       "      <td>44.1</td>\n",
       "      <td>[32.1, 44.1, 59.6]</td>\n",
       "      <td>&lt;NA&gt;</td>\n",
       "      <td>NaN</td>\n",
       "      <td>342</td>\n",
       "      <td>[]</td>\n",
       "      <td>&lt;NA&gt;</td>\n",
       "      <td>&lt;NA&gt;</td>\n",
       "      <td>NaN</td>\n",
       "      <td>&lt;NA&gt;</td>\n",
       "      <td>[]</td>\n",
       "      <td>&lt;NA&gt;</td>\n",
       "    </tr>\n",
       "    <tr>\n",
       "      <th>3</th>\n",
       "      <td>flipper_length_mm</td>\n",
       "      <td>344</td>\n",
       "      <td>2</td>\n",
       "      <td>0</td>\n",
       "      <td>172</td>\n",
       "      <td>231</td>\n",
       "      <td>200.915205</td>\n",
       "      <td>14.041141</td>\n",
       "      <td>197.0</td>\n",
       "      <td>[172.0, 197.0, 231.0]</td>\n",
       "      <td>&lt;NA&gt;</td>\n",
       "      <td>NaN</td>\n",
       "      <td>342</td>\n",
       "      <td>[]</td>\n",
       "      <td>&lt;NA&gt;</td>\n",
       "      <td>&lt;NA&gt;</td>\n",
       "      <td>NaN</td>\n",
       "      <td>&lt;NA&gt;</td>\n",
       "      <td>[]</td>\n",
       "      <td>&lt;NA&gt;</td>\n",
       "    </tr>\n",
       "    <tr>\n",
       "      <th>4</th>\n",
       "      <td>island</td>\n",
       "      <td>344</td>\n",
       "      <td>0</td>\n",
       "      <td>&lt;NA&gt;</td>\n",
       "      <td>Biscoe</td>\n",
       "      <td>Torgersen</td>\n",
       "      <td>NaN</td>\n",
       "      <td>NaN</td>\n",
       "      <td>NaN</td>\n",
       "      <td>[]</td>\n",
       "      <td>3</td>\n",
       "      <td>6.093023</td>\n",
       "      <td>344</td>\n",
       "      <td>[{'value': 'Biscoe', 'count': 168}]</td>\n",
       "      <td>&lt;NA&gt;</td>\n",
       "      <td>&lt;NA&gt;</td>\n",
       "      <td>NaN</td>\n",
       "      <td>&lt;NA&gt;</td>\n",
       "      <td>[]</td>\n",
       "      <td>&lt;NA&gt;</td>\n",
       "    </tr>\n",
       "    <tr>\n",
       "      <th>5</th>\n",
       "      <td>sex</td>\n",
       "      <td>344</td>\n",
       "      <td>10</td>\n",
       "      <td>&lt;NA&gt;</td>\n",
       "      <td>.</td>\n",
       "      <td>MALE</td>\n",
       "      <td>NaN</td>\n",
       "      <td>NaN</td>\n",
       "      <td>NaN</td>\n",
       "      <td>[]</td>\n",
       "      <td>3</td>\n",
       "      <td>4.979042</td>\n",
       "      <td>334</td>\n",
       "      <td>[{'value': 'MALE', 'count': 168}]</td>\n",
       "      <td>&lt;NA&gt;</td>\n",
       "      <td>&lt;NA&gt;</td>\n",
       "      <td>NaN</td>\n",
       "      <td>&lt;NA&gt;</td>\n",
       "      <td>[]</td>\n",
       "      <td>&lt;NA&gt;</td>\n",
       "    </tr>\n",
       "    <tr>\n",
       "      <th>6</th>\n",
       "      <td>species</td>\n",
       "      <td>344</td>\n",
       "      <td>0</td>\n",
       "      <td>&lt;NA&gt;</td>\n",
       "      <td>Adelie Penguin (Pygoscelis adeliae)</td>\n",
       "      <td>Gentoo penguin (Pygoscelis papua)</td>\n",
       "      <td>NaN</td>\n",
       "      <td>NaN</td>\n",
       "      <td>NaN</td>\n",
       "      <td>[]</td>\n",
       "      <td>3</td>\n",
       "      <td>35.465116</td>\n",
       "      <td>344</td>\n",
       "      <td>[{'value': 'Adelie Penguin (Pygoscelis adeliae...</td>\n",
       "      <td>&lt;NA&gt;</td>\n",
       "      <td>&lt;NA&gt;</td>\n",
       "      <td>NaN</td>\n",
       "      <td>&lt;NA&gt;</td>\n",
       "      <td>[]</td>\n",
       "      <td>&lt;NA&gt;</td>\n",
       "    </tr>\n",
       "  </tbody>\n",
       "</table>\n",
       "</div>"
      ],
      "text/plain": [
       "                name  num_rows  num_nulls  num_zeros  \\\n",
       "0        body_mass_g       344          2          0   \n",
       "1    culmen_depth_mm       344          2          0   \n",
       "2   culmen_length_mm       344          2          0   \n",
       "3  flipper_length_mm       344          2          0   \n",
       "4             island       344          0       <NA>   \n",
       "5                sex       344         10       <NA>   \n",
       "6            species       344          0       <NA>   \n",
       "\n",
       "                                   min                                max  \\\n",
       "0                                 2700                               6300   \n",
       "1                                 13.1                               21.5   \n",
       "2                                 32.1                               59.6   \n",
       "3                                  172                                231   \n",
       "4                               Biscoe                          Torgersen   \n",
       "5                                    .                               MALE   \n",
       "6  Adelie Penguin (Pygoscelis adeliae)  Gentoo penguin (Pygoscelis papua)   \n",
       "\n",
       "          mean      stddev  median                 quantiles  unique  \\\n",
       "0  4201.754386  800.781229  4050.0  [2700.0, 4050.0, 6300.0]    <NA>   \n",
       "1    17.151170    1.971904    17.3        [13.1, 17.3, 21.5]    <NA>   \n",
       "2    43.921930    5.451596    44.1        [32.1, 44.1, 59.6]    <NA>   \n",
       "3   200.915205   14.041141   197.0     [172.0, 197.0, 231.0]    <NA>   \n",
       "4          NaN         NaN     NaN                        []       3   \n",
       "5          NaN         NaN     NaN                        []       3   \n",
       "6          NaN         NaN     NaN                        []       3   \n",
       "\n",
       "   avg_string_length  num_values  \\\n",
       "0                NaN         342   \n",
       "1                NaN         342   \n",
       "2                NaN         342   \n",
       "3                NaN         342   \n",
       "4           6.093023         344   \n",
       "5           4.979042         334   \n",
       "6          35.465116         344   \n",
       "\n",
       "                                          top_values  min_array_length  \\\n",
       "0                                                 []              <NA>   \n",
       "1                                                 []              <NA>   \n",
       "2                                                 []              <NA>   \n",
       "3                                                 []              <NA>   \n",
       "4                [{'value': 'Biscoe', 'count': 168}]              <NA>   \n",
       "5                  [{'value': 'MALE', 'count': 168}]              <NA>   \n",
       "6  [{'value': 'Adelie Penguin (Pygoscelis adeliae...              <NA>   \n",
       "\n",
       "   max_array_length  avg_array_length  total_array_length  \\\n",
       "0              <NA>               NaN                <NA>   \n",
       "1              <NA>               NaN                <NA>   \n",
       "2              <NA>               NaN                <NA>   \n",
       "3              <NA>               NaN                <NA>   \n",
       "4              <NA>               NaN                <NA>   \n",
       "5              <NA>               NaN                <NA>   \n",
       "6              <NA>               NaN                <NA>   \n",
       "\n",
       "  array_length_quantiles  dimension  \n",
       "0                     []       <NA>  \n",
       "1                     []       <NA>  \n",
       "2                     []       <NA>  \n",
       "3                     []       <NA>  \n",
       "4                     []       <NA>  \n",
       "5                     []       <NA>  \n",
       "6                     []       <NA>  "
      ]
     },
     "execution_count": 9,
     "metadata": {},
     "output_type": "execute_result"
    }
   ],
   "source": [
    "%%bigquery\n",
    "SELECT *\n",
    "FROM ML.DESCRIBE_DATA(\n",
    "  TABLE `bigquery-public-data.ml_datasets.penguins`\n",
    ")"
   ]
  },
  {
   "cell_type": "markdown",
   "metadata": {},
   "source": [
    "Some observations:\n",
    "- All columns have `num_rows` and `num_nulls`\n",
    "- Numerical columns have `min`, `max`, `stddev`, `median`, and `quantiles` showing the distribution of the data in the column\n",
    "- Categorical (string) columns have `min`, `max` values representing the class levels and a `unique` column show how many class levels\n",
    "\n",
    "Data quality observation:\n",
    "- The column `sex` has both missing values (10 indicated in `num_nulls`) as well as a `min` values of `.`.  This appears to be a data quality issue that needs fixing."
   ]
  },
  {
   "cell_type": "markdown",
   "metadata": {
    "tags": []
   },
   "source": [
    "### Create A BigQuery Dataset\n",
    "\n",
    "Create a new [BigQuery Dataset](https://cloud.google.com/bigquery/docs/datasets) as a working location for this workflow:"
   ]
  },
  {
   "cell_type": "code",
   "execution_count": 10,
   "metadata": {
    "tags": []
   },
   "outputs": [
    {
     "data": {
      "application/vnd.jupyter.widget-view+json": {
       "model_id": "53039158aa4d43b390b32a1fd59802e4",
       "version_major": 2,
       "version_minor": 0
      },
      "text/plain": [
       "Query is running:   0%|          |"
      ]
     },
     "metadata": {},
     "output_type": "display_data"
    },
    {
     "data": {
      "text/html": [
       "<div>\n",
       "<style scoped>\n",
       "    .dataframe tbody tr th:only-of-type {\n",
       "        vertical-align: middle;\n",
       "    }\n",
       "\n",
       "    .dataframe tbody tr th {\n",
       "        vertical-align: top;\n",
       "    }\n",
       "\n",
       "    .dataframe thead th {\n",
       "        text-align: right;\n",
       "    }\n",
       "</style>\n",
       "<table border=\"1\" class=\"dataframe\">\n",
       "  <thead>\n",
       "    <tr style=\"text-align: right;\">\n",
       "      <th></th>\n",
       "    </tr>\n",
       "  </thead>\n",
       "  <tbody>\n",
       "  </tbody>\n",
       "</table>\n",
       "</div>"
      ],
      "text/plain": [
       "Empty DataFrame\n",
       "Columns: []\n",
       "Index: []"
      ]
     },
     "execution_count": 10,
     "metadata": {},
     "output_type": "execute_result"
    }
   ],
   "source": [
    "%%bigquery\n",
    "CREATE SCHEMA IF NOT EXISTS `statmike-mlops-349915.bqml_model_monitoring`\n",
    "    OPTIONS(\n",
    "        location = 'US'\n",
    "    )"
   ]
  },
  {
   "cell_type": "markdown",
   "metadata": {},
   "source": [
    "### Prepare The Source Data\n",
    "\n",
    "Make a copy of the table source in the new BigQuery dataset with fixes applied to the data quality issue identified for the `sex` column with values of `.`.\n",
    "\n",
    "> Note: A copy is being made in this case because the source project is `bigquery-public` which is not editable."
   ]
  },
  {
   "cell_type": "code",
   "execution_count": 11,
   "metadata": {
    "tags": []
   },
   "outputs": [
    {
     "data": {
      "application/vnd.jupyter.widget-view+json": {
       "model_id": "38d26c7fa383415eaec15461294e6e6e",
       "version_major": 2,
       "version_minor": 0
      },
      "text/plain": [
       "Query is running:   0%|          |"
      ]
     },
     "metadata": {},
     "output_type": "display_data"
    },
    {
     "data": {
      "text/html": [
       "<div>\n",
       "<style scoped>\n",
       "    .dataframe tbody tr th:only-of-type {\n",
       "        vertical-align: middle;\n",
       "    }\n",
       "\n",
       "    .dataframe tbody tr th {\n",
       "        vertical-align: top;\n",
       "    }\n",
       "\n",
       "    .dataframe thead th {\n",
       "        text-align: right;\n",
       "    }\n",
       "</style>\n",
       "<table border=\"1\" class=\"dataframe\">\n",
       "  <thead>\n",
       "    <tr style=\"text-align: right;\">\n",
       "      <th></th>\n",
       "    </tr>\n",
       "  </thead>\n",
       "  <tbody>\n",
       "  </tbody>\n",
       "</table>\n",
       "</div>"
      ],
      "text/plain": [
       "Empty DataFrame\n",
       "Columns: []\n",
       "Index: []"
      ]
     },
     "execution_count": 11,
     "metadata": {},
     "output_type": "execute_result"
    }
   ],
   "source": [
    "%%bigquery\n",
    "CREATE OR REPLACE TABLE `statmike-mlops-349915.bqml_model_monitoring.training` AS\n",
    "    SELECT * EXCEPT(sex),\n",
    "        CASE WHEN sex = '.' THEN NULL ELSE sex END AS sex\n",
    "    FROM `bigquery-public-data.ml_datasets.penguins`"
   ]
  },
  {
   "cell_type": "markdown",
   "metadata": {},
   "source": [
    "### Split The Data\n",
    "\n",
    "Depending on the ML technique, it may be desired to split the data into partitions for training, evaluation, and testing (in this case monitoring examples). \n",
    "\n",
    "The following cell creates a version with a new column column named `splits` with values [`TRAIN`, `EVAL`, `TEST`].  The data is first grouped (stratified) by the values of `species` and `island` to preserve any imbalance across the groups. "
   ]
  },
  {
   "cell_type": "code",
   "execution_count": 12,
   "metadata": {
    "tags": []
   },
   "outputs": [
    {
     "data": {
      "application/vnd.jupyter.widget-view+json": {
       "model_id": "1f7e437f74574a88936d1cf8e63f887d",
       "version_major": 2,
       "version_minor": 0
      },
      "text/plain": [
       "Query is running:   0%|          |"
      ]
     },
     "metadata": {},
     "output_type": "display_data"
    },
    {
     "data": {
      "text/html": [
       "<div>\n",
       "<style scoped>\n",
       "    .dataframe tbody tr th:only-of-type {\n",
       "        vertical-align: middle;\n",
       "    }\n",
       "\n",
       "    .dataframe tbody tr th {\n",
       "        vertical-align: top;\n",
       "    }\n",
       "\n",
       "    .dataframe thead th {\n",
       "        text-align: right;\n",
       "    }\n",
       "</style>\n",
       "<table border=\"1\" class=\"dataframe\">\n",
       "  <thead>\n",
       "    <tr style=\"text-align: right;\">\n",
       "      <th></th>\n",
       "    </tr>\n",
       "  </thead>\n",
       "  <tbody>\n",
       "  </tbody>\n",
       "</table>\n",
       "</div>"
      ],
      "text/plain": [
       "Empty DataFrame\n",
       "Columns: []\n",
       "Index: []"
      ]
     },
     "execution_count": 12,
     "metadata": {},
     "output_type": "execute_result"
    }
   ],
   "source": [
    "%%bigquery\n",
    "CREATE OR REPLACE TABLE `statmike-mlops-349915.bqml_model_monitoring.training_split` AS\n",
    "    WITH\n",
    "        # randomized numbering within groups (species, island)\n",
    "        RANDOM AS (\n",
    "            SELECT *,\n",
    "                ROW_NUMBER() OVER (PARTITION BY species, island ORDER BY RAND()) AS sequence\n",
    "            FROM `statmike-mlops-349915.bqml_model_monitoring.training`\n",
    "        ),\n",
    "        # get group sizes\n",
    "        GROUP_SIZES AS (\n",
    "            SELECT species, island, COUNT(*) AS count\n",
    "            FROM `statmike-mlops-349915.bqml_model_monitoring.training`\n",
    "            GROUP BY species, island\n",
    "        )\n",
    "    SELECT\n",
    "        * EXCEPT(sequence, count),\n",
    "        CASE\n",
    "            WHEN sequence <= CEIL(.2 * count) AND species is not Null THEN 'TEST'\n",
    "            WHEN sequence <= CEIL(.3 * count) THEN 'EVAL'\n",
    "            ELSE 'TRAIN'\n",
    "        END AS splits\n",
    "    FROM RANDOM\n",
    "    LEFT OUTER JOIN GROUP_SIZES USING(species, island)"
   ]
  },
  {
   "cell_type": "markdown",
   "metadata": {},
   "source": [
    "Review the data by `splits`:"
   ]
  },
  {
   "cell_type": "code",
   "execution_count": 13,
   "metadata": {
    "tags": []
   },
   "outputs": [
    {
     "data": {
      "application/vnd.jupyter.widget-view+json": {
       "model_id": "5190cde02f7c4c72ba0fa7dd553c88e1",
       "version_major": 2,
       "version_minor": 0
      },
      "text/plain": [
       "Query is running:   0%|          |"
      ]
     },
     "metadata": {},
     "output_type": "display_data"
    },
    {
     "data": {
      "application/vnd.jupyter.widget-view+json": {
       "model_id": "7c4e537c49764d2093637fdfb2fbeeda",
       "version_major": 2,
       "version_minor": 0
      },
      "text/plain": [
       "Downloading:   0%|          |"
      ]
     },
     "metadata": {},
     "output_type": "display_data"
    },
    {
     "data": {
      "text/html": [
       "<div>\n",
       "<style scoped>\n",
       "    .dataframe tbody tr th:only-of-type {\n",
       "        vertical-align: middle;\n",
       "    }\n",
       "\n",
       "    .dataframe tbody tr th {\n",
       "        vertical-align: top;\n",
       "    }\n",
       "\n",
       "    .dataframe thead th {\n",
       "        text-align: right;\n",
       "    }\n",
       "</style>\n",
       "<table border=\"1\" class=\"dataframe\">\n",
       "  <thead>\n",
       "    <tr style=\"text-align: right;\">\n",
       "      <th></th>\n",
       "      <th>species</th>\n",
       "      <th>island</th>\n",
       "      <th>count</th>\n",
       "      <th>TRAIN_PCT</th>\n",
       "      <th>EVAL_PCT</th>\n",
       "      <th>TEST_PCT</th>\n",
       "    </tr>\n",
       "  </thead>\n",
       "  <tbody>\n",
       "    <tr>\n",
       "      <th>0</th>\n",
       "      <td>Gentoo penguin (Pygoscelis papua)</td>\n",
       "      <td>Biscoe</td>\n",
       "      <td>124</td>\n",
       "      <td>69.354839</td>\n",
       "      <td>10.483871</td>\n",
       "      <td>20.161290</td>\n",
       "    </tr>\n",
       "    <tr>\n",
       "      <th>1</th>\n",
       "      <td>Adelie Penguin (Pygoscelis adeliae)</td>\n",
       "      <td>Biscoe</td>\n",
       "      <td>44</td>\n",
       "      <td>68.181818</td>\n",
       "      <td>11.363636</td>\n",
       "      <td>20.454545</td>\n",
       "    </tr>\n",
       "    <tr>\n",
       "      <th>2</th>\n",
       "      <td>Adelie Penguin (Pygoscelis adeliae)</td>\n",
       "      <td>Dream</td>\n",
       "      <td>56</td>\n",
       "      <td>69.642857</td>\n",
       "      <td>8.928571</td>\n",
       "      <td>21.428571</td>\n",
       "    </tr>\n",
       "    <tr>\n",
       "      <th>3</th>\n",
       "      <td>Chinstrap penguin (Pygoscelis antarctica)</td>\n",
       "      <td>Dream</td>\n",
       "      <td>68</td>\n",
       "      <td>69.117647</td>\n",
       "      <td>10.294118</td>\n",
       "      <td>20.588235</td>\n",
       "    </tr>\n",
       "    <tr>\n",
       "      <th>4</th>\n",
       "      <td>Adelie Penguin (Pygoscelis adeliae)</td>\n",
       "      <td>Torgersen</td>\n",
       "      <td>52</td>\n",
       "      <td>69.230769</td>\n",
       "      <td>9.615385</td>\n",
       "      <td>21.153846</td>\n",
       "    </tr>\n",
       "  </tbody>\n",
       "</table>\n",
       "</div>"
      ],
      "text/plain": [
       "                                     species     island  count  TRAIN_PCT  \\\n",
       "0          Gentoo penguin (Pygoscelis papua)     Biscoe    124  69.354839   \n",
       "1        Adelie Penguin (Pygoscelis adeliae)     Biscoe     44  68.181818   \n",
       "2        Adelie Penguin (Pygoscelis adeliae)      Dream     56  69.642857   \n",
       "3  Chinstrap penguin (Pygoscelis antarctica)      Dream     68  69.117647   \n",
       "4        Adelie Penguin (Pygoscelis adeliae)  Torgersen     52  69.230769   \n",
       "\n",
       "    EVAL_PCT   TEST_PCT  \n",
       "0  10.483871  20.161290  \n",
       "1  11.363636  20.454545  \n",
       "2   8.928571  21.428571  \n",
       "3  10.294118  20.588235  \n",
       "4   9.615385  21.153846  "
      ]
     },
     "execution_count": 13,
     "metadata": {},
     "output_type": "execute_result"
    }
   ],
   "source": [
    "%%bigquery\n",
    "SELECT species, island,\n",
    "    COUNT(*) as count,\n",
    "    100 * COUNTIF(splits = 'TRAIN')/COUNT(*) AS TRAIN_PCT,\n",
    "    100 * COUNTIF(splits = 'EVAL')/COUNT(*) AS EVAL_PCT,\n",
    "    100 * COUNTIF(splits = 'TEST')/COUNT(*) AS TEST_PCT\n",
    "FROM `statmike-mlops-349915.bqml_model_monitoring.training_split`\n",
    "GROUP BY species, island"
   ]
  },
  {
   "cell_type": "markdown",
   "metadata": {},
   "source": [
    "### Review the Training Split With: `ML.DESCRIBE_DATA`\n",
    "\n",
    "Use [`ML.DESCRIBE_DATA`](https://cloud.google.com/bigquery/docs/reference/standard-sql/bigqueryml-syntax-describe-data) to first review the training split of the source data.  This time, some of the additional parameters of the function are useful:\n",
    "- `top_k`: get the top 3 most frequent categories for string columns (default = 1)\n",
    "- `num_quantiles`: get 4 quantiles for numerical columns (default = 2)"
   ]
  },
  {
   "cell_type": "code",
   "execution_count": 14,
   "metadata": {
    "tags": []
   },
   "outputs": [
    {
     "data": {
      "application/vnd.jupyter.widget-view+json": {
       "model_id": "8b8eb9d7c4b74ddf9be3f7bd892ea185",
       "version_major": 2,
       "version_minor": 0
      },
      "text/plain": [
       "Query is running:   0%|          |"
      ]
     },
     "metadata": {},
     "output_type": "display_data"
    },
    {
     "data": {
      "application/vnd.jupyter.widget-view+json": {
       "model_id": "b7191fc81df74d6090b90f970fc9edf6",
       "version_major": 2,
       "version_minor": 0
      },
      "text/plain": [
       "Downloading:   0%|          |"
      ]
     },
     "metadata": {},
     "output_type": "display_data"
    },
    {
     "data": {
      "text/html": [
       "<div>\n",
       "<style scoped>\n",
       "    .dataframe tbody tr th:only-of-type {\n",
       "        vertical-align: middle;\n",
       "    }\n",
       "\n",
       "    .dataframe tbody tr th {\n",
       "        vertical-align: top;\n",
       "    }\n",
       "\n",
       "    .dataframe thead th {\n",
       "        text-align: right;\n",
       "    }\n",
       "</style>\n",
       "<table border=\"1\" class=\"dataframe\">\n",
       "  <thead>\n",
       "    <tr style=\"text-align: right;\">\n",
       "      <th></th>\n",
       "      <th>name</th>\n",
       "      <th>num_rows</th>\n",
       "      <th>num_nulls</th>\n",
       "      <th>num_zeros</th>\n",
       "      <th>min</th>\n",
       "      <th>max</th>\n",
       "      <th>mean</th>\n",
       "      <th>stddev</th>\n",
       "      <th>median</th>\n",
       "      <th>quantiles</th>\n",
       "      <th>unique</th>\n",
       "      <th>avg_string_length</th>\n",
       "      <th>num_values</th>\n",
       "      <th>top_values</th>\n",
       "      <th>min_array_length</th>\n",
       "      <th>max_array_length</th>\n",
       "      <th>avg_array_length</th>\n",
       "      <th>total_array_length</th>\n",
       "      <th>array_length_quantiles</th>\n",
       "      <th>dimension</th>\n",
       "    </tr>\n",
       "  </thead>\n",
       "  <tbody>\n",
       "    <tr>\n",
       "      <th>0</th>\n",
       "      <td>body_mass_g</td>\n",
       "      <td>238</td>\n",
       "      <td>2</td>\n",
       "      <td>0</td>\n",
       "      <td>2850</td>\n",
       "      <td>6050</td>\n",
       "      <td>4203.389831</td>\n",
       "      <td>789.086814</td>\n",
       "      <td>4000.0</td>\n",
       "      <td>[2850.0, 3575.0, 4000.0, 4750.0, 6050.0]</td>\n",
       "      <td>&lt;NA&gt;</td>\n",
       "      <td>NaN</td>\n",
       "      <td>236</td>\n",
       "      <td>[]</td>\n",
       "      <td>&lt;NA&gt;</td>\n",
       "      <td>&lt;NA&gt;</td>\n",
       "      <td>NaN</td>\n",
       "      <td>&lt;NA&gt;</td>\n",
       "      <td>[]</td>\n",
       "      <td>&lt;NA&gt;</td>\n",
       "    </tr>\n",
       "    <tr>\n",
       "      <th>1</th>\n",
       "      <td>culmen_depth_mm</td>\n",
       "      <td>238</td>\n",
       "      <td>2</td>\n",
       "      <td>0</td>\n",
       "      <td>13.1</td>\n",
       "      <td>21.5</td>\n",
       "      <td>17.174153</td>\n",
       "      <td>1.990286</td>\n",
       "      <td>17.3</td>\n",
       "      <td>[13.1, 15.5, 17.3, 18.7, 21.5]</td>\n",
       "      <td>&lt;NA&gt;</td>\n",
       "      <td>NaN</td>\n",
       "      <td>236</td>\n",
       "      <td>[]</td>\n",
       "      <td>&lt;NA&gt;</td>\n",
       "      <td>&lt;NA&gt;</td>\n",
       "      <td>NaN</td>\n",
       "      <td>&lt;NA&gt;</td>\n",
       "      <td>[]</td>\n",
       "      <td>&lt;NA&gt;</td>\n",
       "    </tr>\n",
       "    <tr>\n",
       "      <th>2</th>\n",
       "      <td>culmen_length_mm</td>\n",
       "      <td>238</td>\n",
       "      <td>2</td>\n",
       "      <td>0</td>\n",
       "      <td>33.5</td>\n",
       "      <td>59.6</td>\n",
       "      <td>44.033475</td>\n",
       "      <td>5.433163</td>\n",
       "      <td>44.5</td>\n",
       "      <td>[33.5, 39.5, 44.5, 48.5, 59.6]</td>\n",
       "      <td>&lt;NA&gt;</td>\n",
       "      <td>NaN</td>\n",
       "      <td>236</td>\n",
       "      <td>[]</td>\n",
       "      <td>&lt;NA&gt;</td>\n",
       "      <td>&lt;NA&gt;</td>\n",
       "      <td>NaN</td>\n",
       "      <td>&lt;NA&gt;</td>\n",
       "      <td>[]</td>\n",
       "      <td>&lt;NA&gt;</td>\n",
       "    </tr>\n",
       "    <tr>\n",
       "      <th>3</th>\n",
       "      <td>flipper_length_mm</td>\n",
       "      <td>238</td>\n",
       "      <td>2</td>\n",
       "      <td>0</td>\n",
       "      <td>172</td>\n",
       "      <td>231</td>\n",
       "      <td>200.911017</td>\n",
       "      <td>14.067201</td>\n",
       "      <td>197.0</td>\n",
       "      <td>[172.0, 190.0, 197.0, 212.0, 231.0]</td>\n",
       "      <td>&lt;NA&gt;</td>\n",
       "      <td>NaN</td>\n",
       "      <td>236</td>\n",
       "      <td>[]</td>\n",
       "      <td>&lt;NA&gt;</td>\n",
       "      <td>&lt;NA&gt;</td>\n",
       "      <td>NaN</td>\n",
       "      <td>&lt;NA&gt;</td>\n",
       "      <td>[]</td>\n",
       "      <td>&lt;NA&gt;</td>\n",
       "    </tr>\n",
       "    <tr>\n",
       "      <th>4</th>\n",
       "      <td>island</td>\n",
       "      <td>238</td>\n",
       "      <td>0</td>\n",
       "      <td>&lt;NA&gt;</td>\n",
       "      <td>Biscoe</td>\n",
       "      <td>Torgersen</td>\n",
       "      <td>NaN</td>\n",
       "      <td>NaN</td>\n",
       "      <td>NaN</td>\n",
       "      <td>[]</td>\n",
       "      <td>3</td>\n",
       "      <td>6.092437</td>\n",
       "      <td>238</td>\n",
       "      <td>[{'value': 'Biscoe', 'count': 116}, {'value': ...</td>\n",
       "      <td>&lt;NA&gt;</td>\n",
       "      <td>&lt;NA&gt;</td>\n",
       "      <td>NaN</td>\n",
       "      <td>&lt;NA&gt;</td>\n",
       "      <td>[]</td>\n",
       "      <td>&lt;NA&gt;</td>\n",
       "    </tr>\n",
       "    <tr>\n",
       "      <th>5</th>\n",
       "      <td>sex</td>\n",
       "      <td>238</td>\n",
       "      <td>10</td>\n",
       "      <td>&lt;NA&gt;</td>\n",
       "      <td>FEMALE</td>\n",
       "      <td>MALE</td>\n",
       "      <td>NaN</td>\n",
       "      <td>NaN</td>\n",
       "      <td>NaN</td>\n",
       "      <td>[]</td>\n",
       "      <td>2</td>\n",
       "      <td>5.000000</td>\n",
       "      <td>228</td>\n",
       "      <td>[{'value': 'MALE', 'count': 114}, {'value': 'F...</td>\n",
       "      <td>&lt;NA&gt;</td>\n",
       "      <td>&lt;NA&gt;</td>\n",
       "      <td>NaN</td>\n",
       "      <td>&lt;NA&gt;</td>\n",
       "      <td>[]</td>\n",
       "      <td>&lt;NA&gt;</td>\n",
       "    </tr>\n",
       "    <tr>\n",
       "      <th>6</th>\n",
       "      <td>species</td>\n",
       "      <td>238</td>\n",
       "      <td>0</td>\n",
       "      <td>&lt;NA&gt;</td>\n",
       "      <td>Adelie Penguin (Pygoscelis adeliae)</td>\n",
       "      <td>Gentoo penguin (Pygoscelis papua)</td>\n",
       "      <td>NaN</td>\n",
       "      <td>NaN</td>\n",
       "      <td>NaN</td>\n",
       "      <td>[]</td>\n",
       "      <td>3</td>\n",
       "      <td>35.462185</td>\n",
       "      <td>238</td>\n",
       "      <td>[{'value': 'Adelie Penguin (Pygoscelis adeliae...</td>\n",
       "      <td>&lt;NA&gt;</td>\n",
       "      <td>&lt;NA&gt;</td>\n",
       "      <td>NaN</td>\n",
       "      <td>&lt;NA&gt;</td>\n",
       "      <td>[]</td>\n",
       "      <td>&lt;NA&gt;</td>\n",
       "    </tr>\n",
       "  </tbody>\n",
       "</table>\n",
       "</div>"
      ],
      "text/plain": [
       "                name  num_rows  num_nulls  num_zeros  \\\n",
       "0        body_mass_g       238          2          0   \n",
       "1    culmen_depth_mm       238          2          0   \n",
       "2   culmen_length_mm       238          2          0   \n",
       "3  flipper_length_mm       238          2          0   \n",
       "4             island       238          0       <NA>   \n",
       "5                sex       238         10       <NA>   \n",
       "6            species       238          0       <NA>   \n",
       "\n",
       "                                   min                                max  \\\n",
       "0                                 2850                               6050   \n",
       "1                                 13.1                               21.5   \n",
       "2                                 33.5                               59.6   \n",
       "3                                  172                                231   \n",
       "4                               Biscoe                          Torgersen   \n",
       "5                               FEMALE                               MALE   \n",
       "6  Adelie Penguin (Pygoscelis adeliae)  Gentoo penguin (Pygoscelis papua)   \n",
       "\n",
       "          mean      stddev  median                                 quantiles  \\\n",
       "0  4203.389831  789.086814  4000.0  [2850.0, 3575.0, 4000.0, 4750.0, 6050.0]   \n",
       "1    17.174153    1.990286    17.3            [13.1, 15.5, 17.3, 18.7, 21.5]   \n",
       "2    44.033475    5.433163    44.5            [33.5, 39.5, 44.5, 48.5, 59.6]   \n",
       "3   200.911017   14.067201   197.0       [172.0, 190.0, 197.0, 212.0, 231.0]   \n",
       "4          NaN         NaN     NaN                                        []   \n",
       "5          NaN         NaN     NaN                                        []   \n",
       "6          NaN         NaN     NaN                                        []   \n",
       "\n",
       "   unique  avg_string_length  num_values  \\\n",
       "0    <NA>                NaN         236   \n",
       "1    <NA>                NaN         236   \n",
       "2    <NA>                NaN         236   \n",
       "3    <NA>                NaN         236   \n",
       "4       3           6.092437         238   \n",
       "5       2           5.000000         228   \n",
       "6       3          35.462185         238   \n",
       "\n",
       "                                          top_values  min_array_length  \\\n",
       "0                                                 []              <NA>   \n",
       "1                                                 []              <NA>   \n",
       "2                                                 []              <NA>   \n",
       "3                                                 []              <NA>   \n",
       "4  [{'value': 'Biscoe', 'count': 116}, {'value': ...              <NA>   \n",
       "5  [{'value': 'MALE', 'count': 114}, {'value': 'F...              <NA>   \n",
       "6  [{'value': 'Adelie Penguin (Pygoscelis adeliae...              <NA>   \n",
       "\n",
       "   max_array_length  avg_array_length  total_array_length  \\\n",
       "0              <NA>               NaN                <NA>   \n",
       "1              <NA>               NaN                <NA>   \n",
       "2              <NA>               NaN                <NA>   \n",
       "3              <NA>               NaN                <NA>   \n",
       "4              <NA>               NaN                <NA>   \n",
       "5              <NA>               NaN                <NA>   \n",
       "6              <NA>               NaN                <NA>   \n",
       "\n",
       "  array_length_quantiles  dimension  \n",
       "0                     []       <NA>  \n",
       "1                     []       <NA>  \n",
       "2                     []       <NA>  \n",
       "3                     []       <NA>  \n",
       "4                     []       <NA>  \n",
       "5                     []       <NA>  \n",
       "6                     []       <NA>  "
      ]
     },
     "execution_count": 14,
     "metadata": {},
     "output_type": "execute_result"
    }
   ],
   "source": [
    "%%bigquery\n",
    "SELECT *\n",
    "FROM ML.DESCRIBE_DATA(\n",
    "    (\n",
    "        SELECT * EXCEPT(splits)\n",
    "        FROM `statmike-mlops-349915.bqml_model_monitoring.training_split`\n",
    "        WHERE splits = 'TRAIN'\n",
    "    ),\n",
    "    STRUCT(3 AS top_k, 4 AS num_quantiles)\n",
    ")"
   ]
  },
  {
   "cell_type": "markdown",
   "metadata": {
    "tags": []
   },
   "source": [
    "---\n",
    "## Model Training\n",
    "\n",
    "Create a model trained to classify `species` for the traning records.  Here, directly in BigQuery, the [`CREATE MODEL` statement for random forest](https://cloud.google.com/bigquery/docs/reference/standard-sql/bigqueryml-syntax-create-random-forest) is used.  This uses the `TRANSFORM` clause within the model to embed user specified transfomations within the model for use during serving and model monitoring which will both be show later in this introduction.\n",
    "\n",
    "From reviewing the training data above, the following transformations will be tried:\n",
    "- Apply [`ML.ROBUST_SCALER`](https://cloud.google.com/bigquery/docs/reference/standard-sql/bigqueryml-syntax-robust-scaler) to `body_mass_g`\n",
    "- Apply [`ML.STANDARD_SCALER`](https://cloud.google.com/bigquery/docs/reference/standard-sql/bigqueryml-syntax-standard-scaler) to `culmen_depth_mm` and `culmen_length_mm`\n",
    "- Apply [`ML.QUANTILE_BUCKATIZE`](https://cloud.google.com/bigquery/docs/reference/standard-sql/bigqueryml-syntax-quantile-bucketize) to `flipper_length_mm`\n",
    "- Apply [`ML.IMPUTER`](https://cloud.google.com/bigquery/docs/reference/standard-sql/bigqueryml-syntax-imputer) to `island`, and `sex`"
   ]
  },
  {
   "cell_type": "code",
   "execution_count": 15,
   "metadata": {
    "tags": []
   },
   "outputs": [
    {
     "data": {
      "application/vnd.jupyter.widget-view+json": {
       "model_id": "52be830a330841cb971078f8e58eed49",
       "version_major": 2,
       "version_minor": 0
      },
      "text/plain": [
       "Query is running:   0%|          |"
      ]
     },
     "metadata": {},
     "output_type": "display_data"
    },
    {
     "data": {
      "text/html": [
       "<div>\n",
       "<style scoped>\n",
       "    .dataframe tbody tr th:only-of-type {\n",
       "        vertical-align: middle;\n",
       "    }\n",
       "\n",
       "    .dataframe tbody tr th {\n",
       "        vertical-align: top;\n",
       "    }\n",
       "\n",
       "    .dataframe thead th {\n",
       "        text-align: right;\n",
       "    }\n",
       "</style>\n",
       "<table border=\"1\" class=\"dataframe\">\n",
       "  <thead>\n",
       "    <tr style=\"text-align: right;\">\n",
       "      <th></th>\n",
       "    </tr>\n",
       "  </thead>\n",
       "  <tbody>\n",
       "  </tbody>\n",
       "</table>\n",
       "</div>"
      ],
      "text/plain": [
       "Empty DataFrame\n",
       "Columns: []\n",
       "Index: []"
      ]
     },
     "execution_count": 15,
     "metadata": {},
     "output_type": "execute_result"
    }
   ],
   "source": [
    "%%bigquery\n",
    "CREATE OR REPLACE MODEL `statmike-mlops-349915.bqml_model_monitoring.classify_species_rf`\n",
    "    TRANSFORM(\n",
    "        ML.ROBUST_SCALER(body_mass_g) OVER() AS body_mass_g,\n",
    "        ML.STANDARD_SCALER(culmen_length_mm) OVER() AS culmen_length_mm,\n",
    "        ML.STANDARD_SCALER(culmen_depth_mm) OVER() AS culmen_depth_mm,\n",
    "        ML.QUANTILE_BUCKETIZE(flipper_length_mm, 3) OVER() AS flipper_length_mm,\n",
    "        ML.IMPUTER(sex, 'most_frequent') OVER() AS sex,\n",
    "        ML.IMPUTER(island, 'most_frequent') OVER() AS island,\n",
    "        species, split\n",
    "    )\n",
    "    OPTIONS(\n",
    "        MODEL_TYPE = 'RANDOM_FOREST_CLASSIFIER',\n",
    "        INPUT_LABEL_COLS = ['species'],\n",
    "        \n",
    "        # data specifics\n",
    "        DATA_SPLIT_METHOD = 'CUSTOM',\n",
    "        DATA_SPLIT_COL = 'split',\n",
    "        \n",
    "        # model specifics\n",
    "        AUTO_CLASS_WEIGHTS = FALSE,\n",
    "        NUM_PARALLEL_TREE= 150,\n",
    "        TREE_METHOD = 'HIST',\n",
    "        SUBSAMPLE = 0.85,\n",
    "        COLSAMPLE_BYTREE = 0.9,\n",
    "        ENABLE_GLOBAL_EXPLAIN = TRUE,\n",
    "        \n",
    "        # register model in Vertex AI For Online Serving\n",
    "        MODEL_REGISTRY = 'VERTEX_AI',\n",
    "        VERTEX_AI_MODEL_ID = 'classify_species_rf'\n",
    "    )\n",
    "AS\n",
    "    SELECT * EXCEPT(splits),\n",
    "        CASE WHEN splits = 'TRAIN' THEN FALSE\n",
    "        ELSE TRUE END AS split\n",
    "    FROM `statmike-mlops-349915.bqml_model_monitoring.training_split`\n",
    "    WHERE splits != 'TEST'"
   ]
  },
  {
   "cell_type": "code",
   "execution_count": 16,
   "metadata": {
    "tags": []
   },
   "outputs": [
    {
     "data": {
      "application/vnd.jupyter.widget-view+json": {
       "model_id": "601ad6c074e34b3bb035fa8401d833a6",
       "version_major": 2,
       "version_minor": 0
      },
      "text/plain": [
       "Query is running:   0%|          |"
      ]
     },
     "metadata": {},
     "output_type": "display_data"
    },
    {
     "data": {
      "application/vnd.jupyter.widget-view+json": {
       "model_id": "495530fcea984d569a0d840b211dbdd1",
       "version_major": 2,
       "version_minor": 0
      },
      "text/plain": [
       "Downloading:   0%|          |"
      ]
     },
     "metadata": {},
     "output_type": "display_data"
    },
    {
     "data": {
      "text/html": [
       "<div>\n",
       "<style scoped>\n",
       "    .dataframe tbody tr th:only-of-type {\n",
       "        vertical-align: middle;\n",
       "    }\n",
       "\n",
       "    .dataframe tbody tr th {\n",
       "        vertical-align: top;\n",
       "    }\n",
       "\n",
       "    .dataframe thead th {\n",
       "        text-align: right;\n",
       "    }\n",
       "</style>\n",
       "<table border=\"1\" class=\"dataframe\">\n",
       "  <thead>\n",
       "    <tr style=\"text-align: right;\">\n",
       "      <th></th>\n",
       "      <th>training_run</th>\n",
       "      <th>iteration</th>\n",
       "      <th>loss</th>\n",
       "      <th>eval_loss</th>\n",
       "      <th>learning_rate</th>\n",
       "      <th>duration_ms</th>\n",
       "    </tr>\n",
       "  </thead>\n",
       "  <tbody>\n",
       "    <tr>\n",
       "      <th>0</th>\n",
       "      <td>0</td>\n",
       "      <td>1</td>\n",
       "      <td>0.256655</td>\n",
       "      <td>0.299913</td>\n",
       "      <td>1.0</td>\n",
       "      <td>234454</td>\n",
       "    </tr>\n",
       "  </tbody>\n",
       "</table>\n",
       "</div>"
      ],
      "text/plain": [
       "   training_run  iteration      loss  eval_loss  learning_rate  duration_ms\n",
       "0             0          1  0.256655   0.299913            1.0       234454"
      ]
     },
     "execution_count": 16,
     "metadata": {},
     "output_type": "execute_result"
    }
   ],
   "source": [
    "%%bigquery\n",
    "SELECT *\n",
    "FROM ML.TRAINING_INFO(MODEL `statmike-mlops-349915.bqml_model_monitoring.classify_species_rf`)\n",
    "ORDER BY iteration"
   ]
  },
  {
   "cell_type": "markdown",
   "metadata": {},
   "source": [
    "### Evaluation With `ML.EVALUATE`\n",
    "\n",
    "BigQuery ML models can be directly evaluated with the [`ML.EVALUATE` function](https://cloud.google.com/bigquery/docs/reference/standard-sql/bigqueryml-syntax-evaluate).  The evaluation of the model on evaluation data specified during training can be done by just specifying the model.  To evaluate the model on new data, like a `TEST` split or even the `TRAIN` split, the records can be specified with a query statement as seen in the following evaluations.\n",
    "\n",
    "> An evaluation split with 10% of records was created above.  This set would normally be used for tuning model hyperparameters, like `BATCH_SIZE`, `DROPOUT`, `HIDDEN_UNITS`, `LEARN_RATE`, and/or `OPTIMIZER` in the case of the DNN used here.  This could also be done directly in the BigQuery `CREATE MODEL` statement with [hyperparameter tuning](https://cloud.google.com/bigquery/docs/hp-tuning-overview)."
   ]
  },
  {
   "cell_type": "code",
   "execution_count": 17,
   "metadata": {
    "tags": []
   },
   "outputs": [
    {
     "data": {
      "application/vnd.jupyter.widget-view+json": {
       "model_id": "eea2479a69ba4e278bf43aacb3f57bc9",
       "version_major": 2,
       "version_minor": 0
      },
      "text/plain": [
       "Query is running:   0%|          |"
      ]
     },
     "metadata": {},
     "output_type": "display_data"
    },
    {
     "data": {
      "application/vnd.jupyter.widget-view+json": {
       "model_id": "d152dc06642b430c8bbd929201a070d4",
       "version_major": 2,
       "version_minor": 0
      },
      "text/plain": [
       "Downloading:   0%|          |"
      ]
     },
     "metadata": {},
     "output_type": "display_data"
    },
    {
     "data": {
      "text/html": [
       "<div>\n",
       "<style scoped>\n",
       "    .dataframe tbody tr th:only-of-type {\n",
       "        vertical-align: middle;\n",
       "    }\n",
       "\n",
       "    .dataframe tbody tr th {\n",
       "        vertical-align: top;\n",
       "    }\n",
       "\n",
       "    .dataframe thead th {\n",
       "        text-align: right;\n",
       "    }\n",
       "</style>\n",
       "<table border=\"1\" class=\"dataframe\">\n",
       "  <thead>\n",
       "    <tr style=\"text-align: right;\">\n",
       "      <th></th>\n",
       "      <th>precision</th>\n",
       "      <th>recall</th>\n",
       "      <th>accuracy</th>\n",
       "      <th>f1_score</th>\n",
       "      <th>log_loss</th>\n",
       "      <th>roc_auc</th>\n",
       "    </tr>\n",
       "  </thead>\n",
       "  <tbody>\n",
       "    <tr>\n",
       "      <th>0</th>\n",
       "      <td>0.930159</td>\n",
       "      <td>0.930159</td>\n",
       "      <td>0.942857</td>\n",
       "      <td>0.930159</td>\n",
       "      <td>0.309867</td>\n",
       "      <td>0.997837</td>\n",
       "    </tr>\n",
       "  </tbody>\n",
       "</table>\n",
       "</div>"
      ],
      "text/plain": [
       "   precision    recall  accuracy  f1_score  log_loss   roc_auc\n",
       "0   0.930159  0.930159  0.942857  0.930159  0.309867  0.997837"
      ]
     },
     "execution_count": 17,
     "metadata": {},
     "output_type": "execute_result"
    }
   ],
   "source": [
    "%%bigquery\n",
    "SELECT *\n",
    "FROM ML.EVALUATE (\n",
    "    MODEL `statmike-mlops-349915.bqml_model_monitoring.classify_species_rf`\n",
    ")"
   ]
  },
  {
   "cell_type": "markdown",
   "metadata": {},
   "source": [
    "### Evaluate The Model: Training Data Split (`TRAIN`)\n",
    "\n",
    "Evaluating the model on the training data is good for setting a baseline for the likely best possible performance of the model.  "
   ]
  },
  {
   "cell_type": "code",
   "execution_count": 18,
   "metadata": {
    "tags": []
   },
   "outputs": [
    {
     "data": {
      "application/vnd.jupyter.widget-view+json": {
       "model_id": "cc3a9d5b40cd4c7aa3ea6ee4897ca38f",
       "version_major": 2,
       "version_minor": 0
      },
      "text/plain": [
       "Query is running:   0%|          |"
      ]
     },
     "metadata": {},
     "output_type": "display_data"
    },
    {
     "data": {
      "application/vnd.jupyter.widget-view+json": {
       "model_id": "21bb7c690d37436d8a1fe3565bfc0c24",
       "version_major": 2,
       "version_minor": 0
      },
      "text/plain": [
       "Downloading:   0%|          |"
      ]
     },
     "metadata": {},
     "output_type": "display_data"
    },
    {
     "data": {
      "text/html": [
       "<div>\n",
       "<style scoped>\n",
       "    .dataframe tbody tr th:only-of-type {\n",
       "        vertical-align: middle;\n",
       "    }\n",
       "\n",
       "    .dataframe tbody tr th {\n",
       "        vertical-align: top;\n",
       "    }\n",
       "\n",
       "    .dataframe thead th {\n",
       "        text-align: right;\n",
       "    }\n",
       "</style>\n",
       "<table border=\"1\" class=\"dataframe\">\n",
       "  <thead>\n",
       "    <tr style=\"text-align: right;\">\n",
       "      <th></th>\n",
       "      <th>precision</th>\n",
       "      <th>recall</th>\n",
       "      <th>accuracy</th>\n",
       "      <th>f1_score</th>\n",
       "      <th>log_loss</th>\n",
       "      <th>roc_auc</th>\n",
       "    </tr>\n",
       "  </thead>\n",
       "  <tbody>\n",
       "    <tr>\n",
       "      <th>0</th>\n",
       "      <td>0.986778</td>\n",
       "      <td>0.978765</td>\n",
       "      <td>0.983193</td>\n",
       "      <td>0.982588</td>\n",
       "      <td>0.284384</td>\n",
       "      <td>0.99925</td>\n",
       "    </tr>\n",
       "  </tbody>\n",
       "</table>\n",
       "</div>"
      ],
      "text/plain": [
       "   precision    recall  accuracy  f1_score  log_loss  roc_auc\n",
       "0   0.986778  0.978765  0.983193  0.982588  0.284384  0.99925"
      ]
     },
     "execution_count": 18,
     "metadata": {},
     "output_type": "execute_result"
    }
   ],
   "source": [
    "%%bigquery\n",
    "SELECT *\n",
    "FROM ML.EVALUATE (\n",
    "    MODEL `statmike-mlops-349915.bqml_model_monitoring.classify_species_rf`,\n",
    "    (\n",
    "        SELECT *\n",
    "        FROM `statmike-mlops-349915.bqml_model_monitoring.training_split`\n",
    "        WHERE splits = 'TRAIN'\n",
    "    )\n",
    ")"
   ]
  },
  {
   "cell_type": "markdown",
   "metadata": {},
   "source": [
    "### Evaluate The Model: `TEST` Data Split\n",
    "\n",
    "Evaluating the model on the `TEST` split is a good gauge of performance in general as it represents data the model was not exposed to during training: "
   ]
  },
  {
   "cell_type": "code",
   "execution_count": 19,
   "metadata": {
    "tags": []
   },
   "outputs": [
    {
     "data": {
      "application/vnd.jupyter.widget-view+json": {
       "model_id": "6f3b0c3b6a87448a8bfb5f963fa0bb8c",
       "version_major": 2,
       "version_minor": 0
      },
      "text/plain": [
       "Query is running:   0%|          |"
      ]
     },
     "metadata": {},
     "output_type": "display_data"
    },
    {
     "data": {
      "application/vnd.jupyter.widget-view+json": {
       "model_id": "9621723d3c734c9ebab1998aef8cb34e",
       "version_major": 2,
       "version_minor": 0
      },
      "text/plain": [
       "Downloading:   0%|          |"
      ]
     },
     "metadata": {},
     "output_type": "display_data"
    },
    {
     "data": {
      "text/html": [
       "<div>\n",
       "<style scoped>\n",
       "    .dataframe tbody tr th:only-of-type {\n",
       "        vertical-align: middle;\n",
       "    }\n",
       "\n",
       "    .dataframe tbody tr th {\n",
       "        vertical-align: top;\n",
       "    }\n",
       "\n",
       "    .dataframe thead th {\n",
       "        text-align: right;\n",
       "    }\n",
       "</style>\n",
       "<table border=\"1\" class=\"dataframe\">\n",
       "  <thead>\n",
       "    <tr style=\"text-align: right;\">\n",
       "      <th></th>\n",
       "      <th>precision</th>\n",
       "      <th>recall</th>\n",
       "      <th>accuracy</th>\n",
       "      <th>f1_score</th>\n",
       "      <th>log_loss</th>\n",
       "      <th>roc_auc</th>\n",
       "    </tr>\n",
       "  </thead>\n",
       "  <tbody>\n",
       "    <tr>\n",
       "      <th>0</th>\n",
       "      <td>0.964957</td>\n",
       "      <td>0.979167</td>\n",
       "      <td>0.971831</td>\n",
       "      <td>0.971217</td>\n",
       "      <td>0.284169</td>\n",
       "      <td>1.0</td>\n",
       "    </tr>\n",
       "  </tbody>\n",
       "</table>\n",
       "</div>"
      ],
      "text/plain": [
       "   precision    recall  accuracy  f1_score  log_loss  roc_auc\n",
       "0   0.964957  0.979167  0.971831  0.971217  0.284169      1.0"
      ]
     },
     "execution_count": 19,
     "metadata": {},
     "output_type": "execute_result"
    }
   ],
   "source": [
    "%%bigquery\n",
    "SELECT *\n",
    "FROM ML.EVALUATE (\n",
    "    MODEL `statmike-mlops-349915.bqml_model_monitoring.classify_species_rf`,\n",
    "    (\n",
    "        SELECT *\n",
    "        FROM `statmike-mlops-349915.bqml_model_monitoring.training_split`\n",
    "        WHERE splits = 'TEST'\n",
    "    )\n",
    ")"
   ]
  },
  {
   "cell_type": "markdown",
   "metadata": {},
   "source": [
    "### Evaluate The Classification Performance with `ML.CONFUSION_MATRIX`\n",
    "\n",
    "This model is a classification model and reviewing the true versus predicted classification categories can be done with the [`ML.CONFUSION_MATRIX` function](https://cloud.google.com/bigquery/docs/reference/standard-sql/bigqueryml-syntax-confusion)."
   ]
  },
  {
   "cell_type": "code",
   "execution_count": 20,
   "metadata": {
    "tags": []
   },
   "outputs": [
    {
     "data": {
      "application/vnd.jupyter.widget-view+json": {
       "model_id": "11f6ed87932b48158f57dd66a39ee730",
       "version_major": 2,
       "version_minor": 0
      },
      "text/plain": [
       "Query is running:   0%|          |"
      ]
     },
     "metadata": {},
     "output_type": "display_data"
    },
    {
     "data": {
      "application/vnd.jupyter.widget-view+json": {
       "model_id": "92e3e56fca154545b9ad014caa4258dd",
       "version_major": 2,
       "version_minor": 0
      },
      "text/plain": [
       "Downloading:   0%|          |"
      ]
     },
     "metadata": {},
     "output_type": "display_data"
    },
    {
     "data": {
      "text/html": [
       "<div>\n",
       "<style scoped>\n",
       "    .dataframe tbody tr th:only-of-type {\n",
       "        vertical-align: middle;\n",
       "    }\n",
       "\n",
       "    .dataframe tbody tr th {\n",
       "        vertical-align: top;\n",
       "    }\n",
       "\n",
       "    .dataframe thead th {\n",
       "        text-align: right;\n",
       "    }\n",
       "</style>\n",
       "<table border=\"1\" class=\"dataframe\">\n",
       "  <thead>\n",
       "    <tr style=\"text-align: right;\">\n",
       "      <th></th>\n",
       "      <th>expected_label</th>\n",
       "      <th>Adelie Penguin _Pygoscelis adeliae_</th>\n",
       "      <th>Chinstrap penguin _Pygoscelis antarctica_</th>\n",
       "      <th>Gentoo penguin _Pygoscelis papua_</th>\n",
       "    </tr>\n",
       "  </thead>\n",
       "  <tbody>\n",
       "    <tr>\n",
       "      <th>0</th>\n",
       "      <td>Adelie Penguin (Pygoscelis adeliae)</td>\n",
       "      <td>14</td>\n",
       "      <td>1</td>\n",
       "      <td>0</td>\n",
       "    </tr>\n",
       "    <tr>\n",
       "      <th>1</th>\n",
       "      <td>Chinstrap penguin (Pygoscelis antarctica)</td>\n",
       "      <td>1</td>\n",
       "      <td>6</td>\n",
       "      <td>0</td>\n",
       "    </tr>\n",
       "    <tr>\n",
       "      <th>2</th>\n",
       "      <td>Gentoo penguin (Pygoscelis papua)</td>\n",
       "      <td>0</td>\n",
       "      <td>0</td>\n",
       "      <td>13</td>\n",
       "    </tr>\n",
       "  </tbody>\n",
       "</table>\n",
       "</div>"
      ],
      "text/plain": [
       "                              expected_label  \\\n",
       "0        Adelie Penguin (Pygoscelis adeliae)   \n",
       "1  Chinstrap penguin (Pygoscelis antarctica)   \n",
       "2          Gentoo penguin (Pygoscelis papua)   \n",
       "\n",
       "   Adelie Penguin _Pygoscelis adeliae_  \\\n",
       "0                                   14   \n",
       "1                                    1   \n",
       "2                                    0   \n",
       "\n",
       "   Chinstrap penguin _Pygoscelis antarctica_  \\\n",
       "0                                          1   \n",
       "1                                          6   \n",
       "2                                          0   \n",
       "\n",
       "   Gentoo penguin _Pygoscelis papua_  \n",
       "0                                  0  \n",
       "1                                  0  \n",
       "2                                 13  "
      ]
     },
     "execution_count": 20,
     "metadata": {},
     "output_type": "execute_result"
    }
   ],
   "source": [
    "%%bigquery\n",
    "SELECT *\n",
    "FROM ML.CONFUSION_MATRIX (\n",
    "    MODEL `statmike-mlops-349915.bqml_model_monitoring.classify_species_rf`\n",
    ")"
   ]
  },
  {
   "cell_type": "code",
   "execution_count": 21,
   "metadata": {
    "tags": []
   },
   "outputs": [
    {
     "data": {
      "application/vnd.jupyter.widget-view+json": {
       "model_id": "9a5460dc09a1442cab3587f9f066df65",
       "version_major": 2,
       "version_minor": 0
      },
      "text/plain": [
       "Query is running:   0%|          |"
      ]
     },
     "metadata": {},
     "output_type": "display_data"
    },
    {
     "data": {
      "application/vnd.jupyter.widget-view+json": {
       "model_id": "3882c049fedd43a19dfea687b8be18bb",
       "version_major": 2,
       "version_minor": 0
      },
      "text/plain": [
       "Downloading:   0%|          |"
      ]
     },
     "metadata": {},
     "output_type": "display_data"
    },
    {
     "data": {
      "text/html": [
       "<div>\n",
       "<style scoped>\n",
       "    .dataframe tbody tr th:only-of-type {\n",
       "        vertical-align: middle;\n",
       "    }\n",
       "\n",
       "    .dataframe tbody tr th {\n",
       "        vertical-align: top;\n",
       "    }\n",
       "\n",
       "    .dataframe thead th {\n",
       "        text-align: right;\n",
       "    }\n",
       "</style>\n",
       "<table border=\"1\" class=\"dataframe\">\n",
       "  <thead>\n",
       "    <tr style=\"text-align: right;\">\n",
       "      <th></th>\n",
       "      <th>expected_label</th>\n",
       "      <th>Adelie Penguin _Pygoscelis adeliae_</th>\n",
       "      <th>Chinstrap penguin _Pygoscelis antarctica_</th>\n",
       "      <th>Gentoo penguin _Pygoscelis papua_</th>\n",
       "    </tr>\n",
       "  </thead>\n",
       "  <tbody>\n",
       "    <tr>\n",
       "      <th>0</th>\n",
       "      <td>Adelie Penguin (Pygoscelis adeliae)</td>\n",
       "      <td>104</td>\n",
       "      <td>0</td>\n",
       "      <td>1</td>\n",
       "    </tr>\n",
       "    <tr>\n",
       "      <th>1</th>\n",
       "      <td>Chinstrap penguin (Pygoscelis antarctica)</td>\n",
       "      <td>2</td>\n",
       "      <td>45</td>\n",
       "      <td>0</td>\n",
       "    </tr>\n",
       "    <tr>\n",
       "      <th>2</th>\n",
       "      <td>Gentoo penguin (Pygoscelis papua)</td>\n",
       "      <td>1</td>\n",
       "      <td>0</td>\n",
       "      <td>85</td>\n",
       "    </tr>\n",
       "  </tbody>\n",
       "</table>\n",
       "</div>"
      ],
      "text/plain": [
       "                              expected_label  \\\n",
       "0        Adelie Penguin (Pygoscelis adeliae)   \n",
       "1  Chinstrap penguin (Pygoscelis antarctica)   \n",
       "2          Gentoo penguin (Pygoscelis papua)   \n",
       "\n",
       "   Adelie Penguin _Pygoscelis adeliae_  \\\n",
       "0                                  104   \n",
       "1                                    2   \n",
       "2                                    1   \n",
       "\n",
       "   Chinstrap penguin _Pygoscelis antarctica_  \\\n",
       "0                                          0   \n",
       "1                                         45   \n",
       "2                                          0   \n",
       "\n",
       "   Gentoo penguin _Pygoscelis papua_  \n",
       "0                                  1  \n",
       "1                                  0  \n",
       "2                                 85  "
      ]
     },
     "execution_count": 21,
     "metadata": {},
     "output_type": "execute_result"
    }
   ],
   "source": [
    "%%bigquery\n",
    "SELECT *\n",
    "FROM ML.CONFUSION_MATRIX (\n",
    "    MODEL `statmike-mlops-349915.bqml_model_monitoring.classify_species_rf`,\n",
    "    (\n",
    "        SELECT *\n",
    "        FROM `statmike-mlops-349915.bqml_model_monitoring.training_split`\n",
    "        WHERE splits = 'TRAIN'\n",
    "    )\n",
    ")"
   ]
  },
  {
   "cell_type": "code",
   "execution_count": 22,
   "metadata": {
    "tags": []
   },
   "outputs": [
    {
     "data": {
      "application/vnd.jupyter.widget-view+json": {
       "model_id": "d29035c6211843d580dcb93cee5dee3f",
       "version_major": 2,
       "version_minor": 0
      },
      "text/plain": [
       "Query is running:   0%|          |"
      ]
     },
     "metadata": {},
     "output_type": "display_data"
    },
    {
     "data": {
      "application/vnd.jupyter.widget-view+json": {
       "model_id": "c02b0833abf54fe3a07fd02fd6331f08",
       "version_major": 2,
       "version_minor": 0
      },
      "text/plain": [
       "Downloading:   0%|          |"
      ]
     },
     "metadata": {},
     "output_type": "display_data"
    },
    {
     "data": {
      "text/html": [
       "<div>\n",
       "<style scoped>\n",
       "    .dataframe tbody tr th:only-of-type {\n",
       "        vertical-align: middle;\n",
       "    }\n",
       "\n",
       "    .dataframe tbody tr th {\n",
       "        vertical-align: top;\n",
       "    }\n",
       "\n",
       "    .dataframe thead th {\n",
       "        text-align: right;\n",
       "    }\n",
       "</style>\n",
       "<table border=\"1\" class=\"dataframe\">\n",
       "  <thead>\n",
       "    <tr style=\"text-align: right;\">\n",
       "      <th></th>\n",
       "      <th>expected_label</th>\n",
       "      <th>Adelie Penguin _Pygoscelis adeliae_</th>\n",
       "      <th>Chinstrap penguin _Pygoscelis antarctica_</th>\n",
       "      <th>Gentoo penguin _Pygoscelis papua_</th>\n",
       "    </tr>\n",
       "  </thead>\n",
       "  <tbody>\n",
       "    <tr>\n",
       "      <th>0</th>\n",
       "      <td>Adelie Penguin (Pygoscelis adeliae)</td>\n",
       "      <td>30</td>\n",
       "      <td>1</td>\n",
       "      <td>1</td>\n",
       "    </tr>\n",
       "    <tr>\n",
       "      <th>1</th>\n",
       "      <td>Chinstrap penguin (Pygoscelis antarctica)</td>\n",
       "      <td>0</td>\n",
       "      <td>14</td>\n",
       "      <td>0</td>\n",
       "    </tr>\n",
       "    <tr>\n",
       "      <th>2</th>\n",
       "      <td>Gentoo penguin (Pygoscelis papua)</td>\n",
       "      <td>0</td>\n",
       "      <td>0</td>\n",
       "      <td>25</td>\n",
       "    </tr>\n",
       "  </tbody>\n",
       "</table>\n",
       "</div>"
      ],
      "text/plain": [
       "                              expected_label  \\\n",
       "0        Adelie Penguin (Pygoscelis adeliae)   \n",
       "1  Chinstrap penguin (Pygoscelis antarctica)   \n",
       "2          Gentoo penguin (Pygoscelis papua)   \n",
       "\n",
       "   Adelie Penguin _Pygoscelis adeliae_  \\\n",
       "0                                   30   \n",
       "1                                    0   \n",
       "2                                    0   \n",
       "\n",
       "   Chinstrap penguin _Pygoscelis antarctica_  \\\n",
       "0                                          1   \n",
       "1                                         14   \n",
       "2                                          0   \n",
       "\n",
       "   Gentoo penguin _Pygoscelis papua_  \n",
       "0                                  1  \n",
       "1                                  0  \n",
       "2                                 25  "
      ]
     },
     "execution_count": 22,
     "metadata": {},
     "output_type": "execute_result"
    }
   ],
   "source": [
    "%%bigquery\n",
    "SELECT *\n",
    "FROM ML.CONFUSION_MATRIX (\n",
    "    MODEL `statmike-mlops-349915.bqml_model_monitoring.classify_species_rf`,\n",
    "    (\n",
    "        SELECT *\n",
    "        FROM `statmike-mlops-349915.bqml_model_monitoring.training_split`\n",
    "        WHERE splits = 'TEST'\n",
    "    )\n",
    ")"
   ]
  },
  {
   "cell_type": "markdown",
   "metadata": {
    "tags": []
   },
   "source": [
    "---\n",
    "## Model Serving\n",
    "\n",
    "Once a version of the model is trusted to serve predictions we can put it into use.  At first, this means creating and using predictions from the model.  This is quickly followed by important considerations:\n",
    "\n",
    ">Has the system that is being measured, that creates the data, or that records the data changed in a way that could impact the models ability to correctly predict/classify?\n",
    "\n",
    "It seems like a good idea to continously run evaluations to make sure the model accuracy does not degrade - and it is.  There can be a lag between new data and knowing the actual outcome which makes using using evaluations to monitor models a potentially reactive, or late signal.  To overcome this we can also monitor the model.  More on this later on below."
   ]
  },
  {
   "cell_type": "markdown",
   "metadata": {},
   "source": [
    "### Predictions With `ML.PREDICT`\n",
    "\n",
    "Use [`ML.PREDICT`](https://cloud.google.com/bigquery/docs/reference/standard-sql/bigqueryml-syntax-predict) to serve predictions with the model directly in BigQuery."
   ]
  },
  {
   "cell_type": "code",
   "execution_count": 23,
   "metadata": {
    "tags": []
   },
   "outputs": [
    {
     "data": {
      "application/vnd.jupyter.widget-view+json": {
       "model_id": "9016a3e617964510a771bb97b5804335",
       "version_major": 2,
       "version_minor": 0
      },
      "text/plain": [
       "Query is running:   0%|          |"
      ]
     },
     "metadata": {},
     "output_type": "display_data"
    },
    {
     "data": {
      "application/vnd.jupyter.widget-view+json": {
       "model_id": "136f8161e79544b19ce57646b0039650",
       "version_major": 2,
       "version_minor": 0
      },
      "text/plain": [
       "Downloading:   0%|          |"
      ]
     },
     "metadata": {},
     "output_type": "display_data"
    },
    {
     "data": {
      "text/html": [
       "<div>\n",
       "<style scoped>\n",
       "    .dataframe tbody tr th:only-of-type {\n",
       "        vertical-align: middle;\n",
       "    }\n",
       "\n",
       "    .dataframe tbody tr th {\n",
       "        vertical-align: top;\n",
       "    }\n",
       "\n",
       "    .dataframe thead th {\n",
       "        text-align: right;\n",
       "    }\n",
       "</style>\n",
       "<table border=\"1\" class=\"dataframe\">\n",
       "  <thead>\n",
       "    <tr style=\"text-align: right;\">\n",
       "      <th></th>\n",
       "      <th>predicted_species</th>\n",
       "      <th>predicted_species_probs</th>\n",
       "      <th>species</th>\n",
       "      <th>island</th>\n",
       "      <th>culmen_length_mm</th>\n",
       "      <th>culmen_depth_mm</th>\n",
       "      <th>flipper_length_mm</th>\n",
       "      <th>body_mass_g</th>\n",
       "      <th>sex</th>\n",
       "      <th>splits</th>\n",
       "    </tr>\n",
       "  </thead>\n",
       "  <tbody>\n",
       "    <tr>\n",
       "      <th>0</th>\n",
       "      <td>Adelie Penguin (Pygoscelis adeliae)</td>\n",
       "      <td>[{'label': 'Gentoo penguin (Pygoscelis papua)'...</td>\n",
       "      <td>Gentoo penguin (Pygoscelis papua)</td>\n",
       "      <td>Biscoe</td>\n",
       "      <td>NaN</td>\n",
       "      <td>NaN</td>\n",
       "      <td>NaN</td>\n",
       "      <td>NaN</td>\n",
       "      <td>None</td>\n",
       "      <td>TRAIN</td>\n",
       "    </tr>\n",
       "    <tr>\n",
       "      <th>1</th>\n",
       "      <td>Gentoo penguin (Pygoscelis papua)</td>\n",
       "      <td>[{'label': 'Gentoo penguin (Pygoscelis papua)'...</td>\n",
       "      <td>Gentoo penguin (Pygoscelis papua)</td>\n",
       "      <td>Biscoe</td>\n",
       "      <td>42.9</td>\n",
       "      <td>13.1</td>\n",
       "      <td>215.0</td>\n",
       "      <td>5000.0</td>\n",
       "      <td>FEMALE</td>\n",
       "      <td>TRAIN</td>\n",
       "    </tr>\n",
       "    <tr>\n",
       "      <th>2</th>\n",
       "      <td>Gentoo penguin (Pygoscelis papua)</td>\n",
       "      <td>[{'label': 'Gentoo penguin (Pygoscelis papua)'...</td>\n",
       "      <td>Gentoo penguin (Pygoscelis papua)</td>\n",
       "      <td>Biscoe</td>\n",
       "      <td>46.1</td>\n",
       "      <td>13.2</td>\n",
       "      <td>211.0</td>\n",
       "      <td>4500.0</td>\n",
       "      <td>FEMALE</td>\n",
       "      <td>TRAIN</td>\n",
       "    </tr>\n",
       "    <tr>\n",
       "      <th>3</th>\n",
       "      <td>Gentoo penguin (Pygoscelis papua)</td>\n",
       "      <td>[{'label': 'Gentoo penguin (Pygoscelis papua)'...</td>\n",
       "      <td>Gentoo penguin (Pygoscelis papua)</td>\n",
       "      <td>Biscoe</td>\n",
       "      <td>44.9</td>\n",
       "      <td>13.3</td>\n",
       "      <td>213.0</td>\n",
       "      <td>5100.0</td>\n",
       "      <td>FEMALE</td>\n",
       "      <td>TRAIN</td>\n",
       "    </tr>\n",
       "    <tr>\n",
       "      <th>4</th>\n",
       "      <td>Gentoo penguin (Pygoscelis papua)</td>\n",
       "      <td>[{'label': 'Gentoo penguin (Pygoscelis papua)'...</td>\n",
       "      <td>Gentoo penguin (Pygoscelis papua)</td>\n",
       "      <td>Biscoe</td>\n",
       "      <td>43.3</td>\n",
       "      <td>13.4</td>\n",
       "      <td>209.0</td>\n",
       "      <td>4400.0</td>\n",
       "      <td>FEMALE</td>\n",
       "      <td>TRAIN</td>\n",
       "    </tr>\n",
       "  </tbody>\n",
       "</table>\n",
       "</div>"
      ],
      "text/plain": [
       "                     predicted_species  \\\n",
       "0  Adelie Penguin (Pygoscelis adeliae)   \n",
       "1    Gentoo penguin (Pygoscelis papua)   \n",
       "2    Gentoo penguin (Pygoscelis papua)   \n",
       "3    Gentoo penguin (Pygoscelis papua)   \n",
       "4    Gentoo penguin (Pygoscelis papua)   \n",
       "\n",
       "                             predicted_species_probs  \\\n",
       "0  [{'label': 'Gentoo penguin (Pygoscelis papua)'...   \n",
       "1  [{'label': 'Gentoo penguin (Pygoscelis papua)'...   \n",
       "2  [{'label': 'Gentoo penguin (Pygoscelis papua)'...   \n",
       "3  [{'label': 'Gentoo penguin (Pygoscelis papua)'...   \n",
       "4  [{'label': 'Gentoo penguin (Pygoscelis papua)'...   \n",
       "\n",
       "                             species  island  culmen_length_mm  \\\n",
       "0  Gentoo penguin (Pygoscelis papua)  Biscoe               NaN   \n",
       "1  Gentoo penguin (Pygoscelis papua)  Biscoe              42.9   \n",
       "2  Gentoo penguin (Pygoscelis papua)  Biscoe              46.1   \n",
       "3  Gentoo penguin (Pygoscelis papua)  Biscoe              44.9   \n",
       "4  Gentoo penguin (Pygoscelis papua)  Biscoe              43.3   \n",
       "\n",
       "   culmen_depth_mm  flipper_length_mm  body_mass_g     sex splits  \n",
       "0              NaN                NaN          NaN    None  TRAIN  \n",
       "1             13.1              215.0       5000.0  FEMALE  TRAIN  \n",
       "2             13.2              211.0       4500.0  FEMALE  TRAIN  \n",
       "3             13.3              213.0       5100.0  FEMALE  TRAIN  \n",
       "4             13.4              209.0       4400.0  FEMALE  TRAIN  "
      ]
     },
     "execution_count": 23,
     "metadata": {},
     "output_type": "execute_result"
    }
   ],
   "source": [
    "%%bigquery\n",
    "SELECT *\n",
    "FROM ML.PREDICT(\n",
    "    MODEL `statmike-mlops-349915.bqml_model_monitoring.classify_species_rf`,\n",
    "    (\n",
    "        SELECT *\n",
    "        FROM `statmike-mlops-349915.bqml_model_monitoring.training_split`\n",
    "        LIMIT 5\n",
    "    )\n",
    ")"
   ]
  },
  {
   "cell_type": "markdown",
   "metadata": {
    "tags": []
   },
   "source": [
    "---\n",
    "## Serving Data\n",
    "\n",
    "The data source for training and evaluation represents what is known about a system at a point-in-time.  In real world systems measurements can change for many reasons, for example:\n",
    "- training/serving skew due to measurement and data systems:\n",
    "    - the tool used for measurement may change resulting is slight shifts and variations\n",
    "    - the system reporting results might be updated and introduce errors like rearranging the order or parameters and format of the results\n",
    "    - the data processing systems might have changes that alter the calculations of measurements\n",
    "- the system, environment, or subjects being measured may:\n",
    "    - change behaviors\n",
    "    - short-term even forces change\n",
    "    - have environmental changes that impact them\n",
    "    - have seasonal changes that were not represented in the training data\n",
    "    - change in general due to upstream causes"
   ]
  },
  {
   "cell_type": "markdown",
   "metadata": {},
   "source": [
    "### Introduce Changes Over Time\n",
    "\n",
    "To illustrate the impact of change over time, the following code creates a new set of data from the test split.  It creates a series of changes to measurements for each of the past 30 days.  In each case, the values of the parameters `flipper_length_mm` and `body_mass_g` are allowed to slightly increase which can accumulate over the timespan. This might mimic a potential growth season for the penguins that might not have been represented in the training data.\n",
    "\n",
    "This table of serving data could be sourced form where your features are coming from.  In the case of an online model, like [Vertex AI Prediction Endpoints](https://cloud.google.com/vertex-ai/docs/predictions/overview), then [prediction request could be logged to BigQuery](https://cloud.google.com/vertex-ai/docs/predictions/online-prediction-logging#enabling-and-disabling) for use in the model monitoring tasks below.  This online serving pattern is covered later in this tutorial."
   ]
  },
  {
   "cell_type": "code",
   "execution_count": 24,
   "metadata": {
    "tags": []
   },
   "outputs": [
    {
     "data": {
      "application/vnd.jupyter.widget-view+json": {
       "model_id": "022e6dcb28594f3ab11a8590fc40a70d",
       "version_major": 2,
       "version_minor": 0
      },
      "text/plain": [
       "Query is running:   0%|          |"
      ]
     },
     "metadata": {},
     "output_type": "display_data"
    },
    {
     "data": {
      "text/html": [
       "<div>\n",
       "<style scoped>\n",
       "    .dataframe tbody tr th:only-of-type {\n",
       "        vertical-align: middle;\n",
       "    }\n",
       "\n",
       "    .dataframe tbody tr th {\n",
       "        vertical-align: top;\n",
       "    }\n",
       "\n",
       "    .dataframe thead th {\n",
       "        text-align: right;\n",
       "    }\n",
       "</style>\n",
       "<table border=\"1\" class=\"dataframe\">\n",
       "  <thead>\n",
       "    <tr style=\"text-align: right;\">\n",
       "      <th></th>\n",
       "    </tr>\n",
       "  </thead>\n",
       "  <tbody>\n",
       "  </tbody>\n",
       "</table>\n",
       "</div>"
      ],
      "text/plain": [
       "Empty DataFrame\n",
       "Columns: []\n",
       "Index: []"
      ]
     },
     "execution_count": 24,
     "metadata": {},
     "output_type": "execute_result"
    }
   ],
   "source": [
    "%%bigquery\n",
    "DECLARE counter INT64 DEFAULT 30;\n",
    "\n",
    "# actual data as starting point - add entity_id, and feature_timestamp:\n",
    "CREATE OR REPLACE TABLE `statmike-mlops-349915.bqml_model_monitoring.serving` AS\n",
    "    SELECT * EXCEPT(flipper_length_mm, body_mass_g),\n",
    "    TIMESTAMP_SUB(TIMESTAMP(CURRENT_DATE()), INTERVAL counter DAY) AS instance_timestamp,\n",
    "    flipper_length_mm as flipper_length_mm,\n",
    "    body_mass_g as body_mass_g\n",
    "    FROM `statmike-mlops-349915.bqml_model_monitoring.training`\n",
    "    WHERE RAND() <= 0.20;\n",
    "\n",
    "LOOP\n",
    "    SET counter = counter - 1;\n",
    "    IF counter < 0 THEN LEAVE;\n",
    "    END IF;\n",
    "    INSERT `statmike-mlops-349915.bqml_model_monitoring.serving`\n",
    "        SELECT * EXCEPT(instance_timestamp, flipper_length_mm, body_mass_g),\n",
    "            TIMESTAMP_ADD(instance_timestamp, INTERVAL 1 DAY) AS instance_timestamp,\n",
    "            CASE\n",
    "                WHEN RAND() >= 0.75 THEN flipper_length_mm\n",
    "                ELSE flipper_length_mm + 6*(RAND()-0.1)\n",
    "            END AS flipper_length_mm,\n",
    "            CASE\n",
    "                WHEN RAND() >= 0.75 THEN body_mass_g\n",
    "                ELSE body_mass_g + 120*(RAND()-0.1)\n",
    "            END AS body_mass_g,\n",
    "        FROM `statmike-mlops-349915.bqml_model_monitoring.serving`\n",
    "        WHERE instance_timestamp >= (SELECT MAX(instance_timestamp) FROM `statmike-mlops-349915.bqml_model_monitoring.serving`);\n",
    "END LOOP;"
   ]
  },
  {
   "cell_type": "code",
   "execution_count": 25,
   "metadata": {
    "tags": []
   },
   "outputs": [
    {
     "data": {
      "application/vnd.jupyter.widget-view+json": {
       "model_id": "dc8deba6232043e593317a3ace5ed7ea",
       "version_major": 2,
       "version_minor": 0
      },
      "text/plain": [
       "Query is running:   0%|          |"
      ]
     },
     "metadata": {},
     "output_type": "display_data"
    },
    {
     "data": {
      "application/vnd.jupyter.widget-view+json": {
       "model_id": "3ab6cef40fa64cf3b565ac23b584c0b4",
       "version_major": 2,
       "version_minor": 0
      },
      "text/plain": [
       "Downloading:   0%|          |"
      ]
     },
     "metadata": {},
     "output_type": "display_data"
    }
   ],
   "source": [
    "%%bigquery serve\n",
    "SELECT\n",
    "    DATE(instance_timestamp) AS DATE,\n",
    "    AVG(flipper_length_mm) AS flipper_length_mm,\n",
    "    AVG(body_mass_g) AS body_mass_g\n",
    "FROM `statmike-mlops-349915.bqml_model_monitoring.serving`\n",
    "GROUP BY DATE\n",
    "ORDER BY DATE"
   ]
  },
  {
   "cell_type": "code",
   "execution_count": 26,
   "metadata": {
    "tags": []
   },
   "outputs": [],
   "source": [
    "serve.set_index('DATE', inplace = True)"
   ]
  },
  {
   "cell_type": "code",
   "execution_count": 27,
   "metadata": {
    "tags": []
   },
   "outputs": [],
   "source": [
    "#serve"
   ]
  },
  {
   "cell_type": "code",
   "execution_count": 28,
   "metadata": {
    "tags": []
   },
   "outputs": [
    {
     "data": {
      "text/plain": [
       "<Axes: xlabel='DATE'>"
      ]
     },
     "execution_count": 28,
     "metadata": {},
     "output_type": "execute_result"
    },
    {
     "data": {
      "image/png": "[encoded data removed]",
      "text/plain": [
       "<Figure size 800x400 with 1 Axes>"
      ]
     },
     "metadata": {},
     "output_type": "display_data"
    }
   ],
   "source": [
    "serve['flipper_length_mm'].plot(legend = True, figsize = (8, 4))"
   ]
  },
  {
   "cell_type": "code",
   "execution_count": 29,
   "metadata": {
    "tags": []
   },
   "outputs": [
    {
     "data": {
      "text/plain": [
       "<Axes: xlabel='DATE'>"
      ]
     },
     "execution_count": 29,
     "metadata": {},
     "output_type": "execute_result"
    },
    {
     "data": {
      "image/png": "[encoded data removed]",
      "text/plain": [
       "<Figure size 800x400 with 1 Axes>"
      ]
     },
     "metadata": {},
     "output_type": "display_data"
    }
   ],
   "source": [
    "serve['body_mass_g'].plot(legend = True, figsize = (8, 4))"
   ]
  },
  {
   "cell_type": "markdown",
   "metadata": {
    "tags": []
   },
   "source": [
    "---\n",
    "## Monitoring With Evaluations\n",
    "\n",
    "It might seem like ongoing model evaluations are a great solution to model monitoring.  If the actual known values are available immediately then this could be possible to use for monitoring.  However, detecting a change in evaluation metrics means the model has realized a degradation.  It is a lagging signal.  To be more proactive we should monitor the inputs to the model, the features.  More on that in the next section.\n",
    "\n",
    "First, look at the evaluation metrics for the most recent days data which has the cumulative change of the past 30 days introduced above.  In this case, the actual known values is known. This may not be possible in many real-world examples where the actual known values are:\n",
    "- delayed by minutes, hours, days, or even longer\n",
    "- not always known for all instances\n",
    "- potentially in a different status that can change over a period of time before being confirmed as final\n",
    "\n",
    "In reviewing the evaluation for the most recent instances here, the `precision` has dropped and the `log_loss` has increased drastically.  The confusion matrix shows Chinstrap penguins's are now being misclassified much more often than when the model was trained.  \n",
    "\n",
    "The question becomes \"How soon could this have been noticed?\"."
   ]
  },
  {
   "cell_type": "code",
   "execution_count": 30,
   "metadata": {
    "tags": []
   },
   "outputs": [
    {
     "data": {
      "application/vnd.jupyter.widget-view+json": {
       "model_id": "5aa63fa34b804849a87682f082cb8514",
       "version_major": 2,
       "version_minor": 0
      },
      "text/plain": [
       "Query is running:   0%|          |"
      ]
     },
     "metadata": {},
     "output_type": "display_data"
    },
    {
     "data": {
      "application/vnd.jupyter.widget-view+json": {
       "model_id": "c9064ec921c0469184a420d420d015b9",
       "version_major": 2,
       "version_minor": 0
      },
      "text/plain": [
       "Downloading:   0%|          |"
      ]
     },
     "metadata": {},
     "output_type": "display_data"
    },
    {
     "data": {
      "text/html": [
       "<div>\n",
       "<style scoped>\n",
       "    .dataframe tbody tr th:only-of-type {\n",
       "        vertical-align: middle;\n",
       "    }\n",
       "\n",
       "    .dataframe tbody tr th {\n",
       "        vertical-align: top;\n",
       "    }\n",
       "\n",
       "    .dataframe thead th {\n",
       "        text-align: right;\n",
       "    }\n",
       "</style>\n",
       "<table border=\"1\" class=\"dataframe\">\n",
       "  <thead>\n",
       "    <tr style=\"text-align: right;\">\n",
       "      <th></th>\n",
       "      <th>precision</th>\n",
       "      <th>recall</th>\n",
       "      <th>accuracy</th>\n",
       "      <th>f1_score</th>\n",
       "      <th>log_loss</th>\n",
       "      <th>roc_auc</th>\n",
       "    </tr>\n",
       "  </thead>\n",
       "  <tbody>\n",
       "    <tr>\n",
       "      <th>0</th>\n",
       "      <td>0.958333</td>\n",
       "      <td>0.958333</td>\n",
       "      <td>0.952381</td>\n",
       "      <td>0.955556</td>\n",
       "      <td>0.480169</td>\n",
       "      <td>1.0</td>\n",
       "    </tr>\n",
       "  </tbody>\n",
       "</table>\n",
       "</div>"
      ],
      "text/plain": [
       "   precision    recall  accuracy  f1_score  log_loss  roc_auc\n",
       "0   0.958333  0.958333  0.952381  0.955556  0.480169      1.0"
      ]
     },
     "execution_count": 30,
     "metadata": {},
     "output_type": "execute_result"
    }
   ],
   "source": [
    "%%bigquery\n",
    "SELECT *\n",
    "FROM ML.EVALUATE (\n",
    "    MODEL `statmike-mlops-349915.bqml_model_monitoring.classify_species_rf`,\n",
    "    (\n",
    "        SELECT *\n",
    "        FROM `statmike-mlops-349915.bqml_model_monitoring.serving`\n",
    "        WHERE DATE(instance_timestamp) >= CURRENT_DATE()\n",
    "    )\n",
    ")"
   ]
  },
  {
   "cell_type": "code",
   "execution_count": 31,
   "metadata": {
    "tags": []
   },
   "outputs": [
    {
     "data": {
      "application/vnd.jupyter.widget-view+json": {
       "model_id": "0c29bc88a7b14c80a9428a7e3ad282f4",
       "version_major": 2,
       "version_minor": 0
      },
      "text/plain": [
       "Query is running:   0%|          |"
      ]
     },
     "metadata": {},
     "output_type": "display_data"
    },
    {
     "data": {
      "application/vnd.jupyter.widget-view+json": {
       "model_id": "55f086bb63344b3fbc65e8e422baeada",
       "version_major": 2,
       "version_minor": 0
      },
      "text/plain": [
       "Downloading:   0%|          |"
      ]
     },
     "metadata": {},
     "output_type": "display_data"
    },
    {
     "data": {
      "text/html": [
       "<div>\n",
       "<style scoped>\n",
       "    .dataframe tbody tr th:only-of-type {\n",
       "        vertical-align: middle;\n",
       "    }\n",
       "\n",
       "    .dataframe tbody tr th {\n",
       "        vertical-align: top;\n",
       "    }\n",
       "\n",
       "    .dataframe thead th {\n",
       "        text-align: right;\n",
       "    }\n",
       "</style>\n",
       "<table border=\"1\" class=\"dataframe\">\n",
       "  <thead>\n",
       "    <tr style=\"text-align: right;\">\n",
       "      <th></th>\n",
       "      <th>expected_label</th>\n",
       "      <th>Adelie Penguin _Pygoscelis adeliae_</th>\n",
       "      <th>Chinstrap penguin _Pygoscelis antarctica_</th>\n",
       "      <th>Gentoo penguin _Pygoscelis papua_</th>\n",
       "    </tr>\n",
       "  </thead>\n",
       "  <tbody>\n",
       "    <tr>\n",
       "      <th>0</th>\n",
       "      <td>Adelie Penguin (Pygoscelis adeliae)</td>\n",
       "      <td>21</td>\n",
       "      <td>0</td>\n",
       "      <td>3</td>\n",
       "    </tr>\n",
       "    <tr>\n",
       "      <th>1</th>\n",
       "      <td>Chinstrap penguin (Pygoscelis antarctica)</td>\n",
       "      <td>0</td>\n",
       "      <td>18</td>\n",
       "      <td>0</td>\n",
       "    </tr>\n",
       "    <tr>\n",
       "      <th>2</th>\n",
       "      <td>Gentoo penguin (Pygoscelis papua)</td>\n",
       "      <td>0</td>\n",
       "      <td>0</td>\n",
       "      <td>21</td>\n",
       "    </tr>\n",
       "  </tbody>\n",
       "</table>\n",
       "</div>"
      ],
      "text/plain": [
       "                              expected_label  \\\n",
       "0        Adelie Penguin (Pygoscelis adeliae)   \n",
       "1  Chinstrap penguin (Pygoscelis antarctica)   \n",
       "2          Gentoo penguin (Pygoscelis papua)   \n",
       "\n",
       "   Adelie Penguin _Pygoscelis adeliae_  \\\n",
       "0                                   21   \n",
       "1                                    0   \n",
       "2                                    0   \n",
       "\n",
       "   Chinstrap penguin _Pygoscelis antarctica_  \\\n",
       "0                                          0   \n",
       "1                                         18   \n",
       "2                                          0   \n",
       "\n",
       "   Gentoo penguin _Pygoscelis papua_  \n",
       "0                                  3  \n",
       "1                                  0  \n",
       "2                                 21  "
      ]
     },
     "execution_count": 31,
     "metadata": {},
     "output_type": "execute_result"
    }
   ],
   "source": [
    "%%bigquery\n",
    "SELECT *\n",
    "FROM ML.CONFUSION_MATRIX (\n",
    "    MODEL `statmike-mlops-349915.bqml_model_monitoring.classify_species_rf`,\n",
    "    (\n",
    "        SELECT *\n",
    "        FROM `statmike-mlops-349915.bqml_model_monitoring.serving`\n",
    "        WHERE DATE(instance_timestamp) >= CURRENT_DATE()\n",
    "    )\n",
    ")"
   ]
  },
  {
   "cell_type": "markdown",
   "metadata": {},
   "source": [
    "### Evaluations: Over Time\n",
    "\n",
    "In this case, we know the actual identification of the `species` and are measuring the same penguins daily.  Reviewing the evaluations daily could give a good sense of how the model is performing on a daily basis.\n",
    "\n",
    "The result of the daily evaluations below shows that the log_loss starts to increase immediately and it takes more than a week for a noticable impact on precision/recall/accuracy/f1_score. \n",
    "\n",
    "What if the actual values where only known after a lag of days or weeks?  How quickly would evaluations be able to indicate the model's accuracy is possibly questionable?  The answer is a different approach - Model Monitoring.  This is covered in the section that follows."
   ]
  },
  {
   "cell_type": "code",
   "execution_count": 32,
   "metadata": {
    "tags": []
   },
   "outputs": [
    {
     "data": {
      "application/vnd.jupyter.widget-view+json": {
       "model_id": "9d7a0c50b3e9491d8bd60af39d8aa12b",
       "version_major": 2,
       "version_minor": 0
      },
      "text/plain": [
       "Query is running:   0%|          |"
      ]
     },
     "metadata": {},
     "output_type": "display_data"
    },
    {
     "data": {
      "application/vnd.jupyter.widget-view+json": {
       "model_id": "f7a540c40c2a4d54b7e336c8cd695a82",
       "version_major": 2,
       "version_minor": 0
      },
      "text/plain": [
       "Downloading:   0%|          |"
      ]
     },
     "metadata": {},
     "output_type": "display_data"
    }
   ],
   "source": [
    "%%bigquery evaluations\n",
    "DECLARE counter INT64 DEFAULT 30;\n",
    "DECLARE result STRUCT<precision FLOAT64, recall FLOAT64, accuracy FLOAT64, f1_score FLOAT64, log_loss FLOAT64, roc_auc FLOAT64, eval_date DATE>;\n",
    "DECLARE results ARRAY<STRUCT<precision FLOAT64, recall FLOAT64, accuracy FLOAT64, f1_score FLOAT64, log_loss FLOAT64, roc_auc FLOAT64, eval_date DATE>> DEFAULT [];\n",
    "LOOP\n",
    "    IF counter < 0 THEN LEAVE;\n",
    "    END IF;\n",
    "    SET result = (\n",
    "            SELECT AS STRUCT precision, recall, accuracy, f1_score, log_loss, roc_auc, DATE_SUB(CURRENT_DATE(), INTERVAL counter DAY) AS eval_date\n",
    "            FROM ML.EVALUATE (\n",
    "                MODEL `statmike-mlops-349915.bqml_model_monitoring.classify_species_rf`,\n",
    "                (\n",
    "                    SELECT *\n",
    "                    FROM `statmike-mlops-349915.bqml_model_monitoring.serving`\n",
    "                    WHERE DATE(instance_timestamp) = DATE_SUB(CURRENT_DATE(), INTERVAL counter DAY)\n",
    "                )\n",
    "            )\n",
    "    );\n",
    "    SET results = ARRAY_CONCAT(results,[result]);\n",
    "    SET counter = counter - 1;\n",
    "END LOOP;\n",
    "SELECT * FROM UNNEST(results);"
   ]
  },
  {
   "cell_type": "code",
   "execution_count": 33,
   "metadata": {
    "tags": []
   },
   "outputs": [
    {
     "data": {
      "text/html": [
       "<div>\n",
       "<style scoped>\n",
       "    .dataframe tbody tr th:only-of-type {\n",
       "        vertical-align: middle;\n",
       "    }\n",
       "\n",
       "    .dataframe tbody tr th {\n",
       "        vertical-align: top;\n",
       "    }\n",
       "\n",
       "    .dataframe thead th {\n",
       "        text-align: right;\n",
       "    }\n",
       "</style>\n",
       "<table border=\"1\" class=\"dataframe\">\n",
       "  <thead>\n",
       "    <tr style=\"text-align: right;\">\n",
       "      <th></th>\n",
       "      <th>precision</th>\n",
       "      <th>recall</th>\n",
       "      <th>accuracy</th>\n",
       "      <th>f1_score</th>\n",
       "      <th>log_loss</th>\n",
       "      <th>roc_auc</th>\n",
       "      <th>eval_date</th>\n",
       "    </tr>\n",
       "  </thead>\n",
       "  <tbody>\n",
       "    <tr>\n",
       "      <th>0</th>\n",
       "      <td>1.000000</td>\n",
       "      <td>1.000000</td>\n",
       "      <td>1.000000</td>\n",
       "      <td>1.000000</td>\n",
       "      <td>0.256528</td>\n",
       "      <td>1.0</td>\n",
       "      <td>2025-02-27</td>\n",
       "    </tr>\n",
       "    <tr>\n",
       "      <th>1</th>\n",
       "      <td>1.000000</td>\n",
       "      <td>1.000000</td>\n",
       "      <td>1.000000</td>\n",
       "      <td>1.000000</td>\n",
       "      <td>0.253987</td>\n",
       "      <td>1.0</td>\n",
       "      <td>2025-02-28</td>\n",
       "    </tr>\n",
       "    <tr>\n",
       "      <th>2</th>\n",
       "      <td>1.000000</td>\n",
       "      <td>1.000000</td>\n",
       "      <td>1.000000</td>\n",
       "      <td>1.000000</td>\n",
       "      <td>0.261120</td>\n",
       "      <td>1.0</td>\n",
       "      <td>2025-03-01</td>\n",
       "    </tr>\n",
       "    <tr>\n",
       "      <th>3</th>\n",
       "      <td>1.000000</td>\n",
       "      <td>1.000000</td>\n",
       "      <td>1.000000</td>\n",
       "      <td>1.000000</td>\n",
       "      <td>0.269017</td>\n",
       "      <td>1.0</td>\n",
       "      <td>2025-03-02</td>\n",
       "    </tr>\n",
       "    <tr>\n",
       "      <th>4</th>\n",
       "      <td>1.000000</td>\n",
       "      <td>1.000000</td>\n",
       "      <td>1.000000</td>\n",
       "      <td>1.000000</td>\n",
       "      <td>0.271152</td>\n",
       "      <td>1.0</td>\n",
       "      <td>2025-03-03</td>\n",
       "    </tr>\n",
       "    <tr>\n",
       "      <th>5</th>\n",
       "      <td>1.000000</td>\n",
       "      <td>1.000000</td>\n",
       "      <td>1.000000</td>\n",
       "      <td>1.000000</td>\n",
       "      <td>0.274848</td>\n",
       "      <td>1.0</td>\n",
       "      <td>2025-03-04</td>\n",
       "    </tr>\n",
       "    <tr>\n",
       "      <th>6</th>\n",
       "      <td>1.000000</td>\n",
       "      <td>1.000000</td>\n",
       "      <td>1.000000</td>\n",
       "      <td>1.000000</td>\n",
       "      <td>0.278212</td>\n",
       "      <td>1.0</td>\n",
       "      <td>2025-03-05</td>\n",
       "    </tr>\n",
       "    <tr>\n",
       "      <th>7</th>\n",
       "      <td>1.000000</td>\n",
       "      <td>1.000000</td>\n",
       "      <td>1.000000</td>\n",
       "      <td>1.000000</td>\n",
       "      <td>0.298505</td>\n",
       "      <td>1.0</td>\n",
       "      <td>2025-03-06</td>\n",
       "    </tr>\n",
       "    <tr>\n",
       "      <th>8</th>\n",
       "      <td>1.000000</td>\n",
       "      <td>1.000000</td>\n",
       "      <td>1.000000</td>\n",
       "      <td>1.000000</td>\n",
       "      <td>0.318712</td>\n",
       "      <td>1.0</td>\n",
       "      <td>2025-03-07</td>\n",
       "    </tr>\n",
       "    <tr>\n",
       "      <th>9</th>\n",
       "      <td>1.000000</td>\n",
       "      <td>1.000000</td>\n",
       "      <td>1.000000</td>\n",
       "      <td>1.000000</td>\n",
       "      <td>0.323079</td>\n",
       "      <td>1.0</td>\n",
       "      <td>2025-03-08</td>\n",
       "    </tr>\n",
       "    <tr>\n",
       "      <th>10</th>\n",
       "      <td>1.000000</td>\n",
       "      <td>1.000000</td>\n",
       "      <td>1.000000</td>\n",
       "      <td>1.000000</td>\n",
       "      <td>0.339193</td>\n",
       "      <td>1.0</td>\n",
       "      <td>2025-03-09</td>\n",
       "    </tr>\n",
       "    <tr>\n",
       "      <th>11</th>\n",
       "      <td>1.000000</td>\n",
       "      <td>1.000000</td>\n",
       "      <td>1.000000</td>\n",
       "      <td>1.000000</td>\n",
       "      <td>0.354328</td>\n",
       "      <td>1.0</td>\n",
       "      <td>2025-03-10</td>\n",
       "    </tr>\n",
       "    <tr>\n",
       "      <th>12</th>\n",
       "      <td>0.984848</td>\n",
       "      <td>0.986111</td>\n",
       "      <td>0.984127</td>\n",
       "      <td>0.985156</td>\n",
       "      <td>0.372240</td>\n",
       "      <td>1.0</td>\n",
       "      <td>2025-03-11</td>\n",
       "    </tr>\n",
       "    <tr>\n",
       "      <th>13</th>\n",
       "      <td>0.984848</td>\n",
       "      <td>0.986111</td>\n",
       "      <td>0.984127</td>\n",
       "      <td>0.985156</td>\n",
       "      <td>0.382690</td>\n",
       "      <td>1.0</td>\n",
       "      <td>2025-03-12</td>\n",
       "    </tr>\n",
       "    <tr>\n",
       "      <th>14</th>\n",
       "      <td>0.984848</td>\n",
       "      <td>0.986111</td>\n",
       "      <td>0.984127</td>\n",
       "      <td>0.985156</td>\n",
       "      <td>0.398142</td>\n",
       "      <td>1.0</td>\n",
       "      <td>2025-03-13</td>\n",
       "    </tr>\n",
       "    <tr>\n",
       "      <th>15</th>\n",
       "      <td>0.984848</td>\n",
       "      <td>0.986111</td>\n",
       "      <td>0.984127</td>\n",
       "      <td>0.985156</td>\n",
       "      <td>0.406594</td>\n",
       "      <td>1.0</td>\n",
       "      <td>2025-03-14</td>\n",
       "    </tr>\n",
       "    <tr>\n",
       "      <th>16</th>\n",
       "      <td>0.971014</td>\n",
       "      <td>0.972222</td>\n",
       "      <td>0.968254</td>\n",
       "      <td>0.970356</td>\n",
       "      <td>0.431320</td>\n",
       "      <td>1.0</td>\n",
       "      <td>2025-03-15</td>\n",
       "    </tr>\n",
       "    <tr>\n",
       "      <th>17</th>\n",
       "      <td>0.971014</td>\n",
       "      <td>0.972222</td>\n",
       "      <td>0.968254</td>\n",
       "      <td>0.970356</td>\n",
       "      <td>0.431779</td>\n",
       "      <td>1.0</td>\n",
       "      <td>2025-03-16</td>\n",
       "    </tr>\n",
       "    <tr>\n",
       "      <th>18</th>\n",
       "      <td>0.971014</td>\n",
       "      <td>0.972222</td>\n",
       "      <td>0.968254</td>\n",
       "      <td>0.970356</td>\n",
       "      <td>0.437743</td>\n",
       "      <td>1.0</td>\n",
       "      <td>2025-03-17</td>\n",
       "    </tr>\n",
       "    <tr>\n",
       "      <th>19</th>\n",
       "      <td>0.971014</td>\n",
       "      <td>0.972222</td>\n",
       "      <td>0.968254</td>\n",
       "      <td>0.970356</td>\n",
       "      <td>0.443359</td>\n",
       "      <td>1.0</td>\n",
       "      <td>2025-03-18</td>\n",
       "    </tr>\n",
       "    <tr>\n",
       "      <th>20</th>\n",
       "      <td>0.971014</td>\n",
       "      <td>0.972222</td>\n",
       "      <td>0.968254</td>\n",
       "      <td>0.970356</td>\n",
       "      <td>0.445460</td>\n",
       "      <td>1.0</td>\n",
       "      <td>2025-03-19</td>\n",
       "    </tr>\n",
       "    <tr>\n",
       "      <th>21</th>\n",
       "      <td>0.971014</td>\n",
       "      <td>0.972222</td>\n",
       "      <td>0.968254</td>\n",
       "      <td>0.970356</td>\n",
       "      <td>0.446754</td>\n",
       "      <td>1.0</td>\n",
       "      <td>2025-03-20</td>\n",
       "    </tr>\n",
       "    <tr>\n",
       "      <th>22</th>\n",
       "      <td>0.971014</td>\n",
       "      <td>0.972222</td>\n",
       "      <td>0.968254</td>\n",
       "      <td>0.970356</td>\n",
       "      <td>0.453720</td>\n",
       "      <td>1.0</td>\n",
       "      <td>2025-03-21</td>\n",
       "    </tr>\n",
       "    <tr>\n",
       "      <th>23</th>\n",
       "      <td>0.971014</td>\n",
       "      <td>0.972222</td>\n",
       "      <td>0.968254</td>\n",
       "      <td>0.970356</td>\n",
       "      <td>0.457988</td>\n",
       "      <td>1.0</td>\n",
       "      <td>2025-03-22</td>\n",
       "    </tr>\n",
       "    <tr>\n",
       "      <th>24</th>\n",
       "      <td>0.971014</td>\n",
       "      <td>0.972222</td>\n",
       "      <td>0.968254</td>\n",
       "      <td>0.970356</td>\n",
       "      <td>0.460840</td>\n",
       "      <td>1.0</td>\n",
       "      <td>2025-03-23</td>\n",
       "    </tr>\n",
       "    <tr>\n",
       "      <th>25</th>\n",
       "      <td>0.971014</td>\n",
       "      <td>0.972222</td>\n",
       "      <td>0.968254</td>\n",
       "      <td>0.970356</td>\n",
       "      <td>0.465309</td>\n",
       "      <td>1.0</td>\n",
       "      <td>2025-03-24</td>\n",
       "    </tr>\n",
       "    <tr>\n",
       "      <th>26</th>\n",
       "      <td>0.971014</td>\n",
       "      <td>0.972222</td>\n",
       "      <td>0.968254</td>\n",
       "      <td>0.970356</td>\n",
       "      <td>0.469221</td>\n",
       "      <td>1.0</td>\n",
       "      <td>2025-03-25</td>\n",
       "    </tr>\n",
       "    <tr>\n",
       "      <th>27</th>\n",
       "      <td>0.971014</td>\n",
       "      <td>0.972222</td>\n",
       "      <td>0.968254</td>\n",
       "      <td>0.970356</td>\n",
       "      <td>0.470815</td>\n",
       "      <td>1.0</td>\n",
       "      <td>2025-03-26</td>\n",
       "    </tr>\n",
       "    <tr>\n",
       "      <th>28</th>\n",
       "      <td>0.971014</td>\n",
       "      <td>0.972222</td>\n",
       "      <td>0.968254</td>\n",
       "      <td>0.970356</td>\n",
       "      <td>0.470880</td>\n",
       "      <td>1.0</td>\n",
       "      <td>2025-03-27</td>\n",
       "    </tr>\n",
       "    <tr>\n",
       "      <th>29</th>\n",
       "      <td>0.971014</td>\n",
       "      <td>0.972222</td>\n",
       "      <td>0.968254</td>\n",
       "      <td>0.970356</td>\n",
       "      <td>0.471129</td>\n",
       "      <td>1.0</td>\n",
       "      <td>2025-03-28</td>\n",
       "    </tr>\n",
       "    <tr>\n",
       "      <th>30</th>\n",
       "      <td>0.958333</td>\n",
       "      <td>0.958333</td>\n",
       "      <td>0.952381</td>\n",
       "      <td>0.955556</td>\n",
       "      <td>0.480169</td>\n",
       "      <td>1.0</td>\n",
       "      <td>2025-03-29</td>\n",
       "    </tr>\n",
       "  </tbody>\n",
       "</table>\n",
       "</div>"
      ],
      "text/plain": [
       "    precision    recall  accuracy  f1_score  log_loss  roc_auc   eval_date\n",
       "0    1.000000  1.000000  1.000000  1.000000  0.256528      1.0  2025-02-27\n",
       "1    1.000000  1.000000  1.000000  1.000000  0.253987      1.0  2025-02-28\n",
       "2    1.000000  1.000000  1.000000  1.000000  0.261120      1.0  2025-03-01\n",
       "3    1.000000  1.000000  1.000000  1.000000  0.269017      1.0  2025-03-02\n",
       "4    1.000000  1.000000  1.000000  1.000000  0.271152      1.0  2025-03-03\n",
       "5    1.000000  1.000000  1.000000  1.000000  0.274848      1.0  2025-03-04\n",
       "6    1.000000  1.000000  1.000000  1.000000  0.278212      1.0  2025-03-05\n",
       "7    1.000000  1.000000  1.000000  1.000000  0.298505      1.0  2025-03-06\n",
       "8    1.000000  1.000000  1.000000  1.000000  0.318712      1.0  2025-03-07\n",
       "9    1.000000  1.000000  1.000000  1.000000  0.323079      1.0  2025-03-08\n",
       "10   1.000000  1.000000  1.000000  1.000000  0.339193      1.0  2025-03-09\n",
       "11   1.000000  1.000000  1.000000  1.000000  0.354328      1.0  2025-03-10\n",
       "12   0.984848  0.986111  0.984127  0.985156  0.372240      1.0  2025-03-11\n",
       "13   0.984848  0.986111  0.984127  0.985156  0.382690      1.0  2025-03-12\n",
       "14   0.984848  0.986111  0.984127  0.985156  0.398142      1.0  2025-03-13\n",
       "15   0.984848  0.986111  0.984127  0.985156  0.406594      1.0  2025-03-14\n",
       "16   0.971014  0.972222  0.968254  0.970356  0.431320      1.0  2025-03-15\n",
       "17   0.971014  0.972222  0.968254  0.970356  0.431779      1.0  2025-03-16\n",
       "18   0.971014  0.972222  0.968254  0.970356  0.437743      1.0  2025-03-17\n",
       "19   0.971014  0.972222  0.968254  0.970356  0.443359      1.0  2025-03-18\n",
       "20   0.971014  0.972222  0.968254  0.970356  0.445460      1.0  2025-03-19\n",
       "21   0.971014  0.972222  0.968254  0.970356  0.446754      1.0  2025-03-20\n",
       "22   0.971014  0.972222  0.968254  0.970356  0.453720      1.0  2025-03-21\n",
       "23   0.971014  0.972222  0.968254  0.970356  0.457988      1.0  2025-03-22\n",
       "24   0.971014  0.972222  0.968254  0.970356  0.460840      1.0  2025-03-23\n",
       "25   0.971014  0.972222  0.968254  0.970356  0.465309      1.0  2025-03-24\n",
       "26   0.971014  0.972222  0.968254  0.970356  0.469221      1.0  2025-03-25\n",
       "27   0.971014  0.972222  0.968254  0.970356  0.470815      1.0  2025-03-26\n",
       "28   0.971014  0.972222  0.968254  0.970356  0.470880      1.0  2025-03-27\n",
       "29   0.971014  0.972222  0.968254  0.970356  0.471129      1.0  2025-03-28\n",
       "30   0.958333  0.958333  0.952381  0.955556  0.480169      1.0  2025-03-29"
      ]
     },
     "execution_count": 33,
     "metadata": {},
     "output_type": "execute_result"
    }
   ],
   "source": [
    "evaluations"
   ]
  },
  {
   "cell_type": "code",
   "execution_count": 34,
   "metadata": {
    "tags": []
   },
   "outputs": [],
   "source": [
    "evaluations.set_index('eval_date', inplace = True)"
   ]
  },
  {
   "cell_type": "code",
   "execution_count": 35,
   "metadata": {
    "tags": []
   },
   "outputs": [
    {
     "data": {
      "text/plain": [
       "<Axes: title={'center': 'Evaluation Metrics Over Last 30 days'}, xlabel='eval_date'>"
      ]
     },
     "execution_count": 35,
     "metadata": {},
     "output_type": "execute_result"
    },
    {
     "data": {
      "image/png": "[encoded data removed]",
      "text/plain": [
       "<Figure size 800x300 with 1 Axes>"
      ]
     },
     "metadata": {},
     "output_type": "display_data"
    }
   ],
   "source": [
    "evaluations.plot(y = ['log_loss', 'f1_score', 'precision'], legend = True, title = 'Evaluation Metrics Over Last 30 days', figsize = (8, 3), grid = True)"
   ]
  },
  {
   "cell_type": "markdown",
   "metadata": {
    "tags": []
   },
   "source": [
    "---\n",
    "## **Model Monitoring**\n",
    "\n",
    "Reviewing model evaluations over time does show a pattern of deterioration in the example above.  But at what point is it actionable?  And what if each days evaluations are relying on actual values that took hours, days, weeks, or even months to be available?  \n",
    "\n",
    "Model monitoring takes a different approach.  It goes back to the source of the model, each input feature.  These features form a distribution at the input to the model (the training data) and this can be used to compare to over time.  By setting thresholds on these comparisons to the original training data, alerts can be used to notify that a models accuracy *could be* in question.  This comparison to the training data is called **skew** detection.\n",
    "\n",
    "Similarly, each days values could be compared to the previous days, or weeks values.  These comparisons are referred to as **drift** detection.  \n",
    "\n",
    "Both of these types of comparisons can be done directly in BigQuery with two functions built for these tasks:\n",
    "- [`ML.VALIDATE_DATA_SKEW`](https://cloud.google.com/bigquery/docs/reference/standard-sql/bigqueryml-syntax-validate-data-skew)\n",
    "- [`ML.VALIDATE_DATA_DRIFT`](https://cloud.google.com/bigquery/docs/reference/standard-sql/bigqueryml-syntax-validate-data-drift)"
   ]
  },
  {
   "cell_type": "markdown",
   "metadata": {},
   "source": [
    "### Monitoring Skew (Change from training) With `ML.VALIDATE_DATA_SKEW`\n",
    "\n",
    "Compare today, or any data, to the training data by directly comparing to the the model created in BigQuery.\n",
    "\n",
    ">**NOTE:** By adding the `enable_visualization_link` argument to the `ML.VALIDATE_DATA_SKEW` function it adds the Vertex AI Model Monitoring console link in the `visualization_link` column of the output.  Read more about [Monitoring visualization](https://cloud.google.com/bigquery/docs/model-monitoring-overview#monitoring_visualization) in the BigQuery ML [Model monitoring overview](https://cloud.google.com/bigquery/docs/model-monitoring-overview)."
   ]
  },
  {
   "cell_type": "code",
   "execution_count": 36,
   "metadata": {
    "tags": []
   },
   "outputs": [
    {
     "data": {
      "application/vnd.jupyter.widget-view+json": {
       "model_id": "5872bf31fbf84fb2ae2c2ddacc12acb8",
       "version_major": 2,
       "version_minor": 0
      },
      "text/plain": [
       "Query is running:   0%|          |"
      ]
     },
     "metadata": {},
     "output_type": "display_data"
    },
    {
     "data": {
      "application/vnd.jupyter.widget-view+json": {
       "model_id": "b0fd396d92d244bf9dbe6459dcb59590",
       "version_major": 2,
       "version_minor": 0
      },
      "text/plain": [
       "Downloading:   0%|          |"
      ]
     },
     "metadata": {},
     "output_type": "display_data"
    }
   ],
   "source": [
    "%%bigquery skew\n",
    "SELECT *\n",
    "FROM ML.VALIDATE_DATA_SKEW(\n",
    "    # base\n",
    "    MODEL `statmike-mlops-349915.bqml_model_monitoring.classify_species_rf`,\n",
    "    (# compare\n",
    "        SELECT *\n",
    "        FROM `statmike-mlops-349915.bqml_model_monitoring.serving`\n",
    "        WHERE DATE(instance_timestamp) >= CURRENT_DATE()\n",
    "    )\n",
    "    ,STRUCT(TRUE AS enable_visualization_link)\n",
    ");"
   ]
  },
  {
   "cell_type": "code",
   "execution_count": 37,
   "metadata": {
    "tags": []
   },
   "outputs": [
    {
     "data": {
      "text/html": [
       "<div>\n",
       "<style scoped>\n",
       "    .dataframe tbody tr th:only-of-type {\n",
       "        vertical-align: middle;\n",
       "    }\n",
       "\n",
       "    .dataframe tbody tr th {\n",
       "        vertical-align: top;\n",
       "    }\n",
       "\n",
       "    .dataframe thead th {\n",
       "        text-align: right;\n",
       "    }\n",
       "</style>\n",
       "<table border=\"1\" class=\"dataframe\">\n",
       "  <thead>\n",
       "    <tr style=\"text-align: right;\">\n",
       "      <th></th>\n",
       "      <th>input</th>\n",
       "      <th>metric</th>\n",
       "      <th>threshold</th>\n",
       "      <th>value</th>\n",
       "      <th>is_anomaly</th>\n",
       "      <th>visualization_link</th>\n",
       "    </tr>\n",
       "  </thead>\n",
       "  <tbody>\n",
       "    <tr>\n",
       "      <th>0</th>\n",
       "      <td>body_mass_g</td>\n",
       "      <td>JENSEN_SHANNON_DIVERGENCE</td>\n",
       "      <td>0.3</td>\n",
       "      <td>0.350439</td>\n",
       "      <td>True</td>\n",
       "      <td>https://console.cloud.google.com/vertex-ai/mod...</td>\n",
       "    </tr>\n",
       "    <tr>\n",
       "      <th>1</th>\n",
       "      <td>culmen_depth_mm</td>\n",
       "      <td>JENSEN_SHANNON_DIVERGENCE</td>\n",
       "      <td>0.3</td>\n",
       "      <td>0.044268</td>\n",
       "      <td>False</td>\n",
       "      <td>https://console.cloud.google.com/vertex-ai/mod...</td>\n",
       "    </tr>\n",
       "    <tr>\n",
       "      <th>2</th>\n",
       "      <td>culmen_length_mm</td>\n",
       "      <td>JENSEN_SHANNON_DIVERGENCE</td>\n",
       "      <td>0.3</td>\n",
       "      <td>0.051800</td>\n",
       "      <td>False</td>\n",
       "      <td>https://console.cloud.google.com/vertex-ai/mod...</td>\n",
       "    </tr>\n",
       "    <tr>\n",
       "      <th>3</th>\n",
       "      <td>flipper_length_mm</td>\n",
       "      <td>JENSEN_SHANNON_DIVERGENCE</td>\n",
       "      <td>0.3</td>\n",
       "      <td>0.976404</td>\n",
       "      <td>True</td>\n",
       "      <td>https://console.cloud.google.com/vertex-ai/mod...</td>\n",
       "    </tr>\n",
       "    <tr>\n",
       "      <th>4</th>\n",
       "      <td>island</td>\n",
       "      <td>L_INFTY</td>\n",
       "      <td>0.3</td>\n",
       "      <td>0.083100</td>\n",
       "      <td>False</td>\n",
       "      <td>https://console.cloud.google.com/vertex-ai/mod...</td>\n",
       "    </tr>\n",
       "    <tr>\n",
       "      <th>5</th>\n",
       "      <td>sex</td>\n",
       "      <td>L_INFTY</td>\n",
       "      <td>0.3</td>\n",
       "      <td>0.033333</td>\n",
       "      <td>False</td>\n",
       "      <td>https://console.cloud.google.com/vertex-ai/mod...</td>\n",
       "    </tr>\n",
       "  </tbody>\n",
       "</table>\n",
       "</div>"
      ],
      "text/plain": [
       "               input                     metric  threshold     value  \\\n",
       "0        body_mass_g  JENSEN_SHANNON_DIVERGENCE        0.3  0.350439   \n",
       "1    culmen_depth_mm  JENSEN_SHANNON_DIVERGENCE        0.3  0.044268   \n",
       "2   culmen_length_mm  JENSEN_SHANNON_DIVERGENCE        0.3  0.051800   \n",
       "3  flipper_length_mm  JENSEN_SHANNON_DIVERGENCE        0.3  0.976404   \n",
       "4             island                    L_INFTY        0.3  0.083100   \n",
       "5                sex                    L_INFTY        0.3  0.033333   \n",
       "\n",
       "   is_anomaly                                 visualization_link  \n",
       "0        True  https://console.cloud.google.com/vertex-ai/mod...  \n",
       "1       False  https://console.cloud.google.com/vertex-ai/mod...  \n",
       "2       False  https://console.cloud.google.com/vertex-ai/mod...  \n",
       "3        True  https://console.cloud.google.com/vertex-ai/mod...  \n",
       "4       False  https://console.cloud.google.com/vertex-ai/mod...  \n",
       "5       False  https://console.cloud.google.com/vertex-ai/mod...  "
      ]
     },
     "execution_count": 37,
     "metadata": {},
     "output_type": "execute_result"
    }
   ],
   "source": [
    "skew"
   ]
  },
  {
   "cell_type": "code",
   "execution_count": 38,
   "metadata": {
    "tags": []
   },
   "outputs": [
    {
     "data": {
      "text/html": [
       "<a href=\"https://console.cloud.google.com/vertex-ai/model-monitoring/locations/us-central1/model-monitors/bq15265023002699650156/model-monitoring-jobs/bqjob14998699866431380451/feature-drift?project=statmike-mlops-349915&featureName=body_mass_g\" target=\"_blank\" style=\"font-size: 18px;\">Open Google Cloud Console in a new tab</a>"
      ],
      "text/plain": [
       "<IPython.core.display.HTML object>"
      ]
     },
     "metadata": {},
     "output_type": "display_data"
    }
   ],
   "source": [
    "display(HTML(f'<a href=\"{skew.visualization_link[0]}\" target=\"_blank\" style=\"font-size: 18px;\">Open Google Cloud Console in a new tab</a>'))"
   ]
  },
  {
   "cell_type": "code",
   "execution_count": 39,
   "metadata": {
    "tags": []
   },
   "outputs": [
    {
     "data": {
      "text/html": [
       "<div style=\"text-align: center;\"><img src=\"./resources/tutorial_skew.gif\" style=\"border: 2px solid black; width: auto; height: 600px;\"></div>"
      ],
      "text/plain": [
       "<IPython.core.display.HTML object>"
      ]
     },
     "metadata": {},
     "output_type": "display_data"
    }
   ],
   "source": [
    "display(HTML('<div style=\"text-align: center;\"><img src=\"./resources/tutorial_skew.gif\" style=\"border: 2px solid black; width: auto; height: 600px;\"></div>'))"
   ]
  },
  {
   "cell_type": "markdown",
   "metadata": {},
   "source": [
    "### Monitoring Drift (Change Over Time) With `ML.VALIDATE_DATA_DRIFT`\n",
    "\n",
    "Compare today to 5 days ago and set the a lower, more sensitive, threshold of `0.03` (default is `0.3`) for all features.\n",
    "\n",
    "\n",
    ">**NOTE:** By adding the `MODEL` to the `ML.VALIDATE_DATA_DRIFT` function it adds the Vertex AI Model Monitoring console link in the `visualization_link` column of the output.  Read more about [Monitoring visualization](https://cloud.google.com/bigquery/docs/model-monitoring-overview#monitoring_visualization) in the BigQuery ML [Model monitoring overview](https://cloud.google.com/bigquery/docs/model-monitoring-overview)."
   ]
  },
  {
   "cell_type": "code",
   "execution_count": 40,
   "metadata": {
    "tags": []
   },
   "outputs": [
    {
     "data": {
      "application/vnd.jupyter.widget-view+json": {
       "model_id": "960aaab5aaed4f47bd4d523f1228872d",
       "version_major": 2,
       "version_minor": 0
      },
      "text/plain": [
       "Query is running:   0%|          |"
      ]
     },
     "metadata": {},
     "output_type": "display_data"
    },
    {
     "data": {
      "application/vnd.jupyter.widget-view+json": {
       "model_id": "b44b30f158c445bd85b9501594425eae",
       "version_major": 2,
       "version_minor": 0
      },
      "text/plain": [
       "Downloading:   0%|          |"
      ]
     },
     "metadata": {},
     "output_type": "display_data"
    }
   ],
   "source": [
    "%%bigquery drift\n",
    "SELECT *\n",
    "FROM ML.VALIDATE_DATA_DRIFT(\n",
    "    (# base\n",
    "        SELECT * EXCEPT(instance_timestamp, species)\n",
    "        FROM `statmike-mlops-349915.bqml_model_monitoring.serving`\n",
    "        WHERE DATE(instance_timestamp) = DATE_SUB(CURRENT_DATE(), INTERVAL 5 DAY)\n",
    "    ),\n",
    "    (# compare\n",
    "        SELECT * EXCEPT(instance_timestamp, species)\n",
    "        FROM `statmike-mlops-349915.bqml_model_monitoring.serving`\n",
    "        WHERE DATE(instance_timestamp) = CURRENT_DATE() \n",
    "    ),\n",
    "    STRUCT(\n",
    "        0.03 AS categorical_default_threshold,\n",
    "        0.03 AS numerical_default_threshold\n",
    "    )\n",
    "    , MODEL `statmike-mlops-349915.bqml_model_monitoring.classify_species_rf`\n",
    ");"
   ]
  },
  {
   "cell_type": "code",
   "execution_count": 41,
   "metadata": {
    "tags": []
   },
   "outputs": [
    {
     "data": {
      "text/html": [
       "<div>\n",
       "<style scoped>\n",
       "    .dataframe tbody tr th:only-of-type {\n",
       "        vertical-align: middle;\n",
       "    }\n",
       "\n",
       "    .dataframe tbody tr th {\n",
       "        vertical-align: top;\n",
       "    }\n",
       "\n",
       "    .dataframe thead th {\n",
       "        text-align: right;\n",
       "    }\n",
       "</style>\n",
       "<table border=\"1\" class=\"dataframe\">\n",
       "  <thead>\n",
       "    <tr style=\"text-align: right;\">\n",
       "      <th></th>\n",
       "      <th>input</th>\n",
       "      <th>metric</th>\n",
       "      <th>threshold</th>\n",
       "      <th>value</th>\n",
       "      <th>is_anomaly</th>\n",
       "      <th>visualization_link</th>\n",
       "    </tr>\n",
       "  </thead>\n",
       "  <tbody>\n",
       "    <tr>\n",
       "      <th>0</th>\n",
       "      <td>body_mass_g</td>\n",
       "      <td>JENSEN_SHANNON_DIVERGENCE</td>\n",
       "      <td>0.03</td>\n",
       "      <td>0.102125</td>\n",
       "      <td>True</td>\n",
       "      <td>https://console.cloud.google.com/vertex-ai/mod...</td>\n",
       "    </tr>\n",
       "    <tr>\n",
       "      <th>1</th>\n",
       "      <td>culmen_depth_mm</td>\n",
       "      <td>JENSEN_SHANNON_DIVERGENCE</td>\n",
       "      <td>0.03</td>\n",
       "      <td>0.000000</td>\n",
       "      <td>False</td>\n",
       "      <td>https://console.cloud.google.com/vertex-ai/mod...</td>\n",
       "    </tr>\n",
       "    <tr>\n",
       "      <th>2</th>\n",
       "      <td>culmen_length_mm</td>\n",
       "      <td>JENSEN_SHANNON_DIVERGENCE</td>\n",
       "      <td>0.03</td>\n",
       "      <td>0.000000</td>\n",
       "      <td>False</td>\n",
       "      <td>https://console.cloud.google.com/vertex-ai/mod...</td>\n",
       "    </tr>\n",
       "    <tr>\n",
       "      <th>3</th>\n",
       "      <td>flipper_length_mm</td>\n",
       "      <td>JENSEN_SHANNON_DIVERGENCE</td>\n",
       "      <td>0.03</td>\n",
       "      <td>0.178975</td>\n",
       "      <td>True</td>\n",
       "      <td>https://console.cloud.google.com/vertex-ai/mod...</td>\n",
       "    </tr>\n",
       "    <tr>\n",
       "      <th>4</th>\n",
       "      <td>island</td>\n",
       "      <td>L_INFTY</td>\n",
       "      <td>0.03</td>\n",
       "      <td>0.000000</td>\n",
       "      <td>False</td>\n",
       "      <td>https://console.cloud.google.com/vertex-ai/mod...</td>\n",
       "    </tr>\n",
       "    <tr>\n",
       "      <th>5</th>\n",
       "      <td>sex</td>\n",
       "      <td>L_INFTY</td>\n",
       "      <td>0.03</td>\n",
       "      <td>0.000000</td>\n",
       "      <td>False</td>\n",
       "      <td>https://console.cloud.google.com/vertex-ai/mod...</td>\n",
       "    </tr>\n",
       "  </tbody>\n",
       "</table>\n",
       "</div>"
      ],
      "text/plain": [
       "               input                     metric  threshold     value  \\\n",
       "0        body_mass_g  JENSEN_SHANNON_DIVERGENCE       0.03  0.102125   \n",
       "1    culmen_depth_mm  JENSEN_SHANNON_DIVERGENCE       0.03  0.000000   \n",
       "2   culmen_length_mm  JENSEN_SHANNON_DIVERGENCE       0.03  0.000000   \n",
       "3  flipper_length_mm  JENSEN_SHANNON_DIVERGENCE       0.03  0.178975   \n",
       "4             island                    L_INFTY       0.03  0.000000   \n",
       "5                sex                    L_INFTY       0.03  0.000000   \n",
       "\n",
       "   is_anomaly                                 visualization_link  \n",
       "0        True  https://console.cloud.google.com/vertex-ai/mod...  \n",
       "1       False  https://console.cloud.google.com/vertex-ai/mod...  \n",
       "2       False  https://console.cloud.google.com/vertex-ai/mod...  \n",
       "3        True  https://console.cloud.google.com/vertex-ai/mod...  \n",
       "4       False  https://console.cloud.google.com/vertex-ai/mod...  \n",
       "5       False  https://console.cloud.google.com/vertex-ai/mod...  "
      ]
     },
     "execution_count": 41,
     "metadata": {},
     "output_type": "execute_result"
    }
   ],
   "source": [
    "drift"
   ]
  },
  {
   "cell_type": "code",
   "execution_count": 42,
   "metadata": {
    "tags": []
   },
   "outputs": [
    {
     "data": {
      "text/html": [
       "<a href=\"https://console.cloud.google.com/vertex-ai/model-monitoring/locations/us-central1/model-monitors/bq15265023002699650156/model-monitoring-jobs/bqjob15337886277070518758/feature-drift?project=statmike-mlops-349915&featureName=body_mass_g\" target=\"_blank\" style=\"font-size: 18px;\">Open Google Cloud Console in a new tab</a>"
      ],
      "text/plain": [
       "<IPython.core.display.HTML object>"
      ]
     },
     "metadata": {},
     "output_type": "display_data"
    }
   ],
   "source": [
    "display(HTML(f'<a href=\"{drift.visualization_link[0]}\" target=\"_blank\" style=\"font-size: 18px;\">Open Google Cloud Console in a new tab</a>'))"
   ]
  },
  {
   "cell_type": "code",
   "execution_count": 43,
   "metadata": {
    "tags": []
   },
   "outputs": [
    {
     "data": {
      "text/html": [
       "<div style=\"text-align: center;\"><img src=\"./resources/tutorial_drift.gif\" style=\"border: 2px solid black; width: auto; height: 600px;\"></div>"
      ],
      "text/plain": [
       "<IPython.core.display.HTML object>"
      ]
     },
     "metadata": {},
     "output_type": "display_data"
    }
   ],
   "source": [
    "display(HTML('<div style=\"text-align: center;\"><img src=\"./resources/tutorial_drift.gif\" style=\"border: 2px solid black; width: auto; height: 600px;\"></div>'))"
   ]
  },
  {
   "cell_type": "markdown",
   "metadata": {},
   "source": [
    "### Monitoring Skew (Manually) - As Drift from Training Data\n",
    "\n",
    "Since the `ML.VALIDATE_DATA_DRIFT` is comparing two tables, it could also be used for **skew** by comparing the training data to new data, like todays data:"
   ]
  },
  {
   "cell_type": "code",
   "execution_count": 44,
   "metadata": {
    "tags": []
   },
   "outputs": [
    {
     "data": {
      "application/vnd.jupyter.widget-view+json": {
       "model_id": "392f5e635c04477ca9a8de79c1e2903b",
       "version_major": 2,
       "version_minor": 0
      },
      "text/plain": [
       "Query is running:   0%|          |"
      ]
     },
     "metadata": {},
     "output_type": "display_data"
    },
    {
     "data": {
      "application/vnd.jupyter.widget-view+json": {
       "model_id": "d7a828c7d92a452cb26080d0aea268aa",
       "version_major": 2,
       "version_minor": 0
      },
      "text/plain": [
       "Downloading:   0%|          |"
      ]
     },
     "metadata": {},
     "output_type": "display_data"
    }
   ],
   "source": [
    "%%bigquery skew_manual\n",
    "SELECT *\n",
    "FROM ML.VALIDATE_DATA_DRIFT(\n",
    "    (# base\n",
    "        SELECT *\n",
    "        FROM `statmike-mlops-349915.bqml_model_monitoring.training_split`\n",
    "        WHERE splits = 'TRAIN'\n",
    "    ),\n",
    "    (# compare\n",
    "        SELECT * EXCEPT(instance_timestamp, species)\n",
    "        FROM `statmike-mlops-349915.bqml_model_monitoring.serving`\n",
    "        WHERE DATE(instance_timestamp) = CURRENT_DATE() \n",
    "    ),\n",
    "    STRUCT()\n",
    "    , MODEL `statmike-mlops-349915.bqml_model_monitoring.classify_species_rf`\n",
    ");"
   ]
  },
  {
   "cell_type": "code",
   "execution_count": 45,
   "metadata": {
    "tags": []
   },
   "outputs": [
    {
     "data": {
      "text/html": [
       "<div>\n",
       "<style scoped>\n",
       "    .dataframe tbody tr th:only-of-type {\n",
       "        vertical-align: middle;\n",
       "    }\n",
       "\n",
       "    .dataframe tbody tr th {\n",
       "        vertical-align: top;\n",
       "    }\n",
       "\n",
       "    .dataframe thead th {\n",
       "        text-align: right;\n",
       "    }\n",
       "</style>\n",
       "<table border=\"1\" class=\"dataframe\">\n",
       "  <thead>\n",
       "    <tr style=\"text-align: right;\">\n",
       "      <th></th>\n",
       "      <th>input</th>\n",
       "      <th>metric</th>\n",
       "      <th>threshold</th>\n",
       "      <th>value</th>\n",
       "      <th>is_anomaly</th>\n",
       "      <th>visualization_link</th>\n",
       "    </tr>\n",
       "  </thead>\n",
       "  <tbody>\n",
       "    <tr>\n",
       "      <th>0</th>\n",
       "      <td>body_mass_g</td>\n",
       "      <td>JENSEN_SHANNON_DIVERGENCE</td>\n",
       "      <td>0.3</td>\n",
       "      <td>0.350439</td>\n",
       "      <td>True</td>\n",
       "      <td>https://console.cloud.google.com/vertex-ai/mod...</td>\n",
       "    </tr>\n",
       "    <tr>\n",
       "      <th>1</th>\n",
       "      <td>culmen_depth_mm</td>\n",
       "      <td>JENSEN_SHANNON_DIVERGENCE</td>\n",
       "      <td>0.3</td>\n",
       "      <td>0.044268</td>\n",
       "      <td>False</td>\n",
       "      <td>https://console.cloud.google.com/vertex-ai/mod...</td>\n",
       "    </tr>\n",
       "    <tr>\n",
       "      <th>2</th>\n",
       "      <td>culmen_length_mm</td>\n",
       "      <td>JENSEN_SHANNON_DIVERGENCE</td>\n",
       "      <td>0.3</td>\n",
       "      <td>0.051800</td>\n",
       "      <td>False</td>\n",
       "      <td>https://console.cloud.google.com/vertex-ai/mod...</td>\n",
       "    </tr>\n",
       "    <tr>\n",
       "      <th>3</th>\n",
       "      <td>flipper_length_mm</td>\n",
       "      <td>JENSEN_SHANNON_DIVERGENCE</td>\n",
       "      <td>0.3</td>\n",
       "      <td>0.976404</td>\n",
       "      <td>True</td>\n",
       "      <td>https://console.cloud.google.com/vertex-ai/mod...</td>\n",
       "    </tr>\n",
       "    <tr>\n",
       "      <th>4</th>\n",
       "      <td>island</td>\n",
       "      <td>L_INFTY</td>\n",
       "      <td>0.3</td>\n",
       "      <td>0.083100</td>\n",
       "      <td>False</td>\n",
       "      <td>https://console.cloud.google.com/vertex-ai/mod...</td>\n",
       "    </tr>\n",
       "    <tr>\n",
       "      <th>5</th>\n",
       "      <td>sex</td>\n",
       "      <td>L_INFTY</td>\n",
       "      <td>0.3</td>\n",
       "      <td>0.033333</td>\n",
       "      <td>False</td>\n",
       "      <td>https://console.cloud.google.com/vertex-ai/mod...</td>\n",
       "    </tr>\n",
       "  </tbody>\n",
       "</table>\n",
       "</div>"
      ],
      "text/plain": [
       "               input                     metric  threshold     value  \\\n",
       "0        body_mass_g  JENSEN_SHANNON_DIVERGENCE        0.3  0.350439   \n",
       "1    culmen_depth_mm  JENSEN_SHANNON_DIVERGENCE        0.3  0.044268   \n",
       "2   culmen_length_mm  JENSEN_SHANNON_DIVERGENCE        0.3  0.051800   \n",
       "3  flipper_length_mm  JENSEN_SHANNON_DIVERGENCE        0.3  0.976404   \n",
       "4             island                    L_INFTY        0.3  0.083100   \n",
       "5                sex                    L_INFTY        0.3  0.033333   \n",
       "\n",
       "   is_anomaly                                 visualization_link  \n",
       "0        True  https://console.cloud.google.com/vertex-ai/mod...  \n",
       "1       False  https://console.cloud.google.com/vertex-ai/mod...  \n",
       "2       False  https://console.cloud.google.com/vertex-ai/mod...  \n",
       "3        True  https://console.cloud.google.com/vertex-ai/mod...  \n",
       "4       False  https://console.cloud.google.com/vertex-ai/mod...  \n",
       "5       False  https://console.cloud.google.com/vertex-ai/mod...  "
      ]
     },
     "execution_count": 45,
     "metadata": {},
     "output_type": "execute_result"
    }
   ],
   "source": [
    "skew_manual"
   ]
  },
  {
   "cell_type": "code",
   "execution_count": 46,
   "metadata": {
    "tags": []
   },
   "outputs": [
    {
     "data": {
      "text/html": [
       "<a href=\"https://console.cloud.google.com/vertex-ai/model-monitoring/locations/us-central1/model-monitors/bq15265023002699650156/model-monitoring-jobs/bqjob5299881472130060091/feature-drift?project=statmike-mlops-349915&featureName=body_mass_g\" target=\"_blank\" style=\"font-size: 18px;\">Open Google Cloud Console in a new tab</a>"
      ],
      "text/plain": [
       "<IPython.core.display.HTML object>"
      ]
     },
     "metadata": {},
     "output_type": "display_data"
    }
   ],
   "source": [
    "display(HTML(f'<a href=\"{skew_manual.visualization_link[0]}\" target=\"_blank\" style=\"font-size: 18px;\">Open Google Cloud Console in a new tab</a>'))"
   ]
  },
  {
   "cell_type": "code",
   "execution_count": 47,
   "metadata": {
    "tags": []
   },
   "outputs": [
    {
     "data": {
      "text/html": [
       "<div style=\"text-align: center;\"><img src=\"./resources/tutorial_skew_manual.gif\" style=\"border: 2px solid black; width: auto; height: 600px;\"></div>"
      ],
      "text/plain": [
       "<IPython.core.display.HTML object>"
      ]
     },
     "metadata": {},
     "output_type": "display_data"
    }
   ],
   "source": [
    "display(HTML('<div style=\"text-align: center;\"><img src=\"./resources/tutorial_skew_manual.gif\" style=\"border: 2px solid black; width: auto; height: 600px;\"></div>'))"
   ]
  },
  {
   "cell_type": "markdown",
   "metadata": {},
   "source": [
    "---\n",
    "### TensorFlow Data Validation (TFDV) In BigQuery\n",
    "\n",
    "BigQuery offers two functions that bring the power of the TensorFlow's [TFX platform](https://www.tensorflow.org/tfx) with built-in [TensorFlow Data Validation (TFDV)](https://www.tensorflow.org/tfx/data_validation/get_started) module directly inside of BigQuery.\n",
    "- [`ML.TFDV_DESCRIBE`](https://cloud.google.com/bigquery/docs/reference/standard-sql/bigqueryml-syntax-tfdv-describe) to generate descriptive statistics of any table\n",
    "- [`ML.TFDV_VALIDATE`](https://cloud.google.com/bigquery/docs/reference/standard-sql/bigqueryml-syntax-tfdv-validate) to compare statistics of two tables"
   ]
  },
  {
   "cell_type": "markdown",
   "metadata": {},
   "source": [
    "#### Generate Statistics with `ML.TFDV_DESCRIBE`\n",
    "\n",
    "Generate statistics for any table, in this case the training data features or a timespan of serving data features.  This is like using the TensorFlow's [TFX platform](https://www.tensorflow.org/tfx) with built-in [TensorFlow Data Validation (TFDV)](https://www.tensorflow.org/tfx/data_validation/get_started) module's [`tfdv.generate_statistics_from_csv()`](https://www.tensorflow.org/tfx/data_validation/api_docs/python/tfdv/generate_statistics_from_csv) method.\n",
    "\n",
    "The descriptions can be used in comparisons for skew or drift detection with the `ML.TFDV_VALIDATE` function, covered next, as well as in the visualization tool `tfdv.visualize_statistics` also covered below."
   ]
  },
  {
   "cell_type": "code",
   "execution_count": 48,
   "metadata": {
    "tags": []
   },
   "outputs": [
    {
     "data": {
      "application/vnd.jupyter.widget-view+json": {
       "model_id": "f91d678ede9f431d934c08c29b2e781e",
       "version_major": 2,
       "version_minor": 0
      },
      "text/plain": [
       "Query is running:   0%|          |"
      ]
     },
     "metadata": {},
     "output_type": "display_data"
    },
    {
     "data": {
      "application/vnd.jupyter.widget-view+json": {
       "model_id": "21b9c12063b4499590b3c2cbd30113d4",
       "version_major": 2,
       "version_minor": 0
      },
      "text/plain": [
       "Downloading:   0%|          |"
      ]
     },
     "metadata": {},
     "output_type": "display_data"
    }
   ],
   "source": [
    "%%bigquery train_describe\n",
    "SELECT *\n",
    "FROM ML.TFDV_DESCRIBE(\n",
    "    (\n",
    "        SELECT * EXCEPT(splits, species)\n",
    "        FROM `statmike-mlops-349915.bqml_model_monitoring.training_split`\n",
    "        WHERE splits = 'TRAIN'\n",
    "    )\n",
    ")"
   ]
  },
  {
   "cell_type": "code",
   "execution_count": 49,
   "metadata": {
    "tags": []
   },
   "outputs": [],
   "source": [
    "train_describe = json.loads(train_describe['dataset_feature_statistics_list'].iloc[0])"
   ]
  },
  {
   "cell_type": "code",
   "execution_count": 50,
   "metadata": {
    "tags": []
   },
   "outputs": [
    {
     "data": {
      "text/plain": [
       "{'name': 'body_mass_g',\n",
       " 'num_stats': {'common_stats': {'avg_num_values': 1,\n",
       "   'max_num_values': 1,\n",
       "   'min_num_values': 1,\n",
       "   'num_missing': 2,\n",
       "   'num_non_missing': 236,\n",
       "   'num_values_histogram': {'buckets': [{'high_value': 1,\n",
       "      'low_value': 1,\n",
       "      'sample_count': 23.6},\n",
       "     {'high_value': 1, 'low_value': 1, 'sample_count': 23.6},\n",
       "     {'high_value': 1, 'low_value': 1, 'sample_count': 23.6},\n",
       "     {'high_value': 1, 'low_value': 1, 'sample_count': 23.6},\n",
       "     {'high_value': 1, 'low_value': 1, 'sample_count': 23.6},\n",
       "     {'high_value': 1, 'low_value': 1, 'sample_count': 23.6},\n",
       "     {'high_value': 1, 'low_value': 1, 'sample_count': 23.6},\n",
       "     {'high_value': 1, 'low_value': 1, 'sample_count': 23.6},\n",
       "     {'high_value': 1, 'low_value': 1, 'sample_count': 23.6},\n",
       "     {'high_value': 1, 'low_value': 1, 'sample_count': 23.6}],\n",
       "    'type': 'QUANTILES'},\n",
       "   'tot_num_values': 236},\n",
       "  'histograms': [{'buckets': [{'high_value': 3300,\n",
       "      'low_value': 2850,\n",
       "      'sample_count': 23.6},\n",
       "     {'high_value': 3500, 'low_value': 3300, 'sample_count': 23.6},\n",
       "     {'high_value': 3700, 'low_value': 3500, 'sample_count': 23.6},\n",
       "     {'high_value': 3800, 'low_value': 3700, 'sample_count': 23.6},\n",
       "     {'high_value': 4000, 'low_value': 3800, 'sample_count': 23.6},\n",
       "     {'high_value': 4300, 'low_value': 4000, 'sample_count': 23.6},\n",
       "     {'high_value': 4600, 'low_value': 4300, 'sample_count': 23.6},\n",
       "     {'high_value': 4875, 'low_value': 4600, 'sample_count': 23.6},\n",
       "     {'high_value': 5500, 'low_value': 4875, 'sample_count': 23.6},\n",
       "     {'high_value': 6050, 'low_value': 5500, 'sample_count': 23.6}],\n",
       "    'type': 'QUANTILES'},\n",
       "   {'buckets': [{'high_value': 3170,\n",
       "      'low_value': 2850,\n",
       "      'sample_count': 11.988800000000005},\n",
       "     {'high_value': 3490,\n",
       "      'low_value': 3170,\n",
       "      'sample_count': 32.04880000000006},\n",
       "     {'high_value': 3810,\n",
       "      'low_value': 3490,\n",
       "      'sample_count': 51.87279999999982},\n",
       "     {'high_value': 4130,\n",
       "      'low_value': 3810,\n",
       "      'sample_count': 31.199200000000058},\n",
       "     {'high_value': 4450,\n",
       "      'low_value': 4130,\n",
       "      'sample_count': 28.88640000000005},\n",
       "     {'high_value': 4770,\n",
       "      'low_value': 4450,\n",
       "      'sample_count': 23.930400000000038},\n",
       "     {'high_value': 5090,\n",
       "      'low_value': 4770,\n",
       "      'sample_count': 17.110000000000017},\n",
       "     {'high_value': 5410,\n",
       "      'low_value': 5090,\n",
       "      'sample_count': 13.97120000000001},\n",
       "     {'high_value': 5730,\n",
       "      'low_value': 5410,\n",
       "      'sample_count': 15.930000000000017},\n",
       "     {'high_value': 6050,\n",
       "      'low_value': 5730,\n",
       "      'sample_count': 9.062399999999997}]}],\n",
       "  'max': 6050,\n",
       "  'mean': 4203.389830508474,\n",
       "  'median': 4000,\n",
       "  'min': 2850,\n",
       "  'std_dev': 789.0868143458914},\n",
       " 'type': 'FLOAT'}"
      ]
     },
     "execution_count": 50,
     "metadata": {},
     "output_type": "execute_result"
    }
   ],
   "source": [
    "train_describe['datasets'][0]['features'][0]"
   ]
  },
  {
   "cell_type": "code",
   "execution_count": 51,
   "metadata": {
    "tags": []
   },
   "outputs": [
    {
     "data": {
      "application/vnd.jupyter.widget-view+json": {
       "model_id": "d124047d393b4cd9b9359658141cf5a4",
       "version_major": 2,
       "version_minor": 0
      },
      "text/plain": [
       "Query is running:   0%|          |"
      ]
     },
     "metadata": {},
     "output_type": "display_data"
    },
    {
     "data": {
      "application/vnd.jupyter.widget-view+json": {
       "model_id": "468b9d1f81794228bb3ac67172a60f1f",
       "version_major": 2,
       "version_minor": 0
      },
      "text/plain": [
       "Downloading:   0%|          |"
      ]
     },
     "metadata": {},
     "output_type": "display_data"
    }
   ],
   "source": [
    "%%bigquery today_describe\n",
    "SELECT *\n",
    "FROM ML.TFDV_DESCRIBE(\n",
    "    (\n",
    "        SELECT * EXCEPT(instance_timestamp, species)\n",
    "        FROM `statmike-mlops-349915.bqml_model_monitoring.serving`\n",
    "        WHERE DATE(instance_timestamp) = CURRENT_DATE()\n",
    "    )\n",
    ")"
   ]
  },
  {
   "cell_type": "code",
   "execution_count": 52,
   "metadata": {
    "tags": []
   },
   "outputs": [],
   "source": [
    "today_describe = json.loads(today_describe['dataset_feature_statistics_list'].iloc[0])"
   ]
  },
  {
   "cell_type": "code",
   "execution_count": 53,
   "metadata": {
    "tags": []
   },
   "outputs": [],
   "source": [
    "#today_describe['datasets'][0]['features'][0]"
   ]
  },
  {
   "cell_type": "markdown",
   "metadata": {},
   "source": [
    "#### Visualize Statistics with `tfdv.visualize_statistics`\n",
    "\n",
    "Use the [`tfdv.visualize_statistics`](https://www.tensorflow.org/tfx/data_validation/api_docs/python/tfdv/visualize_statistics) tool to visualize the generated descriptions and directly compare them.  This presents visuals using [Facets Overview](https://pair-code.github.io/facets/)."
   ]
  },
  {
   "cell_type": "code",
   "execution_count": 54,
   "metadata": {
    "tags": []
   },
   "outputs": [],
   "source": [
    "import os\n",
    "os.environ['TF_CPP_MIN_LOG_LEVEL'] = '3'\n",
    "import tensorflow_data_validation as tfdv\n",
    "import tensorflow_metadata as tfmd\n",
    "from google.protobuf import json_format"
   ]
  },
  {
   "cell_type": "code",
   "execution_count": 55,
   "metadata": {
    "tags": []
   },
   "outputs": [
    {
     "data": {
      "text/html": [
       "<iframe id='facets-iframe' width=\"100%\" height=\"500px\"></iframe>\n",
       "        <script>\n",
       "        facets_iframe = document.getElementById('facets-iframe');\n",
       "        facets_html = '<script src=\"https://cdnjs.cloudflare.com/ajax/libs/webcomponentsjs/1.3.3/webcomponents-lite.js\"><\\/script><link rel=\"import\" href=\"https://raw.githubusercontent.com/PAIR-code/facets/master/facets-dist/facets-jupyter.html\"><facets-overview proto-input=\"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\"></facets-overview>';\n",
       "        facets_iframe.srcdoc = facets_html;\n",
       "         facets_iframe.id = \"\";\n",
       "         setTimeout(() => {\n",
       "           facets_iframe.setAttribute('height', facets_iframe.contentWindow.document.body.offsetHeight + 'px')\n",
       "         }, 1500)\n",
       "         </script>"
      ],
      "text/plain": [
       "<IPython.core.display.HTML object>"
      ]
     },
     "metadata": {},
     "output_type": "display_data"
    }
   ],
   "source": [
    "tfdv.visualize_statistics(\n",
    "    lhs_statistics = json_format.ParseDict(train_describe, tfmd.proto.statistics_pb2.DatasetFeatureStatisticsList()),\n",
    "    rhs_statistics = json_format.ParseDict(today_describe, tfmd.proto.statistics_pb2.DatasetFeatureStatisticsList()),\n",
    "    lhs_name = 'Training Data Stats',\n",
    "    rhs_name = 'Serving Data Stats - For Today'\n",
    ")"
   ]
  },
  {
   "cell_type": "code",
   "execution_count": 56,
   "metadata": {
    "tags": []
   },
   "outputs": [
    {
     "data": {
      "text/html": [
       "<div style=\"text-align: center;\"><img src=\"./resources/tutorial_tfdv_visualize.gif\" style=\"border: 2px solid black; width: auto; height: 400px;\"></div>"
      ],
      "text/plain": [
       "<IPython.core.display.HTML object>"
      ]
     },
     "metadata": {},
     "output_type": "display_data"
    }
   ],
   "source": [
    "display(HTML('<div style=\"text-align: center;\"><img src=\"./resources/tutorial_tfdv_visualize.gif\" style=\"border: 2px solid black; width: auto; height: 400px;\"></div>'))"
   ]
  },
  {
   "cell_type": "markdown",
   "metadata": {},
   "source": [
    "#### Compare And Detect Anomalies with `ML.TFDV_VALIDATE`\n",
    "\n",
    "Compare the distribution of any table to a base table and compute distance statistics to detect anomalies.  This is like using the TensorFlow's [TFX platform](https://www.tensorflow.org/tfx) with built-in [TensorFlow Data Validation (TFDV)](https://www.tensorflow.org/tfx/data_validation/get_started) module's [validate_statistics api](https://www.tensorflow.org/tfx/data_validation/api_docs/python/tfdv/validate_statistics).\n",
    "\n",
    "These comparison can be made to training data for **skew** detection or previous serving data for **drift** detection."
   ]
  },
  {
   "cell_type": "code",
   "execution_count": 57,
   "metadata": {
    "tags": []
   },
   "outputs": [
    {
     "data": {
      "application/vnd.jupyter.widget-view+json": {
       "model_id": "48a6095410e849f38796c02a0b87cf9a",
       "version_major": 2,
       "version_minor": 0
      },
      "text/plain": [
       "Query is running:   0%|          |"
      ]
     },
     "metadata": {},
     "output_type": "display_data"
    },
    {
     "data": {
      "application/vnd.jupyter.widget-view+json": {
       "model_id": "8ba98db8ac94463fbb8c1f6370fa053b",
       "version_major": 2,
       "version_minor": 0
      },
      "text/plain": [
       "Downloading:   0%|          |"
      ]
     },
     "metadata": {},
     "output_type": "display_data"
    }
   ],
   "source": [
    "%%bigquery validate\n",
    "WITH\n",
    "    TRAIN AS (\n",
    "        SELECT * EXCEPT(splits, species)\n",
    "        FROM `statmike-mlops-349915.bqml_model_monitoring.training_split`\n",
    "        WHERE splits = 'TRAIN'\n",
    "    ),\n",
    "    SERVE AS (\n",
    "        SELECT * EXCEPT(instance_timestamp, species)\n",
    "        FROM `statmike-mlops-349915.bqml_model_monitoring.serving`\n",
    "        WHERE DATE(instance_timestamp) = CURRENT_DATE()\n",
    "    )\n",
    "SELECT ML.TFDV_VALIDATE(\n",
    "    (SELECT * FROM ML.TFDV_DESCRIBE(TABLE TRAIN)),\n",
    "    (SELECT * FROM ML.TFDV_DESCRIBE(TABLE SERVE)),\n",
    "    'SKEW'\n",
    ") as validate"
   ]
  },
  {
   "cell_type": "code",
   "execution_count": 58,
   "metadata": {
    "tags": []
   },
   "outputs": [],
   "source": [
    "validate = json.loads(validate['validate'].iloc[0])"
   ]
  },
  {
   "cell_type": "code",
   "execution_count": 59,
   "metadata": {
    "tags": []
   },
   "outputs": [],
   "source": [
    "#validate['anomaly_info']"
   ]
  },
  {
   "cell_type": "markdown",
   "metadata": {},
   "source": [
    "#### Display Anomalies with `tfdv.display_anomalies`\n",
    "\n",
    "Use the [`tfdv.display_anomalies`](https://www.tensorflow.org/tfx/data_validation/api_docs/python/tfdv/display_anomalies) tool to display a table of anomaly detections with descriptions."
   ]
  },
  {
   "cell_type": "code",
   "execution_count": 60,
   "metadata": {
    "tags": []
   },
   "outputs": [],
   "source": [
    "if 'generate_legacy_feature_spec' in validate['baseline'].keys():\n",
    "    del validate['baseline']['generate_legacy_feature_spec']"
   ]
  },
  {
   "cell_type": "code",
   "execution_count": 61,
   "metadata": {
    "tags": []
   },
   "outputs": [
    {
     "data": {
      "text/html": [
       "<div>\n",
       "<style scoped>\n",
       "    .dataframe tbody tr th:only-of-type {\n",
       "        vertical-align: middle;\n",
       "    }\n",
       "\n",
       "    .dataframe tbody tr th {\n",
       "        vertical-align: top;\n",
       "    }\n",
       "\n",
       "    .dataframe thead th {\n",
       "        text-align: right;\n",
       "    }\n",
       "</style>\n",
       "<table border=\"1\" class=\"dataframe\">\n",
       "  <thead>\n",
       "    <tr style=\"text-align: right;\">\n",
       "      <th></th>\n",
       "      <th>Anomaly short description</th>\n",
       "      <th>Anomaly long description</th>\n",
       "    </tr>\n",
       "    <tr>\n",
       "      <th>Feature name</th>\n",
       "      <th></th>\n",
       "      <th></th>\n",
       "    </tr>\n",
       "  </thead>\n",
       "  <tbody>\n",
       "    <tr>\n",
       "      <th>'body_mass_g'</th>\n",
       "      <td>High approximate Jensen-Shannon divergence between training and serving</td>\n",
       "      <td>The approximate Jensen-Shannon divergence between training and serving is 0.350439 (up to six significant digits), above the threshold 0.3.</td>\n",
       "    </tr>\n",
       "    <tr>\n",
       "      <th>'flipper_length_mm'</th>\n",
       "      <td>High approximate Jensen-Shannon divergence between training and serving</td>\n",
       "      <td>The approximate Jensen-Shannon divergence between training and serving is 0.976404 (up to six significant digits), above the threshold 0.3.</td>\n",
       "    </tr>\n",
       "  </tbody>\n",
       "</table>\n",
       "</div>"
      ],
      "text/plain": [
       "                                                                   Anomaly short description  \\\n",
       "Feature name                                                                                   \n",
       "'body_mass_g'        High approximate Jensen-Shannon divergence between training and serving   \n",
       "'flipper_length_mm'  High approximate Jensen-Shannon divergence between training and serving   \n",
       "\n",
       "                                                                                                                                        Anomaly long description  \n",
       "Feature name                                                                                                                                                      \n",
       "'body_mass_g'        The approximate Jensen-Shannon divergence between training and serving is 0.350439 (up to six significant digits), above the threshold 0.3.  \n",
       "'flipper_length_mm'  The approximate Jensen-Shannon divergence between training and serving is 0.976404 (up to six significant digits), above the threshold 0.3.  "
      ]
     },
     "metadata": {},
     "output_type": "display_data"
    }
   ],
   "source": [
    "tfdv.display_anomalies(\n",
    "    anomalies = json_format.ParseDict(validate, tfmd.proto.anomalies_pb2.Anomalies())\n",
    ")"
   ]
  },
  {
   "cell_type": "markdown",
   "metadata": {},
   "source": [
    "---\n",
    "## Understanding Monitoring Thresholds\n",
    "\n",
    "The `ML.VALIDATE_DATA_DRIFT`, `ML.VALIDATE_DATA_SKEW`, and `ML.TFDV_VALIDATE` functions use distance scores to quantify the change in the statistical distribution of features.  The methods of calculating the distance scores are:\n",
    "- [L-infinity distance](https://en.wikipedia.org/wiki/Chebyshev_distance) for categorical features\n",
    "- [Jensen-Shannon divergence](https://en.wikipedia.org/wiki/Jensen%E2%80%93Shannon_divergence) for numeric features.  Can also be use for categorical features.\n",
    "\n",
    "These methods are the same ones used by [TensorFlow Data Validation](https://www.tensorflow.org/tfx/guide/tfdv#training-serving_skew_detection) which is also used in [Vertex AI Model Monitoring](https://cloud.google.com/vertex-ai/docs/model-monitoring/overview#calculating-skew-and-drift).\n",
    "\n",
    "This section aims to provide intuition on how these two metrics work.  In the data used for this workflow the feature `island` has three possible values: `Biscoe`, `Dream`, and `Torgersen`.  The proportion of data in each of these categories forms a distribution.  This will be used to visually show how both methods of calculating distance scores work."
   ]
  },
  {
   "cell_type": "code",
   "execution_count": 62,
   "metadata": {
    "tags": []
   },
   "outputs": [],
   "source": [
    "import pandas as pd\n",
    "import numpy as np"
   ]
  },
  {
   "cell_type": "markdown",
   "metadata": {},
   "source": [
    "### Retrieve Distributions: Training & Serving\n",
    "\n",
    "Use the `ML.TFDV_DESCRIBE` function to get the statistics for the distribution of the `island` feature at both training and for serving."
   ]
  },
  {
   "cell_type": "code",
   "execution_count": 63,
   "metadata": {
    "tags": []
   },
   "outputs": [
    {
     "data": {
      "application/vnd.jupyter.widget-view+json": {
       "model_id": "072932bc9ce84103b2e79b4b9c5798c8",
       "version_major": 2,
       "version_minor": 0
      },
      "text/plain": [
       "Query is running:   0%|          |"
      ]
     },
     "metadata": {},
     "output_type": "display_data"
    },
    {
     "data": {
      "application/vnd.jupyter.widget-view+json": {
       "model_id": "dd40056a4d044f229495745a5ce95b9c",
       "version_major": 2,
       "version_minor": 0
      },
      "text/plain": [
       "Downloading:   0%|          |"
      ]
     },
     "metadata": {},
     "output_type": "display_data"
    }
   ],
   "source": [
    "%%bigquery island_train\n",
    "SELECT *\n",
    "FROM ML.TFDV_DESCRIBE(\n",
    "    (\n",
    "        SELECT island\n",
    "        FROM `statmike-mlops-349915.bqml_model_monitoring.training_split`\n",
    "        WHERE splits = 'TRAIN'\n",
    "    )\n",
    ")"
   ]
  },
  {
   "cell_type": "code",
   "execution_count": 64,
   "metadata": {
    "tags": []
   },
   "outputs": [
    {
     "data": {
      "application/vnd.jupyter.widget-view+json": {
       "model_id": "47f79d0246b04db6b35785f348e77a69",
       "version_major": 2,
       "version_minor": 0
      },
      "text/plain": [
       "Query is running:   0%|          |"
      ]
     },
     "metadata": {},
     "output_type": "display_data"
    },
    {
     "data": {
      "application/vnd.jupyter.widget-view+json": {
       "model_id": "2cb77038aa744cfd8b769af73b406b52",
       "version_major": 2,
       "version_minor": 0
      },
      "text/plain": [
       "Downloading:   0%|          |"
      ]
     },
     "metadata": {},
     "output_type": "display_data"
    }
   ],
   "source": [
    "%%bigquery island_serve\n",
    "SELECT *\n",
    "FROM ML.TFDV_DESCRIBE(\n",
    "    (\n",
    "        SELECT island\n",
    "        FROM `statmike-mlops-349915.bqml_model_monitoring.serving`\n",
    "    )\n",
    ")"
   ]
  },
  {
   "cell_type": "code",
   "execution_count": 65,
   "metadata": {
    "tags": []
   },
   "outputs": [],
   "source": [
    "island_train = json.loads(island_train['dataset_feature_statistics_list'].iloc[0])\n",
    "island_serve = json.loads(island_serve['dataset_feature_statistics_list'].iloc[0])"
   ]
  },
  {
   "cell_type": "code",
   "execution_count": 66,
   "metadata": {
    "tags": []
   },
   "outputs": [
    {
     "data": {
      "text/plain": [
       "{'avg_length': 6.092437,\n",
       " 'common_stats': {'avg_num_values': 1,\n",
       "  'max_num_values': 1,\n",
       "  'min_num_values': 1,\n",
       "  'num_non_missing': 238,\n",
       "  'num_values_histogram': {'buckets': [{'high_value': 1,\n",
       "     'low_value': 1,\n",
       "     'sample_count': 23.8},\n",
       "    {'high_value': 1, 'low_value': 1, 'sample_count': 23.8},\n",
       "    {'high_value': 1, 'low_value': 1, 'sample_count': 23.8},\n",
       "    {'high_value': 1, 'low_value': 1, 'sample_count': 23.8},\n",
       "    {'high_value': 1, 'low_value': 1, 'sample_count': 23.8},\n",
       "    {'high_value': 1, 'low_value': 1, 'sample_count': 23.8},\n",
       "    {'high_value': 1, 'low_value': 1, 'sample_count': 23.8},\n",
       "    {'high_value': 1, 'low_value': 1, 'sample_count': 23.8},\n",
       "    {'high_value': 1, 'low_value': 1, 'sample_count': 23.8},\n",
       "    {'high_value': 1, 'low_value': 1, 'sample_count': 23.8}],\n",
       "   'type': 'QUANTILES'},\n",
       "  'tot_num_values': 238},\n",
       " 'rank_histogram': {'buckets': [{'label': 'Biscoe', 'sample_count': 116},\n",
       "   {'high_rank': 1, 'label': 'Dream', 'low_rank': 1, 'sample_count': 86},\n",
       "   {'high_rank': 2, 'label': 'Torgersen', 'low_rank': 2, 'sample_count': 36}]},\n",
       " 'top_values': [{'frequency': 116, 'value': 'Biscoe'},\n",
       "  {'frequency': 86, 'value': 'Dream'},\n",
       "  {'frequency': 36, 'value': 'Torgersen'}],\n",
       " 'unique': 3}"
      ]
     },
     "execution_count": 66,
     "metadata": {},
     "output_type": "execute_result"
    }
   ],
   "source": [
    "island_train['datasets'][0]['features'][0]['string_stats']"
   ]
  },
  {
   "cell_type": "code",
   "execution_count": 67,
   "metadata": {
    "tags": []
   },
   "outputs": [
    {
     "data": {
      "text/plain": [
       "[{'label': 'Biscoe', 'sample_count': 116},\n",
       " {'high_rank': 1, 'label': 'Dream', 'low_rank': 1, 'sample_count': 86},\n",
       " {'high_rank': 2, 'label': 'Torgersen', 'low_rank': 2, 'sample_count': 36}]"
      ]
     },
     "execution_count": 67,
     "metadata": {},
     "output_type": "execute_result"
    }
   ],
   "source": [
    "island_train_stats = island_train['datasets'][0]['features'][0]['string_stats']['rank_histogram']['buckets']\n",
    "island_train_stats"
   ]
  },
  {
   "cell_type": "code",
   "execution_count": 68,
   "metadata": {
    "tags": []
   },
   "outputs": [
    {
     "data": {
      "text/plain": [
       "[{'label': 'Dream', 'sample_count': 868},\n",
       " {'high_rank': 1, 'label': 'Biscoe', 'low_rank': 1, 'sample_count': 837},\n",
       " {'high_rank': 2, 'label': 'Torgersen', 'low_rank': 2, 'sample_count': 248}]"
      ]
     },
     "execution_count": 68,
     "metadata": {},
     "output_type": "execute_result"
    }
   ],
   "source": [
    "island_serve_stats = island_serve['datasets'][0]['features'][0]['string_stats']['rank_histogram']['buckets']\n",
    "island_serve_stats"
   ]
  },
  {
   "cell_type": "markdown",
   "metadata": {},
   "source": [
    "### Combine Distributions In DataFrame"
   ]
  },
  {
   "cell_type": "code",
   "execution_count": 69,
   "metadata": {
    "tags": []
   },
   "outputs": [
    {
     "data": {
      "text/html": [
       "<div>\n",
       "<style scoped>\n",
       "    .dataframe tbody tr th:only-of-type {\n",
       "        vertical-align: middle;\n",
       "    }\n",
       "\n",
       "    .dataframe tbody tr th {\n",
       "        vertical-align: top;\n",
       "    }\n",
       "\n",
       "    .dataframe thead th {\n",
       "        text-align: right;\n",
       "    }\n",
       "</style>\n",
       "<table border=\"1\" class=\"dataframe\">\n",
       "  <thead>\n",
       "    <tr style=\"text-align: right;\">\n",
       "      <th></th>\n",
       "      <th>train_n</th>\n",
       "      <th>serve_n</th>\n",
       "      <th>train_pct</th>\n",
       "      <th>serve_pct</th>\n",
       "    </tr>\n",
       "  </thead>\n",
       "  <tbody>\n",
       "    <tr>\n",
       "      <th>Biscoe</th>\n",
       "      <td>116</td>\n",
       "      <td>837</td>\n",
       "      <td>0.487395</td>\n",
       "      <td>0.428571</td>\n",
       "    </tr>\n",
       "    <tr>\n",
       "      <th>Dream</th>\n",
       "      <td>86</td>\n",
       "      <td>868</td>\n",
       "      <td>0.361345</td>\n",
       "      <td>0.444444</td>\n",
       "    </tr>\n",
       "    <tr>\n",
       "      <th>Torgersen</th>\n",
       "      <td>36</td>\n",
       "      <td>248</td>\n",
       "      <td>0.151261</td>\n",
       "      <td>0.126984</td>\n",
       "    </tr>\n",
       "  </tbody>\n",
       "</table>\n",
       "</div>"
      ],
      "text/plain": [
       "           train_n  serve_n  train_pct  serve_pct\n",
       "Biscoe         116      837   0.487395   0.428571\n",
       "Dream           86      868   0.361345   0.444444\n",
       "Torgersen       36      248   0.151261   0.126984"
      ]
     },
     "execution_count": 69,
     "metadata": {},
     "output_type": "execute_result"
    }
   ],
   "source": [
    "index = [i['label'] for i in island_train_stats]\n",
    "train = [i['sample_count'] for i in island_train_stats]\n",
    "serve = [island_serve_stats[index.index(k)]['sample_count'] for k in [i['label'] for i in island_serve_stats]]\n",
    "stats = pd.DataFrame(\n",
    "    {\n",
    "        'train_n': train,\n",
    "        'serve_n': serve,\n",
    "        'train_pct': [x/sum(train) for x in train],\n",
    "        'serve_pct': [x/sum(serve) for x in serve]\n",
    "    },\n",
    "    index = index\n",
    ")\n",
    "stats"
   ]
  },
  {
   "cell_type": "markdown",
   "metadata": {},
   "source": [
    "### Visualize Distributions"
   ]
  },
  {
   "cell_type": "code",
   "execution_count": 70,
   "metadata": {
    "tags": []
   },
   "outputs": [
    {
     "data": {
      "image/png": "[encoded data removed]",
      "text/plain": [
       "<Figure size 640x480 with 1 Axes>"
      ]
     },
     "metadata": {},
     "output_type": "display_data"
    }
   ],
   "source": [
    "ax = stats[['train_pct', 'serve_pct']].plot.bar(rot=0)\n",
    "for container in ax.containers:\n",
    "    ax.bar_label(container)"
   ]
  },
  {
   "cell_type": "markdown",
   "metadata": {},
   "source": [
    "### L-Infinity Distance"
   ]
  },
  {
   "cell_type": "code",
   "execution_count": 71,
   "metadata": {
    "tags": []
   },
   "outputs": [
    {
     "data": {
      "text/html": [
       "<div>\n",
       "<style scoped>\n",
       "    .dataframe tbody tr th:only-of-type {\n",
       "        vertical-align: middle;\n",
       "    }\n",
       "\n",
       "    .dataframe tbody tr th {\n",
       "        vertical-align: top;\n",
       "    }\n",
       "\n",
       "    .dataframe thead th {\n",
       "        text-align: right;\n",
       "    }\n",
       "</style>\n",
       "<table border=\"1\" class=\"dataframe\">\n",
       "  <thead>\n",
       "    <tr style=\"text-align: right;\">\n",
       "      <th></th>\n",
       "      <th>train_n</th>\n",
       "      <th>serve_n</th>\n",
       "      <th>train_pct</th>\n",
       "      <th>serve_pct</th>\n",
       "      <th>abs_change_pct</th>\n",
       "    </tr>\n",
       "  </thead>\n",
       "  <tbody>\n",
       "    <tr>\n",
       "      <th>Biscoe</th>\n",
       "      <td>116</td>\n",
       "      <td>837</td>\n",
       "      <td>0.487395</td>\n",
       "      <td>0.428571</td>\n",
       "      <td>0.058824</td>\n",
       "    </tr>\n",
       "    <tr>\n",
       "      <th>Dream</th>\n",
       "      <td>86</td>\n",
       "      <td>868</td>\n",
       "      <td>0.361345</td>\n",
       "      <td>0.444444</td>\n",
       "      <td>0.083100</td>\n",
       "    </tr>\n",
       "    <tr>\n",
       "      <th>Torgersen</th>\n",
       "      <td>36</td>\n",
       "      <td>248</td>\n",
       "      <td>0.151261</td>\n",
       "      <td>0.126984</td>\n",
       "      <td>0.024276</td>\n",
       "    </tr>\n",
       "  </tbody>\n",
       "</table>\n",
       "</div>"
      ],
      "text/plain": [
       "           train_n  serve_n  train_pct  serve_pct  abs_change_pct\n",
       "Biscoe         116      837   0.487395   0.428571        0.058824\n",
       "Dream           86      868   0.361345   0.444444        0.083100\n",
       "Torgersen       36      248   0.151261   0.126984        0.024276"
      ]
     },
     "execution_count": 71,
     "metadata": {},
     "output_type": "execute_result"
    }
   ],
   "source": [
    "stats['abs_change_pct'] = abs(stats['train_pct'] - stats['serve_pct'])\n",
    "stats"
   ]
  },
  {
   "cell_type": "code",
   "execution_count": 72,
   "metadata": {
    "tags": []
   },
   "outputs": [
    {
     "data": {
      "text/plain": [
       "[Text(0, 0, '0.0588235'), Text(0, 0, '0.0830999'), Text(0, 0, '0.0242764')]"
      ]
     },
     "execution_count": 72,
     "metadata": {},
     "output_type": "execute_result"
    },
    {
     "data": {
      "image/png": "[encoded data removed]",
      "text/plain": [
       "<Figure size 640x480 with 1 Axes>"
      ]
     },
     "metadata": {},
     "output_type": "display_data"
    }
   ],
   "source": [
    "ax = stats['abs_change_pct'].plot.bar()\n",
    "ax.bar_label(ax.containers[0])"
   ]
  },
  {
   "cell_type": "code",
   "execution_count": 73,
   "metadata": {
    "tags": []
   },
   "outputs": [
    {
     "name": "stdout",
     "output_type": "stream",
     "text": [
      "The max change in percentage(L-Infinity Distance) is 0.08309990662931838\n"
     ]
    }
   ],
   "source": [
    "print(f\"The max change in percentage(L-Infinity Distance) is {max(stats['abs_change_pct'])}\")"
   ]
  },
  {
   "cell_type": "markdown",
   "metadata": {},
   "source": [
    "### Jensen-Shannon Divergence"
   ]
  },
  {
   "cell_type": "code",
   "execution_count": 74,
   "metadata": {
    "tags": []
   },
   "outputs": [
    {
     "data": {
      "text/html": [
       "<div>\n",
       "<style scoped>\n",
       "    .dataframe tbody tr th:only-of-type {\n",
       "        vertical-align: middle;\n",
       "    }\n",
       "\n",
       "    .dataframe tbody tr th {\n",
       "        vertical-align: top;\n",
       "    }\n",
       "\n",
       "    .dataframe thead th {\n",
       "        text-align: right;\n",
       "    }\n",
       "</style>\n",
       "<table border=\"1\" class=\"dataframe\">\n",
       "  <thead>\n",
       "    <tr style=\"text-align: right;\">\n",
       "      <th></th>\n",
       "      <th>train_n</th>\n",
       "      <th>serve_n</th>\n",
       "      <th>train_pct</th>\n",
       "      <th>serve_pct</th>\n",
       "      <th>abs_change_pct</th>\n",
       "      <th>mix</th>\n",
       "      <th>train_kl</th>\n",
       "      <th>serve_kl</th>\n",
       "      <th>JSD</th>\n",
       "    </tr>\n",
       "  </thead>\n",
       "  <tbody>\n",
       "    <tr>\n",
       "      <th>Biscoe</th>\n",
       "      <td>116</td>\n",
       "      <td>837</td>\n",
       "      <td>0.487395</td>\n",
       "      <td>0.428571</td>\n",
       "      <td>0.058824</td>\n",
       "      <td>0.457983</td>\n",
       "      <td>0.043766</td>\n",
       "      <td>-0.041040</td>\n",
       "      <td>0.001363</td>\n",
       "    </tr>\n",
       "    <tr>\n",
       "      <th>Dream</th>\n",
       "      <td>86</td>\n",
       "      <td>868</td>\n",
       "      <td>0.361345</td>\n",
       "      <td>0.444444</td>\n",
       "      <td>0.083100</td>\n",
       "      <td>0.402894</td>\n",
       "      <td>-0.056741</td>\n",
       "      <td>0.062934</td>\n",
       "      <td>0.003096</td>\n",
       "    </tr>\n",
       "    <tr>\n",
       "      <th>Torgersen</th>\n",
       "      <td>36</td>\n",
       "      <td>248</td>\n",
       "      <td>0.151261</td>\n",
       "      <td>0.126984</td>\n",
       "      <td>0.024276</td>\n",
       "      <td>0.139122</td>\n",
       "      <td>0.018254</td>\n",
       "      <td>-0.016725</td>\n",
       "      <td>0.000765</td>\n",
       "    </tr>\n",
       "  </tbody>\n",
       "</table>\n",
       "</div>"
      ],
      "text/plain": [
       "           train_n  serve_n  train_pct  serve_pct  abs_change_pct       mix  \\\n",
       "Biscoe         116      837   0.487395   0.428571        0.058824  0.457983   \n",
       "Dream           86      868   0.361345   0.444444        0.083100  0.402894   \n",
       "Torgersen       36      248   0.151261   0.126984        0.024276  0.139122   \n",
       "\n",
       "           train_kl  serve_kl       JSD  \n",
       "Biscoe     0.043766 -0.041040  0.001363  \n",
       "Dream     -0.056741  0.062934  0.003096  \n",
       "Torgersen  0.018254 -0.016725  0.000765  "
      ]
     },
     "execution_count": 74,
     "metadata": {},
     "output_type": "execute_result"
    }
   ],
   "source": [
    "stats['mix'] = (stats['train_pct'] + stats['serve_pct']) / 2\n",
    "stats['train_kl'] = stats['train_pct'] * np.log2(stats['train_pct'] / stats['mix'])\n",
    "stats['serve_kl'] = stats['serve_pct'] * np.log2(stats['serve_pct'] / stats['mix'])\n",
    "stats['JSD'] = (stats['train_kl'] + stats['serve_kl']) / 2\n",
    "stats"
   ]
  },
  {
   "cell_type": "code",
   "execution_count": 75,
   "metadata": {
    "tags": []
   },
   "outputs": [
    {
     "name": "stdout",
     "output_type": "stream",
     "text": [
      "The total for the Jansen-Shannon Divergence is 0.005224814666669072\n"
     ]
    }
   ],
   "source": [
    "print(f\"The total for the Jansen-Shannon Divergence is {sum(stats['JSD'])}\")"
   ]
  },
  {
   "cell_type": "markdown",
   "metadata": {},
   "source": [
    "### Verify Calculations with `ML.VALIDATE_DATA_DRIFT`"
   ]
  },
  {
   "cell_type": "code",
   "execution_count": 76,
   "metadata": {
    "tags": []
   },
   "outputs": [
    {
     "data": {
      "application/vnd.jupyter.widget-view+json": {
       "model_id": "05c07b1feda248f7beb8066666a50a6a",
       "version_major": 2,
       "version_minor": 0
      },
      "text/plain": [
       "Query is running:   0%|          |"
      ]
     },
     "metadata": {},
     "output_type": "display_data"
    },
    {
     "data": {
      "application/vnd.jupyter.widget-view+json": {
       "model_id": "20b06feb0f9f4643aa3fd7e020262486",
       "version_major": 2,
       "version_minor": 0
      },
      "text/plain": [
       "Downloading:   0%|          |"
      ]
     },
     "metadata": {},
     "output_type": "display_data"
    },
    {
     "data": {
      "text/html": [
       "<div>\n",
       "<style scoped>\n",
       "    .dataframe tbody tr th:only-of-type {\n",
       "        vertical-align: middle;\n",
       "    }\n",
       "\n",
       "    .dataframe tbody tr th {\n",
       "        vertical-align: top;\n",
       "    }\n",
       "\n",
       "    .dataframe thead th {\n",
       "        text-align: right;\n",
       "    }\n",
       "</style>\n",
       "<table border=\"1\" class=\"dataframe\">\n",
       "  <thead>\n",
       "    <tr style=\"text-align: right;\">\n",
       "      <th></th>\n",
       "      <th>input</th>\n",
       "      <th>metric</th>\n",
       "      <th>threshold</th>\n",
       "      <th>value</th>\n",
       "      <th>is_anomaly</th>\n",
       "    </tr>\n",
       "  </thead>\n",
       "  <tbody>\n",
       "    <tr>\n",
       "      <th>0</th>\n",
       "      <td>island</td>\n",
       "      <td>L_INFTY</td>\n",
       "      <td>0.3</td>\n",
       "      <td>0.0831</td>\n",
       "      <td>False</td>\n",
       "    </tr>\n",
       "  </tbody>\n",
       "</table>\n",
       "</div>"
      ],
      "text/plain": [
       "    input   metric  threshold   value  is_anomaly\n",
       "0  island  L_INFTY        0.3  0.0831       False"
      ]
     },
     "execution_count": 76,
     "metadata": {},
     "output_type": "execute_result"
    }
   ],
   "source": [
    "%%bigquery\n",
    "SELECT *\n",
    "FROM ML.VALIDATE_DATA_DRIFT(\n",
    "    (\n",
    "        SELECT island\n",
    "        FROM `statmike-mlops-349915.bqml_model_monitoring.training_split`\n",
    "        WHERE splits = 'TRAIN'\n",
    "    ),\n",
    "    (\n",
    "        SELECT island\n",
    "        FROM `statmike-mlops-349915.bqml_model_monitoring.serving`\n",
    "    ),\n",
    "    STRUCT('L_INFTY' AS categorical_metric_type)\n",
    "    #, MODEL `statmike-mlops-349915.bqml_model_monitoring.classify_species_rf`\n",
    ")"
   ]
  },
  {
   "cell_type": "code",
   "execution_count": 77,
   "metadata": {
    "tags": []
   },
   "outputs": [
    {
     "name": "stdout",
     "output_type": "stream",
     "text": [
      "The max change in percentage(L-Infinity Distance) is 0.08309990662931838\n"
     ]
    }
   ],
   "source": [
    "print(f\"The max change in percentage(L-Infinity Distance) is {max(stats['abs_change_pct'])}\")"
   ]
  },
  {
   "cell_type": "code",
   "execution_count": 78,
   "metadata": {
    "tags": []
   },
   "outputs": [
    {
     "data": {
      "application/vnd.jupyter.widget-view+json": {
       "model_id": "03a6222c4da549a6b4d6292e5f01eeeb",
       "version_major": 2,
       "version_minor": 0
      },
      "text/plain": [
       "Query is running:   0%|          |"
      ]
     },
     "metadata": {},
     "output_type": "display_data"
    },
    {
     "data": {
      "application/vnd.jupyter.widget-view+json": {
       "model_id": "a58b151e784d41ea84f81fcdf35967b9",
       "version_major": 2,
       "version_minor": 0
      },
      "text/plain": [
       "Downloading:   0%|          |"
      ]
     },
     "metadata": {},
     "output_type": "display_data"
    },
    {
     "data": {
      "text/html": [
       "<div>\n",
       "<style scoped>\n",
       "    .dataframe tbody tr th:only-of-type {\n",
       "        vertical-align: middle;\n",
       "    }\n",
       "\n",
       "    .dataframe tbody tr th {\n",
       "        vertical-align: top;\n",
       "    }\n",
       "\n",
       "    .dataframe thead th {\n",
       "        text-align: right;\n",
       "    }\n",
       "</style>\n",
       "<table border=\"1\" class=\"dataframe\">\n",
       "  <thead>\n",
       "    <tr style=\"text-align: right;\">\n",
       "      <th></th>\n",
       "      <th>input</th>\n",
       "      <th>metric</th>\n",
       "      <th>threshold</th>\n",
       "      <th>value</th>\n",
       "      <th>is_anomaly</th>\n",
       "    </tr>\n",
       "  </thead>\n",
       "  <tbody>\n",
       "    <tr>\n",
       "      <th>0</th>\n",
       "      <td>island</td>\n",
       "      <td>JENSEN_SHANNON_DIVERGENCE</td>\n",
       "      <td>0.3</td>\n",
       "      <td>0.005225</td>\n",
       "      <td>False</td>\n",
       "    </tr>\n",
       "  </tbody>\n",
       "</table>\n",
       "</div>"
      ],
      "text/plain": [
       "    input                     metric  threshold     value  is_anomaly\n",
       "0  island  JENSEN_SHANNON_DIVERGENCE        0.3  0.005225       False"
      ]
     },
     "execution_count": 78,
     "metadata": {},
     "output_type": "execute_result"
    }
   ],
   "source": [
    "%%bigquery\n",
    "SELECT *\n",
    "FROM ML.VALIDATE_DATA_DRIFT(\n",
    "    (\n",
    "        SELECT island\n",
    "        FROM `statmike-mlops-349915.bqml_model_monitoring.training_split`\n",
    "        WHERE splits = 'TRAIN'\n",
    "    ),\n",
    "    (\n",
    "        SELECT island\n",
    "        FROM `statmike-mlops-349915.bqml_model_monitoring.serving`\n",
    "    ),\n",
    "    STRUCT('JENSEN_SHANNON_DIVERGENCE' AS categorical_metric_type)\n",
    "    #, MODEL `statmike-mlops-349915.bqml_model_monitoring.classify_species_rf`\n",
    ")"
   ]
  },
  {
   "cell_type": "code",
   "execution_count": 79,
   "metadata": {
    "tags": []
   },
   "outputs": [
    {
     "name": "stdout",
     "output_type": "stream",
     "text": [
      "The total for the Jansen-Shannon Divergence is 0.005224814666669072\n"
     ]
    }
   ],
   "source": [
    "print(f\"The total for the Jansen-Shannon Divergence is {sum(stats['JSD'])}\")"
   ]
  },
  {
   "cell_type": "markdown",
   "metadata": {},
   "source": [
    "---\n",
    "## More Applications For Model Monitoring"
   ]
  },
  {
   "cell_type": "markdown",
   "metadata": {},
   "source": [
    "---\n",
    "### Monitoring Transformed Features\n",
    "\n",
    "The [`CREATE MODEL`](https://cloud.google.com/bigquery/docs/reference/standard-sql/bigqueryml-syntax-create) statement included a [`TRANSFORM`](https://cloud.google.com/bigquery/docs/reference/standard-sql/bigqueryml-syntax-create#transform).  This is available to be called directly for input data with the [`ML.TRANSFORM`](https://cloud.google.com/bigquery/docs/reference/standard-sql/bigqueryml-syntax-transform) function.  This can be useful for considering monitoring the transformed features."
   ]
  },
  {
   "cell_type": "markdown",
   "metadata": {},
   "source": [
    "#### Transformations With `ML.TRANSFORM`"
   ]
  },
  {
   "cell_type": "code",
   "execution_count": 80,
   "metadata": {
    "tags": []
   },
   "outputs": [
    {
     "data": {
      "application/vnd.jupyter.widget-view+json": {
       "model_id": "c7a5720ca30f482c8c8ad6e44bac9c5c",
       "version_major": 2,
       "version_minor": 0
      },
      "text/plain": [
       "Query is running:   0%|          |"
      ]
     },
     "metadata": {},
     "output_type": "display_data"
    },
    {
     "data": {
      "application/vnd.jupyter.widget-view+json": {
       "model_id": "01c30d287bcc48a69f033fcdd56115d2",
       "version_major": 2,
       "version_minor": 0
      },
      "text/plain": [
       "Downloading:   0%|          |"
      ]
     },
     "metadata": {},
     "output_type": "display_data"
    },
    {
     "data": {
      "text/html": [
       "<div>\n",
       "<style scoped>\n",
       "    .dataframe tbody tr th:only-of-type {\n",
       "        vertical-align: middle;\n",
       "    }\n",
       "\n",
       "    .dataframe tbody tr th {\n",
       "        vertical-align: top;\n",
       "    }\n",
       "\n",
       "    .dataframe thead th {\n",
       "        text-align: right;\n",
       "    }\n",
       "</style>\n",
       "<table border=\"1\" class=\"dataframe\">\n",
       "  <thead>\n",
       "    <tr style=\"text-align: right;\">\n",
       "      <th></th>\n",
       "      <th>body_mass_g</th>\n",
       "      <th>culmen_length_mm</th>\n",
       "      <th>culmen_depth_mm</th>\n",
       "      <th>flipper_length_mm</th>\n",
       "      <th>sex</th>\n",
       "      <th>island</th>\n",
       "      <th>species</th>\n",
       "      <th>instance_timestamp</th>\n",
       "    </tr>\n",
       "  </thead>\n",
       "  <tbody>\n",
       "    <tr>\n",
       "      <th>0</th>\n",
       "      <td>-0.025302</td>\n",
       "      <td>-1.165712</td>\n",
       "      <td>-0.589964</td>\n",
       "      <td>bin_3</td>\n",
       "      <td>FEMALE</td>\n",
       "      <td>Biscoe</td>\n",
       "      <td>Adelie Penguin (Pygoscelis adeliae)</td>\n",
       "      <td>2025-03-25 00:00:00+00:00</td>\n",
       "    </tr>\n",
       "    <tr>\n",
       "      <th>1</th>\n",
       "      <td>0.023819</td>\n",
       "      <td>-1.497011</td>\n",
       "      <td>-0.288501</td>\n",
       "      <td>bin_3</td>\n",
       "      <td>FEMALE</td>\n",
       "      <td>Torgersen</td>\n",
       "      <td>Adelie Penguin (Pygoscelis adeliae)</td>\n",
       "      <td>2025-03-25 00:00:00+00:00</td>\n",
       "    </tr>\n",
       "    <tr>\n",
       "      <th>2</th>\n",
       "      <td>0.253603</td>\n",
       "      <td>-0.705575</td>\n",
       "      <td>-0.087525</td>\n",
       "      <td>bin_3</td>\n",
       "      <td>FEMALE</td>\n",
       "      <td>Torgersen</td>\n",
       "      <td>Adelie Penguin (Pygoscelis adeliae)</td>\n",
       "      <td>2025-03-25 00:00:00+00:00</td>\n",
       "    </tr>\n",
       "    <tr>\n",
       "      <th>3</th>\n",
       "      <td>0.348579</td>\n",
       "      <td>-1.147307</td>\n",
       "      <td>-0.037281</td>\n",
       "      <td>bin_3</td>\n",
       "      <td>FEMALE</td>\n",
       "      <td>Torgersen</td>\n",
       "      <td>Adelie Penguin (Pygoscelis adeliae)</td>\n",
       "      <td>2025-03-25 00:00:00+00:00</td>\n",
       "    </tr>\n",
       "    <tr>\n",
       "      <th>4</th>\n",
       "      <td>0.304451</td>\n",
       "      <td>-0.944846</td>\n",
       "      <td>0.314427</td>\n",
       "      <td>bin_3</td>\n",
       "      <td>FEMALE</td>\n",
       "      <td>Torgersen</td>\n",
       "      <td>Adelie Penguin (Pygoscelis adeliae)</td>\n",
       "      <td>2025-03-25 00:00:00+00:00</td>\n",
       "    </tr>\n",
       "  </tbody>\n",
       "</table>\n",
       "</div>"
      ],
      "text/plain": [
       "   body_mass_g  culmen_length_mm  culmen_depth_mm flipper_length_mm     sex  \\\n",
       "0    -0.025302         -1.165712        -0.589964             bin_3  FEMALE   \n",
       "1     0.023819         -1.497011        -0.288501             bin_3  FEMALE   \n",
       "2     0.253603         -0.705575        -0.087525             bin_3  FEMALE   \n",
       "3     0.348579         -1.147307        -0.037281             bin_3  FEMALE   \n",
       "4     0.304451         -0.944846         0.314427             bin_3  FEMALE   \n",
       "\n",
       "      island                              species        instance_timestamp  \n",
       "0     Biscoe  Adelie Penguin (Pygoscelis adeliae) 2025-03-25 00:00:00+00:00  \n",
       "1  Torgersen  Adelie Penguin (Pygoscelis adeliae) 2025-03-25 00:00:00+00:00  \n",
       "2  Torgersen  Adelie Penguin (Pygoscelis adeliae) 2025-03-25 00:00:00+00:00  \n",
       "3  Torgersen  Adelie Penguin (Pygoscelis adeliae) 2025-03-25 00:00:00+00:00  \n",
       "4  Torgersen  Adelie Penguin (Pygoscelis adeliae) 2025-03-25 00:00:00+00:00  "
      ]
     },
     "execution_count": 80,
     "metadata": {},
     "output_type": "execute_result"
    }
   ],
   "source": [
    "%%bigquery\n",
    "SELECT *\n",
    "FROM ML.TRANSFORM(\n",
    "    MODEL `statmike-mlops-349915.bqml_model_monitoring.classify_species_rf`,\n",
    "    (\n",
    "        SELECT *\n",
    "        FROM `statmike-mlops-349915.bqml_model_monitoring.serving`\n",
    "        LIMIT 5\n",
    "    )\n",
    ")"
   ]
  },
  {
   "cell_type": "markdown",
   "metadata": {},
   "source": [
    "#### Monitoring Skew (Manually) - As Drift from Training Data With `ML.VALIDATE_DATA_DRIFT`\n",
    "\n",
    "Compare today, or any data, to the training data by directly comparing to the the model created in BigQuery."
   ]
  },
  {
   "cell_type": "code",
   "execution_count": 81,
   "metadata": {
    "tags": []
   },
   "outputs": [
    {
     "data": {
      "application/vnd.jupyter.widget-view+json": {
       "model_id": "dae6a6d13f634fe0a9346024d080d20c",
       "version_major": 2,
       "version_minor": 0
      },
      "text/plain": [
       "Query is running:   0%|          |"
      ]
     },
     "metadata": {},
     "output_type": "display_data"
    },
    {
     "data": {
      "application/vnd.jupyter.widget-view+json": {
       "model_id": "78c973d1befe46668b425c9b70868418",
       "version_major": 2,
       "version_minor": 0
      },
      "text/plain": [
       "Downloading:   0%|          |"
      ]
     },
     "metadata": {},
     "output_type": "display_data"
    },
    {
     "data": {
      "text/html": [
       "<div>\n",
       "<style scoped>\n",
       "    .dataframe tbody tr th:only-of-type {\n",
       "        vertical-align: middle;\n",
       "    }\n",
       "\n",
       "    .dataframe tbody tr th {\n",
       "        vertical-align: top;\n",
       "    }\n",
       "\n",
       "    .dataframe thead th {\n",
       "        text-align: right;\n",
       "    }\n",
       "</style>\n",
       "<table border=\"1\" class=\"dataframe\">\n",
       "  <thead>\n",
       "    <tr style=\"text-align: right;\">\n",
       "      <th></th>\n",
       "      <th>input</th>\n",
       "      <th>metric</th>\n",
       "      <th>threshold</th>\n",
       "      <th>value</th>\n",
       "      <th>is_anomaly</th>\n",
       "    </tr>\n",
       "  </thead>\n",
       "  <tbody>\n",
       "    <tr>\n",
       "      <th>0</th>\n",
       "      <td>body_mass_g</td>\n",
       "      <td>JENSEN_SHANNON_DIVERGENCE</td>\n",
       "      <td>0.3</td>\n",
       "      <td>0.347805</td>\n",
       "      <td>True</td>\n",
       "    </tr>\n",
       "    <tr>\n",
       "      <th>1</th>\n",
       "      <td>culmen_depth_mm</td>\n",
       "      <td>JENSEN_SHANNON_DIVERGENCE</td>\n",
       "      <td>0.3</td>\n",
       "      <td>0.039770</td>\n",
       "      <td>False</td>\n",
       "    </tr>\n",
       "    <tr>\n",
       "      <th>2</th>\n",
       "      <td>culmen_length_mm</td>\n",
       "      <td>JENSEN_SHANNON_DIVERGENCE</td>\n",
       "      <td>0.3</td>\n",
       "      <td>0.056944</td>\n",
       "      <td>False</td>\n",
       "    </tr>\n",
       "    <tr>\n",
       "      <th>3</th>\n",
       "      <td>flipper_length_mm</td>\n",
       "      <td>L_INFTY</td>\n",
       "      <td>0.3</td>\n",
       "      <td>0.656780</td>\n",
       "      <td>True</td>\n",
       "    </tr>\n",
       "    <tr>\n",
       "      <th>4</th>\n",
       "      <td>island</td>\n",
       "      <td>L_INFTY</td>\n",
       "      <td>0.3</td>\n",
       "      <td>0.083100</td>\n",
       "      <td>False</td>\n",
       "    </tr>\n",
       "    <tr>\n",
       "      <th>5</th>\n",
       "      <td>sex</td>\n",
       "      <td>L_INFTY</td>\n",
       "      <td>0.3</td>\n",
       "      <td>0.028945</td>\n",
       "      <td>False</td>\n",
       "    </tr>\n",
       "    <tr>\n",
       "      <th>6</th>\n",
       "      <td>species</td>\n",
       "      <td>L_INFTY</td>\n",
       "      <td>0.3</td>\n",
       "      <td>0.088235</td>\n",
       "      <td>False</td>\n",
       "    </tr>\n",
       "  </tbody>\n",
       "</table>\n",
       "</div>"
      ],
      "text/plain": [
       "               input                     metric  threshold     value  \\\n",
       "0        body_mass_g  JENSEN_SHANNON_DIVERGENCE        0.3  0.347805   \n",
       "1    culmen_depth_mm  JENSEN_SHANNON_DIVERGENCE        0.3  0.039770   \n",
       "2   culmen_length_mm  JENSEN_SHANNON_DIVERGENCE        0.3  0.056944   \n",
       "3  flipper_length_mm                    L_INFTY        0.3  0.656780   \n",
       "4             island                    L_INFTY        0.3  0.083100   \n",
       "5                sex                    L_INFTY        0.3  0.028945   \n",
       "6            species                    L_INFTY        0.3  0.088235   \n",
       "\n",
       "   is_anomaly  \n",
       "0        True  \n",
       "1       False  \n",
       "2       False  \n",
       "3        True  \n",
       "4       False  \n",
       "5       False  \n",
       "6       False  "
      ]
     },
     "execution_count": 81,
     "metadata": {},
     "output_type": "execute_result"
    }
   ],
   "source": [
    "%%bigquery\n",
    "SELECT *\n",
    "FROM ML.VALIDATE_DATA_DRIFT(\n",
    "    (\n",
    "        SELECT *\n",
    "        FROM ML.TRANSFORM(\n",
    "            MODEL `statmike-mlops-349915.bqml_model_monitoring.classify_species_rf`,\n",
    "            (\n",
    "                SELECT *\n",
    "                FROM `statmike-mlops-349915.bqml_model_monitoring.training_split`\n",
    "                WHERE splits = 'TRAIN'\n",
    "            )\n",
    "        )\n",
    "    ),\n",
    "    (\n",
    "        SELECT *\n",
    "        FROM ML.TRANSFORM(\n",
    "            MODEL `statmike-mlops-349915.bqml_model_monitoring.classify_species_rf`,\n",
    "            (\n",
    "                SELECT *\n",
    "                FROM `statmike-mlops-349915.bqml_model_monitoring.serving`\n",
    "                WHERE DATE(instance_timestamp) >= CURRENT_DATE()\n",
    "            )\n",
    "        )\n",
    "    )\n",
    "    #, MODEL `statmike-mlops-349915.bqml_model_monitoring.classify_species_rf`\n",
    ");"
   ]
  },
  {
   "cell_type": "markdown",
   "metadata": {},
   "source": [
    "#### Monitoring Drift (Change Over Time) With `ML.VALIDATE_DATA_DRIFT`\n",
    "\n",
    "Compare today to 5 days ago and set the a lower, more sensitive, threshold of `0.03` (default is `0.3`) for all features."
   ]
  },
  {
   "cell_type": "code",
   "execution_count": 82,
   "metadata": {
    "tags": []
   },
   "outputs": [
    {
     "data": {
      "application/vnd.jupyter.widget-view+json": {
       "model_id": "cee4bca572784603972b78eff0b8c7f2",
       "version_major": 2,
       "version_minor": 0
      },
      "text/plain": [
       "Query is running:   0%|          |"
      ]
     },
     "metadata": {},
     "output_type": "display_data"
    },
    {
     "data": {
      "application/vnd.jupyter.widget-view+json": {
       "model_id": "fa816bffd0e44555a85276c3b2734761",
       "version_major": 2,
       "version_minor": 0
      },
      "text/plain": [
       "Downloading:   0%|          |"
      ]
     },
     "metadata": {},
     "output_type": "display_data"
    },
    {
     "data": {
      "text/html": [
       "<div>\n",
       "<style scoped>\n",
       "    .dataframe tbody tr th:only-of-type {\n",
       "        vertical-align: middle;\n",
       "    }\n",
       "\n",
       "    .dataframe tbody tr th {\n",
       "        vertical-align: top;\n",
       "    }\n",
       "\n",
       "    .dataframe thead th {\n",
       "        text-align: right;\n",
       "    }\n",
       "</style>\n",
       "<table border=\"1\" class=\"dataframe\">\n",
       "  <thead>\n",
       "    <tr style=\"text-align: right;\">\n",
       "      <th></th>\n",
       "      <th>input</th>\n",
       "      <th>metric</th>\n",
       "      <th>threshold</th>\n",
       "      <th>value</th>\n",
       "      <th>is_anomaly</th>\n",
       "    </tr>\n",
       "  </thead>\n",
       "  <tbody>\n",
       "    <tr>\n",
       "      <th>0</th>\n",
       "      <td>body_mass_g</td>\n",
       "      <td>JENSEN_SHANNON_DIVERGENCE</td>\n",
       "      <td>0.03</td>\n",
       "      <td>0.094596</td>\n",
       "      <td>True</td>\n",
       "    </tr>\n",
       "    <tr>\n",
       "      <th>1</th>\n",
       "      <td>culmen_depth_mm</td>\n",
       "      <td>JENSEN_SHANNON_DIVERGENCE</td>\n",
       "      <td>0.03</td>\n",
       "      <td>0.000000</td>\n",
       "      <td>False</td>\n",
       "    </tr>\n",
       "    <tr>\n",
       "      <th>2</th>\n",
       "      <td>culmen_length_mm</td>\n",
       "      <td>JENSEN_SHANNON_DIVERGENCE</td>\n",
       "      <td>0.03</td>\n",
       "      <td>0.000000</td>\n",
       "      <td>False</td>\n",
       "    </tr>\n",
       "    <tr>\n",
       "      <th>3</th>\n",
       "      <td>flipper_length_mm</td>\n",
       "      <td>L_INFTY</td>\n",
       "      <td>0.03</td>\n",
       "      <td>0.000000</td>\n",
       "      <td>False</td>\n",
       "    </tr>\n",
       "    <tr>\n",
       "      <th>4</th>\n",
       "      <td>instance_timestamp</td>\n",
       "      <td>L_INFTY</td>\n",
       "      <td>0.03</td>\n",
       "      <td>1.000000</td>\n",
       "      <td>True</td>\n",
       "    </tr>\n",
       "    <tr>\n",
       "      <th>5</th>\n",
       "      <td>island</td>\n",
       "      <td>L_INFTY</td>\n",
       "      <td>0.03</td>\n",
       "      <td>0.000000</td>\n",
       "      <td>False</td>\n",
       "    </tr>\n",
       "    <tr>\n",
       "      <th>6</th>\n",
       "      <td>sex</td>\n",
       "      <td>L_INFTY</td>\n",
       "      <td>0.03</td>\n",
       "      <td>0.000000</td>\n",
       "      <td>False</td>\n",
       "    </tr>\n",
       "    <tr>\n",
       "      <th>7</th>\n",
       "      <td>species</td>\n",
       "      <td>L_INFTY</td>\n",
       "      <td>0.03</td>\n",
       "      <td>0.000000</td>\n",
       "      <td>False</td>\n",
       "    </tr>\n",
       "  </tbody>\n",
       "</table>\n",
       "</div>"
      ],
      "text/plain": [
       "                input                     metric  threshold     value  \\\n",
       "0         body_mass_g  JENSEN_SHANNON_DIVERGENCE       0.03  0.094596   \n",
       "1     culmen_depth_mm  JENSEN_SHANNON_DIVERGENCE       0.03  0.000000   \n",
       "2    culmen_length_mm  JENSEN_SHANNON_DIVERGENCE       0.03  0.000000   \n",
       "3   flipper_length_mm                    L_INFTY       0.03  0.000000   \n",
       "4  instance_timestamp                    L_INFTY       0.03  1.000000   \n",
       "5              island                    L_INFTY       0.03  0.000000   \n",
       "6                 sex                    L_INFTY       0.03  0.000000   \n",
       "7             species                    L_INFTY       0.03  0.000000   \n",
       "\n",
       "   is_anomaly  \n",
       "0        True  \n",
       "1       False  \n",
       "2       False  \n",
       "3       False  \n",
       "4        True  \n",
       "5       False  \n",
       "6       False  \n",
       "7       False  "
      ]
     },
     "execution_count": 82,
     "metadata": {},
     "output_type": "execute_result"
    }
   ],
   "source": [
    "%%bigquery\n",
    "SELECT *\n",
    "FROM ML.VALIDATE_DATA_DRIFT(\n",
    "    (\n",
    "        SELECT *\n",
    "        FROM ML.TRANSFORM(\n",
    "            MODEL `statmike-mlops-349915.bqml_model_monitoring.classify_species_rf`,\n",
    "            (\n",
    "                SELECT *\n",
    "                FROM `statmike-mlops-349915.bqml_model_monitoring.serving`\n",
    "                WHERE DATE(instance_timestamp) = DATE_SUB(CURRENT_DATE(), INTERVAL 5 DAY)\n",
    "            )\n",
    "        )\n",
    "    ),\n",
    "    (\n",
    "        SELECT *\n",
    "        FROM ML.TRANSFORM(\n",
    "            MODEL `statmike-mlops-349915.bqml_model_monitoring.classify_species_rf`,\n",
    "            (\n",
    "                SELECT *\n",
    "                FROM `statmike-mlops-349915.bqml_model_monitoring.serving`\n",
    "                WHERE DATE(instance_timestamp) >= CURRENT_DATE()\n",
    "            )\n",
    "        )\n",
    "    ),\n",
    "    STRUCT(\n",
    "        0.03 AS categorical_default_threshold,\n",
    "        0.03 AS numerical_default_threshold\n",
    "    )\n",
    "    #, MODEL `statmike-mlops-349915.bqml_model_monitoring.classify_species_rf`\n",
    ")"
   ]
  },
  {
   "cell_type": "markdown",
   "metadata": {
    "tags": []
   },
   "source": [
    "---\n",
    "### Monitoring Feature Attributions\n",
    "\n",
    "BigQuery ML models, like the deep neural network classifier (`model_type = 'DNN_CLASSIFIER'`) used above, can also serve explanations using the BigQuery function [`ML.EXPLAIN_PREDICT`](https://cloud.google.com/bigquery/docs/reference/standard-sql/bigqueryml-syntax-explain-predict).  This function returns feature attributions for each feature used in the model to explain how much contribution was made to the final prediction for a given instance.\n",
    "\n",
    "**Feature Attributions**\n",
    "\n",
    "The feature attributions from `ML.EXPLAIN_PREDICT` are [local explanations](https://cloud.google.com/bigquery/docs/xai-overview#local_versus_global_explainability), specific to the instance being predicted.  The attribution values are given for each feature and they add up to the `prediction_value`. In this case the model is a classifier and the `prediction_value` is the logit value (log-odds) of the predicted class.  "
   ]
  },
  {
   "cell_type": "markdown",
   "metadata": {},
   "source": [
    "#### Serving Feature Attributions\n",
    "\n",
    "As an example, the following cell gets the feature attributions for a single penguin with for the latest values of the features:"
   ]
  },
  {
   "cell_type": "code",
   "execution_count": 83,
   "metadata": {
    "tags": []
   },
   "outputs": [
    {
     "data": {
      "application/vnd.jupyter.widget-view+json": {
       "model_id": "233729c4a67b4fd7b8d1ce47e07f3ef5",
       "version_major": 2,
       "version_minor": 0
      },
      "text/plain": [
       "Query is running:   0%|          |"
      ]
     },
     "metadata": {},
     "output_type": "display_data"
    },
    {
     "data": {
      "application/vnd.jupyter.widget-view+json": {
       "model_id": "02d77e0f1f8f446590c0c15dab382979",
       "version_major": 2,
       "version_minor": 0
      },
      "text/plain": [
       "Downloading:   0%|          |"
      ]
     },
     "metadata": {},
     "output_type": "display_data"
    },
    {
     "data": {
      "text/html": [
       "<div>\n",
       "<style scoped>\n",
       "    .dataframe tbody tr th:only-of-type {\n",
       "        vertical-align: middle;\n",
       "    }\n",
       "\n",
       "    .dataframe tbody tr th {\n",
       "        vertical-align: top;\n",
       "    }\n",
       "\n",
       "    .dataframe thead th {\n",
       "        text-align: right;\n",
       "    }\n",
       "</style>\n",
       "<table border=\"1\" class=\"dataframe\">\n",
       "  <thead>\n",
       "    <tr style=\"text-align: right;\">\n",
       "      <th></th>\n",
       "      <th>predicted_species</th>\n",
       "      <th>probability</th>\n",
       "      <th>baseline_prediction_value</th>\n",
       "      <th>prediction_value</th>\n",
       "      <th>approximation_error</th>\n",
       "      <th>feature</th>\n",
       "      <th>attribution</th>\n",
       "    </tr>\n",
       "  </thead>\n",
       "  <tbody>\n",
       "    <tr>\n",
       "      <th>0</th>\n",
       "      <td>Gentoo penguin (Pygoscelis papua)</td>\n",
       "      <td>0.568346</td>\n",
       "      <td>0.545673</td>\n",
       "      <td>1.342399</td>\n",
       "      <td>0.0</td>\n",
       "      <td>culmen_depth_mm</td>\n",
       "      <td>0.589142</td>\n",
       "    </tr>\n",
       "    <tr>\n",
       "      <th>1</th>\n",
       "      <td>Gentoo penguin (Pygoscelis papua)</td>\n",
       "      <td>0.568346</td>\n",
       "      <td>0.545673</td>\n",
       "      <td>1.342399</td>\n",
       "      <td>0.0</td>\n",
       "      <td>flipper_length_mm</td>\n",
       "      <td>0.586509</td>\n",
       "    </tr>\n",
       "    <tr>\n",
       "      <th>2</th>\n",
       "      <td>Gentoo penguin (Pygoscelis papua)</td>\n",
       "      <td>0.568346</td>\n",
       "      <td>0.545673</td>\n",
       "      <td>1.342399</td>\n",
       "      <td>0.0</td>\n",
       "      <td>body_mass_g</td>\n",
       "      <td>-0.323932</td>\n",
       "    </tr>\n",
       "    <tr>\n",
       "      <th>3</th>\n",
       "      <td>Gentoo penguin (Pygoscelis papua)</td>\n",
       "      <td>0.568346</td>\n",
       "      <td>0.545673</td>\n",
       "      <td>1.342399</td>\n",
       "      <td>0.0</td>\n",
       "      <td>culmen_length_mm</td>\n",
       "      <td>-0.075200</td>\n",
       "    </tr>\n",
       "    <tr>\n",
       "      <th>4</th>\n",
       "      <td>Gentoo penguin (Pygoscelis papua)</td>\n",
       "      <td>0.568346</td>\n",
       "      <td>0.545673</td>\n",
       "      <td>1.342399</td>\n",
       "      <td>0.0</td>\n",
       "      <td>island</td>\n",
       "      <td>0.019592</td>\n",
       "    </tr>\n",
       "    <tr>\n",
       "      <th>5</th>\n",
       "      <td>Gentoo penguin (Pygoscelis papua)</td>\n",
       "      <td>0.568346</td>\n",
       "      <td>0.545673</td>\n",
       "      <td>1.342399</td>\n",
       "      <td>0.0</td>\n",
       "      <td>sex</td>\n",
       "      <td>0.000615</td>\n",
       "    </tr>\n",
       "  </tbody>\n",
       "</table>\n",
       "</div>"
      ],
      "text/plain": [
       "                   predicted_species  probability  baseline_prediction_value  \\\n",
       "0  Gentoo penguin (Pygoscelis papua)     0.568346                   0.545673   \n",
       "1  Gentoo penguin (Pygoscelis papua)     0.568346                   0.545673   \n",
       "2  Gentoo penguin (Pygoscelis papua)     0.568346                   0.545673   \n",
       "3  Gentoo penguin (Pygoscelis papua)     0.568346                   0.545673   \n",
       "4  Gentoo penguin (Pygoscelis papua)     0.568346                   0.545673   \n",
       "5  Gentoo penguin (Pygoscelis papua)     0.568346                   0.545673   \n",
       "\n",
       "   prediction_value  approximation_error            feature  attribution  \n",
       "0          1.342399                  0.0    culmen_depth_mm     0.589142  \n",
       "1          1.342399                  0.0  flipper_length_mm     0.586509  \n",
       "2          1.342399                  0.0        body_mass_g    -0.323932  \n",
       "3          1.342399                  0.0   culmen_length_mm    -0.075200  \n",
       "4          1.342399                  0.0             island     0.019592  \n",
       "5          1.342399                  0.0                sex     0.000615  "
      ]
     },
     "execution_count": 83,
     "metadata": {},
     "output_type": "execute_result"
    }
   ],
   "source": [
    "%%bigquery\n",
    "WITH\n",
    "    EXPLAIN AS (\n",
    "        SELECT * EXCEPT(body_mass_g, sex, island, flipper_length_mm, culmen_depth_mm, culmen_length_mm)\n",
    "        FROM ML.EXPLAIN_PREDICT(\n",
    "            MODEL `statmike-mlops-349915.bqml_model_monitoring.classify_species_rf`,\n",
    "            (\n",
    "                SELECT * EXCEPT(instance_timestamp, species)\n",
    "                FROM `statmike-mlops-349915.bqml_model_monitoring.serving`\n",
    "                WHERE DATE(instance_timestamp) = CURRENT_DATE()\n",
    "                LIMIT 1\n",
    "            ), \n",
    "            STRUCT(10 AS top_k_features)\n",
    "        )\n",
    "    ),\n",
    "    ATTRIBUTIONS AS (\n",
    "        SELECT * EXCEPT(top_feature_attributions),\n",
    "        FROM EXPLAIN\n",
    "        JOIN UNNEST(top_feature_attributions)\n",
    "    )\n",
    "SELECT * \n",
    "FROM ATTRIBUTIONS"
   ]
  },
  {
   "cell_type": "markdown",
   "metadata": {},
   "source": [
    "#### Reviewing Feature Attributions\n",
    "\n",
    "Get attributions for all penguins:"
   ]
  },
  {
   "cell_type": "code",
   "execution_count": 84,
   "metadata": {
    "tags": []
   },
   "outputs": [
    {
     "data": {
      "application/vnd.jupyter.widget-view+json": {
       "model_id": "23bf3663b3eb4e818314ffdd4cabef95",
       "version_major": 2,
       "version_minor": 0
      },
      "text/plain": [
       "Query is running:   0%|          |"
      ]
     },
     "metadata": {},
     "output_type": "display_data"
    },
    {
     "data": {
      "application/vnd.jupyter.widget-view+json": {
       "model_id": "c7d07028445f4b1faac74fa7ca3a27c1",
       "version_major": 2,
       "version_minor": 0
      },
      "text/plain": [
       "Downloading:   0%|          |"
      ]
     },
     "metadata": {},
     "output_type": "display_data"
    }
   ],
   "source": [
    "%%bigquery explain\n",
    "WITH\n",
    "    EXPLAIN AS (\n",
    "        SELECT * EXCEPT(body_mass_g, sex, island, flipper_length_mm, culmen_depth_mm, culmen_length_mm)\n",
    "        FROM ML.EXPLAIN_PREDICT(\n",
    "            MODEL `statmike-mlops-349915.bqml_model_monitoring.classify_species_rf`,\n",
    "            (\n",
    "                SELECT * EXCEPT(instance_timestamp, species)\n",
    "                FROM `statmike-mlops-349915.bqml_model_monitoring.serving`\n",
    "                WHERE DATE(instance_timestamp) = CURRENT_DATE()\n",
    "            ), \n",
    "            STRUCT(10 AS top_k_features)\n",
    "        )\n",
    "    ),\n",
    "    ATTRIBUTIONS AS (\n",
    "        SELECT * EXCEPT(top_feature_attributions),\n",
    "        FROM EXPLAIN\n",
    "        JOIN UNNEST(top_feature_attributions)\n",
    "    ),\n",
    "    PIVOT_ATTRIBUTION AS (\n",
    "        SELECT body_mass_g, sex, island, flipper_length_mm, culmen_depth_mm, culmen_length_mm\n",
    "        FROM ATTRIBUTIONS PIVOT(MAX(attribution) FOR feature IN ('body_mass_g', 'sex', 'island', 'flipper_length_mm', 'culmen_depth_mm', 'culmen_length_mm'))\n",
    "    )\n",
    "SELECT *\n",
    "FROM PIVOT_ATTRIBUTION"
   ]
  },
  {
   "cell_type": "code",
   "execution_count": 85,
   "metadata": {
    "tags": []
   },
   "outputs": [
    {
     "data": {
      "text/html": [
       "<div>\n",
       "<style scoped>\n",
       "    .dataframe tbody tr th:only-of-type {\n",
       "        vertical-align: middle;\n",
       "    }\n",
       "\n",
       "    .dataframe tbody tr th {\n",
       "        vertical-align: top;\n",
       "    }\n",
       "\n",
       "    .dataframe thead th {\n",
       "        text-align: right;\n",
       "    }\n",
       "</style>\n",
       "<table border=\"1\" class=\"dataframe\">\n",
       "  <thead>\n",
       "    <tr style=\"text-align: right;\">\n",
       "      <th></th>\n",
       "      <th>body_mass_g</th>\n",
       "      <th>sex</th>\n",
       "      <th>island</th>\n",
       "      <th>flipper_length_mm</th>\n",
       "      <th>culmen_depth_mm</th>\n",
       "      <th>culmen_length_mm</th>\n",
       "    </tr>\n",
       "  </thead>\n",
       "  <tbody>\n",
       "    <tr>\n",
       "      <th>0</th>\n",
       "      <td>-0.011041</td>\n",
       "      <td>-0.001987</td>\n",
       "      <td>0.082665</td>\n",
       "      <td>-0.379618</td>\n",
       "      <td>-0.344291</td>\n",
       "      <td>0.730420</td>\n",
       "    </tr>\n",
       "    <tr>\n",
       "      <th>1</th>\n",
       "      <td>-0.036698</td>\n",
       "      <td>-0.002240</td>\n",
       "      <td>0.089229</td>\n",
       "      <td>-0.419331</td>\n",
       "      <td>0.092131</td>\n",
       "      <td>0.756412</td>\n",
       "    </tr>\n",
       "    <tr>\n",
       "      <th>2</th>\n",
       "      <td>0.001635</td>\n",
       "      <td>-0.003126</td>\n",
       "      <td>-0.027412</td>\n",
       "      <td>-0.397611</td>\n",
       "      <td>0.081655</td>\n",
       "      <td>0.823266</td>\n",
       "    </tr>\n",
       "    <tr>\n",
       "      <th>3</th>\n",
       "      <td>-0.060698</td>\n",
       "      <td>-0.002205</td>\n",
       "      <td>0.090278</td>\n",
       "      <td>-0.418847</td>\n",
       "      <td>0.096314</td>\n",
       "      <td>0.744611</td>\n",
       "    </tr>\n",
       "    <tr>\n",
       "      <th>4</th>\n",
       "      <td>-0.064318</td>\n",
       "      <td>0.003636</td>\n",
       "      <td>-0.023256</td>\n",
       "      <td>-0.401947</td>\n",
       "      <td>0.088733</td>\n",
       "      <td>0.797543</td>\n",
       "    </tr>\n",
       "  </tbody>\n",
       "</table>\n",
       "</div>"
      ],
      "text/plain": [
       "   body_mass_g       sex    island  flipper_length_mm  culmen_depth_mm  \\\n",
       "0    -0.011041 -0.001987  0.082665          -0.379618        -0.344291   \n",
       "1    -0.036698 -0.002240  0.089229          -0.419331         0.092131   \n",
       "2     0.001635 -0.003126 -0.027412          -0.397611         0.081655   \n",
       "3    -0.060698 -0.002205  0.090278          -0.418847         0.096314   \n",
       "4    -0.064318  0.003636 -0.023256          -0.401947         0.088733   \n",
       "\n",
       "   culmen_length_mm  \n",
       "0          0.730420  \n",
       "1          0.756412  \n",
       "2          0.823266  \n",
       "3          0.744611  \n",
       "4          0.797543  "
      ]
     },
     "execution_count": 85,
     "metadata": {},
     "output_type": "execute_result"
    }
   ],
   "source": [
    "explain.head()"
   ]
  },
  {
   "cell_type": "markdown",
   "metadata": {},
   "source": [
    "#### Monitor Feature Attributions For Drift with `ML.VALIDATE_DATA_DRIFT`\n",
    "\n",
    "Compare yesterday to 25 days ago:"
   ]
  },
  {
   "cell_type": "code",
   "execution_count": 86,
   "metadata": {
    "tags": []
   },
   "outputs": [
    {
     "data": {
      "application/vnd.jupyter.widget-view+json": {
       "model_id": "f54d81aebaf043b1840397dd29e0005e",
       "version_major": 2,
       "version_minor": 0
      },
      "text/plain": [
       "Query is running:   0%|          |"
      ]
     },
     "metadata": {},
     "output_type": "display_data"
    },
    {
     "data": {
      "application/vnd.jupyter.widget-view+json": {
       "model_id": "b94d692e049c4b30a887804e9ec7d25e",
       "version_major": 2,
       "version_minor": 0
      },
      "text/plain": [
       "Downloading:   0%|          |"
      ]
     },
     "metadata": {},
     "output_type": "display_data"
    },
    {
     "data": {
      "text/html": [
       "<div>\n",
       "<style scoped>\n",
       "    .dataframe tbody tr th:only-of-type {\n",
       "        vertical-align: middle;\n",
       "    }\n",
       "\n",
       "    .dataframe tbody tr th {\n",
       "        vertical-align: top;\n",
       "    }\n",
       "\n",
       "    .dataframe thead th {\n",
       "        text-align: right;\n",
       "    }\n",
       "</style>\n",
       "<table border=\"1\" class=\"dataframe\">\n",
       "  <thead>\n",
       "    <tr style=\"text-align: right;\">\n",
       "      <th></th>\n",
       "      <th>input</th>\n",
       "      <th>metric</th>\n",
       "      <th>threshold</th>\n",
       "      <th>value</th>\n",
       "      <th>is_anomaly</th>\n",
       "    </tr>\n",
       "  </thead>\n",
       "  <tbody>\n",
       "    <tr>\n",
       "      <th>0</th>\n",
       "      <td>body_mass_g</td>\n",
       "      <td>JENSEN_SHANNON_DIVERGENCE</td>\n",
       "      <td>0.3</td>\n",
       "      <td>0.255773</td>\n",
       "      <td>False</td>\n",
       "    </tr>\n",
       "    <tr>\n",
       "      <th>1</th>\n",
       "      <td>culmen_depth_mm</td>\n",
       "      <td>JENSEN_SHANNON_DIVERGENCE</td>\n",
       "      <td>0.3</td>\n",
       "      <td>0.170654</td>\n",
       "      <td>False</td>\n",
       "    </tr>\n",
       "    <tr>\n",
       "      <th>2</th>\n",
       "      <td>culmen_length_mm</td>\n",
       "      <td>JENSEN_SHANNON_DIVERGENCE</td>\n",
       "      <td>0.3</td>\n",
       "      <td>0.351050</td>\n",
       "      <td>True</td>\n",
       "    </tr>\n",
       "    <tr>\n",
       "      <th>3</th>\n",
       "      <td>flipper_length_mm</td>\n",
       "      <td>JENSEN_SHANNON_DIVERGENCE</td>\n",
       "      <td>0.3</td>\n",
       "      <td>0.248468</td>\n",
       "      <td>False</td>\n",
       "    </tr>\n",
       "    <tr>\n",
       "      <th>4</th>\n",
       "      <td>island</td>\n",
       "      <td>JENSEN_SHANNON_DIVERGENCE</td>\n",
       "      <td>0.3</td>\n",
       "      <td>0.160342</td>\n",
       "      <td>False</td>\n",
       "    </tr>\n",
       "    <tr>\n",
       "      <th>5</th>\n",
       "      <td>sex</td>\n",
       "      <td>JENSEN_SHANNON_DIVERGENCE</td>\n",
       "      <td>0.3</td>\n",
       "      <td>0.053329</td>\n",
       "      <td>False</td>\n",
       "    </tr>\n",
       "  </tbody>\n",
       "</table>\n",
       "</div>"
      ],
      "text/plain": [
       "               input                     metric  threshold     value  \\\n",
       "0        body_mass_g  JENSEN_SHANNON_DIVERGENCE        0.3  0.255773   \n",
       "1    culmen_depth_mm  JENSEN_SHANNON_DIVERGENCE        0.3  0.170654   \n",
       "2   culmen_length_mm  JENSEN_SHANNON_DIVERGENCE        0.3  0.351050   \n",
       "3  flipper_length_mm  JENSEN_SHANNON_DIVERGENCE        0.3  0.248468   \n",
       "4             island  JENSEN_SHANNON_DIVERGENCE        0.3  0.160342   \n",
       "5                sex  JENSEN_SHANNON_DIVERGENCE        0.3  0.053329   \n",
       "\n",
       "   is_anomaly  \n",
       "0       False  \n",
       "1       False  \n",
       "2        True  \n",
       "3       False  \n",
       "4       False  \n",
       "5       False  "
      ]
     },
     "execution_count": 86,
     "metadata": {},
     "output_type": "execute_result"
    }
   ],
   "source": [
    "%%bigquery\n",
    "WITH\n",
    "    EXPLAIN_BASE AS (\n",
    "        SELECT * EXCEPT(body_mass_g, sex, island, flipper_length_mm, culmen_depth_mm, culmen_length_mm)\n",
    "        FROM ML.EXPLAIN_PREDICT(\n",
    "            MODEL `statmike-mlops-349915.bqml_model_monitoring.classify_species_rf`,\n",
    "            (\n",
    "                SELECT * EXCEPT(instance_timestamp, species)\n",
    "                FROM `statmike-mlops-349915.bqml_model_monitoring.serving`\n",
    "                WHERE DATE(instance_timestamp) = DATE_SUB(CURRENT_DATE(), INTERVAL 25 DAY)\n",
    "            ), \n",
    "            STRUCT(10 AS top_k_features)\n",
    "        )\n",
    "    ),\n",
    "    ATTRIBUTIONS_BASE AS (\n",
    "        SELECT * EXCEPT(top_feature_attributions),\n",
    "        FROM EXPLAIN_BASE\n",
    "        JOIN UNNEST(top_feature_attributions)\n",
    "    ),\n",
    "    PIVOT_ATTRIBUTION_BASE AS (\n",
    "        SELECT body_mass_g, sex, island, flipper_length_mm, culmen_depth_mm, culmen_length_mm\n",
    "        FROM ATTRIBUTIONS_BASE PIVOT(MAX(attribution) FOR feature IN ('body_mass_g', 'sex', 'island', 'flipper_length_mm', 'culmen_depth_mm', 'culmen_length_mm'))\n",
    "    ),\n",
    "    EXPLAIN_COMP AS (\n",
    "        SELECT * EXCEPT(body_mass_g, sex, island, flipper_length_mm, culmen_depth_mm, culmen_length_mm)\n",
    "        FROM ML.EXPLAIN_PREDICT(\n",
    "            MODEL `statmike-mlops-349915.bqml_model_monitoring.classify_species_rf`,\n",
    "            (\n",
    "                SELECT * EXCEPT(instance_timestamp, species)\n",
    "                FROM `statmike-mlops-349915.bqml_model_monitoring.serving`\n",
    "                WHERE DATE(instance_timestamp) = DATE_SUB(CURRENT_DATE(), INTERVAL 1 DAY)\n",
    "            ), \n",
    "            STRUCT(10 AS top_k_features)\n",
    "        )\n",
    "    ),\n",
    "    ATTRIBUTIONS_COMP AS (\n",
    "        SELECT * EXCEPT(top_feature_attributions),\n",
    "        FROM EXPLAIN_COMP\n",
    "        JOIN UNNEST(top_feature_attributions)\n",
    "    ),\n",
    "    PIVOT_ATTRIBUTION_COMP AS (\n",
    "        SELECT body_mass_g, sex, island, flipper_length_mm, culmen_depth_mm, culmen_length_mm\n",
    "        FROM ATTRIBUTIONS_COMP PIVOT(MAX(attribution) FOR feature IN ('body_mass_g', 'sex', 'island', 'flipper_length_mm', 'culmen_depth_mm', 'culmen_length_mm'))\n",
    "    )\n",
    "SELECT *\n",
    "FROM ML.VALIDATE_DATA_DRIFT(\n",
    "    TABLE PIVOT_ATTRIBUTION_BASE,\n",
    "    TABLE PIVOT_ATTRIBUTION_COMP\n",
    "    #, MODEL `statmike-mlops-349915.bqml_model_monitoring.classify_species_rf`\n",
    ");"
   ]
  },
  {
   "cell_type": "markdown",
   "metadata": {},
   "source": [
    "---\n",
    "## Model Monitoring For Online Inference With Vertex AI\n",
    "\n",
    "The model trained above was trained using BigQuery ML's [`CREATE MODEL` statement](https://cloud.google.com/bigquery/docs/reference/standard-sql/bigqueryml-syntax-create) along with the training option `MODEL_REGISTRY = \"vertex_ai\"` which automatically registers the model in the [Vertex AI Model Registry](https://cloud.google.com/vertex-ai/docs/model-registry/introduction).  This means the BigQuery ML models can be managed directly in Vertex AI - [more information](https://cloud.google.com/bigquery/docs/managing-models-vertex).\n",
    "\n",
    "Models in the Vertex AI Model Registry can be used to [serve batch or online predictions](https://cloud.google.com/vertex-ai/docs/predictions/get-predictions).  In this section the [Vertex AI Python SDK](https://cloud.google.com/vertex-ai/docs/start/use-vertex-ai-python-sdk) is used to [deploy the model](https://cloud.google.com/vertex-ai/docs/general/deployment) created in this workflow and [get online predictions](https://cloud.google.com/vertex-ai/docs/predictions/get-online-predictions).\n",
    "\n",
    "The deployment of the model will include an extra setting to [setup logging of prediction request and responses to BigQuery](https://cloud.google.com/vertex-ai/docs/predictions/online-prediction-logging#enabling-and-disabling).  By logging the request and responses to BigQuery we can easily use the model monitoring functions covered in this tutorial."
   ]
  },
  {
   "cell_type": "markdown",
   "metadata": {},
   "source": [
    "### Setup Client"
   ]
  },
  {
   "cell_type": "code",
   "execution_count": 87,
   "metadata": {
    "tags": []
   },
   "outputs": [],
   "source": [
    "from google.cloud import aiplatform\n",
    "aiplatform.init(project = 'statmike-mlops-349915', location = 'us-central1')"
   ]
  },
  {
   "cell_type": "markdown",
   "metadata": {},
   "source": [
    "### Get Model From Vertex AI Model Registry"
   ]
  },
  {
   "cell_type": "code",
   "execution_count": 88,
   "metadata": {
    "tags": []
   },
   "outputs": [
    {
     "data": {
      "text/plain": [
       "'projects/1026793852137/locations/us-central1/models/classify_species_rf@98'"
      ]
     },
     "execution_count": 88,
     "metadata": {},
     "output_type": "execute_result"
    }
   ],
   "source": [
    "model = aiplatform.Model(model_name = 'classify_species_rf')\n",
    "model.versioned_resource_name"
   ]
  },
  {
   "cell_type": "markdown",
   "metadata": {},
   "source": [
    "### Deploy Model To Endpoint"
   ]
  },
  {
   "cell_type": "code",
   "execution_count": 89,
   "metadata": {
    "tags": []
   },
   "outputs": [
    {
     "name": "stdout",
     "output_type": "stream",
     "text": [
      "Creating Endpoint\n",
      "Create Endpoint backing LRO: projects/1026793852137/locations/us-central1/endpoints/2148328072930131968/operations/3459253899574116352\n",
      "Endpoint created. Resource name: projects/1026793852137/locations/us-central1/endpoints/2148328072930131968\n",
      "To use this Endpoint in another session:\n",
      "endpoint = aiplatform.Endpoint('projects/1026793852137/locations/us-central1/endpoints/2148328072930131968')\n",
      "Deploying model to Endpoint : projects/1026793852137/locations/us-central1/endpoints/2148328072930131968\n",
      "Using default machine_type: n1-standard-2\n",
      "Deploy Endpoint model backing LRO: projects/1026793852137/locations/us-central1/endpoints/2148328072930131968/operations/1579001055146934272\n",
      "Endpoint model deployed. Resource name: projects/1026793852137/locations/us-central1/endpoints/2148328072930131968\n"
     ]
    }
   ],
   "source": [
    "endpoint = model.deploy()"
   ]
  },
  {
   "cell_type": "code",
   "execution_count": 90,
   "metadata": {
    "tags": []
   },
   "outputs": [
    {
     "data": {
      "text/plain": [
       "'projects/1026793852137/locations/us-central1/endpoints/2148328072930131968'"
      ]
     },
     "execution_count": 90,
     "metadata": {},
     "output_type": "execute_result"
    }
   ],
   "source": [
    "endpoint.resource_name"
   ]
  },
  {
   "cell_type": "markdown",
   "metadata": {},
   "source": [
    "### Get Data For Predictions\n",
    "\n",
    "Get a sample of data from the serving table to use as online prediction requests."
   ]
  },
  {
   "cell_type": "code",
   "execution_count": 91,
   "metadata": {
    "tags": []
   },
   "outputs": [
    {
     "data": {
      "application/vnd.jupyter.widget-view+json": {
       "model_id": "e156877c883d4d3ca5bb6a692f523d3a",
       "version_major": 2,
       "version_minor": 0
      },
      "text/plain": [
       "Query is running:   0%|          |"
      ]
     },
     "metadata": {},
     "output_type": "display_data"
    },
    {
     "data": {
      "application/vnd.jupyter.widget-view+json": {
       "model_id": "d0070c5004344c0987576aaef8c2c294",
       "version_major": 2,
       "version_minor": 0
      },
      "text/plain": [
       "Downloading:   0%|          |"
      ]
     },
     "metadata": {},
     "output_type": "display_data"
    }
   ],
   "source": [
    "%%bigquery online\n",
    "SELECT * EXCEPT(species, instance_timestamp)\n",
    "FROM statmike-mlops-349915.bqml_model_monitoring.serving\n",
    "WHERE RAND() < 0.1"
   ]
  },
  {
   "cell_type": "code",
   "execution_count": 92,
   "metadata": {
    "tags": []
   },
   "outputs": [
    {
     "data": {
      "text/plain": [
       "{'island': 'Dream',\n",
       " 'culmen_length_mm': 46.7,\n",
       " 'culmen_depth_mm': 17.9,\n",
       " 'sex': 'FEMALE',\n",
       " 'flipper_length_mm': 240.88217996473142,\n",
       " 'body_mass_g': 4258.722879016055}"
      ]
     },
     "execution_count": 92,
     "metadata": {},
     "output_type": "execute_result"
    }
   ],
   "source": [
    "import numpy as np\n",
    "online = online.dropna()\n",
    "online['sex'].replace(np.nan, '', inplace=True)\n",
    "online = online.to_dict(orient = 'records')\n",
    "online[0]"
   ]
  },
  {
   "cell_type": "markdown",
   "metadata": {
    "tags": []
   },
   "source": [
    "### Get Predictions"
   ]
  },
  {
   "cell_type": "code",
   "execution_count": 93,
   "metadata": {
    "tags": []
   },
   "outputs": [
    {
     "data": {
      "text/plain": [
       "Prediction(predictions=[{'species_probs': [0.2894624173641205, 0.5842075943946838, 0.1263299733400345], 'species_values': ['Gentoo penguin (Pygoscelis papua)', 'Chinstrap penguin (Pygoscelis antarctica)', 'Adelie Penguin (Pygoscelis adeliae)'], 'predicted_species': 'Chinstrap penguin (Pygoscelis antarctica)'}], deployed_model_id='2484505952145899520', metadata=None, model_version_id='98', model_resource_name='projects/1026793852137/locations/us-central1/models/classify_species_rf', explanations=None)"
      ]
     },
     "execution_count": 93,
     "metadata": {},
     "output_type": "execute_result"
    }
   ],
   "source": [
    "endpoint.predict(instances = online[0:1])"
   ]
  },
  {
   "cell_type": "markdown",
   "metadata": {},
   "source": [
    "### Enable Prediction request-response logging To BigQuery\n",
    "\n",
    "The endpoint can be enabled for logging both the request and response for predictions.  These logs are directed to a BigQuery table.  This is enable throught the `gcloud ai endpoints update` command - [reference](https://cloud.google.com/sdk/gcloud/reference/ai/endpoints/update)."
   ]
  },
  {
   "cell_type": "code",
   "execution_count": 94,
   "metadata": {
    "tags": []
   },
   "outputs": [
    {
     "data": {
      "text/plain": [
       "'2148328072930131968'"
      ]
     },
     "execution_count": 94,
     "metadata": {},
     "output_type": "execute_result"
    }
   ],
   "source": [
    "endpoint.name"
   ]
  },
  {
   "cell_type": "code",
   "execution_count": 95,
   "metadata": {
    "tags": []
   },
   "outputs": [
    {
     "name": "stdout",
     "output_type": "stream",
     "text": [
      "Using endpoint [https://us-central1-aiplatform.googleapis.com/]\n",
      "Updated Vertex AI endpoint [projects/1026793852137/locations/us-central1/endpoints/2148328072930131968].\n"
     ]
    }
   ],
   "source": [
    "!gcloud ai endpoints update $endpoint.name \\\n",
    "--region=us-central1 \\\n",
    "--request-response-logging-table=bq://statmike-mlops-349915.bqml_model_monitoring.serving_online"
   ]
  },
  {
   "cell_type": "markdown",
   "metadata": {},
   "source": [
    "### Send Prediction Requests To Endpoint\n",
    "\n",
    "These will get logged to the BigQuery table specified above."
   ]
  },
  {
   "cell_type": "code",
   "execution_count": 96,
   "metadata": {
    "tags": []
   },
   "outputs": [],
   "source": [
    "for instance in online:\n",
    "    prediction = endpoint.predict(instances = [instance])"
   ]
  },
  {
   "cell_type": "code",
   "execution_count": 97,
   "metadata": {
    "tags": []
   },
   "outputs": [
    {
     "data": {
      "application/vnd.jupyter.widget-view+json": {
       "model_id": "fe88d3d383dd454289bef5b62a3280df",
       "version_major": 2,
       "version_minor": 0
      },
      "text/plain": [
       "Query is running:   0%|          |"
      ]
     },
     "metadata": {},
     "output_type": "display_data"
    },
    {
     "data": {
      "application/vnd.jupyter.widget-view+json": {
       "model_id": "1248eec35c0b4b45bd29083f4bf87772",
       "version_major": 2,
       "version_minor": 0
      },
      "text/plain": [
       "Downloading:   0%|          |"
      ]
     },
     "metadata": {},
     "output_type": "display_data"
    },
    {
     "data": {
      "text/html": [
       "<div>\n",
       "<style scoped>\n",
       "    .dataframe tbody tr th:only-of-type {\n",
       "        vertical-align: middle;\n",
       "    }\n",
       "\n",
       "    .dataframe tbody tr th {\n",
       "        vertical-align: top;\n",
       "    }\n",
       "\n",
       "    .dataframe thead th {\n",
       "        text-align: right;\n",
       "    }\n",
       "</style>\n",
       "<table border=\"1\" class=\"dataframe\">\n",
       "  <thead>\n",
       "    <tr style=\"text-align: right;\">\n",
       "      <th></th>\n",
       "      <th>endpoint</th>\n",
       "      <th>deployed_model_id</th>\n",
       "      <th>logging_time</th>\n",
       "      <th>request_id</th>\n",
       "      <th>request_payload</th>\n",
       "      <th>response_payload</th>\n",
       "    </tr>\n",
       "  </thead>\n",
       "  <tbody>\n",
       "    <tr>\n",
       "      <th>0</th>\n",
       "      <td>projects/1026793852137/locations/us-central1/endpoints/2148328072930131968</td>\n",
       "      <td>2484505952145899520</td>\n",
       "      <td>2025-03-29 15:32:01.446416+00:00</td>\n",
       "      <td>6627860071543089696.000000000</td>\n",
       "      <td>[{\"sex\":\"FEMALE\",\"body_mass_g\":4212.0790541254537,\"culmen_length_mm\":43.5,\"island\":\"Dream\",\"culmen_depth_mm\":18.1,\"flipper_length_mm\":248.67023153906075}]</td>\n",
       "      <td>[{\"predicted_species\":\"Chinstrap penguin (Pygoscelis antarctica)\",\"species_probs\":[0.35464808344841,0.43561556935310358,0.2097363471984863],\"species_values\":[\"Gentoo penguin (Pygoscelis papua)\",\"Chinstrap penguin (Pygoscelis antarctica)\",\"Adelie Penguin (Pygoscelis adeliae)\"]}]</td>\n",
       "    </tr>\n",
       "    <tr>\n",
       "      <th>1</th>\n",
       "      <td>projects/1026793852137/locations/us-central1/endpoints/2148328072930131968</td>\n",
       "      <td>2484505952145899520</td>\n",
       "      <td>2025-03-29 15:32:02.736293+00:00</td>\n",
       "      <td>4118119822539325407.000000000</td>\n",
       "      <td>[{\"culmen_length_mm\":36,\"sex\":\"FEMALE\",\"culmen_depth_mm\":18.5,\"island\":\"Dream\",\"flipper_length_mm\":190.4411520806396,\"body_mass_g\":3160.0648566100404}]</td>\n",
       "      <td>[{\"predicted_species\":\"Adelie Penguin (Pygoscelis adeliae)\",\"species_probs\":[0.097532115876674652,0.11372314393520359,0.78874474763870239],\"species_values\":[\"Gentoo penguin (Pygoscelis papua)\",\"Chinstrap penguin (Pygoscelis antarctica)\",\"Adelie Penguin (Pygoscelis adeliae)\"]}]</td>\n",
       "    </tr>\n",
       "    <tr>\n",
       "      <th>2</th>\n",
       "      <td>projects/1026793852137/locations/us-central1/endpoints/2148328072930131968</td>\n",
       "      <td>2484505952145899520</td>\n",
       "      <td>2025-03-29 15:32:02.828166+00:00</td>\n",
       "      <td>1829381479525848514.000000000</td>\n",
       "      <td>[{\"culmen_depth_mm\":17.9,\"culmen_length_mm\":50.9,\"island\":\"Dream\",\"body_mass_g\":3761.7643535334932,\"sex\":\"FEMALE\",\"flipper_length_mm\":200.34404316250576}]</td>\n",
       "      <td>[{\"predicted_species\":\"Chinstrap penguin (Pygoscelis antarctica)\",\"species_probs\":[0.10617488622665409,0.78436696529388428,0.1094581708312035],\"species_values\":[\"Gentoo penguin (Pygoscelis papua)\",\"Chinstrap penguin (Pygoscelis antarctica)\",\"Adelie Penguin (Pygoscelis adeliae)\"]}]</td>\n",
       "    </tr>\n",
       "    <tr>\n",
       "      <th>3</th>\n",
       "      <td>projects/1026793852137/locations/us-central1/endpoints/2148328072930131968</td>\n",
       "      <td>2484505952145899520</td>\n",
       "      <td>2025-03-29 15:32:02.904476+00:00</td>\n",
       "      <td>2214541388281392080.000000000</td>\n",
       "      <td>[{\"island\":\"Biscoe\",\"culmen_depth_mm\":16.4,\"body_mass_g\":6086.4554016635257,\"sex\":\"MALE\",\"flipper_length_mm\":230.26162592789765,\"culmen_length_mm\":45.2}]</td>\n",
       "      <td>[{\"predicted_species\":\"Gentoo penguin (Pygoscelis papua)\",\"species_probs\":[0.81277590990066528,0.093389451503753662,0.093834690749645233],\"species_values\":[\"Gentoo penguin (Pygoscelis papua)\",\"Chinstrap penguin (Pygoscelis antarctica)\",\"Adelie Penguin (Pygoscelis adeliae)\"]}]</td>\n",
       "    </tr>\n",
       "    <tr>\n",
       "      <th>4</th>\n",
       "      <td>projects/1026793852137/locations/us-central1/endpoints/2148328072930131968</td>\n",
       "      <td>2484505952145899520</td>\n",
       "      <td>2025-03-29 15:32:03.242626+00:00</td>\n",
       "      <td>1987794235105562341.000000000</td>\n",
       "      <td>[{\"flipper_length_mm\":252.185458929784,\"culmen_length_mm\":49.1,\"sex\":\"FEMALE\",\"body_mass_g\":5499.9717128805351,\"island\":\"Biscoe\",\"culmen_depth_mm\":14.5}]</td>\n",
       "      <td>[{\"predicted_species\":\"Gentoo penguin (Pygoscelis papua)\",\"species_probs\":[0.81366610527038574,0.093005836009979248,0.0933280736207962],\"species_values\":[\"Gentoo penguin (Pygoscelis papua)\",\"Chinstrap penguin (Pygoscelis antarctica)\",\"Adelie Penguin (Pygoscelis adeliae)\"]}]</td>\n",
       "    </tr>\n",
       "  </tbody>\n",
       "</table>\n",
       "</div>"
      ],
      "text/plain": [
       "                                                                     endpoint  \\\n",
       "0  projects/1026793852137/locations/us-central1/endpoints/2148328072930131968   \n",
       "1  projects/1026793852137/locations/us-central1/endpoints/2148328072930131968   \n",
       "2  projects/1026793852137/locations/us-central1/endpoints/2148328072930131968   \n",
       "3  projects/1026793852137/locations/us-central1/endpoints/2148328072930131968   \n",
       "4  projects/1026793852137/locations/us-central1/endpoints/2148328072930131968   \n",
       "\n",
       "     deployed_model_id                     logging_time  \\\n",
       "0  2484505952145899520 2025-03-29 15:32:01.446416+00:00   \n",
       "1  2484505952145899520 2025-03-29 15:32:02.736293+00:00   \n",
       "2  2484505952145899520 2025-03-29 15:32:02.828166+00:00   \n",
       "3  2484505952145899520 2025-03-29 15:32:02.904476+00:00   \n",
       "4  2484505952145899520 2025-03-29 15:32:03.242626+00:00   \n",
       "\n",
       "                      request_id  \\\n",
       "0  6627860071543089696.000000000   \n",
       "1  4118119822539325407.000000000   \n",
       "2  1829381479525848514.000000000   \n",
       "3  2214541388281392080.000000000   \n",
       "4  1987794235105562341.000000000   \n",
       "\n",
       "                                                                                                                                              request_payload  \\\n",
       "0  [{\"sex\":\"FEMALE\",\"body_mass_g\":4212.0790541254537,\"culmen_length_mm\":43.5,\"island\":\"Dream\",\"culmen_depth_mm\":18.1,\"flipper_length_mm\":248.67023153906075}]   \n",
       "1     [{\"culmen_length_mm\":36,\"sex\":\"FEMALE\",\"culmen_depth_mm\":18.5,\"island\":\"Dream\",\"flipper_length_mm\":190.4411520806396,\"body_mass_g\":3160.0648566100404}]   \n",
       "2  [{\"culmen_depth_mm\":17.9,\"culmen_length_mm\":50.9,\"island\":\"Dream\",\"body_mass_g\":3761.7643535334932,\"sex\":\"FEMALE\",\"flipper_length_mm\":200.34404316250576}]   \n",
       "3   [{\"island\":\"Biscoe\",\"culmen_depth_mm\":16.4,\"body_mass_g\":6086.4554016635257,\"sex\":\"MALE\",\"flipper_length_mm\":230.26162592789765,\"culmen_length_mm\":45.2}]   \n",
       "4   [{\"flipper_length_mm\":252.185458929784,\"culmen_length_mm\":49.1,\"sex\":\"FEMALE\",\"body_mass_g\":5499.9717128805351,\"island\":\"Biscoe\",\"culmen_depth_mm\":14.5}]   \n",
       "\n",
       "                                                                                                                                                                                                                                                                            response_payload  \n",
       "0     [{\"predicted_species\":\"Chinstrap penguin (Pygoscelis antarctica)\",\"species_probs\":[0.35464808344841,0.43561556935310358,0.2097363471984863],\"species_values\":[\"Gentoo penguin (Pygoscelis papua)\",\"Chinstrap penguin (Pygoscelis antarctica)\",\"Adelie Penguin (Pygoscelis adeliae)\"]}]  \n",
       "1      [{\"predicted_species\":\"Adelie Penguin (Pygoscelis adeliae)\",\"species_probs\":[0.097532115876674652,0.11372314393520359,0.78874474763870239],\"species_values\":[\"Gentoo penguin (Pygoscelis papua)\",\"Chinstrap penguin (Pygoscelis antarctica)\",\"Adelie Penguin (Pygoscelis adeliae)\"]}]  \n",
       "2  [{\"predicted_species\":\"Chinstrap penguin (Pygoscelis antarctica)\",\"species_probs\":[0.10617488622665409,0.78436696529388428,0.1094581708312035],\"species_values\":[\"Gentoo penguin (Pygoscelis papua)\",\"Chinstrap penguin (Pygoscelis antarctica)\",\"Adelie Penguin (Pygoscelis adeliae)\"]}]  \n",
       "3       [{\"predicted_species\":\"Gentoo penguin (Pygoscelis papua)\",\"species_probs\":[0.81277590990066528,0.093389451503753662,0.093834690749645233],\"species_values\":[\"Gentoo penguin (Pygoscelis papua)\",\"Chinstrap penguin (Pygoscelis antarctica)\",\"Adelie Penguin (Pygoscelis adeliae)\"]}]  \n",
       "4         [{\"predicted_species\":\"Gentoo penguin (Pygoscelis papua)\",\"species_probs\":[0.81366610527038574,0.093005836009979248,0.0933280736207962],\"species_values\":[\"Gentoo penguin (Pygoscelis papua)\",\"Chinstrap penguin (Pygoscelis antarctica)\",\"Adelie Penguin (Pygoscelis adeliae)\"]}]  "
      ]
     },
     "execution_count": 97,
     "metadata": {},
     "output_type": "execute_result"
    }
   ],
   "source": [
    "%%bigquery\n",
    "SELECT *\n",
    "FROM `statmike-mlops-349915.bqml_model_monitoring.serving_online`\n",
    "LIMIT 5"
   ]
  },
  {
   "cell_type": "markdown",
   "metadata": {},
   "source": [
    "### Create A View Of All Serving Data\n",
    "\n",
    "Combine the batch serving data with the online serving data in a view."
   ]
  },
  {
   "cell_type": "code",
   "execution_count": 98,
   "metadata": {
    "tags": []
   },
   "outputs": [
    {
     "data": {
      "application/vnd.jupyter.widget-view+json": {
       "model_id": "33379e67a4f14fe6a06450810114114a",
       "version_major": 2,
       "version_minor": 0
      },
      "text/plain": [
       "Query is running:   0%|          |"
      ]
     },
     "metadata": {},
     "output_type": "display_data"
    },
    {
     "data": {
      "application/vnd.jupyter.widget-view+json": {
       "model_id": "5e8e43a971d44a1880d34457d3258158",
       "version_major": 2,
       "version_minor": 0
      },
      "text/plain": [
       "Downloading:   0%|          |"
      ]
     },
     "metadata": {},
     "output_type": "display_data"
    },
    {
     "data": {
      "text/html": [
       "<div>\n",
       "<style scoped>\n",
       "    .dataframe tbody tr th:only-of-type {\n",
       "        vertical-align: middle;\n",
       "    }\n",
       "\n",
       "    .dataframe tbody tr th {\n",
       "        vertical-align: top;\n",
       "    }\n",
       "\n",
       "    .dataframe thead th {\n",
       "        text-align: right;\n",
       "    }\n",
       "</style>\n",
       "<table border=\"1\" class=\"dataframe\">\n",
       "  <thead>\n",
       "    <tr style=\"text-align: right;\">\n",
       "      <th></th>\n",
       "      <th>instance_timestamp</th>\n",
       "      <th>island</th>\n",
       "      <th>sex</th>\n",
       "      <th>flipper_length_mm</th>\n",
       "      <th>body_mass_g</th>\n",
       "      <th>culmen_length_mm</th>\n",
       "      <th>culmen_depth_mm</th>\n",
       "    </tr>\n",
       "  </thead>\n",
       "  <tbody>\n",
       "    <tr>\n",
       "      <th>0</th>\n",
       "      <td>2025-03-29 15:32:01.446416+00:00</td>\n",
       "      <td>Dream</td>\n",
       "      <td>FEMALE</td>\n",
       "      <td>248.670232</td>\n",
       "      <td>4212.079054</td>\n",
       "      <td>43.5</td>\n",
       "      <td>18.1</td>\n",
       "    </tr>\n",
       "    <tr>\n",
       "      <th>1</th>\n",
       "      <td>2025-03-29 15:32:02.736293+00:00</td>\n",
       "      <td>Dream</td>\n",
       "      <td>FEMALE</td>\n",
       "      <td>190.441152</td>\n",
       "      <td>3160.064857</td>\n",
       "      <td>36.0</td>\n",
       "      <td>18.5</td>\n",
       "    </tr>\n",
       "    <tr>\n",
       "      <th>2</th>\n",
       "      <td>2025-03-29 15:32:02.828166+00:00</td>\n",
       "      <td>Dream</td>\n",
       "      <td>FEMALE</td>\n",
       "      <td>200.344043</td>\n",
       "      <td>3761.764354</td>\n",
       "      <td>50.9</td>\n",
       "      <td>17.9</td>\n",
       "    </tr>\n",
       "    <tr>\n",
       "      <th>3</th>\n",
       "      <td>2025-03-29 15:32:02.904476+00:00</td>\n",
       "      <td>Biscoe</td>\n",
       "      <td>MALE</td>\n",
       "      <td>230.261626</td>\n",
       "      <td>6086.455402</td>\n",
       "      <td>45.2</td>\n",
       "      <td>16.4</td>\n",
       "    </tr>\n",
       "    <tr>\n",
       "      <th>4</th>\n",
       "      <td>2025-03-29 15:32:03.242626+00:00</td>\n",
       "      <td>Biscoe</td>\n",
       "      <td>FEMALE</td>\n",
       "      <td>252.185459</td>\n",
       "      <td>5499.971713</td>\n",
       "      <td>49.1</td>\n",
       "      <td>14.5</td>\n",
       "    </tr>\n",
       "  </tbody>\n",
       "</table>\n",
       "</div>"
      ],
      "text/plain": [
       "                instance_timestamp  island     sex  flipper_length_mm  \\\n",
       "0 2025-03-29 15:32:01.446416+00:00   Dream  FEMALE         248.670232   \n",
       "1 2025-03-29 15:32:02.736293+00:00   Dream  FEMALE         190.441152   \n",
       "2 2025-03-29 15:32:02.828166+00:00   Dream  FEMALE         200.344043   \n",
       "3 2025-03-29 15:32:02.904476+00:00  Biscoe    MALE         230.261626   \n",
       "4 2025-03-29 15:32:03.242626+00:00  Biscoe  FEMALE         252.185459   \n",
       "\n",
       "   body_mass_g  culmen_length_mm  culmen_depth_mm  \n",
       "0  4212.079054              43.5             18.1  \n",
       "1  3160.064857              36.0             18.5  \n",
       "2  3761.764354              50.9             17.9  \n",
       "3  6086.455402              45.2             16.4  \n",
       "4  5499.971713              49.1             14.5  "
      ]
     },
     "execution_count": 98,
     "metadata": {},
     "output_type": "execute_result"
    }
   ],
   "source": [
    "%%bigquery\n",
    "SELECT\n",
    "    logging_time as instance_timestamp,\n",
    "    JSON_VALUE(request, \"$.island\") as island,\n",
    "    JSON_VALUE(request, \"$.sex\") as sex,\n",
    "    CAST(JSON_VALUE(request, \"$.flipper_length_mm\") AS FLOAT64) as flipper_length_mm,\n",
    "    CAST(JSON_VALUE(request, \"$.body_mass_g\") AS FLOAT64) as body_mass_g,\n",
    "    CAST(JSON_VALUE(request, \"$.culmen_length_mm\") AS FLOAT64) as culmen_length_mm,\n",
    "    CAST(JSON_VALUE(request, \"$.culmen_depth_mm\") AS FLOAT64) as culmen_depth_mm\n",
    "FROM `statmike-mlops-349915.bqml_model_monitoring.serving_online`,\n",
    "UNNEST(request_payload) as request\n",
    "LIMIT 5"
   ]
  },
  {
   "cell_type": "code",
   "execution_count": 99,
   "metadata": {
    "tags": []
   },
   "outputs": [
    {
     "data": {
      "application/vnd.jupyter.widget-view+json": {
       "model_id": "a789eba5a60f47b48a06d6b6b805cdf9",
       "version_major": 2,
       "version_minor": 0
      },
      "text/plain": [
       "Query is running:   0%|          |"
      ]
     },
     "metadata": {},
     "output_type": "display_data"
    },
    {
     "data": {
      "text/html": [
       "<div>\n",
       "<style scoped>\n",
       "    .dataframe tbody tr th:only-of-type {\n",
       "        vertical-align: middle;\n",
       "    }\n",
       "\n",
       "    .dataframe tbody tr th {\n",
       "        vertical-align: top;\n",
       "    }\n",
       "\n",
       "    .dataframe thead th {\n",
       "        text-align: right;\n",
       "    }\n",
       "</style>\n",
       "<table border=\"1\" class=\"dataframe\">\n",
       "  <thead>\n",
       "    <tr style=\"text-align: right;\">\n",
       "      <th></th>\n",
       "    </tr>\n",
       "  </thead>\n",
       "  <tbody>\n",
       "  </tbody>\n",
       "</table>\n",
       "</div>"
      ],
      "text/plain": [
       "Empty DataFrame\n",
       "Columns: []\n",
       "Index: []"
      ]
     },
     "execution_count": 99,
     "metadata": {},
     "output_type": "execute_result"
    }
   ],
   "source": [
    "%%bigquery\n",
    "CREATE OR REPLACE VIEW `statmike-mlops-349915.bqml_model_monitoring.serving_all` AS\n",
    "WITH\n",
    "    BATCH AS (\n",
    "        SELECT instance_timestamp, island, sex, flipper_length_mm, body_mass_g, culmen_length_mm, culmen_depth_mm\n",
    "        FROM `statmike-mlops-349915.bqml_model_monitoring.serving`\n",
    "    ),\n",
    "    ONLINE AS (\n",
    "        SELECT\n",
    "            logging_time as instance_timestamp,\n",
    "            JSON_VALUE(request, \"$.island\") as island,\n",
    "            JSON_VALUE(request, \"$.sex\") as sex,\n",
    "            CAST(JSON_VALUE(request, \"$.flipper_length_mm\") AS FLOAT64) as flipper_length_mm,\n",
    "            CAST(JSON_VALUE(request, \"$.body_mass_g\") AS FLOAT64) as body_mass_g,\n",
    "            CAST(JSON_VALUE(request, \"$.culmen_length_mm\") AS FLOAT64) as culmen_length_mm,\n",
    "            CAST(JSON_VALUE(request, \"$.culmen_depth_mm\") AS FLOAT64) as culmen_depth_mm\n",
    "        FROM `statmike-mlops-349915.bqml_model_monitoring.serving_online`,\n",
    "        UNNEST(request_payload) as request\n",
    "    )\n",
    "SELECT * FROM BATCH\n",
    "UNION ALL\n",
    "SELECT * FROM ONLINE\n"
   ]
  },
  {
   "cell_type": "markdown",
   "metadata": {},
   "source": [
    "### Monitoring Skew (Change from training) With `ML.VALIDATE_DATA_SKEW`\n",
    "\n",
    "Compare today, or any data, to the training data by directly comparing to the the model created in BigQuery."
   ]
  },
  {
   "cell_type": "code",
   "execution_count": 101,
   "metadata": {
    "tags": []
   },
   "outputs": [
    {
     "data": {
      "application/vnd.jupyter.widget-view+json": {
       "model_id": "d5dc50893f8e45e1a4482093eb6fd948",
       "version_major": 2,
       "version_minor": 0
      },
      "text/plain": [
       "Query is running:   0%|          |"
      ]
     },
     "metadata": {},
     "output_type": "display_data"
    },
    {
     "data": {
      "application/vnd.jupyter.widget-view+json": {
       "model_id": "7feeb609be0f4b80aecd90fba5b64399",
       "version_major": 2,
       "version_minor": 0
      },
      "text/plain": [
       "Downloading:   0%|          |"
      ]
     },
     "metadata": {},
     "output_type": "display_data"
    }
   ],
   "source": [
    "%%bigquery c_skew\n",
    "SELECT *\n",
    "FROM ML.VALIDATE_DATA_SKEW(\n",
    "    MODEL `statmike-mlops-349915.bqml_model_monitoring.classify_species_rf`,\n",
    "    (\n",
    "        SELECT *\n",
    "        FROM `statmike-mlops-349915.bqml_model_monitoring.serving_all`\n",
    "        WHERE DATE(instance_timestamp) >= CURRENT_DATE()\n",
    "    )\n",
    "    ,STRUCT(TRUE AS enable_visualization_link)\n",
    ");"
   ]
  },
  {
   "cell_type": "code",
   "execution_count": 102,
   "metadata": {
    "tags": []
   },
   "outputs": [
    {
     "data": {
      "text/html": [
       "<div>\n",
       "<style scoped>\n",
       "    .dataframe tbody tr th:only-of-type {\n",
       "        vertical-align: middle;\n",
       "    }\n",
       "\n",
       "    .dataframe tbody tr th {\n",
       "        vertical-align: top;\n",
       "    }\n",
       "\n",
       "    .dataframe thead th {\n",
       "        text-align: right;\n",
       "    }\n",
       "</style>\n",
       "<table border=\"1\" class=\"dataframe\">\n",
       "  <thead>\n",
       "    <tr style=\"text-align: right;\">\n",
       "      <th></th>\n",
       "      <th>input</th>\n",
       "      <th>metric</th>\n",
       "      <th>threshold</th>\n",
       "      <th>value</th>\n",
       "      <th>is_anomaly</th>\n",
       "      <th>visualization_link</th>\n",
       "    </tr>\n",
       "  </thead>\n",
       "  <tbody>\n",
       "    <tr>\n",
       "      <th>0</th>\n",
       "      <td>body_mass_g</td>\n",
       "      <td>JENSEN_SHANNON_DIVERGENCE</td>\n",
       "      <td>0.3</td>\n",
       "      <td>0.131663</td>\n",
       "      <td>False</td>\n",
       "      <td>https://console.cloud.google.com/vertex-ai/model-monitoring/locations/us-central1/model-monitors/bq15265023002699650156/model-monitoring-jobs/bqjob10889476340477351317/feature-drift?project=statmike-mlops-349915&amp;featureName=body_mass_g</td>\n",
       "    </tr>\n",
       "    <tr>\n",
       "      <th>1</th>\n",
       "      <td>culmen_depth_mm</td>\n",
       "      <td>JENSEN_SHANNON_DIVERGENCE</td>\n",
       "      <td>0.3</td>\n",
       "      <td>0.047595</td>\n",
       "      <td>False</td>\n",
       "      <td>https://console.cloud.google.com/vertex-ai/model-monitoring/locations/us-central1/model-monitors/bq15265023002699650156/model-monitoring-jobs/bqjob10889476340477351317/feature-drift?project=statmike-mlops-349915&amp;featureName=culmen_depth_mm</td>\n",
       "    </tr>\n",
       "    <tr>\n",
       "      <th>2</th>\n",
       "      <td>culmen_length_mm</td>\n",
       "      <td>JENSEN_SHANNON_DIVERGENCE</td>\n",
       "      <td>0.3</td>\n",
       "      <td>0.055848</td>\n",
       "      <td>False</td>\n",
       "      <td>https://console.cloud.google.com/vertex-ai/model-monitoring/locations/us-central1/model-monitors/bq15265023002699650156/model-monitoring-jobs/bqjob10889476340477351317/feature-drift?project=statmike-mlops-349915&amp;featureName=culmen_length_mm</td>\n",
       "    </tr>\n",
       "    <tr>\n",
       "      <th>3</th>\n",
       "      <td>flipper_length_mm</td>\n",
       "      <td>JENSEN_SHANNON_DIVERGENCE</td>\n",
       "      <td>0.3</td>\n",
       "      <td>0.512342</td>\n",
       "      <td>True</td>\n",
       "      <td>https://console.cloud.google.com/vertex-ai/model-monitoring/locations/us-central1/model-monitors/bq15265023002699650156/model-monitoring-jobs/bqjob10889476340477351317/feature-drift?project=statmike-mlops-349915&amp;featureName=flipper_length_mm</td>\n",
       "    </tr>\n",
       "    <tr>\n",
       "      <th>4</th>\n",
       "      <td>island</td>\n",
       "      <td>L_INFTY</td>\n",
       "      <td>0.3</td>\n",
       "      <td>0.097171</td>\n",
       "      <td>False</td>\n",
       "      <td>https://console.cloud.google.com/vertex-ai/model-monitoring/locations/us-central1/model-monitors/bq15265023002699650156/model-monitoring-jobs/bqjob10889476340477351317/feature-drift?project=statmike-mlops-349915&amp;featureName=island</td>\n",
       "    </tr>\n",
       "    <tr>\n",
       "      <th>5</th>\n",
       "      <td>sex</td>\n",
       "      <td>L_INFTY</td>\n",
       "      <td>0.3</td>\n",
       "      <td>0.044248</td>\n",
       "      <td>False</td>\n",
       "      <td>https://console.cloud.google.com/vertex-ai/model-monitoring/locations/us-central1/model-monitors/bq15265023002699650156/model-monitoring-jobs/bqjob10889476340477351317/feature-drift?project=statmike-mlops-349915&amp;featureName=sex</td>\n",
       "    </tr>\n",
       "  </tbody>\n",
       "</table>\n",
       "</div>"
      ],
      "text/plain": [
       "               input                     metric  threshold     value  \\\n",
       "0        body_mass_g  JENSEN_SHANNON_DIVERGENCE        0.3  0.131663   \n",
       "1    culmen_depth_mm  JENSEN_SHANNON_DIVERGENCE        0.3  0.047595   \n",
       "2   culmen_length_mm  JENSEN_SHANNON_DIVERGENCE        0.3  0.055848   \n",
       "3  flipper_length_mm  JENSEN_SHANNON_DIVERGENCE        0.3  0.512342   \n",
       "4             island                    L_INFTY        0.3  0.097171   \n",
       "5                sex                    L_INFTY        0.3  0.044248   \n",
       "\n",
       "   is_anomaly  \\\n",
       "0       False   \n",
       "1       False   \n",
       "2       False   \n",
       "3        True   \n",
       "4       False   \n",
       "5       False   \n",
       "\n",
       "                                                                                                                                                                                                                                  visualization_link  \n",
       "0        https://console.cloud.google.com/vertex-ai/model-monitoring/locations/us-central1/model-monitors/bq15265023002699650156/model-monitoring-jobs/bqjob10889476340477351317/feature-drift?project=statmike-mlops-349915&featureName=body_mass_g  \n",
       "1    https://console.cloud.google.com/vertex-ai/model-monitoring/locations/us-central1/model-monitors/bq15265023002699650156/model-monitoring-jobs/bqjob10889476340477351317/feature-drift?project=statmike-mlops-349915&featureName=culmen_depth_mm  \n",
       "2   https://console.cloud.google.com/vertex-ai/model-monitoring/locations/us-central1/model-monitors/bq15265023002699650156/model-monitoring-jobs/bqjob10889476340477351317/feature-drift?project=statmike-mlops-349915&featureName=culmen_length_mm  \n",
       "3  https://console.cloud.google.com/vertex-ai/model-monitoring/locations/us-central1/model-monitors/bq15265023002699650156/model-monitoring-jobs/bqjob10889476340477351317/feature-drift?project=statmike-mlops-349915&featureName=flipper_length_mm  \n",
       "4             https://console.cloud.google.com/vertex-ai/model-monitoring/locations/us-central1/model-monitors/bq15265023002699650156/model-monitoring-jobs/bqjob10889476340477351317/feature-drift?project=statmike-mlops-349915&featureName=island  \n",
       "5                https://console.cloud.google.com/vertex-ai/model-monitoring/locations/us-central1/model-monitors/bq15265023002699650156/model-monitoring-jobs/bqjob10889476340477351317/feature-drift?project=statmike-mlops-349915&featureName=sex  "
      ]
     },
     "execution_count": 102,
     "metadata": {},
     "output_type": "execute_result"
    }
   ],
   "source": [
    "c_skew"
   ]
  },
  {
   "cell_type": "code",
   "execution_count": 103,
   "metadata": {
    "tags": []
   },
   "outputs": [
    {
     "data": {
      "text/html": [
       "<a href=\"https://console.cloud.google.com/vertex-ai/model-monitoring/locations/us-central1/model-monitors/bq15265023002699650156/model-monitoring-jobs/bqjob10889476340477351317/feature-drift?project=statmike-mlops-349915&featureName=body_mass_g\" target=\"_blank\" style=\"font-size: 18px;\">Open Google Cloud Console in a new tab</a>"
      ],
      "text/plain": [
       "<IPython.core.display.HTML object>"
      ]
     },
     "metadata": {},
     "output_type": "display_data"
    }
   ],
   "source": [
    "display(HTML(f'<a href=\"{c_skew.visualization_link[0]}\" target=\"_blank\" style=\"font-size: 18px;\">Open Google Cloud Console in a new tab</a>'))"
   ]
  },
  {
   "cell_type": "markdown",
   "metadata": {},
   "source": [
    "### Monitoring Drift (Change Over Time) With `ML.VALIDATE_DATA_DRIFT`\n",
    "\n",
    "Compare today to 5 days ago and set the a lower, more sensitive, threshold of `0.03` (default is `0.3`) for all features."
   ]
  },
  {
   "cell_type": "code",
   "execution_count": 104,
   "metadata": {
    "tags": []
   },
   "outputs": [
    {
     "data": {
      "application/vnd.jupyter.widget-view+json": {
       "model_id": "2f849999a38441f08c79e4178576b82f",
       "version_major": 2,
       "version_minor": 0
      },
      "text/plain": [
       "Query is running:   0%|          |"
      ]
     },
     "metadata": {},
     "output_type": "display_data"
    },
    {
     "data": {
      "application/vnd.jupyter.widget-view+json": {
       "model_id": "d73acd3fca4a483c9788f7655d7aa1e3",
       "version_major": 2,
       "version_minor": 0
      },
      "text/plain": [
       "Downloading:   0%|          |"
      ]
     },
     "metadata": {},
     "output_type": "display_data"
    }
   ],
   "source": [
    "%%bigquery c_drift\n",
    "SELECT *\n",
    "FROM ML.VALIDATE_DATA_DRIFT(\n",
    "    (\n",
    "        SELECT * EXCEPT(instance_timestamp)\n",
    "        FROM `statmike-mlops-349915.bqml_model_monitoring.serving_all`\n",
    "        WHERE DATE(instance_timestamp) = DATE_SUB(CURRENT_DATE(), INTERVAL 5 DAY)\n",
    "    ),\n",
    "    (\n",
    "        SELECT * EXCEPT(instance_timestamp)\n",
    "        FROM `statmike-mlops-349915.bqml_model_monitoring.serving_all`\n",
    "        WHERE DATE(instance_timestamp) = CURRENT_DATE() \n",
    "    ),\n",
    "    STRUCT(\n",
    "        0.03 AS categorical_default_threshold,\n",
    "        0.03 AS numerical_default_threshold\n",
    "    )\n",
    "    , MODEL `statmike-mlops-349915.bqml_model_monitoring.classify_species_logistic`\n",
    ");"
   ]
  },
  {
   "cell_type": "code",
   "execution_count": 105,
   "metadata": {
    "tags": []
   },
   "outputs": [
    {
     "data": {
      "text/html": [
       "<div>\n",
       "<style scoped>\n",
       "    .dataframe tbody tr th:only-of-type {\n",
       "        vertical-align: middle;\n",
       "    }\n",
       "\n",
       "    .dataframe tbody tr th {\n",
       "        vertical-align: top;\n",
       "    }\n",
       "\n",
       "    .dataframe thead th {\n",
       "        text-align: right;\n",
       "    }\n",
       "</style>\n",
       "<table border=\"1\" class=\"dataframe\">\n",
       "  <thead>\n",
       "    <tr style=\"text-align: right;\">\n",
       "      <th></th>\n",
       "      <th>input</th>\n",
       "      <th>metric</th>\n",
       "      <th>threshold</th>\n",
       "      <th>value</th>\n",
       "      <th>is_anomaly</th>\n",
       "      <th>visualization_link</th>\n",
       "    </tr>\n",
       "  </thead>\n",
       "  <tbody>\n",
       "    <tr>\n",
       "      <th>0</th>\n",
       "      <td>body_mass_g</td>\n",
       "      <td>JENSEN_SHANNON_DIVERGENCE</td>\n",
       "      <td>0.03</td>\n",
       "      <td>0.114117</td>\n",
       "      <td>True</td>\n",
       "      <td>https://console.cloud.google.com/vertex-ai/model-monitoring/locations/us-central1/model-monitors/bq4999748330876561619/model-monitoring-jobs/bqjob5383061844094833759/feature-drift?project=statmike-mlops-349915&amp;featureName=body_mass_g</td>\n",
       "    </tr>\n",
       "    <tr>\n",
       "      <th>1</th>\n",
       "      <td>culmen_depth_mm</td>\n",
       "      <td>JENSEN_SHANNON_DIVERGENCE</td>\n",
       "      <td>0.03</td>\n",
       "      <td>0.002099</td>\n",
       "      <td>False</td>\n",
       "      <td>https://console.cloud.google.com/vertex-ai/model-monitoring/locations/us-central1/model-monitors/bq4999748330876561619/model-monitoring-jobs/bqjob5383061844094833759/feature-drift?project=statmike-mlops-349915&amp;featureName=culmen_depth_mm</td>\n",
       "    </tr>\n",
       "    <tr>\n",
       "      <th>2</th>\n",
       "      <td>culmen_length_mm</td>\n",
       "      <td>JENSEN_SHANNON_DIVERGENCE</td>\n",
       "      <td>0.03</td>\n",
       "      <td>0.003258</td>\n",
       "      <td>False</td>\n",
       "      <td>https://console.cloud.google.com/vertex-ai/model-monitoring/locations/us-central1/model-monitors/bq4999748330876561619/model-monitoring-jobs/bqjob5383061844094833759/feature-drift?project=statmike-mlops-349915&amp;featureName=culmen_length_mm</td>\n",
       "    </tr>\n",
       "    <tr>\n",
       "      <th>3</th>\n",
       "      <td>flipper_length_mm</td>\n",
       "      <td>JENSEN_SHANNON_DIVERGENCE</td>\n",
       "      <td>0.03</td>\n",
       "      <td>0.138170</td>\n",
       "      <td>True</td>\n",
       "      <td>https://console.cloud.google.com/vertex-ai/model-monitoring/locations/us-central1/model-monitors/bq4999748330876561619/model-monitoring-jobs/bqjob5383061844094833759/feature-drift?project=statmike-mlops-349915&amp;featureName=flipper_length_mm</td>\n",
       "    </tr>\n",
       "    <tr>\n",
       "      <th>4</th>\n",
       "      <td>island</td>\n",
       "      <td>L_INFTY</td>\n",
       "      <td>0.03</td>\n",
       "      <td>0.017814</td>\n",
       "      <td>False</td>\n",
       "      <td>https://console.cloud.google.com/vertex-ai/model-monitoring/locations/us-central1/model-monitors/bq4999748330876561619/model-monitoring-jobs/bqjob5383061844094833759/feature-drift?project=statmike-mlops-349915&amp;featureName=island</td>\n",
       "    </tr>\n",
       "    <tr>\n",
       "      <th>5</th>\n",
       "      <td>sex</td>\n",
       "      <td>L_INFTY</td>\n",
       "      <td>0.03</td>\n",
       "      <td>0.010914</td>\n",
       "      <td>False</td>\n",
       "      <td>https://console.cloud.google.com/vertex-ai/model-monitoring/locations/us-central1/model-monitors/bq4999748330876561619/model-monitoring-jobs/bqjob5383061844094833759/feature-drift?project=statmike-mlops-349915&amp;featureName=sex</td>\n",
       "    </tr>\n",
       "  </tbody>\n",
       "</table>\n",
       "</div>"
      ],
      "text/plain": [
       "               input                     metric  threshold     value  \\\n",
       "0        body_mass_g  JENSEN_SHANNON_DIVERGENCE       0.03  0.114117   \n",
       "1    culmen_depth_mm  JENSEN_SHANNON_DIVERGENCE       0.03  0.002099   \n",
       "2   culmen_length_mm  JENSEN_SHANNON_DIVERGENCE       0.03  0.003258   \n",
       "3  flipper_length_mm  JENSEN_SHANNON_DIVERGENCE       0.03  0.138170   \n",
       "4             island                    L_INFTY       0.03  0.017814   \n",
       "5                sex                    L_INFTY       0.03  0.010914   \n",
       "\n",
       "   is_anomaly  \\\n",
       "0        True   \n",
       "1       False   \n",
       "2       False   \n",
       "3        True   \n",
       "4       False   \n",
       "5       False   \n",
       "\n",
       "                                                                                                                                                                                                                                visualization_link  \n",
       "0        https://console.cloud.google.com/vertex-ai/model-monitoring/locations/us-central1/model-monitors/bq4999748330876561619/model-monitoring-jobs/bqjob5383061844094833759/feature-drift?project=statmike-mlops-349915&featureName=body_mass_g  \n",
       "1    https://console.cloud.google.com/vertex-ai/model-monitoring/locations/us-central1/model-monitors/bq4999748330876561619/model-monitoring-jobs/bqjob5383061844094833759/feature-drift?project=statmike-mlops-349915&featureName=culmen_depth_mm  \n",
       "2   https://console.cloud.google.com/vertex-ai/model-monitoring/locations/us-central1/model-monitors/bq4999748330876561619/model-monitoring-jobs/bqjob5383061844094833759/feature-drift?project=statmike-mlops-349915&featureName=culmen_length_mm  \n",
       "3  https://console.cloud.google.com/vertex-ai/model-monitoring/locations/us-central1/model-monitors/bq4999748330876561619/model-monitoring-jobs/bqjob5383061844094833759/feature-drift?project=statmike-mlops-349915&featureName=flipper_length_mm  \n",
       "4             https://console.cloud.google.com/vertex-ai/model-monitoring/locations/us-central1/model-monitors/bq4999748330876561619/model-monitoring-jobs/bqjob5383061844094833759/feature-drift?project=statmike-mlops-349915&featureName=island  \n",
       "5                https://console.cloud.google.com/vertex-ai/model-monitoring/locations/us-central1/model-monitors/bq4999748330876561619/model-monitoring-jobs/bqjob5383061844094833759/feature-drift?project=statmike-mlops-349915&featureName=sex  "
      ]
     },
     "execution_count": 105,
     "metadata": {},
     "output_type": "execute_result"
    }
   ],
   "source": [
    "c_drift"
   ]
  },
  {
   "cell_type": "code",
   "execution_count": 106,
   "metadata": {
    "tags": []
   },
   "outputs": [
    {
     "data": {
      "text/html": [
       "<a href=\"https://console.cloud.google.com/vertex-ai/model-monitoring/locations/us-central1/model-monitors/bq4999748330876561619/model-monitoring-jobs/bqjob5383061844094833759/feature-drift?project=statmike-mlops-349915&featureName=body_mass_g\" target=\"_blank\" style=\"font-size: 18px;\">Open Google Cloud Console in a new tab</a>"
      ],
      "text/plain": [
       "<IPython.core.display.HTML object>"
      ]
     },
     "metadata": {},
     "output_type": "display_data"
    }
   ],
   "source": [
    "display(HTML(f'<a href=\"{c_drift.visualization_link[0]}\" target=\"_blank\" style=\"font-size: 18px;\">Open Google Cloud Console in a new tab</a>'))"
   ]
  },
  {
   "cell_type": "markdown",
   "metadata": {},
   "source": [
    "### Remove Endpoint \n",
    "To prevent ongoing cost for this demonstration, remove the endpoint.  "
   ]
  },
  {
   "cell_type": "code",
   "execution_count": 107,
   "metadata": {
    "tags": []
   },
   "outputs": [
    {
     "name": "stdout",
     "output_type": "stream",
     "text": [
      "Undeploying Endpoint model: projects/1026793852137/locations/us-central1/endpoints/2148328072930131968\n",
      "Undeploy Endpoint model backing LRO: projects/1026793852137/locations/us-central1/endpoints/2148328072930131968/operations/6364638609181507584\n",
      "Endpoint model undeployed. Resource name: projects/1026793852137/locations/us-central1/endpoints/2148328072930131968\n",
      "Deleting Endpoint : projects/1026793852137/locations/us-central1/endpoints/2148328072930131968\n",
      "Endpoint deleted. . Resource name: projects/1026793852137/locations/us-central1/endpoints/2148328072930131968\n",
      "Deleting Endpoint resource: projects/1026793852137/locations/us-central1/endpoints/2148328072930131968\n",
      "Delete Endpoint backing LRO: projects/1026793852137/locations/us-central1/operations/3066314832086040576\n",
      "Endpoint resource projects/1026793852137/locations/us-central1/endpoints/2148328072930131968 deleted.\n"
     ]
    }
   ],
   "source": [
    "endpoint.delete(force = True)"
   ]
  },
  {
   "cell_type": "markdown",
   "metadata": {},
   "source": [
    "---\n",
    "## Continous Monitoring\n",
    "\n",
    "The methods above can be combined into a job that runs both skew and drift detection.  The jobs can be scheduled or triggered to make the process of model monitoring continous - continous monitoring.  If the model quality can be evaluated with confidence then the automation can even be extended to retrain and update the model for continous training.   \n",
    "\n",
    "This section shows one of many ways to create a model monitoring job. For models created in BigQuery with BigQuery ML it also shows a retraining action as part of the job when alerts are detected.\n",
    "\n",
    "These types of jobs could be automated for continous monitoring with one of these methods:\n",
    "- [BigQuery Scheduled Queries](https://cloud.google.com/bigquery/docs/scheduling-queries)\n",
    "    - Featured below\n",
    "- [Dataform](https://cloud.google.com/dataform/docs/quickstart-create-workflow)\n",
    "- [Workflows](https://cloud.google.com/workflows/docs/tutorials/bigquery-parallel-jobs)\n",
    "- [Cloud Composer](https://cloud.google.com/composer/docs/data-analytics-googlecloud)\n",
    "- [Vertex AI Pipelines](https://cloud.google.com/vertex-ai/docs/pipelines/gcpc-list#bqml_components)\n",
    "\n",
    "This section will show how to:\n",
    "- Develop model monitoring jobs:\n",
    "    - with alterting and retraining\n",
    "- Build tables to capture continous monitoring results\n",
    "- Extend monitoring jobs to BigQuery Scheduled Queries\n",
    "- Backfill monitoring jobs for a past time period"
   ]
  },
  {
   "cell_type": "markdown",
   "metadata": {},
   "source": [
    "### Model Monitoring Job: With Alerting And Retraining\n",
    "\n",
    "A BigQuery SQL job that uses the [procedural language](https://cloud.google.com/bigquery/docs/reference/standard-sql/procedural-language) to execute multiple statements (steps) as a single query.  In this case, monitoring skew and drift, detecting any feature level anomalies in either and reporting back the anomalies via a log note with a forced error.\n",
    "\n",
    "This job also includes retraining of the BigQuery ML model:\n",
    "In this case the example is simplified to retrain the model and directly implement it as a replacement with `CREATE OR REPLACE MODEL`.  In a production enviornment additional pre/post steps might take place as part of this workflow:\n",
    "- on skew/drift detection:\n",
    "    - Prior to retraining:\n",
    "        - ensure detection is not due to data errors, schema changes, or system changes\n",
    "    - After retrainning:\n",
    "        - evaluate the model and compare to current production version\n",
    "        - conditionally deploy the new version if it is better in any/all key metrics\n",
    "        - consider rollout strategies for the retrained model\n",
    "        - trigger human review before deployment of the replacement"
   ]
  },
  {
   "cell_type": "code",
   "execution_count": 109,
   "metadata": {
    "tags": []
   },
   "outputs": [
    {
     "name": "stdout",
     "output_type": "stream",
     "text": [
      "Executing query with job ID: 40050f33-35e2-4a25-b423-52d1491cc105\n",
      "Query executing: 369.38s"
     ]
    },
    {
     "name": "stderr",
     "output_type": "stream",
     "text": [
      "\n",
      "ERROR:\n",
      " 400 GET https://bigquery.googleapis.com/bigquery/v2/projects/statmike-mlops-349915/queries/40050f33-35e2-4a25-b423-52d1491cc105?maxResults=0&location=US&prettyPrint=false: Query error: \n",
      "\n",
      "Monitoring Report:\n",
      "\tDrift: not detected.\n",
      "\tSkew: detected in the following features\n",
      "\t\tflipper_length_mm: https://console.cloud.google.com/vertex-ai/model-monitoring/locations/us-central1/model-monitors/bq2699627504393150729/model-monitoring-jobs/bqjob17996097007858941884/feature-drift?project=statmike-mlops-349915&featureName=flipper_length_mm\n",
      "\n",
      "The Model was retrained:\n",
      "\taccuracy of prior model: 0.99765807962529274\n",
      "\trecent accuracy of prior model: 1\n",
      "\taccuracy after retraining: 0.99508599508599516\n",
      "\n",
      " at [153:9]\n",
      "\n",
      "Location: US\n",
      "Job ID: 40050f33-35e2-4a25-b423-52d1491cc105\n",
      "\n"
     ]
    }
   ],
   "source": [
    "%%bigquery\n",
    "DECLARE drift_anomalies ARRAY<STRUCT<input STRING, visualization_link STRING>>;\n",
    "DECLARE drift STRING;\n",
    "DECLARE skew_anomalies ARRAY<STRUCT<input STRING, visualization_link STRING>>;\n",
    "DECLARE skew STRING;\n",
    "\n",
    "# Monitor Drift:\n",
    "SET drift_anomalies = (\n",
    "    SELECT ARRAY_AGG(STRUCT(input, visualization_link))\n",
    "    FROM ML.VALIDATE_DATA_DRIFT(\n",
    "        (# base\n",
    "            SELECT * EXCEPT(species, instance_timestamp)\n",
    "            FROM `statmike-mlops-349915.bqml_model_monitoring.serving`\n",
    "            WHERE DATE(instance_timestamp) = DATE_SUB(CURRENT_DATE(), INTERVAL 30 DAY)\n",
    "        ),\n",
    "        (# compare\n",
    "            SELECT * EXCEPT(species, instance_timestamp)\n",
    "            FROM `statmike-mlops-349915.bqml_model_monitoring.serving`\n",
    "            WHERE DATE(instance_timestamp) = DATE_SUB(CURRENT_DATE(), INTERVAL 29 DAY)\n",
    "        ),\n",
    "        STRUCT(\n",
    "            0.4 AS categorical_default_threshold,\n",
    "            0.4 AS numerical_default_threshold\n",
    "        )\n",
    "        , MODEL `statmike-mlops-349915.bqml_model_monitoring.classify_species_logistic`\n",
    "    )\n",
    "    WHERE is_anomaly = True\n",
    ");\n",
    "IF(ARRAY_LENGTH(drift_anomalies) > 0) THEN\n",
    "    SET drift = CONCAT(\n",
    "        \"\\n\\tDrift: detected in the following features\",\n",
    "        (\n",
    "            SELECT STRING_AGG(\n",
    "                CONCAT(\n",
    "                    '\\n\\t\\t',\n",
    "                    da.input,\n",
    "                    ': ',\n",
    "                    da.visualization_link\n",
    "                )\n",
    "            )\n",
    "            FROM UNNEST(drift_anomalies) as da\n",
    "        )\n",
    "    );\n",
    "    ELSE SET drift = '\\n\\tDrift: not detected.';\n",
    "END IF;\n",
    "\n",
    "# Monitor Skew\n",
    "SET skew_anomalies = (\n",
    "    SELECT ARRAY_AGG(STRUCT(input, visualization_link))\n",
    "    FROM ML.VALIDATE_DATA_SKEW(\n",
    "        # base\n",
    "        MODEL `statmike-mlops-349915.bqml_model_monitoring.classify_species_rf`,\n",
    "        (# compare\n",
    "            SELECT * EXCEPT(species, instance_timestamp)\n",
    "            FROM `statmike-mlops-349915.bqml_model_monitoring.serving`\n",
    "            WHERE DATE(instance_timestamp) = DATE_SUB(CURRENT_DATE(), INTERVAL 30 DAY)\n",
    "        )\n",
    "        ,STRUCT(TRUE AS enable_visualization_link)\n",
    "    )\n",
    "    WHERE is_anomaly = True\n",
    ");\n",
    "IF(ARRAY_LENGTH(skew_anomalies) > 0) THEN\n",
    "    SET skew = CONCAT(\n",
    "        \"\\n\\tSkew: detected in the following features\",\n",
    "        (\n",
    "            SELECT STRING_AGG(\n",
    "                CONCAT(\n",
    "                    '\\n\\t\\t',\n",
    "                    sa.input,\n",
    "                    ': ',\n",
    "                    sa.visualization_link\n",
    "                )\n",
    "            )\n",
    "            FROM UNNEST(skew_anomalies) as sa\n",
    "        )\n",
    "    );\n",
    "    ELSE SET skew = '\\n\\tSkew: not detected.';\n",
    "END IF;\n",
    "\n",
    "# Prepare Alert\n",
    "IF(ARRAY_LENGTH(drift_anomalies) > 0 OR ARRAY_LENGTH(skew_anomalies) > 0) THEN\n",
    "    BEGIN\n",
    "        DECLARE train_accuracy FLOAT64;\n",
    "        DECLARE recent_accuracy FLOAT64;\n",
    "        DECLARE retrain_accuracy FLOAT64;\n",
    "\n",
    "        # get current models evaluation metrics: accuracy\n",
    "        SET train_accuracy = (\n",
    "            SELECT accuracy\n",
    "            FROM ML.EVALUATE (\n",
    "                MODEL `statmike-mlops-349915.bqml_model_monitoring.classify_species_rf`\n",
    "            )\n",
    "        );\n",
    "\n",
    "        # get current models recent evaluation metrics: accuracy\n",
    "        SET recent_accuracy = (\n",
    "            SELECT accuracy\n",
    "            FROM ML.EVALUATE (\n",
    "                MODEL `statmike-mlops-349915.bqml_model_monitoring.classify_species_rf`,\n",
    "                (\n",
    "                    SELECT *\n",
    "                    FROM `statmike-mlops-349915.bqml_model_monitoring.serving`\n",
    "                    WHERE DATE(instance_timestamp) = DATE_SUB(CURRENT_DATE(), INTERVAL 30 DAY) \n",
    "                )\n",
    "            )\n",
    "        );\n",
    "\n",
    "        # retrain the model\n",
    "        CREATE OR REPLACE MODEL `statmike-mlops-349915.bqml_model_monitoring.classify_species_rf`\n",
    "            TRANSFORM(\n",
    "                ML.ROBUST_SCALER(body_mass_g) OVER() AS body_mass_g,\n",
    "                ML.STANDARD_SCALER(culmen_length_mm) OVER() AS culmen_length_mm,\n",
    "                ML.STANDARD_SCALER(culmen_depth_mm) OVER() AS culmen_depth_mm,\n",
    "                ML.QUANTILE_BUCKETIZE(flipper_length_mm, 3) OVER() AS flipper_length_mm,\n",
    "                ML.IMPUTER(sex, 'most_frequent') OVER() AS sex,\n",
    "                ML.IMPUTER(island, 'most_frequent') OVER() AS island,\n",
    "                species\n",
    "            )\n",
    "            OPTIONS(\n",
    "                MODEL_TYPE = 'RANDOM_FOREST_CLASSIFIER',\n",
    "                INPUT_LABEL_COLS = ['species'],\n",
    "\n",
    "                # data specifics\n",
    "                DATA_SPLIT_METHOD = 'AUTO_SPLIT',\n",
    "\n",
    "                # model specifics\n",
    "                AUTO_CLASS_WEIGHTS = FALSE,\n",
    "                NUM_PARALLEL_TREE= 150,\n",
    "                TREE_METHOD = 'HIST',\n",
    "                SUBSAMPLE = 0.85,\n",
    "                COLSAMPLE_BYTREE = 0.9,\n",
    "                ENABLE_GLOBAL_EXPLAIN = TRUE,\n",
    "\n",
    "                # register model in Vertex AI For Online Serving\n",
    "                MODEL_REGISTRY = 'VERTEX_AI'\n",
    "            )\n",
    "        AS\n",
    "            SELECT species, island, culmen_length_mm, culmen_depth_mm, sex, flipper_length_mm, body_mass_g\n",
    "            FROM `statmike-mlops-349915.bqml_model_monitoring.training`\n",
    "            UNION ALL\n",
    "            SELECT species, island, culmen_length_mm, culmen_depth_mm, sex, flipper_length_mm, body_mass_g\n",
    "            FROM `statmike-mlops-349915.bqml_model_monitoring.serving`\n",
    "            WHERE DATE(instance_timestamp) = DATE_SUB(CURRENT_DATE(), INTERVAL 30 DAY)\n",
    "        ;\n",
    "\n",
    "        # get retrained models evaluation metrics: accuracy\n",
    "        SET retrain_accuracy = (\n",
    "            SELECT accuracy\n",
    "            FROM ML.EVALUATE (\n",
    "                MODEL `statmike-mlops-349915.bqml_model_monitoring.classify_species_rf`\n",
    "            )\n",
    "        );\n",
    "\n",
    "        SELECT ERROR(\n",
    "            CONCAT(\n",
    "                \"\\n\\nMonitoring Report:\",\n",
    "                drift,\n",
    "                skew,\n",
    "                \"\\n\\nThe Model was retrained:\",\n",
    "                \"\\n\\taccuracy of prior model: \", train_accuracy,\n",
    "                \"\\n\\trecent accuracy of prior model: \", recent_accuracy,\n",
    "                \"\\n\\taccuracy after retraining: \", retrain_accuracy,\n",
    "                \"\\n\\n\"\n",
    "            )\n",
    "        );\n",
    "    END;\n",
    "    ELSE\n",
    "        SELECT ERROR(\n",
    "            CONCAT(\n",
    "                \"\\n\\nMonitoring Report:\",\n",
    "                drift,\n",
    "                skew,\n",
    "                \"\\n\\n\"\n",
    "            )\n",
    "        );\n",
    "END IF;"
   ]
  },
  {
   "cell_type": "markdown",
   "metadata": {},
   "source": [
    "### From Job To Scheduled Query\n",
    "\n",
    "The model monitoring job created above can be modified and scheduled using [scheduled queries](https://cloud.google.com/bigquery/docs/scheduling-queries).  A key feature of the modification is making use of the parameter `@run_date` to parameterize the queries reference to dates (see [configuration options](https://cloud.google.com/bigquery/docs/scheduling-queries#configuration_options)).  This allows the query to run as though it is on different dates which will be helpful as we backfill the model monitoring runs after scheduling for today and forward.\n",
    "\n",
    "Note, the next cell is writing the content of the query to a file named `model_monitoring_job.sql`.\n",
    "Other modification to the job above:\n",
    "- Drift is set to compare the last weeks serving data to the prior week\n",
    "- Skew is set to compare the last weeks serving data to the baseline training data"
   ]
  },
  {
   "cell_type": "code",
   "execution_count": 110,
   "metadata": {
    "tags": []
   },
   "outputs": [
    {
     "name": "stdout",
     "output_type": "stream",
     "text": [
      "Overwriting model_monitoring_job.sql\n"
     ]
    }
   ],
   "source": [
    "%%writefile model_monitoring_job.sql\n",
    "DECLARE drift_anomalies ARRAY<STRUCT<input STRING, visualization_link STRING>>;\n",
    "DECLARE drift STRING;\n",
    "DECLARE skew_anomalies ARRAY<STRUCT<input STRING, visualization_link STRING>>;\n",
    "DECLARE skew STRING;\n",
    "\n",
    "# Monitor Drift:\n",
    "SET drift_anomalies = (\n",
    "    SELECT ARRAY_AGG(STRUCT(input, visualization_link))\n",
    "    FROM ML.VALIDATE_DATA_DRIFT(\n",
    "        (# base\n",
    "            SELECT * EXCEPT(instance_timestamp)\n",
    "            FROM `statmike-mlops-349915.bqml_model_monitoring.serving_all`\n",
    "            WHERE\n",
    "                DATE(instance_timestamp) >= DATE_SUB(@run_date, INTERVAL 2 WEEK)\n",
    "                AND\n",
    "                DATE(instance_timestamp) < DATE_SUB(@run_date, INTERVAL 1 WEEK)\n",
    "        ),\n",
    "        (# compare\n",
    "            SELECT * EXCEPT(instance_timestamp)\n",
    "            FROM `statmike-mlops-349915.bqml_model_monitoring.serving_all`\n",
    "            WHERE DATE(instance_timestamp) >= DATE_SUB(@run_date, INTERVAL 1 WEEK)\n",
    "        ),\n",
    "        STRUCT(\n",
    "            0.4 AS categorical_default_threshold,\n",
    "            0.4 AS numerical_default_threshold\n",
    "        )\n",
    "        , MODEL `statmike-mlops-349915.bqml_model_monitoring.classify_species_logistic`\n",
    "    )\n",
    "    WHERE is_anomaly = True\n",
    ");\n",
    "IF(ARRAY_LENGTH(drift_anomalies) > 0) THEN\n",
    "    SET drift = CONCAT(\n",
    "        \"\\n\\tDrift: detected in the following features\",\n",
    "        (\n",
    "            SELECT STRING_AGG(\n",
    "                CONCAT(\n",
    "                    '\\n\\t\\t',\n",
    "                    da.input,\n",
    "                    ': ',\n",
    "                    da.visualization_link\n",
    "                )\n",
    "            )\n",
    "            FROM UNNEST(drift_anomalies) as da\n",
    "        )\n",
    "    );\n",
    "    ELSE SET drift = '\\n\\tDrift: not detected.';\n",
    "END IF;\n",
    "\n",
    "# Monitor Skew\n",
    "SET skew_anomalies = (\n",
    "    SELECT ARRAY_AGG(STRUCT(input, visualization_link))\n",
    "    FROM ML.VALIDATE_DATA_SKEW(\n",
    "        # base\n",
    "        MODEL `statmike-mlops-349915.bqml_model_monitoring.classify_species_rf`,\n",
    "        (# compare\n",
    "            SELECT * EXCEPT(instance_timestamp)\n",
    "            FROM `statmike-mlops-349915.bqml_model_monitoring.serving_all`\n",
    "            WHERE DATE(instance_timestamp) >= DATE_SUB(@run_date, INTERVAL 1 WEEK)\n",
    "        )\n",
    "        ,STRUCT(TRUE AS enable_visualization_link)\n",
    "    )\n",
    "    WHERE is_anomaly = True\n",
    ");\n",
    "IF(ARRAY_LENGTH(skew_anomalies) > 0) THEN\n",
    "    SET skew = CONCAT(\n",
    "        \"\\n\\tSkew: detected in the following features\",\n",
    "        (\n",
    "            SELECT STRING_AGG(\n",
    "                CONCAT(\n",
    "                    '\\n\\t\\t',\n",
    "                    sa.input,\n",
    "                    ': ',\n",
    "                    sa.visualization_link\n",
    "                )\n",
    "            )\n",
    "            FROM UNNEST(skew_anomalies) as sa\n",
    "        )\n",
    "    );\n",
    "    ELSE SET skew = '\\n\\tSkew: not detected.';\n",
    "END IF;\n",
    "\n",
    "# Prepare Alert\n",
    "IF(ARRAY_LENGTH(drift_anomalies) > 0 OR ARRAY_LENGTH(skew_anomalies) > 0) THEN\n",
    "    BEGIN\n",
    "        DECLARE train_accuracy FLOAT64;\n",
    "        DECLARE recent_accuracy FLOAT64;\n",
    "        DECLARE retrain_accuracy FLOAT64;\n",
    "\n",
    "        # get current models evaluation metrics: accuracy\n",
    "        SET train_accuracy = (\n",
    "            SELECT accuracy\n",
    "            FROM ML.EVALUATE (\n",
    "                MODEL `statmike-mlops-349915.bqml_model_monitoring.classify_species_rf`\n",
    "            )\n",
    "        );\n",
    "\n",
    "        # get current models recent evaluation metrics: accuracy\n",
    "        SET recent_accuracy = (\n",
    "            SELECT accuracy\n",
    "            FROM ML.EVALUATE (\n",
    "                MODEL `statmike-mlops-349915.bqml_model_monitoring.classify_species_rf`,\n",
    "                (\n",
    "                    SELECT *\n",
    "                    FROM `statmike-mlops-349915.bqml_model_monitoring.serving`\n",
    "                    WHERE DATE(instance_timestamp) >= DATE_SUB(@run_date, INTERVAL 1 WEEK) \n",
    "                )\n",
    "            )\n",
    "        );\n",
    "\n",
    "        # retrain the model\n",
    "        CREATE OR REPLACE MODEL `statmike-mlops-349915.bqml_model_monitoring.classify_species_rf`\n",
    "            TRANSFORM(\n",
    "                ML.ROBUST_SCALER(body_mass_g) OVER() AS body_mass_g,\n",
    "                ML.STANDARD_SCALER(culmen_length_mm) OVER() AS culmen_length_mm,\n",
    "                ML.STANDARD_SCALER(culmen_depth_mm) OVER() AS culmen_depth_mm,\n",
    "                ML.QUANTILE_BUCKETIZE(flipper_length_mm, 3) OVER() AS flipper_length_mm,\n",
    "                ML.IMPUTER(sex, 'most_frequent') OVER() AS sex,\n",
    "                ML.IMPUTER(island, 'most_frequent') OVER() AS island,\n",
    "                species\n",
    "            )\n",
    "            OPTIONS(\n",
    "                MODEL_TYPE = 'RANDOM_FOREST_CLASSIFIER',\n",
    "                INPUT_LABEL_COLS = ['species'],\n",
    "\n",
    "                # data specifics\n",
    "                DATA_SPLIT_METHOD = 'AUTO_SPLIT',\n",
    "\n",
    "                # model specifics\n",
    "                AUTO_CLASS_WEIGHTS = FALSE,\n",
    "                NUM_PARALLEL_TREE= 150,\n",
    "                TREE_METHOD = 'HIST',\n",
    "                SUBSAMPLE = 0.85,\n",
    "                COLSAMPLE_BYTREE = 0.9,\n",
    "                ENABLE_GLOBAL_EXPLAIN = TRUE,\n",
    "\n",
    "                # register model in Vertex AI For Online Serving\n",
    "                MODEL_REGISTRY = 'VERTEX_AI',\n",
    "                VERTEX_AI_MODEL_ID = 'classify_species_rf'\n",
    "            )\n",
    "        AS\n",
    "            SELECT species, island, culmen_length_mm, culmen_depth_mm, sex, flipper_length_mm, body_mass_g\n",
    "            FROM `statmike-mlops-349915.bqml_model_monitoring.training_split`\n",
    "            WHERE splits = 'TRAIN'\n",
    "            UNION ALL\n",
    "            SELECT species, island, culmen_length_mm, culmen_depth_mm, sex, flipper_length_mm, body_mass_g\n",
    "            FROM `statmike-mlops-349915.bqml_model_monitoring.serving`\n",
    "            WHERE DATE(instance_timestamp) < @run_date\n",
    "        ;\n",
    "\n",
    "        # get retrained models evaluation metrics: accuracy\n",
    "        SET retrain_accuracy = (\n",
    "            SELECT accuracy\n",
    "            FROM ML.EVALUATE (\n",
    "                MODEL `statmike-mlops-349915.bqml_model_monitoring.classify_species_rf`\n",
    "            )\n",
    "        );\n",
    "\n",
    "        SELECT ERROR(\n",
    "            CONCAT(\n",
    "                \"\\n\\nMonitoring Report for \", @run_date, \":\",\n",
    "                \"\\n\\t\", drift,\n",
    "                \"\\n\\t\", skew,\n",
    "                \"\\n\\nThe Model was retrained:\",\n",
    "                \"\\n\\taccuracy of prior model: \", train_accuracy,\n",
    "                \"\\n\\trecent accuracy of prior model: \", recent_accuracy,\n",
    "                \"\\n\\taccuracy after retraining: \", retrain_accuracy,\n",
    "                \"\\n\\n\"\n",
    "            )\n",
    "        );\n",
    "    END;\n",
    "    # ELSE ... supressed alerts on runs without anomalies detected\n",
    "END IF;"
   ]
  },
  {
   "cell_type": "markdown",
   "metadata": {},
   "source": [
    "### Schedule The Query\n",
    "\n",
    "The query can be scheduled in [a number of ways](https://cloud.google.com/bigquery/docs/scheduling-queries#set_up_scheduled_queries) including the console, bq cli, and Python. Here, the Python client will be used.\n",
    "- **References**\n",
    "    - [Python Client For BigQuery Data Transfer](https://cloud.google.com/python/docs/reference/bigquerydatatransfer/latest)\n",
    "    - [Set up schedule queries with Python client](https://cloud.google.com/bigquery/docs/scheduling-queries#python)"
   ]
  },
  {
   "cell_type": "code",
   "execution_count": 111,
   "metadata": {
    "tags": []
   },
   "outputs": [],
   "source": [
    "from google.cloud import bigquery_datatransfer\n",
    "from datetime import datetime, timezone, timedelta\n",
    "import time\n",
    "transfer_client = bigquery_datatransfer.DataTransferServiceClient()"
   ]
  },
  {
   "cell_type": "code",
   "execution_count": 112,
   "metadata": {
    "tags": []
   },
   "outputs": [
    {
     "data": {
      "text/plain": [
       "datetime.datetime(2025, 3, 30, 20, 59, 28, 700943, tzinfo=datetime.timezone.utc)"
      ]
     },
     "execution_count": 112,
     "metadata": {},
     "output_type": "execute_result"
    }
   ],
   "source": [
    "start_time = datetime.now(timezone.utc) + timedelta(days=1) # start tomorrow\n",
    "start_time"
   ]
  },
  {
   "cell_type": "code",
   "execution_count": 113,
   "metadata": {
    "tags": []
   },
   "outputs": [],
   "source": [
    "with open('model_monitoring_job.sql', 'r') as file:\n",
    "    query = file.read()"
   ]
  },
  {
   "cell_type": "code",
   "execution_count": 114,
   "metadata": {
    "tags": []
   },
   "outputs": [
    {
     "data": {
      "text/plain": [
       "'projects/statmike-mlops-349915/locations/us'"
      ]
     },
     "execution_count": 114,
     "metadata": {},
     "output_type": "execute_result"
    }
   ],
   "source": [
    "transfer_client.common_location_path('statmike-mlops-349915', 'us')"
   ]
  },
  {
   "cell_type": "code",
   "execution_count": 115,
   "metadata": {
    "tags": []
   },
   "outputs": [],
   "source": [
    "scheduled_query = transfer_client.create_transfer_config(\n",
    "    #parent = transfer_client.common_project_path('statmike-mlops-349915'),\n",
    "    parent = transfer_client.common_location_path('statmike-mlops-349915', 'us'),\n",
    "    transfer_config = bigquery_datatransfer.TransferConfig(\n",
    "        display_name = 'Continous Model Monitoring',\n",
    "        data_source_id = 'scheduled_query',\n",
    "        params = {'query': query},\n",
    "        schedule = 'every 24 hours',\n",
    "        schedule_options = bigquery_datatransfer.ScheduleOptions(\n",
    "            start_time=start_time.strftime(\"%Y-%m-%dT%H:%M:%SZ\")\n",
    "        ),\n",
    "        email_preferences = bigquery_datatransfer.EmailPreferences(\n",
    "            enable_failure_email = True\n",
    "        )\n",
    "    )\n",
    ")"
   ]
  },
  {
   "cell_type": "code",
   "execution_count": 116,
   "metadata": {
    "tags": []
   },
   "outputs": [
    {
     "data": {
      "text/plain": [
       "('Continous Model Monitoring',\n",
       " 'projects/1026793852137/locations/us/transferConfigs/68140a3b-0000-2291-ba6d-582429a9dcf0')"
      ]
     },
     "execution_count": 116,
     "metadata": {},
     "output_type": "execute_result"
    }
   ],
   "source": [
    "scheduled_query.display_name, scheduled_query.name"
   ]
  },
  {
   "cell_type": "code",
   "execution_count": 117,
   "metadata": {
    "tags": []
   },
   "outputs": [
    {
     "data": {
      "text/plain": [
       "'2025-03-31 20:59:00.000000'"
      ]
     },
     "execution_count": 117,
     "metadata": {},
     "output_type": "execute_result"
    }
   ],
   "source": [
    "scheduled_query.next_run_time.strftime(\"%Y-%m-%d %H:%M:%S.%f\")"
   ]
  },
  {
   "cell_type": "markdown",
   "metadata": {},
   "source": [
    "Take a moment to see the query in the console:\n",
    "- Console > BigQuery > Scheduled Queries"
   ]
  },
  {
   "cell_type": "markdown",
   "metadata": {},
   "source": [
    "### Backfill History With Scheduled Query\n",
    "\n",
    "While the client can use a start and end time to run a range of backfill dates, it will runs these backwards from most recent to the earliest time.  Due to the nature of the model monitoring job it is more desirable to run these in the order from earliest to most recent.  This is accomplished by launching each days job separately in the desired order."
   ]
  },
  {
   "cell_type": "code",
   "execution_count": 118,
   "metadata": {
    "tags": []
   },
   "outputs": [],
   "source": [
    "# -30 days\n",
    "start_time = datetime.now(timezone.utc) + timedelta(days = -30)\n",
    "backfill_job = transfer_client.start_manual_transfer_runs(\n",
    "    request = bigquery_datatransfer.StartManualTransferRunsRequest(\n",
    "        parent = scheduled_query.name,\n",
    "        requested_run_time = start_time \n",
    "    )\n",
    ")"
   ]
  },
  {
   "cell_type": "code",
   "execution_count": 119,
   "metadata": {
    "tags": []
   },
   "outputs": [
    {
     "data": {
      "text/plain": [
       "'projects/1026793852137/locations/us/transferConfigs/68140a3b-0000-2291-ba6d-582429a9dcf0/runs/67fb9329-0000-221a-8d9c-582429ae7924'"
      ]
     },
     "execution_count": 119,
     "metadata": {},
     "output_type": "execute_result"
    }
   ],
   "source": [
    "backfill_job.runs[0].name"
   ]
  },
  {
   "cell_type": "code",
   "execution_count": 120,
   "metadata": {
    "tags": []
   },
   "outputs": [
    {
     "data": {
      "text/plain": [
       "'RUNNING'"
      ]
     },
     "execution_count": 120,
     "metadata": {},
     "output_type": "execute_result"
    }
   ],
   "source": [
    "transfer_client.get_transfer_run(\n",
    "    name = backfill_job.runs[0].name\n",
    ").state.name"
   ]
  },
  {
   "cell_type": "markdown",
   "metadata": {},
   "source": [
    "**NOTE:** A State of 'FAILED' is actually the correct end state as the method of using SQL ERRORS to pass the results and trigger notification emails was used. A State of 'SUCCEEDED' will represent runs without an anomaly detected.  [Read more about TrasferState](https://cloud.google.com/python/docs/reference/bigquerydatatransfer/latest/google.cloud.bigquery_datatransfer_v1.types.TransferState)."
   ]
  },
  {
   "cell_type": "code",
   "execution_count": 121,
   "metadata": {
    "tags": []
   },
   "outputs": [],
   "source": [
    "while True:\n",
    "    state = transfer_client.get_transfer_run(\n",
    "        name = backfill_job.runs[0].name\n",
    "    ).state.name\n",
    "    if state in ['FAILED', 'SUCCEEDED', 'CANCELLED']:\n",
    "        break\n",
    "    else:\n",
    "        time.sleep(30)"
   ]
  },
  {
   "cell_type": "code",
   "execution_count": 122,
   "metadata": {
    "tags": []
   },
   "outputs": [],
   "source": [
    "backfill_jobs =[backfill_job]"
   ]
  },
  {
   "cell_type": "code",
   "execution_count": null,
   "metadata": {
    "tags": []
   },
   "outputs": [
    {
     "name": "stdout",
     "output_type": "stream",
     "text": [
      "2025-02-28 21:15:10.710901+00:00\n",
      "2025-03-01 21:20:12.400312+00:00\n",
      "2025-03-02 21:26:34.256895+00:00\n",
      "2025-03-03 21:31:35.791874+00:00\n",
      "2025-03-04 21:36:37.447887+00:00\n",
      "2025-03-05 21:44:09.776405+00:00\n",
      "2025-03-06 21:50:31.995849+00:00\n",
      "2025-03-07 21:51:52.522066+00:00\n",
      "2025-03-08 21:59:25.017400+00:00\n",
      "2025-03-09 22:00:45.512280+00:00\n",
      "2025-03-10 22:08:17.841070+00:00\n",
      "2025-03-11 22:09:38.362176+00:00\n",
      "2025-03-12 22:10:58.865993+00:00\n",
      "2025-03-13 22:18:31.148008+00:00\n",
      "2025-03-14 22:19:51.601403+00:00\n",
      "2025-03-15 22:21:12.114535+00:00\n",
      "2025-03-16 22:28:44.346179+00:00\n",
      "2025-03-17 22:30:04.921087+00:00\n",
      "2025-03-18 22:31:25.456197+00:00\n",
      "2025-03-19 22:32:45.992462+00:00\n",
      "2025-03-20 22:39:07.872681+00:00\n",
      "2025-03-21 22:40:28.417932+00:00\n",
      "2025-03-22 22:41:48.932909+00:00\n",
      "2025-03-23 22:43:09.472809+00:00\n",
      "2025-03-24 22:44:29.965168+00:00\n",
      "2025-03-25 22:45:50.467632+00:00\n",
      "2025-03-26 22:53:22.683703+00:00\n",
      "2025-03-27 22:54:43.213128+00:00\n",
      "2025-03-28 22:56:03.725522+00:00\n",
      "2025-03-29 22:57:24.217181+00:00\n"
     ]
    }
   ],
   "source": [
    "# Loop From -29 to -0 days\n",
    "for days in range(30)[::-1]:\n",
    "    start_time = datetime.now(timezone.utc) + timedelta(days = -1*days)\n",
    "    print(start_time)\n",
    "    # start job\n",
    "    backfill_jobs.append(\n",
    "        transfer_client.start_manual_transfer_runs(\n",
    "            request = bigquery_datatransfer.StartManualTransferRunsRequest(\n",
    "                parent = scheduled_query.name,\n",
    "                requested_run_time = start_time \n",
    "            )\n",
    "        )\n",
    "    )\n",
    "    # monitor job before continuing:\n",
    "    while True:\n",
    "        state = transfer_client.get_transfer_run(\n",
    "            name = backfill_jobs[-1].runs[0].name\n",
    "        ).state.name\n",
    "        if state in ['FAILED', 'SUCCEEDED', 'CANCELLED']:\n",
    "            break\n",
    "        else:\n",
    "            time.sleep(10)    "
   ]
  },
  {
   "cell_type": "code",
   "execution_count": null,
   "metadata": {
    "tags": []
   },
   "outputs": [],
   "source": [
    "backfill_results = [transfer_client.get_transfer_run(name = j.runs[0].name) for j in backfill_jobs]"
   ]
  },
  {
   "cell_type": "code",
   "execution_count": null,
   "metadata": {
    "tags": []
   },
   "outputs": [
    {
     "data": {
      "text/html": [
       "<style type=\"text/css\">\n",
       "#T_cdb11_row0_col0, #T_cdb11_row0_col1, #T_cdb11_row1_col0, #T_cdb11_row1_col1, #T_cdb11_row2_col0, #T_cdb11_row2_col1, #T_cdb11_row3_col0, #T_cdb11_row3_col1, #T_cdb11_row4_col0, #T_cdb11_row4_col1, #T_cdb11_row5_col0, #T_cdb11_row5_col1, #T_cdb11_row6_col0, #T_cdb11_row6_col1, #T_cdb11_row7_col0, #T_cdb11_row7_col1, #T_cdb11_row8_col0, #T_cdb11_row8_col1, #T_cdb11_row9_col0, #T_cdb11_row9_col1, #T_cdb11_row10_col0, #T_cdb11_row10_col1, #T_cdb11_row11_col0, #T_cdb11_row11_col1, #T_cdb11_row12_col0, #T_cdb11_row12_col1, #T_cdb11_row13_col0, #T_cdb11_row13_col1, #T_cdb11_row14_col0, #T_cdb11_row14_col1, #T_cdb11_row15_col0, #T_cdb11_row15_col1, #T_cdb11_row16_col0, #T_cdb11_row16_col1, #T_cdb11_row17_col0, #T_cdb11_row17_col1, #T_cdb11_row18_col0, #T_cdb11_row18_col1, #T_cdb11_row19_col0, #T_cdb11_row19_col1, #T_cdb11_row20_col0, #T_cdb11_row20_col1, #T_cdb11_row21_col0, #T_cdb11_row21_col1, #T_cdb11_row22_col0, #T_cdb11_row22_col1, #T_cdb11_row23_col0, #T_cdb11_row23_col1, #T_cdb11_row24_col0, #T_cdb11_row24_col1, #T_cdb11_row25_col0, #T_cdb11_row25_col1, #T_cdb11_row26_col0, #T_cdb11_row26_col1, #T_cdb11_row27_col0, #T_cdb11_row27_col1, #T_cdb11_row28_col0, #T_cdb11_row28_col1, #T_cdb11_row29_col0, #T_cdb11_row29_col1, #T_cdb11_row30_col0, #T_cdb11_row30_col1 {\n",
       "  text-align: left;\n",
       "  white-space: pre-wrap;\n",
       "}\n",
       "</style>\n",
       "<table id=\"T_cdb11\">\n",
       "  <thead>\n",
       "    <tr>\n",
       "      <th class=\"blank level0\" >&nbsp;</th>\n",
       "      <th id=\"T_cdb11_level0_col0\" class=\"col_heading level0 col0\" >Date</th>\n",
       "      <th id=\"T_cdb11_level0_col1\" class=\"col_heading level0 col1\" >Result</th>\n",
       "    </tr>\n",
       "  </thead>\n",
       "  <tbody>\n",
       "    <tr>\n",
       "      <th id=\"T_cdb11_level0_row0\" class=\"row_heading level0 row0\" >0</th>\n",
       "      <td id=\"T_cdb11_row0_col0\" class=\"data row0 col0\" >2025-02-27 21:01:12.653421+00:00</td>\n",
       "      <td id=\"T_cdb11_row0_col1\" class=\"data row0 col1\" >Query error: \n",
       "\n",
       "Monitoring Report for 2025-02-27:\n",
       "\t\n",
       "\tDrift: not detected.\n",
       "\t\n",
       "\tSkew: detected in the following features\n",
       "\t\tflipper_length_mm: https://console.cloud.google.com/vertex-ai/model-monitoring/locations/us-central1/model-monitors/bq1685665447038143025/model-monitoring-jobs/bqjob6734464005686243464/feature-drift?project=statmike-mlops-349915&featureName=flipper_length_mm\n",
       "\n",
       "The Model was retrained:\n",
       "\taccuracy of prior model: 0.99508599508599516\n",
       "\trecent accuracy of prior model: 0.98719918074756774\n",
       "\taccuracy after retraining: 0.98739495798319332\n",
       "\n",
       " at [158:9]; JobID: 1026793852137:scheduled_query_67fb9329-0000-221a-8d9c-582429ae7924</td>\n",
       "    </tr>\n",
       "    <tr>\n",
       "      <th id=\"T_cdb11_level0_row1\" class=\"row_heading level0 row1\" >1</th>\n",
       "      <td id=\"T_cdb11_row1_col0\" class=\"data row1 col0\" >2025-02-28 21:15:10.710901+00:00</td>\n",
       "      <td id=\"T_cdb11_row1_col1\" class=\"data row1 col1\" >Query error: \n",
       "\n",
       "Monitoring Report for 2025-02-28:\n",
       "\t\n",
       "\tDrift: not detected.\n",
       "\t\n",
       "\tSkew: detected in the following features\n",
       "\t\tflipper_length_mm: https://console.cloud.google.com/vertex-ai/model-monitoring/locations/us-central1/model-monitors/bq10279615969782308575/model-monitoring-jobs/bqjob1460463815331867308/feature-drift?project=statmike-mlops-349915&featureName=flipper_length_mm\n",
       "\n",
       "The Model was retrained:\n",
       "\taccuracy of prior model: 0.98739495798319332\n",
       "\trecent accuracy of prior model: 0.978494623655914\n",
       "\taccuracy after retraining: 0.99335548172757471\n",
       "\n",
       " at [158:9]; JobID: 1026793852137:scheduled_query_681f9161-0000-2130-ae65-582429cb4de8</td>\n",
       "    </tr>\n",
       "    <tr>\n",
       "      <th id=\"T_cdb11_level0_row2\" class=\"row_heading level0 row2\" >2</th>\n",
       "      <td id=\"T_cdb11_row2_col0\" class=\"data row2 col0\" >2025-03-01 21:20:12.400312+00:00</td>\n",
       "      <td id=\"T_cdb11_row2_col1\" class=\"data row2 col1\" >Query error: \n",
       "\n",
       "Monitoring Report for 2025-03-01:\n",
       "\t\n",
       "\tDrift: not detected.\n",
       "\t\n",
       "\tSkew: detected in the following features\n",
       "\t\tflipper_length_mm: https://console.cloud.google.com/vertex-ai/model-monitoring/locations/us-central1/model-monitors/bq11905718902633377704/model-monitoring-jobs/bqjob14715079232475597648/feature-drift?project=statmike-mlops-349915&featureName=flipper_length_mm\n",
       "\n",
       "The Model was retrained:\n",
       "\taccuracy of prior model: 0.99335548172757471\n",
       "\trecent accuracy of prior model: 0.980542754736303\n",
       "\taccuracy after retraining: 0.99175824175824179\n",
       "\n",
       " at [158:9]; JobID: 1026793852137:scheduled_query_67f4265e-0000-2e8b-b985-582429a7f754</td>\n",
       "    </tr>\n",
       "    <tr>\n",
       "      <th id=\"T_cdb11_level0_row3\" class=\"row_heading level0 row3\" >3</th>\n",
       "      <td id=\"T_cdb11_row3_col0\" class=\"data row3 col0\" >2025-03-02 21:26:34.256895+00:00</td>\n",
       "      <td id=\"T_cdb11_row3_col1\" class=\"data row3 col1\" >Query error: \n",
       "\n",
       "Monitoring Report for 2025-03-02:\n",
       "\t\n",
       "\tDrift: not detected.\n",
       "\t\n",
       "\tSkew: detected in the following features\n",
       "\t\tflipper_length_mm: https://console.cloud.google.com/vertex-ai/model-monitoring/locations/us-central1/model-monitors/bq17937728384583825844/model-monitoring-jobs/bqjob4782564139268943951/feature-drift?project=statmike-mlops-349915&featureName=flipper_length_mm\n",
       "\n",
       "The Model was retrained:\n",
       "\taccuracy of prior model: 0.99175824175824179\n",
       "\trecent accuracy of prior model: 0.982078853046595\n",
       "\taccuracy after retraining: 0.99531615925058547\n",
       "\n",
       " at [158:9]; JobID: 1026793852137:scheduled_query_67ff6382-0000-2b02-9e98-582429ad2dc0</td>\n",
       "    </tr>\n",
       "    <tr>\n",
       "      <th id=\"T_cdb11_level0_row4\" class=\"row_heading level0 row4\" >4</th>\n",
       "      <td id=\"T_cdb11_row4_col0\" class=\"data row4 col0\" >2025-03-03 21:31:35.791874+00:00</td>\n",
       "      <td id=\"T_cdb11_row4_col1\" class=\"data row4 col1\" >Query error: \n",
       "\n",
       "Monitoring Report for 2025-03-03:\n",
       "\t\n",
       "\tDrift: not detected.\n",
       "\t\n",
       "\tSkew: detected in the following features\n",
       "\t\tflipper_length_mm: https://console.cloud.google.com/vertex-ai/model-monitoring/locations/us-central1/model-monitors/bq2538764554387408295/model-monitoring-jobs/bqjob12856528691804472519/feature-drift?project=statmike-mlops-349915&featureName=flipper_length_mm\n",
       "\n",
       "The Model was retrained:\n",
       "\taccuracy of prior model: 0.99531615925058547\n",
       "\trecent accuracy of prior model: 0.98668714797747059\n",
       "\taccuracy after retraining: 0.99591836734693873\n",
       "\n",
       " at [158:9]; JobID: 1026793852137:scheduled_query_68076a7b-0000-2358-bee3-582429a8d114</td>\n",
       "    </tr>\n",
       "    <tr>\n",
       "      <th id=\"T_cdb11_level0_row5\" class=\"row_heading level0 row5\" >5</th>\n",
       "      <td id=\"T_cdb11_row5_col0\" class=\"data row5 col0\" >2025-03-04 21:36:37.447887+00:00</td>\n",
       "      <td id=\"T_cdb11_row5_col1\" class=\"data row5 col1\" >Query error: \n",
       "\n",
       "Monitoring Report for 2025-03-04:\n",
       "\t\n",
       "\tDrift: not detected.\n",
       "\t\n",
       "\tSkew: detected in the following features\n",
       "\t\tflipper_length_mm: https://console.cloud.google.com/vertex-ai/model-monitoring/locations/us-central1/model-monitors/bq11436235298655308667/model-monitoring-jobs/bqjob379924003491127229/feature-drift?project=statmike-mlops-349915&featureName=flipper_length_mm\n",
       "\n",
       "The Model was retrained:\n",
       "\taccuracy of prior model: 0.99591836734693873\n",
       "\trecent accuracy of prior model: 0.99692780337941622\n",
       "\taccuracy after retraining: 0.99029126213592233\n",
       "\n",
       " at [158:9]; JobID: 1026793852137:scheduled_query_68077765-0000-2358-bee3-582429a8d114</td>\n",
       "    </tr>\n",
       "    <tr>\n",
       "      <th id=\"T_cdb11_level0_row6\" class=\"row_heading level0 row6\" >6</th>\n",
       "      <td id=\"T_cdb11_row6_col0\" class=\"data row6 col0\" >2025-03-05 21:44:09.776405+00:00</td>\n",
       "      <td id=\"T_cdb11_row6_col1\" class=\"data row6 col1\" >Query error: \n",
       "\n",
       "Monitoring Report for 2025-03-05:\n",
       "\t\n",
       "\tDrift: not detected.\n",
       "\t\n",
       "\tSkew: detected in the following features\n",
       "\t\tflipper_length_mm: https://console.cloud.google.com/vertex-ai/model-monitoring/locations/us-central1/model-monitors/bq15176095508556475599/model-monitoring-jobs/bqjob18005896540809779975/feature-drift?project=statmike-mlops-349915&featureName=flipper_length_mm\n",
       "\n",
       "The Model was retrained:\n",
       "\taccuracy of prior model: 0.99029126213592233\n",
       "\trecent accuracy of prior model: 0.99692780337941622\n",
       "\taccuracy after retraining: 0.99137931034482762\n",
       "\n",
       " at [158:9]; JobID: 1026793852137:scheduled_query_67f6ad08-0000-29e0-b54c-d43a2cfc41e7</td>\n",
       "    </tr>\n",
       "    <tr>\n",
       "      <th id=\"T_cdb11_level0_row7\" class=\"row_heading level0 row7\" >7</th>\n",
       "      <td id=\"T_cdb11_row7_col0\" class=\"data row7 col0\" >2025-03-06 21:50:31.995849+00:00</td>\n",
       "      <td id=\"T_cdb11_row7_col1\" class=\"data row7 col1\" ></td>\n",
       "    </tr>\n",
       "    <tr>\n",
       "      <th id=\"T_cdb11_level0_row8\" class=\"row_heading level0 row8\" >8</th>\n",
       "      <td id=\"T_cdb11_row8_col0\" class=\"data row8 col0\" >2025-03-07 21:51:52.522066+00:00</td>\n",
       "      <td id=\"T_cdb11_row8_col1\" class=\"data row8 col1\" >Query error: \n",
       "\n",
       "Monitoring Report for 2025-03-07:\n",
       "\t\n",
       "\tDrift: not detected.\n",
       "\t\n",
       "\tSkew: detected in the following features\n",
       "\t\tflipper_length_mm: https://console.cloud.google.com/vertex-ai/model-monitoring/locations/us-central1/model-monitors/bq4292659032663516488/model-monitoring-jobs/bqjob13292285533170974554/feature-drift?project=statmike-mlops-349915&featureName=flipper_length_mm\n",
       "\n",
       "The Model was retrained:\n",
       "\taccuracy of prior model: 0.99137931034482762\n",
       "\trecent accuracy of prior model: 0.99682539682539684\n",
       "\taccuracy after retraining: 0.993006993006993\n",
       "\n",
       " at [158:9]; JobID: 1026793852137:scheduled_query_67f434eb-0000-250f-b13d-582429a849c0</td>\n",
       "    </tr>\n",
       "    <tr>\n",
       "      <th id=\"T_cdb11_level0_row9\" class=\"row_heading level0 row9\" >9</th>\n",
       "      <td id=\"T_cdb11_row9_col0\" class=\"data row9 col0\" >2025-03-08 21:59:25.017400+00:00</td>\n",
       "      <td id=\"T_cdb11_row9_col1\" class=\"data row9 col1\" ></td>\n",
       "    </tr>\n",
       "    <tr>\n",
       "      <th id=\"T_cdb11_level0_row10\" class=\"row_heading level0 row10\" >10</th>\n",
       "      <td id=\"T_cdb11_row10_col0\" class=\"data row10 col0\" >2025-03-09 22:00:45.512280+00:00</td>\n",
       "      <td id=\"T_cdb11_row10_col1\" class=\"data row10 col1\" >Query error: \n",
       "\n",
       "Monitoring Report for 2025-03-09:\n",
       "\t\n",
       "\tDrift: not detected.\n",
       "\t\n",
       "\tSkew: detected in the following features\n",
       "\t\tflipper_length_mm: https://console.cloud.google.com/vertex-ai/model-monitoring/locations/us-central1/model-monitors/bq4621849741371898131/model-monitoring-jobs/bqjob11998227190894484028/feature-drift?project=statmike-mlops-349915&featureName=flipper_length_mm\n",
       "\n",
       "The Model was retrained:\n",
       "\taccuracy of prior model: 0.993006993006993\n",
       "\trecent accuracy of prior model: 1\n",
       "\taccuracy after retraining: 0.99404761904761907\n",
       "\n",
       " at [158:9]; JobID: 1026793852137:scheduled_query_6802e0c0-0000-2a14-b44d-240588800294</td>\n",
       "    </tr>\n",
       "    <tr>\n",
       "      <th id=\"T_cdb11_level0_row11\" class=\"row_heading level0 row11\" >11</th>\n",
       "      <td id=\"T_cdb11_row11_col0\" class=\"data row11 col0\" >2025-03-10 22:08:17.841070+00:00</td>\n",
       "      <td id=\"T_cdb11_row11_col1\" class=\"data row11 col1\" ></td>\n",
       "    </tr>\n",
       "    <tr>\n",
       "      <th id=\"T_cdb11_level0_row12\" class=\"row_heading level0 row12\" >12</th>\n",
       "      <td id=\"T_cdb11_row12_col0\" class=\"data row12 col0\" >2025-03-11 22:09:38.362176+00:00</td>\n",
       "      <td id=\"T_cdb11_row12_col1\" class=\"data row12 col1\" ></td>\n",
       "    </tr>\n",
       "    <tr>\n",
       "      <th id=\"T_cdb11_level0_row13\" class=\"row_heading level0 row13\" >13</th>\n",
       "      <td id=\"T_cdb11_row13_col0\" class=\"data row13 col0\" >2025-03-12 22:10:58.865993+00:00</td>\n",
       "      <td id=\"T_cdb11_row13_col1\" class=\"data row13 col1\" >Query error: \n",
       "\n",
       "Monitoring Report for 2025-03-12:\n",
       "\t\n",
       "\tDrift: not detected.\n",
       "\t\n",
       "\tSkew: detected in the following features\n",
       "\t\tflipper_length_mm: https://console.cloud.google.com/vertex-ai/model-monitoring/locations/us-central1/model-monitors/bq5087474876090388882/model-monitoring-jobs/bqjob18355736066995603402/feature-drift?project=statmike-mlops-349915&featureName=flipper_length_mm\n",
       "\n",
       "The Model was retrained:\n",
       "\taccuracy of prior model: 0.99404761904761907\n",
       "\trecent accuracy of prior model: 0.99619047619047618\n",
       "\taccuracy after retraining: 0.99530516431924887\n",
       "\n",
       " at [158:9]; JobID: 1026793852137:scheduled_query_67f4adb1-0000-2674-93f0-582429b00d08</td>\n",
       "    </tr>\n",
       "    <tr>\n",
       "      <th id=\"T_cdb11_level0_row14\" class=\"row_heading level0 row14\" >14</th>\n",
       "      <td id=\"T_cdb11_row14_col0\" class=\"data row14 col0\" >2025-03-13 22:18:31.148008+00:00</td>\n",
       "      <td id=\"T_cdb11_row14_col1\" class=\"data row14 col1\" ></td>\n",
       "    </tr>\n",
       "    <tr>\n",
       "      <th id=\"T_cdb11_level0_row15\" class=\"row_heading level0 row15\" >15</th>\n",
       "      <td id=\"T_cdb11_row15_col0\" class=\"data row15 col0\" >2025-03-14 22:19:51.601403+00:00</td>\n",
       "      <td id=\"T_cdb11_row15_col1\" class=\"data row15 col1\" ></td>\n",
       "    </tr>\n",
       "    <tr>\n",
       "      <th id=\"T_cdb11_level0_row16\" class=\"row_heading level0 row16\" >16</th>\n",
       "      <td id=\"T_cdb11_row16_col0\" class=\"data row16 col0\" >2025-03-15 22:21:12.114535+00:00</td>\n",
       "      <td id=\"T_cdb11_row16_col1\" class=\"data row16 col1\" >Query error: \n",
       "\n",
       "Monitoring Report for 2025-03-15:\n",
       "\t\n",
       "\tDrift: not detected.\n",
       "\t\n",
       "\tSkew: detected in the following features\n",
       "\t\tflipper_length_mm: https://console.cloud.google.com/vertex-ai/model-monitoring/locations/us-central1/model-monitors/bq8645873266573836014/model-monitoring-jobs/bqjob517362341279668773/feature-drift?project=statmike-mlops-349915&featureName=flipper_length_mm\n",
       "\n",
       "The Model was retrained:\n",
       "\taccuracy of prior model: 0.99530516431924887\n",
       "\trecent accuracy of prior model: 0.99567099567099571\n",
       "\taccuracy after retraining: 0.99601593625498008\n",
       "\n",
       " at [158:9]; JobID: 1026793852137:scheduled_query_67f9b6c0-0000-2cb8-93b8-582429acbdf8</td>\n",
       "    </tr>\n",
       "    <tr>\n",
       "      <th id=\"T_cdb11_level0_row17\" class=\"row_heading level0 row17\" >17</th>\n",
       "      <td id=\"T_cdb11_row17_col0\" class=\"data row17 col0\" >2025-03-16 22:28:44.346179+00:00</td>\n",
       "      <td id=\"T_cdb11_row17_col1\" class=\"data row17 col1\" ></td>\n",
       "    </tr>\n",
       "    <tr>\n",
       "      <th id=\"T_cdb11_level0_row18\" class=\"row_heading level0 row18\" >18</th>\n",
       "      <td id=\"T_cdb11_row18_col0\" class=\"data row18 col0\" >2025-03-17 22:30:04.921087+00:00</td>\n",
       "      <td id=\"T_cdb11_row18_col1\" class=\"data row18 col1\" ></td>\n",
       "    </tr>\n",
       "    <tr>\n",
       "      <th id=\"T_cdb11_level0_row19\" class=\"row_heading level0 row19\" >19</th>\n",
       "      <td id=\"T_cdb11_row19_col0\" class=\"data row19 col0\" >2025-03-18 22:31:25.456197+00:00</td>\n",
       "      <td id=\"T_cdb11_row19_col1\" class=\"data row19 col1\" ></td>\n",
       "    </tr>\n",
       "    <tr>\n",
       "      <th id=\"T_cdb11_level0_row20\" class=\"row_heading level0 row20\" >20</th>\n",
       "      <td id=\"T_cdb11_row20_col0\" class=\"data row20 col0\" >2025-03-19 22:32:45.992462+00:00</td>\n",
       "      <td id=\"T_cdb11_row20_col1\" class=\"data row20 col1\" >Query error: \n",
       "\n",
       "Monitoring Report for 2025-03-19:\n",
       "\t\n",
       "\tDrift: not detected.\n",
       "\t\n",
       "\tSkew: detected in the following features\n",
       "\t\tflipper_length_mm: https://console.cloud.google.com/vertex-ai/model-monitoring/locations/us-central1/model-monitors/bq14831921298667574980/model-monitoring-jobs/bqjob7441305476366881969/feature-drift?project=statmike-mlops-349915&featureName=flipper_length_mm\n",
       "\n",
       "The Model was retrained:\n",
       "\taccuracy of prior model: 0.99601593625498008\n",
       "\trecent accuracy of prior model: 1\n",
       "\taccuracy after retraining: 0.99672131147540988\n",
       "\n",
       " at [158:9]; JobID: 1026793852137:scheduled_query_67f49621-0000-2e8b-b985-582429a7f754</td>\n",
       "    </tr>\n",
       "    <tr>\n",
       "      <th id=\"T_cdb11_level0_row21\" class=\"row_heading level0 row21\" >21</th>\n",
       "      <td id=\"T_cdb11_row21_col0\" class=\"data row21 col0\" >2025-03-20 22:39:07.872681+00:00</td>\n",
       "      <td id=\"T_cdb11_row21_col1\" class=\"data row21 col1\" ></td>\n",
       "    </tr>\n",
       "    <tr>\n",
       "      <th id=\"T_cdb11_level0_row22\" class=\"row_heading level0 row22\" >22</th>\n",
       "      <td id=\"T_cdb11_row22_col0\" class=\"data row22 col0\" >2025-03-21 22:40:28.417932+00:00</td>\n",
       "      <td id=\"T_cdb11_row22_col1\" class=\"data row22 col1\" ></td>\n",
       "    </tr>\n",
       "    <tr>\n",
       "      <th id=\"T_cdb11_level0_row23\" class=\"row_heading level0 row23\" >23</th>\n",
       "      <td id=\"T_cdb11_row23_col0\" class=\"data row23 col0\" >2025-03-22 22:41:48.932909+00:00</td>\n",
       "      <td id=\"T_cdb11_row23_col1\" class=\"data row23 col1\" ></td>\n",
       "    </tr>\n",
       "    <tr>\n",
       "      <th id=\"T_cdb11_level0_row24\" class=\"row_heading level0 row24\" >24</th>\n",
       "      <td id=\"T_cdb11_row24_col0\" class=\"data row24 col0\" >2025-03-23 22:43:09.472809+00:00</td>\n",
       "      <td id=\"T_cdb11_row24_col1\" class=\"data row24 col1\" ></td>\n",
       "    </tr>\n",
       "    <tr>\n",
       "      <th id=\"T_cdb11_level0_row25\" class=\"row_heading level0 row25\" >25</th>\n",
       "      <td id=\"T_cdb11_row25_col0\" class=\"data row25 col0\" >2025-03-24 22:44:29.965168+00:00</td>\n",
       "      <td id=\"T_cdb11_row25_col1\" class=\"data row25 col1\" ></td>\n",
       "    </tr>\n",
       "    <tr>\n",
       "      <th id=\"T_cdb11_level0_row26\" class=\"row_heading level0 row26\" >26</th>\n",
       "      <td id=\"T_cdb11_row26_col0\" class=\"data row26 col0\" >2025-03-25 22:45:50.467632+00:00</td>\n",
       "      <td id=\"T_cdb11_row26_col1\" class=\"data row26 col1\" >Query error: \n",
       "\n",
       "Monitoring Report for 2025-03-25:\n",
       "\t\n",
       "\tDrift: not detected.\n",
       "\t\n",
       "\tSkew: detected in the following features\n",
       "\t\tflipper_length_mm: https://console.cloud.google.com/vertex-ai/model-monitoring/locations/us-central1/model-monitors/bq482875072721086427/model-monitoring-jobs/bqjob11224759678346267885/feature-drift?project=statmike-mlops-349915&featureName=flipper_length_mm\n",
       "\n",
       "The Model was retrained:\n",
       "\taccuracy of prior model: 0.99672131147540988\n",
       "\trecent accuracy of prior model: 0.99206349206349209\n",
       "\taccuracy after retraining: 0.99734748010610086\n",
       "\n",
       " at [158:9]; JobID: 1026793852137:scheduled_query_67f4bd2d-0000-250f-b13d-582429a849c0</td>\n",
       "    </tr>\n",
       "    <tr>\n",
       "      <th id=\"T_cdb11_level0_row27\" class=\"row_heading level0 row27\" >27</th>\n",
       "      <td id=\"T_cdb11_row27_col0\" class=\"data row27 col0\" >2025-03-26 22:53:22.683703+00:00</td>\n",
       "      <td id=\"T_cdb11_row27_col1\" class=\"data row27 col1\" ></td>\n",
       "    </tr>\n",
       "    <tr>\n",
       "      <th id=\"T_cdb11_level0_row28\" class=\"row_heading level0 row28\" >28</th>\n",
       "      <td id=\"T_cdb11_row28_col0\" class=\"data row28 col0\" >2025-03-27 22:54:43.213128+00:00</td>\n",
       "      <td id=\"T_cdb11_row28_col1\" class=\"data row28 col1\" ></td>\n",
       "    </tr>\n",
       "    <tr>\n",
       "      <th id=\"T_cdb11_level0_row29\" class=\"row_heading level0 row29\" >29</th>\n",
       "      <td id=\"T_cdb11_row29_col0\" class=\"data row29 col0\" >2025-03-28 22:56:03.725522+00:00</td>\n",
       "      <td id=\"T_cdb11_row29_col1\" class=\"data row29 col1\" ></td>\n",
       "    </tr>\n",
       "    <tr>\n",
       "      <th id=\"T_cdb11_level0_row30\" class=\"row_heading level0 row30\" >30</th>\n",
       "      <td id=\"T_cdb11_row30_col0\" class=\"data row30 col0\" >2025-03-29 22:57:24.217181+00:00</td>\n",
       "      <td id=\"T_cdb11_row30_col1\" class=\"data row30 col1\" ></td>\n",
       "    </tr>\n",
       "  </tbody>\n",
       "</table>\n"
      ],
      "text/plain": [
       "<pandas.io.formats.style.Styler at 0x7f333ede3c70>"
      ]
     },
     "execution_count": 125,
     "metadata": {},
     "output_type": "execute_result"
    }
   ],
   "source": [
    "pd.DataFrame(\n",
    "    {\n",
    "        'Date':[r.run_time for r in backfill_results],\n",
    "        'Result':[r.error_status.message for r in backfill_results]\n",
    "    }\n",
    ").style.set_properties(**{'text-align': 'left', 'white-space': 'pre-wrap'})"
   ]
  },
  {
   "cell_type": "markdown",
   "metadata": {},
   "source": [
    "---\n",
    "## More Resources\n",
    "\n",
    "Did you also check out the ['BigQuery ML (BQML) - Model Monitoring Introduction'](./bqml-model-monitoring-introduction.ipynb) for quick overview of model monitoring with BigQuery?  If not, try it out also. \n",
    "\n",
    "Read more about model monitoring in the documentation for the model monitoring functions:\n",
    "* [BigQuery ML Documentation](https://cloud.google.com/bigquery-ml/docs/)\n",
    "* [BigQuery ML Model Monitoring](https://cloud.google.com/bigquery/docs/model-monitoring-overview)\n",
    "    - [`ML.DESCRIBE_DATA`](https://cloud.google.com/bigquery/docs/reference/standard-sql/bigqueryml-syntax-describe-data)\n",
    "    - [`ML.VALIDATE_DATA_SKEW`](https://cloud.google.com/bigquery/docs/reference/standard-sql/bigqueryml-syntax-validate-data-skew)\n",
    "    - [`ML.VALIDATE_DATA_DRIFT`](https://cloud.google.com/bigquery/docs/reference/standard-sql/bigqueryml-syntax-validate-data-drift)\n",
    "    - [`ML.TFDV_DESCRIBE`](https://cloud.google.com/bigquery/docs/reference/standard-sql/bigqueryml-syntax-tfdv-describe)\n",
    "    - [`ML.TFDV_VALIDATE`](https://cloud.google.com/bigquery/docs/reference/standard-sql/bigqueryml-syntax-tfdv-validate)"
   ]
  },
  {
   "cell_type": "markdown",
   "metadata": {},
   "source": [
    "---\n",
    "## Remove Resources Created In This Notebook\n",
    "\n",
    "The content is contained within the BigQuery dataset named `bqml_model_monitoring` created above and Vertex AI (endpoint created above).\n",
    "\n",
    "The following will delete the Vertex AI and BigQuery resources created above and the BigQuery dataset if it is empty."
   ]
  },
  {
   "cell_type": "code",
   "execution_count": 128,
   "metadata": {
    "tags": []
   },
   "outputs": [],
   "source": [
    "# to remove resources change this flag to True:\n",
    "remove = False"
   ]
  },
  {
   "cell_type": "code",
   "execution_count": 129,
   "metadata": {},
   "outputs": [],
   "source": [
    "if remove:\n",
    "    # client for BigQuery\n",
    "    from google.cloud import bigquery\n",
    "    bq = bigquery.Client(project = 'statmike-mlops-349915')\n",
    "    \n",
    "    # delete BigQuery table(s) and model(s) created above\n",
    "    bq.delete_table('statmike-mlops-349915.bqml_model_monitoring.training_split')\n",
    "    bq.delete_table('statmike-mlops-349915.bqml_model_monitoring.serving')\n",
    "    bq.delete_table('statmike-mlops-349915.bqml_model_monitoring.serving_online')\n",
    "    bq.delete_table('statmike-mlops-349915.bqml_model_monitoring.serving_all')\n",
    "    bq.delete_model('statmike-mlops-349915.bqml_model_monitoring.classify_species_rf')\n",
    "    \n",
    "    # delete BigQuery dataset - fails if other content was in the dataset than what this notebook created\n",
    "    bq.delete_dataset('statmike-mlops-349915.bqml_model_monitoring', delete_contents = False)\n",
    "    \n",
    "    # delete the scheduled query\n",
    "    transfer_client.delete_transfer_config(\n",
    "        name = scheduled_query.name\n",
    "    )"
   ]
  },
  {
   "cell_type": "code",
   "execution_count": null,
   "metadata": {},
   "outputs": [],
   "source": []
  }
 ],
 "metadata": {
  "colab": {
   "authorship_tag": "ABX9TyMy6GbowZC6hovxyAVQ0UWd",
   "provenance": []
  },
  "environment": {
   "kernel": "conda-base-py",
   "name": "workbench-notebooks.m128",
   "type": "gcloud",
   "uri": "us-docker.pkg.dev/deeplearning-platform-release/gcr.io/workbench-notebooks:m128"
  },
  "kernelspec": {
   "display_name": "Python 3 (ipykernel) (Local)",
   "language": "python",
   "name": "conda-base-py"
  },
  "language_info": {
   "codemirror_mode": {
    "name": "ipython",
    "version": 3
   },
   "file_extension": ".py",
   "mimetype": "text/x-python",
   "name": "python",
   "nbconvert_exporter": "python",
   "pygments_lexer": "ipython3",
   "version": "3.10.16"
  },
  "widgets": {
   "application/vnd.jupyter.widget-state+json": {
    "1109199e5b67477788dcf20b48558d41": {
     "model_module": "@jupyter-widgets/controls",
     "model_module_version": "1.5.0",
     "model_name": "HBoxModel",
     "state": {
      "_dom_classes": [],
      "_model_module": "@jupyter-widgets/controls",
      "_model_module_version": "1.5.0",
      "_model_name": "HBoxModel",
      "_view_count": null,
      "_view_module": "@jupyter-widgets/controls",
      "_view_module_version": "1.5.0",
      "_view_name": "HBoxView",
      "box_style": "",
      "children": [
       "IPY_MODEL_93f32edfd72e4a29ac69d2e202d6e14c",
       "IPY_MODEL_3da40e23ffbd47db8d1a250292255c32",
       "IPY_MODEL_bbd5c7d0941a458dbaee866da7e5366f"
      ],
      "layout": "IPY_MODEL_e2e3c77141c04fa7885bf4b4c0e314f4"
     }
    },
    "16d1acd4a3e94cf9bc3d683ff7eb1125": {
     "model_module": "@jupyter-widgets/base",
     "model_module_version": "1.2.0",
     "model_name": "LayoutModel",
     "state": {
      "_model_module": "@jupyter-widgets/base",
      "_model_module_version": "1.2.0",
      "_model_name": "LayoutModel",
      "_view_count": null,
      "_view_module": "@jupyter-widgets/base",
      "_view_module_version": "1.2.0",
      "_view_name": "LayoutView",
      "align_content": null,
      "align_items": null,
      "align_self": null,
      "border": null,
      "bottom": null,
      "display": null,
      "flex": null,
      "flex_flow": null,
      "grid_area": null,
      "grid_auto_columns": null,
      "grid_auto_flow": null,
      "grid_auto_rows": null,
      "grid_column": null,
      "grid_gap": null,
      "grid_row": null,
      "grid_template_areas": null,
      "grid_template_columns": null,
      "grid_template_rows": null,
      "height": null,
      "justify_content": null,
      "justify_items": null,
      "left": null,
      "margin": null,
      "max_height": null,
      "max_width": null,
      "min_height": null,
      "min_width": null,
      "object_fit": null,
      "object_position": null,
      "order": null,
      "overflow": null,
      "overflow_x": null,
      "overflow_y": null,
      "padding": null,
      "right": null,
      "top": null,
      "visibility": null,
      "width": null
     }
    },
    "1b76a7321f1e482e92b6725f5d120700": {
     "model_module": "@jupyter-widgets/base",
     "model_module_version": "1.2.0",
     "model_name": "LayoutModel",
     "state": {
      "_model_module": "@jupyter-widgets/base",
      "_model_module_version": "1.2.0",
      "_model_name": "LayoutModel",
      "_view_count": null,
      "_view_module": "@jupyter-widgets/base",
      "_view_module_version": "1.2.0",
      "_view_name": "LayoutView",
      "align_content": null,
      "align_items": null,
      "align_self": null,
      "border": null,
      "bottom": null,
      "display": null,
      "flex": null,
      "flex_flow": null,
      "grid_area": null,
      "grid_auto_columns": null,
      "grid_auto_flow": null,
      "grid_auto_rows": null,
      "grid_column": null,
      "grid_gap": null,
      "grid_row": null,
      "grid_template_areas": null,
      "grid_template_columns": null,
      "grid_template_rows": null,
      "height": null,
      "justify_content": null,
      "justify_items": null,
      "left": null,
      "margin": null,
      "max_height": null,
      "max_width": null,
      "min_height": null,
      "min_width": null,
      "object_fit": null,
      "object_position": null,
      "order": null,
      "overflow": null,
      "overflow_x": null,
      "overflow_y": null,
      "padding": null,
      "right": null,
      "top": null,
      "visibility": null,
      "width": null
     }
    },
    "2d65e5a9073f4b65b95c2c629255cac1": {
     "model_module": "@jupyter-widgets/controls",
     "model_module_version": "1.5.0",
     "model_name": "DescriptionStyleModel",
     "state": {
      "_model_module": "@jupyter-widgets/controls",
      "_model_module_version": "1.5.0",
      "_model_name": "DescriptionStyleModel",
      "_view_count": null,
      "_view_module": "@jupyter-widgets/base",
      "_view_module_version": "1.2.0",
      "_view_name": "StyleView",
      "description_width": ""
     }
    },
    "39a8f6a0c95342299729b62b7a818084": {
     "model_module": "@jupyter-widgets/base",
     "model_module_version": "1.2.0",
     "model_name": "LayoutModel",
     "state": {
      "_model_module": "@jupyter-widgets/base",
      "_model_module_version": "1.2.0",
      "_model_name": "LayoutModel",
      "_view_count": null,
      "_view_module": "@jupyter-widgets/base",
      "_view_module_version": "1.2.0",
      "_view_name": "LayoutView",
      "align_content": null,
      "align_items": null,
      "align_self": null,
      "border": null,
      "bottom": null,
      "display": null,
      "flex": null,
      "flex_flow": null,
      "grid_area": null,
      "grid_auto_columns": null,
      "grid_auto_flow": null,
      "grid_auto_rows": null,
      "grid_column": null,
      "grid_gap": null,
      "grid_row": null,
      "grid_template_areas": null,
      "grid_template_columns": null,
      "grid_template_rows": null,
      "height": null,
      "justify_content": null,
      "justify_items": null,
      "left": null,
      "margin": null,
      "max_height": null,
      "max_width": null,
      "min_height": null,
      "min_width": null,
      "object_fit": null,
      "object_position": null,
      "order": null,
      "overflow": null,
      "overflow_x": null,
      "overflow_y": null,
      "padding": null,
      "right": null,
      "top": null,
      "visibility": null,
      "width": null
     }
    },
    "3acd5dce7d1b4a84b1b5540ec8d37ed3": {
     "model_module": "@jupyter-widgets/controls",
     "model_module_version": "1.5.0",
     "model_name": "ProgressStyleModel",
     "state": {
      "_model_module": "@jupyter-widgets/controls",
      "_model_module_version": "1.5.0",
      "_model_name": "ProgressStyleModel",
      "_view_count": null,
      "_view_module": "@jupyter-widgets/base",
      "_view_module_version": "1.2.0",
      "_view_name": "StyleView",
      "bar_color": null,
      "description_width": ""
     }
    },
    "3da40e23ffbd47db8d1a250292255c32": {
     "model_module": "@jupyter-widgets/controls",
     "model_module_version": "1.5.0",
     "model_name": "FloatProgressModel",
     "state": {
      "_dom_classes": [],
      "_model_module": "@jupyter-widgets/controls",
      "_model_module_version": "1.5.0",
      "_model_name": "FloatProgressModel",
      "_view_count": null,
      "_view_module": "@jupyter-widgets/controls",
      "_view_module_version": "1.5.0",
      "_view_name": "ProgressView",
      "bar_style": "success",
      "description": "",
      "description_tooltip": null,
      "layout": "IPY_MODEL_1b76a7321f1e482e92b6725f5d120700",
      "max": 5,
      "min": 0,
      "orientation": "horizontal",
      "style": "IPY_MODEL_6827ef49075d48a1bb2582fb7fd52389",
      "value": 5
     }
    },
    "441b987af9044d1f9326f906d0f1d218": {
     "model_module": "@jupyter-widgets/controls",
     "model_module_version": "1.5.0",
     "model_name": "DescriptionStyleModel",
     "state": {
      "_model_module": "@jupyter-widgets/controls",
      "_model_module_version": "1.5.0",
      "_model_name": "DescriptionStyleModel",
      "_view_count": null,
      "_view_module": "@jupyter-widgets/base",
      "_view_module_version": "1.2.0",
      "_view_name": "StyleView",
      "description_width": ""
     }
    },
    "48543e1564664f73b553a0ae5bfb0843": {
     "model_module": "@jupyter-widgets/base",
     "model_module_version": "1.2.0",
     "model_name": "LayoutModel",
     "state": {
      "_model_module": "@jupyter-widgets/base",
      "_model_module_version": "1.2.0",
      "_model_name": "LayoutModel",
      "_view_count": null,
      "_view_module": "@jupyter-widgets/base",
      "_view_module_version": "1.2.0",
      "_view_name": "LayoutView",
      "align_content": null,
      "align_items": null,
      "align_self": null,
      "border": null,
      "bottom": null,
      "display": null,
      "flex": null,
      "flex_flow": null,
      "grid_area": null,
      "grid_auto_columns": null,
      "grid_auto_flow": null,
      "grid_auto_rows": null,
      "grid_column": null,
      "grid_gap": null,
      "grid_row": null,
      "grid_template_areas": null,
      "grid_template_columns": null,
      "grid_template_rows": null,
      "height": null,
      "justify_content": null,
      "justify_items": null,
      "left": null,
      "margin": null,
      "max_height": null,
      "max_width": null,
      "min_height": null,
      "min_width": null,
      "object_fit": null,
      "object_position": null,
      "order": null,
      "overflow": null,
      "overflow_x": null,
      "overflow_y": null,
      "padding": null,
      "right": null,
      "top": null,
      "visibility": null,
      "width": null
     }
    },
    "4e5a11ea456d49a8bd7563e9b2c35511": {
     "model_module": "@jupyter-widgets/controls",
     "model_module_version": "1.5.0",
     "model_name": "DescriptionStyleModel",
     "state": {
      "_model_module": "@jupyter-widgets/controls",
      "_model_module_version": "1.5.0",
      "_model_name": "DescriptionStyleModel",
      "_view_count": null,
      "_view_module": "@jupyter-widgets/base",
      "_view_module_version": "1.2.0",
      "_view_name": "StyleView",
      "description_width": ""
     }
    },
    "543a939bbf684e49ad83771418dfdd09": {
     "model_module": "@jupyter-widgets/base",
     "model_module_version": "1.2.0",
     "model_name": "LayoutModel",
     "state": {
      "_model_module": "@jupyter-widgets/base",
      "_model_module_version": "1.2.0",
      "_model_name": "LayoutModel",
      "_view_count": null,
      "_view_module": "@jupyter-widgets/base",
      "_view_module_version": "1.2.0",
      "_view_name": "LayoutView",
      "align_content": null,
      "align_items": null,
      "align_self": null,
      "border": null,
      "bottom": null,
      "display": null,
      "flex": null,
      "flex_flow": null,
      "grid_area": null,
      "grid_auto_columns": null,
      "grid_auto_flow": null,
      "grid_auto_rows": null,
      "grid_column": null,
      "grid_gap": null,
      "grid_row": null,
      "grid_template_areas": null,
      "grid_template_columns": null,
      "grid_template_rows": null,
      "height": null,
      "justify_content": null,
      "justify_items": null,
      "left": null,
      "margin": null,
      "max_height": null,
      "max_width": null,
      "min_height": null,
      "min_width": null,
      "object_fit": null,
      "object_position": null,
      "order": null,
      "overflow": null,
      "overflow_x": null,
      "overflow_y": null,
      "padding": null,
      "right": null,
      "top": null,
      "visibility": null,
      "width": null
     }
    },
    "549c9135cfbe467ebc3a60d6ad5750e6": {
     "model_module": "@jupyter-widgets/controls",
     "model_module_version": "1.5.0",
     "model_name": "HTMLModel",
     "state": {
      "_dom_classes": [],
      "_model_module": "@jupyter-widgets/controls",
      "_model_module_version": "1.5.0",
      "_model_name": "HTMLModel",
      "_view_count": null,
      "_view_module": "@jupyter-widgets/controls",
      "_view_module_version": "1.5.0",
      "_view_name": "HTMLView",
      "description": "",
      "description_tooltip": null,
      "layout": "IPY_MODEL_e0194e91019f4661a01322bbda67ac18",
      "placeholder": "​",
      "style": "IPY_MODEL_6b0ff87e15fd4ff684355a521e0f7a1f",
      "value": ""
     }
    },
    "5805c14443ec4d3ebf24ea8dda735a99": {
     "model_module": "@jupyter-widgets/base",
     "model_module_version": "1.2.0",
     "model_name": "LayoutModel",
     "state": {
      "_model_module": "@jupyter-widgets/base",
      "_model_module_version": "1.2.0",
      "_model_name": "LayoutModel",
      "_view_count": null,
      "_view_module": "@jupyter-widgets/base",
      "_view_module_version": "1.2.0",
      "_view_name": "LayoutView",
      "align_content": null,
      "align_items": null,
      "align_self": null,
      "border": null,
      "bottom": null,
      "display": null,
      "flex": null,
      "flex_flow": null,
      "grid_area": null,
      "grid_auto_columns": null,
      "grid_auto_flow": null,
      "grid_auto_rows": null,
      "grid_column": null,
      "grid_gap": null,
      "grid_row": null,
      "grid_template_areas": null,
      "grid_template_columns": null,
      "grid_template_rows": null,
      "height": null,
      "justify_content": null,
      "justify_items": null,
      "left": null,
      "margin": null,
      "max_height": null,
      "max_width": null,
      "min_height": null,
      "min_width": null,
      "object_fit": null,
      "object_position": null,
      "order": null,
      "overflow": null,
      "overflow_x": null,
      "overflow_y": null,
      "padding": null,
      "right": null,
      "top": null,
      "visibility": null,
      "width": null
     }
    },
    "6827ef49075d48a1bb2582fb7fd52389": {
     "model_module": "@jupyter-widgets/controls",
     "model_module_version": "1.5.0",
     "model_name": "ProgressStyleModel",
     "state": {
      "_model_module": "@jupyter-widgets/controls",
      "_model_module_version": "1.5.0",
      "_model_name": "ProgressStyleModel",
      "_view_count": null,
      "_view_module": "@jupyter-widgets/base",
      "_view_module_version": "1.2.0",
      "_view_name": "StyleView",
      "bar_color": null,
      "description_width": ""
     }
    },
    "6b0ff87e15fd4ff684355a521e0f7a1f": {
     "model_module": "@jupyter-widgets/controls",
     "model_module_version": "1.5.0",
     "model_name": "DescriptionStyleModel",
     "state": {
      "_model_module": "@jupyter-widgets/controls",
      "_model_module_version": "1.5.0",
      "_model_name": "DescriptionStyleModel",
      "_view_count": null,
      "_view_module": "@jupyter-widgets/base",
      "_view_module_version": "1.2.0",
      "_view_name": "StyleView",
      "description_width": ""
     }
    },
    "8930cc60223a4b56a70a17b1c5d03a93": {
     "model_module": "@jupyter-widgets/controls",
     "model_module_version": "1.5.0",
     "model_name": "FloatProgressModel",
     "state": {
      "_dom_classes": [],
      "_model_module": "@jupyter-widgets/controls",
      "_model_module_version": "1.5.0",
      "_model_name": "FloatProgressModel",
      "_view_count": null,
      "_view_module": "@jupyter-widgets/controls",
      "_view_module_version": "1.5.0",
      "_view_name": "ProgressView",
      "bar_style": "success",
      "description": "",
      "description_tooltip": null,
      "layout": "IPY_MODEL_48543e1564664f73b553a0ae5bfb0843",
      "max": 1,
      "min": 0,
      "orientation": "horizontal",
      "style": "IPY_MODEL_3acd5dce7d1b4a84b1b5540ec8d37ed3",
      "value": 1
     }
    },
    "93f32edfd72e4a29ac69d2e202d6e14c": {
     "model_module": "@jupyter-widgets/controls",
     "model_module_version": "1.5.0",
     "model_name": "HTMLModel",
     "state": {
      "_dom_classes": [],
      "_model_module": "@jupyter-widgets/controls",
      "_model_module_version": "1.5.0",
      "_model_name": "HTMLModel",
      "_view_count": null,
      "_view_module": "@jupyter-widgets/controls",
      "_view_module_version": "1.5.0",
      "_view_name": "HTMLView",
      "description": "",
      "description_tooltip": null,
      "layout": "IPY_MODEL_543a939bbf684e49ad83771418dfdd09",
      "placeholder": "​",
      "style": "IPY_MODEL_4e5a11ea456d49a8bd7563e9b2c35511",
      "value": "Downloading: 100%"
     }
    },
    "bbd5c7d0941a458dbaee866da7e5366f": {
     "model_module": "@jupyter-widgets/controls",
     "model_module_version": "1.5.0",
     "model_name": "HTMLModel",
     "state": {
      "_dom_classes": [],
      "_model_module": "@jupyter-widgets/controls",
      "_model_module_version": "1.5.0",
      "_model_name": "HTMLModel",
      "_view_count": null,
      "_view_module": "@jupyter-widgets/controls",
      "_view_module_version": "1.5.0",
      "_view_name": "HTMLView",
      "description": "",
      "description_tooltip": null,
      "layout": "IPY_MODEL_5805c14443ec4d3ebf24ea8dda735a99",
      "placeholder": "​",
      "style": "IPY_MODEL_441b987af9044d1f9326f906d0f1d218",
      "value": ""
     }
    },
    "c656f444dbc4405a915eaecde42707d5": {
     "model_module": "@jupyter-widgets/controls",
     "model_module_version": "1.5.0",
     "model_name": "HTMLModel",
     "state": {
      "_dom_classes": [],
      "_model_module": "@jupyter-widgets/controls",
      "_model_module_version": "1.5.0",
      "_model_name": "HTMLModel",
      "_view_count": null,
      "_view_module": "@jupyter-widgets/controls",
      "_view_module_version": "1.5.0",
      "_view_name": "HTMLView",
      "description": "",
      "description_tooltip": null,
      "layout": "IPY_MODEL_16d1acd4a3e94cf9bc3d683ff7eb1125",
      "placeholder": "​",
      "style": "IPY_MODEL_2d65e5a9073f4b65b95c2c629255cac1",
      "value": "Job ID a2f9486b-cfda-4aad-959b-b5485f8f5dd8 successfully executed: 100%"
     }
    },
    "ddb7ba0f48b24355b23492fcb1db5939": {
     "model_module": "@jupyter-widgets/controls",
     "model_module_version": "1.5.0",
     "model_name": "HBoxModel",
     "state": {
      "_dom_classes": [],
      "_model_module": "@jupyter-widgets/controls",
      "_model_module_version": "1.5.0",
      "_model_name": "HBoxModel",
      "_view_count": null,
      "_view_module": "@jupyter-widgets/controls",
      "_view_module_version": "1.5.0",
      "_view_name": "HBoxView",
      "box_style": "",
      "children": [
       "IPY_MODEL_c656f444dbc4405a915eaecde42707d5",
       "IPY_MODEL_8930cc60223a4b56a70a17b1c5d03a93",
       "IPY_MODEL_549c9135cfbe467ebc3a60d6ad5750e6"
      ],
      "layout": "IPY_MODEL_39a8f6a0c95342299729b62b7a818084"
     }
    },
    "e0194e91019f4661a01322bbda67ac18": {
     "model_module": "@jupyter-widgets/base",
     "model_module_version": "1.2.0",
     "model_name": "LayoutModel",
     "state": {
      "_model_module": "@jupyter-widgets/base",
      "_model_module_version": "1.2.0",
      "_model_name": "LayoutModel",
      "_view_count": null,
      "_view_module": "@jupyter-widgets/base",
      "_view_module_version": "1.2.0",
      "_view_name": "LayoutView",
      "align_content": null,
      "align_items": null,
      "align_self": null,
      "border": null,
      "bottom": null,
      "display": null,
      "flex": null,
      "flex_flow": null,
      "grid_area": null,
      "grid_auto_columns": null,
      "grid_auto_flow": null,
      "grid_auto_rows": null,
      "grid_column": null,
      "grid_gap": null,
      "grid_row": null,
      "grid_template_areas": null,
      "grid_template_columns": null,
      "grid_template_rows": null,
      "height": null,
      "justify_content": null,
      "justify_items": null,
      "left": null,
      "margin": null,
      "max_height": null,
      "max_width": null,
      "min_height": null,
      "min_width": null,
      "object_fit": null,
      "object_position": null,
      "order": null,
      "overflow": null,
      "overflow_x": null,
      "overflow_y": null,
      "padding": null,
      "right": null,
      "top": null,
      "visibility": null,
      "width": null
     }
    },
    "e2e3c77141c04fa7885bf4b4c0e314f4": {
     "model_module": "@jupyter-widgets/base",
     "model_module_version": "1.2.0",
     "model_name": "LayoutModel",
     "state": {
      "_model_module": "@jupyter-widgets/base",
      "_model_module_version": "1.2.0",
      "_model_name": "LayoutModel",
      "_view_count": null,
      "_view_module": "@jupyter-widgets/base",
      "_view_module_version": "1.2.0",
      "_view_name": "LayoutView",
      "align_content": null,
      "align_items": null,
      "align_self": null,
      "border": null,
      "bottom": null,
      "display": null,
      "flex": null,
      "flex_flow": null,
      "grid_area": null,
      "grid_auto_columns": null,
      "grid_auto_flow": null,
      "grid_auto_rows": null,
      "grid_column": null,
      "grid_gap": null,
      "grid_row": null,
      "grid_template_areas": null,
      "grid_template_columns": null,
      "grid_template_rows": null,
      "height": null,
      "justify_content": null,
      "justify_items": null,
      "left": null,
      "margin": null,
      "max_height": null,
      "max_width": null,
      "min_height": null,
      "min_width": null,
      "object_fit": null,
      "object_position": null,
      "order": null,
      "overflow": null,
      "overflow_x": null,
      "overflow_y": null,
      "padding": null,
      "right": null,
      "top": null,
      "visibility": null,
      "width": null
     }
    }
   }
  }
 },
 "nbformat": 4,
 "nbformat_minor": 4
}
