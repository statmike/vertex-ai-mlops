{
 "cells": [
  {
   "cell_type": "markdown",
   "id": "db33109f",
   "metadata": {},
   "source": [
    "# Vertex AI Feature Store - Data Source Examples"
   ]
  },
  {
   "cell_type": "code",
   "execution_count": 7,
   "id": "3748a085",
   "metadata": {},
   "outputs": [],
   "source": [
    "import requests\n",
    "from IPython.display import display, HTML\n",
    "import html"
   ]
  },
  {
   "cell_type": "code",
   "execution_count": 8,
   "id": "1bd815e8",
   "metadata": {},
   "outputs": [],
   "source": [
    "url = \"https://raw.githubusercontent.com/statmike/vertex-ai-mlops/main/MLOps/Feature Store/test.py\""
   ]
  },
  {
   "cell_type": "code",
   "execution_count": 9,
   "id": "0aeadc1c",
   "metadata": {},
   "outputs": [
    {
     "data": {
      "text/html": [
       "\n",
       "    <details>\n",
       "        <summary>Click to view helper code from https://raw.githubusercontent.com/statmike/vertex-ai-mlops/main/MLOps/Feature Store/test.py</summary>\n",
       "        <pre><code>from datetime import datetime\n",
       "\n",
       "def get_current_time_string() -&gt; str:\n",
       "  &quot;&quot;&quot;\n",
       "  Returns a string with the current date and time.\n",
       "  &quot;&quot;&quot;\n",
       "  now = datetime.now()\n",
       "  formatted_time = now.strftime(&quot;%Y-%m-%d %H:%M:%S&quot;)\n",
       "  return f&quot;Hey!, the time is current {formatted_time}&quot;\n",
       "\n",
       "# Example usage:\n",
       "#print(get_current_time_string())</code></pre>\n",
       "    </details>\n",
       "    "
      ],
      "text/plain": [
       "<IPython.core.display.HTML object>"
      ]
     },
     "metadata": {},
     "output_type": "display_data"
    },
    {
     "name": "stdout",
     "output_type": "stream",
     "text": [
      "Helper functions loaded successfully and are viewable above.\n"
     ]
    }
   ],
   "source": [
    "try:\n",
    "    # 2. Fetch the code\n",
    "    response = requests.get(url)\n",
    "    response.raise_for_status()\n",
    "    code_text = response.text\n",
    "\n",
    "    # 3. Create a collapsible HTML view of the code\n",
    "    # We escape the code to safely display it as text inside HTML\n",
    "    escaped_code = html.escape(code_text)\n",
    "    \n",
    "    display(HTML(f\"\"\"\n",
    "    <details>\n",
    "        <summary>Click to view helper code from {url}</summary>\n",
    "        <pre><code>{escaped_code}</code></pre>\n",
    "    </details>\n",
    "    \"\"\"))\n",
    "\n",
    "    # 4. Execute the code so the functions are available\n",
    "    exec(code_text)\n",
    "    \n",
    "    print(\"Helper functions loaded successfully and are viewable above.\")\n",
    "\n",
    "except requests.exceptions.RequestException as e:\n",
    "    print(f\"Error fetching helper code: {e}\")"
   ]
  },
  {
   "cell_type": "code",
   "execution_count": null,
   "id": "deaab426",
   "metadata": {},
   "outputs": [
    {
     "data": {
      "text/plain": [
       "'Hey!, the time is current 2025-09-20 15:04:24'"
      ]
     },
     "execution_count": 10,
     "metadata": {},
     "output_type": "execute_result"
    }
   ],
   "source": [
    "get_current_time()"
   ]
  },
  {
   "cell_type": "code",
   "execution_count": null,
   "id": "81d2af3b",
   "metadata": {},
   "outputs": [],
   "source": []
  },
  {
   "cell_type": "code",
   "execution_count": null,
   "id": "70d0676e",
   "metadata": {},
   "outputs": [],
   "source": []
  },
  {
   "cell_type": "code",
   "execution_count": null,
   "id": "d9d80223",
   "metadata": {},
   "outputs": [],
   "source": []
  }
 ],
 "metadata": {
  "kernelspec": {
   "display_name": "mlops worflows-py3.13",
   "language": "python",
   "name": "python3"
  },
  "language_info": {
   "codemirror_mode": {
    "name": "ipython",
    "version": 3
   },
   "file_extension": ".py",
   "mimetype": "text/x-python",
   "name": "python",
   "nbconvert_exporter": "python",
   "pygments_lexer": "ipython3",
   "version": "3.13.3"
  }
 },
 "nbformat": 4,
 "nbformat_minor": 5
}
