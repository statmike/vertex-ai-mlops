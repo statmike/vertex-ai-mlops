{
 "cells": [
  {
   "cell_type": "markdown",
   "id": "41938921",
   "metadata": {},
   "source": [
    "![tracker](https://us-central1-vertex-ai-mlops-369716.cloudfunctions.net/pixel-tracking?path=statmike%2Fvertex-ai-mlops%2FMLOps%2FPipelines&file=Vertex+AI+Pipelines+-+Secret+Manager.ipynb)\n",
    "<!--- header table --->\n",
    "<table align=\"left\">\n",
    "  <td style=\"text-align: center\">\n",
    "    <a href=\"https://colab.research.google.com/github/statmike/vertex-ai-mlops/blob/main/MLOps/Pipelines/Vertex%20AI%20Pipelines%20-%20Secret%20Manager.ipynb\">\n",
    "      <img src=\"https://cloud.google.com/ml-engine/images/colab-logo-32px.png\" alt=\"Google Colaboratory logo\">\n",
    "      <br>Run in<br>Colab\n",
    "    </a>\n",
    "  </td>\n",
    "  <td style=\"text-align: center\">\n",
    "    <a href=\"https://console.cloud.google.com/vertex-ai/colab/import/https%3A%2F%2Fraw.githubusercontent.com%2Fstatmike%2Fvertex-ai-mlops%2Fmain%2FMLOps%2FPipelines%2FVertex%2520AI%2520Pipelines%2520-%2520Secret%2520Manager.ipynb\">\n",
    "      <img width=\"32px\" src=\"https://lh3.googleusercontent.com/JmcxdQi-qOpctIvWKgPtrzZdJJK-J3sWE1RsfjZNwshCFgE_9fULcNpuXYTilIR2hjwN\" alt=\"Google Cloud Colab Enterprise logo\">\n",
    "      <br>Run in<br>Colab Enterprise\n",
    "    </a>\n",
    "  </td>      \n",
    "  <td style=\"text-align: center\">\n",
    "    <a href=\"https://github.com/statmike/vertex-ai-mlops/blob/main/MLOps/Pipelines/Vertex%20AI%20Pipelines%20-%20Secret%20Manager.ipynb\">\n",
    "      <img src=\"https://cloud.google.com/ml-engine/images/github-logo-32px.png\" alt=\"GitHub logo\">\n",
    "      <br>View on<br>GitHub\n",
    "    </a>\n",
    "  </td>\n",
    "  <td style=\"text-align: center\">\n",
    "    <a href=\"https://console.cloud.google.com/vertex-ai/workbench/deploy-notebook?download_url=https://raw.githubusercontent.com/statmike/vertex-ai-mlops/main/MLOps/Pipelines/Vertex%20AI%20Pipelines%20-%20Secret%20Manager.ipynb\">\n",
    "      <img src=\"https://lh3.googleusercontent.com/UiNooY4LUgW_oTvpsNhPpQzsstV5W8F7rYgxgGBD85cWJoLmrOzhVs_ksK_vgx40SHs7jCqkTkCk=e14-rj-sc0xffffff-h130-w32\" alt=\"Vertex AI logo\">\n",
    "      <br>Open in<br>Vertex AI Workbench\n",
    "    </a>\n",
    "  </td>\n",
    "</table>"
   ]
  },
  {
   "cell_type": "markdown",
   "id": "9c6cf0e2-e2ad-422c-8e3f-63a51b4e84d6",
   "metadata": {
    "tags": []
   },
   "source": [
    "---\n",
    "This is part of a [series of notebook based workflows](./readme.md) that teach all the ways to use pipelines within Vertex AI. The suggested order and description/reason is:\n",
    "\n",
    "|Link To Section|Notebook Workflow|Description|\n",
    "|---|---|---|\n",
    "||[Vertex AI Pipelines - Start Here](./Vertex%20AI%20Pipelines%20-%20Start%20Here.ipynb)|What are pipelines? Start here to go from code to pipeline and see it in action.|\n",
    "||[Vertex AI Pipelines - Introduction](./Vertex%20AI%20Pipelines%20-%20Introduction.ipynb)|Introduction to pipelines with the console and Vertex AI SDK|\n",
    "||[Vertex AI Pipelines - Components](./Vertex%20AI%20Pipelines%20-%20Components.ipynb)|An introduction to all the ways to create pipeline components from your code|\n",
    "||[Vertex AI Pipelines - IO](./Vertex%20AI%20Pipelines%20-%20IO.ipynb)|An overview of all the type of inputs and outputs for pipeline components|\n",
    "||[Vertex AI Pipelines - Control](./Vertex%20AI%20Pipelines%20-%20Control.ipynb)|An overview of controlling the flow of exectution for pipelines|\n",
    "|_**This Notebook**_|[Vertex AI Pipelines - Secret Manager](./Vertex%20AI%20Pipelines%20-%20Secret%20Manager.ipynb)|How to pass sensitive information to pipelines and components|\n",
    "||[Vertex AI Pipelines - GCS Read and Write](./Vertex%20AI%20Pipelines%20-%20GCS%20Read%20and%20Write.ipynb)|How to read/write to GCS from components, including container components.|\n",
    "||[Vertex AI Pipelines - Scheduling](./Vertex%20AI%20Pipelines%20-%20Scheduling.ipynb)|How to schedule pipeline execution|\n",
    "||[Vertex AI Pipelines - Notifications](./Vertex%20AI%20Pipelines%20-%20Notifications.ipynb)|How to send email notification of pipeline status.|\n",
    "||[Vertex AI Pipelines - Management](./Vertex%20AI%20Pipelines%20-%20Management.ipynb)|Managing, Reusing, and Storing pipelines and components|\n",
    "||[Vertex AI Pipelines - Testing](./Vertex%20AI%20Pipelines%20-%20Testing.ipynb)|Strategies for testing components and pipeliens locally and remotely to aide development.|\n",
    "||[Vertex AI Pipelines - Managing Pipeline Jobs](./Vertex%20AI%20Pipelines%20-%20Managing%20Pipeline%20Jobs.ipynb)|Manage runs of pipelines in an environment: list, check status, filtered list, cancel and delete jobs.|\n",
    "\n",
    "\n",
    "To discover these notebooks as part of an introduction to MLOps orchestration [start here](./readme.md).  To read more about MLOps also check out [the parent folder](../readme.md).\n",
    "\n",
    "---"
   ]
  },
  {
   "cell_type": "markdown",
   "id": "7194ff02-6fe4-4a51-b99d-a110a27f28bc",
   "metadata": {},
   "source": [
    "# Vertex AI Pipelines - Secret Manager\n",
    "\n",
    "When working with [Vertex AI Pipelines](https://cloud.google.com/vertex-ai/docs/pipelines/introduction) a component may need to access another service via an API key or other credential.  It is not a good practice to pass these types of credentials as parameters or to hard code them into a component.  Instead, the best practice of retrieving these from [Secret Manager](https://cloud.google.com/secret-manager/docs/create-secret-quickstart#secretmanager-quickstart-console) is described in this notebook based workflow.  \n",
    "\n",
    "This workflow shows saving credentials in Secret Manager and then just passing the name of the secret to a component which then uses the Secret Manager Python Client to retrieve the credential at run time. This adds the benefit of being able to centrally managed credentials ensuring components are always retrieving the latest values.\n",
    "\n",
    "**References**\n",
    "- [Secret Manager Documentation](https://cloud.google.com/secret-manager/docs/create-secret-quickstart)\n",
    "- [Secret Manager Python Client](https://cloud.google.com/python/docs/reference/secretmanager/latest)"
   ]
  },
  {
   "cell_type": "markdown",
   "id": "c6719c27-c5ce-430f-ad1a-7794b057c7e9",
   "metadata": {
    "id": "od_UkDpvRmgD",
    "tags": []
   },
   "source": [
    "---\n",
    "## Colab Setup\n",
    "\n",
    "To run this notebook in Colab run the cells in this section.  Otherwise, skip this section.\n",
    "\n",
    "This cell will authenticate to GCP (follow prompts in the popup)."
   ]
  },
  {
   "cell_type": "code",
   "execution_count": 1,
   "id": "64c4e3e1-7691-4307-9818-a4aa0b2296be",
   "metadata": {
    "executionInfo": {
     "elapsed": 195,
     "status": "ok",
     "timestamp": 1683726184843,
     "user": {
      "displayName": "Mike Henderson",
      "userId": "07691629187611687318"
     },
     "user_tz": 240
    },
    "id": "8UO9FnqyKBlF",
    "tags": []
   },
   "outputs": [],
   "source": [
    "PROJECT_ID = 'statmike-mlops-349915' # replace with project ID"
   ]
  },
  {
   "cell_type": "code",
   "execution_count": 2,
   "id": "e9a0667d-4d3d-401e-9271-a0baa381950f",
   "metadata": {
    "colab": {
     "base_uri": "https://localhost:8080/"
    },
    "executionInfo": {
     "elapsed": 68869,
     "status": "ok",
     "timestamp": 1683726253709,
     "user": {
      "displayName": "Mike Henderson",
      "userId": "07691629187611687318"
     },
     "user_tz": 240
    },
    "id": "N98-KK7LRkjm",
    "outputId": "09ec5008-0def-4e1a-c349-c598ee752f78",
    "tags": []
   },
   "outputs": [
    {
     "name": "stdout",
     "output_type": "stream",
     "text": [
      "Not a Colab Environment\n"
     ]
    }
   ],
   "source": [
    "try:\n",
    "    from google.colab import auth\n",
    "    auth.authenticate_user()\n",
    "    !gcloud config set project {PROJECT_ID}\n",
    "    print('Colab authorized to GCP')\n",
    "except Exception:\n",
    "    print('Not a Colab Environment')\n",
    "    pass"
   ]
  },
  {
   "cell_type": "markdown",
   "id": "0064c5a8-4a6b-4982-a745-3cfeb4b4b313",
   "metadata": {},
   "source": [
    "---\n",
    "## Installs\n",
    "\n",
    "The list `packages` contains tuples of package import names and install names.  If the import name is not found then the install name is used to install quitely for the current user."
   ]
  },
  {
   "cell_type": "code",
   "execution_count": 3,
   "id": "55fee0d7-aa4e-4186-8ae1-06fa70af70e8",
   "metadata": {
    "tags": []
   },
   "outputs": [],
   "source": [
    "# tuples of (import name, install name, min_version)\n",
    "packages = [\n",
    "    ('google.cloud.aiplatform', 'google-cloud-aiplatform'),\n",
    "    ('google.cloud.secretmanager', 'google-cloud-secret-manager'),\n",
    "    ('kfp', 'kfp')\n",
    "]\n",
    "\n",
    "import importlib\n",
    "install = False\n",
    "for package in packages:\n",
    "    if not importlib.util.find_spec(package[0]):\n",
    "        print(f'installing package {package[1]}')\n",
    "        install = True\n",
    "        !pip install {package[1]} -U -q --user\n",
    "    elif len(package) == 3:\n",
    "        if importlib.metadata.version(package[0]) < package[2]:\n",
    "            print(f'updating package {package[1]}')\n",
    "            install = True\n",
    "            !pip install {package[1]} -U -q --user"
   ]
  },
  {
   "cell_type": "markdown",
   "id": "d793be46-c1e0-4a83-9495-3935fd08c227",
   "metadata": {},
   "source": [
    "### API Enablement"
   ]
  },
  {
   "cell_type": "code",
   "execution_count": 4,
   "id": "cdadb754-16c0-4992-9ec5-4efd3ec9322b",
   "metadata": {
    "tags": []
   },
   "outputs": [],
   "source": [
    "!gcloud services enable aiplatform.googleapis.com\n",
    "!gcloud services enable secretmanager.googleapis.com"
   ]
  },
  {
   "cell_type": "markdown",
   "id": "04b26c88-ae66-40c3-8bf2-779dcc132dcb",
   "metadata": {},
   "source": [
    "### Restart Kernel (If Installs Occured)\n",
    "\n",
    "After a kernel restart the code submission can start with the next cell after this one."
   ]
  },
  {
   "cell_type": "code",
   "execution_count": 5,
   "id": "669167c6-785a-4079-9bd2-4815867525d2",
   "metadata": {
    "tags": []
   },
   "outputs": [],
   "source": [
    "if install:\n",
    "    import IPython\n",
    "    app = IPython.Application.instance()\n",
    "    app.kernel.do_shutdown(True)\n",
    "    IPython.display.display(IPython.display.Markdown(\"\"\"<div class=\\\"alert alert-block alert-warning\\\">\n",
    "        <b>⚠️ The kernel is going to restart. Please wait until it is finished before continuing to the next step. The previous cells do not need to be run again⚠️</b>\n",
    "        </div>\"\"\"))"
   ]
  },
  {
   "cell_type": "markdown",
   "id": "f9a8bbad-2ccb-4756-ba3e-e512492a2321",
   "metadata": {
    "id": "appt8-yVRtJ1"
   },
   "source": [
    "---\n",
    "## Setup"
   ]
  },
  {
   "cell_type": "markdown",
   "id": "e89f2c45-26c2-40fa-93dd-dbd04fef6778",
   "metadata": {
    "id": "63mx2EozRxFP"
   },
   "source": [
    "Inputs"
   ]
  },
  {
   "cell_type": "code",
   "execution_count": 6,
   "id": "c1a798b5-2866-4b7b-b9aa-a53b77eb00eb",
   "metadata": {
    "colab": {
     "base_uri": "https://localhost:8080/",
     "height": 35
    },
    "executionInfo": {
     "elapsed": 2124,
     "status": "ok",
     "timestamp": 1683726390544,
     "user": {
      "displayName": "Mike Henderson",
      "userId": "07691629187611687318"
     },
     "user_tz": 240
    },
    "id": "xzcoXjM5Rky5",
    "outputId": "b3bdcbc1-70d5-472e-aea2-42c74a42efde",
    "tags": []
   },
   "outputs": [
    {
     "data": {
      "text/plain": [
       "'statmike-mlops-349915'"
      ]
     },
     "execution_count": 6,
     "metadata": {},
     "output_type": "execute_result"
    }
   ],
   "source": [
    "project = !gcloud config get-value project\n",
    "PROJECT_ID = project[0]\n",
    "PROJECT_ID"
   ]
  },
  {
   "cell_type": "code",
   "execution_count": 7,
   "id": "29148615-02df-412b-8ef6-9253577a4233",
   "metadata": {
    "executionInfo": {
     "elapsed": 2,
     "status": "ok",
     "timestamp": 1683726390712,
     "user": {
      "displayName": "Mike Henderson",
      "userId": "07691629187611687318"
     },
     "user_tz": 240
    },
    "id": "IxWrFtqYMfku",
    "tags": []
   },
   "outputs": [],
   "source": [
    "REGION = 'us-central1'\n",
    "SERIES = 'mlops'\n",
    "EXPERIMENT = 'pipeline-secret-manager'\n",
    "\n",
    "# gcs bucket\n",
    "GCS_BUCKET = PROJECT_ID"
   ]
  },
  {
   "cell_type": "markdown",
   "id": "4b49d844-6d2d-489d-909c-9da8981fd7a2",
   "metadata": {
    "id": "LuajVwCiO6Yg"
   },
   "source": [
    "Packages"
   ]
  },
  {
   "cell_type": "code",
   "execution_count": 8,
   "id": "a5694593-ff4e-44c8-82bb-c954c746e4ec",
   "metadata": {
    "executionInfo": {
     "elapsed": 17761,
     "status": "ok",
     "timestamp": 1683726409304,
     "user": {
      "displayName": "Mike Henderson",
      "userId": "07691629187611687318"
     },
     "user_tz": 240
    },
    "id": "LVC7zzSLRk2C",
    "tags": []
   },
   "outputs": [],
   "source": [
    "import os, time\n",
    "\n",
    "from google.cloud import aiplatform\n",
    "from google.cloud import secretmanager\n",
    "import kfp"
   ]
  },
  {
   "cell_type": "code",
   "execution_count": 9,
   "id": "0b7040cb-f30b-48f3-8d31-c0b442c94b0a",
   "metadata": {
    "tags": []
   },
   "outputs": [
    {
     "data": {
      "text/plain": [
       "'1.78.0'"
      ]
     },
     "execution_count": 9,
     "metadata": {},
     "output_type": "execute_result"
    }
   ],
   "source": [
    "aiplatform.__version__"
   ]
  },
  {
   "cell_type": "code",
   "execution_count": 10,
   "id": "bcc06e2e-9a92-4e5c-8a27-1449ae77080d",
   "metadata": {
    "tags": []
   },
   "outputs": [
    {
     "data": {
      "text/plain": [
       "'2.12.1'"
      ]
     },
     "execution_count": 10,
     "metadata": {},
     "output_type": "execute_result"
    }
   ],
   "source": [
    "kfp.__version__"
   ]
  },
  {
   "cell_type": "markdown",
   "id": "04510ae5-f33b-497c-ad7c-03fdacff0fbc",
   "metadata": {
    "id": "EyAVFG9TO9H-"
   },
   "source": [
    "Clients"
   ]
  },
  {
   "cell_type": "code",
   "execution_count": 11,
   "id": "b81d899b-cb8c-458b-bce4-0c81b1a380a5",
   "metadata": {
    "executionInfo": {
     "elapsed": 19,
     "status": "ok",
     "timestamp": 1683726409306,
     "user": {
      "displayName": "Mike Henderson",
      "userId": "07691629187611687318"
     },
     "user_tz": 240
    },
    "id": "L0RPE13LOZce",
    "tags": []
   },
   "outputs": [],
   "source": [
    "# vertex ai clients\n",
    "aiplatform.init(project = PROJECT_ID, location = REGION)\n",
    "\n",
    "# secret manager client\n",
    "secret_client = secretmanager.SecretManagerServiceClient()"
   ]
  },
  {
   "cell_type": "markdown",
   "id": "752919cb-0bec-4e9a-89b3-ce2a22399387",
   "metadata": {},
   "source": [
    "parameters:"
   ]
  },
  {
   "cell_type": "code",
   "execution_count": 12,
   "id": "3fbf5248-57eb-4fab-9b14-8052bd853140",
   "metadata": {
    "tags": []
   },
   "outputs": [],
   "source": [
    "DIR = f\"temp/{SERIES}-{EXPERIMENT}\""
   ]
  },
  {
   "cell_type": "code",
   "execution_count": 13,
   "id": "ca4aee49-561d-43b1-b93f-a5e8f7323576",
   "metadata": {
    "tags": []
   },
   "outputs": [
    {
     "data": {
      "text/plain": [
       "'1026793852137-compute@developer.gserviceaccount.com'"
      ]
     },
     "execution_count": 13,
     "metadata": {},
     "output_type": "execute_result"
    }
   ],
   "source": [
    "SERVICE_ACCOUNT = !gcloud config list --format='value(core.account)' \n",
    "SERVICE_ACCOUNT = SERVICE_ACCOUNT[0]\n",
    "SERVICE_ACCOUNT"
   ]
  },
  {
   "cell_type": "markdown",
   "id": "09348427-4098-497b-a3ec-ea89cc547bb6",
   "metadata": {},
   "source": [
    "environment:"
   ]
  },
  {
   "cell_type": "code",
   "execution_count": 14,
   "id": "0e957580-4807-45ef-9071-136f6848132a",
   "metadata": {
    "tags": []
   },
   "outputs": [],
   "source": [
    "if not os.path.exists(DIR):\n",
    "    os.makedirs(DIR)"
   ]
  },
  {
   "cell_type": "markdown",
   "id": "5e5e854f-af3e-4157-b969-5b7efcf815f2",
   "metadata": {},
   "source": [
    "## Secret Manager\n",
    "\n",
    "[Secret Manager](https://cloud.google.com/secret-manager/docs/create-secret-quickstart#secretmanager-quickstart-console) as a Google Cloud tool for managing credentials with a wide array of interfaces for creating and retrieving.  This is an essential tool in MLOps to prevent exposing credential as parameters, hardcoding into code, or storing in storage location.  "
   ]
  },
  {
   "cell_type": "markdown",
   "id": "764f8c0a-6962-4d50-bbb2-3e17de896020",
   "metadata": {},
   "source": [
    "### Create A Secret\n",
    "\n",
    "You can [create a secret](https://cloud.google.com/secret-manager/docs/create-secret-quickstart#create_a_secret_and_access_a_secret_version) with the console or one of a number of clients.  Both the console and the Python client are used here for examples.\n",
    "\n",
    "> Note: Replication\n",
    ">\n",
    "> The console defaults the replication policy to 'automatic' and the Python example below specified 'automatic' for the example. Read more about [choosing a replication policy](https://cloud.google.com/secret-manager/docs/choosing-replication).\n",
    "\n",
    "**Console**\n",
    "- Go to [console.cloud.google.com](https://console.cloud.google.com)\n",
    "- Navigate to Security > Secret Manager: [direct link](https://console.cloud.google.com/security/secret-manager)\n",
    "- Click **Create Secret**\n",
    "    - Enter a name\n",
    "    - Enter a secret value or upload from file\n",
    "- Click **Create Secret**\n",
    "\n",
    "Screenshot:"
   ]
  },
  {
   "cell_type": "markdown",
   "id": "bcbc2d2d-af1c-4bf7-82bf-ed672bfc8f72",
   "metadata": {},
   "source": [
    "<p align=\"center\" width=\"60%\"><center>\n",
    "    <img src=\"..//resources/images/screenshots/pipelines/secret/console-secret.png\">\n",
    "</center></p>"
   ]
  },
  {
   "cell_type": "markdown",
   "id": "42730882-0439-4520-a192-503248626a3e",
   "metadata": {},
   "source": [
    "**Python Client**"
   ]
  },
  {
   "cell_type": "code",
   "execution_count": 15,
   "id": "c02dd624-dcf3-4777-a8c3-d6cc7217a0bd",
   "metadata": {
    "tags": []
   },
   "outputs": [
    {
     "name": "stdout",
     "output_type": "stream",
     "text": [
      "projects/1026793852137/secrets/python-example-secret/versions/1\n"
     ]
    }
   ],
   "source": [
    "try:\n",
    "    # retrieve secret if it already exists:\n",
    "    secret_version = secret_client.get_secret_version(\n",
    "        name = f'projects/{PROJECT_ID}/secrets/python-example-secret/versions/latest'\n",
    "    )\n",
    "except Exception:\n",
    "    # create secret if it does not already exists:\n",
    "    secret = secret_client.create_secret(\n",
    "        parent = f'projects/{PROJECT_ID}',\n",
    "        secret_id = 'python-example-secret',\n",
    "        secret = dict(replication = dict(automatic = dict()))\n",
    "    )\n",
    "    secret_version = secret_client.add_secret_version(\n",
    "        parent = secret.name,\n",
    "        payload = dict(data = b'myPythonSecretValue')\n",
    "    )\n",
    "    \n",
    "print(secret_version.name)"
   ]
  },
  {
   "cell_type": "markdown",
   "id": "b88a29e7-0dfe-4a59-84b8-90c490ad3082",
   "metadata": {},
   "source": [
    "### Retrieve A Secret\n",
    "\n",
    "Both secrets create above can be retrieve using the Python client:"
   ]
  },
  {
   "cell_type": "code",
   "execution_count": 16,
   "id": "0b9b2b03-a9ec-41b1-b3da-c10343c81aad",
   "metadata": {
    "tags": []
   },
   "outputs": [
    {
     "data": {
      "text/plain": [
       "'myConsoleSecretValue'"
      ]
     },
     "execution_count": 16,
     "metadata": {},
     "output_type": "execute_result"
    }
   ],
   "source": [
    "secret_client.access_secret_version(\n",
    "    name = f'projects/{PROJECT_ID}/secrets/console-example-secret/versions/latest'\n",
    ").payload.data.decode('utf-8')"
   ]
  },
  {
   "cell_type": "code",
   "execution_count": 17,
   "id": "22d77709-7f01-43cf-b49e-db4db416f285",
   "metadata": {
    "tags": []
   },
   "outputs": [
    {
     "data": {
      "text/plain": [
       "'myPythonSecretValue'"
      ]
     },
     "execution_count": 17,
     "metadata": {},
     "output_type": "execute_result"
    }
   ],
   "source": [
    "secret_client.access_secret_version(\n",
    "    name = f'projects/{PROJECT_ID}/secrets/python-example-secret/versions/latest'\n",
    ").payload.data.decode('utf-8')"
   ]
  },
  {
   "cell_type": "markdown",
   "id": "95fcd100-f9cd-40b2-abe8-6904b90abc58",
   "metadata": {},
   "source": [
    "---\n",
    "## Vertex AI Pipelines - Using Secret Manager\n",
    "\n",
    "Pipeline components can be designed to retrieve secret values for secret manager.  The name of the secret can be passed to the pipeline as an input parameter.  The simple pipeline example below creates a [Lightweigth Python Component](https://www.kubeflow.org/docs/components/pipelines/v2/components/lightweight-python-components/)\n",
    "that retrieve the secret based on the `secret_name` input parameter.\n",
    "\n",
    "> Explore more component types in the companion workflow [Vertex AI Pipelines - Components](./Vertex%20AI%20Pipelines%20-%20Components.ipynb)"
   ]
  },
  {
   "cell_type": "markdown",
   "id": "6e9c1e43-1eea-4d53-ae4f-4a983152cb25",
   "metadata": {},
   "source": [
    "### Create Pipeline Components\n",
    "\n",
    "These are simple Python components, specifically lightweight Python components.  For more details on the types of components check out this workflow in the same repository:\n",
    "- [Vertex AI Pipelines - Components](./Vertex%20AI%20Pipelines%20-%20Components.ipynb)\n"
   ]
  },
  {
   "cell_type": "markdown",
   "id": "6da8a615-e8a2-4660-8a4b-2308429a3292",
   "metadata": {},
   "source": [
    "Simple component that takes an input string, the `secret_name`, and retrieves the secret value."
   ]
  },
  {
   "cell_type": "code",
   "execution_count": 18,
   "id": "d614fa6f-b93e-4135-a8f2-520faf550c2e",
   "metadata": {
    "tags": []
   },
   "outputs": [],
   "source": [
    "@kfp.dsl.component(\n",
    "    base_image = \"python:3.10\",\n",
    "    packages_to_install = [\"google-cloud-secret-manager\"]\n",
    ")\n",
    "def example_component(project: str, secret_name: str) -> str:\n",
    "    from google.cloud import secretmanager\n",
    "    secret_client = secretmanager.SecretManagerServiceClient()\n",
    "    \n",
    "    try:\n",
    "        secret_value = secret_client.access_secret_version(\n",
    "            name = f'projects/{project}/secrets/{secret_name}/versions/latest'\n",
    "        ).payload.data.decode('utf-8')\n",
    "        secret_success = True\n",
    "    except Exception:\n",
    "        secret_success = False\n",
    "        \n",
    "    \n",
    "    if secret_success:\n",
    "        return 'Secret Retrieved Successfully'\n",
    "    else:\n",
    "        return 'Issue Encountered Retrieving Secret'"
   ]
  },
  {
   "cell_type": "markdown",
   "id": "e5d43090-b647-4b84-b52e-39d156db7ada",
   "metadata": {},
   "source": [
    "### Create Pipeline"
   ]
  },
  {
   "cell_type": "code",
   "execution_count": 19,
   "id": "3ec01252-5973-415c-9d76-5c676ab350af",
   "metadata": {
    "tags": []
   },
   "outputs": [],
   "source": [
    "@kfp.dsl.pipeline(\n",
    "    name = f'{SERIES}-{EXPERIMENT}',\n",
    "    description = 'A simple pipeline for testing secret retrieval',\n",
    "    pipeline_root = f'gs://{GCS_BUCKET}/{SERIES}/{EXPERIMENT}/pipeline_root'\n",
    ")\n",
    "def example_pipeline(\n",
    "    project: str,\n",
    "    secret_name: str\n",
    "):\n",
    "    task_with_secret = example_component(project = project, secret_name = secret_name)"
   ]
  },
  {
   "cell_type": "markdown",
   "id": "d3c9a219-a08a-444d-a8f5-4814fa147e65",
   "metadata": {},
   "source": [
    "### Compile Pipeline"
   ]
  },
  {
   "cell_type": "code",
   "execution_count": 20,
   "id": "58a7e413-4fe7-491f-b75c-417062f41096",
   "metadata": {
    "tags": []
   },
   "outputs": [],
   "source": [
    "kfp.compiler.Compiler().compile(\n",
    "    pipeline_func = example_pipeline,\n",
    "    package_path = f'{DIR}/{SERIES}-{EXPERIMENT}.yaml'\n",
    ")"
   ]
  },
  {
   "cell_type": "markdown",
   "id": "11a3a9d7-d753-42d8-8d7e-71b456c9c728",
   "metadata": {},
   "source": [
    "### Create Pipeline Job"
   ]
  },
  {
   "cell_type": "code",
   "execution_count": 21,
   "id": "49176e54-26c4-49db-b1a6-fecd7d6cfd42",
   "metadata": {
    "tags": []
   },
   "outputs": [],
   "source": [
    "pipeline_job = aiplatform.PipelineJob(\n",
    "    display_name = f\"{SERIES}-{EXPERIMENT}\",\n",
    "    template_path = f\"{DIR}/{SERIES}-{EXPERIMENT}.yaml\",\n",
    "    parameter_values = dict(project = PROJECT_ID, secret_name = 'python-example-secret'),\n",
    "    pipeline_root = f'gs://{GCS_BUCKET}/{SERIES}/{EXPERIMENT}/pipeline_root',\n",
    "    enable_caching = None # True (enabled), False (disable), None (defer to component level caching) \n",
    ")"
   ]
  },
  {
   "cell_type": "markdown",
   "id": "c62e2e9b-99cb-4c5a-9327-133aac0ba4b8",
   "metadata": {},
   "source": [
    "### Submit Pipeline Job"
   ]
  },
  {
   "cell_type": "code",
   "execution_count": 22,
   "id": "d4be1276-bd27-4fdf-b2c5-9d8c8ae52512",
   "metadata": {
    "tags": []
   },
   "outputs": [
    {
     "name": "stdout",
     "output_type": "stream",
     "text": [
      "Creating PipelineJob\n",
      "PipelineJob created. Resource name: projects/1026793852137/locations/us-central1/pipelineJobs/mlops-pipeline-secret-manager-20250310185323\n",
      "To use this PipelineJob in another session:\n",
      "pipeline_job = aiplatform.PipelineJob.get('projects/1026793852137/locations/us-central1/pipelineJobs/mlops-pipeline-secret-manager-20250310185323')\n",
      "View Pipeline Job:\n",
      "https://console.cloud.google.com/vertex-ai/locations/us-central1/pipelines/runs/mlops-pipeline-secret-manager-20250310185323?project=1026793852137\n"
     ]
    }
   ],
   "source": [
    "response = pipeline_job.submit(\n",
    "    service_account = SERVICE_ACCOUNT\n",
    ")"
   ]
  },
  {
   "cell_type": "code",
   "execution_count": 23,
   "id": "4da21b4d-dc06-4eaa-8edc-54e6056a6474",
   "metadata": {
    "tags": []
   },
   "outputs": [
    {
     "name": "stdout",
     "output_type": "stream",
     "text": [
      "The Dashboard can be viewed here:\n",
      "https://console.cloud.google.com/vertex-ai/locations/us-central1/pipelines/runs/mlops-pipeline-secret-manager-20250310185323?project=1026793852137\n"
     ]
    }
   ],
   "source": [
    "print(f'The Dashboard can be viewed here:\\n{pipeline_job._dashboard_uri()}')"
   ]
  },
  {
   "cell_type": "code",
   "execution_count": 24,
   "id": "9e3018da-0081-473e-ae7a-b799c137600e",
   "metadata": {
    "tags": []
   },
   "outputs": [
    {
     "name": "stdout",
     "output_type": "stream",
     "text": [
      "PipelineJob projects/1026793852137/locations/us-central1/pipelineJobs/mlops-pipeline-secret-manager-20250310185323 current state:\n",
      "PipelineState.PIPELINE_STATE_RUNNING\n",
      "PipelineJob projects/1026793852137/locations/us-central1/pipelineJobs/mlops-pipeline-secret-manager-20250310185323 current state:\n",
      "PipelineState.PIPELINE_STATE_RUNNING\n",
      "PipelineJob projects/1026793852137/locations/us-central1/pipelineJobs/mlops-pipeline-secret-manager-20250310185323 current state:\n",
      "PipelineState.PIPELINE_STATE_RUNNING\n",
      "PipelineJob projects/1026793852137/locations/us-central1/pipelineJobs/mlops-pipeline-secret-manager-20250310185323 current state:\n",
      "PipelineState.PIPELINE_STATE_RUNNING\n",
      "PipelineJob run completed. Resource name: projects/1026793852137/locations/us-central1/pipelineJobs/mlops-pipeline-secret-manager-20250310185323\n"
     ]
    }
   ],
   "source": [
    "pipeline_job.wait()"
   ]
  },
  {
   "cell_type": "markdown",
   "id": "485a8da7-5e3c-4b32-9d1b-e6f295177654",
   "metadata": {},
   "source": [
    "<p align=\"center\" width=\"60%\"><center>\n",
    "    <img src=\"../resources/images/screenshots/pipelines/secret/pipeline-secret.png\">\n",
    "</center></p>"
   ]
  },
  {
   "cell_type": "markdown",
   "id": "749f76e7-9d52-442f-9aff-51b9b4c63e45",
   "metadata": {},
   "source": [
    "### Retrieve Pipeline Information"
   ]
  },
  {
   "cell_type": "code",
   "execution_count": 25,
   "id": "6355d59f-4afe-4c1e-bcd3-0979b96c1d80",
   "metadata": {
    "tags": []
   },
   "outputs": [
    {
     "data": {
      "text/html": [
       "<div>\n",
       "<style scoped>\n",
       "    .dataframe tbody tr th:only-of-type {\n",
       "        vertical-align: middle;\n",
       "    }\n",
       "\n",
       "    .dataframe tbody tr th {\n",
       "        vertical-align: top;\n",
       "    }\n",
       "\n",
       "    .dataframe thead th {\n",
       "        text-align: right;\n",
       "    }\n",
       "</style>\n",
       "<table border=\"1\" class=\"dataframe\">\n",
       "  <thead>\n",
       "    <tr style=\"text-align: right;\">\n",
       "      <th></th>\n",
       "      <th>pipeline_name</th>\n",
       "      <th>run_name</th>\n",
       "      <th>param.vmlmd_lineage_integration</th>\n",
       "      <th>param.input:project</th>\n",
       "      <th>param.input:secret_name</th>\n",
       "    </tr>\n",
       "  </thead>\n",
       "  <tbody>\n",
       "    <tr>\n",
       "      <th>0</th>\n",
       "      <td>mlops-pipeline-secret-manager</td>\n",
       "      <td>mlops-pipeline-secret-manager-20250310185323</td>\n",
       "      <td>{'pipeline_run_component': {'parent_task_names...</td>\n",
       "      <td>statmike-mlops-349915</td>\n",
       "      <td>python-example-secret</td>\n",
       "    </tr>\n",
       "    <tr>\n",
       "      <th>1</th>\n",
       "      <td>mlops-pipeline-secret-manager</td>\n",
       "      <td>mlops-pipeline-secret-manager-20240503123948</td>\n",
       "      <td>{'pipeline_run_component': {'location_id': 'us...</td>\n",
       "      <td>statmike-mlops-349915</td>\n",
       "      <td>python-example-secret</td>\n",
       "    </tr>\n",
       "  </tbody>\n",
       "</table>\n",
       "</div>"
      ],
      "text/plain": [
       "                   pipeline_name  \\\n",
       "0  mlops-pipeline-secret-manager   \n",
       "1  mlops-pipeline-secret-manager   \n",
       "\n",
       "                                       run_name  \\\n",
       "0  mlops-pipeline-secret-manager-20250310185323   \n",
       "1  mlops-pipeline-secret-manager-20240503123948   \n",
       "\n",
       "                     param.vmlmd_lineage_integration    param.input:project  \\\n",
       "0  {'pipeline_run_component': {'parent_task_names...  statmike-mlops-349915   \n",
       "1  {'pipeline_run_component': {'location_id': 'us...  statmike-mlops-349915   \n",
       "\n",
       "  param.input:secret_name  \n",
       "0   python-example-secret  \n",
       "1   python-example-secret  "
      ]
     },
     "execution_count": 25,
     "metadata": {},
     "output_type": "execute_result"
    }
   ],
   "source": [
    "aiplatform.get_pipeline_df(pipeline = f'{SERIES}-{EXPERIMENT}')"
   ]
  },
  {
   "cell_type": "code",
   "execution_count": 26,
   "id": "01f5207f-94b2-4eb7-b22a-7930db2754fe",
   "metadata": {
    "tags": []
   },
   "outputs": [],
   "source": [
    "tasks = {task.task_name: task for task in pipeline_job.task_details}"
   ]
  },
  {
   "cell_type": "code",
   "execution_count": 27,
   "id": "88006280-0f1f-4b59-acda-79da8b0c157c",
   "metadata": {
    "tags": []
   },
   "outputs": [
    {
     "name": "stdout",
     "output_type": "stream",
     "text": [
      "example-component State.SUCCEEDED\n",
      "mlops-pipeline-secret-manager-20250310185323 State.SUCCEEDED\n"
     ]
    }
   ],
   "source": [
    "for task in tasks:\n",
    "  print(task, tasks[task].state)"
   ]
  },
  {
   "cell_type": "code",
   "execution_count": 28,
   "id": "c325eb4e-2b99-4604-8252-6f6e7549a84c",
   "metadata": {
    "tags": []
   },
   "outputs": [
    {
     "name": "stdout",
     "output_type": "stream",
     "text": [
      "example-component\n",
      "mlops-pipeline-secret-manager-20250310185323\n"
     ]
    }
   ],
   "source": [
    "for task in tasks:\n",
    "    print(task)"
   ]
  },
  {
   "cell_type": "code",
   "execution_count": 29,
   "id": "2db81b8d-8910-4162-8aa3-a7c4784ea644",
   "metadata": {
    "tags": []
   },
   "outputs": [
    {
     "data": {
      "text/plain": [
       "task_id: 2219325497240715264\n",
       "parent_task_id: 3903671757877280768\n",
       "task_name: \"example-component\"\n",
       "create_time {\n",
       "  seconds: 1741632806\n",
       "  nanos: 736543000\n",
       "}\n",
       "start_time {\n",
       "  seconds: 1741632807\n",
       "  nanos: 412041000\n",
       "}\n",
       "end_time {\n",
       "  seconds: 1741632899\n",
       "  nanos: 700954000\n",
       "}\n",
       "executor_detail {\n",
       "  container_detail {\n",
       "    main_job: \"projects/1026793852137/locations/us-central1/customJobs/1278175687399702528\"\n",
       "  }\n",
       "}\n",
       "state: SUCCEEDED\n",
       "execution {\n",
       "  name: \"projects/1026793852137/locations/us-central1/metadataStores/default/executions/4523935769402117299\"\n",
       "  display_name: \"example-component\"\n",
       "  state: COMPLETE\n",
       "  etag: \"1741632899653\"\n",
       "  create_time {\n",
       "    seconds: 1741632806\n",
       "    nanos: 970000000\n",
       "  }\n",
       "  update_time {\n",
       "    seconds: 1741632899\n",
       "    nanos: 653000000\n",
       "  }\n",
       "  schema_title: \"system.ContainerExecution\"\n",
       "  schema_version: \"0.0.1\"\n",
       "  metadata {\n",
       "    fields {\n",
       "      key: \"vmlmd_lineage_integration\"\n",
       "      value {\n",
       "        struct_value {\n",
       "          fields {\n",
       "            key: \"pipeline_run_component\"\n",
       "            value {\n",
       "              struct_value {\n",
       "                fields {\n",
       "                  key: \"task_name\"\n",
       "                  value {\n",
       "                    string_value: \"example-component\"\n",
       "                  }\n",
       "                }\n",
       "                fields {\n",
       "                  key: \"project_id\"\n",
       "                  value {\n",
       "                    string_value: \"statmike-mlops-349915\"\n",
       "                  }\n",
       "                }\n",
       "                fields {\n",
       "                  key: \"pipeline_run_id\"\n",
       "                  value {\n",
       "                    string_value: \"mlops-pipeline-secret-manager-20250310185323\"\n",
       "                  }\n",
       "                }\n",
       "                fields {\n",
       "                  key: \"parent_task_names\"\n",
       "                  value {\n",
       "                    list_value {\n",
       "                      values {\n",
       "                        string_value: \"mlops-pipeline-secret-manager-20250310185323\"\n",
       "                      }\n",
       "                    }\n",
       "                  }\n",
       "                }\n",
       "                fields {\n",
       "                  key: \"location_id\"\n",
       "                  value {\n",
       "                    string_value: \"us-central1\"\n",
       "                  }\n",
       "                }\n",
       "              }\n",
       "            }\n",
       "          }\n",
       "        }\n",
       "      }\n",
       "    }\n",
       "    fields {\n",
       "      key: \"output:Output\"\n",
       "      value {\n",
       "        string_value: \"Secret Retrieved Successfully\"\n",
       "      }\n",
       "    }\n",
       "    fields {\n",
       "      key: \"input:secret_name\"\n",
       "      value {\n",
       "        string_value: \"python-example-secret\"\n",
       "      }\n",
       "    }\n",
       "    fields {\n",
       "      key: \"input:project\"\n",
       "      value {\n",
       "        string_value: \"statmike-mlops-349915\"\n",
       "      }\n",
       "    }\n",
       "  }\n",
       "}\n",
       "pipeline_task_status {\n",
       "  update_time {\n",
       "    seconds: 1741632899\n",
       "    nanos: 598284772\n",
       "  }\n",
       "  state: SUCCEEDED\n",
       "}"
      ]
     },
     "execution_count": 29,
     "metadata": {},
     "output_type": "execute_result"
    }
   ],
   "source": [
    "tasks['example-component']"
   ]
  },
  {
   "cell_type": "code",
   "execution_count": null,
   "id": "91af4fe8-6b89-4c94-b910-eca479c4f3d6",
   "metadata": {},
   "outputs": [],
   "source": []
  }
 ],
 "metadata": {
  "environment": {
   "kernel": "conda-base-py",
   "name": "workbench-notebooks.m128",
   "type": "gcloud",
   "uri": "us-docker.pkg.dev/deeplearning-platform-release/gcr.io/workbench-notebooks:m128"
  },
  "kernelspec": {
   "display_name": "Python 3 (ipykernel) (Local)",
   "language": "python",
   "name": "conda-base-py"
  },
  "language_info": {
   "codemirror_mode": {
    "name": "ipython",
    "version": 3
   },
   "file_extension": ".py",
   "mimetype": "text/x-python",
   "name": "python",
   "nbconvert_exporter": "python",
   "pygments_lexer": "ipython3",
   "version": "3.10.16"
  }
 },
 "nbformat": 4,
 "nbformat_minor": 5
}
