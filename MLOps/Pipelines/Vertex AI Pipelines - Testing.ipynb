{
 "cells": [
  {
   "cell_type": "markdown",
   "id": "a427ddee",
   "metadata": {},
   "source": [
    "![tracker](https://us-central1-vertex-ai-mlops-369716.cloudfunctions.net/pixel-tracking?path=statmike%2Fvertex-ai-mlops%2FMLOps%2FPipelines&file=Vertex+AI+Pipelines+-+Testing.ipynb)\n",
    "<!--- header table --->\n",
    "<table align=\"left\">\n",
    "  <td style=\"text-align: center\">\n",
    "    <a href=\"https://colab.research.google.com/github/statmike/vertex-ai-mlops/blob/main/MLOps/Pipelines/Vertex%20AI%20Pipelines%20-%20Testing.ipynb\">\n",
    "      <img src=\"https://cloud.google.com/ml-engine/images/colab-logo-32px.png\" alt=\"Google Colaboratory logo\">\n",
    "      <br>Run in<br>Colab\n",
    "    </a>\n",
    "  </td>\n",
    "  <td style=\"text-align: center\">\n",
    "    <a href=\"https://console.cloud.google.com/vertex-ai/colab/import/https%3A%2F%2Fraw.githubusercontent.com%2Fstatmike%2Fvertex-ai-mlops%2Fmain%2FMLOps%2FPipelines%2FVertex%2520AI%2520Pipelines%2520-%2520Testing.ipynb\">\n",
    "      <img width=\"32px\" src=\"https://lh3.googleusercontent.com/JmcxdQi-qOpctIvWKgPtrzZdJJK-J3sWE1RsfjZNwshCFgE_9fULcNpuXYTilIR2hjwN\" alt=\"Google Cloud Colab Enterprise logo\">\n",
    "      <br>Run in<br>Colab Enterprise\n",
    "    </a>\n",
    "  </td>      \n",
    "  <td style=\"text-align: center\">\n",
    "    <a href=\"https://github.com/statmike/vertex-ai-mlops/blob/main/MLOps/Pipelines/Vertex%20AI%20Pipelines%20-%20Testing.ipynb\">\n",
    "      <img src=\"https://cloud.google.com/ml-engine/images/github-logo-32px.png\" alt=\"GitHub logo\">\n",
    "      <br>View on<br>GitHub\n",
    "    </a>\n",
    "  </td>\n",
    "  <td style=\"text-align: center\">\n",
    "    <a href=\"https://console.cloud.google.com/vertex-ai/workbench/deploy-notebook?download_url=https://raw.githubusercontent.com/statmike/vertex-ai-mlops/main/MLOps/Pipelines/Vertex%20AI%20Pipelines%20-%20Testing.ipynb\">\n",
    "      <img src=\"https://lh3.googleusercontent.com/UiNooY4LUgW_oTvpsNhPpQzsstV5W8F7rYgxgGBD85cWJoLmrOzhVs_ksK_vgx40SHs7jCqkTkCk=e14-rj-sc0xffffff-h130-w32\" alt=\"Vertex AI logo\">\n",
    "      <br>Open in<br>Vertex AI Workbench\n",
    "    </a>\n",
    "  </td>\n",
    "</table>"
   ]
  },
  {
   "cell_type": "markdown",
   "id": "2d31bb25-f972-49a1-a3c5-ed1672b00ed8",
   "metadata": {
    "tags": []
   },
   "source": [
    "---\n",
    "This is part of a [series of notebook based workflows](./readme.md) that teach all the ways to use pipelines within Vertex AI. The suggested order and description/reason is:\n",
    "\n",
    "||Notebook Workflow|Description|\n",
    "|---|---|---|\n",
    "||[Vertex AI Pipelines - Start Here](./Vertex%20AI%20Pipelines%20-%20Start%20Here.ipynb)|What are pipelines? Start here to go from code to pipeline and see it in action.|\n",
    "||[Vertex AI Pipelines - Introduction](./Vertex%20AI%20Pipelines%20-%20Introduction.ipynb)|Introduction to pipelines with the console and Vertex AI SDK|\n",
    "||[Vertex AI Pipelines - Components](./Vertex%20AI%20Pipelines%20-%20Components.ipynb)|An introduction to all the ways to create pipeline components from your code|\n",
    "||[Vertex AI Pipelines - IO](./Vertex%20AI%20Pipelines%20-%20IO.ipynb)|An overview of all the type of inputs and outputs for pipeline components|\n",
    "||[Vertex AI Pipelines - Control](./Vertex%20AI%20Pipelines%20-%20Control.ipynb)|An overview of controlling the flow of exectution for pipelines|\n",
    "||[Vertex AI Pipelines - Secret Manager](./Vertex%20AI%20Pipelines%20-%20Secret%20Manager.ipynb)|How to pass sensitive information to pipelines and components|\n",
    "||[Vertex AI Pipelines - GCS Read and Write](./Vertex%20AI%20Pipelines%20-%20GCS%20Read%20and%20Write.ipynb)|How to read/write to GCS from components, including container components.|\n",
    "||[Vertex AI Pipelines - Scheduling](./Vertex%20AI%20Pipelines%20-%20Scheduling.ipynb)|How to schedule pipeline execution|\n",
    "||[Vertex AI Pipelines - Notifications](./Vertex%20AI%20Pipelines%20-%20Notifications.ipynb)|How to send email notification of pipeline status.|\n",
    "||[Vertex AI Pipelines - Management](./Vertex%20AI%20Pipelines%20-%20Management.ipynb)|Managing, Reusing, and Storing pipelines and components|\n",
    "|_**This Notebook**_|[Vertex AI Pipelines - Testing](./Vertex%20AI%20Pipelines%20-%20Testing.ipynb)|Strategies for testing components and pipeliens locally and remotely to aide development.|\n",
    "||[Vertex AI Pipelines - Managing Pipeline Jobs](./Vertex%20AI%20Pipelines%20-%20Managing%20Pipeline%20Jobs.ipynb)|Manage runs of pipelines in an environment: list, check status, filtered list, cancel and delete jobs.|\n",
    "\n",
    "\n",
    "To discover these notebooks as part of an introduction to MLOps orchestration [start here](./readme.md).  To read more about MLOps also check out [the parent folder](../readme.md).\n",
    "\n",
    "---"
   ]
  },
  {
   "cell_type": "markdown",
   "id": "e4f4936b-7fd0-4028-8e9b-d35347aa61c2",
   "metadata": {},
   "source": [
    "# Vertex AI Pipelines - Testing\n",
    "\n",
    "When creating pipeline components and pipelines the process of testing can be aided by local testing and several strategies for remote (On Vertex AI Pipelines) testing.  The notebook based workflow will cover examples of these local and remote strategies.\n",
    "\n",
    "**Why test locally?**\n",
    "\n",
    "> To iterate quickly by being able to run code with iterative changes and not need to wait on the startup time of remote execution."
   ]
  },
  {
   "cell_type": "markdown",
   "id": "d1dec179-f1a9-4295-8ce7-837ad6d887fc",
   "metadata": {
    "id": "od_UkDpvRmgD",
    "tags": []
   },
   "source": [
    "---\n",
    "## Colab Setup\n",
    "\n",
    "To run this notebook in Colab run the cells in this section.  Otherwise, skip this section.\n",
    "\n",
    "This cell will authenticate to GCP (follow prompts in the popup)."
   ]
  },
  {
   "cell_type": "code",
   "execution_count": 1,
   "id": "76d97710-6680-459b-a3c1-7a61d9440dd7",
   "metadata": {
    "executionInfo": {
     "elapsed": 195,
     "status": "ok",
     "timestamp": 1683726184843,
     "user": {
      "displayName": "Mike Henderson",
      "userId": "07691629187611687318"
     },
     "user_tz": 240
    },
    "id": "8UO9FnqyKBlF",
    "tags": []
   },
   "outputs": [],
   "source": [
    "PROJECT_ID = 'statmike-mlops-349915' # replace with project ID"
   ]
  },
  {
   "cell_type": "code",
   "execution_count": 2,
   "id": "226045f7-0532-47d4-803f-53e2b259a11a",
   "metadata": {
    "colab": {
     "base_uri": "https://localhost:8080/"
    },
    "executionInfo": {
     "elapsed": 68869,
     "status": "ok",
     "timestamp": 1683726253709,
     "user": {
      "displayName": "Mike Henderson",
      "userId": "07691629187611687318"
     },
     "user_tz": 240
    },
    "id": "N98-KK7LRkjm",
    "outputId": "09ec5008-0def-4e1a-c349-c598ee752f78",
    "tags": []
   },
   "outputs": [
    {
     "name": "stdout",
     "output_type": "stream",
     "text": [
      "Not a Colab Environment\n"
     ]
    }
   ],
   "source": [
    "try:\n",
    "    from google.colab import auth\n",
    "    auth.authenticate_user()\n",
    "    !gcloud config set project {PROJECT_ID}\n",
    "    print('Colab authorized to GCP')\n",
    "except Exception:\n",
    "    print('Not a Colab Environment')\n",
    "    pass"
   ]
  },
  {
   "cell_type": "markdown",
   "id": "e29e8275-97ff-4b63-bfff-000f34b1e3da",
   "metadata": {},
   "source": [
    "---\n",
    "## Installs\n",
    "\n",
    "The list `packages` contains tuples of package import names and install names.  If the import name is not found then the install name is used to install quitely for the current user."
   ]
  },
  {
   "cell_type": "code",
   "execution_count": 3,
   "id": "7c865546-36df-4777-b4c4-8fb3364978b1",
   "metadata": {
    "tags": []
   },
   "outputs": [],
   "source": [
    "# tuples of (import name, install name, min_version)\n",
    "packages = [\n",
    "    ('google.cloud.aiplatform', 'google-cloud-aiplatform'),\n",
    "    ('kfp', 'kfp'),\n",
    "    ('docker', 'docker')\n",
    "]\n",
    "\n",
    "import importlib\n",
    "install = False\n",
    "for package in packages:\n",
    "    if not importlib.util.find_spec(package[0]):\n",
    "        print(f'installing package {package[1]}')\n",
    "        install = True\n",
    "        !pip install {package[1]} -U -q --user\n",
    "    elif len(package) == 3:\n",
    "        if importlib.metadata.version(package[0]) < package[2]:\n",
    "            print(f'updating package {package[1]}')\n",
    "            install = True\n",
    "            !pip install {package[1]} -U -q --user"
   ]
  },
  {
   "cell_type": "markdown",
   "id": "ec4ddcb5-6cdc-4c9a-9449-698223aa8a4c",
   "metadata": {
    "tags": []
   },
   "source": [
    "### Docker\n",
    "\n",
    "This notebook uses local Docker to run KFP components and pipelines locally for test.  Check for a Docker install and if missing prompt to install:\n",
    "- [Docker installation](https://docs.docker.com/engine/install/)"
   ]
  },
  {
   "cell_type": "code",
   "execution_count": 4,
   "id": "1ea00f48-2276-48c3-bb8a-78b61b35e8a3",
   "metadata": {
    "tags": []
   },
   "outputs": [
    {
     "name": "stdout",
     "output_type": "stream",
     "text": [
      "Docker is installed and running. Version: 20.10.17\n"
     ]
    }
   ],
   "source": [
    "import docker\n",
    " \n",
    "try:\n",
    "    docker_client = docker.from_env()\n",
    "    if docker_client.ping():\n",
    "        print(f\"Docker is installed and running. Version: {docker_client.version()['Version']}\")\n",
    "except Exception as e:\n",
    "    print('Docker is either not installed or not running - please fix before proceeding.\\nhttps://docs.docker.com/engine/install/')"
   ]
  },
  {
   "cell_type": "markdown",
   "id": "e5160786-b7e5-4aa4-9806-0583b53137b2",
   "metadata": {},
   "source": [
    "### API Enablement"
   ]
  },
  {
   "cell_type": "code",
   "execution_count": 5,
   "id": "e890de46-838e-4b97-b3c8-5c2d3e4be462",
   "metadata": {
    "tags": []
   },
   "outputs": [],
   "source": [
    "!gcloud services enable aiplatform.googleapis.com"
   ]
  },
  {
   "cell_type": "markdown",
   "id": "41f906fa-2b1a-4226-83e8-08d42081c40d",
   "metadata": {},
   "source": [
    "### Restart Kernel (If Installs Occured)\n",
    "\n",
    "After a kernel restart the code submission can start with the next cell after this one."
   ]
  },
  {
   "cell_type": "code",
   "execution_count": 6,
   "id": "bc743092-a01d-4f4e-a4f8-57ee04e7e82f",
   "metadata": {
    "tags": []
   },
   "outputs": [],
   "source": [
    "if install:\n",
    "    import IPython\n",
    "    app = IPython.Application.instance()\n",
    "    app.kernel.do_shutdown(True)\n",
    "    IPython.display.display(IPython.display.Markdown(\"\"\"<div class=\\\"alert alert-block alert-warning\\\">\n",
    "        <b>⚠️ The kernel is going to restart. Please wait until it is finished before continuing to the next step. The previous cells do not need to be run again⚠️</b>\n",
    "        </div>\"\"\"))"
   ]
  },
  {
   "cell_type": "markdown",
   "id": "cceaf7ce-0d51-46f0-b3aa-c86c5565c90f",
   "metadata": {
    "id": "appt8-yVRtJ1"
   },
   "source": [
    "---\n",
    "## Setup"
   ]
  },
  {
   "cell_type": "markdown",
   "id": "2e519375-a762-42c0-a120-87f7ccb3862b",
   "metadata": {
    "id": "63mx2EozRxFP"
   },
   "source": [
    "Inputs"
   ]
  },
  {
   "cell_type": "code",
   "execution_count": 7,
   "id": "e9079265-819b-459e-8aa2-f3728ccf45ef",
   "metadata": {
    "colab": {
     "base_uri": "https://localhost:8080/",
     "height": 35
    },
    "executionInfo": {
     "elapsed": 2124,
     "status": "ok",
     "timestamp": 1683726390544,
     "user": {
      "displayName": "Mike Henderson",
      "userId": "07691629187611687318"
     },
     "user_tz": 240
    },
    "id": "xzcoXjM5Rky5",
    "outputId": "b3bdcbc1-70d5-472e-aea2-42c74a42efde",
    "tags": []
   },
   "outputs": [
    {
     "data": {
      "text/plain": [
       "'statmike-mlops-349915'"
      ]
     },
     "execution_count": 7,
     "metadata": {},
     "output_type": "execute_result"
    }
   ],
   "source": [
    "project = !gcloud config get-value project\n",
    "PROJECT_ID = project[0]\n",
    "PROJECT_ID"
   ]
  },
  {
   "cell_type": "code",
   "execution_count": 8,
   "id": "d5029986-415f-45fc-bb3d-f46d35f62102",
   "metadata": {
    "executionInfo": {
     "elapsed": 2,
     "status": "ok",
     "timestamp": 1683726390712,
     "user": {
      "displayName": "Mike Henderson",
      "userId": "07691629187611687318"
     },
     "user_tz": 240
    },
    "id": "IxWrFtqYMfku",
    "tags": []
   },
   "outputs": [],
   "source": [
    "REGION = 'us-central1'\n",
    "SERIES = 'mlops'\n",
    "EXPERIMENT = 'pipeline-testing'\n",
    "\n",
    "# gcs bucket\n",
    "GCS_BUCKET = PROJECT_ID"
   ]
  },
  {
   "cell_type": "markdown",
   "id": "35a7ac64-490d-404c-854a-76fdebd894a4",
   "metadata": {
    "id": "LuajVwCiO6Yg"
   },
   "source": [
    "Packages"
   ]
  },
  {
   "cell_type": "code",
   "execution_count": 9,
   "id": "4b078bec-853e-49fa-a50a-69acea8d0032",
   "metadata": {
    "executionInfo": {
     "elapsed": 17761,
     "status": "ok",
     "timestamp": 1683726409304,
     "user": {
      "displayName": "Mike Henderson",
      "userId": "07691629187611687318"
     },
     "user_tz": 240
    },
    "id": "LVC7zzSLRk2C",
    "tags": []
   },
   "outputs": [],
   "source": [
    "import os, glob, json, yaml, time, importlib\n",
    "from typing import NamedTuple\n",
    "\n",
    "from google.cloud import aiplatform\n",
    "import kfp\n",
    "from IPython.display import Markdown"
   ]
  },
  {
   "cell_type": "code",
   "execution_count": 10,
   "id": "982b0762-dd0b-4da8-b01a-c9b29e9ec674",
   "metadata": {
    "tags": []
   },
   "outputs": [
    {
     "data": {
      "text/plain": [
       "'1.78.0'"
      ]
     },
     "execution_count": 10,
     "metadata": {},
     "output_type": "execute_result"
    }
   ],
   "source": [
    "aiplatform.__version__"
   ]
  },
  {
   "cell_type": "code",
   "execution_count": 11,
   "id": "3fc109ca-bbcb-49e2-b03b-d176b5b0b282",
   "metadata": {
    "tags": []
   },
   "outputs": [
    {
     "data": {
      "text/plain": [
       "'2.12.1'"
      ]
     },
     "execution_count": 11,
     "metadata": {},
     "output_type": "execute_result"
    }
   ],
   "source": [
    "kfp.__version__"
   ]
  },
  {
   "cell_type": "markdown",
   "id": "052b39ab-b95d-45c5-b145-b1a26c49d820",
   "metadata": {
    "id": "EyAVFG9TO9H-"
   },
   "source": [
    "Clients"
   ]
  },
  {
   "cell_type": "code",
   "execution_count": 12,
   "id": "a65d5954-d59a-4e5f-89cc-f0e288e7e279",
   "metadata": {
    "executionInfo": {
     "elapsed": 19,
     "status": "ok",
     "timestamp": 1683726409306,
     "user": {
      "displayName": "Mike Henderson",
      "userId": "07691629187611687318"
     },
     "user_tz": 240
    },
    "id": "L0RPE13LOZce",
    "tags": []
   },
   "outputs": [],
   "source": [
    "# vertex ai clients\n",
    "aiplatform.init(project = PROJECT_ID, location = REGION)"
   ]
  },
  {
   "cell_type": "markdown",
   "id": "bd7df318-7221-429b-ae27-8bc30e807b5c",
   "metadata": {},
   "source": [
    "parameters:"
   ]
  },
  {
   "cell_type": "code",
   "execution_count": 13,
   "id": "e3b9d145-7c13-415a-ae8b-59241cf0e8ee",
   "metadata": {
    "tags": []
   },
   "outputs": [],
   "source": [
    "DIR = f\"temp/{SERIES}-{EXPERIMENT}\""
   ]
  },
  {
   "cell_type": "code",
   "execution_count": 14,
   "id": "456ccc13-48a3-411f-9f10-7d3c94d5105b",
   "metadata": {
    "tags": []
   },
   "outputs": [
    {
     "data": {
      "text/plain": [
       "'1026793852137-compute@developer.gserviceaccount.com'"
      ]
     },
     "execution_count": 14,
     "metadata": {},
     "output_type": "execute_result"
    }
   ],
   "source": [
    "SERVICE_ACCOUNT = !gcloud config list --format='value(core.account)' \n",
    "SERVICE_ACCOUNT = SERVICE_ACCOUNT[0]\n",
    "SERVICE_ACCOUNT"
   ]
  },
  {
   "cell_type": "markdown",
   "id": "d7e6c16c-00ea-48fb-8f29-b56142096b25",
   "metadata": {},
   "source": [
    "environment:\n",
    "- make a local folder for temporary storage"
   ]
  },
  {
   "cell_type": "code",
   "execution_count": 15,
   "id": "6ec4c9e5-11bf-41be-a847-0bb36b8c3ea6",
   "metadata": {
    "tags": []
   },
   "outputs": [],
   "source": [
    "if not os.path.exists(DIR):\n",
    "    os.makedirs(DIR)"
   ]
  },
  {
   "cell_type": "markdown",
   "id": "f04f3631-6bd6-44e2-a0b1-d7db5e3f7b65",
   "metadata": {},
   "source": [
    "---\n",
    "## Local Testing\n",
    "\n",
    "The fastest way to test a component or full pipeline is to [test it locally](https://www.kubeflow.org/docs/components/pipelines/user-guides/core-functions/execute-kfp-pipelines-locally/#overview).  This is made each by importing and the [local module](https://kubeflow-pipelines.readthedocs.io/en/latest/source/local.html):\n",
    "```Python\n",
    "from kfp import local\n",
    "\n",
    "local.init(runner = local.DockerRunner())\n",
    "```\n",
    "\n",
    "This method has a few limitations but these are acceptable for a development environment where you need fast iteration.  Using these options will be ignored during local execution:\n",
    "\n",
    "- task-level configuration will be ignored, like `.set_memory_limit`, `.set_accelerator_type`\n",
    "- pipeline-level optimizations like `.set_retry`, `.set_caching_options`\n",
    "- some control flow operators like `kfp.dsl.ParallelFor` and `kfp.dsl.ExitHandler`\n",
    "\n",
    "Local environment options, **runners**:\n",
    "- [`DockerRunner`](https://www.kubeflow.org/docs/components/pipelines/user-guides/core-functions/execute-kfp-pipelines-locally/#runner-dockerrunner)\n",
    "    - the best option for local runtime environment isolation\n",
    "    - most similar to remote execution\n",
    "    - can run all component types\n",
    "    - requires [Docker to be installed](https://docs.docker.com/engine/install/) but does not require the user to directly use Docker \n",
    "- [`SubprocessRunner`](https://www.kubeflow.org/docs/components/pipelines/user-guides/core-functions/execute-kfp-pipelines-locally/#runner-subprocessrunner)\n",
    "    - does not support custom images\n",
    "    - only works with lightweight Python components\n",
    "    - does install dependencies and uses a virtual environment for them"
   ]
  },
  {
   "cell_type": "markdown",
   "id": "4c79b90c-9923-4c71-aaff-9d583e3f6ad7",
   "metadata": {},
   "source": [
    "### Initialize Local Execution Session"
   ]
  },
  {
   "cell_type": "code",
   "execution_count": 16,
   "id": "0e763fe0-6e37-47bc-a7c4-012f58c8a6de",
   "metadata": {
    "tags": []
   },
   "outputs": [],
   "source": [
    "kfp.local.init(\n",
    "    runner = kfp.local.DockerRunner(),\n",
    "    pipeline_root = DIR\n",
    ")"
   ]
  },
  {
   "cell_type": "markdown",
   "id": "cf0a3367-c824-48e7-a4d7-19a241d6380f",
   "metadata": {},
   "source": [
    "### Create Component & Test Locally\n",
    "\n",
    "Components are created as they normally are. The local exectuion is already initialized so testing is as easy as createing a task that uses the component."
   ]
  },
  {
   "cell_type": "code",
   "execution_count": 17,
   "id": "20b83557-26d7-4713-b165-c7de273dc711",
   "metadata": {
    "tags": []
   },
   "outputs": [],
   "source": [
    "@kfp.dsl.component(\n",
    "    base_image = 'python:3.10',\n",
    "    packages_to_install = ['numpy']\n",
    ")\n",
    "def roll_dice(num_dice: int = 1) -> int:\n",
    "    import numpy as np\n",
    "    result = sum([np.random.randint(1,7) for n in range(num_dice)])\n",
    "    return result"
   ]
  },
  {
   "cell_type": "code",
   "execution_count": 18,
   "id": "a412b4e6-d2f0-4edf-8054-4b2518a62280",
   "metadata": {
    "tags": []
   },
   "outputs": [
    {
     "name": "stdout",
     "output_type": "stream",
     "text": [
      "18:32:34.069 - INFO - Executing task \u001b[96m'roll-dice'\u001b[0m\n",
      "18:32:34.070 - INFO - Streamed logs:\n",
      "\n",
      "    Found image 'python:3.10'\n",
      "\n",
      "    WARNING: Running pip as the 'root' user can result in broken permissions and conflicting behaviour with the system package manager. It is recommended to use a virtual environment instead: https://pip.pypa.io/warnings/venv\n",
      "    WARNING: Running pip as the 'root' user can result in broken permissions and conflicting behaviour with the system package manager. It is recommended to use a virtual environment instead: https://pip.pypa.io/warnings/venv\n",
      "    \n",
      "    [notice] A new release of pip is available: 23.0.1 -> 25.0.1\n",
      "    [notice] To update, run: pip install --upgrade pip\n",
      "    [KFP Executor 2025-03-10 18:32:44,722 INFO]: Looking for component `roll_dice` in --component_module_path `/tmp/tmp.TiiWzxK7qZ/ephemeral_component.py`\n",
      "    [KFP Executor 2025-03-10 18:32:44,722 INFO]: Loading KFP component \"roll_dice\" from /tmp/tmp.TiiWzxK7qZ/ephemeral_component.py (directory \"/tmp/tmp.TiiWzxK7qZ\" and module name \"ephemeral_component\")\n",
      "    [KFP Executor 2025-03-10 18:32:44,723 INFO]: Got executor_input:\n",
      "    {\n",
      "        \"inputs\": {\n",
      "            \"parameterValues\": {\n",
      "                \"num_dice\": 1\n",
      "            }\n",
      "        },\n",
      "        \"outputs\": {\n",
      "            \"parameters\": {\n",
      "                \"Output\": {\n",
      "                    \"outputFile\": \"/home/jupyter/vertex-ai-mlops/MLOps/Pipelines/temp/mlops-pipeline-testing/roll-dice-2025-03-10-18-32-34-068400/roll-dice/Output\"\n",
      "                }\n",
      "            },\n",
      "            \"outputFile\": \"/home/jupyter/vertex-ai-mlops/MLOps/Pipelines/temp/mlops-pipeline-testing/roll-dice-2025-03-10-18-32-34-068400/roll-dice/executor_output.json\"\n",
      "        }\n",
      "    }\n",
      "    [KFP Executor 2025-03-10 18:32:44,881 INFO]: Wrote executor output file to /home/jupyter/vertex-ai-mlops/MLOps/Pipelines/temp/mlops-pipeline-testing/roll-dice-2025-03-10-18-32-34-068400/roll-dice/executor_output.json.\n",
      "18:32:45.452 - INFO - Task \u001b[96m'roll-dice'\u001b[0m finished with status \u001b[92mSUCCESS\u001b[0m\n",
      "18:32:45.454 - INFO - Task \u001b[96m'roll-dice'\u001b[0m outputs:\n",
      "    Output: 3\n",
      "--------------------------------------------------------------------------------\n"
     ]
    }
   ],
   "source": [
    "test = roll_dice(num_dice = 1)"
   ]
  },
  {
   "cell_type": "code",
   "execution_count": 19,
   "id": "6b72bb3a-9b19-4eaf-ba96-693fcf8e1852",
   "metadata": {
    "tags": []
   },
   "outputs": [
    {
     "data": {
      "text/plain": [
       "3"
      ]
     },
     "execution_count": 19,
     "metadata": {},
     "output_type": "execute_result"
    }
   ],
   "source": [
    "test.output"
   ]
  },
  {
   "cell_type": "code",
   "execution_count": 20,
   "id": "01cba4dc-f650-4287-b554-8bae7f610d92",
   "metadata": {
    "tags": []
   },
   "outputs": [
    {
     "data": {
      "text/plain": [
       "({'num_dice': 1}, 3)"
      ]
     },
     "execution_count": 20,
     "metadata": {},
     "output_type": "execute_result"
    }
   ],
   "source": [
    "test.inputs, test.output"
   ]
  },
  {
   "cell_type": "code",
   "execution_count": 21,
   "id": "7fdff887-183c-405e-82cf-357cabbfcf1e",
   "metadata": {
    "tags": []
   },
   "outputs": [
    {
     "data": {
      "text/plain": [
       "'roll-dice'"
      ]
     },
     "execution_count": 21,
     "metadata": {},
     "output_type": "execute_result"
    }
   ],
   "source": [
    "test.name"
   ]
  },
  {
   "cell_type": "code",
   "execution_count": 22,
   "id": "b0a622ca-f2d7-4f3e-8c81-018e0b4e019a",
   "metadata": {
    "tags": []
   },
   "outputs": [
    {
     "name": "stdout",
     "output_type": "stream",
     "text": [
      "Task has no dependent tasks since it is executed independently.\n"
     ]
    }
   ],
   "source": [
    "try:\n",
    "    test.dependent_tasks\n",
    "except Exception as err:\n",
    "    print(err)"
   ]
  },
  {
   "cell_type": "markdown",
   "id": "3a079eb0-2ff7-48f7-88b7-6d1612ac2b7b",
   "metadata": {},
   "source": [
    "### Create Pipeline & Test Locally\n",
    "\n",
    "Similar to components, the creation of a pipeline is the same and testing locally is as easy as creating a run of the pipeline since local execution is already initialized."
   ]
  },
  {
   "cell_type": "code",
   "execution_count": 23,
   "id": "4da9bb05-0e7e-4f61-8bcf-e3b43212c2f3",
   "metadata": {
    "tags": []
   },
   "outputs": [],
   "source": [
    "@kfp.dsl.pipeline(\n",
    "    name = f'{SERIES}-{EXPERIMENT}',\n",
    "    description = 'A pipeline built and tested locally first.'\n",
    ")\n",
    "def rolling_pipeline(\n",
    "    num_dice: int\n",
    ") -> int:\n",
    "    \n",
    "    roll_1 = roll_dice(num_dice = num_dice)\n",
    "    roll_2 = roll_dice(num_dice = roll_1.output)\n",
    "\n",
    "    return roll_2.output"
   ]
  },
  {
   "cell_type": "code",
   "execution_count": 24,
   "id": "45e8018b-19c2-4d4a-9d1b-b007b4585dba",
   "metadata": {
    "tags": []
   },
   "outputs": [
    {
     "name": "stdout",
     "output_type": "stream",
     "text": [
      "18:32:52.267 - INFO - Running pipeline: \u001b[95m'mlops-pipeline-testing'\u001b[0m\n",
      "--------------------------------------------------------------------------------\n",
      "18:32:52.273 - INFO - Executing task \u001b[96m'roll-dice'\u001b[0m\n",
      "18:32:52.274 - INFO - Streamed logs:\n",
      "\n",
      "    Found image 'python:3.10'\n",
      "\n",
      "    WARNING: Running pip as the 'root' user can result in broken permissions and conflicting behaviour with the system package manager. It is recommended to use a virtual environment instead: https://pip.pypa.io/warnings/venv\n",
      "    WARNING: Running pip as the 'root' user can result in broken permissions and conflicting behaviour with the system package manager. It is recommended to use a virtual environment instead: https://pip.pypa.io/warnings/venv\n",
      "    \n",
      "    [notice] A new release of pip is available: 23.0.1 -> 25.0.1\n",
      "    [notice] To update, run: pip install --upgrade pip\n",
      "    [KFP Executor 2025-03-10 18:33:02,736 INFO]: Looking for component `roll_dice` in --component_module_path `/tmp/tmp.yUWQjHQMUR/ephemeral_component.py`\n",
      "    [KFP Executor 2025-03-10 18:33:02,736 INFO]: Loading KFP component \"roll_dice\" from /tmp/tmp.yUWQjHQMUR/ephemeral_component.py (directory \"/tmp/tmp.yUWQjHQMUR\" and module name \"ephemeral_component\")\n",
      "    [KFP Executor 2025-03-10 18:33:02,737 INFO]: Got executor_input:\n",
      "    {\n",
      "        \"inputs\": {\n",
      "            \"parameterValues\": {\n",
      "                \"num_dice\": 1\n",
      "            }\n",
      "        },\n",
      "        \"outputs\": {\n",
      "            \"parameters\": {\n",
      "                \"Output\": {\n",
      "                    \"outputFile\": \"/home/jupyter/vertex-ai-mlops/MLOps/Pipelines/temp/mlops-pipeline-testing/mlops-pipeline-testing-2025-03-10-18-32-52-267221/roll-dice/Output\"\n",
      "                }\n",
      "            },\n",
      "            \"outputFile\": \"/home/jupyter/vertex-ai-mlops/MLOps/Pipelines/temp/mlops-pipeline-testing/mlops-pipeline-testing-2025-03-10-18-32-52-267221/roll-dice/executor_output.json\"\n",
      "        }\n",
      "    }\n",
      "    [KFP Executor 2025-03-10 18:33:02,913 INFO]: Wrote executor output file to /home/jupyter/vertex-ai-mlops/MLOps/Pipelines/temp/mlops-pipeline-testing/mlops-pipeline-testing-2025-03-10-18-32-52-267221/roll-dice/executor_output.json.\n",
      "18:33:03.436 - INFO - Task \u001b[96m'roll-dice'\u001b[0m finished with status \u001b[92mSUCCESS\u001b[0m\n",
      "18:33:03.438 - INFO - Task \u001b[96m'roll-dice'\u001b[0m outputs:\n",
      "    Output: 6\n",
      "--------------------------------------------------------------------------------\n",
      "18:33:03.442 - INFO - Executing task \u001b[96m'roll-dice-2'\u001b[0m\n",
      "18:33:03.443 - INFO - Streamed logs:\n",
      "\n",
      "    Found image 'python:3.10'\n",
      "\n",
      "    WARNING: Running pip as the 'root' user can result in broken permissions and conflicting behaviour with the system package manager. It is recommended to use a virtual environment instead: https://pip.pypa.io/warnings/venv\n",
      "    WARNING: Running pip as the 'root' user can result in broken permissions and conflicting behaviour with the system package manager. It is recommended to use a virtual environment instead: https://pip.pypa.io/warnings/venv\n",
      "    \n",
      "    [notice] A new release of pip is available: 23.0.1 -> 25.0.1\n",
      "    [notice] To update, run: pip install --upgrade pip\n",
      "    [KFP Executor 2025-03-10 18:33:14,533 INFO]: Looking for component `roll_dice` in --component_module_path `/tmp/tmp.lK0ImWNJDf/ephemeral_component.py`\n",
      "    [KFP Executor 2025-03-10 18:33:14,533 INFO]: Loading KFP component \"roll_dice\" from /tmp/tmp.lK0ImWNJDf/ephemeral_component.py (directory \"/tmp/tmp.lK0ImWNJDf\" and module name \"ephemeral_component\")\n",
      "    [KFP Executor 2025-03-10 18:33:14,534 INFO]: Got executor_input:\n",
      "    {\n",
      "        \"inputs\": {\n",
      "            \"parameterValues\": {\n",
      "                \"num_dice\": 6\n",
      "            }\n",
      "        },\n",
      "        \"outputs\": {\n",
      "            \"parameters\": {\n",
      "                \"Output\": {\n",
      "                    \"outputFile\": \"/home/jupyter/vertex-ai-mlops/MLOps/Pipelines/temp/mlops-pipeline-testing/mlops-pipeline-testing-2025-03-10-18-32-52-267221/roll-dice-2/Output\"\n",
      "                }\n",
      "            },\n",
      "            \"outputFile\": \"/home/jupyter/vertex-ai-mlops/MLOps/Pipelines/temp/mlops-pipeline-testing/mlops-pipeline-testing-2025-03-10-18-32-52-267221/roll-dice-2/executor_output.json\"\n",
      "        }\n",
      "    }\n",
      "    [KFP Executor 2025-03-10 18:33:14,675 INFO]: Wrote executor output file to /home/jupyter/vertex-ai-mlops/MLOps/Pipelines/temp/mlops-pipeline-testing/mlops-pipeline-testing-2025-03-10-18-32-52-267221/roll-dice-2/executor_output.json.\n",
      "18:33:15.160 - INFO - Task \u001b[96m'roll-dice-2'\u001b[0m finished with status \u001b[92mSUCCESS\u001b[0m\n",
      "18:33:15.162 - INFO - Task \u001b[96m'roll-dice-2'\u001b[0m outputs:\n",
      "    Output: 15\n",
      "--------------------------------------------------------------------------------\n",
      "18:33:15.165 - INFO - Pipeline \u001b[95m'mlops-pipeline-testing'\u001b[0m finished with status \u001b[92mSUCCESS\u001b[0m\n"
     ]
    }
   ],
   "source": [
    "test_pipeline = rolling_pipeline(num_dice = 1)"
   ]
  },
  {
   "cell_type": "code",
   "execution_count": 25,
   "id": "2c5d4d75-9ee9-4b0a-ac43-90276bb1f12f",
   "metadata": {
    "tags": []
   },
   "outputs": [
    {
     "data": {
      "text/plain": [
       "({'num_dice': 1}, {'Output': 15})"
      ]
     },
     "execution_count": 25,
     "metadata": {},
     "output_type": "execute_result"
    }
   ],
   "source": [
    "test_pipeline.inputs, test_pipeline.outputs"
   ]
  },
  {
   "cell_type": "code",
   "execution_count": 26,
   "id": "848fdb98-d00a-40ee-84ca-5cce346b46a0",
   "metadata": {
    "tags": []
   },
   "outputs": [
    {
     "data": {
      "text/plain": [
       "'mlops-pipeline-testing'"
      ]
     },
     "execution_count": 26,
     "metadata": {},
     "output_type": "execute_result"
    }
   ],
   "source": [
    "test_pipeline.name"
   ]
  },
  {
   "cell_type": "markdown",
   "id": "6a9e6a92-9388-478e-a425-8d7283114651",
   "metadata": {},
   "source": [
    "### Test Component Returning An Artifact\n",
    "\n",
    "The example above used simple parameter return values.  Similarly, artifacts can be returned and read directly for review.  In this case a single output artifact without a name.\n",
    "\n",
    "This example uses the built in generic artifact type from kfp: [`kfp.dsl.Artifact`](https://kubeflow-pipelines.readthedocs.io/en/latest/source/dsl.html#kfp.dsl.Artifact)"
   ]
  },
  {
   "cell_type": "code",
   "execution_count": 27,
   "id": "b5643866-8e59-47da-a7fc-81c2179658ed",
   "metadata": {
    "tags": []
   },
   "outputs": [],
   "source": [
    "@kfp.dsl.component(\n",
    "    base_image = 'python:3.10'\n",
    ")\n",
    "def flip_coins(\n",
    "    num_coins: int = 1\n",
    ") -> kfp.dsl.Artifact:\n",
    "    import random\n",
    "    flipmap = ['T', 'H']\n",
    "    flips = [flipmap[random.randint(0, 1)] for n in range(num_coins)]\n",
    "    \n",
    "    response = kfp.dsl.Artifact(\n",
    "        metadata = dict(flips = flips),\n",
    "        uri = kfp.dsl.get_uri(suffix = ''),\n",
    "        name = 'Flips History'\n",
    "    )\n",
    "    \n",
    "    return response"
   ]
  },
  {
   "cell_type": "code",
   "execution_count": 28,
   "id": "3e77f234-8167-40e1-8650-f189a6f42f0c",
   "metadata": {
    "tags": []
   },
   "outputs": [
    {
     "name": "stdout",
     "output_type": "stream",
     "text": [
      "18:33:21.563 - INFO - Executing task \u001b[96m'flip-coins'\u001b[0m\n",
      "18:33:21.565 - INFO - Streamed logs:\n",
      "\n",
      "    Found image 'python:3.10'\n",
      "\n",
      "    WARNING: Running pip as the 'root' user can result in broken permissions and conflicting behaviour with the system package manager. It is recommended to use a virtual environment instead: https://pip.pypa.io/warnings/venv\n",
      "    [KFP Executor 2025-03-10 18:33:26,758 INFO]: Looking for component `flip_coins` in --component_module_path `/tmp/tmp.ltpV1FgSpw/ephemeral_component.py`\n",
      "    [KFP Executor 2025-03-10 18:33:26,758 INFO]: Loading KFP component \"flip_coins\" from /tmp/tmp.ltpV1FgSpw/ephemeral_component.py (directory \"/tmp/tmp.ltpV1FgSpw\" and module name \"ephemeral_component\")\n",
      "    [KFP Executor 2025-03-10 18:33:26,759 INFO]: Got executor_input:\n",
      "    {\n",
      "        \"inputs\": {\n",
      "            \"parameterValues\": {\n",
      "                \"num_coins\": 10\n",
      "            }\n",
      "        },\n",
      "        \"outputs\": {\n",
      "            \"artifacts\": {\n",
      "                \"Output\": {\n",
      "                    \"artifacts\": [\n",
      "                        {\n",
      "                            \"name\": \"Output\",\n",
      "                            \"type\": {\n",
      "                                \"schemaTitle\": \"system.Artifact\",\n",
      "                                \"schemaVersion\": \"0.0.1\"\n",
      "                            },\n",
      "                            \"uri\": \"/home/jupyter/vertex-ai-mlops/MLOps/Pipelines/temp/mlops-pipeline-testing/flip-coins-2025-03-10-18-33-21-562325/flip-coins/Output\",\n",
      "                            \"metadata\": {}\n",
      "                        }\n",
      "                    ]\n",
      "                }\n",
      "            },\n",
      "            \"outputFile\": \"/home/jupyter/vertex-ai-mlops/MLOps/Pipelines/temp/mlops-pipeline-testing/flip-coins-2025-03-10-18-33-21-562325/flip-coins/executor_output.json\"\n",
      "        }\n",
      "    }\n",
      "    [KFP Executor 2025-03-10 18:33:26,764 INFO]: Wrote executor output file to /home/jupyter/vertex-ai-mlops/MLOps/Pipelines/temp/mlops-pipeline-testing/flip-coins-2025-03-10-18-33-21-562325/flip-coins/executor_output.json.\n",
      "18:33:27.044 - INFO - Task \u001b[96m'flip-coins'\u001b[0m finished with status \u001b[92mSUCCESS\u001b[0m\n",
      "18:33:27.047 - INFO - Task \u001b[96m'flip-coins'\u001b[0m outputs:\n",
      "    Output: Artifact( name='Flips History',\n",
      "                      uri='/home/jupyter/vertex-ai-mlops/MLOps/Pipelines/temp/mlops-pipeline-testing/flip-coins-2025-03-10-18-33-21-562325/flip-coins/',\n",
      "                      metadata={'flips': ['H', 'H', 'T', 'H', 'T', 'T', 'H', 'H', 'T', 'T']} )\n",
      "--------------------------------------------------------------------------------\n"
     ]
    }
   ],
   "source": [
    "test_artifact = flip_coins(num_coins = 10)"
   ]
  },
  {
   "cell_type": "code",
   "execution_count": 29,
   "id": "a9f0a4c5-1bf9-403a-8060-f9dfb408ced1",
   "metadata": {
    "tags": []
   },
   "outputs": [
    {
     "data": {
      "text/plain": [
       "{'num_coins': 10}"
      ]
     },
     "execution_count": 29,
     "metadata": {},
     "output_type": "execute_result"
    }
   ],
   "source": [
    "test_artifact.inputs"
   ]
  },
  {
   "cell_type": "code",
   "execution_count": 30,
   "id": "0ceb1968-8ae2-4e6f-ba78-41e2149d2fb3",
   "metadata": {
    "tags": []
   },
   "outputs": [
    {
     "data": {
      "text/plain": [
       "{'Output': <kfp.dsl.types.artifact_types.Artifact at 0x7f9e83ac5ed0>}"
      ]
     },
     "execution_count": 30,
     "metadata": {},
     "output_type": "execute_result"
    }
   ],
   "source": [
    "test_artifact.outputs"
   ]
  },
  {
   "cell_type": "code",
   "execution_count": 31,
   "id": "86ee6918-9c5a-4dec-a50f-185bd2e1d124",
   "metadata": {
    "tags": []
   },
   "outputs": [
    {
     "data": {
      "text/plain": [
       "'/home/jupyter/vertex-ai-mlops/MLOps/Pipelines/temp/mlops-pipeline-testing/flip-coins-2025-03-10-18-33-21-562325/flip-coins/'"
      ]
     },
     "execution_count": 31,
     "metadata": {},
     "output_type": "execute_result"
    }
   ],
   "source": [
    "test_artifact.outputs['Output'].path"
   ]
  },
  {
   "cell_type": "code",
   "execution_count": 32,
   "id": "cc6c7752-e477-407c-9453-213c1ba68e77",
   "metadata": {
    "tags": []
   },
   "outputs": [
    {
     "data": {
      "text/plain": [
       "'Flips History'"
      ]
     },
     "execution_count": 32,
     "metadata": {},
     "output_type": "execute_result"
    }
   ],
   "source": [
    "test_artifact.outputs['Output'].name"
   ]
  },
  {
   "cell_type": "code",
   "execution_count": 33,
   "id": "3a89752c-731b-4946-8f74-80f8635f4059",
   "metadata": {
    "tags": []
   },
   "outputs": [
    {
     "data": {
      "text/plain": [
       "{'flips': ['H', 'H', 'T', 'H', 'T', 'T', 'H', 'H', 'T', 'T']}"
      ]
     },
     "execution_count": 33,
     "metadata": {},
     "output_type": "execute_result"
    }
   ],
   "source": [
    "test_artifact.outputs['Output'].metadata"
   ]
  },
  {
   "cell_type": "code",
   "execution_count": 34,
   "id": "8c380109-359e-4e38-b842-c6d885b87bbe",
   "metadata": {
    "tags": []
   },
   "outputs": [
    {
     "name": "stdout",
     "output_type": "stream",
     "text": [
      "executor_output.json\n"
     ]
    }
   ],
   "source": [
    "!ls {test_artifact.outputs['Output'].path}"
   ]
  },
  {
   "cell_type": "code",
   "execution_count": 35,
   "id": "d3b0d6c6-a175-47fb-97b8-2b556eab7242",
   "metadata": {
    "tags": []
   },
   "outputs": [],
   "source": [
    "with open(test_artifact.outputs['Output'].path + '/executor_output.json') as f:\n",
    "    contents = f.read()"
   ]
  },
  {
   "cell_type": "code",
   "execution_count": 36,
   "id": "c7a6e487-6065-49d4-89d1-1fc07baa3880",
   "metadata": {
    "tags": []
   },
   "outputs": [
    {
     "data": {
      "text/plain": [
       "{'artifacts': {'Output': {'artifacts': [{'name': 'Flips History',\n",
       "     'uri': '/home/jupyter/vertex-ai-mlops/MLOps/Pipelines/temp/mlops-pipeline-testing/flip-coins-2025-03-10-18-33-21-562325/flip-coins/',\n",
       "     'metadata': {'flips': ['H',\n",
       "       'H',\n",
       "       'T',\n",
       "       'H',\n",
       "       'T',\n",
       "       'T',\n",
       "       'H',\n",
       "       'H',\n",
       "       'T',\n",
       "       'T']}}]}}}"
      ]
     },
     "execution_count": 36,
     "metadata": {},
     "output_type": "execute_result"
    }
   ],
   "source": [
    "contents = json.loads(contents)\n",
    "contents"
   ]
  },
  {
   "cell_type": "code",
   "execution_count": 37,
   "id": "789c51f6-d7db-4973-857c-316140179a9f",
   "metadata": {
    "tags": []
   },
   "outputs": [
    {
     "data": {
      "text/plain": [
       "['H', 'H', 'T', 'H', 'T', 'T', 'H', 'H', 'T', 'T']"
      ]
     },
     "execution_count": 37,
     "metadata": {},
     "output_type": "execute_result"
    }
   ],
   "source": [
    "contents['artifacts']['Output']['artifacts'][0]['metadata']['flips']"
   ]
  },
  {
   "cell_type": "markdown",
   "id": "c5b89996-6071-4267-a43f-5a08bcc89c71",
   "metadata": {},
   "source": [
    "### Test Component With Input Artifact\n",
    "\n",
    "Artifact can all be input values.  This example modifies the above example to input the number of coins as an artifact.\n",
    "\n",
    "This example uses the built in generic artifact type from kfp: [`kfp.dsl.Artifact`](https://kubeflow-pipelines.readthedocs.io/en/latest/source/dsl.html#kfp.dsl.Artifact)"
   ]
  },
  {
   "cell_type": "code",
   "execution_count": 38,
   "id": "3752cde0-ca1c-4a00-818f-66828af3dc11",
   "metadata": {
    "tags": []
   },
   "outputs": [],
   "source": [
    "@kfp.dsl.component(\n",
    "    base_image = 'python:3.10'\n",
    ")\n",
    "def flip_coins(\n",
    "    num_coins: int\n",
    ") -> kfp.dsl.Artifact:\n",
    "    import random\n",
    "    flipmap = ['T', 'H']\n",
    "    flips = [flipmap[random.randint(0, 1)] for n in range(num_coins)]\n",
    "    \n",
    "    response = kfp.dsl.Artifact(\n",
    "        metadata = dict(flips = flips),\n",
    "        uri = kfp.dsl.get_uri(suffix = ''),\n",
    "        name = 'Flips History'\n",
    "    )\n",
    "    \n",
    "    return response"
   ]
  },
  {
   "cell_type": "code",
   "execution_count": 39,
   "id": "3c99fec8-44db-443d-9f80-31cf9aba4c07",
   "metadata": {
    "tags": []
   },
   "outputs": [],
   "source": [
    "num_coins = kfp.dsl.Artifact(metadata = dict(num_coins = 15))"
   ]
  },
  {
   "cell_type": "code",
   "execution_count": 40,
   "id": "80c8059f-82f7-46bc-81ca-3e2c2dafefd6",
   "metadata": {
    "tags": []
   },
   "outputs": [
    {
     "data": {
      "text/plain": [
       "15"
      ]
     },
     "execution_count": 40,
     "metadata": {},
     "output_type": "execute_result"
    }
   ],
   "source": [
    "num_coins.metadata['num_coins']"
   ]
  },
  {
   "cell_type": "code",
   "execution_count": 41,
   "id": "b4acd247-1c8d-4255-ab0a-974bb4585b31",
   "metadata": {
    "tags": []
   },
   "outputs": [
    {
     "name": "stdout",
     "output_type": "stream",
     "text": [
      "18:33:36.048 - INFO - Executing task \u001b[96m'flip-coins'\u001b[0m\n",
      "18:33:36.049 - INFO - Streamed logs:\n",
      "\n",
      "    Found image 'python:3.10'\n",
      "\n",
      "    WARNING: Running pip as the 'root' user can result in broken permissions and conflicting behaviour with the system package manager. It is recommended to use a virtual environment instead: https://pip.pypa.io/warnings/venv\n",
      "    [KFP Executor 2025-03-10 18:33:41,294 INFO]: Looking for component `flip_coins` in --component_module_path `/tmp/tmp.6nwnBpbquB/ephemeral_component.py`\n",
      "    [KFP Executor 2025-03-10 18:33:41,294 INFO]: Loading KFP component \"flip_coins\" from /tmp/tmp.6nwnBpbquB/ephemeral_component.py (directory \"/tmp/tmp.6nwnBpbquB\" and module name \"ephemeral_component\")\n",
      "    [KFP Executor 2025-03-10 18:33:41,295 INFO]: Got executor_input:\n",
      "    {\n",
      "        \"inputs\": {\n",
      "            \"parameterValues\": {\n",
      "                \"num_coins\": 15\n",
      "            }\n",
      "        },\n",
      "        \"outputs\": {\n",
      "            \"artifacts\": {\n",
      "                \"Output\": {\n",
      "                    \"artifacts\": [\n",
      "                        {\n",
      "                            \"name\": \"Output\",\n",
      "                            \"type\": {\n",
      "                                \"schemaTitle\": \"system.Artifact\",\n",
      "                                \"schemaVersion\": \"0.0.1\"\n",
      "                            },\n",
      "                            \"uri\": \"/home/jupyter/vertex-ai-mlops/MLOps/Pipelines/temp/mlops-pipeline-testing/flip-coins-2025-03-10-18-33-36-044687/flip-coins/Output\",\n",
      "                            \"metadata\": {}\n",
      "                        }\n",
      "                    ]\n",
      "                }\n",
      "            },\n",
      "            \"outputFile\": \"/home/jupyter/vertex-ai-mlops/MLOps/Pipelines/temp/mlops-pipeline-testing/flip-coins-2025-03-10-18-33-36-044687/flip-coins/executor_output.json\"\n",
      "        }\n",
      "    }\n",
      "    [KFP Executor 2025-03-10 18:33:41,299 INFO]: Wrote executor output file to /home/jupyter/vertex-ai-mlops/MLOps/Pipelines/temp/mlops-pipeline-testing/flip-coins-2025-03-10-18-33-36-044687/flip-coins/executor_output.json.\n",
      "18:33:41.590 - INFO - Task \u001b[96m'flip-coins'\u001b[0m finished with status \u001b[92mSUCCESS\u001b[0m\n",
      "18:33:41.592 - INFO - Task \u001b[96m'flip-coins'\u001b[0m outputs:\n",
      "    Output: Artifact( name='Flips History',\n",
      "                      uri='/home/jupyter/vertex-ai-mlops/MLOps/Pipelines/temp/mlops-pipeline-testing/flip-coins-2025-03-10-18-33-36-044687/flip-coins/',\n",
      "                      metadata={'flips': ['T', 'H', 'H', 'H', 'T', 'T', 'T', 'H', 'T', 'T', 'T', 'T', 'T', 'T', 'T']} )\n",
      "--------------------------------------------------------------------------------\n"
     ]
    }
   ],
   "source": [
    "test_input_artifact = flip_coins(num_coins = num_coins.metadata['num_coins'])"
   ]
  },
  {
   "cell_type": "code",
   "execution_count": 42,
   "id": "cb23b035-ae95-47a5-aba7-cd3a8a7c7b23",
   "metadata": {
    "tags": []
   },
   "outputs": [
    {
     "data": {
      "text/plain": [
       "{'num_coins': 15}"
      ]
     },
     "execution_count": 42,
     "metadata": {},
     "output_type": "execute_result"
    }
   ],
   "source": [
    "test_input_artifact.inputs"
   ]
  },
  {
   "cell_type": "code",
   "execution_count": 43,
   "id": "64bb0d33-6df7-4a68-94b3-6ba3139498f7",
   "metadata": {
    "tags": []
   },
   "outputs": [
    {
     "data": {
      "text/plain": [
       "{'Output': <kfp.dsl.types.artifact_types.Artifact at 0x7f9e83997eb0>}"
      ]
     },
     "execution_count": 43,
     "metadata": {},
     "output_type": "execute_result"
    }
   ],
   "source": [
    "test_input_artifact.outputs"
   ]
  },
  {
   "cell_type": "code",
   "execution_count": 44,
   "id": "9a028375-cf73-4e2f-8a11-08a92f5dfe59",
   "metadata": {
    "tags": []
   },
   "outputs": [
    {
     "data": {
      "text/plain": [
       "'/home/jupyter/vertex-ai-mlops/MLOps/Pipelines/temp/mlops-pipeline-testing/flip-coins-2025-03-10-18-33-36-044687/flip-coins/'"
      ]
     },
     "execution_count": 44,
     "metadata": {},
     "output_type": "execute_result"
    }
   ],
   "source": [
    "test_input_artifact.outputs['Output'].path"
   ]
  },
  {
   "cell_type": "code",
   "execution_count": 45,
   "id": "de702367-eff6-44d3-b0e0-c1af4690bb4f",
   "metadata": {
    "tags": []
   },
   "outputs": [
    {
     "data": {
      "text/plain": [
       "'Flips History'"
      ]
     },
     "execution_count": 45,
     "metadata": {},
     "output_type": "execute_result"
    }
   ],
   "source": [
    "test_input_artifact.outputs['Output'].name"
   ]
  },
  {
   "cell_type": "code",
   "execution_count": 46,
   "id": "bae7a89d-e4a8-46ec-9529-9c60decf684c",
   "metadata": {
    "tags": []
   },
   "outputs": [
    {
     "data": {
      "text/plain": [
       "{'flips': ['T',\n",
       "  'H',\n",
       "  'H',\n",
       "  'H',\n",
       "  'T',\n",
       "  'T',\n",
       "  'T',\n",
       "  'H',\n",
       "  'T',\n",
       "  'T',\n",
       "  'T',\n",
       "  'T',\n",
       "  'T',\n",
       "  'T',\n",
       "  'T']}"
      ]
     },
     "execution_count": 46,
     "metadata": {},
     "output_type": "execute_result"
    }
   ],
   "source": [
    "test_input_artifact.outputs['Output'].metadata"
   ]
  },
  {
   "cell_type": "markdown",
   "id": "c14bf8d7-c9e9-4401-8516-e5f057087140",
   "metadata": {},
   "source": [
    "### Testing Component Returning Multiple Outputs\n",
    "\n",
    "As show in the [Vertex AI Pipelines - IO](./Vertex%20AI%20Pipelines%20-%20IO.ipynb) workflow in this series, the use of multiple outputs uses `NamedTuple` objects so each output can be individual referenced. \n"
   ]
  },
  {
   "cell_type": "code",
   "execution_count": 47,
   "id": "c1536045-b6b9-44bf-abbf-d1c94906635d",
   "metadata": {
    "tags": []
   },
   "outputs": [],
   "source": [
    "@kfp.dsl.component(\n",
    "    base_image = 'python:3.10',\n",
    "    packages_to_install = ['numpy']\n",
    ")\n",
    "def roll_dice_v2(\n",
    "    num_dice: int = 1\n",
    ") -> NamedTuple('output', rolls=list, total=int, roll_data=kfp.dsl.Artifact):\n",
    "    \n",
    "    import numpy as np\n",
    "    from typing import NamedTuple\n",
    "    result = NamedTuple('output', rolls=list, total=int, roll_data=kfp.dsl.Artifact)\n",
    "    \n",
    "    rolls = [np.random.randint(1,7) for n in range(num_dice)]\n",
    "    total = sum(rolls)\n",
    "    roll_data = kfp.dsl.Artifact(\n",
    "        #name = 'roll_data',\n",
    "        uri = kfp.dsl.get_uri(suffix = ''),\n",
    "        metadata = dict(rolls = rolls, total=total)\n",
    "    )\n",
    "    \n",
    "    \n",
    "    return result(rolls, total, roll_data)"
   ]
  },
  {
   "cell_type": "code",
   "execution_count": 48,
   "id": "20fd810b-05d1-47e0-944c-c65af1b1dc66",
   "metadata": {
    "tags": []
   },
   "outputs": [
    {
     "name": "stdout",
     "output_type": "stream",
     "text": [
      "18:33:46.551 - INFO - Executing task \u001b[96m'roll-dice-v2'\u001b[0m\n",
      "18:33:46.555 - INFO - Streamed logs:\n",
      "\n",
      "    Found image 'python:3.10'\n",
      "\n",
      "    WARNING: Running pip as the 'root' user can result in broken permissions and conflicting behaviour with the system package manager. It is recommended to use a virtual environment instead: https://pip.pypa.io/warnings/venv\n",
      "    WARNING: Running pip as the 'root' user can result in broken permissions and conflicting behaviour with the system package manager. It is recommended to use a virtual environment instead: https://pip.pypa.io/warnings/venv\n",
      "    \n",
      "    [notice] A new release of pip is available: 23.0.1 -> 25.0.1\n",
      "    [notice] To update, run: pip install --upgrade pip\n",
      "    [KFP Executor 2025-03-10 18:33:57,006 INFO]: Looking for component `roll_dice_v2` in --component_module_path `/tmp/tmp.RBYMEaEFCF/ephemeral_component.py`\n",
      "    [KFP Executor 2025-03-10 18:33:57,006 INFO]: Loading KFP component \"roll_dice_v2\" from /tmp/tmp.RBYMEaEFCF/ephemeral_component.py (directory \"/tmp/tmp.RBYMEaEFCF\" and module name \"ephemeral_component\")\n",
      "    [KFP Executor 2025-03-10 18:33:57,007 INFO]: Got executor_input:\n",
      "    {\n",
      "        \"inputs\": {\n",
      "            \"parameterValues\": {\n",
      "                \"num_dice\": 5\n",
      "            }\n",
      "        },\n",
      "        \"outputs\": {\n",
      "            \"parameters\": {\n",
      "                \"rolls\": {\n",
      "                    \"outputFile\": \"/home/jupyter/vertex-ai-mlops/MLOps/Pipelines/temp/mlops-pipeline-testing/roll-dice-v2-2025-03-10-18-33-46-550545/roll-dice-v2/rolls\"\n",
      "                },\n",
      "                \"total\": {\n",
      "                    \"outputFile\": \"/home/jupyter/vertex-ai-mlops/MLOps/Pipelines/temp/mlops-pipeline-testing/roll-dice-v2-2025-03-10-18-33-46-550545/roll-dice-v2/total\"\n",
      "                }\n",
      "            },\n",
      "            \"artifacts\": {\n",
      "                \"roll_data\": {\n",
      "                    \"artifacts\": [\n",
      "                        {\n",
      "                            \"name\": \"roll_data\",\n",
      "                            \"type\": {\n",
      "                                \"schemaTitle\": \"system.Artifact\",\n",
      "                                \"schemaVersion\": \"0.0.1\"\n",
      "                            },\n",
      "                            \"uri\": \"/home/jupyter/vertex-ai-mlops/MLOps/Pipelines/temp/mlops-pipeline-testing/roll-dice-v2-2025-03-10-18-33-46-550545/roll-dice-v2/roll_data\",\n",
      "                            \"metadata\": {}\n",
      "                        }\n",
      "                    ]\n",
      "                }\n",
      "            },\n",
      "            \"outputFile\": \"/home/jupyter/vertex-ai-mlops/MLOps/Pipelines/temp/mlops-pipeline-testing/roll-dice-v2-2025-03-10-18-33-46-550545/roll-dice-v2/executor_output.json\"\n",
      "        }\n",
      "    }\n",
      "    [KFP Executor 2025-03-10 18:33:57,157 INFO]: Wrote executor output file to /home/jupyter/vertex-ai-mlops/MLOps/Pipelines/temp/mlops-pipeline-testing/roll-dice-v2-2025-03-10-18-33-46-550545/roll-dice-v2/executor_output.json.\n",
      "18:33:57.674 - INFO - Task \u001b[96m'roll-dice-v2'\u001b[0m finished with status \u001b[92mSUCCESS\u001b[0m\n",
      "18:33:57.677 - INFO - Task \u001b[96m'roll-dice-v2'\u001b[0m outputs:\n",
      "    rolls: [4.0, 2.0, 3.0, 2.0, 2.0]\n",
      "    total: 13\n",
      "    roll_data: Artifact( name='',\n",
      "                         uri='/home/jupyter/vertex-ai-mlops/MLOps/Pipelines/temp/mlops-pipeline-testing/roll-dice-v2-2025-03-10-18-33-46-550545/roll-dice-v2/',\n",
      "                         metadata={'rolls': [4.0, 2.0, 3.0, 2.0, 2.0], 'total': 13.0} )\n",
      "--------------------------------------------------------------------------------\n"
     ]
    }
   ],
   "source": [
    "test_multiple = roll_dice_v2(num_dice = 5)"
   ]
  },
  {
   "cell_type": "code",
   "execution_count": 49,
   "id": "f3e0eaf5-987f-48fd-8c53-c882bb2af890",
   "metadata": {
    "tags": []
   },
   "outputs": [
    {
     "data": {
      "text/plain": [
       "{'num_dice': 5}"
      ]
     },
     "execution_count": 49,
     "metadata": {},
     "output_type": "execute_result"
    }
   ],
   "source": [
    "test_multiple.inputs"
   ]
  },
  {
   "cell_type": "code",
   "execution_count": 50,
   "id": "d26ad214-9850-46e5-8dc7-c1b398a48f3b",
   "metadata": {
    "tags": []
   },
   "outputs": [
    {
     "data": {
      "text/plain": [
       "{'rolls': [4.0, 2.0, 3.0, 2.0, 2.0],\n",
       " 'total': 13,\n",
       " 'roll_data': <kfp.dsl.types.artifact_types.Artifact at 0x7f9e8e099ab0>}"
      ]
     },
     "execution_count": 50,
     "metadata": {},
     "output_type": "execute_result"
    }
   ],
   "source": [
    "test_multiple.outputs"
   ]
  },
  {
   "cell_type": "code",
   "execution_count": 51,
   "id": "0ba2f214-0fd2-4396-a5b4-7e484dde151a",
   "metadata": {
    "tags": []
   },
   "outputs": [
    {
     "data": {
      "text/plain": [
       "''"
      ]
     },
     "execution_count": 51,
     "metadata": {},
     "output_type": "execute_result"
    }
   ],
   "source": [
    "test_multiple.outputs['roll_data'].name"
   ]
  },
  {
   "cell_type": "code",
   "execution_count": 52,
   "id": "0ee9c9f2-2948-4e6b-b2dd-69ec95031462",
   "metadata": {
    "tags": []
   },
   "outputs": [
    {
     "data": {
      "text/plain": [
       "'/home/jupyter/vertex-ai-mlops/MLOps/Pipelines/temp/mlops-pipeline-testing/roll-dice-v2-2025-03-10-18-33-46-550545/roll-dice-v2/'"
      ]
     },
     "execution_count": 52,
     "metadata": {},
     "output_type": "execute_result"
    }
   ],
   "source": [
    "test_multiple.outputs['roll_data'].path"
   ]
  },
  {
   "cell_type": "code",
   "execution_count": 53,
   "id": "69ddc9e1-9b02-4707-9aa4-7513f1d1e62c",
   "metadata": {
    "tags": []
   },
   "outputs": [
    {
     "data": {
      "text/plain": [
       "{'rolls': [4.0, 2.0, 3.0, 2.0, 2.0], 'total': 13.0}"
      ]
     },
     "execution_count": 53,
     "metadata": {},
     "output_type": "execute_result"
    }
   ],
   "source": [
    "test_multiple.outputs['roll_data'].metadata"
   ]
  },
  {
   "cell_type": "markdown",
   "id": "b18939cc-c8c2-4458-aea4-47a78bd336d5",
   "metadata": {},
   "source": [
    "### Test Pipeline With Embedded Pipeline\n",
    "\n",
    "A pipeline can contain another pipeline as a nested task.  This test this struture with local testing.\n",
    "\n",
    "**IN PROGRESS**"
   ]
  },
  {
   "cell_type": "raw",
   "id": "49c07748-e1cc-4ed4-8f34-0469a296b234",
   "metadata": {
    "tags": []
   },
   "source": [
    "@kfp.dsl.pipeline(\n",
    "    name = f'{SERIES}-{EXPERIMENT}-roll',\n",
    "    description = 'A pipeline built and tested locally first.'\n",
    ")\n",
    "def rolling_pipeline(\n",
    "    num_dice: int\n",
    ") -> int:\n",
    "    \n",
    "    roll_1 = roll_dice(num_dice = num_dice)\n",
    "    roll_2 = roll_dice(num_dice = roll_1.output)\n",
    "\n",
    "    return roll_2.output"
   ]
  },
  {
   "cell_type": "raw",
   "id": "b990e5dd-d5e7-43e4-a0fc-2698add0fd82",
   "metadata": {
    "tags": []
   },
   "source": [
    "@kfp.dsl.pipeline(\n",
    "    name = f'{SERIES}-{EXPERIMENT}-flip',\n",
    "    description = 'A pipeline built and tested locally first.'\n",
    ")\n",
    "def flipping_pipeline(\n",
    "    num_dice: int\n",
    ") -> kfp.dsl.Artifact:\n",
    "    \n",
    "    rolls = rolling_pipeline(num_dice = num_dice)\n",
    "    flips = flip_coins(num_coins = rolls.output)\n",
    "\n",
    "    return flips"
   ]
  },
  {
   "cell_type": "code",
   "execution_count": null,
   "id": "62b20ed8-fdab-41ab-8f96-b559152017e7",
   "metadata": {},
   "outputs": [],
   "source": []
  },
  {
   "cell_type": "code",
   "execution_count": null,
   "id": "2bacdafc-8307-430c-9319-61c370bab024",
   "metadata": {},
   "outputs": [],
   "source": []
  },
  {
   "cell_type": "code",
   "execution_count": null,
   "id": "eea828e8-4cd6-4313-9a09-7b63e7da4d5b",
   "metadata": {},
   "outputs": [],
   "source": []
  },
  {
   "cell_type": "markdown",
   "id": "b02e8f29-f502-479d-8a42-5d0192edbc67",
   "metadata": {},
   "source": [
    "### Review The Local Pipeline Root\n",
    "\n",
    "All the local runs used a local pipeline root that was defined during the initialization of the local execution environment.  This directly contains the inputs and outputs from each of the local executions above:"
   ]
  },
  {
   "cell_type": "code",
   "execution_count": 54,
   "id": "613cc61a-80e9-456e-b07a-b0f0f5c86154",
   "metadata": {
    "tags": []
   },
   "outputs": [
    {
     "data": {
      "text/plain": [
       "['flip-coins-2025-03-10-17-45-58-267719',\n",
       " 'flip-coins-2025-03-10-17-44-39-830567',\n",
       " 'mlops-pipeline-testing-2025-03-10-17-44-08-899892',\n",
       " 'roll-dice-2025-03-10-17-43-29-300468',\n",
       " 'roll-dice-v2-2025-03-10-17-46-23-902624']"
      ]
     },
     "execution_count": 54,
     "metadata": {},
     "output_type": "execute_result"
    }
   ],
   "source": [
    "directories = [entry for entry in os.listdir(DIR) if os.path.isdir(os.path.join(DIR, entry))]\n",
    "directories"
   ]
  },
  {
   "cell_type": "code",
   "execution_count": 55,
   "id": "8620c2fe-a509-43e2-bb75-6dbb713f2316",
   "metadata": {
    "tags": []
   },
   "outputs": [
    {
     "data": {
      "text/plain": [
       "['roll-dice-v2']"
      ]
     },
     "execution_count": 55,
     "metadata": {},
     "output_type": "execute_result"
    }
   ],
   "source": [
    "os.listdir(os.path.join(DIR, directories[-1]))"
   ]
  },
  {
   "cell_type": "code",
   "execution_count": 56,
   "id": "b5d83432-718c-4420-8d81-31dad9a06560",
   "metadata": {
    "tags": []
   },
   "outputs": [
    {
     "name": "stdout",
     "output_type": "stream",
     "text": [
      "temp/mlops-pipeline-testing/roll-dice-v2-2025-03-10-17-46-23-902624/roll-dice-v2/executor_output.json\n"
     ]
    }
   ],
   "source": [
    "for file_path in glob.iglob(os.path.join(DIR, directories[-1], '**/*'), recursive = True):\n",
    "    if os.path.isfile(file_path):\n",
    "        print(file_path)"
   ]
  },
  {
   "cell_type": "markdown",
   "id": "e1d845f6-3437-4d95-8ab5-2cafaf11d843",
   "metadata": {},
   "source": [
    "---\n",
    "## Remote Testing (On Vertex AI Pipelines)\n",
    "\n",
    "Remote means the production environment, in this case Vertex AI Pipelines.  You may still need to do testing in this enviorment before doing full production runs or setting a scheduled pipeline.  There are several strategies that can make testing easier:\n",
    "\n",
    "- Caching\n",
    "- Single Component Pipelines\n",
    "\n",
    "Each of these is covered with example in the following sections:"
   ]
  },
  {
   "cell_type": "markdown",
   "id": "ae4f5632-efde-40d1-9d5b-81791911b2f1",
   "metadata": {},
   "source": [
    "---\n",
    "### Single Component Pipelines\n",
    "\n",
    "Isolating a single component can be helpful for testing.  Since components can be used as pipelines this is actually really easy.  Just compile the component and submit it as a pipeline run on Vertex AI Pipelines."
   ]
  },
  {
   "cell_type": "markdown",
   "id": "c8ec9357-fafb-437c-b36e-f4ebe60b376e",
   "metadata": {},
   "source": [
    "Compile the component (last one above) as a pipeline:"
   ]
  },
  {
   "cell_type": "code",
   "execution_count": 57,
   "id": "02c5c387-b8b6-4a78-8310-56074f8ee9a0",
   "metadata": {
    "tags": []
   },
   "outputs": [
    {
     "data": {
      "text/plain": [
       "kfp.dsl.python_component.PythonComponent"
      ]
     },
     "execution_count": 57,
     "metadata": {},
     "output_type": "execute_result"
    }
   ],
   "source": [
    "type(roll_dice_v2)"
   ]
  },
  {
   "cell_type": "code",
   "execution_count": 58,
   "id": "4bc6c167-1062-4086-900c-5577c2a4a2b7",
   "metadata": {
    "tags": []
   },
   "outputs": [],
   "source": [
    "kfp.compiler.Compiler().compile(\n",
    "    roll_dice_v2,\n",
    "    package_path = f'{DIR}/component_roll_dice_v2.yaml'\n",
    ")"
   ]
  },
  {
   "cell_type": "code",
   "execution_count": 59,
   "id": "247c1537-ced4-4917-acf9-05e88d9a1741",
   "metadata": {
    "tags": []
   },
   "outputs": [
    {
     "data": {
      "text/plain": [
       "['temp/mlops-pipeline-testing/component_roll_dice_v2.yaml']"
      ]
     },
     "execution_count": 59,
     "metadata": {},
     "output_type": "execute_result"
    }
   ],
   "source": [
    "list(glob.iglob(DIR + '/*.yaml'))"
   ]
  },
  {
   "cell_type": "markdown",
   "id": "44fe563a-ee5f-432a-a553-99bb251981c2",
   "metadata": {},
   "source": [
    "Create a pipeline job from the compiled component:"
   ]
  },
  {
   "cell_type": "code",
   "execution_count": 60,
   "id": "a681824f-9389-4155-912d-6a881e0e3f2f",
   "metadata": {
    "tags": []
   },
   "outputs": [],
   "source": [
    "pipeline_job = aiplatform.PipelineJob(\n",
    "    display_name = f'{SERIES}-{EXPERIMENT}',\n",
    "    template_path = f\"{DIR}/component_roll_dice_v2.yaml\",\n",
    "    parameter_values = dict(num_dice = 10),\n",
    "    pipeline_root = f'gs://{GCS_BUCKET}/{SERIES}/{EXPERIMENT}/pipeline_root',\n",
    "    enable_caching = None # True (enabled), False (disable), None (defer to component level caching) \n",
    ")"
   ]
  },
  {
   "cell_type": "code",
   "execution_count": 61,
   "id": "93a30e5e-f814-4778-a46c-c3d583bdb28e",
   "metadata": {
    "tags": []
   },
   "outputs": [
    {
     "name": "stdout",
     "output_type": "stream",
     "text": [
      "Creating PipelineJob\n",
      "PipelineJob created. Resource name: projects/1026793852137/locations/us-central1/pipelineJobs/roll-dice-v2-20250310174747\n",
      "To use this PipelineJob in another session:\n",
      "pipeline_job = aiplatform.PipelineJob.get('projects/1026793852137/locations/us-central1/pipelineJobs/roll-dice-v2-20250310174747')\n",
      "View Pipeline Job:\n",
      "https://console.cloud.google.com/vertex-ai/locations/us-central1/pipelines/runs/roll-dice-v2-20250310174747?project=1026793852137\n"
     ]
    }
   ],
   "source": [
    "response = pipeline_job.submit(\n",
    "    service_account = SERVICE_ACCOUNT\n",
    ")"
   ]
  },
  {
   "cell_type": "code",
   "execution_count": 62,
   "id": "1b9244e2-56a7-4540-8e11-013429e867ba",
   "metadata": {
    "tags": []
   },
   "outputs": [
    {
     "name": "stdout",
     "output_type": "stream",
     "text": [
      "PipelineJob projects/1026793852137/locations/us-central1/pipelineJobs/roll-dice-v2-20250310174747 current state:\n",
      "PipelineState.PIPELINE_STATE_RUNNING\n",
      "PipelineJob projects/1026793852137/locations/us-central1/pipelineJobs/roll-dice-v2-20250310174747 current state:\n",
      "PipelineState.PIPELINE_STATE_RUNNING\n",
      "PipelineJob projects/1026793852137/locations/us-central1/pipelineJobs/roll-dice-v2-20250310174747 current state:\n",
      "PipelineState.PIPELINE_STATE_RUNNING\n",
      "PipelineJob run completed. Resource name: projects/1026793852137/locations/us-central1/pipelineJobs/roll-dice-v2-20250310174747\n"
     ]
    }
   ],
   "source": [
    "pipeline_job.wait()"
   ]
  },
  {
   "cell_type": "code",
   "execution_count": 63,
   "id": "a35b71ab-bf67-48ef-a0f1-4ee3bb5ac4ba",
   "metadata": {
    "tags": []
   },
   "outputs": [
    {
     "data": {
      "text/html": [
       "<div>\n",
       "<style scoped>\n",
       "    .dataframe tbody tr th:only-of-type {\n",
       "        vertical-align: middle;\n",
       "    }\n",
       "\n",
       "    .dataframe tbody tr th {\n",
       "        vertical-align: top;\n",
       "    }\n",
       "\n",
       "    .dataframe thead th {\n",
       "        text-align: right;\n",
       "    }\n",
       "</style>\n",
       "<table border=\"1\" class=\"dataframe\">\n",
       "  <thead>\n",
       "    <tr style=\"text-align: right;\">\n",
       "      <th></th>\n",
       "      <th>pipeline_name</th>\n",
       "      <th>run_name</th>\n",
       "      <th>param.input:num_dice</th>\n",
       "      <th>param.output:rolls</th>\n",
       "      <th>param.vertex-ai-pipelines-artifact-argument-binding</th>\n",
       "      <th>param.vmlmd_lineage_integration</th>\n",
       "      <th>param.output:total</th>\n",
       "      <th>metric.total</th>\n",
       "      <th>metric.rolls</th>\n",
       "    </tr>\n",
       "  </thead>\n",
       "  <tbody>\n",
       "    <tr>\n",
       "      <th>0</th>\n",
       "      <td>roll-dice-v2</td>\n",
       "      <td>roll-dice-v2-20250310174747</td>\n",
       "      <td>10.0</td>\n",
       "      <td>[2.0, 3.0, 4.0, 1.0, 3.0, 6.0, 1.0, 5.0, 1.0, ...</td>\n",
       "      <td>{'output:roll_data': ['projects/1026793852137/...</td>\n",
       "      <td>{'pipeline_run_component': {'task_name': 'roll...</td>\n",
       "      <td>29.0</td>\n",
       "      <td>29.0</td>\n",
       "      <td>[2.0, 3.0, 4.0, 1.0, 3.0, 6.0, 1.0, 5.0, 1.0, ...</td>\n",
       "    </tr>\n",
       "    <tr>\n",
       "      <th>1</th>\n",
       "      <td>roll-dice-v2</td>\n",
       "      <td>roll-dice-v2-20240910163313</td>\n",
       "      <td>10.0</td>\n",
       "      <td>[6.0, 5.0, 6.0, 5.0, 4.0, 3.0, 1.0, 6.0, 6.0, ...</td>\n",
       "      <td>{'output:roll_data': ['projects/1026793852137/...</td>\n",
       "      <td>{'pipeline_run_component': {'location_id': 'us...</td>\n",
       "      <td>44.0</td>\n",
       "      <td>44.0</td>\n",
       "      <td>[6.0, 5.0, 6.0, 5.0, 4.0, 3.0, 1.0, 6.0, 6.0, ...</td>\n",
       "    </tr>\n",
       "    <tr>\n",
       "      <th>2</th>\n",
       "      <td>roll-dice-v2</td>\n",
       "      <td>roll-dice-v2-20240910162251</td>\n",
       "      <td>10.0</td>\n",
       "      <td>NaN</td>\n",
       "      <td>NaN</td>\n",
       "      <td>{'pipeline_run_component': {'pipeline_run_id':...</td>\n",
       "      <td>NaN</td>\n",
       "      <td>NaN</td>\n",
       "      <td>NaN</td>\n",
       "    </tr>\n",
       "  </tbody>\n",
       "</table>\n",
       "</div>"
      ],
      "text/plain": [
       "  pipeline_name                     run_name  param.input:num_dice  \\\n",
       "0  roll-dice-v2  roll-dice-v2-20250310174747                  10.0   \n",
       "1  roll-dice-v2  roll-dice-v2-20240910163313                  10.0   \n",
       "2  roll-dice-v2  roll-dice-v2-20240910162251                  10.0   \n",
       "\n",
       "                                  param.output:rolls  \\\n",
       "0  [2.0, 3.0, 4.0, 1.0, 3.0, 6.0, 1.0, 5.0, 1.0, ...   \n",
       "1  [6.0, 5.0, 6.0, 5.0, 4.0, 3.0, 1.0, 6.0, 6.0, ...   \n",
       "2                                                NaN   \n",
       "\n",
       "  param.vertex-ai-pipelines-artifact-argument-binding  \\\n",
       "0  {'output:roll_data': ['projects/1026793852137/...    \n",
       "1  {'output:roll_data': ['projects/1026793852137/...    \n",
       "2                                                NaN    \n",
       "\n",
       "                     param.vmlmd_lineage_integration  param.output:total  \\\n",
       "0  {'pipeline_run_component': {'task_name': 'roll...                29.0   \n",
       "1  {'pipeline_run_component': {'location_id': 'us...                44.0   \n",
       "2  {'pipeline_run_component': {'pipeline_run_id':...                 NaN   \n",
       "\n",
       "   metric.total                                       metric.rolls  \n",
       "0          29.0  [2.0, 3.0, 4.0, 1.0, 3.0, 6.0, 1.0, 5.0, 1.0, ...  \n",
       "1          44.0  [6.0, 5.0, 6.0, 5.0, 4.0, 3.0, 1.0, 6.0, 6.0, ...  \n",
       "2           NaN                                                NaN  "
      ]
     },
     "execution_count": 63,
     "metadata": {},
     "output_type": "execute_result"
    }
   ],
   "source": [
    "aiplatform.get_pipeline_df(pipeline = f'roll-dice-v2')"
   ]
  },
  {
   "cell_type": "markdown",
   "id": "9e1b8c56-60d0-4334-af2b-6140c00080dd",
   "metadata": {},
   "source": [
    "**Select The Pipeline Run In The Console:**\n",
    "<p align=\"center\"><center>\n",
    "    <img align=\"center\" alt=\"Pipeline Run\" src=\"../resources/images/screenshots/pipelines/testing/testing-run.png\" width=\"70%\">\n",
    "</center></p>\n",
    "\n",
    "**Review The Pipeline: Parameters**\n",
    "<p align=\"center\"><center>\n",
    "    <img align=\"center\" alt=\"Pipeline parameters\" src=\"../resources/images/screenshots/pipelines/testing/testing-parameters.png\" width=\"70%\">\n",
    "</center></p>\n",
    "\n",
    "**Review The Pipeline: Artifacts**\n",
    "<p align=\"center\"><center>\n",
    "    <img align=\"center\" alt=\"Pipeline Artifacts\" src=\"../resources/images/screenshots/pipelines/testing/testing-artifacts.png\" width=\"70%\">\n",
    "</center></p>"
   ]
  },
  {
   "cell_type": "markdown",
   "id": "d986fa15-51ad-4ed8-b034-7d31b470876a",
   "metadata": {},
   "source": [
    "---\n",
    "### Caching\n",
    "\n",
    "Caching helps with reusing redudant components across multiple runs of a pipeline.  How is redundant determined?  By the same component running with the same inputs while the output is still available.  To enable this behavior, or disable it, KFP provides [caching](https://www.kubeflow.org/docs/components/pipelines/user-guides/core-functions/caching/).\n",
    "\n",
    "**Task Level**\n",
    "\n",
    "Within a pipeline definition each individual task can be assigned caching options using the [`.set_caching_options` method](https://kubeflow-pipelines.readthedocs.io/en/latest/source/dsl.html#kfp.dsl.PipelineTask.set_caching_options) which has the parameter `enable_caching` for setting to True or False.  Note that the pipeline level caching options, covered next, might override this setting.\n",
    "\n",
    "**Pipeline Level**\n",
    "\n",
    "Pipeline runs on [Vertex AI Pipelines can utilize the pipeline level caching](https://cloud.google.com/vertex-ai/docs/pipelines/configure-caching) with option `enable_caching` found in ['aiplatform.PipelineJob'](https://cloud.google.com/python/docs/reference/aiplatform/latest/google.cloud.aiplatform.PipelineJob).  This property has the following behavior:\n",
    "- Pipelines with the same name share a cache\n",
    "- `enable_caching` = \n",
    "    - `False`: Overrides any task level caching with `.set_caching_options` and disables caching\n",
    "    - `True`: Overrides any task level caching with `.set_caching_options` and enables caching\n",
    "    - Undefined: Defers to the task level caching with `.set_caching_options`\n",
    "- Cached results do not have a timeout or time-to-live (TTL) and as long as the entry is not deleted from the Vertex AI ML Metadata it will honor the above behaviors.\n",
    "\n",
    "**When not to use caching:**\n",
    "\n",
    "When a component is not deterministic, meaning it might have different outputs for the same inputs, then caching should not be used.  Example of this:\n",
    "- Random assignment of variables within the component\n",
    "- The component fetches information from an external service where the address/url might be the input and remain unchanged but the external content/data changes."
   ]
  },
  {
   "cell_type": "code",
   "execution_count": null,
   "id": "5f2816a2-cb7a-40be-9856-64731a960df3",
   "metadata": {},
   "outputs": [],
   "source": []
  }
 ],
 "metadata": {
  "environment": {
   "kernel": "conda-base-py",
   "name": "workbench-notebooks.m128",
   "type": "gcloud",
   "uri": "us-docker.pkg.dev/deeplearning-platform-release/gcr.io/workbench-notebooks:m128"
  },
  "kernelspec": {
   "display_name": "Python 3 (ipykernel) (Local)",
   "language": "python",
   "name": "conda-base-py"
  },
  "language_info": {
   "codemirror_mode": {
    "name": "ipython",
    "version": 3
   },
   "file_extension": ".py",
   "mimetype": "text/x-python",
   "name": "python",
   "nbconvert_exporter": "python",
   "pygments_lexer": "ipython3",
   "version": "3.10.16"
  }
 },
 "nbformat": 4,
 "nbformat_minor": 5
}
