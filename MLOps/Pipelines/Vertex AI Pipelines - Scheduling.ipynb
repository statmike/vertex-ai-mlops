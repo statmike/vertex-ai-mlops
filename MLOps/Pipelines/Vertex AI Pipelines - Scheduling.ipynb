{
 "cells": [
  {
   "cell_type": "markdown",
   "id": "a618ed35",
   "metadata": {},
   "source": [
    "![tracker](https://us-central1-vertex-ai-mlops-369716.cloudfunctions.net/pixel-tracking?path=statmike%2Fvertex-ai-mlops%2FMLOps%2FPipelines&file=Vertex+AI+Pipelines+-+Scheduling.ipynb)\n",
    "<!--- header table --->\n",
    "<table align=\"left\">\n",
    "  <td style=\"text-align: center\">\n",
    "    <a href=\"https://colab.research.google.com/github/statmike/vertex-ai-mlops/blob/main/MLOps/Pipelines/Vertex%20AI%20Pipelines%20-%20Scheduling.ipynb\">\n",
    "      <img src=\"https://cloud.google.com/ml-engine/images/colab-logo-32px.png\" alt=\"Google Colaboratory logo\">\n",
    "      <br>Run in<br>Colab\n",
    "    </a>\n",
    "  </td>\n",
    "  <td style=\"text-align: center\">\n",
    "    <a href=\"https://console.cloud.google.com/vertex-ai/colab/import/https%3A%2F%2Fraw.githubusercontent.com%2Fstatmike%2Fvertex-ai-mlops%2Fmain%2FMLOps%2FPipelines%2FVertex%2520AI%2520Pipelines%2520-%2520Scheduling.ipynb\">\n",
    "      <img width=\"32px\" src=\"https://lh3.googleusercontent.com/JmcxdQi-qOpctIvWKgPtrzZdJJK-J3sWE1RsfjZNwshCFgE_9fULcNpuXYTilIR2hjwN\" alt=\"Google Cloud Colab Enterprise logo\">\n",
    "      <br>Run in<br>Colab Enterprise\n",
    "    </a>\n",
    "  </td>      \n",
    "  <td style=\"text-align: center\">\n",
    "    <a href=\"https://github.com/statmike/vertex-ai-mlops/blob/main/MLOps/Pipelines/Vertex%20AI%20Pipelines%20-%20Scheduling.ipynb\">\n",
    "      <img src=\"https://cloud.google.com/ml-engine/images/github-logo-32px.png\" alt=\"GitHub logo\">\n",
    "      <br>View on<br>GitHub\n",
    "    </a>\n",
    "  </td>\n",
    "  <td style=\"text-align: center\">\n",
    "    <a href=\"https://console.cloud.google.com/vertex-ai/workbench/deploy-notebook?download_url=https://raw.githubusercontent.com/statmike/vertex-ai-mlops/main/MLOps/Pipelines/Vertex%20AI%20Pipelines%20-%20Scheduling.ipynb\">\n",
    "      <img src=\"https://lh3.googleusercontent.com/UiNooY4LUgW_oTvpsNhPpQzsstV5W8F7rYgxgGBD85cWJoLmrOzhVs_ksK_vgx40SHs7jCqkTkCk=e14-rj-sc0xffffff-h130-w32\" alt=\"Vertex AI logo\">\n",
    "      <br>Open in<br>Vertex AI Workbench\n",
    "    </a>\n",
    "  </td>\n",
    "</table>"
   ]
  },
  {
   "cell_type": "markdown",
   "id": "e1d1c312-7c1c-4a6a-8035-67f7604c2112",
   "metadata": {
    "tags": []
   },
   "source": [
    "---\n",
    "This is part of a [series of notebook based workflows](./readme.md) that teach all the ways to use pipelines within Vertex AI. The suggested order and description/reason is:\n",
    "\n",
    "|Link To Section|Notebook Workflow|Description|\n",
    "|---|---|---|\n",
    "||[Vertex AI Pipelines - Start Here](./Vertex%20AI%20Pipelines%20-%20Start%20Here.ipynb)|What are pipelines? Start here to go from code to pipeline and see it in action.|\n",
    "||[Vertex AI Pipelines - Introduction](./Vertex%20AI%20Pipelines%20-%20Introduction.ipynb)|Introduction to pipelines with the console and Vertex AI SDK|\n",
    "||[Vertex AI Pipelines - Components](./Vertex%20AI%20Pipelines%20-%20Components.ipynb)|An introduction to all the ways to create pipeline components from your code|\n",
    "||[Vertex AI Pipelines - IO](./Vertex%20AI%20Pipelines%20-%20IO.ipynb)|An overview of all the type of inputs and outputs for pipeline components|\n",
    "||[Vertex AI Pipelines - Control](./Vertex%20AI%20Pipelines%20-%20Control.ipynb)|An overview of controlling the flow of exectution for pipelines|\n",
    "||[Vertex AI Pipelines - Secret Manager](./Vertex%20AI%20Pipelines%20-%20Secret%20Manager.ipynb)|How to pass sensitive information to pipelines and components|\n",
    "||[Vertex AI Pipelines - GCS Read and Write](./Vertex%20AI%20Pipelines%20-%20GCS%20Read%20and%20Write.ipynb)|How to read/write to GCS from components, including container components.|\n",
    "|_**This Notebook**_|[Vertex AI Pipelines - Scheduling](./Vertex%20AI%20Pipelines%20-%20Scheduling.ipynb)|How to schedule pipeline execution|\n",
    "||[Vertex AI Pipelines - Notifications](./Vertex%20AI%20Pipelines%20-%20Notifications.ipynb)|How to send email notification of pipeline status.|\n",
    "||[Vertex AI Pipelines - Management](./Vertex%20AI%20Pipelines%20-%20Management.ipynb)|Managing, Reusing, and Storing pipelines and components|\n",
    "||[Vertex AI Pipelines - Testing](./Vertex%20AI%20Pipelines%20-%20Testing.ipynb)|Strategies for testing components and pipeliens locally and remotely to aide development.|\n",
    "||[Vertex AI Pipelines - Managing Pipeline Jobs](./Vertex%20AI%20Pipelines%20-%20Managing%20Pipeline%20Jobs.ipynb)|Manage runs of pipelines in an environment: list, check status, filtered list, cancel and delete jobs.|\n",
    "\n",
    "\n",
    "To discover these notebooks as part of an introduction to MLOps orchestration [start here](./readme.md).  To read more about MLOps also check out [the parent folder](../readme.md).\n",
    "\n",
    "---"
   ]
  },
  {
   "cell_type": "markdown",
   "id": "8210507b-c384-4c8d-8d97-658b5c4567ba",
   "metadata": {},
   "source": [
    "# Vertex AI Pipelines - Scheduling \n",
    "\n",
    "[Vertex AI Pipelines](https://cloud.google.com/vertex-ai/docs/pipelines/introduction) is a serverless  runner for Kubeflow Pipelines [(KFP)](https://www.kubeflow.org/docs/components/pipelines/v2/introduction/) and the [TensorFlow Extended (TFX)](https://www.tensorflow.org/tfx/guide/understanding_tfx_pipelines) framework.\n",
    "\n",
    "This notebook based workflow creates a simple KFP pipeline, compiles it and then runs it on Vertex AI Pipelines.  \n",
    "\n",
    "Then, the pipeline is **scheduled** to run repeatedly using the scheduler API:\n",
    "- [Schedule a pipeline run with schedular API](https://cloud.google.com/vertex-ai/docs/pipelines/schedule-pipeline-run)."
   ]
  },
  {
   "cell_type": "markdown",
   "id": "5d02fd35-3db1-4b73-a1b8-37c89f304645",
   "metadata": {
    "id": "od_UkDpvRmgD",
    "tags": []
   },
   "source": [
    "---\n",
    "## Colab Setup\n",
    "\n",
    "To run this notebook in Colab run the cells in this section.  Otherwise, skip this section.\n",
    "\n",
    "This cell will authenticate to GCP (follow prompts in the popup)."
   ]
  },
  {
   "cell_type": "code",
   "execution_count": 1,
   "id": "fc575cc2-c70e-47a6-921b-895899795f2d",
   "metadata": {
    "executionInfo": {
     "elapsed": 195,
     "status": "ok",
     "timestamp": 1683726184843,
     "user": {
      "displayName": "Mike Henderson",
      "userId": "07691629187611687318"
     },
     "user_tz": 240
    },
    "id": "8UO9FnqyKBlF",
    "tags": []
   },
   "outputs": [],
   "source": [
    "PROJECT_ID = 'statmike-mlops-349915' # replace with project ID"
   ]
  },
  {
   "cell_type": "code",
   "execution_count": 2,
   "id": "abbc374a-98b8-495a-a9e3-cc9609b5f9b2",
   "metadata": {
    "colab": {
     "base_uri": "https://localhost:8080/"
    },
    "executionInfo": {
     "elapsed": 68869,
     "status": "ok",
     "timestamp": 1683726253709,
     "user": {
      "displayName": "Mike Henderson",
      "userId": "07691629187611687318"
     },
     "user_tz": 240
    },
    "id": "N98-KK7LRkjm",
    "outputId": "09ec5008-0def-4e1a-c349-c598ee752f78",
    "tags": []
   },
   "outputs": [
    {
     "name": "stdout",
     "output_type": "stream",
     "text": [
      "Not a Colab Environment\n"
     ]
    }
   ],
   "source": [
    "try:\n",
    "    from google.colab import auth\n",
    "    auth.authenticate_user()\n",
    "    !gcloud config set project {PROJECT_ID}\n",
    "    print('Colab authorized to GCP')\n",
    "except Exception:\n",
    "    print('Not a Colab Environment')\n",
    "    pass"
   ]
  },
  {
   "cell_type": "markdown",
   "id": "ff344ce5-0d5d-45b5-83b9-977e858ef9ea",
   "metadata": {},
   "source": [
    "---\n",
    "## Installs\n",
    "\n",
    "The list `packages` contains tuples of package import names and install names.  If the import name is not found then the install name is used to install quitely for the current user."
   ]
  },
  {
   "cell_type": "code",
   "execution_count": 3,
   "id": "6f8458ef-b50a-41f4-a6f0-39c9c202f71b",
   "metadata": {
    "tags": []
   },
   "outputs": [],
   "source": [
    "# tuples of (import name, install name, min_version)\n",
    "packages = [\n",
    "    ('google.cloud.aiplatform', 'google-cloud-aiplatform'),\n",
    "    ('google.cloud.storage', 'google-cloud-storage'),\n",
    "    ('kfp', 'kfp')\n",
    "]\n",
    "\n",
    "import importlib\n",
    "install = False\n",
    "for package in packages:\n",
    "    if not importlib.util.find_spec(package[0]):\n",
    "        print(f'installing package {package[1]}')\n",
    "        install = True\n",
    "        !pip install {package[1]} -U -q --user\n",
    "    elif len(package) == 3:\n",
    "        if importlib.metadata.version(package[0]) < package[2]:\n",
    "            print(f'updating package {package[1]}')\n",
    "            install = True\n",
    "            !pip install {package[1]} -U -q --user"
   ]
  },
  {
   "cell_type": "markdown",
   "id": "786142cf-32b6-4ac3-bbf4-4a58c04f297a",
   "metadata": {},
   "source": [
    "### API Enablement"
   ]
  },
  {
   "cell_type": "code",
   "execution_count": 4,
   "id": "699277a0-dd25-46ba-86f9-b99f17217cac",
   "metadata": {
    "tags": []
   },
   "outputs": [],
   "source": [
    "!gcloud services enable aiplatform.googleapis.com"
   ]
  },
  {
   "cell_type": "markdown",
   "id": "b5f4d728-766d-49c1-bc25-3c85ede7ab02",
   "metadata": {},
   "source": [
    "### Restart Kernel (If Installs Occured)\n",
    "\n",
    "After a kernel restart the code submission can start with the next cell after this one."
   ]
  },
  {
   "cell_type": "code",
   "execution_count": 5,
   "id": "3af76386-9523-42f4-9ec2-a60f1baad867",
   "metadata": {
    "tags": []
   },
   "outputs": [],
   "source": [
    "if install:\n",
    "    import IPython\n",
    "    app = IPython.Application.instance()\n",
    "    app.kernel.do_shutdown(True)\n",
    "    IPython.display.display(IPython.display.Markdown(\"\"\"<div class=\\\"alert alert-block alert-warning\\\">\n",
    "        <b>⚠️ The kernel is going to restart. Please wait until it is finished before continuing to the next step. The previous cells do not need to be run again⚠️</b>\n",
    "        </div>\"\"\"))"
   ]
  },
  {
   "cell_type": "markdown",
   "id": "af26c69b-e6af-407a-ab7c-2416d6732d3b",
   "metadata": {
    "id": "appt8-yVRtJ1"
   },
   "source": [
    "---\n",
    "## Setup"
   ]
  },
  {
   "cell_type": "markdown",
   "id": "c5b76b7a-7e87-4413-845e-b8a632a76ad1",
   "metadata": {
    "id": "63mx2EozRxFP"
   },
   "source": [
    "Inputs"
   ]
  },
  {
   "cell_type": "code",
   "execution_count": 6,
   "id": "00588e3a-4f48-4e3c-bc94-6625dda5401a",
   "metadata": {
    "colab": {
     "base_uri": "https://localhost:8080/",
     "height": 35
    },
    "executionInfo": {
     "elapsed": 2124,
     "status": "ok",
     "timestamp": 1683726390544,
     "user": {
      "displayName": "Mike Henderson",
      "userId": "07691629187611687318"
     },
     "user_tz": 240
    },
    "id": "xzcoXjM5Rky5",
    "outputId": "b3bdcbc1-70d5-472e-aea2-42c74a42efde",
    "tags": []
   },
   "outputs": [
    {
     "data": {
      "text/plain": [
       "'statmike-mlops-349915'"
      ]
     },
     "execution_count": 6,
     "metadata": {},
     "output_type": "execute_result"
    }
   ],
   "source": [
    "project = !gcloud config get-value project\n",
    "PROJECT_ID = project[0]\n",
    "PROJECT_ID"
   ]
  },
  {
   "cell_type": "code",
   "execution_count": 7,
   "id": "1547b468-991b-4123-8ee9-b91037855450",
   "metadata": {
    "executionInfo": {
     "elapsed": 2,
     "status": "ok",
     "timestamp": 1683726390712,
     "user": {
      "displayName": "Mike Henderson",
      "userId": "07691629187611687318"
     },
     "user_tz": 240
    },
    "id": "IxWrFtqYMfku",
    "tags": []
   },
   "outputs": [],
   "source": [
    "REGION = 'us-central1'\n",
    "SERIES = 'mlops'\n",
    "EXPERIMENT = 'pipeline-scheduling'\n",
    "\n",
    "# gcs bucket\n",
    "GCS_BUCKET = PROJECT_ID"
   ]
  },
  {
   "cell_type": "markdown",
   "id": "663ee568-7d4d-4f16-8ea9-015925765cac",
   "metadata": {
    "id": "LuajVwCiO6Yg"
   },
   "source": [
    "Packages"
   ]
  },
  {
   "cell_type": "code",
   "execution_count": 9,
   "id": "e1aa5728-0bf7-40d9-8e7c-6786c4b9bb26",
   "metadata": {
    "executionInfo": {
     "elapsed": 17761,
     "status": "ok",
     "timestamp": 1683726409304,
     "user": {
      "displayName": "Mike Henderson",
      "userId": "07691629187611687318"
     },
     "user_tz": 240
    },
    "id": "LVC7zzSLRk2C",
    "tags": []
   },
   "outputs": [],
   "source": [
    "import os, time\n",
    "\n",
    "from google.cloud import aiplatform\n",
    "from google.cloud import storage\n",
    "import kfp"
   ]
  },
  {
   "cell_type": "markdown",
   "id": "6609a397-bfd4-422e-ac55-9218a5b80e30",
   "metadata": {
    "id": "EyAVFG9TO9H-"
   },
   "source": [
    "Clients"
   ]
  },
  {
   "cell_type": "code",
   "execution_count": 10,
   "id": "6067ea47-5acb-48da-ba36-1e5932b50e21",
   "metadata": {
    "executionInfo": {
     "elapsed": 19,
     "status": "ok",
     "timestamp": 1683726409306,
     "user": {
      "displayName": "Mike Henderson",
      "userId": "07691629187611687318"
     },
     "user_tz": 240
    },
    "id": "L0RPE13LOZce",
    "tags": []
   },
   "outputs": [],
   "source": [
    "# vertex ai clients\n",
    "aiplatform.init(project = PROJECT_ID, location = REGION)\n",
    "\n",
    "# gcs storage client\n",
    "gcs = storage.Client(project = PROJECT_ID)"
   ]
  },
  {
   "cell_type": "markdown",
   "id": "28b8c07f-c967-4913-a6cc-ff0e4e29e4c4",
   "metadata": {},
   "source": [
    "parameters:"
   ]
  },
  {
   "cell_type": "code",
   "execution_count": 11,
   "id": "1ef26020-b237-4360-9f1c-4182ee57c35a",
   "metadata": {
    "tags": []
   },
   "outputs": [],
   "source": [
    "DIR = f\"temp/{SERIES}-{EXPERIMENT}\""
   ]
  },
  {
   "cell_type": "code",
   "execution_count": 12,
   "id": "0eb47fe2-2b45-4e49-b1d1-06670fab07fe",
   "metadata": {
    "tags": []
   },
   "outputs": [
    {
     "data": {
      "text/plain": [
       "'1026793852137-compute@developer.gserviceaccount.com'"
      ]
     },
     "execution_count": 12,
     "metadata": {},
     "output_type": "execute_result"
    }
   ],
   "source": [
    "SERVICE_ACCOUNT = !gcloud config list --format='value(core.account)' \n",
    "SERVICE_ACCOUNT = SERVICE_ACCOUNT[0]\n",
    "SERVICE_ACCOUNT"
   ]
  },
  {
   "cell_type": "markdown",
   "id": "d1b9736b-dda0-4415-9280-e099677ef90f",
   "metadata": {},
   "source": [
    "environment:"
   ]
  },
  {
   "cell_type": "code",
   "execution_count": 13,
   "id": "d4630938-bac8-426a-8b3e-56aeac49aba2",
   "metadata": {
    "tags": []
   },
   "outputs": [],
   "source": [
    "if not os.path.exists(DIR):\n",
    "    os.makedirs(DIR)"
   ]
  },
  {
   "cell_type": "markdown",
   "id": "7cb3ad5e-534b-4a81-bb89-59dcb1266ae3",
   "metadata": {},
   "source": [
    "---\n",
    "## Vertex AI Pipelines\n",
    "\n",
    "- https://cloud.google.com/vertex-ai/docs/pipelines/introduction\n",
    "- https://www.kubeflow.org/docs/components/pipelines/v2/introduction/\n",
    "- https://cloud.google.com/python/docs/reference/aiplatform/latest/google.cloud.aiplatform.PipelineJob"
   ]
  },
  {
   "cell_type": "markdown",
   "id": "d9f01c36-38fe-4c86-9f4b-4466276c18e5",
   "metadata": {},
   "source": [
    "### Create Pipeline Components\n",
    "\n",
    "These are simple Python components, specifically lightweight Python components.  For more details on the types of components check out this workflow in the same repository:\n",
    "- [Vertex AI Pipelines - Components](./Vertex%20AI%20Pipelines%20-%20Components.ipynb)\n"
   ]
  },
  {
   "cell_type": "markdown",
   "id": "4070cb21-d121-4f44-8ac0-88028fdd9b8c",
   "metadata": {},
   "source": [
    "Simple component that takes an input string, adds another string, outputs longer string."
   ]
  },
  {
   "cell_type": "code",
   "execution_count": 14,
   "id": "b71f94a6-789c-4fed-94c0-943ebbacd250",
   "metadata": {
    "tags": []
   },
   "outputs": [],
   "source": [
    "@kfp.dsl.component(\n",
    "    base_image = \"python:3.10\",\n",
    "    packages_to_install = [\"pandas\"]\n",
    ")\n",
    "def example_string(text: str) -> str:\n",
    "    text += ',... and more text'\n",
    "    return text"
   ]
  },
  {
   "cell_type": "markdown",
   "id": "d9dda00b-8e5d-40f6-8caf-58c917e2289e",
   "metadata": {},
   "source": [
    "Simple component that take an input number (float) and adds 10, outputs the incremented number."
   ]
  },
  {
   "cell_type": "code",
   "execution_count": 15,
   "id": "8dc8b03f-8290-4ed8-b2bf-d4fe86fba435",
   "metadata": {
    "tags": []
   },
   "outputs": [],
   "source": [
    "@kfp.dsl.component(\n",
    "    base_image = \"python:3.10\",\n",
    "    packages_to_install = [\"pandas\"]\n",
    ")\n",
    "def example_number(number: float) -> float:\n",
    "    number += 10\n",
    "    return number"
   ]
  },
  {
   "cell_type": "markdown",
   "id": "05fb097c-75e4-48a6-bf0f-f1cc219d8070",
   "metadata": {},
   "source": [
    "Simple component that takes input string and number and create a string from both, outputs the new string."
   ]
  },
  {
   "cell_type": "code",
   "execution_count": 16,
   "id": "a8e5a0a6-c48e-41ce-82a2-8898e578577e",
   "metadata": {
    "tags": []
   },
   "outputs": [],
   "source": [
    "@kfp.dsl.component(\n",
    "    base_image = \"python:3.10\",\n",
    "    packages_to_install = [\"pandas\"]\n",
    ")\n",
    "def example_combo(text: str, number: float) -> str:\n",
    "    result = f'{text}, ... and a number {number}'\n",
    "    return result"
   ]
  },
  {
   "cell_type": "markdown",
   "id": "1afd1394-8827-4323-8b79-7ce564e4c1d4",
   "metadata": {},
   "source": [
    "### Create Pipeline"
   ]
  },
  {
   "cell_type": "code",
   "execution_count": 17,
   "id": "7e6f2597-c548-4b6c-96a6-949c7a21f5d4",
   "metadata": {
    "tags": []
   },
   "outputs": [],
   "source": [
    "@kfp.dsl.pipeline(\n",
    "    name = f'{SERIES}-{EXPERIMENT}',\n",
    "    description = 'A simple pipeline for testing'\n",
    ")\n",
    "def example_pipeline(\n",
    "    text: str,\n",
    "    number: float\n",
    "):\n",
    "    text_task = example_string(text = text)\n",
    "    number_task = example_number(number = number)\n",
    "    combo_task = example_combo(text = text_task.output, number = number_task.output)"
   ]
  },
  {
   "cell_type": "markdown",
   "id": "6cddd264-0a05-4574-910d-4c7c0182ca58",
   "metadata": {},
   "source": [
    "### Compile Pipeline"
   ]
  },
  {
   "cell_type": "code",
   "execution_count": 18,
   "id": "ac0047df-74ed-4c73-9d10-730eb17537c4",
   "metadata": {
    "tags": []
   },
   "outputs": [],
   "source": [
    "kfp.compiler.Compiler().compile(\n",
    "    pipeline_func = example_pipeline,\n",
    "    package_path = f'{DIR}/{SERIES}-{EXPERIMENT}.yaml'\n",
    ")"
   ]
  },
  {
   "cell_type": "markdown",
   "id": "cd2f9526-fc26-4f8e-97dc-051f8f6438e7",
   "metadata": {},
   "source": [
    "### Create Pipeline Job"
   ]
  },
  {
   "cell_type": "code",
   "execution_count": 19,
   "id": "a47f8ca7-55a0-4f7e-ab2d-39248c108d27",
   "metadata": {
    "tags": []
   },
   "outputs": [],
   "source": [
    "pipeline_job = aiplatform.PipelineJob(\n",
    "    display_name = f\"{SERIES}-{EXPERIMENT}\",\n",
    "    template_path = f\"{DIR}/{SERIES}-{EXPERIMENT}.yaml\",\n",
    "    parameter_values = dict(text ='Example text', number = 34.2),\n",
    "    pipeline_root = f'gs://{GCS_BUCKET}/{SERIES}/{EXPERIMENT}/pipeline_root',\n",
    "    enable_caching = None # True (enabled), False (disable), None (defer to component level caching) \n",
    ")"
   ]
  },
  {
   "cell_type": "markdown",
   "id": "26c5a9cd-954b-41c4-8fee-448a4bf1e4d5",
   "metadata": {},
   "source": [
    "### Submit Pipeline Job"
   ]
  },
  {
   "cell_type": "code",
   "execution_count": 20,
   "id": "605953d8-86b5-463a-b1eb-256d31b8acbe",
   "metadata": {
    "tags": []
   },
   "outputs": [
    {
     "name": "stdout",
     "output_type": "stream",
     "text": [
      "Creating PipelineJob\n",
      "PipelineJob created. Resource name: projects/1026793852137/locations/us-central1/pipelineJobs/mlops-pipeline-scheduling-20250310190042\n",
      "To use this PipelineJob in another session:\n",
      "pipeline_job = aiplatform.PipelineJob.get('projects/1026793852137/locations/us-central1/pipelineJobs/mlops-pipeline-scheduling-20250310190042')\n",
      "View Pipeline Job:\n",
      "https://console.cloud.google.com/vertex-ai/locations/us-central1/pipelines/runs/mlops-pipeline-scheduling-20250310190042?project=1026793852137\n"
     ]
    }
   ],
   "source": [
    "response = pipeline_job.submit(\n",
    "    service_account = SERVICE_ACCOUNT\n",
    ")"
   ]
  },
  {
   "cell_type": "code",
   "execution_count": 21,
   "id": "5e4cd403-99ae-4b02-9416-547decff7dd8",
   "metadata": {
    "tags": []
   },
   "outputs": [
    {
     "name": "stdout",
     "output_type": "stream",
     "text": [
      "The Dashboard can be viewed here:\n",
      "https://console.cloud.google.com/vertex-ai/locations/us-central1/pipelines/runs/mlops-pipeline-scheduling-20250310190042?project=1026793852137\n"
     ]
    }
   ],
   "source": [
    "print(f'The Dashboard can be viewed here:\\n{pipeline_job._dashboard_uri()}')"
   ]
  },
  {
   "cell_type": "code",
   "execution_count": 22,
   "id": "dea6308f-9dd2-4e75-9647-71efe4ea8f4b",
   "metadata": {
    "tags": []
   },
   "outputs": [
    {
     "name": "stdout",
     "output_type": "stream",
     "text": [
      "PipelineJob projects/1026793852137/locations/us-central1/pipelineJobs/mlops-pipeline-scheduling-20250310190042 current state:\n",
      "PipelineState.PIPELINE_STATE_RUNNING\n",
      "PipelineJob projects/1026793852137/locations/us-central1/pipelineJobs/mlops-pipeline-scheduling-20250310190042 current state:\n",
      "PipelineState.PIPELINE_STATE_RUNNING\n",
      "PipelineJob projects/1026793852137/locations/us-central1/pipelineJobs/mlops-pipeline-scheduling-20250310190042 current state:\n",
      "PipelineState.PIPELINE_STATE_RUNNING\n",
      "PipelineJob projects/1026793852137/locations/us-central1/pipelineJobs/mlops-pipeline-scheduling-20250310190042 current state:\n",
      "PipelineState.PIPELINE_STATE_RUNNING\n",
      "PipelineJob run completed. Resource name: projects/1026793852137/locations/us-central1/pipelineJobs/mlops-pipeline-scheduling-20250310190042\n"
     ]
    }
   ],
   "source": [
    "pipeline_job.wait()"
   ]
  },
  {
   "cell_type": "markdown",
   "id": "529edcee-016f-48ef-88d8-3670746c7f9b",
   "metadata": {},
   "source": [
    "<p><center>\n",
    "    <img alt=\"Overview of Pipeline\" src=\"../resources/images/screenshots/pipelines/schedule/pipeline-overview.png\" width=\"90%\">\n",
    "</center><p>"
   ]
  },
  {
   "cell_type": "markdown",
   "id": "6497813c-c5c7-4eea-9c1d-fcb780a0ad1d",
   "metadata": {},
   "source": [
    "### Retrieve Pipeline Information"
   ]
  },
  {
   "cell_type": "code",
   "execution_count": 23,
   "id": "a01068ac-e0c5-4d4b-9678-e58d49d247e0",
   "metadata": {
    "tags": []
   },
   "outputs": [
    {
     "data": {
      "text/html": [
       "<div>\n",
       "<style scoped>\n",
       "    .dataframe tbody tr th:only-of-type {\n",
       "        vertical-align: middle;\n",
       "    }\n",
       "\n",
       "    .dataframe tbody tr th {\n",
       "        vertical-align: top;\n",
       "    }\n",
       "\n",
       "    .dataframe thead th {\n",
       "        text-align: right;\n",
       "    }\n",
       "</style>\n",
       "<table border=\"1\" class=\"dataframe\">\n",
       "  <thead>\n",
       "    <tr style=\"text-align: right;\">\n",
       "      <th></th>\n",
       "      <th>pipeline_name</th>\n",
       "      <th>run_name</th>\n",
       "      <th>param.input:text</th>\n",
       "      <th>param.vmlmd_lineage_integration</th>\n",
       "      <th>param.input:number</th>\n",
       "    </tr>\n",
       "  </thead>\n",
       "  <tbody>\n",
       "    <tr>\n",
       "      <th>0</th>\n",
       "      <td>mlops-pipeline-scheduling</td>\n",
       "      <td>mlops-pipeline-scheduling-20250310190042</td>\n",
       "      <td>Example text</td>\n",
       "      <td>{'pipeline_run_component': {'parent_task_names...</td>\n",
       "      <td>34.2</td>\n",
       "    </tr>\n",
       "    <tr>\n",
       "      <th>1</th>\n",
       "      <td>mlops-pipeline-scheduling</td>\n",
       "      <td>mlops-pipeline-scheduling-20240316114903085</td>\n",
       "      <td>Example text</td>\n",
       "      <td>{'pipeline_run_component': {'parent_task_names...</td>\n",
       "      <td>34.2</td>\n",
       "    </tr>\n",
       "    <tr>\n",
       "      <th>2</th>\n",
       "      <td>mlops-pipeline-scheduling</td>\n",
       "      <td>mlops-pipeline-scheduling-20240316114801619</td>\n",
       "      <td>Example text</td>\n",
       "      <td>{'pipeline_run_component': {'parent_task_names...</td>\n",
       "      <td>34.2</td>\n",
       "    </tr>\n",
       "    <tr>\n",
       "      <th>3</th>\n",
       "      <td>mlops-pipeline-scheduling</td>\n",
       "      <td>mlops-pipeline-scheduling-20240316114701725</td>\n",
       "      <td>Example text</td>\n",
       "      <td>{'pipeline_run_component': {'parent_task_names...</td>\n",
       "      <td>34.2</td>\n",
       "    </tr>\n",
       "    <tr>\n",
       "      <th>4</th>\n",
       "      <td>mlops-pipeline-scheduling</td>\n",
       "      <td>mlops-pipeline-scheduling-20240316114601422</td>\n",
       "      <td>Example text</td>\n",
       "      <td>{'pipeline_run_component': {'location_id': 'us...</td>\n",
       "      <td>34.2</td>\n",
       "    </tr>\n",
       "    <tr>\n",
       "      <th>5</th>\n",
       "      <td>mlops-pipeline-scheduling</td>\n",
       "      <td>mlops-pipeline-scheduling-20240316114502103</td>\n",
       "      <td>Example text</td>\n",
       "      <td>{'pipeline_run_component': {'location_id': 'us...</td>\n",
       "      <td>34.2</td>\n",
       "    </tr>\n",
       "    <tr>\n",
       "      <th>6</th>\n",
       "      <td>mlops-pipeline-scheduling</td>\n",
       "      <td>mlops-pipeline-scheduling-20240316183931</td>\n",
       "      <td>Example text</td>\n",
       "      <td>{'pipeline_run_component': {'location_id': 'us...</td>\n",
       "      <td>34.2</td>\n",
       "    </tr>\n",
       "  </tbody>\n",
       "</table>\n",
       "</div>"
      ],
      "text/plain": [
       "               pipeline_name                                     run_name  \\\n",
       "0  mlops-pipeline-scheduling     mlops-pipeline-scheduling-20250310190042   \n",
       "1  mlops-pipeline-scheduling  mlops-pipeline-scheduling-20240316114903085   \n",
       "2  mlops-pipeline-scheduling  mlops-pipeline-scheduling-20240316114801619   \n",
       "3  mlops-pipeline-scheduling  mlops-pipeline-scheduling-20240316114701725   \n",
       "4  mlops-pipeline-scheduling  mlops-pipeline-scheduling-20240316114601422   \n",
       "5  mlops-pipeline-scheduling  mlops-pipeline-scheduling-20240316114502103   \n",
       "6  mlops-pipeline-scheduling     mlops-pipeline-scheduling-20240316183931   \n",
       "\n",
       "  param.input:text                    param.vmlmd_lineage_integration  \\\n",
       "0     Example text  {'pipeline_run_component': {'parent_task_names...   \n",
       "1     Example text  {'pipeline_run_component': {'parent_task_names...   \n",
       "2     Example text  {'pipeline_run_component': {'parent_task_names...   \n",
       "3     Example text  {'pipeline_run_component': {'parent_task_names...   \n",
       "4     Example text  {'pipeline_run_component': {'location_id': 'us...   \n",
       "5     Example text  {'pipeline_run_component': {'location_id': 'us...   \n",
       "6     Example text  {'pipeline_run_component': {'location_id': 'us...   \n",
       "\n",
       "   param.input:number  \n",
       "0                34.2  \n",
       "1                34.2  \n",
       "2                34.2  \n",
       "3                34.2  \n",
       "4                34.2  \n",
       "5                34.2  \n",
       "6                34.2  "
      ]
     },
     "execution_count": 23,
     "metadata": {},
     "output_type": "execute_result"
    }
   ],
   "source": [
    "aiplatform.get_pipeline_df(pipeline = f'{SERIES}-{EXPERIMENT}')"
   ]
  },
  {
   "cell_type": "code",
   "execution_count": 24,
   "id": "8d18fda1-f4d9-4eeb-ae29-33f57eecaf99",
   "metadata": {
    "tags": []
   },
   "outputs": [],
   "source": [
    "tasks = {task.task_name: task for task in pipeline_job.task_details}"
   ]
  },
  {
   "cell_type": "code",
   "execution_count": 25,
   "id": "0fcd75fc-819a-4722-a2bc-542790b0425f",
   "metadata": {
    "tags": []
   },
   "outputs": [
    {
     "name": "stdout",
     "output_type": "stream",
     "text": [
      "mlops-pipeline-scheduling-20250310190042 State.SUCCEEDED\n",
      "example-number State.SUCCEEDED\n",
      "example-string State.SUCCEEDED\n",
      "example-combo State.SUCCEEDED\n"
     ]
    }
   ],
   "source": [
    "for task in tasks:\n",
    "  print(task, tasks[task].state)"
   ]
  },
  {
   "cell_type": "code",
   "execution_count": 26,
   "id": "d16c678c-7339-4454-828b-1ce05c003027",
   "metadata": {
    "tags": []
   },
   "outputs": [
    {
     "name": "stdout",
     "output_type": "stream",
     "text": [
      "mlops-pipeline-scheduling-20250310190042\n",
      "example-number\n",
      "example-string\n",
      "example-combo\n"
     ]
    }
   ],
   "source": [
    "for task in tasks:\n",
    "    print(task)"
   ]
  },
  {
   "cell_type": "code",
   "execution_count": 27,
   "id": "14f23660-63fa-482a-8406-2ad0f6ebf4f6",
   "metadata": {
    "tags": []
   },
   "outputs": [
    {
     "data": {
      "text/plain": [
       "task_id: -1000748236329189376\n",
       "parent_task_id: -1784374571491655680\n",
       "task_name: \"example-number\"\n",
       "create_time {\n",
       "  seconds: 1741633245\n",
       "  nanos: 409695000\n",
       "}\n",
       "start_time {\n",
       "  seconds: 1741633246\n",
       "  nanos: 47828000\n",
       "}\n",
       "end_time {\n",
       "  seconds: 1741633338\n",
       "  nanos: 435457000\n",
       "}\n",
       "executor_detail {\n",
       "  container_detail {\n",
       "    main_job: \"projects/1026793852137/locations/us-central1/customJobs/8627487329314930688\"\n",
       "  }\n",
       "}\n",
       "state: SUCCEEDED\n",
       "execution {\n",
       "  name: \"projects/1026793852137/locations/us-central1/metadataStores/default/executions/15094865489501908552\"\n",
       "  display_name: \"example-number\"\n",
       "  state: COMPLETE\n",
       "  etag: \"1741633338379\"\n",
       "  create_time {\n",
       "    seconds: 1741633245\n",
       "    nanos: 634000000\n",
       "  }\n",
       "  update_time {\n",
       "    seconds: 1741633338\n",
       "    nanos: 379000000\n",
       "  }\n",
       "  schema_title: \"system.ContainerExecution\"\n",
       "  schema_version: \"0.0.1\"\n",
       "  metadata {\n",
       "    fields {\n",
       "      key: \"vmlmd_lineage_integration\"\n",
       "      value {\n",
       "        struct_value {\n",
       "          fields {\n",
       "            key: \"pipeline_run_component\"\n",
       "            value {\n",
       "              struct_value {\n",
       "                fields {\n",
       "                  key: \"task_name\"\n",
       "                  value {\n",
       "                    string_value: \"example-number\"\n",
       "                  }\n",
       "                }\n",
       "                fields {\n",
       "                  key: \"project_id\"\n",
       "                  value {\n",
       "                    string_value: \"statmike-mlops-349915\"\n",
       "                  }\n",
       "                }\n",
       "                fields {\n",
       "                  key: \"pipeline_run_id\"\n",
       "                  value {\n",
       "                    string_value: \"mlops-pipeline-scheduling-20250310190042\"\n",
       "                  }\n",
       "                }\n",
       "                fields {\n",
       "                  key: \"parent_task_names\"\n",
       "                  value {\n",
       "                    list_value {\n",
       "                      values {\n",
       "                        string_value: \"mlops-pipeline-scheduling-20250310190042\"\n",
       "                      }\n",
       "                    }\n",
       "                  }\n",
       "                }\n",
       "                fields {\n",
       "                  key: \"location_id\"\n",
       "                  value {\n",
       "                    string_value: \"us-central1\"\n",
       "                  }\n",
       "                }\n",
       "              }\n",
       "            }\n",
       "          }\n",
       "        }\n",
       "      }\n",
       "    }\n",
       "    fields {\n",
       "      key: \"output:Output\"\n",
       "      value {\n",
       "        number_value: 44.2\n",
       "      }\n",
       "    }\n",
       "    fields {\n",
       "      key: \"input:number\"\n",
       "      value {\n",
       "        number_value: 34.2\n",
       "      }\n",
       "    }\n",
       "  }\n",
       "}\n",
       "pipeline_task_status {\n",
       "  update_time {\n",
       "    seconds: 1741633338\n",
       "    nanos: 318919502\n",
       "  }\n",
       "  state: SUCCEEDED\n",
       "}"
      ]
     },
     "execution_count": 27,
     "metadata": {},
     "output_type": "execute_result"
    }
   ],
   "source": [
    "tasks['example-number']"
   ]
  },
  {
   "cell_type": "markdown",
   "id": "23d6177c-5cef-4344-b868-a6325106dd39",
   "metadata": {},
   "source": [
    "---\n",
    "## Schedule Pipeline\n",
    "\n",
    "- https://cloud.google.com/vertex-ai/docs/pipelines/schedule-pipeline-run\n",
    "\n",
    "Example here: run every 1 minutes, 5 times"
   ]
  },
  {
   "cell_type": "markdown",
   "id": "6c093a24-774b-4a61-b529-84bd4a6f71f5",
   "metadata": {},
   "source": [
    "### Copy Compiled Pipeline To GCS\n",
    "\n",
    "Or a KFP Artifact Registry as demonstrated in [Vertex AI Pipelines - Management](./Vertex%20AI%20Pipelines%20-%20Management.ipynb)."
   ]
  },
  {
   "cell_type": "code",
   "execution_count": 28,
   "id": "5f3f5023-37c4-41c6-95ce-e0a604ca50f3",
   "metadata": {
    "tags": []
   },
   "outputs": [],
   "source": [
    "bucket = gcs.lookup_bucket(GCS_BUCKET)\n",
    "blob = bucket.blob(f'{SERIES}/{EXPERIMENT}/{SERIES}-{EXPERIMENT}.yaml')\n",
    "blob.upload_from_filename(f'{DIR}/{SERIES}-{EXPERIMENT}.yaml')"
   ]
  },
  {
   "cell_type": "markdown",
   "id": "963e6522-2964-455b-aa1e-2ada070b45f2",
   "metadata": {},
   "source": [
    "### Create Pipeline Job\n",
    "\n",
    "Reference the GCS location of the compiled pipeline in the `template_path` parameter."
   ]
  },
  {
   "cell_type": "code",
   "execution_count": 38,
   "id": "d1de95f4-78b3-4a86-a995-da5ca7f54cb0",
   "metadata": {
    "tags": []
   },
   "outputs": [],
   "source": [
    "pipeline_job = aiplatform.PipelineJob(\n",
    "    display_name = f\"{SERIES}-{EXPERIMENT}\",\n",
    "    template_path = f'gs://{GCS_BUCKET}/{SERIES}/{EXPERIMENT}/{SERIES}-{EXPERIMENT}.yaml',\n",
    "    parameter_values = dict(text ='Example text', number = 34.2),\n",
    "    pipeline_root = f'gs://{GCS_BUCKET}/{SERIES}/{EXPERIMENT}/pipeline_root',\n",
    "    enable_caching = None # True (enabled), False (disable), None (defer to component level caching) \n",
    ")"
   ]
  },
  {
   "cell_type": "markdown",
   "id": "b0e10da2-7d4d-44da-886d-8f2e9eff64ed",
   "metadata": {},
   "source": [
    "### Create A Schedule From Pipeline Job\n",
    "\n",
    "Example:\n",
    "- Run every minute\n",
    "- allow 3 runs to run concurrently\n",
    "    - a run may need to start before a prior run is finished\n",
    "- stop after 5 runs"
   ]
  },
  {
   "cell_type": "code",
   "execution_count": 39,
   "id": "eabf8ee7-c57f-4b02-b3c3-ab45670fed56",
   "metadata": {
    "tags": []
   },
   "outputs": [
    {
     "name": "stdout",
     "output_type": "stream",
     "text": [
      "Creating PipelineJobSchedule\n",
      "PipelineJobSchedule created. Resource name: projects/1026793852137/locations/us-central1/schedules/6259831958231056384\n",
      "To use this PipelineJobSchedule in another session:\n",
      "schedule = aiplatform.PipelineJobSchedule.get('projects/1026793852137/locations/us-central1/schedules/6259831958231056384')\n",
      "View Schedule:\n",
      "https://console.cloud.google.com/vertex-ai/locations/us-central1/pipelines/schedules/6259831958231056384?project=1026793852137\n"
     ]
    }
   ],
   "source": [
    "pipeline_job_schedule = pipeline_job.create_schedule(\n",
    "    display_name = f\"{SERIES}-{EXPERIMENT}\",\n",
    "    cron = \"*/1 * * * *\",\n",
    "    max_concurrent_run_count = 3,\n",
    "    max_run_count = 5\n",
    ")"
   ]
  },
  {
   "cell_type": "markdown",
   "id": "01e3c1c5-3758-4e2a-9b70-576f7816edc0",
   "metadata": {},
   "source": [
    "### Wait on Pipeline Schedule \n",
    "\n",
    "This demonstration will complete within 6 minutes..."
   ]
  },
  {
   "cell_type": "code",
   "execution_count": 40,
   "id": "4ebbb4c4-668c-4774-8c75-be259a6110e0",
   "metadata": {
    "tags": []
   },
   "outputs": [],
   "source": [
    "time.sleep(6*1*60)"
   ]
  },
  {
   "cell_type": "markdown",
   "id": "c2819206-ece9-4758-ab50-faa1640c1ad1",
   "metadata": {},
   "source": [
    "### Retrieve Pipeline Information\n",
    "\n",
    "Note: This now includes the original run, and the 5 runs conducted by the schedule:"
   ]
  },
  {
   "cell_type": "code",
   "execution_count": 41,
   "id": "7b820594-560a-4217-8977-f10d6c01220e",
   "metadata": {
    "tags": []
   },
   "outputs": [
    {
     "data": {
      "text/html": [
       "<div>\n",
       "<style scoped>\n",
       "    .dataframe tbody tr th:only-of-type {\n",
       "        vertical-align: middle;\n",
       "    }\n",
       "\n",
       "    .dataframe tbody tr th {\n",
       "        vertical-align: top;\n",
       "    }\n",
       "\n",
       "    .dataframe thead th {\n",
       "        text-align: right;\n",
       "    }\n",
       "</style>\n",
       "<table border=\"1\" class=\"dataframe\">\n",
       "  <thead>\n",
       "    <tr style=\"text-align: right;\">\n",
       "      <th></th>\n",
       "      <th>pipeline_name</th>\n",
       "      <th>run_name</th>\n",
       "      <th>param.input:text</th>\n",
       "      <th>param.vmlmd_lineage_integration</th>\n",
       "      <th>param.input:number</th>\n",
       "    </tr>\n",
       "  </thead>\n",
       "  <tbody>\n",
       "    <tr>\n",
       "      <th>0</th>\n",
       "      <td>mlops-pipeline-scheduling</td>\n",
       "      <td>mlops-pipeline-scheduling-20250310123200480</td>\n",
       "      <td>Example text</td>\n",
       "      <td>{'pipeline_run_component': {'location_id': 'us...</td>\n",
       "      <td>34.2</td>\n",
       "    </tr>\n",
       "    <tr>\n",
       "      <th>1</th>\n",
       "      <td>mlops-pipeline-scheduling</td>\n",
       "      <td>mlops-pipeline-scheduling-20250310123100540</td>\n",
       "      <td>Example text</td>\n",
       "      <td>{'pipeline_run_component': {'parent_task_names...</td>\n",
       "      <td>34.2</td>\n",
       "    </tr>\n",
       "    <tr>\n",
       "      <th>2</th>\n",
       "      <td>mlops-pipeline-scheduling</td>\n",
       "      <td>mlops-pipeline-scheduling-20250310123000724</td>\n",
       "      <td>Example text</td>\n",
       "      <td>{'pipeline_run_component': {'parent_task_names...</td>\n",
       "      <td>34.2</td>\n",
       "    </tr>\n",
       "    <tr>\n",
       "      <th>3</th>\n",
       "      <td>mlops-pipeline-scheduling</td>\n",
       "      <td>mlops-pipeline-scheduling-20250310122900486</td>\n",
       "      <td>Example text</td>\n",
       "      <td>{'pipeline_run_component': {'parent_task_names...</td>\n",
       "      <td>34.2</td>\n",
       "    </tr>\n",
       "    <tr>\n",
       "      <th>4</th>\n",
       "      <td>mlops-pipeline-scheduling</td>\n",
       "      <td>mlops-pipeline-scheduling-20250310122800372</td>\n",
       "      <td>Example text</td>\n",
       "      <td>{'pipeline_run_component': {'parent_task_names...</td>\n",
       "      <td>34.2</td>\n",
       "    </tr>\n",
       "    <tr>\n",
       "      <th>5</th>\n",
       "      <td>mlops-pipeline-scheduling</td>\n",
       "      <td>mlops-pipeline-scheduling-20250310122400401</td>\n",
       "      <td>Example text</td>\n",
       "      <td>{'pipeline_run_component': {'location_id': 'us...</td>\n",
       "      <td>34.2</td>\n",
       "    </tr>\n",
       "    <tr>\n",
       "      <th>6</th>\n",
       "      <td>mlops-pipeline-scheduling</td>\n",
       "      <td>mlops-pipeline-scheduling-20250310122300372</td>\n",
       "      <td>Example text</td>\n",
       "      <td>{'pipeline_run_component': {'location_id': 'us...</td>\n",
       "      <td>34.2</td>\n",
       "    </tr>\n",
       "    <tr>\n",
       "      <th>7</th>\n",
       "      <td>mlops-pipeline-scheduling</td>\n",
       "      <td>mlops-pipeline-scheduling-20250310122200422</td>\n",
       "      <td>Example text</td>\n",
       "      <td>{'pipeline_run_component': {'location_id': 'us...</td>\n",
       "      <td>34.2</td>\n",
       "    </tr>\n",
       "    <tr>\n",
       "      <th>8</th>\n",
       "      <td>mlops-pipeline-scheduling</td>\n",
       "      <td>mlops-pipeline-scheduling-20250310122100393</td>\n",
       "      <td>Example text</td>\n",
       "      <td>{'pipeline_run_component': {'location_id': 'us...</td>\n",
       "      <td>34.2</td>\n",
       "    </tr>\n",
       "    <tr>\n",
       "      <th>9</th>\n",
       "      <td>mlops-pipeline-scheduling</td>\n",
       "      <td>mlops-pipeline-scheduling-20250310122000439</td>\n",
       "      <td>Example text</td>\n",
       "      <td>{'pipeline_run_component': {'location_id': 'us...</td>\n",
       "      <td>34.2</td>\n",
       "    </tr>\n",
       "    <tr>\n",
       "      <th>10</th>\n",
       "      <td>mlops-pipeline-scheduling</td>\n",
       "      <td>mlops-pipeline-scheduling-20250310190042</td>\n",
       "      <td>Example text</td>\n",
       "      <td>{'pipeline_run_component': {'parent_task_names...</td>\n",
       "      <td>34.2</td>\n",
       "    </tr>\n",
       "    <tr>\n",
       "      <th>11</th>\n",
       "      <td>mlops-pipeline-scheduling</td>\n",
       "      <td>mlops-pipeline-scheduling-20240316114903085</td>\n",
       "      <td>Example text</td>\n",
       "      <td>{'pipeline_run_component': {'parent_task_names...</td>\n",
       "      <td>34.2</td>\n",
       "    </tr>\n",
       "    <tr>\n",
       "      <th>12</th>\n",
       "      <td>mlops-pipeline-scheduling</td>\n",
       "      <td>mlops-pipeline-scheduling-20240316114801619</td>\n",
       "      <td>Example text</td>\n",
       "      <td>{'pipeline_run_component': {'location_id': 'us...</td>\n",
       "      <td>34.2</td>\n",
       "    </tr>\n",
       "    <tr>\n",
       "      <th>13</th>\n",
       "      <td>mlops-pipeline-scheduling</td>\n",
       "      <td>mlops-pipeline-scheduling-20240316114701725</td>\n",
       "      <td>Example text</td>\n",
       "      <td>{'pipeline_run_component': {'parent_task_names...</td>\n",
       "      <td>34.2</td>\n",
       "    </tr>\n",
       "    <tr>\n",
       "      <th>14</th>\n",
       "      <td>mlops-pipeline-scheduling</td>\n",
       "      <td>mlops-pipeline-scheduling-20240316114601422</td>\n",
       "      <td>Example text</td>\n",
       "      <td>{'pipeline_run_component': {'parent_task_names...</td>\n",
       "      <td>34.2</td>\n",
       "    </tr>\n",
       "    <tr>\n",
       "      <th>15</th>\n",
       "      <td>mlops-pipeline-scheduling</td>\n",
       "      <td>mlops-pipeline-scheduling-20240316114502103</td>\n",
       "      <td>Example text</td>\n",
       "      <td>{'pipeline_run_component': {'location_id': 'us...</td>\n",
       "      <td>34.2</td>\n",
       "    </tr>\n",
       "    <tr>\n",
       "      <th>16</th>\n",
       "      <td>mlops-pipeline-scheduling</td>\n",
       "      <td>mlops-pipeline-scheduling-20240316183931</td>\n",
       "      <td>Example text</td>\n",
       "      <td>{'pipeline_run_component': {'parent_task_names...</td>\n",
       "      <td>34.2</td>\n",
       "    </tr>\n",
       "  </tbody>\n",
       "</table>\n",
       "</div>"
      ],
      "text/plain": [
       "                pipeline_name                                     run_name  \\\n",
       "0   mlops-pipeline-scheduling  mlops-pipeline-scheduling-20250310123200480   \n",
       "1   mlops-pipeline-scheduling  mlops-pipeline-scheduling-20250310123100540   \n",
       "2   mlops-pipeline-scheduling  mlops-pipeline-scheduling-20250310123000724   \n",
       "3   mlops-pipeline-scheduling  mlops-pipeline-scheduling-20250310122900486   \n",
       "4   mlops-pipeline-scheduling  mlops-pipeline-scheduling-20250310122800372   \n",
       "5   mlops-pipeline-scheduling  mlops-pipeline-scheduling-20250310122400401   \n",
       "6   mlops-pipeline-scheduling  mlops-pipeline-scheduling-20250310122300372   \n",
       "7   mlops-pipeline-scheduling  mlops-pipeline-scheduling-20250310122200422   \n",
       "8   mlops-pipeline-scheduling  mlops-pipeline-scheduling-20250310122100393   \n",
       "9   mlops-pipeline-scheduling  mlops-pipeline-scheduling-20250310122000439   \n",
       "10  mlops-pipeline-scheduling     mlops-pipeline-scheduling-20250310190042   \n",
       "11  mlops-pipeline-scheduling  mlops-pipeline-scheduling-20240316114903085   \n",
       "12  mlops-pipeline-scheduling  mlops-pipeline-scheduling-20240316114801619   \n",
       "13  mlops-pipeline-scheduling  mlops-pipeline-scheduling-20240316114701725   \n",
       "14  mlops-pipeline-scheduling  mlops-pipeline-scheduling-20240316114601422   \n",
       "15  mlops-pipeline-scheduling  mlops-pipeline-scheduling-20240316114502103   \n",
       "16  mlops-pipeline-scheduling     mlops-pipeline-scheduling-20240316183931   \n",
       "\n",
       "   param.input:text                    param.vmlmd_lineage_integration  \\\n",
       "0      Example text  {'pipeline_run_component': {'location_id': 'us...   \n",
       "1      Example text  {'pipeline_run_component': {'parent_task_names...   \n",
       "2      Example text  {'pipeline_run_component': {'parent_task_names...   \n",
       "3      Example text  {'pipeline_run_component': {'parent_task_names...   \n",
       "4      Example text  {'pipeline_run_component': {'parent_task_names...   \n",
       "5      Example text  {'pipeline_run_component': {'location_id': 'us...   \n",
       "6      Example text  {'pipeline_run_component': {'location_id': 'us...   \n",
       "7      Example text  {'pipeline_run_component': {'location_id': 'us...   \n",
       "8      Example text  {'pipeline_run_component': {'location_id': 'us...   \n",
       "9      Example text  {'pipeline_run_component': {'location_id': 'us...   \n",
       "10     Example text  {'pipeline_run_component': {'parent_task_names...   \n",
       "11     Example text  {'pipeline_run_component': {'parent_task_names...   \n",
       "12     Example text  {'pipeline_run_component': {'location_id': 'us...   \n",
       "13     Example text  {'pipeline_run_component': {'parent_task_names...   \n",
       "14     Example text  {'pipeline_run_component': {'parent_task_names...   \n",
       "15     Example text  {'pipeline_run_component': {'location_id': 'us...   \n",
       "16     Example text  {'pipeline_run_component': {'parent_task_names...   \n",
       "\n",
       "    param.input:number  \n",
       "0                 34.2  \n",
       "1                 34.2  \n",
       "2                 34.2  \n",
       "3                 34.2  \n",
       "4                 34.2  \n",
       "5                 34.2  \n",
       "6                 34.2  \n",
       "7                 34.2  \n",
       "8                 34.2  \n",
       "9                 34.2  \n",
       "10                34.2  \n",
       "11                34.2  \n",
       "12                34.2  \n",
       "13                34.2  \n",
       "14                34.2  \n",
       "15                34.2  \n",
       "16                34.2  "
      ]
     },
     "execution_count": 41,
     "metadata": {},
     "output_type": "execute_result"
    }
   ],
   "source": [
    "aiplatform.get_pipeline_df(pipeline = f'{SERIES}-{EXPERIMENT}')"
   ]
  },
  {
   "cell_type": "markdown",
   "id": "1f1170d0-758a-4c5c-8223-a94832cb1c0d",
   "metadata": {},
   "source": [
    "### List The Schedules"
   ]
  },
  {
   "cell_type": "code",
   "execution_count": 42,
   "id": "0fd56cdf-b262-4f25-aec2-463cd9109cea",
   "metadata": {
    "tags": []
   },
   "outputs": [
    {
     "data": {
      "text/plain": [
       "[<google.cloud.aiplatform.pipeline_job_schedules.PipelineJobSchedule object at 0x7f5a7a869f30> \n",
       " resource name: projects/1026793852137/locations/us-central1/schedules/6259831958231056384]"
      ]
     },
     "execution_count": 42,
     "metadata": {},
     "output_type": "execute_result"
    }
   ],
   "source": [
    "schedules = aiplatform.PipelineJobSchedule.list(\n",
    "    filter = f'display_name=\"{SERIES}-{EXPERIMENT}\"',\n",
    ")\n",
    "schedules"
   ]
  },
  {
   "cell_type": "markdown",
   "id": "04ff4548-27c0-475e-a587-d0c36e5acb7f",
   "metadata": {},
   "source": [
    "### List The Runs From The Schedule"
   ]
  },
  {
   "cell_type": "code",
   "execution_count": 43,
   "id": "1e18d5f3-1ee1-4d33-948f-58dd8c2f572d",
   "metadata": {
    "tags": []
   },
   "outputs": [
    {
     "name": "stdout",
     "output_type": "stream",
     "text": [
      "By enabling simple view, the PipelineJob resources returned from this method will not contain all fields.\n",
      "{'name': 'projects/1026793852137/locations/us-central1/pipelineJobs/mlops-pipeline-scheduling-20250310123200480', 'createTime': '2025-03-10T19:32:00.608961Z', 'startTime': '2025-03-10T19:32:01.170639Z', 'endTime': '2025-03-10T19:32:02.913039Z', 'updateTime': '2025-03-10T19:32:02.913039Z', 'pipelineSpec': {'pipelineInfo': {'name': 'mlops-pipeline-scheduling'}}, 'state': 'PIPELINE_STATE_SUCCEEDED', 'jobDetail': {'pipelineContext': {'name': 'projects/1026793852137/locations/us-central1/metadataStores/default/contexts/mlops-pipeline-scheduling'}, 'pipelineRunContext': {'name': 'projects/1026793852137/locations/us-central1/metadataStores/default/contexts/mlops-pipeline-scheduling-20250310123200480'}}, 'labels': {'vertex-ai-pipelines-run-billing-id': '8572606426185203712'}} \n",
      "\n",
      "\n",
      "{'name': 'projects/1026793852137/locations/us-central1/pipelineJobs/mlops-pipeline-scheduling-20250310123100540', 'createTime': '2025-03-10T19:31:00.653720Z', 'startTime': '2025-03-10T19:31:01.301711Z', 'endTime': '2025-03-10T19:31:03.207375Z', 'updateTime': '2025-03-10T19:31:03.207375Z', 'pipelineSpec': {'pipelineInfo': {'name': 'mlops-pipeline-scheduling'}}, 'state': 'PIPELINE_STATE_SUCCEEDED', 'jobDetail': {'pipelineContext': {'name': 'projects/1026793852137/locations/us-central1/metadataStores/default/contexts/mlops-pipeline-scheduling'}, 'pipelineRunContext': {'name': 'projects/1026793852137/locations/us-central1/metadataStores/default/contexts/mlops-pipeline-scheduling-20250310123100540'}}, 'labels': {'vertex-ai-pipelines-run-billing-id': '4351607675432206336'}} \n",
      "\n",
      "\n",
      "{'name': 'projects/1026793852137/locations/us-central1/pipelineJobs/mlops-pipeline-scheduling-20250310123000724', 'createTime': '2025-03-10T19:30:00.889458Z', 'startTime': '2025-03-10T19:30:01.427423Z', 'endTime': '2025-03-10T19:30:03.240223Z', 'updateTime': '2025-03-10T19:30:03.240223Z', 'pipelineSpec': {'pipelineInfo': {'name': 'mlops-pipeline-scheduling'}}, 'state': 'PIPELINE_STATE_SUCCEEDED', 'jobDetail': {'pipelineContext': {'name': 'projects/1026793852137/locations/us-central1/metadataStores/default/contexts/mlops-pipeline-scheduling'}, 'pipelineRunContext': {'name': 'projects/1026793852137/locations/us-central1/metadataStores/default/contexts/mlops-pipeline-scheduling-20250310123000724'}}, 'labels': {'vertex-ai-pipelines-run-billing-id': '4161317397036269568'}} \n",
      "\n",
      "\n",
      "{'name': 'projects/1026793852137/locations/us-central1/pipelineJobs/mlops-pipeline-scheduling-20250310122900486', 'createTime': '2025-03-10T19:29:00.595556Z', 'startTime': '2025-03-10T19:29:01.087135Z', 'endTime': '2025-03-10T19:29:03.038175Z', 'updateTime': '2025-03-10T19:29:03.038175Z', 'pipelineSpec': {'pipelineInfo': {'name': 'mlops-pipeline-scheduling'}}, 'state': 'PIPELINE_STATE_SUCCEEDED', 'jobDetail': {'pipelineContext': {'name': 'projects/1026793852137/locations/us-central1/metadataStores/default/contexts/mlops-pipeline-scheduling'}, 'pipelineRunContext': {'name': 'projects/1026793852137/locations/us-central1/metadataStores/default/contexts/mlops-pipeline-scheduling-20250310122900486'}}, 'labels': {'vertex-ai-pipelines-run-billing-id': '9186771631228321792'}} \n",
      "\n",
      "\n",
      "{'name': 'projects/1026793852137/locations/us-central1/pipelineJobs/mlops-pipeline-scheduling-20250310122800372', 'createTime': '2025-03-10T19:28:00.476888Z', 'startTime': '2025-03-10T19:28:01.048783Z', 'endTime': '2025-03-10T19:28:02.939535Z', 'updateTime': '2025-03-10T19:28:02.939535Z', 'pipelineSpec': {'pipelineInfo': {'name': 'mlops-pipeline-scheduling'}}, 'state': 'PIPELINE_STATE_SUCCEEDED', 'jobDetail': {'pipelineContext': {'name': 'projects/1026793852137/locations/us-central1/metadataStores/default/contexts/mlops-pipeline-scheduling'}, 'pipelineRunContext': {'name': 'projects/1026793852137/locations/us-central1/metadataStores/default/contexts/mlops-pipeline-scheduling-20250310122800372'}}, 'labels': {'vertex-ai-pipelines-run-billing-id': '7791218696696889344'}} \n",
      "\n",
      "\n"
     ]
    }
   ],
   "source": [
    "jobs = schedules[0].list_jobs()\n",
    "for job in jobs:\n",
    "    print(job.to_dict(), '\\n\\n')"
   ]
  },
  {
   "cell_type": "markdown",
   "id": "4b6fa431-3956-4656-bd03-61f17bb48c62",
   "metadata": {
    "tags": []
   },
   "source": [
    "### Console View Of Schedule\n",
    "\n",
    "**Review Schedule While Running:**\n",
    "<p><center>\n",
    "    <img alt=\"Overview of Pipeline\" src=\"../resources/images/screenshots/pipelines/schedule/schedule-running.png\" width=\"90%\">\n",
    "</center><p>\n",
    "    \n",
    "**Review Completed Schedule:**\n",
    "<p><center>\n",
    "    <img alt=\"Overview of Pipeline\" src=\"../resources/images/screenshots/pipelines/schedule/schedule-complete.png\" width=\"90%\">\n",
    "</center><p>"
   ]
  },
  {
   "cell_type": "markdown",
   "id": "7341dd5b-6d57-4955-8820-725706bcf2f8",
   "metadata": {},
   "source": [
    "### Delete A Schedule"
   ]
  },
  {
   "cell_type": "code",
   "execution_count": 45,
   "id": "0eead6c7-7a7c-4717-9939-e044695667af",
   "metadata": {
    "tags": []
   },
   "outputs": [
    {
     "data": {
      "text/plain": [
       "[<google.cloud.aiplatform.pipeline_job_schedules.PipelineJobSchedule object at 0x7f5a7a868220> \n",
       " resource name: projects/1026793852137/locations/us-central1/schedules/6259831958231056384]"
      ]
     },
     "execution_count": 45,
     "metadata": {},
     "output_type": "execute_result"
    }
   ],
   "source": [
    "schedules = aiplatform.PipelineJobSchedule.list(\n",
    "    filter = f'display_name=\"{SERIES}-{EXPERIMENT}\"',\n",
    ")\n",
    "schedules"
   ]
  },
  {
   "cell_type": "code",
   "execution_count": 46,
   "id": "1ef276e9-a6ba-4cbe-9f37-1588ac876b58",
   "metadata": {
    "tags": []
   },
   "outputs": [
    {
     "data": {
      "text/plain": [
       "True"
      ]
     },
     "execution_count": 46,
     "metadata": {},
     "output_type": "execute_result"
    }
   ],
   "source": [
    "schedules[0].done()"
   ]
  },
  {
   "cell_type": "code",
   "execution_count": 47,
   "id": "c4cbd863-3803-4664-bd29-d8eb393ad50a",
   "metadata": {
    "tags": []
   },
   "outputs": [
    {
     "name": "stdout",
     "output_type": "stream",
     "text": [
      "Deleting PipelineJobSchedule : projects/1026793852137/locations/us-central1/schedules/6259831958231056384\n",
      "PipelineJobSchedule deleted. . Resource name: projects/1026793852137/locations/us-central1/schedules/6259831958231056384\n",
      "Deleting PipelineJobSchedule resource: projects/1026793852137/locations/us-central1/schedules/6259831958231056384\n",
      "Delete PipelineJobSchedule backing LRO: projects/1026793852137/locations/us-central1/operations/6542659437323091968\n",
      "PipelineJobSchedule resource projects/1026793852137/locations/us-central1/schedules/6259831958231056384 deleted.\n"
     ]
    }
   ],
   "source": [
    "schedules[0].delete()"
   ]
  },
  {
   "cell_type": "code",
   "execution_count": null,
   "id": "93a62380-3b60-4ec3-be83-dcef763bd49e",
   "metadata": {},
   "outputs": [],
   "source": []
  }
 ],
 "metadata": {
  "environment": {
   "kernel": "conda-base-py",
   "name": "workbench-notebooks.m128",
   "type": "gcloud",
   "uri": "us-docker.pkg.dev/deeplearning-platform-release/gcr.io/workbench-notebooks:m128"
  },
  "kernelspec": {
   "display_name": "Python 3 (ipykernel) (Local)",
   "language": "python",
   "name": "conda-base-py"
  },
  "language_info": {
   "codemirror_mode": {
    "name": "ipython",
    "version": 3
   },
   "file_extension": ".py",
   "mimetype": "text/x-python",
   "name": "python",
   "nbconvert_exporter": "python",
   "pygments_lexer": "ipython3",
   "version": "3.10.16"
  }
 },
 "nbformat": 4,
 "nbformat_minor": 5
}
