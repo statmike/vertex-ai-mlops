{
 "cells": [
  {
   "cell_type": "markdown",
   "id": "a4e6b1ea",
   "metadata": {
    "editable": true,
    "slideshow": {
     "slide_type": ""
    },
    "tags": []
   },
   "source": [
    "![tracker](https://us-central1-vertex-ai-mlops-369716.cloudfunctions.net/pixel-tracking?path=statmike%2Fvertex-ai-mlops%2FMLOps%2FPipelines&file=Vertex+AI+Pipelines+-+Start+Here.ipynb)\n",
    "<!--- header table --->\n",
    "<table align=\"left\">\n",
    "  <td style=\"text-align: center\">\n",
    "    <a href=\"https://colab.research.google.com/github/statmike/vertex-ai-mlops/blob/main/MLOps/Pipelines/Vertex%20AI%20Pipelines%20-%20Start%20Here.ipynb\">\n",
    "      <img src=\"https://cloud.google.com/ml-engine/images/colab-logo-32px.png\" alt=\"Google Colaboratory logo\">\n",
    "      <br>Run in<br>Colab\n",
    "    </a>\n",
    "  </td>\n",
    "  <td style=\"text-align: center\">\n",
    "    <a href=\"https://console.cloud.google.com/vertex-ai/colab/import/https%3A%2F%2Fraw.githubusercontent.com%2Fstatmike%2Fvertex-ai-mlops%2Fmain%2FMLOps%2FPipelines%2FVertex%2520AI%2520Pipelines%2520-%2520Start%2520Here.ipynb\">\n",
    "      <img width=\"32px\" src=\"https://lh3.googleusercontent.com/JmcxdQi-qOpctIvWKgPtrzZdJJK-J3sWE1RsfjZNwshCFgE_9fULcNpuXYTilIR2hjwN\" alt=\"Google Cloud Colab Enterprise logo\">\n",
    "      <br>Run in<br>Colab Enterprise\n",
    "    </a>\n",
    "  </td>      \n",
    "  <td style=\"text-align: center\">\n",
    "    <a href=\"https://github.com/statmike/vertex-ai-mlops/blob/main/MLOps/Pipelines/Vertex%20AI%20Pipelines%20-%20Start%20Here.ipynb\">\n",
    "      <img src=\"https://cloud.google.com/ml-engine/images/github-logo-32px.png\" alt=\"GitHub logo\">\n",
    "      <br>View on<br>GitHub\n",
    "    </a>\n",
    "  </td>\n",
    "  <td style=\"text-align: center\">\n",
    "    <a href=\"https://console.cloud.google.com/vertex-ai/workbench/deploy-notebook?download_url=https://raw.githubusercontent.com/statmike/vertex-ai-mlops/main/MLOps/Pipelines/Vertex%20AI%20Pipelines%20-%20Start%20Here.ipynb\">\n",
    "      <img src=\"https://lh3.googleusercontent.com/UiNooY4LUgW_oTvpsNhPpQzsstV5W8F7rYgxgGBD85cWJoLmrOzhVs_ksK_vgx40SHs7jCqkTkCk=e14-rj-sc0xffffff-h130-w32\" alt=\"Vertex AI logo\">\n",
    "      <br>Open in<br>Vertex AI Workbench\n",
    "    </a>\n",
    "  </td>\n",
    "</table>"
   ]
  },
  {
   "cell_type": "markdown",
   "id": "a0642c90-d5fc-4e26-93f1-cdcf7f8f142b",
   "metadata": {
    "editable": true,
    "slideshow": {
     "slide_type": ""
    },
    "tags": []
   },
   "source": [
    "---\n",
    "This is part of a [series of notebook based workflows](./readme.md) that teach all the ways to use pipelines within Vertex AI. The suggested order and description/reason is:\n",
    "\n",
    "||Notebook Workflow|Description|\n",
    "|---|---|---|\n",
    "|_**This Notebook**_|[Vertex AI Pipelines - Start Here](./Vertex%20AI%20Pipelines%20-%20Start%20Here.ipynb)|What are pipelines? Start here to go from code to pipeline and see it in action.|\n",
    "||[Vertex AI Pipelines - Introduction](./Vertex%20AI%20Pipelines%20-%20Introduction.ipynb)|Introduction to pipelines with the console and Vertex AI SDK|\n",
    "||[Vertex AI Pipelines - Components](./Vertex%20AI%20Pipelines%20-%20Components.ipynb)|An introduction to all the ways to create pipeline components from your code|\n",
    "||[Vertex AI Pipelines - IO](./Vertex%20AI%20Pipelines%20-%20IO.ipynb)|An overview of all the type of inputs and outputs for pipeline components|\n",
    "||[Vertex AI Pipelines - Control](./Vertex%20AI%20Pipelines%20-%20Control.ipynb)|An overview of controlling the flow of exectution for pipelines|\n",
    "||[Vertex AI Pipelines - Secret Manager](./Vertex%20AI%20Pipelines%20-%20Secret%20Manager.ipynb)|How to pass sensitive information to pipelines and components|\n",
    "||[Vertex AI Pipelines - GCS Read and Write](./Vertex%20AI%20Pipelines%20-%20GCS%20Read%20and%20Write.ipynb)|How to read/write to GCS from components, including container components.|\n",
    "||[Vertex AI Pipelines - Scheduling](./Vertex%20AI%20Pipelines%20-%20Scheduling.ipynb)|How to schedule pipeline execution|\n",
    "||[Vertex AI Pipelines - Notifications](./Vertex%20AI%20Pipelines%20-%20Notifications.ipynb)|How to send email notification of pipeline status.|\n",
    "||[Vertex AI Pipelines - Management](./Vertex%20AI%20Pipelines%20-%20Management.ipynb)|Managing, Reusing, and Storing pipelines and components|\n",
    "||[Vertex AI Pipelines - Testing](./Vertex%20AI%20Pipelines%20-%20Testing.ipynb)|Strategies for testing components and pipeliens locally and remotely to aide development.|\n",
    "||[Vertex AI Pipelines - Managing Pipeline Jobs](./Vertex%20AI%20Pipelines%20-%20Managing%20Pipeline%20Jobs.ipynb)|Manage runs of pipelines in an environment: list, check status, filtered list, cancel and delete jobs.|\n",
    "\n",
    "To discover these notebooks as part of an introduction to MLOps orchestration [start here](./readme.md).  To read more about MLOps also check out [the parent folder](../readme.md).\n",
    "\n",
    "---"
   ]
  },
  {
   "cell_type": "markdown",
   "id": "834268cd-c8a3-45eb-b1fe-08133c275694",
   "metadata": {},
   "source": [
    "# Vertex AI Pipelines - Start Here\n",
    "\n",
    "What are pipelines?\n",
    "- They help you automate, manage, and scale your ML workflows\n",
    "- They offer reproducibility, collaboration, and efficiency\n",
    "\n",
    "\n",
    "In this quick start, we'll take a simple code example and run it both in a notebook and as a pipeline on Vertex AI Pipelines. This will likely spark many questions, and that's great! The rest of this series will dive deeper into each aspect of pipelines, providing comprehensive answers by example. \n",
    "\n",
    "Ready to see the pipelines in action? Let's dive into our first code example! "
   ]
  },
  {
   "cell_type": "markdown",
   "id": "de64e9d2-cfea-4868-bbff-964a57b6af36",
   "metadata": {
    "id": "od_UkDpvRmgD",
    "tags": []
   },
   "source": [
    "---\n",
    "## Colab Setup\n",
    "\n",
    "To run this notebook in Colab run the cells in this section.  Otherwise, skip this section.\n",
    "\n",
    "This cell will authenticate to GCP (follow prompts in the popup)."
   ]
  },
  {
   "cell_type": "code",
   "execution_count": 67,
   "id": "a83a1cf2-15bc-4ca7-96e3-52c76c82cb70",
   "metadata": {
    "executionInfo": {
     "elapsed": 195,
     "status": "ok",
     "timestamp": 1683726184843,
     "user": {
      "displayName": "Mike Henderson",
      "userId": "07691629187611687318"
     },
     "user_tz": 240
    },
    "id": "8UO9FnqyKBlF",
    "tags": []
   },
   "outputs": [],
   "source": [
    "PROJECT_ID = 'statmike-mlops-349915' # replace with project ID"
   ]
  },
  {
   "cell_type": "code",
   "execution_count": 68,
   "id": "da9881bf-fcb0-44b5-b679-15691ada9d0f",
   "metadata": {
    "colab": {
     "base_uri": "https://localhost:8080/"
    },
    "executionInfo": {
     "elapsed": 68869,
     "status": "ok",
     "timestamp": 1683726253709,
     "user": {
      "displayName": "Mike Henderson",
      "userId": "07691629187611687318"
     },
     "user_tz": 240
    },
    "id": "N98-KK7LRkjm",
    "outputId": "09ec5008-0def-4e1a-c349-c598ee752f78",
    "tags": []
   },
   "outputs": [
    {
     "name": "stdout",
     "output_type": "stream",
     "text": [
      "Not a Colab Environment\n"
     ]
    }
   ],
   "source": [
    "try:\n",
    "    from google.colab import auth\n",
    "    auth.authenticate_user()\n",
    "    !gcloud config set project {PROJECT_ID}\n",
    "    print('Colab authorized to GCP')\n",
    "except Exception:\n",
    "    print('Not a Colab Environment')\n",
    "    pass"
   ]
  },
  {
   "cell_type": "markdown",
   "id": "a597b1ec-fb1d-49a3-aeed-3d301a42bbad",
   "metadata": {},
   "source": [
    "---\n",
    "## Installs\n",
    "\n",
    "The list `packages` contains tuples of package import names and install names.  If the import name is not found then the install name is used to install quitely for the current user."
   ]
  },
  {
   "cell_type": "code",
   "execution_count": 69,
   "id": "75462b65-a135-4987-b49d-7ee21e6ff000",
   "metadata": {
    "tags": []
   },
   "outputs": [],
   "source": [
    "# tuples of (import name, install name, min_version)\n",
    "packages = [\n",
    "    ('google.cloud.aiplatform', 'google-cloud-aiplatform', '1.51.0'),\n",
    "    ('kfp', 'kfp'),\n",
    "    ('sklearn', 'scikit-learn'),\n",
    "    ('numpy', 'numpy')\n",
    "]\n",
    "\n",
    "import importlib\n",
    "install = False\n",
    "for package in packages:\n",
    "    if not importlib.util.find_spec(package[0]):\n",
    "        print(f'installing package {package[1]}')\n",
    "        install = True\n",
    "        !pip install {package[1]} -U -q --user\n",
    "    elif len(package) == 3:\n",
    "        if importlib.metadata.version(package[0]) < package[2]:\n",
    "            print(f'updating package {package[1]}')\n",
    "            install = True\n",
    "            !pip install {package[1]} -U -q --user"
   ]
  },
  {
   "cell_type": "markdown",
   "id": "58033147-7b61-469a-8b57-6ba58f1b0556",
   "metadata": {},
   "source": [
    "### API Enablement"
   ]
  },
  {
   "cell_type": "code",
   "execution_count": 70,
   "id": "72603906-413f-4a93-9543-462c71c18323",
   "metadata": {
    "tags": []
   },
   "outputs": [],
   "source": [
    "!gcloud services enable aiplatform.googleapis.com"
   ]
  },
  {
   "cell_type": "markdown",
   "id": "5058bb50-f539-4b0d-8a0a-6864a9e56d9e",
   "metadata": {},
   "source": [
    "### Restart Kernel (If Installs Occured)\n",
    "\n",
    "After a kernel restart the code submission can start with the next cell after this one."
   ]
  },
  {
   "cell_type": "code",
   "execution_count": 71,
   "id": "1c64059c-89a3-4f25-8921-4b4c25681583",
   "metadata": {
    "tags": []
   },
   "outputs": [],
   "source": [
    "if install:\n",
    "    import IPython\n",
    "    app = IPython.Application.instance()\n",
    "    app.kernel.do_shutdown(True)\n",
    "    IPython.display.display(IPython.display.Markdown(\"\"\"<div class=\\\"alert alert-block alert-warning\\\">\n",
    "        <b>⚠️ The kernel is going to restart. Please wait until it is finished before continuing to the next step. The previous cells do not need to be run again⚠️</b>\n",
    "        </div>\"\"\"))"
   ]
  },
  {
   "cell_type": "markdown",
   "id": "38248ac1-3936-4818-af6f-846f95dfffd2",
   "metadata": {
    "id": "appt8-yVRtJ1"
   },
   "source": [
    "---\n",
    "## Setup"
   ]
  },
  {
   "cell_type": "markdown",
   "id": "23dc7b07-ddc2-4e02-abf7-5aafef9c2edf",
   "metadata": {
    "id": "63mx2EozRxFP"
   },
   "source": [
    "Inputs"
   ]
  },
  {
   "cell_type": "code",
   "execution_count": 72,
   "id": "a689f026-817f-42bf-8d37-63b822a861ef",
   "metadata": {
    "colab": {
     "base_uri": "https://localhost:8080/",
     "height": 35
    },
    "executionInfo": {
     "elapsed": 2124,
     "status": "ok",
     "timestamp": 1683726390544,
     "user": {
      "displayName": "Mike Henderson",
      "userId": "07691629187611687318"
     },
     "user_tz": 240
    },
    "id": "xzcoXjM5Rky5",
    "outputId": "b3bdcbc1-70d5-472e-aea2-42c74a42efde",
    "tags": []
   },
   "outputs": [
    {
     "data": {
      "text/plain": [
       "'statmike-mlops-349915'"
      ]
     },
     "execution_count": 72,
     "metadata": {},
     "output_type": "execute_result"
    }
   ],
   "source": [
    "project = !gcloud config get-value project\n",
    "PROJECT_ID = project[0]\n",
    "PROJECT_ID"
   ]
  },
  {
   "cell_type": "code",
   "execution_count": 73,
   "id": "78a5f647-0ce2-4ba2-a8a6-085415af3f86",
   "metadata": {
    "executionInfo": {
     "elapsed": 2,
     "status": "ok",
     "timestamp": 1683726390712,
     "user": {
      "displayName": "Mike Henderson",
      "userId": "07691629187611687318"
     },
     "user_tz": 240
    },
    "id": "IxWrFtqYMfku",
    "tags": []
   },
   "outputs": [],
   "source": [
    "REGION = 'us-central1'\n",
    "SERIES = 'mlops'\n",
    "EXPERIMENT = 'pipeline-start'\n",
    "\n",
    "# gcs bucket\n",
    "GCS_BUCKET = PROJECT_ID"
   ]
  },
  {
   "cell_type": "markdown",
   "id": "e3abd408-89dc-4472-8ba8-32eda6d4d369",
   "metadata": {
    "id": "LuajVwCiO6Yg"
   },
   "source": [
    "Packages"
   ]
  },
  {
   "cell_type": "code",
   "execution_count": 74,
   "id": "d35d69db-88a5-4cb3-8560-ab0e3c98bded",
   "metadata": {
    "executionInfo": {
     "elapsed": 17761,
     "status": "ok",
     "timestamp": 1683726409304,
     "user": {
      "displayName": "Mike Henderson",
      "userId": "07691629187611687318"
     },
     "user_tz": 240
    },
    "id": "LVC7zzSLRk2C",
    "tags": []
   },
   "outputs": [],
   "source": [
    "import os\n",
    "\n",
    "from IPython.display import Markdown as show_md\n",
    "\n",
    "from google.cloud import aiplatform\n",
    "import kfp\n",
    "\n",
    "import sklearn\n",
    "import sklearn.datasets\n",
    "import sklearn.linear_model\n",
    "import sklearn.metrics\n",
    "import sklearn.preprocessing\n",
    "import numpy as np"
   ]
  },
  {
   "cell_type": "code",
   "execution_count": 75,
   "id": "0e6bd578-9fab-48f3-a0d4-58cf2575e810",
   "metadata": {
    "tags": []
   },
   "outputs": [
    {
     "data": {
      "text/plain": [
       "'2.11.0'"
      ]
     },
     "execution_count": 75,
     "metadata": {},
     "output_type": "execute_result"
    }
   ],
   "source": [
    "kfp.__version__"
   ]
  },
  {
   "cell_type": "code",
   "execution_count": 76,
   "id": "d446fa95-766d-4c63-945d-7ae230b0c618",
   "metadata": {
    "tags": []
   },
   "outputs": [
    {
     "data": {
      "text/plain": [
       "'1.78.0'"
      ]
     },
     "execution_count": 76,
     "metadata": {},
     "output_type": "execute_result"
    }
   ],
   "source": [
    "aiplatform.__version__"
   ]
  },
  {
   "cell_type": "markdown",
   "id": "906e2871-6fa8-4233-a622-b1d816d44ad9",
   "metadata": {
    "id": "EyAVFG9TO9H-"
   },
   "source": [
    "Clients"
   ]
  },
  {
   "cell_type": "code",
   "execution_count": 77,
   "id": "ecbc542f-ca19-4b97-bb20-26ef0c7570bd",
   "metadata": {
    "executionInfo": {
     "elapsed": 19,
     "status": "ok",
     "timestamp": 1683726409306,
     "user": {
      "displayName": "Mike Henderson",
      "userId": "07691629187611687318"
     },
     "user_tz": 240
    },
    "id": "L0RPE13LOZce",
    "tags": []
   },
   "outputs": [],
   "source": [
    "# vertex ai clients\n",
    "aiplatform.init(project = PROJECT_ID, location = REGION)"
   ]
  },
  {
   "cell_type": "markdown",
   "id": "92536f09-3457-4d6a-8774-e0e42bad3ec4",
   "metadata": {},
   "source": [
    "parameters:"
   ]
  },
  {
   "cell_type": "code",
   "execution_count": 78,
   "id": "7d400eeb-a2ae-4671-b1f1-c5ce6e84ce91",
   "metadata": {
    "tags": []
   },
   "outputs": [],
   "source": [
    "DIR = f\"temp/{SERIES}-{EXPERIMENT}\""
   ]
  },
  {
   "cell_type": "code",
   "execution_count": 79,
   "id": "6828a67b-914e-4ef2-b6d6-1694fc206318",
   "metadata": {
    "tags": []
   },
   "outputs": [
    {
     "data": {
      "text/plain": [
       "'1026793852137-compute@developer.gserviceaccount.com'"
      ]
     },
     "execution_count": 79,
     "metadata": {},
     "output_type": "execute_result"
    }
   ],
   "source": [
    "SERVICE_ACCOUNT = !gcloud config list --format='value(core.account)' \n",
    "SERVICE_ACCOUNT = SERVICE_ACCOUNT[0]\n",
    "SERVICE_ACCOUNT"
   ]
  },
  {
   "cell_type": "markdown",
   "id": "ec4264b9-c702-4b11-9034-d0b80db75ed4",
   "metadata": {},
   "source": [
    "environment:"
   ]
  },
  {
   "cell_type": "code",
   "execution_count": 80,
   "id": "f17e155e-e79a-4b4c-aa14-3c9f1c90bbf3",
   "metadata": {
    "tags": []
   },
   "outputs": [],
   "source": [
    "if not os.path.exists(DIR):\n",
    "    os.makedirs(DIR)"
   ]
  },
  {
   "cell_type": "markdown",
   "id": "c0fab33a-2dbb-4969-bf12-93af752c39bb",
   "metadata": {
    "tags": []
   },
   "source": [
    "---\n",
    "## ML Code - A Simple Example\n",
    "\n",
    "A simple of example of using [scikit-learn](https://scikit-learn.org/stable/index.html) to create a linear model (regression) using the [diabetes data](https://scikit-learn.org/stable/datasets/toy_dataset.html#diabetes-dataset):\n",
    "- 442 samples\n",
    "- predict disease progression: `disease_progression`\n",
    "- using attributes: `sex, bmi, bp, total serum cholesterol, low-density lipoproteins, high-density lipoproteins, HDL, triglycerides, blood sugar`"
   ]
  },
  {
   "cell_type": "code",
   "execution_count": 81,
   "id": "9aa6454d-6283-4cb0-8378-b1f6e765423c",
   "metadata": {
    "tags": []
   },
   "outputs": [],
   "source": [
    "# set a percentage of data to use for the test split\n",
    "test_pct = 0.05"
   ]
  },
  {
   "cell_type": "code",
   "execution_count": 82,
   "id": "a30bbcdf-6cd3-4d84-a7a2-925886a236d5",
   "metadata": {
    "tags": []
   },
   "outputs": [],
   "source": [
    "# load data\n",
    "diabetes_X, diabetes_y = sklearn.datasets.load_diabetes(return_X_y = True)"
   ]
  },
  {
   "cell_type": "code",
   "execution_count": 83,
   "id": "e0145fc6-38a3-46ae-9c8e-c6c3800943c6",
   "metadata": {
    "tags": []
   },
   "outputs": [],
   "source": [
    "# determine split_index from test_pct\n",
    "split_index = int(len(diabetes_y) * test_pct)"
   ]
  },
  {
   "cell_type": "code",
   "execution_count": 84,
   "id": "7cca7bc7-7bdb-45d8-b588-c0c005257bdd",
   "metadata": {
    "tags": []
   },
   "outputs": [],
   "source": [
    "# split data into train/test\n",
    "train_X, test_X = diabetes_X[0:-1*split_index], diabetes_X[-1*split_index:]\n",
    "train_y, test_y = diabetes_y[0:-1*split_index], diabetes_y[-1*split_index:]"
   ]
  },
  {
   "cell_type": "code",
   "execution_count": 85,
   "id": "3acc97ff-099b-426a-a85b-e7fe0d65f8cb",
   "metadata": {
    "tags": []
   },
   "outputs": [],
   "source": [
    "# standardize the columns of X based on the train_X data\n",
    "scaler = sklearn.preprocessing.StandardScaler()\n",
    "scaler.fit(train_X)\n",
    "train_X_normalized, test_X_normalized = scaler.transform(train_X), scaler.transform(test_X)"
   ]
  },
  {
   "cell_type": "code",
   "execution_count": 86,
   "id": "599406c5-3ea6-4515-b279-ed21cae859df",
   "metadata": {
    "tags": []
   },
   "outputs": [],
   "source": [
    "# create model\n",
    "regression = sklearn.linear_model.LinearRegression()"
   ]
  },
  {
   "cell_type": "code",
   "execution_count": 87,
   "id": "002fe23c-ba47-4779-8424-79ad87c37202",
   "metadata": {
    "tags": []
   },
   "outputs": [
    {
     "data": {
      "text/html": [
       "<style>#sk-container-id-2 {\n",
       "  /* Definition of color scheme common for light and dark mode */\n",
       "  --sklearn-color-text: #000;\n",
       "  --sklearn-color-text-muted: #666;\n",
       "  --sklearn-color-line: gray;\n",
       "  /* Definition of color scheme for unfitted estimators */\n",
       "  --sklearn-color-unfitted-level-0: #fff5e6;\n",
       "  --sklearn-color-unfitted-level-1: #f6e4d2;\n",
       "  --sklearn-color-unfitted-level-2: #ffe0b3;\n",
       "  --sklearn-color-unfitted-level-3: chocolate;\n",
       "  /* Definition of color scheme for fitted estimators */\n",
       "  --sklearn-color-fitted-level-0: #f0f8ff;\n",
       "  --sklearn-color-fitted-level-1: #d4ebff;\n",
       "  --sklearn-color-fitted-level-2: #b3dbfd;\n",
       "  --sklearn-color-fitted-level-3: cornflowerblue;\n",
       "\n",
       "  /* Specific color for light theme */\n",
       "  --sklearn-color-text-on-default-background: var(--sg-text-color, var(--theme-code-foreground, var(--jp-content-font-color1, black)));\n",
       "  --sklearn-color-background: var(--sg-background-color, var(--theme-background, var(--jp-layout-color0, white)));\n",
       "  --sklearn-color-border-box: var(--sg-text-color, var(--theme-code-foreground, var(--jp-content-font-color1, black)));\n",
       "  --sklearn-color-icon: #696969;\n",
       "\n",
       "  @media (prefers-color-scheme: dark) {\n",
       "    /* Redefinition of color scheme for dark theme */\n",
       "    --sklearn-color-text-on-default-background: var(--sg-text-color, var(--theme-code-foreground, var(--jp-content-font-color1, white)));\n",
       "    --sklearn-color-background: var(--sg-background-color, var(--theme-background, var(--jp-layout-color0, #111)));\n",
       "    --sklearn-color-border-box: var(--sg-text-color, var(--theme-code-foreground, var(--jp-content-font-color1, white)));\n",
       "    --sklearn-color-icon: #878787;\n",
       "  }\n",
       "}\n",
       "\n",
       "#sk-container-id-2 {\n",
       "  color: var(--sklearn-color-text);\n",
       "}\n",
       "\n",
       "#sk-container-id-2 pre {\n",
       "  padding: 0;\n",
       "}\n",
       "\n",
       "#sk-container-id-2 input.sk-hidden--visually {\n",
       "  border: 0;\n",
       "  clip: rect(1px 1px 1px 1px);\n",
       "  clip: rect(1px, 1px, 1px, 1px);\n",
       "  height: 1px;\n",
       "  margin: -1px;\n",
       "  overflow: hidden;\n",
       "  padding: 0;\n",
       "  position: absolute;\n",
       "  width: 1px;\n",
       "}\n",
       "\n",
       "#sk-container-id-2 div.sk-dashed-wrapped {\n",
       "  border: 1px dashed var(--sklearn-color-line);\n",
       "  margin: 0 0.4em 0.5em 0.4em;\n",
       "  box-sizing: border-box;\n",
       "  padding-bottom: 0.4em;\n",
       "  background-color: var(--sklearn-color-background);\n",
       "}\n",
       "\n",
       "#sk-container-id-2 div.sk-container {\n",
       "  /* jupyter's `normalize.less` sets `[hidden] { display: none; }`\n",
       "     but bootstrap.min.css set `[hidden] { display: none !important; }`\n",
       "     so we also need the `!important` here to be able to override the\n",
       "     default hidden behavior on the sphinx rendered scikit-learn.org.\n",
       "     See: https://github.com/scikit-learn/scikit-learn/issues/21755 */\n",
       "  display: inline-block !important;\n",
       "  position: relative;\n",
       "}\n",
       "\n",
       "#sk-container-id-2 div.sk-text-repr-fallback {\n",
       "  display: none;\n",
       "}\n",
       "\n",
       "div.sk-parallel-item,\n",
       "div.sk-serial,\n",
       "div.sk-item {\n",
       "  /* draw centered vertical line to link estimators */\n",
       "  background-image: linear-gradient(var(--sklearn-color-text-on-default-background), var(--sklearn-color-text-on-default-background));\n",
       "  background-size: 2px 100%;\n",
       "  background-repeat: no-repeat;\n",
       "  background-position: center center;\n",
       "}\n",
       "\n",
       "/* Parallel-specific style estimator block */\n",
       "\n",
       "#sk-container-id-2 div.sk-parallel-item::after {\n",
       "  content: \"\";\n",
       "  width: 100%;\n",
       "  border-bottom: 2px solid var(--sklearn-color-text-on-default-background);\n",
       "  flex-grow: 1;\n",
       "}\n",
       "\n",
       "#sk-container-id-2 div.sk-parallel {\n",
       "  display: flex;\n",
       "  align-items: stretch;\n",
       "  justify-content: center;\n",
       "  background-color: var(--sklearn-color-background);\n",
       "  position: relative;\n",
       "}\n",
       "\n",
       "#sk-container-id-2 div.sk-parallel-item {\n",
       "  display: flex;\n",
       "  flex-direction: column;\n",
       "}\n",
       "\n",
       "#sk-container-id-2 div.sk-parallel-item:first-child::after {\n",
       "  align-self: flex-end;\n",
       "  width: 50%;\n",
       "}\n",
       "\n",
       "#sk-container-id-2 div.sk-parallel-item:last-child::after {\n",
       "  align-self: flex-start;\n",
       "  width: 50%;\n",
       "}\n",
       "\n",
       "#sk-container-id-2 div.sk-parallel-item:only-child::after {\n",
       "  width: 0;\n",
       "}\n",
       "\n",
       "/* Serial-specific style estimator block */\n",
       "\n",
       "#sk-container-id-2 div.sk-serial {\n",
       "  display: flex;\n",
       "  flex-direction: column;\n",
       "  align-items: center;\n",
       "  background-color: var(--sklearn-color-background);\n",
       "  padding-right: 1em;\n",
       "  padding-left: 1em;\n",
       "}\n",
       "\n",
       "\n",
       "/* Toggleable style: style used for estimator/Pipeline/ColumnTransformer box that is\n",
       "clickable and can be expanded/collapsed.\n",
       "- Pipeline and ColumnTransformer use this feature and define the default style\n",
       "- Estimators will overwrite some part of the style using the `sk-estimator` class\n",
       "*/\n",
       "\n",
       "/* Pipeline and ColumnTransformer style (default) */\n",
       "\n",
       "#sk-container-id-2 div.sk-toggleable {\n",
       "  /* Default theme specific background. It is overwritten whether we have a\n",
       "  specific estimator or a Pipeline/ColumnTransformer */\n",
       "  background-color: var(--sklearn-color-background);\n",
       "}\n",
       "\n",
       "/* Toggleable label */\n",
       "#sk-container-id-2 label.sk-toggleable__label {\n",
       "  cursor: pointer;\n",
       "  display: flex;\n",
       "  width: 100%;\n",
       "  margin-bottom: 0;\n",
       "  padding: 0.5em;\n",
       "  box-sizing: border-box;\n",
       "  text-align: center;\n",
       "  align-items: start;\n",
       "  justify-content: space-between;\n",
       "  gap: 0.5em;\n",
       "}\n",
       "\n",
       "#sk-container-id-2 label.sk-toggleable__label .caption {\n",
       "  font-size: 0.6rem;\n",
       "  font-weight: lighter;\n",
       "  color: var(--sklearn-color-text-muted);\n",
       "}\n",
       "\n",
       "#sk-container-id-2 label.sk-toggleable__label-arrow:before {\n",
       "  /* Arrow on the left of the label */\n",
       "  content: \"▸\";\n",
       "  float: left;\n",
       "  margin-right: 0.25em;\n",
       "  color: var(--sklearn-color-icon);\n",
       "}\n",
       "\n",
       "#sk-container-id-2 label.sk-toggleable__label-arrow:hover:before {\n",
       "  color: var(--sklearn-color-text);\n",
       "}\n",
       "\n",
       "/* Toggleable content - dropdown */\n",
       "\n",
       "#sk-container-id-2 div.sk-toggleable__content {\n",
       "  max-height: 0;\n",
       "  max-width: 0;\n",
       "  overflow: hidden;\n",
       "  text-align: left;\n",
       "  /* unfitted */\n",
       "  background-color: var(--sklearn-color-unfitted-level-0);\n",
       "}\n",
       "\n",
       "#sk-container-id-2 div.sk-toggleable__content.fitted {\n",
       "  /* fitted */\n",
       "  background-color: var(--sklearn-color-fitted-level-0);\n",
       "}\n",
       "\n",
       "#sk-container-id-2 div.sk-toggleable__content pre {\n",
       "  margin: 0.2em;\n",
       "  border-radius: 0.25em;\n",
       "  color: var(--sklearn-color-text);\n",
       "  /* unfitted */\n",
       "  background-color: var(--sklearn-color-unfitted-level-0);\n",
       "}\n",
       "\n",
       "#sk-container-id-2 div.sk-toggleable__content.fitted pre {\n",
       "  /* unfitted */\n",
       "  background-color: var(--sklearn-color-fitted-level-0);\n",
       "}\n",
       "\n",
       "#sk-container-id-2 input.sk-toggleable__control:checked~div.sk-toggleable__content {\n",
       "  /* Expand drop-down */\n",
       "  max-height: 200px;\n",
       "  max-width: 100%;\n",
       "  overflow: auto;\n",
       "}\n",
       "\n",
       "#sk-container-id-2 input.sk-toggleable__control:checked~label.sk-toggleable__label-arrow:before {\n",
       "  content: \"▾\";\n",
       "}\n",
       "\n",
       "/* Pipeline/ColumnTransformer-specific style */\n",
       "\n",
       "#sk-container-id-2 div.sk-label input.sk-toggleable__control:checked~label.sk-toggleable__label {\n",
       "  color: var(--sklearn-color-text);\n",
       "  background-color: var(--sklearn-color-unfitted-level-2);\n",
       "}\n",
       "\n",
       "#sk-container-id-2 div.sk-label.fitted input.sk-toggleable__control:checked~label.sk-toggleable__label {\n",
       "  background-color: var(--sklearn-color-fitted-level-2);\n",
       "}\n",
       "\n",
       "/* Estimator-specific style */\n",
       "\n",
       "/* Colorize estimator box */\n",
       "#sk-container-id-2 div.sk-estimator input.sk-toggleable__control:checked~label.sk-toggleable__label {\n",
       "  /* unfitted */\n",
       "  background-color: var(--sklearn-color-unfitted-level-2);\n",
       "}\n",
       "\n",
       "#sk-container-id-2 div.sk-estimator.fitted input.sk-toggleable__control:checked~label.sk-toggleable__label {\n",
       "  /* fitted */\n",
       "  background-color: var(--sklearn-color-fitted-level-2);\n",
       "}\n",
       "\n",
       "#sk-container-id-2 div.sk-label label.sk-toggleable__label,\n",
       "#sk-container-id-2 div.sk-label label {\n",
       "  /* The background is the default theme color */\n",
       "  color: var(--sklearn-color-text-on-default-background);\n",
       "}\n",
       "\n",
       "/* On hover, darken the color of the background */\n",
       "#sk-container-id-2 div.sk-label:hover label.sk-toggleable__label {\n",
       "  color: var(--sklearn-color-text);\n",
       "  background-color: var(--sklearn-color-unfitted-level-2);\n",
       "}\n",
       "\n",
       "/* Label box, darken color on hover, fitted */\n",
       "#sk-container-id-2 div.sk-label.fitted:hover label.sk-toggleable__label.fitted {\n",
       "  color: var(--sklearn-color-text);\n",
       "  background-color: var(--sklearn-color-fitted-level-2);\n",
       "}\n",
       "\n",
       "/* Estimator label */\n",
       "\n",
       "#sk-container-id-2 div.sk-label label {\n",
       "  font-family: monospace;\n",
       "  font-weight: bold;\n",
       "  display: inline-block;\n",
       "  line-height: 1.2em;\n",
       "}\n",
       "\n",
       "#sk-container-id-2 div.sk-label-container {\n",
       "  text-align: center;\n",
       "}\n",
       "\n",
       "/* Estimator-specific */\n",
       "#sk-container-id-2 div.sk-estimator {\n",
       "  font-family: monospace;\n",
       "  border: 1px dotted var(--sklearn-color-border-box);\n",
       "  border-radius: 0.25em;\n",
       "  box-sizing: border-box;\n",
       "  margin-bottom: 0.5em;\n",
       "  /* unfitted */\n",
       "  background-color: var(--sklearn-color-unfitted-level-0);\n",
       "}\n",
       "\n",
       "#sk-container-id-2 div.sk-estimator.fitted {\n",
       "  /* fitted */\n",
       "  background-color: var(--sklearn-color-fitted-level-0);\n",
       "}\n",
       "\n",
       "/* on hover */\n",
       "#sk-container-id-2 div.sk-estimator:hover {\n",
       "  /* unfitted */\n",
       "  background-color: var(--sklearn-color-unfitted-level-2);\n",
       "}\n",
       "\n",
       "#sk-container-id-2 div.sk-estimator.fitted:hover {\n",
       "  /* fitted */\n",
       "  background-color: var(--sklearn-color-fitted-level-2);\n",
       "}\n",
       "\n",
       "/* Specification for estimator info (e.g. \"i\" and \"?\") */\n",
       "\n",
       "/* Common style for \"i\" and \"?\" */\n",
       "\n",
       ".sk-estimator-doc-link,\n",
       "a:link.sk-estimator-doc-link,\n",
       "a:visited.sk-estimator-doc-link {\n",
       "  float: right;\n",
       "  font-size: smaller;\n",
       "  line-height: 1em;\n",
       "  font-family: monospace;\n",
       "  background-color: var(--sklearn-color-background);\n",
       "  border-radius: 1em;\n",
       "  height: 1em;\n",
       "  width: 1em;\n",
       "  text-decoration: none !important;\n",
       "  margin-left: 0.5em;\n",
       "  text-align: center;\n",
       "  /* unfitted */\n",
       "  border: var(--sklearn-color-unfitted-level-1) 1pt solid;\n",
       "  color: var(--sklearn-color-unfitted-level-1);\n",
       "}\n",
       "\n",
       ".sk-estimator-doc-link.fitted,\n",
       "a:link.sk-estimator-doc-link.fitted,\n",
       "a:visited.sk-estimator-doc-link.fitted {\n",
       "  /* fitted */\n",
       "  border: var(--sklearn-color-fitted-level-1) 1pt solid;\n",
       "  color: var(--sklearn-color-fitted-level-1);\n",
       "}\n",
       "\n",
       "/* On hover */\n",
       "div.sk-estimator:hover .sk-estimator-doc-link:hover,\n",
       ".sk-estimator-doc-link:hover,\n",
       "div.sk-label-container:hover .sk-estimator-doc-link:hover,\n",
       ".sk-estimator-doc-link:hover {\n",
       "  /* unfitted */\n",
       "  background-color: var(--sklearn-color-unfitted-level-3);\n",
       "  color: var(--sklearn-color-background);\n",
       "  text-decoration: none;\n",
       "}\n",
       "\n",
       "div.sk-estimator.fitted:hover .sk-estimator-doc-link.fitted:hover,\n",
       ".sk-estimator-doc-link.fitted:hover,\n",
       "div.sk-label-container:hover .sk-estimator-doc-link.fitted:hover,\n",
       ".sk-estimator-doc-link.fitted:hover {\n",
       "  /* fitted */\n",
       "  background-color: var(--sklearn-color-fitted-level-3);\n",
       "  color: var(--sklearn-color-background);\n",
       "  text-decoration: none;\n",
       "}\n",
       "\n",
       "/* Span, style for the box shown on hovering the info icon */\n",
       ".sk-estimator-doc-link span {\n",
       "  display: none;\n",
       "  z-index: 9999;\n",
       "  position: relative;\n",
       "  font-weight: normal;\n",
       "  right: .2ex;\n",
       "  padding: .5ex;\n",
       "  margin: .5ex;\n",
       "  width: min-content;\n",
       "  min-width: 20ex;\n",
       "  max-width: 50ex;\n",
       "  color: var(--sklearn-color-text);\n",
       "  box-shadow: 2pt 2pt 4pt #999;\n",
       "  /* unfitted */\n",
       "  background: var(--sklearn-color-unfitted-level-0);\n",
       "  border: .5pt solid var(--sklearn-color-unfitted-level-3);\n",
       "}\n",
       "\n",
       ".sk-estimator-doc-link.fitted span {\n",
       "  /* fitted */\n",
       "  background: var(--sklearn-color-fitted-level-0);\n",
       "  border: var(--sklearn-color-fitted-level-3);\n",
       "}\n",
       "\n",
       ".sk-estimator-doc-link:hover span {\n",
       "  display: block;\n",
       "}\n",
       "\n",
       "/* \"?\"-specific style due to the `<a>` HTML tag */\n",
       "\n",
       "#sk-container-id-2 a.estimator_doc_link {\n",
       "  float: right;\n",
       "  font-size: 1rem;\n",
       "  line-height: 1em;\n",
       "  font-family: monospace;\n",
       "  background-color: var(--sklearn-color-background);\n",
       "  border-radius: 1rem;\n",
       "  height: 1rem;\n",
       "  width: 1rem;\n",
       "  text-decoration: none;\n",
       "  /* unfitted */\n",
       "  color: var(--sklearn-color-unfitted-level-1);\n",
       "  border: var(--sklearn-color-unfitted-level-1) 1pt solid;\n",
       "}\n",
       "\n",
       "#sk-container-id-2 a.estimator_doc_link.fitted {\n",
       "  /* fitted */\n",
       "  border: var(--sklearn-color-fitted-level-1) 1pt solid;\n",
       "  color: var(--sklearn-color-fitted-level-1);\n",
       "}\n",
       "\n",
       "/* On hover */\n",
       "#sk-container-id-2 a.estimator_doc_link:hover {\n",
       "  /* unfitted */\n",
       "  background-color: var(--sklearn-color-unfitted-level-3);\n",
       "  color: var(--sklearn-color-background);\n",
       "  text-decoration: none;\n",
       "}\n",
       "\n",
       "#sk-container-id-2 a.estimator_doc_link.fitted:hover {\n",
       "  /* fitted */\n",
       "  background-color: var(--sklearn-color-fitted-level-3);\n",
       "}\n",
       "</style><div id=\"sk-container-id-2\" class=\"sk-top-container\"><div class=\"sk-text-repr-fallback\"><pre>LinearRegression()</pre><b>In a Jupyter environment, please rerun this cell to show the HTML representation or trust the notebook. <br />On GitHub, the HTML representation is unable to render, please try loading this page with nbviewer.org.</b></div><div class=\"sk-container\" hidden><div class=\"sk-item\"><div class=\"sk-estimator fitted sk-toggleable\"><input class=\"sk-toggleable__control sk-hidden--visually\" id=\"sk-estimator-id-2\" type=\"checkbox\" checked><label for=\"sk-estimator-id-2\" class=\"sk-toggleable__label fitted sk-toggleable__label-arrow\"><div><div>LinearRegression</div></div><div><a class=\"sk-estimator-doc-link fitted\" rel=\"noreferrer\" target=\"_blank\" href=\"https://scikit-learn.org/1.6/modules/generated/sklearn.linear_model.LinearRegression.html\">?<span>Documentation for LinearRegression</span></a><span class=\"sk-estimator-doc-link fitted\">i<span>Fitted</span></span></div></label><div class=\"sk-toggleable__content fitted\"><pre>LinearRegression()</pre></div> </div></div></div></div>"
      ],
      "text/plain": [
       "LinearRegression()"
      ]
     },
     "execution_count": 87,
     "metadata": {},
     "output_type": "execute_result"
    }
   ],
   "source": [
    "# train model on training data\n",
    "regression.fit(train_X_normalized, train_y)"
   ]
  },
  {
   "cell_type": "code",
   "execution_count": 88,
   "id": "34ad1e5b-c763-4b90-bb01-bb5807b0b508",
   "metadata": {
    "tags": []
   },
   "outputs": [],
   "source": [
    "# make predictions\n",
    "test_predictions = regression.predict(test_X_normalized)"
   ]
  },
  {
   "cell_type": "code",
   "execution_count": 89,
   "id": "54ff1c40-9599-43b7-bcfd-656ced33a33d",
   "metadata": {
    "tags": []
   },
   "outputs": [],
   "source": [
    "# metrics\n",
    "mse = sklearn.metrics.mean_squared_error(test_y, test_predictions)\n",
    "rmse = sklearn.metrics.root_mean_squared_error(test_y, test_predictions)\n",
    "mae = sklearn.metrics.mean_absolute_error(test_y, test_predictions)\n",
    "r2 = sklearn.metrics.r2_score(test_y, test_predictions)"
   ]
  },
  {
   "cell_type": "code",
   "execution_count": 90,
   "id": "7d3062cb-0cb9-4733-b334-5968b4287806",
   "metadata": {
    "tags": []
   },
   "outputs": [],
   "source": [
    "# prepare result\n",
    "result = dict(\n",
    "    mse = mse,\n",
    "    rmse = rmse,\n",
    "    mae = mae,\n",
    "    r2 = r2\n",
    ")"
   ]
  },
  {
   "cell_type": "code",
   "execution_count": 91,
   "id": "58227e81-8e76-43f7-b917-d6a606ca12f5",
   "metadata": {
    "tags": []
   },
   "outputs": [
    {
     "data": {
      "text/plain": [
       "{'mse': 1836.660017696029,\n",
       " 'rmse': 42.856271626169594,\n",
       " 'mae': 34.28990709280616,\n",
       " 'r2': 0.6109895023653351}"
      ]
     },
     "execution_count": 91,
     "metadata": {},
     "output_type": "execute_result"
    }
   ],
   "source": [
    "result"
   ]
  },
  {
   "cell_type": "markdown",
   "id": "f4e812dd-1ee6-4486-b1dc-0905077e2448",
   "metadata": {},
   "source": [
    "---\n",
    "## ML Code - As A Function\n",
    "\n",
    "Turning ML Code into a function allows input parameters to be used to change the operations. In this case a simple split value is provided as `test_pct` for test percentage."
   ]
  },
  {
   "cell_type": "code",
   "execution_count": 92,
   "id": "0e8e288e-e284-470f-a582-fb1de0bab95a",
   "metadata": {
    "tags": []
   },
   "outputs": [],
   "source": [
    "def trainer(test_pct = 0.20):\n",
    "\n",
    "    # load data\n",
    "    diabetes_X, diabetes_y = sklearn.datasets.load_diabetes(return_X_y = True)\n",
    "    \n",
    "    # determine split_index from test_pct\n",
    "    split_index = int(len(diabetes_y) * test_pct)\n",
    "    \n",
    "    # split data into train/test\n",
    "    train_X, test_X = diabetes_X[0:-1*split_index], diabetes_X[-1*split_index:]\n",
    "    train_y, test_y = diabetes_y[0:-1*split_index], diabetes_y[-1*split_index:]\n",
    "    \n",
    "    # standardize the columns of X based on the train_X data\n",
    "    scaler = sklearn.preprocessing.StandardScaler()\n",
    "    scaler.fit(train_X)\n",
    "    train_X_normalized, test_X_normalized = scaler.transform(train_X), scaler.transform(test_X)\n",
    "    \n",
    "    # create model\n",
    "    regression = sklearn.linear_model.LinearRegression()\n",
    "    \n",
    "    # train model on training data\n",
    "    regression.fit(train_X_normalized, train_y)\n",
    "    \n",
    "    # make predictions\n",
    "    test_predictions = regression.predict(test_X_normalized)\n",
    "    \n",
    "    # metrics\n",
    "    mse = sklearn.metrics.mean_squared_error(test_y, test_predictions)\n",
    "    rmse = sklearn.metrics.root_mean_squared_error(test_y, test_predictions)\n",
    "    mae = sklearn.metrics.mean_absolute_error(test_y, test_predictions)\n",
    "    r2 = sklearn.metrics.r2_score(test_y, test_predictions)\n",
    "    \n",
    "    # prepare result\n",
    "    result = dict(\n",
    "        mse = mse,\n",
    "        rmse = rmse,\n",
    "        mae = mae,\n",
    "        r2 = r2\n",
    "    )\n",
    "    \n",
    "    return result"
   ]
  },
  {
   "cell_type": "code",
   "execution_count": 93,
   "id": "24697178-cb10-445f-b69a-d22ece043ab8",
   "metadata": {
    "tags": []
   },
   "outputs": [
    {
     "data": {
      "text/plain": [
       "{'mse': 2732.3884212594717,\n",
       " 'rmse': 52.272252881040735,\n",
       " 'mae': 40.963182420561566,\n",
       " 'r2': 0.5575557705003222}"
      ]
     },
     "execution_count": 93,
     "metadata": {},
     "output_type": "execute_result"
    }
   ],
   "source": [
    "trainer(test_pct = .25)"
   ]
  },
  {
   "cell_type": "markdown",
   "id": "1f3e84cb-9c10-45de-86c5-83a9305a6b2d",
   "metadata": {},
   "source": [
    "---\n",
    "## ML Code - As A Pipeline Component\n",
    "\n",
    "Just like the function above, this decorate the function to make it a pipeline component with KFP while also allowing customization for the enviornment like which image to use and packages to use.\n",
    "\n",
    "Notice these changes form the above function:\n",
    "- The `@kfp.dsl.component` decorator with optional specification of a container image and Python packages to install\n",
    "- The type hint `-> dict` to define the return type as a dictionary\n",
    "- The inclusion of package imports since the component will execute in isolation"
   ]
  },
  {
   "cell_type": "code",
   "execution_count": 94,
   "id": "85eab322-d76e-44ef-a5bc-db6832707392",
   "metadata": {
    "tags": []
   },
   "outputs": [],
   "source": [
    "@kfp.dsl.component(\n",
    "    base_image = \"python:3.11\",\n",
    "    packages_to_install = [\"scikit-learn\", \"numpy\"]\n",
    ")\n",
    "def trainer(test_pct: float) -> dict:\n",
    "\n",
    "    import sklearn\n",
    "    import sklearn.datasets\n",
    "    import sklearn.linear_model\n",
    "    import sklearn.metrics\n",
    "    import numpy as np\n",
    "    \n",
    "    # load data\n",
    "    diabetes_X, diabetes_y = sklearn.datasets.load_diabetes(return_X_y = True)\n",
    "    \n",
    "    # determine split_index from test_pct\n",
    "    split_index = int(len(diabetes_y) * test_pct)\n",
    "    \n",
    "    # split data into train/test\n",
    "    train_X, test_X = diabetes_X[0:-1*split_index], diabetes_X[-1*split_index:]\n",
    "    train_y, test_y = diabetes_y[0:-1*split_index], diabetes_y[-1*split_index:]\n",
    "    \n",
    "    # standardize the columns of X based on the train_X data\n",
    "    scaler = sklearn.preprocessing.StandardScaler()\n",
    "    scaler.fit(train_X)\n",
    "    train_X_normalized, test_X_normalized = scaler.transform(train_X), scaler.transform(test_X)\n",
    "    \n",
    "    # create model\n",
    "    regression = sklearn.linear_model.LinearRegression()\n",
    "    \n",
    "    # train model on training data\n",
    "    regression.fit(train_X_normalized, train_y)\n",
    "    \n",
    "    # make predictions\n",
    "    test_predictions = regression.predict(test_X_normalized)\n",
    "    \n",
    "    # metrics\n",
    "    mse = sklearn.metrics.mean_squared_error(test_y, test_predictions)\n",
    "    rmse = sklearn.metrics.root_mean_squared_error(test_y, test_predictions)\n",
    "    mae = sklearn.metrics.mean_absolute_error(test_y, test_predictions)\n",
    "    r2 = sklearn.metrics.r2_score(test_y, test_predictions)\n",
    "    \n",
    "    # prepare result\n",
    "    result = dict(\n",
    "        mse = mse,\n",
    "        rmse = rmse,\n",
    "        mae = mae,\n",
    "        r2 = r2\n",
    "    )\n",
    "    \n",
    "    return result"
   ]
  },
  {
   "cell_type": "markdown",
   "id": "70bd01f0-5a34-4e2e-be59-fe0aae3adf01",
   "metadata": {},
   "source": [
    "### Run The Component On Vertex AI Pipelines"
   ]
  },
  {
   "cell_type": "code",
   "execution_count": 95,
   "id": "d259f41d-00cd-4ef2-ad6b-cf1287f258bf",
   "metadata": {
    "tags": []
   },
   "outputs": [],
   "source": [
    "kfp.compiler.Compiler().compile(\n",
    "    pipeline_func = trainer,\n",
    "    package_path = f'{DIR}/{SERIES}-{EXPERIMENT}.yaml',\n",
    "    pipeline_name = f\"{SERIES}-{EXPERIMENT}-component\"\n",
    ")"
   ]
  },
  {
   "cell_type": "code",
   "execution_count": 96,
   "id": "96f75e38-5378-4c4b-bc3b-f5a2be61adc0",
   "metadata": {
    "tags": []
   },
   "outputs": [],
   "source": [
    "pipeline_job = aiplatform.PipelineJob(\n",
    "    display_name = f\"{SERIES}-{EXPERIMENT}-component\",\n",
    "    template_path = f\"{DIR}/{SERIES}-{EXPERIMENT}.yaml\",\n",
    "    parameter_values = dict(\n",
    "        test_pct = 0.15\n",
    "    ),\n",
    "    pipeline_root = f'gs://{GCS_BUCKET}/{SERIES}/{EXPERIMENT}/pipeline_root',\n",
    "    enable_caching = None # True (enabled), False (disable), None (defer to component level caching) \n",
    ")"
   ]
  },
  {
   "cell_type": "code",
   "execution_count": 97,
   "id": "07a12a7d-6198-4cd3-9267-a18054b68397",
   "metadata": {
    "tags": []
   },
   "outputs": [
    {
     "name": "stdout",
     "output_type": "stream",
     "text": [
      "Creating PipelineJob\n",
      "PipelineJob created. Resource name: projects/1026793852137/locations/us-central1/pipelineJobs/mlops-pipeline-start-component-20250312162653\n",
      "To use this PipelineJob in another session:\n",
      "pipeline_job = aiplatform.PipelineJob.get('projects/1026793852137/locations/us-central1/pipelineJobs/mlops-pipeline-start-component-20250312162653')\n",
      "View Pipeline Job:\n",
      "https://console.cloud.google.com/vertex-ai/locations/us-central1/pipelines/runs/mlops-pipeline-start-component-20250312162653?project=1026793852137\n"
     ]
    }
   ],
   "source": [
    "response = pipeline_job.submit(\n",
    "    service_account = SERVICE_ACCOUNT\n",
    ")"
   ]
  },
  {
   "cell_type": "code",
   "execution_count": 98,
   "id": "2d773f6b-c035-45b8-b1df-560aa42a3126",
   "metadata": {
    "tags": []
   },
   "outputs": [
    {
     "data": {
      "text/markdown": [
       "The Dashboard can be [viewed here](https://console.cloud.google.com/vertex-ai/locations/us-central1/pipelines/runs/mlops-pipeline-start-component-20250312162653?project=1026793852137)"
      ],
      "text/plain": [
       "<IPython.core.display.Markdown object>"
      ]
     },
     "execution_count": 98,
     "metadata": {},
     "output_type": "execute_result"
    }
   ],
   "source": [
    "show_md(f'The Dashboard can be [viewed here]({pipeline_job._dashboard_uri()})')"
   ]
  },
  {
   "cell_type": "code",
   "execution_count": 99,
   "id": "18b64917-2c17-4d50-808d-59719ceba58e",
   "metadata": {
    "tags": []
   },
   "outputs": [
    {
     "name": "stdout",
     "output_type": "stream",
     "text": [
      "PipelineJob run completed. Resource name: projects/1026793852137/locations/us-central1/pipelineJobs/mlops-pipeline-start-component-20250312162653\n"
     ]
    }
   ],
   "source": [
    "pipeline_job.wait()"
   ]
  },
  {
   "cell_type": "markdown",
   "id": "c8c69df6-b92b-49c5-9615-a9611c05c400",
   "metadata": {},
   "source": [
    "**Select The Pipeline Run In The Console:**\n",
    "<p align=\"center\"><center>\n",
    "    <img align=\"center\" alt=\"Pipeline Runs\" src=\"../resources/images/screenshots/pipelines/start-run.png\" width=\"70%\">\n",
    "</center></p>\n",
    "\n",
    "**Review The Pipeline: Running State**\n",
    "<p align=\"center\"><center>\n",
    "    <img align=\"center\" alt=\"Pipeline Running\" src=\"../resources/images/screenshots/pipelines/start-running.png\" width=\"70%\">\n",
    "</center></p>\n",
    "\n",
    "**Review The Pipeline: Completed With Output Parameters**\n",
    "<p align=\"center\"><center>\n",
    "    <img align=\"center\" alt=\"Pipeline Parameters\" src=\"../resources/images/screenshots/pipelines/start-complete.png\" width=\"70%\">\n",
    "</center></p>"
   ]
  },
  {
   "cell_type": "markdown",
   "id": "a034b878-ee65-47ef-9eb6-9e927e0f6c20",
   "metadata": {},
   "source": [
    "---\n",
    "## ML Code - As A Pipeline Component With Artifacts\n",
    "\n",
    "A small extention of the pipeline component to store parameters in artifacts.\n",
    "\n",
    "Notice the following changes from the previous component:\n",
    "- The type hint points to an artifact object `kfp.dsl.Metrics`\n",
    "- the result is prepared as a `kfp.dsl.Metrics` object\n",
    "- the return value is set to the new metrics object"
   ]
  },
  {
   "cell_type": "code",
   "execution_count": 35,
   "id": "8b802b76-3ae2-4b5c-9d92-17a98c538997",
   "metadata": {
    "tags": []
   },
   "outputs": [],
   "source": [
    "@kfp.dsl.component(\n",
    "    base_image = \"python:3.11\",\n",
    "    packages_to_install = [\"scikit-learn\", \"numpy\"]\n",
    ")\n",
    "def trainer(test_pct: float) -> kfp.dsl.Metrics:\n",
    "\n",
    "    import sklearn\n",
    "    import sklearn.datasets\n",
    "    import sklearn.linear_model\n",
    "    import sklearn.metrics\n",
    "    import numpy as np\n",
    "    \n",
    "    # load data\n",
    "    diabetes_X, diabetes_y = sklearn.datasets.load_diabetes(return_X_y = True)\n",
    "    \n",
    "    # determine split_index from test_pct\n",
    "    split_index = int(len(diabetes_y) * test_pct)\n",
    "    \n",
    "    # split data into train/test\n",
    "    train_X, test_X = diabetes_X[0:-1*split_index], diabetes_X[-1*split_index:]\n",
    "    train_y, test_y = diabetes_y[0:-1*split_index], diabetes_y[-1*split_index:]\n",
    "    \n",
    "    # standardize the columns of X based on the train_X data\n",
    "    scaler = sklearn.preprocessing.StandardScaler()\n",
    "    scaler.fit(train_X)\n",
    "    train_X_normalized, test_X_normalized = scaler.transform(train_X), scaler.transform(test_X)\n",
    "    \n",
    "    # create model\n",
    "    regression = sklearn.linear_model.LinearRegression()\n",
    "    \n",
    "    # train model on training data\n",
    "    regression.fit(train_X_normalized, train_y)\n",
    "    \n",
    "    # make predictions\n",
    "    test_predictions = regression.predict(test_X_normalized)\n",
    "    \n",
    "    # metrics\n",
    "    mse = sklearn.metrics.mean_squared_error(test_y, test_predictions)\n",
    "    rmse = sklearn.metrics.root_mean_squared_error(test_y, test_predictions)\n",
    "    mae = sklearn.metrics.mean_absolute_error(test_y, test_predictions)\n",
    "    r2 = sklearn.metrics.r2_score(test_y, test_predictions)\n",
    "    \n",
    "    # prepare result\n",
    "    metrics = kfp.dsl.Metrics()\n",
    "    metrics.log_metric('mse', mse)\n",
    "    metrics.log_metric('rmse', rmse)\n",
    "    metrics.log_metric('mae', mae)\n",
    "    metrics.log_metric('r2', r2)\n",
    "    \n",
    "    return metrics"
   ]
  },
  {
   "cell_type": "markdown",
   "id": "504f4c6e-f501-4a33-a83d-1d0d26823b06",
   "metadata": {},
   "source": [
    "### Run The Component On Vertex AI Pipelines"
   ]
  },
  {
   "cell_type": "code",
   "execution_count": 36,
   "id": "a68ad94a-67be-4030-a4c7-978a5ec5d3f7",
   "metadata": {
    "tags": []
   },
   "outputs": [],
   "source": [
    "kfp.compiler.Compiler().compile(\n",
    "    pipeline_func = trainer,\n",
    "    package_path = f'{DIR}/{SERIES}-{EXPERIMENT}.yaml',\n",
    "    pipeline_name = f\"{SERIES}-{EXPERIMENT}-component\"\n",
    ")"
   ]
  },
  {
   "cell_type": "code",
   "execution_count": 41,
   "id": "16b41a37-fd86-464d-ad2b-ca1e63d3a0ec",
   "metadata": {
    "tags": []
   },
   "outputs": [],
   "source": [
    "pipeline_job = aiplatform.PipelineJob(\n",
    "    display_name = f\"{SERIES}-{EXPERIMENT}-component\",\n",
    "    template_path = f\"{DIR}/{SERIES}-{EXPERIMENT}.yaml\",\n",
    "    parameter_values = dict(\n",
    "        test_pct = 0.15\n",
    "    ),\n",
    "    pipeline_root = f'gs://{GCS_BUCKET}/{SERIES}/{EXPERIMENT}/pipeline_root',\n",
    "    enable_caching = None # True (enabled), False (disable), None (defer to component level caching) \n",
    ")"
   ]
  },
  {
   "cell_type": "code",
   "execution_count": 42,
   "id": "13a1aac5-7d66-4fd9-9405-de3edc4d8924",
   "metadata": {
    "tags": []
   },
   "outputs": [
    {
     "name": "stdout",
     "output_type": "stream",
     "text": [
      "Creating PipelineJob\n",
      "PipelineJob created. Resource name: projects/1026793852137/locations/us-central1/pipelineJobs/mlops-pipeline-start-component-20250309145048\n",
      "To use this PipelineJob in another session:\n",
      "pipeline_job = aiplatform.PipelineJob.get('projects/1026793852137/locations/us-central1/pipelineJobs/mlops-pipeline-start-component-20250309145048')\n",
      "View Pipeline Job:\n",
      "https://console.cloud.google.com/vertex-ai/locations/us-central1/pipelines/runs/mlops-pipeline-start-component-20250309145048?project=1026793852137\n"
     ]
    }
   ],
   "source": [
    "response = pipeline_job.submit(\n",
    "    service_account = SERVICE_ACCOUNT\n",
    ")"
   ]
  },
  {
   "cell_type": "code",
   "execution_count": 43,
   "id": "c1981427-f46c-468d-a125-3d9108c98f3c",
   "metadata": {
    "tags": []
   },
   "outputs": [
    {
     "data": {
      "text/markdown": [
       "The Dashboard can be [viewed here](https://console.cloud.google.com/vertex-ai/locations/us-central1/pipelines/runs/mlops-pipeline-start-component-20250309145048?project=1026793852137)"
      ],
      "text/plain": [
       "<IPython.core.display.Markdown object>"
      ]
     },
     "execution_count": 43,
     "metadata": {},
     "output_type": "execute_result"
    }
   ],
   "source": [
    "show_md(f'The Dashboard can be [viewed here]({pipeline_job._dashboard_uri()})')"
   ]
  },
  {
   "cell_type": "code",
   "execution_count": 44,
   "id": "898a2062-4ec0-4130-ac47-c3126702130f",
   "metadata": {
    "tags": []
   },
   "outputs": [
    {
     "name": "stdout",
     "output_type": "stream",
     "text": [
      "PipelineJob run completed. Resource name: projects/1026793852137/locations/us-central1/pipelineJobs/mlops-pipeline-start-component-20250309145048\n"
     ]
    }
   ],
   "source": [
    "pipeline_job.wait()"
   ]
  },
  {
   "cell_type": "markdown",
   "id": "daebb42d-dccc-4d19-b55e-05f8ece1e702",
   "metadata": {},
   "source": [
    "**Review The Pipeline: Completed With Output Artifact For Metrics**\n",
    "<p align=\"center\"><center>\n",
    "    <img align=\"center\" alt=\"Pipeline With Artifacts\" src=\"../resources/images/screenshots/pipelines/start-complete2.png\" width=\"70%\">\n",
    "</center></p>"
   ]
  },
  {
   "cell_type": "markdown",
   "id": "06035f23-037e-4048-a44c-79fb37332a43",
   "metadata": {},
   "source": [
    "---\n",
    "## ML Code - As A Multi-Component Pipeline With Artifacts\n",
    "\n",
    "Split the single component into two components: one for data preparation and one for training.\n",
    "\n",
    "Then, create a pipeline.  This is a special component that treats components as funtions and allows connection through inputs and outputs."
   ]
  },
  {
   "cell_type": "code",
   "execution_count": 45,
   "id": "b65e4b97-d2fe-49f4-af82-85d00dfac1d9",
   "metadata": {
    "tags": []
   },
   "outputs": [],
   "source": [
    "@kfp.dsl.component(\n",
    "    base_image = \"python:3.11\",\n",
    "    packages_to_install = [\"scikit-learn\", \"numpy\"]\n",
    ")\n",
    "def dataprep(test_pct: float) -> kfp.dsl.Dataset:\n",
    "\n",
    "    import sklearn.datasets\n",
    "    import numpy as np\n",
    "    import os\n",
    "\n",
    "    # load data\n",
    "    diabetes_X, diabetes_y = sklearn.datasets.load_diabetes(return_X_y = True)\n",
    "    \n",
    "    # determine split_index from test_pct\n",
    "    split_index = int(len(diabetes_y) * test_pct)\n",
    "    \n",
    "    # split data into train/test\n",
    "    train_X, test_X = diabetes_X[0:-1*split_index], diabetes_X[-1*split_index:]\n",
    "    train_y, test_y = diabetes_y[0:-1*split_index], diabetes_y[-1*split_index:]\n",
    "    \n",
    "    # standardize the columns of X based on the train_X data\n",
    "    scaler = sklearn.preprocessing.StandardScaler()\n",
    "    scaler.fit(train_X)\n",
    "    train_X_normalized, test_X_normalized = scaler.transform(train_X), scaler.transform(test_X)\n",
    "    \n",
    "    # create dataset artifact with information about data\n",
    "    dataset = kfp.dsl.Dataset(\n",
    "        uri = kfp.dsl.get_uri(),\n",
    "        metadata = dict(\n",
    "            test_n = test_X.shape[0],\n",
    "            train_n = train_X.shape[0],\n",
    "            n_features = test_X.shape[1],\n",
    "            train_X = 'train_X.npy',\n",
    "            test_X = 'test_X.npy',\n",
    "            train_y = 'train_y.npy',\n",
    "            test_y = 'test_y.npy',\n",
    "            train_X_normalized = 'train_X_normalized.npy',\n",
    "            test_X_normalized = 'test_X_normalized.npy' \n",
    "        ) \n",
    "    )\n",
    "    \n",
    "    # save the data splits and partitions with the dataset - this is small data\n",
    "    os.makedirs(dataset.path, exist_ok = True)\n",
    "    np.save(dataset.path+'/train_X.npy', train_X)\n",
    "    np.save(dataset.path+'/test_X.npy', test_X)\n",
    "    np.save(dataset.path+'/train_y.npy', train_y)\n",
    "    np.save(dataset.path+'/test_y.npy', test_y)\n",
    "    np.save(dataset.path+'/train_X_normalized.npy', train_X_normalized)\n",
    "    np.save(dataset.path+'/test_X_normalized.npy', test_X_normalized)\n",
    "    \n",
    "    return dataset\n",
    "    \n",
    "@kfp.dsl.component(\n",
    "    base_image = \"python:3.11\",\n",
    "    packages_to_install = [\"scikit-learn\", \"numpy\"]\n",
    ")\n",
    "def trainer(\n",
    "    dataset: kfp.dsl.Dataset\n",
    ") -> kfp.dsl.Metrics:\n",
    "\n",
    "    import sklearn.linear_model\n",
    "    import sklearn.metrics\n",
    "    import numpy as np\n",
    "    \n",
    "    # load data using information on dataset artifact\n",
    "    train_X_normalized = np.load(dataset.path + '/' + dataset.metadata['train_X_normalized'])\n",
    "    test_X_normalized = np.load(dataset.path + '/' + dataset.metadata['test_X_normalized'])\n",
    "    train_y = np.load(dataset.path + '/' + dataset.metadata['train_y'])\n",
    "    test_y = np.load(dataset.path + '/' + dataset.metadata['test_y'])\n",
    "    \n",
    "    # create model\n",
    "    regression = sklearn.linear_model.LinearRegression()\n",
    "    \n",
    "    # train model on training data\n",
    "    regression.fit(train_X_normalized, train_y)\n",
    "    \n",
    "    # make predictions\n",
    "    test_predictions = regression.predict(test_X_normalized)\n",
    "    \n",
    "    # metrics\n",
    "    mse = sklearn.metrics.mean_squared_error(test_y, test_predictions)\n",
    "    rmse = sklearn.metrics.root_mean_squared_error(test_y, test_predictions)\n",
    "    mae = sklearn.metrics.mean_absolute_error(test_y, test_predictions)\n",
    "    r2 = sklearn.metrics.r2_score(test_y, test_predictions)\n",
    "    \n",
    "    # prepare result\n",
    "    metrics = kfp.dsl.Metrics()\n",
    "    metrics.log_metric('mse', mse)\n",
    "    metrics.log_metric('rmse', rmse)\n",
    "    metrics.log_metric('mae', mae)\n",
    "    metrics.log_metric('r2', r2)\n",
    "    \n",
    "    return metrics"
   ]
  },
  {
   "cell_type": "markdown",
   "id": "e921d814-dfe6-4ff6-b1fa-f2e68f172c58",
   "metadata": {},
   "source": [
    "### Create The Pipeline"
   ]
  },
  {
   "cell_type": "code",
   "execution_count": 46,
   "id": "1bc4899a-8eea-465e-96cc-7e97a0ce5139",
   "metadata": {
    "tags": []
   },
   "outputs": [],
   "source": [
    "@kfp.dsl.pipeline(\n",
    "    name = f\"{SERIES}-{EXPERIMENT}-multi-component\"\n",
    ")\n",
    "def train_pipeline(\n",
    "    test_pct: float\n",
    "):\n",
    "    \n",
    "    dataset = dataprep(test_pct = test_pct)\n",
    "    train = trainer(dataset = dataset.output)"
   ]
  },
  {
   "cell_type": "markdown",
   "id": "ad477527-7ba0-43a6-bd4b-90e0a7bde2b4",
   "metadata": {},
   "source": [
    "### Run The Pipeline On Vertex AI Pipelines"
   ]
  },
  {
   "cell_type": "code",
   "execution_count": 47,
   "id": "f40c41c2-8eb9-453f-8d68-e1411fa5ccde",
   "metadata": {
    "tags": []
   },
   "outputs": [],
   "source": [
    "kfp.compiler.Compiler().compile(\n",
    "    pipeline_func = train_pipeline,\n",
    "    package_path = f'{DIR}/{SERIES}-{EXPERIMENT}.yaml'\n",
    ")"
   ]
  },
  {
   "cell_type": "code",
   "execution_count": 48,
   "id": "78adf397-93e9-493f-9607-b22cd5566199",
   "metadata": {
    "tags": []
   },
   "outputs": [],
   "source": [
    "pipeline_job = aiplatform.PipelineJob(\n",
    "    display_name = f\"{SERIES}-{EXPERIMENT}-multi-component\",\n",
    "    template_path = f\"{DIR}/{SERIES}-{EXPERIMENT}.yaml\",\n",
    "    parameter_values = dict(\n",
    "        test_pct = 0.15\n",
    "    ),\n",
    "    pipeline_root = f'gs://{GCS_BUCKET}/{SERIES}/{EXPERIMENT}/pipeline_root',\n",
    "    enable_caching = None # True (enabled), False (disable), None (defer to component level caching) \n",
    ")"
   ]
  },
  {
   "cell_type": "code",
   "execution_count": 49,
   "id": "5af3b328-3381-4834-aa4f-5f9a81f375c3",
   "metadata": {
    "tags": []
   },
   "outputs": [
    {
     "name": "stdout",
     "output_type": "stream",
     "text": [
      "Creating PipelineJob\n",
      "PipelineJob created. Resource name: projects/1026793852137/locations/us-central1/pipelineJobs/mlops-pipeline-start-multi-component-20250309151556\n",
      "To use this PipelineJob in another session:\n",
      "pipeline_job = aiplatform.PipelineJob.get('projects/1026793852137/locations/us-central1/pipelineJobs/mlops-pipeline-start-multi-component-20250309151556')\n",
      "View Pipeline Job:\n",
      "https://console.cloud.google.com/vertex-ai/locations/us-central1/pipelines/runs/mlops-pipeline-start-multi-component-20250309151556?project=1026793852137\n"
     ]
    }
   ],
   "source": [
    "response = pipeline_job.submit(\n",
    "    service_account = SERVICE_ACCOUNT\n",
    ")"
   ]
  },
  {
   "cell_type": "code",
   "execution_count": 50,
   "id": "54c0459a-f764-4c43-a28e-0cab6c49b81a",
   "metadata": {
    "tags": []
   },
   "outputs": [
    {
     "data": {
      "text/markdown": [
       "The Dashboard can be [viewed here](https://console.cloud.google.com/vertex-ai/locations/us-central1/pipelines/runs/mlops-pipeline-start-multi-component-20250309151556?project=1026793852137)"
      ],
      "text/plain": [
       "<IPython.core.display.Markdown object>"
      ]
     },
     "execution_count": 50,
     "metadata": {},
     "output_type": "execute_result"
    }
   ],
   "source": [
    "show_md(f'The Dashboard can be [viewed here]({pipeline_job._dashboard_uri()})')"
   ]
  },
  {
   "cell_type": "code",
   "execution_count": 51,
   "id": "5ce7159f-53d5-46c4-935b-7e13a7c6e00a",
   "metadata": {
    "tags": []
   },
   "outputs": [
    {
     "name": "stdout",
     "output_type": "stream",
     "text": [
      "PipelineJob projects/1026793852137/locations/us-central1/pipelineJobs/mlops-pipeline-start-multi-component-20250309151556 current state:\n",
      "PipelineState.PIPELINE_STATE_RUNNING\n",
      "PipelineJob projects/1026793852137/locations/us-central1/pipelineJobs/mlops-pipeline-start-multi-component-20250309151556 current state:\n",
      "PipelineState.PIPELINE_STATE_RUNNING\n",
      "PipelineJob projects/1026793852137/locations/us-central1/pipelineJobs/mlops-pipeline-start-multi-component-20250309151556 current state:\n",
      "PipelineState.PIPELINE_STATE_RUNNING\n",
      "PipelineJob projects/1026793852137/locations/us-central1/pipelineJobs/mlops-pipeline-start-multi-component-20250309151556 current state:\n",
      "PipelineState.PIPELINE_STATE_RUNNING\n",
      "PipelineJob run completed. Resource name: projects/1026793852137/locations/us-central1/pipelineJobs/mlops-pipeline-start-multi-component-20250309151556\n"
     ]
    }
   ],
   "source": [
    "pipeline_job.wait()"
   ]
  },
  {
   "cell_type": "markdown",
   "id": "caf10f95-5394-4448-bc56-1f0af1cf3a3f",
   "metadata": {},
   "source": [
    "**Review The Pipeline: Completed With Multiple Components And Artifacts**\n",
    "<p align=\"center\"><center>\n",
    "    <img align=\"center\" alt=\"Pipeline Complete\" src=\"../resources/images/screenshots/pipelines/start-complete3.png\" width=\"70%\">\n",
    "</center></p>"
   ]
  },
  {
   "cell_type": "markdown",
   "id": "3b7c9da2-78e8-4e98-9fd5-06ea5ef63dc9",
   "metadata": {},
   "source": [
    "---\n",
    "## Integrate With Vertex AI Experiments\n",
    "\n",
    "The code in the trainer as well as the full pipeline can be directly connected to a Vertex AI Experiment run.  Read me about [Vertex AI Experiments](../Experiment%20Tracking/readme.md)."
   ]
  },
  {
   "cell_type": "code",
   "execution_count": 53,
   "id": "f21f4f01-4fa9-4bd3-9a25-40a55664321d",
   "metadata": {
    "tags": []
   },
   "outputs": [
    {
     "data": {
      "text/plain": [
       "'mlops-pipeline-start-multi-component-20250309151556'"
      ]
     },
     "execution_count": 53,
     "metadata": {},
     "output_type": "execute_result"
    }
   ],
   "source": [
    "pipeline_job.name"
   ]
  },
  {
   "cell_type": "markdown",
   "id": "8b815f41-e8dd-4991-89a2-721c54b77214",
   "metadata": {},
   "source": [
    "### Associate The Previous Pipeline Run With An Experiment Run\n",
    "\n",
    "A basic link of the pipeline run to an experiment run within an experiment."
   ]
  },
  {
   "cell_type": "code",
   "execution_count": 54,
   "id": "33619b96-d6c2-4df6-91d6-b5605d22e48e",
   "metadata": {
    "tags": []
   },
   "outputs": [
    {
     "data": {
      "text/html": [
       "\n",
       "        \n",
       "    <link rel=\"stylesheet\" href=\"https://fonts.googleapis.com/icon?family=Material+Icons\">\n",
       "    <style>\n",
       "      .view-vertex-resource,\n",
       "      .view-vertex-resource:hover,\n",
       "      .view-vertex-resource:visited {\n",
       "        position: relative;\n",
       "        display: inline-flex;\n",
       "        flex-direction: row;\n",
       "        height: 32px;\n",
       "        padding: 0 12px;\n",
       "          margin: 4px 18px;\n",
       "        gap: 4px;\n",
       "        border-radius: 4px;\n",
       "\n",
       "        align-items: center;\n",
       "        justify-content: center;\n",
       "        background-color: rgb(255, 255, 255);\n",
       "        color: rgb(51, 103, 214);\n",
       "\n",
       "        font-family: Roboto,\"Helvetica Neue\",sans-serif;\n",
       "        font-size: 13px;\n",
       "        font-weight: 500;\n",
       "        text-transform: uppercase;\n",
       "        text-decoration: none !important;\n",
       "\n",
       "        transition: box-shadow 280ms cubic-bezier(0.4, 0, 0.2, 1) 0s;\n",
       "        box-shadow: 0px 3px 1px -2px rgba(0,0,0,0.2), 0px 2px 2px 0px rgba(0,0,0,0.14), 0px 1px 5px 0px rgba(0,0,0,0.12);\n",
       "      }\n",
       "      .view-vertex-resource:active {\n",
       "        box-shadow: 0px 5px 5px -3px rgba(0,0,0,0.2),0px 8px 10px 1px rgba(0,0,0,0.14),0px 3px 14px 2px rgba(0,0,0,0.12);\n",
       "      }\n",
       "      .view-vertex-resource:active .view-vertex-ripple::before {\n",
       "        position: absolute;\n",
       "        top: 0;\n",
       "        bottom: 0;\n",
       "        left: 0;\n",
       "        right: 0;\n",
       "        border-radius: 4px;\n",
       "        pointer-events: none;\n",
       "\n",
       "        content: '';\n",
       "        background-color: rgb(51, 103, 214);\n",
       "        opacity: 0.12;\n",
       "      }\n",
       "      .view-vertex-icon {\n",
       "        font-size: 18px;\n",
       "      }\n",
       "    </style>\n",
       "  \n",
       "        <a class=\"view-vertex-resource\" id=\"view-vertex-resource-17909673-0b6a-4f17-9d4f-fe53a83ac8e3\" href=\"#view-view-vertex-resource-17909673-0b6a-4f17-9d4f-fe53a83ac8e3\">\n",
       "          <span class=\"material-icons view-vertex-icon\">science</span>\n",
       "          <span>View Experiment</span>\n",
       "        </a>\n",
       "        \n",
       "        <script>\n",
       "          (function () {\n",
       "            const link = document.getElementById('view-vertex-resource-17909673-0b6a-4f17-9d4f-fe53a83ac8e3');\n",
       "            link.addEventListener('click', (e) => {\n",
       "              if (window.google?.colab?.openUrl) {\n",
       "                window.google.colab.openUrl('https://console.cloud.google.com/vertex-ai/experiments/locations/us-central1/experiments/mlops/runs?project=statmike-mlops-349915');\n",
       "              } else {\n",
       "                window.open('https://console.cloud.google.com/vertex-ai/experiments/locations/us-central1/experiments/mlops/runs?project=statmike-mlops-349915', '_blank');\n",
       "              }\n",
       "              e.stopPropagation();\n",
       "              e.preventDefault();\n",
       "            });\n",
       "          })();\n",
       "        </script>\n",
       "    "
      ],
      "text/plain": [
       "<IPython.core.display.HTML object>"
      ]
     },
     "metadata": {},
     "output_type": "display_data"
    },
    {
     "name": "stdout",
     "output_type": "stream",
     "text": [
      "Associating projects/1026793852137/locations/us-central1/metadataStores/default/contexts/mlops-mlops-pipeline-start-multi-component-20250309151556 to Experiment: mlops\n"
     ]
    },
    {
     "data": {
      "text/html": [
       "\n",
       "        \n",
       "    <link rel=\"stylesheet\" href=\"https://fonts.googleapis.com/icon?family=Material+Icons\">\n",
       "    <style>\n",
       "      .view-vertex-resource,\n",
       "      .view-vertex-resource:hover,\n",
       "      .view-vertex-resource:visited {\n",
       "        position: relative;\n",
       "        display: inline-flex;\n",
       "        flex-direction: row;\n",
       "        height: 32px;\n",
       "        padding: 0 12px;\n",
       "          margin: 4px 18px;\n",
       "        gap: 4px;\n",
       "        border-radius: 4px;\n",
       "\n",
       "        align-items: center;\n",
       "        justify-content: center;\n",
       "        background-color: rgb(255, 255, 255);\n",
       "        color: rgb(51, 103, 214);\n",
       "\n",
       "        font-family: Roboto,\"Helvetica Neue\",sans-serif;\n",
       "        font-size: 13px;\n",
       "        font-weight: 500;\n",
       "        text-transform: uppercase;\n",
       "        text-decoration: none !important;\n",
       "\n",
       "        transition: box-shadow 280ms cubic-bezier(0.4, 0, 0.2, 1) 0s;\n",
       "        box-shadow: 0px 3px 1px -2px rgba(0,0,0,0.2), 0px 2px 2px 0px rgba(0,0,0,0.14), 0px 1px 5px 0px rgba(0,0,0,0.12);\n",
       "      }\n",
       "      .view-vertex-resource:active {\n",
       "        box-shadow: 0px 5px 5px -3px rgba(0,0,0,0.2),0px 8px 10px 1px rgba(0,0,0,0.14),0px 3px 14px 2px rgba(0,0,0,0.12);\n",
       "      }\n",
       "      .view-vertex-resource:active .view-vertex-ripple::before {\n",
       "        position: absolute;\n",
       "        top: 0;\n",
       "        bottom: 0;\n",
       "        left: 0;\n",
       "        right: 0;\n",
       "        border-radius: 4px;\n",
       "        pointer-events: none;\n",
       "\n",
       "        content: '';\n",
       "        background-color: rgb(51, 103, 214);\n",
       "        opacity: 0.12;\n",
       "      }\n",
       "      .view-vertex-icon {\n",
       "        font-size: 18px;\n",
       "      }\n",
       "    </style>\n",
       "  \n",
       "        <a class=\"view-vertex-resource\" id=\"view-vertex-resource-8e4b3eb8-100a-44d8-8d38-10b353331bde\" href=\"#view-view-vertex-resource-8e4b3eb8-100a-44d8-8d38-10b353331bde\">\n",
       "          <span class=\"material-icons view-vertex-icon\">science</span>\n",
       "          <span>View Experiment Run</span>\n",
       "        </a>\n",
       "        \n",
       "        <script>\n",
       "          (function () {\n",
       "            const link = document.getElementById('view-vertex-resource-8e4b3eb8-100a-44d8-8d38-10b353331bde');\n",
       "            link.addEventListener('click', (e) => {\n",
       "              if (window.google?.colab?.openUrl) {\n",
       "                window.google.colab.openUrl('https://console.cloud.google.com/vertex-ai/experiments/locations/us-central1/experiments/mlops/runs/mlops-mlops-pipeline-start-multi-component-20250309151556?project=statmike-mlops-349915');\n",
       "              } else {\n",
       "                window.open('https://console.cloud.google.com/vertex-ai/experiments/locations/us-central1/experiments/mlops/runs/mlops-mlops-pipeline-start-multi-component-20250309151556?project=statmike-mlops-349915', '_blank');\n",
       "              }\n",
       "              e.stopPropagation();\n",
       "              e.preventDefault();\n",
       "            });\n",
       "          })();\n",
       "        </script>\n",
       "    "
      ],
      "text/plain": [
       "<IPython.core.display.HTML object>"
      ]
     },
     "metadata": {},
     "output_type": "display_data"
    }
   ],
   "source": [
    "aiplatform.init(experiment = SERIES)\n",
    "aiplatform.start_run(run = pipeline_job.name)#, resume = True)\n",
    "aiplatform.log(pipeline_job = pipeline_job)\n",
    "aiplatform.end_run()"
   ]
  },
  {
   "cell_type": "markdown",
   "id": "60c14908-3f7e-4b6a-bc28-0a559a9fbbc3",
   "metadata": {},
   "source": [
    "### Add A Pipeline Run To An Experiment Automatically\n",
    "\n",
    "As an example, rerun the previous pipeline and simply specify an experiment name during the `.submit()` to automatically associate the pipeline run with the experiment as a new experiment run and connect the associated artifacts, parameters, and metrics automatically."
   ]
  },
  {
   "cell_type": "code",
   "execution_count": 55,
   "id": "5b41c65f-dcee-4aab-a55e-53c4d4d49d38",
   "metadata": {
    "tags": []
   },
   "outputs": [],
   "source": [
    "pipeline_job = aiplatform.PipelineJob(\n",
    "    display_name = f\"{SERIES}-{EXPERIMENT}-multi-component\",\n",
    "    template_path = f\"{DIR}/{SERIES}-{EXPERIMENT}.yaml\",\n",
    "    parameter_values = dict(\n",
    "        test_pct = 0.15\n",
    "    ),\n",
    "    pipeline_root = f'gs://{GCS_BUCKET}/{SERIES}/{EXPERIMENT}/pipeline_root',\n",
    "    enable_caching = None # True (enabled), False (disable), None (defer to component level caching) \n",
    ")"
   ]
  },
  {
   "cell_type": "code",
   "execution_count": 56,
   "id": "01d130c1-2ee7-4fed-b48c-b6892b014c04",
   "metadata": {
    "tags": []
   },
   "outputs": [
    {
     "name": "stdout",
     "output_type": "stream",
     "text": [
      "Creating PipelineJob\n",
      "PipelineJob created. Resource name: projects/1026793852137/locations/us-central1/pipelineJobs/mlops-pipeline-start-multi-component-20250309154221\n",
      "To use this PipelineJob in another session:\n",
      "pipeline_job = aiplatform.PipelineJob.get('projects/1026793852137/locations/us-central1/pipelineJobs/mlops-pipeline-start-multi-component-20250309154221')\n",
      "View Pipeline Job:\n",
      "https://console.cloud.google.com/vertex-ai/locations/us-central1/pipelines/runs/mlops-pipeline-start-multi-component-20250309154221?project=1026793852137\n",
      "Associating projects/1026793852137/locations/us-central1/pipelineJobs/mlops-pipeline-start-multi-component-20250309154221 to Experiment: mlops\n"
     ]
    }
   ],
   "source": [
    "response = pipeline_job.submit(\n",
    "    service_account = SERVICE_ACCOUNT,\n",
    "    experiment = SERIES\n",
    ")"
   ]
  },
  {
   "cell_type": "code",
   "execution_count": 57,
   "id": "be4f36fe-3b02-49c8-8527-e5905cd3e030",
   "metadata": {
    "tags": []
   },
   "outputs": [
    {
     "data": {
      "text/markdown": [
       "The Dashboard can be [viewed here](https://console.cloud.google.com/vertex-ai/locations/us-central1/pipelines/runs/mlops-pipeline-start-multi-component-20250309154221?project=1026793852137)"
      ],
      "text/plain": [
       "<IPython.core.display.Markdown object>"
      ]
     },
     "execution_count": 57,
     "metadata": {},
     "output_type": "execute_result"
    }
   ],
   "source": [
    "show_md(f'The Dashboard can be [viewed here]({pipeline_job._dashboard_uri()})')"
   ]
  },
  {
   "cell_type": "code",
   "execution_count": 58,
   "id": "b24d4e83-094e-4fb1-9271-8ddff893e9d3",
   "metadata": {
    "tags": []
   },
   "outputs": [
    {
     "name": "stdout",
     "output_type": "stream",
     "text": [
      "PipelineJob run completed. Resource name: projects/1026793852137/locations/us-central1/pipelineJobs/mlops-pipeline-start-multi-component-20250309154221\n"
     ]
    }
   ],
   "source": [
    "pipeline_job.wait()"
   ]
  },
  {
   "cell_type": "markdown",
   "id": "59a988a8-3540-4482-887c-5d36d13d5d9f",
   "metadata": {
    "tags": []
   },
   "source": [
    "**Review The Experiment:**\n",
    "<p align=\"center\"><center>\n",
    "    <img align=\"center\" alt=\"Pipeline Complete\" src=\"../resources/images/screenshots/pipelines/start-experiment.png\" width=\"70%\">\n",
    "</center></p>"
   ]
  },
  {
   "cell_type": "markdown",
   "id": "76cd19dd-525a-476d-8ac3-ab87969f3024",
   "metadata": {},
   "source": [
    "---\n",
    "## ML Code - As A Multi-Component With Looping And Control\n",
    "\n",
    "Use looping and control to try many iterations of the input parameter `test_pct`.  Notice that the `kfp.dsl.ParallelFor` automatically runs the trials in parallel.  Then the `kfp.dslCollected` enables gathering all the results to be evalauted by a new custom component `min_mae` that processes the results from all the trials.\n"
   ]
  },
  {
   "cell_type": "code",
   "execution_count": 60,
   "id": "9d7b0f32-22a1-45b5-afb3-9254e7258b21",
   "metadata": {
    "tags": []
   },
   "outputs": [],
   "source": [
    "from typing import List"
   ]
  },
  {
   "cell_type": "code",
   "execution_count": 61,
   "id": "ee2a5e44-236f-4d18-89b0-7a3676d8894d",
   "metadata": {
    "tags": []
   },
   "outputs": [
    {
     "name": "stderr",
     "output_type": "stream",
     "text": [
      "/home/jupyter/.local/lib/python3.10/site-packages/kfp/dsl/component_decorator.py:126: FutureWarning: The default base_image used by the @dsl.component decorator will switch from 'python:3.9' to 'python:3.10' on Oct 1, 2025. To ensure your existing components work with versions of the KFP SDK released after that date, you should provide an explicit base_image argument and ensure your component works as intended on Python 3.10.\n",
      "  return component_factory.create_component_from_func(\n"
     ]
    }
   ],
   "source": [
    "# use the same components created above in this pipeline:\n",
    "# def dataprep(test_pct: float) -> kfp.dsl.Dataset:\n",
    "# def trainer(dataset: kfp.dsl.Dataset) -> kfp.dsl.Metrics:\n",
    "\n",
    "@kfp.dsl.component()\n",
    "def min_mae(trials: List[kfp.dsl.Metrics]) -> kfp.dsl.Metrics:\n",
    "    mae = [trial.metadata['mae'] for trial in trials]\n",
    "    return trials[mae.index(min(mae))]\n",
    "    \n",
    "\n",
    "@kfp.dsl.pipeline(\n",
    "    name = f\"{SERIES}-{EXPERIMENT}-looping-control\"\n",
    ")\n",
    "def train_pipeline(\n",
    "    test_pct: float\n",
    "):\n",
    "    \n",
    "    with kfp.dsl.ParallelFor(\n",
    "        items = [round(x * 0.01, 2) for x in range(5, 31)],\n",
    "        parallelism = 25,\n",
    "        name = 'Loop of 25, all at once'\n",
    "    ) as try_pct:\n",
    "        dataset = dataprep(test_pct = try_pct)\n",
    "        train = trainer(dataset = dataset.output)\n",
    "        \n",
    "    best_trial = min_mae(trials = kfp.dsl.Collected(train.output))"
   ]
  },
  {
   "cell_type": "markdown",
   "id": "dd707663-2ccf-4514-b508-8cda4cf84959",
   "metadata": {},
   "source": [
    "### Run The Pipeline On Vertex AI Pipelines"
   ]
  },
  {
   "cell_type": "code",
   "execution_count": 62,
   "id": "b237da40-cf10-47f9-8770-269116f09f58",
   "metadata": {
    "tags": []
   },
   "outputs": [],
   "source": [
    "kfp.compiler.Compiler().compile(\n",
    "    pipeline_func = train_pipeline,\n",
    "    package_path = f'{DIR}/{SERIES}-{EXPERIMENT}.yaml'\n",
    ")"
   ]
  },
  {
   "cell_type": "code",
   "execution_count": 63,
   "id": "970b1332-0e97-4a7c-86a8-77f1200ee1c3",
   "metadata": {
    "tags": []
   },
   "outputs": [],
   "source": [
    "pipeline_job = aiplatform.PipelineJob(\n",
    "    display_name = f\"{SERIES}-{EXPERIMENT}-looping-control\",\n",
    "    template_path = f\"{DIR}/{SERIES}-{EXPERIMENT}.yaml\",\n",
    "    parameter_values = dict(\n",
    "        test_pct = 0.15\n",
    "    ),\n",
    "    pipeline_root = f'gs://{GCS_BUCKET}/{SERIES}/{EXPERIMENT}/pipeline_root',\n",
    "    enable_caching = None # True (enabled), False (disable), None (defer to component level caching) \n",
    ")"
   ]
  },
  {
   "cell_type": "code",
   "execution_count": 64,
   "id": "1221fb73-b5d0-4a3f-b133-b1c7ac056cd4",
   "metadata": {
    "tags": []
   },
   "outputs": [
    {
     "name": "stdout",
     "output_type": "stream",
     "text": [
      "Creating PipelineJob\n",
      "PipelineJob created. Resource name: projects/1026793852137/locations/us-central1/pipelineJobs/mlops-pipeline-start-looping-control-20250309170021\n",
      "To use this PipelineJob in another session:\n",
      "pipeline_job = aiplatform.PipelineJob.get('projects/1026793852137/locations/us-central1/pipelineJobs/mlops-pipeline-start-looping-control-20250309170021')\n",
      "View Pipeline Job:\n",
      "https://console.cloud.google.com/vertex-ai/locations/us-central1/pipelines/runs/mlops-pipeline-start-looping-control-20250309170021?project=1026793852137\n",
      "Associating projects/1026793852137/locations/us-central1/pipelineJobs/mlops-pipeline-start-looping-control-20250309170021 to Experiment: mlops\n"
     ]
    }
   ],
   "source": [
    "response = pipeline_job.submit(\n",
    "    service_account = SERVICE_ACCOUNT,\n",
    "    experiment = SERIES\n",
    ")"
   ]
  },
  {
   "cell_type": "code",
   "execution_count": 65,
   "id": "ceedd7e9-3458-4a55-8459-d2e85ff43d96",
   "metadata": {
    "tags": []
   },
   "outputs": [
    {
     "data": {
      "text/markdown": [
       "The Dashboard can be [viewed here](https://console.cloud.google.com/vertex-ai/locations/us-central1/pipelines/runs/mlops-pipeline-start-looping-control-20250309170021?project=1026793852137)"
      ],
      "text/plain": [
       "<IPython.core.display.Markdown object>"
      ]
     },
     "execution_count": 65,
     "metadata": {},
     "output_type": "execute_result"
    }
   ],
   "source": [
    "show_md(f'The Dashboard can be [viewed here]({pipeline_job._dashboard_uri()})')"
   ]
  },
  {
   "cell_type": "code",
   "execution_count": 66,
   "id": "814616a6-9b14-4e74-b764-9aa71c0cbcc2",
   "metadata": {
    "tags": []
   },
   "outputs": [
    {
     "name": "stdout",
     "output_type": "stream",
     "text": [
      "PipelineJob projects/1026793852137/locations/us-central1/pipelineJobs/mlops-pipeline-start-looping-control-20250309170021 current state:\n",
      "PipelineState.PIPELINE_STATE_RUNNING\n",
      "PipelineJob projects/1026793852137/locations/us-central1/pipelineJobs/mlops-pipeline-start-looping-control-20250309170021 current state:\n",
      "PipelineState.PIPELINE_STATE_RUNNING\n",
      "PipelineJob projects/1026793852137/locations/us-central1/pipelineJobs/mlops-pipeline-start-looping-control-20250309170021 current state:\n",
      "PipelineState.PIPELINE_STATE_RUNNING\n",
      "PipelineJob projects/1026793852137/locations/us-central1/pipelineJobs/mlops-pipeline-start-looping-control-20250309170021 current state:\n",
      "PipelineState.PIPELINE_STATE_RUNNING\n",
      "PipelineJob projects/1026793852137/locations/us-central1/pipelineJobs/mlops-pipeline-start-looping-control-20250309170021 current state:\n",
      "PipelineState.PIPELINE_STATE_RUNNING\n",
      "PipelineJob projects/1026793852137/locations/us-central1/pipelineJobs/mlops-pipeline-start-looping-control-20250309170021 current state:\n",
      "PipelineState.PIPELINE_STATE_RUNNING\n",
      "PipelineJob run completed. Resource name: projects/1026793852137/locations/us-central1/pipelineJobs/mlops-pipeline-start-looping-control-20250309170021\n"
     ]
    }
   ],
   "source": [
    "pipeline_job.wait()"
   ]
  },
  {
   "cell_type": "markdown",
   "id": "12d82282-5bd2-4917-8c40-7fde204c12ae",
   "metadata": {},
   "source": [
    "**Review The Pipeline: Completed With Multiple Components And Artifacts**\n",
    "<p align=\"center\"><center>\n",
    "    <img align=\"center\" alt=\"Pipeline Complete\" src=\"../resources/images/screenshots/pipelines/start-complete4.png\" width=\"70%\">\n",
    "</center></p>"
   ]
  },
  {
   "cell_type": "markdown",
   "id": "028df830-9911-4eca-83bf-22ca819508d3",
   "metadata": {
    "tags": []
   },
   "source": [
    "---\n",
    "## Do More With Pipelines:\n",
    "\n",
    "This is just the beginning, to explore and learn more about pipelines continue with the series below:\n",
    "\n",
    "This is part of a [series of notebook based workflows](./readme.md) that teach all the ways to use pipelines within Vertex AI. The suggested order and description/reason is:\n",
    "\n",
    "||Notebook Workflow|Description|\n",
    "|---|---|---|\n",
    "|_**This Notebook**_|[Vertex AI Pipelines - Start Here](./Vertex%20AI%20Pipelines%20-%20Start%20Here.ipynb)|What are pipelines? Start here to go from code to pipeline and see it in action.|\n",
    "||[Vertex AI Pipelines - Introduction](./Vertex%20AI%20Pipelines%20-%20Introduction.ipynb)|Introduction to pipelines with the console and Vertex AI SDK|\n",
    "||[Vertex AI Pipelines - Components](./Vertex%20AI%20Pipelines%20-%20Components.ipynb)|An introduction to all the ways to create pipeline components from your code|\n",
    "||[Vertex AI Pipelines - IO](./Vertex%20AI%20Pipelines%20-%20IO.ipynb)|An overview of all the type of inputs and outputs for pipeline components|\n",
    "||[Vertex AI Pipelines - Control](./Vertex%20AI%20Pipelines%20-%20Control.ipynb)|An overview of controlling the flow of exectution for pipelines|\n",
    "||[Vertex AI Pipelines - Secret Manager](./Vertex%20AI%20Pipelines%20-%20Secret%20Manager.ipynb)|How to pass sensitive information to pipelines and components|\n",
    "||[Vertex AI Pipelines - Scheduling](./Vertex%20AI%20Pipelines%20-%20Scheduling.ipynb)|How to schedule pipeline execution|\n",
    "||[Vertex AI Pipelines - Notifications](./Vertex%20AI%20Pipelines%20-%20Notifications.ipynb)|How to send email notification of pipeline status.|\n",
    "||[Vertex AI Pipelines - Management](./Vertex%20AI%20Pipelines%20-%20Management.ipynb)|Managing, Reusing, and Storing pipelines and components|\n",
    "||[Vertex AI Pipelines - Testing](./Vertex%20AI%20Pipelines%20-%20Testing.ipynb)|Strategies for testing components and pipeliens locally and remotely to aide development.|\n",
    "\n",
    "\n",
    "To discover these notebooks as part of an introduction to MLOps orchestration [start here](./readme.md).  To read more about MLOps also check out [the parent folder](../readme.md).\n",
    "\n",
    "---"
   ]
  },
  {
   "cell_type": "code",
   "execution_count": null,
   "id": "16f91015-264b-438c-b033-945bd43437bd",
   "metadata": {},
   "outputs": [],
   "source": []
  }
 ],
 "metadata": {
  "environment": {
   "kernel": "conda-base-py",
   "name": "workbench-notebooks.m128",
   "type": "gcloud",
   "uri": "us-docker.pkg.dev/deeplearning-platform-release/gcr.io/workbench-notebooks:m128"
  },
  "kernelspec": {
   "display_name": "Python 3 (ipykernel) (Local)",
   "language": "python",
   "name": "conda-base-py"
  },
  "language_info": {
   "codemirror_mode": {
    "name": "ipython",
    "version": 3
   },
   "file_extension": ".py",
   "mimetype": "text/x-python",
   "name": "python",
   "nbconvert_exporter": "python",
   "pygments_lexer": "ipython3",
   "version": "3.10.16"
  }
 },
 "nbformat": 4,
 "nbformat_minor": 5
}
