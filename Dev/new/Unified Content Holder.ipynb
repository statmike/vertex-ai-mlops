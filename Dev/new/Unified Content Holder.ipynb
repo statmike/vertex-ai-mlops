{
 "cells": [
  {
   "cell_type": "markdown",
   "id": "7c9fffbe",
   "metadata": {},
   "source": [
    "![tracker](https://us-central1-vertex-ai-mlops-369716.cloudfunctions.net/pixel-tracking?path=statmike%2Fvertex-ai-mlops%2FDev%2Fnew&file=Unified+Content+Holder.ipynb)\n",
    "<!--- header table --->\n",
    "<table align=\"left\">\n",
    "  <td style=\"text-align: center\">\n",
    "    <a href=\"https://colab.research.google.com/github/statmike/vertex-ai-mlops/blob/main/Dev/new/Unified%20Content%20Holder.ipynb\">\n",
    "      <img src=\"https://cloud.google.com/ml-engine/images/colab-logo-32px.png\" alt=\"Google Colaboratory logo\">\n",
    "      <br>Run in<br>Colab\n",
    "    </a>\n",
    "  </td>\n",
    "  <td style=\"text-align: center\">\n",
    "    <a href=\"https://console.cloud.google.com/vertex-ai/colab/import/https%3A%2F%2Fraw.githubusercontent.com%2Fstatmike%2Fvertex-ai-mlops%2Fmain%2FDev%2Fnew%2FUnified%2520Content%2520Holder.ipynb\">\n",
    "      <img width=\"32px\" src=\"https://lh3.googleusercontent.com/JmcxdQi-qOpctIvWKgPtrzZdJJK-J3sWE1RsfjZNwshCFgE_9fULcNpuXYTilIR2hjwN\" alt=\"Google Cloud Colab Enterprise logo\">\n",
    "      <br>Run in<br>Colab Enterprise\n",
    "    </a>\n",
    "  </td>      \n",
    "  <td style=\"text-align: center\">\n",
    "    <a href=\"https://github.com/statmike/vertex-ai-mlops/blob/main/Dev/new/Unified%20Content%20Holder.ipynb\">\n",
    "      <img src=\"https://cloud.google.com/ml-engine/images/github-logo-32px.png\" alt=\"GitHub logo\">\n",
    "      <br>View on<br>GitHub\n",
    "    </a>\n",
    "  </td>\n",
    "  <td style=\"text-align: center\">\n",
    "    <a href=\"https://console.cloud.google.com/vertex-ai/workbench/deploy-notebook?download_url=https://raw.githubusercontent.com/statmike/vertex-ai-mlops/main/Dev/new/Unified%20Content%20Holder.ipynb\">\n",
    "      <img src=\"https://lh3.googleusercontent.com/UiNooY4LUgW_oTvpsNhPpQzsstV5W8F7rYgxgGBD85cWJoLmrOzhVs_ksK_vgx40SHs7jCqkTkCk=e14-rj-sc0xffffff-h130-w32\" alt=\"Vertex AI logo\">\n",
    "      <br>Open in<br>Vertex AI Workbench\n",
    "    </a>\n",
    "  </td>\n",
    "</table>"
   ]
  },
  {
   "cell_type": "markdown",
   "id": "c218259e-c79e-4236-8d56-e83db28a3e1c",
   "metadata": {},
   "source": [
    "# Notes\n",
    "\n",
    "## Readme.md files\n",
    "\n",
    "start with header: vertex-ai-mlops/folder/readme.md\n",
    "\n",
    "all notebooks need a line like this after main header in first cell:\n",
    "\n",
    "> From the [Working With Document AI](https://github.com/statmike/vertex-ai-mlops/blob/main/Working%20With%20Document%20AI/readme.md) series in the [vertex-ai-mlops](https://github.com/statmike/vertex-ai-mlops/blob/main/readme.md) repository."
   ]
  },
  {
   "cell_type": "markdown",
   "id": "8cfebc66-ec7b-427b-9b02-a56c187f3ada",
   "metadata": {},
   "source": [
    "---\n",
    "## Snippets"
   ]
  },
  {
   "cell_type": "code",
   "execution_count": null,
   "id": "23a9e26d-54d9-432c-9244-404fd34627d1",
   "metadata": {},
   "outputs": [],
   "source": [
    "import logging\n",
    "\n",
    "# setup logging\n",
    "logger = logging.getLogger()\n",
    "logger.setLevel(logging.INFO)\n",
    "logger.addHandler(logging.StreamHandler())\n",
    "\n",
    "logging.info('Finished setting up clients')"
   ]
  },
  {
   "cell_type": "code",
   "execution_count": null,
   "id": "fdd695d4-b200-4bc8-bbcd-345068a8cf55",
   "metadata": {},
   "outputs": [],
   "source": []
  },
  {
   "cell_type": "code",
   "execution_count": null,
   "id": "51d45e4d-aaa3-4b22-8660-c6ed91f07637",
   "metadata": {},
   "outputs": [],
   "source": [
    "try:\n",
    "    # setting the limit_per_minute to 80, higher than the actual limit of 60\n",
    "    responses = await study_notes(vocab_words[0:80], limit_per_minute = 80)\n",
    "except Exception as err:\n",
    "    print(f\"{type(err).__name__} was raised: {err}\")"
   ]
  },
  {
   "cell_type": "code",
   "execution_count": null,
   "id": "e373bd31-09f7-4901-8b28-f6ca23753c45",
   "metadata": {},
   "outputs": [],
   "source": []
  },
  {
   "cell_type": "code",
   "execution_count": null,
   "id": "928852ce-521a-453d-a5a8-de2e0555ac04",
   "metadata": {
    "tags": []
   },
   "outputs": [],
   "source": [
    "import os\n",
    "os.environ['TF_CPP_MIN_LOG_LEVEL'] = '3'\n",
    "\n",
    "import vertexai\n",
    "import vertexai.vision_models # Imagen Models\n",
    "import vertexai.language_models # PaLM and Codey Models\n",
    "import vertexai.generative_models # for Gemini Models\n",
    "\n",
    "vertexai.init(project = PROJECT_ID, location = REGION)"
   ]
  },
  {
   "cell_type": "code",
   "execution_count": null,
   "id": "6ddca775-e8ad-493d-a49d-6787f21144a3",
   "metadata": {},
   "outputs": [],
   "source": []
  },
  {
   "cell_type": "code",
   "execution_count": null,
   "id": "120df494-cd1e-41ab-be72-0499d2f22736",
   "metadata": {
    "tags": []
   },
   "outputs": [],
   "source": [
    "# Gemini Models\n",
    "gemini_text = vertexai.generative_models.GenerativeModel(\"gemini-1.0-pro\")\n",
    "gemini_multimodal = vertexai.generative_models.GenerativeModel(\"gemini-1.0-pro-vision\")\n",
    "\n",
    "# PaLM and Codey Models\n",
    "text_model = vertexai.language_models.TextGenerationModel.from_pretrained('text-bison')\n",
    "chat_model = vertexai.language_models.ChatModel.from_pretrained('chat-bison')\n",
    "textembed_model = vertexai.language_models.TextEmbeddingModel.from_pretrained('textembedding-gecko')\n",
    "codegen_model = vertexai.language_models.CodeGenerationModel.from_pretrained('code-bison')\n",
    "codecomp_model = vertexai.language_models.CodeGenerationModel.from_pretrained('code-gecko')\n",
    "codechat_model = vertexai.language_models.CodeChatModel.from_pretrained('codechat-bison')\n",
    "\n",
    "# Imagen Models\n",
    "imagecap_model = vertexai.vision_models.ImageCaptioningModel.from_pretrained(\"imagetext\")\n",
    "imageqna_model = vertexai.vision_models.ImageQnAModel.from_pretrained(\"imagetext\")\n",
    "imagetext_model = vertexai.vision_models.ImageTextModel.from_pretrained(\"imagetext\")\n",
    "multimodalembed_model = vertexai.vision_models.MultiModalEmbeddingModel.from_pretrained('multimodalembedding')\n",
    "imagen1_model = vertexai.preview.vision_models.ImageGenerationModel.from_pretrained('imagegeneration@002')\n",
    "imagen2_model = vertexai.preview.vision_models.ImageGenerationModel.from_pretrained('imagegeneration@005')"
   ]
  },
  {
   "cell_type": "code",
   "execution_count": null,
   "id": "b6e57d3c-4afc-4c27-877d-c8ce6a016214",
   "metadata": {},
   "outputs": [],
   "source": [
    "prediction = textgen_model.predict('Create is a short summary of the rules of baseball?')\n",
    "\n",
    "print(prediction.text)"
   ]
  },
  {
   "cell_type": "code",
   "execution_count": null,
   "id": "0e8b38f6-95eb-4cd7-a043-50a7a2984847",
   "metadata": {},
   "outputs": [],
   "source": [
    "prediction = gemini_text.generate_content('Create is a short summary of the rules of baseball?')\n",
    "\n",
    "print(prediction.text)"
   ]
  },
  {
   "cell_type": "code",
   "execution_count": null,
   "id": "88c0af48-d7a0-49e5-9fc3-c5ad35a3addf",
   "metadata": {},
   "outputs": [],
   "source": []
  },
  {
   "cell_type": "code",
   "execution_count": 49,
   "id": "41f5bbd0-8825-4bfa-9139-3131d554999f",
   "metadata": {
    "tags": []
   },
   "outputs": [
    {
     "name": "stdout",
     "output_type": "stream",
     "text": [
      "The bases in baseball are 15 inches (38.1 cm) square. ⚾️ \n",
      "\n"
     ]
    }
   ],
   "source": [
    "MODEL_ID = 'gemini-1.5-pro-preview-0409'\n",
    "#MODEL_ID = 'gemini-experimental'\n",
    "request = dict(\n",
    "    contents = dict(\n",
    "        role = 'user',\n",
    "        parts = dict(\n",
    "            text = prompt_baseball\n",
    "        )\n",
    "    ),\n",
    "    generationConfig = dict(\n",
    "        temperature = 0.0,\n",
    "        topP = .8,\n",
    "        topK = 25,\n",
    "        maxOutputTokens = 500,\n",
    "        responseMimeType = 'text/plain'\n",
    "    )\n",
    ")\n",
    "token = !gcloud auth application-default print-access-token\n",
    "headers = {\n",
    "    \"content-type\": \"application/json\",\n",
    "    \"Authorization\": f'Bearer {token[0]}'\n",
    "}\n",
    "\n",
    "response = requests.post(\n",
    "    f'https://{REGION}-aiplatform.googleapis.com/v1/projects/{PROJECT_ID}/locations/{REGION}/publishers/google/models/{MODEL_ID}:generateContent',\n",
    "    #data = json.dumps(dict(instances = [request])),\n",
    "    data = json.dumps(request),\n",
    "    headers = headers\n",
    ")\n",
    "\n",
    "response_text = json.loads(response.text)['candidates'][0]['content']['parts'][0]['text']\n",
    "print(response_text)"
   ]
  },
  {
   "cell_type": "code",
   "execution_count": null,
   "id": "6332d58c-2342-4e74-8fbc-6ff2bd36c483",
   "metadata": {},
   "outputs": [],
   "source": []
  },
  {
   "cell_type": "code",
   "execution_count": null,
   "id": "8ee90c1c-18f8-4508-8ef4-6ba82e54550f",
   "metadata": {},
   "outputs": [],
   "source": []
  },
  {
   "cell_type": "code",
   "execution_count": null,
   "id": "2035bbb7-fcc1-4eb9-9a4e-c8a9eae6bf75",
   "metadata": {},
   "outputs": [],
   "source": []
  },
  {
   "cell_type": "code",
   "execution_count": null,
   "id": "90c55c48-07be-4b8a-927a-f42c81fa34d6",
   "metadata": {},
   "outputs": [],
   "source": []
  },
  {
   "cell_type": "markdown",
   "id": "27de61ba-a749-4c7b-afb4-063cc1fbd084",
   "metadata": {},
   "source": [
    "Request preditiction but note that the Python SDK does not (yet) include the batch prediction methods:"
   ]
  },
  {
   "cell_type": "code",
   "execution_count": 409,
   "id": "64218686-7190-4fab-ad17-467728b6eaac",
   "metadata": {
    "tags": []
   },
   "outputs": [],
   "source": [
    "import google.auth\n",
    "creds, project_id = google.auth.default()"
   ]
  },
  {
   "cell_type": "code",
   "execution_count": 416,
   "id": "73bb751f-0469-452d-8788-22b6d2ca5278",
   "metadata": {
    "tags": []
   },
   "outputs": [],
   "source": [
    "request = dict(\n",
    "    displayName = \"gemini_batch_api\",\n",
    "    model = \"publishers/google/models/gemini-1.0-pro-002\",\n",
    "    inputConfig = dict(\n",
    "        instancesFormat = \"bigquery\",\n",
    "        bigquerySource = dict(inputUri = f\"bq://{table.project}.{table.dataset_id}.{table.table_id}\")\n",
    "    ),\n",
    "    outputConfig = dict(\n",
    "        predictionsFormat = \"bigquery\",\n",
    "        bigqueryDestination = dict(outputUri = f\"bq://{table.project}.{table.dataset_id}.{table.table_id}-output\")\n",
    "    )\n",
    ")"
   ]
  },
  {
   "cell_type": "code",
   "execution_count": 417,
   "id": "1a08f3f3-d3f6-41cd-b5f4-00005bba0820",
   "metadata": {
    "tags": []
   },
   "outputs": [],
   "source": [
    "creds.refresh(google.auth.transport.requests.Request())\n",
    "response = requests.post(\n",
    "    f\"https://{REGION}-aiplatform.googleapis.com/v1/projects/{PROJECT_ID}/locations/{REGION}/batchPredictionJobs\",\n",
    "    headers = {\"authorization\": f\"Bearer {creds.token}\", \"Content-Type\": \"application/json; charset=utf-8\"},\n",
    "    data = json.dumps(request)\n",
    ")"
   ]
  },
  {
   "cell_type": "code",
   "execution_count": 418,
   "id": "b2568cc8-acfb-40b0-af5f-5ad6fef03ad9",
   "metadata": {
    "tags": []
   },
   "outputs": [
    {
     "data": {
      "text/plain": [
       "{'name': 'projects/1026793852137/locations/us-central1/batchPredictionJobs/5855598329345343488',\n",
       " 'displayName': 'gemini_batch_api',\n",
       " 'model': 'publishers/google/models/gemini-1.0-pro-002',\n",
       " 'inputConfig': {'instancesFormat': 'bigquery',\n",
       "  'bigquerySource': {'inputUri': 'bq://statmike-mlops-349915.applied_genai.getting-started_gemini_batch'}},\n",
       " 'outputConfig': {'predictionsFormat': 'bigquery',\n",
       "  'bigqueryDestination': {'outputUri': 'bq://statmike-mlops-349915.applied_genai.getting-started_gemini_batch-output'}},\n",
       " 'state': 'JOB_STATE_PENDING',\n",
       " 'createTime': '2024-07-29T21:17:57.303159Z',\n",
       " 'updateTime': '2024-07-29T21:17:57.303159Z',\n",
       " 'modelVersionId': '1'}"
      ]
     },
     "execution_count": 418,
     "metadata": {},
     "output_type": "execute_result"
    }
   ],
   "source": [
    "response.json()"
   ]
  },
  {
   "cell_type": "code",
   "execution_count": null,
   "id": "0d0d65c8-a81b-49a9-a59c-0bf25d012918",
   "metadata": {},
   "outputs": [],
   "source": []
  },
  {
   "cell_type": "code",
   "execution_count": null,
   "id": "1d6c3b96-b69d-4d14-8094-14c60c9350b2",
   "metadata": {},
   "outputs": [],
   "source": []
  },
  {
   "cell_type": "code",
   "execution_count": null,
   "id": "030a3e67-2665-4d09-a373-94bf2925efde",
   "metadata": {},
   "outputs": [],
   "source": []
  },
  {
   "cell_type": "code",
   "execution_count": null,
   "id": "88a593d2-e4f7-4d0c-bb9c-35c49d30582a",
   "metadata": {},
   "outputs": [],
   "source": []
  },
  {
   "cell_type": "code",
   "execution_count": null,
   "id": "19cdbd83-9eec-47b3-a165-095de0d2dad6",
   "metadata": {},
   "outputs": [],
   "source": []
  },
  {
   "cell_type": "code",
   "execution_count": null,
   "id": "b88017cc-c60e-489e-9fa2-11af0579e4ac",
   "metadata": {},
   "outputs": [],
   "source": []
  },
  {
   "cell_type": "code",
   "execution_count": null,
   "id": "6ec83b14-4e69-4d4d-a773-3d85d315d736",
   "metadata": {},
   "outputs": [],
   "source": []
  },
  {
   "cell_type": "code",
   "execution_count": null,
   "id": "57b5eb42-fca7-4254-a508-82351ccbb87a",
   "metadata": {},
   "outputs": [],
   "source": []
  },
  {
   "cell_type": "code",
   "execution_count": null,
   "id": "53846166-45e7-4442-b318-1959d385d38c",
   "metadata": {},
   "outputs": [],
   "source": []
  },
  {
   "cell_type": "code",
   "execution_count": null,
   "id": "2a5da051-1bc4-4df2-a0fa-7d63d0dba18a",
   "metadata": {},
   "outputs": [],
   "source": []
  },
  {
   "cell_type": "code",
   "execution_count": null,
   "id": "4c30949a-02f1-47d1-9633-754ff9205abb",
   "metadata": {},
   "outputs": [],
   "source": [
    "from google.api_core import retry\n",
    "@retry.Retry(timeout=100)\n",
    "    def"
   ]
  },
  {
   "cell_type": "markdown",
   "id": "cc703e97-1bbf-45e1-831f-73cfe5d10cc9",
   "metadata": {},
   "source": [
    "- https://cloud.google.com/python/docs/reference/storage/1.39.0/retry_timeout\n",
    "- https://github.com/GoogleCloudPlatform/generative-ai/blob/eec279b6c3065aacc5e7539da36f9d15bbf504df/search/retrieval-augmented-generation/examples/rag_google_documentation.ipynb#L407\n",
    "- https://googleapis.dev/python/google-api-core/latest/retry.html"
   ]
  },
  {
   "cell_type": "code",
   "execution_count": null,
   "id": "9e545a41-cb0c-4130-b28e-0ceccc35ad73",
   "metadata": {},
   "outputs": [],
   "source": []
  },
  {
   "cell_type": "code",
   "execution_count": null,
   "id": "3b3299d8-b876-46de-915d-46d17104dd4a",
   "metadata": {},
   "outputs": [],
   "source": [
    "from deepdiff import DeepDiff\n",
    "DeepDiff(dict_a, dict_b)"
   ]
  },
  {
   "cell_type": "code",
   "execution_count": null,
   "id": "3e24f6d5-5388-48b1-87b9-e08f289361af",
   "metadata": {},
   "outputs": [],
   "source": [
    "import copy\n",
    "hold_files_pages = copy.deepcopy(files_pages)"
   ]
  },
  {
   "cell_type": "code",
   "execution_count": null,
   "id": "b4e2f036-c939-4d37-9c25-14d42d3f5e8c",
   "metadata": {},
   "outputs": [],
   "source": []
  },
  {
   "cell_type": "code",
   "execution_count": null,
   "id": "ea464667-bafc-4b76-9d27-181c74fe2cbd",
   "metadata": {},
   "outputs": [],
   "source": []
  },
  {
   "cell_type": "code",
   "execution_count": null,
   "id": "823de2f7-2a96-4f52-9b5e-9713a395b8f2",
   "metadata": {},
   "outputs": [],
   "source": []
  },
  {
   "cell_type": "code",
   "execution_count": null,
   "id": "4bd4fdfb-e74e-49ff-bae9-9be65ee02b27",
   "metadata": {},
   "outputs": [],
   "source": [
    "%%bigquery\n",
    "CREATE SCHEMA IF NOT EXISTS `statmike-mlops-349915.feature_data_architecture`\n",
    "    OPTIONS(\n",
    "        location = 'US'\n",
    "    )"
   ]
  },
  {
   "cell_type": "code",
   "execution_count": null,
   "id": "3a1ae2b1-f86e-4a50-8977-0312b3094040",
   "metadata": {},
   "outputs": [],
   "source": [
    "%%bigquery\n",
    "CREATE OR REPLACE TABLE feature_data_architecture.features_eav (\n",
    "  entity_id STRING,\n",
    "  feature_name STRING,\n",
    "  feature_value STRUCT<string_value STRING, int64_value INT64, date_value DATE>,\n",
    "  feature_datatype STRING\n",
    ");"
   ]
  },
  {
   "cell_type": "code",
   "execution_count": null,
   "id": "f6f24550-8afb-4f22-92af-88a0ac546f7a",
   "metadata": {},
   "outputs": [],
   "source": [
    "%%bigquery features_eav_schema\n",
    "SELECT \n",
    " TO_JSON_STRING(\n",
    "    ARRAY_AGG(STRUCT(\n",
    "      column_name AS name,\n",
    "      data_type AS type)\n",
    "    ORDER BY ordinal_position), TRUE) AS schema\n",
    "FROM\n",
    "  feature_data_architecture.INFORMATION_SCHEMA.COLUMNS\n",
    "WHERE\n",
    "  table_name = 'features_eav'"
   ]
  },
  {
   "cell_type": "code",
   "execution_count": null,
   "id": "600a33d7-5a0b-4391-9837-b40c2fddd174",
   "metadata": {},
   "outputs": [],
   "source": []
  },
  {
   "cell_type": "code",
   "execution_count": null,
   "id": "c2cb0612-dd89-42a9-8302-20b4b6248436",
   "metadata": {},
   "outputs": [],
   "source": [
    "# cancel BQ job with SQL\n",
    "CALL BQ.JOBS.CANCEL('ed57cb8b-be40-442f-bcf1-9edb00081c10')"
   ]
  },
  {
   "cell_type": "code",
   "execution_count": null,
   "id": "9c103334-6144-496e-bb9b-a3fe63171af7",
   "metadata": {},
   "outputs": [],
   "source": []
  },
  {
   "cell_type": "code",
   "execution_count": null,
   "id": "52f933ff-a2ac-4d30-bb36-18694a082c8e",
   "metadata": {},
   "outputs": [],
   "source": []
  },
  {
   "cell_type": "code",
   "execution_count": null,
   "id": "05bb9ea5-9308-4f97-9639-9688bd890d55",
   "metadata": {},
   "outputs": [],
   "source": []
  },
  {
   "cell_type": "code",
   "execution_count": null,
   "id": "4a951a1c-1e40-45a6-8701-97c1ca6fc13f",
   "metadata": {},
   "outputs": [],
   "source": []
  },
  {
   "cell_type": "code",
   "execution_count": null,
   "id": "fc024985-81a4-4bae-8060-4058c6d97f64",
   "metadata": {},
   "outputs": [],
   "source": []
  },
  {
   "cell_type": "code",
   "execution_count": null,
   "id": "fbf6b3e6-3bc3-406d-b892-8a2d6c0ebc59",
   "metadata": {},
   "outputs": [],
   "source": []
  },
  {
   "cell_type": "code",
   "execution_count": null,
   "id": "5a6b96b3-01fe-4e0a-8441-6122e400c1fb",
   "metadata": {},
   "outputs": [],
   "source": []
  },
  {
   "cell_type": "code",
   "execution_count": null,
   "id": "84e4fe63-41db-434e-bd8b-b95984b7a39f",
   "metadata": {},
   "outputs": [],
   "source": []
  },
  {
   "cell_type": "code",
   "execution_count": null,
   "id": "bde75c27-97fb-4ed4-a178-45270307139d",
   "metadata": {},
   "outputs": [],
   "source": []
  },
  {
   "cell_type": "code",
   "execution_count": null,
   "id": "aa827ec7-3eeb-4770-80e9-811983d45672",
   "metadata": {},
   "outputs": [],
   "source": []
  },
  {
   "cell_type": "code",
   "execution_count": null,
   "id": "c2db2805-fa45-4158-88b4-5421a9f45204",
   "metadata": {},
   "outputs": [],
   "source": []
  },
  {
   "cell_type": "markdown",
   "id": "a268270c-37e7-4627-a816-0b8d4dad30a5",
   "metadata": {
    "id": "od_UkDpvRmgD",
    "tags": []
   },
   "source": [
    "---\n",
    "## Colab Setup\n",
    "\n",
    "When running this notebook in [Colab](https://colab.google/) or [Colab Enterprise](https://cloud.google.com/colab/docs/introduction), this section will authenticate to GCP (follow prompts in the popup) and set the current project for the session."
   ]
  },
  {
   "cell_type": "code",
   "execution_count": 1,
   "id": "a8c92c97-df04-42f0-a745-3989dabb310a",
   "metadata": {
    "executionInfo": {
     "elapsed": 195,
     "status": "ok",
     "timestamp": 1683726184843,
     "user": {
      "displayName": "Mike Henderson",
      "userId": "07691629187611687318"
     },
     "user_tz": 240
    },
    "id": "8UO9FnqyKBlF"
   },
   "outputs": [],
   "source": [
    "PROJECT_ID = 'statmike-mlops-349915' # replace with project ID"
   ]
  },
  {
   "cell_type": "code",
   "execution_count": 11,
   "id": "b179cfc8-52a6-42ee-a365-77b2f6a0517d",
   "metadata": {
    "colab": {
     "base_uri": "https://localhost:8080/"
    },
    "executionInfo": {
     "elapsed": 68869,
     "status": "ok",
     "timestamp": 1683726253709,
     "user": {
      "displayName": "Mike Henderson",
      "userId": "07691629187611687318"
     },
     "user_tz": 240
    },
    "id": "N98-KK7LRkjm",
    "outputId": "09ec5008-0def-4e1a-c349-c598ee752f78",
    "tags": []
   },
   "outputs": [
    {
     "name": "stdout",
     "output_type": "stream",
     "text": [
      "Not a Colab Environment, Continue.\n"
     ]
    }
   ],
   "source": [
    "try:\n",
    "    from google.colab import auth\n",
    "    auth.authenticate_user(project_id = PROJECT_ID)\n",
    "    print('Colab authorized to GCP')\n",
    "except Exception:\n",
    "    print('Not a Colab Environment, Continue.')\n",
    "    pass"
   ]
  },
  {
   "cell_type": "markdown",
   "id": "63a682e4-424a-4aea-9a81-2a4cb43fa9a4",
   "metadata": {},
   "source": [
    "---\n",
    "## Installs\n",
    "\n",
    "The list `packages` contains tuples of package import names and install names.  If the import name is not found then the install name is used to install quitely for the current user."
   ]
  },
  {
   "cell_type": "code",
   "execution_count": null,
   "id": "d1400e0e-d4f3-46bd-afef-5785e047339b",
   "metadata": {},
   "outputs": [],
   "source": [
    "# tuples of (import name, install name, min_version)\n",
    "packages = [\n",
    "    ('google.cloud.aiplatform', 'google-cloud-aiplatform', '1.38.0'),\n",
    "    ('google.cloud.', 'google-cloud-')\n",
    "]\n",
    "\n",
    "import importlib\n",
    "install = False\n",
    "for package in packages:\n",
    "    if not importlib.util.find_spec(package[0]):\n",
    "        print(f'installing package {package[1]}')\n",
    "        install = True\n",
    "        !pip install {package[1]} -U -q --user\n",
    "    elif len(package) == 3:\n",
    "        if importlib.metadata.version(package[0]) < package[2]:\n",
    "            print(f'updating package {package[1]}')\n",
    "            install = True\n",
    "            !pip install {package[1]} -U -q --user"
   ]
  },
  {
   "cell_type": "markdown",
   "id": "ef2daf3a-6948-4a7d-b7df-a7cfad437b38",
   "metadata": {},
   "source": [
    "**NEW VERSION**"
   ]
  },
  {
   "cell_type": "code",
   "execution_count": null,
   "id": "9b036ea0-88aa-4c7d-9a11-cb660ef19e2e",
   "metadata": {},
   "outputs": [],
   "source": [
    "# tuples of (import name, install name, min_version)\n",
    "packages = [\n",
    "    ('google.cloud.aiplatform', 'google-cloud-aiplatform', '1.69.0'),\n",
    "    ('google.cloud.alloydb', 'google-cloud-alloydb'),\n",
    "    ('google.cloud.alloydb.connector', 'google-cloud-alloydb-connector'),\n",
    "    ('sqlalchemy', 'sqlalchemy'),\n",
    "    ('pg8000', 'pg8000'),\n",
    "    ('asyncpg', 'asyncpg')\n",
    "]\n",
    "\n",
    "import importlib\n",
    "install = False\n",
    "for package in packages:\n",
    "    try:\n",
    "        importlib.metadata.version(package[1])\n",
    "        if len(package) == 3:\n",
    "            if importlib.metadata.version(package[1]) < package[3]:\n",
    "                print(f'updating package {package[1]}')\n",
    "                install = True\n",
    "                !pip install {package[1]} -U -q\n",
    "    except:\n",
    "        print(f'installing package {package[1]}')\n",
    "        install = True\n",
    "        !pip install {package[1]} -U -q"
   ]
  },
  {
   "cell_type": "markdown",
   "id": "97656c62-22d3-40eb-ba10-ca6a22573ee9",
   "metadata": {},
   "source": [
    "## API Enablement"
   ]
  },
  {
   "cell_type": "code",
   "execution_count": null,
   "id": "cc038f75-c07c-4e9f-9ad2-9d8933213b3e",
   "metadata": {},
   "outputs": [],
   "source": [
    "!gcloud services enable aiplatform.googleapis.com"
   ]
  },
  {
   "cell_type": "markdown",
   "id": "cce72872-2f77-4c0b-83ad-d4a72e98aed0",
   "metadata": {},
   "source": [
    "### Restart Kernel (If Installs Occured)\n",
    "\n",
    "After a kernel restart the code submission can start with the next cell after this one."
   ]
  },
  {
   "cell_type": "code",
   "execution_count": 12,
   "id": "d51ce01c-4126-467c-b3c6-a7e7d2675af4",
   "metadata": {
    "tags": []
   },
   "outputs": [],
   "source": [
    "if install:\n",
    "    import IPython\n",
    "    app = IPython.Application.instance()\n",
    "    app.kernel.do_shutdown(True)\n",
    "    IPython.display.display(IPython.display.Markdown(\"\"\"<div class=\\\"alert alert-block alert-warning\\\">\n",
    "        <b>⚠️ The kernel is going to restart. Please wait until it is finished before continuing to the next step. The previous cells do not need to be run again⚠️</b>\n",
    "        </div>\"\"\"))"
   ]
  },
  {
   "cell_type": "markdown",
   "id": "ff498890-9577-48ee-bf12-93402e438a9e",
   "metadata": {
    "id": "appt8-yVRtJ1"
   },
   "source": [
    "---\n",
    "## Setup"
   ]
  },
  {
   "cell_type": "markdown",
   "id": "450723d6-4d40-440a-a4c1-d5f5d104b629",
   "metadata": {
    "id": "63mx2EozRxFP"
   },
   "source": [
    "Inputs"
   ]
  },
  {
   "cell_type": "code",
   "execution_count": 1,
   "id": "78cb8b5a-898e-4b32-a9ad-12876e3afed2",
   "metadata": {
    "colab": {
     "base_uri": "https://localhost:8080/",
     "height": 35
    },
    "executionInfo": {
     "elapsed": 2124,
     "status": "ok",
     "timestamp": 1683726390544,
     "user": {
      "displayName": "Mike Henderson",
      "userId": "07691629187611687318"
     },
     "user_tz": 240
    },
    "id": "xzcoXjM5Rky5",
    "outputId": "b3bdcbc1-70d5-472e-aea2-42c74a42efde"
   },
   "outputs": [
    {
     "data": {
      "text/plain": [
       "'statmike-mlops-349915'"
      ]
     },
     "execution_count": 1,
     "metadata": {},
     "output_type": "execute_result"
    }
   ],
   "source": [
    "project = !gcloud config get-value project\n",
    "PROJECT_ID = project[0]\n",
    "PROJECT_ID"
   ]
  },
  {
   "cell_type": "code",
   "execution_count": 2,
   "id": "922c4488-ef2a-4cc1-b139-7967f853f5cd",
   "metadata": {
    "executionInfo": {
     "elapsed": 2,
     "status": "ok",
     "timestamp": 1683726390712,
     "user": {
      "displayName": "Mike Henderson",
      "userId": "07691629187611687318"
     },
     "user_tz": 240
    },
    "id": "IxWrFtqYMfku"
   },
   "outputs": [],
   "source": [
    "REGION = 'us-central1'\n",
    "EXPERIMENT = 'embeddings'\n",
    "SERIES = 'applied-genai'\n",
    "\n",
    "# specify a GCS Bucket\n",
    "GCS_BUCKET = PROJECT_ID"
   ]
  },
  {
   "cell_type": "markdown",
   "id": "ab3179ee-6002-42b8-94dd-3f1fb588e9cf",
   "metadata": {
    "id": "LuajVwCiO6Yg"
   },
   "source": [
    "Packages"
   ]
  },
  {
   "cell_type": "code",
   "execution_count": 229,
   "id": "19d442b0-a6a2-4fff-85cf-39110b4912e2",
   "metadata": {
    "executionInfo": {
     "elapsed": 17761,
     "status": "ok",
     "timestamp": 1683726409304,
     "user": {
      "displayName": "Mike Henderson",
      "userId": "07691629187611687318"
     },
     "user_tz": 240
    },
    "id": "LVC7zzSLRk2C"
   },
   "outputs": [],
   "source": [
    "import vertexai.language_models\n",
    "import vertexai.vision_models\n",
    "from google.cloud import bigquery\n",
    "\n",
    "import os\n",
    "import pygbif\n",
    "import requests\n",
    "import asyncio\n",
    "import multiprocessing\n",
    "import tqdm\n",
    "import time\n",
    "import IPython.display \n",
    "\n",
    "import docker"
   ]
  },
  {
   "cell_type": "markdown",
   "id": "6a59dfb4-85db-462b-a676-ad80241994b9",
   "metadata": {
    "id": "EyAVFG9TO9H-"
   },
   "source": [
    "Clients"
   ]
  },
  {
   "cell_type": "code",
   "execution_count": 4,
   "id": "49aa8ea7-e5d8-42d5-bfa9-0cf9786fc706",
   "metadata": {
    "executionInfo": {
     "elapsed": 19,
     "status": "ok",
     "timestamp": 1683726409306,
     "user": {
      "displayName": "Mike Henderson",
      "userId": "07691629187611687318"
     },
     "user_tz": 240
    },
    "id": "L0RPE13LOZce"
   },
   "outputs": [],
   "source": [
    "# vertex ai clients\n",
    "vertexai.init(project = PROJECT_ID, location = REGION)\n",
    "\n",
    "# bigquery client\n",
    "bq = bigquery.Client(project = PROJECT_ID)"
   ]
  },
  {
   "cell_type": "markdown",
   "id": "cab6997b-c14b-4f7c-9e50-6891cf8fa066",
   "metadata": {},
   "source": [
    "Docker Check:"
   ]
  },
  {
   "cell_type": "code",
   "execution_count": 18,
   "id": "2683523f-8b4f-4659-add9-3579fb771427",
   "metadata": {
    "tags": []
   },
   "outputs": [
    {
     "name": "stdout",
     "output_type": "stream",
     "text": [
      "Docker is installed and running. Version: 20.10.17\n"
     ]
    }
   ],
   "source": [
    "docker_client = docker.from_env()\n",
    "\n",
    "if docker_client.ping():\n",
    "    print(f\"Docker is installed and running. Version: {docker_client.version()['Version']}\")\n",
    "else:\n",
    "    print('Docker is either not installed or not running - please fix before proceeding.')"
   ]
  },
  {
   "cell_type": "markdown",
   "id": "9796d7b4-3192-4ecd-a53d-2d9dca8ca3dd",
   "metadata": {},
   "source": [
    "parameters:"
   ]
  },
  {
   "cell_type": "code",
   "execution_count": 205,
   "id": "3e701ee0-2eed-4128-ae1a-d373de6b46ba",
   "metadata": {},
   "outputs": [],
   "source": [
    "DIR = f\"temp/{EXPERIMENT}\""
   ]
  },
  {
   "cell_type": "code",
   "execution_count": 10,
   "id": "fe4867e6-e8fd-4a9c-a930-95bb9319eb4e",
   "metadata": {
    "tags": []
   },
   "outputs": [
    {
     "data": {
      "text/plain": [
       "'1026793852137-compute@developer.gserviceaccount.com'"
      ]
     },
     "execution_count": 10,
     "metadata": {},
     "output_type": "execute_result"
    }
   ],
   "source": [
    "SERVICE_ACCOUNT = !gcloud config list --format='value(core.account)' \n",
    "SERVICE_ACCOUNT = SERVICE_ACCOUNT[0]\n",
    "SERVICE_ACCOUNT"
   ]
  },
  {
   "cell_type": "markdown",
   "id": "38613e9c-c51b-482b-8690-1a65f07d217f",
   "metadata": {},
   "source": [
    "List the service accounts current roles:"
   ]
  },
  {
   "cell_type": "code",
   "execution_count": 11,
   "id": "e8bfe830-0135-4215-88cd-70fbd2d449d0",
   "metadata": {
    "tags": []
   },
   "outputs": [
    {
     "name": "stdout",
     "output_type": "stream",
     "text": [
      "ROLE\n",
      "roles/bigquery.admin\n",
      "roles/owner\n",
      "roles/run.admin\n",
      "roles/secretmanager.secretAccessor\n",
      "roles/storage.objectAdmin\n"
     ]
    }
   ],
   "source": [
    "!gcloud projects get-iam-policy $PROJECT_ID --filter=\"bindings.members:$SERVICE_ACCOUNT\" --format='table(bindings.role)' --flatten=\"bindings[].members\""
   ]
  },
  {
   "cell_type": "markdown",
   "id": "054dff2e-c432-4145-987a-2f0649110be1",
   "metadata": {},
   "source": [
    "environment:"
   ]
  },
  {
   "cell_type": "code",
   "execution_count": 211,
   "id": "15fcb0ae-bf84-4b40-9815-b91720411532",
   "metadata": {},
   "outputs": [],
   "source": [
    "if not os.path.exists(DIR):\n",
    "    os.makedirs(DIR)"
   ]
  }
 ],
 "metadata": {
  "environment": {
   "kernel": "conda-base-py",
   "name": "workbench-notebooks.m125",
   "type": "gcloud",
   "uri": "us-docker.pkg.dev/deeplearning-platform-release/gcr.io/workbench-notebooks:m125"
  },
  "kernelspec": {
   "display_name": "Python 3 (ipykernel) (Local)",
   "language": "python",
   "name": "conda-base-py"
  },
  "language_info": {
   "codemirror_mode": {
    "name": "ipython",
    "version": 3
   },
   "file_extension": ".py",
   "mimetype": "text/x-python",
   "name": "python",
   "nbconvert_exporter": "python",
   "pygments_lexer": "ipython3",
   "version": "3.10.15"
  }
 },
 "nbformat": 4,
 "nbformat_minor": 5
}
